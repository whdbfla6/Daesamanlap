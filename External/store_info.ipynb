{
 "cells": [
  {
   "cell_type": "code",
   "execution_count": 1,
   "metadata": {},
   "outputs": [],
   "source": [
    "import pandas as pd\n",
    "import numpy as np\n",
    "from sklearn.linear_model import LinearRegression"
   ]
  },
  {
   "cell_type": "code",
   "execution_count": 2,
   "metadata": {},
   "outputs": [],
   "source": [
    "result = pd.read_csv(\"result.csv\")\n",
    "store = pd.read_csv(\"store.csv\")"
   ]
  },
  {
   "cell_type": "markdown",
   "metadata": {},
   "source": [
    "## 임대보증금, 임대료 NA imputation"
   ]
  },
  {
   "cell_type": "code",
   "execution_count": 3,
   "metadata": {},
   "outputs": [],
   "source": [
    "def get_area(code):\n",
    "    area = store[store['단지코드']==code]['전용면적'].unique()\n",
    "    ind = store[(store['단지코드']==code)].index\n",
    "    print('단지명: ',store[store['단지코드']==code]['단지명'].unique())\n",
    "    print('지역: ',store[store['단지코드']==code]['지역'].unique())\n",
    "    print('도로명주소: ',store[store['단지코드']==code]['도로명주소'].unique())\n",
    "    print('면적 개수: ',store[store['단지코드']==code]['지역'].shape[0])\n",
    "    for i,j in zip(area,ind):\n",
    "        print(i,j,'/',end=' ')"
   ]
  },
  {
   "cell_type": "code",
   "execution_count": 4,
   "metadata": {},
   "outputs": [],
   "source": [
    "def func(num,a,b):\n",
    "    store.loc[num,'임대료'] = a\n",
    "    store.loc[num,'임대보증금'] = b"
   ]
  },
  {
   "cell_type": "code",
   "execution_count": 5,
   "metadata": {},
   "outputs": [],
   "source": [
    "def linear_func(code):\n",
    "    tmp = store[(store['단지코드']==code)&(store['전용면적']<100)][['전용면적','임대료','임대보증금']]\n",
    "    tmp = tmp.replace(0,np.nan)\n",
    "    ind = tmp[tmp['임대료'].isna()==True].index\n",
    "    train = tmp.dropna()\n",
    "    train_X = np.array(train['전용면적']).reshape(-1,1)\n",
    "    y1 = np.array(train['임대료'])\n",
    "    y2 = np.array(train['임대보증금'])\n",
    "    test = tmp[tmp['임대료'].isna()==True]\n",
    "    test_X = np.array(test['전용면적']).reshape(-1,1)\n",
    "    lg = LinearRegression()\n",
    "    lg1 = LinearRegression()\n",
    "    lg.fit(train_X,y1) #임대료\n",
    "    lg1.fit(train_X,y2) #임대보증금\n",
    "    pred = lg.predict(test_X)\n",
    "    pred1 = lg1.predict(test_X)\n",
    "    store.loc[ind,'임대료'] = pred\n",
    "    store.loc[ind,'임대보증금'] = pred1"
   ]
  },
  {
   "cell_type": "code",
   "execution_count": 6,
   "metadata": {},
   "outputs": [],
   "source": [
    "ind = store[(store['단지코드']=='C1859')&(store['단지명']!='대전판암4')].index"
   ]
  },
  {
   "cell_type": "code",
   "execution_count": 7,
   "metadata": {},
   "outputs": [],
   "source": [
    "store = store.drop(ind,axis=0)"
   ]
  },
  {
   "cell_type": "code",
   "execution_count": 8,
   "metadata": {},
   "outputs": [
    {
     "name": "stdout",
     "output_type": "stream",
     "text": [
      "단지명:  ['대전판암4']\n",
      "지역:  ['대전광역시']\n",
      "도로명주소:  ['대전광역시 동구 동부로 56-7']\n",
      "면적 개수:  14\n",
      "38.0 70 / 31.84 77 / 37.26 84 / 37.41 91 / 37.49 98 / 37.95 105 / 38.04 112 / 39.33 119 / 54.51 126 / 54.6 133 / 54.61 140 / 75.98 147 / 126.65 154 / 583.4 161 / "
     ]
    }
   ],
   "source": [
    "get_area('C1859')\n",
    "func(91,356100,22625000)\n",
    "func(119,518680,18672000)\n",
    "func(154,218930,7881000)\n",
    "func(98,479590,17265000)"
   ]
  },
  {
   "cell_type": "code",
   "execution_count": 9,
   "metadata": {},
   "outputs": [],
   "source": [
    "linear_func('C1859')"
   ]
  },
  {
   "cell_type": "code",
   "execution_count": 10,
   "metadata": {},
   "outputs": [
    {
     "name": "stdout",
     "output_type": "stream",
     "text": [
      "단지명:  ['동해천곡 주공5차']\n",
      "지역:  ['강원도']\n",
      "도로명주소:  ['강원도 동해시 동굴로 15']\n",
      "면적 개수:  2\n",
      "32.1 168 / 72.16 169 / "
     ]
    }
   ],
   "source": [
    "get_area('C1722')\n",
    "# 27.75  4,280,000 108,000\n",
    "# 42.35 6,540,000 166,000"
   ]
  },
  {
   "cell_type": "code",
   "execution_count": 11,
   "metadata": {},
   "outputs": [],
   "source": [
    "tmp = store[(store['단지코드']=='C1722')&(store['전용면적']<100)][['전용면적','임대료','임대보증금']]\n",
    "tmp = tmp.replace(0,np.nan)\n",
    "ind = tmp[tmp['임대료'].isna()==True].index\n",
    "train = tmp.dropna()\n",
    "train_X = np.array([27.75,42.25]).reshape(-1,1)\n",
    "y1 = np.array([108000,166000])\n",
    "y2 = np.array([4280000,6540000])\n",
    "test = tmp[tmp['임대료'].isna()==True]\n",
    "test_X = np.array(test['전용면적']).reshape(-1,1)\n",
    "lg = LinearRegression()\n",
    "lg1 = LinearRegression()\n",
    "lg.fit(train_X,y1) #임대료\n",
    "lg1.fit(train_X,y2) #임대보증금\n",
    "pred = lg.predict(test_X)\n",
    "pred1 = lg1.predict(test_X)\n",
    "store.loc[ind,'임대료'] = pred\n",
    "store.loc[ind,'임대보증금'] = pred1"
   ]
  },
  {
   "cell_type": "code",
   "execution_count": 12,
   "metadata": {},
   "outputs": [
    {
     "name": "stdout",
     "output_type": "stream",
     "text": [
      "단지명:  ['중리주공1단지아파트']\n",
      "지역:  ['경상남도']\n",
      "도로명주소:  ['경상남도 창원시 마산회원구 내서읍 상곡로 49']\n",
      "면적 개수:  13\n",
      "16.0 170 / 14.17 171 / 18.9 172 / 20.52 173 / 22.97 174 / 23.4 175 / 25.88 176 / 27.3 177 / 29.62 178 / 30.62 179 / 35.91 180 / 44.63 181 / 46.8 182 / "
     ]
    }
   ],
   "source": [
    "get_area('C2190')\n",
    "func(175,314300,13170000)\n",
    "func(174,336000,14790000)\n",
    "func(171,90100,3940000)\n",
    "func(177,182800,7990000)\n",
    "func(170,102500,4680000)\n",
    "func(172,126600,5530000)\n",
    "func(181,327600,11793000)\n",
    "func(176,183400,6620000)\n",
    "func(178,209600,7545000)\n",
    "func(177,196500,7074000)\n",
    "func(176,183400,6602000)"
   ]
  },
  {
   "cell_type": "code",
   "execution_count": 13,
   "metadata": {},
   "outputs": [],
   "source": [
    "linear_func('C2190')"
   ]
  },
  {
   "cell_type": "code",
   "execution_count": 14,
   "metadata": {},
   "outputs": [
    {
     "name": "stdout",
     "output_type": "stream",
     "text": [
      "단지명:  ['밀양가곡1']\n",
      "지역:  ['경상남도']\n",
      "도로명주소:  ['경상남도 밀양시 중앙로 47']\n",
      "면적 개수:  2\n",
      "32.1 183 / 72.16 184 / "
     ]
    }
   ],
   "source": [
    "get_area('C1476')\n",
    "func(184, 183500,7570000)\n",
    "func(183, 204800, 8740000)"
   ]
  },
  {
   "cell_type": "code",
   "execution_count": 15,
   "metadata": {},
   "outputs": [
    {
     "name": "stdout",
     "output_type": "stream",
     "text": [
      "단지명:  ['명천주공2단지']\n",
      "지역:  ['충청남도']\n",
      "도로명주소:  ['충청남도 보령시 주공로 50']\n",
      "면적 개수:  3\n",
      "31.84 185 / 63.68 186 / 126.65 187 / "
     ]
    }
   ],
   "source": [
    "get_area('C1983')\n",
    "func(185,104700,4510000)\n",
    "func(186,157300,6255000)\n",
    "func(187,209900,8000000)"
   ]
  },
  {
   "cell_type": "code",
   "execution_count": 16,
   "metadata": {},
   "outputs": [
    {
     "name": "stdout",
     "output_type": "stream",
     "text": [
      "단지명:  ['부산금곡주공1단지']\n",
      "지역:  ['부산광역시']\n",
      "도로명주소:  ['부산광역시 북구 효열로 268']\n",
      "면적 개수:  13\n",
      "14.1 188 / 18.98 189 / 19.36 190 / 21.46 191 / 22.83 192 / 23.4 193 / 27.55 194 / 29.17 195 / 31.92 196 / 32.6 197 / 36.57 198 / 50.08 199 / 240.22 200 / "
     ]
    }
   ],
   "source": [
    "# C2135 부산금곡1\n",
    "get_area('C2135')\n",
    "func(189,189500,615000)\n",
    "func(193,240500,15370000)\n",
    "func(197,139500,8790000)\n",
    "func(192,97700,6150000)"
   ]
  },
  {
   "cell_type": "code",
   "execution_count": 17,
   "metadata": {},
   "outputs": [],
   "source": [
    "linear_func('C2135')"
   ]
  },
  {
   "cell_type": "code",
   "execution_count": 18,
   "metadata": {},
   "outputs": [
    {
     "name": "stdout",
     "output_type": "stream",
     "text": [
      "단지명:  ['부산금곡주공2단지']\n",
      "지역:  ['부산광역시']\n",
      "도로명주소:  ['부산광역시 북구 금곡대로616번길 10-9']\n",
      "면적 개수:  15\n",
      "14.1 201 / 18.98 202 / 19.36 203 / 21.46 204 / 22.83 205 / 23.4 206 / 27.55 207 / 29.17 208 / 31.92 209 / 32.1 210 / 32.6 211 / 36.57 212 / 50.08 213 / 72.26 214 / 240.22 215 / "
     ]
    }
   ],
   "source": [
    "# C2034 부산금곡2\n",
    "get_area('C2034')\n",
    "func(212,294600,20350000)\n",
    "func(208,144700,9840000)\n",
    "func(201,77500,4216000)\n",
    "func(211,143900,9790000)\n",
    "func(202,80000,4970000)\n",
    "func(205,64830,5340000)\n",
    "func(214,175500,10230000)\n",
    "func(201,77500,5270000)\n",
    "func(210,143900,9790000)"
   ]
  },
  {
   "cell_type": "code",
   "execution_count": 19,
   "metadata": {},
   "outputs": [],
   "source": [
    "linear_func('C2034')"
   ]
  },
  {
   "cell_type": "code",
   "execution_count": 20,
   "metadata": {},
   "outputs": [
    {
     "name": "stdout",
     "output_type": "stream",
     "text": [
      "단지명:  [nan]\n",
      "지역:  ['부산광역시']\n",
      "도로명주소:  [nan]\n",
      "면적 개수:  15\n",
      "30.0 216 / 21.85 217 / 21.94 218 / 21.98 219 / 22.24 220 / 23.35 221 / 25.98 222 / 26.53 223 / 28.38 224 / 28.45 225 / 33.39 226 / 33.51 227 / 36.76 228 / 52.5 229 / 401.5 230 / "
     ]
    }
   ],
   "source": [
    "get_area('C1109')\n",
    "# 37.41 220,200 13,570,000\n",
    "# 37.26 324000 7776000\n",
    "# 54.51 256000 6144000\n",
    "# 37.95 179000 4296000\n",
    "# 39.33 360000 8640000"
   ]
  },
  {
   "cell_type": "code",
   "execution_count": 21,
   "metadata": {},
   "outputs": [],
   "source": [
    "tmp = store[(store['단지코드']=='C1109')&(store['전용면적']<100)][['전용면적','임대료','임대보증금']]\n",
    "tmp = tmp.replace(0,np.nan)\n",
    "ind = tmp[tmp['임대료'].isna()==True].index\n",
    "train = tmp.dropna()\n",
    "train_X = np.array([37.41,37.26,54.51,37.95,39.33]).reshape(-1,1)\n",
    "y1 = np.array([220200,324000,256000,179000,360000])\n",
    "y2 = np.array([13570000,7776000,6144000,4296000,8640000])\n",
    "test = tmp[tmp['임대료'].isna()==True]\n",
    "test_X = np.array(test['전용면적']).reshape(-1,1)\n",
    "lg = LinearRegression()\n",
    "lg1 = LinearRegression()\n",
    "lg.fit(train_X,y1) #임대료\n",
    "lg1.fit(train_X,y2) #임대보증금\n",
    "pred = lg.predict(test_X)\n",
    "pred1 = lg1.predict(test_X)\n",
    "store.loc[ind,'임대료'] = pred\n",
    "store.loc[ind,'임대보증금'] = pred1"
   ]
  },
  {
   "cell_type": "code",
   "execution_count": 22,
   "metadata": {},
   "outputs": [],
   "source": [
    "ind = ['C1859', 'C1722', 'C2190', 'C1476', 'C1983', 'C2135', 'C2034', 'C1109']\n",
    "store = store.loc[store['단지코드'].isin(ind),:].replace(0,np.nan)"
   ]
  },
  {
   "cell_type": "code",
   "execution_count": 23,
   "metadata": {},
   "outputs": [
    {
     "data": {
      "text/html": [
       "<div>\n",
       "<style scoped>\n",
       "    .dataframe tbody tr th:only-of-type {\n",
       "        vertical-align: middle;\n",
       "    }\n",
       "\n",
       "    .dataframe tbody tr th {\n",
       "        vertical-align: top;\n",
       "    }\n",
       "\n",
       "    .dataframe thead th {\n",
       "        text-align: right;\n",
       "    }\n",
       "</style>\n",
       "<table border=\"1\" class=\"dataframe\">\n",
       "  <thead>\n",
       "    <tr style=\"text-align: right;\">\n",
       "      <th></th>\n",
       "      <th>단지코드</th>\n",
       "      <th>지역</th>\n",
       "      <th>단지명</th>\n",
       "      <th>도로명주소</th>\n",
       "      <th>전용면적</th>\n",
       "      <th>임대료</th>\n",
       "      <th>임대보증금</th>\n",
       "    </tr>\n",
       "  </thead>\n",
       "  <tbody>\n",
       "    <tr>\n",
       "      <th>161</th>\n",
       "      <td>C1859</td>\n",
       "      <td>대전광역시</td>\n",
       "      <td>대전판암4</td>\n",
       "      <td>대전광역시 동구 동부로 56-7</td>\n",
       "      <td>583.40</td>\n",
       "      <td>NaN</td>\n",
       "      <td>NaN</td>\n",
       "    </tr>\n",
       "    <tr>\n",
       "      <th>200</th>\n",
       "      <td>C2135</td>\n",
       "      <td>부산광역시</td>\n",
       "      <td>부산금곡주공1단지</td>\n",
       "      <td>부산광역시 북구 효열로 268</td>\n",
       "      <td>240.22</td>\n",
       "      <td>NaN</td>\n",
       "      <td>NaN</td>\n",
       "    </tr>\n",
       "    <tr>\n",
       "      <th>215</th>\n",
       "      <td>C2034</td>\n",
       "      <td>부산광역시</td>\n",
       "      <td>부산금곡주공2단지</td>\n",
       "      <td>부산광역시 북구 금곡대로616번길 10-9</td>\n",
       "      <td>240.22</td>\n",
       "      <td>NaN</td>\n",
       "      <td>NaN</td>\n",
       "    </tr>\n",
       "    <tr>\n",
       "      <th>230</th>\n",
       "      <td>C1109</td>\n",
       "      <td>부산광역시</td>\n",
       "      <td>NaN</td>\n",
       "      <td>NaN</td>\n",
       "      <td>401.50</td>\n",
       "      <td>NaN</td>\n",
       "      <td>NaN</td>\n",
       "    </tr>\n",
       "  </tbody>\n",
       "</table>\n",
       "</div>"
      ],
      "text/plain": [
       "      단지코드     지역        단지명                    도로명주소    전용면적  임대료  임대보증금\n",
       "161  C1859  대전광역시      대전판암4        대전광역시 동구 동부로 56-7  583.40  NaN    NaN\n",
       "200  C2135  부산광역시  부산금곡주공1단지         부산광역시 북구 효열로 268  240.22  NaN    NaN\n",
       "215  C2034  부산광역시  부산금곡주공2단지  부산광역시 북구 금곡대로616번길 10-9  240.22  NaN    NaN\n",
       "230  C1109  부산광역시        NaN                      NaN  401.50  NaN    NaN"
      ]
     },
     "execution_count": 23,
     "metadata": {},
     "output_type": "execute_result"
    }
   ],
   "source": [
    "store[store['임대료'].isna()==True]"
   ]
  },
  {
   "cell_type": "code",
   "execution_count": 24,
   "metadata": {},
   "outputs": [],
   "source": [
    "def outlier(code):\n",
    "    test_X = store[(store['단지코드']==code)&(store['임대료'].isna()==True)]['전용면적']\n",
    "    ind = store[(store['단지코드']==code)&(store['임대료'].isna()==True)].index\n",
    "    area = store[store['단지코드']==code].iloc[0,4]\n",
    "    y1 = store[store['단지코드']==code].iloc[0,5]\n",
    "    y2 = store[store['단지코드']==code].iloc[0,6]\n",
    "    ratio1 = y1/area\n",
    "    ratio2 = y2/area\n",
    "    res1 = ratio1*test_X\n",
    "    res2 = ratio2*test_X\n",
    "    store.loc[ind,'임대료'] = res1\n",
    "    store.loc[ind,'임대보증금'] = res2"
   ]
  },
  {
   "cell_type": "code",
   "execution_count": 25,
   "metadata": {},
   "outputs": [],
   "source": [
    "# outlier('C1859')\n",
    "# outlier('C2135')\n",
    "# outlier('C2034')\n",
    "# outlier('C1109')"
   ]
  },
  {
   "cell_type": "code",
   "execution_count": 26,
   "metadata": {},
   "outputs": [],
   "source": [
    "ind = ['C1859', 'C1722', 'C2190', 'C1476', 'C1983', 'C2135', 'C2034', 'C1109']"
   ]
  },
  {
   "cell_type": "code",
   "execution_count": 27,
   "metadata": {},
   "outputs": [],
   "source": [
    "store =store.loc[store['단지코드'].isin(ind),:]"
   ]
  },
  {
   "cell_type": "code",
   "execution_count": 28,
   "metadata": {},
   "outputs": [],
   "source": [
    "ind = store[store['임대보증금']<0].index #C1859"
   ]
  },
  {
   "cell_type": "code",
   "execution_count": 29,
   "metadata": {},
   "outputs": [],
   "source": [
    "store.loc[ind,'임대료'] = np.nan\n",
    "store.loc[ind,'임대보증금'] = np.nan"
   ]
  },
  {
   "cell_type": "code",
   "execution_count": 30,
   "metadata": {},
   "outputs": [],
   "source": [
    "outlier('C1859')"
   ]
  },
  {
   "cell_type": "code",
   "execution_count": 31,
   "metadata": {},
   "outputs": [],
   "source": [
    "store = store.fillna(0)"
   ]
  },
  {
   "cell_type": "code",
   "execution_count": 32,
   "metadata": {},
   "outputs": [],
   "source": [
    "store.to_csv(\"trainsample.csv\",index=False)"
   ]
  },
  {
   "cell_type": "markdown",
   "metadata": {},
   "source": [
    "## 은영"
   ]
  },
  {
   "cell_type": "code",
   "execution_count": 37,
   "metadata": {},
   "outputs": [],
   "source": [
    "store = pd.read_excel('result2.xlsx')\n",
    "store = store.fillna(0)"
   ]
  },
  {
   "cell_type": "code",
   "execution_count": 38,
   "metadata": {},
   "outputs": [],
   "source": [
    "def outlier(code):\n",
    "    test_X = store[(store['단지코드']==code)&(store['임대료'].isna()==True)]['전용면적']\n",
    "    ind = store[(store['단지코드']==code)&(store['임대료'].isna()==True)].index\n",
    "    area = store[store['단지코드']==code].iloc[0,5]\n",
    "    y1 = store[store['단지코드']==code].iloc[0,6]\n",
    "    y2 = store[store['단지코드']==code].iloc[0,7]\n",
    "    ratio1 = y1/area\n",
    "    ratio2 = y2/area\n",
    "    res1 = ratio1*test_X\n",
    "    res2 = ratio2*test_X\n",
    "    store.loc[ind,'임대료'] = res1\n",
    "    store.loc[ind,'임대보증금'] = res2"
   ]
  },
  {
   "cell_type": "code",
   "execution_count": 39,
   "metadata": {},
   "outputs": [],
   "source": [
    "for i in store['단지코드'].unique():\n",
    "    linear_func(i)"
   ]
  },
  {
   "cell_type": "code",
   "execution_count": 40,
   "metadata": {},
   "outputs": [],
   "source": [
    "store = store.iloc[:,1:]"
   ]
  },
  {
   "cell_type": "code",
   "execution_count": 41,
   "metadata": {},
   "outputs": [],
   "source": [
    "store.to_csv(\"testsample.csv\",index=False)"
   ]
  }
 ],
 "metadata": {
  "kernelspec": {
   "display_name": "Python 3",
   "language": "python",
   "name": "python3"
  },
  "language_info": {
   "codemirror_mode": {
    "name": "ipython",
    "version": 3
   },
   "file_extension": ".py",
   "mimetype": "text/x-python",
   "name": "python",
   "nbconvert_exporter": "python",
   "pygments_lexer": "ipython3",
   "version": "3.8.3"
  }
 },
 "nbformat": 4,
 "nbformat_minor": 5
}
