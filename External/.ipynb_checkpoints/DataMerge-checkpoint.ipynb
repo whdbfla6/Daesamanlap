{
 "cells": [
  {
   "cell_type": "code",
   "execution_count": 1,
   "id": "45d15f06",
   "metadata": {},
   "outputs": [],
   "source": [
    "import pandas as pd\n",
    "import numpy as np\n",
    "import matplotlib\n",
    "from matplotlib import font_manager, rc\n",
    "from matplotlib import pyplot as plt\n",
    "import seaborn as sns\n",
    "rc('font', family = 'AppleGothic')"
   ]
  },
  {
   "cell_type": "code",
   "execution_count": 2,
   "id": "4de2a4ea",
   "metadata": {},
   "outputs": [],
   "source": [
    "train = pd.read_csv(\"train.csv\")\n",
    "data = pd.read_csv('external_data.csv',header='infer')"
   ]
  },
  {
   "cell_type": "markdown",
   "id": "7656da33",
   "metadata": {},
   "source": [
    "## 0. 전처리"
   ]
  },
  {
   "cell_type": "markdown",
   "id": "33fd091a",
   "metadata": {},
   "source": [
    "- 세대수 = 총세대수\n",
    "- 기본임대보증금 = 임대보증금\n",
    "- 주택유형명 = 임대건물구분\n",
    "- 공급유형명 = 공급유형\n",
    "- 광역도시명 = 지역\n",
    "- 공급전용면적 = 전용면적\n",
    "- 주차수 = 단지내주차면수(완전히 동일하지는 않음!!)"
   ]
  },
  {
   "cell_type": "code",
   "execution_count": 3,
   "id": "01f89d2d",
   "metadata": {},
   "outputs": [],
   "source": [
    "train['임대료'] = train['임대료'].replace('-',np.nan)\n",
    "train['임대보증금'] = train['임대보증금'].replace('-',np.nan)\n",
    "train['임대료'] = train['임대료'].apply(lambda x : float(x))\n",
    "train['임대보증금'] = train['임대보증금'].apply(lambda x : float(x))"
   ]
  },
  {
   "cell_type": "code",
   "execution_count": 4,
   "id": "48ace7e7",
   "metadata": {},
   "outputs": [],
   "source": [
    "data = data.rename(columns = {'세대수':'총세대수','기본임대보증금':'임대보증금','주택유형명':'임대건물구분','공급유형명':'공급유형','광역시도명':'지역','공급전용면적':'전용면적','주차수':'단지내주차면수'})"
   ]
  },
  {
   "cell_type": "code",
   "execution_count": 5,
   "id": "40e3fc61",
   "metadata": {},
   "outputs": [
    {
     "name": "stdout",
     "output_type": "stream",
     "text": [
      "['강원도', '경기도', '경상남도', '경상북도', '광주광역시', '대구광역시', '대전광역시', '부산광역시', '서울특별시', '세종특별자치시', '울산광역시', '전라남도', '전라북도', '제주특별자치도', '충청남도', '충청북도']\n",
      "['강원도', '경기도', '경상남도', '경상북도', '광주광역시', '대구광역시', '대전광역시', '부산광역시', '서울특별시', '세종특별자치시', '울산광역시', '인천광역시', '전라남도', '전라북도', '제주특별자치도', '충청남도', '충청북도']\n"
     ]
    }
   ],
   "source": [
    "print(sorted(train['지역'].unique()))\n",
    "print(sorted(data['지역'].unique()))"
   ]
  },
  {
   "cell_type": "code",
   "execution_count": 6,
   "id": "23b02151",
   "metadata": {},
   "outputs": [
    {
     "name": "stdout",
     "output_type": "stream",
     "text": [
      "['10년임대', '50년임대', '5년임대', '국민임대', '매입임대', '영구임대', '장기전세', '행복주택']\n",
      "['공공분양', '공공임대(10년)', '공공임대(50년)', '공공임대(5년)', '공공임대(분납)', '국민임대', '영구임대', '임대상가', '장기전세', '행복주택']\n"
     ]
    }
   ],
   "source": [
    "print(sorted(data['공급유형'].unique()))\n",
    "print(sorted(train['공급유형'].unique()))"
   ]
  },
  {
   "cell_type": "code",
   "execution_count": 7,
   "id": "8624a793",
   "metadata": {},
   "outputs": [],
   "source": [
    "data.loc[data.공급유형.isin(['10년임대']), '공급유형'] = '공공임대(10년)'\n",
    "data.loc[data.공급유형.isin(['50년임대']), '공급유형'] = '공공임대(50년)'\n",
    "data.loc[data.공급유형.isin(['5년임대']), '공급유형'] = '공공임대(5년)'"
   ]
  },
  {
   "cell_type": "code",
   "execution_count": 8,
   "id": "d565f7ca",
   "metadata": {},
   "outputs": [],
   "source": [
    "data1 = data[data['임대건물구분']=='아파트']\n",
    "train1 = train[train['임대건물구분']=='아파트']"
   ]
  },
  {
   "cell_type": "code",
   "execution_count": 9,
   "id": "cbb15c71",
   "metadata": {},
   "outputs": [],
   "source": [
    "data1 = data1[['지역','총세대수','전용면적','단지명','공급유형','임대건물구분','임대보증금','단지내주차면수','기관명','도로명주소']]\n",
    "train1 = train1[['단지코드','총세대수','지역','전용면적','임대보증금','공급유형','임대건물구분','임대보증금','단지내주차면수']]"
   ]
  },
  {
   "cell_type": "markdown",
   "id": "aa3bb453",
   "metadata": {},
   "source": [
    "## 기준1 : 지역, 공급유형, 총세대수"
   ]
  },
  {
   "cell_type": "code",
   "execution_count": 10,
   "id": "2938a131",
   "metadata": {},
   "outputs": [
    {
     "name": "stdout",
     "output_type": "stream",
     "text": [
      "전체 단지코드:  423\n"
     ]
    }
   ],
   "source": [
    "print('전체 단지코드: ',train['단지코드'].nunique())"
   ]
  },
  {
   "cell_type": "code",
   "execution_count": 11,
   "id": "9e9ba497",
   "metadata": {},
   "outputs": [],
   "source": [
    "result1 = pd.merge(train1,data1,how='left',on=['지역','공급유형','총세대수'])[['단지코드','단지명']].drop_duplicates()"
   ]
  },
  {
   "cell_type": "code",
   "execution_count": 12,
   "id": "a7652a1a",
   "metadata": {},
   "outputs": [
    {
     "name": "stdout",
     "output_type": "stream",
     "text": [
      "NA 개수:  94\n",
      "특정된 단지코드 수:  329\n",
      "전체 단지코드 수:  423\n",
      "NA 비율:  0.22\n"
     ]
    }
   ],
   "source": [
    "print('NA 개수: ',result1['단지명'].isna().sum())\n",
    "print('특정된 단지코드 수: ',train['단지코드'].nunique()-result1['단지명'].isna().sum())\n",
    "print('전체 단지코드 수: ',train['단지코드'].nunique())\n",
    "print('NA 비율: ', round(result1['단지명'].isna().sum()/train['단지코드'].nunique(),2))"
   ]
  },
  {
   "cell_type": "markdown",
   "id": "4d88d3b2",
   "metadata": {},
   "source": [
    "## 기준 2 : 지역, 공급유형, 전용면적, 임대보증금"
   ]
  },
  {
   "cell_type": "code",
   "execution_count": 13,
   "id": "eb1b27e1",
   "metadata": {},
   "outputs": [],
   "source": [
    "datana = result1[result1['단지명'].isna()==True]['단지코드'].values\n",
    "n = len(datana)"
   ]
  },
  {
   "cell_type": "code",
   "execution_count": 14,
   "id": "ba89eeaa",
   "metadata": {},
   "outputs": [],
   "source": [
    "datana = train.loc[train['단지코드'].isin(datana)]\n",
    "datana = datana[datana['임대건물구분']=='아파트']"
   ]
  },
  {
   "cell_type": "code",
   "execution_count": 15,
   "id": "baa005de",
   "metadata": {},
   "outputs": [],
   "source": [
    "result2 = pd.merge(datana,data1,how='left',on=['지역','공급유형','전용면적','임대보증금'])[['단지코드','단지명']].drop_duplicates()"
   ]
  },
  {
   "cell_type": "code",
   "execution_count": 16,
   "id": "a0aff927",
   "metadata": {},
   "outputs": [
    {
     "name": "stdout",
     "output_type": "stream",
     "text": [
      "NA 개수:  39\n",
      "특정된 단지코드 수:  55\n",
      "전체 단지코드 수:  94\n",
      "NA 비율:  0.09\n"
     ]
    }
   ],
   "source": [
    "print('NA 개수: ',result2['단지명'].isna().sum())\n",
    "print('특정된 단지코드 수: ',n-result2['단지명'].isna().sum())\n",
    "print('전체 단지코드 수: ',n)\n",
    "print('NA 비율: ', round(result2['단지명'].isna().sum()/train['단지코드'].nunique(),2))"
   ]
  },
  {
   "cell_type": "markdown",
   "id": "d0f221fb",
   "metadata": {},
   "source": [
    "## 기준3 : 지역, 공급유형, 전용면적, 단지내주차면수"
   ]
  },
  {
   "cell_type": "code",
   "execution_count": 17,
   "id": "601497f7",
   "metadata": {},
   "outputs": [],
   "source": [
    "datana = result2[result2['단지명'].isna()==True]['단지코드'].values\n",
    "n = len(datana)"
   ]
  },
  {
   "cell_type": "code",
   "execution_count": 18,
   "id": "831c56bb",
   "metadata": {},
   "outputs": [],
   "source": [
    "datana = train.loc[train['단지코드'].isin(datana)]\n",
    "datana = datana[datana['임대건물구분']=='아파트']"
   ]
  },
  {
   "cell_type": "code",
   "execution_count": 19,
   "id": "7834476c",
   "metadata": {},
   "outputs": [],
   "source": [
    "result3 = pd.merge(datana,data1,how='left',on=['지역','공급유형','전용면적','단지내주차면수'])[['단지코드','단지명']].drop_duplicates()"
   ]
  },
  {
   "cell_type": "code",
   "execution_count": 20,
   "id": "fdef1c7e",
   "metadata": {},
   "outputs": [
    {
     "name": "stdout",
     "output_type": "stream",
     "text": [
      "NA 개수:  28\n",
      "특정된 단지코드 수:  11\n",
      "전체 단지코드 수:  39\n",
      "NA 비율:  0.07\n"
     ]
    }
   ],
   "source": [
    "print('NA 개수: ',result3['단지명'].isna().sum())\n",
    "print('특정된 단지코드 수: ',n-result3['단지명'].isna().sum())\n",
    "print('전체 단지코드 수: ',n)\n",
    "print('NA 비율: ', round(result3['단지명'].isna().sum()/train['단지코드'].nunique(),2))"
   ]
  },
  {
   "cell_type": "code",
   "execution_count": 21,
   "id": "d358ab9f",
   "metadata": {},
   "outputs": [],
   "source": [
    "result = result1.dropna()\n",
    "result = result.append(result2.dropna())\n",
    "result= result.append(result3.dropna()).reset_index(drop=True)"
   ]
  },
  {
   "cell_type": "code",
   "execution_count": 22,
   "id": "d940549b",
   "metadata": {},
   "outputs": [],
   "source": [
    "na_value=[]\n",
    "for i in train['단지코드'].unique():\n",
    "    if i not in result['단지코드'].unique():\n",
    "        na_value.append(i)"
   ]
  },
  {
   "cell_type": "code",
   "execution_count": 23,
   "id": "7d0a54cf",
   "metadata": {},
   "outputs": [
    {
     "data": {
      "text/plain": [
       "['C1899', 'C2245', 'C1584', 'C1156', 'C2020']"
      ]
     },
     "execution_count": 23,
     "metadata": {},
     "output_type": "execute_result"
    }
   ],
   "source": [
    "na_value"
   ]
  },
  {
   "cell_type": "markdown",
   "id": "1065a1b3",
   "metadata": {},
   "source": [
    "- 아래 데이터는 하나의 단지코드 별로 두개 이상의 단지명 보유 $\\rightarrow$ 잘못 merge된 케이스"
   ]
  },
  {
   "cell_type": "code",
   "execution_count": 24,
   "id": "c4f8f9a7",
   "metadata": {},
   "outputs": [
    {
     "name": "stdout",
     "output_type": "stream",
     "text": [
      "['C1022' 'C1039' 'C1068' 'C1085' 'C1109' 'C1175' 'C1206' 'C1207' 'C1234'\n",
      " 'C1258' 'C1269' 'C1307' 'C1341' 'C1344' 'C1439' 'C1451' 'C1601' 'C1616'\n",
      " 'C1681' 'C1732' 'C1740' 'C1744' 'C1790' 'C1859' 'C1874' 'C1875' 'C1894'\n",
      " 'C1965' 'C1970' 'C2034' 'C2038' 'C2070' 'C2082' 'C2085' 'C2109' 'C2127'\n",
      " 'C2132' 'C2133' 'C2135' 'C2173' 'C2186' 'C2190' 'C2227' 'C2232' 'C2258'\n",
      " 'C2289' 'C2310' 'C2325' 'C2352' 'C2378' 'C2393' 'C2416' 'C2453' 'C2530'\n",
      " 'C2563' 'C2597' 'C2621' 'C2627' 'C2635' 'C2657']\n",
      "60\n"
     ]
    }
   ],
   "source": [
    "#전체\n",
    "tmp = pd.DataFrame(result.groupby('단지코드').count()['단지명']).reset_index()\n",
    "tmp = np.array(tmp[tmp['단지명']>=2]['단지코드'])\n",
    "print(tmp)\n",
    "print(len(tmp))"
   ]
  },
  {
   "cell_type": "markdown",
   "id": "227931e9",
   "metadata": {},
   "source": [
    "## 상가 drop"
   ]
  },
  {
   "cell_type": "code",
   "execution_count": 25,
   "id": "07a7e5e5",
   "metadata": {},
   "outputs": [],
   "source": [
    "drop = [460, 462, 465, 469, 470, 411, 414, 415, 416, 417, 418, 419, 420, 421, 423, 424 ,425, 426, 427, 428,432,434,435,436,437,438,440,441,442,443,444,445,446,447,448,449,450,452,453,454,456,458,459,363, 365,366,370,371,372,373,375,378,379,380,381,382,385,386,388,389,390,391,393,394,395,396,391,393,394,395,396,406]"
   ]
  },
  {
   "cell_type": "code",
   "execution_count": 26,
   "id": "817012f9",
   "metadata": {},
   "outputs": [],
   "source": [
    "result = result.drop(drop,axis=0).reset_index(drop=True)"
   ]
  },
  {
   "cell_type": "code",
   "execution_count": 27,
   "id": "25615f2c",
   "metadata": {},
   "outputs": [],
   "source": [
    "result.to_csv(\"result.csv\",index=False) #상가 부분 제거!!"
   ]
  },
  {
   "cell_type": "markdown",
   "id": "5a515361",
   "metadata": {},
   "source": [
    "## 아파트"
   ]
  },
  {
   "cell_type": "code",
   "execution_count": 28,
   "id": "250f1ac9",
   "metadata": {},
   "outputs": [
    {
     "name": "stdout",
     "output_type": "stream",
     "text": [
      "['C1022' 'C1039' 'C1068' 'C1085' 'C1175' 'C1207' 'C1234' 'C1258' 'C1269'\n",
      " 'C1307' 'C1341' 'C1344' 'C1439' 'C1451' 'C1601' 'C1616' 'C1681' 'C1732'\n",
      " 'C1740' 'C1744' 'C1859' 'C1894' 'C1965' 'C1970' 'C2070' 'C2082' 'C2085'\n",
      " 'C2127' 'C2133' 'C2173' 'C2186' 'C2227' 'C2232' 'C2325' 'C2352' 'C2378'\n",
      " 'C2393' 'C2453' 'C2530' 'C2563' 'C2597' 'C2627' 'C2635' 'C2657']\n",
      "44\n"
     ]
    }
   ],
   "source": [
    "tmp = pd.DataFrame(result.groupby('단지코드').count()['단지명']).reset_index()\n",
    "tmp = np.array(tmp[tmp['단지명']>=2]['단지코드'])\n",
    "print(tmp)\n",
    "print(len(tmp))"
   ]
  },
  {
   "cell_type": "code",
   "execution_count": 29,
   "id": "bf7cbb84",
   "metadata": {},
   "outputs": [],
   "source": [
    "# 'C1681', 'C1740', 'C1744', 'C1790', 'C1859', 'C1874', 'C1875', 'C1894', 'C1965', 'C1970', 'C2034', 'C2038', 'C2070'\n",
    "# 'C2416', 'C2453', 'C2530','C2563'"
   ]
  },
  {
   "cell_type": "code",
   "execution_count": null,
   "id": "e2ace525",
   "metadata": {},
   "outputs": [],
   "source": [
    "# 'C2416'\n",
    "# 'C2453' 성남여수1 \n",
    "# 'C2530' 원주개운LH2단지아파트\n",
    "# 'C2563' 안산팔곡주공아파트\n",
    "# [329,171,136]"
   ]
  }
 ],
 "metadata": {
  "kernelspec": {
   "display_name": "Python 3",
   "language": "python",
   "name": "python3"
  },
  "language_info": {
   "codemirror_mode": {
    "name": "ipython",
    "version": 3
   },
   "file_extension": ".py",
   "mimetype": "text/x-python",
   "name": "python",
   "nbconvert_exporter": "python",
   "pygments_lexer": "ipython3",
   "version": "3.8.8"
  }
 },
 "nbformat": 4,
 "nbformat_minor": 5
}
