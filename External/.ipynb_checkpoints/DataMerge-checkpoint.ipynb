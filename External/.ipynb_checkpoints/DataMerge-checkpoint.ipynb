{
 "cells": [
  {
   "cell_type": "code",
   "execution_count": 1,
   "id": "1d0be268",
   "metadata": {},
   "outputs": [],
   "source": [
    "import pandas as pd\n",
    "import numpy as np\n",
    "import matplotlib\n",
    "from matplotlib import font_manager, rc\n",
    "from matplotlib import pyplot as plt\n",
    "import seaborn as sns\n",
    "rc('font', family = 'AppleGothic')\n",
    "from sklearn.linear_model import LinearRegression"
   ]
  },
  {
   "cell_type": "code",
   "execution_count": 2,
   "id": "ac7eec51",
   "metadata": {},
   "outputs": [],
   "source": [
    "train = pd.read_csv(\"train.csv\")\n",
    "data = pd.read_csv('external_data.csv',header='infer')"
   ]
  },
  {
   "cell_type": "code",
   "execution_count": 3,
   "id": "4d249ccc",
   "metadata": {},
   "outputs": [
    {
     "data": {
      "text/plain": [
       "(2952, 15)"
      ]
     },
     "execution_count": 3,
     "metadata": {},
     "output_type": "execute_result"
    }
   ],
   "source": [
    "train.shape"
   ]
  },
  {
   "cell_type": "code",
   "execution_count": 83,
   "id": "20d67a63",
   "metadata": {},
   "outputs": [
    {
     "data": {
      "text/html": [
       "<div>\n",
       "<style scoped>\n",
       "    .dataframe tbody tr th:only-of-type {\n",
       "        vertical-align: middle;\n",
       "    }\n",
       "\n",
       "    .dataframe tbody tr th {\n",
       "        vertical-align: top;\n",
       "    }\n",
       "\n",
       "    .dataframe thead th {\n",
       "        text-align: right;\n",
       "    }\n",
       "</style>\n",
       "<table border=\"1\" class=\"dataframe\">\n",
       "  <thead>\n",
       "    <tr style=\"text-align: right;\">\n",
       "      <th></th>\n",
       "      <th>단지코드</th>\n",
       "      <th>단지명</th>\n",
       "    </tr>\n",
       "  </thead>\n",
       "  <tbody>\n",
       "    <tr>\n",
       "      <th>0</th>\n",
       "      <td>C1925</td>\n",
       "      <td>입암주공3단지아파트</td>\n",
       "    </tr>\n",
       "  </tbody>\n",
       "</table>\n",
       "</div>"
      ],
      "text/plain": [
       "    단지코드         단지명\n",
       "0  C1925  입암주공3단지아파트"
      ]
     },
     "execution_count": 83,
     "metadata": {},
     "output_type": "execute_result"
    }
   ],
   "source": [
    "result2[result2['단지코드']=='C1925']"
   ]
  },
  {
   "cell_type": "markdown",
   "id": "343d7b99",
   "metadata": {},
   "source": [
    "## 0. 전처리"
   ]
  },
  {
   "cell_type": "markdown",
   "id": "4d1e2d01",
   "metadata": {},
   "source": [
    "- 세대수 = 총세대수\n",
    "- 기본임대보증금 = 임대보증금\n",
    "- 주택유형명 = 임대건물구분\n",
    "- 공급유형명 = 공급유형\n",
    "- 광역도시명 = 지역\n",
    "- 공급전용면적 = 전용면적\n",
    "- 주차수 = 단지내주차면수(완전히 동일하지는 않음!!)"
   ]
  },
  {
   "cell_type": "code",
   "execution_count": 4,
   "id": "c635804d",
   "metadata": {},
   "outputs": [],
   "source": [
    "train['임대료'] = train['임대료'].replace('-',np.nan)\n",
    "train['임대보증금'] = train['임대보증금'].replace('-',np.nan)\n",
    "train['임대료'] = train['임대료'].apply(lambda x : float(x))\n",
    "train['임대보증금'] = train['임대보증금'].apply(lambda x : float(x))"
   ]
  },
  {
   "cell_type": "code",
   "execution_count": 5,
   "id": "7e8f94eb",
   "metadata": {},
   "outputs": [],
   "source": [
    "data = data.rename(columns = {'세대수':'총세대수','기본임대보증금':'임대보증금','주택유형명':'임대건물구분','공급유형명':'공급유형','광역시도명':'지역','공급전용면적':'전용면적','주차수':'단지내주차면수'})"
   ]
  },
  {
   "cell_type": "code",
   "execution_count": 6,
   "id": "fd84da7b",
   "metadata": {},
   "outputs": [
    {
     "name": "stdout",
     "output_type": "stream",
     "text": [
      "['강원도', '경기도', '경상남도', '경상북도', '광주광역시', '대구광역시', '대전광역시', '부산광역시', '서울특별시', '세종특별자치시', '울산광역시', '전라남도', '전라북도', '제주특별자치도', '충청남도', '충청북도']\n",
      "['강원도', '경기도', '경상남도', '경상북도', '광주광역시', '대구광역시', '대전광역시', '부산광역시', '서울특별시', '세종특별자치시', '울산광역시', '인천광역시', '전라남도', '전라북도', '제주특별자치도', '충청남도', '충청북도']\n"
     ]
    }
   ],
   "source": [
    "print(sorted(train['지역'].unique()))\n",
    "print(sorted(data['지역'].unique()))"
   ]
  },
  {
   "cell_type": "code",
   "execution_count": 7,
   "id": "ca71fda5",
   "metadata": {},
   "outputs": [
    {
     "name": "stdout",
     "output_type": "stream",
     "text": [
      "['10년임대', '50년임대', '5년임대', '국민임대', '매입임대', '영구임대', '장기전세', '행복주택']\n",
      "['공공분양', '공공임대(10년)', '공공임대(50년)', '공공임대(5년)', '공공임대(분납)', '국민임대', '영구임대', '임대상가', '장기전세', '행복주택']\n"
     ]
    }
   ],
   "source": [
    "print(sorted(data['공급유형'].unique()))\n",
    "print(sorted(train['공급유형'].unique()))"
   ]
  },
  {
   "cell_type": "code",
   "execution_count": 8,
   "id": "625597cb",
   "metadata": {},
   "outputs": [],
   "source": [
    "data.loc[data.공급유형.isin(['10년임대']), '공급유형'] = '공공임대(10년)'\n",
    "data.loc[data.공급유형.isin(['50년임대']), '공급유형'] = '공공임대(50년)'\n",
    "data.loc[data.공급유형.isin(['5년임대']), '공급유형'] = '공공임대(5년)'"
   ]
  },
  {
   "cell_type": "code",
   "execution_count": 9,
   "id": "39b90810",
   "metadata": {},
   "outputs": [],
   "source": [
    "data1 = data[data['임대건물구분']=='아파트']\n",
    "train1 = train[train['임대건물구분']=='아파트']"
   ]
  },
  {
   "cell_type": "code",
   "execution_count": 10,
   "id": "dc3c0171",
   "metadata": {},
   "outputs": [],
   "source": [
    "data1 = data1[['지역','총세대수','전용면적','단지명','공급유형','임대건물구분','임대보증금','단지내주차면수','기관명','도로명주소']]\n",
    "train1 = train1[['단지코드','총세대수','지역','전용면적','임대보증금','공급유형','임대건물구분','임대보증금','단지내주차면수']]"
   ]
  },
  {
   "cell_type": "markdown",
   "id": "b78c92dd",
   "metadata": {},
   "source": [
    "## 기준1 : 지역, 공급유형, 총세대수"
   ]
  },
  {
   "cell_type": "code",
   "execution_count": 11,
   "id": "d9fff4d0",
   "metadata": {},
   "outputs": [
    {
     "name": "stdout",
     "output_type": "stream",
     "text": [
      "전체 단지코드:  423\n"
     ]
    }
   ],
   "source": [
    "print('전체 단지코드: ',train['단지코드'].nunique())"
   ]
  },
  {
   "cell_type": "code",
   "execution_count": 12,
   "id": "c47f54b9",
   "metadata": {},
   "outputs": [],
   "source": [
    "result1 = pd.merge(train1,data1,how='left',on=['지역','공급유형','총세대수'])[['단지코드','단지명']].drop_duplicates()"
   ]
  },
  {
   "cell_type": "code",
   "execution_count": 13,
   "id": "c36a31b2",
   "metadata": {},
   "outputs": [
    {
     "name": "stdout",
     "output_type": "stream",
     "text": [
      "NA 개수:  94\n",
      "특정된 단지코드 수:  329\n",
      "전체 단지코드 수:  423\n",
      "NA 비율:  0.22\n"
     ]
    }
   ],
   "source": [
    "print('NA 개수: ',result1['단지명'].isna().sum())\n",
    "print('특정된 단지코드 수: ',train['단지코드'].nunique()-result1['단지명'].isna().sum())\n",
    "print('전체 단지코드 수: ',train['단지코드'].nunique())\n",
    "print('NA 비율: ', round(result1['단지명'].isna().sum()/train['단지코드'].nunique(),2))"
   ]
  },
  {
   "cell_type": "markdown",
   "id": "f56bcc7d",
   "metadata": {},
   "source": [
    "## 기준 2 : 지역, 공급유형, 전용면적, 임대보증금"
   ]
  },
  {
   "cell_type": "code",
   "execution_count": 14,
   "id": "e448d79e",
   "metadata": {},
   "outputs": [],
   "source": [
    "datana = result1[result1['단지명'].isna()==True]['단지코드'].values\n",
    "n = len(datana)"
   ]
  },
  {
   "cell_type": "code",
   "execution_count": 15,
   "id": "05f2ef90",
   "metadata": {},
   "outputs": [],
   "source": [
    "datana = train.loc[train['단지코드'].isin(datana)]\n",
    "datana = datana[datana['임대건물구분']=='아파트']"
   ]
  },
  {
   "cell_type": "code",
   "execution_count": 16,
   "id": "b7ddfdee",
   "metadata": {},
   "outputs": [],
   "source": [
    "result2 = pd.merge(datana,data1,how='left',on=['지역','공급유형','전용면적','임대보증금'])[['단지코드','단지명']].drop_duplicates()"
   ]
  },
  {
   "cell_type": "code",
   "execution_count": 17,
   "id": "3e7a58d0",
   "metadata": {},
   "outputs": [
    {
     "name": "stdout",
     "output_type": "stream",
     "text": [
      "NA 개수:  39\n",
      "특정된 단지코드 수:  55\n",
      "전체 단지코드 수:  94\n",
      "NA 비율:  0.09\n"
     ]
    }
   ],
   "source": [
    "print('NA 개수: ',result2['단지명'].isna().sum())\n",
    "print('특정된 단지코드 수: ',n-result2['단지명'].isna().sum())\n",
    "print('전체 단지코드 수: ',n)\n",
    "print('NA 비율: ', round(result2['단지명'].isna().sum()/train['단지코드'].nunique(),2))"
   ]
  },
  {
   "cell_type": "markdown",
   "id": "1bbfd1b9",
   "metadata": {},
   "source": [
    "## 기준3 : 지역, 공급유형, 전용면적, 단지내주차면수"
   ]
  },
  {
   "cell_type": "code",
   "execution_count": 18,
   "id": "3ceba25d",
   "metadata": {},
   "outputs": [],
   "source": [
    "datana = result2[result2['단지명'].isna()==True]['단지코드'].values\n",
    "n = len(datana)"
   ]
  },
  {
   "cell_type": "code",
   "execution_count": 19,
   "id": "d3314a72",
   "metadata": {},
   "outputs": [],
   "source": [
    "datana = train.loc[train['단지코드'].isin(datana)]\n",
    "datana = datana[datana['임대건물구분']=='아파트']"
   ]
  },
  {
   "cell_type": "code",
   "execution_count": 20,
   "id": "1b93e2b1",
   "metadata": {},
   "outputs": [],
   "source": [
    "result3 = pd.merge(datana,data1,how='left',on=['지역','공급유형','전용면적','단지내주차면수'])[['단지코드','단지명']].drop_duplicates()"
   ]
  },
  {
   "cell_type": "code",
   "execution_count": 21,
   "id": "84be6460",
   "metadata": {},
   "outputs": [
    {
     "name": "stdout",
     "output_type": "stream",
     "text": [
      "NA 개수:  28\n",
      "특정된 단지코드 수:  11\n",
      "전체 단지코드 수:  39\n",
      "NA 비율:  0.07\n"
     ]
    }
   ],
   "source": [
    "print('NA 개수: ',result3['단지명'].isna().sum())\n",
    "print('특정된 단지코드 수: ',n-result3['단지명'].isna().sum())\n",
    "print('전체 단지코드 수: ',n)\n",
    "print('NA 비율: ', round(result3['단지명'].isna().sum()/train['단지코드'].nunique(),2))"
   ]
  },
  {
   "cell_type": "code",
   "execution_count": 22,
   "id": "4c570c3a",
   "metadata": {},
   "outputs": [],
   "source": [
    "result = result1.dropna()\n",
    "result = result.append(result2.dropna())\n",
    "result= result.append(result3.dropna()).reset_index(drop=True)"
   ]
  },
  {
   "cell_type": "code",
   "execution_count": 23,
   "id": "91468311",
   "metadata": {},
   "outputs": [],
   "source": [
    "na_value=[]\n",
    "for i in train['단지코드'].unique():\n",
    "    if i not in result['단지코드'].unique():\n",
    "        na_value.append(i)"
   ]
  },
  {
   "cell_type": "code",
   "execution_count": 24,
   "id": "6ba8eee6",
   "metadata": {},
   "outputs": [
    {
     "data": {
      "text/plain": [
       "['C1899', 'C2245', 'C1584', 'C1156', 'C2020']"
      ]
     },
     "execution_count": 24,
     "metadata": {},
     "output_type": "execute_result"
    }
   ],
   "source": [
    "na_value"
   ]
  },
  {
   "cell_type": "markdown",
   "id": "6ca1fe3d",
   "metadata": {},
   "source": [
    "- 아래 데이터는 하나의 단지코드 별로 두개 이상의 단지명 보유 $\\rightarrow$ 잘못 merge된 케이스"
   ]
  },
  {
   "cell_type": "code",
   "execution_count": 25,
   "id": "1c7e7be9",
   "metadata": {},
   "outputs": [
    {
     "name": "stdout",
     "output_type": "stream",
     "text": [
      "['C1022' 'C1039' 'C1068' 'C1085' 'C1109' 'C1175' 'C1206' 'C1207' 'C1234'\n",
      " 'C1258' 'C1269' 'C1307' 'C1341' 'C1344' 'C1439' 'C1451' 'C1601' 'C1616'\n",
      " 'C1681' 'C1732' 'C1740' 'C1744' 'C1790' 'C1859' 'C1874' 'C1875' 'C1894'\n",
      " 'C1965' 'C1970' 'C2034' 'C2038' 'C2070' 'C2082' 'C2085' 'C2109' 'C2127'\n",
      " 'C2132' 'C2133' 'C2135' 'C2173' 'C2186' 'C2190' 'C2227' 'C2232' 'C2258'\n",
      " 'C2289' 'C2310' 'C2325' 'C2352' 'C2378' 'C2393' 'C2416' 'C2453' 'C2530'\n",
      " 'C2563' 'C2597' 'C2621' 'C2627' 'C2635' 'C2657']\n",
      "60\n"
     ]
    }
   ],
   "source": [
    "#전체\n",
    "tmp = pd.DataFrame(result.groupby('단지코드').count()['단지명']).reset_index()\n",
    "tmp = np.array(tmp[tmp['단지명']>=2]['단지코드'])\n",
    "print(tmp)\n",
    "print(len(tmp))"
   ]
  },
  {
   "cell_type": "markdown",
   "id": "291f9147",
   "metadata": {},
   "source": [
    "## 상가 drop"
   ]
  },
  {
   "cell_type": "code",
   "execution_count": 26,
   "id": "13879971",
   "metadata": {},
   "outputs": [],
   "source": [
    "drop = [460, 462, 465, 469, 470, 411, 414, 415, 416, 417, 418, 419, 420, 421, 423, 424 ,425, 426, 427, 428,432,434,435,436,437,438,440,441,442,443,444,445,446,447,448,449,450,452,453,454,456,458,459,363, 365,366,370,371,372,373,375,378,379,380,381,382,385,386,388,389,390,391,393,394,395,396,391,393,394,395,396,406]"
   ]
  },
  {
   "cell_type": "code",
   "execution_count": 27,
   "id": "b731beb5",
   "metadata": {},
   "outputs": [],
   "source": [
    "result = result.drop(drop,axis=0).reset_index(drop=True)"
   ]
  },
  {
   "cell_type": "code",
   "execution_count": 28,
   "id": "08bba764",
   "metadata": {},
   "outputs": [],
   "source": [
    "result.to_csv(\"result.csv\",index=False) #상가 부분 제거!!"
   ]
  },
  {
   "cell_type": "markdown",
   "id": "f650da32",
   "metadata": {},
   "source": [
    "## 아파트 drop"
   ]
  },
  {
   "cell_type": "code",
   "execution_count": 29,
   "id": "61056588",
   "metadata": {},
   "outputs": [
    {
     "name": "stdout",
     "output_type": "stream",
     "text": [
      "['C1022' 'C1039' 'C1068' 'C1085' 'C1175' 'C1207' 'C1234' 'C1258' 'C1269'\n",
      " 'C1307' 'C1341' 'C1344' 'C1439' 'C1451' 'C1601' 'C1616' 'C1681' 'C1732'\n",
      " 'C1740' 'C1744' 'C1859' 'C1894' 'C1965' 'C1970' 'C2070' 'C2082' 'C2085'\n",
      " 'C2127' 'C2133' 'C2173' 'C2186' 'C2227' 'C2232' 'C2325' 'C2352' 'C2378'\n",
      " 'C2393' 'C2453' 'C2530' 'C2563' 'C2597' 'C2627' 'C2635' 'C2657']\n",
      "44\n"
     ]
    }
   ],
   "source": [
    "tmp = pd.DataFrame(result.groupby('단지코드').count()['단지명']).reset_index()\n",
    "tmp = np.array(tmp[tmp['단지명']>=2]['단지코드'])\n",
    "print(tmp)\n",
    "print(len(tmp))"
   ]
  },
  {
   "cell_type": "code",
   "execution_count": 30,
   "id": "65f8f34a",
   "metadata": {},
   "outputs": [],
   "source": [
    "# 'C1681', 'C1740', 'C1744', 'C1790', 'C1859', 'C1874', 'C1875', 'C1894', 'C1965', 'C1970', 'C2034', 'C2038', 'C2070'\n",
    "# 'C2416', 'C2453', 'C2530','C2563'"
   ]
  },
  {
   "cell_type": "code",
   "execution_count": 31,
   "id": "147afb79",
   "metadata": {},
   "outputs": [],
   "source": [
    "# 'C2416'\n",
    "# 'C2453' 성남여수1 \n",
    "# 'C2530' 원주개운LH2단지아파트\n",
    "# 'C2563' 안산팔곡주공아파트\n",
    "# [329,171,136]"
   ]
  },
  {
   "cell_type": "code",
   "execution_count": 32,
   "id": "aa9e18e0",
   "metadata": {},
   "outputs": [],
   "source": [
    "ind = [116,118,415,85,87,88,375,376,377,378,379,456,221,452,156,329,171,136,257, 250, 71, 123, 134, 67, 390, 392, 393, 92, 93, 164,149, # 'C1022'\n",
    "       150, # 'C1068'\n",
    "       385, # 'C1085'\n",
    "       185, # 'C1085'\n",
    "       32, # 'C1175'\n",
    "       354, # 'C1207'\n",
    "       53, # 'C1234'\n",
    "       153, # 'C1269'\n",
    "       182, # 'C1307'\n",
    "       395,396, # 'C1439'\n",
    "       139,140, # 'C1601'\n",
    "       370, # 'C1616'\n",
    "       191, # 'C2325'\n",
    "       266,409, # 'C2352'\n",
    "       224]"
   ]
  },
  {
   "cell_type": "code",
   "execution_count": 33,
   "id": "7edcfdd2",
   "metadata": {},
   "outputs": [],
   "source": [
    "result = result.drop(ind,axis=0)\n",
    "result = result.drop_duplicates().reset_index(drop=True)"
   ]
  },
  {
   "cell_type": "code",
   "execution_count": 34,
   "id": "71be0789",
   "metadata": {},
   "outputs": [
    {
     "data": {
      "text/html": [
       "<div>\n",
       "<style scoped>\n",
       "    .dataframe tbody tr th:only-of-type {\n",
       "        vertical-align: middle;\n",
       "    }\n",
       "\n",
       "    .dataframe tbody tr th {\n",
       "        vertical-align: top;\n",
       "    }\n",
       "\n",
       "    .dataframe thead th {\n",
       "        text-align: right;\n",
       "    }\n",
       "</style>\n",
       "<table border=\"1\" class=\"dataframe\">\n",
       "  <thead>\n",
       "    <tr style=\"text-align: right;\">\n",
       "      <th></th>\n",
       "      <th>단지코드</th>\n",
       "      <th>단지명</th>\n",
       "    </tr>\n",
       "  </thead>\n",
       "  <tbody>\n",
       "    <tr>\n",
       "      <th>0</th>\n",
       "      <td>C2483</td>\n",
       "      <td>포항장량휴먼시아1단지</td>\n",
       "    </tr>\n",
       "    <tr>\n",
       "      <th>1</th>\n",
       "      <td>C2515</td>\n",
       "      <td>미수휴먼시아</td>\n",
       "    </tr>\n",
       "    <tr>\n",
       "      <th>2</th>\n",
       "      <td>C1407</td>\n",
       "      <td>도안 휴먼시아 4단지</td>\n",
       "    </tr>\n",
       "    <tr>\n",
       "      <th>3</th>\n",
       "      <td>C1945</td>\n",
       "      <td>호평마을 주공휴먼시아</td>\n",
       "    </tr>\n",
       "    <tr>\n",
       "      <th>4</th>\n",
       "      <td>C1470</td>\n",
       "      <td>장신휴먼시아1단지</td>\n",
       "    </tr>\n",
       "  </tbody>\n",
       "</table>\n",
       "</div>"
      ],
      "text/plain": [
       "    단지코드          단지명\n",
       "0  C2483  포항장량휴먼시아1단지\n",
       "1  C2515       미수휴먼시아\n",
       "2  C1407  도안 휴먼시아 4단지\n",
       "3  C1945  호평마을 주공휴먼시아\n",
       "4  C1470    장신휴먼시아1단지"
      ]
     },
     "execution_count": 34,
     "metadata": {},
     "output_type": "execute_result"
    }
   ],
   "source": [
    "result.head()"
   ]
  },
  {
   "cell_type": "code",
   "execution_count": 35,
   "id": "b34d6d9e",
   "metadata": {},
   "outputs": [],
   "source": [
    "result.to_csv(\"result0708.csv\",index=False) "
   ]
  },
  {
   "cell_type": "code",
   "execution_count": 36,
   "id": "3e2f29e0",
   "metadata": {},
   "outputs": [],
   "source": [
    "price = pd.read_csv(\"store_tr0708.csv\") "
   ]
  },
  {
   "cell_type": "code",
   "execution_count": 37,
   "id": "fe62c83b",
   "metadata": {},
   "outputs": [],
   "source": [
    "price['임대료'] = price['임대료'].replace(0,np.nan)\n",
    "price['임대보증금'] = price['임대보증금'].replace(0,np.nan)"
   ]
  },
  {
   "cell_type": "code",
   "execution_count": 38,
   "id": "6a347209",
   "metadata": {},
   "outputs": [
    {
     "data": {
      "text/html": [
       "<div>\n",
       "<style scoped>\n",
       "    .dataframe tbody tr th:only-of-type {\n",
       "        vertical-align: middle;\n",
       "    }\n",
       "\n",
       "    .dataframe tbody tr th {\n",
       "        vertical-align: top;\n",
       "    }\n",
       "\n",
       "    .dataframe thead th {\n",
       "        text-align: right;\n",
       "    }\n",
       "</style>\n",
       "<table border=\"1\" class=\"dataframe\">\n",
       "  <thead>\n",
       "    <tr style=\"text-align: right;\">\n",
       "      <th></th>\n",
       "      <th>단지코드</th>\n",
       "      <th>지역</th>\n",
       "      <th>전용면적</th>\n",
       "      <th>임대료</th>\n",
       "      <th>임대보증금</th>\n",
       "      <th>단지명</th>\n",
       "      <th>도로명주소</th>\n",
       "    </tr>\n",
       "  </thead>\n",
       "  <tbody>\n",
       "    <tr>\n",
       "      <th>0</th>\n",
       "      <td>C1206</td>\n",
       "      <td>강원도</td>\n",
       "      <td>31.84</td>\n",
       "      <td>2.234781e+05</td>\n",
       "      <td>8.713823e+06</td>\n",
       "      <td>명륜주공2차아파트</td>\n",
       "      <td>강원도 원주시 예술관길 31</td>\n",
       "    </tr>\n",
       "    <tr>\n",
       "      <th>1</th>\n",
       "      <td>C1206</td>\n",
       "      <td>강원도</td>\n",
       "      <td>63.68</td>\n",
       "      <td>7.241020e+04</td>\n",
       "      <td>3.066589e+06</td>\n",
       "      <td>명륜주공2차아파트</td>\n",
       "      <td>강원도 원주시 예술관길 31</td>\n",
       "    </tr>\n",
       "    <tr>\n",
       "      <th>2</th>\n",
       "      <td>C1206</td>\n",
       "      <td>강원도</td>\n",
       "      <td>137.49</td>\n",
       "      <td>NaN</td>\n",
       "      <td>NaN</td>\n",
       "      <td>명륜주공2차아파트</td>\n",
       "      <td>강원도 원주시 예술관길 31</td>\n",
       "    </tr>\n",
       "    <tr>\n",
       "      <th>3</th>\n",
       "      <td>C2289</td>\n",
       "      <td>부산광역시</td>\n",
       "      <td>38.00</td>\n",
       "      <td>1.462166e+07</td>\n",
       "      <td>1.194079e+05</td>\n",
       "      <td>동삼주공2단지</td>\n",
       "      <td>부산광역시 영도구 상리로 1</td>\n",
       "    </tr>\n",
       "    <tr>\n",
       "      <th>4</th>\n",
       "      <td>C2289</td>\n",
       "      <td>부산광역시</td>\n",
       "      <td>37.26</td>\n",
       "      <td>1.676000e+07</td>\n",
       "      <td>1.378000e+05</td>\n",
       "      <td>동삼주공2단지</td>\n",
       "      <td>부산광역시 영도구 상리로 1</td>\n",
       "    </tr>\n",
       "  </tbody>\n",
       "</table>\n",
       "</div>"
      ],
      "text/plain": [
       "    단지코드     지역    전용면적           임대료         임대보증금        단지명  \\\n",
       "0  C1206    강원도   31.84  2.234781e+05  8.713823e+06  명륜주공2차아파트   \n",
       "1  C1206    강원도   63.68  7.241020e+04  3.066589e+06  명륜주공2차아파트   \n",
       "2  C1206    강원도  137.49           NaN           NaN  명륜주공2차아파트   \n",
       "3  C2289  부산광역시   38.00  1.462166e+07  1.194079e+05    동삼주공2단지   \n",
       "4  C2289  부산광역시   37.26  1.676000e+07  1.378000e+05    동삼주공2단지   \n",
       "\n",
       "             도로명주소  \n",
       "0  강원도 원주시 예술관길 31  \n",
       "1  강원도 원주시 예술관길 31  \n",
       "2  강원도 원주시 예술관길 31  \n",
       "3  부산광역시 영도구 상리로 1  \n",
       "4  부산광역시 영도구 상리로 1  "
      ]
     },
     "execution_count": 38,
     "metadata": {},
     "output_type": "execute_result"
    }
   ],
   "source": [
    "price.head()"
   ]
  },
  {
   "cell_type": "code",
   "execution_count": 39,
   "id": "67c867ba",
   "metadata": {},
   "outputs": [],
   "source": [
    "price = price[['단지코드','전용면적','임대료','임대보증금','단지명']]"
   ]
  },
  {
   "cell_type": "code",
   "execution_count": 40,
   "id": "ebbac98f",
   "metadata": {},
   "outputs": [],
   "source": [
    "store_price = pd.merge(price,result,on='단지코드',how='left').iloc[:,:-1].rename(columns={'단지명_x':'단지명'})\n",
    "store_price = store_price.drop_duplicates()"
   ]
  },
  {
   "cell_type": "code",
   "execution_count": 41,
   "id": "e634ac2f",
   "metadata": {},
   "outputs": [],
   "source": [
    "# 상가 \n",
    "tmp1 = train[train['임대건물구분']=='상가'] \n",
    "tmp1 = tmp1.drop(['임대료','임대보증금'],axis=1)\n",
    "tmp1 = pd.merge(tmp1,store_price[['단지코드','전용면적','임대료','임대보증금','단지명']],how='left',on=['단지코드','전용면적']) #상가 임대료"
   ]
  },
  {
   "cell_type": "code",
   "execution_count": 42,
   "id": "1e9594a3",
   "metadata": {},
   "outputs": [
    {
     "name": "stdout",
     "output_type": "stream",
     "text": [
      "(2390, 15)\n",
      "(562, 15)\n"
     ]
    }
   ],
   "source": [
    "print(train[(train['임대건물구분']=='아파트')].shape)\n",
    "print(train[(train['임대건물구분']=='상가')].shape)"
   ]
  },
  {
   "cell_type": "code",
   "execution_count": 43,
   "id": "751cd6ee",
   "metadata": {},
   "outputs": [],
   "source": [
    "# 아파트\n",
    "tmp2 = train[train['임대건물구분']=='아파트']\n",
    "tmp2 = pd.merge(tmp2,result[['단지코드','단지명']],how='left',on=['단지코드']) "
   ]
  },
  {
   "cell_type": "code",
   "execution_count": 44,
   "id": "314adfef",
   "metadata": {},
   "outputs": [],
   "source": [
    "train = pd.concat([tmp2,tmp1])\n",
    "train = train.reset_index(drop=True)"
   ]
  },
  {
   "cell_type": "code",
   "execution_count": 45,
   "id": "6eb83b04",
   "metadata": {},
   "outputs": [
    {
     "data": {
      "text/plain": [
       "array(['C1397', 'C1039', 'C1350', 'C1326', 'C1786', 'C2186'], dtype=object)"
      ]
     },
     "execution_count": 45,
     "metadata": {},
     "output_type": "execute_result"
    }
   ],
   "source": [
    "train[(train['임대건물구분']=='아파트')&(train['임대료'].isna()==True)]['단지코드'].unique()"
   ]
  },
  {
   "cell_type": "code",
   "execution_count": 46,
   "id": "8b2cc7ce",
   "metadata": {},
   "outputs": [],
   "source": [
    "def get_area(code):\n",
    "    area = train[(train['단지코드']==code)]['전용면적'].unique()\n",
    "    ind = train[(train['단지코드']==code)].index\n",
    "    print('단지명: ',train[train['단지코드']==code]['단지명'].unique())\n",
    "    print('지역: ',train[train['단지코드']==code]['지역'].unique())\n",
    "    print('면적 개수: ',train[train['단지코드']==code]['지역'].shape[0])\n",
    "    for i,j in zip(area,ind):\n",
    "        print(i,j,'/',end=' ')"
   ]
  },
  {
   "cell_type": "code",
   "execution_count": 47,
   "id": "279750e6",
   "metadata": {},
   "outputs": [],
   "source": [
    "def func(num,a,b):\n",
    "    train.loc[num,'임대보증금'] = a\n",
    "    train.loc[num,'임대료'] = b"
   ]
  },
  {
   "cell_type": "code",
   "execution_count": 48,
   "id": "0a7e2f6c",
   "metadata": {},
   "outputs": [],
   "source": [
    "def linear_func(code):\n",
    "    tmp = train[(train['단지코드']==code)][['전용면적','임대료','임대보증금']]\n",
    "    tmp = tmp.replace(0,np.nan)\n",
    "    ind = tmp[tmp['임대료'].isna()==True].index\n",
    "    train1 = tmp.dropna()\n",
    "    train_X = np.array(train1['전용면적']).reshape(-1,1)\n",
    "    y1 = np.array(train1['임대료'])\n",
    "    y2 = np.array(train1['임대보증금'])\n",
    "    test = tmp[tmp['임대료'].isna()==True]\n",
    "    test_X = np.array(test['전용면적']).reshape(-1,1)\n",
    "    lg = LinearRegression()\n",
    "    lg1 = LinearRegression()\n",
    "    lg.fit(train_X,y1) #임대료\n",
    "    lg1.fit(train_X,y2) #임대보증금\n",
    "    pred = lg.predict(test_X)\n",
    "    pred1 = lg1.predict(test_X)\n",
    "    train.loc[ind,'임대료'] = pred\n",
    "    train.loc[ind,'임대보증금'] = pred1"
   ]
  },
  {
   "cell_type": "markdown",
   "id": "50431b13",
   "metadata": {},
   "source": [
    "## 아파트 보증금 NA imputation"
   ]
  },
  {
   "cell_type": "code",
   "execution_count": 49,
   "id": "fb4b7d9f",
   "metadata": {},
   "outputs": [],
   "source": [
    "#임대료가 없는 경우 \n",
    "train.loc[1538:1540,'임대료']=0 #C1039\n",
    "train.loc[1481:1486,'임대료']=0 #C1397"
   ]
  },
  {
   "cell_type": "code",
   "execution_count": 50,
   "id": "9ce6d454",
   "metadata": {},
   "outputs": [
    {
     "name": "stdout",
     "output_type": "stream",
     "text": [
      "단지명:  ['관저 LH다온숲 3단지']\n",
      "지역:  ['대전광역시']\n",
      "면적 개수:  13\n",
      "74.94 1769 / 84.94 1770 / 84.96 1771 / 84.97 1772 / 51.99 1773 / 59.91 1774 / 59.92 1775 / "
     ]
    }
   ],
   "source": [
    "get_area('C1350') # 없음..\n",
    "linear_func('C1350') "
   ]
  },
  {
   "cell_type": "code",
   "execution_count": 51,
   "id": "e178c6a5",
   "metadata": {},
   "outputs": [
    {
     "name": "stdout",
     "output_type": "stream",
     "text": [
      "단지명:  ['부산정관 7단지(A-1BL)']\n",
      "지역:  ['부산광역시']\n",
      "면적 개수:  5\n",
      "24.72 1985 / 24.79 1986 / 26.83 1987 / 37.7 1988 / 46.94 1989 / "
     ]
    }
   ],
   "source": [
    "get_area( 'C1326')\n",
    "func(1985,7000000,135000)\n",
    "func(1986,7000000,135000)\n",
    "func(1987,7600000,142000)\n",
    "func(1988,14800000,198000)\n",
    "func(1989,23100000,259000)"
   ]
  },
  {
   "cell_type": "code",
   "execution_count": 52,
   "id": "6d974949",
   "metadata": {},
   "outputs": [
    {
     "name": "stdout",
     "output_type": "stream",
     "text": [
      "단지명:  ['춘천거두2 행복주택']\n",
      "지역:  ['강원도']\n",
      "면적 개수:  5\n",
      "16.91 2118 / 26.9 2119 / 36.91 2120 / "
     ]
    }
   ],
   "source": [
    "get_area('C1786')\n",
    "func(2118,13181000,62610)\n",
    "func(2119,19397000,92130)\n",
    "func(2120,30464000,144700)\n",
    "func(2121,30464000,144700)"
   ]
  },
  {
   "cell_type": "code",
   "execution_count": 53,
   "id": "5571cbca",
   "metadata": {},
   "outputs": [
    {
     "name": "stdout",
     "output_type": "stream",
     "text": [
      "단지명:  ['대구연경 LH천년나무 2단지']\n",
      "지역:  ['대구광역시']\n",
      "면적 개수:  6\n",
      "29.17 2344 / 29.34 2345 / 37.43 2346 / 46.51 2347 / 26.37 2348 / 26.54 2349 / "
     ]
    }
   ],
   "source": [
    "get_area('C2186') #없음\n",
    "linear_func('C2186') "
   ]
  },
  {
   "cell_type": "markdown",
   "id": "6765ca88",
   "metadata": {},
   "source": [
    "## NA 추가 Imputation\n",
    "- C1109 C1439"
   ]
  },
  {
   "cell_type": "code",
   "execution_count": 54,
   "id": "e6bf100f",
   "metadata": {},
   "outputs": [],
   "source": [
    "tmp = train[(train['단지코드']=='C1109')&(train['전용면적']<100)][['전용면적','임대료','임대보증금']]\n",
    "ind = tmp[tmp['임대료'].isna()==True].index\n",
    "train_X = np.array([37.41,37.26,54.51,37.95,39.33]).reshape(-1,1)\n",
    "y1 = np.array([220200,324000,256000,179000,360000])\n",
    "y2 = np.array([13570000,7776000,6144000,4296000,8640000])\n",
    "test = tmp[tmp['임대료'].isna()==True]\n",
    "test_X = np.array(test['전용면적']).reshape(-1,1)\n",
    "lg = LinearRegression()\n",
    "lg1 = LinearRegression()\n",
    "lg.fit(train_X,y1) #임대료\n",
    "lg1.fit(train_X,y2) #임대보증금\n",
    "pred = lg.predict(test_X)\n",
    "pred1 = lg1.predict(test_X)\n",
    "train.loc[ind,'임대료'] = pred\n",
    "train.loc[ind,'임대보증금'] = pred1"
   ]
  },
  {
   "cell_type": "markdown",
   "id": "8f0ff15a",
   "metadata": {},
   "source": [
    "## 특정 안 된 NA"
   ]
  },
  {
   "cell_type": "code",
   "execution_count": 55,
   "id": "4571b530",
   "metadata": {},
   "outputs": [],
   "source": [
    "def danji_imputation(code,danji):\n",
    "    ind = train[train['단지코드']==code].index\n",
    "    train.loc[ind,'단지명'] = danji"
   ]
  },
  {
   "cell_type": "code",
   "execution_count": 56,
   "id": "fdca3d86",
   "metadata": {},
   "outputs": [],
   "source": [
    "dic = {'C1109': '부산금곡주공4단지',\n",
    " 'C2132': '모라주공3단지',\n",
    " 'C1439': '주공아파트',\n",
    " 'C1899': '사천벌리1주공',\n",
    " 'C2644': '석림주공3단지',\n",
    " 'C1206': '명륜주공2차아파트',\n",
    " 'C2245': '진주문산 LH아파트',\n",
    " 'C1584': '남양주별내 A1-2 행복주택리츠',\n",
    " 'C1156': '청주동남 LH행복주택',\n",
    " 'C2020': '부산용호(행복주택)'}"
   ]
  },
  {
   "cell_type": "code",
   "execution_count": 57,
   "id": "2f38caf4",
   "metadata": {},
   "outputs": [],
   "source": [
    "for i in dic:\n",
    "    code = i\n",
    "    danji = dic[i]\n",
    "    danji_imputation(code,danji)"
   ]
  },
  {
   "cell_type": "markdown",
   "id": "123ac1fc",
   "metadata": {},
   "source": [
    "## 지하 Imputation"
   ]
  },
  {
   "cell_type": "code",
   "execution_count": 58,
   "id": "6359c16a",
   "metadata": {},
   "outputs": [],
   "source": [
    "tmp = train[train['전용면적']>100][['전용면적','임대료','임대보증금']]\n",
    "ind = tmp[tmp['임대료'].isna()==True].index\n",
    "train1 = tmp.dropna()\n",
    "train_X = np.array(train1['전용면적']).reshape(-1,1)\n",
    "y1 = np.array(train1['임대료'])\n",
    "y2 = np.array(train1['임대보증금'])\n",
    "test = tmp[tmp['임대료'].isna()==True]\n",
    "test_X = np.array(test['전용면적']).reshape(-1,1)\n",
    "base = LinearRegression()\n",
    "base1 = LinearRegression()\n",
    "base.fit(train_X,y1) #임대료\n",
    "base1.fit(train_X,y2) #임대보증금\n",
    "pred = base.predict(test_X)\n",
    "pred1 = base1.predict(test_X)\n",
    "train.loc[ind,'임대료'] = pred\n",
    "train.loc[ind,'임대보증금'] = pred1"
   ]
  },
  {
   "cell_type": "code",
   "execution_count": 59,
   "id": "4ba3bc0d",
   "metadata": {},
   "outputs": [],
   "source": [
    "external = pd.read_csv(\"external_data.csv\")\n",
    "external = external[['단지명','도로명주소']].drop_duplicates()\n",
    "external = external.groupby('단지명')['도로명주소'].first().reset_index() #첫번째 도로명주소 사용"
   ]
  },
  {
   "cell_type": "code",
   "execution_count": 60,
   "id": "998ce626",
   "metadata": {},
   "outputs": [],
   "source": [
    "#c1439 concat\n",
    "c1439 = pd.read_csv(\"c1439.csv\")\n",
    "c1439 = c1439[['단지코드','임대료','임대보증금','전용면적']]"
   ]
  },
  {
   "cell_type": "code",
   "execution_count": 61,
   "id": "e2c65b40",
   "metadata": {},
   "outputs": [],
   "source": [
    "ind = train[(train['단지코드']=='C1439')&(train['임대료'].isna()==True)].index"
   ]
  },
  {
   "cell_type": "code",
   "execution_count": 62,
   "id": "0744c1da",
   "metadata": {},
   "outputs": [],
   "source": [
    "for i in ind:\n",
    "    area = train.loc[i,'전용면적']\n",
    "    train.loc[i,'임대료'] = c1439[c1439['전용면적']==area]['임대료'].values\n",
    "    train.loc[i,'임대보증금'] = c1439[c1439['전용면적']==area]['임대보증금'].values"
   ]
  },
  {
   "cell_type": "code",
   "execution_count": 63,
   "id": "25e2d19b",
   "metadata": {},
   "outputs": [],
   "source": [
    "train = pd.merge(train,external,how='left',on='단지명') #도로명주소 merge"
   ]
  },
  {
   "cell_type": "code",
   "execution_count": 64,
   "id": "7f1f8db8",
   "metadata": {},
   "outputs": [],
   "source": [
    "#도로명주소 없는 case: C1899\n",
    "ind = train[train['도로명주소'].isna()==True].index\n",
    "train.loc[ind,'도로명주소'] = '경상남도 사천시 주공1길 50'"
   ]
  },
  {
   "cell_type": "code",
   "execution_count": 65,
   "id": "af7a854e",
   "metadata": {},
   "outputs": [],
   "source": [
    "train = train.rename(columns={'도보 10분거리 내 지하철역 수(환승노선 수 반영)':'지하철역','도보 10분거리 내 버스정류장 수':'버스정류장'})"
   ]
  },
  {
   "cell_type": "markdown",
   "id": "93d60dd9",
   "metadata": {},
   "source": [
    "## 버스정류장,지하철역"
   ]
  },
  {
   "cell_type": "code",
   "execution_count": 66,
   "id": "fa8e8d89",
   "metadata": {},
   "outputs": [
    {
     "name": "stdout",
     "output_type": "stream",
     "text": [
      "3.824657534246575\n"
     ]
    }
   ],
   "source": [
    "#버스정류장 \n",
    "print(train[train['지역']=='경상남도']['버스정류장'].mean())\n",
    "ind = train[train['버스정류장'].isna()==True].index\n",
    "train.loc[ind,'버스정류장']=4"
   ]
  },
  {
   "cell_type": "code",
   "execution_count": 67,
   "id": "b01b5ec0",
   "metadata": {},
   "outputs": [
    {
     "name": "stdout",
     "output_type": "stream",
     "text": [
      "충청남도 [nan  0.]\n",
      "대전광역시 [ 1.  0. nan]\n",
      "경상남도 [ 0. nan]\n"
     ]
    }
   ],
   "source": [
    "train[train['지하철역'].isna()==True]['지역'].unique()\n",
    "\n",
    "for i in train[train['지하철역'].isna()==True]['지역'].unique():\n",
    "    print(i,train[(train['지역']==i)]['지하철역'].unique())\n",
    "\n",
    "ind = train[(train['지역']=='충청남도')&(train['지하철역'].isna()==True)].index\n",
    "train.loc[ind,'지하철역'] = 0\n",
    "\n",
    "ind = train[(train['지역']=='경상남도')&(train['지하철역'].isna()==True)].index\n",
    "train.loc[ind,'지하철역'] = 0\n",
    "\n",
    "train[train['지역']=='대전광역시'].corr()['지하철역']\n",
    "\n",
    "X_train = train[(train['지역']=='대전광역시')&(train['지하철역'].isna()==False)]['버스정류장'].values.reshape(-1,1)\n",
    "y_train = train[(train['지역']=='대전광역시')&(train['지하철역'].isna()==False)]['지하철역'].values.ravel()\n",
    "X_test = train[(train['지역']=='대전광역시')&(train['지하철역'].isna()==True)]['버스정류장'].values.reshape(-1,1)\n",
    "\n",
    "from sklearn.linear_model import LogisticRegression\n",
    "reg = LogisticRegression().fit(X_train, y_train)\n",
    "pred = reg.predict(X_test)\n",
    "\n",
    "ind = train[(train['지역']=='대전광역시')&(train['지하철역'].isna()==True)].index\n",
    "train.loc[ind,'지하철역'] = pred"
   ]
  },
  {
   "cell_type": "code",
   "execution_count": 68,
   "id": "a16cc24f",
   "metadata": {},
   "outputs": [],
   "source": [
    "train.loc[86,'도로명주소'] = '강원도 춘천시 공지로 234-16'\n",
    "train.loc[87,'도로명주소'] = '강원도 춘천시 공지로 234-16'\n",
    "train.loc[86,'단지명'] = '춘천효자8 단지'\n",
    "train.loc[87,'단지명'] = '춘천효자8 단지'"
   ]
  },
  {
   "cell_type": "markdown",
   "id": "49285291",
   "metadata": {},
   "source": [
    "- \"C1649\",\"C2431\"\n",
    "- \"C1397\",\"C2085\""
   ]
  },
  {
   "cell_type": "code",
   "execution_count": 69,
   "id": "b2226de8",
   "metadata": {},
   "outputs": [],
   "source": [
    "ind = train[train['단지코드']=='C2431'].index \n",
    "train.loc[ind,'단지명'] = '양산신도시LH아파트5단지'\n",
    "train.loc[ind,'단지코드'] = 'C1649'"
   ]
  },
  {
   "cell_type": "code",
   "execution_count": 70,
   "id": "c5c4b56f",
   "metadata": {},
   "outputs": [],
   "source": [
    "ind = train[train['단지코드']=='C1397'].index \n",
    "train.loc[ind,'단지명'] = '강남 A5BL (LH강남힐스테이트)'\n",
    "train.loc[ind,'단지코드'] = 'C2085'"
   ]
  },
  {
   "cell_type": "code",
   "execution_count": 71,
   "id": "89ff00cf",
   "metadata": {},
   "outputs": [],
   "source": [
    "import os\n",
    "path = os.path.dirname(os.getcwd())\n",
    "path = os.path.join(path, \"ProcessedData\")\n",
    "train.to_csv(os.path.join(path, \"train_processed.csv\"),index=False)"
   ]
  },
  {
   "cell_type": "markdown",
   "id": "f5b3bfe9",
   "metadata": {},
   "source": [
    "## test data"
   ]
  },
  {
   "cell_type": "code",
   "execution_count": 72,
   "id": "576d4b41",
   "metadata": {},
   "outputs": [],
   "source": [
    "test = pd.read_excel(\"test_imputed.xlsx\")"
   ]
  },
  {
   "cell_type": "code",
   "execution_count": 73,
   "id": "ac5acbc2",
   "metadata": {},
   "outputs": [],
   "source": [
    "test['임대보증금'] = test['임대보증금'].replace(0,np.nan)\n",
    "test['임대료'] = test['임대료'].replace(0,np.nan)"
   ]
  },
  {
   "cell_type": "code",
   "execution_count": 74,
   "id": "29195734",
   "metadata": {},
   "outputs": [],
   "source": [
    "test_X = np.array(test[test['임대료'].isna()==True]['전용면적']).reshape(-1,1)\n",
    "ind = test[test['임대료'].isna()==True].index\n",
    "pred = base.predict(test_X)\n",
    "pred1 = base1.predict(test_X)\n",
    "test.loc[ind,'임대료'] = pred\n",
    "test.loc[ind,'임대보증금'] = pred1"
   ]
  },
  {
   "cell_type": "code",
   "execution_count": 75,
   "id": "747339bb",
   "metadata": {},
   "outputs": [],
   "source": [
    "test = test.rename(columns={'도보 10분거리 내 지하철역 수(환승노선 수 반영)':'지하철역','도보 10분거리 내 버스정류장 수':'버스정류장'})"
   ]
  },
  {
   "cell_type": "code",
   "execution_count": 76,
   "id": "fc5c9fdb",
   "metadata": {},
   "outputs": [],
   "source": [
    "#자격유형\n",
    "test.loc[(test.단지코드=='C2411')&(test.자격유형.isna()), '자격유형'] = 'A'\n",
    "test.loc[(test.단지코드=='C2253')&(test.자격유형.isna()), '자격유형'] = 'C'"
   ]
  },
  {
   "cell_type": "code",
   "execution_count": 77,
   "id": "47b6ea7c",
   "metadata": {},
   "outputs": [],
   "source": [
    "#지하철역\n",
    "ind = test[(test['지역']=='충청남도')&(test['지하철역'].isna()==True)].index\n",
    "test.loc[ind,'지하철역'] = 0\n",
    "\n",
    "X_test = test[(test['지역']=='대전광역시')&(test['지하철역'].isna()==True)]['버스정류장'].values.reshape(-1,1)\n",
    "pred = reg.predict(X_test)\n",
    "\n",
    "ind = test[(test['지역']=='대전광역시')&(test['지하철역'].isna()==True)].index\n",
    "test.loc[ind,'지하철역'] = pred"
   ]
  },
  {
   "cell_type": "code",
   "execution_count": 78,
   "id": "f12cea6d",
   "metadata": {},
   "outputs": [],
   "source": [
    "import os\n",
    "path = os.path.dirname(os.getcwd())\n",
    "path = os.path.join(path, \"ProcessedData\")\n",
    "test.to_csv(os.path.join(path, \"test_processed.csv\"),index=False)"
   ]
  }
 ],
 "metadata": {
  "kernelspec": {
   "display_name": "Python 3",
   "language": "python",
   "name": "python3"
  },
  "language_info": {
   "codemirror_mode": {
    "name": "ipython",
    "version": 3
   },
   "file_extension": ".py",
   "mimetype": "text/x-python",
   "name": "python",
   "nbconvert_exporter": "python",
   "pygments_lexer": "ipython3",
   "version": "3.8.8"
  }
 },
 "nbformat": 4,
 "nbformat_minor": 5
}
