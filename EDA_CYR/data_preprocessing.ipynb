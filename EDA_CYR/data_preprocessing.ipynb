{
 "cells": [
  {
   "cell_type": "code",
   "execution_count": 1,
   "id": "dce75d7a-7dde-44ae-b55a-f4f736e1183f",
   "metadata": {},
   "outputs": [],
   "source": [
    "import pandas as pd\n",
    "pd.options.display.float_format = '{:,.4f}'.format\n",
    "pd.options.display.max_rows = 100\n",
    "pd.options.display.max_columns = 40\n",
    "import numpy as np\n",
    "import os,random, math\n",
    "from tqdm import tqdm\n",
    "from copy import deepcopy\n",
    "from collections import Counter\n",
    "\n",
    "# Visualization\n",
    "import seaborn as sns\n",
    "import matplotlib\n",
    "import matplotlib.pyplot as plt\n",
    "%matplotlib inline\n",
    "from matplotlib import font_manager, rc\n",
    "plt.rcParams['font.family'] = 'NanumGothic'\n",
    "import platform\n",
    "if platform.system() == 'Windows':\n",
    "    font_name = font_manager.FontProperties(fname=\"c:/Windows/Fonts/malgun.ttf\").get_name()\n",
    "    rc('font', family=font_name)\n",
    "else:    \n",
    "    rc('font', family='AppleGothic')\n",
    "\n",
    "matplotlib.rcParams['axes.unicode_minus'] = False\n",
    "\n",
    "# from dataprep.eda import plot, plot_correlation, plot_missing\n",
    "\n",
    "# Warnings\n",
    "import warnings\n",
    "warnings.filterwarnings('always')\n",
    "warnings.filterwarnings('ignore')"
   ]
  },
  {
   "cell_type": "code",
   "execution_count": 2,
   "id": "e9ff4c98-7ce6-4ad8-a9ab-fa4035e63c2b",
   "metadata": {},
   "outputs": [],
   "source": [
    "import os\n",
    "path = os.path.dirname(os.getcwd())\n",
    "path = os.path.join(path, \"ProcessedData\")"
   ]
  },
  {
   "cell_type": "code",
   "execution_count": 3,
   "id": "95b0a70d-1949-42ff-9f8e-48599276c228",
   "metadata": {},
   "outputs": [],
   "source": [
    "train = pd.read_csv(os.path.join(path,\"merged_train.csv\"))\n",
    "test = pd.read_csv(os.path.join(path,\"merged_test.csv\"))"
   ]
  },
  {
   "cell_type": "code",
   "execution_count": 4,
   "id": "d41d4d2c-dff8-443b-8cff-3453b523bac4",
   "metadata": {},
   "outputs": [],
   "source": [
    "class preprocess:\n",
    "    \n",
    "    def __init__(self,df):\n",
    "        self.df = df\n",
    "        self.non_unique = np.array(['자격유형', '공급유형', '임대건물구분','임대보증금', '임대료', '전용면적', '전용면적별세대수'])\n",
    "        \n",
    "    def new_y(self):\n",
    "        try:\n",
    "            self.df['등록차량수/총세대수'] = self.df.apply(lambda x : x['등록차량수']/x['총세대수'], axis=1)\n",
    "            self.df['등록차량수/단지내주차면수'] = self.df.apply(lambda x : x['등록차량수']/x['단지내주차면수'], axis=1)\n",
    "            self.y = np.array(['등록차량수','등록차량수/단지내주차면수','등록차량수/총세대수'])\n",
    "        except:\n",
    "            pass\n",
    "        \n",
    "    def one_dim(self): #첫번째 방안\n",
    "        self.newDF = self.df.drop(self.non_unique,axis=1).drop_duplicates().reset_index(drop=True)\n",
    "\n",
    "        try:\n",
    "            self.newDF = self.newDF.drop(self.y,axis=1)\n",
    "        except:\n",
    "            pass\n",
    "        "
   ]
  },
  {
   "cell_type": "code",
   "execution_count": 5,
   "id": "dea90c8a-8f1c-41dc-afa7-0f71db6eba4c",
   "metadata": {},
   "outputs": [],
   "source": [
    "pr = preprocess(train)\n",
    "pr.new_y()\n",
    "pr.one_dim()"
   ]
  },
  {
   "cell_type": "code",
   "execution_count": 6,
   "id": "81c672f8-924a-4bea-bcf9-28cef83b726a",
   "metadata": {},
   "outputs": [],
   "source": [
    "pr1 = preprocess(test)\n",
    "pr1.new_y()\n",
    "pr1.one_dim()"
   ]
  },
  {
   "cell_type": "code",
   "execution_count": null,
   "id": "1be41951-b600-45f5-9e9b-20b8fbbd67eb",
   "metadata": {},
   "outputs": [],
   "source": []
  }
 ],
 "metadata": {
  "kernelspec": {
   "display_name": "Python 3",
   "language": "python",
   "name": "python3"
  },
  "language_info": {
   "codemirror_mode": {
    "name": "ipython",
    "version": 3
   },
   "file_extension": ".py",
   "mimetype": "text/x-python",
   "name": "python",
   "nbconvert_exporter": "python",
   "pygments_lexer": "ipython3",
   "version": "3.8.8"
  }
 },
 "nbformat": 4,
 "nbformat_minor": 5
}
