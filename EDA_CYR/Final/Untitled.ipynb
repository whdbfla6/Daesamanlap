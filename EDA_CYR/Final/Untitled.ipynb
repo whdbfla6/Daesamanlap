{
 "cells": [
  {
   "cell_type": "code",
   "execution_count": 73,
   "metadata": {},
   "outputs": [],
   "source": [
    "import pandas as pd\n",
    "import numpy as np\n",
    "\n",
    "# Visualization\n",
    "import seaborn as sns\n",
    "import matplotlib\n",
    "import matplotlib.pyplot as plt\n",
    "%matplotlib inline\n",
    "from matplotlib import font_manager, rc\n",
    "plt.rcParams['font.family'] = 'NanumGothic'\n",
    "import platform\n",
    "if platform.system() == 'Windows':\n",
    "    font_name = font_manager.FontProperties(fname=\"c:/Windows/Fonts/malgun.ttf\").get_name()\n",
    "    rc('font', family=font_name)\n",
    "else:    \n",
    "    rc('font', family='AppleGothic')\n",
    "\n",
    "matplotlib.rcParams['axes.unicode_minus'] = False"
   ]
  },
  {
   "cell_type": "code",
   "execution_count": 74,
   "metadata": {},
   "outputs": [],
   "source": [
    "import os\n",
    "path = os.path.dirname(os.getcwd())\n",
    "path = os.path.dirname(path)\n",
    "path = os.path.join(path, \"ProcessedData\")\n",
    "train = pd.read_csv(os.path.join(path,\"merged_train.csv\"))\n",
    "test = pd.read_csv(os.path.join(path,\"merged_test.csv\"))"
   ]
  },
  {
   "cell_type": "code",
   "execution_count": 75,
   "metadata": {},
   "outputs": [],
   "source": [
    "import warnings\n",
    "warnings.filterwarnings(action='ignore')"
   ]
  },
  {
   "cell_type": "code",
   "execution_count": 76,
   "metadata": {},
   "outputs": [],
   "source": [
    "train=train.drop_duplicates(keep='first')\n",
    "test=test.drop_duplicates(keep='first')"
   ]
  },
  {
   "cell_type": "code",
   "execution_count": 77,
   "metadata": {},
   "outputs": [],
   "source": [
    "train_up = train[train['단지내주차면수']>=900].reset_index(drop=True)\n",
    "train_down = train[train['단지내주차면수']<900].reset_index(drop=True)"
   ]
  },
  {
   "cell_type": "code",
   "execution_count": 78,
   "metadata": {},
   "outputs": [],
   "source": [
    "train_down['0~19 인구수'] = train_down['0~19세_비율']*train_down['총세대수']\n",
    "train_down['20~39 인구수'] = train_down['20~39세_비율']*train_down['총세대수']\n",
    "train_down['40~69 인구수'] = train_down['40~69세_비율']*train_down['총세대수']\n",
    "train_down['70세이상 인구수'] = train_down['70세이상_비율']*train_down['총세대수']"
   ]
  },
  {
   "cell_type": "code",
   "execution_count": 79,
   "metadata": {},
   "outputs": [],
   "source": [
    "train_up['0~19 인구수'] = train_up['0~19세_비율']*train_up['총세대수']\n",
    "train_up['20~39 인구수'] = train_up['20~39세_비율']*train_up['총세대수']\n",
    "train_up['40~69 인구수'] = train_up['40~69세_비율']*train_up['총세대수']\n",
    "train_up['70세이상 인구수'] = train_up['70세이상_비율']*train_up['총세대수']"
   ]
  },
  {
   "cell_type": "code",
   "execution_count": 80,
   "metadata": {},
   "outputs": [],
   "source": [
    "train_down['공가수_비율'] =  train_down.apply(lambda x : x['공가수']/x['총세대수'],axis=1)\n",
    "train_down['세대당_가능주차면수'] = train_down.apply(lambda x : x['단지내주차면수']/x['총세대수'],axis=1)"
   ]
  },
  {
   "cell_type": "code",
   "execution_count": 81,
   "metadata": {},
   "outputs": [],
   "source": [
    "train_up['공가수_비율'] =  train_up.apply(lambda x : x['공가수']/x['총세대수'],axis=1)\n",
    "train_up['세대당_가능주차면수'] = train_up.apply(lambda x : x['단지내주차면수']/x['총세대수'],axis=1)"
   ]
  },
  {
   "cell_type": "code",
   "execution_count": 72,
   "metadata": {},
   "outputs": [
    {
     "data": {
      "text/plain": [
       "총세대수           0.417937\n",
       "전용면적           0.278634\n",
       "전용면적별세대수      -0.012437\n",
       "공가수           -0.476742\n",
       "임대보증금          0.297630\n",
       "임대료            0.363639\n",
       "지하철역           0.071158\n",
       "버스정류장          0.175514\n",
       "단지내주차면수        0.543361\n",
       "등록차량수          1.000000\n",
       "연면적            0.174350\n",
       "위도            -0.173960\n",
       "경도             0.058926\n",
       "subway_dist   -0.115379\n",
       "환승역 수          0.079849\n",
       "총인구수          -0.160393\n",
       "세대당_인구         0.171258\n",
       "남/여비율         -0.275973\n",
       "남/여_0~19세     -0.015868\n",
       "남/여_20~39세    -0.253918\n",
       "남/여_40~69세    -0.224899\n",
       "남/여_70세이상     -0.013297\n",
       "0~19세_비율      -0.001309\n",
       "20~39세_비율      0.121755\n",
       "40~69세_비율     -0.010408\n",
       "70세이상_비율      -0.149963\n",
       "0~19 인구수       0.405556\n",
       "20~39 인구수      0.387847\n",
       "40~69 인구수      0.407835\n",
       "70세이상 인구수      0.163878\n",
       "공가수_비율        -0.512533\n",
       "세대당_가능주차면수     0.111038\n",
       "Name: 등록차량수, dtype: float64"
      ]
     },
     "execution_count": 72,
     "metadata": {},
     "output_type": "execute_result"
    }
   ],
   "source": []
  },
  {
   "cell_type": "code",
   "execution_count": null,
   "metadata": {},
   "outputs": [],
   "source": []
  }
 ],
 "metadata": {
  "kernelspec": {
   "display_name": "Python 3",
   "language": "python",
   "name": "python3"
  },
  "language_info": {
   "codemirror_mode": {
    "name": "ipython",
    "version": 3
   },
   "file_extension": ".py",
   "mimetype": "text/x-python",
   "name": "python",
   "nbconvert_exporter": "python",
   "pygments_lexer": "ipython3",
   "version": "3.8.3"
  }
 },
 "nbformat": 4,
 "nbformat_minor": 4
}
