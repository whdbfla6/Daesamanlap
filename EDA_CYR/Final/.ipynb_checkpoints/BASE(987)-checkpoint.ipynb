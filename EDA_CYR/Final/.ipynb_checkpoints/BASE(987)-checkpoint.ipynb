{
 "cells": [
  {
   "cell_type": "markdown",
   "metadata": {},
   "source": [
    "# 기본"
   ]
  },
  {
   "cell_type": "code",
   "execution_count": 2,
   "metadata": {},
   "outputs": [],
   "source": [
    "import pandas as pd\n",
    "import numpy as np\n",
    "\n",
    "# Visualization\n",
    "import seaborn as sns\n",
    "import matplotlib\n",
    "import matplotlib.pyplot as plt\n",
    "%matplotlib inline\n",
    "from matplotlib import font_manager, rc\n",
    "plt.rcParams['font.family'] = 'NanumGothic'\n",
    "import platform\n",
    "if platform.system() == 'Windows':\n",
    "    font_name = font_manager.FontProperties(fname=\"c:/Windows/Fonts/malgun.ttf\").get_name()\n",
    "    rc('font', family=font_name)\n",
    "else:    \n",
    "    rc('font', family='AppleGothic')\n",
    "\n",
    "matplotlib.rcParams['axes.unicode_minus'] = False"
   ]
  },
  {
   "cell_type": "code",
   "execution_count": 3,
   "metadata": {},
   "outputs": [],
   "source": [
    "import os\n",
    "path = os.path.dirname(os.getcwd())\n",
    "path = os.path.dirname(path)\n",
    "path = os.path.join(path, \"ProcessedData\")\n",
    "train = pd.read_csv(os.path.join(path,\"merged_train.csv\"))\n",
    "test = pd.read_csv(os.path.join(path,\"merged_test.csv\"))"
   ]
  },
  {
   "cell_type": "code",
   "execution_count": 4,
   "metadata": {},
   "outputs": [],
   "source": [
    "import warnings\n",
    "warnings.filterwarnings(action='ignore')"
   ]
  },
  {
   "cell_type": "code",
   "execution_count": 5,
   "metadata": {},
   "outputs": [],
   "source": [
    "train=train.drop_duplicates(keep='first')\n",
    "test=test.drop_duplicates(keep='first')"
   ]
  },
  {
   "cell_type": "markdown",
   "metadata": {},
   "source": [
    "## 1. EDA 및 전처리(baseline: MSE 98)"
   ]
  },
  {
   "cell_type": "markdown",
   "metadata": {},
   "source": [
    "### 1) 상가비율"
   ]
  },
  {
   "cell_type": "code",
   "execution_count": 6,
   "metadata": {},
   "outputs": [],
   "source": [
    "tmp = train.groupby(['단지코드','임대건물구분']).count().iloc[:,:1].reset_index()\n",
    "store = tmp[tmp['임대건물구분']=='상가'].reset_index(drop=True)[['단지코드','총세대수']].rename(columns={'총세대수':'상가수'})\n",
    "apt = tmp[tmp['임대건물구분']=='아파트'].reset_index(drop=True)[['단지코드','총세대수']].rename(columns={'총세대수':'아파트수'})\n",
    "total = pd.merge(apt,store,on='단지코드',how='left').fillna(0)\n",
    "total['상가비율'] = total.apply(lambda x : x['상가수']/(x['아파트수']+x['상가수']),axis=1)\n",
    "train = pd.merge(train,total[['단지코드','상가비율']],on='단지코드',how='left')"
   ]
  },
  {
   "cell_type": "code",
   "execution_count": 7,
   "metadata": {},
   "outputs": [],
   "source": [
    "tmp = test.groupby(['단지코드','임대건물구분']).count().iloc[:,:1].reset_index()\n",
    "store = tmp[tmp['임대건물구분']=='상가'].reset_index(drop=True)[['단지코드','총세대수']].rename(columns={'총세대수':'상가수'})\n",
    "apt = tmp[tmp['임대건물구분']=='아파트'].reset_index(drop=True)[['단지코드','총세대수']].rename(columns={'총세대수':'아파트수'})\n",
    "total = pd.merge(apt,store,on='단지코드',how='left').fillna(0)\n",
    "total['상가비율'] = total.apply(lambda x : x['상가수']/(x['아파트수']+x['상가수']),axis=1)\n",
    "test = pd.merge(test,total[['단지코드','상가비율']],on='단지코드',how='left')"
   ]
  },
  {
   "cell_type": "markdown",
   "metadata": {},
   "source": [
    "### 9) 지역\n",
    "\n",
    "- '제주특별자치도','경상남도','부산광역시' : 0\n",
    "- '광주광역시','세종특별자치시','경상북도','전라북도','서울특별시' :1\n",
    "- 대구광역시 & (국민임대,영구임대) : 2 $\\rightarrow$ 등록차량수<총세대수\n",
    "- 대구광역시 & (공공임대(단기)) : 3 $\\rightarrow$ 등록차량수>총세대수\n",
    "- 경기도, 전라남도, 대전광역시, 충청북도 & (영구임대,행복주택) $\\rightarrow$ 등록차량수<총세대수\n",
    "- 경기도, 전라남도, 대전광역시, 충청북도 & (공공임대(단기),공공분양,공공임대(분납)) $\\rightarrow$ 등록차량수>총세대수\n",
    "- 경기도, 전라남도, 대전광역시, 충청북도 & (국민임대) $\\rightarrow$ 모름"
   ]
  },
  {
   "cell_type": "markdown",
   "metadata": {},
   "source": [
    "### 2) 세대당가능주차면수"
   ]
  },
  {
   "cell_type": "code",
   "execution_count": 8,
   "metadata": {},
   "outputs": [],
   "source": [
    "train['세대당_가능주차면수'] = train.apply(lambda x : x['단지내주차면수']/x['총세대수'],axis=1)\n",
    "test['세대당_가능주차면수'] = test.apply(lambda x : x['단지내주차면수']/x['총세대수'],axis=1)"
   ]
  },
  {
   "cell_type": "markdown",
   "metadata": {},
   "source": [
    "### 3) 공가비율"
   ]
  },
  {
   "cell_type": "code",
   "execution_count": 9,
   "metadata": {},
   "outputs": [],
   "source": [
    "train['공가비율'] = train.apply(lambda x : x['공가수']/x['총세대수'],axis=1)\n",
    "test['공가비율'] = test.apply(lambda x : x['공가수']/x['총세대수'],axis=1)"
   ]
  },
  {
   "cell_type": "markdown",
   "metadata": {},
   "source": [
    "### 4) 대형전용면적"
   ]
  },
  {
   "cell_type": "code",
   "execution_count": 10,
   "metadata": {},
   "outputs": [],
   "source": [
    "level = 85"
   ]
  },
  {
   "cell_type": "code",
   "execution_count": 11,
   "metadata": {},
   "outputs": [],
   "source": [
    "train['대형전용면적'] = train['전용면적'].apply(lambda x : 1 if x>level else 0)\n",
    "test['대형전용면적'] = test['전용면적'].apply(lambda x : 1 if x>level else 0)"
   ]
  },
  {
   "cell_type": "markdown",
   "metadata": {},
   "source": [
    "### 5) 공급유형\n",
    "- 공공임대 5년/10년 $\\rightarrow$ 공공임대(단기)"
   ]
  },
  {
   "cell_type": "code",
   "execution_count": 12,
   "metadata": {},
   "outputs": [],
   "source": [
    "train.loc[train.공급유형.isin(['공공임대(5년)', '공공임대(10년)']), '공급유형'] = '공공임대(단기)'\n",
    "test.loc[test.공급유형.isin(['공공임대(5년)', '공공임대(10년)']), '공급유형'] = '공공임대(단기)'"
   ]
  },
  {
   "cell_type": "code",
   "execution_count": 13,
   "metadata": {},
   "outputs": [],
   "source": [
    "train.loc[(train['단지내주차면수']>=987)&(train['지역'].isin(['제주특별자치도','경상남도','부산광역시'])),'지역'] = 0\n",
    "train.loc[(train['단지내주차면수']>=987)&(train['지역'].isin(['광주광역시','세종특별자치시','경상북도','전라북도','서울특별시'])),'지역'] = 1\n",
    "train.loc[(train['단지내주차면수']>=987)&(train['지역'].isin(['대구광역시']))&(train['공급유형'].isin(['국민임대','영구임대'])),'지역'] = 2\n",
    "train.loc[(train['단지내주차면수']>=987)&(train['지역'].isin(['대구광역시']))&(train['공급유형'].isin(['공공임대(단기)'])),'지역'] = 3\n",
    "train.loc[(train['단지내주차면수']>=987)&(train['지역'].isin(['경기도','전라남도','대전광역시','충청북도']))&(train['공급유형'].isin(['영구임대','행복주택'])),'지역'] = 4\n",
    "train.loc[(train['단지내주차면수']>=987)&(train['지역'].isin(['경기도','전라남도','대전광역시','충청북도']))&(train['공급유형'].isin(['공공임대(단기)','공공분양','공공임대(분납)'])),'지역'] = 5\n",
    "train.loc[(train['단지내주차면수']>=987)&(train['지역'].isin(['경기도','전라남도','대전광역시','충청북도']))&(train['공급유형'].isin(['국민임대'])),'지역'] = 6\n",
    "train.loc[(train['단지내주차면수']>=987)&(train['지역'].isin(['강원도'])),'지역'] = 7"
   ]
  },
  {
   "cell_type": "code",
   "execution_count": 14,
   "metadata": {},
   "outputs": [],
   "source": [
    "test.loc[(test['단지내주차면수']>=987)&(test['지역'].isin(['제주특별자치도','경상남도','부산광역시'])),'지역'] = 0\n",
    "test.loc[(test['단지내주차면수']>=987)&(test['지역'].isin(['광주광역시','세종특별자치시','경상북도','전라북도','서울특별시'])),'지역'] = 1\n",
    "test.loc[(test['단지내주차면수']>=987)&(test['지역'].isin(['대구광역시']))&(test['공급유형'].isin(['국민임대','영구임대'])),'지역'] = 2\n",
    "test.loc[(test['단지내주차면수']>=987)&(test['지역'].isin(['대구광역시']))&(test['공급유형'].isin(['공공임대(단기)'])),'지역'] = 3\n",
    "test.loc[(test['단지내주차면수']>=987)&(test['지역'].isin(['경기도','전라남도','대전광역시','충청북도']))&(test['공급유형'].isin(['영구임대','행복주택'])),'지역'] = 4\n",
    "test.loc[(test['단지내주차면수']>=987)&(test['지역'].isin(['경기도','전라남도','대전광역시','충청북도']))&(test['공급유형'].isin(['공공임대(단기)','공공분양','공공임대(분납)'])),'지역'] = 5\n",
    "test.loc[(test['단지내주차면수']>=987)&(test['지역'].isin(['경기도','전라남도','대전광역시','충청북도']))&(test['공급유형'].isin(['국민임대'])),'지역'] = 6\n",
    "test.loc[(test['단지내주차면수']>=987)&(test['지역'].isin(['강원도'])),'지역'] = 7"
   ]
  },
  {
   "cell_type": "code",
   "execution_count": 15,
   "metadata": {
    "scrolled": true
   },
   "outputs": [
    {
     "data": {
      "text/plain": [
       "6    193\n",
       "1     84\n",
       "0     45\n",
       "5     42\n",
       "4     36\n",
       "3     16\n",
       "2      6\n",
       "Name: 지역, dtype: int64"
      ]
     },
     "execution_count": 15,
     "metadata": {},
     "output_type": "execute_result"
    }
   ],
   "source": [
    "train[(train['단지내주차면수']>=987)]['지역'].value_counts()"
   ]
  },
  {
   "cell_type": "code",
   "execution_count": 16,
   "metadata": {
    "scrolled": true
   },
   "outputs": [
    {
     "data": {
      "text/plain": [
       "6    73\n",
       "1    31\n",
       "0    18\n",
       "7     5\n",
       "5     5\n",
       "2     5\n",
       "Name: 지역, dtype: int64"
      ]
     },
     "execution_count": 16,
     "metadata": {},
     "output_type": "execute_result"
    }
   ],
   "source": [
    "test[(test['단지내주차면수']>=987)]['지역'].value_counts()"
   ]
  },
  {
   "cell_type": "markdown",
   "metadata": {},
   "source": [
    "- 1차원으로 합치기"
   ]
  },
  {
   "cell_type": "code",
   "execution_count": 17,
   "metadata": {},
   "outputs": [],
   "source": [
    "not_unique = ['공급유형','전용면적','임대건물구분','전용면적별세대수','대형전용면적','임대보증금','임대료','자격유형']"
   ]
  },
  {
   "cell_type": "code",
   "execution_count": 18,
   "metadata": {},
   "outputs": [],
   "source": [
    "train_one = train.drop(not_unique,axis=1).drop_duplicates().reset_index(drop=True)\n",
    "test_one = test.drop(not_unique,axis=1).drop_duplicates().reset_index(drop=True)"
   ]
  },
  {
   "cell_type": "markdown",
   "metadata": {},
   "source": [
    "- 전용면적별세대수 채우기"
   ]
  },
  {
   "cell_type": "code",
   "execution_count": 19,
   "metadata": {},
   "outputs": [],
   "source": [
    "for i in train['공급유형'].unique():\n",
    "    train_one[i] = 0\n",
    "    test_one[i] = 0"
   ]
  },
  {
   "cell_type": "code",
   "execution_count": 20,
   "metadata": {},
   "outputs": [],
   "source": [
    "sample = pd.DataFrame(train.groupby(['단지코드','공급유형']).sum()['전용면적별세대수']).reset_index()\n",
    "for i in sample.index:\n",
    "    code = sample.loc[i,'단지코드']\n",
    "    col = sample.loc[i,'공급유형']\n",
    "    val = sample.loc[i,'전용면적별세대수']  # 전용면적별세대수\n",
    "    ind = train_one[train_one['단지코드']==code].index\n",
    "    train_one.loc[ind,col] = val"
   ]
  },
  {
   "cell_type": "code",
   "execution_count": 21,
   "metadata": {},
   "outputs": [],
   "source": [
    "sample = pd.DataFrame(test.groupby(['단지코드','공급유형']).sum()['전용면적별세대수']).reset_index()\n",
    "for i in sample.index:\n",
    "    code = sample.loc[i,'단지코드']\n",
    "    col = sample.loc[i,'공급유형']\n",
    "    val = sample.loc[i,'전용면적별세대수']  # 전용면적별세대수\n",
    "    ind = test_one[test_one['단지코드']==code].index\n",
    "    test_one.loc[ind,col] = val"
   ]
  },
  {
   "cell_type": "markdown",
   "metadata": {},
   "source": [
    "### 6) 임대료 임대보증금 : 평균"
   ]
  },
  {
   "cell_type": "code",
   "execution_count": 22,
   "metadata": {},
   "outputs": [],
   "source": [
    "sample = train.groupby('단지코드').mean()[['임대료','임대보증금']].reset_index()\n",
    "train_one=pd.merge(train_one, sample, on=\"단지코드\", how=\"left\")"
   ]
  },
  {
   "cell_type": "code",
   "execution_count": 23,
   "metadata": {},
   "outputs": [],
   "source": [
    "sample = test.groupby('단지코드').mean()[['임대료','임대보증금']].reset_index()\n",
    "test_one=pd.merge(test_one, sample, on=\"단지코드\", how=\"left\")"
   ]
  },
  {
   "cell_type": "markdown",
   "metadata": {},
   "source": [
    "### 7) 대형전용면적 총개수"
   ]
  },
  {
   "cell_type": "code",
   "execution_count": 24,
   "metadata": {},
   "outputs": [],
   "source": [
    "sample = pd.DataFrame(train.groupby('단지코드')['대형전용면적'].sum()).reset_index()\n",
    "train_one = pd.merge(train_one, sample, on=\"단지코드\", how=\"left\")"
   ]
  },
  {
   "cell_type": "code",
   "execution_count": 25,
   "metadata": {},
   "outputs": [],
   "source": [
    "sample = pd.DataFrame(test.groupby('단지코드')['대형전용면적'].sum()).reset_index()\n",
    "test_one = pd.merge(test_one, sample, on=\"단지코드\", how=\"left\")"
   ]
  },
  {
   "cell_type": "markdown",
   "metadata": {},
   "source": [
    "### 8) 변수제거"
   ]
  },
  {
   "cell_type": "code",
   "execution_count": 26,
   "metadata": {},
   "outputs": [],
   "source": [
    "col = ['단지명','도로명주소','subway_name','임대상가']"
   ]
  },
  {
   "cell_type": "code",
   "execution_count": 27,
   "metadata": {},
   "outputs": [],
   "source": [
    "train_one = train_one.drop(col,axis=1)\n",
    "test_one = test_one.drop(col,axis=1)"
   ]
  },
  {
   "cell_type": "markdown",
   "metadata": {},
   "source": [
    "## 2. 데이터 나누기: 단지내주차면수 987 기준"
   ]
  },
  {
   "cell_type": "code",
   "execution_count": 28,
   "metadata": {},
   "outputs": [],
   "source": [
    "train_up = train_one[train_one['단지내주차면수']>=987].reset_index(drop=True)\n",
    "train_down = train_one[train_one['단지내주차면수']<987].reset_index(drop=True)"
   ]
  },
  {
   "cell_type": "code",
   "execution_count": 29,
   "metadata": {},
   "outputs": [],
   "source": [
    "test_up = test_one[test_one['단지내주차면수']>=987].reset_index(drop=True)\n",
    "test_down = test_one[test_one['단지내주차면수']<987].reset_index(drop=True)"
   ]
  },
  {
   "cell_type": "markdown",
   "metadata": {},
   "source": [
    "### 1) train/test up : area 변수 추가(Baseline추가 MSE:96)"
   ]
  },
  {
   "cell_type": "code",
   "execution_count": 77,
   "metadata": {},
   "outputs": [],
   "source": [
    "tmp = train[train['단지내주차면수']>=987].reset_index(drop=True)\n",
    "tmp['등록차량수-총세대수'] = tmp.apply(lambda x : x['등록차량수']-x['총세대수'],axis=1)\n",
    "tmp['cluster'] = tmp.apply(lambda x : 1 if x['등록차량수-총세대수']>0 else 0 ,axis=1)"
   ]
  },
  {
   "cell_type": "code",
   "execution_count": 78,
   "metadata": {},
   "outputs": [
    {
     "data": {
      "text/plain": [
       "<matplotlib.axes._subplots.AxesSubplot at 0x2307781ee80>"
      ]
     },
     "execution_count": 78,
     "metadata": {},
     "output_type": "execute_result"
    },
    {
     "data": {
      "image/png": "[encoded data removed]",
      "text/plain": [
       "<Figure size 2160x360 with 1 Axes>"
      ]
     },
     "metadata": {
      "needs_background": "light"
     },
     "output_type": "display_data"
    }
   ],
   "source": [
    "fig, ax = plt.subplots(figsize=(30,5))\n",
    "sns.kdeplot(data=tmp,x='등록차량수-총세대수')"
   ]
  },
  {
   "cell_type": "code",
   "execution_count": 79,
   "metadata": {},
   "outputs": [
    {
     "data": {
      "text/plain": [
       "<matplotlib.axes._subplots.AxesSubplot at 0x23077e883a0>"
      ]
     },
     "execution_count": 79,
     "metadata": {},
     "output_type": "execute_result"
    },
    {
     "data": {
      "image/png": "[encoded data removed]",
      "text/plain": [
       "<Figure size 2160x360 with 1 Axes>"
      ]
     },
     "metadata": {
      "needs_background": "light"
     },
     "output_type": "display_data"
    },
    {
     "data": {
      "image/png": "[encoded data removed]",
      "text/plain": [
       "<Figure size 2160x360 with 1 Axes>"
      ]
     },
     "metadata": {
      "needs_background": "light"
     },
     "output_type": "display_data"
    }
   ],
   "source": [
    "tmp = tmp[(tmp['등록차량수-총세대수']>200)|(tmp['등록차량수-총세대수']<-200)]\n",
    "fig, ax = plt.subplots(figsize=(30,5))\n",
    "sns.countplot(data=tmp,x='공급유형',hue='cluster')\n",
    "\n",
    "fig, ax = plt.subplots(figsize=(30,5))\n",
    "sns.countplot(data=tmp,x='지역',hue='cluster')"
   ]
  },
  {
   "cell_type": "code",
   "execution_count": 80,
   "metadata": {},
   "outputs": [],
   "source": [
    "def areafunc(x):\n",
    "    if x in ['제주특별자치도','경상남도','부산광역시']:\n",
    "        return 0\n",
    "    elif x in ['광주광역시','세종특별자치시','경상북도','전라북도','서울특별시']:\n",
    "        return 1\n",
    "    elif x in ['대구광역시']:\n",
    "        return 2\n",
    "    else: \n",
    "        return 3"
   ]
  },
  {
   "cell_type": "code",
   "execution_count": 81,
   "metadata": {},
   "outputs": [],
   "source": [
    "tmp['지역'] = tmp['지역'].apply(lambda x : areafunc(x))"
   ]
  },
  {
   "cell_type": "code",
   "execution_count": null,
   "metadata": {},
   "outputs": [],
   "source": [
    "print('파랑 : ',tmp[(tmp['지역']==3)&(tmp['cluster']==0)]['공급유형'].unique()) \n",
    "print('주황 : ',tmp[(tmp['지역']==3)&(tmp['cluster']==1)]['공급유형'].unique())"
   ]
  },
  {
   "cell_type": "code",
   "execution_count": null,
   "metadata": {},
   "outputs": [],
   "source": [
    "print('파랑 : ',tmp[(tmp['지역']==2)&(tmp['cluster']==0)]['공급유형'].unique()) \n",
    "print('주황 : ',tmp[(tmp['지역']==2)&(tmp['cluster']==1)]['공급유형'].unique())"
   ]
  },
  {
   "cell_type": "markdown",
   "metadata": {},
   "source": [
    "- '제주특별자치도','경상남도','부산광역시' : 0\n",
    "- '광주광역시','세종특별자치시','경상북도','전라북도','서울특별시' :1\n",
    "- 대구광역시 & (국민임대,영구임대) : 2 $\\rightarrow$ 등록차량수<총세대수\n",
    "- 대구광역시 & (공공임대(단기)) : 3 $\\rightarrow$ 등록차량수>총세대수\n",
    "- 경기도, 전라남도, 대전광역시, 충청북도 & (영구임대,행복주택) $\\rightarrow$ 등록차량수<총세대수\n",
    "- 경기도, 전라남도, 대전광역시, 충청북도 & (공공임대(단기),공공분양,공공임대(분납)) $\\rightarrow$ 등록차량수>총세대수\n",
    "- 경기도, 전라남도, 대전광역시, 충청북도 & (국민임대) $\\rightarrow$ 모름"
   ]
  },
  {
   "cell_type": "code",
   "execution_count": 30,
   "metadata": {},
   "outputs": [],
   "source": [
    "train_up = train_up.join(pd.get_dummies(train_up['지역'],prefix='area')).iloc[:,:-1]\n",
    "test_up = test_up.join(pd.get_dummies(test_up['지역'],prefix='area')).iloc[:,:-1]"
   ]
  },
  {
   "cell_type": "markdown",
   "metadata": {},
   "source": [
    "## 3. 모델링"
   ]
  },
  {
   "cell_type": "code",
   "execution_count": 31,
   "metadata": {},
   "outputs": [],
   "source": [
    "from sklearn.model_selection import train_test_split\n",
    "from sklearn.model_selection import cross_val_score, KFold, RepeatedKFold\n",
    "from sklearn.metrics import mean_absolute_error\n",
    "from catboost import CatBoostRegressor"
   ]
  },
  {
   "cell_type": "code",
   "execution_count": 32,
   "metadata": {},
   "outputs": [],
   "source": [
    "def fit(X_train, X_test, y_train, y_test, model):\n",
    "    try:\n",
    "        model.fit(X_train, y_train, verbose=False)\n",
    "    except:\n",
    "        model.fit(X_train, y_train)\n",
    "    tst_pred = model.predict(X_test)\n",
    "    error = mean_absolute_error(y_test,tst_pred)\n",
    "    return model, tst_pred, error\n",
    "\n",
    "\n",
    "def fit_models(X, y, models, cv=False):\n",
    "    X = np.array(X.reset_index(drop=True))\n",
    "    y = np.array(y.reset_index(drop=True))\n",
    "    best_error = 10000\n",
    "    best_tst_pred = 0\n",
    "    best_model = \"\"\n",
    "    if cv==False:\n",
    "        X_train, X_test, y_train, y_test = train_test_split(X, y, test_size=0.3, shuffle=True,random_state=2021)\n",
    "        for m in models:\n",
    "            model, tst_pred, error = fit(X_train, X_test, y_train, y_test, m)\n",
    "            if best_error > error:\n",
    "                best_error = error\n",
    "                best_tst_pred = tst_pred\n",
    "                best_model = model\n",
    "    else:\n",
    "        best_tst_idx = []\n",
    "        kf = KFold(n_splits = 5, shuffle=True,random_state = 2021)\n",
    "        for m in models:\n",
    "            mae = []\n",
    "            pred= []\n",
    "            tst_idx = []\n",
    "            for train_index, test_index in kf.split(X, y):\n",
    "                X_train, X_test = X[train_index], X[test_index]\n",
    "                y_train, y_test = y[train_index], y[test_index]\n",
    "                model, tst_pred, error = fit(X_train, X_test, y_train, y_test, m)\n",
    "                mae.append(error)\n",
    "                pred.append(tst_pred.tolist())\n",
    "                tst_idx.append(test_index.tolist())\n",
    "            cv_error = np.mean(mae)\n",
    "            if best_error > cv_error:\n",
    "                best_error = cv_error\n",
    "                best_tst_pred = pred\n",
    "                best_tst_idx = sum(tst_idx, [])\n",
    "                best_model = model\n",
    "    best_tst_pred = sum(best_tst_pred,[])\n",
    "    best_tst_pred = dict(zip(best_tst_idx,best_tst_pred))\n",
    "    try:\n",
    "        best_model = best_model.fit(np.concatenate((X_train, X_test),axis=0), \n",
    "                                                np.concatenate((y_train, y_test),axis=0), \n",
    "                                                verbose=False)\n",
    "    except:\n",
    "        best_model = best_model.fit(np.concatenate((X_train, X_test),axis=0), \n",
    "                                        np.concatenate((y_train, y_test),axis=0))\n",
    "    return best_model, best_tst_pred, best_error"
   ]
  },
  {
   "cell_type": "markdown",
   "metadata": {},
   "source": [
    "### 1) train/test down"
   ]
  },
  {
   "cell_type": "code",
   "execution_count": 45,
   "metadata": {},
   "outputs": [],
   "source": [
    "X = train_down.drop(columns=['단지코드','등록차량수'],axis=1)\n",
    "X = pd.get_dummies(X, drop_first=True) \n",
    "X['지역_세종특별자치시'] = 0\n",
    "X = X[['총세대수', '공가수', '지하철역', '버스정류장', '단지내주차면수', '연면적', '위도', '경도',\n",
    "       'subway_dist', '환승역 수', '총인구수', '세대당_인구', '남/여비율', '남/여_0~19세',\n",
    "       '남/여_20~39세', '남/여_40~69세', '남/여_70세이상', '0~19세_비율', '20~39세_비율',\n",
    "       '40~69세_비율', '70세이상_비율', '상가비율', '세대당_가능주차면수', '공가비율', '국민임대', '영구임대',\n",
    "       '공공임대(단기)', '장기전세', '행복주택', '공공임대(분납)', '공공분양', '공공임대(50년)', '임대료',\n",
    "       '임대보증금', '대형전용면적', '지역_경기도', '지역_경상남도', '지역_경상북도', '지역_광주광역시',\n",
    "       '지역_대구광역시', '지역_대전광역시', '지역_부산광역시', '지역_서울특별시', '지역_세종특별자치시',\n",
    "       '지역_울산광역시', '지역_전라남도', '지역_전라북도', '지역_제주특별자치도', '지역_충청남도', '지역_충청북도']]\n",
    "y = train_down['등록차량수']"
   ]
  },
  {
   "cell_type": "code",
   "execution_count": 46,
   "metadata": {},
   "outputs": [
    {
     "name": "stdout",
     "output_type": "stream",
     "text": [
      "MAE :  105.69855840723085\n"
     ]
    }
   ],
   "source": [
    "models = [CatBoostRegressor(random_state=2021)]\n",
    "model_down,pred_down,error_down = fit_models(X, y, models, cv=True)\n",
    "print('MAE : ',error_down)"
   ]
  },
  {
   "cell_type": "code",
   "execution_count": 47,
   "metadata": {},
   "outputs": [
    {
     "data": {
      "text/plain": [
       "<matplotlib.axes._subplots.AxesSubplot at 0x2307012db50>"
      ]
     },
     "execution_count": 47,
     "metadata": {},
     "output_type": "execute_result"
    },
    {
     "data": {
      "image/png": "[encoded data removed]",
      "text/plain": [
       "<Figure size 576x720 with 1 Axes>"
      ]
     },
     "metadata": {
      "needs_background": "light"
     },
     "output_type": "display_data"
    }
   ],
   "source": [
    "plt.figure(figsize=(8,10))\n",
    "sns.barplot(y = X.columns[np.argsort(model_down.feature_importances_)], x = list(model_down.feature_importances_[np.argsort(model_down.feature_importances_)]))"
   ]
  },
  {
   "cell_type": "markdown",
   "metadata": {},
   "source": [
    "### 2) train/test up"
   ]
  },
  {
   "cell_type": "code",
   "execution_count": 48,
   "metadata": {},
   "outputs": [],
   "source": [
    "from sklearn.linear_model import LinearRegression, Lasso, ElasticNet, Ridge\n",
    "from sklearn.ensemble import RandomForestRegressor, GradientBoostingRegressor\n",
    "from sklearn.tree import DecisionTreeRegressor \n",
    "from xgboost import XGBRegressor\n",
    "from catboost import CatBoostRegressor\n",
    "import lightgbm as LGB\n",
    "from sklearn.cross_decomposition import PLSRegression\n",
    "from sklearn.svm import SVR"
   ]
  },
  {
   "cell_type": "code",
   "execution_count": 49,
   "metadata": {},
   "outputs": [
    {
     "name": "stdout",
     "output_type": "stream",
     "text": [
      "MAE :  270.73391846684234\n"
     ]
    }
   ],
   "source": [
    "X = train_up.drop(columns=['단지코드','등록차량수','지역','상가비율'],axis=1)\n",
    "X = X[['총세대수', '공가수', '지하철역', '버스정류장', '단지내주차면수', '연면적', '위도', '경도',\n",
    "       'subway_dist', '환승역 수', '총인구수', '세대당_인구', '남/여비율', '남/여_0~19세',\n",
    "       '남/여_20~39세', '남/여_40~69세', '남/여_70세이상', '0~19세_비율', '20~39세_비율',\n",
    "       '40~69세_비율', '70세이상_비율', '세대당_가능주차면수', '공가비율', '국민임대', '영구임대',\n",
    "       '공공임대(단기)', '장기전세', '행복주택', '공공임대(분납)', '공공분양', '공공임대(50년)', '임대료',\n",
    "       '임대보증금', '대형전용면적', 'area_0', 'area_1', 'area_2','area_3', 'area_4', 'area_5']]\n",
    "y = train_up['등록차량수']\n",
    "\n",
    "models = [LinearRegression(), \n",
    "          PLSRegression(), \n",
    "          Ridge(random_state=2021),\n",
    "          Lasso(random_state=2021), \n",
    "          ElasticNet(random_state=2021),\n",
    "          SVR(),\n",
    "          CatBoostRegressor(random_state=2021, loss_function = 'MAE'),\n",
    "          RandomForestRegressor(criterion=\"mae\",random_state=2021),\n",
    "          GradientBoostingRegressor(criterion=\"mae\",random_state=2021),\n",
    "          XGBRegressor(random_state=2021)]\n",
    "\n",
    "model_up,pred_up,error_up = fit_models(X, y, models, cv=True)\n",
    "print('MAE : ',error_up)"
   ]
  },
  {
   "cell_type": "code",
   "execution_count": 50,
   "metadata": {},
   "outputs": [
    {
     "name": "stdout",
     "output_type": "stream",
     "text": [
      "<catboost.core.CatBoostRegressor object at 0x00000230730AA820>\n"
     ]
    }
   ],
   "source": [
    "print(model_up)"
   ]
  },
  {
   "cell_type": "code",
   "execution_count": 51,
   "metadata": {},
   "outputs": [
    {
     "data": {
      "text/plain": [
       "<matplotlib.axes._subplots.AxesSubplot at 0x23076157fa0>"
      ]
     },
     "execution_count": 51,
     "metadata": {},
     "output_type": "execute_result"
    },
    {
     "data": {
      "image/png": "[encoded data removed]",
      "text/plain": [
       "<Figure size 576x720 with 1 Axes>"
      ]
     },
     "metadata": {
      "needs_background": "light"
     },
     "output_type": "display_data"
    }
   ],
   "source": [
    "plt.figure(figsize=(8,10))\n",
    "sns.barplot(y = X.columns[np.argsort(model_up.feature_importances_)], x = list(model_up.feature_importances_[np.argsort(model_up.feature_importances_)]))"
   ]
  },
  {
   "cell_type": "code",
   "execution_count": 52,
   "metadata": {},
   "outputs": [
    {
     "data": {
      "text/plain": [
       "127.8085587979922"
      ]
     },
     "execution_count": 52,
     "metadata": {},
     "output_type": "execute_result"
    }
   ],
   "source": [
    "(error_down*train_down.shape[0]+error_up*train_up.shape[0])/(train_down.shape[0]+train_up.shape[0])"
   ]
  },
  {
   "cell_type": "markdown",
   "metadata": {},
   "source": [
    "## 4. Final prediction"
   ]
  },
  {
   "cell_type": "code",
   "execution_count": 42,
   "metadata": {},
   "outputs": [],
   "source": [
    "col = ['총세대수', '공가수', '지하철역', '버스정류장', '단지내주차면수', '연면적', '위도', '경도',\n",
    "       'subway_dist', '환승역 수', '총인구수', '세대당_인구', '남/여비율', '남/여_0~19세',\n",
    "       '남/여_20~39세', '남/여_40~69세', '남/여_70세이상', '0~19세_비율', '20~39세_비율',\n",
    "       '40~69세_비율', '70세이상_비율', '상가비율', '세대당_가능주차면수', '공가비율', '국민임대', '영구임대',\n",
    "       '공공임대(단기)', '장기전세', '행복주택', '공공임대(분납)', '공공분양', '공공임대(50년)', '임대료',\n",
    "       '임대보증금', '대형전용면적', '지역_경기도', '지역_경상남도', '지역_경상북도', '지역_광주광역시',\n",
    "       '지역_대구광역시', '지역_대전광역시', '지역_부산광역시', '지역_서울특별시', '지역_세종특별자치시',\n",
    "       '지역_울산광역시', '지역_전라남도', '지역_전라북도', '지역_제주특별자치도', '지역_충청남도', '지역_충청북도']"
   ]
  },
  {
   "cell_type": "code",
   "execution_count": 43,
   "metadata": {},
   "outputs": [],
   "source": [
    "X_train = train_down.drop(columns=['단지코드','등록차량수'],axis=1)\n",
    "X_train = pd.get_dummies(X_train, drop_first=True) \n",
    "X_train['지역_세종특별자치시'] = 0\n",
    "X_train = X_train[col]\n",
    "y_train = train_down['등록차량수']\n",
    "X_test = test_down.drop(columns=['단지코드'],axis=1)\n",
    "X_test = pd.get_dummies(X_test, drop_first=True) \n",
    "X_test['지역_서울특별시'] = 0\n",
    "X_test = X_test[col]"
   ]
  },
  {
   "cell_type": "code",
   "execution_count": 46,
   "metadata": {},
   "outputs": [],
   "source": [
    "cb_down = CatBoostRegressor(random_state=2021,verbose=False).fit(X_train,y_train)\n",
    "pred_down = cb_down.predict(X_test)"
   ]
  },
  {
   "cell_type": "code",
   "execution_count": 34,
   "metadata": {},
   "outputs": [],
   "source": [
    "col = ['총세대수', '공가수', '지하철역', '버스정류장', '단지내주차면수', '연면적', '위도', '경도',\n",
    "       'subway_dist', '환승역 수',  '총인구수','세대당_인구','남/여비율', '남/여_0~19세',\n",
    "       '남/여_20~39세', '남/여_40~69세', '남/여_70세이상', '0~19세_비율', '20~39세_비율',\n",
    "       '40~69세_비율', '70세이상_비율', '세대당_가능주차면수', '공가비율', '국민임대', '영구임대',\n",
    "       '공공임대(단기)', '장기전세', '행복주택', '공공임대(분납)', '공공분양', '공공임대(50년)', '임대료',\n",
    "       '임대보증금', '대형전용면적', 'area_0', 'area_1', 'area_2','area_3', 'area_4', 'area_5'] # '총인구수',"
   ]
  },
  {
   "cell_type": "code",
   "execution_count": 35,
   "metadata": {},
   "outputs": [
    {
     "name": "stdout",
     "output_type": "stream",
     "text": [
      "0:\tlearn: 346.7369634\ttotal: 163ms\tremaining: 2m 42s\n",
      "1:\tlearn: 343.0003404\ttotal: 167ms\tremaining: 1m 23s\n",
      "2:\tlearn: 336.3672514\ttotal: 172ms\tremaining: 57.1s\n",
      "3:\tlearn: 330.8345777\ttotal: 176ms\tremaining: 43.8s\n",
      "4:\tlearn: 322.0134905\ttotal: 181ms\tremaining: 35.9s\n",
      "5:\tlearn: 316.7427663\ttotal: 185ms\tremaining: 30.6s\n",
      "6:\tlearn: 310.0952584\ttotal: 189ms\tremaining: 26.9s\n",
      "7:\tlearn: 304.8319436\ttotal: 194ms\tremaining: 24.1s\n",
      "8:\tlearn: 300.3557224\ttotal: 199ms\tremaining: 21.9s\n",
      "9:\tlearn: 293.3687119\ttotal: 203ms\tremaining: 20.1s\n",
      "10:\tlearn: 288.3799457\ttotal: 207ms\tremaining: 18.6s\n",
      "11:\tlearn: 283.1050633\ttotal: 212ms\tremaining: 17.4s\n",
      "12:\tlearn: 277.9628340\ttotal: 216ms\tremaining: 16.4s\n",
      "13:\tlearn: 272.2403362\ttotal: 221ms\tremaining: 15.6s\n",
      "14:\tlearn: 268.5359630\ttotal: 226ms\tremaining: 14.8s\n",
      "15:\tlearn: 264.5784325\ttotal: 230ms\tremaining: 14.2s\n",
      "16:\tlearn: 261.0620004\ttotal: 235ms\tremaining: 13.6s\n",
      "17:\tlearn: 256.8163942\ttotal: 239ms\tremaining: 13.1s\n",
      "18:\tlearn: 252.4870680\ttotal: 244ms\tremaining: 12.6s\n",
      "19:\tlearn: 246.9938785\ttotal: 248ms\tremaining: 12.2s\n",
      "20:\tlearn: 242.9809775\ttotal: 253ms\tremaining: 11.8s\n",
      "21:\tlearn: 239.2652348\ttotal: 258ms\tremaining: 11.5s\n",
      "22:\tlearn: 235.4178903\ttotal: 262ms\tremaining: 11.1s\n",
      "23:\tlearn: 232.1858578\ttotal: 267ms\tremaining: 10.8s\n",
      "24:\tlearn: 228.8001912\ttotal: 270ms\tremaining: 10.5s\n",
      "25:\tlearn: 225.2492899\ttotal: 275ms\tremaining: 10.3s\n",
      "26:\tlearn: 221.6077715\ttotal: 279ms\tremaining: 10s\n",
      "27:\tlearn: 216.6591508\ttotal: 283ms\tremaining: 9.82s\n",
      "28:\tlearn: 212.1320766\ttotal: 287ms\tremaining: 9.62s\n",
      "29:\tlearn: 209.2182673\ttotal: 292ms\tremaining: 9.43s\n",
      "30:\tlearn: 205.8947509\ttotal: 296ms\tremaining: 9.24s\n",
      "31:\tlearn: 200.5981917\ttotal: 300ms\tremaining: 9.07s\n",
      "32:\tlearn: 196.0551531\ttotal: 304ms\tremaining: 8.91s\n",
      "33:\tlearn: 192.6805390\ttotal: 308ms\tremaining: 8.74s\n",
      "34:\tlearn: 190.3186613\ttotal: 312ms\tremaining: 8.6s\n",
      "35:\tlearn: 188.2332342\ttotal: 316ms\tremaining: 8.46s\n",
      "36:\tlearn: 186.0713183\ttotal: 320ms\tremaining: 8.33s\n",
      "37:\tlearn: 183.7739836\ttotal: 325ms\tremaining: 8.22s\n",
      "38:\tlearn: 181.4395073\ttotal: 329ms\tremaining: 8.11s\n",
      "39:\tlearn: 178.1705549\ttotal: 334ms\tremaining: 8.01s\n",
      "40:\tlearn: 175.6546757\ttotal: 339ms\tremaining: 7.92s\n",
      "41:\tlearn: 172.0841896\ttotal: 343ms\tremaining: 7.82s\n",
      "42:\tlearn: 169.9074752\ttotal: 347ms\tremaining: 7.72s\n",
      "43:\tlearn: 167.7156748\ttotal: 351ms\tremaining: 7.63s\n",
      "44:\tlearn: 165.2896869\ttotal: 355ms\tremaining: 7.53s\n",
      "45:\tlearn: 162.3974527\ttotal: 360ms\tremaining: 7.46s\n",
      "46:\tlearn: 160.6686024\ttotal: 365ms\tremaining: 7.4s\n",
      "47:\tlearn: 158.0411841\ttotal: 370ms\tremaining: 7.33s\n",
      "48:\tlearn: 154.5729553\ttotal: 374ms\tremaining: 7.27s\n",
      "49:\tlearn: 152.8784828\ttotal: 379ms\tremaining: 7.21s\n",
      "50:\tlearn: 150.8091120\ttotal: 384ms\tremaining: 7.14s\n",
      "51:\tlearn: 148.5840748\ttotal: 387ms\tremaining: 7.06s\n",
      "52:\tlearn: 147.0490528\ttotal: 391ms\tremaining: 6.99s\n",
      "53:\tlearn: 144.5432603\ttotal: 395ms\tremaining: 6.93s\n",
      "54:\tlearn: 141.3682131\ttotal: 400ms\tremaining: 6.87s\n",
      "55:\tlearn: 139.3684954\ttotal: 404ms\tremaining: 6.8s\n",
      "56:\tlearn: 137.6259147\ttotal: 408ms\tremaining: 6.75s\n",
      "57:\tlearn: 136.4466867\ttotal: 412ms\tremaining: 6.68s\n",
      "58:\tlearn: 133.6225300\ttotal: 415ms\tremaining: 6.63s\n",
      "59:\tlearn: 131.1986447\ttotal: 420ms\tremaining: 6.57s\n",
      "60:\tlearn: 129.2223780\ttotal: 424ms\tremaining: 6.52s\n",
      "61:\tlearn: 126.9556201\ttotal: 427ms\tremaining: 6.46s\n",
      "62:\tlearn: 124.9533814\ttotal: 431ms\tremaining: 6.42s\n",
      "63:\tlearn: 122.8555735\ttotal: 436ms\tremaining: 6.37s\n",
      "64:\tlearn: 120.8573015\ttotal: 440ms\tremaining: 6.33s\n",
      "65:\tlearn: 118.4707045\ttotal: 444ms\tremaining: 6.28s\n",
      "66:\tlearn: 116.3245213\ttotal: 448ms\tremaining: 6.24s\n",
      "67:\tlearn: 115.3394976\ttotal: 452ms\tremaining: 6.19s\n",
      "68:\tlearn: 113.6101890\ttotal: 455ms\tremaining: 6.14s\n",
      "69:\tlearn: 112.2906173\ttotal: 459ms\tremaining: 6.1s\n",
      "70:\tlearn: 110.8766721\ttotal: 463ms\tremaining: 6.05s\n",
      "71:\tlearn: 109.3186591\ttotal: 467ms\tremaining: 6.02s\n",
      "72:\tlearn: 108.4622739\ttotal: 472ms\tremaining: 5.99s\n",
      "73:\tlearn: 107.0096388\ttotal: 476ms\tremaining: 5.96s\n",
      "74:\tlearn: 105.9201443\ttotal: 480ms\tremaining: 5.92s\n",
      "75:\tlearn: 104.6219603\ttotal: 484ms\tremaining: 5.89s\n",
      "76:\tlearn: 102.8128898\ttotal: 489ms\tremaining: 5.86s\n",
      "77:\tlearn: 101.5265513\ttotal: 493ms\tremaining: 5.82s\n",
      "78:\tlearn: 100.4560963\ttotal: 497ms\tremaining: 5.8s\n",
      "79:\tlearn: 98.7540895\ttotal: 501ms\tremaining: 5.76s\n",
      "80:\tlearn: 97.7720806\ttotal: 506ms\tremaining: 5.74s\n",
      "81:\tlearn: 96.4914741\ttotal: 510ms\tremaining: 5.71s\n",
      "82:\tlearn: 95.3993269\ttotal: 515ms\tremaining: 5.68s\n",
      "83:\tlearn: 94.1260991\ttotal: 518ms\tremaining: 5.65s\n",
      "84:\tlearn: 92.7857605\ttotal: 522ms\tremaining: 5.62s\n",
      "85:\tlearn: 91.8970318\ttotal: 526ms\tremaining: 5.59s\n",
      "86:\tlearn: 90.8108920\ttotal: 530ms\tremaining: 5.56s\n",
      "87:\tlearn: 89.7556504\ttotal: 534ms\tremaining: 5.53s\n",
      "88:\tlearn: 89.1105339\ttotal: 538ms\tremaining: 5.5s\n",
      "89:\tlearn: 88.2393951\ttotal: 542ms\tremaining: 5.48s\n",
      "90:\tlearn: 86.5553104\ttotal: 546ms\tremaining: 5.45s\n",
      "91:\tlearn: 85.2818513\ttotal: 549ms\tremaining: 5.42s\n",
      "92:\tlearn: 84.4516315\ttotal: 553ms\tremaining: 5.4s\n",
      "93:\tlearn: 83.5743175\ttotal: 557ms\tremaining: 5.37s\n",
      "94:\tlearn: 82.1025865\ttotal: 561ms\tremaining: 5.35s\n",
      "95:\tlearn: 81.6130973\ttotal: 565ms\tremaining: 5.32s\n",
      "96:\tlearn: 81.1604773\ttotal: 569ms\tremaining: 5.29s\n",
      "97:\tlearn: 80.3974814\ttotal: 573ms\tremaining: 5.27s\n",
      "98:\tlearn: 79.0582697\ttotal: 577ms\tremaining: 5.25s\n",
      "99:\tlearn: 78.0858882\ttotal: 582ms\tremaining: 5.23s\n",
      "100:\tlearn: 77.3358602\ttotal: 586ms\tremaining: 5.21s\n",
      "101:\tlearn: 75.7796191\ttotal: 590ms\tremaining: 5.19s\n",
      "102:\tlearn: 74.7922053\ttotal: 594ms\tremaining: 5.18s\n",
      "103:\tlearn: 73.9667466\ttotal: 599ms\tremaining: 5.16s\n",
      "104:\tlearn: 73.2793889\ttotal: 603ms\tremaining: 5.14s\n",
      "105:\tlearn: 72.5765474\ttotal: 608ms\tremaining: 5.13s\n",
      "106:\tlearn: 71.8795103\ttotal: 613ms\tremaining: 5.11s\n",
      "107:\tlearn: 71.5763154\ttotal: 618ms\tremaining: 5.1s\n",
      "108:\tlearn: 71.2074848\ttotal: 623ms\tremaining: 5.09s\n",
      "109:\tlearn: 70.5433078\ttotal: 627ms\tremaining: 5.08s\n",
      "110:\tlearn: 69.7063234\ttotal: 632ms\tremaining: 5.06s\n",
      "111:\tlearn: 69.1837575\ttotal: 636ms\tremaining: 5.04s\n",
      "112:\tlearn: 68.5507207\ttotal: 640ms\tremaining: 5.02s\n",
      "113:\tlearn: 67.8924066\ttotal: 644ms\tremaining: 5.01s\n",
      "114:\tlearn: 67.3648273\ttotal: 648ms\tremaining: 4.99s\n",
      "115:\tlearn: 66.9223801\ttotal: 653ms\tremaining: 4.98s\n",
      "116:\tlearn: 66.0730269\ttotal: 658ms\tremaining: 4.96s\n",
      "117:\tlearn: 65.4717948\ttotal: 662ms\tremaining: 4.95s\n",
      "118:\tlearn: 64.7865558\ttotal: 666ms\tremaining: 4.93s\n",
      "119:\tlearn: 63.9288628\ttotal: 671ms\tremaining: 4.92s\n",
      "120:\tlearn: 62.9674301\ttotal: 675ms\tremaining: 4.91s\n",
      "121:\tlearn: 62.4189858\ttotal: 680ms\tremaining: 4.89s\n",
      "122:\tlearn: 61.4439929\ttotal: 686ms\tremaining: 4.89s\n",
      "123:\tlearn: 60.6654461\ttotal: 691ms\tremaining: 4.88s\n",
      "124:\tlearn: 59.9508962\ttotal: 697ms\tremaining: 4.88s\n",
      "125:\tlearn: 59.3907632\ttotal: 702ms\tremaining: 4.87s\n",
      "126:\tlearn: 58.3734718\ttotal: 707ms\tremaining: 4.86s\n",
      "127:\tlearn: 57.8287238\ttotal: 712ms\tremaining: 4.85s\n",
      "128:\tlearn: 57.4273204\ttotal: 716ms\tremaining: 4.83s\n",
      "129:\tlearn: 56.5949252\ttotal: 722ms\tremaining: 4.83s\n",
      "130:\tlearn: 55.6955079\ttotal: 726ms\tremaining: 4.82s\n",
      "131:\tlearn: 54.8195147\ttotal: 731ms\tremaining: 4.8s\n",
      "132:\tlearn: 54.2973481\ttotal: 737ms\tremaining: 4.81s\n",
      "133:\tlearn: 53.8969035\ttotal: 742ms\tremaining: 4.79s\n",
      "134:\tlearn: 53.3416224\ttotal: 747ms\tremaining: 4.79s\n",
      "135:\tlearn: 52.4451530\ttotal: 752ms\tremaining: 4.78s\n",
      "136:\tlearn: 52.2579318\ttotal: 756ms\tremaining: 4.76s\n",
      "137:\tlearn: 51.7526158\ttotal: 763ms\tremaining: 4.76s\n",
      "138:\tlearn: 51.0597421\ttotal: 767ms\tremaining: 4.75s\n",
      "139:\tlearn: 50.6191500\ttotal: 773ms\tremaining: 4.75s\n",
      "140:\tlearn: 49.7762310\ttotal: 777ms\tremaining: 4.73s\n",
      "141:\tlearn: 49.3455932\ttotal: 781ms\tremaining: 4.72s\n",
      "142:\tlearn: 48.7822119\ttotal: 786ms\tremaining: 4.71s\n",
      "143:\tlearn: 48.2892163\ttotal: 790ms\tremaining: 4.69s\n",
      "144:\tlearn: 47.9565576\ttotal: 793ms\tremaining: 4.68s\n",
      "145:\tlearn: 47.5540591\ttotal: 797ms\tremaining: 4.66s\n",
      "146:\tlearn: 47.1877500\ttotal: 802ms\tremaining: 4.65s\n",
      "147:\tlearn: 46.8492680\ttotal: 806ms\tremaining: 4.64s\n",
      "148:\tlearn: 45.9356116\ttotal: 810ms\tremaining: 4.63s\n",
      "149:\tlearn: 45.2735587\ttotal: 814ms\tremaining: 4.61s\n",
      "150:\tlearn: 44.7524363\ttotal: 818ms\tremaining: 4.6s\n",
      "151:\tlearn: 43.7724665\ttotal: 822ms\tremaining: 4.59s\n",
      "152:\tlearn: 42.7214880\ttotal: 826ms\tremaining: 4.57s\n",
      "153:\tlearn: 42.3535932\ttotal: 830ms\tremaining: 4.56s\n",
      "154:\tlearn: 41.7106008\ttotal: 835ms\tremaining: 4.55s\n",
      "155:\tlearn: 41.3034165\ttotal: 839ms\tremaining: 4.54s\n",
      "156:\tlearn: 40.9117527\ttotal: 843ms\tremaining: 4.53s\n",
      "157:\tlearn: 40.2400958\ttotal: 848ms\tremaining: 4.52s\n",
      "158:\tlearn: 39.8198492\ttotal: 852ms\tremaining: 4.51s\n",
      "159:\tlearn: 39.0981708\ttotal: 858ms\tremaining: 4.5s\n",
      "160:\tlearn: 38.5940216\ttotal: 862ms\tremaining: 4.49s\n",
      "161:\tlearn: 38.2177523\ttotal: 867ms\tremaining: 4.49s\n",
      "162:\tlearn: 37.9733606\ttotal: 872ms\tremaining: 4.48s\n",
      "163:\tlearn: 37.6015808\ttotal: 877ms\tremaining: 4.47s\n",
      "164:\tlearn: 37.2791413\ttotal: 882ms\tremaining: 4.46s\n",
      "165:\tlearn: 37.1198460\ttotal: 887ms\tremaining: 4.45s\n",
      "166:\tlearn: 36.6667254\ttotal: 891ms\tremaining: 4.45s\n",
      "167:\tlearn: 36.4490778\ttotal: 896ms\tremaining: 4.43s\n",
      "168:\tlearn: 36.0090340\ttotal: 900ms\tremaining: 4.42s\n",
      "169:\tlearn: 35.8623235\ttotal: 904ms\tremaining: 4.41s\n"
     ]
    },
    {
     "name": "stdout",
     "output_type": "stream",
     "text": [
      "170:\tlearn: 35.4602228\ttotal: 910ms\tremaining: 4.41s\n",
      "171:\tlearn: 35.2438292\ttotal: 915ms\tremaining: 4.41s\n",
      "172:\tlearn: 34.9510803\ttotal: 920ms\tremaining: 4.4s\n",
      "173:\tlearn: 34.7107020\ttotal: 924ms\tremaining: 4.39s\n",
      "174:\tlearn: 34.3009424\ttotal: 929ms\tremaining: 4.38s\n",
      "175:\tlearn: 34.0281258\ttotal: 933ms\tremaining: 4.37s\n",
      "176:\tlearn: 33.7360548\ttotal: 937ms\tremaining: 4.36s\n",
      "177:\tlearn: 33.5755197\ttotal: 943ms\tremaining: 4.35s\n",
      "178:\tlearn: 33.3890735\ttotal: 947ms\tremaining: 4.34s\n",
      "179:\tlearn: 33.1584078\ttotal: 950ms\tremaining: 4.33s\n",
      "180:\tlearn: 32.7922955\ttotal: 954ms\tremaining: 4.32s\n",
      "181:\tlearn: 32.5462989\ttotal: 957ms\tremaining: 4.3s\n",
      "182:\tlearn: 32.3042375\ttotal: 959ms\tremaining: 4.28s\n",
      "183:\tlearn: 32.0188840\ttotal: 962ms\tremaining: 4.26s\n",
      "184:\tlearn: 31.6755216\ttotal: 964ms\tremaining: 4.25s\n",
      "185:\tlearn: 31.4367349\ttotal: 967ms\tremaining: 4.23s\n",
      "186:\tlearn: 31.1229546\ttotal: 970ms\tremaining: 4.21s\n",
      "187:\tlearn: 30.6460351\ttotal: 972ms\tremaining: 4.2s\n",
      "188:\tlearn: 30.4100153\ttotal: 974ms\tremaining: 4.18s\n",
      "189:\tlearn: 30.0129085\ttotal: 977ms\tremaining: 4.17s\n",
      "190:\tlearn: 29.8012153\ttotal: 980ms\tremaining: 4.15s\n",
      "191:\tlearn: 29.6582226\ttotal: 982ms\tremaining: 4.13s\n",
      "192:\tlearn: 29.3572958\ttotal: 984ms\tremaining: 4.11s\n",
      "193:\tlearn: 28.7721682\ttotal: 986ms\tremaining: 4.1s\n",
      "194:\tlearn: 28.3092925\ttotal: 989ms\tremaining: 4.08s\n",
      "195:\tlearn: 27.9698355\ttotal: 991ms\tremaining: 4.06s\n",
      "196:\tlearn: 27.4810055\ttotal: 994ms\tremaining: 4.05s\n",
      "197:\tlearn: 27.3558752\ttotal: 996ms\tremaining: 4.03s\n",
      "198:\tlearn: 27.1595418\ttotal: 998ms\tremaining: 4.02s\n",
      "199:\tlearn: 26.7162434\ttotal: 1000ms\tremaining: 4s\n",
      "200:\tlearn: 26.2878089\ttotal: 1s\tremaining: 3.98s\n",
      "201:\tlearn: 26.1545152\ttotal: 1s\tremaining: 3.97s\n",
      "202:\tlearn: 26.0489402\ttotal: 1.01s\tremaining: 3.95s\n",
      "203:\tlearn: 25.6916644\ttotal: 1.01s\tremaining: 3.94s\n",
      "204:\tlearn: 25.2331296\ttotal: 1.01s\tremaining: 3.92s\n",
      "205:\tlearn: 25.0427600\ttotal: 1.01s\tremaining: 3.9s\n",
      "206:\tlearn: 24.8716527\ttotal: 1.01s\tremaining: 3.89s\n",
      "207:\tlearn: 24.6866547\ttotal: 1.02s\tremaining: 3.88s\n",
      "208:\tlearn: 24.3989559\ttotal: 1.02s\tremaining: 3.86s\n",
      "209:\tlearn: 23.9623061\ttotal: 1.02s\tremaining: 3.85s\n",
      "210:\tlearn: 23.7538001\ttotal: 1.02s\tremaining: 3.83s\n",
      "211:\tlearn: 23.6412302\ttotal: 1.03s\tremaining: 3.81s\n",
      "212:\tlearn: 23.3744164\ttotal: 1.03s\tremaining: 3.8s\n",
      "213:\tlearn: 23.0568208\ttotal: 1.03s\tremaining: 3.79s\n",
      "214:\tlearn: 22.9905053\ttotal: 1.03s\tremaining: 3.77s\n",
      "215:\tlearn: 22.7285242\ttotal: 1.03s\tremaining: 3.76s\n",
      "216:\tlearn: 22.6282879\ttotal: 1.04s\tremaining: 3.75s\n",
      "217:\tlearn: 22.5797815\ttotal: 1.04s\tremaining: 3.73s\n",
      "218:\tlearn: 22.4549165\ttotal: 1.04s\tremaining: 3.72s\n",
      "219:\tlearn: 22.0258234\ttotal: 1.05s\tremaining: 3.71s\n",
      "220:\tlearn: 21.8036091\ttotal: 1.05s\tremaining: 3.7s\n",
      "221:\tlearn: 21.6662694\ttotal: 1.05s\tremaining: 3.69s\n",
      "222:\tlearn: 21.3502484\ttotal: 1.05s\tremaining: 3.67s\n",
      "223:\tlearn: 21.2000350\ttotal: 1.06s\tremaining: 3.66s\n",
      "224:\tlearn: 21.0667790\ttotal: 1.06s\tremaining: 3.65s\n",
      "225:\tlearn: 20.6985231\ttotal: 1.06s\tremaining: 3.63s\n",
      "226:\tlearn: 20.4334290\ttotal: 1.06s\tremaining: 3.62s\n",
      "227:\tlearn: 20.1314053\ttotal: 1.07s\tremaining: 3.61s\n",
      "228:\tlearn: 19.8920811\ttotal: 1.07s\tremaining: 3.6s\n",
      "229:\tlearn: 19.7161355\ttotal: 1.07s\tremaining: 3.59s\n",
      "230:\tlearn: 19.5716758\ttotal: 1.07s\tremaining: 3.58s\n",
      "231:\tlearn: 19.4662905\ttotal: 1.08s\tremaining: 3.57s\n",
      "232:\tlearn: 19.4202466\ttotal: 1.08s\tremaining: 3.55s\n",
      "233:\tlearn: 19.3410193\ttotal: 1.08s\tremaining: 3.54s\n",
      "234:\tlearn: 18.9269724\ttotal: 1.08s\tremaining: 3.53s\n",
      "235:\tlearn: 18.8013963\ttotal: 1.09s\tremaining: 3.52s\n",
      "236:\tlearn: 18.7539139\ttotal: 1.09s\tremaining: 3.5s\n",
      "237:\tlearn: 18.5674585\ttotal: 1.09s\tremaining: 3.49s\n",
      "238:\tlearn: 18.1719293\ttotal: 1.09s\tremaining: 3.48s\n",
      "239:\tlearn: 17.8826957\ttotal: 1.1s\tremaining: 3.47s\n",
      "240:\tlearn: 17.7688479\ttotal: 1.1s\tremaining: 3.46s\n",
      "241:\tlearn: 17.4965260\ttotal: 1.1s\tremaining: 3.45s\n",
      "242:\tlearn: 17.4005550\ttotal: 1.1s\tremaining: 3.44s\n",
      "243:\tlearn: 17.2465025\ttotal: 1.1s\tremaining: 3.42s\n",
      "244:\tlearn: 17.1304079\ttotal: 1.11s\tremaining: 3.41s\n",
      "245:\tlearn: 16.9187369\ttotal: 1.11s\tremaining: 3.4s\n",
      "246:\tlearn: 16.6071154\ttotal: 1.11s\tremaining: 3.39s\n",
      "247:\tlearn: 16.5205848\ttotal: 1.11s\tremaining: 3.38s\n",
      "248:\tlearn: 16.3008631\ttotal: 1.12s\tremaining: 3.37s\n",
      "249:\tlearn: 16.2030584\ttotal: 1.12s\tremaining: 3.36s\n",
      "250:\tlearn: 16.0171756\ttotal: 1.12s\tremaining: 3.34s\n",
      "251:\tlearn: 15.9256434\ttotal: 1.12s\tremaining: 3.33s\n",
      "252:\tlearn: 15.8041501\ttotal: 1.13s\tremaining: 3.32s\n",
      "253:\tlearn: 15.6363262\ttotal: 1.13s\tremaining: 3.31s\n",
      "254:\tlearn: 15.6051441\ttotal: 1.13s\tremaining: 3.3s\n",
      "255:\tlearn: 15.5551536\ttotal: 1.13s\tremaining: 3.29s\n",
      "256:\tlearn: 15.4129623\ttotal: 1.13s\tremaining: 3.28s\n",
      "257:\tlearn: 15.2684867\ttotal: 1.14s\tremaining: 3.27s\n",
      "258:\tlearn: 15.2022581\ttotal: 1.14s\tremaining: 3.26s\n",
      "259:\tlearn: 15.0944308\ttotal: 1.14s\tremaining: 3.25s\n",
      "260:\tlearn: 14.9471686\ttotal: 1.14s\tremaining: 3.23s\n",
      "261:\tlearn: 14.9001838\ttotal: 1.14s\tremaining: 3.22s\n",
      "262:\tlearn: 14.7000456\ttotal: 1.15s\tremaining: 3.21s\n",
      "263:\tlearn: 14.5849085\ttotal: 1.15s\tremaining: 3.2s\n",
      "264:\tlearn: 14.5224206\ttotal: 1.15s\tremaining: 3.19s\n",
      "265:\tlearn: 14.3010221\ttotal: 1.15s\tremaining: 3.18s\n",
      "266:\tlearn: 14.1464509\ttotal: 1.15s\tremaining: 3.17s\n",
      "267:\tlearn: 13.8091933\ttotal: 1.16s\tremaining: 3.16s\n",
      "268:\tlearn: 13.6786839\ttotal: 1.16s\tremaining: 3.15s\n",
      "269:\tlearn: 13.5881357\ttotal: 1.16s\tremaining: 3.14s\n",
      "270:\tlearn: 13.5258790\ttotal: 1.16s\tremaining: 3.13s\n",
      "271:\tlearn: 13.4257591\ttotal: 1.17s\tremaining: 3.12s\n",
      "272:\tlearn: 13.2640393\ttotal: 1.17s\tremaining: 3.11s\n",
      "273:\tlearn: 13.0536364\ttotal: 1.17s\tremaining: 3.1s\n",
      "274:\tlearn: 12.9669838\ttotal: 1.17s\tremaining: 3.09s\n",
      "275:\tlearn: 12.9229221\ttotal: 1.17s\tremaining: 3.08s\n",
      "276:\tlearn: 12.7614855\ttotal: 1.18s\tremaining: 3.07s\n",
      "277:\tlearn: 12.5142981\ttotal: 1.18s\tremaining: 3.06s\n",
      "278:\tlearn: 12.3892801\ttotal: 1.18s\tremaining: 3.05s\n",
      "279:\tlearn: 12.3131728\ttotal: 1.18s\tremaining: 3.04s\n",
      "280:\tlearn: 12.2968128\ttotal: 1.19s\tremaining: 3.03s\n",
      "281:\tlearn: 12.2462401\ttotal: 1.19s\tremaining: 3.02s\n",
      "282:\tlearn: 12.1678426\ttotal: 1.19s\tremaining: 3.01s\n",
      "283:\tlearn: 12.0765408\ttotal: 1.19s\tremaining: 3s\n",
      "284:\tlearn: 11.9777601\ttotal: 1.19s\tremaining: 3s\n",
      "285:\tlearn: 11.7761140\ttotal: 1.2s\tremaining: 2.99s\n",
      "286:\tlearn: 11.7001954\ttotal: 1.2s\tremaining: 2.98s\n",
      "287:\tlearn: 11.6402249\ttotal: 1.2s\tremaining: 2.97s\n",
      "288:\tlearn: 11.5110880\ttotal: 1.2s\tremaining: 2.96s\n",
      "289:\tlearn: 11.3858251\ttotal: 1.21s\tremaining: 2.95s\n",
      "290:\tlearn: 11.2654553\ttotal: 1.21s\tremaining: 2.94s\n",
      "291:\tlearn: 11.1594533\ttotal: 1.21s\tremaining: 2.94s\n",
      "292:\tlearn: 11.1219926\ttotal: 1.21s\tremaining: 2.93s\n",
      "293:\tlearn: 11.0713768\ttotal: 1.22s\tremaining: 2.92s\n",
      "294:\tlearn: 10.9724414\ttotal: 1.22s\tremaining: 2.91s\n",
      "295:\tlearn: 10.9125612\ttotal: 1.22s\tremaining: 2.9s\n",
      "296:\tlearn: 10.8005849\ttotal: 1.22s\tremaining: 2.9s\n",
      "297:\tlearn: 10.7457519\ttotal: 1.23s\tremaining: 2.89s\n",
      "298:\tlearn: 10.6858968\ttotal: 1.23s\tremaining: 2.88s\n",
      "299:\tlearn: 10.5448345\ttotal: 1.23s\tremaining: 2.87s\n",
      "300:\tlearn: 10.5037957\ttotal: 1.23s\tremaining: 2.86s\n",
      "301:\tlearn: 10.3730723\ttotal: 1.24s\tremaining: 2.85s\n",
      "302:\tlearn: 10.3398003\ttotal: 1.24s\tremaining: 2.85s\n",
      "303:\tlearn: 10.2733182\ttotal: 1.24s\tremaining: 2.84s\n",
      "304:\tlearn: 10.1192804\ttotal: 1.24s\tremaining: 2.83s\n",
      "305:\tlearn: 10.0793412\ttotal: 1.24s\tremaining: 2.82s\n",
      "306:\tlearn: 9.9068213\ttotal: 1.25s\tremaining: 2.81s\n",
      "307:\tlearn: 9.8161870\ttotal: 1.25s\tremaining: 2.8s\n",
      "308:\tlearn: 9.8092693\ttotal: 1.25s\tremaining: 2.79s\n",
      "309:\tlearn: 9.7676905\ttotal: 1.25s\tremaining: 2.79s\n",
      "310:\tlearn: 9.6021231\ttotal: 1.25s\tremaining: 2.78s\n",
      "311:\tlearn: 9.5606804\ttotal: 1.25s\tremaining: 2.77s\n",
      "312:\tlearn: 9.5391859\ttotal: 1.26s\tremaining: 2.76s\n",
      "313:\tlearn: 9.5261496\ttotal: 1.26s\tremaining: 2.75s\n",
      "314:\tlearn: 9.5043620\ttotal: 1.26s\tremaining: 2.74s\n",
      "315:\tlearn: 9.4911443\ttotal: 1.26s\tremaining: 2.74s\n",
      "316:\tlearn: 9.4609340\ttotal: 1.27s\tremaining: 2.73s\n",
      "317:\tlearn: 9.4413139\ttotal: 1.27s\tremaining: 2.72s\n",
      "318:\tlearn: 9.4121281\ttotal: 1.27s\tremaining: 2.71s\n",
      "319:\tlearn: 9.2547856\ttotal: 1.27s\tremaining: 2.7s\n",
      "320:\tlearn: 9.2385805\ttotal: 1.27s\tremaining: 2.7s\n",
      "321:\tlearn: 9.2231929\ttotal: 1.28s\tremaining: 2.69s\n",
      "322:\tlearn: 9.2056045\ttotal: 1.28s\tremaining: 2.68s\n",
      "323:\tlearn: 9.1885507\ttotal: 1.28s\tremaining: 2.67s\n",
      "324:\tlearn: 9.0683662\ttotal: 1.28s\tremaining: 2.66s\n",
      "325:\tlearn: 9.0455806\ttotal: 1.28s\tremaining: 2.66s\n",
      "326:\tlearn: 9.0380539\ttotal: 1.29s\tremaining: 2.65s\n",
      "327:\tlearn: 9.0118136\ttotal: 1.29s\tremaining: 2.64s\n",
      "328:\tlearn: 9.0007603\ttotal: 1.29s\tremaining: 2.63s\n",
      "329:\tlearn: 8.9409837\ttotal: 1.29s\tremaining: 2.63s\n",
      "330:\tlearn: 8.9388455\ttotal: 1.29s\tremaining: 2.62s\n",
      "331:\tlearn: 8.8955283\ttotal: 1.3s\tremaining: 2.61s\n",
      "332:\tlearn: 8.8789882\ttotal: 1.3s\tremaining: 2.6s\n",
      "333:\tlearn: 8.7965701\ttotal: 1.3s\tremaining: 2.6s\n",
      "334:\tlearn: 8.7797937\ttotal: 1.3s\tremaining: 2.59s\n",
      "335:\tlearn: 8.7508865\ttotal: 1.31s\tremaining: 2.58s\n",
      "336:\tlearn: 8.6551664\ttotal: 1.31s\tremaining: 2.57s\n",
      "337:\tlearn: 8.6462533\ttotal: 1.31s\tremaining: 2.57s\n",
      "338:\tlearn: 8.6372031\ttotal: 1.31s\tremaining: 2.56s\n",
      "339:\tlearn: 8.5775007\ttotal: 1.31s\tremaining: 2.55s\n",
      "340:\tlearn: 8.5398434\ttotal: 1.32s\tremaining: 2.54s\n",
      "341:\tlearn: 8.4870085\ttotal: 1.32s\tremaining: 2.54s\n",
      "342:\tlearn: 8.4422985\ttotal: 1.32s\tremaining: 2.53s\n",
      "343:\tlearn: 8.4025250\ttotal: 1.32s\tremaining: 2.52s\n",
      "344:\tlearn: 8.2820539\ttotal: 1.32s\tremaining: 2.52s\n",
      "345:\tlearn: 8.2586537\ttotal: 1.33s\tremaining: 2.51s\n",
      "346:\tlearn: 8.2139444\ttotal: 1.33s\tremaining: 2.5s\n",
      "347:\tlearn: 8.1979179\ttotal: 1.33s\tremaining: 2.5s\n"
     ]
    },
    {
     "name": "stdout",
     "output_type": "stream",
     "text": [
      "348:\tlearn: 8.1867200\ttotal: 1.34s\tremaining: 2.49s\n",
      "349:\tlearn: 8.0992683\ttotal: 1.34s\tremaining: 2.49s\n",
      "350:\tlearn: 8.0912115\ttotal: 1.34s\tremaining: 2.48s\n",
      "351:\tlearn: 8.0454535\ttotal: 1.34s\tremaining: 2.47s\n",
      "352:\tlearn: 8.0254573\ttotal: 1.34s\tremaining: 2.46s\n",
      "353:\tlearn: 8.0078764\ttotal: 1.35s\tremaining: 2.46s\n",
      "354:\tlearn: 7.9927453\ttotal: 1.35s\tremaining: 2.45s\n",
      "355:\tlearn: 7.9645441\ttotal: 1.35s\tremaining: 2.45s\n",
      "356:\tlearn: 7.8733239\ttotal: 1.35s\tremaining: 2.44s\n",
      "357:\tlearn: 7.8522444\ttotal: 1.36s\tremaining: 2.43s\n",
      "358:\tlearn: 7.8424749\ttotal: 1.36s\tremaining: 2.43s\n",
      "359:\tlearn: 7.8238823\ttotal: 1.36s\tremaining: 2.42s\n",
      "360:\tlearn: 7.7478328\ttotal: 1.36s\tremaining: 2.42s\n",
      "361:\tlearn: 7.7291177\ttotal: 1.37s\tremaining: 2.41s\n",
      "362:\tlearn: 7.6602973\ttotal: 1.37s\tremaining: 2.4s\n",
      "363:\tlearn: 7.6250731\ttotal: 1.37s\tremaining: 2.4s\n",
      "364:\tlearn: 7.5990417\ttotal: 1.38s\tremaining: 2.39s\n",
      "365:\tlearn: 7.5902228\ttotal: 1.38s\tremaining: 2.39s\n",
      "366:\tlearn: 7.5229424\ttotal: 1.38s\tremaining: 2.38s\n",
      "367:\tlearn: 7.3680064\ttotal: 1.38s\tremaining: 2.37s\n",
      "368:\tlearn: 7.3493213\ttotal: 1.38s\tremaining: 2.37s\n",
      "369:\tlearn: 7.3073678\ttotal: 1.39s\tremaining: 2.36s\n",
      "370:\tlearn: 7.2604442\ttotal: 1.39s\tremaining: 2.35s\n",
      "371:\tlearn: 7.2039233\ttotal: 1.39s\tremaining: 2.35s\n",
      "372:\tlearn: 7.1510017\ttotal: 1.39s\tremaining: 2.34s\n",
      "373:\tlearn: 7.1134190\ttotal: 1.4s\tremaining: 2.34s\n",
      "374:\tlearn: 7.0698068\ttotal: 1.4s\tremaining: 2.33s\n",
      "375:\tlearn: 7.0125461\ttotal: 1.4s\tremaining: 2.32s\n",
      "376:\tlearn: 6.9700849\ttotal: 1.4s\tremaining: 2.32s\n",
      "377:\tlearn: 6.9387957\ttotal: 1.41s\tremaining: 2.31s\n",
      "378:\tlearn: 6.9231040\ttotal: 1.41s\tremaining: 2.31s\n",
      "379:\tlearn: 6.8251911\ttotal: 1.41s\tremaining: 2.3s\n",
      "380:\tlearn: 6.7712956\ttotal: 1.41s\tremaining: 2.29s\n",
      "381:\tlearn: 6.7574414\ttotal: 1.41s\tremaining: 2.29s\n",
      "382:\tlearn: 6.7410476\ttotal: 1.42s\tremaining: 2.28s\n",
      "383:\tlearn: 6.6688075\ttotal: 1.42s\tremaining: 2.27s\n",
      "384:\tlearn: 6.6505826\ttotal: 1.42s\tremaining: 2.27s\n",
      "385:\tlearn: 6.5630650\ttotal: 1.42s\tremaining: 2.26s\n",
      "386:\tlearn: 6.5566203\ttotal: 1.43s\tremaining: 2.26s\n",
      "387:\tlearn: 6.4631618\ttotal: 1.43s\tremaining: 2.25s\n",
      "388:\tlearn: 6.4593327\ttotal: 1.43s\tremaining: 2.25s\n",
      "389:\tlearn: 6.4332103\ttotal: 1.43s\tremaining: 2.24s\n",
      "390:\tlearn: 6.4191067\ttotal: 1.44s\tremaining: 2.23s\n",
      "391:\tlearn: 6.3823039\ttotal: 1.44s\tremaining: 2.23s\n",
      "392:\tlearn: 6.3137092\ttotal: 1.44s\tremaining: 2.22s\n",
      "393:\tlearn: 6.2947145\ttotal: 1.44s\tremaining: 2.22s\n",
      "394:\tlearn: 6.2910433\ttotal: 1.45s\tremaining: 2.21s\n",
      "395:\tlearn: 6.2792028\ttotal: 1.45s\tremaining: 2.21s\n",
      "396:\tlearn: 6.2682394\ttotal: 1.45s\tremaining: 2.2s\n",
      "397:\tlearn: 6.2560922\ttotal: 1.45s\tremaining: 2.2s\n",
      "398:\tlearn: 6.1677850\ttotal: 1.45s\tremaining: 2.19s\n",
      "399:\tlearn: 6.1570019\ttotal: 1.46s\tremaining: 2.19s\n",
      "400:\tlearn: 6.1460268\ttotal: 1.46s\tremaining: 2.18s\n",
      "401:\tlearn: 6.1239635\ttotal: 1.46s\tremaining: 2.17s\n",
      "402:\tlearn: 6.1123066\ttotal: 1.46s\tremaining: 2.17s\n",
      "403:\tlearn: 6.1036903\ttotal: 1.47s\tremaining: 2.16s\n",
      "404:\tlearn: 6.0881153\ttotal: 1.47s\tremaining: 2.15s\n",
      "405:\tlearn: 6.0679168\ttotal: 1.47s\tremaining: 2.15s\n",
      "406:\tlearn: 6.0331663\ttotal: 1.47s\tremaining: 2.14s\n",
      "407:\tlearn: 5.9198614\ttotal: 1.47s\tremaining: 2.14s\n",
      "408:\tlearn: 5.8842644\ttotal: 1.48s\tremaining: 2.13s\n",
      "409:\tlearn: 5.8797190\ttotal: 1.48s\tremaining: 2.13s\n",
      "410:\tlearn: 5.8117388\ttotal: 1.48s\tremaining: 2.12s\n",
      "411:\tlearn: 5.7745248\ttotal: 1.48s\tremaining: 2.12s\n",
      "412:\tlearn: 5.7390918\ttotal: 1.49s\tremaining: 2.11s\n",
      "413:\tlearn: 5.7218238\ttotal: 1.49s\tremaining: 2.11s\n",
      "414:\tlearn: 5.6782580\ttotal: 1.49s\tremaining: 2.1s\n",
      "415:\tlearn: 5.6175651\ttotal: 1.49s\tremaining: 2.1s\n",
      "416:\tlearn: 5.5983545\ttotal: 1.5s\tremaining: 2.09s\n",
      "417:\tlearn: 5.5772731\ttotal: 1.5s\tremaining: 2.09s\n",
      "418:\tlearn: 5.5734645\ttotal: 1.5s\tremaining: 2.08s\n",
      "419:\tlearn: 5.5546607\ttotal: 1.5s\tremaining: 2.08s\n",
      "420:\tlearn: 5.5189982\ttotal: 1.51s\tremaining: 2.07s\n",
      "421:\tlearn: 5.4848642\ttotal: 1.51s\tremaining: 2.07s\n",
      "422:\tlearn: 5.4554446\ttotal: 1.51s\tremaining: 2.06s\n",
      "423:\tlearn: 5.4157449\ttotal: 1.51s\tremaining: 2.06s\n",
      "424:\tlearn: 5.4127109\ttotal: 1.52s\tremaining: 2.05s\n",
      "425:\tlearn: 5.4099201\ttotal: 1.52s\tremaining: 2.04s\n",
      "426:\tlearn: 5.4011913\ttotal: 1.52s\tremaining: 2.04s\n",
      "427:\tlearn: 5.3923300\ttotal: 1.52s\tremaining: 2.04s\n",
      "428:\tlearn: 5.3400757\ttotal: 1.52s\tremaining: 2.03s\n",
      "429:\tlearn: 5.3099858\ttotal: 1.53s\tremaining: 2.02s\n",
      "430:\tlearn: 5.2902618\ttotal: 1.53s\tremaining: 2.02s\n",
      "431:\tlearn: 5.2586443\ttotal: 1.53s\tremaining: 2.02s\n",
      "432:\tlearn: 5.2351235\ttotal: 1.53s\tremaining: 2.01s\n",
      "433:\tlearn: 5.2332217\ttotal: 1.54s\tremaining: 2s\n",
      "434:\tlearn: 5.2117523\ttotal: 1.54s\tremaining: 2s\n",
      "435:\tlearn: 5.1286410\ttotal: 1.54s\tremaining: 2s\n",
      "436:\tlearn: 5.0941636\ttotal: 1.54s\tremaining: 1.99s\n",
      "437:\tlearn: 5.0918580\ttotal: 1.55s\tremaining: 1.99s\n",
      "438:\tlearn: 5.0884916\ttotal: 1.55s\tremaining: 1.98s\n",
      "439:\tlearn: 5.0844035\ttotal: 1.55s\tremaining: 1.98s\n",
      "440:\tlearn: 5.0790027\ttotal: 1.55s\tremaining: 1.97s\n",
      "441:\tlearn: 5.0138118\ttotal: 1.56s\tremaining: 1.97s\n",
      "442:\tlearn: 5.0120927\ttotal: 1.56s\tremaining: 1.96s\n",
      "443:\tlearn: 5.0085566\ttotal: 1.56s\tremaining: 1.96s\n",
      "444:\tlearn: 4.9372092\ttotal: 1.56s\tremaining: 1.95s\n",
      "445:\tlearn: 4.9326462\ttotal: 1.57s\tremaining: 1.95s\n",
      "446:\tlearn: 4.9220526\ttotal: 1.57s\tremaining: 1.94s\n",
      "447:\tlearn: 4.9120213\ttotal: 1.57s\tremaining: 1.94s\n",
      "448:\tlearn: 4.9073269\ttotal: 1.57s\tremaining: 1.93s\n",
      "449:\tlearn: 4.8927219\ttotal: 1.58s\tremaining: 1.93s\n",
      "450:\tlearn: 4.7993093\ttotal: 1.58s\tremaining: 1.92s\n",
      "451:\tlearn: 4.7860876\ttotal: 1.58s\tremaining: 1.92s\n",
      "452:\tlearn: 4.7272397\ttotal: 1.59s\tremaining: 1.92s\n",
      "453:\tlearn: 4.7098805\ttotal: 1.59s\tremaining: 1.91s\n",
      "454:\tlearn: 4.7052072\ttotal: 1.59s\tremaining: 1.91s\n",
      "455:\tlearn: 4.7042923\ttotal: 1.59s\tremaining: 1.9s\n",
      "456:\tlearn: 4.6998618\ttotal: 1.6s\tremaining: 1.9s\n",
      "457:\tlearn: 4.6958445\ttotal: 1.6s\tremaining: 1.89s\n",
      "458:\tlearn: 4.6943544\ttotal: 1.6s\tremaining: 1.89s\n",
      "459:\tlearn: 4.6700257\ttotal: 1.6s\tremaining: 1.88s\n",
      "460:\tlearn: 4.6667629\ttotal: 1.61s\tremaining: 1.88s\n",
      "461:\tlearn: 4.6101576\ttotal: 1.61s\tremaining: 1.87s\n",
      "462:\tlearn: 4.6031060\ttotal: 1.61s\tremaining: 1.87s\n",
      "463:\tlearn: 4.5504740\ttotal: 1.61s\tremaining: 1.86s\n",
      "464:\tlearn: 4.5448050\ttotal: 1.62s\tremaining: 1.86s\n",
      "465:\tlearn: 4.4733681\ttotal: 1.62s\tremaining: 1.86s\n",
      "466:\tlearn: 4.4524896\ttotal: 1.63s\tremaining: 1.86s\n",
      "467:\tlearn: 4.4511351\ttotal: 1.63s\tremaining: 1.85s\n",
      "468:\tlearn: 4.4466628\ttotal: 1.63s\tremaining: 1.85s\n",
      "469:\tlearn: 4.4402381\ttotal: 1.63s\tremaining: 1.84s\n",
      "470:\tlearn: 4.4351079\ttotal: 1.64s\tremaining: 1.84s\n",
      "471:\tlearn: 4.4313575\ttotal: 1.64s\tremaining: 1.83s\n",
      "472:\tlearn: 4.3829807\ttotal: 1.64s\tremaining: 1.83s\n",
      "473:\tlearn: 4.3173695\ttotal: 1.65s\tremaining: 1.83s\n",
      "474:\tlearn: 4.3065248\ttotal: 1.65s\tremaining: 1.82s\n",
      "475:\tlearn: 4.2922938\ttotal: 1.65s\tremaining: 1.82s\n",
      "476:\tlearn: 4.2685981\ttotal: 1.65s\tremaining: 1.81s\n",
      "477:\tlearn: 4.2528120\ttotal: 1.66s\tremaining: 1.81s\n",
      "478:\tlearn: 4.2248965\ttotal: 1.66s\tremaining: 1.8s\n",
      "479:\tlearn: 4.2068157\ttotal: 1.66s\tremaining: 1.8s\n",
      "480:\tlearn: 4.1463116\ttotal: 1.67s\tremaining: 1.8s\n",
      "481:\tlearn: 4.1443304\ttotal: 1.67s\tremaining: 1.79s\n",
      "482:\tlearn: 4.1418701\ttotal: 1.67s\tremaining: 1.79s\n",
      "483:\tlearn: 4.0674711\ttotal: 1.67s\tremaining: 1.78s\n",
      "484:\tlearn: 4.0661559\ttotal: 1.67s\tremaining: 1.78s\n",
      "485:\tlearn: 4.0634436\ttotal: 1.68s\tremaining: 1.77s\n",
      "486:\tlearn: 4.0596032\ttotal: 1.68s\tremaining: 1.77s\n",
      "487:\tlearn: 4.0559656\ttotal: 1.68s\tremaining: 1.76s\n",
      "488:\tlearn: 4.0427230\ttotal: 1.68s\tremaining: 1.76s\n",
      "489:\tlearn: 4.0365692\ttotal: 1.69s\tremaining: 1.75s\n",
      "490:\tlearn: 4.0070632\ttotal: 1.69s\tremaining: 1.75s\n",
      "491:\tlearn: 3.9784424\ttotal: 1.69s\tremaining: 1.75s\n",
      "492:\tlearn: 3.9509305\ttotal: 1.69s\tremaining: 1.74s\n",
      "493:\tlearn: 3.9484434\ttotal: 1.7s\tremaining: 1.74s\n",
      "494:\tlearn: 3.9460790\ttotal: 1.7s\tremaining: 1.73s\n",
      "495:\tlearn: 3.9159958\ttotal: 1.7s\tremaining: 1.73s\n",
      "496:\tlearn: 3.9051721\ttotal: 1.7s\tremaining: 1.73s\n",
      "497:\tlearn: 3.8866180\ttotal: 1.71s\tremaining: 1.72s\n",
      "498:\tlearn: 3.8852304\ttotal: 1.71s\tremaining: 1.72s\n",
      "499:\tlearn: 3.8730099\ttotal: 1.71s\tremaining: 1.71s\n",
      "500:\tlearn: 3.8646231\ttotal: 1.71s\tremaining: 1.71s\n",
      "501:\tlearn: 3.8506033\ttotal: 1.72s\tremaining: 1.7s\n",
      "502:\tlearn: 3.8469130\ttotal: 1.72s\tremaining: 1.7s\n",
      "503:\tlearn: 3.8322323\ttotal: 1.72s\tremaining: 1.69s\n",
      "504:\tlearn: 3.7872659\ttotal: 1.72s\tremaining: 1.69s\n",
      "505:\tlearn: 3.7502203\ttotal: 1.73s\tremaining: 1.69s\n",
      "506:\tlearn: 3.7143174\ttotal: 1.73s\tremaining: 1.68s\n",
      "507:\tlearn: 3.6703542\ttotal: 1.73s\tremaining: 1.68s\n",
      "508:\tlearn: 3.6445958\ttotal: 1.73s\tremaining: 1.67s\n",
      "509:\tlearn: 3.5947107\ttotal: 1.74s\tremaining: 1.67s\n",
      "510:\tlearn: 3.5310426\ttotal: 1.74s\tremaining: 1.66s\n",
      "511:\tlearn: 3.5167494\ttotal: 1.74s\tremaining: 1.66s\n",
      "512:\tlearn: 3.4733747\ttotal: 1.74s\tremaining: 1.65s\n",
      "513:\tlearn: 3.4710619\ttotal: 1.74s\tremaining: 1.65s\n",
      "514:\tlearn: 3.4461245\ttotal: 1.75s\tremaining: 1.64s\n",
      "515:\tlearn: 3.3864246\ttotal: 1.75s\tremaining: 1.64s\n",
      "516:\tlearn: 3.3391545\ttotal: 1.75s\tremaining: 1.64s\n",
      "517:\tlearn: 3.3299045\ttotal: 1.75s\tremaining: 1.63s\n",
      "518:\tlearn: 3.3214394\ttotal: 1.75s\tremaining: 1.63s\n",
      "519:\tlearn: 3.3152498\ttotal: 1.76s\tremaining: 1.62s\n",
      "520:\tlearn: 3.3065473\ttotal: 1.76s\tremaining: 1.62s\n",
      "521:\tlearn: 3.3058493\ttotal: 1.76s\tremaining: 1.61s\n",
      "522:\tlearn: 3.2926074\ttotal: 1.76s\tremaining: 1.61s\n",
      "523:\tlearn: 3.2803764\ttotal: 1.77s\tremaining: 1.6s\n"
     ]
    },
    {
     "name": "stdout",
     "output_type": "stream",
     "text": [
      "524:\tlearn: 3.2418146\ttotal: 1.77s\tremaining: 1.6s\n",
      "525:\tlearn: 3.2046800\ttotal: 1.77s\tremaining: 1.6s\n",
      "526:\tlearn: 3.2028489\ttotal: 1.77s\tremaining: 1.59s\n",
      "527:\tlearn: 3.2015558\ttotal: 1.78s\tremaining: 1.59s\n",
      "528:\tlearn: 3.1520162\ttotal: 1.78s\tremaining: 1.58s\n",
      "529:\tlearn: 3.1161690\ttotal: 1.78s\tremaining: 1.58s\n",
      "530:\tlearn: 3.0626897\ttotal: 1.78s\tremaining: 1.57s\n",
      "531:\tlearn: 3.0200973\ttotal: 1.79s\tremaining: 1.57s\n",
      "532:\tlearn: 3.0172860\ttotal: 1.79s\tremaining: 1.57s\n",
      "533:\tlearn: 3.0151034\ttotal: 1.79s\tremaining: 1.56s\n",
      "534:\tlearn: 3.0132468\ttotal: 1.79s\tremaining: 1.56s\n",
      "535:\tlearn: 2.9934470\ttotal: 1.79s\tremaining: 1.55s\n",
      "536:\tlearn: 2.9729929\ttotal: 1.8s\tremaining: 1.55s\n",
      "537:\tlearn: 2.9713377\ttotal: 1.8s\tremaining: 1.54s\n",
      "538:\tlearn: 2.9194438\ttotal: 1.8s\tremaining: 1.54s\n",
      "539:\tlearn: 2.9133226\ttotal: 1.8s\tremaining: 1.54s\n",
      "540:\tlearn: 2.8767195\ttotal: 1.81s\tremaining: 1.53s\n",
      "541:\tlearn: 2.8451805\ttotal: 1.81s\tremaining: 1.53s\n",
      "542:\tlearn: 2.8322550\ttotal: 1.81s\tremaining: 1.52s\n",
      "543:\tlearn: 2.8197225\ttotal: 1.81s\tremaining: 1.52s\n",
      "544:\tlearn: 2.8119081\ttotal: 1.81s\tremaining: 1.51s\n",
      "545:\tlearn: 2.8069346\ttotal: 1.82s\tremaining: 1.51s\n",
      "546:\tlearn: 2.7936715\ttotal: 1.82s\tremaining: 1.51s\n",
      "547:\tlearn: 2.7888838\ttotal: 1.82s\tremaining: 1.5s\n",
      "548:\tlearn: 2.7844117\ttotal: 1.82s\tremaining: 1.5s\n",
      "549:\tlearn: 2.7522047\ttotal: 1.82s\tremaining: 1.49s\n",
      "550:\tlearn: 2.7185707\ttotal: 1.83s\tremaining: 1.49s\n",
      "551:\tlearn: 2.7164265\ttotal: 1.83s\tremaining: 1.49s\n",
      "552:\tlearn: 2.6969629\ttotal: 1.83s\tremaining: 1.48s\n",
      "553:\tlearn: 2.6908623\ttotal: 1.83s\tremaining: 1.48s\n",
      "554:\tlearn: 2.6633466\ttotal: 1.84s\tremaining: 1.47s\n",
      "555:\tlearn: 2.6625158\ttotal: 1.84s\tremaining: 1.47s\n",
      "556:\tlearn: 2.6618453\ttotal: 1.84s\tremaining: 1.46s\n",
      "557:\tlearn: 2.6363361\ttotal: 1.84s\tremaining: 1.46s\n",
      "558:\tlearn: 2.6246259\ttotal: 1.84s\tremaining: 1.46s\n",
      "559:\tlearn: 2.6132918\ttotal: 1.85s\tremaining: 1.45s\n",
      "560:\tlearn: 2.6017132\ttotal: 1.85s\tremaining: 1.45s\n",
      "561:\tlearn: 2.6012885\ttotal: 1.85s\tremaining: 1.44s\n",
      "562:\tlearn: 2.5770056\ttotal: 1.85s\tremaining: 1.44s\n",
      "563:\tlearn: 2.5762568\ttotal: 1.86s\tremaining: 1.44s\n",
      "564:\tlearn: 2.5753810\ttotal: 1.86s\tremaining: 1.43s\n",
      "565:\tlearn: 2.5633739\ttotal: 1.86s\tremaining: 1.43s\n",
      "566:\tlearn: 2.5535747\ttotal: 1.86s\tremaining: 1.42s\n",
      "567:\tlearn: 2.5422463\ttotal: 1.87s\tremaining: 1.42s\n",
      "568:\tlearn: 2.5261235\ttotal: 1.87s\tremaining: 1.42s\n",
      "569:\tlearn: 2.5118200\ttotal: 1.87s\tremaining: 1.41s\n",
      "570:\tlearn: 2.5038867\ttotal: 1.88s\tremaining: 1.41s\n",
      "571:\tlearn: 2.5026812\ttotal: 1.88s\tremaining: 1.41s\n",
      "572:\tlearn: 2.4963742\ttotal: 1.88s\tremaining: 1.4s\n",
      "573:\tlearn: 2.4959133\ttotal: 1.88s\tremaining: 1.4s\n",
      "574:\tlearn: 2.4704966\ttotal: 1.89s\tremaining: 1.39s\n",
      "575:\tlearn: 2.4466026\ttotal: 1.89s\tremaining: 1.39s\n",
      "576:\tlearn: 2.4454289\ttotal: 1.89s\tremaining: 1.39s\n",
      "577:\tlearn: 2.4367710\ttotal: 1.9s\tremaining: 1.38s\n",
      "578:\tlearn: 2.4025628\ttotal: 1.9s\tremaining: 1.38s\n",
      "579:\tlearn: 2.3799420\ttotal: 1.9s\tremaining: 1.38s\n",
      "580:\tlearn: 2.3654912\ttotal: 1.9s\tremaining: 1.37s\n",
      "581:\tlearn: 2.3504694\ttotal: 1.91s\tremaining: 1.37s\n",
      "582:\tlearn: 2.3453381\ttotal: 1.91s\tremaining: 1.36s\n",
      "583:\tlearn: 2.3403607\ttotal: 1.91s\tremaining: 1.36s\n",
      "584:\tlearn: 2.3355327\ttotal: 1.92s\tremaining: 1.36s\n",
      "585:\tlearn: 2.3308495\ttotal: 1.92s\tremaining: 1.35s\n",
      "586:\tlearn: 2.3263107\ttotal: 1.92s\tremaining: 1.35s\n",
      "587:\tlearn: 2.3218818\ttotal: 1.92s\tremaining: 1.35s\n",
      "588:\tlearn: 2.3214501\ttotal: 1.93s\tremaining: 1.34s\n",
      "589:\tlearn: 2.3161801\ttotal: 1.93s\tremaining: 1.34s\n",
      "590:\tlearn: 2.3110681\ttotal: 1.93s\tremaining: 1.34s\n",
      "591:\tlearn: 2.3061097\ttotal: 1.93s\tremaining: 1.33s\n",
      "592:\tlearn: 2.2953934\ttotal: 1.94s\tremaining: 1.33s\n",
      "593:\tlearn: 2.2944264\ttotal: 1.94s\tremaining: 1.33s\n",
      "594:\tlearn: 2.2855142\ttotal: 1.94s\tremaining: 1.32s\n",
      "595:\tlearn: 2.2785688\ttotal: 1.95s\tremaining: 1.32s\n",
      "596:\tlearn: 2.2532404\ttotal: 1.95s\tremaining: 1.32s\n",
      "597:\tlearn: 2.2141314\ttotal: 1.95s\tremaining: 1.31s\n",
      "598:\tlearn: 2.1889697\ttotal: 1.95s\tremaining: 1.31s\n",
      "599:\tlearn: 2.1843827\ttotal: 1.96s\tremaining: 1.3s\n",
      "600:\tlearn: 2.1676741\ttotal: 1.96s\tremaining: 1.3s\n",
      "601:\tlearn: 2.1514667\ttotal: 1.96s\tremaining: 1.3s\n",
      "602:\tlearn: 2.1358151\ttotal: 1.97s\tremaining: 1.29s\n",
      "603:\tlearn: 2.1206331\ttotal: 1.97s\tremaining: 1.29s\n",
      "604:\tlearn: 2.1058714\ttotal: 1.97s\tremaining: 1.29s\n",
      "605:\tlearn: 2.0941864\ttotal: 1.97s\tremaining: 1.28s\n",
      "606:\tlearn: 2.0879265\ttotal: 1.98s\tremaining: 1.28s\n",
      "607:\tlearn: 2.0804027\ttotal: 1.98s\tremaining: 1.27s\n",
      "608:\tlearn: 2.0518926\ttotal: 1.98s\tremaining: 1.27s\n",
      "609:\tlearn: 2.0390094\ttotal: 1.98s\tremaining: 1.27s\n",
      "610:\tlearn: 2.0308259\ttotal: 1.99s\tremaining: 1.26s\n",
      "611:\tlearn: 2.0271174\ttotal: 1.99s\tremaining: 1.26s\n",
      "612:\tlearn: 2.0240110\ttotal: 1.99s\tremaining: 1.26s\n",
      "613:\tlearn: 2.0020235\ttotal: 1.99s\tremaining: 1.25s\n",
      "614:\tlearn: 1.9973299\ttotal: 2s\tremaining: 1.25s\n",
      "615:\tlearn: 1.9852583\ttotal: 2s\tremaining: 1.25s\n",
      "616:\tlearn: 1.9795946\ttotal: 2s\tremaining: 1.24s\n",
      "617:\tlearn: 1.9539388\ttotal: 2s\tremaining: 1.24s\n",
      "618:\tlearn: 1.9528772\ttotal: 2.01s\tremaining: 1.24s\n",
      "619:\tlearn: 1.9482002\ttotal: 2.01s\tremaining: 1.23s\n",
      "620:\tlearn: 1.9235939\ttotal: 2.01s\tremaining: 1.23s\n",
      "621:\tlearn: 1.9052472\ttotal: 2.02s\tremaining: 1.23s\n",
      "622:\tlearn: 1.9045609\ttotal: 2.02s\tremaining: 1.22s\n",
      "623:\tlearn: 1.8917172\ttotal: 2.02s\tremaining: 1.22s\n",
      "624:\tlearn: 1.8912536\ttotal: 2.02s\tremaining: 1.21s\n",
      "625:\tlearn: 1.8815158\ttotal: 2.02s\tremaining: 1.21s\n",
      "626:\tlearn: 1.8806895\ttotal: 2.03s\tremaining: 1.21s\n",
      "627:\tlearn: 1.8802044\ttotal: 2.03s\tremaining: 1.2s\n",
      "628:\tlearn: 1.8797390\ttotal: 2.03s\tremaining: 1.2s\n",
      "629:\tlearn: 1.8707655\ttotal: 2.03s\tremaining: 1.19s\n",
      "630:\tlearn: 1.8703415\ttotal: 2.04s\tremaining: 1.19s\n",
      "631:\tlearn: 1.8671533\ttotal: 2.04s\tremaining: 1.19s\n",
      "632:\tlearn: 1.8616434\ttotal: 2.04s\tremaining: 1.18s\n",
      "633:\tlearn: 1.8412066\ttotal: 2.04s\tremaining: 1.18s\n",
      "634:\tlearn: 1.8373535\ttotal: 2.05s\tremaining: 1.18s\n",
      "635:\tlearn: 1.8133036\ttotal: 2.05s\tremaining: 1.17s\n",
      "636:\tlearn: 1.7918202\ttotal: 2.05s\tremaining: 1.17s\n",
      "637:\tlearn: 1.7820923\ttotal: 2.05s\tremaining: 1.17s\n",
      "638:\tlearn: 1.7583889\ttotal: 2.06s\tremaining: 1.16s\n",
      "639:\tlearn: 1.7576691\ttotal: 2.06s\tremaining: 1.16s\n",
      "640:\tlearn: 1.7411574\ttotal: 2.06s\tremaining: 1.15s\n",
      "641:\tlearn: 1.7375427\ttotal: 2.06s\tremaining: 1.15s\n",
      "642:\tlearn: 1.7184645\ttotal: 2.07s\tremaining: 1.15s\n",
      "643:\tlearn: 1.7158541\ttotal: 2.07s\tremaining: 1.14s\n",
      "644:\tlearn: 1.7106154\ttotal: 2.07s\tremaining: 1.14s\n",
      "645:\tlearn: 1.7099282\ttotal: 2.07s\tremaining: 1.14s\n",
      "646:\tlearn: 1.7028925\ttotal: 2.08s\tremaining: 1.13s\n",
      "647:\tlearn: 1.6808675\ttotal: 2.08s\tremaining: 1.13s\n",
      "648:\tlearn: 1.6775508\ttotal: 2.08s\tremaining: 1.13s\n",
      "649:\tlearn: 1.6759588\ttotal: 2.08s\tremaining: 1.12s\n",
      "650:\tlearn: 1.6626108\ttotal: 2.09s\tremaining: 1.12s\n",
      "651:\tlearn: 1.6496800\ttotal: 2.09s\tremaining: 1.11s\n",
      "652:\tlearn: 1.6486283\ttotal: 2.09s\tremaining: 1.11s\n",
      "653:\tlearn: 1.6469108\ttotal: 2.09s\tremaining: 1.11s\n",
      "654:\tlearn: 1.6404749\ttotal: 2.1s\tremaining: 1.1s\n",
      "655:\tlearn: 1.6342322\ttotal: 2.1s\tremaining: 1.1s\n",
      "656:\tlearn: 1.6281777\ttotal: 2.1s\tremaining: 1.1s\n",
      "657:\tlearn: 1.6278552\ttotal: 2.1s\tremaining: 1.09s\n",
      "658:\tlearn: 1.6274804\ttotal: 2.1s\tremaining: 1.09s\n",
      "659:\tlearn: 1.6193979\ttotal: 2.11s\tremaining: 1.08s\n",
      "660:\tlearn: 1.6140361\ttotal: 2.11s\tremaining: 1.08s\n",
      "661:\tlearn: 1.6098016\ttotal: 2.11s\tremaining: 1.08s\n",
      "662:\tlearn: 1.6075815\ttotal: 2.11s\tremaining: 1.07s\n",
      "663:\tlearn: 1.6044765\ttotal: 2.12s\tremaining: 1.07s\n",
      "664:\tlearn: 1.6022677\ttotal: 2.12s\tremaining: 1.07s\n",
      "665:\tlearn: 1.6001988\ttotal: 2.12s\tremaining: 1.06s\n",
      "666:\tlearn: 1.5998893\ttotal: 2.12s\tremaining: 1.06s\n",
      "667:\tlearn: 1.5947446\ttotal: 2.13s\tremaining: 1.06s\n",
      "668:\tlearn: 1.5917557\ttotal: 2.13s\tremaining: 1.05s\n",
      "669:\tlearn: 1.5888808\ttotal: 2.13s\tremaining: 1.05s\n",
      "670:\tlearn: 1.5886510\ttotal: 2.13s\tremaining: 1.04s\n",
      "671:\tlearn: 1.5868095\ttotal: 2.13s\tremaining: 1.04s\n",
      "672:\tlearn: 1.5797792\ttotal: 2.14s\tremaining: 1.04s\n",
      "673:\tlearn: 1.5785872\ttotal: 2.14s\tremaining: 1.03s\n",
      "674:\tlearn: 1.5610579\ttotal: 2.14s\tremaining: 1.03s\n",
      "675:\tlearn: 1.5561546\ttotal: 2.14s\tremaining: 1.03s\n",
      "676:\tlearn: 1.5541841\ttotal: 2.15s\tremaining: 1.02s\n",
      "677:\tlearn: 1.5490458\ttotal: 2.15s\tremaining: 1.02s\n",
      "678:\tlearn: 1.5426999\ttotal: 2.15s\tremaining: 1.02s\n",
      "679:\tlearn: 1.5365444\ttotal: 2.15s\tremaining: 1.01s\n",
      "680:\tlearn: 1.5305742\ttotal: 2.15s\tremaining: 1.01s\n",
      "681:\tlearn: 1.5248234\ttotal: 2.16s\tremaining: 1s\n",
      "682:\tlearn: 1.5192037\ttotal: 2.16s\tremaining: 1s\n",
      "683:\tlearn: 1.5137780\ttotal: 2.16s\tremaining: 998ms\n",
      "684:\tlearn: 1.5128075\ttotal: 2.16s\tremaining: 995ms\n",
      "685:\tlearn: 1.5081115\ttotal: 2.17s\tremaining: 991ms\n",
      "686:\tlearn: 1.4930472\ttotal: 2.17s\tremaining: 987ms\n",
      "687:\tlearn: 1.4796086\ttotal: 2.17s\tremaining: 984ms\n",
      "688:\tlearn: 1.4665734\ttotal: 2.17s\tremaining: 980ms\n",
      "689:\tlearn: 1.4539290\ttotal: 2.17s\tremaining: 977ms\n",
      "690:\tlearn: 1.4416641\ttotal: 2.18s\tremaining: 973ms\n",
      "691:\tlearn: 1.4297721\ttotal: 2.18s\tremaining: 969ms\n",
      "692:\tlearn: 1.4182349\ttotal: 2.18s\tremaining: 966ms\n",
      "693:\tlearn: 1.4070439\ttotal: 2.18s\tremaining: 962ms\n",
      "694:\tlearn: 1.3935030\ttotal: 2.18s\tremaining: 959ms\n",
      "695:\tlearn: 1.3916110\ttotal: 2.19s\tremaining: 955ms\n",
      "696:\tlearn: 1.3900184\ttotal: 2.19s\tremaining: 951ms\n",
      "697:\tlearn: 1.3837758\ttotal: 2.19s\tremaining: 948ms\n",
      "698:\tlearn: 1.3772701\ttotal: 2.19s\tremaining: 944ms\n",
      "699:\tlearn: 1.3709596\ttotal: 2.19s\tremaining: 941ms\n",
      "700:\tlearn: 1.3688847\ttotal: 2.2s\tremaining: 937ms\n"
     ]
    },
    {
     "name": "stdout",
     "output_type": "stream",
     "text": [
      "701:\tlearn: 1.3627962\ttotal: 2.2s\tremaining: 934ms\n",
      "702:\tlearn: 1.3569720\ttotal: 2.2s\tremaining: 930ms\n",
      "703:\tlearn: 1.3520648\ttotal: 2.2s\tremaining: 927ms\n",
      "704:\tlearn: 1.3473104\ttotal: 2.21s\tremaining: 924ms\n",
      "705:\tlearn: 1.3471631\ttotal: 2.21s\tremaining: 920ms\n",
      "706:\tlearn: 1.3449670\ttotal: 2.21s\tremaining: 917ms\n",
      "707:\tlearn: 1.3424151\ttotal: 2.21s\tremaining: 913ms\n",
      "708:\tlearn: 1.3384358\ttotal: 2.22s\tremaining: 910ms\n",
      "709:\tlearn: 1.3364323\ttotal: 2.22s\tremaining: 906ms\n",
      "710:\tlearn: 1.3354852\ttotal: 2.22s\tremaining: 903ms\n",
      "711:\tlearn: 1.3302828\ttotal: 2.22s\tremaining: 900ms\n",
      "712:\tlearn: 1.3234184\ttotal: 2.23s\tremaining: 896ms\n",
      "713:\tlearn: 1.3226553\ttotal: 2.23s\tremaining: 893ms\n",
      "714:\tlearn: 1.3219180\ttotal: 2.23s\tremaining: 889ms\n",
      "715:\tlearn: 1.3213645\ttotal: 2.23s\tremaining: 886ms\n",
      "716:\tlearn: 1.3212180\ttotal: 2.23s\tremaining: 883ms\n",
      "717:\tlearn: 1.3205292\ttotal: 2.24s\tremaining: 879ms\n",
      "718:\tlearn: 1.3203628\ttotal: 2.24s\tremaining: 876ms\n",
      "719:\tlearn: 1.3068893\ttotal: 2.24s\tremaining: 873ms\n",
      "720:\tlearn: 1.2938199\ttotal: 2.25s\tremaining: 869ms\n",
      "721:\tlearn: 1.2811426\ttotal: 2.25s\tremaining: 866ms\n",
      "722:\tlearn: 1.2688775\ttotal: 2.25s\tremaining: 863ms\n",
      "723:\tlearn: 1.2549526\ttotal: 2.25s\tremaining: 860ms\n",
      "724:\tlearn: 1.2515734\ttotal: 2.26s\tremaining: 857ms\n",
      "725:\tlearn: 1.2513888\ttotal: 2.26s\tremaining: 854ms\n",
      "726:\tlearn: 1.2481540\ttotal: 2.27s\tremaining: 851ms\n",
      "727:\tlearn: 1.2449881\ttotal: 2.27s\tremaining: 848ms\n",
      "728:\tlearn: 1.2448411\ttotal: 2.27s\tremaining: 845ms\n",
      "729:\tlearn: 1.2446528\ttotal: 2.28s\tremaining: 842ms\n",
      "730:\tlearn: 1.2358839\ttotal: 2.28s\tremaining: 839ms\n",
      "731:\tlearn: 1.2273936\ttotal: 2.28s\tremaining: 836ms\n",
      "732:\tlearn: 1.2228227\ttotal: 2.28s\tremaining: 832ms\n",
      "733:\tlearn: 1.2226254\ttotal: 2.29s\tremaining: 829ms\n",
      "734:\tlearn: 1.2171376\ttotal: 2.29s\tremaining: 826ms\n",
      "735:\tlearn: 1.2126120\ttotal: 2.29s\tremaining: 822ms\n",
      "736:\tlearn: 1.2041665\ttotal: 2.29s\tremaining: 819ms\n",
      "737:\tlearn: 1.1959912\ttotal: 2.3s\tremaining: 816ms\n",
      "738:\tlearn: 1.1930068\ttotal: 2.3s\tremaining: 812ms\n",
      "739:\tlearn: 1.1918151\ttotal: 2.3s\tremaining: 809ms\n",
      "740:\tlearn: 1.1831448\ttotal: 2.31s\tremaining: 806ms\n",
      "741:\tlearn: 1.1544698\ttotal: 2.31s\tremaining: 802ms\n",
      "742:\tlearn: 1.1531582\ttotal: 2.31s\tremaining: 799ms\n",
      "743:\tlearn: 1.1520284\ttotal: 2.31s\tremaining: 795ms\n",
      "744:\tlearn: 1.1494241\ttotal: 2.31s\tremaining: 792ms\n",
      "745:\tlearn: 1.1464824\ttotal: 2.31s\tremaining: 788ms\n",
      "746:\tlearn: 1.1461527\ttotal: 2.32s\tremaining: 785ms\n",
      "747:\tlearn: 1.1367866\ttotal: 2.32s\tremaining: 782ms\n",
      "748:\tlearn: 1.1351775\ttotal: 2.32s\tremaining: 778ms\n",
      "749:\tlearn: 1.1239169\ttotal: 2.32s\tremaining: 775ms\n",
      "750:\tlearn: 1.1219719\ttotal: 2.33s\tremaining: 771ms\n",
      "751:\tlearn: 1.1186941\ttotal: 2.33s\tremaining: 768ms\n",
      "752:\tlearn: 1.1181883\ttotal: 2.33s\tremaining: 765ms\n",
      "753:\tlearn: 1.1170075\ttotal: 2.33s\tremaining: 761ms\n",
      "754:\tlearn: 1.1165782\ttotal: 2.33s\tremaining: 758ms\n",
      "755:\tlearn: 1.1127974\ttotal: 2.34s\tremaining: 754ms\n",
      "756:\tlearn: 1.0945263\ttotal: 2.34s\tremaining: 751ms\n",
      "757:\tlearn: 1.0939710\ttotal: 2.34s\tremaining: 747ms\n",
      "758:\tlearn: 1.0936301\ttotal: 2.34s\tremaining: 744ms\n",
      "759:\tlearn: 1.0923712\ttotal: 2.35s\tremaining: 741ms\n",
      "760:\tlearn: 1.0910182\ttotal: 2.35s\tremaining: 738ms\n",
      "761:\tlearn: 1.0885261\ttotal: 2.35s\tremaining: 734ms\n",
      "762:\tlearn: 1.0883601\ttotal: 2.35s\tremaining: 731ms\n",
      "763:\tlearn: 1.0871507\ttotal: 2.35s\tremaining: 728ms\n",
      "764:\tlearn: 1.0860038\ttotal: 2.36s\tremaining: 724ms\n",
      "765:\tlearn: 1.0846161\ttotal: 2.36s\tremaining: 721ms\n",
      "766:\tlearn: 1.0844565\ttotal: 2.36s\tremaining: 718ms\n",
      "767:\tlearn: 1.0832486\ttotal: 2.37s\tremaining: 715ms\n",
      "768:\tlearn: 1.0769814\ttotal: 2.37s\tremaining: 711ms\n",
      "769:\tlearn: 1.0767709\ttotal: 2.37s\tremaining: 708ms\n",
      "770:\tlearn: 1.0751277\ttotal: 2.37s\tremaining: 705ms\n",
      "771:\tlearn: 1.0712419\ttotal: 2.37s\tremaining: 701ms\n",
      "772:\tlearn: 1.0699256\ttotal: 2.38s\tremaining: 698ms\n",
      "773:\tlearn: 1.0677972\ttotal: 2.38s\tremaining: 695ms\n",
      "774:\tlearn: 1.0394787\ttotal: 2.38s\tremaining: 691ms\n",
      "775:\tlearn: 1.0316251\ttotal: 2.38s\tremaining: 688ms\n",
      "776:\tlearn: 1.0240714\ttotal: 2.38s\tremaining: 685ms\n",
      "777:\tlearn: 1.0167016\ttotal: 2.39s\tremaining: 681ms\n",
      "778:\tlearn: 1.0096105\ttotal: 2.39s\tremaining: 678ms\n",
      "779:\tlearn: 1.0086377\ttotal: 2.39s\tremaining: 675ms\n",
      "780:\tlearn: 1.0056407\ttotal: 2.39s\tremaining: 671ms\n",
      "781:\tlearn: 1.0054645\ttotal: 2.4s\tremaining: 668ms\n",
      "782:\tlearn: 1.0026297\ttotal: 2.4s\tremaining: 665ms\n",
      "783:\tlearn: 0.9925913\ttotal: 2.4s\tremaining: 662ms\n",
      "784:\tlearn: 0.9828542\ttotal: 2.4s\tremaining: 658ms\n",
      "785:\tlearn: 0.9744790\ttotal: 2.41s\tremaining: 655ms\n",
      "786:\tlearn: 0.9703057\ttotal: 2.41s\tremaining: 652ms\n",
      "787:\tlearn: 0.9662716\ttotal: 2.41s\tremaining: 649ms\n",
      "788:\tlearn: 0.9619928\ttotal: 2.41s\tremaining: 645ms\n",
      "789:\tlearn: 0.9618542\ttotal: 2.42s\tremaining: 642ms\n",
      "790:\tlearn: 0.9608160\ttotal: 2.42s\tremaining: 639ms\n",
      "791:\tlearn: 0.9597612\ttotal: 2.42s\tremaining: 636ms\n",
      "792:\tlearn: 0.9592199\ttotal: 2.42s\tremaining: 632ms\n",
      "793:\tlearn: 0.9589710\ttotal: 2.42s\tremaining: 629ms\n",
      "794:\tlearn: 0.9581634\ttotal: 2.43s\tremaining: 626ms\n",
      "795:\tlearn: 0.9569430\ttotal: 2.43s\tremaining: 623ms\n",
      "796:\tlearn: 0.9503376\ttotal: 2.43s\tremaining: 620ms\n",
      "797:\tlearn: 0.9492383\ttotal: 2.44s\tremaining: 616ms\n",
      "798:\tlearn: 0.9486289\ttotal: 2.44s\tremaining: 613ms\n",
      "799:\tlearn: 0.9452615\ttotal: 2.44s\tremaining: 610ms\n",
      "800:\tlearn: 0.9428180\ttotal: 2.44s\tremaining: 607ms\n",
      "801:\tlearn: 0.9421071\ttotal: 2.44s\tremaining: 604ms\n",
      "802:\tlearn: 0.9387863\ttotal: 2.45s\tremaining: 601ms\n",
      "803:\tlearn: 0.9334926\ttotal: 2.45s\tremaining: 597ms\n",
      "804:\tlearn: 0.9324972\ttotal: 2.45s\tremaining: 594ms\n",
      "805:\tlearn: 0.9321617\ttotal: 2.46s\tremaining: 591ms\n",
      "806:\tlearn: 0.9276518\ttotal: 2.46s\tremaining: 588ms\n",
      "807:\tlearn: 0.9244763\ttotal: 2.46s\tremaining: 585ms\n",
      "808:\tlearn: 0.9239074\ttotal: 2.46s\tremaining: 582ms\n",
      "809:\tlearn: 0.9237489\ttotal: 2.47s\tremaining: 579ms\n",
      "810:\tlearn: 0.9235511\ttotal: 2.47s\tremaining: 576ms\n",
      "811:\tlearn: 0.9165779\ttotal: 2.47s\tremaining: 573ms\n",
      "812:\tlearn: 0.9164556\ttotal: 2.48s\tremaining: 569ms\n",
      "813:\tlearn: 0.9143179\ttotal: 2.48s\tremaining: 566ms\n",
      "814:\tlearn: 0.9122445\ttotal: 2.48s\tremaining: 563ms\n",
      "815:\tlearn: 0.9102332\ttotal: 2.48s\tremaining: 560ms\n",
      "816:\tlearn: 0.9082824\ttotal: 2.49s\tremaining: 557ms\n",
      "817:\tlearn: 0.9080885\ttotal: 2.49s\tremaining: 554ms\n",
      "818:\tlearn: 0.9039303\ttotal: 2.49s\tremaining: 551ms\n",
      "819:\tlearn: 0.9038317\ttotal: 2.5s\tremaining: 548ms\n",
      "820:\tlearn: 0.9037321\ttotal: 2.5s\tremaining: 545ms\n",
      "821:\tlearn: 0.9035133\ttotal: 2.5s\tremaining: 542ms\n",
      "822:\tlearn: 0.9007296\ttotal: 2.5s\tremaining: 539ms\n",
      "823:\tlearn: 0.8995932\ttotal: 2.51s\tremaining: 536ms\n",
      "824:\tlearn: 0.8981055\ttotal: 2.51s\tremaining: 533ms\n",
      "825:\tlearn: 0.8978365\ttotal: 2.51s\tremaining: 530ms\n",
      "826:\tlearn: 0.8967367\ttotal: 2.52s\tremaining: 527ms\n",
      "827:\tlearn: 0.8956547\ttotal: 2.52s\tremaining: 524ms\n",
      "828:\tlearn: 0.8947219\ttotal: 2.52s\tremaining: 521ms\n",
      "829:\tlearn: 0.8946233\ttotal: 2.52s\tremaining: 517ms\n",
      "830:\tlearn: 0.8921549\ttotal: 2.53s\tremaining: 514ms\n",
      "831:\tlearn: 0.8897800\ttotal: 2.53s\tremaining: 511ms\n",
      "832:\tlearn: 0.8881054\ttotal: 2.53s\tremaining: 508ms\n",
      "833:\tlearn: 0.8850881\ttotal: 2.54s\tremaining: 505ms\n",
      "834:\tlearn: 0.8821614\ttotal: 2.54s\tremaining: 502ms\n",
      "835:\tlearn: 0.8793225\ttotal: 2.54s\tremaining: 499ms\n",
      "836:\tlearn: 0.8765687\ttotal: 2.54s\tremaining: 495ms\n",
      "837:\tlearn: 0.8738975\ttotal: 2.55s\tremaining: 492ms\n",
      "838:\tlearn: 0.8713065\ttotal: 2.55s\tremaining: 489ms\n",
      "839:\tlearn: 0.8687932\ttotal: 2.55s\tremaining: 486ms\n",
      "840:\tlearn: 0.8663553\ttotal: 2.55s\tremaining: 483ms\n",
      "841:\tlearn: 0.8639906\ttotal: 2.55s\tremaining: 479ms\n",
      "842:\tlearn: 0.8616968\ttotal: 2.56s\tremaining: 476ms\n",
      "843:\tlearn: 0.8594718\ttotal: 2.56s\tremaining: 473ms\n",
      "844:\tlearn: 0.8573136\ttotal: 2.56s\tremaining: 470ms\n",
      "845:\tlearn: 0.8572339\ttotal: 2.56s\tremaining: 467ms\n",
      "846:\tlearn: 0.8558357\ttotal: 2.57s\tremaining: 464ms\n",
      "847:\tlearn: 0.8554600\ttotal: 2.57s\tremaining: 460ms\n",
      "848:\tlearn: 0.8540236\ttotal: 2.57s\tremaining: 457ms\n",
      "849:\tlearn: 0.8535438\ttotal: 2.57s\tremaining: 454ms\n",
      "850:\tlearn: 0.8520083\ttotal: 2.58s\tremaining: 451ms\n",
      "851:\tlearn: 0.8510842\ttotal: 2.58s\tremaining: 448ms\n",
      "852:\tlearn: 0.8465795\ttotal: 2.58s\tremaining: 445ms\n",
      "853:\tlearn: 0.8465009\ttotal: 2.58s\tremaining: 442ms\n",
      "854:\tlearn: 0.8464083\ttotal: 2.58s\tremaining: 438ms\n",
      "855:\tlearn: 0.8424922\ttotal: 2.59s\tremaining: 435ms\n",
      "856:\tlearn: 0.8418698\ttotal: 2.59s\tremaining: 432ms\n",
      "857:\tlearn: 0.8405894\ttotal: 2.59s\tremaining: 429ms\n",
      "858:\tlearn: 0.8399216\ttotal: 2.59s\tremaining: 426ms\n",
      "859:\tlearn: 0.8390635\ttotal: 2.6s\tremaining: 423ms\n",
      "860:\tlearn: 0.8382367\ttotal: 2.6s\tremaining: 419ms\n",
      "861:\tlearn: 0.8377365\ttotal: 2.6s\tremaining: 416ms\n",
      "862:\tlearn: 0.8376742\ttotal: 2.6s\tremaining: 413ms\n",
      "863:\tlearn: 0.8366613\ttotal: 2.6s\tremaining: 410ms\n",
      "864:\tlearn: 0.8366000\ttotal: 2.61s\tremaining: 407ms\n",
      "865:\tlearn: 0.8359471\ttotal: 2.61s\tremaining: 404ms\n",
      "866:\tlearn: 0.8359017\ttotal: 2.61s\tremaining: 401ms\n",
      "867:\tlearn: 0.8319242\ttotal: 2.61s\tremaining: 398ms\n",
      "868:\tlearn: 0.8280673\ttotal: 2.62s\tremaining: 394ms\n",
      "869:\tlearn: 0.8240517\ttotal: 2.62s\tremaining: 391ms\n",
      "870:\tlearn: 0.8238573\ttotal: 2.62s\tremaining: 388ms\n",
      "871:\tlearn: 0.8238041\ttotal: 2.62s\tremaining: 385ms\n",
      "872:\tlearn: 0.8231662\ttotal: 2.62s\tremaining: 382ms\n",
      "873:\tlearn: 0.8229238\ttotal: 2.63s\tremaining: 379ms\n",
      "874:\tlearn: 0.8222518\ttotal: 2.63s\tremaining: 376ms\n"
     ]
    },
    {
     "name": "stdout",
     "output_type": "stream",
     "text": [
      "875:\tlearn: 0.8211635\ttotal: 2.63s\tremaining: 373ms\n",
      "876:\tlearn: 0.8201684\ttotal: 2.63s\tremaining: 370ms\n",
      "877:\tlearn: 0.8164336\ttotal: 2.64s\tremaining: 366ms\n",
      "878:\tlearn: 0.8156743\ttotal: 2.64s\tremaining: 363ms\n",
      "879:\tlearn: 0.8146732\ttotal: 2.64s\tremaining: 360ms\n",
      "880:\tlearn: 0.8146209\ttotal: 2.64s\tremaining: 357ms\n",
      "881:\tlearn: 0.8142289\ttotal: 2.65s\tremaining: 354ms\n",
      "882:\tlearn: 0.8139807\ttotal: 2.65s\tremaining: 351ms\n",
      "883:\tlearn: 0.8139090\ttotal: 2.65s\tremaining: 348ms\n",
      "884:\tlearn: 0.8138626\ttotal: 2.65s\tremaining: 345ms\n",
      "885:\tlearn: 0.8138027\ttotal: 2.66s\tremaining: 342ms\n",
      "886:\tlearn: 0.8134442\ttotal: 2.66s\tremaining: 339ms\n",
      "887:\tlearn: 0.8129073\ttotal: 2.66s\tremaining: 336ms\n",
      "888:\tlearn: 0.8118181\ttotal: 2.66s\tremaining: 333ms\n",
      "889:\tlearn: 0.8109795\ttotal: 2.67s\tremaining: 330ms\n",
      "890:\tlearn: 0.8065878\ttotal: 2.67s\tremaining: 327ms\n",
      "891:\tlearn: 0.8059691\ttotal: 2.67s\tremaining: 324ms\n",
      "892:\tlearn: 0.8057921\ttotal: 2.67s\tremaining: 321ms\n",
      "893:\tlearn: 0.8056471\ttotal: 2.68s\tremaining: 317ms\n",
      "894:\tlearn: 0.8056086\ttotal: 2.68s\tremaining: 314ms\n",
      "895:\tlearn: 0.8055729\ttotal: 2.68s\tremaining: 311ms\n",
      "896:\tlearn: 0.8054621\ttotal: 2.68s\tremaining: 308ms\n",
      "897:\tlearn: 0.8054106\ttotal: 2.69s\tremaining: 305ms\n",
      "898:\tlearn: 0.8045020\ttotal: 2.69s\tremaining: 302ms\n",
      "899:\tlearn: 0.8044526\ttotal: 2.69s\tremaining: 299ms\n",
      "900:\tlearn: 0.8041605\ttotal: 2.69s\tremaining: 296ms\n",
      "901:\tlearn: 0.8039883\ttotal: 2.69s\tremaining: 293ms\n",
      "902:\tlearn: 0.8036838\ttotal: 2.7s\tremaining: 290ms\n",
      "903:\tlearn: 0.8035124\ttotal: 2.7s\tremaining: 287ms\n",
      "904:\tlearn: 0.8026428\ttotal: 2.7s\tremaining: 284ms\n",
      "905:\tlearn: 0.8026052\ttotal: 2.71s\tremaining: 281ms\n",
      "906:\tlearn: 0.8025264\ttotal: 2.71s\tremaining: 278ms\n",
      "907:\tlearn: 0.8022001\ttotal: 2.71s\tremaining: 275ms\n",
      "908:\tlearn: 0.8015949\ttotal: 2.71s\tremaining: 272ms\n",
      "909:\tlearn: 0.8006845\ttotal: 2.71s\tremaining: 268ms\n",
      "910:\tlearn: 0.8006445\ttotal: 2.72s\tremaining: 266ms\n",
      "911:\tlearn: 0.7974897\ttotal: 2.72s\tremaining: 262ms\n",
      "912:\tlearn: 0.7974209\ttotal: 2.72s\tremaining: 259ms\n",
      "913:\tlearn: 0.7972912\ttotal: 2.72s\tremaining: 256ms\n",
      "914:\tlearn: 0.7968621\ttotal: 2.73s\tremaining: 253ms\n",
      "915:\tlearn: 0.7963597\ttotal: 2.73s\tremaining: 250ms\n",
      "916:\tlearn: 0.7963407\ttotal: 2.73s\tremaining: 247ms\n",
      "917:\tlearn: 0.7963155\ttotal: 2.73s\tremaining: 244ms\n",
      "918:\tlearn: 0.7960375\ttotal: 2.74s\tremaining: 241ms\n",
      "919:\tlearn: 0.7958675\ttotal: 2.74s\tremaining: 238ms\n",
      "920:\tlearn: 0.7950888\ttotal: 2.74s\tremaining: 235ms\n",
      "921:\tlearn: 0.7944386\ttotal: 2.74s\tremaining: 232ms\n",
      "922:\tlearn: 0.7942108\ttotal: 2.75s\tremaining: 229ms\n",
      "923:\tlearn: 0.7940592\ttotal: 2.75s\tremaining: 226ms\n",
      "924:\tlearn: 0.7937600\ttotal: 2.75s\tremaining: 223ms\n",
      "925:\tlearn: 0.7936088\ttotal: 2.75s\tremaining: 220ms\n",
      "926:\tlearn: 0.7933582\ttotal: 2.75s\tremaining: 217ms\n",
      "927:\tlearn: 0.7927411\ttotal: 2.76s\tremaining: 214ms\n",
      "928:\tlearn: 0.7922570\ttotal: 2.76s\tremaining: 211ms\n",
      "929:\tlearn: 0.7890606\ttotal: 2.76s\tremaining: 208ms\n",
      "930:\tlearn: 0.7882761\ttotal: 2.76s\tremaining: 205ms\n",
      "931:\tlearn: 0.7877367\ttotal: 2.77s\tremaining: 202ms\n",
      "932:\tlearn: 0.7876360\ttotal: 2.77s\tremaining: 199ms\n",
      "933:\tlearn: 0.7872991\ttotal: 2.77s\tremaining: 196ms\n",
      "934:\tlearn: 0.7867896\ttotal: 2.77s\tremaining: 193ms\n",
      "935:\tlearn: 0.7864048\ttotal: 2.77s\tremaining: 190ms\n",
      "936:\tlearn: 0.7829447\ttotal: 2.78s\tremaining: 187ms\n",
      "937:\tlearn: 0.7828327\ttotal: 2.78s\tremaining: 184ms\n",
      "938:\tlearn: 0.7827241\ttotal: 2.78s\tremaining: 181ms\n",
      "939:\tlearn: 0.7826200\ttotal: 2.78s\tremaining: 178ms\n",
      "940:\tlearn: 0.7820999\ttotal: 2.79s\tremaining: 175ms\n",
      "941:\tlearn: 0.7817006\ttotal: 2.79s\tremaining: 172ms\n",
      "942:\tlearn: 0.7816025\ttotal: 2.79s\tremaining: 169ms\n",
      "943:\tlearn: 0.7815086\ttotal: 2.79s\tremaining: 166ms\n",
      "944:\tlearn: 0.7810139\ttotal: 2.79s\tremaining: 163ms\n",
      "945:\tlearn: 0.7805340\ttotal: 2.8s\tremaining: 160ms\n",
      "946:\tlearn: 0.7800685\ttotal: 2.8s\tremaining: 157ms\n",
      "947:\tlearn: 0.7797387\ttotal: 2.8s\tremaining: 154ms\n",
      "948:\tlearn: 0.7797051\ttotal: 2.81s\tremaining: 151ms\n",
      "949:\tlearn: 0.7796093\ttotal: 2.81s\tremaining: 148ms\n",
      "950:\tlearn: 0.7763415\ttotal: 2.81s\tremaining: 145ms\n",
      "951:\tlearn: 0.7762660\ttotal: 2.81s\tremaining: 142ms\n",
      "952:\tlearn: 0.7734243\ttotal: 2.81s\tremaining: 139ms\n",
      "953:\tlearn: 0.7732380\ttotal: 2.82s\tremaining: 136ms\n",
      "954:\tlearn: 0.7703608\ttotal: 2.82s\tremaining: 133ms\n",
      "955:\tlearn: 0.7697433\ttotal: 2.82s\tremaining: 130ms\n",
      "956:\tlearn: 0.7696114\ttotal: 2.82s\tremaining: 127ms\n",
      "957:\tlearn: 0.7695174\ttotal: 2.83s\tremaining: 124ms\n",
      "958:\tlearn: 0.7694489\ttotal: 2.83s\tremaining: 121ms\n",
      "959:\tlearn: 0.7691904\ttotal: 2.83s\tremaining: 118ms\n",
      "960:\tlearn: 0.7683887\ttotal: 2.83s\tremaining: 115ms\n",
      "961:\tlearn: 0.7683682\ttotal: 2.83s\tremaining: 112ms\n",
      "962:\tlearn: 0.7682942\ttotal: 2.84s\tremaining: 109ms\n",
      "963:\tlearn: 0.7679425\ttotal: 2.84s\tremaining: 106ms\n",
      "964:\tlearn: 0.7679179\ttotal: 2.84s\tremaining: 103ms\n",
      "965:\tlearn: 0.7678941\ttotal: 2.84s\tremaining: 100ms\n",
      "966:\tlearn: 0.7678709\ttotal: 2.85s\tremaining: 97.1ms\n",
      "967:\tlearn: 0.7678485\ttotal: 2.85s\tremaining: 94.2ms\n",
      "968:\tlearn: 0.7676135\ttotal: 2.85s\tremaining: 91.2ms\n",
      "969:\tlearn: 0.7673620\ttotal: 2.85s\tremaining: 88.2ms\n",
      "970:\tlearn: 0.7643842\ttotal: 2.85s\tremaining: 85.3ms\n",
      "971:\tlearn: 0.7614957\ttotal: 2.86s\tremaining: 82.3ms\n",
      "972:\tlearn: 0.7602763\ttotal: 2.86s\tremaining: 79.4ms\n",
      "973:\tlearn: 0.7592612\ttotal: 2.86s\tremaining: 76.4ms\n",
      "974:\tlearn: 0.7590915\ttotal: 2.86s\tremaining: 73.5ms\n",
      "975:\tlearn: 0.7588101\ttotal: 2.87s\tremaining: 70.5ms\n",
      "976:\tlearn: 0.7585310\ttotal: 2.87s\tremaining: 67.5ms\n",
      "977:\tlearn: 0.7582483\ttotal: 2.87s\tremaining: 64.6ms\n",
      "978:\tlearn: 0.7574107\ttotal: 2.87s\tremaining: 61.6ms\n",
      "979:\tlearn: 0.7565975\ttotal: 2.88s\tremaining: 58.7ms\n",
      "980:\tlearn: 0.7558087\ttotal: 2.88s\tremaining: 55.8ms\n",
      "981:\tlearn: 0.7549821\ttotal: 2.88s\tremaining: 52.8ms\n",
      "982:\tlearn: 0.7548963\ttotal: 2.88s\tremaining: 49.9ms\n",
      "983:\tlearn: 0.7494708\ttotal: 2.88s\tremaining: 46.9ms\n",
      "984:\tlearn: 0.7488087\ttotal: 2.89s\tremaining: 44ms\n",
      "985:\tlearn: 0.7481686\ttotal: 2.89s\tremaining: 41ms\n",
      "986:\tlearn: 0.7457637\ttotal: 2.89s\tremaining: 38.1ms\n",
      "987:\tlearn: 0.7457069\ttotal: 2.89s\tremaining: 35.1ms\n",
      "988:\tlearn: 0.7452591\ttotal: 2.9s\tremaining: 32.2ms\n",
      "989:\tlearn: 0.7448498\ttotal: 2.9s\tremaining: 29.3ms\n",
      "990:\tlearn: 0.7448274\ttotal: 2.9s\tremaining: 26.3ms\n",
      "991:\tlearn: 0.7446925\ttotal: 2.9s\tremaining: 23.4ms\n",
      "992:\tlearn: 0.7446371\ttotal: 2.9s\tremaining: 20.5ms\n",
      "993:\tlearn: 0.7445864\ttotal: 2.91s\tremaining: 17.6ms\n",
      "994:\tlearn: 0.7445661\ttotal: 2.91s\tremaining: 14.6ms\n",
      "995:\tlearn: 0.7445222\ttotal: 2.91s\tremaining: 11.7ms\n",
      "996:\tlearn: 0.7445078\ttotal: 2.93s\tremaining: 8.81ms\n",
      "997:\tlearn: 0.7437658\ttotal: 2.93s\tremaining: 5.87ms\n",
      "998:\tlearn: 0.7435349\ttotal: 2.93s\tremaining: 2.94ms\n",
      "999:\tlearn: 0.7433723\ttotal: 2.94s\tremaining: 0us\n"
     ]
    }
   ],
   "source": [
    "X_train = train_up.drop(columns=['단지코드','등록차량수','지역'],axis=1)\n",
    "X_train = X_train[col]\n",
    "y_train = train_up['등록차량수']\n",
    "X_test = test_up.drop(columns=['단지코드','지역'],axis=1)\n",
    "X_test['area_3'] = 0\n",
    "X_test['area_4'] = 0\n",
    "X_test = X_test[col]\n",
    "\n",
    "cb_up = CatBoostRegressor(random_state=2021, loss_function = 'MAE').fit(X_train,y_train)\n",
    "pred_up = cb_up.predict(X_test)"
   ]
  },
  {
   "cell_type": "code",
   "execution_count": 37,
   "metadata": {},
   "outputs": [],
   "source": [
    "def get_pred():\n",
    "    res_down = pd.DataFrame()\n",
    "    res_down['code'] = test_down['단지코드'].values\n",
    "    res_down['num'] = pred_down\n",
    "    res_up = pd.DataFrame()\n",
    "    res_up['code'] = test_up['단지코드'].values\n",
    "    res_up['num'] = pred_up \n",
    "    res = pd.concat([res_down,res_up],axis=0).reset_index(drop=True)\n",
    "    return res_down, res_up, res"
   ]
  },
  {
   "cell_type": "code",
   "execution_count": 51,
   "metadata": {},
   "outputs": [],
   "source": [
    "res2.columns = ['단지코드','96','y_pred']"
   ]
  },
  {
   "cell_type": "code",
   "execution_count": 52,
   "metadata": {},
   "outputs": [],
   "source": [
    "res2 = res2.loc[res2['단지코드'].isin(test_up['단지코드'].values),:]"
   ]
  },
  {
   "cell_type": "code",
   "execution_count": 206,
   "metadata": {},
   "outputs": [
    {
     "data": {
      "text/plain": [
       "<matplotlib.axes._subplots.AxesSubplot at 0x23079ae2970>"
      ]
     },
     "execution_count": 206,
     "metadata": {},
     "output_type": "execute_result"
    },
    {
     "data": {
      "image/png": "[encoded data removed]",
      "text/plain": [
       "<Figure size 2160x1080 with 3 Axes>"
      ]
     },
     "metadata": {
      "needs_background": "light"
     },
     "output_type": "display_data"
    }
   ],
   "source": [
    "#ridge\n",
    "fig, ax = plt.subplots(3,1,figsize=(30,15))\n",
    "sns.kdeplot(data=train_up,x='등록차량수',ax=ax[0])\n",
    "sns.kdeplot(data=get_pred()[1],x='num',ax=ax[0])\n",
    "sns.kdeplot(data=res2,x='96',ax=ax[0])\n",
    "sns.kdeplot(data=train_down,x='등록차량수',ax=ax[1])\n",
    "sns.kdeplot(data=get_pred()[0],x='num',ax=ax[1])\n",
    "sns.kdeplot(data=train_one,x='등록차량수',ax=ax[2])\n",
    "sns.kdeplot(data=get_pred()[2],x='num',ax=ax[2])"
   ]
  },
  {
   "cell_type": "code",
   "execution_count": 53,
   "metadata": {},
   "outputs": [
    {
     "data": {
      "text/plain": [
       "<matplotlib.axes._subplots.AxesSubplot at 0x15319a51700>"
      ]
     },
     "execution_count": 53,
     "metadata": {},
     "output_type": "execute_result"
    },
    {
     "data": {
      "image/png": "[encoded data removed]",
      "text/plain": [
       "<Figure size 2160x1080 with 3 Axes>"
      ]
     },
     "metadata": {
      "needs_background": "light"
     },
     "output_type": "display_data"
    }
   ],
   "source": [
    "#CATBOOST\n",
    "fig, ax = plt.subplots(3,1,figsize=(30,15))\n",
    "sns.kdeplot(data=train_up,x='등록차량수',ax=ax[0])\n",
    "sns.kdeplot(data=get_pred()[1],x='num',ax=ax[0])\n",
    "sns.kdeplot(data=res2,x='96',ax=ax[0])\n",
    "sns.kdeplot(data=train_down,x='등록차량수',ax=ax[1])\n",
    "sns.kdeplot(data=get_pred()[0],x='num',ax=ax[1])\n",
    "sns.kdeplot(data=train_one,x='등록차량수',ax=ax[2])\n",
    "sns.kdeplot(data=get_pred()[2],x='num',ax=ax[2])"
   ]
  },
  {
   "cell_type": "markdown",
   "metadata": {},
   "source": [
    "- '제주특별자치도','경상남도','부산광역시' : 0 →  등록차량수<총세대수\n",
    "- '광주광역시','세종특별자치시','경상북도','전라북도','서울특별시' :1 →  등록차량수>총세대수\n",
    "- 대구광역시 & (국민임대,영구임대) : 2  →  등록차량수<총세대수\n",
    "- 대구광역시 & (공공임대(단기)) : 3  →  등록차량수>총세대수\n",
    "- 경기도, 전라남도, 대전광역시, 충청북도 & (영구임대,행복주택)  →  등록차량수<총세대수\n",
    "- 경기도, 전라남도, 대전광역시, 충청북도 & (공공임대(단기),공공분양,공공임대(분납))  →  등록차량수>총세대수\n",
    "- 경기도, 전라남도, 대전광역시, 충청북도 & (국민임대)  →  모름"
   ]
  },
  {
   "cell_type": "code",
   "execution_count": 54,
   "metadata": {},
   "outputs": [],
   "source": [
    "test_up['y_pred'] = pred_up"
   ]
  },
  {
   "cell_type": "code",
   "execution_count": 55,
   "metadata": {},
   "outputs": [],
   "source": [
    "tmp = pd.merge(test_up[['지역','총세대수','y_pred','단지코드']],res2[['단지코드','96']],on='단지코드',how='inner')"
   ]
  },
  {
   "cell_type": "code",
   "execution_count": 56,
   "metadata": {},
   "outputs": [
    {
     "data": {
      "text/html": [
       "<div>\n",
       "<style scoped>\n",
       "    .dataframe tbody tr th:only-of-type {\n",
       "        vertical-align: middle;\n",
       "    }\n",
       "\n",
       "    .dataframe tbody tr th {\n",
       "        vertical-align: top;\n",
       "    }\n",
       "\n",
       "    .dataframe thead th {\n",
       "        text-align: right;\n",
       "    }\n",
       "</style>\n",
       "<table border=\"1\" class=\"dataframe\">\n",
       "  <thead>\n",
       "    <tr style=\"text-align: right;\">\n",
       "      <th></th>\n",
       "      <th>단지코드</th>\n",
       "      <th>총세대수</th>\n",
       "      <th>y_pred</th>\n",
       "      <th>96</th>\n",
       "    </tr>\n",
       "  </thead>\n",
       "  <tbody>\n",
       "    <tr>\n",
       "      <th>4</th>\n",
       "      <td>C1152</td>\n",
       "      <td>1301</td>\n",
       "      <td>847.945150</td>\n",
       "      <td>847.316183</td>\n",
       "    </tr>\n",
       "    <tr>\n",
       "      <th>7</th>\n",
       "      <td>C1617</td>\n",
       "      <td>1008</td>\n",
       "      <td>1037.972142</td>\n",
       "      <td>1067.296112</td>\n",
       "    </tr>\n",
       "    <tr>\n",
       "      <th>9</th>\n",
       "      <td>C2028</td>\n",
       "      <td>1267</td>\n",
       "      <td>1077.509941</td>\n",
       "      <td>1060.469848</td>\n",
       "    </tr>\n",
       "    <tr>\n",
       "      <th>12</th>\n",
       "      <td>C2076</td>\n",
       "      <td>1385</td>\n",
       "      <td>994.711004</td>\n",
       "      <td>1023.262869</td>\n",
       "    </tr>\n",
       "  </tbody>\n",
       "</table>\n",
       "</div>"
      ],
      "text/plain": [
       "     단지코드  총세대수       y_pred           96\n",
       "4   C1152  1301   847.945150   847.316183\n",
       "7   C1617  1008  1037.972142  1067.296112\n",
       "9   C2028  1267  1077.509941  1060.469848\n",
       "12  C2076  1385   994.711004  1023.262869"
      ]
     },
     "execution_count": 56,
     "metadata": {},
     "output_type": "execute_result"
    }
   ],
   "source": [
    "tmp[tmp['지역']==0][['단지코드','총세대수','y_pred','96']] #등록차량수 < 총세대수 CATBOOST"
   ]
  },
  {
   "cell_type": "code",
   "execution_count": 155,
   "metadata": {},
   "outputs": [
    {
     "data": {
      "text/html": [
       "<div>\n",
       "<style scoped>\n",
       "    .dataframe tbody tr th:only-of-type {\n",
       "        vertical-align: middle;\n",
       "    }\n",
       "\n",
       "    .dataframe tbody tr th {\n",
       "        vertical-align: top;\n",
       "    }\n",
       "\n",
       "    .dataframe thead th {\n",
       "        text-align: right;\n",
       "    }\n",
       "</style>\n",
       "<table border=\"1\" class=\"dataframe\">\n",
       "  <thead>\n",
       "    <tr style=\"text-align: right;\">\n",
       "      <th></th>\n",
       "      <th>단지코드</th>\n",
       "      <th>총세대수</th>\n",
       "      <th>y_pred</th>\n",
       "      <th>96</th>\n",
       "    </tr>\n",
       "  </thead>\n",
       "  <tbody>\n",
       "    <tr>\n",
       "      <th>4</th>\n",
       "      <td>C1152</td>\n",
       "      <td>1301</td>\n",
       "      <td>605.218207</td>\n",
       "      <td>847.316183</td>\n",
       "    </tr>\n",
       "    <tr>\n",
       "      <th>7</th>\n",
       "      <td>C1617</td>\n",
       "      <td>1008</td>\n",
       "      <td>603.131470</td>\n",
       "      <td>1067.296112</td>\n",
       "    </tr>\n",
       "    <tr>\n",
       "      <th>9</th>\n",
       "      <td>C2028</td>\n",
       "      <td>1267</td>\n",
       "      <td>1273.109946</td>\n",
       "      <td>1060.469848</td>\n",
       "    </tr>\n",
       "    <tr>\n",
       "      <th>12</th>\n",
       "      <td>C2076</td>\n",
       "      <td>1385</td>\n",
       "      <td>1259.298245</td>\n",
       "      <td>1023.262869</td>\n",
       "    </tr>\n",
       "  </tbody>\n",
       "</table>\n",
       "</div>"
      ],
      "text/plain": [
       "     단지코드  총세대수       y_pred           96\n",
       "4   C1152  1301   605.218207   847.316183\n",
       "7   C1617  1008   603.131470  1067.296112\n",
       "9   C2028  1267  1273.109946  1060.469848\n",
       "12  C2076  1385  1259.298245  1023.262869"
      ]
     },
     "execution_count": 155,
     "metadata": {},
     "output_type": "execute_result"
    }
   ],
   "source": [
    "tmp[tmp['지역']==0][['단지코드','총세대수','y_pred','96']] #lasso"
   ]
  },
  {
   "cell_type": "code",
   "execution_count": 57,
   "metadata": {},
   "outputs": [
    {
     "data": {
      "text/html": [
       "<div>\n",
       "<style scoped>\n",
       "    .dataframe tbody tr th:only-of-type {\n",
       "        vertical-align: middle;\n",
       "    }\n",
       "\n",
       "    .dataframe tbody tr th {\n",
       "        vertical-align: top;\n",
       "    }\n",
       "\n",
       "    .dataframe thead th {\n",
       "        text-align: right;\n",
       "    }\n",
       "</style>\n",
       "<table border=\"1\" class=\"dataframe\">\n",
       "  <thead>\n",
       "    <tr style=\"text-align: right;\">\n",
       "      <th></th>\n",
       "      <th>단지코드</th>\n",
       "      <th>총세대수</th>\n",
       "      <th>y_pred</th>\n",
       "      <th>96</th>\n",
       "    </tr>\n",
       "  </thead>\n",
       "  <tbody>\n",
       "    <tr>\n",
       "      <th>3</th>\n",
       "      <td>C1794</td>\n",
       "      <td>1349</td>\n",
       "      <td>1100.930742</td>\n",
       "      <td>1048.372040</td>\n",
       "    </tr>\n",
       "    <tr>\n",
       "      <th>5</th>\n",
       "      <td>C2555</td>\n",
       "      <td>1442</td>\n",
       "      <td>1433.338368</td>\n",
       "      <td>1440.366369</td>\n",
       "    </tr>\n",
       "    <tr>\n",
       "      <th>11</th>\n",
       "      <td>C1521</td>\n",
       "      <td>1414</td>\n",
       "      <td>1169.274101</td>\n",
       "      <td>1178.800599</td>\n",
       "    </tr>\n",
       "    <tr>\n",
       "      <th>13</th>\n",
       "      <td>C2473</td>\n",
       "      <td>1147</td>\n",
       "      <td>1206.883256</td>\n",
       "      <td>1191.698222</td>\n",
       "    </tr>\n",
       "  </tbody>\n",
       "</table>\n",
       "</div>"
      ],
      "text/plain": [
       "     단지코드  총세대수       y_pred           96\n",
       "3   C1794  1349  1100.930742  1048.372040\n",
       "5   C2555  1442  1433.338368  1440.366369\n",
       "11  C1521  1414  1169.274101  1178.800599\n",
       "13  C2473  1147  1206.883256  1191.698222"
      ]
     },
     "execution_count": 57,
     "metadata": {},
     "output_type": "execute_result"
    }
   ],
   "source": [
    "tmp[tmp['지역']==1][['단지코드','총세대수','y_pred','96']] #등록차량수 > 총세대수 CAT"
   ]
  },
  {
   "cell_type": "code",
   "execution_count": 156,
   "metadata": {},
   "outputs": [
    {
     "data": {
      "text/html": [
       "<div>\n",
       "<style scoped>\n",
       "    .dataframe tbody tr th:only-of-type {\n",
       "        vertical-align: middle;\n",
       "    }\n",
       "\n",
       "    .dataframe tbody tr th {\n",
       "        vertical-align: top;\n",
       "    }\n",
       "\n",
       "    .dataframe thead th {\n",
       "        text-align: right;\n",
       "    }\n",
       "</style>\n",
       "<table border=\"1\" class=\"dataframe\">\n",
       "  <thead>\n",
       "    <tr style=\"text-align: right;\">\n",
       "      <th></th>\n",
       "      <th>단지코드</th>\n",
       "      <th>총세대수</th>\n",
       "      <th>y_pred</th>\n",
       "      <th>96</th>\n",
       "    </tr>\n",
       "  </thead>\n",
       "  <tbody>\n",
       "    <tr>\n",
       "      <th>3</th>\n",
       "      <td>C1794</td>\n",
       "      <td>1349</td>\n",
       "      <td>1112.146391</td>\n",
       "      <td>1048.372040</td>\n",
       "    </tr>\n",
       "    <tr>\n",
       "      <th>5</th>\n",
       "      <td>C2555</td>\n",
       "      <td>1442</td>\n",
       "      <td>1641.692013</td>\n",
       "      <td>1440.366369</td>\n",
       "    </tr>\n",
       "    <tr>\n",
       "      <th>11</th>\n",
       "      <td>C1521</td>\n",
       "      <td>1414</td>\n",
       "      <td>1382.189341</td>\n",
       "      <td>1178.800599</td>\n",
       "    </tr>\n",
       "    <tr>\n",
       "      <th>13</th>\n",
       "      <td>C2473</td>\n",
       "      <td>1147</td>\n",
       "      <td>1285.542854</td>\n",
       "      <td>1191.698222</td>\n",
       "    </tr>\n",
       "  </tbody>\n",
       "</table>\n",
       "</div>"
      ],
      "text/plain": [
       "     단지코드  총세대수       y_pred           96\n",
       "3   C1794  1349  1112.146391  1048.372040\n",
       "5   C2555  1442  1641.692013  1440.366369\n",
       "11  C1521  1414  1382.189341  1178.800599\n",
       "13  C2473  1147  1285.542854  1191.698222"
      ]
     },
     "execution_count": 156,
     "metadata": {},
     "output_type": "execute_result"
    }
   ],
   "source": [
    "tmp[tmp['지역']==1][['단지코드','총세대수','y_pred','96']] #lasso  등록차량수 > 총세대수"
   ]
  },
  {
   "cell_type": "code",
   "execution_count": 60,
   "metadata": {},
   "outputs": [
    {
     "data": {
      "text/html": [
       "<div>\n",
       "<style scoped>\n",
       "    .dataframe tbody tr th:only-of-type {\n",
       "        vertical-align: middle;\n",
       "    }\n",
       "\n",
       "    .dataframe tbody tr th {\n",
       "        vertical-align: top;\n",
       "    }\n",
       "\n",
       "    .dataframe thead th {\n",
       "        text-align: right;\n",
       "    }\n",
       "</style>\n",
       "<table border=\"1\" class=\"dataframe\">\n",
       "  <thead>\n",
       "    <tr style=\"text-align: right;\">\n",
       "      <th></th>\n",
       "      <th>단지코드</th>\n",
       "      <th>총세대수</th>\n",
       "      <th>y_pred</th>\n",
       "      <th>96</th>\n",
       "    </tr>\n",
       "  </thead>\n",
       "  <tbody>\n",
       "    <tr>\n",
       "      <th>16</th>\n",
       "      <td>C1692</td>\n",
       "      <td>1390</td>\n",
       "      <td>939.402218</td>\n",
       "      <td>969.00496</td>\n",
       "    </tr>\n",
       "  </tbody>\n",
       "</table>\n",
       "</div>"
      ],
      "text/plain": [
       "     단지코드  총세대수      y_pred         96\n",
       "16  C1692  1390  939.402218  969.00496"
      ]
     },
     "execution_count": 60,
     "metadata": {},
     "output_type": "execute_result"
    }
   ],
   "source": [
    "tmp[tmp['지역']==2][['단지코드','총세대수','y_pred','96']] # 등록차량수<총세대수 CAT"
   ]
  },
  {
   "cell_type": "code",
   "execution_count": 157,
   "metadata": {},
   "outputs": [
    {
     "data": {
      "text/html": [
       "<div>\n",
       "<style scoped>\n",
       "    .dataframe tbody tr th:only-of-type {\n",
       "        vertical-align: middle;\n",
       "    }\n",
       "\n",
       "    .dataframe tbody tr th {\n",
       "        vertical-align: top;\n",
       "    }\n",
       "\n",
       "    .dataframe thead th {\n",
       "        text-align: right;\n",
       "    }\n",
       "</style>\n",
       "<table border=\"1\" class=\"dataframe\">\n",
       "  <thead>\n",
       "    <tr style=\"text-align: right;\">\n",
       "      <th></th>\n",
       "      <th>단지코드</th>\n",
       "      <th>총세대수</th>\n",
       "      <th>y_pred</th>\n",
       "      <th>96</th>\n",
       "    </tr>\n",
       "  </thead>\n",
       "  <tbody>\n",
       "    <tr>\n",
       "      <th>16</th>\n",
       "      <td>C1692</td>\n",
       "      <td>1390</td>\n",
       "      <td>368.44202</td>\n",
       "      <td>969.00496</td>\n",
       "    </tr>\n",
       "  </tbody>\n",
       "</table>\n",
       "</div>"
      ],
      "text/plain": [
       "     단지코드  총세대수     y_pred         96\n",
       "16  C1692  1390  368.44202  969.00496"
      ]
     },
     "execution_count": 157,
     "metadata": {},
     "output_type": "execute_result"
    }
   ],
   "source": [
    "tmp[tmp['지역']==2][['단지코드','총세대수','y_pred','96']] # lasso 등록차량수<총세대수"
   ]
  },
  {
   "cell_type": "code",
   "execution_count": 61,
   "metadata": {},
   "outputs": [
    {
     "data": {
      "text/html": [
       "<div>\n",
       "<style scoped>\n",
       "    .dataframe tbody tr th:only-of-type {\n",
       "        vertical-align: middle;\n",
       "    }\n",
       "\n",
       "    .dataframe tbody tr th {\n",
       "        vertical-align: top;\n",
       "    }\n",
       "\n",
       "    .dataframe thead th {\n",
       "        text-align: right;\n",
       "    }\n",
       "</style>\n",
       "<table border=\"1\" class=\"dataframe\">\n",
       "  <thead>\n",
       "    <tr style=\"text-align: right;\">\n",
       "      <th></th>\n",
       "      <th>단지코드</th>\n",
       "      <th>총세대수</th>\n",
       "      <th>y_pred</th>\n",
       "      <th>96</th>\n",
       "    </tr>\n",
       "  </thead>\n",
       "  <tbody>\n",
       "    <tr>\n",
       "      <th>18</th>\n",
       "      <td>C2303</td>\n",
       "      <td>963</td>\n",
       "      <td>1291.597716</td>\n",
       "      <td>1287.071971</td>\n",
       "    </tr>\n",
       "  </tbody>\n",
       "</table>\n",
       "</div>"
      ],
      "text/plain": [
       "     단지코드  총세대수       y_pred           96\n",
       "18  C2303   963  1291.597716  1287.071971"
      ]
     },
     "execution_count": 61,
     "metadata": {},
     "output_type": "execute_result"
    }
   ],
   "source": [
    "tmp[tmp['지역']==5][['단지코드','총세대수','y_pred','96']] #등록차량수 > 총세대수(공공임대단기) CAT"
   ]
  },
  {
   "cell_type": "code",
   "execution_count": 158,
   "metadata": {},
   "outputs": [
    {
     "data": {
      "text/html": [
       "<div>\n",
       "<style scoped>\n",
       "    .dataframe tbody tr th:only-of-type {\n",
       "        vertical-align: middle;\n",
       "    }\n",
       "\n",
       "    .dataframe tbody tr th {\n",
       "        vertical-align: top;\n",
       "    }\n",
       "\n",
       "    .dataframe thead th {\n",
       "        text-align: right;\n",
       "    }\n",
       "</style>\n",
       "<table border=\"1\" class=\"dataframe\">\n",
       "  <thead>\n",
       "    <tr style=\"text-align: right;\">\n",
       "      <th></th>\n",
       "      <th>단지코드</th>\n",
       "      <th>총세대수</th>\n",
       "      <th>y_pred</th>\n",
       "      <th>96</th>\n",
       "    </tr>\n",
       "  </thead>\n",
       "  <tbody>\n",
       "    <tr>\n",
       "      <th>18</th>\n",
       "      <td>C2303</td>\n",
       "      <td>963</td>\n",
       "      <td>1338.774326</td>\n",
       "      <td>1287.071971</td>\n",
       "    </tr>\n",
       "  </tbody>\n",
       "</table>\n",
       "</div>"
      ],
      "text/plain": [
       "     단지코드  총세대수       y_pred           96\n",
       "18  C2303   963  1338.774326  1287.071971"
      ]
     },
     "execution_count": 158,
     "metadata": {},
     "output_type": "execute_result"
    }
   ],
   "source": [
    "tmp[tmp['지역']==5][['단지코드','총세대수','y_pred','96']]"
   ]
  },
  {
   "cell_type": "code",
   "execution_count": 62,
   "metadata": {},
   "outputs": [
    {
     "data": {
      "text/html": [
       "<div>\n",
       "<style scoped>\n",
       "    .dataframe tbody tr th:only-of-type {\n",
       "        vertical-align: middle;\n",
       "    }\n",
       "\n",
       "    .dataframe tbody tr th {\n",
       "        vertical-align: top;\n",
       "    }\n",
       "\n",
       "    .dataframe thead th {\n",
       "        text-align: right;\n",
       "    }\n",
       "</style>\n",
       "<table border=\"1\" class=\"dataframe\">\n",
       "  <thead>\n",
       "    <tr style=\"text-align: right;\">\n",
       "      <th></th>\n",
       "      <th>단지코드</th>\n",
       "      <th>총세대수</th>\n",
       "      <th>y_pred</th>\n",
       "      <th>96</th>\n",
       "    </tr>\n",
       "  </thead>\n",
       "  <tbody>\n",
       "    <tr>\n",
       "      <th>0</th>\n",
       "      <td>C1128</td>\n",
       "      <td>1354</td>\n",
       "      <td>1135.681347</td>\n",
       "      <td>1188.382634</td>\n",
       "    </tr>\n",
       "    <tr>\n",
       "      <th>1</th>\n",
       "      <td>C1332</td>\n",
       "      <td>1297</td>\n",
       "      <td>1311.729664</td>\n",
       "      <td>1327.919226</td>\n",
       "    </tr>\n",
       "    <tr>\n",
       "      <th>2</th>\n",
       "      <td>C1563</td>\n",
       "      <td>1974</td>\n",
       "      <td>1653.024504</td>\n",
       "      <td>1797.687836</td>\n",
       "    </tr>\n",
       "    <tr>\n",
       "      <th>6</th>\n",
       "      <td>C2608</td>\n",
       "      <td>1138</td>\n",
       "      <td>1079.141677</td>\n",
       "      <td>1193.936851</td>\n",
       "    </tr>\n",
       "    <tr>\n",
       "      <th>8</th>\n",
       "      <td>C1250</td>\n",
       "      <td>981</td>\n",
       "      <td>1219.253002</td>\n",
       "      <td>1205.940954</td>\n",
       "    </tr>\n",
       "    <tr>\n",
       "      <th>14</th>\n",
       "      <td>C1525</td>\n",
       "      <td>1331</td>\n",
       "      <td>1184.858886</td>\n",
       "      <td>1139.379376</td>\n",
       "    </tr>\n",
       "    <tr>\n",
       "      <th>15</th>\n",
       "      <td>C2267</td>\n",
       "      <td>1191</td>\n",
       "      <td>996.887269</td>\n",
       "      <td>940.641339</td>\n",
       "    </tr>\n",
       "    <tr>\n",
       "      <th>17</th>\n",
       "      <td>C1570</td>\n",
       "      <td>1278</td>\n",
       "      <td>926.100620</td>\n",
       "      <td>899.031182</td>\n",
       "    </tr>\n",
       "  </tbody>\n",
       "</table>\n",
       "</div>"
      ],
      "text/plain": [
       "     단지코드  총세대수       y_pred           96\n",
       "0   C1128  1354  1135.681347  1188.382634\n",
       "1   C1332  1297  1311.729664  1327.919226\n",
       "2   C1563  1974  1653.024504  1797.687836\n",
       "6   C2608  1138  1079.141677  1193.936851\n",
       "8   C1250   981  1219.253002  1205.940954\n",
       "14  C1525  1331  1184.858886  1139.379376\n",
       "15  C2267  1191   996.887269   940.641339\n",
       "17  C1570  1278   926.100620   899.031182"
      ]
     },
     "execution_count": 62,
     "metadata": {},
     "output_type": "execute_result"
    }
   ],
   "source": [
    "tmp[tmp['지역']==6][['단지코드','총세대수','y_pred','96']] #ridge?!"
   ]
  },
  {
   "cell_type": "code",
   "execution_count": 167,
   "metadata": {},
   "outputs": [
    {
     "data": {
      "text/html": [
       "<div>\n",
       "<style scoped>\n",
       "    .dataframe tbody tr th:only-of-type {\n",
       "        vertical-align: middle;\n",
       "    }\n",
       "\n",
       "    .dataframe tbody tr th {\n",
       "        vertical-align: top;\n",
       "    }\n",
       "\n",
       "    .dataframe thead th {\n",
       "        text-align: right;\n",
       "    }\n",
       "</style>\n",
       "<table border=\"1\" class=\"dataframe\">\n",
       "  <thead>\n",
       "    <tr style=\"text-align: right;\">\n",
       "      <th></th>\n",
       "      <th>단지코드</th>\n",
       "      <th>총세대수</th>\n",
       "      <th>y_pred</th>\n",
       "      <th>96</th>\n",
       "    </tr>\n",
       "  </thead>\n",
       "  <tbody>\n",
       "    <tr>\n",
       "      <th>0</th>\n",
       "      <td>C1128</td>\n",
       "      <td>1354</td>\n",
       "      <td>1159.675882</td>\n",
       "      <td>1188.382634</td>\n",
       "    </tr>\n",
       "    <tr>\n",
       "      <th>1</th>\n",
       "      <td>C1332</td>\n",
       "      <td>1297</td>\n",
       "      <td>1154.657997</td>\n",
       "      <td>1327.919226</td>\n",
       "    </tr>\n",
       "    <tr>\n",
       "      <th>2</th>\n",
       "      <td>C1563</td>\n",
       "      <td>1974</td>\n",
       "      <td>1864.928275</td>\n",
       "      <td>1797.687836</td>\n",
       "    </tr>\n",
       "    <tr>\n",
       "      <th>6</th>\n",
       "      <td>C2608</td>\n",
       "      <td>1138</td>\n",
       "      <td>900.810023</td>\n",
       "      <td>1193.936851</td>\n",
       "    </tr>\n",
       "    <tr>\n",
       "      <th>8</th>\n",
       "      <td>C1250</td>\n",
       "      <td>981</td>\n",
       "      <td>1075.264340</td>\n",
       "      <td>1205.940954</td>\n",
       "    </tr>\n",
       "    <tr>\n",
       "      <th>14</th>\n",
       "      <td>C1525</td>\n",
       "      <td>1331</td>\n",
       "      <td>865.679433</td>\n",
       "      <td>1139.379376</td>\n",
       "    </tr>\n",
       "    <tr>\n",
       "      <th>15</th>\n",
       "      <td>C2267</td>\n",
       "      <td>1191</td>\n",
       "      <td>1241.158666</td>\n",
       "      <td>940.641339</td>\n",
       "    </tr>\n",
       "    <tr>\n",
       "      <th>17</th>\n",
       "      <td>C1570</td>\n",
       "      <td>1278</td>\n",
       "      <td>394.031220</td>\n",
       "      <td>899.031182</td>\n",
       "    </tr>\n",
       "  </tbody>\n",
       "</table>\n",
       "</div>"
      ],
      "text/plain": [
       "     단지코드  총세대수       y_pred           96\n",
       "0   C1128  1354  1159.675882  1188.382634\n",
       "1   C1332  1297  1154.657997  1327.919226\n",
       "2   C1563  1974  1864.928275  1797.687836\n",
       "6   C2608  1138   900.810023  1193.936851\n",
       "8   C1250   981  1075.264340  1205.940954\n",
       "14  C1525  1331   865.679433  1139.379376\n",
       "15  C2267  1191  1241.158666   940.641339\n",
       "17  C1570  1278   394.031220   899.031182"
      ]
     },
     "execution_count": 167,
     "metadata": {},
     "output_type": "execute_result"
    }
   ],
   "source": [
    "tmp[tmp['지역']==6][['단지코드','총세대수','y_pred','96']]"
   ]
  },
  {
   "cell_type": "code",
   "execution_count": 182,
   "metadata": {},
   "outputs": [
    {
     "data": {
      "text/html": [
       "<div>\n",
       "<style scoped>\n",
       "    .dataframe tbody tr th:only-of-type {\n",
       "        vertical-align: middle;\n",
       "    }\n",
       "\n",
       "    .dataframe tbody tr th {\n",
       "        vertical-align: top;\n",
       "    }\n",
       "\n",
       "    .dataframe thead th {\n",
       "        text-align: right;\n",
       "    }\n",
       "</style>\n",
       "<table border=\"1\" class=\"dataframe\">\n",
       "  <thead>\n",
       "    <tr style=\"text-align: right;\">\n",
       "      <th></th>\n",
       "      <th>단지코드</th>\n",
       "      <th>총세대수</th>\n",
       "      <th>y_pred</th>\n",
       "      <th>96</th>\n",
       "    </tr>\n",
       "  </thead>\n",
       "  <tbody>\n",
       "    <tr>\n",
       "      <th>10</th>\n",
       "      <td>C1495</td>\n",
       "      <td>1175</td>\n",
       "      <td>1007.697326</td>\n",
       "      <td>1119.035054</td>\n",
       "    </tr>\n",
       "  </tbody>\n",
       "</table>\n",
       "</div>"
      ],
      "text/plain": [
       "     단지코드  총세대수       y_pred           96\n",
       "10  C1495  1175  1007.697326  1119.035054"
      ]
     },
     "execution_count": 182,
     "metadata": {},
     "output_type": "execute_result"
    }
   ],
   "source": [
    "tmp[tmp['지역']==7][['단지코드','총세대수','y_pred','96']]"
   ]
  },
  {
   "cell_type": "code",
   "execution_count": 168,
   "metadata": {},
   "outputs": [
    {
     "data": {
      "text/html": [
       "<div>\n",
       "<style scoped>\n",
       "    .dataframe tbody tr th:only-of-type {\n",
       "        vertical-align: middle;\n",
       "    }\n",
       "\n",
       "    .dataframe tbody tr th {\n",
       "        vertical-align: top;\n",
       "    }\n",
       "\n",
       "    .dataframe thead th {\n",
       "        text-align: right;\n",
       "    }\n",
       "</style>\n",
       "<table border=\"1\" class=\"dataframe\">\n",
       "  <thead>\n",
       "    <tr style=\"text-align: right;\">\n",
       "      <th></th>\n",
       "      <th>단지코드</th>\n",
       "      <th>총세대수</th>\n",
       "      <th>y_pred</th>\n",
       "      <th>96</th>\n",
       "    </tr>\n",
       "  </thead>\n",
       "  <tbody>\n",
       "    <tr>\n",
       "      <th>10</th>\n",
       "      <td>C1495</td>\n",
       "      <td>1175</td>\n",
       "      <td>1027.800125</td>\n",
       "      <td>1119.035054</td>\n",
       "    </tr>\n",
       "  </tbody>\n",
       "</table>\n",
       "</div>"
      ],
      "text/plain": [
       "     단지코드  총세대수       y_pred           96\n",
       "10  C1495  1175  1027.800125  1119.035054"
      ]
     },
     "execution_count": 168,
     "metadata": {},
     "output_type": "execute_result"
    }
   ],
   "source": [
    "tmp[tmp['지역']==7][['단지코드','총세대수','y_pred','96']]"
   ]
  },
  {
   "cell_type": "markdown",
   "metadata": {},
   "source": [
    "## 5. 기존 score와 비교 및 제출"
   ]
  },
  {
   "cell_type": "code",
   "execution_count": 63,
   "metadata": {},
   "outputs": [],
   "source": [
    "def submit():\n",
    "    res = get_pred()[2]\n",
    "    res.loc[147,:] = ['C1327',0]\n",
    "    res.loc[148,:] = ['C2335',0]\n",
    "    res.loc[149,:] = ['C2675',0]\n",
    "    return res"
   ]
  },
  {
   "cell_type": "code",
   "execution_count": 64,
   "metadata": {},
   "outputs": [],
   "source": [
    "sub = submit()\n",
    "sub.to_csv(\"result/result_cat.csv\",index=False)"
   ]
  },
  {
   "cell_type": "code",
   "execution_count": 49,
   "metadata": {},
   "outputs": [],
   "source": [
    "def score(mse):\n",
    "    score = pd.read_csv(\"result/MAE_\"+str(mse)+\".csv\")\n",
    "    score = pd.merge(score,get_pred()[2],on='code',how='inner')\n",
    "    val = test_up['단지코드'].values\n",
    "    score_up = score.loc[score['code'].isin(val),:]\n",
    "    score_down = score.loc[-score['code'].isin(val),:] #y가 새롭게 예측\n",
    "    mae = mean_absolute_error(score['num_x'],score['num_y'])\n",
    "    mae_up = mean_absolute_error(score_up['num_x'],score_up['num_y'])\n",
    "    mae_down = mean_absolute_error(score_down['num_x'],score_down['num_y'])\n",
    "    print('전체 MAE : ',mae)\n",
    "    print('큰 영역 MAE : ',mae_up)\n",
    "    print('작은 영역 MAE : ',mae_down)\n",
    "    return score"
   ]
  },
  {
   "cell_type": "code",
   "execution_count": 50,
   "metadata": {},
   "outputs": [
    {
     "name": "stdout",
     "output_type": "stream",
     "text": [
      "전체 MAE :  4.750749631823848\n",
      "큰 영역 MAE :  36.755799783057945\n",
      "작은 영역 MAE :  3.68594044175552e-14\n"
     ]
    }
   ],
   "source": [
    "res2 = score(96)"
   ]
  },
  {
   "cell_type": "code",
   "execution_count": 200,
   "metadata": {},
   "outputs": [
    {
     "name": "stdout",
     "output_type": "stream",
     "text": [
      "전체 MAE :  22.032000169583043\n",
      "큰 영역 MAE :  170.45810657519493\n",
      "작은 영역 MAE :  3.0753177782116836e-14\n"
     ]
    }
   ],
   "source": [
    "res1 = score(98)"
   ]
  },
  {
   "cell_type": "code",
   "execution_count": 201,
   "metadata": {},
   "outputs": [
    {
     "name": "stdout",
     "output_type": "stream",
     "text": [
      "전체 MAE :  52.57346961219873\n",
      "큰 영역 MAE :  186.5983580643478\n",
      "작은 영역 MAE :  32.67915023258284\n"
     ]
    }
   ],
   "source": [
    "res3 = score(99)"
   ]
  },
  {
   "cell_type": "code",
   "execution_count": 202,
   "metadata": {},
   "outputs": [
    {
     "name": "stdout",
     "output_type": "stream",
     "text": [
      "전체 MAE :  55.38194228735342\n",
      "큰 영역 MAE :  189.89498342255933\n",
      "작은 영역 MAE :  35.415162743846295\n"
     ]
    }
   ],
   "source": [
    "res4 = score(100)"
   ]
  },
  {
   "cell_type": "code",
   "execution_count": null,
   "metadata": {},
   "outputs": [],
   "source": []
  }
 ],
 "metadata": {
  "kernelspec": {
   "display_name": "Python 3",
   "language": "python",
   "name": "python3"
  },
  "language_info": {
   "codemirror_mode": {
    "name": "ipython",
    "version": 3
   },
   "file_extension": ".py",
   "mimetype": "text/x-python",
   "name": "python",
   "nbconvert_exporter": "python",
   "pygments_lexer": "ipython3",
   "version": "3.8.3"
  }
 },
 "nbformat": 4,
 "nbformat_minor": 4
}
