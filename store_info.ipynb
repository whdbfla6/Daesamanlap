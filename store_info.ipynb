{
 "cells": [
  {
   "cell_type": "code",
   "execution_count": 1,
   "id": "0dc15729",
   "metadata": {},
   "outputs": [],
   "source": [
    "import pandas as pd"
   ]
  },
  {
   "cell_type": "code",
   "execution_count": 3,
   "id": "7d103d03",
   "metadata": {},
   "outputs": [],
   "source": [
    "result = pd.read_csv(\"result.csv\")\n",
    "store = pd.read_csv(\"store.csv\")"
   ]
  },
  {
   "cell_type": "code",
   "execution_count": 59,
   "id": "97daa144",
   "metadata": {},
   "outputs": [],
   "source": [
    "def get_area(code):\n",
    "    area = store[store['단지코드']==code]['전용면적'].unique()\n",
    "    ind = store[(store['단지코드']==code)].index\n",
    "    print('단지명: ',store[store['단지코드']==code]['단지명'].unique())\n",
    "    print('지역: ',store[store['단지코드']==code]['지역'].unique())\n",
    "    print('면적 개수: ',store[store['단지코드']==code]['지역'].shape[0])\n",
    "    for i,j in zip(area,ind):\n",
    "        print(i,j,'/',end=' ')"
   ]
  },
  {
   "cell_type": "code",
   "execution_count": 60,
   "id": "b41eab14",
   "metadata": {},
   "outputs": [],
   "source": [
    "def func(num,a,b):\n",
    "    store.loc[num,'임대료'] = a\n",
    "    store.loc[num,'임대보증금'] = b"
   ]
  },
  {
   "cell_type": "code",
   "execution_count": 61,
   "id": "5c52c170",
   "metadata": {},
   "outputs": [
    {
     "name": "stdout",
     "output_type": "stream",
     "text": [
      "단지명:  ['덕천주공2단지']\n",
      "지역:  ['부산광역시']\n",
      "면적 개수:  15\n",
      "30.0 216 / 21.85 217 / 21.94 218 / 21.98 219 / 22.24 220 / 23.35 221 / 25.98 222 / 26.53 223 / 28.38 224 / 28.45 225 / 33.39 226 / 33.51 227 / 36.76 228 / 52.5 229 / 401.5 230 / "
     ]
    }
   ],
   "source": [
    "# C1859', 'C1722', 'C2190', 'C1476', 'C1983', 'C2135', 'C2034', 'C1109'"
   ]
  },
  {
   "cell_type": "code",
   "execution_count": 67,
   "id": "5bb0556b",
   "metadata": {},
   "outputs": [
    {
     "name": "stdout",
     "output_type": "stream",
     "text": [
      "단지명:  ['대전판암4' '대전판암3' '중촌주공2단지' '대전둔산1' '대전둔산3' '법동 주공아파트3단지']\n",
      "지역:  ['대전광역시']\n",
      "면적 개수:  98\n",
      "38.0 70 / 31.84 71 / 37.26 72 / 37.41 73 / 37.49 74 / 37.95 75 / 38.04 76 / 39.33 77 / 54.51 78 / 54.6 79 / 54.61 80 / 75.98 81 / 126.65 82 / 583.4 83 / "
     ]
    }
   ],
   "source": [
    "get_area('C1859')"
   ]
  },
  {
   "cell_type": "code",
   "execution_count": 68,
   "id": "c500c05d",
   "metadata": {},
   "outputs": [
    {
     "name": "stdout",
     "output_type": "stream",
     "text": [
      "단지명:  ['동해천곡 주공5차']\n",
      "지역:  ['강원도']\n",
      "면적 개수:  2\n",
      "32.1 168 / 72.16 169 / "
     ]
    }
   ],
   "source": [
    "get_area('C1722')"
   ]
  },
  {
   "cell_type": "code",
   "execution_count": 69,
   "id": "29690ac5",
   "metadata": {},
   "outputs": [
    {
     "name": "stdout",
     "output_type": "stream",
     "text": [
      "단지명:  ['중리주공1단지아파트']\n",
      "지역:  ['경상남도']\n",
      "면적 개수:  13\n",
      "16.0 170 / 14.17 171 / 18.9 172 / 20.52 173 / 22.97 174 / 23.4 175 / 25.88 176 / 27.3 177 / 29.62 178 / 30.62 179 / 35.91 180 / 44.63 181 / 46.8 182 / "
     ]
    }
   ],
   "source": [
    "get_area('C2190')"
   ]
  },
  {
   "cell_type": "code",
   "execution_count": 63,
   "id": "2da4fb68",
   "metadata": {},
   "outputs": [
    {
     "name": "stdout",
     "output_type": "stream",
     "text": [
      "단지명:  ['밀양가곡1']\n",
      "지역:  ['경상남도']\n",
      "면적 개수:  2\n",
      "32.1 183 / 72.16 184 / "
     ]
    }
   ],
   "source": [
    "# C1476 밀양가곡1\n",
    "get_area('C1476')\n",
    "func(184, 183500,7570000)\n",
    "func(183, 204800, 8740000)"
   ]
  },
  {
   "cell_type": "code",
   "execution_count": 70,
   "id": "c1536b83",
   "metadata": {},
   "outputs": [
    {
     "name": "stdout",
     "output_type": "stream",
     "text": [
      "단지명:  ['명천주공2단지']\n",
      "지역:  ['충청남도']\n",
      "면적 개수:  3\n",
      "31.84 185 / 63.68 186 / 126.65 187 / "
     ]
    }
   ],
   "source": [
    "get_area('C1983')"
   ]
  },
  {
   "cell_type": "code",
   "execution_count": 64,
   "id": "ce7aced8",
   "metadata": {},
   "outputs": [
    {
     "name": "stdout",
     "output_type": "stream",
     "text": [
      "단지명:  ['부산금곡주공1단지']\n",
      "지역:  ['부산광역시']\n",
      "면적 개수:  13\n",
      "14.1 188 / 18.98 189 / 19.36 190 / 21.46 191 / 22.83 192 / 23.4 193 / 27.55 194 / 29.17 195 / 31.92 196 / 32.6 197 / 36.57 198 / 50.08 199 / 240.22 200 / "
     ]
    }
   ],
   "source": [
    "# C2135 부산금곡1\n",
    "get_area('C2135')\n",
    "func(189,189500,615000)\n",
    "func(193,240500,15370000)\n",
    "func(197,139500,8790000)\n",
    "func(192,97700,6150000)"
   ]
  },
  {
   "cell_type": "code",
   "execution_count": 65,
   "id": "fc478e93",
   "metadata": {},
   "outputs": [
    {
     "name": "stdout",
     "output_type": "stream",
     "text": [
      "단지명:  ['부산금곡주공2단지']\n",
      "지역:  ['부산광역시']\n",
      "면적 개수:  15\n",
      "14.1 201 / 18.98 202 / 19.36 203 / 21.46 204 / 22.83 205 / 23.4 206 / 27.55 207 / 29.17 208 / 31.92 209 / 32.1 210 / 32.6 211 / 36.57 212 / 50.08 213 / 72.26 214 / 240.22 215 / "
     ]
    }
   ],
   "source": [
    "# C2034 부산금곡2\n",
    "get_area('C2034')\n",
    "func(212,294600,20350000)\n",
    "func(208,144700,9840000)\n",
    "func(201,77500,4216000)\n",
    "func(211,143900,9790000)\n",
    "func(202,80000,4970000)\n",
    "func(205,64830,5340000)\n",
    "func(214,175500,10230000)\n",
    "func(201,77500,5270000)\n",
    "func(210,143900,9790000)"
   ]
  },
  {
   "cell_type": "code",
   "execution_count": 66,
   "id": "fd4985a6",
   "metadata": {},
   "outputs": [
    {
     "name": "stdout",
     "output_type": "stream",
     "text": [
      "단지명:  ['덕천주공2단지']\n",
      "지역:  ['부산광역시']\n",
      "면적 개수:  15\n",
      "30.0 216 / 21.85 217 / 21.94 218 / 21.98 219 / 22.24 220 / 23.35 221 / 25.98 222 / 26.53 223 / 28.38 224 / 28.45 225 / 33.39 226 / 33.51 227 / 36.76 228 / 52.5 229 / 401.5 230 / "
     ]
    }
   ],
   "source": [
    "get_area('C1109')"
   ]
  },
  {
   "cell_type": "code",
   "execution_count": null,
   "id": "d2595fa9",
   "metadata": {},
   "outputs": [],
   "source": []
  }
 ],
 "metadata": {
  "kernelspec": {
   "display_name": "Python 3",
   "language": "python",
   "name": "python3"
  },
  "language_info": {
   "codemirror_mode": {
    "name": "ipython",
    "version": 3
   },
   "file_extension": ".py",
   "mimetype": "text/x-python",
   "name": "python",
   "nbconvert_exporter": "python",
   "pygments_lexer": "ipython3",
   "version": "3.8.8"
  }
 },
 "nbformat": 4,
 "nbformat_minor": 5
}
