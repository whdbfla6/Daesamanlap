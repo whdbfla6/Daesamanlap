{
 "cells": [
  {
   "cell_type": "code",
   "execution_count": 4,
   "id": "1a964dd4-efbf-4c2a-9d2a-d82b5ffceaa3",
   "metadata": {},
   "outputs": [],
   "source": [
    "# Preprocessing\n",
    "from sklearn.preprocessing import StandardScaler, MinMaxScaler\n",
    "\n",
    "# Fitting\n",
    "from sklearn.cross_decomposition import PLSRegression\n",
    "from sklearn.svm import SVR\n",
    "from sklearn.linear_model import LinearRegression, Lasso, ElasticNet, Ridge\n",
    "from sklearn.ensemble import RandomForestRegressor, GradientBoostingRegressor\n",
    "from xgboost import XGBRegressor\n",
    "import lightgbm as LGB\n",
    "from catboost import CatBoostRegressor\n",
    "\n",
    "# Validation\n",
    "from sklearn.model_selection import train_test_split\n",
    "from sklearn.model_selection import cross_val_score, KFold, RepeatedKFold\n",
    "\n",
    "# Fine-Tuning\n",
    "from sklearn.model_selection import RandomizedSearchCV, GridSearchCV\n",
    "\n",
    "# Evaluation\n",
    "from sklearn import metrics\n",
    "from sklearn.metrics import mean_absolute_error, mean_squared_error\n",
    "\n",
    "# Pipeline\n",
    "from sklearn.pipeline import Pipeline, make_pipeline"
   ]
  },
  {
   "cell_type": "markdown",
   "id": "e954411a-494a-42e9-9337-4b9969d04bca",
   "metadata": {},
   "source": [
    "# Tree-based Model\n",
    "## Randomforest\n",
    "[parameter](https://scikit-learn.org/stable/modules/generated/sklearn.ensemble.RandomForestRegressor.html#sklearn.ensemble.RandomForestRegressor)\n",
    "\n",
    "## GradientBoosting\n",
    "[parameter](https://scikit-learn.org/stable/modules/generated/sklearn.ensemble.GradientBoostingRegressor.html)\n",
    "\n",
    "## Xgboost\n",
    "[parameter](https://xgboost.readthedocs.io/en/latest/parameter.html)\n",
    "\n",
    "## LightGBM\n",
    "[parameter](https://lightgbm.readthedocs.io/en/latest/Parameters-Tuning.html)\n",
    "\n",
    "## CatBoost\n",
    "[parameter](https://catboost.ai/docs/concepts/parameter-tuning.html)"
   ]
  },
  {
   "cell_type": "code",
   "execution_count": null,
   "id": "4e4726d8-1564-4403-9fae-f5f450a91e38",
   "metadata": {},
   "outputs": [],
   "source": [
    "# hyperparameters\n",
    "rf_pipe_params = {'n_estimators': [100, 500, 1000],\n",
    "                  'max_depth': [3, 6, 9, 10, 20, 30],\n",
    "                  'max_features': ['auto', 'sqrt'],\n",
    "                  'min_samples_leaf': [1, 2, 4],\n",
    "                  'min_samples_split': [2, 5, 10],\n",
    "                 }\n",
    "\n",
    "gb_pipe_params = {'n_estimators': [100, 500, 1000],\n",
    "                  'learning_rate': [0.0001, 0.001, 0.01, 0.1],\n",
    "                  'subsample': [0.7, 0.8, 0.9],\n",
    "                  'max_depth': [3, 6, 9, 10, 20, 30],\n",
    "                  'max_features': ['auto', 'sqrt'],\n",
    "                  'min_samples_leaf': [1, 2, 4],\n",
    "                  'min_samples_split': [2, 5, 10],\n",
    "                  \n",
    "                 }\n",
    "\n",
    "xgb_pipe_params = {'n_estimators': [100, 500, 1000],\n",
    "                   'max_depth': [3, 6, 9, 10, 20, 30],\n",
    "                   'max_features': ['auto', 'sqrt'],\n",
    "                   'min_samples_leaf': [1, 2, 4],\n",
    "                   'min_samples_split': [2, 5, 10],\n",
    "                   'colsample_bytree': [0.7, 0.8],\n",
    "                  }\n",
    "\n",
    "lgb_pipe_params = {'n_estimators': [100, 500, 1000],\n",
    "                   'subsample': [0.7, 0.8, 0.9],\n",
    "                   'num_leaves': [50, 100, 200],\n",
    "                   'max_depth': [3, 6, 9, 10, 20, 30],\n",
    "                   'max_features': ['auto', 'sqrt'],\n",
    "                   'min_samples_leaf': [1, 2, 4],\n",
    "                   'min_samples_split': [2, 5, 10],\n",
    "                  }"
   ]
  },
  {
   "cell_type": "code",
   "execution_count": null,
   "id": "279e937b-1abf-48a1-8154-d77376e5e965",
   "metadata": {},
   "outputs": [],
   "source": [
    "seed = 2021\n",
    "cv = KFold(n_splits=4)\n",
    "scaler = StandardScaler()\n",
    "model = RandomForestRegressor(random_state=seed)\n",
    "pipeline = make_pipeline(scaler, model)"
   ]
  },
  {
   "cell_type": "markdown",
   "id": "d50f28f4-5b6b-4e4e-b524-982353459a92",
   "metadata": {},
   "source": [
    "# Cross Validataion\n",
    "## K-fold CV"
   ]
  },
  {
   "cell_type": "code",
   "execution_count": null,
   "id": "1b50d4b1-5a78-4345-83b3-2142c7f1e0d7",
   "metadata": {},
   "outputs": [],
   "source": [
    "scores = cross_val_score(pipeline, X, y, cv = cv)\n",
    "# if pipeline is regressor, Kfold is used\n",
    "# else, StratifiedKFold is used"
   ]
  },
  {
   "cell_type": "markdown",
   "id": "c9b72d4d-c079-440d-b3ad-bcb4cf103b28",
   "metadata": {},
   "source": [
    "## SearchCV"
   ]
  },
  {
   "cell_type": "code",
   "execution_count": null,
   "id": "a678bc93-ae5f-44f9-8aa3-a09695d64584",
   "metadata": {},
   "outputs": [],
   "source": [
    "X_train, X_test, y_train, y_test = train_test_split(X, y, test_size=0.3, shuffle=True, random_state=seed)\n",
    "\n",
    "clf = GridSearchCV(estimator=pipeline, \n",
    "                   param_distributions=rf_pipe_params, \n",
    "                   cv=cv, n_iter=100, verbose=10, random_state=seed, n_jobs=-1)"
   ]
  },
  {
   "cell_type": "markdown",
   "id": "2e3ded44-2c9f-4377-ba96-758154569146",
   "metadata": {},
   "source": [
    "# Test"
   ]
  },
  {
   "cell_type": "code",
   "execution_count": 10,
   "id": "dd94c121-a928-4ebd-b8a9-414a57de9297",
   "metadata": {},
   "outputs": [
    {
     "data": {
      "text/plain": [
       "KFold(n_splits=4, random_state=None, shuffle=False)"
      ]
     },
     "execution_count": 10,
     "metadata": {},
     "output_type": "execute_result"
    }
   ],
   "source": [
    "clf.fit(X_train, y_train)\n",
    "best_param = clf.best_params_\n",
    "y_pred = clf.predict(X_test)"
   ]
  },
  {
   "cell_type": "code",
   "execution_count": null,
   "id": "976e009d-464d-47c1-b990-2c563c33b93b",
   "metadata": {},
   "outputs": [],
   "source": []
  }
 ],
 "metadata": {
  "kernelspec": {
   "display_name": "Python 3",
   "language": "python",
   "name": "python3"
  },
  "language_info": {
   "codemirror_mode": {
    "name": "ipython",
    "version": 3
   },
   "file_extension": ".py",
   "mimetype": "text/x-python",
   "name": "python",
   "nbconvert_exporter": "python",
   "pygments_lexer": "ipython3",
   "version": "3.7.10"
  }
 },
 "nbformat": 4,
 "nbformat_minor": 5
}
