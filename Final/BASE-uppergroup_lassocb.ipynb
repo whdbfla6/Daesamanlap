{
 "cells": [
  {
   "cell_type": "markdown",
   "metadata": {},
   "source": [
    "# 기본"
   ]
  },
  {
   "cell_type": "code",
   "execution_count": 49,
   "metadata": {},
   "outputs": [],
   "source": [
    "import pandas as pd\n",
    "import numpy as np\n",
    "\n",
    "# Visualization\n",
    "import seaborn as sns\n",
    "import matplotlib\n",
    "import matplotlib.pyplot as plt\n",
    "%matplotlib inline\n",
    "from matplotlib import font_manager, rc\n",
    "plt.rcParams['font.family'] = 'NanumGothic'\n",
    "import platform\n",
    "if platform.system() == 'Windows':\n",
    "    font_name = font_manager.FontProperties(fname=\"c:/Windows/Fonts/malgun.ttf\").get_name()\n",
    "    rc('font', family=font_name)\n",
    "else:    \n",
    "    rc('font', family='AppleGothic')\n",
    "\n",
    "matplotlib.rcParams['axes.unicode_minus'] = False"
   ]
  },
  {
   "cell_type": "code",
   "execution_count": 50,
   "metadata": {},
   "outputs": [],
   "source": [
    "import os\n",
    "path = os.path.dirname(os.getcwd())\n",
    "path = os.path.join(path, \"ProcessedData\")\n",
    "train = pd.read_csv(os.path.join(path,\"merged_train.csv\"))\n",
    "test = pd.read_csv(os.path.join(path,\"merged_test.csv\"))"
   ]
  },
  {
   "cell_type": "code",
   "execution_count": 51,
   "metadata": {},
   "outputs": [],
   "source": [
    "train=train.drop_duplicates(keep='first')\n",
    "test=test.drop_duplicates(keep='first')"
   ]
  },
  {
   "cell_type": "markdown",
   "metadata": {},
   "source": [
    "## 1. EDA 및 전처리(baseline: MSE 98)"
   ]
  },
  {
   "cell_type": "markdown",
   "metadata": {},
   "source": [
    "### 1) 상가비율"
   ]
  },
  {
   "cell_type": "code",
   "execution_count": 52,
   "metadata": {},
   "outputs": [],
   "source": [
    "tmp = train.groupby(['단지코드','임대건물구분']).count().iloc[:,:1].reset_index()\n",
    "store = tmp[tmp['임대건물구분']=='상가'].reset_index(drop=True)[['단지코드','총세대수']].rename(columns={'총세대수':'상가수'})\n",
    "apt = tmp[tmp['임대건물구분']=='아파트'].reset_index(drop=True)[['단지코드','총세대수']].rename(columns={'총세대수':'아파트수'})\n",
    "total = pd.merge(apt,store,on='단지코드',how='left').fillna(0)\n",
    "total['상가비율'] = total.apply(lambda x : x['상가수']/(x['아파트수']+x['상가수']),axis=1)\n",
    "train = pd.merge(train,total[['단지코드','상가비율']],on='단지코드',how='left')"
   ]
  },
  {
   "cell_type": "code",
   "execution_count": 53,
   "metadata": {},
   "outputs": [],
   "source": [
    "tmp = test.groupby(['단지코드','임대건물구분']).count().iloc[:,:1].reset_index()\n",
    "store = tmp[tmp['임대건물구분']=='상가'].reset_index(drop=True)[['단지코드','총세대수']].rename(columns={'총세대수':'상가수'})\n",
    "apt = tmp[tmp['임대건물구분']=='아파트'].reset_index(drop=True)[['단지코드','총세대수']].rename(columns={'총세대수':'아파트수'})\n",
    "total = pd.merge(apt,store,on='단지코드',how='left').fillna(0)\n",
    "total['상가비율'] = total.apply(lambda x : x['상가수']/(x['아파트수']+x['상가수']),axis=1)\n",
    "test = pd.merge(test,total[['단지코드','상가비율']],on='단지코드',how='left')"
   ]
  },
  {
   "cell_type": "markdown",
   "metadata": {},
   "source": [
    "### 2) 세대당가능주차면수"
   ]
  },
  {
   "cell_type": "code",
   "execution_count": 54,
   "metadata": {},
   "outputs": [],
   "source": [
    "train['세대당_가능주차면수'] = train.apply(lambda x : x['단지내주차면수']/x['총세대수'],axis=1)\n",
    "test['세대당_가능주차면수'] = test.apply(lambda x : x['단지내주차면수']/x['총세대수'],axis=1)"
   ]
  },
  {
   "cell_type": "markdown",
   "metadata": {},
   "source": [
    "### 3) 공가비율"
   ]
  },
  {
   "cell_type": "code",
   "execution_count": 55,
   "metadata": {},
   "outputs": [],
   "source": [
    "train['공가비율'] = train.apply(lambda x : x['공가수']/x['총세대수'],axis=1)\n",
    "test['공가비율'] = test.apply(lambda x : x['공가수']/x['총세대수'],axis=1)"
   ]
  },
  {
   "cell_type": "markdown",
   "metadata": {},
   "source": [
    "### 4) 대형전용면적"
   ]
  },
  {
   "cell_type": "code",
   "execution_count": 56,
   "metadata": {},
   "outputs": [],
   "source": [
    "level = 85"
   ]
  },
  {
   "cell_type": "code",
   "execution_count": 57,
   "metadata": {},
   "outputs": [],
   "source": [
    "train['대형전용면적'] = train['전용면적'].apply(lambda x : 1 if x>level else 0)\n",
    "test['대형전용면적'] = test['전용면적'].apply(lambda x : 1 if x>level else 0)"
   ]
  },
  {
   "cell_type": "markdown",
   "metadata": {},
   "source": [
    "### 5) 공급유형\n",
    "- 공공임대 5년/10년 $\\rightarrow$ 공공임대(단기)"
   ]
  },
  {
   "cell_type": "code",
   "execution_count": 58,
   "metadata": {},
   "outputs": [],
   "source": [
    "train.loc[train.공급유형.isin(['공공임대(5년)', '공공임대(10년)']), '공급유형'] = '공공임대(단기)'\n",
    "test.loc[test.공급유형.isin(['공공임대(5년)', '공공임대(10년)']), '공급유형'] = '공공임대(단기)'"
   ]
  },
  {
   "cell_type": "markdown",
   "metadata": {},
   "source": [
    "- 1차원으로 합치기"
   ]
  },
  {
   "cell_type": "code",
   "execution_count": 59,
   "metadata": {},
   "outputs": [],
   "source": [
    "not_unique = ['공급유형','전용면적','임대건물구분','전용면적별세대수','대형전용면적','임대보증금','임대료','자격유형']"
   ]
  },
  {
   "cell_type": "code",
   "execution_count": 60,
   "metadata": {},
   "outputs": [],
   "source": [
    "train_one = train.drop(not_unique,axis=1).drop_duplicates().reset_index(drop=True)\n",
    "test_one = test.drop(not_unique,axis=1).drop_duplicates().reset_index(drop=True)"
   ]
  },
  {
   "cell_type": "markdown",
   "metadata": {},
   "source": [
    "- 전용면적별세대수 채우기"
   ]
  },
  {
   "cell_type": "code",
   "execution_count": 61,
   "metadata": {},
   "outputs": [],
   "source": [
    "for i in train['공급유형'].unique():\n",
    "    train_one[i] = 0\n",
    "    test_one[i] = 0"
   ]
  },
  {
   "cell_type": "code",
   "execution_count": 62,
   "metadata": {},
   "outputs": [],
   "source": [
    "sample = pd.DataFrame(train.groupby(['단지코드','공급유형']).sum()['전용면적별세대수']).reset_index()\n",
    "for i in sample.index:\n",
    "    code = sample.loc[i,'단지코드']\n",
    "    col = sample.loc[i,'공급유형']\n",
    "    val = sample.loc[i,'전용면적별세대수']  # 전용면적별세대수\n",
    "    ind = train_one[train_one['단지코드']==code].index\n",
    "    train_one.loc[ind,col] = val"
   ]
  },
  {
   "cell_type": "code",
   "execution_count": 63,
   "metadata": {},
   "outputs": [],
   "source": [
    "sample = pd.DataFrame(test.groupby(['단지코드','공급유형']).sum()['전용면적별세대수']).reset_index()\n",
    "for i in sample.index:\n",
    "    code = sample.loc[i,'단지코드']\n",
    "    col = sample.loc[i,'공급유형']\n",
    "    val = sample.loc[i,'전용면적별세대수']  # 전용면적별세대수\n",
    "    ind = test_one[test_one['단지코드']==code].index\n",
    "    test_one.loc[ind,col] = val"
   ]
  },
  {
   "cell_type": "markdown",
   "metadata": {},
   "source": [
    "### 6) 임대료 임대보증금 : 평균"
   ]
  },
  {
   "cell_type": "code",
   "execution_count": 64,
   "metadata": {},
   "outputs": [],
   "source": [
    "sample = train.groupby('단지코드').mean()[['임대료','임대보증금']].reset_index()\n",
    "train_one=pd.merge(train_one, sample, on=\"단지코드\", how=\"left\")"
   ]
  },
  {
   "cell_type": "code",
   "execution_count": 65,
   "metadata": {},
   "outputs": [],
   "source": [
    "sample = test.groupby('단지코드').mean()[['임대료','임대보증금']].reset_index()\n",
    "test_one=pd.merge(test_one, sample, on=\"단지코드\", how=\"left\")"
   ]
  },
  {
   "cell_type": "markdown",
   "metadata": {},
   "source": [
    "### 7) 대형전용면적 총개수"
   ]
  },
  {
   "cell_type": "code",
   "execution_count": 66,
   "metadata": {},
   "outputs": [],
   "source": [
    "sample = pd.DataFrame(train.groupby('단지코드')['대형전용면적'].sum()).reset_index()\n",
    "train_one = pd.merge(train_one, sample, on=\"단지코드\", how=\"left\")"
   ]
  },
  {
   "cell_type": "code",
   "execution_count": 67,
   "metadata": {},
   "outputs": [],
   "source": [
    "sample = pd.DataFrame(test.groupby('단지코드')['대형전용면적'].sum()).reset_index()\n",
    "test_one = pd.merge(test_one, sample, on=\"단지코드\", how=\"left\")"
   ]
  },
  {
   "cell_type": "markdown",
   "metadata": {},
   "source": [
    "### 8) 변수제거"
   ]
  },
  {
   "cell_type": "code",
   "execution_count": 68,
   "metadata": {},
   "outputs": [],
   "source": [
    "col = ['단지명','도로명주소','subway_name','임대상가']"
   ]
  },
  {
   "cell_type": "code",
   "execution_count": 69,
   "metadata": {},
   "outputs": [],
   "source": [
    "train_one = train_one.drop(col,axis=1)\n",
    "test_one = test_one.drop(col,axis=1)"
   ]
  },
  {
   "cell_type": "markdown",
   "metadata": {},
   "source": [
    "## 2. 데이터 나누기: 단지내주차면수 987 기준"
   ]
  },
  {
   "cell_type": "code",
   "execution_count": 70,
   "metadata": {},
   "outputs": [],
   "source": [
    "train_up = train_one[train_one['단지내주차면수']>=987].reset_index(drop=True)\n",
    "train_down = train_one[train_one['단지내주차면수']<987].reset_index(drop=True)"
   ]
  },
  {
   "cell_type": "code",
   "execution_count": 71,
   "metadata": {},
   "outputs": [],
   "source": [
    "test_up = test_one[test_one['단지내주차면수']>=987].reset_index(drop=True)\n",
    "test_down = test_one[test_one['단지내주차면수']<987].reset_index(drop=True)"
   ]
  },
  {
   "cell_type": "markdown",
   "metadata": {},
   "source": [
    "### 1) train/test up : area 변수 추가(Baseline추가 MSE:96)"
   ]
  },
  {
   "cell_type": "code",
   "execution_count": 72,
   "metadata": {},
   "outputs": [],
   "source": [
    "tmp = train[train['단지내주차면수']>=987].reset_index(drop=True)\n",
    "tmp['등록차량수-총세대수'] = tmp.apply(lambda x : x['등록차량수']-x['총세대수'],axis=1)\n",
    "tmp['cluster'] = tmp.apply(lambda x : 1 if x['등록차량수-총세대수']>0 else 0 ,axis=1)"
   ]
  },
  {
   "cell_type": "code",
   "execution_count": 73,
   "metadata": {},
   "outputs": [
    {
     "data": {
      "text/plain": [
       "<AxesSubplot:xlabel='등록차량수-총세대수', ylabel='Density'>"
      ]
     },
     "execution_count": 73,
     "metadata": {},
     "output_type": "execute_result"
    },
    {
     "data": {
      "image/png": "[encoded data removed]",
      "text/plain": [
       "<Figure size 2160x360 with 1 Axes>"
      ]
     },
     "metadata": {
      "needs_background": "light"
     },
     "output_type": "display_data"
    }
   ],
   "source": [
    "fig, ax = plt.subplots(figsize=(30,5))\n",
    "sns.kdeplot(data=tmp,x='등록차량수-총세대수')"
   ]
  },
  {
   "cell_type": "code",
   "execution_count": 74,
   "metadata": {},
   "outputs": [
    {
     "data": {
      "text/plain": [
       "<AxesSubplot:xlabel='지역', ylabel='count'>"
      ]
     },
     "execution_count": 74,
     "metadata": {},
     "output_type": "execute_result"
    },
    {
     "data": {
      "image/png": "[encoded data removed]",
      "text/plain": [
       "<Figure size 2160x360 with 1 Axes>"
      ]
     },
     "metadata": {
      "needs_background": "light"
     },
     "output_type": "display_data"
    },
    {
     "data": {
      "image/png": "[encoded data removed]",
      "text/plain": [
       "<Figure size 2160x360 with 1 Axes>"
      ]
     },
     "metadata": {
      "needs_background": "light"
     },
     "output_type": "display_data"
    }
   ],
   "source": [
    "tmp = tmp[(tmp['등록차량수-총세대수']>200)|(tmp['등록차량수-총세대수']<-200)]\n",
    "fig, ax = plt.subplots(figsize=(30,5))\n",
    "sns.countplot(data=tmp,x='공급유형',hue='cluster')\n",
    "\n",
    "fig, ax = plt.subplots(figsize=(30,5))\n",
    "sns.countplot(data=tmp,x='지역',hue='cluster')"
   ]
  },
  {
   "cell_type": "code",
   "execution_count": 75,
   "metadata": {},
   "outputs": [],
   "source": [
    "def areafunc(x):\n",
    "    if x in ['제주특별자치도','경상남도','부산광역시']:\n",
    "        return 0\n",
    "    elif x in ['광주광역시','세종특별자치시','경상북도','전라북도','서울특별시']:\n",
    "        return 1\n",
    "    elif x in ['대구광역시']:\n",
    "        return 2\n",
    "    else: \n",
    "        return 3"
   ]
  },
  {
   "cell_type": "code",
   "execution_count": 76,
   "metadata": {},
   "outputs": [],
   "source": [
    "train_up['지역'] = train_up['지역'].apply(lambda x : areafunc(x))\n",
    "test_up['지역'] = test_up['지역'].apply(lambda x : areafunc(x))"
   ]
  },
  {
   "cell_type": "code",
   "execution_count": 77,
   "metadata": {},
   "outputs": [],
   "source": [
    "train_up = train_up.join(pd.get_dummies(train_up['지역'],prefix='area')).iloc[:,:-1]\n",
    "test_up = test_up.join(pd.get_dummies(test_up['지역'],prefix='area')).iloc[:,:-1]"
   ]
  },
  {
   "cell_type": "markdown",
   "metadata": {},
   "source": [
    "## 3. 모델링"
   ]
  },
  {
   "cell_type": "code",
   "execution_count": 78,
   "metadata": {},
   "outputs": [],
   "source": [
    "from sklearn.model_selection import train_test_split\n",
    "from sklearn.model_selection import cross_val_score, KFold, RepeatedKFold\n",
    "from sklearn.metrics import mean_absolute_error\n",
    "from catboost import CatBoostRegressor"
   ]
  },
  {
   "cell_type": "code",
   "execution_count": 31,
   "metadata": {},
   "outputs": [],
   "source": [
    "# def fit(X_train, X_test, y_train, y_test, model):\n",
    "#     try:\n",
    "#         model.fit(X_train, y_train, verbose=False)\n",
    "#     except:\n",
    "#         model.fit(X_train, y_train)\n",
    "#     tst_pred = model.predict(X_test)\n",
    "#     error = mean_absolute_error(y_test,tst_pred)\n",
    "#     return model, tst_pred, error\n",
    "\n",
    "\n",
    "# def fit_models(X, y, models, cv=False):\n",
    "#     X = np.array(X.reset_index(drop=True))\n",
    "#     y = np.array(y.reset_index(drop=True))\n",
    "#     best_error = 10000\n",
    "#     best_tst_pred = 0\n",
    "#     best_model = \"\"\n",
    "#     if cv==False:\n",
    "#         X_train, X_test, y_train, y_test = train_test_split(X, y, test_size=0.3, shuffle=True,random_state=2021)\n",
    "#         for m in models:\n",
    "#             model, tst_pred, error = fit(X_train, X_test, y_train, y_test, m)\n",
    "#             if best_error > error:\n",
    "#                 best_error = error\n",
    "#                 best_tst_pred = tst_pred\n",
    "#                 best_model = model\n",
    "#     else:\n",
    "#         best_tst_idx = []\n",
    "#         kf = KFold(n_splits = 5, shuffle=True,random_state = 2021)\n",
    "#         for m in models:\n",
    "#             mae = []\n",
    "#             pred= []\n",
    "#             tst_idx = []\n",
    "#             for train_index, test_index in kf.split(X, y):\n",
    "#                 X_train, X_test = X[train_index], X[test_index]\n",
    "#                 y_train, y_test = y[train_index], y[test_index]\n",
    "#                 model, tst_pred, error = fit(X_train, X_test, y_train, y_test, m)\n",
    "#                 mae.append(error)\n",
    "#                 pred.append(tst_pred.tolist())\n",
    "#                 tst_idx.append(test_index.tolist())\n",
    "#             cv_error = np.mean(mae)\n",
    "#             if best_error > cv_error:\n",
    "#                 best_error = cv_error\n",
    "#                 best_tst_pred = pred\n",
    "#                 best_tst_idx = sum(tst_idx, [])\n",
    "#                 best_model = model\n",
    "#     best_tst_pred = sum(best_tst_pred,[])\n",
    "#     best_tst_pred = dict(zip(best_tst_idx,best_tst_pred))\n",
    "#     try:\n",
    "#         best_model = best_model.fit(np.concatenate((X_train, X_test),axis=0), \n",
    "#                                                 np.concatenate((y_train, y_test),axis=0), \n",
    "#                                                 verbose=False)\n",
    "#     except:\n",
    "#         best_model = best_model.fit(np.concatenate((X_train, X_test),axis=0), \n",
    "#                                         np.concatenate((y_train, y_test),axis=0))\n",
    "#     return best_model, best_tst_pred, best_error"
   ]
  },
  {
   "cell_type": "markdown",
   "metadata": {},
   "source": [
    "### 1) train/test down"
   ]
  },
  {
   "cell_type": "code",
   "execution_count": 32,
   "metadata": {},
   "outputs": [],
   "source": [
    "# X = train_down.drop(columns=['단지코드','등록차량수'],axis=1)\n",
    "# X = pd.get_dummies(X, drop_first=True) \n",
    "# y = train_down['등록차량수']"
   ]
  },
  {
   "cell_type": "code",
   "execution_count": 33,
   "metadata": {},
   "outputs": [
    {
     "name": "stdout",
     "output_type": "stream",
     "text": [
      "MAE :  105.37534703159452\n"
     ]
    }
   ],
   "source": [
    "# models = [CatBoostRegressor(random_state=2021, loss_function = 'MAE')]\n",
    "\n",
    "# model_down,pred_down,error_down = fit_models(X, y, models, cv=True)\n",
    "# print('MAE : ',error_down)"
   ]
  },
  {
   "cell_type": "code",
   "execution_count": 34,
   "metadata": {},
   "outputs": [
    {
     "data": {
      "text/plain": [
       "<AxesSubplot:>"
      ]
     },
     "execution_count": 34,
     "metadata": {},
     "output_type": "execute_result"
    },
    {
     "data": {
      "image/png": "[encoded data removed]",
      "text/plain": [
       "<Figure size 576x720 with 1 Axes>"
      ]
     },
     "metadata": {
      "needs_background": "light"
     },
     "output_type": "display_data"
    }
   ],
   "source": [
    "# plt.figure(figsize=(8,10))\n",
    "# sns.barplot(y = X.columns[np.argsort(model_down.feature_importances_)], x = list(model_down.feature_importances_[np.argsort(model_down.feature_importances_)]))"
   ]
  },
  {
   "cell_type": "markdown",
   "metadata": {},
   "source": [
    "### 2) train/test up"
   ]
  },
  {
   "cell_type": "code",
   "execution_count": 35,
   "metadata": {},
   "outputs": [
    {
     "name": "stdout",
     "output_type": "stream",
     "text": [
      "MAE :  295.9342977834218\n"
     ]
    }
   ],
   "source": [
    "# X = train_up.drop(columns=['단지코드','등록차량수','지역','상가비율'],axis=1)\n",
    "# X = X[['총세대수', '공가수', '지하철역', '버스정류장', '단지내주차면수', '연면적', '위도', '경도',\n",
    "#        'subway_dist', '환승역 수', '총인구수', '세대당_인구', '남/여비율', '남/여_0~19세',\n",
    "#        '남/여_20~39세', '남/여_40~69세', '남/여_70세이상', '0~19세_비율', '20~39세_비율',\n",
    "#        '40~69세_비율', '70세이상_비율', '세대당_가능주차면수', '공가비율', '국민임대', '영구임대',\n",
    "#        '공공임대(단기)', '장기전세', '행복주택', '공공임대(분납)', '공공분양', '공공임대(50년)', '임대료',\n",
    "#        '임대보증금', '대형전용면적', 'area_0', 'area_1', 'area_2']]\n",
    "# y = train_up['등록차량수']\n",
    "\n",
    "# models = [CatBoostRegressor(random_state=2021, loss_function = 'MAE')]\n",
    "\n",
    "# model_up,pred_up,error_up = fit_models(X, y, models, cv=True)\n",
    "# print('MAE : ',error_up)"
   ]
  },
  {
   "cell_type": "code",
   "execution_count": 36,
   "metadata": {},
   "outputs": [
    {
     "data": {
      "text/plain": [
       "<AxesSubplot:>"
      ]
     },
     "execution_count": 36,
     "metadata": {},
     "output_type": "execute_result"
    },
    {
     "data": {
      "image/png": "[encoded data removed]",
      "text/plain": [
       "<Figure size 576x720 with 1 Axes>"
      ]
     },
     "metadata": {
      "needs_background": "light"
     },
     "output_type": "display_data"
    }
   ],
   "source": [
    "# plt.figure(figsize=(8,10))\n",
    "# sns.barplot(y = X.columns[np.argsort(model_up.feature_importances_)], x = list(model_up.feature_importances_[np.argsort(model_up.feature_importances_)]))"
   ]
  },
  {
   "cell_type": "markdown",
   "metadata": {},
   "source": [
    "## 4. Final prediction"
   ]
  },
  {
   "cell_type": "code",
   "execution_count": 79,
   "metadata": {},
   "outputs": [],
   "source": [
    "col = ['총세대수', '공가수', '지하철역', '버스정류장', '단지내주차면수', '연면적', '위도', '경도',\n",
    "       'subway_dist', '환승역 수', '총인구수', '세대당_인구', '남/여비율', '남/여_0~19세',\n",
    "       '남/여_20~39세', '남/여_40~69세', '남/여_70세이상', '0~19세_비율', '20~39세_비율',\n",
    "       '40~69세_비율', '70세이상_비율', '상가비율', '세대당_가능주차면수', '공가비율', '국민임대', '영구임대',\n",
    "       '공공임대(단기)', '장기전세', '행복주택', '공공임대(분납)', '공공분양', '공공임대(50년)', '임대료',\n",
    "       '임대보증금', '대형전용면적', '지역_경기도', '지역_경상남도', '지역_경상북도', '지역_광주광역시',\n",
    "       '지역_대구광역시', '지역_대전광역시', '지역_부산광역시', '지역_서울특별시', '지역_세종특별자치시',\n",
    "       '지역_울산광역시', '지역_전라남도', '지역_전라북도', '지역_제주특별자치도', '지역_충청남도', '지역_충청북도']"
   ]
  },
  {
   "cell_type": "code",
   "execution_count": 80,
   "metadata": {},
   "outputs": [],
   "source": [
    "X_train = train_down.drop(columns=['단지코드','등록차량수'],axis=1)\n",
    "X_train = pd.get_dummies(X_train, drop_first=True) \n",
    "X_train['지역_세종특별자치시'] = 0\n",
    "X_train = X_train[col]\n",
    "y_train = train_down['등록차량수']\n",
    "X_test = test_down.drop(columns=['단지코드'],axis=1)\n",
    "X_test = pd.get_dummies(X_test, drop_first=True) \n",
    "X_test['지역_서울특별시'] = 0\n",
    "X_test = X_test[col]"
   ]
  },
  {
   "cell_type": "code",
   "execution_count": 81,
   "metadata": {},
   "outputs": [],
   "source": [
    "cb_down = CatBoostRegressor(random_state=2021,verbose=False).fit(X_train,y_train)\n",
    "pred_down = cb_down.predict(X_test)"
   ]
  },
  {
   "cell_type": "code",
   "execution_count": 82,
   "metadata": {},
   "outputs": [],
   "source": [
    "col = ['총세대수', '공가수', '지하철역', '버스정류장', '단지내주차면수', '연면적', '위도', '경도',\n",
    "       'subway_dist', '환승역 수', '총인구수', '세대당_인구', '남/여비율', '남/여_0~19세',\n",
    "       '남/여_20~39세', '남/여_40~69세', '남/여_70세이상', '0~19세_비율', '20~39세_비율',\n",
    "       '40~69세_비율', '70세이상_비율', '세대당_가능주차면수', '공가비율', '국민임대', '영구임대',\n",
    "       '공공임대(단기)', '장기전세', '행복주택', '공공임대(분납)', '공공분양', '공공임대(50년)', '임대료',\n",
    "       '임대보증금', '대형전용면적', 'area_0', 'area_1', 'area_2']"
   ]
  },
  {
   "cell_type": "code",
   "execution_count": 83,
   "metadata": {},
   "outputs": [],
   "source": [
    "X_train = train_up.drop(columns=['단지코드','등록차량수','지역'],axis=1)\n",
    "X_train = X_train[col]\n",
    "y_train = train_up['등록차량수']\n",
    "X_test = test_up.drop(columns=['단지코드','지역'],axis=1)\n",
    "X_test = X_test[col]\n",
    "\n",
    "cb_up = CatBoostRegressor(random_state=2021,verbose=False,loss_function='MAE').fit(X_train,y_train)\n",
    "pred_up1 = cb_up.predict(X_test)"
   ]
  },
  {
   "cell_type": "code",
   "execution_count": 84,
   "metadata": {},
   "outputs": [],
   "source": [
    "from sklearn.preprocessing import StandardScaler\n",
    "from sklearn.linear_model import LinearRegression, Lasso\n",
    "\n",
    "X_train = train_up.drop(columns=['단지코드','등록차량수','지역'],axis=1)\n",
    "X_train = X_train[col]\n",
    "y_train = train_up['등록차량수']\n",
    "X_test = test_up.drop(columns=['단지코드','지역'],axis=1)\n",
    "X_test = X_test[col]\n",
    "scaler = StandardScaler().fit(X_train)\n",
    "X_train = scaler.transform(X_train)\n",
    "X_test = scaler.transform(X_test)\n",
    "\n",
    "ls_up = Lasso(random_state=2021).fit(X_train,y_train)\n",
    "pred_up2 = ls_up.predict(X_test)"
   ]
  },
  {
   "cell_type": "code",
   "execution_count": 89,
   "metadata": {},
   "outputs": [
    {
     "data": {
      "text/plain": [
       "array([1188.38263433, 1327.91922633, 1797.68783597, 1048.37204008,\n",
       "        847.31618277, 1440.36636903, 1193.93685055, 1067.29611196,\n",
       "       1205.94095428, 1060.46984849, 1119.03505356, 1178.80059893,\n",
       "       1023.26286876, 1191.69822174, 1139.37937563,  940.64133914,\n",
       "        969.00495952,  899.031182  , 1287.07197144])"
      ]
     },
     "execution_count": 89,
     "metadata": {},
     "output_type": "execute_result"
    }
   ],
   "source": [
    "pred_up1"
   ]
  },
  {
   "cell_type": "code",
   "execution_count": 88,
   "metadata": {},
   "outputs": [
    {
     "data": {
      "text/plain": [
       "array([1077.48679226, 1148.00739692, 1900.68216084, 1114.22455344,\n",
       "        623.93824612, 1685.9708948 , 1045.50898881,  657.42137848,\n",
       "       1036.19698988, 1287.16193065,  884.26812607, 1437.86624395,\n",
       "       1241.68044049, 1255.14004812,  876.23979581, 1162.81359369,\n",
       "        -18.06002316,  417.65568264, 1222.745213  ])"
      ]
     },
     "execution_count": 88,
     "metadata": {},
     "output_type": "execute_result"
    }
   ],
   "source": [
    "pred_up2"
   ]
  },
  {
   "cell_type": "code",
   "execution_count": 134,
   "metadata": {},
   "outputs": [
    {
     "data": {
      "text/plain": [
       "array([1169.89999399, 1297.93392143, 1814.85355678, 1059.34745898,\n",
       "        810.08652666, 1481.30045666, 1169.19887359,  998.98365638,\n",
       "       1177.65029355, 1098.25186218, 1079.90723231, 1221.97820643,\n",
       "       1059.66579738, 1202.27185947, 1095.52277899,  977.67004823,\n",
       "        804.49412908,  818.80193211, 1276.35084503])"
      ]
     },
     "execution_count": 134,
     "metadata": {},
     "output_type": "execute_result"
    }
   ],
   "source": [
    "pred_up = (pred_up1*5+pred_up2)/6\n",
    "pred_up"
   ]
  },
  {
   "cell_type": "code",
   "execution_count": 135,
   "metadata": {},
   "outputs": [],
   "source": [
    "pred_up[pred_up2<0] = pred_up1[pred_up2<0]"
   ]
  },
  {
   "cell_type": "code",
   "execution_count": 116,
   "metadata": {},
   "outputs": [
    {
     "data": {
      "text/plain": [
       "array([1151.41735364, 1267.94861653, 1832.01927759, 1070.32287787,\n",
       "        772.85687055, 1522.23454429, 1144.46089664,  930.6712008 ,\n",
       "       1149.35963282, 1136.03387588, 1040.77941106, 1265.15581394,\n",
       "       1096.068726  , 1212.8454972 , 1051.66618236, 1014.69875732,\n",
       "        969.00495952,  738.57268221, 1265.62971862])"
      ]
     },
     "execution_count": 116,
     "metadata": {},
     "output_type": "execute_result"
    }
   ],
   "source": [
    "pred_up"
   ]
  },
  {
   "cell_type": "code",
   "execution_count": 123,
   "metadata": {},
   "outputs": [],
   "source": [
    "def get_pred():\n",
    "    res_down = pd.DataFrame()\n",
    "    res_down['code'] = test_down['단지코드'].values\n",
    "    res_down['num'] = pred_down\n",
    "    res_up = pd.DataFrame()\n",
    "    res_up['code'] = test_up['단지코드'].values\n",
    "    res_up['num'] = pred_up \n",
    "    res = pd.concat([res_down,res_up],axis=0).reset_index(drop=True)\n",
    "    return res_down, res_up, res"
   ]
  },
  {
   "cell_type": "markdown",
   "metadata": {},
   "source": [
    "## 5. 기존 score와 비교 및 제출"
   ]
  },
  {
   "cell_type": "code",
   "execution_count": 136,
   "metadata": {},
   "outputs": [],
   "source": [
    "def submit():\n",
    "    res = get_pred()[2]\n",
    "    res.loc[147,:] = ['C1327',0]\n",
    "    res.loc[148,:] = ['C2335',0]\n",
    "    res.loc[149,:] = ['C2675',0]\n",
    "    return res"
   ]
  },
  {
   "cell_type": "code",
   "execution_count": 137,
   "metadata": {},
   "outputs": [],
   "source": [
    "sub = submit()\n",
    "#sub.to_csv(\"result/0723_4:1.csv\",index=False)"
   ]
  },
  {
   "cell_type": "code",
   "execution_count": 133,
   "metadata": {},
   "outputs": [
    {
     "data": {
      "text/html": [
       "<div>\n",
       "<style scoped>\n",
       "    .dataframe tbody tr th:only-of-type {\n",
       "        vertical-align: middle;\n",
       "    }\n",
       "\n",
       "    .dataframe tbody tr th {\n",
       "        vertical-align: top;\n",
       "    }\n",
       "\n",
       "    .dataframe thead th {\n",
       "        text-align: right;\n",
       "    }\n",
       "</style>\n",
       "<table border=\"1\" class=\"dataframe\">\n",
       "  <thead>\n",
       "    <tr style=\"text-align: right;\">\n",
       "      <th></th>\n",
       "      <th>code</th>\n",
       "      <th>num</th>\n",
       "    </tr>\n",
       "  </thead>\n",
       "  <tbody>\n",
       "    <tr>\n",
       "      <th>0</th>\n",
       "      <td>C1072</td>\n",
       "      <td>751.540951</td>\n",
       "    </tr>\n",
       "    <tr>\n",
       "      <th>1</th>\n",
       "      <td>C1456</td>\n",
       "      <td>539.409116</td>\n",
       "    </tr>\n",
       "    <tr>\n",
       "      <th>2</th>\n",
       "      <td>C1840</td>\n",
       "      <td>533.220234</td>\n",
       "    </tr>\n",
       "    <tr>\n",
       "      <th>3</th>\n",
       "      <td>C1640</td>\n",
       "      <td>464.134797</td>\n",
       "    </tr>\n",
       "    <tr>\n",
       "      <th>4</th>\n",
       "      <td>C1377</td>\n",
       "      <td>364.187487</td>\n",
       "    </tr>\n",
       "    <tr>\n",
       "      <th>...</th>\n",
       "      <td>...</td>\n",
       "      <td>...</td>\n",
       "    </tr>\n",
       "    <tr>\n",
       "      <th>142</th>\n",
       "      <td>C1525</td>\n",
       "      <td>1086.751460</td>\n",
       "    </tr>\n",
       "    <tr>\n",
       "      <th>143</th>\n",
       "      <td>C2267</td>\n",
       "      <td>985.075790</td>\n",
       "    </tr>\n",
       "    <tr>\n",
       "      <th>144</th>\n",
       "      <td>C1692</td>\n",
       "      <td>969.004960</td>\n",
       "    </tr>\n",
       "    <tr>\n",
       "      <th>145</th>\n",
       "      <td>C1570</td>\n",
       "      <td>802.756082</td>\n",
       "    </tr>\n",
       "    <tr>\n",
       "      <th>146</th>\n",
       "      <td>C2303</td>\n",
       "      <td>1274.206620</td>\n",
       "    </tr>\n",
       "  </tbody>\n",
       "</table>\n",
       "<p>147 rows × 2 columns</p>\n",
       "</div>"
      ],
      "text/plain": [
       "      code          num\n",
       "0    C1072   751.540951\n",
       "1    C1456   539.409116\n",
       "2    C1840   533.220234\n",
       "3    C1640   464.134797\n",
       "4    C1377   364.187487\n",
       "..     ...          ...\n",
       "142  C1525  1086.751460\n",
       "143  C2267   985.075790\n",
       "144  C1692   969.004960\n",
       "145  C1570   802.756082\n",
       "146  C2303  1274.206620\n",
       "\n",
       "[147 rows x 2 columns]"
      ]
     },
     "execution_count": 133,
     "metadata": {},
     "output_type": "execute_result"
    }
   ],
   "source": [
    "get_pred()[2]"
   ]
  },
  {
   "cell_type": "code",
   "execution_count": 109,
   "metadata": {},
   "outputs": [],
   "source": [
    "def score(mse):\n",
    "    score = pd.read_csv(\"Users/seungji/Desktop/Dacon/Daesamanlap/Final/result/MAE_\"+str(mse)+\".csv\")\n",
    "    score = pd.merge(score,get_pred()[2],on='code',how='inner')\n",
    "    val = test_up['단지코드'].values\n",
    "    score_up = score.loc[score['code'].isin(val),:]\n",
    "    score_down = score.loc[-score['code'].isin(val),:] #y가 새롭게 예측\n",
    "    mae = mean_absolute_error(score['num_x'],score['num_y'])\n",
    "    mae_up = mean_absolute_error(score_up['num_x'],score_up['num_y'])\n",
    "    mae_down = mean_absolute_error(score_down['num_x'],score_down['num_y'])\n",
    "    print('전체 MAE : ',mae)\n",
    "    print('큰 영역 MAE : ',mae_up)\n",
    "    print('작은 영역 MAE : ',mae_down)\n",
    "    return score"
   ]
  },
  {
   "cell_type": "code",
   "execution_count": 111,
   "metadata": {},
   "outputs": [],
   "source": [
    "def score(mse):\n",
    "    score = pd.read_csv(\"/Users/seungji/Downloads/MAE_\"+str(mse)+\".csv\")\n",
    "    score = pd.merge(score,get_pred()[2],on='code',how='inner')\n",
    "    val = test_up['단지코드'].values\n",
    "    score_up = score.loc[score['code'].isin(val),:]\n",
    "    score_down = score.loc[-score['code'].isin(val),:] #y가 새롭게 예측\n",
    "    mae = mean_absolute_error(score['num_x'],score['num_y'])\n",
    "    mae_up = mean_absolute_error(score_up['num_x'],score_up['num_y'])\n",
    "    mae_down = mean_absolute_error(score_down['num_x'],score_down['num_y'])\n",
    "    print('전체 MAE : ',mae)\n",
    "    print('큰 영역 MAE : ',mae_up)\n",
    "    print('작은 영역 MAE : ',mae_down)\n",
    "    return score"
   ]
  },
  {
   "cell_type": "code",
   "execution_count": 112,
   "metadata": {},
   "outputs": [
    {
     "name": "stdout",
     "output_type": "stream",
     "text": [
      "전체 MAE :  12.55129822011745\n",
      "큰 영역 MAE :  97.10741254511896\n",
      "작은 영역 MAE :  3.68594044175552e-14\n"
     ]
    }
   ],
   "source": [
    "# 1:1\n",
    "res2 = score(96)"
   ]
  },
  {
   "cell_type": "code",
   "execution_count": 120,
   "metadata": {
    "scrolled": true
   },
   "outputs": [
    {
     "name": "stdout",
     "output_type": "stream",
     "text": [
      "전체 MAE :  8.367532146744978\n",
      "큰 영역 MAE :  64.73827503007932\n",
      "작은 영역 MAE :  3.68594044175552e-14\n"
     ]
    }
   ],
   "source": [
    "# 2:1\n",
    "res2 = score(96)"
   ]
  },
  {
   "cell_type": "code",
   "execution_count": 126,
   "metadata": {},
   "outputs": [
    {
     "name": "stdout",
     "output_type": "stream",
     "text": [
      "전체 MAE :  6.275649110058746\n",
      "큰 영역 MAE :  48.553706272559516\n",
      "작은 영역 MAE :  3.68594044175552e-14\n"
     ]
    }
   ],
   "source": [
    "# 3:1\n",
    "res2 = score(96)"
   ]
  },
  {
   "cell_type": "code",
   "execution_count": 131,
   "metadata": {},
   "outputs": [
    {
     "name": "stdout",
     "output_type": "stream",
     "text": [
      "전체 MAE :  5.020519288047\n",
      "큰 영역 MAE :  38.84296501804759\n",
      "작은 영역 MAE :  3.68594044175552e-14\n"
     ]
    }
   ],
   "source": [
    "# 4:1\n",
    "res2 = score(96)"
   ]
  },
  {
   "cell_type": "code",
   "execution_count": 138,
   "metadata": {},
   "outputs": [
    {
     "name": "stdout",
     "output_type": "stream",
     "text": [
      "전체 MAE :  4.183766073372504\n",
      "큰 영역 MAE :  32.369137515039654\n",
      "작은 영역 MAE :  3.68594044175552e-14\n"
     ]
    }
   ],
   "source": [
    "# 5:1\n",
    "res2 = score(96)"
   ]
  },
  {
   "cell_type": "code",
   "execution_count": 47,
   "metadata": {
    "scrolled": true
   },
   "outputs": [
    {
     "name": "stdout",
     "output_type": "stream",
     "text": [
      "전체 MAE :  7.482271233341923\n",
      "큰 영역 MAE :  57.88915112111887\n",
      "작은 영역 MAE :  3.0753177782116836e-14\n"
     ]
    }
   ],
   "source": [
    "res1 = score(98)"
   ]
  }
 ],
 "metadata": {
  "kernelspec": {
   "display_name": "Python 3",
   "language": "python",
   "name": "python3"
  },
  "language_info": {
   "codemirror_mode": {
    "name": "ipython",
    "version": 3
   },
   "file_extension": ".py",
   "mimetype": "text/x-python",
   "name": "python",
   "nbconvert_exporter": "python",
   "pygments_lexer": "ipython3",
   "version": "3.7.10"
  }
 },
 "nbformat": 4,
 "nbformat_minor": 4
}
