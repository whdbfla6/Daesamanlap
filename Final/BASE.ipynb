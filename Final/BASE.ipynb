{
 "cells": [
  {
   "cell_type": "markdown",
   "metadata": {},
   "source": [
    "# 기본"
   ]
  },
  {
   "cell_type": "code",
   "execution_count": 1,
   "metadata": {},
   "outputs": [],
   "source": [
    "import pandas as pd\n",
    "import numpy as np\n",
    "\n",
    "# Visualization\n",
    "import seaborn as sns\n",
    "import matplotlib\n",
    "import matplotlib.pyplot as plt\n",
    "%matplotlib inline\n",
    "from matplotlib import font_manager, rc\n",
    "plt.rcParams['font.family'] = 'NanumGothic'\n",
    "import platform\n",
    "if platform.system() == 'Windows':\n",
    "    font_name = font_manager.FontProperties(fname=\"c:/Windows/Fonts/malgun.ttf\").get_name()\n",
    "    rc('font', family=font_name)\n",
    "else:    \n",
    "    rc('font', family='AppleGothic')\n",
    "\n",
    "matplotlib.rcParams['axes.unicode_minus'] = False"
   ]
  },
  {
   "cell_type": "code",
   "execution_count": 2,
   "metadata": {},
   "outputs": [],
   "source": [
    "import os\n",
    "path = os.path.dirname(os.getcwd())\n",
    "path = os.path.join(path, \"ProcessedData\")\n",
    "train = pd.read_csv(os.path.join(path,\"merged_train.csv\"))\n",
    "test = pd.read_csv(os.path.join(path,\"merged_test.csv\"))"
   ]
  },
  {
   "cell_type": "code",
   "execution_count": 3,
   "metadata": {},
   "outputs": [],
   "source": [
    "train=train.drop_duplicates(keep='first')\n",
    "test=test.drop_duplicates(keep='first')"
   ]
  },
  {
   "cell_type": "markdown",
   "metadata": {},
   "source": [
    "## 1. EDA 및 전처리(baseline: MSE 98)"
   ]
  },
  {
   "cell_type": "markdown",
   "metadata": {},
   "source": [
    "### 1) 상가비율"
   ]
  },
  {
   "cell_type": "code",
   "execution_count": 4,
   "metadata": {},
   "outputs": [],
   "source": [
    "tmp = train.groupby(['단지코드','임대건물구분']).count().iloc[:,:1].reset_index()\n",
    "store = tmp[tmp['임대건물구분']=='상가'].reset_index(drop=True)[['단지코드','총세대수']].rename(columns={'총세대수':'상가수'})\n",
    "apt = tmp[tmp['임대건물구분']=='아파트'].reset_index(drop=True)[['단지코드','총세대수']].rename(columns={'총세대수':'아파트수'})\n",
    "total = pd.merge(apt,store,on='단지코드',how='left').fillna(0)\n",
    "total['상가비율'] = total.apply(lambda x : x['상가수']/(x['아파트수']+x['상가수']),axis=1)\n",
    "train = pd.merge(train,total[['단지코드','상가비율']],on='단지코드',how='left')"
   ]
  },
  {
   "cell_type": "code",
   "execution_count": 5,
   "metadata": {},
   "outputs": [],
   "source": [
    "tmp = test.groupby(['단지코드','임대건물구분']).count().iloc[:,:1].reset_index()\n",
    "store = tmp[tmp['임대건물구분']=='상가'].reset_index(drop=True)[['단지코드','총세대수']].rename(columns={'총세대수':'상가수'})\n",
    "apt = tmp[tmp['임대건물구분']=='아파트'].reset_index(drop=True)[['단지코드','총세대수']].rename(columns={'총세대수':'아파트수'})\n",
    "total = pd.merge(apt,store,on='단지코드',how='left').fillna(0)\n",
    "total['상가비율'] = total.apply(lambda x : x['상가수']/(x['아파트수']+x['상가수']),axis=1)\n",
    "test = pd.merge(test,total[['단지코드','상가비율']],on='단지코드',how='left')"
   ]
  },
  {
   "cell_type": "markdown",
   "metadata": {},
   "source": [
    "### 2) 세대당가능주차면수"
   ]
  },
  {
   "cell_type": "code",
   "execution_count": 6,
   "metadata": {},
   "outputs": [],
   "source": [
    "train['세대당_가능주차면수'] = train.apply(lambda x : x['단지내주차면수']/x['총세대수'],axis=1)\n",
    "test['세대당_가능주차면수'] = test.apply(lambda x : x['단지내주차면수']/x['총세대수'],axis=1)"
   ]
  },
  {
   "cell_type": "markdown",
   "metadata": {},
   "source": [
    "### 3) 공가비율"
   ]
  },
  {
   "cell_type": "code",
   "execution_count": 7,
   "metadata": {},
   "outputs": [],
   "source": [
    "train['공가비율'] = train.apply(lambda x : x['공가수']/x['총세대수'],axis=1)\n",
    "test['공가비율'] = test.apply(lambda x : x['공가수']/x['총세대수'],axis=1)"
   ]
  },
  {
   "cell_type": "markdown",
   "metadata": {},
   "source": [
    "### 4) 대형전용면적"
   ]
  },
  {
   "cell_type": "code",
   "execution_count": 8,
   "metadata": {},
   "outputs": [],
   "source": [
    "level = 85"
   ]
  },
  {
   "cell_type": "code",
   "execution_count": 9,
   "metadata": {},
   "outputs": [],
   "source": [
    "train['대형전용면적'] = train['전용면적'].apply(lambda x : 1 if x>level else 0)\n",
    "test['대형전용면적'] = test['전용면적'].apply(lambda x : 1 if x>level else 0)"
   ]
  },
  {
   "cell_type": "markdown",
   "metadata": {},
   "source": [
    "### 5) 공급유형\n",
    "- 공공임대 5년/10년 $\\rightarrow$ 공공임대(단기)"
   ]
  },
  {
   "cell_type": "code",
   "execution_count": 10,
   "metadata": {},
   "outputs": [],
   "source": [
    "train.loc[train.공급유형.isin(['공공임대(5년)', '공공임대(10년)']), '공급유형'] = '공공임대(단기)'\n",
    "test.loc[test.공급유형.isin(['공공임대(5년)', '공공임대(10년)']), '공급유형'] = '공공임대(단기)'"
   ]
  },
  {
   "cell_type": "markdown",
   "metadata": {},
   "source": [
    "- 1차원으로 합치기"
   ]
  },
  {
   "cell_type": "code",
   "execution_count": 11,
   "metadata": {},
   "outputs": [],
   "source": [
    "not_unique = ['공급유형','전용면적','임대건물구분','전용면적별세대수','대형전용면적','임대보증금','임대료','자격유형']"
   ]
  },
  {
   "cell_type": "code",
   "execution_count": 12,
   "metadata": {},
   "outputs": [],
   "source": [
    "train_one = train.drop(not_unique,axis=1).drop_duplicates().reset_index(drop=True)\n",
    "test_one = test.drop(not_unique,axis=1).drop_duplicates().reset_index(drop=True)"
   ]
  },
  {
   "cell_type": "markdown",
   "metadata": {},
   "source": [
    "- 전용면적별세대수 채우기"
   ]
  },
  {
   "cell_type": "code",
   "execution_count": 13,
   "metadata": {},
   "outputs": [],
   "source": [
    "for i in train['공급유형'].unique():\n",
    "    train_one[i] = 0\n",
    "    test_one[i] = 0"
   ]
  },
  {
   "cell_type": "code",
   "execution_count": 14,
   "metadata": {},
   "outputs": [],
   "source": [
    "sample = pd.DataFrame(train.groupby(['단지코드','공급유형']).sum()['전용면적별세대수']).reset_index()\n",
    "for i in sample.index:\n",
    "    code = sample.loc[i,'단지코드']\n",
    "    col = sample.loc[i,'공급유형']\n",
    "    val = sample.loc[i,'전용면적별세대수']  # 전용면적별세대수\n",
    "    ind = train_one[train_one['단지코드']==code].index\n",
    "    train_one.loc[ind,col] = val"
   ]
  },
  {
   "cell_type": "code",
   "execution_count": 15,
   "metadata": {},
   "outputs": [],
   "source": [
    "sample = pd.DataFrame(test.groupby(['단지코드','공급유형']).sum()['전용면적별세대수']).reset_index()\n",
    "for i in sample.index:\n",
    "    code = sample.loc[i,'단지코드']\n",
    "    col = sample.loc[i,'공급유형']\n",
    "    val = sample.loc[i,'전용면적별세대수']  # 전용면적별세대수\n",
    "    ind = test_one[test_one['단지코드']==code].index\n",
    "    test_one.loc[ind,col] = val"
   ]
  },
  {
   "cell_type": "markdown",
   "metadata": {},
   "source": [
    "### 6) 임대료 임대보증금 : 평균"
   ]
  },
  {
   "cell_type": "code",
   "execution_count": 16,
   "metadata": {},
   "outputs": [],
   "source": [
    "sample = train.groupby('단지코드').mean()[['임대료','임대보증금']].reset_index()\n",
    "train_one=pd.merge(train_one, sample, on=\"단지코드\", how=\"left\")"
   ]
  },
  {
   "cell_type": "code",
   "execution_count": 17,
   "metadata": {},
   "outputs": [],
   "source": [
    "sample = test.groupby('단지코드').mean()[['임대료','임대보증금']].reset_index()\n",
    "test_one=pd.merge(test_one, sample, on=\"단지코드\", how=\"left\")"
   ]
  },
  {
   "cell_type": "markdown",
   "metadata": {},
   "source": [
    "### 7) 대형전용면적 총개수"
   ]
  },
  {
   "cell_type": "code",
   "execution_count": 18,
   "metadata": {},
   "outputs": [],
   "source": [
    "sample = pd.DataFrame(train.groupby('단지코드')['대형전용면적'].sum()).reset_index()\n",
    "train_one = pd.merge(train_one, sample, on=\"단지코드\", how=\"left\")"
   ]
  },
  {
   "cell_type": "code",
   "execution_count": 19,
   "metadata": {},
   "outputs": [],
   "source": [
    "sample = pd.DataFrame(test.groupby('단지코드')['대형전용면적'].sum()).reset_index()\n",
    "test_one = pd.merge(test_one, sample, on=\"단지코드\", how=\"left\")"
   ]
  },
  {
   "cell_type": "markdown",
   "metadata": {},
   "source": [
    "### 8) 변수제거"
   ]
  },
  {
   "cell_type": "code",
   "execution_count": 20,
   "metadata": {},
   "outputs": [],
   "source": [
    "col = ['단지명','도로명주소','subway_name','임대상가']"
   ]
  },
  {
   "cell_type": "code",
   "execution_count": 21,
   "metadata": {},
   "outputs": [],
   "source": [
    "train_one = train_one.drop(col,axis=1)\n",
    "test_one = test_one.drop(col,axis=1)"
   ]
  },
  {
   "cell_type": "markdown",
   "metadata": {},
   "source": [
    "## 2. 데이터 나누기: 단지내주차면수 987 기준"
   ]
  },
  {
   "cell_type": "code",
   "execution_count": 22,
   "metadata": {},
   "outputs": [],
   "source": [
    "train_up = train_one[train_one['단지내주차면수']>=987].reset_index(drop=True)\n",
    "train_down = train_one[train_one['단지내주차면수']<987].reset_index(drop=True)"
   ]
  },
  {
   "cell_type": "code",
   "execution_count": 23,
   "metadata": {},
   "outputs": [],
   "source": [
    "test_up = test_one[test_one['단지내주차면수']>=987].reset_index(drop=True)\n",
    "test_down = test_one[test_one['단지내주차면수']<987].reset_index(drop=True)"
   ]
  },
  {
   "cell_type": "markdown",
   "metadata": {},
   "source": [
    "### 1) train/test up : area 변수 추가(Baseline추가 MSE:96)"
   ]
  },
  {
   "cell_type": "code",
   "execution_count": 24,
   "metadata": {},
   "outputs": [],
   "source": [
    "tmp = train[train['단지내주차면수']>=987].reset_index(drop=True)\n",
    "tmp['등록차량수-총세대수'] = tmp.apply(lambda x : x['등록차량수']-x['총세대수'],axis=1)\n",
    "tmp['cluster'] = tmp.apply(lambda x : 1 if x['등록차량수-총세대수']>0 else 0 ,axis=1)"
   ]
  },
  {
   "cell_type": "code",
   "execution_count": 25,
   "metadata": {},
   "outputs": [
    {
     "data": {
      "text/plain": [
       "<matplotlib.axes._subplots.AxesSubplot at 0x1f4fd6a6460>"
      ]
     },
     "execution_count": 25,
     "metadata": {},
     "output_type": "execute_result"
    },
    {
     "data": {
      "image/png": "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\n",
      "text/plain": [
       "<Figure size 2160x360 with 1 Axes>"
      ]
     },
     "metadata": {
      "needs_background": "light"
     },
     "output_type": "display_data"
    }
   ],
   "source": [
    "fig, ax = plt.subplots(figsize=(30,5))\n",
    "sns.kdeplot(data=tmp,x='등록차량수-총세대수')"
   ]
  },
  {
   "cell_type": "code",
   "execution_count": 26,
   "metadata": {},
   "outputs": [
    {
     "data": {
      "text/plain": [
       "<matplotlib.axes._subplots.AxesSubplot at 0x1f4fd58eaf0>"
      ]
     },
     "execution_count": 26,
     "metadata": {},
     "output_type": "execute_result"
    },
    {
     "data": {
      "image/png": "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\n",
      "text/plain": [
       "<Figure size 2160x360 with 1 Axes>"
      ]
     },
     "metadata": {
      "needs_background": "light"
     },
     "output_type": "display_data"
    },
    {
     "data": {
      "image/png": "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\n",
      "text/plain": [
       "<Figure size 2160x360 with 1 Axes>"
      ]
     },
     "metadata": {
      "needs_background": "light"
     },
     "output_type": "display_data"
    }
   ],
   "source": [
    "tmp = tmp[(tmp['등록차량수-총세대수']>200)|(tmp['등록차량수-총세대수']<-200)]\n",
    "fig, ax = plt.subplots(figsize=(30,5))\n",
    "sns.countplot(data=tmp,x='공급유형',hue='cluster')\n",
    "\n",
    "fig, ax = plt.subplots(figsize=(30,5))\n",
    "sns.countplot(data=tmp,x='지역',hue='cluster')"
   ]
  },
  {
   "cell_type": "code",
   "execution_count": 27,
   "metadata": {},
   "outputs": [],
   "source": [
    "def areafunc(x):\n",
    "    if x in ['제주특별자치도','경상남도','부산광역시']:\n",
    "        return 0\n",
    "    elif x in ['광주광역시','세종특별자치시','경상북도','전라북도','서울특별시']:\n",
    "        return 1\n",
    "    elif x in ['대구광역시']:\n",
    "        return 2\n",
    "    else: \n",
    "        return 3"
   ]
  },
  {
   "cell_type": "code",
   "execution_count": 28,
   "metadata": {},
   "outputs": [],
   "source": [
    "train_up['지역'] = train_up['지역'].apply(lambda x : areafunc(x))\n",
    "test_up['지역'] = test_up['지역'].apply(lambda x : areafunc(x))"
   ]
  },
  {
   "cell_type": "code",
   "execution_count": 29,
   "metadata": {},
   "outputs": [],
   "source": [
    "train_up = train_up.join(pd.get_dummies(train_up['지역'],prefix='area')).iloc[:,:-1]\n",
    "test_up = test_up.join(pd.get_dummies(test_up['지역'],prefix='area')).iloc[:,:-1]"
   ]
  },
  {
   "cell_type": "markdown",
   "metadata": {},
   "source": [
    "## 3. 모델링"
   ]
  },
  {
   "cell_type": "code",
   "execution_count": 2,
   "metadata": {},
   "outputs": [],
   "source": [
    "from sklearn.model_selection import train_test_split\n",
    "from sklearn.model_selection import cross_val_score, KFold, RepeatedKFold\n",
    "from sklearn.metrics import mean_absolute_error\n",
    "from catboost import CatBoostRegressor"
   ]
  },
  {
   "cell_type": "code",
   "execution_count": 3,
   "metadata": {},
   "outputs": [],
   "source": [
    "models = [CatBoostRegressor(random_state=2021, loss_function = 'MAE')]"
   ]
  },
  {
   "cell_type": "code",
   "execution_count": 31,
   "metadata": {},
   "outputs": [],
   "source": [
    "def fit(X_train, X_test, y_train, y_test, model):\n",
    "    try:\n",
    "        model.fit(X_train, y_train, verbose=False)\n",
    "    except:\n",
    "        model.fit(X_train, y_train)\n",
    "    tst_pred = model.predict(X_test)\n",
    "    error = mean_absolute_error(y_test,tst_pred)\n",
    "    return model, tst_pred, error\n",
    "\n",
    "\n",
    "def fit_models(X, y, models, cv=False):\n",
    "    X = np.array(X.reset_index(drop=True))\n",
    "    y = np.array(y.reset_index(drop=True))\n",
    "    best_error = 10000\n",
    "    best_tst_pred = 0\n",
    "    best_model = \"\"\n",
    "    if cv==False:\n",
    "        X_train, X_test, y_train, y_test = train_test_split(X, y, test_size=0.3, shuffle=True,random_state=2021)\n",
    "        for m in models:\n",
    "            model, tst_pred, error = fit(X_train, X_test, y_train, y_test, m)\n",
    "            if best_error > error:\n",
    "                best_error = error\n",
    "                best_tst_pred = tst_pred\n",
    "                best_model = model\n",
    "    else:\n",
    "        best_tst_idx = []\n",
    "        kf = KFold(n_splits = 5, shuffle=True,random_state = 2021)\n",
    "        for m in models:\n",
    "            mae = []\n",
    "            pred= []\n",
    "            tst_idx = []\n",
    "            for train_index, test_index in kf.split(X, y):\n",
    "                X_train, X_test = X[train_index], X[test_index]\n",
    "                y_train, y_test = y[train_index], y[test_index]\n",
    "                model, tst_pred, error = fit(X_train, X_test, y_train, y_test, m)\n",
    "                mae.append(error)\n",
    "                pred.append(tst_pred.tolist())\n",
    "                tst_idx.append(test_index.tolist())\n",
    "            cv_error = np.mean(mae)\n",
    "            if best_error > cv_error:\n",
    "                best_error = cv_error\n",
    "                best_tst_pred = pred\n",
    "                best_tst_idx = sum(tst_idx, [])\n",
    "                best_model = model\n",
    "    best_tst_pred = sum(best_tst_pred,[])\n",
    "    best_tst_pred = dict(zip(best_tst_idx,best_tst_pred))\n",
    "    try:\n",
    "        best_model = best_model.fit(np.concatenate((X_train, X_test),axis=0), \n",
    "                                                np.concatenate((y_train, y_test),axis=0), \n",
    "                                                verbose=False)\n",
    "    except:\n",
    "        best_model = best_model.fit(np.concatenate((X_train, X_test),axis=0), \n",
    "                                        np.concatenate((y_train, y_test),axis=0))\n",
    "    return best_model, best_tst_pred, best_error"
   ]
  },
  {
   "cell_type": "markdown",
   "metadata": {},
   "source": [
    "### 1) train/test down"
   ]
  },
  {
   "cell_type": "code",
   "execution_count": 32,
   "metadata": {},
   "outputs": [],
   "source": [
    "X = train_down.drop(columns=['단지코드','등록차량수'],axis=1)\n",
    "X = pd.get_dummies(X, drop_first=True) \n",
    "y = train_down['등록차량수']"
   ]
  },
  {
   "cell_type": "code",
   "execution_count": 33,
   "metadata": {},
   "outputs": [
    {
     "name": "stdout",
     "output_type": "stream",
     "text": [
      "MAE :  105.37534703159452\n"
     ]
    }
   ],
   "source": [
    "models = [CatBoostRegressor(random_state=2021, loss_function = 'MAE')]\n",
    "\n",
    "model_down,pred_down,error_down = fit_models(X, y, models, cv=True)\n",
    "print('MAE : ',error_down)"
   ]
  },
  {
   "cell_type": "code",
   "execution_count": 34,
   "metadata": {},
   "outputs": [
    {
     "data": {
      "text/plain": [
       "<matplotlib.axes._subplots.AxesSubplot at 0x1f4fffa07c0>"
      ]
     },
     "execution_count": 34,
     "metadata": {},
     "output_type": "execute_result"
    },
    {
     "data": {
      "image/png": "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\n",
      "text/plain": [
       "<Figure size 576x720 with 1 Axes>"
      ]
     },
     "metadata": {
      "needs_background": "light"
     },
     "output_type": "display_data"
    }
   ],
   "source": [
    "plt.figure(figsize=(8,10))\n",
    "sns.barplot(y = X.columns[np.argsort(model_down.feature_importances_)], x = list(model_down.feature_importances_[np.argsort(model_down.feature_importances_)]))"
   ]
  },
  {
   "cell_type": "markdown",
   "metadata": {},
   "source": [
    "### 2) train/test up"
   ]
  },
  {
   "cell_type": "code",
   "execution_count": 35,
   "metadata": {},
   "outputs": [
    {
     "name": "stdout",
     "output_type": "stream",
     "text": [
      "MAE :  295.9342977834218\n"
     ]
    }
   ],
   "source": [
    "X = train_up.drop(columns=['단지코드','등록차량수','지역','상가비율'],axis=1)\n",
    "X = X[['총세대수', '공가수', '지하철역', '버스정류장', '단지내주차면수', '연면적', '위도', '경도',\n",
    "       'subway_dist', '환승역 수', '총인구수', '세대당_인구', '남/여비율', '남/여_0~19세',\n",
    "       '남/여_20~39세', '남/여_40~69세', '남/여_70세이상', '0~19세_비율', '20~39세_비율',\n",
    "       '40~69세_비율', '70세이상_비율', '세대당_가능주차면수', '공가비율', '국민임대', '영구임대',\n",
    "       '공공임대(단기)', '장기전세', '행복주택', '공공임대(분납)', '공공분양', '공공임대(50년)', '임대료',\n",
    "       '임대보증금', '대형전용면적', 'area_0', 'area_1', 'area_2']]\n",
    "y = train_up['등록차량수']\n",
    "\n",
    "models = [CatBoostRegressor(random_state=2021, loss_function = 'MAE')]\n",
    "\n",
    "model_up,pred_up,error_up = fit_models(X, y, models, cv=True)\n",
    "print('MAE : ',error_up)"
   ]
  },
  {
   "cell_type": "code",
   "execution_count": 36,
   "metadata": {},
   "outputs": [
    {
     "data": {
      "text/plain": [
       "<matplotlib.axes._subplots.AxesSubplot at 0x1f48109a0d0>"
      ]
     },
     "execution_count": 36,
     "metadata": {},
     "output_type": "execute_result"
    },
    {
     "data": {
      "image/png": "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\n",
      "text/plain": [
       "<Figure size 576x720 with 1 Axes>"
      ]
     },
     "metadata": {
      "needs_background": "light"
     },
     "output_type": "display_data"
    }
   ],
   "source": [
    "plt.figure(figsize=(8,10))\n",
    "sns.barplot(y = X.columns[np.argsort(model_up.feature_importances_)], x = list(model_up.feature_importances_[np.argsort(model_up.feature_importances_)]))"
   ]
  },
  {
   "cell_type": "markdown",
   "metadata": {},
   "source": [
    "## 4. Final prediction"
   ]
  },
  {
   "cell_type": "code",
   "execution_count": 37,
   "metadata": {},
   "outputs": [],
   "source": [
    "col = ['총세대수', '공가수', '지하철역', '버스정류장', '단지내주차면수', '연면적', '위도', '경도',\n",
    "       'subway_dist', '환승역 수', '총인구수', '세대당_인구', '남/여비율', '남/여_0~19세',\n",
    "       '남/여_20~39세', '남/여_40~69세', '남/여_70세이상', '0~19세_비율', '20~39세_비율',\n",
    "       '40~69세_비율', '70세이상_비율', '상가비율', '세대당_가능주차면수', '공가비율', '국민임대', '영구임대',\n",
    "       '공공임대(단기)', '장기전세', '행복주택', '공공임대(분납)', '공공분양', '공공임대(50년)', '임대료',\n",
    "       '임대보증금', '대형전용면적', '지역_경기도', '지역_경상남도', '지역_경상북도', '지역_광주광역시',\n",
    "       '지역_대구광역시', '지역_대전광역시', '지역_부산광역시', '지역_서울특별시', '지역_세종특별자치시',\n",
    "       '지역_울산광역시', '지역_전라남도', '지역_전라북도', '지역_제주특별자치도', '지역_충청남도', '지역_충청북도']"
   ]
  },
  {
   "cell_type": "code",
   "execution_count": 38,
   "metadata": {},
   "outputs": [],
   "source": [
    "X_train = train_down.drop(columns=['단지코드','등록차량수'],axis=1)\n",
    "X_train = pd.get_dummies(X_train, drop_first=True) \n",
    "X_train['지역_세종특별자치시'] = 0\n",
    "X_train = X_train[col]\n",
    "y_train = train_down['등록차량수']\n",
    "X_test = test_down.drop(columns=['단지코드'],axis=1)\n",
    "X_test = pd.get_dummies(X_test, drop_first=True) \n",
    "X_test['지역_서울특별시'] = 0\n",
    "X_test = X_test[col]"
   ]
  },
  {
   "cell_type": "code",
   "execution_count": 39,
   "metadata": {},
   "outputs": [],
   "source": [
    "cb_down = CatBoostRegressor(random_state=2021,verbose=False).fit(X_train,y_train)\n",
    "pred_down = cb_down.predict(X_test)"
   ]
  },
  {
   "cell_type": "code",
   "execution_count": 40,
   "metadata": {},
   "outputs": [],
   "source": [
    "col = ['총세대수', '공가수', '지하철역', '버스정류장', '단지내주차면수', '연면적', '위도', '경도',\n",
    "       'subway_dist', '환승역 수', '총인구수', '세대당_인구', '남/여비율', '남/여_0~19세',\n",
    "       '남/여_20~39세', '남/여_40~69세', '남/여_70세이상', '0~19세_비율', '20~39세_비율',\n",
    "       '40~69세_비율', '70세이상_비율', '세대당_가능주차면수', '공가비율', '국민임대', '영구임대',\n",
    "       '공공임대(단기)', '장기전세', '행복주택', '공공임대(분납)', '공공분양', '공공임대(50년)', '임대료',\n",
    "       '임대보증금', '대형전용면적', 'area_0', 'area_1', 'area_2']"
   ]
  },
  {
   "cell_type": "code",
   "execution_count": 41,
   "metadata": {},
   "outputs": [],
   "source": [
    "X_train = train_up.drop(columns=['단지코드','등록차량수','지역'],axis=1)\n",
    "X_train = X_train[col]\n",
    "y_train = train_up['등록차량수']\n",
    "X_test = test_up.drop(columns=['단지코드','지역'],axis=1)\n",
    "X_test = X_test[col]\n",
    "\n",
    "cb_up = CatBoostRegressor(random_state=2021,verbose=False,loss_function='MAE').fit(X_train,y_train)\n",
    "pred_up = cb_up.predict(X_test)"
   ]
  },
  {
   "cell_type": "code",
   "execution_count": 42,
   "metadata": {},
   "outputs": [],
   "source": [
    "def get_pred():\n",
    "    res_down = pd.DataFrame()\n",
    "    res_down['code'] = test_down['단지코드'].values\n",
    "    res_down['num'] = pred_down\n",
    "    res_up = pd.DataFrame()\n",
    "    res_up['code'] = test_up['단지코드'].values\n",
    "    res_up['num'] = pred_up \n",
    "    res = pd.concat([res_down,res_up],axis=0).reset_index(drop=True)\n",
    "    return res_down, res_up, res"
   ]
  },
  {
   "cell_type": "markdown",
   "metadata": {},
   "source": [
    "## 5. 기존 score와 비교 및 제출"
   ]
  },
  {
   "cell_type": "code",
   "execution_count": 43,
   "metadata": {},
   "outputs": [],
   "source": [
    "def submit():\n",
    "    res = get_pred()[2]\n",
    "    res.loc[147,:] = ['C1327',0]\n",
    "    res.loc[148,:] = ['C2335',0]\n",
    "    res.loc[149,:] = ['C2675',0]\n",
    "    return res"
   ]
  },
  {
   "cell_type": "code",
   "execution_count": 44,
   "metadata": {},
   "outputs": [],
   "source": [
    "sub = submit()\n",
    "sub.to_csv(\"result/result.csv\",index=False)"
   ]
  },
  {
   "cell_type": "code",
   "execution_count": 45,
   "metadata": {},
   "outputs": [],
   "source": [
    "def score(mse):\n",
    "    score = pd.read_csv(\"result/MAE_\"+str(mse)+\".csv\")\n",
    "    score = pd.merge(score,get_pred()[2],on='code',how='inner')\n",
    "    val = test_up['단지코드'].values\n",
    "    score_up = score.loc[score['code'].isin(val),:]\n",
    "    score_down = score.loc[-score['code'].isin(val),:] #y가 새롭게 예측\n",
    "    mae = mean_absolute_error(score['num_x'],score['num_y'])\n",
    "    mae_up = mean_absolute_error(score_up['num_x'],score_up['num_y'])\n",
    "    mae_down = mean_absolute_error(score_down['num_x'],score_down['num_y'])\n",
    "    print('전체 MAE : ',mae)\n",
    "    print('큰 영역 MAE : ',mae_up)\n",
    "    print('작은 영역 MAE : ',mae_down)\n",
    "    return score"
   ]
  },
  {
   "cell_type": "code",
   "execution_count": 46,
   "metadata": {},
   "outputs": [
    {
     "name": "stdout",
     "output_type": "stream",
     "text": [
      "전체 MAE :  4.2922581588773396e-14\n",
      "큰 영역 MAE :  8.376924884750654e-14\n",
      "작은 영역 MAE :  3.68594044175552e-14\n"
     ]
    }
   ],
   "source": [
    "res2 = score(96)"
   ]
  },
  {
   "cell_type": "code",
   "execution_count": 47,
   "metadata": {},
   "outputs": [
    {
     "name": "stdout",
     "output_type": "stream",
     "text": [
      "전체 MAE :  7.482271233341923\n",
      "큰 영역 MAE :  57.88915112111887\n",
      "작은 영역 MAE :  3.0753177782116836e-14\n"
     ]
    }
   ],
   "source": [
    "res1 = score(98)"
   ]
  }
 ],
 "metadata": {
  "kernelspec": {
   "display_name": "Python 3",
   "language": "python",
   "name": "python3",
  },
  "language_info": {
   "codemirror_mode": {
    "name": "ipython",
    "version": 3
   },
   "file_extension": ".py",
   "mimetype": "text/x-python",
   "name": "python",
   "nbconvert_exporter": "python",
   "pygments_lexer": "ipython3",
  }
 },
 "nbformat": 4,
 "nbformat_minor": 4
}
