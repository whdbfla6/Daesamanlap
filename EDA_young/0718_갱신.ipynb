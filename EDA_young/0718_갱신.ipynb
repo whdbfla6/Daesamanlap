{
 "cells": [
  {
   "cell_type": "code",
   "execution_count": 1,
   "metadata": {},
   "outputs": [],
   "source": [
    "#Package\n",
    "import pandas as pd\n",
    "import numpy as np\n",
    "import matplotlib\n",
    "from matplotlib import pyplot as plt\n",
    "import seaborn as sns\n",
    "plt.rcParams['font.family'] = 'NanumGothic'\n",
    "import warnings\n",
    "warnings.filterwarnings(action='ignore')"
   ]
  },
  {
   "cell_type": "code",
   "execution_count": 2,
   "metadata": {},
   "outputs": [],
   "source": [
    "train=pd.read_csv(\"merged_train.csv\")\n",
    "test=pd.read_csv(\"merged_test.csv\")"
   ]
  },
  {
   "cell_type": "code",
   "execution_count": 3,
   "metadata": {},
   "outputs": [
    {
     "name": "stdout",
     "output_type": "stream",
     "text": [
      "(2896, 34) (1008, 33)\n",
      "(2896, 34) (1008, 33)\n"
     ]
    }
   ],
   "source": [
    "# merged_ data에서 drop해야 할 단지코드\n",
    "print(train.shape, test.shape)\n",
    "train = train.loc[~train.단지코드.isin(['C1095', 'C2051', 'C1218', 'C1894', 'C2483', 'C1502', 'C1988']),]\n",
    "test = test.loc[~test.단지코드.isin(['C2335', 'C1327', 'C2675'])]\n",
    "print(train.shape, test.shape)"
   ]
  },
  {
   "cell_type": "code",
   "execution_count": 4,
   "metadata": {
    "scrolled": true
   },
   "outputs": [
    {
     "name": "stdout",
     "output_type": "stream",
     "text": [
      "414 147\n"
     ]
    }
   ],
   "source": [
    "print(len(set(train.단지코드)), len(set(test.단지코드)))"
   ]
  },
  {
   "cell_type": "code",
   "execution_count": 5,
   "metadata": {},
   "outputs": [
    {
     "name": "stdout",
     "output_type": "stream",
     "text": [
      "(2896, 34) (1008, 33)\n"
     ]
    }
   ],
   "source": [
    "print(train.shape, test.shape)"
   ]
  },
  {
   "cell_type": "code",
   "execution_count": 6,
   "metadata": {},
   "outputs": [],
   "source": [
    "train=train.drop_duplicates(keep='first')\n",
    "test=test.drop_duplicates(keep='first')"
   ]
  },
  {
   "cell_type": "markdown",
   "metadata": {},
   "source": [
    "## 상가비율, 대형전용면적, 세대당가능주차면수, 공가수"
   ]
  },
  {
   "cell_type": "code",
   "execution_count": 7,
   "metadata": {},
   "outputs": [
    {
     "name": "stdout",
     "output_type": "stream",
     "text": [
      "\n",
      "...Before preprocessing\n",
      "(2577, 34) (936, 33)\n",
      "\n",
      "...After preprocessing\n",
      "(2577, 38) (936, 37)\n"
     ]
    }
   ],
   "source": [
    "print(\"\\n...Before preprocessing\")\n",
    "print(train.shape, test.shape)\n",
    "\n",
    "# 상가비율 column 추가\n",
    "train_cls = pd.concat([train[['단지코드']], pd.get_dummies(train[['임대건물구분']])], axis=1).groupby('단지코드').sum()\n",
    "tot = train_cls['임대건물구분_상가']+train_cls['임대건물구분_아파트']\n",
    "train_cls['상가비율'] = train_cls['임대건물구분_상가']/tot\n",
    "train = pd.merge(train,train_cls[['상가비율']].reset_index(),on='단지코드')\n",
    "\n",
    "test_cls = pd.concat([test[['단지코드']], pd.get_dummies(test[['임대건물구분']])], axis=1).groupby('단지코드').sum()\n",
    "tot = test_cls['임대건물구분_상가']+test_cls['임대건물구분_아파트']\n",
    "test_cls['상가비율'] = test_cls['임대건물구분_상가']/tot\n",
    "test = pd.merge(test,test_cls[['상가비율']].reset_index(),on='단지코드')\n",
    "\n",
    "# 세대당_가능주차면수 column 추기\n",
    "train['세대당_가능주차면수'] = train['단지내주차면수']/train['총세대수']\n",
    "test['세대당_가능주차면수'] = test['단지내주차면수']/test['총세대수']\n",
    "\n",
    "# 공가수비율 column 추가\n",
    "train['공가수비율']= train.공가수/train.총세대수 \n",
    "test['공가수비율']= test.공가수/test.총세대수 \n",
    "\n",
    "# 대형전용면적 column 추가\n",
    "level = 85\n",
    "train['대형전용면적'] = 0\n",
    "train.loc[train.전용면적>level, '대형전용면적'] = 1\n",
    "train.loc[train.전용면적<=level, '대형전용면적'] = 0\n",
    "\n",
    "test['대형전용면적'] = 0\n",
    "test.loc[test.전용면적>level, '대형전용면적'] = 1\n",
    "test.loc[test.전용면적<=level, '대형전용면적'] = 0\n",
    "\n",
    "# check\n",
    "print(\"\\n...After preprocessing\")\n",
    "print(train.shape, test.shape)"
   ]
  },
  {
   "cell_type": "markdown",
   "metadata": {},
   "source": [
    "# 자격유형"
   ]
  },
  {
   "cell_type": "code",
   "execution_count": 8,
   "metadata": {},
   "outputs": [],
   "source": [
    "dic = {'1': 'A' ,'2':['C','F','G'],'3':['B','H','I'],'4':['J'],\n",
    "       '5':['L',\"M\",\"N\",\"O\"],'6':[\"E\",\"K\"],'7':'D'}"
   ]
  },
  {
   "cell_type": "code",
   "execution_count": 9,
   "metadata": {},
   "outputs": [],
   "source": [
    "def mapping_by_key(dic, x):\n",
    "    for i in dic.keys():\n",
    "        if x in dic[i]:\n",
    "            return int(i)"
   ]
  },
  {
   "cell_type": "code",
   "execution_count": 10,
   "metadata": {},
   "outputs": [],
   "source": [
    "train['자격유형_카테고리'] = train['자격유형'].apply(lambda x : mapping_by_key(dic, x))\n",
    "train['자격유형_카테고리'] = train['자격유형_카테고리'].astype(object)\n",
    "test['자격유형_카테고리'] = test['자격유형'].apply(lambda x : mapping_by_key(dic, x))\n",
    "test['자격유형_카테고리'] = test['자격유형_카테고리'].astype(object)\n",
    "train= train.drop(columns=\"자격유형\")\n",
    "test= test.drop(columns=\"자격유형\")"
   ]
  },
  {
   "cell_type": "markdown",
   "metadata": {},
   "source": [
    "# 공급유형"
   ]
  },
  {
   "cell_type": "code",
   "execution_count": 11,
   "metadata": {},
   "outputs": [],
   "source": [
    "train.loc[train.공급유형.isin(['공공임대(5년)', '공공임대(10년)']), '공급유형'] = '공공임대(단기)'\n",
    "test.loc[test.공급유형.isin(['공공임대(5년)', '공공임대(10년)']), '공급유형'] = '공공임대(단기)'"
   ]
  },
  {
   "cell_type": "code",
   "execution_count": 12,
   "metadata": {},
   "outputs": [
    {
     "data": {
      "text/plain": [
       "((2577, 38), (936, 37))"
      ]
     },
     "execution_count": 12,
     "metadata": {},
     "output_type": "execute_result"
    }
   ],
   "source": [
    "train.shape, test.shape"
   ]
  },
  {
   "cell_type": "markdown",
   "metadata": {},
   "source": [
    "# 어제 결과를 보니까 1차원으로 해야 할 것 같다."
   ]
  },
  {
   "cell_type": "code",
   "execution_count": 13,
   "metadata": {},
   "outputs": [
    {
     "data": {
      "text/plain": [
       "Index(['단지코드', '총세대수', '임대건물구분', '지역', '공급유형', '전용면적', '전용면적별세대수', '공가수',\n",
       "       '임대보증금', '임대료', '지하철역', '버스정류장', '단지내주차면수', '등록차량수', '단지명', '도로명주소',\n",
       "       '연면적', '위도', '경도', 'subway_name', 'subway_dist', '환승역 수', '총인구수',\n",
       "       '세대당_인구', '남/여비율', '남/여_0~19세', '남/여_20~39세', '남/여_40~69세', '남/여_70세이상',\n",
       "       '0~19세_비율', '20~39세_비율', '40~69세_비율', '70세이상_비율', '상가비율', '세대당_가능주차면수',\n",
       "       '공가수비율', '대형전용면적', '자격유형_카테고리'],\n",
       "      dtype='object')"
      ]
     },
     "execution_count": 13,
     "metadata": {},
     "output_type": "execute_result"
    }
   ],
   "source": [
    "train.columns"
   ]
  },
  {
   "cell_type": "code",
   "execution_count": 14,
   "metadata": {},
   "outputs": [
    {
     "data": {
      "text/plain": [
       "414"
      ]
     },
     "execution_count": 14,
     "metadata": {},
     "output_type": "execute_result"
    }
   ],
   "source": [
    "len(set(train.단지코드))"
   ]
  },
  {
   "cell_type": "code",
   "execution_count": 15,
   "metadata": {},
   "outputs": [],
   "source": [
    "data = train.drop(columns=['공급유형','자격유형_카테고리','전용면적','임대건물구분',\n",
    "                           '전용면적별세대수','대형전용면적','자격유형_카테고리',\n",
    "                           '임대보증금','임대료'])\n",
    "data = data.drop_duplicates()"
   ]
  },
  {
   "cell_type": "code",
   "execution_count": 16,
   "metadata": {},
   "outputs": [
    {
     "data": {
      "text/plain": [
       "(414, 30)"
      ]
     },
     "execution_count": 16,
     "metadata": {},
     "output_type": "execute_result"
    }
   ],
   "source": [
    "data.shape"
   ]
  },
  {
   "cell_type": "code",
   "execution_count": 17,
   "metadata": {},
   "outputs": [],
   "source": [
    "sample = pd.DataFrame(train.groupby(['단지코드','공급유형']).sum()['전용면적별세대수']).reset_index()"
   ]
  },
  {
   "cell_type": "code",
   "execution_count": 18,
   "metadata": {},
   "outputs": [
    {
     "data": {
      "text/html": [
       "<div>\n",
       "<style scoped>\n",
       "    .dataframe tbody tr th:only-of-type {\n",
       "        vertical-align: middle;\n",
       "    }\n",
       "\n",
       "    .dataframe tbody tr th {\n",
       "        vertical-align: top;\n",
       "    }\n",
       "\n",
       "    .dataframe thead th {\n",
       "        text-align: right;\n",
       "    }\n",
       "</style>\n",
       "<table border=\"1\" class=\"dataframe\">\n",
       "  <thead>\n",
       "    <tr style=\"text-align: right;\">\n",
       "      <th></th>\n",
       "      <th>단지코드</th>\n",
       "      <th>공급유형</th>\n",
       "      <th>전용면적별세대수</th>\n",
       "    </tr>\n",
       "  </thead>\n",
       "  <tbody>\n",
       "    <tr>\n",
       "      <th>0</th>\n",
       "      <td>C1000</td>\n",
       "      <td>국민임대</td>\n",
       "      <td>566</td>\n",
       "    </tr>\n",
       "    <tr>\n",
       "      <th>1</th>\n",
       "      <td>C1004</td>\n",
       "      <td>영구임대</td>\n",
       "      <td>504</td>\n",
       "    </tr>\n",
       "    <tr>\n",
       "      <th>2</th>\n",
       "      <td>C1004</td>\n",
       "      <td>임대상가</td>\n",
       "      <td>13</td>\n",
       "    </tr>\n",
       "    <tr>\n",
       "      <th>3</th>\n",
       "      <td>C1005</td>\n",
       "      <td>국민임대</td>\n",
       "      <td>1144</td>\n",
       "    </tr>\n",
       "    <tr>\n",
       "      <th>4</th>\n",
       "      <td>C1013</td>\n",
       "      <td>국민임대</td>\n",
       "      <td>1308</td>\n",
       "    </tr>\n",
       "  </tbody>\n",
       "</table>\n",
       "</div>"
      ],
      "text/plain": [
       "    단지코드  공급유형  전용면적별세대수\n",
       "0  C1000  국민임대       566\n",
       "1  C1004  영구임대       504\n",
       "2  C1004  임대상가        13\n",
       "3  C1005  국민임대      1144\n",
       "4  C1013  국민임대      1308"
      ]
     },
     "execution_count": 18,
     "metadata": {},
     "output_type": "execute_result"
    }
   ],
   "source": [
    "sample.head()"
   ]
  },
  {
   "cell_type": "code",
   "execution_count": 19,
   "metadata": {},
   "outputs": [],
   "source": [
    "for i in sample.공급유형.unique():\n",
    "    data[str(i)]=0"
   ]
  },
  {
   "cell_type": "code",
   "execution_count": 20,
   "metadata": {},
   "outputs": [],
   "source": [
    "for i in sample.index:\n",
    "    code = sample.loc[i,'단지코드']\n",
    "    col = sample.loc[i,'공급유형']\n",
    "    val = sample.loc[i,'전용면적별세대수']\n",
    "    ind = data[data['단지코드']==code].index\n",
    "    data.loc[ind,col] = val"
   ]
  },
  {
   "cell_type": "code",
   "execution_count": 21,
   "metadata": {},
   "outputs": [
    {
     "data": {
      "text/html": [
       "<div>\n",
       "<style scoped>\n",
       "    .dataframe tbody tr th:only-of-type {\n",
       "        vertical-align: middle;\n",
       "    }\n",
       "\n",
       "    .dataframe tbody tr th {\n",
       "        vertical-align: top;\n",
       "    }\n",
       "\n",
       "    .dataframe thead th {\n",
       "        text-align: right;\n",
       "    }\n",
       "</style>\n",
       "<table border=\"1\" class=\"dataframe\">\n",
       "  <thead>\n",
       "    <tr style=\"text-align: right;\">\n",
       "      <th></th>\n",
       "      <th>단지코드</th>\n",
       "      <th>임대료</th>\n",
       "      <th>임대보증금</th>\n",
       "    </tr>\n",
       "  </thead>\n",
       "  <tbody>\n",
       "    <tr>\n",
       "      <th>0</th>\n",
       "      <td>C1000</td>\n",
       "      <td>121064.285714</td>\n",
       "      <td>1.320357e+07</td>\n",
       "    </tr>\n",
       "    <tr>\n",
       "      <th>1</th>\n",
       "      <td>C1004</td>\n",
       "      <td>877964.187248</td>\n",
       "      <td>1.038396e+07</td>\n",
       "    </tr>\n",
       "    <tr>\n",
       "      <th>2</th>\n",
       "      <td>C1005</td>\n",
       "      <td>222046.666667</td>\n",
       "      <td>1.710767e+07</td>\n",
       "    </tr>\n",
       "    <tr>\n",
       "      <th>3</th>\n",
       "      <td>C1013</td>\n",
       "      <td>134726.000000</td>\n",
       "      <td>2.492480e+07</td>\n",
       "    </tr>\n",
       "    <tr>\n",
       "      <th>4</th>\n",
       "      <td>C1014</td>\n",
       "      <td>160488.571429</td>\n",
       "      <td>2.389400e+07</td>\n",
       "    </tr>\n",
       "  </tbody>\n",
       "</table>\n",
       "</div>"
      ],
      "text/plain": [
       "    단지코드            임대료         임대보증금\n",
       "0  C1000  121064.285714  1.320357e+07\n",
       "1  C1004  877964.187248  1.038396e+07\n",
       "2  C1005  222046.666667  1.710767e+07\n",
       "3  C1013  134726.000000  2.492480e+07\n",
       "4  C1014  160488.571429  2.389400e+07"
      ]
     },
     "execution_count": 21,
     "metadata": {},
     "output_type": "execute_result"
    }
   ],
   "source": [
    "sample = train.groupby('단지코드').mean()[['임대료','임대보증금']].reset_index()\n",
    "sample.head()"
   ]
  },
  {
   "cell_type": "code",
   "execution_count": 22,
   "metadata": {},
   "outputs": [],
   "source": [
    "for i in sample.index:\n",
    "    code = sample.loc[i,'단지코드']\n",
    "    val1 = sample.loc[i,'임대료']\n",
    "    val2 = sample.loc[i,'임대보증금']\n",
    "    ind = data[data['단지코드']==code].index\n",
    "    data.loc[ind,'임대료'] = val1\n",
    "    data.loc[ind,'임대보증금'] = val2"
   ]
  },
  {
   "cell_type": "code",
   "execution_count": 23,
   "metadata": {},
   "outputs": [
    {
     "data": {
      "text/html": [
       "<div>\n",
       "<style scoped>\n",
       "    .dataframe tbody tr th:only-of-type {\n",
       "        vertical-align: middle;\n",
       "    }\n",
       "\n",
       "    .dataframe tbody tr th {\n",
       "        vertical-align: top;\n",
       "    }\n",
       "\n",
       "    .dataframe thead th {\n",
       "        text-align: right;\n",
       "    }\n",
       "</style>\n",
       "<table border=\"1\" class=\"dataframe\">\n",
       "  <thead>\n",
       "    <tr style=\"text-align: right;\">\n",
       "      <th></th>\n",
       "      <th>단지코드</th>\n",
       "      <th>자격유형_카테고리</th>\n",
       "      <th>전용면적별세대수</th>\n",
       "    </tr>\n",
       "  </thead>\n",
       "  <tbody>\n",
       "    <tr>\n",
       "      <th>0</th>\n",
       "      <td>C1000</td>\n",
       "      <td>1</td>\n",
       "      <td>566</td>\n",
       "    </tr>\n",
       "    <tr>\n",
       "      <th>1</th>\n",
       "      <td>C1004</td>\n",
       "      <td>2</td>\n",
       "      <td>504</td>\n",
       "    </tr>\n",
       "    <tr>\n",
       "      <th>2</th>\n",
       "      <td>C1004</td>\n",
       "      <td>7</td>\n",
       "      <td>13</td>\n",
       "    </tr>\n",
       "    <tr>\n",
       "      <th>3</th>\n",
       "      <td>C1005</td>\n",
       "      <td>1</td>\n",
       "      <td>1144</td>\n",
       "    </tr>\n",
       "    <tr>\n",
       "      <th>4</th>\n",
       "      <td>C1013</td>\n",
       "      <td>1</td>\n",
       "      <td>1308</td>\n",
       "    </tr>\n",
       "  </tbody>\n",
       "</table>\n",
       "</div>"
      ],
      "text/plain": [
       "    단지코드  자격유형_카테고리  전용면적별세대수\n",
       "0  C1000          1       566\n",
       "1  C1004          2       504\n",
       "2  C1004          7        13\n",
       "3  C1005          1      1144\n",
       "4  C1013          1      1308"
      ]
     },
     "execution_count": 23,
     "metadata": {},
     "output_type": "execute_result"
    }
   ],
   "source": [
    "sample = pd.DataFrame(train.groupby(['단지코드','자격유형_카테고리']).sum()['전용면적별세대수']).reset_index()\n",
    "sample.head()"
   ]
  },
  {
   "cell_type": "code",
   "execution_count": null,
   "metadata": {
    "scrolled": true
   },
   "outputs": [],
   "source": [
    "for i in sample.index:\n",
    "    code = sample.loc[i,'단지코드']\n",
    "    col = sample.loc[i,'자격유형_카테고리']\n",
    "    val = sample.loc[i,'전용면적별세대수']\n",
    "    ind = data[data['단지코드']==code].index\n",
    "    data.loc[ind,col] = val"
   ]
  },
  {
   "cell_type": "code",
   "execution_count": null,
   "metadata": {},
   "outputs": [],
   "source": [
    "data=data.fillna(0)"
   ]
  },
  {
   "cell_type": "code",
   "execution_count": null,
   "metadata": {
    "scrolled": true
   },
   "outputs": [
    {
     "data": {
      "text/html": [
       "<div>\n",
       "<style scoped>\n",
       "    .dataframe tbody tr th:only-of-type {\n",
       "        vertical-align: middle;\n",
       "    }\n",
       "\n",
       "    .dataframe tbody tr th {\n",
       "        vertical-align: top;\n",
       "    }\n",
       "\n",
       "    .dataframe thead th {\n",
       "        text-align: right;\n",
       "    }\n",
       "</style>\n",
       "<table border=\"1\" class=\"dataframe\">\n",
       "  <thead>\n",
       "    <tr style=\"text-align: right;\">\n",
       "      <th></th>\n",
       "      <th>단지코드</th>\n",
       "      <th>대형전용면적</th>\n",
       "    </tr>\n",
       "  </thead>\n",
       "  <tbody>\n",
       "    <tr>\n",
       "      <th>0</th>\n",
       "      <td>C1000</td>\n",
       "      <td>0</td>\n",
       "    </tr>\n",
       "    <tr>\n",
       "      <th>1</th>\n",
       "      <td>C1004</td>\n",
       "      <td>1</td>\n",
       "    </tr>\n",
       "    <tr>\n",
       "      <th>2</th>\n",
       "      <td>C1005</td>\n",
       "      <td>0</td>\n",
       "    </tr>\n",
       "    <tr>\n",
       "      <th>3</th>\n",
       "      <td>C1013</td>\n",
       "      <td>0</td>\n",
       "    </tr>\n",
       "    <tr>\n",
       "      <th>4</th>\n",
       "      <td>C1014</td>\n",
       "      <td>0</td>\n",
       "    </tr>\n",
       "  </tbody>\n",
       "</table>\n",
       "</div>"
      ],
      "text/plain": [
       "    단지코드  대형전용면적\n",
       "0  C1000       0\n",
       "1  C1004       1\n",
       "2  C1005       0\n",
       "3  C1013       0\n",
       "4  C1014       0"
      ]
     },
     "execution_count": 26,
     "metadata": {},
     "output_type": "execute_result"
    }
   ],
   "source": [
    "sample = pd.DataFrame(train.groupby('단지코드')['대형전용면적'].sum()).reset_index()\n",
    "sample.head()"
   ]
  },
  {
   "cell_type": "code",
   "execution_count": null,
   "metadata": {},
   "outputs": [],
   "source": [
    "data=pd.merge(data, sample, on=\"단지코드\", how=\"inner\")"
   ]
  },
  {
   "cell_type": "markdown",
   "metadata": {},
   "source": [
    "# Test에 똑같이"
   ]
  },
  {
   "cell_type": "code",
   "execution_count": null,
   "metadata": {},
   "outputs": [
    {
     "name": "stdout",
     "output_type": "stream",
     "text": [
      "147\n"
     ]
    },
    {
     "data": {
      "text/plain": [
       "(147, 29)"
      ]
     },
     "execution_count": 28,
     "metadata": {},
     "output_type": "execute_result"
    }
   ],
   "source": [
    "print(len(set(test.단지코드)))\n",
    "dat = test.drop(columns=['공급유형','자격유형_카테고리','전용면적','임대건물구분',\n",
    "                           '전용면적별세대수','대형전용면적','자격유형_카테고리',\n",
    "                           '임대보증금','임대료'])\n",
    "dat = dat.drop_duplicates()\n",
    "dat.shape"
   ]
  },
  {
   "cell_type": "code",
   "execution_count": null,
   "metadata": {},
   "outputs": [
    {
     "data": {
      "text/html": [
       "<div>\n",
       "<style scoped>\n",
       "    .dataframe tbody tr th:only-of-type {\n",
       "        vertical-align: middle;\n",
       "    }\n",
       "\n",
       "    .dataframe tbody tr th {\n",
       "        vertical-align: top;\n",
       "    }\n",
       "\n",
       "    .dataframe thead th {\n",
       "        text-align: right;\n",
       "    }\n",
       "</style>\n",
       "<table border=\"1\" class=\"dataframe\">\n",
       "  <thead>\n",
       "    <tr style=\"text-align: right;\">\n",
       "      <th></th>\n",
       "      <th>단지코드</th>\n",
       "      <th>공급유형</th>\n",
       "      <th>전용면적별세대수</th>\n",
       "    </tr>\n",
       "  </thead>\n",
       "  <tbody>\n",
       "    <tr>\n",
       "      <th>0</th>\n",
       "      <td>C1003</td>\n",
       "      <td>행복주택</td>\n",
       "      <td>480</td>\n",
       "    </tr>\n",
       "    <tr>\n",
       "      <th>1</th>\n",
       "      <td>C1006</td>\n",
       "      <td>영구임대</td>\n",
       "      <td>1475</td>\n",
       "    </tr>\n",
       "    <tr>\n",
       "      <th>2</th>\n",
       "      <td>C1006</td>\n",
       "      <td>임대상가</td>\n",
       "      <td>13</td>\n",
       "    </tr>\n",
       "    <tr>\n",
       "      <th>3</th>\n",
       "      <td>C1016</td>\n",
       "      <td>국민임대</td>\n",
       "      <td>643</td>\n",
       "    </tr>\n",
       "    <tr>\n",
       "      <th>4</th>\n",
       "      <td>C1019</td>\n",
       "      <td>국민임대</td>\n",
       "      <td>321</td>\n",
       "    </tr>\n",
       "  </tbody>\n",
       "</table>\n",
       "</div>"
      ],
      "text/plain": [
       "    단지코드  공급유형  전용면적별세대수\n",
       "0  C1003  행복주택       480\n",
       "1  C1006  영구임대      1475\n",
       "2  C1006  임대상가        13\n",
       "3  C1016  국민임대       643\n",
       "4  C1019  국민임대       321"
      ]
     },
     "execution_count": 29,
     "metadata": {},
     "output_type": "execute_result"
    }
   ],
   "source": [
    "sample = pd.DataFrame(test.groupby(['단지코드','공급유형']).sum()['전용면적별세대수']).reset_index()\n",
    "sample.head()"
   ]
  },
  {
   "cell_type": "code",
   "execution_count": null,
   "metadata": {},
   "outputs": [],
   "source": [
    "for i in sample.공급유형.unique():\n",
    "    dat[str(i)]=0"
   ]
  },
  {
   "cell_type": "code",
   "execution_count": null,
   "metadata": {},
   "outputs": [],
   "source": [
    "for i in sample.index:\n",
    "    code = sample.loc[i,'단지코드']\n",
    "    col = sample.loc[i,'공급유형']\n",
    "    val = sample.loc[i,'전용면적별세대수']\n",
    "    ind = dat[dat['단지코드']==code].index\n",
    "    dat.loc[ind,col] = val"
   ]
  },
  {
   "cell_type": "code",
   "execution_count": null,
   "metadata": {
    "scrolled": true
   },
   "outputs": [
    {
     "data": {
      "text/html": [
       "<div>\n",
       "<style scoped>\n",
       "    .dataframe tbody tr th:only-of-type {\n",
       "        vertical-align: middle;\n",
       "    }\n",
       "\n",
       "    .dataframe tbody tr th {\n",
       "        vertical-align: top;\n",
       "    }\n",
       "\n",
       "    .dataframe thead th {\n",
       "        text-align: right;\n",
       "    }\n",
       "</style>\n",
       "<table border=\"1\" class=\"dataframe\">\n",
       "  <thead>\n",
       "    <tr style=\"text-align: right;\">\n",
       "      <th></th>\n",
       "      <th>단지코드</th>\n",
       "      <th>임대료</th>\n",
       "      <th>임대보증금</th>\n",
       "    </tr>\n",
       "  </thead>\n",
       "  <tbody>\n",
       "    <tr>\n",
       "      <th>0</th>\n",
       "      <td>C1003</td>\n",
       "      <td>1.158750e+05</td>\n",
       "      <td>2.265000e+07</td>\n",
       "    </tr>\n",
       "    <tr>\n",
       "      <th>1</th>\n",
       "      <td>C1006</td>\n",
       "      <td>2.333169e+06</td>\n",
       "      <td>1.754953e+07</td>\n",
       "    </tr>\n",
       "    <tr>\n",
       "      <th>2</th>\n",
       "      <td>C1016</td>\n",
       "      <td>2.280100e+05</td>\n",
       "      <td>2.402675e+07</td>\n",
       "    </tr>\n",
       "    <tr>\n",
       "      <th>3</th>\n",
       "      <td>C1019</td>\n",
       "      <td>1.264300e+05</td>\n",
       "      <td>1.485750e+07</td>\n",
       "    </tr>\n",
       "    <tr>\n",
       "      <th>4</th>\n",
       "      <td>C1030</td>\n",
       "      <td>2.142167e+05</td>\n",
       "      <td>5.141333e+07</td>\n",
       "    </tr>\n",
       "  </tbody>\n",
       "</table>\n",
       "</div>"
      ],
      "text/plain": [
       "    단지코드           임대료         임대보증금\n",
       "0  C1003  1.158750e+05  2.265000e+07\n",
       "1  C1006  2.333169e+06  1.754953e+07\n",
       "2  C1016  2.280100e+05  2.402675e+07\n",
       "3  C1019  1.264300e+05  1.485750e+07\n",
       "4  C1030  2.142167e+05  5.141333e+07"
      ]
     },
     "execution_count": 32,
     "metadata": {},
     "output_type": "execute_result"
    }
   ],
   "source": [
    "sample = test.groupby('단지코드').mean()[['임대료','임대보증금']].reset_index()\n",
    "sample.head()"
   ]
  },
  {
   "cell_type": "code",
   "execution_count": null,
   "metadata": {},
   "outputs": [],
   "source": [
    "for i in sample.index:\n",
    "    code = sample.loc[i,'단지코드']\n",
    "    val1 = sample.loc[i,'임대료']\n",
    "    val2 = sample.loc[i,'임대보증금']\n",
    "    ind = dat[dat['단지코드']==code].index\n",
    "    dat.loc[ind,'임대료'] = val1\n",
    "    dat.loc[ind,'임대보증금'] = val2"
   ]
  },
  {
   "cell_type": "code",
   "execution_count": null,
   "metadata": {},
   "outputs": [
    {
     "data": {
      "text/html": [
       "<div>\n",
       "<style scoped>\n",
       "    .dataframe tbody tr th:only-of-type {\n",
       "        vertical-align: middle;\n",
       "    }\n",
       "\n",
       "    .dataframe tbody tr th {\n",
       "        vertical-align: top;\n",
       "    }\n",
       "\n",
       "    .dataframe thead th {\n",
       "        text-align: right;\n",
       "    }\n",
       "</style>\n",
       "<table border=\"1\" class=\"dataframe\">\n",
       "  <thead>\n",
       "    <tr style=\"text-align: right;\">\n",
       "      <th></th>\n",
       "      <th>단지코드</th>\n",
       "      <th>자격유형_카테고리</th>\n",
       "      <th>전용면적별세대수</th>\n",
       "    </tr>\n",
       "  </thead>\n",
       "  <tbody>\n",
       "    <tr>\n",
       "      <th>0</th>\n",
       "      <td>C1003</td>\n",
       "      <td>4</td>\n",
       "      <td>480</td>\n",
       "    </tr>\n",
       "    <tr>\n",
       "      <th>1</th>\n",
       "      <td>C1006</td>\n",
       "      <td>2</td>\n",
       "      <td>1459</td>\n",
       "    </tr>\n",
       "    <tr>\n",
       "      <th>2</th>\n",
       "      <td>C1006</td>\n",
       "      <td>7</td>\n",
       "      <td>29</td>\n",
       "    </tr>\n",
       "    <tr>\n",
       "      <th>3</th>\n",
       "      <td>C1016</td>\n",
       "      <td>1</td>\n",
       "      <td>643</td>\n",
       "    </tr>\n",
       "    <tr>\n",
       "      <th>4</th>\n",
       "      <td>C1019</td>\n",
       "      <td>1</td>\n",
       "      <td>321</td>\n",
       "    </tr>\n",
       "  </tbody>\n",
       "</table>\n",
       "</div>"
      ],
      "text/plain": [
       "    단지코드  자격유형_카테고리  전용면적별세대수\n",
       "0  C1003          4       480\n",
       "1  C1006          2      1459\n",
       "2  C1006          7        29\n",
       "3  C1016          1       643\n",
       "4  C1019          1       321"
      ]
     },
     "execution_count": 34,
     "metadata": {},
     "output_type": "execute_result"
    }
   ],
   "source": [
    "sample = pd.DataFrame(test.groupby(['단지코드','자격유형_카테고리']).sum()['전용면적별세대수']).reset_index()\n",
    "sample.head()"
   ]
  },
  {
   "cell_type": "code",
   "execution_count": null,
   "metadata": {},
   "outputs": [],
   "source": [
    "for i in sample.index:\n",
    "    code = sample.loc[i,'단지코드']\n",
    "    col = sample.loc[i,'자격유형_카테고리']\n",
    "    val = sample.loc[i,'전용면적별세대수']\n",
    "    ind = dat[dat['단지코드']==code].index\n",
    "    dat.loc[ind,col] = val"
   ]
  },
  {
   "cell_type": "code",
   "execution_count": null,
   "metadata": {},
   "outputs": [],
   "source": [
    "dat=dat.fillna(0)"
   ]
  },
  {
   "cell_type": "code",
   "execution_count": null,
   "metadata": {},
   "outputs": [
    {
     "data": {
      "text/html": [
       "<div>\n",
       "<style scoped>\n",
       "    .dataframe tbody tr th:only-of-type {\n",
       "        vertical-align: middle;\n",
       "    }\n",
       "\n",
       "    .dataframe tbody tr th {\n",
       "        vertical-align: top;\n",
       "    }\n",
       "\n",
       "    .dataframe thead th {\n",
       "        text-align: right;\n",
       "    }\n",
       "</style>\n",
       "<table border=\"1\" class=\"dataframe\">\n",
       "  <thead>\n",
       "    <tr style=\"text-align: right;\">\n",
       "      <th></th>\n",
       "      <th>단지코드</th>\n",
       "      <th>대형전용면적</th>\n",
       "    </tr>\n",
       "  </thead>\n",
       "  <tbody>\n",
       "    <tr>\n",
       "      <th>0</th>\n",
       "      <td>C1003</td>\n",
       "      <td>0</td>\n",
       "    </tr>\n",
       "    <tr>\n",
       "      <th>1</th>\n",
       "      <td>C1006</td>\n",
       "      <td>1</td>\n",
       "    </tr>\n",
       "    <tr>\n",
       "      <th>2</th>\n",
       "      <td>C1016</td>\n",
       "      <td>0</td>\n",
       "    </tr>\n",
       "    <tr>\n",
       "      <th>3</th>\n",
       "      <td>C1019</td>\n",
       "      <td>0</td>\n",
       "    </tr>\n",
       "    <tr>\n",
       "      <th>4</th>\n",
       "      <td>C1030</td>\n",
       "      <td>0</td>\n",
       "    </tr>\n",
       "  </tbody>\n",
       "</table>\n",
       "</div>"
      ],
      "text/plain": [
       "    단지코드  대형전용면적\n",
       "0  C1003       0\n",
       "1  C1006       1\n",
       "2  C1016       0\n",
       "3  C1019       0\n",
       "4  C1030       0"
      ]
     },
     "execution_count": 37,
     "metadata": {},
     "output_type": "execute_result"
    }
   ],
   "source": [
    "sample = pd.DataFrame(test.groupby('단지코드')['대형전용면적'].sum()).reset_index()\n",
    "sample.head()"
   ]
  },
  {
   "cell_type": "code",
   "execution_count": null,
   "metadata": {},
   "outputs": [],
   "source": [
    "dat=pd.merge(dat, sample, on=\"단지코드\", how=\"inner\")"
   ]
  },
  {
   "cell_type": "code",
   "execution_count": null,
   "metadata": {},
   "outputs": [],
   "source": [
    "from sklearn.cluster import KMeans"
   ]
  },
  {
   "cell_type": "code",
   "execution_count": null,
   "metadata": {},
   "outputs": [],
   "source": [
    "dat.columns=[       '단지코드',        '총세대수',          '지역',         '공가수',\n",
    "              '지하철역',       '버스정류장',     '단지내주차면수',         '단지명',\n",
    "             '도로명주소',         '연면적',          '위도',          '경도',\n",
    "       'subway_name', 'subway_dist',       '환승역 수',        '총인구수',\n",
    "            '세대당_인구',       '남/여비율',   '남/여_0~19세',  '남/여_20~39세',\n",
    "        '남/여_40~69세',   '남/여_70세이상',    '0~19세_비율',   '20~39세_비율',\n",
    "         '40~69세_비율',    '70세이상_비율',        '상가비율',  '세대당_가능주차면수',\n",
    "             '공가수비율',        '행복주택',        '영구임대',        '임대상가',\n",
    "              '국민임대',   '공공임대(50년)',    '공공임대(단기)',    '공공임대(분납)',\n",
    "               '임대료',       '임대보증금',             '자격유형4',             '자격유형2',\n",
    "                   '자격유형7',             '자격유형1',             '자격유형6',             '자격유형3',\n",
    "                   '자격유형5',      '대형전용면적']\n",
    "data.columns=[  '단지코드',        '총세대수',          '지역',         '공가수',\n",
    "              '지하철역',       '버스정류장',     '단지내주차면수',       '등록차량수',\n",
    "               '단지명',       '도로명주소',         '연면적',          '위도',\n",
    "                '경도', 'subway_name', 'subway_dist',       '환승역 수',\n",
    "              '총인구수',      '세대당_인구',       '남/여비율',   '남/여_0~19세',\n",
    "        '남/여_20~39세',  '남/여_40~69세',   '남/여_70세이상',    '0~19세_비율',\n",
    "         '20~39세_비율',   '40~69세_비율',    '70세이상_비율',        '상가비율',\n",
    "        '세대당_가능주차면수',       '공가수비율',        '국민임대',        '영구임대',\n",
    "              '임대상가',    '공공임대(단기)',        '장기전세',        '행복주택',\n",
    "          '공공임대(분납)',        '공공분양',   '공공임대(50년)',         '임대료',\n",
    "             '임대보증금', '자격유형1',  '자격유형2',             '자격유형7',\n",
    "                   '자격유형3', '자격유형6','자격유형4','자격유형5',\n",
    "            '대형전용면적']"
   ]
  },
  {
   "cell_type": "markdown",
   "metadata": {},
   "source": [
    "# Correlation 확인"
   ]
  },
  {
   "cell_type": "code",
   "execution_count": null,
   "metadata": {},
   "outputs": [],
   "source": [
    "X_cor = data.drop(columns=['단지코드','단지명','도로명주소','subway_name', \"지역\"])"
   ]
  },
  {
   "cell_type": "code",
   "execution_count": null,
   "metadata": {},
   "outputs": [],
   "source": [
    "X_cor = pd.get_dummies(X_cor, drop_first=True)"
   ]
  },
  {
   "cell_type": "code",
   "execution_count": null,
   "metadata": {},
   "outputs": [
    {
     "data": {
      "text/plain": [
       "<matplotlib.axes._subplots.AxesSubplot at 0x288f9b558d0>"
      ]
     },
     "execution_count": 43,
     "metadata": {},
     "output_type": "execute_result"
    }
   ],
   "source": [
    "plt.subplots(figsize=(20,15))\n",
    "sns.heatmap(X_cor.corr(), cbar = True, annot = True, fmt = '.2f', square = True, cmap = 'Blues', linewidths=.5)"
   ]
  },
  {
   "cell_type": "markdown",
   "metadata": {},
   "source": [
    "### correlation 너무 높은 변수: \n",
    "- 영구임대&자격유형2 \n",
    "- 임대상가&상가비율<br>\n",
    "\n",
    "자격유형2랑 임대상가 drop"
   ]
  },
  {
   "cell_type": "markdown",
   "metadata": {},
   "source": [
    "# Modeling"
   ]
  },
  {
   "cell_type": "code",
   "execution_count": null,
   "metadata": {},
   "outputs": [],
   "source": [
    "from sklearn.linear_model import LinearRegression, Lasso, ElasticNet, Ridge\n",
    "from sklearn.ensemble import RandomForestRegressor\n",
    "from sklearn.tree import DecisionTreeRegressor \n",
    "from xgboost import XGBRegressor\n",
    "from catboost import CatBoostRegressor\n",
    "from sklearn.metrics import mean_absolute_error\n",
    "from sklearn.model_selection import train_test_split\n",
    "\n",
    "from sklearn.metrics import mean_absolute_error\n",
    "from sklearn.model_selection import train_test_split\n",
    "from sklearn.preprocessing import MinMaxScaler\n",
    "from sklearn.preprocessing import StandardScaler\n",
    "from sklearn.preprocessing import RobustScaler\n",
    "robustScaler = RobustScaler()\n",
    "standardScaler = StandardScaler()\n",
    "minMaxScaler = MinMaxScaler()"
   ]
  },
  {
   "cell_type": "markdown",
   "metadata": {},
   "source": [
    "## 나눠서 modeling"
   ]
  },
  {
   "cell_type": "code",
   "execution_count": null,
   "metadata": {
    "scrolled": true
   },
   "outputs": [],
   "source": [
    "data.단지내주차면수.describe()"
   ]
  },
  {
   "cell_type": "code",
   "execution_count": null,
   "metadata": {},
   "outputs": [],
   "source": [
    "dat.단지내주차면수.describe()"
   ]
  },
  {
   "cell_type": "code",
   "execution_count": null,
   "metadata": {},
   "outputs": [],
   "source": [
    "train1=data[data.단지내주차면수<785]\n",
    "train2=data[data.단지내주차면수>=785]\n",
    "test1=dat[dat.단지내주차면수<785]\n",
    "test2=dat[dat.단지내주차면수>=785]"
   ]
  },
  {
   "cell_type": "code",
   "execution_count": null,
   "metadata": {},
   "outputs": [],
   "source": [
    "print(train1.shape, train2.shape)\n",
    "print(test1.shape, test2.shape)"
   ]
  },
  {
   "cell_type": "code",
   "execution_count": null,
   "metadata": {},
   "outputs": [],
   "source": [
    "X = train1.drop(columns=['단지명','단지코드','도로명주소','subway_name',\n",
    "                         '등록차량수', \"임대상가\", \"자격유형2\"])\n",
    "y = train1[['등록차량수']]\n",
    "X = pd.get_dummies(X, drop_first=True)\n",
    "X_train, X_test, y_train, y_test = train_test_split(X, y, test_size=0.3, shuffle=True,random_state=2021)"
   ]
  },
  {
   "cell_type": "code",
   "execution_count": null,
   "metadata": {},
   "outputs": [],
   "source": [
    "#standardScaler.fit(X_train)\n",
    "#X_train = standardScaler.transform(X_train)\n",
    "#standardScaler.fit(X_test)\n",
    "#X_test = standardScaler.transform(X_test)"
   ]
  },
  {
   "cell_type": "code",
   "execution_count": null,
   "metadata": {},
   "outputs": [],
   "source": [
    "lr= LinearRegression().fit(X_train, y_train)\n",
    "lr_pred = lr.predict(X_test)\n",
    "mean_absolute_error(y_test, lr_pred)"
   ]
  },
  {
   "cell_type": "code",
   "execution_count": null,
   "metadata": {},
   "outputs": [],
   "source": [
    "ri = Ridge().fit(X_train, y_train)\n",
    "ri_pred = ri.predict(X_test)\n",
    "mean_absolute_error(y_test, ri_pred)"
   ]
  },
  {
   "cell_type": "code",
   "execution_count": null,
   "metadata": {},
   "outputs": [],
   "source": [
    "la = Lasso().fit(X_train, y_train)\n",
    "la_pred = la.predict(X_test)\n",
    "mean_absolute_error(y_test, la_pred)"
   ]
  },
  {
   "cell_type": "code",
   "execution_count": null,
   "metadata": {},
   "outputs": [],
   "source": [
    "rf = RandomForestRegressor(criterion=\"mae\",random_state=2021).fit(X_train, y_train)\n",
    "rf_pred = rf.predict(X_test)\n",
    "mean_absolute_error(y_test, rf_pred)"
   ]
  },
  {
   "cell_type": "code",
   "execution_count": null,
   "metadata": {},
   "outputs": [],
   "source": [
    "cb = CatBoostRegressor(random_state=2021, verbose=False).fit(X_train, y_train)\n",
    "cb_pred = cb.predict(X_test)\n",
    "mean_absolute_error(y_test, cb_pred)"
   ]
  },
  {
   "cell_type": "code",
   "execution_count": null,
   "metadata": {},
   "outputs": [],
   "source": [
    "xgb = XGBRegressor(random_state=2021).fit(X_train, y_train)\n",
    "xgb_pred = xgb.predict(X_test)\n",
    "mean_absolute_error(y_test, xgb_pred)"
   ]
  },
  {
   "cell_type": "code",
   "execution_count": null,
   "metadata": {},
   "outputs": [],
   "source": [
    "en=ElasticNet(random_state=2021).fit(X_train, y_train)\n",
    "en_pred = en.predict(X_test)\n",
    "mean_absolute_error(y_test, en_pred)"
   ]
  },
  {
   "cell_type": "markdown",
   "metadata": {},
   "source": [
    "# 나눠서 예측"
   ]
  },
  {
   "cell_type": "code",
   "execution_count": null,
   "metadata": {},
   "outputs": [],
   "source": [
    "sample=pd.read_csv('sample_submission.csv')\n",
    "sample.head()"
   ]
  },
  {
   "cell_type": "code",
   "execution_count": null,
   "metadata": {},
   "outputs": [],
   "source": [
    "# sample = sample.loc[~sample.code.isin(['C2335', 'C1327', 'C2675'])]"
   ]
  },
  {
   "cell_type": "code",
   "execution_count": null,
   "metadata": {
    "scrolled": true
   },
   "outputs": [],
   "source": [
    "sample.shape"
   ]
  },
  {
   "cell_type": "code",
   "execution_count": null,
   "metadata": {},
   "outputs": [],
   "source": [
    "train1=data[data.단지내주차면수<785]\n",
    "train2=data[data.단지내주차면수>=785]\n",
    "test1=dat[dat.단지내주차면수<785]\n",
    "test2=dat[dat.단지내주차면수>=785]"
   ]
  },
  {
   "cell_type": "code",
   "execution_count": null,
   "metadata": {},
   "outputs": [],
   "source": [
    "print(train1.shape, train2.shape)\n",
    "print(test1.shape, test2.shape)"
   ]
  },
  {
   "cell_type": "code",
   "execution_count": null,
   "metadata": {},
   "outputs": [],
   "source": [
    "df= pd.concat([train1, test1])"
   ]
  },
  {
   "cell_type": "code",
   "execution_count": null,
   "metadata": {},
   "outputs": [],
   "source": [
    "X = df.drop(columns=['단지명','단지코드','도로명주소','subway_name',\n",
    "                         '등록차량수', \"임대상가\", \"자격유형2\"])\n",
    "X = pd.get_dummies(X, drop_first=True)"
   ]
  },
  {
   "cell_type": "code",
   "execution_count": null,
   "metadata": {},
   "outputs": [],
   "source": [
    "X_train1=X.iloc[0:310, :]\n",
    "X_test1=X.iloc[310:, :]\n",
    "y_train1 = train1[['등록차량수']]"
   ]
  },
  {
   "cell_type": "code",
   "execution_count": null,
   "metadata": {},
   "outputs": [],
   "source": [
    "#X.test[\"장기전세\"]=0\n",
    "#X.test[\"공공분양\"]=0"
   ]
  },
  {
   "cell_type": "code",
   "execution_count": null,
   "metadata": {},
   "outputs": [],
   "source": [
    "model_1=CatBoostRegressor(random_state=2021, verbose=False).fit(X_train1, y_train1)\n",
    "model1_pred = model_1.predict(X_test1)"
   ]
  },
  {
   "cell_type": "code",
   "execution_count": null,
   "metadata": {},
   "outputs": [],
   "source": [
    "model1=pd.DataFrame(model1_pred)\n",
    "code1=test1.단지코드\n",
    "model1=model1.reset_index(drop=True)\n",
    "code1=code1.reset_index(drop=True)"
   ]
  },
  {
   "cell_type": "code",
   "execution_count": null,
   "metadata": {},
   "outputs": [],
   "source": [
    "pred1=pd.concat([code1, model1], axis=1, ignore_index=True)\n",
    "pred1.columns=[\"code\", \"num\"]\n",
    "#pred1=pred1.num.groupby(pred1.code).mean()\n",
    "pred1.head()"
   ]
  },
  {
   "cell_type": "code",
   "execution_count": null,
   "metadata": {},
   "outputs": [],
   "source": [
    "df= pd.concat([train2, test2])"
   ]
  },
  {
   "cell_type": "code",
   "execution_count": null,
   "metadata": {},
   "outputs": [],
   "source": [
    "X = df.drop(columns=['단지명','단지코드','도로명주소','subway_name',\n",
    "                         '등록차량수', \"임대상가\", \"자격유형2\"])\n",
    "X = pd.get_dummies(X, drop_first=True)"
   ]
  },
  {
   "cell_type": "code",
   "execution_count": null,
   "metadata": {},
   "outputs": [],
   "source": [
    "X_train2=X.iloc[0:104, :]\n",
    "X_test2=X.iloc[104:, :]\n",
    "y_train2 = train2[['등록차량수']]"
   ]
  },
  {
   "cell_type": "code",
   "execution_count": null,
   "metadata": {},
   "outputs": [],
   "source": [
    "#X.test[\"장기전세\"]=0\n",
    "#X.test[\"공공분양\"]=0"
   ]
  },
  {
   "cell_type": "code",
   "execution_count": null,
   "metadata": {},
   "outputs": [],
   "source": [
    "model_2= CatBoostRegressor(random_state=2021, verbose=False).fit(X.train2, y_train2)\n",
    "model2_pred = model_2.predict(X_test2)"
   ]
  },
  {
   "cell_type": "code",
   "execution_count": null,
   "metadata": {},
   "outputs": [],
   "source": [
    "model2=pd.DataFrame(model2_pred)\n",
    "code2=test2.단지코드\n",
    "model2=model2.reset_index(drop=True)\n",
    "code2=code2.reset_index(drop=True)"
   ]
  },
  {
   "cell_type": "code",
   "execution_count": null,
   "metadata": {},
   "outputs": [],
   "source": [
    "pred2=pd.concat([code2, model2], axis=1, ignore_index=True)\n",
    "pred2.columns=[\"code\", \"num\"]\n",
    "#pred2=pred2.num.groupby(pred2.code).mean()\n",
    "pred2.head()"
   ]
  },
  {
   "cell_type": "code",
   "execution_count": null,
   "metadata": {},
   "outputs": [],
   "source": [
    "df_merge=pd.DataFrame(pd.concat([pred1, pred2], axis=0))\n",
    "df_merge=df_merge.reset_index(drop=True)"
   ]
  },
  {
   "cell_type": "code",
   "execution_count": null,
   "metadata": {},
   "outputs": [],
   "source": [
    "df_merge.head()"
   ]
  },
  {
   "cell_type": "code",
   "execution_count": null,
   "metadata": {},
   "outputs": [],
   "source": [
    "test_split=pd.merge(sample, df_merge, on='code', how='outer')"
   ]
  },
  {
   "cell_type": "code",
   "execution_count": null,
   "metadata": {
    "scrolled": true
   },
   "outputs": [],
   "source": [
    "test_split.head()"
   ]
  },
  {
   "cell_type": "code",
   "execution_count": null,
   "metadata": {},
   "outputs": [],
   "source": [
    "test_split= test_split.drop(columns='num_x')\n",
    "test_split.columns=[\"code\",\"num\"]"
   ]
  },
  {
   "cell_type": "code",
   "execution_count": null,
   "metadata": {},
   "outputs": [],
   "source": [
    "test_split[test_split.num<=0].index"
   ]
  },
  {
   "cell_type": "code",
   "execution_count": null,
   "metadata": {},
   "outputs": [],
   "source": [
    "one=pd.read_csv(\"vanilla.csv\")\n",
    "one = one.loc[~one.code.isin(['C2335', 'C1327', 'C2675'])]\n",
    "test_= test_split.loc[~test_split.code.isin(['C2335', 'C1327', 'C2675'])]\n",
    "round(mean_absolute_error(one.num, test_.num))"
   ]
  },
  {
   "cell_type": "code",
   "execution_count": null,
   "metadata": {},
   "outputs": [],
   "source": [
    "#test_split.to_csv('choco.csv', index=False)"
   ]
  },
  {
   "cell_type": "code",
   "execution_count": null,
   "metadata": {},
   "outputs": [],
   "source": [
    "plt.subplots(figsize=(17,15))\n",
    "sorted_feature_importance = model_1.feature_importances_.argsort()\n",
    "plt.barh(X_test1.columns[sorted_feature_importance], \n",
    "        model_1.feature_importances_[sorted_feature_importance], \n",
    "        color='turquoise')\n",
    "plt.xlabel(\"CatBoost Feature Importance\")"
   ]
  },
  {
   "cell_type": "code",
   "execution_count": null,
   "metadata": {},
   "outputs": [],
   "source": [
    "plt.subplots(figsize=(17,15))\n",
    "sorted_feature_importance = model_2.feature_importances_.argsort()\n",
    "plt.barh(X_test2.columns[sorted_feature_importance], \n",
    "        model_2.feature_importances_[sorted_feature_importance], \n",
    "        color='turquoise')\n",
    "plt.xlabel(\"CatBoost Feature Importance\")"
   ]
  }
 ],
 "metadata": {
  "kernelspec": {
   "display_name": "Python 3",
   "language": "python",
   "name": "python3"
  },
  "language_info": {
   "codemirror_mode": {
    "name": "ipython",
    "version": 3
   },
   "file_extension": ".py",
   "mimetype": "text/x-python",
   "name": "python",
   "nbconvert_exporter": "python",
   "pygments_lexer": "ipython3",
   "version": "3.7.3"
  }
 },
 "nbformat": 4,
 "nbformat_minor": 4
}
