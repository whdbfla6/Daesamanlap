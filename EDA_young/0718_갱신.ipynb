{
 "cells": [
  {
   "cell_type": "code",
   "execution_count": 77,
   "metadata": {},
   "outputs": [],
   "source": [
    "#Package\n",
    "import pandas as pd\n",
    "import numpy as np\n",
    "import matplotlib\n",
    "from matplotlib import pyplot as plt\n",
    "import seaborn as sns\n",
    "plt.rcParams['font.family'] = 'NanumGothic'\n",
    "import warnings\n",
    "warnings.filterwarnings(action='ignore')\n",
    "# pd.set_option('display.max_rows', None)"
   ]
  },
  {
   "cell_type": "code",
   "execution_count": 78,
   "metadata": {},
   "outputs": [],
   "source": [
    "train=pd.read_csv(\"merged_train.csv\")\n",
    "test=pd.read_csv(\"merged_test.csv\")"
   ]
  },
  {
   "cell_type": "code",
   "execution_count": 79,
   "metadata": {},
   "outputs": [],
   "source": [
    "# merged_ data에서 drop해야 할 단지코드\n",
    "#print(train.shape, test.shape)\n",
    "#train = train.loc[~train.단지코드.isin(['C1095', 'C2051', 'C1218', 'C1894', 'C2483', 'C1502', 'C1988']),]\n",
    "#test = test.loc[~test.단지코드.isin(['C2335', 'C1327', 'C2675'])]\n",
    "#print(train.shape, test.shape)"
   ]
  },
  {
   "cell_type": "code",
   "execution_count": 80,
   "metadata": {
    "scrolled": true
   },
   "outputs": [
    {
     "name": "stdout",
     "output_type": "stream",
     "text": [
      "414 147\n"
     ]
    }
   ],
   "source": [
    "print(len(set(train.단지코드)), len(set(test.단지코드)))"
   ]
  },
  {
   "cell_type": "code",
   "execution_count": 81,
   "metadata": {},
   "outputs": [
    {
     "name": "stdout",
     "output_type": "stream",
     "text": [
      "(2896, 34) (1008, 33)\n"
     ]
    }
   ],
   "source": [
    "print(train.shape, test.shape)"
   ]
  },
  {
   "cell_type": "code",
   "execution_count": 82,
   "metadata": {},
   "outputs": [],
   "source": [
    "train=train.drop_duplicates(keep='first')\n",
    "test=test.drop_duplicates(keep='first')"
   ]
  },
  {
   "cell_type": "code",
   "execution_count": 83,
   "metadata": {},
   "outputs": [
    {
     "data": {
      "text/plain": [
       "Index(['단지코드', '총세대수', '임대건물구분', '지역', '공급유형', '전용면적', '전용면적별세대수', '공가수',\n",
       "       '자격유형', '임대보증금', '임대료', '지하철역', '버스정류장', '단지내주차면수', '등록차량수', '단지명',\n",
       "       '도로명주소', '연면적', '위도', '경도', 'subway_name', 'subway_dist', '환승역 수',\n",
       "       '총인구수', '세대당_인구', '남/여비율', '남/여_0~19세', '남/여_20~39세', '남/여_40~69세',\n",
       "       '남/여_70세이상', '0~19세_비율', '20~39세_비율', '40~69세_비율', '70세이상_비율'],\n",
       "      dtype='object')"
      ]
     },
     "execution_count": 83,
     "metadata": {},
     "output_type": "execute_result"
    }
   ],
   "source": [
    "train.columns"
   ]
  },
  {
   "cell_type": "markdown",
   "metadata": {},
   "source": [
    "## 상가비율, 대형전용면적, 세대당가능주차면수, 공가수"
   ]
  },
  {
   "cell_type": "code",
   "execution_count": 84,
   "metadata": {},
   "outputs": [
    {
     "name": "stdout",
     "output_type": "stream",
     "text": [
      "\n",
      "...Before preprocessing\n",
      "(2577, 34) (936, 33)\n",
      "\n",
      "...After preprocessing\n",
      "(2577, 38) (936, 37)\n"
     ]
    }
   ],
   "source": [
    "print(\"\\n...Before preprocessing\")\n",
    "print(train.shape, test.shape)\n",
    "\n",
    "# 상가비율 column 추가\n",
    "train_cls = pd.concat([train[['단지코드']], pd.get_dummies(train[['임대건물구분']])], axis=1).groupby('단지코드').sum()\n",
    "tot = train_cls['임대건물구분_상가']+train_cls['임대건물구분_아파트']\n",
    "train_cls['상가비율'] = train_cls['임대건물구분_상가']/tot\n",
    "train = pd.merge(train,train_cls[['상가비율']].reset_index(),on='단지코드')\n",
    "\n",
    "test_cls = pd.concat([test[['단지코드']], pd.get_dummies(test[['임대건물구분']])], axis=1).groupby('단지코드').sum()\n",
    "tot = test_cls['임대건물구분_상가']+test_cls['임대건물구분_아파트']\n",
    "test_cls['상가비율'] = test_cls['임대건물구분_상가']/tot\n",
    "test = pd.merge(test,test_cls[['상가비율']].reset_index(),on='단지코드')\n",
    "\n",
    "# 세대당_가능주차면수 column 추기\n",
    "train['세대당_가능주차면수'] = train['단지내주차면수']/train['총세대수']\n",
    "test['세대당_가능주차면수'] = test['단지내주차면수']/test['총세대수']\n",
    "\n",
    "# 공가수비율 column 추가\n",
    "train['공가수비율']= train.공가수/train.총세대수 \n",
    "test['공가수비율']= test.공가수/test.총세대수 \n",
    "\n",
    "# 대형전용면적 column 추가\n",
    "level = 85\n",
    "train['대형전용면적'] = 0\n",
    "train.loc[train.전용면적>level, '대형전용면적'] = 1\n",
    "train.loc[train.전용면적<=level, '대형전용면적'] = 0\n",
    "\n",
    "test['대형전용면적'] = 0\n",
    "test.loc[test.전용면적>level, '대형전용면적'] = 1\n",
    "test.loc[test.전용면적<=level, '대형전용면적'] = 0\n",
    "\n",
    "# check\n",
    "print(\"\\n...After preprocessing\")\n",
    "print(train.shape, test.shape)"
   ]
  },
  {
   "cell_type": "code",
   "execution_count": 85,
   "metadata": {},
   "outputs": [],
   "source": [
    "#train[\"법정동_세대수\"]=(train.총인구수/train.세대당_인구)/train.총세대수\n",
    "#test[\"법정동_세대수\"]=(test.총인구수/test.세대당_인구)/test.총세대수"
   ]
  },
  {
   "cell_type": "markdown",
   "metadata": {},
   "source": [
    "# 자격유형"
   ]
  },
  {
   "cell_type": "code",
   "execution_count": 86,
   "metadata": {},
   "outputs": [],
   "source": [
    "dic = {'1': 'A' ,'2':['C','F','G'],'3':['B','H','I'],'4':['J'],\n",
    "       '5':['L',\"M\",\"N\",\"O\"],'6':[\"E\",\"K\"],'7':'D'}"
   ]
  },
  {
   "cell_type": "code",
   "execution_count": 87,
   "metadata": {},
   "outputs": [],
   "source": [
    "def mapping_by_key(dic, x):\n",
    "    for i in dic.keys():\n",
    "        if x in dic[i]:\n",
    "            return int(i)"
   ]
  },
  {
   "cell_type": "code",
   "execution_count": 88,
   "metadata": {},
   "outputs": [],
   "source": [
    "train['자격유형_카테고리'] = train['자격유형'].apply(lambda x : mapping_by_key(dic, x))\n",
    "train['자격유형_카테고리'] = train['자격유형_카테고리'].astype(object)\n",
    "test['자격유형_카테고리'] = test['자격유형'].apply(lambda x : mapping_by_key(dic, x))\n",
    "test['자격유형_카테고리'] = test['자격유형_카테고리'].astype(object)\n",
    "train= train.drop(columns=\"자격유형\")\n",
    "test= test.drop(columns=\"자격유형\")"
   ]
  },
  {
   "cell_type": "markdown",
   "metadata": {},
   "source": [
    "# 공급유형"
   ]
  },
  {
   "cell_type": "code",
   "execution_count": 89,
   "metadata": {},
   "outputs": [],
   "source": [
    "train.loc[train.공급유형.isin(['공공임대(5년)', '공공임대(10년)']), '공급유형'] = '공공임대(단기)'\n",
    "test.loc[test.공급유형.isin(['공공임대(5년)', '공공임대(10년)']), '공급유형'] = '공공임대(단기)'"
   ]
  },
  {
   "cell_type": "code",
   "execution_count": 90,
   "metadata": {},
   "outputs": [
    {
     "data": {
      "text/plain": [
       "((2577, 38), (936, 37))"
      ]
     },
     "execution_count": 90,
     "metadata": {},
     "output_type": "execute_result"
    }
   ],
   "source": [
    "train.shape, test.shape"
   ]
  },
  {
   "cell_type": "markdown",
   "metadata": {},
   "source": [
    "# 어제 결과를 보니까 1차원으로 해야 할 것 같다."
   ]
  },
  {
   "cell_type": "code",
   "execution_count": 91,
   "metadata": {},
   "outputs": [
    {
     "data": {
      "text/plain": [
       "Index(['단지코드', '총세대수', '임대건물구분', '지역', '공급유형', '전용면적', '전용면적별세대수', '공가수',\n",
       "       '임대보증금', '임대료', '지하철역', '버스정류장', '단지내주차면수', '등록차량수', '단지명', '도로명주소',\n",
       "       '연면적', '위도', '경도', 'subway_name', 'subway_dist', '환승역 수', '총인구수',\n",
       "       '세대당_인구', '남/여비율', '남/여_0~19세', '남/여_20~39세', '남/여_40~69세', '남/여_70세이상',\n",
       "       '0~19세_비율', '20~39세_비율', '40~69세_비율', '70세이상_비율', '상가비율', '세대당_가능주차면수',\n",
       "       '공가수비율', '대형전용면적', '자격유형_카테고리'],\n",
       "      dtype='object')"
      ]
     },
     "execution_count": 91,
     "metadata": {},
     "output_type": "execute_result"
    }
   ],
   "source": [
    "train.columns"
   ]
  },
  {
   "cell_type": "code",
   "execution_count": 92,
   "metadata": {},
   "outputs": [
    {
     "data": {
      "text/plain": [
       "414"
      ]
     },
     "execution_count": 92,
     "metadata": {},
     "output_type": "execute_result"
    }
   ],
   "source": [
    "len(set(train.단지코드))"
   ]
  },
  {
   "cell_type": "code",
   "execution_count": 93,
   "metadata": {},
   "outputs": [],
   "source": [
    "data = train.drop(columns=['공급유형','자격유형_카테고리','전용면적','임대건물구분',\n",
    "                           '전용면적별세대수','대형전용면적','자격유형_카테고리',\n",
    "                           '임대보증금','임대료'])\n",
    "data = data.drop_duplicates()"
   ]
  },
  {
   "cell_type": "code",
   "execution_count": 94,
   "metadata": {},
   "outputs": [
    {
     "data": {
      "text/plain": [
       "(414, 30)"
      ]
     },
     "execution_count": 94,
     "metadata": {},
     "output_type": "execute_result"
    }
   ],
   "source": [
    "data.shape"
   ]
  },
  {
   "cell_type": "code",
   "execution_count": 95,
   "metadata": {},
   "outputs": [],
   "source": [
    "sample = pd.DataFrame(train.groupby(['단지코드','공급유형']).sum()['전용면적별세대수']).reset_index()"
   ]
  },
  {
   "cell_type": "code",
   "execution_count": 96,
   "metadata": {},
   "outputs": [
    {
     "data": {
      "text/html": [
       "<div>\n",
       "<style scoped>\n",
       "    .dataframe tbody tr th:only-of-type {\n",
       "        vertical-align: middle;\n",
       "    }\n",
       "\n",
       "    .dataframe tbody tr th {\n",
       "        vertical-align: top;\n",
       "    }\n",
       "\n",
       "    .dataframe thead th {\n",
       "        text-align: right;\n",
       "    }\n",
       "</style>\n",
       "<table border=\"1\" class=\"dataframe\">\n",
       "  <thead>\n",
       "    <tr style=\"text-align: right;\">\n",
       "      <th></th>\n",
       "      <th>단지코드</th>\n",
       "      <th>공급유형</th>\n",
       "      <th>전용면적별세대수</th>\n",
       "    </tr>\n",
       "  </thead>\n",
       "  <tbody>\n",
       "    <tr>\n",
       "      <th>0</th>\n",
       "      <td>C1000</td>\n",
       "      <td>국민임대</td>\n",
       "      <td>566</td>\n",
       "    </tr>\n",
       "    <tr>\n",
       "      <th>1</th>\n",
       "      <td>C1004</td>\n",
       "      <td>영구임대</td>\n",
       "      <td>504</td>\n",
       "    </tr>\n",
       "    <tr>\n",
       "      <th>2</th>\n",
       "      <td>C1004</td>\n",
       "      <td>임대상가</td>\n",
       "      <td>13</td>\n",
       "    </tr>\n",
       "    <tr>\n",
       "      <th>3</th>\n",
       "      <td>C1005</td>\n",
       "      <td>국민임대</td>\n",
       "      <td>1144</td>\n",
       "    </tr>\n",
       "    <tr>\n",
       "      <th>4</th>\n",
       "      <td>C1013</td>\n",
       "      <td>국민임대</td>\n",
       "      <td>1308</td>\n",
       "    </tr>\n",
       "  </tbody>\n",
       "</table>\n",
       "</div>"
      ],
      "text/plain": [
       "    단지코드  공급유형  전용면적별세대수\n",
       "0  C1000  국민임대       566\n",
       "1  C1004  영구임대       504\n",
       "2  C1004  임대상가        13\n",
       "3  C1005  국민임대      1144\n",
       "4  C1013  국민임대      1308"
      ]
     },
     "execution_count": 96,
     "metadata": {},
     "output_type": "execute_result"
    }
   ],
   "source": [
    "sample.head()"
   ]
  },
  {
   "cell_type": "code",
   "execution_count": 97,
   "metadata": {},
   "outputs": [],
   "source": [
    "for i in sample.공급유형.unique():\n",
    "    data[str(i)]=0"
   ]
  },
  {
   "cell_type": "code",
   "execution_count": 98,
   "metadata": {},
   "outputs": [],
   "source": [
    "for i in sample.index:\n",
    "    code = sample.loc[i,'단지코드']\n",
    "    col = sample.loc[i,'공급유형']\n",
    "    val = sample.loc[i,'전용면적별세대수']\n",
    "    ind = data[data['단지코드']==code].index\n",
    "    data.loc[ind,col] = val"
   ]
  },
  {
   "cell_type": "code",
   "execution_count": 99,
   "metadata": {},
   "outputs": [
    {
     "data": {
      "text/html": [
       "<div>\n",
       "<style scoped>\n",
       "    .dataframe tbody tr th:only-of-type {\n",
       "        vertical-align: middle;\n",
       "    }\n",
       "\n",
       "    .dataframe tbody tr th {\n",
       "        vertical-align: top;\n",
       "    }\n",
       "\n",
       "    .dataframe thead th {\n",
       "        text-align: right;\n",
       "    }\n",
       "</style>\n",
       "<table border=\"1\" class=\"dataframe\">\n",
       "  <thead>\n",
       "    <tr style=\"text-align: right;\">\n",
       "      <th></th>\n",
       "      <th>단지코드</th>\n",
       "      <th>임대료</th>\n",
       "      <th>임대보증금</th>\n",
       "    </tr>\n",
       "  </thead>\n",
       "  <tbody>\n",
       "    <tr>\n",
       "      <th>0</th>\n",
       "      <td>C1000</td>\n",
       "      <td>121064.285714</td>\n",
       "      <td>1.320357e+07</td>\n",
       "    </tr>\n",
       "    <tr>\n",
       "      <th>1</th>\n",
       "      <td>C1004</td>\n",
       "      <td>877964.187248</td>\n",
       "      <td>1.038396e+07</td>\n",
       "    </tr>\n",
       "    <tr>\n",
       "      <th>2</th>\n",
       "      <td>C1005</td>\n",
       "      <td>222046.666667</td>\n",
       "      <td>1.710767e+07</td>\n",
       "    </tr>\n",
       "    <tr>\n",
       "      <th>3</th>\n",
       "      <td>C1013</td>\n",
       "      <td>134726.000000</td>\n",
       "      <td>2.492480e+07</td>\n",
       "    </tr>\n",
       "    <tr>\n",
       "      <th>4</th>\n",
       "      <td>C1014</td>\n",
       "      <td>160488.571429</td>\n",
       "      <td>2.389400e+07</td>\n",
       "    </tr>\n",
       "  </tbody>\n",
       "</table>\n",
       "</div>"
      ],
      "text/plain": [
       "    단지코드            임대료         임대보증금\n",
       "0  C1000  121064.285714  1.320357e+07\n",
       "1  C1004  877964.187248  1.038396e+07\n",
       "2  C1005  222046.666667  1.710767e+07\n",
       "3  C1013  134726.000000  2.492480e+07\n",
       "4  C1014  160488.571429  2.389400e+07"
      ]
     },
     "execution_count": 99,
     "metadata": {},
     "output_type": "execute_result"
    }
   ],
   "source": [
    "sample = train.groupby('단지코드').mean()[['임대료','임대보증금']].reset_index()\n",
    "sample.head()"
   ]
  },
  {
   "cell_type": "code",
   "execution_count": null,
   "metadata": {},
   "outputs": [],
   "source": [
    "for i in sample.index:\n",
    "    code = sample.loc[i,'단지코드']\n",
    "    val1 = sample.loc[i,'임대료']\n",
    "    val2 = sample.loc[i,'임대보증금']\n",
    "    ind = data[data['단지코드']==code].index\n",
    "    data.loc[ind,'임대료'] = val1\n",
    "    data.loc[ind,'임대보증금'] = val2"
   ]
  },
  {
   "cell_type": "code",
   "execution_count": null,
   "metadata": {},
   "outputs": [
    {
     "data": {
      "text/html": [
       "<div>\n",
       "<style scoped>\n",
       "    .dataframe tbody tr th:only-of-type {\n",
       "        vertical-align: middle;\n",
       "    }\n",
       "\n",
       "    .dataframe tbody tr th {\n",
       "        vertical-align: top;\n",
       "    }\n",
       "\n",
       "    .dataframe thead th {\n",
       "        text-align: right;\n",
       "    }\n",
       "</style>\n",
       "<table border=\"1\" class=\"dataframe\">\n",
       "  <thead>\n",
       "    <tr style=\"text-align: right;\">\n",
       "      <th></th>\n",
       "      <th>단지코드</th>\n",
       "      <th>자격유형_카테고리</th>\n",
       "      <th>전용면적별세대수</th>\n",
       "    </tr>\n",
       "  </thead>\n",
       "  <tbody>\n",
       "    <tr>\n",
       "      <th>0</th>\n",
       "      <td>C1000</td>\n",
       "      <td>1</td>\n",
       "      <td>566</td>\n",
       "    </tr>\n",
       "    <tr>\n",
       "      <th>1</th>\n",
       "      <td>C1004</td>\n",
       "      <td>2</td>\n",
       "      <td>504</td>\n",
       "    </tr>\n",
       "    <tr>\n",
       "      <th>2</th>\n",
       "      <td>C1004</td>\n",
       "      <td>7</td>\n",
       "      <td>13</td>\n",
       "    </tr>\n",
       "    <tr>\n",
       "      <th>3</th>\n",
       "      <td>C1005</td>\n",
       "      <td>1</td>\n",
       "      <td>1144</td>\n",
       "    </tr>\n",
       "    <tr>\n",
       "      <th>4</th>\n",
       "      <td>C1013</td>\n",
       "      <td>1</td>\n",
       "      <td>1308</td>\n",
       "    </tr>\n",
       "  </tbody>\n",
       "</table>\n",
       "</div>"
      ],
      "text/plain": [
       "    단지코드  자격유형_카테고리  전용면적별세대수\n",
       "0  C1000          1       566\n",
       "1  C1004          2       504\n",
       "2  C1004          7        13\n",
       "3  C1005          1      1144\n",
       "4  C1013          1      1308"
      ]
     },
     "execution_count": 101,
     "metadata": {},
     "output_type": "execute_result"
    }
   ],
   "source": [
    "sample = pd.DataFrame(train.groupby(['단지코드','자격유형_카테고리']).sum()['전용면적별세대수']).reset_index()\n",
    "sample.head()"
   ]
  },
  {
   "cell_type": "code",
   "execution_count": null,
   "metadata": {
    "scrolled": true
   },
   "outputs": [],
   "source": [
    "for i in sample.index:\n",
    "    code = sample.loc[i,'단지코드']\n",
    "    col = sample.loc[i,'자격유형_카테고리']\n",
    "    val = sample.loc[i,'전용면적별세대수']\n",
    "    ind = data[data['단지코드']==code].index\n",
    "    data.loc[ind,col] = val"
   ]
  },
  {
   "cell_type": "code",
   "execution_count": null,
   "metadata": {},
   "outputs": [],
   "source": [
    "data=data.fillna(0)"
   ]
  },
  {
   "cell_type": "code",
   "execution_count": null,
   "metadata": {
    "scrolled": true
   },
   "outputs": [
    {
     "data": {
      "text/html": [
       "<div>\n",
       "<style scoped>\n",
       "    .dataframe tbody tr th:only-of-type {\n",
       "        vertical-align: middle;\n",
       "    }\n",
       "\n",
       "    .dataframe tbody tr th {\n",
       "        vertical-align: top;\n",
       "    }\n",
       "\n",
       "    .dataframe thead th {\n",
       "        text-align: right;\n",
       "    }\n",
       "</style>\n",
       "<table border=\"1\" class=\"dataframe\">\n",
       "  <thead>\n",
       "    <tr style=\"text-align: right;\">\n",
       "      <th></th>\n",
       "      <th>단지코드</th>\n",
       "      <th>대형전용면적</th>\n",
       "    </tr>\n",
       "  </thead>\n",
       "  <tbody>\n",
       "    <tr>\n",
       "      <th>0</th>\n",
       "      <td>C1000</td>\n",
       "      <td>0</td>\n",
       "    </tr>\n",
       "    <tr>\n",
       "      <th>1</th>\n",
       "      <td>C1004</td>\n",
       "      <td>1</td>\n",
       "    </tr>\n",
       "    <tr>\n",
       "      <th>2</th>\n",
       "      <td>C1005</td>\n",
       "      <td>0</td>\n",
       "    </tr>\n",
       "    <tr>\n",
       "      <th>3</th>\n",
       "      <td>C1013</td>\n",
       "      <td>0</td>\n",
       "    </tr>\n",
       "    <tr>\n",
       "      <th>4</th>\n",
       "      <td>C1014</td>\n",
       "      <td>0</td>\n",
       "    </tr>\n",
       "  </tbody>\n",
       "</table>\n",
       "</div>"
      ],
      "text/plain": [
       "    단지코드  대형전용면적\n",
       "0  C1000       0\n",
       "1  C1004       1\n",
       "2  C1005       0\n",
       "3  C1013       0\n",
       "4  C1014       0"
      ]
     },
     "execution_count": 104,
     "metadata": {},
     "output_type": "execute_result"
    }
   ],
   "source": [
    "sample = pd.DataFrame(train.groupby('단지코드')['대형전용면적'].sum()).reset_index()\n",
    "sample.head()"
   ]
  },
  {
   "cell_type": "code",
   "execution_count": null,
   "metadata": {},
   "outputs": [],
   "source": [
    "data=pd.merge(data, sample, on=\"단지코드\", how=\"inner\")"
   ]
  },
  {
   "cell_type": "markdown",
   "metadata": {},
   "source": [
    "# Test에 똑같이"
   ]
  },
  {
   "cell_type": "code",
   "execution_count": null,
   "metadata": {},
   "outputs": [
    {
     "name": "stdout",
     "output_type": "stream",
     "text": [
      "147\n"
     ]
    },
    {
     "data": {
      "text/plain": [
       "(147, 29)"
      ]
     },
     "execution_count": 106,
     "metadata": {},
     "output_type": "execute_result"
    }
   ],
   "source": [
    "print(len(set(test.단지코드)))\n",
    "dat = test.drop(columns=['공급유형','자격유형_카테고리','전용면적','임대건물구분',\n",
    "                           '전용면적별세대수','대형전용면적','자격유형_카테고리',\n",
    "                           '임대보증금','임대료'])\n",
    "dat = dat.drop_duplicates()\n",
    "dat.shape"
   ]
  },
  {
   "cell_type": "code",
   "execution_count": null,
   "metadata": {},
   "outputs": [
    {
     "data": {
      "text/html": [
       "<div>\n",
       "<style scoped>\n",
       "    .dataframe tbody tr th:only-of-type {\n",
       "        vertical-align: middle;\n",
       "    }\n",
       "\n",
       "    .dataframe tbody tr th {\n",
       "        vertical-align: top;\n",
       "    }\n",
       "\n",
       "    .dataframe thead th {\n",
       "        text-align: right;\n",
       "    }\n",
       "</style>\n",
       "<table border=\"1\" class=\"dataframe\">\n",
       "  <thead>\n",
       "    <tr style=\"text-align: right;\">\n",
       "      <th></th>\n",
       "      <th>단지코드</th>\n",
       "      <th>공급유형</th>\n",
       "      <th>전용면적별세대수</th>\n",
       "    </tr>\n",
       "  </thead>\n",
       "  <tbody>\n",
       "    <tr>\n",
       "      <th>0</th>\n",
       "      <td>C1003</td>\n",
       "      <td>행복주택</td>\n",
       "      <td>480</td>\n",
       "    </tr>\n",
       "    <tr>\n",
       "      <th>1</th>\n",
       "      <td>C1006</td>\n",
       "      <td>영구임대</td>\n",
       "      <td>1475</td>\n",
       "    </tr>\n",
       "    <tr>\n",
       "      <th>2</th>\n",
       "      <td>C1006</td>\n",
       "      <td>임대상가</td>\n",
       "      <td>13</td>\n",
       "    </tr>\n",
       "    <tr>\n",
       "      <th>3</th>\n",
       "      <td>C1016</td>\n",
       "      <td>국민임대</td>\n",
       "      <td>643</td>\n",
       "    </tr>\n",
       "    <tr>\n",
       "      <th>4</th>\n",
       "      <td>C1019</td>\n",
       "      <td>국민임대</td>\n",
       "      <td>321</td>\n",
       "    </tr>\n",
       "  </tbody>\n",
       "</table>\n",
       "</div>"
      ],
      "text/plain": [
       "    단지코드  공급유형  전용면적별세대수\n",
       "0  C1003  행복주택       480\n",
       "1  C1006  영구임대      1475\n",
       "2  C1006  임대상가        13\n",
       "3  C1016  국민임대       643\n",
       "4  C1019  국민임대       321"
      ]
     },
     "execution_count": 107,
     "metadata": {},
     "output_type": "execute_result"
    }
   ],
   "source": [
    "sample = pd.DataFrame(test.groupby(['단지코드','공급유형']).sum()['전용면적별세대수']).reset_index()\n",
    "sample.head()"
   ]
  },
  {
   "cell_type": "code",
   "execution_count": null,
   "metadata": {},
   "outputs": [],
   "source": [
    "for i in sample.공급유형.unique():\n",
    "    dat[str(i)]=0"
   ]
  },
  {
   "cell_type": "code",
   "execution_count": null,
   "metadata": {},
   "outputs": [],
   "source": [
    "for i in sample.index:\n",
    "    code = sample.loc[i,'단지코드']\n",
    "    col = sample.loc[i,'공급유형']\n",
    "    val = sample.loc[i,'전용면적별세대수']\n",
    "    ind = dat[dat['단지코드']==code].index\n",
    "    dat.loc[ind,col] = val"
   ]
  },
  {
   "cell_type": "code",
   "execution_count": null,
   "metadata": {
    "scrolled": true
   },
   "outputs": [
    {
     "data": {
      "text/html": [
       "<div>\n",
       "<style scoped>\n",
       "    .dataframe tbody tr th:only-of-type {\n",
       "        vertical-align: middle;\n",
       "    }\n",
       "\n",
       "    .dataframe tbody tr th {\n",
       "        vertical-align: top;\n",
       "    }\n",
       "\n",
       "    .dataframe thead th {\n",
       "        text-align: right;\n",
       "    }\n",
       "</style>\n",
       "<table border=\"1\" class=\"dataframe\">\n",
       "  <thead>\n",
       "    <tr style=\"text-align: right;\">\n",
       "      <th></th>\n",
       "      <th>단지코드</th>\n",
       "      <th>임대료</th>\n",
       "      <th>임대보증금</th>\n",
       "    </tr>\n",
       "  </thead>\n",
       "  <tbody>\n",
       "    <tr>\n",
       "      <th>0</th>\n",
       "      <td>C1003</td>\n",
       "      <td>1.158750e+05</td>\n",
       "      <td>2.265000e+07</td>\n",
       "    </tr>\n",
       "    <tr>\n",
       "      <th>1</th>\n",
       "      <td>C1006</td>\n",
       "      <td>2.333169e+06</td>\n",
       "      <td>1.754953e+07</td>\n",
       "    </tr>\n",
       "    <tr>\n",
       "      <th>2</th>\n",
       "      <td>C1016</td>\n",
       "      <td>2.280100e+05</td>\n",
       "      <td>2.402675e+07</td>\n",
       "    </tr>\n",
       "    <tr>\n",
       "      <th>3</th>\n",
       "      <td>C1019</td>\n",
       "      <td>1.264300e+05</td>\n",
       "      <td>1.485750e+07</td>\n",
       "    </tr>\n",
       "    <tr>\n",
       "      <th>4</th>\n",
       "      <td>C1030</td>\n",
       "      <td>2.142167e+05</td>\n",
       "      <td>5.141333e+07</td>\n",
       "    </tr>\n",
       "  </tbody>\n",
       "</table>\n",
       "</div>"
      ],
      "text/plain": [
       "    단지코드           임대료         임대보증금\n",
       "0  C1003  1.158750e+05  2.265000e+07\n",
       "1  C1006  2.333169e+06  1.754953e+07\n",
       "2  C1016  2.280100e+05  2.402675e+07\n",
       "3  C1019  1.264300e+05  1.485750e+07\n",
       "4  C1030  2.142167e+05  5.141333e+07"
      ]
     },
     "execution_count": 110,
     "metadata": {},
     "output_type": "execute_result"
    }
   ],
   "source": [
    "sample = test.groupby('단지코드').mean()[['임대료','임대보증금']].reset_index()\n",
    "sample.head()"
   ]
  },
  {
   "cell_type": "code",
   "execution_count": null,
   "metadata": {},
   "outputs": [],
   "source": [
    "for i in sample.index:\n",
    "    code = sample.loc[i,'단지코드']\n",
    "    val1 = sample.loc[i,'임대료']\n",
    "    val2 = sample.loc[i,'임대보증금']\n",
    "    ind = dat[dat['단지코드']==code].index\n",
    "    dat.loc[ind,'임대료'] = val1\n",
    "    dat.loc[ind,'임대보증금'] = val2"
   ]
  },
  {
   "cell_type": "code",
   "execution_count": null,
   "metadata": {},
   "outputs": [
    {
     "data": {
      "text/html": [
       "<div>\n",
       "<style scoped>\n",
       "    .dataframe tbody tr th:only-of-type {\n",
       "        vertical-align: middle;\n",
       "    }\n",
       "\n",
       "    .dataframe tbody tr th {\n",
       "        vertical-align: top;\n",
       "    }\n",
       "\n",
       "    .dataframe thead th {\n",
       "        text-align: right;\n",
       "    }\n",
       "</style>\n",
       "<table border=\"1\" class=\"dataframe\">\n",
       "  <thead>\n",
       "    <tr style=\"text-align: right;\">\n",
       "      <th></th>\n",
       "      <th>단지코드</th>\n",
       "      <th>자격유형_카테고리</th>\n",
       "      <th>전용면적별세대수</th>\n",
       "    </tr>\n",
       "  </thead>\n",
       "  <tbody>\n",
       "    <tr>\n",
       "      <th>0</th>\n",
       "      <td>C1003</td>\n",
       "      <td>4</td>\n",
       "      <td>480</td>\n",
       "    </tr>\n",
       "    <tr>\n",
       "      <th>1</th>\n",
       "      <td>C1006</td>\n",
       "      <td>2</td>\n",
       "      <td>1459</td>\n",
       "    </tr>\n",
       "    <tr>\n",
       "      <th>2</th>\n",
       "      <td>C1006</td>\n",
       "      <td>7</td>\n",
       "      <td>29</td>\n",
       "    </tr>\n",
       "    <tr>\n",
       "      <th>3</th>\n",
       "      <td>C1016</td>\n",
       "      <td>1</td>\n",
       "      <td>643</td>\n",
       "    </tr>\n",
       "    <tr>\n",
       "      <th>4</th>\n",
       "      <td>C1019</td>\n",
       "      <td>1</td>\n",
       "      <td>321</td>\n",
       "    </tr>\n",
       "  </tbody>\n",
       "</table>\n",
       "</div>"
      ],
      "text/plain": [
       "    단지코드  자격유형_카테고리  전용면적별세대수\n",
       "0  C1003          4       480\n",
       "1  C1006          2      1459\n",
       "2  C1006          7        29\n",
       "3  C1016          1       643\n",
       "4  C1019          1       321"
      ]
     },
     "execution_count": 112,
     "metadata": {},
     "output_type": "execute_result"
    }
   ],
   "source": [
    "sample = pd.DataFrame(test.groupby(['단지코드','자격유형_카테고리']).sum()['전용면적별세대수']).reset_index()\n",
    "sample.head()"
   ]
  },
  {
   "cell_type": "code",
   "execution_count": null,
   "metadata": {},
   "outputs": [],
   "source": [
    "for i in sample.index:\n",
    "    code = sample.loc[i,'단지코드']\n",
    "    col = sample.loc[i,'자격유형_카테고리']\n",
    "    val = sample.loc[i,'전용면적별세대수']\n",
    "    ind = dat[dat['단지코드']==code].index\n",
    "    dat.loc[ind,col] = val"
   ]
  },
  {
   "cell_type": "code",
   "execution_count": null,
   "metadata": {},
   "outputs": [],
   "source": [
    "dat=dat.fillna(0)"
   ]
  },
  {
   "cell_type": "code",
   "execution_count": null,
   "metadata": {},
   "outputs": [
    {
     "data": {
      "text/html": [
       "<div>\n",
       "<style scoped>\n",
       "    .dataframe tbody tr th:only-of-type {\n",
       "        vertical-align: middle;\n",
       "    }\n",
       "\n",
       "    .dataframe tbody tr th {\n",
       "        vertical-align: top;\n",
       "    }\n",
       "\n",
       "    .dataframe thead th {\n",
       "        text-align: right;\n",
       "    }\n",
       "</style>\n",
       "<table border=\"1\" class=\"dataframe\">\n",
       "  <thead>\n",
       "    <tr style=\"text-align: right;\">\n",
       "      <th></th>\n",
       "      <th>단지코드</th>\n",
       "      <th>대형전용면적</th>\n",
       "    </tr>\n",
       "  </thead>\n",
       "  <tbody>\n",
       "    <tr>\n",
       "      <th>0</th>\n",
       "      <td>C1003</td>\n",
       "      <td>0</td>\n",
       "    </tr>\n",
       "    <tr>\n",
       "      <th>1</th>\n",
       "      <td>C1006</td>\n",
       "      <td>1</td>\n",
       "    </tr>\n",
       "    <tr>\n",
       "      <th>2</th>\n",
       "      <td>C1016</td>\n",
       "      <td>0</td>\n",
       "    </tr>\n",
       "    <tr>\n",
       "      <th>3</th>\n",
       "      <td>C1019</td>\n",
       "      <td>0</td>\n",
       "    </tr>\n",
       "    <tr>\n",
       "      <th>4</th>\n",
       "      <td>C1030</td>\n",
       "      <td>0</td>\n",
       "    </tr>\n",
       "  </tbody>\n",
       "</table>\n",
       "</div>"
      ],
      "text/plain": [
       "    단지코드  대형전용면적\n",
       "0  C1003       0\n",
       "1  C1006       1\n",
       "2  C1016       0\n",
       "3  C1019       0\n",
       "4  C1030       0"
      ]
     },
     "execution_count": 115,
     "metadata": {},
     "output_type": "execute_result"
    }
   ],
   "source": [
    "sample = pd.DataFrame(test.groupby('단지코드')['대형전용면적'].sum()).reset_index()\n",
    "sample.head()"
   ]
  },
  {
   "cell_type": "code",
   "execution_count": null,
   "metadata": {},
   "outputs": [],
   "source": [
    "dat=pd.merge(dat, sample, on=\"단지코드\", how=\"inner\")"
   ]
  },
  {
   "cell_type": "code",
   "execution_count": null,
   "metadata": {},
   "outputs": [],
   "source": [
    "dat.columns=[       '단지코드',        '총세대수',          '지역',         '공가수',\n",
    "              '지하철역',       '버스정류장',     '단지내주차면수',         '단지명',\n",
    "             '도로명주소',         '연면적',          '위도',          '경도',\n",
    "       'subway_name', 'subway_dist',       '환승역 수',        '총인구수',\n",
    "            '세대당_인구',       '남/여비율',   '남/여_0~19세',  '남/여_20~39세',\n",
    "        '남/여_40~69세',   '남/여_70세이상',    '0~19세_비율',   '20~39세_비율',\n",
    "         '40~69세_비율',    '70세이상_비율',    '상가비율',  '세대당_가능주차면수',\n",
    "             '공가수비율',        '행복주택',        '영구임대',        '임대상가',\n",
    "              '국민임대',   '공공임대(50년)',    '공공임대(단기)',    '공공임대(분납)',\n",
    "               '임대료',       '임대보증금',             '자격유형4',             '자격유형2',\n",
    "                   '자격유형7',             '자격유형1',             '자격유형6',             '자격유형3',\n",
    "                   '자격유형5',      '대형전용면적']\n",
    "data.columns=[  '단지코드',        '총세대수',          '지역',         '공가수',\n",
    "              '지하철역',       '버스정류장',     '단지내주차면수',       '등록차량수',\n",
    "               '단지명',       '도로명주소',         '연면적',          '위도',\n",
    "                '경도', 'subway_name', 'subway_dist',       '환승역 수',\n",
    "              '총인구수',      '세대당_인구',       '남/여비율',   '남/여_0~19세',\n",
    "        '남/여_20~39세',  '남/여_40~69세',   '남/여_70세이상',    '0~19세_비율',\n",
    "         '20~39세_비율',   '40~69세_비율',    '70세이상_비율',  '상가비율',\n",
    "        '세대당_가능주차면수',       '공가수비율',        '국민임대',        '영구임대',\n",
    "              '임대상가',    '공공임대(단기)',        '장기전세',        '행복주택',\n",
    "          '공공임대(분납)',        '공공분양',   '공공임대(50년)',         '임대료',\n",
    "             '임대보증금', '자격유형1',  '자격유형2',             '자격유형7',\n",
    "                   '자격유형3', '자격유형6','자격유형4','자격유형5',\n",
    "            '대형전용면적']"
   ]
  },
  {
   "cell_type": "markdown",
   "metadata": {},
   "source": [
    "# 지역 카테고리 추가 & 지역 drop"
   ]
  },
  {
   "cell_type": "code",
   "execution_count": null,
   "metadata": {},
   "outputs": [],
   "source": [
    "#group1 = ['대구광역시','세종특별자치시','경기도','서울특별시','충청북도','전라남도','전라북도','경상북도']\n",
    "#group2 = ['대전광역시','울산광역시','광주광역시','경상남도','제주특별자치도','부산광역시','충청남도','강원도']    \n",
    "#data.loc[data.지역.isin(group1),\"지역_카테고리\"] = \"high\"\n",
    "#data.loc[data.지역.isin(group2),\"지역_카테고리\"] = \"low\"\n",
    "#dat.loc[dat.지역.isin(group1),\"지역_카테고리\"] = \"high\"\n",
    "#dat.loc[dat.지역.isin(group2),\"지역_카테고리\"] = \"low\""
   ]
  },
  {
   "cell_type": "markdown",
   "metadata": {},
   "source": [
    "# Correlation 확인"
   ]
  },
  {
   "cell_type": "code",
   "execution_count": null,
   "metadata": {},
   "outputs": [],
   "source": [
    "X_cor = data.drop(columns=['단지코드','단지명','도로명주소','subway_name', \"지역\"])"
   ]
  },
  {
   "cell_type": "code",
   "execution_count": null,
   "metadata": {},
   "outputs": [],
   "source": [
    "X_cor = pd.get_dummies(X_cor, drop_first=True)"
   ]
  },
  {
   "cell_type": "code",
   "execution_count": null,
   "metadata": {},
   "outputs": [
    {
     "data": {
      "text/plain": [
       "<matplotlib.axes._subplots.AxesSubplot at 0x21f543c6860>"
      ]
     },
     "execution_count": 121,
     "metadata": {},
     "output_type": "execute_result"
    }
   ],
   "source": [
    "plt.subplots(figsize=(20,15))\n",
    "sns.heatmap(X_cor.corr(), cbar = True, annot = True, fmt = '.2f', square = True, cmap = 'Blues', linewidths=.5)"
   ]
  },
  {
   "cell_type": "markdown",
   "metadata": {},
   "source": [
    "# Modeling"
   ]
  },
  {
   "cell_type": "code",
   "execution_count": null,
   "metadata": {},
   "outputs": [],
   "source": [
    "from sklearn.linear_model import LinearRegression, Lasso, ElasticNet, Ridge\n",
    "from sklearn.ensemble import RandomForestRegressor, GradientBoostingRegressor\n",
    "from sklearn.tree import DecisionTreeRegressor \n",
    "from xgboost import XGBRegressor\n",
    "from catboost import CatBoostRegressor\n",
    "import lightgbm as LGB\n",
    "from sklearn.cross_decomposition import PLSRegression\n",
    "from sklearn.svm import SVR\n",
    "from statsmodels.api import OLS\n",
    "\n",
    "from sklearn.preprocessing import MinMaxScaler\n",
    "from sklearn.preprocessing import StandardScaler\n",
    "from sklearn.preprocessing import RobustScaler\n",
    "robustScaler = RobustScaler()\n",
    "standardScaler = StandardScaler()\n",
    "minMaxScaler = MinMaxScaler()\n",
    "#standardScaler.fit(X_train)\n",
    "#X_train = standardScaler.transform(X_train)\n",
    "#standardScaler.fit(X_test)\n",
    "#X_test = standardScaler.transform(X_test)\n",
    "\n",
    "# Validation\n",
    "from sklearn.model_selection import train_test_split\n",
    "from sklearn.model_selection import cross_val_score, KFold, RepeatedKFold\n",
    "from sklearn.metrics import mean_absolute_error"
   ]
  },
  {
   "cell_type": "markdown",
   "metadata": {},
   "source": [
    "## 나눠서 modeling"
   ]
  },
  {
   "cell_type": "code",
   "execution_count": 42,
   "metadata": {
    "scrolled": true
   },
   "outputs": [
    {
     "data": {
      "text/html": [
       "<div>\n",
       "<style scoped>\n",
       "    .dataframe tbody tr th:only-of-type {\n",
       "        vertical-align: middle;\n",
       "    }\n",
       "\n",
       "    .dataframe tbody tr th {\n",
       "        vertical-align: top;\n",
       "    }\n",
       "\n",
       "    .dataframe thead th {\n",
       "        text-align: right;\n",
       "    }\n",
       "</style>\n",
       "<table border=\"1\" class=\"dataframe\">\n",
       "  <thead>\n",
       "    <tr style=\"text-align: right;\">\n",
       "      <th></th>\n",
       "      <th>단지내주차면수</th>\n",
       "      <th>단지내주차면수</th>\n",
       "    </tr>\n",
       "  </thead>\n",
       "  <tbody>\n",
       "    <tr>\n",
       "      <th>count</th>\n",
       "      <td>414.000000</td>\n",
       "      <td>147.000000</td>\n",
       "    </tr>\n",
       "    <tr>\n",
       "      <th>mean</th>\n",
       "      <td>586.330918</td>\n",
       "      <td>558.387755</td>\n",
       "    </tr>\n",
       "    <tr>\n",
       "      <th>std</th>\n",
       "      <td>363.665625</td>\n",
       "      <td>321.009953</td>\n",
       "    </tr>\n",
       "    <tr>\n",
       "      <th>min</th>\n",
       "      <td>13.000000</td>\n",
       "      <td>29.000000</td>\n",
       "    </tr>\n",
       "    <tr>\n",
       "      <th>25%</th>\n",
       "      <td>318.250000</td>\n",
       "      <td>313.000000</td>\n",
       "    </tr>\n",
       "    <tr>\n",
       "      <th>50%</th>\n",
       "      <td>517.000000</td>\n",
       "      <td>499.000000</td>\n",
       "    </tr>\n",
       "    <tr>\n",
       "      <th>75%</th>\n",
       "      <td>785.750000</td>\n",
       "      <td>726.000000</td>\n",
       "    </tr>\n",
       "    <tr>\n",
       "      <th>max</th>\n",
       "      <td>1798.000000</td>\n",
       "      <td>1696.000000</td>\n",
       "    </tr>\n",
       "  </tbody>\n",
       "</table>\n",
       "</div>"
      ],
      "text/plain": [
       "           단지내주차면수      단지내주차면수\n",
       "count   414.000000   147.000000\n",
       "mean    586.330918   558.387755\n",
       "std     363.665625   321.009953\n",
       "min      13.000000    29.000000\n",
       "25%     318.250000   313.000000\n",
       "50%     517.000000   499.000000\n",
       "75%     785.750000   726.000000\n",
       "max    1798.000000  1696.000000"
      ]
     },
     "execution_count": 42,
     "metadata": {},
     "output_type": "execute_result"
    }
   ],
   "source": [
    "pd.concat([pd.DataFrame(data.단지내주차면수.describe()),\n",
    "           pd.DataFrame(dat.단지내주차면수.describe())], axis=1)"
   ]
  },
  {
   "cell_type": "code",
   "execution_count": 85,
   "metadata": {},
   "outputs": [],
   "source": [
    "train1=data[data.단지내주차면수<785]\n",
    "train2=data[data.단지내주차면수>=785]\n",
    "test1=dat[dat.단지내주차면수<785]\n",
    "test2=dat[dat.단지내주차면수>=785]"
   ]
  },
  {
   "cell_type": "code",
   "execution_count": 86,
   "metadata": {
    "scrolled": true
   },
   "outputs": [
    {
     "name": "stdout",
     "output_type": "stream",
     "text": [
      "(310, 49) (104, 49)\n",
      "(113, 46) (34, 46)\n"
     ]
    }
   ],
   "source": [
    "print(train1.shape, train2.shape)\n",
    "print(test1.shape, test2.shape)"
   ]
  },
  {
   "cell_type": "code",
   "execution_count": 78,
   "metadata": {},
   "outputs": [],
   "source": [
    "def fit(X_train, X_test, y_train, y_test, model):\n",
    "    try:\n",
    "        model.fit(X_train, y_train, verbose=False)\n",
    "    except:\n",
    "        model.fit(X_train, y_train)\n",
    "    tst_pred = model.predict(X_test)\n",
    "    error = mean_absolute_error(y_test,tst_pred)\n",
    "    return model, tst_pred, error\n",
    "\n",
    "\n",
    "def fit_models(X, y, models, cv=False):\n",
    "    X = np.array(X.reset_index(drop=True))\n",
    "    y = np.array(y.reset_index(drop=True))\n",
    "    best_error = 10000\n",
    "    best_tst_pred = 0\n",
    "    best_model = \"\"\n",
    "    if cv==False:\n",
    "        X_train, X_test, y_train, y_test = train_test_split(X, y, test_size=0.3, shuffle=True,random_state=2021)\n",
    "        for m in models:\n",
    "            model, tst_pred, error = fit(X_train, X_test, y_train, y_test, m)\n",
    "            if best_error > error:\n",
    "                best_error = error\n",
    "                best_tst_pred = tst_pred\n",
    "                best_model = model\n",
    "    else:\n",
    "        best_tst_idx = []\n",
    "        kf = KFold(n_splits = 5, shuffle=True,random_state = 2021)\n",
    "        for m in models:\n",
    "            mae = []\n",
    "            pred= []\n",
    "            tst_idx = []\n",
    "            for train_index, test_index in kf.split(X, y):\n",
    "                X_train, X_test = X[train_index], X[test_index]\n",
    "                y_train, y_test = y[train_index], y[test_index]\n",
    "                model, tst_pred, error = fit(X_train, X_test, y_train, y_test, m)\n",
    "                mae.append(error)\n",
    "                pred.append(tst_pred.tolist())\n",
    "                tst_idx.append(test_index.tolist())\n",
    "            cv_error = np.mean(mae)\n",
    "            print(f\"model:{str(m).split('(')[0]}\\nMAE:{cv_error}\")\n",
    "            if best_error > cv_error:\n",
    "                best_error = cv_error\n",
    "                best_tst_pred = pred\n",
    "                best_tst_idx = sum(tst_idx, [])\n",
    "                best_model = model\n",
    "        best_tst_pred = sum(best_tst_pred,[])\n",
    "        best_tst_pred = dict(zip(best_tst_idx,best_tst_pred))\n",
    "    try:\n",
    "        best_model = best_model.fit(np.concatenate((X_train, X_test),axis=0), \n",
    "                                                np.concatenate((y_train, y_test),axis=0), \n",
    "                                                verbose=False)\n",
    "    except:\n",
    "        best_model = best_model.fit(np.concatenate((X_train, X_test),axis=0), \n",
    "                                        np.concatenate((y_train, y_test),axis=0))\n",
    "    return best_model, best_tst_pred, best_error"
   ]
  },
  {
   "cell_type": "code",
   "execution_count": 79,
   "metadata": {},
   "outputs": [],
   "source": [
    "models = [LinearRegression(), \n",
    "          PLSRegression(), \n",
    "          Ridge(random_state=2021),\n",
    "          Lasso(random_state=2021), \n",
    "          ElasticNet(random_state=2021),\n",
    "          #SVR(),\n",
    "          CatBoostRegressor(random_state=2021, loss_function = 'MAE'),\n",
    "          RandomForestRegressor(criterion=\"mae\",random_state=2021),\n",
    "          GradientBoostingRegressor(criterion=\"mae\",random_state=2021),\n",
    "          XGBRegressor(random_state=2021)]"
   ]
  },
  {
   "cell_type": "code",
   "execution_count": 87,
   "metadata": {},
   "outputs": [],
   "source": [
    "X1 = train1.drop(columns=['단지명','단지코드','도로명주소','subway_name',\n",
    "                         '등록차량수', \"임대상가\", \"자격유형2\"])\n",
    "X1 = pd.get_dummies(X1, drop_first=True)\n",
    "y1=train1[\"등록차량수\"]"
   ]
  },
  {
   "cell_type": "code",
   "execution_count": 88,
   "metadata": {
    "scrolled": true
   },
   "outputs": [
    {
     "name": "stdout",
     "output_type": "stream",
     "text": [
      "model:LinearRegression\n",
      "MAE:103.27674603081205\n",
      "model:PLSRegression\n",
      "MAE:102.34733573828204\n",
      "model:Ridge\n",
      "MAE:96.07751515208693\n",
      "model:Lasso\n",
      "MAE:93.98301672516504\n",
      "model:ElasticNet\n",
      "MAE:92.32239337065735\n",
      "model:<catboost.core.CatBoostRegressor object at 0x0000023728F42A20>\n",
      "MAE:96.18994892632311\n",
      "model:RandomForestRegressor\n",
      "MAE:97.93738709677419\n",
      "model:GradientBoostingRegressor\n",
      "MAE:100.76437175113858\n",
      "model:XGBRegressor\n",
      "MAE:105.45323108550042\n"
     ]
    }
   ],
   "source": [
    "best_model1, best_tst_pred1, best_error1 = fit_models(X1, y1, models, cv=True)"
   ]
  },
  {
   "cell_type": "code",
   "execution_count": 174,
   "metadata": {},
   "outputs": [],
   "source": [
    "#best_tst_pred1"
   ]
  },
  {
   "cell_type": "code",
   "execution_count": 90,
   "metadata": {},
   "outputs": [],
   "source": [
    "X2=train2.drop(columns=['단지명','단지코드','도로명주소','subway_name',\n",
    "                         '등록차량수', \"임대상가\",\"자격유형2\"])\n",
    "X2 = pd.get_dummies(X2, drop_first=True)\n",
    "y2=train2[\"등록차량수\"]"
   ]
  },
  {
   "cell_type": "code",
   "execution_count": 91,
   "metadata": {},
   "outputs": [
    {
     "name": "stdout",
     "output_type": "stream",
     "text": [
      "model:LinearRegression\n",
      "MAE:322.17344818351177\n",
      "model:PLSRegression\n",
      "MAE:236.14229395107515\n",
      "model:Ridge\n",
      "MAE:251.12690557721334\n",
      "model:Lasso\n",
      "MAE:256.29063761944764\n",
      "model:ElasticNet\n",
      "MAE:249.55442607478795\n",
      "model:<catboost.core.CatBoostRegressor object at 0x0000023728F42A20>\n",
      "MAE:229.58953837903022\n",
      "model:RandomForestRegressor\n",
      "MAE:231.99496666666664\n",
      "model:GradientBoostingRegressor\n",
      "MAE:249.9504826581073\n",
      "model:XGBRegressor\n",
      "MAE:243.7081236921038\n"
     ]
    }
   ],
   "source": [
    "best_model2, best_tst_pred2, best_error2=fit_models(X2, y2, models, cv=True)"
   ]
  },
  {
   "cell_type": "code",
   "execution_count": 103,
   "metadata": {},
   "outputs": [],
   "source": [
    "#best_model2, best_tst_pred2, best_error2"
   ]
  },
  {
   "cell_type": "code",
   "execution_count": 94,
   "metadata": {},
   "outputs": [],
   "source": [
    "X1 = train1.drop(columns=['단지명','단지코드','도로명주소','subway_name',\n",
    "                         '등록차량수', \"임대상가\",\n",
    "                           \"자격유형1\",\"자격유형2\",\"자격유형3\",\"자격유형4\",\"자격유형5\",\"자격유형6\",\"자격유형7\"\n",
    "                         ])\n",
    "X1 = pd.get_dummies(X1, drop_first=True)\n",
    "y1=train1[\"등록차량수\"]"
   ]
  },
  {
   "cell_type": "code",
   "execution_count": 95,
   "metadata": {},
   "outputs": [
    {
     "name": "stdout",
     "output_type": "stream",
     "text": [
      "model:LinearRegression\n",
      "MAE:100.69722634026547\n",
      "model:PLSRegression\n",
      "MAE:102.45594186733747\n",
      "model:Ridge\n",
      "MAE:95.62574717241117\n",
      "model:Lasso\n",
      "MAE:94.59644651169945\n",
      "model:ElasticNet\n",
      "MAE:93.00055823276298\n",
      "model:<catboost.core.CatBoostRegressor object at 0x0000023728F42A20>\n",
      "MAE:93.9600959066285\n",
      "model:RandomForestRegressor\n",
      "MAE:99.94646774193548\n",
      "model:GradientBoostingRegressor\n",
      "MAE:100.52640954212868\n",
      "model:XGBRegressor\n",
      "MAE:105.89410431769586\n"
     ]
    }
   ],
   "source": [
    "best_model_1, best_tst_pred_1, best_error_1 = fit_models(X1, y1, models, cv=True)"
   ]
  },
  {
   "cell_type": "code",
   "execution_count": 104,
   "metadata": {},
   "outputs": [],
   "source": [
    "#best_tst_pred_1"
   ]
  },
  {
   "cell_type": "code",
   "execution_count": 97,
   "metadata": {},
   "outputs": [],
   "source": [
    "X2=train2.drop(columns=['단지명','단지코드','도로명주소','subway_name',\n",
    "                         '등록차량수', \"임대상가\",\n",
    "                       \"자격유형1\",\"자격유형2\",\"자격유형3\",\"자격유형4\",\"자격유형5\",\"자격유형6\",\"자격유형7\"])\n",
    "X2 = pd.get_dummies(X2, drop_first=True)\n",
    "y2=train2[\"등록차량수\"]"
   ]
  },
  {
   "cell_type": "code",
   "execution_count": 98,
   "metadata": {},
   "outputs": [
    {
     "name": "stdout",
     "output_type": "stream",
     "text": [
      "model:LinearRegression\n",
      "MAE:286.04536653863755\n",
      "model:PLSRegression\n",
      "MAE:238.90271908584174\n",
      "model:Ridge\n",
      "MAE:230.79982926781645\n",
      "model:Lasso\n",
      "MAE:233.74361166603626\n",
      "model:ElasticNet\n",
      "MAE:230.50650761413846\n",
      "model:<catboost.core.CatBoostRegressor object at 0x0000023728F42A20>\n",
      "MAE:220.76682863609912\n",
      "model:RandomForestRegressor\n",
      "MAE:230.0291619047619\n",
      "model:GradientBoostingRegressor\n",
      "MAE:253.87735811796702\n",
      "model:XGBRegressor\n",
      "MAE:244.46349734351753\n"
     ]
    }
   ],
   "source": [
    "best_model_2, best_tst_pred_2, best_error_2=fit_models(X2, y2, models, cv=True)"
   ]
  },
  {
   "cell_type": "code",
   "execution_count": 105,
   "metadata": {},
   "outputs": [],
   "source": [
    "#best_tst_pred_2"
   ]
  },
  {
   "cell_type": "code",
   "execution_count": 130,
   "metadata": {},
   "outputs": [],
   "source": [
    "기존=pd.merge(pd.DataFrame(best_tst_pred1,index=[0]).T.reset_index(),\n",
    "         pd.DataFrame(train1.단지코드.reset_index(drop=True)).reset_index(),\n",
    "         on=\"index\")"
   ]
  },
  {
   "cell_type": "code",
   "execution_count": 131,
   "metadata": {},
   "outputs": [],
   "source": [
    "자격유형드랍=pd.merge(pd.DataFrame(best_tst_pred_1,index=[0]).T.reset_index(),\n",
    "         pd.DataFrame(train1.단지코드.reset_index(drop=True)).reset_index(),\n",
    "         on=\"index\")"
   ]
  },
  {
   "cell_type": "code",
   "execution_count": 132,
   "metadata": {},
   "outputs": [],
   "source": [
    "df=pd.merge(기존, 자격유형드랍, on=\"단지코드\", how='inner')"
   ]
  },
  {
   "cell_type": "code",
   "execution_count": 133,
   "metadata": {},
   "outputs": [
    {
     "data": {
      "text/plain": [
       "Index(['index_x', '0_x', '단지코드', 'index_y', '0_y'], dtype='object')"
      ]
     },
     "execution_count": 133,
     "metadata": {},
     "output_type": "execute_result"
    }
   ],
   "source": [
    "df.columns"
   ]
  },
  {
   "cell_type": "code",
   "execution_count": 134,
   "metadata": {},
   "outputs": [],
   "source": [
    "df=df.drop(columns=[\"index_x\", \"index_y\"])"
   ]
  },
  {
   "cell_type": "code",
   "execution_count": 135,
   "metadata": {},
   "outputs": [],
   "source": [
    "df=pd.merge(df, train1[[\"단지코드\", \"등록차량수\"]], on=\"단지코드\", how=\"inner\")"
   ]
  },
  {
   "cell_type": "code",
   "execution_count": 136,
   "metadata": {},
   "outputs": [],
   "source": [
    "df.columns=['pred_기본', '단지코드', 'pred_자격유형x', 'real_Y']"
   ]
  },
  {
   "cell_type": "code",
   "execution_count": 137,
   "metadata": {},
   "outputs": [],
   "source": [
    "df=df[['단지코드', 'pred_기본', 'pred_자격유형x', 'real_Y']]"
   ]
  },
  {
   "cell_type": "code",
   "execution_count": 139,
   "metadata": {},
   "outputs": [],
   "source": [
    "pd.set_option('display.max_rows', None)"
   ]
  },
  {
   "cell_type": "code",
   "execution_count": 159,
   "metadata": {
    "scrolled": false
   },
   "outputs": [],
   "source": [
    "#df"
   ]
  },
  {
   "cell_type": "code",
   "execution_count": 177,
   "metadata": {},
   "outputs": [],
   "source": [
    "df[\"diff\"]=abs(df.pred_기본-df.pred_자격유형x)"
   ]
  },
  {
   "cell_type": "code",
   "execution_count": 179,
   "metadata": {
    "scrolled": false
   },
   "outputs": [],
   "source": [
    "#df.sort_values(\"diff\")"
   ]
  },
  {
   "cell_type": "code",
   "execution_count": 155,
   "metadata": {},
   "outputs": [],
   "source": [
    "#train1[train1.상가비율>=0.7][[\"단지코드\", \"지역\", \"등록차량수\", \"단지내주차면수\", \"총세대수\"]]"
   ]
  },
  {
   "cell_type": "code",
   "execution_count": 156,
   "metadata": {},
   "outputs": [],
   "source": [
    "#train[train.단지코드==\"C1616\"][[\"단지코드\",\"총세대수\", \"단지내주차면수\", \"등록차량수\", \"세대당_인구\", \"상가비율\"]]"
   ]
  },
  {
   "cell_type": "code",
   "execution_count": 160,
   "metadata": {},
   "outputs": [],
   "source": [
    "기존=pd.merge(pd.DataFrame(best_tst_pred2,index=[0]).T.reset_index(),\n",
    "         pd.DataFrame(train2.단지코드.reset_index(drop=True)).reset_index(),\n",
    "         on=\"index\")\n",
    "자격유형드랍=pd.merge(pd.DataFrame(best_tst_pred_2,index=[0]).T.reset_index(),\n",
    "         pd.DataFrame(train2.단지코드.reset_index(drop=True)).reset_index(),\n",
    "         on=\"index\")\n",
    "\n",
    "df2=pd.merge(기존, 자격유형드랍, on=\"단지코드\", how='inner')\n",
    "df2=df2.drop(columns=[\"index_x\", \"index_y\"])\n",
    "\n",
    "df2=pd.merge(df2, train2[[\"단지코드\", \"등록차량수\"]], on=\"단지코드\", how=\"inner\")\n",
    "df2.columns=['pred_기본', '단지코드', 'pred_자격유형x', 'real_Y']\n",
    "df2=df2[['단지코드', 'pred_기본', 'pred_자격유형x', 'real_Y']]"
   ]
  },
  {
   "cell_type": "code",
   "execution_count": 180,
   "metadata": {},
   "outputs": [],
   "source": [
    "#df2"
   ]
  },
  {
   "cell_type": "code",
   "execution_count": 172,
   "metadata": {},
   "outputs": [],
   "source": [
    "df2[\"diff\"]=abs(df2.pred_기본-df2.pred_자격유형x)"
   ]
  },
  {
   "cell_type": "code",
   "execution_count": 173,
   "metadata": {},
   "outputs": [
    {
     "data": {
      "text/html": [
       "<div>\n",
       "<style scoped>\n",
       "    .dataframe tbody tr th:only-of-type {\n",
       "        vertical-align: middle;\n",
       "    }\n",
       "\n",
       "    .dataframe tbody tr th {\n",
       "        vertical-align: top;\n",
       "    }\n",
       "\n",
       "    .dataframe thead th {\n",
       "        text-align: right;\n",
       "    }\n",
       "</style>\n",
       "<table border=\"1\" class=\"dataframe\">\n",
       "  <thead>\n",
       "    <tr style=\"text-align: right;\">\n",
       "      <th></th>\n",
       "      <th>단지코드</th>\n",
       "      <th>pred_기본</th>\n",
       "      <th>pred_자격유형x</th>\n",
       "      <th>real_Y</th>\n",
       "      <th>diff</th>\n",
       "    </tr>\n",
       "  </thead>\n",
       "  <tbody>\n",
       "    <tr>\n",
       "      <th>51</th>\n",
       "      <td>C2352</td>\n",
       "      <td>945.601611</td>\n",
       "      <td>945.564176</td>\n",
       "      <td>793.0</td>\n",
       "      <td>0.037435</td>\n",
       "    </tr>\n",
       "    <tr>\n",
       "      <th>13</th>\n",
       "      <td>C2373</td>\n",
       "      <td>1045.761160</td>\n",
       "      <td>1047.333927</td>\n",
       "      <td>800.0</td>\n",
       "      <td>1.572766</td>\n",
       "    </tr>\n",
       "    <tr>\n",
       "      <th>71</th>\n",
       "      <td>C1036</td>\n",
       "      <td>1058.598068</td>\n",
       "      <td>1060.382920</td>\n",
       "      <td>1279.0</td>\n",
       "      <td>1.784853</td>\n",
       "    </tr>\n",
       "    <tr>\n",
       "      <th>79</th>\n",
       "      <td>C1129</td>\n",
       "      <td>1519.261586</td>\n",
       "      <td>1521.332610</td>\n",
       "      <td>1668.0</td>\n",
       "      <td>2.071024</td>\n",
       "    </tr>\n",
       "    <tr>\n",
       "      <th>15</th>\n",
       "      <td>C1933</td>\n",
       "      <td>1293.564477</td>\n",
       "      <td>1296.687230</td>\n",
       "      <td>1730.0</td>\n",
       "      <td>3.122753</td>\n",
       "    </tr>\n",
       "    <tr>\n",
       "      <th>3</th>\n",
       "      <td>C1885</td>\n",
       "      <td>711.725690</td>\n",
       "      <td>707.739467</td>\n",
       "      <td>616.0</td>\n",
       "      <td>3.986223</td>\n",
       "    </tr>\n",
       "    <tr>\n",
       "      <th>25</th>\n",
       "      <td>C1911</td>\n",
       "      <td>946.992821</td>\n",
       "      <td>942.570034</td>\n",
       "      <td>831.0</td>\n",
       "      <td>4.422787</td>\n",
       "    </tr>\n",
       "    <tr>\n",
       "      <th>17</th>\n",
       "      <td>C2414</td>\n",
       "      <td>1174.927920</td>\n",
       "      <td>1169.676964</td>\n",
       "      <td>1200.0</td>\n",
       "      <td>5.250956</td>\n",
       "    </tr>\n",
       "    <tr>\n",
       "      <th>80</th>\n",
       "      <td>C2507</td>\n",
       "      <td>883.779125</td>\n",
       "      <td>889.107420</td>\n",
       "      <td>763.0</td>\n",
       "      <td>5.328295</td>\n",
       "    </tr>\n",
       "    <tr>\n",
       "      <th>38</th>\n",
       "      <td>C1363</td>\n",
       "      <td>1606.424075</td>\n",
       "      <td>1600.610222</td>\n",
       "      <td>2550.0</td>\n",
       "      <td>5.813853</td>\n",
       "    </tr>\n",
       "    <tr>\n",
       "      <th>62</th>\n",
       "      <td>C2446</td>\n",
       "      <td>1147.153985</td>\n",
       "      <td>1140.748527</td>\n",
       "      <td>1204.0</td>\n",
       "      <td>6.405458</td>\n",
       "    </tr>\n",
       "    <tr>\n",
       "      <th>35</th>\n",
       "      <td>C2393</td>\n",
       "      <td>1146.333593</td>\n",
       "      <td>1153.581929</td>\n",
       "      <td>922.0</td>\n",
       "      <td>7.248335</td>\n",
       "    </tr>\n",
       "    <tr>\n",
       "      <th>56</th>\n",
       "      <td>C1700</td>\n",
       "      <td>979.096010</td>\n",
       "      <td>986.815334</td>\n",
       "      <td>979.0</td>\n",
       "      <td>7.719325</td>\n",
       "    </tr>\n",
       "    <tr>\n",
       "      <th>82</th>\n",
       "      <td>C2225</td>\n",
       "      <td>937.318055</td>\n",
       "      <td>928.075389</td>\n",
       "      <td>448.0</td>\n",
       "      <td>9.242666</td>\n",
       "    </tr>\n",
       "    <tr>\n",
       "      <th>55</th>\n",
       "      <td>C1136</td>\n",
       "      <td>782.382853</td>\n",
       "      <td>791.771140</td>\n",
       "      <td>763.0</td>\n",
       "      <td>9.388287</td>\n",
       "    </tr>\n",
       "    <tr>\n",
       "      <th>97</th>\n",
       "      <td>C1103</td>\n",
       "      <td>897.878817</td>\n",
       "      <td>888.449965</td>\n",
       "      <td>787.0</td>\n",
       "      <td>9.428852</td>\n",
       "    </tr>\n",
       "    <tr>\n",
       "      <th>74</th>\n",
       "      <td>C2082</td>\n",
       "      <td>845.209539</td>\n",
       "      <td>834.892320</td>\n",
       "      <td>822.0</td>\n",
       "      <td>10.317219</td>\n",
       "    </tr>\n",
       "    <tr>\n",
       "      <th>5</th>\n",
       "      <td>C2032</td>\n",
       "      <td>863.802008</td>\n",
       "      <td>853.323306</td>\n",
       "      <td>1162.0</td>\n",
       "      <td>10.478702</td>\n",
       "    </tr>\n",
       "    <tr>\n",
       "      <th>21</th>\n",
       "      <td>C1068</td>\n",
       "      <td>791.173477</td>\n",
       "      <td>779.451871</td>\n",
       "      <td>510.0</td>\n",
       "      <td>11.721606</td>\n",
       "    </tr>\n",
       "    <tr>\n",
       "      <th>83</th>\n",
       "      <td>C1176</td>\n",
       "      <td>1084.061760</td>\n",
       "      <td>1072.303753</td>\n",
       "      <td>619.0</td>\n",
       "      <td>11.758007</td>\n",
       "    </tr>\n",
       "    <tr>\n",
       "      <th>9</th>\n",
       "      <td>C1406</td>\n",
       "      <td>1311.414043</td>\n",
       "      <td>1299.324383</td>\n",
       "      <td>1350.0</td>\n",
       "      <td>12.089660</td>\n",
       "    </tr>\n",
       "    <tr>\n",
       "      <th>53</th>\n",
       "      <td>C1743</td>\n",
       "      <td>1053.741710</td>\n",
       "      <td>1066.383738</td>\n",
       "      <td>1653.0</td>\n",
       "      <td>12.642028</td>\n",
       "    </tr>\n",
       "    <tr>\n",
       "      <th>27</th>\n",
       "      <td>C2070</td>\n",
       "      <td>854.416285</td>\n",
       "      <td>867.323635</td>\n",
       "      <td>735.0</td>\n",
       "      <td>12.907350</td>\n",
       "    </tr>\n",
       "    <tr>\n",
       "      <th>26</th>\n",
       "      <td>C1236</td>\n",
       "      <td>1056.292752</td>\n",
       "      <td>1069.233346</td>\n",
       "      <td>657.0</td>\n",
       "      <td>12.940594</td>\n",
       "    </tr>\n",
       "    <tr>\n",
       "      <th>84</th>\n",
       "      <td>C1407</td>\n",
       "      <td>1136.197236</td>\n",
       "      <td>1149.384893</td>\n",
       "      <td>1064.0</td>\n",
       "      <td>13.187657</td>\n",
       "    </tr>\n",
       "    <tr>\n",
       "      <th>39</th>\n",
       "      <td>C2496</td>\n",
       "      <td>1217.097400</td>\n",
       "      <td>1203.523848</td>\n",
       "      <td>1400.0</td>\n",
       "      <td>13.573552</td>\n",
       "    </tr>\n",
       "    <tr>\n",
       "      <th>7</th>\n",
       "      <td>C1527</td>\n",
       "      <td>777.425382</td>\n",
       "      <td>791.080481</td>\n",
       "      <td>1150.0</td>\n",
       "      <td>13.655100</td>\n",
       "    </tr>\n",
       "    <tr>\n",
       "      <th>8</th>\n",
       "      <td>C1386</td>\n",
       "      <td>984.497767</td>\n",
       "      <td>1000.410950</td>\n",
       "      <td>1145.0</td>\n",
       "      <td>15.913182</td>\n",
       "    </tr>\n",
       "    <tr>\n",
       "      <th>18</th>\n",
       "      <td>C2612</td>\n",
       "      <td>1237.652135</td>\n",
       "      <td>1254.855979</td>\n",
       "      <td>1832.0</td>\n",
       "      <td>17.203844</td>\n",
       "    </tr>\n",
       "    <tr>\n",
       "      <th>70</th>\n",
       "      <td>C1916</td>\n",
       "      <td>780.077084</td>\n",
       "      <td>797.375746</td>\n",
       "      <td>752.0</td>\n",
       "      <td>17.298662</td>\n",
       "    </tr>\n",
       "    <tr>\n",
       "      <th>42</th>\n",
       "      <td>C2538</td>\n",
       "      <td>1319.775611</td>\n",
       "      <td>1337.266995</td>\n",
       "      <td>799.0</td>\n",
       "      <td>17.491383</td>\n",
       "    </tr>\n",
       "    <tr>\n",
       "      <th>66</th>\n",
       "      <td>C1368</td>\n",
       "      <td>836.868264</td>\n",
       "      <td>854.696758</td>\n",
       "      <td>861.0</td>\n",
       "      <td>17.828493</td>\n",
       "    </tr>\n",
       "    <tr>\n",
       "      <th>36</th>\n",
       "      <td>C1017</td>\n",
       "      <td>1169.817979</td>\n",
       "      <td>1151.818754</td>\n",
       "      <td>1246.0</td>\n",
       "      <td>17.999225</td>\n",
       "    </tr>\n",
       "    <tr>\n",
       "      <th>78</th>\n",
       "      <td>C2251</td>\n",
       "      <td>841.701029</td>\n",
       "      <td>823.595386</td>\n",
       "      <td>870.0</td>\n",
       "      <td>18.105642</td>\n",
       "    </tr>\n",
       "    <tr>\n",
       "      <th>76</th>\n",
       "      <td>C2085</td>\n",
       "      <td>1320.079895</td>\n",
       "      <td>1339.350470</td>\n",
       "      <td>1595.0</td>\n",
       "      <td>19.270575</td>\n",
       "    </tr>\n",
       "    <tr>\n",
       "      <th>20</th>\n",
       "      <td>C1357</td>\n",
       "      <td>1126.330548</td>\n",
       "      <td>1106.973051</td>\n",
       "      <td>995.0</td>\n",
       "      <td>19.357497</td>\n",
       "    </tr>\n",
       "    <tr>\n",
       "      <th>49</th>\n",
       "      <td>C1448</td>\n",
       "      <td>1015.736750</td>\n",
       "      <td>996.040834</td>\n",
       "      <td>1284.0</td>\n",
       "      <td>19.695916</td>\n",
       "    </tr>\n",
       "    <tr>\n",
       "      <th>24</th>\n",
       "      <td>C1693</td>\n",
       "      <td>832.231428</td>\n",
       "      <td>852.597283</td>\n",
       "      <td>1087.0</td>\n",
       "      <td>20.365855</td>\n",
       "    </tr>\n",
       "    <tr>\n",
       "      <th>50</th>\n",
       "      <td>C2565</td>\n",
       "      <td>788.746104</td>\n",
       "      <td>809.766174</td>\n",
       "      <td>1090.0</td>\n",
       "      <td>21.020070</td>\n",
       "    </tr>\n",
       "    <tr>\n",
       "      <th>31</th>\n",
       "      <td>C2489</td>\n",
       "      <td>789.270051</td>\n",
       "      <td>810.885288</td>\n",
       "      <td>950.0</td>\n",
       "      <td>21.615237</td>\n",
       "    </tr>\n",
       "    <tr>\n",
       "      <th>88</th>\n",
       "      <td>C2574</td>\n",
       "      <td>953.692484</td>\n",
       "      <td>975.380171</td>\n",
       "      <td>826.0</td>\n",
       "      <td>21.687687</td>\n",
       "    </tr>\n",
       "    <tr>\n",
       "      <th>33</th>\n",
       "      <td>C1286</td>\n",
       "      <td>1115.007110</td>\n",
       "      <td>1137.427708</td>\n",
       "      <td>881.0</td>\n",
       "      <td>22.420598</td>\n",
       "    </tr>\n",
       "    <tr>\n",
       "      <th>10</th>\n",
       "      <td>C2460</td>\n",
       "      <td>852.738780</td>\n",
       "      <td>829.126030</td>\n",
       "      <td>793.0</td>\n",
       "      <td>23.612750</td>\n",
       "    </tr>\n",
       "    <tr>\n",
       "      <th>72</th>\n",
       "      <td>C1465</td>\n",
       "      <td>833.063040</td>\n",
       "      <td>857.093363</td>\n",
       "      <td>557.0</td>\n",
       "      <td>24.030323</td>\n",
       "    </tr>\n",
       "    <tr>\n",
       "      <th>96</th>\n",
       "      <td>C2329</td>\n",
       "      <td>842.834349</td>\n",
       "      <td>818.669083</td>\n",
       "      <td>821.0</td>\n",
       "      <td>24.165266</td>\n",
       "    </tr>\n",
       "    <tr>\n",
       "      <th>64</th>\n",
       "      <td>C1014</td>\n",
       "      <td>882.300452</td>\n",
       "      <td>907.274911</td>\n",
       "      <td>708.0</td>\n",
       "      <td>24.974459</td>\n",
       "    </tr>\n",
       "    <tr>\n",
       "      <th>98</th>\n",
       "      <td>C1320</td>\n",
       "      <td>1018.069164</td>\n",
       "      <td>1045.117948</td>\n",
       "      <td>924.0</td>\n",
       "      <td>27.048784</td>\n",
       "    </tr>\n",
       "    <tr>\n",
       "      <th>40</th>\n",
       "      <td>C1584</td>\n",
       "      <td>819.743487</td>\n",
       "      <td>846.992542</td>\n",
       "      <td>507.0</td>\n",
       "      <td>27.249055</td>\n",
       "    </tr>\n",
       "    <tr>\n",
       "      <th>48</th>\n",
       "      <td>C1268</td>\n",
       "      <td>806.510430</td>\n",
       "      <td>835.907582</td>\n",
       "      <td>934.0</td>\n",
       "      <td>29.397152</td>\n",
       "    </tr>\n",
       "    <tr>\n",
       "      <th>75</th>\n",
       "      <td>C1328</td>\n",
       "      <td>795.703719</td>\n",
       "      <td>766.207046</td>\n",
       "      <td>770.0</td>\n",
       "      <td>29.496673</td>\n",
       "    </tr>\n",
       "    <tr>\n",
       "      <th>87</th>\n",
       "      <td>C1620</td>\n",
       "      <td>977.622213</td>\n",
       "      <td>947.171237</td>\n",
       "      <td>1101.0</td>\n",
       "      <td>30.450976</td>\n",
       "    </tr>\n",
       "    <tr>\n",
       "      <th>94</th>\n",
       "      <td>C1024</td>\n",
       "      <td>1164.573297</td>\n",
       "      <td>1133.972085</td>\n",
       "      <td>957.0</td>\n",
       "      <td>30.601212</td>\n",
       "    </tr>\n",
       "    <tr>\n",
       "      <th>85</th>\n",
       "      <td>C1244</td>\n",
       "      <td>1343.080889</td>\n",
       "      <td>1311.699988</td>\n",
       "      <td>1804.0</td>\n",
       "      <td>31.380901</td>\n",
       "    </tr>\n",
       "    <tr>\n",
       "      <th>89</th>\n",
       "      <td>C1744</td>\n",
       "      <td>914.556276</td>\n",
       "      <td>947.680400</td>\n",
       "      <td>979.0</td>\n",
       "      <td>33.124124</td>\n",
       "    </tr>\n",
       "    <tr>\n",
       "      <th>58</th>\n",
       "      <td>C2618</td>\n",
       "      <td>1100.944719</td>\n",
       "      <td>1066.112443</td>\n",
       "      <td>783.0</td>\n",
       "      <td>34.832275</td>\n",
       "    </tr>\n",
       "    <tr>\n",
       "      <th>81</th>\n",
       "      <td>C1724</td>\n",
       "      <td>1003.833993</td>\n",
       "      <td>967.378186</td>\n",
       "      <td>701.0</td>\n",
       "      <td>36.455807</td>\n",
       "    </tr>\n",
       "    <tr>\n",
       "      <th>59</th>\n",
       "      <td>C1451</td>\n",
       "      <td>1116.969744</td>\n",
       "      <td>1080.185295</td>\n",
       "      <td>1044.0</td>\n",
       "      <td>36.784449</td>\n",
       "    </tr>\n",
       "    <tr>\n",
       "      <th>22</th>\n",
       "      <td>C2458</td>\n",
       "      <td>794.234273</td>\n",
       "      <td>831.071659</td>\n",
       "      <td>910.0</td>\n",
       "      <td>36.837385</td>\n",
       "    </tr>\n",
       "    <tr>\n",
       "      <th>12</th>\n",
       "      <td>C1969</td>\n",
       "      <td>993.016801</td>\n",
       "      <td>953.911377</td>\n",
       "      <td>886.0</td>\n",
       "      <td>39.105423</td>\n",
       "    </tr>\n",
       "    <tr>\n",
       "      <th>2</th>\n",
       "      <td>C1005</td>\n",
       "      <td>1052.556469</td>\n",
       "      <td>1013.039051</td>\n",
       "      <td>376.0</td>\n",
       "      <td>39.517418</td>\n",
       "    </tr>\n",
       "    <tr>\n",
       "      <th>52</th>\n",
       "      <td>C2137</td>\n",
       "      <td>869.523212</td>\n",
       "      <td>829.870966</td>\n",
       "      <td>752.0</td>\n",
       "      <td>39.652246</td>\n",
       "    </tr>\n",
       "    <tr>\n",
       "      <th>23</th>\n",
       "      <td>C2089</td>\n",
       "      <td>743.738321</td>\n",
       "      <td>783.723387</td>\n",
       "      <td>572.0</td>\n",
       "      <td>39.985066</td>\n",
       "    </tr>\n",
       "    <tr>\n",
       "      <th>19</th>\n",
       "      <td>C2595</td>\n",
       "      <td>1146.413749</td>\n",
       "      <td>1105.179194</td>\n",
       "      <td>1359.0</td>\n",
       "      <td>41.234556</td>\n",
       "    </tr>\n",
       "    <tr>\n",
       "      <th>90</th>\n",
       "      <td>C2071</td>\n",
       "      <td>1067.350183</td>\n",
       "      <td>1109.137187</td>\n",
       "      <td>1398.0</td>\n",
       "      <td>41.787004</td>\n",
       "    </tr>\n",
       "    <tr>\n",
       "      <th>45</th>\n",
       "      <td>C2666</td>\n",
       "      <td>812.965733</td>\n",
       "      <td>856.181089</td>\n",
       "      <td>701.0</td>\n",
       "      <td>43.215356</td>\n",
       "    </tr>\n",
       "    <tr>\n",
       "      <th>54</th>\n",
       "      <td>C2377</td>\n",
       "      <td>1064.888468</td>\n",
       "      <td>1110.571048</td>\n",
       "      <td>579.0</td>\n",
       "      <td>45.682580</td>\n",
       "    </tr>\n",
       "    <tr>\n",
       "      <th>77</th>\n",
       "      <td>C1310</td>\n",
       "      <td>975.472610</td>\n",
       "      <td>929.690793</td>\n",
       "      <td>1084.0</td>\n",
       "      <td>45.781817</td>\n",
       "    </tr>\n",
       "    <tr>\n",
       "      <th>6</th>\n",
       "      <td>C1579</td>\n",
       "      <td>900.103060</td>\n",
       "      <td>852.977942</td>\n",
       "      <td>1158.0</td>\n",
       "      <td>47.125119</td>\n",
       "    </tr>\n",
       "    <tr>\n",
       "      <th>73</th>\n",
       "      <td>C1677</td>\n",
       "      <td>825.149622</td>\n",
       "      <td>872.862464</td>\n",
       "      <td>1101.0</td>\n",
       "      <td>47.712842</td>\n",
       "    </tr>\n",
       "    <tr>\n",
       "      <th>69</th>\n",
       "      <td>C2046</td>\n",
       "      <td>1087.670829</td>\n",
       "      <td>1135.590926</td>\n",
       "      <td>1306.0</td>\n",
       "      <td>47.920097</td>\n",
       "    </tr>\n",
       "    <tr>\n",
       "      <th>60</th>\n",
       "      <td>C2086</td>\n",
       "      <td>1456.180999</td>\n",
       "      <td>1504.629528</td>\n",
       "      <td>1524.0</td>\n",
       "      <td>48.448530</td>\n",
       "    </tr>\n",
       "    <tr>\n",
       "      <th>1</th>\n",
       "      <td>C1672</td>\n",
       "      <td>1110.640418</td>\n",
       "      <td>1060.942311</td>\n",
       "      <td>873.0</td>\n",
       "      <td>49.698106</td>\n",
       "    </tr>\n",
       "    <tr>\n",
       "      <th>11</th>\n",
       "      <td>C1740</td>\n",
       "      <td>1238.782404</td>\n",
       "      <td>1288.733308</td>\n",
       "      <td>979.0</td>\n",
       "      <td>49.950904</td>\n",
       "    </tr>\n",
       "    <tr>\n",
       "      <th>68</th>\n",
       "      <td>C1013</td>\n",
       "      <td>1080.496809</td>\n",
       "      <td>1030.544663</td>\n",
       "      <td>1665.0</td>\n",
       "      <td>49.952146</td>\n",
       "    </tr>\n",
       "    <tr>\n",
       "      <th>37</th>\n",
       "      <td>C1065</td>\n",
       "      <td>857.553245</td>\n",
       "      <td>907.991025</td>\n",
       "      <td>1255.0</td>\n",
       "      <td>50.437780</td>\n",
       "    </tr>\n",
       "    <tr>\n",
       "      <th>43</th>\n",
       "      <td>C1015</td>\n",
       "      <td>781.227732</td>\n",
       "      <td>831.969347</td>\n",
       "      <td>579.0</td>\n",
       "      <td>50.741615</td>\n",
       "    </tr>\n",
       "    <tr>\n",
       "      <th>86</th>\n",
       "      <td>C1833</td>\n",
       "      <td>992.217500</td>\n",
       "      <td>1043.104744</td>\n",
       "      <td>1001.0</td>\n",
       "      <td>50.887244</td>\n",
       "    </tr>\n",
       "    <tr>\n",
       "      <th>16</th>\n",
       "      <td>C2316</td>\n",
       "      <td>918.980460</td>\n",
       "      <td>862.753761</td>\n",
       "      <td>712.0</td>\n",
       "      <td>56.226699</td>\n",
       "    </tr>\n",
       "    <tr>\n",
       "      <th>99</th>\n",
       "      <td>C1326</td>\n",
       "      <td>1018.522873</td>\n",
       "      <td>959.199727</td>\n",
       "      <td>1153.0</td>\n",
       "      <td>59.323146</td>\n",
       "    </tr>\n",
       "    <tr>\n",
       "      <th>102</th>\n",
       "      <td>C2506</td>\n",
       "      <td>1335.159930</td>\n",
       "      <td>1274.489490</td>\n",
       "      <td>1433.0</td>\n",
       "      <td>60.670440</td>\n",
       "    </tr>\n",
       "    <tr>\n",
       "      <th>67</th>\n",
       "      <td>C2361</td>\n",
       "      <td>908.250293</td>\n",
       "      <td>969.506027</td>\n",
       "      <td>1117.0</td>\n",
       "      <td>61.255734</td>\n",
       "    </tr>\n",
       "    <tr>\n",
       "      <th>91</th>\n",
       "      <td>C1889</td>\n",
       "      <td>797.347908</td>\n",
       "      <td>733.126774</td>\n",
       "      <td>808.0</td>\n",
       "      <td>64.221134</td>\n",
       "    </tr>\n",
       "    <tr>\n",
       "      <th>101</th>\n",
       "      <td>C1939</td>\n",
       "      <td>1818.172698</td>\n",
       "      <td>1753.621696</td>\n",
       "      <td>1896.0</td>\n",
       "      <td>64.551002</td>\n",
       "    </tr>\n",
       "    <tr>\n",
       "      <th>0</th>\n",
       "      <td>C1032</td>\n",
       "      <td>980.180408</td>\n",
       "      <td>1044.831339</td>\n",
       "      <td>316.0</td>\n",
       "      <td>64.650931</td>\n",
       "    </tr>\n",
       "    <tr>\n",
       "      <th>30</th>\n",
       "      <td>C1863</td>\n",
       "      <td>933.475518</td>\n",
       "      <td>998.698756</td>\n",
       "      <td>733.0</td>\n",
       "      <td>65.223238</td>\n",
       "    </tr>\n",
       "    <tr>\n",
       "      <th>61</th>\n",
       "      <td>C2362</td>\n",
       "      <td>923.774618</td>\n",
       "      <td>857.454717</td>\n",
       "      <td>196.0</td>\n",
       "      <td>66.319901</td>\n",
       "    </tr>\n",
       "    <tr>\n",
       "      <th>57</th>\n",
       "      <td>C2579</td>\n",
       "      <td>1009.771084</td>\n",
       "      <td>938.248424</td>\n",
       "      <td>751.0</td>\n",
       "      <td>71.522660</td>\n",
       "    </tr>\n",
       "    <tr>\n",
       "      <th>65</th>\n",
       "      <td>C2097</td>\n",
       "      <td>1067.161330</td>\n",
       "      <td>987.311226</td>\n",
       "      <td>995.0</td>\n",
       "      <td>79.850104</td>\n",
       "    </tr>\n",
       "    <tr>\n",
       "      <th>44</th>\n",
       "      <td>C1689</td>\n",
       "      <td>1017.282687</td>\n",
       "      <td>936.327089</td>\n",
       "      <td>960.0</td>\n",
       "      <td>80.955598</td>\n",
       "    </tr>\n",
       "    <tr>\n",
       "      <th>14</th>\n",
       "      <td>C1649</td>\n",
       "      <td>942.306462</td>\n",
       "      <td>1023.360208</td>\n",
       "      <td>1214.0</td>\n",
       "      <td>81.053747</td>\n",
       "    </tr>\n",
       "    <tr>\n",
       "      <th>32</th>\n",
       "      <td>C2620</td>\n",
       "      <td>1135.600679</td>\n",
       "      <td>1217.493107</td>\n",
       "      <td>1709.0</td>\n",
       "      <td>81.892429</td>\n",
       "    </tr>\n",
       "    <tr>\n",
       "      <th>4</th>\n",
       "      <td>C2000</td>\n",
       "      <td>950.361350</td>\n",
       "      <td>868.345294</td>\n",
       "      <td>795.0</td>\n",
       "      <td>82.016055</td>\n",
       "    </tr>\n",
       "    <tr>\n",
       "      <th>28</th>\n",
       "      <td>C1365</td>\n",
       "      <td>909.314497</td>\n",
       "      <td>998.833324</td>\n",
       "      <td>945.0</td>\n",
       "      <td>89.518828</td>\n",
       "    </tr>\n",
       "    <tr>\n",
       "      <th>34</th>\n",
       "      <td>C1350</td>\n",
       "      <td>1283.380122</td>\n",
       "      <td>1373.718833</td>\n",
       "      <td>2315.0</td>\n",
       "      <td>90.338711</td>\n",
       "    </tr>\n",
       "    <tr>\n",
       "      <th>100</th>\n",
       "      <td>C1802</td>\n",
       "      <td>1443.217107</td>\n",
       "      <td>1533.903477</td>\n",
       "      <td>1983.0</td>\n",
       "      <td>90.686370</td>\n",
       "    </tr>\n",
       "    <tr>\n",
       "      <th>95</th>\n",
       "      <td>C2274</td>\n",
       "      <td>876.906857</td>\n",
       "      <td>785.824339</td>\n",
       "      <td>713.0</td>\n",
       "      <td>91.082518</td>\n",
       "    </tr>\n",
       "    <tr>\n",
       "      <th>47</th>\n",
       "      <td>C2055</td>\n",
       "      <td>873.993921</td>\n",
       "      <td>777.712976</td>\n",
       "      <td>723.0</td>\n",
       "      <td>96.280946</td>\n",
       "    </tr>\n",
       "    <tr>\n",
       "      <th>29</th>\n",
       "      <td>C2488</td>\n",
       "      <td>1079.356043</td>\n",
       "      <td>1175.919515</td>\n",
       "      <td>1023.0</td>\n",
       "      <td>96.563472</td>\n",
       "    </tr>\n",
       "    <tr>\n",
       "      <th>41</th>\n",
       "      <td>C2328</td>\n",
       "      <td>1290.717621</td>\n",
       "      <td>1398.640462</td>\n",
       "      <td>1374.0</td>\n",
       "      <td>107.922840</td>\n",
       "    </tr>\n",
       "    <tr>\n",
       "      <th>46</th>\n",
       "      <td>C2276</td>\n",
       "      <td>765.911151</td>\n",
       "      <td>880.494578</td>\n",
       "      <td>1159.0</td>\n",
       "      <td>114.583427</td>\n",
       "    </tr>\n",
       "    <tr>\n",
       "      <th>103</th>\n",
       "      <td>C2259</td>\n",
       "      <td>1381.020868</td>\n",
       "      <td>1259.760447</td>\n",
       "      <td>1378.0</td>\n",
       "      <td>121.260421</td>\n",
       "    </tr>\n",
       "    <tr>\n",
       "      <th>92</th>\n",
       "      <td>C2358</td>\n",
       "      <td>1069.957084</td>\n",
       "      <td>943.608067</td>\n",
       "      <td>1010.0</td>\n",
       "      <td>126.349016</td>\n",
       "    </tr>\n",
       "    <tr>\n",
       "      <th>63</th>\n",
       "      <td>C1430</td>\n",
       "      <td>1189.616481</td>\n",
       "      <td>1060.443915</td>\n",
       "      <td>839.0</td>\n",
       "      <td>129.172567</td>\n",
       "    </tr>\n",
       "    <tr>\n",
       "      <th>93</th>\n",
       "      <td>C1177</td>\n",
       "      <td>1379.120811</td>\n",
       "      <td>1189.194022</td>\n",
       "      <td>1044.0</td>\n",
       "      <td>189.926789</td>\n",
       "    </tr>\n",
       "  </tbody>\n",
       "</table>\n",
       "</div>"
      ],
      "text/plain": [
       "      단지코드      pred_기본   pred_자격유형x  real_Y        diff\n",
       "51   C2352   945.601611   945.564176   793.0    0.037435\n",
       "13   C2373  1045.761160  1047.333927   800.0    1.572766\n",
       "71   C1036  1058.598068  1060.382920  1279.0    1.784853\n",
       "79   C1129  1519.261586  1521.332610  1668.0    2.071024\n",
       "15   C1933  1293.564477  1296.687230  1730.0    3.122753\n",
       "3    C1885   711.725690   707.739467   616.0    3.986223\n",
       "25   C1911   946.992821   942.570034   831.0    4.422787\n",
       "17   C2414  1174.927920  1169.676964  1200.0    5.250956\n",
       "80   C2507   883.779125   889.107420   763.0    5.328295\n",
       "38   C1363  1606.424075  1600.610222  2550.0    5.813853\n",
       "62   C2446  1147.153985  1140.748527  1204.0    6.405458\n",
       "35   C2393  1146.333593  1153.581929   922.0    7.248335\n",
       "56   C1700   979.096010   986.815334   979.0    7.719325\n",
       "82   C2225   937.318055   928.075389   448.0    9.242666\n",
       "55   C1136   782.382853   791.771140   763.0    9.388287\n",
       "97   C1103   897.878817   888.449965   787.0    9.428852\n",
       "74   C2082   845.209539   834.892320   822.0   10.317219\n",
       "5    C2032   863.802008   853.323306  1162.0   10.478702\n",
       "21   C1068   791.173477   779.451871   510.0   11.721606\n",
       "83   C1176  1084.061760  1072.303753   619.0   11.758007\n",
       "9    C1406  1311.414043  1299.324383  1350.0   12.089660\n",
       "53   C1743  1053.741710  1066.383738  1653.0   12.642028\n",
       "27   C2070   854.416285   867.323635   735.0   12.907350\n",
       "26   C1236  1056.292752  1069.233346   657.0   12.940594\n",
       "84   C1407  1136.197236  1149.384893  1064.0   13.187657\n",
       "39   C2496  1217.097400  1203.523848  1400.0   13.573552\n",
       "7    C1527   777.425382   791.080481  1150.0   13.655100\n",
       "8    C1386   984.497767  1000.410950  1145.0   15.913182\n",
       "18   C2612  1237.652135  1254.855979  1832.0   17.203844\n",
       "70   C1916   780.077084   797.375746   752.0   17.298662\n",
       "42   C2538  1319.775611  1337.266995   799.0   17.491383\n",
       "66   C1368   836.868264   854.696758   861.0   17.828493\n",
       "36   C1017  1169.817979  1151.818754  1246.0   17.999225\n",
       "78   C2251   841.701029   823.595386   870.0   18.105642\n",
       "76   C2085  1320.079895  1339.350470  1595.0   19.270575\n",
       "20   C1357  1126.330548  1106.973051   995.0   19.357497\n",
       "49   C1448  1015.736750   996.040834  1284.0   19.695916\n",
       "24   C1693   832.231428   852.597283  1087.0   20.365855\n",
       "50   C2565   788.746104   809.766174  1090.0   21.020070\n",
       "31   C2489   789.270051   810.885288   950.0   21.615237\n",
       "88   C2574   953.692484   975.380171   826.0   21.687687\n",
       "33   C1286  1115.007110  1137.427708   881.0   22.420598\n",
       "10   C2460   852.738780   829.126030   793.0   23.612750\n",
       "72   C1465   833.063040   857.093363   557.0   24.030323\n",
       "96   C2329   842.834349   818.669083   821.0   24.165266\n",
       "64   C1014   882.300452   907.274911   708.0   24.974459\n",
       "98   C1320  1018.069164  1045.117948   924.0   27.048784\n",
       "40   C1584   819.743487   846.992542   507.0   27.249055\n",
       "48   C1268   806.510430   835.907582   934.0   29.397152\n",
       "75   C1328   795.703719   766.207046   770.0   29.496673\n",
       "87   C1620   977.622213   947.171237  1101.0   30.450976\n",
       "94   C1024  1164.573297  1133.972085   957.0   30.601212\n",
       "85   C1244  1343.080889  1311.699988  1804.0   31.380901\n",
       "89   C1744   914.556276   947.680400   979.0   33.124124\n",
       "58   C2618  1100.944719  1066.112443   783.0   34.832275\n",
       "81   C1724  1003.833993   967.378186   701.0   36.455807\n",
       "59   C1451  1116.969744  1080.185295  1044.0   36.784449\n",
       "22   C2458   794.234273   831.071659   910.0   36.837385\n",
       "12   C1969   993.016801   953.911377   886.0   39.105423\n",
       "2    C1005  1052.556469  1013.039051   376.0   39.517418\n",
       "52   C2137   869.523212   829.870966   752.0   39.652246\n",
       "23   C2089   743.738321   783.723387   572.0   39.985066\n",
       "19   C2595  1146.413749  1105.179194  1359.0   41.234556\n",
       "90   C2071  1067.350183  1109.137187  1398.0   41.787004\n",
       "45   C2666   812.965733   856.181089   701.0   43.215356\n",
       "54   C2377  1064.888468  1110.571048   579.0   45.682580\n",
       "77   C1310   975.472610   929.690793  1084.0   45.781817\n",
       "6    C1579   900.103060   852.977942  1158.0   47.125119\n",
       "73   C1677   825.149622   872.862464  1101.0   47.712842\n",
       "69   C2046  1087.670829  1135.590926  1306.0   47.920097\n",
       "60   C2086  1456.180999  1504.629528  1524.0   48.448530\n",
       "1    C1672  1110.640418  1060.942311   873.0   49.698106\n",
       "11   C1740  1238.782404  1288.733308   979.0   49.950904\n",
       "68   C1013  1080.496809  1030.544663  1665.0   49.952146\n",
       "37   C1065   857.553245   907.991025  1255.0   50.437780\n",
       "43   C1015   781.227732   831.969347   579.0   50.741615\n",
       "86   C1833   992.217500  1043.104744  1001.0   50.887244\n",
       "16   C2316   918.980460   862.753761   712.0   56.226699\n",
       "99   C1326  1018.522873   959.199727  1153.0   59.323146\n",
       "102  C2506  1335.159930  1274.489490  1433.0   60.670440\n",
       "67   C2361   908.250293   969.506027  1117.0   61.255734\n",
       "91   C1889   797.347908   733.126774   808.0   64.221134\n",
       "101  C1939  1818.172698  1753.621696  1896.0   64.551002\n",
       "0    C1032   980.180408  1044.831339   316.0   64.650931\n",
       "30   C1863   933.475518   998.698756   733.0   65.223238\n",
       "61   C2362   923.774618   857.454717   196.0   66.319901\n",
       "57   C2579  1009.771084   938.248424   751.0   71.522660\n",
       "65   C2097  1067.161330   987.311226   995.0   79.850104\n",
       "44   C1689  1017.282687   936.327089   960.0   80.955598\n",
       "14   C1649   942.306462  1023.360208  1214.0   81.053747\n",
       "32   C2620  1135.600679  1217.493107  1709.0   81.892429\n",
       "4    C2000   950.361350   868.345294   795.0   82.016055\n",
       "28   C1365   909.314497   998.833324   945.0   89.518828\n",
       "34   C1350  1283.380122  1373.718833  2315.0   90.338711\n",
       "100  C1802  1443.217107  1533.903477  1983.0   90.686370\n",
       "95   C2274   876.906857   785.824339   713.0   91.082518\n",
       "47   C2055   873.993921   777.712976   723.0   96.280946\n",
       "29   C2488  1079.356043  1175.919515  1023.0   96.563472\n",
       "41   C2328  1290.717621  1398.640462  1374.0  107.922840\n",
       "46   C2276   765.911151   880.494578  1159.0  114.583427\n",
       "103  C2259  1381.020868  1259.760447  1378.0  121.260421\n",
       "92   C2358  1069.957084   943.608067  1010.0  126.349016\n",
       "63   C1430  1189.616481  1060.443915   839.0  129.172567\n",
       "93   C1177  1379.120811  1189.194022  1044.0  189.926789"
      ]
     },
     "execution_count": 173,
     "metadata": {},
     "output_type": "execute_result"
    }
   ],
   "source": [
    "df2.sort_values(\"diff\")"
   ]
  },
  {
   "cell_type": "code",
   "execution_count": 175,
   "metadata": {},
   "outputs": [
    {
     "name": "stdout",
     "output_type": "stream",
     "text": [
      "92.32239337065735 93.00055823276298\n",
      "229.58953837903022 220.76682863609912\n"
     ]
    }
   ],
   "source": [
    "print(best_error1, best_error_1)\n",
    "print(best_error2, best_error_2)"
   ]
  },
  {
   "cell_type": "code",
   "execution_count": 184,
   "metadata": {},
   "outputs": [],
   "source": [
    "#df.to_csv(\"785미만.csv\", index=False)\n",
    "#df2.to_csv(\"785이상.csv\", index=False)"
   ]
  },
  {
   "cell_type": "markdown",
   "metadata": {},
   "source": [
    "# 나눠서 예측"
   ]
  },
  {
   "cell_type": "code",
   "execution_count": null,
   "metadata": {},
   "outputs": [],
   "source": [
    "sample=pd.read_csv('sample_submission.csv')\n",
    "sample.head()"
   ]
  },
  {
   "cell_type": "code",
   "execution_count": null,
   "metadata": {
    "scrolled": true
   },
   "outputs": [],
   "source": [
    "sample.shape"
   ]
  },
  {
   "cell_type": "code",
   "execution_count": null,
   "metadata": {},
   "outputs": [],
   "source": [
    "train1=data[data.단지내주차면수<785]\n",
    "train2=data[data.단지내주차면수>=785]\n",
    "test1=dat[dat.단지내주차면수<785]\n",
    "test2=dat[dat.단지내주차면수>=785]"
   ]
  },
  {
   "cell_type": "code",
   "execution_count": null,
   "metadata": {},
   "outputs": [],
   "source": [
    "#train1=data[data.세대당_가능주차면수<0.8304195804195804]\n",
    "#train2=data[data.세대당_가능주차면수>=0.8304195804195804]\n",
    "#test1=dat[dat.세대당_가능주차면수<0.8304195804195804]\n",
    "#test2=dat[dat.세대당_가능주차면수>=0.8304195804195804]"
   ]
  },
  {
   "cell_type": "code",
   "execution_count": null,
   "metadata": {},
   "outputs": [],
   "source": [
    "print(train1.shape, train2.shape)\n",
    "print(test1.shape, test2.shape)"
   ]
  },
  {
   "cell_type": "code",
   "execution_count": null,
   "metadata": {},
   "outputs": [],
   "source": [
    "df= pd.concat([train1, test1])"
   ]
  },
  {
   "cell_type": "code",
   "execution_count": null,
   "metadata": {},
   "outputs": [],
   "source": [
    "X = df.drop(columns=['단지명','단지코드','도로명주소','subway_name',\n",
    "                         '등록차량수', \"임대상가\", \n",
    "                     \"자격유형1\",\"자격유형2\",\"자격유형3\",\"자격유형4\",\"자격유형5\",\"자격유형6\",\"자격유형7\"])\n",
    "X = pd.get_dummies(X, drop_first=True)"
   ]
  },
  {
   "cell_type": "code",
   "execution_count": null,
   "metadata": {},
   "outputs": [],
   "source": [
    "X_train1=X.iloc[0:310, :]\n",
    "X_test1=X.iloc[310:, :]\n",
    "y_train1 = train1[['등록차량수']]"
   ]
  },
  {
   "cell_type": "code",
   "execution_count": null,
   "metadata": {},
   "outputs": [],
   "source": [
    "#X.test[\"장기전세\"]=0\n",
    "#X.test[\"공공분양\"]=0"
   ]
  },
  {
   "cell_type": "code",
   "execution_count": null,
   "metadata": {},
   "outputs": [],
   "source": [
    "model_1=CatBoostRegressor(random_state=2021, verbose=False).fit(X_train1, y_train1)\n",
    "model1_pred = model_1.predict(X_test1)"
   ]
  },
  {
   "cell_type": "code",
   "execution_count": null,
   "metadata": {},
   "outputs": [],
   "source": [
    "model1=pd.DataFrame(model1_pred)\n",
    "code1=test1.단지코드\n",
    "model1=model1.reset_index(drop=True)\n",
    "code1=code1.reset_index(drop=True)"
   ]
  },
  {
   "cell_type": "code",
   "execution_count": null,
   "metadata": {},
   "outputs": [],
   "source": [
    "pred1=pd.concat([code1, model1], axis=1, ignore_index=True)\n",
    "pred1.columns=[\"code\", \"num\"]\n",
    "pred1.head()"
   ]
  },
  {
   "cell_type": "code",
   "execution_count": null,
   "metadata": {},
   "outputs": [],
   "source": [
    "df= pd.concat([train2, test2])"
   ]
  },
  {
   "cell_type": "code",
   "execution_count": null,
   "metadata": {},
   "outputs": [],
   "source": [
    "X = df.drop(columns=['단지명','단지코드','도로명주소','subway_name',\n",
    "                         '등록차량수', \"임대상가\",\n",
    "                    \"자격유형1\",\"자격유형2\",\"자격유형3\",\"자격유형4\",\"자격유형5\",\"자격유형6\",\"자격유형7\"])\n",
    "X = pd.get_dummies(X, drop_first=True)"
   ]
  },
  {
   "cell_type": "code",
   "execution_count": null,
   "metadata": {},
   "outputs": [],
   "source": [
    "X_train2=X.iloc[0:104, :]\n",
    "X_test2=X.iloc[104:, :]\n",
    "y_train2 = train2[['등록차량수']]"
   ]
  },
  {
   "cell_type": "code",
   "execution_count": null,
   "metadata": {},
   "outputs": [],
   "source": [
    "#X.test[\"장기전세\"]=0\n",
    "#X.test[\"공공분양\"]=0"
   ]
  },
  {
   "cell_type": "code",
   "execution_count": null,
   "metadata": {},
   "outputs": [],
   "source": [
    "model_2= CatBoostRegressor(random_state=2021, verbose=False).fit(X_train2, y_train2)\n",
    "model2_pred = model_2.predict(X_test2)"
   ]
  },
  {
   "cell_type": "code",
   "execution_count": null,
   "metadata": {},
   "outputs": [],
   "source": [
    "model2=pd.DataFrame(model2_pred)\n",
    "code2=test2.단지코드\n",
    "model2=model2.reset_index(drop=True)\n",
    "code2=code2.reset_index(drop=True)"
   ]
  },
  {
   "cell_type": "code",
   "execution_count": null,
   "metadata": {},
   "outputs": [],
   "source": [
    "pred2=pd.concat([code2, model2], axis=1, ignore_index=True)\n",
    "pred2.columns=[\"code\", \"num\"]\n",
    "pred2.head()"
   ]
  },
  {
   "cell_type": "code",
   "execution_count": null,
   "metadata": {},
   "outputs": [],
   "source": [
    "df_merge=pd.DataFrame(pd.concat([pred1, pred2], axis=0))\n",
    "df_merge=df_merge.reset_index(drop=True)"
   ]
  },
  {
   "cell_type": "code",
   "execution_count": null,
   "metadata": {},
   "outputs": [],
   "source": [
    "df_merge.head()"
   ]
  },
  {
   "cell_type": "code",
   "execution_count": null,
   "metadata": {},
   "outputs": [],
   "source": [
    "test_split=pd.merge(sample, df_merge, on='code', how='outer')"
   ]
  },
  {
   "cell_type": "code",
   "execution_count": null,
   "metadata": {
    "scrolled": true
   },
   "outputs": [],
   "source": [
    "test_split.head()"
   ]
  },
  {
   "cell_type": "code",
   "execution_count": null,
   "metadata": {},
   "outputs": [],
   "source": [
    "test_split= test_split.drop(columns='num_x')\n",
    "test_split.columns=[\"code\",\"num\"]"
   ]
  },
  {
   "cell_type": "code",
   "execution_count": null,
   "metadata": {},
   "outputs": [],
   "source": [
    "test_split[test_split.num<=0].index"
   ]
  },
  {
   "cell_type": "code",
   "execution_count": null,
   "metadata": {},
   "outputs": [],
   "source": [
    "test_split"
   ]
  },
  {
   "cell_type": "code",
   "execution_count": null,
   "metadata": {},
   "outputs": [],
   "source": [
    "one=pd.read_csv(\"0719_1.csv\")\n",
    "one = one.loc[~one.code.isin(['C2335', 'C1327', 'C2675'])]\n",
    "test_= test_split.loc[~test_split.code.isin(['C2335', 'C1327', 'C2675'])]\n",
    "round(mean_absolute_error(one.num, test_.num))"
   ]
  },
  {
   "cell_type": "code",
   "execution_count": null,
   "metadata": {},
   "outputs": [],
   "source": [
    "plt.subplots(figsize=(17,15))\n",
    "sorted_feature_importance = model_1.feature_importances_.argsort()\n",
    "plt.barh(X_test1.columns[sorted_feature_importance], \n",
    "        model_1.feature_importances_[sorted_feature_importance], \n",
    "        color='turquoise')\n",
    "plt.xlabel(\"CatBoost1 Feature Importance\")"
   ]
  },
  {
   "cell_type": "code",
   "execution_count": null,
   "metadata": {},
   "outputs": [],
   "source": [
    "plt.subplots(figsize=(17,15))\n",
    "sorted_feature_importance = model_2.feature_importances_.argsort()\n",
    "plt.barh(X_test2.columns[sorted_feature_importance], \n",
    "        model_2.feature_importances_[sorted_feature_importance], \n",
    "        color='turquoise')\n",
    "plt.xlabel(\"CatBoost2 Feature Importance\")"
   ]
  },
  {
   "cell_type": "code",
   "execution_count": null,
   "metadata": {},
   "outputs": [],
   "source": [
    "#test_split.to_csv('0719_pos.csv', index=False)"
   ]
  },
  {
   "cell_type": "code",
   "execution_count": null,
   "metadata": {},
   "outputs": [],
   "source": []
  },
  {
   "cell_type": "code",
   "execution_count": null,
   "metadata": {},
   "outputs": [],
   "source": []
  }
 ],
 "metadata": {
  "kernelspec": {
   "display_name": "Python 3",
   "language": "python",
   "name": "python3"
  },
  "language_info": {
   "codemirror_mode": {
    "name": "ipython",
    "version": 3
   },
   "file_extension": ".py",
   "mimetype": "text/x-python",
   "name": "python",
   "nbconvert_exporter": "python",
   "pygments_lexer": "ipython3",
   "version": "3.7.3"
  }
 },
 "nbformat": 4,
 "nbformat_minor": 4
}
