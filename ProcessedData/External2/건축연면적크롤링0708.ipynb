{
 "cells": [
  {
   "cell_type": "code",
   "execution_count": 4,
   "metadata": {},
   "outputs": [],
   "source": [
    "import pandas as pd\n",
    "pd.options.display.float_format = '{:,.4f}'.format\n",
    "pd.options.display.max_rows = 100\n",
    "pd.options.display.max_columns = 40\n",
    "import numpy as np\n",
    "import os, shutil\n",
    "from tqdm import tqdm\n",
    "\n",
    "# Warnings\n",
    "import warnings\n",
    "warnings.filterwarnings('always')\n",
    "warnings.filterwarnings('ignore')\n",
    "\n",
    "# Web Scraping\n",
    "from selenium import webdriver\n",
    "from selenium import webdriver\n",
    "from selenium.webdriver.support.ui import WebDriverWait\n",
    "from selenium.webdriver.common.by import By\n",
    "from selenium.webdriver.support import expected_conditions as EC\n",
    "from selenium.common.exceptions import TimeoutException\n",
    "from selenium.webdriver.common.keys import Keys\n",
    "from time import sleep\n",
    "from bs4 import BeautifulSoup\n",
    "from tqdm import tqdm\n",
    "options = webdriver.ChromeOptions()\n",
    "\n",
    "options.add_argument(\"--headless\")\n",
    "options.add_argument(\"--no-sandbox\")\n",
    "options.add_argument(\"--disable-gpu\")\n",
    "\n",
    "options.add_argument(\"window-size=1920x1080\")\n",
    "options.add_argument(\"lang=ko_KR\")\n",
    "options.add_argument(\"user-agent=Chrome/77.0.3865.90\")\n",
    "\n",
    "from urllib.request import urlopen\n",
    "from urllib.parse import urlencode, unquote, quote_plus\n",
    "import urllib, requests, json\n",
    "from bs4 import BeautifulSoup\n",
    "import urllib.request\n",
    "import pandas as pd\n",
    "import numpy as np\n",
    "import os, re"
   ]
  },
  {
   "cell_type": "markdown",
   "metadata": {},
   "source": [
    "# cf.) functions"
   ]
  },
  {
   "cell_type": "code",
   "execution_count": 5,
   "metadata": {},
   "outputs": [],
   "source": [
    "# 기존 주소, 입력받은 주소를 변환한 결과, 건물명, 주소 폐지 여부를 txt파일로 저장한 뒤에 이를 읽어들여 return\n",
    "# 도로명주소 -> 지번주소 or 지번주소 -> 도로명주소(양방향 가능)\n",
    "def transform_address(address_ls, filepath, output):\n",
    "    # output 저장할 파일 생성\n",
    "    with open(output, \"w\") as f:\n",
    "        f.write(\"지번주소;도로명주소;건물명;폐지여부\\n\")\n",
    "        \n",
    "    # Web Scraping\n",
    "    url = \"https://www.juso.go.kr/openIndexPage.do\"\n",
    "    driver = webdriver.Chrome(executable_path = 'C:/Program Files/chromedriver/chromedriver.exe',options = options)\n",
    "\n",
    "    for address in tqdm(address_ls):\n",
    "        driver.get(url)\n",
    "        selected_tag_a=driver.find_element_by_css_selector('input#inputSearchAddr')\n",
    "        selected_tag_a.click()\n",
    "        selected_tag_a.send_keys(address) \n",
    "        selected_tag_a.find_element_by_xpath('//*[@id=\"AKCFrm\"]/fieldset/div/button').send_keys((Keys.ENTER))\n",
    "        source=driver.page_source\n",
    "        soup=BeautifulSoup(source,'lxml') \n",
    "        try:\n",
    "            new_address = soup.select('#rnAddr1')[0].get('value').split('(')[0]\n",
    "            abo = \"존재\"\n",
    "        except IndexError: # 검색 결과가 없는 경우\n",
    "            print(f\"{address}은(는) 폐지된 주소 정보입니다.\")\n",
    "            driver.find_element_by_css_selector('input#ckAblYn').click()\n",
    "            driver.find_element_by_css_selector('button#searchButton').click()\n",
    "            new_address = soup.select('#rnAddr1')[0].get('value').split('(')[0]\n",
    "            abo = \"폐지\"\n",
    "        except TimeoutException as ex:\n",
    "            print(ex.Message)\n",
    "            webDriver.navigate().refresh()\n",
    "        old_address = soup.select('#lndnAddr1')[0].get('value')\n",
    "        bdNm = soup.select('#bdNm1')[0].get('value')\n",
    "        \n",
    "        # output txt파일에 저장\n",
    "        if address == old_address:\n",
    "            old_address = address\n",
    "        elif address == new_address:\n",
    "            new_address = address\n",
    "        with open(os.path.join(filepath, output), \"a\") as f:\n",
    "            f.write(f\"{old_address};{new_address};{bdNm};{abo}\\n\")\n",
    "    # txt파일 불러오기\n",
    "    trans_address = pd.read_csv(os.path.join(filepath, output), sep=\";\",encoding =\"cp949\")\n",
    "    return trans_address\n",
    "\n",
    "\n",
    "# 건축물대장 API 호출\n",
    "def call_API(params, API_KEY):\n",
    "    API_KEY = API_KEY\n",
    "    API_URL = 'http://apis.data.go.kr/1613000/BldRgstService_v2/getBrTitleInfo'\n",
    "    sigunguCd, bjdongCd, bun, ji = map(str, params)\n",
    "    queryParams = '?' + urlencode({quote_plus('serviceKey') : API_KEY, \n",
    "                                   quote_plus('sigunguCd') : sigunguCd, \n",
    "                                   quote_plus('bjdongCd') : bjdongCd, \n",
    "                                   quote_plus('platGbCd') : \"0\", \n",
    "                                   quote_plus('bun') : bun, \n",
    "                                   quote_plus('ji') : ji, \n",
    "                                   quote_plus('numOfRows') : '10',\n",
    "                                   quote_plus('pageNo') : '1' })\n",
    "    response = requests.get(API_URL+queryParams).text.encode('utf-8')\n",
    "    xmlobj = BeautifulSoup(response, 'html.parser')\n",
    "    return xmlobj\n",
    "    \n",
    "# 입력받은 tag를 기준으로 API 호출 결과 parsing    \n",
    "def get_data(xmlobj, tag):\n",
    "    try:\n",
    "        result = xmlobj.findAll(tag)[0].text\n",
    "    except:\n",
    "        result = re.findall(\"\\d+\", str(xmlobj.findAll(tag)[0]))[0]\n",
    "    return result\n",
    "\n",
    "# 도로명주소를 입력받아 시군구코드, 법정동코드, 지번 추출\n",
    "def get_params(trans_address, new_address):\n",
    "    old_address = trans_address.loc[trans_address.도로명주소==new_address,\"지번주소\"].values[0]\n",
    "    bjdongNm = re.findall('.*?동\\s|.*?구\\s|.*?리\\s|.*?가\\s', old_address)[0].strip()\n",
    "    try:\n",
    "        code = bupjeongdong.loc[bupjeongdong.법정동명==bjdongNm,'법정동코드'].unique()[0]\n",
    "    except:\n",
    "        print(f\"{new_address}의 법정동명이 없습니다.\\nAPI 호출이 불가능합니다.\")\n",
    "        params = []\n",
    "    else: \n",
    "        sigunguCd = str(code)[:5] # 시군구코드\n",
    "        bjdongCd = str(code)[5:] # 법정동코드\n",
    "        # 지번 추출\n",
    "        if \"-\" in old_address: \n",
    "            # 지번 주소에 '-'이 있는 경우\n",
    "            # ex) 336-1 -> bun = 0336, ji = 0001\n",
    "            bun_ls = old_address.split(\"-\")\n",
    "            bun = re.findall(\"\\d+\", bun_ls[0])[0].zfill(4)\n",
    "            ji = re.findall(\"\\d+\", bun_ls[1])[0].zfill(4)\n",
    "        else:\n",
    "            # 지번 주소에 '-'이 없는 경우\n",
    "            # ex) 695 -> bun = 0695, ji = 0000\n",
    "            bun = re.findall(\"\\d+\", old_address)[0].zfill(4)\n",
    "            ji = \"0000\"\n",
    "        params = [sigunguCd, bjdongCd, bun, ji]       \n",
    "    return params\n",
    "            \n",
    "# 도로명주소를 입력받아 해당 건축물의 정보를 데이터프레임 형태로 return\n",
    "def get_one_building(trans_address, new_address, k_var, v_var, API_KEY):\n",
    "    old_address = trans_address.loc[trans_address.도로명주소==new_address,\"지번주소\"].values[0]\n",
    "    bjdongNm = re.findall('.*?동\\s|.*?구\\s|.*?리\\s|.*?가\\s', old_address)[0].strip()\n",
    "    # OpenAPI 호출\n",
    "    API_params = get_params(trans_address, new_address)\n",
    "    if not API_params: # 법정동코드를 찾지 못해 API 호출이 불가능한 경우\n",
    "        df = pd.DataFrame({k: np.NaN for k in k_var}, index=[0])\n",
    "    else: # API 호출\n",
    "        xmlobj = call_API(API_params, API_KEY)      \n",
    "        res_dic = {k: '' for k in k_var}\n",
    "        tag_list = list(map(lambda x: x.lower(), v_var)) # parsing에 필요한 변수명 tag\n",
    "        try:\n",
    "            data = [get_data(xmlobj, tag) for tag in tag_list]\n",
    "            for idx, i in  enumerate(res_dic.keys()):\n",
    "                res_dic[i] = [data[idx]]\n",
    "            df = pd.DataFrame(res_dic) \n",
    "        except:\n",
    "            print(f\"{new_address}의 검색 결과가 없습니다.\")\n",
    "            df = pd.DataFrame({k: np.NaN for k in k_var}, index=[0])\n",
    "\n",
    "    df['도로명주소'] = new_address\n",
    "    df['지번주소'] = old_address\n",
    "\n",
    "    return df\n",
    "\n",
    "# get_archarea를 반복 호출해 하나의 데이터프레임을 return\n",
    "def get_building(trans_address, address, k_var, v_var, API_KEY):\n",
    "    building = pd.DataFrame(columns=k_var)\n",
    "    for i in tqdm(address):\n",
    "        res = get_one_building(trans_address,i,k_var,v_var, API_KEY)\n",
    "        building = pd.concat([building,res])\n",
    "    building.reset_index(inplace=True)\n",
    "    del building['index']\n",
    "    return building  "
   ]
  },
  {
   "cell_type": "markdown",
   "metadata": {},
   "source": [
    "# 데이콘 데이터셋 - train.csv, test.csv\n",
    "- new_address_tr - train 도로명주소\n",
    "- new_address_tst - test 도로명주소"
   ]
  },
  {
   "cell_type": "code",
   "execution_count": 10,
   "metadata": {},
   "outputs": [
    {
     "name": "stdout",
     "output_type": "stream",
     "text": [
      "421\n",
      "421\n"
     ]
    }
   ],
   "source": [
    "filepath = '../ProcessedData'\n",
    "train = pd.read_csv(os.path.join(filepath,'merged_train.csv'))\n",
    "print(train.단지코드.nunique())\n",
    "print(train.도로명주소.nunique())"
   ]
  },
  {
   "cell_type": "code",
   "execution_count": 12,
   "metadata": {},
   "outputs": [
    {
     "name": "stdout",
     "output_type": "stream",
     "text": [
      "150\n",
      "150\n"
     ]
    }
   ],
   "source": [
    "filepath = '../ProcessedData'\n",
    "test = pd.read_csv(os.path.join(filepath,'merged_test.csv'))\n",
    "print(test.단지코드.nunique())\n",
    "print(test.도로명주소.nunique())"
   ]
  },
  {
   "cell_type": "code",
   "execution_count": 8,
   "metadata": {},
   "outputs": [
    {
     "name": "stdout",
     "output_type": "stream",
     "text": [
      "571\n",
      "571\n"
     ]
    }
   ],
   "source": [
    "new_address_tr = list(train.도로명주소.unique())\n",
    "new_address_tst = list(test.도로명주소.unique())\n",
    "print(train.도로명주소.nunique()+test.도로명주소.nunique())\n",
    "print(len(list(train.도로명주소.unique())+list(test.도로명주소.unique())))"
   ]
  },
  {
   "cell_type": "code",
   "execution_count": 11,
   "metadata": {},
   "outputs": [
    {
     "name": "stdout",
     "output_type": "stream",
     "text": [
      "휴먼시아\n",
      "송정주공아파트\n",
      "{'휴먼시아': 'C1379', '송정주공아파트': 'C1569'}\n",
      "{'휴먼시아': 'C2423', '송정주공아파트': 'C2144'}\n"
     ]
    }
   ],
   "source": [
    "# 단지명 기준으로 train, test 중복 처리\n",
    "# 서로 다른 지역의 동일 단지명인 Case\n",
    "dup_list = train.loc[train.단지명.isin(test.단지명.unique()),'단지명'].unique()\n",
    "print(*dup_list, sep=\"\\n\")\n",
    "danji_tr = {}\n",
    "danji_tst = {}\n",
    "for i in dup_list:\n",
    "    danji_tr[i] = train.loc[train.단지명==i,'단지코드'].unique()[0]\n",
    "    danji_tst[i] = test.loc[test.단지명==i,'단지코드'].unique()[0]\n",
    "danji_tr, danji_tst\n",
    "print(danji_tr)\n",
    "print(danji_tst)"
   ]
  },
  {
   "cell_type": "code",
   "execution_count": 12,
   "metadata": {},
   "outputs": [
    {
     "name": "stdout",
     "output_type": "stream",
     "text": [
      "경기도 용인시 기흥구 흥덕1로79번길 7\n",
      "{'경기도 용인시 기흥구 흥덕1로79번길 7': 'C1036'}\n",
      "{'경기도 용인시 기흥구 흥덕1로79번길 7': 'C2675'}\n"
     ]
    }
   ],
   "source": [
    "# 도로명주소 기준으로 train, test 중복 처리\n",
    "# 동일 지역의 서로 다른 단지인 Case\n",
    "dup_list = train.loc[train.도로명주소.isin(test.도로명주소.unique()),'도로명주소'].unique()\n",
    "print(*dup_list, sep=\"\\n\")\n",
    "danji_tr = {}\n",
    "danji_tst = {}\n",
    "for i in dup_list:\n",
    "    danji_tr[i] = train.loc[train.도로명주소==i,'단지코드'].unique()[0]\n",
    "    danji_tst[i] = test.loc[test.도로명주소==i,'단지코드'].unique()[0]\n",
    "danji_tr, danji_tst\n",
    "print(danji_tr)\n",
    "print(danji_tst)"
   ]
  },
  {
   "cell_type": "markdown",
   "metadata": {},
   "source": [
    "# 공공임대주택 단지정보 - housing.csv"
   ]
  },
  {
   "cell_type": "code",
   "execution_count": 13,
   "metadata": {},
   "outputs": [],
   "source": [
    "filepath = \"../External\"\n",
    "housing = pd.read_csv(os.path.join(filepath,'external_data.csv'))"
   ]
  },
  {
   "cell_type": "code",
   "execution_count": 14,
   "metadata": {},
   "outputs": [
    {
     "name": "stdout",
     "output_type": "stream",
     "text": [
      "Index(['기관명', '광역시도코드', '광역시도명', '시군구코드', '시군구명', '단지명', '도로명주소', '세대수',\n",
      "       '공급유형명', '형명', '공급전용면적', '공급공용면적', '주택유형명', '주차수', '기본임대보증금', '기본월임대료',\n",
      "       '기본전환보증금'],\n",
      "      dtype='object')\n",
      "Index(['기관명', '광역시도코드', '지역', '시군구코드', '시군구명', '단지명', '도로명주소', '총세대수', '공급유형',\n",
      "       '형명', '전용면적', '공용면적', '임대건물구분', '주차수', '기본임대보증금', '기본월임대료', '기본전환보증금'],\n",
      "      dtype='object')\n"
     ]
    }
   ],
   "source": [
    "print(housing.columns)\n",
    "housing.columns = ['기관명', '광역시도코드', '지역', '시군구코드', '시군구명', '단지명', '도로명주소', '총세대수',\n",
    "       '공급유형', '형명', '전용면적', '공용면적', '임대건물구분', '주차수', '기본임대보증금', '기본월임대료',\n",
    "       '기본전환보증금']\n",
    "print(housing.columns)"
   ]
  },
  {
   "cell_type": "markdown",
   "metadata": {},
   "source": [
    "# 도로명주소 -> 지번주소 변환"
   ]
  },
  {
   "cell_type": "code",
   "execution_count": 16,
   "metadata": {},
   "outputs": [
    {
     "data": {
      "text/html": [
       "<div>\n",
       "<style scoped>\n",
       "    .dataframe tbody tr th:only-of-type {\n",
       "        vertical-align: middle;\n",
       "    }\n",
       "\n",
       "    .dataframe tbody tr th {\n",
       "        vertical-align: top;\n",
       "    }\n",
       "\n",
       "    .dataframe thead th {\n",
       "        text-align: right;\n",
       "    }\n",
       "</style>\n",
       "<table border=\"1\" class=\"dataframe\">\n",
       "  <thead>\n",
       "    <tr style=\"text-align: right;\">\n",
       "      <th></th>\n",
       "      <th>지번주소</th>\n",
       "      <th>도로명주소</th>\n",
       "      <th>건물명</th>\n",
       "      <th>폐지여부</th>\n",
       "    </tr>\n",
       "  </thead>\n",
       "  <tbody>\n",
       "    <tr>\n",
       "      <th>0</th>\n",
       "      <td>경상북도 포항시 북구 양덕동 336-1</td>\n",
       "      <td>경상북도 포항시 북구 장량중앙로 17</td>\n",
       "      <td>장량휴먼시아</td>\n",
       "      <td>존재</td>\n",
       "    </tr>\n",
       "    <tr>\n",
       "      <th>1</th>\n",
       "      <td>경상남도 통영시 미수동 695</td>\n",
       "      <td>경상남도 통영시 미우지해안로 107</td>\n",
       "      <td>미수휴먼시아</td>\n",
       "      <td>존재</td>\n",
       "    </tr>\n",
       "    <tr>\n",
       "      <th>2</th>\n",
       "      <td>대전광역시 유성구 상대동 465</td>\n",
       "      <td>대전광역시 유성구 상대로 40</td>\n",
       "      <td>도안휴먼시아4단지</td>\n",
       "      <td>존재</td>\n",
       "    </tr>\n",
       "    <tr>\n",
       "      <th>3</th>\n",
       "      <td>경기도 남양주시 호평동 712</td>\n",
       "      <td>경기도 남양주시 늘을3로 8</td>\n",
       "      <td>주공Humansia</td>\n",
       "      <td>존재</td>\n",
       "    </tr>\n",
       "    <tr>\n",
       "      <th>4</th>\n",
       "      <td>전라북도 익산시 오산면 장신리 1130</td>\n",
       "      <td>전라북도 익산시 오산면 선화로4길 66</td>\n",
       "      <td>장신휴먼시아1단지</td>\n",
       "      <td>존재</td>\n",
       "    </tr>\n",
       "    <tr>\n",
       "      <th>...</th>\n",
       "      <td>...</td>\n",
       "      <td>...</td>\n",
       "      <td>...</td>\n",
       "      <td>...</td>\n",
       "    </tr>\n",
       "    <tr>\n",
       "      <th>416</th>\n",
       "      <td>제주특별자치도 서귀포시 서홍동 355-1</td>\n",
       "      <td>제주특별자치도 서귀포시 장수로 115</td>\n",
       "      <td>서귀포서홍 행복주택</td>\n",
       "      <td>존재</td>\n",
       "    </tr>\n",
       "    <tr>\n",
       "      <th>417</th>\n",
       "      <td>강원도 춘천시 우두동 1088</td>\n",
       "      <td>강원도 춘천시 우두1길 40</td>\n",
       "      <td>춘천우두엘에이치천년나무3단지</td>\n",
       "      <td>존재</td>\n",
       "    </tr>\n",
       "    <tr>\n",
       "      <th>418</th>\n",
       "      <td>부산광역시 남구 용호동 376-9</td>\n",
       "      <td>부산광역시 남구 동명로 183</td>\n",
       "      <td>NaN</td>\n",
       "      <td>존재</td>\n",
       "    </tr>\n",
       "    <tr>\n",
       "      <th>419</th>\n",
       "      <td>충청북도 제천시 고암동 1273</td>\n",
       "      <td>충청북도 제천시 용두천로40길 28</td>\n",
       "      <td>NaN</td>\n",
       "      <td>존재</td>\n",
       "    </tr>\n",
       "    <tr>\n",
       "      <th>420</th>\n",
       "      <td>강원도 평창군 진부면 하진부리 115</td>\n",
       "      <td>강원도 평창군 진부면 경강로 3587</td>\n",
       "      <td>평창하진부주공아파트</td>\n",
       "      <td>존재</td>\n",
       "    </tr>\n",
       "  </tbody>\n",
       "</table>\n",
       "<p>421 rows × 4 columns</p>\n",
       "</div>"
      ],
      "text/plain": [
       "                       지번주소                  도로명주소              건물명 폐지여부\n",
       "0     경상북도 포항시 북구 양덕동 336-1   경상북도 포항시 북구 장량중앙로 17           장량휴먼시아   존재\n",
       "1          경상남도 통영시 미수동 695    경상남도 통영시 미우지해안로 107           미수휴먼시아   존재\n",
       "2         대전광역시 유성구 상대동 465       대전광역시 유성구 상대로 40        도안휴먼시아4단지   존재\n",
       "3          경기도 남양주시 호평동 712        경기도 남양주시 늘을3로 8       주공Humansia   존재\n",
       "4     전라북도 익산시 오산면 장신리 1130  전라북도 익산시 오산면 선화로4길 66        장신휴먼시아1단지   존재\n",
       "..                      ...                    ...              ...  ...\n",
       "416  제주특별자치도 서귀포시 서홍동 355-1   제주특별자치도 서귀포시 장수로 115       서귀포서홍 행복주택   존재\n",
       "417        강원도 춘천시 우두동 1088        강원도 춘천시 우두1길 40  춘천우두엘에이치천년나무3단지   존재\n",
       "418      부산광역시 남구 용호동 376-9       부산광역시 남구 동명로 183              NaN   존재\n",
       "419       충청북도 제천시 고암동 1273    충청북도 제천시 용두천로40길 28              NaN   존재\n",
       "420    강원도 평창군 진부면 하진부리 115   강원도 평창군 진부면 경강로 3587       평창하진부주공아파트   존재\n",
       "\n",
       "[421 rows x 4 columns]"
      ]
     },
     "execution_count": 16,
     "metadata": {},
     "output_type": "execute_result"
    }
   ],
   "source": [
    "filepath = '../ProcessedData'\n",
    "output = 'trans_address_tr.txt'\n",
    "# trans_address_tr = transform_address(new_address_tr, filepath, output)\n",
    "trans_address_tr = pd.read_csv(os.path.join(filepath,output),sep=\";\",encoding=\"cp949\")\n",
    "trans_address_tr "
   ]
  },
  {
   "cell_type": "code",
   "execution_count": 17,
   "metadata": {},
   "outputs": [
    {
     "data": {
      "text/html": [
       "<div>\n",
       "<style scoped>\n",
       "    .dataframe tbody tr th:only-of-type {\n",
       "        vertical-align: middle;\n",
       "    }\n",
       "\n",
       "    .dataframe tbody tr th {\n",
       "        vertical-align: top;\n",
       "    }\n",
       "\n",
       "    .dataframe thead th {\n",
       "        text-align: right;\n",
       "    }\n",
       "</style>\n",
       "<table border=\"1\" class=\"dataframe\">\n",
       "  <thead>\n",
       "    <tr style=\"text-align: right;\">\n",
       "      <th></th>\n",
       "      <th>지번주소</th>\n",
       "      <th>도로명주소</th>\n",
       "      <th>건물명</th>\n",
       "      <th>폐지여부</th>\n",
       "    </tr>\n",
       "  </thead>\n",
       "  <tbody>\n",
       "    <tr>\n",
       "      <th>0</th>\n",
       "      <td>경기도 광명시 소하동 1391</td>\n",
       "      <td>경기도 광명시 서원로 25</td>\n",
       "      <td>광명역세권휴먼시아</td>\n",
       "      <td>존재</td>\n",
       "    </tr>\n",
       "    <tr>\n",
       "      <th>1</th>\n",
       "      <td>경기도 광명시 소하동 1373</td>\n",
       "      <td>경기도 광명시 성채안로 26</td>\n",
       "      <td>광명역세권휴먼시아</td>\n",
       "      <td>존재</td>\n",
       "    </tr>\n",
       "    <tr>\n",
       "      <th>2</th>\n",
       "      <td>부산광역시 동래구 안락동 1256</td>\n",
       "      <td>부산광역시 동래구 충렬대로447번길 38</td>\n",
       "      <td>부산안락4 휴먼시아</td>\n",
       "      <td>존재</td>\n",
       "    </tr>\n",
       "    <tr>\n",
       "      <th>3</th>\n",
       "      <td>전라북도 익산시 오산면 장신리 1126</td>\n",
       "      <td>전라북도 익산시 오산면 선화로4길 14</td>\n",
       "      <td>장신휴먼시아3단지</td>\n",
       "      <td>존재</td>\n",
       "    </tr>\n",
       "    <tr>\n",
       "      <th>4</th>\n",
       "      <td>경기도 성남시 분당구 삼평동 728</td>\n",
       "      <td>경기도 성남시 분당구 동판교로 212</td>\n",
       "      <td>봇들마을6단지아파트</td>\n",
       "      <td>존재</td>\n",
       "    </tr>\n",
       "    <tr>\n",
       "      <th>...</th>\n",
       "      <td>...</td>\n",
       "      <td>...</td>\n",
       "      <td>...</td>\n",
       "      <td>...</td>\n",
       "    </tr>\n",
       "    <tr>\n",
       "      <th>145</th>\n",
       "      <td>제주특별자치도 서귀포시 성산읍 고성리 1141-1</td>\n",
       "      <td>제주특별자치도 서귀포시 성산읍 고성동서로 33</td>\n",
       "      <td>서귀포성산엘에이치아파트</td>\n",
       "      <td>존재</td>\n",
       "    </tr>\n",
       "    <tr>\n",
       "      <th>146</th>\n",
       "      <td>충청북도 충주시 호암동 1066</td>\n",
       "      <td>충청북도 충주시 호암수청2로 56</td>\n",
       "      <td>충주호암1단지</td>\n",
       "      <td>존재</td>\n",
       "    </tr>\n",
       "    <tr>\n",
       "      <th>147</th>\n",
       "      <td>강원도 화천군 화천읍 신읍리 1818</td>\n",
       "      <td>강원도 화천군 화천읍 산천어길 196</td>\n",
       "      <td>공공실버주택</td>\n",
       "      <td>존재</td>\n",
       "    </tr>\n",
       "    <tr>\n",
       "      <th>148</th>\n",
       "      <td>경상남도 창원시 마산합포구 가포동 58-2</td>\n",
       "      <td>경상남도 창원시 마산합포구 가포본동5길 37</td>\n",
       "      <td>창원가포 엘에이치아파트 1단지</td>\n",
       "      <td>존재</td>\n",
       "    </tr>\n",
       "    <tr>\n",
       "      <th>149</th>\n",
       "      <td>전라북도 정읍시 신정동 1494-1</td>\n",
       "      <td>전라북도 정읍시 첨단3로 7</td>\n",
       "      <td>NaN</td>\n",
       "      <td>존재</td>\n",
       "    </tr>\n",
       "  </tbody>\n",
       "</table>\n",
       "<p>150 rows × 4 columns</p>\n",
       "</div>"
      ],
      "text/plain": [
       "                            지번주소                      도로명주소               건물명  \\\n",
       "0               경기도 광명시 소하동 1391             경기도 광명시 서원로 25         광명역세권휴먼시아   \n",
       "1               경기도 광명시 소하동 1373            경기도 광명시 성채안로 26         광명역세권휴먼시아   \n",
       "2             부산광역시 동래구 안락동 1256     부산광역시 동래구 충렬대로447번길 38        부산안락4 휴먼시아   \n",
       "3          전라북도 익산시 오산면 장신리 1126      전라북도 익산시 오산면 선화로4길 14         장신휴먼시아3단지   \n",
       "4            경기도 성남시 분당구 삼평동 728       경기도 성남시 분당구 동판교로 212        봇들마을6단지아파트   \n",
       "..                           ...                        ...               ...   \n",
       "145  제주특별자치도 서귀포시 성산읍 고성리 1141-1  제주특별자치도 서귀포시 성산읍 고성동서로 33      서귀포성산엘에이치아파트   \n",
       "146            충청북도 충주시 호암동 1066         충청북도 충주시 호암수청2로 56           충주호암1단지   \n",
       "147         강원도 화천군 화천읍 신읍리 1818       강원도 화천군 화천읍 산천어길 196            공공실버주택   \n",
       "148      경상남도 창원시 마산합포구 가포동 58-2   경상남도 창원시 마산합포구 가포본동5길 37  창원가포 엘에이치아파트 1단지   \n",
       "149          전라북도 정읍시 신정동 1494-1            전라북도 정읍시 첨단3로 7               NaN   \n",
       "\n",
       "    폐지여부  \n",
       "0     존재  \n",
       "1     존재  \n",
       "2     존재  \n",
       "3     존재  \n",
       "4     존재  \n",
       "..   ...  \n",
       "145   존재  \n",
       "146   존재  \n",
       "147   존재  \n",
       "148   존재  \n",
       "149   존재  \n",
       "\n",
       "[150 rows x 4 columns]"
      ]
     },
     "execution_count": 17,
     "metadata": {},
     "output_type": "execute_result"
    }
   ],
   "source": [
    "filepath = '../ProcessedData'\n",
    "output = 'trans_address_tst.txt'\n",
    "# trans_address_tst = transform_address(new_address_tst, filepath, output)\n",
    "trans_address_tst = pd.read_csv(os.path.join(filepath,output),sep=\";\",encoding=\"cp949\")\n",
    "trans_address_tst"
   ]
  },
  {
   "cell_type": "markdown",
   "metadata": {},
   "source": [
    "# 법정동 - bupjeongdong.csv"
   ]
  },
  {
   "cell_type": "code",
   "execution_count": 21,
   "metadata": {},
   "outputs": [
    {
     "data": {
      "text/html": [
       "<div>\n",
       "<style scoped>\n",
       "    .dataframe tbody tr th:only-of-type {\n",
       "        vertical-align: middle;\n",
       "    }\n",
       "\n",
       "    .dataframe tbody tr th {\n",
       "        vertical-align: top;\n",
       "    }\n",
       "\n",
       "    .dataframe thead th {\n",
       "        text-align: right;\n",
       "    }\n",
       "</style>\n",
       "<table border=\"1\" class=\"dataframe\">\n",
       "  <thead>\n",
       "    <tr style=\"text-align: right;\">\n",
       "      <th></th>\n",
       "      <th>법정동코드</th>\n",
       "      <th>법정동명</th>\n",
       "      <th>폐지여부</th>\n",
       "    </tr>\n",
       "  </thead>\n",
       "  <tbody>\n",
       "    <tr>\n",
       "      <th>0</th>\n",
       "      <td>1100000000</td>\n",
       "      <td>서울특별시</td>\n",
       "      <td>존재</td>\n",
       "    </tr>\n",
       "    <tr>\n",
       "      <th>1</th>\n",
       "      <td>1111000000</td>\n",
       "      <td>서울특별시 종로구</td>\n",
       "      <td>존재</td>\n",
       "    </tr>\n",
       "    <tr>\n",
       "      <th>2</th>\n",
       "      <td>1111010100</td>\n",
       "      <td>서울특별시 종로구 청운동</td>\n",
       "      <td>존재</td>\n",
       "    </tr>\n",
       "    <tr>\n",
       "      <th>3</th>\n",
       "      <td>1111010200</td>\n",
       "      <td>서울특별시 종로구 신교동</td>\n",
       "      <td>존재</td>\n",
       "    </tr>\n",
       "    <tr>\n",
       "      <th>4</th>\n",
       "      <td>1111010300</td>\n",
       "      <td>서울특별시 종로구 궁정동</td>\n",
       "      <td>존재</td>\n",
       "    </tr>\n",
       "    <tr>\n",
       "      <th>...</th>\n",
       "      <td>...</td>\n",
       "      <td>...</td>\n",
       "      <td>...</td>\n",
       "    </tr>\n",
       "    <tr>\n",
       "      <th>46287</th>\n",
       "      <td>5013032022</td>\n",
       "      <td>제주특별자치도 서귀포시 표선면 하천리</td>\n",
       "      <td>존재</td>\n",
       "    </tr>\n",
       "    <tr>\n",
       "      <th>46288</th>\n",
       "      <td>5013032023</td>\n",
       "      <td>제주특별자치도 서귀포시 표선면 성읍리</td>\n",
       "      <td>존재</td>\n",
       "    </tr>\n",
       "    <tr>\n",
       "      <th>46289</th>\n",
       "      <td>5013032024</td>\n",
       "      <td>제주특별자치도 서귀포시 표선면 가시리</td>\n",
       "      <td>존재</td>\n",
       "    </tr>\n",
       "    <tr>\n",
       "      <th>46290</th>\n",
       "      <td>5013032025</td>\n",
       "      <td>제주특별자치도 서귀포시 표선면 세화리</td>\n",
       "      <td>존재</td>\n",
       "    </tr>\n",
       "    <tr>\n",
       "      <th>46291</th>\n",
       "      <td>5013032026</td>\n",
       "      <td>제주특별자치도 서귀포시 표선면 토산리</td>\n",
       "      <td>존재</td>\n",
       "    </tr>\n",
       "  </tbody>\n",
       "</table>\n",
       "<p>46292 rows × 3 columns</p>\n",
       "</div>"
      ],
      "text/plain": [
       "            법정동코드                  법정동명 폐지여부\n",
       "0      1100000000                 서울특별시   존재\n",
       "1      1111000000             서울특별시 종로구   존재\n",
       "2      1111010100         서울특별시 종로구 청운동   존재\n",
       "3      1111010200         서울특별시 종로구 신교동   존재\n",
       "4      1111010300         서울특별시 종로구 궁정동   존재\n",
       "...           ...                   ...  ...\n",
       "46287  5013032022  제주특별자치도 서귀포시 표선면 하천리   존재\n",
       "46288  5013032023  제주특별자치도 서귀포시 표선면 성읍리   존재\n",
       "46289  5013032024  제주특별자치도 서귀포시 표선면 가시리   존재\n",
       "46290  5013032025  제주특별자치도 서귀포시 표선면 세화리   존재\n",
       "46291  5013032026  제주특별자치도 서귀포시 표선면 토산리   존재\n",
       "\n",
       "[46292 rows x 3 columns]"
      ]
     },
     "execution_count": 21,
     "metadata": {},
     "output_type": "execute_result"
    }
   ],
   "source": [
    "filepath = \"./\"\n",
    "bupjeongdong = pd.read_csv(os.path.join(filepath, \"bupjeongdong.csv\"),\"\\t\",encoding=\"cp949\")\n",
    "bupjeongdong"
   ]
  },
  {
   "cell_type": "markdown",
   "metadata": {},
   "source": [
    "# 건축물대장정보 - building.csv"
   ]
  },
  {
   "cell_type": "code",
   "execution_count": 2,
   "metadata": {},
   "outputs": [],
   "source": [
    "API_KEY = 'aaJUNB0G9RL42RIOAUXocxGfIZRGIP9cxVQ+7+IvE8xiQBA6rhn6AAMqQ81eOudK/8Hb6jfX48cDA2BtbsGt4g=='"
   ]
  },
  {
   "cell_type": "code",
   "execution_count": 26,
   "metadata": {
    "tags": []
   },
   "outputs": [
    {
     "name": "stderr",
     "output_type": "stream",
     "text": [
      "  8%|██████▎                                                                          | 33/421 [00:41<08:47,  1.36s/it]"
     ]
    },
    {
     "name": "stdout",
     "output_type": "stream",
     "text": [
      "경상남도 창원시 마산회원구 내서읍 삼계2길 24의 검색 결과가 없습니다.\n"
     ]
    },
    {
     "name": "stderr",
     "output_type": "stream",
     "text": [
      "  8%|██████▌                                                                          | 34/421 [00:41<07:23,  1.15s/it]"
     ]
    },
    {
     "name": "stdout",
     "output_type": "stream",
     "text": [
      "경상남도 창원시 마산회원구 내서읍 상곡로 49의 검색 결과가 없습니다.\n"
     ]
    },
    {
     "name": "stderr",
     "output_type": "stream",
     "text": [
      " 19%|███████████████▌                                                                 | 81/421 [01:25<03:47,  1.50it/s]"
     ]
    },
    {
     "name": "stdout",
     "output_type": "stream",
     "text": [
      "경기도 부천시 양지로 20의 검색 결과가 없습니다.\n"
     ]
    },
    {
     "name": "stderr",
     "output_type": "stream",
     "text": [
      " 34%|███████████████████████████▏                                                    | 143/421 [03:12<03:42,  1.25it/s]"
     ]
    },
    {
     "name": "stdout",
     "output_type": "stream",
     "text": [
      "경기도 부천시 여월로 65의 검색 결과가 없습니다.\n"
     ]
    },
    {
     "name": "stderr",
     "output_type": "stream",
     "text": [
      " 37%|█████████████████████████████▍                                                  | 155/421 [03:17<02:03,  2.16it/s]"
     ]
    },
    {
     "name": "stdout",
     "output_type": "stream",
     "text": [
      "전라남도 순천시 고지1길 57의 검색 결과가 없습니다.\n"
     ]
    },
    {
     "name": "stderr",
     "output_type": "stream",
     "text": [
      " 50%|███████████████████████████████████████▉                                        | 210/421 [04:04<02:48,  1.25it/s]"
     ]
    },
    {
     "name": "stdout",
     "output_type": "stream",
     "text": [
      "전라북도 전주시 완산구 호암로 87의 검색 결과가 없습니다.\n"
     ]
    },
    {
     "name": "stderr",
     "output_type": "stream",
     "text": [
      " 50%|████████████████████████████████████████                                        | 211/421 [04:05<02:19,  1.50it/s]"
     ]
    },
    {
     "name": "stdout",
     "output_type": "stream",
     "text": [
      "전라북도 전주시 완산구 호암로 88의 검색 결과가 없습니다.\n"
     ]
    },
    {
     "name": "stderr",
     "output_type": "stream",
     "text": [
      " 54%|███████████████████████████████████████████▏                                    | 227/421 [04:26<04:34,  1.41s/it]"
     ]
    },
    {
     "name": "stdout",
     "output_type": "stream",
     "text": [
      "경상남도 창원시 의창구 동읍 용정길 26의 검색 결과가 없습니다.\n"
     ]
    },
    {
     "name": "stderr",
     "output_type": "stream",
     "text": [
      " 54%|███████████████████████████████████████████▌                                    | 229/421 [04:28<03:43,  1.16s/it]"
     ]
    },
    {
     "name": "stdout",
     "output_type": "stream",
     "text": [
      "충청북도 청주시 청원구 내수읍 청암로 35의 검색 결과가 없습니다.\n"
     ]
    },
    {
     "name": "stderr",
     "output_type": "stream",
     "text": [
      " 56%|█████████████████████████████████████████████                                   | 237/421 [04:34<02:08,  1.43it/s]"
     ]
    },
    {
     "name": "stdout",
     "output_type": "stream",
     "text": [
      "경상남도 통영시 광도면 죽림1로 17-18의 검색 결과가 없습니다.\n"
     ]
    },
    {
     "name": "stderr",
     "output_type": "stream",
     "text": [
      " 58%|██████████████████████████████████████████████▋                                 | 246/421 [04:41<02:17,  1.27it/s]"
     ]
    },
    {
     "name": "stdout",
     "output_type": "stream",
     "text": [
      "전라북도 익산시 선화로1길 57-32의 검색 결과가 없습니다.\n"
     ]
    },
    {
     "name": "stderr",
     "output_type": "stream",
     "text": [
      " 75%|████████████████████████████████████████████████████████████▏                   | 317/421 [06:09<00:55,  1.89it/s]"
     ]
    },
    {
     "name": "stdout",
     "output_type": "stream",
     "text": [
      "강원도 태백시 소도길 59의 검색 결과가 없습니다.\n"
     ]
    },
    {
     "name": "stderr",
     "output_type": "stream",
     "text": [
      " 82%|█████████████████████████████████████████████████████████████████▎              | 344/421 [06:34<01:15,  1.03it/s]"
     ]
    },
    {
     "name": "stdout",
     "output_type": "stream",
     "text": [
      "경기도 부천시 양지로 134의 검색 결과가 없습니다.\n"
     ]
    },
    {
     "name": "stderr",
     "output_type": "stream",
     "text": [
      " 84%|███████████████████████████████████████████████████████████████████             | 353/421 [06:52<02:29,  2.20s/it]"
     ]
    },
    {
     "name": "stdout",
     "output_type": "stream",
     "text": [
      "경기도 남양주시 별내4로 7의 검색 결과가 없습니다.\n"
     ]
    },
    {
     "name": "stderr",
     "output_type": "stream",
     "text": [
      " 86%|████████████████████████████████████████████████████████████████████▊           | 362/421 [07:08<01:37,  1.66s/it]"
     ]
    },
    {
     "name": "stdout",
     "output_type": "stream",
     "text": [
      "강원도 원주시 치악로 2050의 검색 결과가 없습니다.\n"
     ]
    },
    {
     "name": "stderr",
     "output_type": "stream",
     "text": [
      " 88%|██████████████████████████████████████████████████████████████████████▎         | 370/421 [07:15<00:46,  1.09it/s]"
     ]
    },
    {
     "name": "stdout",
     "output_type": "stream",
     "text": [
      "경상남도 창원시 의창구 대산면 주남로 514의 검색 결과가 없습니다.\n"
     ]
    },
    {
     "name": "stderr",
     "output_type": "stream",
     "text": [
      " 91%|████████████████████████████████████████████████████████████████████████▉       | 384/421 [07:20<00:14,  2.59it/s]"
     ]
    },
    {
     "name": "stdout",
     "output_type": "stream",
     "text": [
      "경기도 부천시 양지로 151의 검색 결과가 없습니다.\n"
     ]
    },
    {
     "name": "stderr",
     "output_type": "stream",
     "text": [
      " 92%|█████████████████████████████████████████████████████████████████████████▉      | 389/421 [07:24<00:26,  1.21it/s]"
     ]
    },
    {
     "name": "stdout",
     "output_type": "stream",
     "text": [
      "울산광역시 울주군 웅촌면 곡천검단로 159의 검색 결과가 없습니다.\n"
     ]
    },
    {
     "name": "stderr",
     "output_type": "stream",
     "text": [
      " 93%|██████████████████████████████████████████████████████████████████████████▋     | 393/421 [07:32<00:41,  1.49s/it]"
     ]
    },
    {
     "name": "stdout",
     "output_type": "stream",
     "text": [
      "전라북도 전주시 완산구 효천중앙로 50의 검색 결과가 없습니다.\n"
     ]
    },
    {
     "name": "stderr",
     "output_type": "stream",
     "text": [
      " 95%|███████████████████████████████████████████████████████████████████████████▋    | 398/421 [07:35<00:19,  1.20it/s]"
     ]
    },
    {
     "name": "stdout",
     "output_type": "stream",
     "text": [
      "경기도 부천시 중동로 88의 검색 결과가 없습니다.\n"
     ]
    },
    {
     "name": "stderr",
     "output_type": "stream",
     "text": [
      " 96%|████████████████████████████████████████████████████████████████████████████▉   | 405/421 [07:40<00:09,  1.73it/s]"
     ]
    },
    {
     "name": "stdout",
     "output_type": "stream",
     "text": [
      "충청북도 청주시 상당구 동남로 187의 검색 결과가 없습니다.\n",
      "강원도 원주시 치악로 1989의 검색 결과가 없습니다.\n"
     ]
    },
    {
     "name": "stderr",
     "output_type": "stream",
     "text": [
      " 98%|██████████████████████████████████████████████████████████████████████████████  | 411/421 [07:42<00:02,  3.59it/s]"
     ]
    },
    {
     "name": "stdout",
     "output_type": "stream",
     "text": [
      "충청북도 청주시 상당구 월운로 146의 검색 결과가 없습니다.\n"
     ]
    },
    {
     "name": "stderr",
     "output_type": "stream",
     "text": [
      " 99%|██████████████████████████████████████████████████████████████████████████████▊ | 415/421 [07:44<00:03,  1.67it/s]"
     ]
    },
    {
     "name": "stdout",
     "output_type": "stream",
     "text": [
      "충청북도 청주시 상당구 호미로 137의 검색 결과가 없습니다.\n"
     ]
    },
    {
     "name": "stderr",
     "output_type": "stream",
     "text": [
      "100%|████████████████████████████████████████████████████████████████████████████████| 421/421 [07:59<00:00,  1.14s/it]\n"
     ]
    }
   ],
   "source": [
    "# k_var = [\"관리건축물대장PK\",\"건물명\",\"연면적\",\"옥내기계식대수\",\"옥외기계식대수\",\"옥내자주식대수\",\"옥외자주식대수\"]\n",
    "# v_var = [\"mgmBldrgstPk\",\"bldNm\",\"totArea\",\"indrMechUtcnt\",\"oudrMechUtcnt\",\"indrAutoUtcnt\",\"oudrAutoUtcnt\"]\n",
    "# building_tr = get_building(trans_address_tr, new_address_tr,k_var,v_var,API_KEY=API_KEY)"
   ]
  },
  {
   "cell_type": "code",
   "execution_count": 38,
   "metadata": {},
   "outputs": [],
   "source": [
    "# building_tr.옥내기계식대수=building_tr.옥내기계식대수.astype(\"float\")\n",
    "# building_tr.옥외기계식대수=building_tr.옥외기계식대수.astype(\"float\")\n",
    "# building_tr.옥내자주식대수=building_tr.옥내자주식대수.astype(\"float\")\n",
    "# building_tr.옥외자주식대수=building_tr.옥외자주식대수.astype(\"float\")"
   ]
  },
  {
   "cell_type": "code",
   "execution_count": 43,
   "metadata": {},
   "outputs": [
    {
     "data": {
      "text/html": [
       "<div>\n",
       "<style scoped>\n",
       "    .dataframe tbody tr th:only-of-type {\n",
       "        vertical-align: middle;\n",
       "    }\n",
       "\n",
       "    .dataframe tbody tr th {\n",
       "        vertical-align: top;\n",
       "    }\n",
       "\n",
       "    .dataframe thead th {\n",
       "        text-align: right;\n",
       "    }\n",
       "</style>\n",
       "<table border=\"1\" class=\"dataframe\">\n",
       "  <thead>\n",
       "    <tr style=\"text-align: right;\">\n",
       "      <th></th>\n",
       "      <th>관리건축물대장PK</th>\n",
       "      <th>건물명</th>\n",
       "      <th>연면적</th>\n",
       "      <th>옥내기계식대수</th>\n",
       "      <th>옥외기계식대수</th>\n",
       "      <th>옥내자주식대수</th>\n",
       "      <th>옥외자주식대수</th>\n",
       "      <th>도로명주소</th>\n",
       "      <th>지번주소</th>\n",
       "    </tr>\n",
       "  </thead>\n",
       "  <tbody>\n",
       "    <tr>\n",
       "      <th>41</th>\n",
       "      <td>26320-2107</td>\n",
       "      <td>금곡7단지주공아파트</td>\n",
       "      <td>563.59</td>\n",
       "      <td>0.0000</td>\n",
       "      <td>0.0000</td>\n",
       "      <td>80.0000</td>\n",
       "      <td>215.0000</td>\n",
       "      <td>부산광역시 북구 금곡대로550번길 23</td>\n",
       "      <td>부산광역시 북구 금곡동 811</td>\n",
       "    </tr>\n",
       "    <tr>\n",
       "      <th>224</th>\n",
       "      <td>48129-2000017418</td>\n",
       "      <td>자은3주공아파트</td>\n",
       "      <td>13.977</td>\n",
       "      <td>0.0000</td>\n",
       "      <td>0.0000</td>\n",
       "      <td>218.0000</td>\n",
       "      <td>393.0000</td>\n",
       "      <td>경상남도 창원시 진해구 진해대로975번길 23</td>\n",
       "      <td>경상남도 창원시 진해구 자은동 760-1</td>\n",
       "    </tr>\n",
       "    <tr>\n",
       "      <th>420</th>\n",
       "      <td>42760-100179404</td>\n",
       "      <td>평창하진부주공아파트</td>\n",
       "      <td>24661.238</td>\n",
       "      <td>0.0000</td>\n",
       "      <td>0.0000</td>\n",
       "      <td>139.0000</td>\n",
       "      <td>32.0000</td>\n",
       "      <td>강원도 평창군 진부면 경강로 3587</td>\n",
       "      <td>강원도 평창군 진부면 하진부리 115</td>\n",
       "    </tr>\n",
       "  </tbody>\n",
       "</table>\n",
       "</div>"
      ],
      "text/plain": [
       "            관리건축물대장PK         건물명        연면적  옥내기계식대수  옥외기계식대수  옥내자주식대수  \\\n",
       "41         26320-2107  금곡7단지주공아파트     563.59   0.0000   0.0000  80.0000   \n",
       "224  48129-2000017418    자은3주공아파트     13.977   0.0000   0.0000 218.0000   \n",
       "420   42760-100179404  평창하진부주공아파트  24661.238   0.0000   0.0000 139.0000   \n",
       "\n",
       "     옥외자주식대수                      도로명주소                    지번주소  \n",
       "41  215.0000      부산광역시 북구 금곡대로550번길 23        부산광역시 북구 금곡동 811  \n",
       "224 393.0000  경상남도 창원시 진해구 진해대로975번길 23  경상남도 창원시 진해구 자은동 760-1  \n",
       "420  32.0000       강원도 평창군 진부면 경강로 3587    강원도 평창군 진부면 하진부리 115  "
      ]
     },
     "execution_count": 43,
     "metadata": {},
     "output_type": "execute_result"
    }
   ],
   "source": [
    "building_tr.loc[building_tr.옥내자주식대수>0,]"
   ]
  },
  {
   "cell_type": "code",
   "execution_count": 117,
   "metadata": {
    "collapsed": true,
    "jupyter": {
     "outputs_hidden": true
    },
    "tags": []
   },
   "outputs": [
    {
     "name": "stderr",
     "output_type": "stream",
     "text": [
      "  8%|██████▎                                                                          | 33/421 [00:06<01:08,  5.68it/s]"
     ]
    },
    {
     "name": "stdout",
     "output_type": "stream",
     "text": [
      "경상남도 창원시 마산회원구 내서읍 삼계2길 24의 검색 결과가 없습니다.\n",
      "경상남도 창원시 마산회원구 내서읍 상곡로 49의 검색 결과가 없습니다.\n"
     ]
    },
    {
     "name": "stderr",
     "output_type": "stream",
     "text": [
      " 19%|███████████████▊                                                                 | 82/421 [00:14<00:54,  6.25it/s]"
     ]
    },
    {
     "name": "stdout",
     "output_type": "stream",
     "text": [
      "경기도 부천시 양지로 20의 검색 결과가 없습니다.\n"
     ]
    },
    {
     "name": "stderr",
     "output_type": "stream",
     "text": [
      " 34%|███████████████████████████▎                                                    | 144/421 [00:24<00:40,  6.82it/s]"
     ]
    },
    {
     "name": "stdout",
     "output_type": "stream",
     "text": [
      "경기도 부천시 여월로 65의 검색 결과가 없습니다.\n"
     ]
    },
    {
     "name": "stderr",
     "output_type": "stream",
     "text": [
      " 37%|█████████████████████████████▍                                                  | 155/421 [00:26<00:35,  7.48it/s]"
     ]
    },
    {
     "name": "stdout",
     "output_type": "stream",
     "text": [
      "전라남도 순천시 고지1길 57의 검색 결과가 없습니다.\n"
     ]
    },
    {
     "name": "stderr",
     "output_type": "stream",
     "text": [
      " 50%|███████████████████████████████████████▉                                        | 210/421 [00:35<00:31,  6.73it/s]"
     ]
    },
    {
     "name": "stdout",
     "output_type": "stream",
     "text": [
      "전라북도 전주시 완산구 호암로 87의 검색 결과가 없습니다.\n"
     ]
    },
    {
     "name": "stderr",
     "output_type": "stream",
     "text": [
      " 50%|████████████████████████████████████████▎                                       | 212/421 [00:35<00:31,  6.71it/s]"
     ]
    },
    {
     "name": "stdout",
     "output_type": "stream",
     "text": [
      "전라북도 전주시 완산구 호암로 88의 검색 결과가 없습니다.\n"
     ]
    },
    {
     "name": "stderr",
     "output_type": "stream",
     "text": [
      " 54%|███████████████████████████████████████████▎                                    | 228/421 [00:38<00:30,  6.42it/s]"
     ]
    },
    {
     "name": "stdout",
     "output_type": "stream",
     "text": [
      "경상남도 창원시 의창구 동읍 용정길 26의 검색 결과가 없습니다.\n"
     ]
    },
    {
     "name": "stderr",
     "output_type": "stream",
     "text": [
      " 54%|███████████████████████████████████████████▌                                    | 229/421 [00:38<00:27,  7.04it/s]"
     ]
    },
    {
     "name": "stdout",
     "output_type": "stream",
     "text": [
      "충청북도 청주시 청원구 내수읍 청암로 35의 검색 결과가 없습니다.\n"
     ]
    },
    {
     "name": "stderr",
     "output_type": "stream",
     "text": [
      " 56%|█████████████████████████████████████████████                                   | 237/421 [00:39<00:28,  6.48it/s]"
     ]
    },
    {
     "name": "stdout",
     "output_type": "stream",
     "text": [
      "경상남도 통영시 광도면 죽림1로 17-18의 검색 결과가 없습니다.\n"
     ]
    },
    {
     "name": "stderr",
     "output_type": "stream",
     "text": [
      " 59%|██████████████████████████████████████████████▉                                 | 247/421 [00:41<00:23,  7.37it/s]"
     ]
    },
    {
     "name": "stdout",
     "output_type": "stream",
     "text": [
      "전라북도 익산시 선화로1길 57-32의 검색 결과가 없습니다.\n"
     ]
    },
    {
     "name": "stderr",
     "output_type": "stream",
     "text": [
      " 76%|████████████████████████████████████████████████████████████▍                   | 318/421 [00:52<00:12,  8.01it/s]"
     ]
    },
    {
     "name": "stdout",
     "output_type": "stream",
     "text": [
      "강원도 태백시 소도길 59의 검색 결과가 없습니다.\n"
     ]
    },
    {
     "name": "stderr",
     "output_type": "stream",
     "text": [
      " 82%|█████████████████████████████████████████████████████████████████▌              | 345/421 [00:56<00:12,  6.32it/s]"
     ]
    },
    {
     "name": "stdout",
     "output_type": "stream",
     "text": [
      "경기도 부천시 양지로 134의 검색 결과가 없습니다.\n"
     ]
    },
    {
     "name": "stderr",
     "output_type": "stream",
     "text": [
      " 84%|███████████████████████████████████████████████████████████████████▎            | 354/421 [00:57<00:09,  7.30it/s]"
     ]
    },
    {
     "name": "stdout",
     "output_type": "stream",
     "text": [
      "경기도 남양주시 별내4로 7의 검색 결과가 없습니다.\n"
     ]
    },
    {
     "name": "stderr",
     "output_type": "stream",
     "text": [
      " 86%|████████████████████████████████████████████████████████████████████▉           | 363/421 [00:59<00:07,  8.20it/s]"
     ]
    },
    {
     "name": "stdout",
     "output_type": "stream",
     "text": [
      "강원도 원주시 치악로 2050의 검색 결과가 없습니다.\n"
     ]
    },
    {
     "name": "stderr",
     "output_type": "stream",
     "text": [
      " 88%|██████████████████████████████████████████████████████████████████████          | 369/421 [01:00<00:08,  6.48it/s]"
     ]
    },
    {
     "name": "stdout",
     "output_type": "stream",
     "text": [
      "경상남도 창원시 의창구 대산면 주남로 514의 검색 결과가 없습니다.\n"
     ]
    },
    {
     "name": "stderr",
     "output_type": "stream",
     "text": [
      " 91%|█████████████████████████████████████████████████████████████████████████▏      | 385/421 [01:02<00:05,  6.66it/s]"
     ]
    },
    {
     "name": "stdout",
     "output_type": "stream",
     "text": [
      "경기도 부천시 양지로 151의 검색 결과가 없습니다.\n"
     ]
    },
    {
     "name": "stderr",
     "output_type": "stream",
     "text": [
      " 93%|██████████████████████████████████████████████████████████████████████████      | 390/421 [01:03<00:04,  6.28it/s]"
     ]
    },
    {
     "name": "stdout",
     "output_type": "stream",
     "text": [
      "울산광역시 울주군 웅촌면 곡천검단로 159의 검색 결과가 없습니다.\n"
     ]
    },
    {
     "name": "stderr",
     "output_type": "stream",
     "text": [
      " 94%|██████████████████████████████████████████████████████████████████████████▊     | 394/421 [01:04<00:03,  6.89it/s]"
     ]
    },
    {
     "name": "stdout",
     "output_type": "stream",
     "text": [
      "전라북도 전주시 완산구 효천중앙로 50의 검색 결과가 없습니다.\n"
     ]
    },
    {
     "name": "stderr",
     "output_type": "stream",
     "text": [
      " 95%|███████████████████████████████████████████████████████████████████████████▊    | 399/421 [01:04<00:03,  7.24it/s]"
     ]
    },
    {
     "name": "stdout",
     "output_type": "stream",
     "text": [
      "경기도 부천시 중동로 88의 검색 결과가 없습니다.\n"
     ]
    },
    {
     "name": "stderr",
     "output_type": "stream",
     "text": [
      " 96%|████████████████████████████████████████████████████████████████████████████▉   | 405/421 [01:05<00:02,  7.04it/s]"
     ]
    },
    {
     "name": "stdout",
     "output_type": "stream",
     "text": [
      "충청북도 청주시 상당구 동남로 187의 검색 결과가 없습니다.\n",
      "강원도 원주시 치악로 1989의 검색 결과가 없습니다.\n"
     ]
    },
    {
     "name": "stderr",
     "output_type": "stream",
     "text": [
      " 98%|██████████████████████████████████████████████████████████████████████████████▎ | 412/421 [01:06<00:01,  6.80it/s]"
     ]
    },
    {
     "name": "stdout",
     "output_type": "stream",
     "text": [
      "충청북도 청주시 상당구 월운로 146의 검색 결과가 없습니다.\n"
     ]
    },
    {
     "name": "stderr",
     "output_type": "stream",
     "text": [
      " 99%|███████████████████████████████████████████████████████████████████████████████ | 416/421 [01:07<00:00,  7.02it/s]"
     ]
    },
    {
     "name": "stdout",
     "output_type": "stream",
     "text": [
      "충청북도 청주시 상당구 호미로 137의 검색 결과가 없습니다.\n"
     ]
    },
    {
     "name": "stderr",
     "output_type": "stream",
     "text": [
      "100%|████████████████████████████████████████████████████████████████████████████████| 421/421 [01:08<00:00,  6.18it/s]\n"
     ]
    }
   ],
   "source": [
    "# k_var = [\"관리건축물대장PK\",\"건물명\",\"대지면적\",\"건축면적\",\"연면적\",\"용적률산정연면적\",\"용적률\",\"세대수\",\"가구수\"]\n",
    "# v_var = [\"mgmBldrgstPk\",\"bldNm\",\"platArea\",\"archArea\",\"totArea\",\"vlRatEstmTotArea\",\"vlRat\",\"hhldCnt\",\"fmlyCnt\"]\n",
    "# building_tr = get_building(trans_address_tr, new_address_tr,k_var,v_var,API_KEY=API_KEY)"
   ]
  },
  {
   "cell_type": "code",
   "execution_count": 118,
   "metadata": {},
   "outputs": [
    {
     "name": "stderr",
     "output_type": "stream",
     "text": [
      " 15%|███████████▉                                                                     | 22/150 [00:05<00:25,  5.11it/s]"
     ]
    },
    {
     "name": "stdout",
     "output_type": "stream",
     "text": [
      "울산광역시 북구 명촌로 94의 검색 결과가 없습니다.\n"
     ]
    },
    {
     "name": "stderr",
     "output_type": "stream",
     "text": [
      " 43%|██████████████████████████████████▌                                              | 64/150 [00:14<00:16,  5.36it/s]"
     ]
    },
    {
     "name": "stdout",
     "output_type": "stream",
     "text": [
      "경기도 부천시 소사로 639의 검색 결과가 없습니다.\n"
     ]
    },
    {
     "name": "stderr",
     "output_type": "stream",
     "text": [
      " 64%|███████████████████████████████████████████████████▊                             | 96/150 [00:21<00:09,  5.99it/s]"
     ]
    },
    {
     "name": "stdout",
     "output_type": "stream",
     "text": [
      "전라북도 익산시 선화로1길 25-14의 검색 결과가 없습니다.\n"
     ]
    },
    {
     "name": "stderr",
     "output_type": "stream",
     "text": [
      " 80%|████████████████████████████████████████████████████████████████                | 120/150 [00:27<00:05,  5.30it/s]"
     ]
    },
    {
     "name": "stdout",
     "output_type": "stream",
     "text": [
      "경기도 안성시 아양로 73의 검색 결과가 없습니다.\n"
     ]
    },
    {
     "name": "stderr",
     "output_type": "stream",
     "text": [
      "100%|████████████████████████████████████████████████████████████████████████████████| 150/150 [00:33<00:00,  4.51it/s]"
     ]
    },
    {
     "name": "stdout",
     "output_type": "stream",
     "text": [
      "경상남도 창원시 마산합포구 가포본동5길 37의 검색 결과가 없습니다.\n"
     ]
    },
    {
     "name": "stderr",
     "output_type": "stream",
     "text": [
      "\n"
     ]
    }
   ],
   "source": [
    "# k_var = [\"관리건축물대장PK\",\"건물명\",\"대지면적\",\"건축면적\",\"연면적\",\"용적률산정연면적\",\"용적률\",\"세대수\",\"가구수\"]\n",
    "# v_var = [\"mgmBldrgstPk\",\"bldNm\",\"platArea\",\"archArea\",\"totArea\",\"vlRatEstmTotArea\",\"vlRat\",\"hhldCnt\",\"fmlyCnt\"]\n",
    "# building_tst = get_building(trans_address_tst, new_address_tst,k_var,v_var,API_KEY=API_KEY)"
   ]
  },
  {
   "cell_type": "code",
   "execution_count": null,
   "metadata": {},
   "outputs": [],
   "source": [
    "k_var = [\"관리건축물대장PK\",\"건물명\",\"연면적\",\"옥내기계식대수\",\"옥외기계식대수\",\"옥내자주식대수\",\"옥외자주식대수\"]\n",
    "v_var = [\"mgmBldrgstPk\",\"bldNm\",\"totArea\",\"indrMechUtcnt\",\"oudrMechUtcnt\",\"\tindrAutoUtcnt\",\"oudrAutoUtcnt\"]\n",
    "building_tst = get_building(trans_address_tst, new_address_tst,k_var,v_var,API_KEY=API_KEY)"
   ]
  },
  {
   "cell_type": "code",
   "execution_count": 132,
   "metadata": {},
   "outputs": [],
   "source": [
    "filepath = \"../External3\"\n",
    "building_tr.to_csv(os.path.join(filepath,\"building_tr.csv\"),index=False)\n",
    "building_tst.to_csv(os.path.join(filepath,\"building_tst.csv\"),index=False)"
   ]
  },
  {
   "cell_type": "code",
   "execution_count": 47,
   "metadata": {},
   "outputs": [
    {
     "data": {
      "text/html": [
       "<div>\n",
       "<style scoped>\n",
       "    .dataframe tbody tr th:only-of-type {\n",
       "        vertical-align: middle;\n",
       "    }\n",
       "\n",
       "    .dataframe tbody tr th {\n",
       "        vertical-align: top;\n",
       "    }\n",
       "\n",
       "    .dataframe thead th {\n",
       "        text-align: right;\n",
       "    }\n",
       "</style>\n",
       "<table border=\"1\" class=\"dataframe\">\n",
       "  <thead>\n",
       "    <tr style=\"text-align: right;\">\n",
       "      <th></th>\n",
       "      <th>train</th>\n",
       "      <th>test</th>\n",
       "    </tr>\n",
       "  </thead>\n",
       "  <tbody>\n",
       "    <tr>\n",
       "      <th>관리건축물대장PK</th>\n",
       "      <td>24</td>\n",
       "      <td>5</td>\n",
       "    </tr>\n",
       "    <tr>\n",
       "      <th>건물명</th>\n",
       "      <td>24</td>\n",
       "      <td>5</td>\n",
       "    </tr>\n",
       "    <tr>\n",
       "      <th>대지면적</th>\n",
       "      <td>24</td>\n",
       "      <td>5</td>\n",
       "    </tr>\n",
       "    <tr>\n",
       "      <th>건축면적</th>\n",
       "      <td>24</td>\n",
       "      <td>5</td>\n",
       "    </tr>\n",
       "    <tr>\n",
       "      <th>연면적</th>\n",
       "      <td>24</td>\n",
       "      <td>5</td>\n",
       "    </tr>\n",
       "    <tr>\n",
       "      <th>용적률산정연면적</th>\n",
       "      <td>24</td>\n",
       "      <td>5</td>\n",
       "    </tr>\n",
       "    <tr>\n",
       "      <th>용적률</th>\n",
       "      <td>24</td>\n",
       "      <td>5</td>\n",
       "    </tr>\n",
       "    <tr>\n",
       "      <th>세대수</th>\n",
       "      <td>24</td>\n",
       "      <td>5</td>\n",
       "    </tr>\n",
       "    <tr>\n",
       "      <th>가구수</th>\n",
       "      <td>24</td>\n",
       "      <td>5</td>\n",
       "    </tr>\n",
       "    <tr>\n",
       "      <th>도로명주소</th>\n",
       "      <td>0</td>\n",
       "      <td>0</td>\n",
       "    </tr>\n",
       "    <tr>\n",
       "      <th>지번주소</th>\n",
       "      <td>0</td>\n",
       "      <td>0</td>\n",
       "    </tr>\n",
       "  </tbody>\n",
       "</table>\n",
       "</div>"
      ],
      "text/plain": [
       "           train  test\n",
       "관리건축물대장PK     24     5\n",
       "건물명           24     5\n",
       "대지면적          24     5\n",
       "건축면적          24     5\n",
       "연면적           24     5\n",
       "용적률산정연면적      24     5\n",
       "용적률           24     5\n",
       "세대수           24     5\n",
       "가구수           24     5\n",
       "도로명주소          0     0\n",
       "지번주소           0     0"
      ]
     },
     "execution_count": 47,
     "metadata": {},
     "output_type": "execute_result"
    }
   ],
   "source": [
    "filepath = \"../ProcessedData\"\n",
    "building_tr = pd.read_csv(os.path.join(filepath,\"building_tr.csv\"))\n",
    "building_tst = pd.read_csv(os.path.join(filepath,\"building_tst.csv\"))\n",
    "# NA 개수\n",
    "pd.DataFrame({'train':building_tr.isna().sum(),\n",
    "              'test':building_tst.isna().sum()})"
   ]
  },
  {
   "cell_type": "code",
   "execution_count": null,
   "metadata": {},
   "outputs": [],
   "source": []
  }
 ],
 "metadata": {
  "kernelspec": {
   "display_name": "Python 3",
   "language": "python",
   "name": "python3"
  },
  "language_info": {
   "codemirror_mode": {
    "name": "ipython",
    "version": 3
   },
   "file_extension": ".py",
   "mimetype": "text/x-python",
   "name": "python",
   "nbconvert_exporter": "python",
   "pygments_lexer": "ipython3",
   "version": "3.7.10"
  }
 },
 "nbformat": 4,
 "nbformat_minor": 4
}
