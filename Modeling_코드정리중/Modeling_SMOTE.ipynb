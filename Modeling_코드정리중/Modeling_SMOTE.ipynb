{
 "cells": [
  {
   "cell_type": "code",
   "execution_count": 1,
   "metadata": {},
   "outputs": [],
   "source": [
    "import pandas as pd\n",
    "import numpy as np\n",
    "\n",
    "# Visualization\n",
    "import seaborn as sns\n",
    "import matplotlib\n",
    "import matplotlib.pyplot as plt\n",
    "%matplotlib inline\n",
    "from matplotlib import font_manager, rc\n",
    "plt.rcParams['font.family'] = 'NanumGothic'\n",
    "import platform\n",
    "if platform.system() == 'Windows':\n",
    "    font_name = font_manager.FontProperties(fname=\"c:/Windows/Fonts/malgun.ttf\").get_name()\n",
    "    rc('font', family=font_name)\n",
    "else:    \n",
    "    rc('font', family='AppleGothic')\n",
    "\n",
    "matplotlib.rcParams['axes.unicode_minus'] = False"
   ]
  },
  {
   "cell_type": "code",
   "execution_count": 2,
   "metadata": {},
   "outputs": [],
   "source": [
    "import os\n",
    "path = os.path.dirname(os.getcwd())\n",
    "path = os.path.dirname(path)\n",
    "path = os.path.join(path, \"Daesamanlap\\\\ProcessedData\")\n",
    "train = pd.read_csv(os.path.join(path,\"merged_train.csv\"))\n",
    "test = pd.read_csv(os.path.join(path,\"merged_test.csv\"))"
   ]
  },
  {
   "cell_type": "code",
   "execution_count": 3,
   "metadata": {},
   "outputs": [],
   "source": [
    "import warnings\n",
    "warnings.filterwarnings(action='ignore')"
   ]
  },
  {
   "cell_type": "code",
   "execution_count": 4,
   "metadata": {},
   "outputs": [],
   "source": [
    "# pd.set_option('display.max_rows', None)"
   ]
  },
  {
   "cell_type": "code",
   "execution_count": 5,
   "metadata": {},
   "outputs": [],
   "source": [
    "train=train.drop_duplicates(keep='first')\n",
    "test=test.drop_duplicates(keep='first')"
   ]
  },
  {
   "cell_type": "markdown",
   "metadata": {},
   "source": [
    "## 1. EDA 및 전처리(baseline: MSE 98)"
   ]
  },
  {
   "cell_type": "markdown",
   "metadata": {},
   "source": [
    "### 1) 상가비율"
   ]
  },
  {
   "cell_type": "code",
   "execution_count": 6,
   "metadata": {},
   "outputs": [],
   "source": [
    "tmp = train.groupby(['단지코드','임대건물구분']).count().iloc[:,:1].reset_index()\n",
    "store = tmp[tmp['임대건물구분']=='상가'].reset_index(drop=True)[['단지코드','총세대수']].rename(columns={'총세대수':'상가수'})\n",
    "apt = tmp[tmp['임대건물구분']=='아파트'].reset_index(drop=True)[['단지코드','총세대수']].rename(columns={'총세대수':'아파트수'})\n",
    "total = pd.merge(apt,store,on='단지코드',how='left').fillna(0)\n",
    "total['상가비율'] = total.apply(lambda x : x['상가수']/(x['아파트수']+x['상가수']),axis=1)\n",
    "train = pd.merge(train,total[['단지코드','상가비율']],on='단지코드',how='left')"
   ]
  },
  {
   "cell_type": "code",
   "execution_count": 7,
   "metadata": {},
   "outputs": [],
   "source": [
    "tmp = test.groupby(['단지코드','임대건물구분']).count().iloc[:,:1].reset_index()\n",
    "store = tmp[tmp['임대건물구분']=='상가'].reset_index(drop=True)[['단지코드','총세대수']].rename(columns={'총세대수':'상가수'})\n",
    "apt = tmp[tmp['임대건물구분']=='아파트'].reset_index(drop=True)[['단지코드','총세대수']].rename(columns={'총세대수':'아파트수'})\n",
    "total = pd.merge(apt,store,on='단지코드',how='left').fillna(0)\n",
    "total['상가비율'] = total.apply(lambda x : x['상가수']/(x['아파트수']+x['상가수']),axis=1)\n",
    "test = pd.merge(test,total[['단지코드','상가비율']],on='단지코드',how='left')"
   ]
  },
  {
   "cell_type": "markdown",
   "metadata": {},
   "source": [
    "### 2) 세대당가능주차면수"
   ]
  },
  {
   "cell_type": "code",
   "execution_count": 8,
   "metadata": {},
   "outputs": [],
   "source": [
    "train['세대당_가능주차면수'] = train.apply(lambda x : x['단지내주차면수']/x['총세대수'],axis=1)\n",
    "test['세대당_가능주차면수'] = test.apply(lambda x : x['단지내주차면수']/x['총세대수'],axis=1)"
   ]
  },
  {
   "cell_type": "markdown",
   "metadata": {},
   "source": [
    "### 3) 공가비율"
   ]
  },
  {
   "cell_type": "code",
   "execution_count": 9,
   "metadata": {},
   "outputs": [],
   "source": [
    "train['공가비율'] = train.apply(lambda x : x['공가수']/x['총세대수'],axis=1)\n",
    "test['공가비율'] = test.apply(lambda x : x['공가수']/x['총세대수'],axis=1)"
   ]
  },
  {
   "cell_type": "markdown",
   "metadata": {},
   "source": [
    "### 4) 대형전용면적"
   ]
  },
  {
   "cell_type": "code",
   "execution_count": 10,
   "metadata": {},
   "outputs": [],
   "source": [
    "level = 85"
   ]
  },
  {
   "cell_type": "code",
   "execution_count": 11,
   "metadata": {},
   "outputs": [],
   "source": [
    "train['대형전용면적'] = train['전용면적'].apply(lambda x : 1 if x>level else 0)\n",
    "test['대형전용면적'] = test['전용면적'].apply(lambda x : 1 if x>level else 0)"
   ]
  },
  {
   "cell_type": "markdown",
   "metadata": {},
   "source": [
    "### 5) 공급유형\n",
    "- 공공임대 5년/10년 $\\rightarrow$ 공공임대(단기)"
   ]
  },
  {
   "cell_type": "code",
   "execution_count": 12,
   "metadata": {},
   "outputs": [],
   "source": [
    "train.loc[train.공급유형.isin(['공공임대(5년)', '공공임대(10년)']), '공급유형'] = '공공임대(단기)'\n",
    "test.loc[test.공급유형.isin(['공공임대(5년)', '공공임대(10년)']), '공급유형'] = '공공임대(단기)'"
   ]
  },
  {
   "cell_type": "markdown",
   "metadata": {},
   "source": [
    "- 1차원으로 합치기"
   ]
  },
  {
   "cell_type": "code",
   "execution_count": 13,
   "metadata": {},
   "outputs": [],
   "source": [
    "not_unique = ['공급유형','전용면적','임대건물구분','전용면적별세대수','대형전용면적','임대보증금','임대료','자격유형']"
   ]
  },
  {
   "cell_type": "code",
   "execution_count": 14,
   "metadata": {},
   "outputs": [],
   "source": [
    "train_one = train.drop(not_unique,axis=1).drop_duplicates().reset_index(drop=True)\n",
    "test_one = test.drop(not_unique,axis=1).drop_duplicates().reset_index(drop=True)"
   ]
  },
  {
   "cell_type": "markdown",
   "metadata": {},
   "source": [
    "- 전용면적별세대수 채우기"
   ]
  },
  {
   "cell_type": "code",
   "execution_count": 15,
   "metadata": {},
   "outputs": [],
   "source": [
    "for i in train['공급유형'].unique():\n",
    "    train_one[i] = 0\n",
    "    test_one[i] = 0"
   ]
  },
  {
   "cell_type": "code",
   "execution_count": 16,
   "metadata": {},
   "outputs": [],
   "source": [
    "sample = pd.DataFrame(train.groupby(['단지코드','공급유형']).sum()['전용면적별세대수']).reset_index()\n",
    "for i in sample.index:\n",
    "    code = sample.loc[i,'단지코드']\n",
    "    col = sample.loc[i,'공급유형']\n",
    "    val = sample.loc[i,'전용면적별세대수']  # 전용면적별세대수\n",
    "    ind = train_one[train_one['단지코드']==code].index\n",
    "    train_one.loc[ind,col] = val"
   ]
  },
  {
   "cell_type": "code",
   "execution_count": 17,
   "metadata": {},
   "outputs": [],
   "source": [
    "sample = pd.DataFrame(test.groupby(['단지코드','공급유형']).sum()['전용면적별세대수']).reset_index()\n",
    "for i in sample.index:\n",
    "    code = sample.loc[i,'단지코드']\n",
    "    col = sample.loc[i,'공급유형']\n",
    "    val = sample.loc[i,'전용면적별세대수']  # 전용면적별세대수\n",
    "    ind = test_one[test_one['단지코드']==code].index\n",
    "    test_one.loc[ind,col] = val"
   ]
  },
  {
   "cell_type": "markdown",
   "metadata": {},
   "source": [
    "### 6) 임대료 임대보증금 : 평균"
   ]
  },
  {
   "cell_type": "code",
   "execution_count": 18,
   "metadata": {},
   "outputs": [],
   "source": [
    "sample = train.groupby('단지코드').mean()[['임대료','임대보증금']].reset_index()\n",
    "train_one=pd.merge(train_one, sample, on=\"단지코드\", how=\"left\")"
   ]
  },
  {
   "cell_type": "code",
   "execution_count": 19,
   "metadata": {},
   "outputs": [],
   "source": [
    "sample = test.groupby('단지코드').mean()[['임대료','임대보증금']].reset_index()\n",
    "test_one=pd.merge(test_one, sample, on=\"단지코드\", how=\"left\")"
   ]
  },
  {
   "cell_type": "markdown",
   "metadata": {},
   "source": [
    "### 연면적 / 전용면적은 나중에 drop"
   ]
  },
  {
   "cell_type": "code",
   "execution_count": 20,
   "metadata": {},
   "outputs": [],
   "source": [
    "sample = train.groupby('단지코드').mean()[['전용면적']].reset_index()\n",
    "train_one=pd.merge(train_one, sample, on=\"단지코드\", how=\"left\")\n",
    "\n",
    "sample = test.groupby('단지코드').mean()[['전용면적']].reset_index()\n",
    "test_one=pd.merge(test_one, sample, on=\"단지코드\", how=\"left\")\n",
    "\n",
    "train_one[\"연면적new\"]=train_one.연면적\n",
    "test_one[\"연면적new\"]=test_one.연면적\n",
    "\n",
    "train_one.loc[(train_one.연면적new<train_one.전용면적), \"연면적new\"]=np.nan\n",
    "test_one.loc[(test_one.연면적new<test_one.전용면적), \"연면적new\"]=np.nan"
   ]
  },
  {
   "cell_type": "code",
   "execution_count": 21,
   "metadata": {},
   "outputs": [],
   "source": [
    "from sklearn.impute import KNNImputer\n",
    "imputer = KNNImputer(n_neighbors=2) # 12345 중에 2가 제일 좋음\n",
    "\n",
    "im=train_one[[\"단지내주차면수\", \"총세대수\", \"전용면적\", \"연면적new\"]]\n",
    "im = pd.DataFrame(imputer.fit_transform(im),\n",
    "                     columns = im.columns)\n",
    "\n",
    "train_one[\"연면적new\"]=im[\"연면적new\"]\n",
    "\n",
    "imp=test_one[[\"단지내주차면수\", \"총세대수\", \"전용면적\", \"연면적new\"]]\n",
    "imp = pd.DataFrame(imputer.fit_transform(imp),\n",
    "                     columns = imp.columns)\n",
    "\n",
    "test_one[\"연면적new\"]=imp[\"연면적new\"]"
   ]
  },
  {
   "cell_type": "markdown",
   "metadata": {},
   "source": [
    "### 7) 대형전용면적 총개수"
   ]
  },
  {
   "cell_type": "code",
   "execution_count": 22,
   "metadata": {},
   "outputs": [],
   "source": [
    "sample = pd.DataFrame(train.groupby('단지코드')['대형전용면적'].sum()).reset_index()\n",
    "train_one = pd.merge(train_one, sample, on=\"단지코드\", how=\"left\")"
   ]
  },
  {
   "cell_type": "code",
   "execution_count": 23,
   "metadata": {},
   "outputs": [],
   "source": [
    "sample = pd.DataFrame(test.groupby('단지코드')['대형전용면적'].sum()).reset_index()\n",
    "test_one = pd.merge(test_one, sample, on=\"단지코드\", how=\"left\")"
   ]
  },
  {
   "cell_type": "markdown",
   "metadata": {},
   "source": [
    "### 8) 변수제거"
   ]
  },
  {
   "cell_type": "code",
   "execution_count": 24,
   "metadata": {},
   "outputs": [],
   "source": [
    "col = ['단지명','도로명주소','subway_name','임대상가','전용면적']"
   ]
  },
  {
   "cell_type": "code",
   "execution_count": 25,
   "metadata": {},
   "outputs": [],
   "source": [
    "train_one = train_one.drop(col,axis=1)\n",
    "test_one = test_one.drop(col,axis=1)"
   ]
  },
  {
   "cell_type": "markdown",
   "metadata": {},
   "source": [
    "## 2. 데이터 나누기: 단지내주차면수 987 기준"
   ]
  },
  {
   "cell_type": "code",
   "execution_count": 26,
   "metadata": {},
   "outputs": [],
   "source": [
    "train_up = train_one[train_one['단지내주차면수']>=987].reset_index(drop=True)\n",
    "train_down = train_one[train_one['단지내주차면수']<987].reset_index(drop=True)"
   ]
  },
  {
   "cell_type": "code",
   "execution_count": 27,
   "metadata": {},
   "outputs": [],
   "source": [
    "test_up = test_one[test_one['단지내주차면수']>=987].reset_index(drop=True)\n",
    "test_down = test_one[test_one['단지내주차면수']<987].reset_index(drop=True)"
   ]
  },
  {
   "cell_type": "markdown",
   "metadata": {},
   "source": [
    "### 1) train/test up : area 변수 추가"
   ]
  },
  {
   "cell_type": "code",
   "execution_count": 28,
   "metadata": {},
   "outputs": [],
   "source": [
    "def areafunc(x):\n",
    "    if x in ['제주특별자치도','경상남도','부산광역시']:\n",
    "        return 0 \n",
    "    elif x in ['광주광역시','세종특별자치시','경상북도','전라북도','서울특별시']:\n",
    "        return 1\n",
    "    elif x in ['대구광역시']:\n",
    "        return 2\n",
    "    else: \n",
    "        return 3"
   ]
  },
  {
   "cell_type": "code",
   "execution_count": 29,
   "metadata": {},
   "outputs": [],
   "source": [
    "train_up['지역'] = train_up['지역'].apply(lambda x : areafunc(x))\n",
    "test_up['지역'] = test_up['지역'].apply(lambda x : areafunc(x))"
   ]
  },
  {
   "cell_type": "code",
   "execution_count": 30,
   "metadata": {},
   "outputs": [
    {
     "name": "stdout",
     "output_type": "stream",
     "text": [
      "[3 0 1 2] [3 1 0 2]\n"
     ]
    }
   ],
   "source": [
    "print(train_up.지역.unique(), test_up.지역.unique())"
   ]
  },
  {
   "cell_type": "code",
   "execution_count": 31,
   "metadata": {},
   "outputs": [],
   "source": [
    "train_up = train_up.join(pd.get_dummies(train_up['지역'],prefix='area')).iloc[:,:-1]\n",
    "test_up = test_up.join(pd.get_dummies(test_up['지역'],prefix='area')).iloc[:,:-1]"
   ]
  },
  {
   "cell_type": "code",
   "execution_count": 32,
   "metadata": {},
   "outputs": [],
   "source": [
    "# X_cor = train_up.select_dtypes(include=\"number\")\n",
    "# plt.subplots(figsize=(20,15))\n",
    "# sns.heatmap(X_cor.corr(), cbar = True, annot = True, fmt = '.2f', square = True, cmap = 'Blues', linewidths=.5)"
   ]
  },
  {
   "cell_type": "code",
   "execution_count": 33,
   "metadata": {},
   "outputs": [],
   "source": [
    "# X_cor = test_up.select_dtypes(include=\"number\")\n",
    "# plt.subplots(figsize=(20,15))\n",
    "# sns.heatmap(X_cor.corr(), cbar = True, annot = True, fmt = '.2f', square = True, cmap = 'Blues', linewidths=.5)"
   ]
  },
  {
   "cell_type": "markdown",
   "metadata": {},
   "source": [
    "## 3. 모델링"
   ]
  },
  {
   "cell_type": "code",
   "execution_count": 34,
   "metadata": {},
   "outputs": [],
   "source": [
    "from sklearn.model_selection import train_test_split\n",
    "from sklearn.model_selection import cross_val_score, KFold, RepeatedKFold\n",
    "from sklearn.metrics import mean_absolute_error\n",
    "from catboost import CatBoostRegressor"
   ]
  },
  {
   "cell_type": "code",
   "execution_count": 35,
   "metadata": {},
   "outputs": [],
   "source": [
    "def fit(X_train, X_test, y_train, y_test, model):\n",
    "    try:\n",
    "        model.fit(X_train, y_train, verbose=False)\n",
    "    except:\n",
    "        model.fit(X_train, y_train)\n",
    "    tst_pred = model.predict(X_test)\n",
    "    error = mean_absolute_error(y_test,tst_pred)\n",
    "    return model, tst_pred, error\n",
    "\n",
    "\n",
    "def fit_models(X, y, models, cv=False):\n",
    "    X = np.array(X.reset_index(drop=True))\n",
    "    y = np.array(y.reset_index(drop=True))\n",
    "    best_error = 10000\n",
    "    best_tst_pred = 0\n",
    "    best_model = \"\"\n",
    "    if cv==False:\n",
    "        X_train, X_test, y_train, y_test = train_test_split(X, y, test_size=0.3, shuffle=True,random_state=2021)\n",
    "        for m in models:\n",
    "            model, tst_pred, error = fit(X_train, X_test, y_train, y_test, m)\n",
    "            if best_error > error:\n",
    "                best_error = error\n",
    "                best_tst_pred = tst_pred\n",
    "                best_model = model\n",
    "    else:\n",
    "        best_tst_idx = []\n",
    "        kf = KFold(n_splits = 5, shuffle=True,random_state = 2021)\n",
    "        for m in models:\n",
    "            mae = []\n",
    "            pred= []\n",
    "            tst_idx = []\n",
    "            for train_index, test_index in kf.split(X, y):\n",
    "                X_train, X_test = X[train_index], X[test_index]\n",
    "                y_train, y_test = y[train_index], y[test_index]\n",
    "                model, tst_pred, error = fit(X_train, X_test, y_train, y_test, m)\n",
    "                mae.append(error)\n",
    "                pred.append(tst_pred.tolist())\n",
    "                tst_idx.append(test_index.tolist())\n",
    "            cv_error = np.mean(mae)\n",
    "            if best_error > cv_error:\n",
    "                best_error = cv_error\n",
    "                best_tst_pred = pred\n",
    "                best_tst_idx = sum(tst_idx, [])\n",
    "                best_model = model\n",
    "    best_tst_pred = sum(best_tst_pred,[])\n",
    "    best_tst_pred = dict(zip(best_tst_idx,best_tst_pred))\n",
    "    try:\n",
    "        best_model = best_model.fit(np.concatenate((X_train, X_test),axis=0), \n",
    "                                                np.concatenate((y_train, y_test),axis=0), \n",
    "                                                verbose=False)\n",
    "    except:\n",
    "        best_model = best_model.fit(np.concatenate((X_train, X_test),axis=0), \n",
    "                                        np.concatenate((y_train, y_test),axis=0))\n",
    "    return best_model, best_tst_pred, best_error"
   ]
  },
  {
   "cell_type": "markdown",
   "metadata": {},
   "source": [
    "### 1) train/test down"
   ]
  },
  {
   "cell_type": "code",
   "execution_count": 36,
   "metadata": {},
   "outputs": [],
   "source": [
    "X = train_down.drop(columns=['단지코드','등록차량수', \"연면적new\"],axis=1)\n",
    "X = pd.get_dummies(X, drop_first=True) \n",
    "y = train_down['등록차량수']"
   ]
  },
  {
   "cell_type": "code",
   "execution_count": 37,
   "metadata": {},
   "outputs": [
    {
     "name": "stdout",
     "output_type": "stream",
     "text": [
      "MAE :  105.37534703159452\n"
     ]
    }
   ],
   "source": [
    "models = [CatBoostRegressor(random_state=2021, loss_function = 'MAE')]\n",
    "model_down,pred_down,error_down = fit_models(X, y, models, cv=True)\n",
    "print('MAE : ',error_down)"
   ]
  },
  {
   "cell_type": "code",
   "execution_count": 38,
   "metadata": {},
   "outputs": [
    {
     "data": {
      "text/plain": [
       "<matplotlib.axes._subplots.AxesSubplot at 0x1d966dbe198>"
      ]
     },
     "execution_count": 38,
     "metadata": {},
     "output_type": "execute_result"
    },
    {
     "data": {
      "image/png": "[encoded data removed]",
      "text/plain": [
       "<Figure size 576x720 with 1 Axes>"
      ]
     },
     "metadata": {
      "needs_background": "light"
     },
     "output_type": "display_data"
    }
   ],
   "source": [
    "plt.figure(figsize=(8,10))\n",
    "sns.barplot(y = X.columns[np.argsort(model_down.feature_importances_)], x = list(model_down.feature_importances_[np.argsort(model_down.feature_importances_)]))"
   ]
  },
  {
   "cell_type": "markdown",
   "metadata": {},
   "source": [
    "### 2) train/test up"
   ]
  },
  {
   "cell_type": "code",
   "execution_count": 39,
   "metadata": {},
   "outputs": [],
   "source": [
    "X = train_up.drop(columns=['단지코드','등록차량수','지역','상가비율', \"연면적\"],axis=1)\n",
    "X = X[['총세대수', '공가수', '지하철역', '버스정류장', '단지내주차면수',  '연면적new','위도', '경도',\n",
    "       'subway_dist', '환승역 수', '총인구수', '세대당_인구', '남/여비율', '남/여_0~19세',\n",
    "       '남/여_20~39세', '남/여_40~69세', '남/여_70세이상', '0~19세_비율', '20~39세_비율',\n",
    "       '40~69세_비율', '70세이상_비율', '세대당_가능주차면수', '공가비율', '국민임대', '영구임대',\n",
    "       '공공임대(단기)', '장기전세', '행복주택', '공공임대(분납)', '공공분양', '공공임대(50년)', '임대료',\n",
    "       '임대보증금' , '대형전용면적', 'area_0', 'area_1', 'area_2', ]]\n",
    "y = train_up['등록차량수']"
   ]
  },
  {
   "cell_type": "code",
   "execution_count": 40,
   "metadata": {},
   "outputs": [
    {
     "name": "stdout",
     "output_type": "stream",
     "text": [
      "MAE :  291.87954235273975\n"
     ]
    }
   ],
   "source": [
    "models = [CatBoostRegressor(random_state=2021, loss_function = 'MAE')]\n",
    "model_up,pred_up,error_up = fit_models(X, y, models, cv=True)\n",
    "print('MAE : ',error_up)"
   ]
  },
  {
   "cell_type": "code",
   "execution_count": 41,
   "metadata": {
    "scrolled": true
   },
   "outputs": [
    {
     "data": {
      "text/plain": [
       "<matplotlib.axes._subplots.AxesSubplot at 0x1d9670250f0>"
      ]
     },
     "execution_count": 41,
     "metadata": {},
     "output_type": "execute_result"
    },
    {
     "data": {
      "image/png": "[encoded data removed]",
      "text/plain": [
       "<Figure size 576x720 with 1 Axes>"
      ]
     },
     "metadata": {
      "needs_background": "light"
     },
     "output_type": "display_data"
    }
   ],
   "source": [
    "plt.figure(figsize=(8,10))\n",
    "sns.barplot(y = X.columns[np.argsort(model_up.feature_importances_)], x = list(model_up.feature_importances_[np.argsort(model_up.feature_importances_)]))"
   ]
  },
  {
   "cell_type": "markdown",
   "metadata": {},
   "source": [
    "# SMOTE:\n",
    "### 우리의 Model이 잘 맞추지 못하는 데이터와 비슷한 데이터들을 많이 만들어 학습을 시키면 성적이 좋아지지 않을까?"
   ]
  },
  {
   "cell_type": "code",
   "execution_count": 42,
   "metadata": {},
   "outputs": [],
   "source": [
    "df=pd.merge(pd.DataFrame(pred_up,index=[0]).T.reset_index(),\n",
    "        pd.DataFrame(train_up.단지코드.reset_index(drop=True)).reset_index(),\n",
    "         on=\"index\")\n",
    "\n",
    "df=df.drop(columns=[\"index\"])\n",
    "df.columns=[\"pred_up\", \"단지코드\"]"
   ]
  },
  {
   "cell_type": "code",
   "execution_count": 43,
   "metadata": {},
   "outputs": [],
   "source": [
    "df=pd.merge(train_one, df, on=\"단지코드\", how='inner')"
   ]
  },
  {
   "cell_type": "code",
   "execution_count": 44,
   "metadata": {},
   "outputs": [],
   "source": [
    "df[\"diff\"]=df.등록차량수-df.pred_up"
   ]
  },
  {
   "cell_type": "code",
   "execution_count": 45,
   "metadata": {},
   "outputs": [
    {
     "data": {
      "text/plain": [
       "count      52.000000\n",
       "mean       27.398661\n",
       "std       379.708202\n",
       "min      -811.158683\n",
       "25%      -197.831795\n",
       "50%        21.942927\n",
       "75%       228.477077\n",
       "max      1051.813397\n",
       "Name: diff, dtype: float64"
      ]
     },
     "execution_count": 45,
     "metadata": {},
     "output_type": "execute_result"
    }
   ],
   "source": [
    "df[\"diff\"].describe()"
   ]
  },
  {
   "cell_type": "code",
   "execution_count": 46,
   "metadata": {},
   "outputs": [
    {
     "data": {
      "text/plain": [
       "<matplotlib.axes._subplots.AxesSubplot at 0x1d967247358>"
      ]
     },
     "execution_count": 46,
     "metadata": {},
     "output_type": "execute_result"
    },
    {
     "data": {
      "image/png": "[encoded data removed]",
      "text/plain": [
       "<Figure size 432x288 with 1 Axes>"
      ]
     },
     "metadata": {
      "needs_background": "light"
     },
     "output_type": "display_data"
    }
   ],
   "source": [
    "sns.histplot(df[\"diff\"])"
   ]
  },
  {
   "cell_type": "code",
   "execution_count": 47,
   "metadata": {},
   "outputs": [],
   "source": [
    "df[\"label\"]=0"
   ]
  },
  {
   "cell_type": "code",
   "execution_count": 48,
   "metadata": {},
   "outputs": [],
   "source": [
    "df.loc[(df[\"diff\"]>300), \"label\"]=1\n",
    "df.loc[(df[\"diff\"]<-300), \"label\"]=1"
   ]
  },
  {
   "cell_type": "code",
   "execution_count": 49,
   "metadata": {},
   "outputs": [
    {
     "data": {
      "text/plain": [
       "0    34\n",
       "1    18\n",
       "Name: label, dtype: int64"
      ]
     },
     "execution_count": 49,
     "metadata": {},
     "output_type": "execute_result"
    }
   ],
   "source": [
    "df[\"label\"].value_counts()"
   ]
  },
  {
   "cell_type": "code",
   "execution_count": 50,
   "metadata": {},
   "outputs": [],
   "source": [
    "df_sm= df[[\"단지코드\", \"label\"]]"
   ]
  },
  {
   "cell_type": "code",
   "execution_count": 51,
   "metadata": {},
   "outputs": [],
   "source": [
    "train_sm= train_up.drop(columns=['지역','상가비율', \"연면적\"], axis=1)\n",
    "train_sm = train_sm[['단지코드','등록차량수','총세대수', '공가수', '지하철역', '버스정류장', '단지내주차면수',  '연면적new','위도', '경도',\n",
    "       'subway_dist', '환승역 수', '총인구수', '세대당_인구', '남/여비율', '남/여_0~19세',\n",
    "       '남/여_20~39세', '남/여_40~69세', '남/여_70세이상', '0~19세_비율', '20~39세_비율',\n",
    "       '40~69세_비율', '70세이상_비율', '세대당_가능주차면수', '공가비율', '국민임대', '영구임대',\n",
    "       '공공임대(단기)', '장기전세', '행복주택', '공공임대(분납)', '공공분양', '공공임대(50년)', '임대료',\n",
    "       '임대보증금' , '대형전용면적', 'area_0', 'area_1', 'area_2', ]]"
   ]
  },
  {
   "cell_type": "code",
   "execution_count": 52,
   "metadata": {},
   "outputs": [],
   "source": [
    "train_sm= pd.merge(train_sm, df_sm, on=\"단지코드\", how=\"inner\")"
   ]
  },
  {
   "cell_type": "code",
   "execution_count": 53,
   "metadata": {},
   "outputs": [],
   "source": [
    "X_sm= train_sm.drop(columns=['단지코드'], axis=1)\n",
    "X_sm = train_sm[['등록차량수','총세대수', '공가수', '지하철역', '버스정류장', '단지내주차면수',  '연면적new','위도', '경도',\n",
    "       'subway_dist', '환승역 수', '총인구수', '세대당_인구', '남/여비율', '남/여_0~19세',\n",
    "       '남/여_20~39세', '남/여_40~69세', '남/여_70세이상', '0~19세_비율', '20~39세_비율',\n",
    "       '40~69세_비율', '70세이상_비율', '세대당_가능주차면수', '공가비율', '국민임대', '영구임대',\n",
    "       '공공임대(단기)', '장기전세', '행복주택', '공공임대(분납)', '공공분양', '공공임대(50년)', '임대료',\n",
    "       '임대보증금' , '대형전용면적', 'area_0', 'area_1', 'area_2', ]]\n",
    "y_sm= train_sm[\"label\"]"
   ]
  },
  {
   "cell_type": "code",
   "execution_count": 54,
   "metadata": {
    "scrolled": false
   },
   "outputs": [
    {
     "data": {
      "text/plain": [
       "1    34\n",
       "0    34\n",
       "Name: label, dtype: int64"
      ]
     },
     "execution_count": 54,
     "metadata": {},
     "output_type": "execute_result"
    }
   ],
   "source": [
    "from imblearn.over_sampling import SMOTE\n",
    "samp = SMOTE()\n",
    "X_sm,y_sm = samp.fit_resample(X_sm,y_sm)\n",
    "y_sm.value_counts()"
   ]
  },
  {
   "cell_type": "code",
   "execution_count": 79,
   "metadata": {},
   "outputs": [],
   "source": [
    "y= X_sm[\"등록차량수\"]\n",
    "X= X_sm.drop(columns=['등록차량수'], axis=1)"
   ]
  },
  {
   "cell_type": "code",
   "execution_count": 96,
   "metadata": {
    "scrolled": true
   },
   "outputs": [
    {
     "name": "stdout",
     "output_type": "stream",
     "text": [
      "MAE :  236.5208238945235\n"
     ]
    }
   ],
   "source": [
    "models = [CatBoostRegressor(random_state=2021, loss_function = 'MAE')]\n",
    "model_up,pred_up,error_up = fit_models(X, y, models, cv=True)\n",
    "print('MAE : ',error_up)"
   ]
  },
  {
   "cell_type": "code",
   "execution_count": 81,
   "metadata": {
    "scrolled": false
   },
   "outputs": [
    {
     "data": {
      "text/plain": [
       "<matplotlib.axes._subplots.AxesSubplot at 0x1dc98accac8>"
      ]
     },
     "execution_count": 81,
     "metadata": {},
     "output_type": "execute_result"
    },
    {
     "data": {
      "image/png": "[encoded data removed]",
      "text/plain": [
       "<Figure size 576x720 with 1 Axes>"
      ]
     },
     "metadata": {
      "needs_background": "light"
     },
     "output_type": "display_data"
    }
   ],
   "source": [
    "plt.figure(figsize=(8,10))\n",
    "sns.barplot(y = X.columns[np.argsort(model_up.feature_importances_)], x = list(model_up.feature_importances_[np.argsort(model_up.feature_importances_)]))"
   ]
  },
  {
   "cell_type": "code",
   "execution_count": 99,
   "metadata": {},
   "outputs": [],
   "source": [
    "pred_=pd.DataFrame(pred_up,index=[0]).T"
   ]
  },
  {
   "cell_type": "code",
   "execution_count": 110,
   "metadata": {},
   "outputs": [],
   "source": [
    "pred_=pred_.sort_index()"
   ]
  },
  {
   "cell_type": "code",
   "execution_count": 111,
   "metadata": {},
   "outputs": [
    {
     "data": {
      "text/plain": [
       "270.15914497126766"
      ]
     },
     "execution_count": 111,
     "metadata": {},
     "output_type": "execute_result"
    }
   ],
   "source": [
    "mean_absolute_error(pred_.iloc[0:51], y.iloc[0:51])"
   ]
  },
  {
   "cell_type": "markdown",
   "metadata": {},
   "source": [
    "## 4. Final prediction"
   ]
  },
  {
   "cell_type": "code",
   "execution_count": 55,
   "metadata": {},
   "outputs": [],
   "source": [
    "col = ['총세대수', '공가수', '지하철역', '버스정류장', '단지내주차면수', '연면적', '위도', '경도',\n",
    "       'subway_dist', '환승역 수', '총인구수', '세대당_인구', '남/여비율', '남/여_0~19세',\n",
    "       '남/여_20~39세', '남/여_40~69세', '남/여_70세이상', '0~19세_비율', '20~39세_비율',\n",
    "       '40~69세_비율', '70세이상_비율', '상가비율', '세대당_가능주차면수', '공가비율', '국민임대', '영구임대',\n",
    "       '공공임대(단기)', '장기전세', '행복주택', '공공임대(분납)', '공공분양', '공공임대(50년)', \n",
    "       '임대료','임대보증금', \n",
    "       '대형전용면적', '지역_경기도', '지역_경상남도', '지역_경상북도', '지역_광주광역시',\n",
    "       '지역_대구광역시', '지역_대전광역시', '지역_부산광역시', '지역_서울특별시', '지역_세종특별자치시',\n",
    "       '지역_울산광역시', '지역_전라남도', '지역_전라북도', '지역_제주특별자치도', '지역_충청남도', '지역_충청북도']"
   ]
  },
  {
   "cell_type": "code",
   "execution_count": 56,
   "metadata": {},
   "outputs": [],
   "source": [
    "X_train = train_down.drop(columns=['단지코드','등록차량수','연면적new'],axis=1)\n",
    "X_train = pd.get_dummies(X_train, drop_first=True) \n",
    "X_train['지역_세종특별자치시'] = 0\n",
    "X_train = X_train[col]\n",
    "y_train = train_down['등록차량수']\n",
    "X_test = test_down.drop(columns=['단지코드'],axis=1)\n",
    "X_test = pd.get_dummies(X_test, drop_first=True) \n",
    "X_test['지역_서울특별시'] = 0\n",
    "X_test = X_test[col]"
   ]
  },
  {
   "cell_type": "code",
   "execution_count": 57,
   "metadata": {},
   "outputs": [],
   "source": [
    "cb_down = CatBoostRegressor(random_state=2021,verbose=False).fit(X_train,y_train)\n",
    "pred_down = cb_down.predict(X_test)"
   ]
  },
  {
   "cell_type": "code",
   "execution_count": 58,
   "metadata": {},
   "outputs": [],
   "source": [
    "col = ['총세대수', '공가수', '지하철역', '버스정류장', '단지내주차면수', '연면적new', '위도', '경도',\n",
    "       'subway_dist', '환승역 수',  '총인구수','세대당_인구','남/여비율', '남/여_0~19세',\n",
    "       '남/여_20~39세', '남/여_40~69세', '남/여_70세이상', '0~19세_비율', '20~39세_비율',\n",
    "       '40~69세_비율', '70세이상_비율', '세대당_가능주차면수', '공가비율', '국민임대', '영구임대',\n",
    "       '공공임대(단기)', '장기전세', '행복주택', '공공임대(분납)', '공공분양', '공공임대(50년)', \n",
    "       '임대료','임대보증금',\n",
    "       '대형전용면적', 'area_0', 'area_1', 'area_2']"
   ]
  },
  {
   "cell_type": "code",
   "execution_count": 59,
   "metadata": {},
   "outputs": [],
   "source": [
    "y_train= X_sm[\"등록차량수\"]\n",
    "X_train= X_sm.drop(columns=['등록차량수'], axis=1)\n",
    "X_train= X_train[col]"
   ]
  },
  {
   "cell_type": "code",
   "execution_count": 60,
   "metadata": {},
   "outputs": [],
   "source": [
    "X_test = test_up.drop(columns=['단지코드','지역'],axis=1)\n",
    "X_test = X_test[col]"
   ]
  },
  {
   "cell_type": "code",
   "execution_count": 61,
   "metadata": {},
   "outputs": [],
   "source": [
    "cb_up = CatBoostRegressor(random_state=2021,\n",
    "                          verbose=False,\n",
    "                          loss_function='MAE').fit(X_train,y_train)\n",
    "pred_up = cb_up.predict(X_test)"
   ]
  },
  {
   "cell_type": "code",
   "execution_count": 62,
   "metadata": {},
   "outputs": [],
   "source": [
    "def get_pred():\n",
    "    res_down = pd.DataFrame()\n",
    "    res_down['code'] = test_down['단지코드'].values\n",
    "    res_down['num'] = pred_down\n",
    "    res_up = pd.DataFrame()\n",
    "    res_up['code'] = test_up['단지코드'].values\n",
    "    res_up['num'] = pred_up \n",
    "    res = pd.concat([res_down,res_up],axis=0).reset_index(drop=True)\n",
    "    return res_down, res_up, res"
   ]
  },
  {
   "cell_type": "code",
   "execution_count": 48,
   "metadata": {},
   "outputs": [],
   "source": [
    "# cb_up.get_all_params()"
   ]
  },
  {
   "cell_type": "code",
   "execution_count": 63,
   "metadata": {},
   "outputs": [
    {
     "data": {
      "text/plain": [
       "<matplotlib.axes._subplots.AxesSubplot at 0x1d96790f0f0>"
      ]
     },
     "execution_count": 63,
     "metadata": {},
     "output_type": "execute_result"
    },
    {
     "data": {
      "image/png": "[encoded data removed]",
      "text/plain": [
       "<Figure size 2160x1080 with 3 Axes>"
      ]
     },
     "metadata": {
      "needs_background": "light"
     },
     "output_type": "display_data"
    }
   ],
   "source": [
    "fig, ax = plt.subplots(3,1,figsize=(30,15))\n",
    "sns.kdeplot(data=train_up,x='등록차량수',ax=ax[0])\n",
    "sns.kdeplot(data=get_pred()[1],x='num',ax=ax[0])\n",
    "sns.kdeplot(data=train_down,x='등록차량수',ax=ax[1])\n",
    "sns.kdeplot(data=get_pred()[0],x='num',ax=ax[1])\n",
    "sns.kdeplot(data=train_one,x='등록차량수',ax=ax[2])\n",
    "sns.kdeplot(data=get_pred()[2],x='num',ax=ax[2])"
   ]
  },
  {
   "cell_type": "markdown",
   "metadata": {},
   "source": [
    "## 5. 기존 score와 비교 및 제출"
   ]
  },
  {
   "cell_type": "code",
   "execution_count": 64,
   "metadata": {},
   "outputs": [],
   "source": [
    "def score(mse):\n",
    "    score = pd.read_csv(\"result/MAE_\"+str(mse)+\".csv\")\n",
    "    score = pd.merge(score,get_pred()[2],on='code',how='inner')\n",
    "    val = test_up['단지코드'].values\n",
    "    score_up = score.loc[score['code'].isin(val),:]\n",
    "    score_down = score.loc[-score['code'].isin(val),:] #y가 새롭게 예측\n",
    "    mae = mean_absolute_error(score['num_x'],score['num_y'])\n",
    "    mae_up = mean_absolute_error(score_up['num_x'],score_up['num_y'])\n",
    "    mae_down = mean_absolute_error(score_down['num_x'],score_down['num_y'])\n",
    "    print('전체 MAE : ',mae)\n",
    "    print('큰 영역 MAE : ',mae_up)\n",
    "    print('작은 영역 MAE : ',mae_down)\n",
    "    return score_up"
   ]
  },
  {
   "cell_type": "code",
   "execution_count": 65,
   "metadata": {
    "scrolled": false
   },
   "outputs": [
    {
     "name": "stdout",
     "output_type": "stream",
     "text": [
      "전체 MAE :  5.933313125360584\n",
      "큰 영역 MAE :  45.90510661862788\n",
      "작은 영역 MAE :  2.8703719068268185e-08\n"
     ]
    },
    {
     "data": {
      "text/html": [
       "<div>\n",
       "<style scoped>\n",
       "    .dataframe tbody tr th:only-of-type {\n",
       "        vertical-align: middle;\n",
       "    }\n",
       "\n",
       "    .dataframe tbody tr th {\n",
       "        vertical-align: top;\n",
       "    }\n",
       "\n",
       "    .dataframe thead th {\n",
       "        text-align: right;\n",
       "    }\n",
       "</style>\n",
       "<table border=\"1\" class=\"dataframe\">\n",
       "  <thead>\n",
       "    <tr style=\"text-align: right;\">\n",
       "      <th></th>\n",
       "      <th>code</th>\n",
       "      <th>num_x</th>\n",
       "      <th>num_y</th>\n",
       "    </tr>\n",
       "  </thead>\n",
       "  <tbody>\n",
       "    <tr>\n",
       "      <th>128</th>\n",
       "      <td>C1128</td>\n",
       "      <td>1149.871199</td>\n",
       "      <td>1195.183297</td>\n",
       "    </tr>\n",
       "    <tr>\n",
       "      <th>129</th>\n",
       "      <td>C1332</td>\n",
       "      <td>1333.142477</td>\n",
       "      <td>1278.213999</td>\n",
       "    </tr>\n",
       "    <tr>\n",
       "      <th>130</th>\n",
       "      <td>C1563</td>\n",
       "      <td>1794.856733</td>\n",
       "      <td>1831.208730</td>\n",
       "    </tr>\n",
       "    <tr>\n",
       "      <th>131</th>\n",
       "      <td>C1794</td>\n",
       "      <td>1007.060101</td>\n",
       "      <td>1087.611711</td>\n",
       "    </tr>\n",
       "    <tr>\n",
       "      <th>132</th>\n",
       "      <td>C1152</td>\n",
       "      <td>866.384128</td>\n",
       "      <td>893.392672</td>\n",
       "    </tr>\n",
       "    <tr>\n",
       "      <th>133</th>\n",
       "      <td>C2555</td>\n",
       "      <td>1464.524065</td>\n",
       "      <td>1564.617450</td>\n",
       "    </tr>\n",
       "    <tr>\n",
       "      <th>134</th>\n",
       "      <td>C2608</td>\n",
       "      <td>1111.143551</td>\n",
       "      <td>1091.323965</td>\n",
       "    </tr>\n",
       "    <tr>\n",
       "      <th>135</th>\n",
       "      <td>C1617</td>\n",
       "      <td>1090.664885</td>\n",
       "      <td>1065.656140</td>\n",
       "    </tr>\n",
       "    <tr>\n",
       "      <th>136</th>\n",
       "      <td>C1250</td>\n",
       "      <td>1259.755347</td>\n",
       "      <td>1268.195878</td>\n",
       "    </tr>\n",
       "    <tr>\n",
       "      <th>137</th>\n",
       "      <td>C2028</td>\n",
       "      <td>1030.693449</td>\n",
       "      <td>1105.605046</td>\n",
       "    </tr>\n",
       "    <tr>\n",
       "      <th>138</th>\n",
       "      <td>C1495</td>\n",
       "      <td>1062.964370</td>\n",
       "      <td>1092.930415</td>\n",
       "    </tr>\n",
       "    <tr>\n",
       "      <th>139</th>\n",
       "      <td>C1521</td>\n",
       "      <td>1173.032871</td>\n",
       "      <td>1161.182233</td>\n",
       "    </tr>\n",
       "    <tr>\n",
       "      <th>140</th>\n",
       "      <td>C2076</td>\n",
       "      <td>1017.700578</td>\n",
       "      <td>1023.410534</td>\n",
       "    </tr>\n",
       "    <tr>\n",
       "      <th>141</th>\n",
       "      <td>C2473</td>\n",
       "      <td>1154.264392</td>\n",
       "      <td>1091.338947</td>\n",
       "    </tr>\n",
       "    <tr>\n",
       "      <th>142</th>\n",
       "      <td>C1525</td>\n",
       "      <td>1153.158916</td>\n",
       "      <td>1186.884829</td>\n",
       "    </tr>\n",
       "    <tr>\n",
       "      <th>143</th>\n",
       "      <td>C2267</td>\n",
       "      <td>980.543625</td>\n",
       "      <td>1091.650408</td>\n",
       "    </tr>\n",
       "    <tr>\n",
       "      <th>144</th>\n",
       "      <td>C1692</td>\n",
       "      <td>974.003614</td>\n",
       "      <td>995.054382</td>\n",
       "    </tr>\n",
       "    <tr>\n",
       "      <th>145</th>\n",
       "      <td>C1570</td>\n",
       "      <td>913.606063</td>\n",
       "      <td>885.418740</td>\n",
       "    </tr>\n",
       "    <tr>\n",
       "      <th>146</th>\n",
       "      <td>C2303</td>\n",
       "      <td>1282.241788</td>\n",
       "      <td>1377.489373</td>\n",
       "    </tr>\n",
       "  </tbody>\n",
       "</table>\n",
       "</div>"
      ],
      "text/plain": [
       "      code        num_x        num_y\n",
       "128  C1128  1149.871199  1195.183297\n",
       "129  C1332  1333.142477  1278.213999\n",
       "130  C1563  1794.856733  1831.208730\n",
       "131  C1794  1007.060101  1087.611711\n",
       "132  C1152   866.384128   893.392672\n",
       "133  C2555  1464.524065  1564.617450\n",
       "134  C2608  1111.143551  1091.323965\n",
       "135  C1617  1090.664885  1065.656140\n",
       "136  C1250  1259.755347  1268.195878\n",
       "137  C2028  1030.693449  1105.605046\n",
       "138  C1495  1062.964370  1092.930415\n",
       "139  C1521  1173.032871  1161.182233\n",
       "140  C2076  1017.700578  1023.410534\n",
       "141  C2473  1154.264392  1091.338947\n",
       "142  C1525  1153.158916  1186.884829\n",
       "143  C2267   980.543625  1091.650408\n",
       "144  C1692   974.003614   995.054382\n",
       "145  C1570   913.606063   885.418740\n",
       "146  C2303  1282.241788  1377.489373"
      ]
     },
     "execution_count": 65,
     "metadata": {},
     "output_type": "execute_result"
    }
   ],
   "source": [
    "score(94)"
   ]
  },
  {
   "cell_type": "code",
   "execution_count": 66,
   "metadata": {
    "scrolled": true
   },
   "outputs": [
    {
     "name": "stdout",
     "output_type": "stream",
     "text": [
      "전체 MAE :  5.933313125360584\n",
      "큰 영역 MAE :  45.90510661862788\n",
      "작은 영역 MAE :  2.8703719068268185e-08\n"
     ]
    }
   ],
   "source": [
    "resu=score(94)\n",
    "resu=resu.sort_values(\"num_x\")"
   ]
  },
  {
   "cell_type": "code",
   "execution_count": 67,
   "metadata": {},
   "outputs": [
    {
     "data": {
      "text/plain": [
       "<matplotlib.axes._subplots.AxesSubplot at 0x1d9674e92e8>"
      ]
     },
     "execution_count": 67,
     "metadata": {},
     "output_type": "execute_result"
    },
    {
     "data": {
      "image/png": "[encoded data removed]",
      "text/plain": [
       "<Figure size 576x432 with 1 Axes>"
      ]
     },
     "metadata": {
      "needs_background": "light"
     },
     "output_type": "display_data"
    }
   ],
   "source": [
    "plt.figure(figsize=(8,6))\n",
    "sns.lineplot(x =range(len(resu)),y = resu.num_x)\n",
    "sns.lineplot(x =range(len(resu)),y = resu.num_y)"
   ]
  },
  {
   "cell_type": "code",
   "execution_count": 72,
   "metadata": {},
   "outputs": [],
   "source": [
    "def submit():\n",
    "    res = get_pred()[2]\n",
    "    res.loc[147,:] = ['C1327',0]\n",
    "    res.loc[148,:] = ['C2335',0]\n",
    "    res.loc[149,:] = ['C2675',0]\n",
    "    return res"
   ]
  },
  {
   "cell_type": "code",
   "execution_count": 73,
   "metadata": {},
   "outputs": [],
   "source": [
    "sub = submit()\n",
    "sub.to_csv(\"result/result_smote.csv\",index=False)"
   ]
  },
  {
   "cell_type": "code",
   "execution_count": null,
   "metadata": {},
   "outputs": [],
   "source": []
  },
  {
   "cell_type": "code",
   "execution_count": null,
   "metadata": {},
   "outputs": [],
   "source": []
  }
 ],
 "metadata": {
  "kernelspec": {
   "display_name": "Python 3",
   "language": "python",
   "name": "python3"
  },
  "language_info": {
   "codemirror_mode": {
    "name": "ipython",
    "version": 3
   },
   "file_extension": ".py",
   "mimetype": "text/x-python",
   "name": "python",
   "nbconvert_exporter": "python",
   "pygments_lexer": "ipython3",
   "version": "3.7.3"
  }
 },
 "nbformat": 4,
 "nbformat_minor": 4
}
