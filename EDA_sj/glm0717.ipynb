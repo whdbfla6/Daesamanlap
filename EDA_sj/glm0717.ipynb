{
 "cells": [
  {
   "cell_type": "code",
   "execution_count": 1,
   "metadata": {},
   "outputs": [],
   "source": [
    "import statsmodels.api as sm\n",
    "from scipy import stats"
   ]
  },
  {
   "cell_type": "code",
   "execution_count": 2,
   "metadata": {},
   "outputs": [],
   "source": [
    "import pandas as pd\n",
    "pd.options.display.float_format = '{:,.4f}'.format\n",
    "pd.options.display.max_rows = 100\n",
    "pd.options.display.max_columns = 40\n",
    "import numpy as np\n",
    "import os,random, math\n",
    "from tqdm import tqdm\n",
    "from copy import deepcopy\n",
    "from collections import Counter\n",
    "\n",
    "# Visualization\n",
    "import seaborn as sns\n",
    "import matplotlib\n",
    "import matplotlib.pyplot as plt\n",
    "%matplotlib inline\n",
    "from matplotlib import font_manager, rc\n",
    "plt.rcParams['font.family'] = 'NanumGothic'\n",
    "import platform\n",
    "if platform.system() == 'Windows':\n",
    "    font_name = font_manager.FontProperties(fname=\"c:/Windows/Fonts/malgun.ttf\").get_name()\n",
    "    rc('font', family=font_name)\n",
    "else:    \n",
    "    rc('font', family='AppleGothic')\n",
    "\n",
    "matplotlib.rcParams['axes.unicode_minus'] = False\n",
    "\n",
    "# from dataprep.eda import plot, plot_correlation, plot_missing\n",
    "\n",
    "# Warnings\n",
    "import warnings\n",
    "warnings.filterwarnings('always')\n",
    "warnings.filterwarnings('ignore')"
   ]
  },
  {
   "cell_type": "code",
   "execution_count": 3,
   "metadata": {},
   "outputs": [],
   "source": [
    "import os\n",
    "path = os.path.dirname(os.getcwd())\n",
    "path = os.path.join(path, \"ProcessedData\")\n",
    "train = pd.read_csv(os.path.join(path,\"merged_train.csv\"))\n",
    "test = pd.read_csv(os.path.join(path,\"merged_test.csv\"))"
   ]
  },
  {
   "cell_type": "code",
   "execution_count": null,
   "metadata": {},
   "outputs": [],
   "source": [
    "sns.boxplot(train.km2, train)"
   ]
  },
  {
   "cell_type": "code",
   "execution_count": 5,
   "metadata": {
    "scrolled": false
   },
   "outputs": [
    {
     "data": {
      "text/html": [
       "<div>\n",
       "<style scoped>\n",
       "    .dataframe tbody tr th:only-of-type {\n",
       "        vertical-align: middle;\n",
       "    }\n",
       "\n",
       "    .dataframe tbody tr th {\n",
       "        vertical-align: top;\n",
       "    }\n",
       "\n",
       "    .dataframe thead th {\n",
       "        text-align: right;\n",
       "    }\n",
       "</style>\n",
       "<table border=\"1\" class=\"dataframe\">\n",
       "  <thead>\n",
       "    <tr style=\"text-align: right;\">\n",
       "      <th></th>\n",
       "      <th>단지코드</th>\n",
       "      <th>총세대수</th>\n",
       "      <th>임대건물구분</th>\n",
       "      <th>지역</th>\n",
       "      <th>공급유형</th>\n",
       "      <th>전용면적</th>\n",
       "      <th>전용면적별세대수</th>\n",
       "      <th>공가수</th>\n",
       "      <th>자격유형</th>\n",
       "      <th>임대보증금</th>\n",
       "      <th>임대료</th>\n",
       "      <th>지하철역</th>\n",
       "      <th>버스정류장</th>\n",
       "      <th>단지내주차면수</th>\n",
       "      <th>등록차량수</th>\n",
       "      <th>단지명</th>\n",
       "      <th>도로명주소</th>\n",
       "      <th>연면적</th>\n",
       "      <th>위도</th>\n",
       "      <th>경도</th>\n",
       "      <th>subway_name</th>\n",
       "      <th>subway_dist</th>\n",
       "      <th>환승역 수</th>\n",
       "      <th>총인구수</th>\n",
       "      <th>세대당_인구</th>\n",
       "      <th>남/여비율</th>\n",
       "      <th>남/여_0~19세</th>\n",
       "      <th>남/여_20~39세</th>\n",
       "      <th>남/여_40~69세</th>\n",
       "      <th>남/여_70세이상</th>\n",
       "      <th>0~19세_비율</th>\n",
       "      <th>20~39세_비율</th>\n",
       "      <th>40~69세_비율</th>\n",
       "      <th>70세이상_비율</th>\n",
       "    </tr>\n",
       "  </thead>\n",
       "  <tbody>\n",
       "    <tr>\n",
       "      <th>1747</th>\n",
       "      <td>C1350</td>\n",
       "      <td>1401</td>\n",
       "      <td>아파트</td>\n",
       "      <td>대전광역시</td>\n",
       "      <td>공공분양</td>\n",
       "      <td>74.9400</td>\n",
       "      <td>317</td>\n",
       "      <td>2.0000</td>\n",
       "      <td>D</td>\n",
       "      <td>67,878,547.0347</td>\n",
       "      <td>458,948.9473</td>\n",
       "      <td>1.0000</td>\n",
       "      <td>6.0000</td>\n",
       "      <td>1,636.0000</td>\n",
       "      <td>2,315.0000</td>\n",
       "      <td>관저 LH다온숲 3단지</td>\n",
       "      <td>대전광역시 서구 구봉산북로 165</td>\n",
       "      <td>10,551.6400</td>\n",
       "      <td>127.3389</td>\n",
       "      <td>36.2931</td>\n",
       "      <td>유성온천역</td>\n",
       "      <td>0.0606</td>\n",
       "      <td>1</td>\n",
       "      <td>33,120.0000</td>\n",
       "      <td>2.5150</td>\n",
       "      <td>0.9350</td>\n",
       "      <td>2.0593</td>\n",
       "      <td>0.9782</td>\n",
       "      <td>0.9163</td>\n",
       "      <td>0.6416</td>\n",
       "      <td>0.2279</td>\n",
       "      <td>0.2957</td>\n",
       "      <td>0.4183</td>\n",
       "      <td>0.0581</td>\n",
       "    </tr>\n",
       "    <tr>\n",
       "      <th>1748</th>\n",
       "      <td>C1350</td>\n",
       "      <td>1401</td>\n",
       "      <td>아파트</td>\n",
       "      <td>대전광역시</td>\n",
       "      <td>공공분양</td>\n",
       "      <td>74.9400</td>\n",
       "      <td>137</td>\n",
       "      <td>2.0000</td>\n",
       "      <td>D</td>\n",
       "      <td>67,878,547.0347</td>\n",
       "      <td>458,948.9473</td>\n",
       "      <td>1.0000</td>\n",
       "      <td>6.0000</td>\n",
       "      <td>1,636.0000</td>\n",
       "      <td>2,315.0000</td>\n",
       "      <td>관저 LH다온숲 3단지</td>\n",
       "      <td>대전광역시 서구 구봉산북로 165</td>\n",
       "      <td>10,551.6400</td>\n",
       "      <td>127.3389</td>\n",
       "      <td>36.2931</td>\n",
       "      <td>유성온천역</td>\n",
       "      <td>0.0606</td>\n",
       "      <td>1</td>\n",
       "      <td>33,120.0000</td>\n",
       "      <td>2.5150</td>\n",
       "      <td>0.9350</td>\n",
       "      <td>2.0593</td>\n",
       "      <td>0.9782</td>\n",
       "      <td>0.9163</td>\n",
       "      <td>0.6416</td>\n",
       "      <td>0.2279</td>\n",
       "      <td>0.2957</td>\n",
       "      <td>0.4183</td>\n",
       "      <td>0.0581</td>\n",
       "    </tr>\n",
       "    <tr>\n",
       "      <th>1749</th>\n",
       "      <td>C1350</td>\n",
       "      <td>1401</td>\n",
       "      <td>아파트</td>\n",
       "      <td>대전광역시</td>\n",
       "      <td>공공분양</td>\n",
       "      <td>74.9400</td>\n",
       "      <td>22</td>\n",
       "      <td>2.0000</td>\n",
       "      <td>D</td>\n",
       "      <td>67,878,547.0347</td>\n",
       "      <td>458,948.9473</td>\n",
       "      <td>1.0000</td>\n",
       "      <td>6.0000</td>\n",
       "      <td>1,636.0000</td>\n",
       "      <td>2,315.0000</td>\n",
       "      <td>관저 LH다온숲 3단지</td>\n",
       "      <td>대전광역시 서구 구봉산북로 165</td>\n",
       "      <td>10,551.6400</td>\n",
       "      <td>127.3389</td>\n",
       "      <td>36.2931</td>\n",
       "      <td>유성온천역</td>\n",
       "      <td>0.0606</td>\n",
       "      <td>1</td>\n",
       "      <td>33,120.0000</td>\n",
       "      <td>2.5150</td>\n",
       "      <td>0.9350</td>\n",
       "      <td>2.0593</td>\n",
       "      <td>0.9782</td>\n",
       "      <td>0.9163</td>\n",
       "      <td>0.6416</td>\n",
       "      <td>0.2279</td>\n",
       "      <td>0.2957</td>\n",
       "      <td>0.4183</td>\n",
       "      <td>0.0581</td>\n",
       "    </tr>\n",
       "    <tr>\n",
       "      <th>1750</th>\n",
       "      <td>C1350</td>\n",
       "      <td>1401</td>\n",
       "      <td>아파트</td>\n",
       "      <td>대전광역시</td>\n",
       "      <td>공공분양</td>\n",
       "      <td>84.9400</td>\n",
       "      <td>164</td>\n",
       "      <td>2.0000</td>\n",
       "      <td>D</td>\n",
       "      <td>79,454,139.6959</td>\n",
       "      <td>541,337.9741</td>\n",
       "      <td>1.0000</td>\n",
       "      <td>6.0000</td>\n",
       "      <td>1,636.0000</td>\n",
       "      <td>2,315.0000</td>\n",
       "      <td>관저 LH다온숲 3단지</td>\n",
       "      <td>대전광역시 서구 구봉산북로 165</td>\n",
       "      <td>10,551.6400</td>\n",
       "      <td>127.3389</td>\n",
       "      <td>36.2931</td>\n",
       "      <td>유성온천역</td>\n",
       "      <td>0.0606</td>\n",
       "      <td>1</td>\n",
       "      <td>33,120.0000</td>\n",
       "      <td>2.5150</td>\n",
       "      <td>0.9350</td>\n",
       "      <td>2.0593</td>\n",
       "      <td>0.9782</td>\n",
       "      <td>0.9163</td>\n",
       "      <td>0.6416</td>\n",
       "      <td>0.2279</td>\n",
       "      <td>0.2957</td>\n",
       "      <td>0.4183</td>\n",
       "      <td>0.0581</td>\n",
       "    </tr>\n",
       "    <tr>\n",
       "      <th>1751</th>\n",
       "      <td>C1350</td>\n",
       "      <td>1401</td>\n",
       "      <td>아파트</td>\n",
       "      <td>대전광역시</td>\n",
       "      <td>공공분양</td>\n",
       "      <td>84.9400</td>\n",
       "      <td>19</td>\n",
       "      <td>2.0000</td>\n",
       "      <td>D</td>\n",
       "      <td>79,454,139.6959</td>\n",
       "      <td>541,337.9741</td>\n",
       "      <td>1.0000</td>\n",
       "      <td>6.0000</td>\n",
       "      <td>1,636.0000</td>\n",
       "      <td>2,315.0000</td>\n",
       "      <td>관저 LH다온숲 3단지</td>\n",
       "      <td>대전광역시 서구 구봉산북로 165</td>\n",
       "      <td>10,551.6400</td>\n",
       "      <td>127.3389</td>\n",
       "      <td>36.2931</td>\n",
       "      <td>유성온천역</td>\n",
       "      <td>0.0606</td>\n",
       "      <td>1</td>\n",
       "      <td>33,120.0000</td>\n",
       "      <td>2.5150</td>\n",
       "      <td>0.9350</td>\n",
       "      <td>2.0593</td>\n",
       "      <td>0.9782</td>\n",
       "      <td>0.9163</td>\n",
       "      <td>0.6416</td>\n",
       "      <td>0.2279</td>\n",
       "      <td>0.2957</td>\n",
       "      <td>0.4183</td>\n",
       "      <td>0.0581</td>\n",
       "    </tr>\n",
       "    <tr>\n",
       "      <th>1752</th>\n",
       "      <td>C1350</td>\n",
       "      <td>1401</td>\n",
       "      <td>아파트</td>\n",
       "      <td>대전광역시</td>\n",
       "      <td>공공분양</td>\n",
       "      <td>84.9600</td>\n",
       "      <td>26</td>\n",
       "      <td>2.0000</td>\n",
       "      <td>D</td>\n",
       "      <td>79,477,290.8812</td>\n",
       "      <td>541,502.7522</td>\n",
       "      <td>1.0000</td>\n",
       "      <td>6.0000</td>\n",
       "      <td>1,636.0000</td>\n",
       "      <td>2,315.0000</td>\n",
       "      <td>관저 LH다온숲 3단지</td>\n",
       "      <td>대전광역시 서구 구봉산북로 165</td>\n",
       "      <td>10,551.6400</td>\n",
       "      <td>127.3389</td>\n",
       "      <td>36.2931</td>\n",
       "      <td>유성온천역</td>\n",
       "      <td>0.0606</td>\n",
       "      <td>1</td>\n",
       "      <td>33,120.0000</td>\n",
       "      <td>2.5150</td>\n",
       "      <td>0.9350</td>\n",
       "      <td>2.0593</td>\n",
       "      <td>0.9782</td>\n",
       "      <td>0.9163</td>\n",
       "      <td>0.6416</td>\n",
       "      <td>0.2279</td>\n",
       "      <td>0.2957</td>\n",
       "      <td>0.4183</td>\n",
       "      <td>0.0581</td>\n",
       "    </tr>\n",
       "    <tr>\n",
       "      <th>1753</th>\n",
       "      <td>C1350</td>\n",
       "      <td>1401</td>\n",
       "      <td>아파트</td>\n",
       "      <td>대전광역시</td>\n",
       "      <td>공공분양</td>\n",
       "      <td>84.9700</td>\n",
       "      <td>26</td>\n",
       "      <td>2.0000</td>\n",
       "      <td>D</td>\n",
       "      <td>79,488,866.4739</td>\n",
       "      <td>541,585.1412</td>\n",
       "      <td>1.0000</td>\n",
       "      <td>6.0000</td>\n",
       "      <td>1,636.0000</td>\n",
       "      <td>2,315.0000</td>\n",
       "      <td>관저 LH다온숲 3단지</td>\n",
       "      <td>대전광역시 서구 구봉산북로 165</td>\n",
       "      <td>10,551.6400</td>\n",
       "      <td>127.3389</td>\n",
       "      <td>36.2931</td>\n",
       "      <td>유성온천역</td>\n",
       "      <td>0.0606</td>\n",
       "      <td>1</td>\n",
       "      <td>33,120.0000</td>\n",
       "      <td>2.5150</td>\n",
       "      <td>0.9350</td>\n",
       "      <td>2.0593</td>\n",
       "      <td>0.9782</td>\n",
       "      <td>0.9163</td>\n",
       "      <td>0.6416</td>\n",
       "      <td>0.2279</td>\n",
       "      <td>0.2957</td>\n",
       "      <td>0.4183</td>\n",
       "      <td>0.0581</td>\n",
       "    </tr>\n",
       "    <tr>\n",
       "      <th>1754</th>\n",
       "      <td>C1350</td>\n",
       "      <td>1401</td>\n",
       "      <td>아파트</td>\n",
       "      <td>대전광역시</td>\n",
       "      <td>공공임대(10년)</td>\n",
       "      <td>51.9900</td>\n",
       "      <td>106</td>\n",
       "      <td>2.0000</td>\n",
       "      <td>A</td>\n",
       "      <td>28,013,000.0000</td>\n",
       "      <td>408,600.0000</td>\n",
       "      <td>1.0000</td>\n",
       "      <td>6.0000</td>\n",
       "      <td>1,636.0000</td>\n",
       "      <td>2,315.0000</td>\n",
       "      <td>관저 LH다온숲 3단지</td>\n",
       "      <td>대전광역시 서구 구봉산북로 165</td>\n",
       "      <td>10,551.6400</td>\n",
       "      <td>127.3389</td>\n",
       "      <td>36.2931</td>\n",
       "      <td>유성온천역</td>\n",
       "      <td>0.0606</td>\n",
       "      <td>1</td>\n",
       "      <td>33,120.0000</td>\n",
       "      <td>2.5150</td>\n",
       "      <td>0.9350</td>\n",
       "      <td>2.0593</td>\n",
       "      <td>0.9782</td>\n",
       "      <td>0.9163</td>\n",
       "      <td>0.6416</td>\n",
       "      <td>0.2279</td>\n",
       "      <td>0.2957</td>\n",
       "      <td>0.4183</td>\n",
       "      <td>0.0581</td>\n",
       "    </tr>\n",
       "    <tr>\n",
       "      <th>1755</th>\n",
       "      <td>C1350</td>\n",
       "      <td>1401</td>\n",
       "      <td>아파트</td>\n",
       "      <td>대전광역시</td>\n",
       "      <td>공공임대(10년)</td>\n",
       "      <td>59.9100</td>\n",
       "      <td>13</td>\n",
       "      <td>2.0000</td>\n",
       "      <td>A</td>\n",
       "      <td>37,474,000.0000</td>\n",
       "      <td>519,350.0000</td>\n",
       "      <td>1.0000</td>\n",
       "      <td>6.0000</td>\n",
       "      <td>1,636.0000</td>\n",
       "      <td>2,315.0000</td>\n",
       "      <td>관저 LH다온숲 3단지</td>\n",
       "      <td>대전광역시 서구 구봉산북로 165</td>\n",
       "      <td>10,551.6400</td>\n",
       "      <td>127.3389</td>\n",
       "      <td>36.2931</td>\n",
       "      <td>유성온천역</td>\n",
       "      <td>0.0606</td>\n",
       "      <td>1</td>\n",
       "      <td>33,120.0000</td>\n",
       "      <td>2.5150</td>\n",
       "      <td>0.9350</td>\n",
       "      <td>2.0593</td>\n",
       "      <td>0.9782</td>\n",
       "      <td>0.9163</td>\n",
       "      <td>0.6416</td>\n",
       "      <td>0.2279</td>\n",
       "      <td>0.2957</td>\n",
       "      <td>0.4183</td>\n",
       "      <td>0.0581</td>\n",
       "    </tr>\n",
       "    <tr>\n",
       "      <th>1756</th>\n",
       "      <td>C1350</td>\n",
       "      <td>1401</td>\n",
       "      <td>아파트</td>\n",
       "      <td>대전광역시</td>\n",
       "      <td>공공임대(10년)</td>\n",
       "      <td>59.9200</td>\n",
       "      <td>223</td>\n",
       "      <td>2.0000</td>\n",
       "      <td>A</td>\n",
       "      <td>37,385,000.0000</td>\n",
       "      <td>516,130.0000</td>\n",
       "      <td>1.0000</td>\n",
       "      <td>6.0000</td>\n",
       "      <td>1,636.0000</td>\n",
       "      <td>2,315.0000</td>\n",
       "      <td>관저 LH다온숲 3단지</td>\n",
       "      <td>대전광역시 서구 구봉산북로 165</td>\n",
       "      <td>10,551.6400</td>\n",
       "      <td>127.3389</td>\n",
       "      <td>36.2931</td>\n",
       "      <td>유성온천역</td>\n",
       "      <td>0.0606</td>\n",
       "      <td>1</td>\n",
       "      <td>33,120.0000</td>\n",
       "      <td>2.5150</td>\n",
       "      <td>0.9350</td>\n",
       "      <td>2.0593</td>\n",
       "      <td>0.9782</td>\n",
       "      <td>0.9163</td>\n",
       "      <td>0.6416</td>\n",
       "      <td>0.2279</td>\n",
       "      <td>0.2957</td>\n",
       "      <td>0.4183</td>\n",
       "      <td>0.0581</td>\n",
       "    </tr>\n",
       "    <tr>\n",
       "      <th>1757</th>\n",
       "      <td>C1350</td>\n",
       "      <td>1401</td>\n",
       "      <td>아파트</td>\n",
       "      <td>대전광역시</td>\n",
       "      <td>공공임대(분납)</td>\n",
       "      <td>51.9900</td>\n",
       "      <td>146</td>\n",
       "      <td>2.0000</td>\n",
       "      <td>A</td>\n",
       "      <td>54,612,000.0000</td>\n",
       "      <td>131,130.0000</td>\n",
       "      <td>1.0000</td>\n",
       "      <td>6.0000</td>\n",
       "      <td>1,636.0000</td>\n",
       "      <td>2,315.0000</td>\n",
       "      <td>관저 LH다온숲 3단지</td>\n",
       "      <td>대전광역시 서구 구봉산북로 165</td>\n",
       "      <td>10,551.6400</td>\n",
       "      <td>127.3389</td>\n",
       "      <td>36.2931</td>\n",
       "      <td>유성온천역</td>\n",
       "      <td>0.0606</td>\n",
       "      <td>1</td>\n",
       "      <td>33,120.0000</td>\n",
       "      <td>2.5150</td>\n",
       "      <td>0.9350</td>\n",
       "      <td>2.0593</td>\n",
       "      <td>0.9782</td>\n",
       "      <td>0.9163</td>\n",
       "      <td>0.6416</td>\n",
       "      <td>0.2279</td>\n",
       "      <td>0.2957</td>\n",
       "      <td>0.4183</td>\n",
       "      <td>0.0581</td>\n",
       "    </tr>\n",
       "    <tr>\n",
       "      <th>1758</th>\n",
       "      <td>C1350</td>\n",
       "      <td>1401</td>\n",
       "      <td>아파트</td>\n",
       "      <td>대전광역시</td>\n",
       "      <td>공공임대(분납)</td>\n",
       "      <td>59.9100</td>\n",
       "      <td>32</td>\n",
       "      <td>2.0000</td>\n",
       "      <td>A</td>\n",
       "      <td>63,585,000.0000</td>\n",
       "      <td>152,680.0000</td>\n",
       "      <td>1.0000</td>\n",
       "      <td>6.0000</td>\n",
       "      <td>1,636.0000</td>\n",
       "      <td>2,315.0000</td>\n",
       "      <td>관저 LH다온숲 3단지</td>\n",
       "      <td>대전광역시 서구 구봉산북로 165</td>\n",
       "      <td>10,551.6400</td>\n",
       "      <td>127.3389</td>\n",
       "      <td>36.2931</td>\n",
       "      <td>유성온천역</td>\n",
       "      <td>0.0606</td>\n",
       "      <td>1</td>\n",
       "      <td>33,120.0000</td>\n",
       "      <td>2.5150</td>\n",
       "      <td>0.9350</td>\n",
       "      <td>2.0593</td>\n",
       "      <td>0.9782</td>\n",
       "      <td>0.9163</td>\n",
       "      <td>0.6416</td>\n",
       "      <td>0.2279</td>\n",
       "      <td>0.2957</td>\n",
       "      <td>0.4183</td>\n",
       "      <td>0.0581</td>\n",
       "    </tr>\n",
       "    <tr>\n",
       "      <th>1759</th>\n",
       "      <td>C1350</td>\n",
       "      <td>1401</td>\n",
       "      <td>아파트</td>\n",
       "      <td>대전광역시</td>\n",
       "      <td>공공임대(분납)</td>\n",
       "      <td>59.9200</td>\n",
       "      <td>170</td>\n",
       "      <td>2.0000</td>\n",
       "      <td>A</td>\n",
       "      <td>63,501,000.0000</td>\n",
       "      <td>152,480.0000</td>\n",
       "      <td>1.0000</td>\n",
       "      <td>6.0000</td>\n",
       "      <td>1,636.0000</td>\n",
       "      <td>2,315.0000</td>\n",
       "      <td>관저 LH다온숲 3단지</td>\n",
       "      <td>대전광역시 서구 구봉산북로 165</td>\n",
       "      <td>10,551.6400</td>\n",
       "      <td>127.3389</td>\n",
       "      <td>36.2931</td>\n",
       "      <td>유성온천역</td>\n",
       "      <td>0.0606</td>\n",
       "      <td>1</td>\n",
       "      <td>33,120.0000</td>\n",
       "      <td>2.5150</td>\n",
       "      <td>0.9350</td>\n",
       "      <td>2.0593</td>\n",
       "      <td>0.9782</td>\n",
       "      <td>0.9163</td>\n",
       "      <td>0.6416</td>\n",
       "      <td>0.2279</td>\n",
       "      <td>0.2957</td>\n",
       "      <td>0.4183</td>\n",
       "      <td>0.0581</td>\n",
       "    </tr>\n",
       "  </tbody>\n",
       "</table>\n",
       "</div>"
      ],
      "text/plain": [
       "       단지코드  총세대수 임대건물구분     지역       공급유형    전용면적  전용면적별세대수    공가수 자격유형  \\\n",
       "1747  C1350  1401    아파트  대전광역시       공공분양 74.9400       317 2.0000    D   \n",
       "1748  C1350  1401    아파트  대전광역시       공공분양 74.9400       137 2.0000    D   \n",
       "1749  C1350  1401    아파트  대전광역시       공공분양 74.9400        22 2.0000    D   \n",
       "1750  C1350  1401    아파트  대전광역시       공공분양 84.9400       164 2.0000    D   \n",
       "1751  C1350  1401    아파트  대전광역시       공공분양 84.9400        19 2.0000    D   \n",
       "1752  C1350  1401    아파트  대전광역시       공공분양 84.9600        26 2.0000    D   \n",
       "1753  C1350  1401    아파트  대전광역시       공공분양 84.9700        26 2.0000    D   \n",
       "1754  C1350  1401    아파트  대전광역시  공공임대(10년) 51.9900       106 2.0000    A   \n",
       "1755  C1350  1401    아파트  대전광역시  공공임대(10년) 59.9100        13 2.0000    A   \n",
       "1756  C1350  1401    아파트  대전광역시  공공임대(10년) 59.9200       223 2.0000    A   \n",
       "1757  C1350  1401    아파트  대전광역시   공공임대(분납) 51.9900       146 2.0000    A   \n",
       "1758  C1350  1401    아파트  대전광역시   공공임대(분납) 59.9100        32 2.0000    A   \n",
       "1759  C1350  1401    아파트  대전광역시   공공임대(분납) 59.9200       170 2.0000    A   \n",
       "\n",
       "               임대보증금          임대료   지하철역  버스정류장    단지내주차면수      등록차량수  \\\n",
       "1747 67,878,547.0347 458,948.9473 1.0000 6.0000 1,636.0000 2,315.0000   \n",
       "1748 67,878,547.0347 458,948.9473 1.0000 6.0000 1,636.0000 2,315.0000   \n",
       "1749 67,878,547.0347 458,948.9473 1.0000 6.0000 1,636.0000 2,315.0000   \n",
       "1750 79,454,139.6959 541,337.9741 1.0000 6.0000 1,636.0000 2,315.0000   \n",
       "1751 79,454,139.6959 541,337.9741 1.0000 6.0000 1,636.0000 2,315.0000   \n",
       "1752 79,477,290.8812 541,502.7522 1.0000 6.0000 1,636.0000 2,315.0000   \n",
       "1753 79,488,866.4739 541,585.1412 1.0000 6.0000 1,636.0000 2,315.0000   \n",
       "1754 28,013,000.0000 408,600.0000 1.0000 6.0000 1,636.0000 2,315.0000   \n",
       "1755 37,474,000.0000 519,350.0000 1.0000 6.0000 1,636.0000 2,315.0000   \n",
       "1756 37,385,000.0000 516,130.0000 1.0000 6.0000 1,636.0000 2,315.0000   \n",
       "1757 54,612,000.0000 131,130.0000 1.0000 6.0000 1,636.0000 2,315.0000   \n",
       "1758 63,585,000.0000 152,680.0000 1.0000 6.0000 1,636.0000 2,315.0000   \n",
       "1759 63,501,000.0000 152,480.0000 1.0000 6.0000 1,636.0000 2,315.0000   \n",
       "\n",
       "               단지명               도로명주소         연면적       위도      경도  \\\n",
       "1747  관저 LH다온숲 3단지  대전광역시 서구 구봉산북로 165 10,551.6400 127.3389 36.2931   \n",
       "1748  관저 LH다온숲 3단지  대전광역시 서구 구봉산북로 165 10,551.6400 127.3389 36.2931   \n",
       "1749  관저 LH다온숲 3단지  대전광역시 서구 구봉산북로 165 10,551.6400 127.3389 36.2931   \n",
       "1750  관저 LH다온숲 3단지  대전광역시 서구 구봉산북로 165 10,551.6400 127.3389 36.2931   \n",
       "1751  관저 LH다온숲 3단지  대전광역시 서구 구봉산북로 165 10,551.6400 127.3389 36.2931   \n",
       "1752  관저 LH다온숲 3단지  대전광역시 서구 구봉산북로 165 10,551.6400 127.3389 36.2931   \n",
       "1753  관저 LH다온숲 3단지  대전광역시 서구 구봉산북로 165 10,551.6400 127.3389 36.2931   \n",
       "1754  관저 LH다온숲 3단지  대전광역시 서구 구봉산북로 165 10,551.6400 127.3389 36.2931   \n",
       "1755  관저 LH다온숲 3단지  대전광역시 서구 구봉산북로 165 10,551.6400 127.3389 36.2931   \n",
       "1756  관저 LH다온숲 3단지  대전광역시 서구 구봉산북로 165 10,551.6400 127.3389 36.2931   \n",
       "1757  관저 LH다온숲 3단지  대전광역시 서구 구봉산북로 165 10,551.6400 127.3389 36.2931   \n",
       "1758  관저 LH다온숲 3단지  대전광역시 서구 구봉산북로 165 10,551.6400 127.3389 36.2931   \n",
       "1759  관저 LH다온숲 3단지  대전광역시 서구 구봉산북로 165 10,551.6400 127.3389 36.2931   \n",
       "\n",
       "     subway_name  subway_dist  환승역 수        총인구수  세대당_인구  남/여비율  남/여_0~19세  \\\n",
       "1747       유성온천역       0.0606      1 33,120.0000  2.5150 0.9350     2.0593   \n",
       "1748       유성온천역       0.0606      1 33,120.0000  2.5150 0.9350     2.0593   \n",
       "1749       유성온천역       0.0606      1 33,120.0000  2.5150 0.9350     2.0593   \n",
       "1750       유성온천역       0.0606      1 33,120.0000  2.5150 0.9350     2.0593   \n",
       "1751       유성온천역       0.0606      1 33,120.0000  2.5150 0.9350     2.0593   \n",
       "1752       유성온천역       0.0606      1 33,120.0000  2.5150 0.9350     2.0593   \n",
       "1753       유성온천역       0.0606      1 33,120.0000  2.5150 0.9350     2.0593   \n",
       "1754       유성온천역       0.0606      1 33,120.0000  2.5150 0.9350     2.0593   \n",
       "1755       유성온천역       0.0606      1 33,120.0000  2.5150 0.9350     2.0593   \n",
       "1756       유성온천역       0.0606      1 33,120.0000  2.5150 0.9350     2.0593   \n",
       "1757       유성온천역       0.0606      1 33,120.0000  2.5150 0.9350     2.0593   \n",
       "1758       유성온천역       0.0606      1 33,120.0000  2.5150 0.9350     2.0593   \n",
       "1759       유성온천역       0.0606      1 33,120.0000  2.5150 0.9350     2.0593   \n",
       "\n",
       "      남/여_20~39세  남/여_40~69세  남/여_70세이상  0~19세_비율  20~39세_비율  40~69세_비율  \\\n",
       "1747      0.9782      0.9163     0.6416    0.2279     0.2957     0.4183   \n",
       "1748      0.9782      0.9163     0.6416    0.2279     0.2957     0.4183   \n",
       "1749      0.9782      0.9163     0.6416    0.2279     0.2957     0.4183   \n",
       "1750      0.9782      0.9163     0.6416    0.2279     0.2957     0.4183   \n",
       "1751      0.9782      0.9163     0.6416    0.2279     0.2957     0.4183   \n",
       "1752      0.9782      0.9163     0.6416    0.2279     0.2957     0.4183   \n",
       "1753      0.9782      0.9163     0.6416    0.2279     0.2957     0.4183   \n",
       "1754      0.9782      0.9163     0.6416    0.2279     0.2957     0.4183   \n",
       "1755      0.9782      0.9163     0.6416    0.2279     0.2957     0.4183   \n",
       "1756      0.9782      0.9163     0.6416    0.2279     0.2957     0.4183   \n",
       "1757      0.9782      0.9163     0.6416    0.2279     0.2957     0.4183   \n",
       "1758      0.9782      0.9163     0.6416    0.2279     0.2957     0.4183   \n",
       "1759      0.9782      0.9163     0.6416    0.2279     0.2957     0.4183   \n",
       "\n",
       "      70세이상_비율  \n",
       "1747    0.0581  \n",
       "1748    0.0581  \n",
       "1749    0.0581  \n",
       "1750    0.0581  \n",
       "1751    0.0581  \n",
       "1752    0.0581  \n",
       "1753    0.0581  \n",
       "1754    0.0581  \n",
       "1755    0.0581  \n",
       "1756    0.0581  \n",
       "1757    0.0581  \n",
       "1758    0.0581  \n",
       "1759    0.0581  "
      ]
     },
     "execution_count": 5,
     "metadata": {},
     "output_type": "execute_result"
    }
   ],
   "source": [
    "train[train.단지코드 == \"C1350\"]"
   ]
  },
  {
   "cell_type": "code",
   "execution_count": 272,
   "metadata": {},
   "outputs": [],
   "source": [
    "apt_tr = train[train['임대건물구분']=='아파트']\n",
    "store_tr = train[train['임대건물구분']=='상가']\n",
    "\n",
    "apt_test = test[test['임대건물구분']=='아파트']\n",
    "store_test = test[test['임대건물구분']=='상가']"
   ]
  },
  {
   "cell_type": "code",
   "execution_count": 273,
   "metadata": {},
   "outputs": [
    {
     "name": "stdout",
     "output_type": "stream",
     "text": [
      "(2896, 34)\n",
      "(1008, 33)\n"
     ]
    }
   ],
   "source": [
    "print(train.shape)\n",
    "print(test.shape)"
   ]
  },
  {
   "cell_type": "code",
   "execution_count": 274,
   "metadata": {},
   "outputs": [],
   "source": [
    "train['공가수_비율'] =  train.apply(lambda x : x['공가수']/x['총세대수'],axis=1)\n",
    "train['세대당_가능주차면수'] = train.apply(lambda x : x['단지내주차면수']/x['총세대수'],axis=1)\n",
    "test['공가수_비율'] =  test.apply(lambda x : x['공가수']/x['총세대수'],axis=1)\n",
    "test['세대당_가능주차면수'] = test.apply(lambda x : x['단지내주차면수']/x['총세대수'],axis=1)"
   ]
  },
  {
   "cell_type": "code",
   "execution_count": 275,
   "metadata": {},
   "outputs": [],
   "source": [
    "train['0~19 인구수'] = train['0~19세_비율']*train['총세대수']\n",
    "train['20~39 인구수'] = train['20~39세_비율']*train['총세대수']\n",
    "train['40~69 인구수'] = train['40~69세_비율']*train['총세대수']\n",
    "train['70세이상 인구수'] = train['70세이상_비율']*train['총세대수']\n",
    "\n",
    "test['0~19 인구수'] = test['0~19세_비율']*test['총세대수']\n",
    "test['20~39 인구수'] = test['20~39세_비율']*test['총세대수']\n",
    "test['40~69 인구수'] = test['40~69세_비율']*test['총세대수']\n",
    "test['70세이상 인구수'] = test['70세이상_비율']*test['총세대수']"
   ]
  },
  {
   "cell_type": "code",
   "execution_count": 276,
   "metadata": {},
   "outputs": [],
   "source": [
    "area = ['경상남도', '전라북도', '강원도', '광주광역시', '충청남도', '제주특별자치도', '울산광역시', '충청북도', '전라남도', '경상북도', '세종특별자치시']\n",
    "for ind in range(train.shape[0]):\n",
    "    if train.loc[ind,'지역'] in area :\n",
    "        train.loc[ind,'환승역 수'] = 0\n",
    "train = train.join(pd.get_dummies(train['환승역 수'],prefix='sub')).iloc[:,:-1]\n",
    "train = train.drop('환승역 수',axis=1)"
   ]
  },
  {
   "cell_type": "code",
   "execution_count": 277,
   "metadata": {},
   "outputs": [],
   "source": [
    "for ind in range(test.shape[0]):\n",
    "    if test.loc[ind,'지역'] in area :\n",
    "        test.loc[ind,'환승역 수'] = 0\n",
    "test = test.join(pd.get_dummies(test['환승역 수'],prefix='sub')).iloc[:,:-1]\n",
    "test = test.drop('환승역 수',axis=1)"
   ]
  },
  {
   "cell_type": "code",
   "execution_count": 278,
   "metadata": {},
   "outputs": [],
   "source": [
    "def func2(x):\n",
    "    if x<0.005: \n",
    "        return 0\n",
    "    elif 0.005<x<0.02:\n",
    "        return 1\n",
    "    elif 0.02<x<1:\n",
    "        return 2\n",
    "    elif x>1:\n",
    "        return 3"
   ]
  },
  {
   "cell_type": "code",
   "execution_count": 279,
   "metadata": {},
   "outputs": [],
   "source": [
    "train['sub_cat'] = train['subway_dist'].apply(lambda x : func2(x))\n",
    "test['sub_cat'] = test['subway_dist'].apply(lambda x : func2(x))"
   ]
  },
  {
   "cell_type": "code",
   "execution_count": 280,
   "metadata": {},
   "outputs": [],
   "source": [
    "train = train.join(pd.get_dummies(train['sub_cat'],prefix='sub_dist')).iloc[:,:-1]\n",
    "train = train.drop(['subway_dist','sub_cat'],axis=1)"
   ]
  },
  {
   "cell_type": "code",
   "execution_count": 281,
   "metadata": {},
   "outputs": [],
   "source": [
    "test = test.join(pd.get_dummies(test['sub_cat'],prefix='sub_dist')).iloc[:,:-1]\n",
    "test = test.drop(['subway_dist','sub_cat'],axis=1)"
   ]
  },
  {
   "cell_type": "markdown",
   "metadata": {},
   "source": [
    "## 공급유형"
   ]
  },
  {
   "cell_type": "code",
   "execution_count": 282,
   "metadata": {},
   "outputs": [],
   "source": [
    "def func3(x,dic):\n",
    "    for i in dic.keys():\n",
    "        if len(dic[i]) == len(x):\n",
    "            if all(dic[i] == x):\n",
    "                return i"
   ]
  },
  {
   "cell_type": "code",
   "execution_count": 283,
   "metadata": {},
   "outputs": [],
   "source": [
    "# 방안 2 \n",
    "\n",
    "train.loc[train['공급유형'].isin(['영구임대', '행복주택']),'공급유형'] = '영구/행복'\n",
    "test.loc[test['공급유형'].isin(['영구임대', '행복주택']),'공급유형'] = '영구/행복'\n",
    "\n",
    "train.loc[train['공급유형'].isin(['공공임대(10년)', '공공임대(5년)']),'공급유형'] = '공공임대(단기)'\n",
    "test.loc[test['공급유형'].isin(['공공임대(10년)', '공공임대(5년)']),'공급유형'] = '공공임대(단기)'\n",
    "\n",
    "no_shop = train[train['공급유형']!='임대상가']\n",
    "uniq = np.reshape(no_shop['공급유형'].unique(),(7,1))\n",
    "\n",
    "dic = dict(enumerate(uniq))\n",
    "dic[8] = ['공공임대(단기)', '국민임대']\n",
    "dic[9] = ['장기전세', '국민임대', '영구/행복']\n",
    "dic[10] = ['국민임대', '영구/행복']\n",
    "dic[11] = ['공공임대(단기)', '공공임대(분납)']\n",
    "dic[12] = ['공공분양', '공공임대(단기)', '공공임대(분납)']\n",
    "dic[13] = ['공공임대(50년)', '영구/행복']\n",
    "dic[14] = ['장기전세', '공공임대(단기)', '공공임대(분납)']\n",
    "\n",
    "# train\n",
    "no_shop = train[train['공급유형']!='임대상가']\n",
    "sample = pd.DataFrame(no_shop.groupby('단지코드')['공급유형'].unique()).reset_index()\n",
    "sample['cluster'] = sample['공급유형'].apply(lambda x : func3(x,dic))\n",
    "sample['cluster'] = sample['cluster'].apply(lambda x: int(x))\n",
    "train = pd.merge(train,sample[['단지코드','cluster']],on='단지코드',how='left')\n",
    "train = train.join(pd.get_dummies(train['cluster'],prefix='type')).iloc[:,:-1]\n",
    "train = train.drop(['공급유형','cluster'],axis=1)\n",
    "\n",
    "# test\n",
    "no_shop = test[test['공급유형']!='임대상가']\n",
    "sample = pd.DataFrame(no_shop.groupby('단지코드')['공급유형'].unique()).reset_index()\n",
    "sample['cluster'] = sample['공급유형'].apply(lambda x : func3(x,dic))\n",
    "test = pd.merge(test,sample[['단지코드','cluster']],on='단지코드',how='left')\n",
    "test = test.join(pd.get_dummies(test['cluster'],prefix='type')).iloc[:,:-1]\n",
    "test = test.drop(['공급유형','cluster'],axis=1)\n",
    "test['type_8'] = 0\n",
    "test['type_9'] = 0\n",
    "test['type_11'] = 0\n",
    "test['type_12'] = 0\n",
    "test['type_13'] = 0\n",
    "\n",
    "# sample = pd.DataFrame(no_shop.groupby('단지코드')['공급유형'].nunique()).reset_index()\n",
    "# ind = sample[sample['공급유형']>1]['단지코드'].values\n",
    "# no_shop.loc[no_shop['단지코드'].isin(ind),:].groupby('단지코드')['공급유형'].unique()"
   ]
  },
  {
   "cell_type": "code",
   "execution_count": 284,
   "metadata": {},
   "outputs": [],
   "source": [
    "drop = ['남/여비율','남/여_0~19세','남/여_20~39세','남/여_40~69세','남/여_70세이상','0~19세_비율','20~39세_비율','40~69세_비율','70세이상_비율']\n",
    "drop1 = ['총세대수','임대건물구분','지역','공가수','자격유형','단지내주차면수','단지명','도로명주소','subway_name']"
   ]
  },
  {
   "cell_type": "code",
   "execution_count": 285,
   "metadata": {},
   "outputs": [],
   "source": [
    "train = train.drop(drop,axis=1)\n",
    "test = test.drop(drop,axis=1)\n",
    "\n",
    "train = train.drop(drop1,axis=1)\n",
    "test = test.drop(drop1,axis=1)"
   ]
  },
  {
   "cell_type": "code",
   "execution_count": 286,
   "metadata": {},
   "outputs": [],
   "source": [
    "non_unique = ['전용면적','전용면적별세대수','임대보증금','임대료']\n",
    "train_one = train.drop(non_unique,axis=1).drop_duplicates().reset_index(drop=True)\n",
    "test_one = test.drop(non_unique,axis=1).drop_duplicates().reset_index(drop=True)"
   ]
  },
  {
   "cell_type": "code",
   "execution_count": 287,
   "metadata": {},
   "outputs": [],
   "source": [
    "def merge(col,standard,oldDF,newDF,kind):\n",
    "    sample = oldDF.groupby('단지코드').describe()[col].reset_index()\n",
    "    for i in sample.index:\n",
    "        for j in standard:\n",
    "            code = sample.loc[i,'단지코드']\n",
    "            val = sample.loc[i,j]\n",
    "            ind = newDF[newDF['단지코드']==code].index\n",
    "            newDF.loc[ind,kind+col+j] = val\n",
    "    return newDF"
   ]
  },
  {
   "cell_type": "code",
   "execution_count": 288,
   "metadata": {},
   "outputs": [],
   "source": [
    "train_one = merge('임대료',['min','25%','50%','75%','max'],apt_tr,train_one,'apt')\n",
    "train_one = merge('임대보증금',['min','25%','50%','75%','max'],apt_tr,train_one,'apt')\n",
    "\n",
    "train_one = merge('임대료',['min','25%','50%','75%','max'],store_tr,train_one,'store')\n",
    "train_one = merge('임대보증금',['min','25%','50%','75%','max'],store_tr,train_one,'store')\n",
    "\n",
    "train_one = merge('전용면적',['min','25%','50%','75%','max'],apt_tr,train_one,'apt')\n",
    "train_one = merge('전용면적',['mean','std'],store_tr,train_one,'store')\n",
    "\n",
    "train_one = train_one.replace(np.nan, 0)"
   ]
  },
  {
   "cell_type": "code",
   "execution_count": 289,
   "metadata": {},
   "outputs": [],
   "source": [
    "test_one = merge('임대료',['min','25%','50%','75%','max'],apt_test,test_one,'apt')\n",
    "test_one = merge('임대보증금',['min','25%','50%','75%','max'],apt_test,test_one,'apt')\n",
    "\n",
    "test_one = merge('임대료',['min','25%','50%','75%','max'],store_test,test_one,'store')\n",
    "test_one = merge('임대보증금',['min','25%','50%','75%','max'],store_test,test_one,'store')\n",
    "\n",
    "test_one = merge('전용면적',['min','25%','50%','75%','max'],apt_test,test_one,'apt')\n",
    "test_one = merge('전용면적',['mean','std'],store_test,test_one,'store')\n",
    "\n",
    "test_one = test_one.replace(np.nan, 0)"
   ]
  },
  {
   "cell_type": "code",
   "execution_count": 290,
   "metadata": {},
   "outputs": [
    {
     "name": "stdout",
     "output_type": "stream",
     "text": [
      "(414, 57)\n",
      "(147, 56)\n"
     ]
    }
   ],
   "source": [
    "print(train_one.shape)\n",
    "print(test_one.shape)"
   ]
  },
  {
   "cell_type": "markdown",
   "metadata": {},
   "source": [
    "## 유민이 코드추가 "
   ]
  },
  {
   "cell_type": "code",
   "execution_count": 291,
   "metadata": {},
   "outputs": [],
   "source": [
    "# Fitting\n",
    "from sklearn.cross_decomposition import PLSRegression\n",
    "from sklearn.svm import SVR\n",
    "from statsmodels.api import OLS\n",
    "from sklearn.linear_model import LinearRegression, Lasso, ElasticNet, Ridge\n",
    "from sklearn.ensemble import RandomForestRegressor, GradientBoostingRegressor\n",
    "# from xgboost import XGBRegressor\n",
    "# import lightgbm as LGB\n",
    "from catboost import CatBoostRegressor\n",
    "from sklearn.metrics import mean_absolute_error \n",
    "\n",
    "# Validation\n",
    "from sklearn.model_selection import train_test_split\n",
    "from sklearn.model_selection import cross_val_score, KFold, RepeatedKFold"
   ]
  },
  {
   "cell_type": "code",
   "execution_count": null,
   "metadata": {},
   "outputs": [],
   "source": [
    "def fit(X_train, X_test, y_train, y_test, model):\n",
    "    try:\n",
    "        model.fit(X_train, y_train, verbose=500)\n",
    "    except:\n",
    "        model.fit(X_train, y_train)\n",
    "    tst_pred = model.predict(X_test)\n",
    "    error = mean_absolute_error(y_test,tst_pred)\n",
    "    return model, tst_pred, error\n",
    "\n",
    "def fit_models(X_train1, X_test1, y_train1, y_test1, models):\n",
    "    best_error = 400\n",
    "    best_tst_pred = 0\n",
    "    best_model = \"\"\n",
    "    for m in models:\n",
    "        model, tst_pred, error = fit(X_train1, X_test1, y_train1, y_test1, m)\n",
    "        if best_error > error:\n",
    "            best_error = error\n",
    "            best_tst_pred = tst_pred\n",
    "            best_model = model\n",
    "    return best_model, best_tst_pred, best_error"
   ]
  },
  {
   "cell_type": "code",
   "execution_count": 292,
   "metadata": {},
   "outputs": [],
   "source": [
    "def fit(X_train, X_test, y_train, y_test, model, cv=False):\n",
    "    try:\n",
    "        model.fit(X_train, y_train, verbose=False)\n",
    "    except:\n",
    "        model.fit(X_train, y_train)\n",
    "    if cv == False:\n",
    "        tst_pred = model.predict(X_test)\n",
    "        error = mean_absolute_error(y_test,tst_pred)\n",
    "    else:\n",
    "        tst_pred = model.predict(np.concatenate((X_train, X_test),axis=0))\n",
    "        error = mean_absolute_error(np.concatenate((y_train, y_test),axis=0),tst_pred)\n",
    "    return model, tst_pred, error\n",
    "\n",
    "\n",
    "def fit_models(X, y, models, cv=False):\n",
    "    X = np.array(X.reset_index(drop=True))\n",
    "    y = np.array(y.reset_index(drop=True))\n",
    "    best_error = 10000\n",
    "    best_tst_pred = 0\n",
    "    best_model = \"\"\n",
    "    if cv==False:\n",
    "        X_train, X_test, y_train, y_test = train_test_split(X, y, test_size=0.3, shuffle=True,random_state=2021)\n",
    "        for m in models:\n",
    "            model, tst_pred, error = fit(X_train, X_test, y_train, y_test, m)\n",
    "            if best_error > error:\n",
    "                best_error = error\n",
    "                best_tst_pred = tst_pred\n",
    "                best_model = model\n",
    "    else:\n",
    "        kf = KFold(n_splits = 5, shuffle=True,random_state = 2021)\n",
    "        for m in models:\n",
    "            mae = []\n",
    "            pred= []\n",
    "            for train_index, test_index in kf.split(X, y):\n",
    "                X_train, X_test = X[train_index], X[test_index]\n",
    "                y_train, y_test = y[train_index], y[test_index]\n",
    "                model, tst_pred, error = fit(X_train, X_test, y_train, y_test, m, cv=True)\n",
    "                mae.append(error)\n",
    "                pred.append(tst_pred)\n",
    "            cv_error = np.mean(mae)\n",
    "            print(f\"model:{str(m).split('(')[0]}\\nMAE:{cv_error}\")\n",
    "            if best_error > cv_error:\n",
    "                best_error = cv_error\n",
    "                best_tst_pred = pred\n",
    "                best_model = model\n",
    "    return best_model, best_tst_pred, best_error"
   ]
  },
  {
   "cell_type": "code",
   "execution_count": 293,
   "metadata": {},
   "outputs": [],
   "source": [
    "train_one = train_one.drop([\"apt임대료25%\",\"apt임대료75%\",\"apt전용면적25%\",\"apt전용면적75%\",\"store임대료25%\",\"store임대료75%\",\"store임대보증금25%\",\"store임대보증금75%\",\"apt임대보증금25%\",\"apt임대보증금75%\"],axis=1)\n",
    "test_one = test_one.drop([\"apt임대료25%\",\"apt임대료75%\",\"apt전용면적25%\",\"apt전용면적75%\",\"store임대료25%\",\"store임대료75%\",\"store임대보증금25%\",\"store임대보증금75%\",\"apt임대보증금25%\",\"apt임대보증금75%\"],axis=1)\n"
   ]
  },
  {
   "cell_type": "code",
   "execution_count": 294,
   "metadata": {},
   "outputs": [],
   "source": [
    "tr1 = train_one[train_one.세대당_가능주차면수< 0.8304195804195804]\n",
    "tr2 = train_one[train_one.세대당_가능주차면수>= 0.8304195804195804]\n",
    "\n",
    "tst1 = test_one[test_one.세대당_가능주차면수< 0.8304195804195804]\n",
    "tst2 = test_one[test_one.세대당_가능주차면수>= 0.8304195804195804]"
   ]
  },
  {
   "cell_type": "code",
   "execution_count": 295,
   "metadata": {},
   "outputs": [],
   "source": [
    "X1 = tr1.drop(['등록차량수','단지코드'],axis=1)\n",
    "y1 = tr1['등록차량수']\n",
    "# y1 = np.log(tr1['등록차량수'])\n",
    "X_train1, X_test1, y_train1, y_test1 = train_test_split(X1, y1, test_size=0.3,random_state=2021,shuffle=True)\n",
    "\n",
    "# X2 = tr2.drop(['등록차량수','단지코드'],axis=1)\n",
    "# y2 = tr2['등록차량수']\n",
    "# X_train2, X_test2, y_train2, y_test2 = train_test_split(X2, y2, test_size=0.3,random_state=2021,shuffle=True)\n",
    "X2 = tr2.drop(['등록차량수','단지코드'],axis=1)\n",
    "# y2 = np.log(tr2['등록차량수'])\n",
    "y2 = tr2['등록차량수']\n",
    "X_train2, X_test2, y_train2, y_test2 = train_test_split(X2, y2, test_size=0.3,random_state=2021,shuffle=True)"
   ]
  },
  {
   "cell_type": "code",
   "execution_count": 296,
   "metadata": {},
   "outputs": [],
   "source": [
    "test_one.to_csv(\"/Users/seungji/Desktop/Dacon/dataforR/test.csv\",index =False)"
   ]
  },
  {
   "cell_type": "code",
   "execution_count": 297,
   "metadata": {},
   "outputs": [],
   "source": [
    "tst_pred = pd.read_csv(\"/Users/seungji/Desktop/Dacon/dataforR/tst_pred.csv\")"
   ]
  },
  {
   "cell_type": "code",
   "execution_count": 299,
   "metadata": {},
   "outputs": [
    {
     "data": {
      "text/plain": [
       "147"
      ]
     },
     "execution_count": 299,
     "metadata": {},
     "output_type": "execute_result"
    }
   ],
   "source": [
    "len(tst_pred)"
   ]
  },
  {
   "cell_type": "code",
   "execution_count": 301,
   "metadata": {},
   "outputs": [],
   "source": [
    "po_res = pd.concat([test_one[\"단지코드\"],pd.DataFrame(tst_pred)],axis=1)"
   ]
  },
  {
   "cell_type": "code",
   "execution_count": 303,
   "metadata": {},
   "outputs": [
    {
     "data": {
      "text/html": [
       "<div>\n",
       "<style scoped>\n",
       "    .dataframe tbody tr th:only-of-type {\n",
       "        vertical-align: middle;\n",
       "    }\n",
       "\n",
       "    .dataframe tbody tr th {\n",
       "        vertical-align: top;\n",
       "    }\n",
       "\n",
       "    .dataframe thead th {\n",
       "        text-align: right;\n",
       "    }\n",
       "</style>\n",
       "<table border=\"1\" class=\"dataframe\">\n",
       "  <thead>\n",
       "    <tr style=\"text-align: right;\">\n",
       "      <th></th>\n",
       "      <th>단지코드</th>\n",
       "      <th>tst_pred</th>\n",
       "    </tr>\n",
       "  </thead>\n",
       "  <tbody>\n",
       "    <tr>\n",
       "      <th>0</th>\n",
       "      <td>C1072</td>\n",
       "      <td>1,259.2512</td>\n",
       "    </tr>\n",
       "    <tr>\n",
       "      <th>1</th>\n",
       "      <td>C1128</td>\n",
       "      <td>170.2334</td>\n",
       "    </tr>\n",
       "    <tr>\n",
       "      <th>2</th>\n",
       "      <td>C1456</td>\n",
       "      <td>282.9598</td>\n",
       "    </tr>\n",
       "    <tr>\n",
       "      <th>3</th>\n",
       "      <td>C1840</td>\n",
       "      <td>529.7911</td>\n",
       "    </tr>\n",
       "    <tr>\n",
       "      <th>4</th>\n",
       "      <td>C1332</td>\n",
       "      <td>348.6357</td>\n",
       "    </tr>\n",
       "    <tr>\n",
       "      <th>...</th>\n",
       "      <td>...</td>\n",
       "      <td>...</td>\n",
       "    </tr>\n",
       "    <tr>\n",
       "      <th>142</th>\n",
       "      <td>C2456</td>\n",
       "      <td>885.4875</td>\n",
       "    </tr>\n",
       "    <tr>\n",
       "      <th>143</th>\n",
       "      <td>C1266</td>\n",
       "      <td>300.7561</td>\n",
       "    </tr>\n",
       "    <tr>\n",
       "      <th>144</th>\n",
       "      <td>C2152</td>\n",
       "      <td>508.5030</td>\n",
       "    </tr>\n",
       "    <tr>\n",
       "      <th>145</th>\n",
       "      <td>C1267</td>\n",
       "      <td>505.8816</td>\n",
       "    </tr>\n",
       "    <tr>\n",
       "      <th>146</th>\n",
       "      <td>C2189</td>\n",
       "      <td>389.4629</td>\n",
       "    </tr>\n",
       "  </tbody>\n",
       "</table>\n",
       "<p>147 rows × 2 columns</p>\n",
       "</div>"
      ],
      "text/plain": [
       "      단지코드   tst_pred\n",
       "0    C1072 1,259.2512\n",
       "1    C1128   170.2334\n",
       "2    C1456   282.9598\n",
       "3    C1840   529.7911\n",
       "4    C1332   348.6357\n",
       "..     ...        ...\n",
       "142  C2456   885.4875\n",
       "143  C1266   300.7561\n",
       "144  C2152   508.5030\n",
       "145  C1267   505.8816\n",
       "146  C2189   389.4629\n",
       "\n",
       "[147 rows x 2 columns]"
      ]
     },
     "execution_count": 303,
     "metadata": {},
     "output_type": "execute_result"
    }
   ],
   "source": [
    "po_res"
   ]
  },
  {
   "cell_type": "code",
   "execution_count": 302,
   "metadata": {},
   "outputs": [],
   "source": [
    "def myfunc():\n",
    "    cb = pd.read_csv(\"/Users/seungji/Desktop/Dacon/Daesamanlap/EDA_CYR/0713_cb.csv\")\n",
    "    cb = cb.loc[-cb['code'].isin(['C2675', 'C2335', 'C1327']),:].reset_index(drop=True)\n",
    "    return cb"
   ]
  },
  {
   "cell_type": "code",
   "execution_count": 308,
   "metadata": {},
   "outputs": [
    {
     "data": {
      "text/plain": [
       "345.93704335391044"
      ]
     },
     "execution_count": 308,
     "metadata": {},
     "output_type": "execute_result"
    }
   ],
   "source": [
    " mean_absolute_error(po_res[\"tst_pred\"],res['num'])"
   ]
  },
  {
   "cell_type": "code",
   "execution_count": 304,
   "metadata": {},
   "outputs": [],
   "source": [
    "real_y = po_res[\"tst_pred\"]"
   ]
  },
  {
   "cell_type": "code",
   "execution_count": 309,
   "metadata": {},
   "outputs": [
    {
     "data": {
      "text/plain": [
       "345.93704335391044"
      ]
     },
     "execution_count": 309,
     "metadata": {},
     "output_type": "execute_result"
    }
   ],
   "source": [
    "res = myfunc()\n",
    "mean_absolute_error(real_y,res['num'])"
   ]
  },
  {
   "cell_type": "code",
   "execution_count": 310,
   "metadata": {},
   "outputs": [],
   "source": [
    "# result = pd.concat([te.단지코드.reset_index(drop=True), pd.DataFrame(tst_predict)],axis=1)\n",
    "po_res.columns = [\"code\",\"num\"]\n",
    "sample = pd.read_csv(\"/Users/seungji/Desktop/Dacon/parking_data/sample_submission.csv\")\n",
    "sub = sample.merge(po_res, left_on = \"code\", right_on = \"code\",how = \"left\")\n",
    "sub = sub[[\"code\",\"num_y\"]]\n",
    "sub.columns = [\"code\",\"num\"]\n",
    "sub.loc[sub.num<0,\"num\"] = np.min(sub.loc[sub.num>=0,\"num\"])\n",
    "sub.to_csv(\"glm718.csv\",index=False)"
   ]
  },
  {
   "cell_type": "code",
   "execution_count": null,
   "metadata": {},
   "outputs": [],
   "source": []
  },
  {
   "cell_type": "code",
   "execution_count": null,
   "metadata": {},
   "outputs": [],
   "source": [
    "set(X_train1.columns) - set(X_test1.columns)"
   ]
  },
  {
   "cell_type": "code",
   "execution_count": null,
   "metadata": {},
   "outputs": [],
   "source": [
    "\n",
    "models = [\n",
    "#           XGBRegressor(random_state=2021)\n",
    "         ]\n",
    "\n",
    "best_model1, best_tst_pred1, best_error1 = fit_models(X_train1, X_test1, y_train1, y_test1, models)\n",
    "print(best_model1, best_error1)\n",
    "\n",
    "best_model2, best_tst_pred2, best_error2 = fit_models(X_train2, X_test2, y_train2, y_test2, models)\n",
    "print(best_model2, best_error2)"
   ]
  },
  {
   "cell_type": "code",
   "execution_count": null,
   "metadata": {},
   "outputs": [],
   "source": [
    "list(X_train1.columns[X_train1.sum() == 0])"
   ]
  },
  {
   "cell_type": "code",
   "execution_count": null,
   "metadata": {},
   "outputs": [],
   "source": [
    "list(X_train2.columns[X_train1.sum() == 0])"
   ]
  },
  {
   "cell_type": "code",
   "execution_count": null,
   "metadata": {},
   "outputs": [],
   "source": [
    "X_train1.columns"
   ]
  },
  {
   "cell_type": "code",
   "execution_count": null,
   "metadata": {},
   "outputs": [],
   "source": [
    "X_test1.columns"
   ]
  },
  {
   "cell_type": "code",
   "execution_count": null,
   "metadata": {},
   "outputs": [],
   "source": [
    "X_test1 = X_test1.drop(list(X_train1.columns[X_train1.sum() == 0]),axis=1)\n",
    "X_train1 = X_train1.drop(list(X_train1.columns[X_train1.sum() == 0]),axis=1)\n",
    "X_test2 = X_test2.drop(list(X_train2.columns[X_train2.sum() == 0]),axis=1)\n",
    "X_train2 = X_train2.drop(list(X_train2.columns[X_train2.sum() == 0]),axis=1)\n"
   ]
  },
  {
   "cell_type": "markdown",
   "metadata": {},
   "source": [
    "X_test1.to_csv(\"/Users/seungji/Desktop/Dacon/dataforR/X_test1.csv\",index =False)\n",
    "X_train1.to_csv(\"/Users/seungji/Desktop/Dacon/dataforR/X_train1.csv\",index =False)\n",
    "X_test2.to_csv(\"/Users/seungji/Desktop/Dacon/dataforR/X_test2.csv\",index =False)\n",
    "X_train2.to_csv(\"/Users/seungji/Desktop/Dacon/dataforR/X_train2.csv\",index =False)\n",
    "y_test1.to_csv(\"/Users/seungji/Desktop/Dacon/dataforR/y_test1.csv\",index =False)\n",
    "y_train1.to_csv(\"/Users/seungji/Desktop/Dacon/dataforR/y_train1.csv\",index =False)\n",
    "y_test2.to_csv(\"/Users/seungji/Desktop/Dacon/dataforR/y_test2.csv\",index =False)\n",
    "y_train2.to_csv(\"/Users/seungji/Desktop/Dacon/dataforR/y_train2.csv\",index =False)\n"
   ]
  },
  {
   "cell_type": "code",
   "execution_count": null,
   "metadata": {},
   "outputs": [],
   "source": []
  },
  {
   "cell_type": "code",
   "execution_count": null,
   "metadata": {},
   "outputs": [],
   "source": [
    "X_train1.shape, y_train1.shape, X_test1.shape"
   ]
  },
  {
   "cell_type": "code",
   "execution_count": null,
   "metadata": {},
   "outputs": [],
   "source": [
    "X_train2.shape, y_train2.shape, X_test2.shape"
   ]
  },
  {
   "cell_type": "code",
   "execution_count": null,
   "metadata": {
    "scrolled": false
   },
   "outputs": [],
   "source": [
    "np.array(y_train1)"
   ]
  },
  {
   "cell_type": "code",
   "execution_count": null,
   "metadata": {},
   "outputs": [],
   "source": [
    "from statsmodels.genmod.generalized_linear_model import GLM\n",
    "from statsmodels.genmod.families import Poisson"
   ]
  },
  {
   "cell_type": "code",
   "execution_count": null,
   "metadata": {},
   "outputs": [],
   "source": [
    "y_train1"
   ]
  },
  {
   "cell_type": "code",
   "execution_count": null,
   "metadata": {},
   "outputs": [],
   "source": [
    "model = GLM(y_train1,X_train1,family=Poisson())\n",
    "model = model.fit()\n",
    "mean_absolute_error(list(model.predict(X_test1)),y_test1)"
   ]
  },
  {
   "cell_type": "code",
   "execution_count": null,
   "metadata": {},
   "outputs": [],
   "source": [
    "model = GLM(y_train2,X_train2,family=Poisson())\n",
    "model = model.fit()\n",
    "mean_absolute_error(list(model.predict(X_test2)),y_test2)"
   ]
  },
  {
   "cell_type": "code",
   "execution_count": null,
   "metadata": {},
   "outputs": [],
   "source": [
    "from sklearn import linear_model\n",
    "model = linear_model.PoissonRegressor()\n",
    "model = model.fit(X_train1,y_train1)\n",
    "model.predict(X_test1)"
   ]
  },
  {
   "cell_type": "code",
   "execution_count": null,
   "metadata": {},
   "outputs": [],
   "source": [
    "from sklearn import linear_model\n",
    "model = LinearRegression()\n",
    "model = model.fit(X_train1,y_train1)\n",
    "model.predict(X_test1)"
   ]
  },
  {
   "cell_type": "code",
   "execution_count": null,
   "metadata": {},
   "outputs": [],
   "source": [
    "from sklearn import linear_model\n",
    "model = linear_model.PoissonRegressor()\n",
    "model.fit(X_train1,y_train1)\n",
    "model.predict(X_test1)"
   ]
  },
  {
   "cell_type": "code",
   "execution_count": null,
   "metadata": {},
   "outputs": [],
   "source": [
    "model.coef_"
   ]
  },
  {
   "cell_type": "code",
   "execution_count": null,
   "metadata": {},
   "outputs": [],
   "source": [
    "data = X_train1\n",
    "data.exog = sm.add_constant(data,prepend=False)"
   ]
  },
  {
   "cell_type": "code",
   "execution_count": null,
   "metadata": {},
   "outputs": [],
   "source": [
    "import statsmodels.api as sm\n",
    "from scipy import stats\n",
    "model = sm.GLM(data.exog,X_test1,family = sm.families.Poisson())\n",
    "model_rs = model.fit()\n",
    "print(model_rs.summary())"
   ]
  },
  {
   "cell_type": "code",
   "execution_count": null,
   "metadata": {},
   "outputs": [],
   "source": []
  },
  {
   "cell_type": "code",
   "execution_count": null,
   "metadata": {},
   "outputs": [],
   "source": []
  },
  {
   "cell_type": "code",
   "execution_count": null,
   "metadata": {
    "scrolled": true
   },
   "outputs": [],
   "source": [
    "train[train.단지코드.isin([\"C1176\"])]"
   ]
  },
  {
   "cell_type": "code",
   "execution_count": null,
   "metadata": {},
   "outputs": [],
   "source": [
    "train[train.단지코드.isin([\"C1363\"])]"
   ]
  },
  {
   "cell_type": "code",
   "execution_count": null,
   "metadata": {},
   "outputs": [],
   "source": [
    "train.describe()"
   ]
  },
  {
   "cell_type": "code",
   "execution_count": null,
   "metadata": {
    "scrolled": false
   },
   "outputs": [],
   "source": [
    "train[train.단지코드.isin([\"C2612\"])]"
   ]
  },
  {
   "cell_type": "code",
   "execution_count": null,
   "metadata": {},
   "outputs": [],
   "source": [
    "from sklearn.model_selection import KFold"
   ]
  },
  {
   "cell_type": "code",
   "execution_count": null,
   "metadata": {},
   "outputs": [],
   "source": [
    "kf = KFold(n_splits = 5,random_state = 2021)\n",
    "mae = []\n",
    "for train_index, test_index in kf.split(X_tr, y):\n",
    "    X_train, X_test = X_tr[train_index], X_tr[test_index]\n",
    "    y_train, y_test = y[train_index], y[test_index]\n",
    "    model = LinearDiscriminantAnalysis()\n",
    "    model.fit(X_train, y_train)\n",
    "    mae.append(mean_absolute_error(y_test,model.predict(X_test)))\n",
    "np.mean(mae)"
   ]
  },
  {
   "cell_type": "code",
   "execution_count": null,
   "metadata": {},
   "outputs": [],
   "source": []
  }
 ],
 "metadata": {
  "kernelspec": {
   "display_name": "Python 3",
   "language": "python",
   "name": "python3"
  },
  "language_info": {
   "codemirror_mode": {
    "name": "ipython",
    "version": 3
   },
   "file_extension": ".py",
   "mimetype": "text/x-python",
   "name": "python",
   "nbconvert_exporter": "python",
   "pygments_lexer": "ipython3",
   "version": "3.8.5"
  }
 },
 "nbformat": 4,
 "nbformat_minor": 4
}
