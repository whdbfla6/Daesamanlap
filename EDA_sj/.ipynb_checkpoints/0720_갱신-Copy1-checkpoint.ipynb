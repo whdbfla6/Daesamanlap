{
 "cells": [
  {
   "cell_type": "code",
   "execution_count": 670,
   "metadata": {},
   "outputs": [],
   "source": [
    "#Package\n",
    "import pandas as pd\n",
    "import numpy as np\n",
    "import matplotlib\n",
    "from matplotlib import pyplot as plt\n",
    "import seaborn as sns\n",
    "plt.rcParams['font.family'] = 'NanumGothic'\n",
    "import warnings\n",
    "warnings.filterwarnings(action='ignore')\n",
    "# pd.set_option('display.max_rows', None)\n",
    "import pandas as pd\n",
    "pd.options.display.float_format = '{:,.4f}'.format\n",
    "pd.options.display.max_rows = 100\n",
    "pd.options.display.max_columns = 40\n",
    "import numpy as np\n",
    "import os,random, math\n",
    "from tqdm import tqdm\n",
    "from copy import deepcopy\n",
    "from collections import Counter\n",
    "\n",
    "# Visualization\n",
    "import seaborn as sns\n",
    "import matplotlib\n",
    "import matplotlib.pyplot as plt\n",
    "%matplotlib inline\n",
    "from matplotlib import font_manager, rc\n",
    "plt.rcParams['font.family'] = 'NanumGothic'\n",
    "import platform\n",
    "if platform.system() == 'Windows':\n",
    "    font_name = font_manager.FontProperties(fname=\"c:/Windows/Fonts/malgun.ttf\").get_name()\n",
    "    rc('font', family=font_name)\n",
    "else:    \n",
    "    rc('font', family='AppleGothic')\n",
    "\n",
    "matplotlib.rcParams['axes.unicode_minus'] = False\n",
    "\n",
    "# from dataprep.eda import plot, plot_correlation, plot_missing\n",
    "\n",
    "import plotly \n",
    "import plotly.express as px\n",
    "# from plotly import tools, subplots\n",
    "# import plotly.offline as py\n",
    "# py.init_notebook_mode(connected=True)\n",
    "# from plotly.offline import init_notebook_mode, iplot\n",
    "# import plotly.graph_objs as go\n",
    "# import plotly.express as px\n",
    "\n",
    "# Warnings\n",
    "import warnings\n",
    "warnings.filterwarnings('always')\n",
    "warnings.filterwarnings('ignore')\n"
   ]
  },
  {
   "cell_type": "code",
   "execution_count": 671,
   "metadata": {},
   "outputs": [],
   "source": [
    "test = pd.read_csv(\"/Users/seungji/Desktop/Dacon/Daesamanlap/ProcessedData/merged_test.csv\")\n",
    "train = pd.read_csv(\"/Users/seungji/Desktop/Dacon/Daesamanlap/ProcessedData/merged_train.csv\")"
   ]
  },
  {
   "cell_type": "code",
   "execution_count": 672,
   "metadata": {
    "scrolled": true
   },
   "outputs": [
    {
     "name": "stdout",
     "output_type": "stream",
     "text": [
      "414 147\n"
     ]
    }
   ],
   "source": [
    "print(len(set(train.단지코드)), len(set(test.단지코드)))"
   ]
  },
  {
   "cell_type": "code",
   "execution_count": 673,
   "metadata": {
    "scrolled": true
   },
   "outputs": [
    {
     "name": "stdout",
     "output_type": "stream",
     "text": [
      "(2896, 34) (1008, 33)\n"
     ]
    }
   ],
   "source": [
    "print(train.shape, test.shape)"
   ]
  },
  {
   "cell_type": "code",
   "execution_count": 674,
   "metadata": {},
   "outputs": [],
   "source": [
    "train=train.drop_duplicates(keep='first')\n",
    "test=test.drop_duplicates(keep='first')"
   ]
  },
  {
   "cell_type": "code",
   "execution_count": 675,
   "metadata": {},
   "outputs": [
    {
     "name": "stdout",
     "output_type": "stream",
     "text": [
      "(2577, 34) (936, 33)\n"
     ]
    }
   ],
   "source": [
    "print(train.shape, test.shape)"
   ]
  },
  {
   "cell_type": "markdown",
   "metadata": {},
   "source": [
    "## 상가비율, 대형전용면적, 세대당가능주차면수, 공가수"
   ]
  },
  {
   "cell_type": "code",
   "execution_count": 676,
   "metadata": {},
   "outputs": [
    {
     "name": "stdout",
     "output_type": "stream",
     "text": [
      "\n",
      "...Before preprocessing\n",
      "(2577, 34) (936, 33)\n",
      "\n",
      "...After preprocessing\n",
      "(2577, 38) (936, 37)\n"
     ]
    }
   ],
   "source": [
    "print(\"\\n...Before preprocessing\")\n",
    "print(train.shape, test.shape)\n",
    "\n",
    "# 상가비율 column 추가\n",
    "train_cls = pd.concat([train[['단지코드']], pd.get_dummies(train[['임대건물구분']])], axis=1).groupby('단지코드').sum()\n",
    "tot = train_cls['임대건물구분_상가']+train_cls['임대건물구분_아파트']\n",
    "train_cls['상가비율'] = train_cls['임대건물구분_상가']/tot\n",
    "train = pd.merge(train,train_cls[['상가비율']].reset_index(),on='단지코드')\n",
    "\n",
    "test_cls = pd.concat([test[['단지코드']], pd.get_dummies(test[['임대건물구분']])], axis=1).groupby('단지코드').sum()\n",
    "tot = test_cls['임대건물구분_상가']+test_cls['임대건물구분_아파트']\n",
    "test_cls['상가비율'] = test_cls['임대건물구분_상가']/tot\n",
    "test = pd.merge(test,test_cls[['상가비율']].reset_index(),on='단지코드')\n",
    "\n",
    "# 세대당_가능주차면수 column 추기\n",
    "train['세대당_가능주차면수'] = train['단지내주차면수']/train['총세대수']\n",
    "test['세대당_가능주차면수'] = test['단지내주차면수']/test['총세대수']\n",
    "\n",
    "# 공가수비율 column 추가\n",
    "train['공가수비율']= train.공가수/train.총세대수 \n",
    "test['공가수비율']= test.공가수/test.총세대수 \n",
    "\n",
    "# 대형전용면적 column 추가\n",
    "level = 85\n",
    "train['대형전용면적'] = 0\n",
    "train.loc[train.전용면적>level, '대형전용면적'] = 1\n",
    "train.loc[train.전용면적<=level, '대형전용면적'] = 0\n",
    "\n",
    "test['대형전용면적'] = 0\n",
    "test.loc[test.전용면적>level, '대형전용면적'] = 1\n",
    "test.loc[test.전용면적<=level, '대형전용면적'] = 0\n",
    "\n",
    "# check\n",
    "print(\"\\n...After preprocessing\")\n",
    "print(train.shape, test.shape)"
   ]
  },
  {
   "cell_type": "code",
   "execution_count": 677,
   "metadata": {},
   "outputs": [],
   "source": [
    "#train[\"법정동_세대수\"]=(train.총인구수/train.세대당_인구)/train.총세대수\n",
    "#test[\"법정동_세대수\"]=(test.총인구수/test.세대당_인구)/test.총세대수\n",
    "\n",
    "#train[\"임대비율\"]=train.임대보증금/train.임대료\n",
    "#test[\"임대비율\"]=test.임대보증금/test.임대료\n",
    "\n",
    "#train[\"잉여주차\"]=train.단지내주차면수-train.총세대수\n",
    "#test[\"잉여주차\"]=test.단지내주차면수-test.총세대수"
   ]
  },
  {
   "cell_type": "code",
   "execution_count": 678,
   "metadata": {},
   "outputs": [],
   "source": [
    "#train.subway_dist=1/train.subway_dist\n",
    "#test.subway_dist=1/test.subway_dist\n",
    "#train.loc[(train.subway_dist<0.529094), \"subway_dist\"]=0\n",
    "#test.loc[(test.subway_dist<0.529094), \"subway_dist\"]=0"
   ]
  },
  {
   "cell_type": "markdown",
   "metadata": {},
   "source": [
    "# 자격유형"
   ]
  },
  {
   "cell_type": "code",
   "execution_count": 679,
   "metadata": {},
   "outputs": [],
   "source": [
    "dic = {'1': 'A' ,'2':['C','F','G'],'3':['B','H','I'],'4':['J'],\n",
    "       '5':['L',\"M\",\"N\",\"O\"],'6':[\"E\",\"K\"],'7':'D'}"
   ]
  },
  {
   "cell_type": "code",
   "execution_count": 680,
   "metadata": {},
   "outputs": [],
   "source": [
    "def mapping_by_key(dic, x):\n",
    "    for i in dic.keys():\n",
    "        if x in dic[i]:\n",
    "            return int(i)"
   ]
  },
  {
   "cell_type": "code",
   "execution_count": 681,
   "metadata": {},
   "outputs": [],
   "source": [
    "train['자격유형_카테고리'] = train['자격유형'].apply(lambda x : mapping_by_key(dic, x))\n",
    "train['자격유형_카테고리'] = train['자격유형_카테고리'].astype(object)\n",
    "test['자격유형_카테고리'] = test['자격유형'].apply(lambda x : mapping_by_key(dic, x))\n",
    "test['자격유형_카테고리'] = test['자격유형_카테고리'].astype(object)\n",
    "train= train.drop(columns=\"자격유형\")\n",
    "test= test.drop(columns=\"자격유형\")"
   ]
  },
  {
   "cell_type": "markdown",
   "metadata": {},
   "source": [
    "# 공급유형"
   ]
  },
  {
   "cell_type": "code",
   "execution_count": 682,
   "metadata": {},
   "outputs": [],
   "source": [
    "train.loc[train.공급유형.isin(['공공임대(5년)', '공공임대(10년)']), '공급유형'] = '공공임대(단기)'\n",
    "test.loc[test.공급유형.isin(['공공임대(5년)', '공공임대(10년)']), '공급유형'] = '공공임대(단기)'"
   ]
  },
  {
   "cell_type": "code",
   "execution_count": 683,
   "metadata": {},
   "outputs": [
    {
     "data": {
      "text/plain": [
       "((2577, 38), (936, 37))"
      ]
     },
     "execution_count": 683,
     "metadata": {},
     "output_type": "execute_result"
    }
   ],
   "source": [
    "train.shape, test.shape"
   ]
  },
  {
   "cell_type": "markdown",
   "metadata": {},
   "source": [
    "# 1차원"
   ]
  },
  {
   "cell_type": "code",
   "execution_count": 684,
   "metadata": {},
   "outputs": [
    {
     "data": {
      "text/plain": [
       "Index(['단지코드', '총세대수', '임대건물구분', '지역', '공급유형', '전용면적', '전용면적별세대수', '공가수',\n",
       "       '임대보증금', '임대료', '지하철역', '버스정류장', '단지내주차면수', '등록차량수', '단지명', '도로명주소',\n",
       "       '연면적', '위도', '경도', 'subway_name', 'subway_dist', '환승역 수', '총인구수',\n",
       "       '세대당_인구', '남/여비율', '남/여_0~19세', '남/여_20~39세', '남/여_40~69세', '남/여_70세이상',\n",
       "       '0~19세_비율', '20~39세_비율', '40~69세_비율', '70세이상_비율', '상가비율', '세대당_가능주차면수',\n",
       "       '공가수비율', '대형전용면적', '자격유형_카테고리'],\n",
       "      dtype='object')"
      ]
     },
     "execution_count": 684,
     "metadata": {},
     "output_type": "execute_result"
    }
   ],
   "source": [
    "train.columns"
   ]
  },
  {
   "cell_type": "code",
   "execution_count": 685,
   "metadata": {},
   "outputs": [
    {
     "data": {
      "text/plain": [
       "414"
      ]
     },
     "execution_count": 685,
     "metadata": {},
     "output_type": "execute_result"
    }
   ],
   "source": [
    "len(set(train.단지코드))"
   ]
  },
  {
   "cell_type": "code",
   "execution_count": 686,
   "metadata": {},
   "outputs": [],
   "source": [
    "data = train.drop(columns=['공급유형','자격유형_카테고리','전용면적','임대건물구분',\n",
    "                           '전용면적별세대수','대형전용면적','자격유형_카테고리',\n",
    "                           '임대보증금','임대료'])\n",
    "data = data.drop_duplicates()"
   ]
  },
  {
   "cell_type": "code",
   "execution_count": 687,
   "metadata": {},
   "outputs": [
    {
     "data": {
      "text/plain": [
       "(414, 30)"
      ]
     },
     "execution_count": 687,
     "metadata": {},
     "output_type": "execute_result"
    }
   ],
   "source": [
    "data.shape"
   ]
  },
  {
   "cell_type": "code",
   "execution_count": 688,
   "metadata": {},
   "outputs": [
    {
     "data": {
      "text/html": [
       "<div>\n",
       "<style scoped>\n",
       "    .dataframe tbody tr th:only-of-type {\n",
       "        vertical-align: middle;\n",
       "    }\n",
       "\n",
       "    .dataframe tbody tr th {\n",
       "        vertical-align: top;\n",
       "    }\n",
       "\n",
       "    .dataframe thead th {\n",
       "        text-align: right;\n",
       "    }\n",
       "</style>\n",
       "<table border=\"1\" class=\"dataframe\">\n",
       "  <thead>\n",
       "    <tr style=\"text-align: right;\">\n",
       "      <th></th>\n",
       "      <th>단지코드</th>\n",
       "      <th>공급유형</th>\n",
       "      <th>전용면적별세대수</th>\n",
       "    </tr>\n",
       "  </thead>\n",
       "  <tbody>\n",
       "    <tr>\n",
       "      <th>0</th>\n",
       "      <td>C1000</td>\n",
       "      <td>국민임대</td>\n",
       "      <td>566</td>\n",
       "    </tr>\n",
       "    <tr>\n",
       "      <th>1</th>\n",
       "      <td>C1004</td>\n",
       "      <td>영구임대</td>\n",
       "      <td>504</td>\n",
       "    </tr>\n",
       "    <tr>\n",
       "      <th>2</th>\n",
       "      <td>C1004</td>\n",
       "      <td>임대상가</td>\n",
       "      <td>13</td>\n",
       "    </tr>\n",
       "    <tr>\n",
       "      <th>3</th>\n",
       "      <td>C1005</td>\n",
       "      <td>국민임대</td>\n",
       "      <td>1144</td>\n",
       "    </tr>\n",
       "    <tr>\n",
       "      <th>4</th>\n",
       "      <td>C1013</td>\n",
       "      <td>국민임대</td>\n",
       "      <td>1308</td>\n",
       "    </tr>\n",
       "  </tbody>\n",
       "</table>\n",
       "</div>"
      ],
      "text/plain": [
       "    단지코드  공급유형  전용면적별세대수\n",
       "0  C1000  국민임대       566\n",
       "1  C1004  영구임대       504\n",
       "2  C1004  임대상가        13\n",
       "3  C1005  국민임대      1144\n",
       "4  C1013  국민임대      1308"
      ]
     },
     "execution_count": 688,
     "metadata": {},
     "output_type": "execute_result"
    }
   ],
   "source": [
    "sample = pd.DataFrame(train.groupby(['단지코드','공급유형']).sum()['전용면적별세대수']).reset_index()\n",
    "sample.head()"
   ]
  },
  {
   "cell_type": "code",
   "execution_count": 689,
   "metadata": {},
   "outputs": [],
   "source": [
    "for i in sample.공급유형.unique():\n",
    "    data[str(i)]=0"
   ]
  },
  {
   "cell_type": "code",
   "execution_count": 690,
   "metadata": {},
   "outputs": [],
   "source": [
    "for i in sample.index:\n",
    "    code = sample.loc[i,'단지코드']\n",
    "    col = sample.loc[i,'공급유형']\n",
    "    val = sample.loc[i,'전용면적별세대수']  # 전용면적별세대수\n",
    "    ind = data[data['단지코드']==code].index\n",
    "    data.loc[ind,col] = val"
   ]
  },
  {
   "cell_type": "code",
   "execution_count": 691,
   "metadata": {},
   "outputs": [
    {
     "data": {
      "text/html": [
       "<div>\n",
       "<style scoped>\n",
       "    .dataframe tbody tr th:only-of-type {\n",
       "        vertical-align: middle;\n",
       "    }\n",
       "\n",
       "    .dataframe tbody tr th {\n",
       "        vertical-align: top;\n",
       "    }\n",
       "\n",
       "    .dataframe thead th {\n",
       "        text-align: right;\n",
       "    }\n",
       "</style>\n",
       "<table border=\"1\" class=\"dataframe\">\n",
       "  <thead>\n",
       "    <tr style=\"text-align: right;\">\n",
       "      <th></th>\n",
       "      <th>단지코드</th>\n",
       "      <th>임대료</th>\n",
       "      <th>임대보증금</th>\n",
       "    </tr>\n",
       "  </thead>\n",
       "  <tbody>\n",
       "    <tr>\n",
       "      <th>0</th>\n",
       "      <td>C1000</td>\n",
       "      <td>121,064.2857</td>\n",
       "      <td>13,203,571.4286</td>\n",
       "    </tr>\n",
       "    <tr>\n",
       "      <th>1</th>\n",
       "      <td>C1004</td>\n",
       "      <td>877,964.1872</td>\n",
       "      <td>10,383,958.6857</td>\n",
       "    </tr>\n",
       "    <tr>\n",
       "      <th>2</th>\n",
       "      <td>C1005</td>\n",
       "      <td>222,046.6667</td>\n",
       "      <td>17,107,666.6667</td>\n",
       "    </tr>\n",
       "    <tr>\n",
       "      <th>3</th>\n",
       "      <td>C1013</td>\n",
       "      <td>134,726.0000</td>\n",
       "      <td>24,924,800.0000</td>\n",
       "    </tr>\n",
       "    <tr>\n",
       "      <th>4</th>\n",
       "      <td>C1014</td>\n",
       "      <td>160,488.5714</td>\n",
       "      <td>23,894,000.0000</td>\n",
       "    </tr>\n",
       "  </tbody>\n",
       "</table>\n",
       "</div>"
      ],
      "text/plain": [
       "    단지코드          임대료           임대보증금\n",
       "0  C1000 121,064.2857 13,203,571.4286\n",
       "1  C1004 877,964.1872 10,383,958.6857\n",
       "2  C1005 222,046.6667 17,107,666.6667\n",
       "3  C1013 134,726.0000 24,924,800.0000\n",
       "4  C1014 160,488.5714 23,894,000.0000"
      ]
     },
     "execution_count": 691,
     "metadata": {},
     "output_type": "execute_result"
    }
   ],
   "source": [
    "sample = train.groupby('단지코드').mean()[['임대료','임대보증금']].reset_index()\n",
    "sample.head()"
   ]
  },
  {
   "cell_type": "code",
   "execution_count": 692,
   "metadata": {},
   "outputs": [],
   "source": [
    "for i in sample.index:\n",
    "    code = sample.loc[i,'단지코드']\n",
    "    val1 = sample.loc[i,'임대료']\n",
    "    val2 = sample.loc[i,'임대보증금']\n",
    "    ind = data[data['단지코드']==code].index\n",
    "    data.loc[ind,'임대료'] = val1\n",
    "    data.loc[ind,'임대보증금'] = val2"
   ]
  },
  {
   "cell_type": "code",
   "execution_count": 693,
   "metadata": {},
   "outputs": [
    {
     "data": {
      "text/html": [
       "<div>\n",
       "<style scoped>\n",
       "    .dataframe tbody tr th:only-of-type {\n",
       "        vertical-align: middle;\n",
       "    }\n",
       "\n",
       "    .dataframe tbody tr th {\n",
       "        vertical-align: top;\n",
       "    }\n",
       "\n",
       "    .dataframe thead th {\n",
       "        text-align: right;\n",
       "    }\n",
       "</style>\n",
       "<table border=\"1\" class=\"dataframe\">\n",
       "  <thead>\n",
       "    <tr style=\"text-align: right;\">\n",
       "      <th></th>\n",
       "      <th>단지코드</th>\n",
       "      <th>자격유형_카테고리</th>\n",
       "      <th>전용면적별세대수</th>\n",
       "    </tr>\n",
       "  </thead>\n",
       "  <tbody>\n",
       "    <tr>\n",
       "      <th>0</th>\n",
       "      <td>C1000</td>\n",
       "      <td>1</td>\n",
       "      <td>566</td>\n",
       "    </tr>\n",
       "    <tr>\n",
       "      <th>1</th>\n",
       "      <td>C1004</td>\n",
       "      <td>2</td>\n",
       "      <td>504</td>\n",
       "    </tr>\n",
       "    <tr>\n",
       "      <th>2</th>\n",
       "      <td>C1004</td>\n",
       "      <td>7</td>\n",
       "      <td>13</td>\n",
       "    </tr>\n",
       "    <tr>\n",
       "      <th>3</th>\n",
       "      <td>C1005</td>\n",
       "      <td>1</td>\n",
       "      <td>1144</td>\n",
       "    </tr>\n",
       "    <tr>\n",
       "      <th>4</th>\n",
       "      <td>C1013</td>\n",
       "      <td>1</td>\n",
       "      <td>1308</td>\n",
       "    </tr>\n",
       "  </tbody>\n",
       "</table>\n",
       "</div>"
      ],
      "text/plain": [
       "    단지코드  자격유형_카테고리  전용면적별세대수\n",
       "0  C1000          1       566\n",
       "1  C1004          2       504\n",
       "2  C1004          7        13\n",
       "3  C1005          1      1144\n",
       "4  C1013          1      1308"
      ]
     },
     "execution_count": 693,
     "metadata": {},
     "output_type": "execute_result"
    }
   ],
   "source": [
    "sample = pd.DataFrame(train.groupby(['단지코드','자격유형_카테고리']).sum()['전용면적별세대수']).reset_index()\n",
    "sample.head()"
   ]
  },
  {
   "cell_type": "code",
   "execution_count": 694,
   "metadata": {
    "scrolled": true
   },
   "outputs": [],
   "source": [
    "for i in sample.index:\n",
    "    code = sample.loc[i,'단지코드']\n",
    "    col = sample.loc[i,'자격유형_카테고리']\n",
    "    val = sample.loc[i,'전용면적별세대수']\n",
    "    ind = data[data['단지코드']==code].index\n",
    "    data.loc[ind,col] = val"
   ]
  },
  {
   "cell_type": "code",
   "execution_count": 695,
   "metadata": {},
   "outputs": [],
   "source": [
    "data=data.fillna(0)"
   ]
  },
  {
   "cell_type": "code",
   "execution_count": 696,
   "metadata": {
    "scrolled": true
   },
   "outputs": [
    {
     "data": {
      "text/html": [
       "<div>\n",
       "<style scoped>\n",
       "    .dataframe tbody tr th:only-of-type {\n",
       "        vertical-align: middle;\n",
       "    }\n",
       "\n",
       "    .dataframe tbody tr th {\n",
       "        vertical-align: top;\n",
       "    }\n",
       "\n",
       "    .dataframe thead th {\n",
       "        text-align: right;\n",
       "    }\n",
       "</style>\n",
       "<table border=\"1\" class=\"dataframe\">\n",
       "  <thead>\n",
       "    <tr style=\"text-align: right;\">\n",
       "      <th></th>\n",
       "      <th>단지코드</th>\n",
       "      <th>대형전용면적</th>\n",
       "    </tr>\n",
       "  </thead>\n",
       "  <tbody>\n",
       "    <tr>\n",
       "      <th>0</th>\n",
       "      <td>C1000</td>\n",
       "      <td>0</td>\n",
       "    </tr>\n",
       "    <tr>\n",
       "      <th>1</th>\n",
       "      <td>C1004</td>\n",
       "      <td>1</td>\n",
       "    </tr>\n",
       "    <tr>\n",
       "      <th>2</th>\n",
       "      <td>C1005</td>\n",
       "      <td>0</td>\n",
       "    </tr>\n",
       "    <tr>\n",
       "      <th>3</th>\n",
       "      <td>C1013</td>\n",
       "      <td>0</td>\n",
       "    </tr>\n",
       "    <tr>\n",
       "      <th>4</th>\n",
       "      <td>C1014</td>\n",
       "      <td>0</td>\n",
       "    </tr>\n",
       "  </tbody>\n",
       "</table>\n",
       "</div>"
      ],
      "text/plain": [
       "    단지코드  대형전용면적\n",
       "0  C1000       0\n",
       "1  C1004       1\n",
       "2  C1005       0\n",
       "3  C1013       0\n",
       "4  C1014       0"
      ]
     },
     "execution_count": 696,
     "metadata": {},
     "output_type": "execute_result"
    }
   ],
   "source": [
    "sample = pd.DataFrame(train.groupby('단지코드')['대형전용면적'].sum()).reset_index()\n",
    "sample.head()"
   ]
  },
  {
   "cell_type": "code",
   "execution_count": 697,
   "metadata": {},
   "outputs": [],
   "source": [
    "data=pd.merge(data, sample, on=\"단지코드\", how=\"inner\")"
   ]
  },
  {
   "cell_type": "markdown",
   "metadata": {},
   "source": [
    "# Test에 똑같이"
   ]
  },
  {
   "cell_type": "code",
   "execution_count": 698,
   "metadata": {},
   "outputs": [
    {
     "name": "stdout",
     "output_type": "stream",
     "text": [
      "147\n"
     ]
    },
    {
     "data": {
      "text/plain": [
       "(147, 29)"
      ]
     },
     "execution_count": 698,
     "metadata": {},
     "output_type": "execute_result"
    }
   ],
   "source": [
    "print(len(set(test.단지코드)))\n",
    "dat = test.drop(columns=['공급유형','자격유형_카테고리','전용면적','임대건물구분',\n",
    "                           '전용면적별세대수','대형전용면적','자격유형_카테고리',\n",
    "                           '임대보증금','임대료'])\n",
    "dat = dat.drop_duplicates()\n",
    "dat.shape"
   ]
  },
  {
   "cell_type": "code",
   "execution_count": 699,
   "metadata": {},
   "outputs": [
    {
     "data": {
      "text/html": [
       "<div>\n",
       "<style scoped>\n",
       "    .dataframe tbody tr th:only-of-type {\n",
       "        vertical-align: middle;\n",
       "    }\n",
       "\n",
       "    .dataframe tbody tr th {\n",
       "        vertical-align: top;\n",
       "    }\n",
       "\n",
       "    .dataframe thead th {\n",
       "        text-align: right;\n",
       "    }\n",
       "</style>\n",
       "<table border=\"1\" class=\"dataframe\">\n",
       "  <thead>\n",
       "    <tr style=\"text-align: right;\">\n",
       "      <th></th>\n",
       "      <th>단지코드</th>\n",
       "      <th>공급유형</th>\n",
       "      <th>전용면적별세대수</th>\n",
       "    </tr>\n",
       "  </thead>\n",
       "  <tbody>\n",
       "    <tr>\n",
       "      <th>0</th>\n",
       "      <td>C1003</td>\n",
       "      <td>행복주택</td>\n",
       "      <td>480</td>\n",
       "    </tr>\n",
       "    <tr>\n",
       "      <th>1</th>\n",
       "      <td>C1006</td>\n",
       "      <td>영구임대</td>\n",
       "      <td>1475</td>\n",
       "    </tr>\n",
       "    <tr>\n",
       "      <th>2</th>\n",
       "      <td>C1006</td>\n",
       "      <td>임대상가</td>\n",
       "      <td>13</td>\n",
       "    </tr>\n",
       "    <tr>\n",
       "      <th>3</th>\n",
       "      <td>C1016</td>\n",
       "      <td>국민임대</td>\n",
       "      <td>643</td>\n",
       "    </tr>\n",
       "    <tr>\n",
       "      <th>4</th>\n",
       "      <td>C1019</td>\n",
       "      <td>국민임대</td>\n",
       "      <td>321</td>\n",
       "    </tr>\n",
       "  </tbody>\n",
       "</table>\n",
       "</div>"
      ],
      "text/plain": [
       "    단지코드  공급유형  전용면적별세대수\n",
       "0  C1003  행복주택       480\n",
       "1  C1006  영구임대      1475\n",
       "2  C1006  임대상가        13\n",
       "3  C1016  국민임대       643\n",
       "4  C1019  국민임대       321"
      ]
     },
     "execution_count": 699,
     "metadata": {},
     "output_type": "execute_result"
    }
   ],
   "source": [
    "sample = pd.DataFrame(test.groupby(['단지코드','공급유형']).sum()['전용면적별세대수']).reset_index()\n",
    "sample.head()"
   ]
  },
  {
   "cell_type": "code",
   "execution_count": 700,
   "metadata": {},
   "outputs": [],
   "source": [
    "for i in sample.공급유형.unique():\n",
    "    dat[str(i)]=0"
   ]
  },
  {
   "cell_type": "code",
   "execution_count": 701,
   "metadata": {},
   "outputs": [],
   "source": [
    "for i in sample.index:\n",
    "    code = sample.loc[i,'단지코드']\n",
    "    col = sample.loc[i,'공급유형']\n",
    "    val = sample.loc[i,'전용면적별세대수'] #전용면적별세대수\n",
    "    ind = dat[dat['단지코드']==code].index\n",
    "    dat.loc[ind,col] = val"
   ]
  },
  {
   "cell_type": "code",
   "execution_count": 702,
   "metadata": {
    "scrolled": true
   },
   "outputs": [
    {
     "data": {
      "text/html": [
       "<div>\n",
       "<style scoped>\n",
       "    .dataframe tbody tr th:only-of-type {\n",
       "        vertical-align: middle;\n",
       "    }\n",
       "\n",
       "    .dataframe tbody tr th {\n",
       "        vertical-align: top;\n",
       "    }\n",
       "\n",
       "    .dataframe thead th {\n",
       "        text-align: right;\n",
       "    }\n",
       "</style>\n",
       "<table border=\"1\" class=\"dataframe\">\n",
       "  <thead>\n",
       "    <tr style=\"text-align: right;\">\n",
       "      <th></th>\n",
       "      <th>단지코드</th>\n",
       "      <th>임대료</th>\n",
       "      <th>임대보증금</th>\n",
       "    </tr>\n",
       "  </thead>\n",
       "  <tbody>\n",
       "    <tr>\n",
       "      <th>0</th>\n",
       "      <td>C1003</td>\n",
       "      <td>115,875.0000</td>\n",
       "      <td>22,650,000.0000</td>\n",
       "    </tr>\n",
       "    <tr>\n",
       "      <th>1</th>\n",
       "      <td>C1006</td>\n",
       "      <td>2,333,169.1152</td>\n",
       "      <td>17,549,529.3035</td>\n",
       "    </tr>\n",
       "    <tr>\n",
       "      <th>2</th>\n",
       "      <td>C1016</td>\n",
       "      <td>228,010.0000</td>\n",
       "      <td>24,026,750.0000</td>\n",
       "    </tr>\n",
       "    <tr>\n",
       "      <th>3</th>\n",
       "      <td>C1019</td>\n",
       "      <td>126,430.0000</td>\n",
       "      <td>14,857,500.0000</td>\n",
       "    </tr>\n",
       "    <tr>\n",
       "      <th>4</th>\n",
       "      <td>C1030</td>\n",
       "      <td>214,216.6667</td>\n",
       "      <td>51,413,333.3333</td>\n",
       "    </tr>\n",
       "  </tbody>\n",
       "</table>\n",
       "</div>"
      ],
      "text/plain": [
       "    단지코드            임대료           임대보증금\n",
       "0  C1003   115,875.0000 22,650,000.0000\n",
       "1  C1006 2,333,169.1152 17,549,529.3035\n",
       "2  C1016   228,010.0000 24,026,750.0000\n",
       "3  C1019   126,430.0000 14,857,500.0000\n",
       "4  C1030   214,216.6667 51,413,333.3333"
      ]
     },
     "execution_count": 702,
     "metadata": {},
     "output_type": "execute_result"
    }
   ],
   "source": [
    "sample = test.groupby('단지코드').mean()[['임대료','임대보증금']].reset_index()\n",
    "sample.head()"
   ]
  },
  {
   "cell_type": "code",
   "execution_count": 703,
   "metadata": {},
   "outputs": [],
   "source": [
    "for i in sample.index:\n",
    "    code = sample.loc[i,'단지코드']\n",
    "    val1 = sample.loc[i,'임대료']\n",
    "    val2 = sample.loc[i,'임대보증금']\n",
    "    ind = dat[dat['단지코드']==code].index\n",
    "    dat.loc[ind,'임대료'] = val1\n",
    "    dat.loc[ind,'임대보증금'] = val2"
   ]
  },
  {
   "cell_type": "code",
   "execution_count": 704,
   "metadata": {},
   "outputs": [
    {
     "data": {
      "text/html": [
       "<div>\n",
       "<style scoped>\n",
       "    .dataframe tbody tr th:only-of-type {\n",
       "        vertical-align: middle;\n",
       "    }\n",
       "\n",
       "    .dataframe tbody tr th {\n",
       "        vertical-align: top;\n",
       "    }\n",
       "\n",
       "    .dataframe thead th {\n",
       "        text-align: right;\n",
       "    }\n",
       "</style>\n",
       "<table border=\"1\" class=\"dataframe\">\n",
       "  <thead>\n",
       "    <tr style=\"text-align: right;\">\n",
       "      <th></th>\n",
       "      <th>단지코드</th>\n",
       "      <th>자격유형_카테고리</th>\n",
       "      <th>전용면적별세대수</th>\n",
       "    </tr>\n",
       "  </thead>\n",
       "  <tbody>\n",
       "    <tr>\n",
       "      <th>0</th>\n",
       "      <td>C1003</td>\n",
       "      <td>4</td>\n",
       "      <td>480</td>\n",
       "    </tr>\n",
       "    <tr>\n",
       "      <th>1</th>\n",
       "      <td>C1006</td>\n",
       "      <td>2</td>\n",
       "      <td>1459</td>\n",
       "    </tr>\n",
       "    <tr>\n",
       "      <th>2</th>\n",
       "      <td>C1006</td>\n",
       "      <td>7</td>\n",
       "      <td>29</td>\n",
       "    </tr>\n",
       "    <tr>\n",
       "      <th>3</th>\n",
       "      <td>C1016</td>\n",
       "      <td>1</td>\n",
       "      <td>643</td>\n",
       "    </tr>\n",
       "    <tr>\n",
       "      <th>4</th>\n",
       "      <td>C1019</td>\n",
       "      <td>1</td>\n",
       "      <td>321</td>\n",
       "    </tr>\n",
       "  </tbody>\n",
       "</table>\n",
       "</div>"
      ],
      "text/plain": [
       "    단지코드  자격유형_카테고리  전용면적별세대수\n",
       "0  C1003          4       480\n",
       "1  C1006          2      1459\n",
       "2  C1006          7        29\n",
       "3  C1016          1       643\n",
       "4  C1019          1       321"
      ]
     },
     "execution_count": 704,
     "metadata": {},
     "output_type": "execute_result"
    }
   ],
   "source": [
    "sample = pd.DataFrame(test.groupby(['단지코드','자격유형_카테고리']).sum()['전용면적별세대수']).reset_index()\n",
    "sample.head()"
   ]
  },
  {
   "cell_type": "code",
   "execution_count": 705,
   "metadata": {},
   "outputs": [],
   "source": [
    "for i in sample.index:\n",
    "    code = sample.loc[i,'단지코드']\n",
    "    col = sample.loc[i,'자격유형_카테고리']\n",
    "    val = sample.loc[i,'전용면적별세대수']\n",
    "    ind = dat[dat['단지코드']==code].index\n",
    "    dat.loc[ind,col] = val"
   ]
  },
  {
   "cell_type": "code",
   "execution_count": 706,
   "metadata": {},
   "outputs": [],
   "source": [
    "dat=dat.fillna(0)"
   ]
  },
  {
   "cell_type": "code",
   "execution_count": 707,
   "metadata": {},
   "outputs": [
    {
     "data": {
      "text/html": [
       "<div>\n",
       "<style scoped>\n",
       "    .dataframe tbody tr th:only-of-type {\n",
       "        vertical-align: middle;\n",
       "    }\n",
       "\n",
       "    .dataframe tbody tr th {\n",
       "        vertical-align: top;\n",
       "    }\n",
       "\n",
       "    .dataframe thead th {\n",
       "        text-align: right;\n",
       "    }\n",
       "</style>\n",
       "<table border=\"1\" class=\"dataframe\">\n",
       "  <thead>\n",
       "    <tr style=\"text-align: right;\">\n",
       "      <th></th>\n",
       "      <th>단지코드</th>\n",
       "      <th>대형전용면적</th>\n",
       "    </tr>\n",
       "  </thead>\n",
       "  <tbody>\n",
       "    <tr>\n",
       "      <th>0</th>\n",
       "      <td>C1003</td>\n",
       "      <td>0</td>\n",
       "    </tr>\n",
       "    <tr>\n",
       "      <th>1</th>\n",
       "      <td>C1006</td>\n",
       "      <td>1</td>\n",
       "    </tr>\n",
       "    <tr>\n",
       "      <th>2</th>\n",
       "      <td>C1016</td>\n",
       "      <td>0</td>\n",
       "    </tr>\n",
       "    <tr>\n",
       "      <th>3</th>\n",
       "      <td>C1019</td>\n",
       "      <td>0</td>\n",
       "    </tr>\n",
       "    <tr>\n",
       "      <th>4</th>\n",
       "      <td>C1030</td>\n",
       "      <td>0</td>\n",
       "    </tr>\n",
       "  </tbody>\n",
       "</table>\n",
       "</div>"
      ],
      "text/plain": [
       "    단지코드  대형전용면적\n",
       "0  C1003       0\n",
       "1  C1006       1\n",
       "2  C1016       0\n",
       "3  C1019       0\n",
       "4  C1030       0"
      ]
     },
     "execution_count": 707,
     "metadata": {},
     "output_type": "execute_result"
    }
   ],
   "source": [
    "sample = pd.DataFrame(test.groupby('단지코드')['대형전용면적'].sum()).reset_index()\n",
    "sample.head()"
   ]
  },
  {
   "cell_type": "code",
   "execution_count": 708,
   "metadata": {},
   "outputs": [],
   "source": [
    "dat=pd.merge(dat, sample, on=\"단지코드\", how=\"inner\")"
   ]
  },
  {
   "cell_type": "markdown",
   "metadata": {},
   "source": [
    "data.loc[data.대형전용면적>0,\"대형전용면적\"] = 1\n",
    "dat.loc[dat.대형전용면적>0,\"대형전용면적\"] = 1\n"
   ]
  },
  {
   "cell_type": "markdown",
   "metadata": {},
   "source": [
    "data.loc[data.지하철역 ==0,\"subway_dist\"] = np.NaN\n",
    "dat.loc[dat.지하철역 ==0,\"subway_dist\"] = np.NaN\n",
    "data.loc[data.지하철역 ==0,\"환승역 수\"] = np.NaN\n",
    "dat.loc[dat.지하철역 ==0,\"환승역 수\"] = np.NaN\n",
    "\n"
   ]
  },
  {
   "cell_type": "code",
   "execution_count": 709,
   "metadata": {},
   "outputs": [
    {
     "data": {
      "text/plain": [
       "0"
      ]
     },
     "execution_count": 709,
     "metadata": {},
     "output_type": "execute_result"
    }
   ],
   "source": [
    "sum(data.subway_dist.isna())"
   ]
  },
  {
   "cell_type": "code",
   "execution_count": 710,
   "metadata": {},
   "outputs": [
    {
     "data": {
      "text/plain": [
       "0.060691868168390985"
      ]
     },
     "execution_count": 710,
     "metadata": {},
     "output_type": "execute_result"
    }
   ],
   "source": [
    "np.max(data.loc[data.지하철역 !=0,\"subway_dist\"])"
   ]
  },
  {
   "cell_type": "code",
   "execution_count": 711,
   "metadata": {},
   "outputs": [
    {
     "data": {
      "text/plain": [
       "count   414.0000\n",
       "mean      0.2610\n",
       "std       0.3616\n",
       "min       0.0006\n",
       "25%       0.0191\n",
       "50%       0.0866\n",
       "75%       0.3871\n",
       "max       1.8900\n",
       "Name: subway_dist, dtype: float64"
      ]
     },
     "execution_count": 711,
     "metadata": {},
     "output_type": "execute_result"
    }
   ],
   "source": [
    "data[\"subway_dist\"].describe()"
   ]
  },
  {
   "cell_type": "code",
   "execution_count": 712,
   "metadata": {},
   "outputs": [
    {
     "data": {
      "text/plain": [
       "(189, (414, 49))"
      ]
     },
     "execution_count": 712,
     "metadata": {},
     "output_type": "execute_result"
    }
   ],
   "source": [
    "sum(data.subway_dist<=np.max(data.loc[data.지하철역 !=0,\"subway_dist\"])), data.shape"
   ]
  },
  {
   "cell_type": "code",
   "execution_count": 713,
   "metadata": {},
   "outputs": [
    {
     "data": {
      "image/png": "[encoded data removed]",
      "text/plain": [
       "<Figure size 864x432 with 2 Axes>"
      ]
     },
     "metadata": {
      "needs_background": "light"
     },
     "output_type": "display_data"
    }
   ],
   "source": [
    "plt.figure(figsize=(12,6))\n",
    "plt.subplot(1,2,1)\n",
    "plt.hist(data[data.subway_dist<=np.max(data.loc[data.지하철역 !=0,\"subway_dist\"])].subway_dist,bins = 30)\n",
    "plt.subplot(1,2,2)\n",
    "plt.hist(1/data[data.subway_dist<=np.max(data.loc[data.지하철역 !=0,\"subway_dist\"])].subway_dist,bins = 30)\n",
    "plt.show()"
   ]
  },
  {
   "cell_type": "code",
   "execution_count": null,
   "metadata": {},
   "outputs": [],
   "source": []
  },
  {
   "cell_type": "code",
   "execution_count": 714,
   "metadata": {},
   "outputs": [],
   "source": [
    "dat.columns=[       '단지코드',        '총세대수',          '지역',         '공가수',\n",
    "              '지하철역',       '버스정류장',     '단지내주차면수',         '단지명',\n",
    "             '도로명주소',         '연면적',          '위도',          '경도',\n",
    "       'subway_name', 'subway_dist',       '환승역 수',        '총인구수',\n",
    "            '세대당_인구',       '남/여비율',   '남/여_0~19세',  '남/여_20~39세',\n",
    "        '남/여_40~69세',   '남/여_70세이상',    '0~19세_비율',   '20~39세_비율',\n",
    "         '40~69세_비율',    '70세이상_비율',        '상가비율',  '세대당_가능주차면수',\n",
    "             '공가수비율',  '행복주택',        '영구임대',        '임대상가',\n",
    "              '국민임대',   '공공임대(50년)',    '공공임대(단기)',    '공공임대(분납)',\n",
    "               '임대료',       '임대보증금',             '자격유형4',            '자격유형2',            '자격유형7',\n",
    "                  '자격유형1',             '자격유형6',             '자격유형3',            '자격유형5',\n",
    "             '대형전용면적']"
   ]
  },
  {
   "cell_type": "code",
   "execution_count": 715,
   "metadata": {},
   "outputs": [],
   "source": [
    "data.columns=[       '단지코드',        '총세대수',          '지역',         '공가수',\n",
    "              '지하철역',       '버스정류장',     '단지내주차면수',       '등록차량수',\n",
    "               '단지명',       '도로명주소',         '연면적',          '위도',\n",
    "                '경도', 'subway_name', 'subway_dist',       '환승역 수',\n",
    "              '총인구수',      '세대당_인구',       '남/여비율',   '남/여_0~19세',\n",
    "        '남/여_20~39세',  '남/여_40~69세',   '남/여_70세이상',    '0~19세_비율',\n",
    "         '20~39세_비율',   '40~69세_비율',    '70세이상_비율',        '상가비율',\n",
    "        '세대당_가능주차면수',       '공가수비율', '국민임대',        '영구임대',\n",
    "              '임대상가',    '공공임대(단기)',        '장기전세',        '행복주택',\n",
    "          '공공임대(분납)',        '공공분양',   '공공임대(50년)',         '임대료',\n",
    "             '임대보증금',             '자격유형1',             '자격유형2',            '자격유형7',\n",
    "                   '자격유형3',           '자격유형6',             '자격유형4',            '자격유형5',\n",
    "            '대형전용면적']"
   ]
  },
  {
   "cell_type": "markdown",
   "metadata": {},
   "source": [
    "# 987보다 큰 지역에 area 카테고리 추가\n",
    "밑에서 반영"
   ]
  },
  {
   "cell_type": "markdown",
   "metadata": {},
   "source": [
    "# 전용면적"
   ]
  },
  {
   "cell_type": "code",
   "execution_count": 716,
   "metadata": {},
   "outputs": [],
   "source": [
    "# sample1=pd.DataFrame(train.groupby(\"단지코드\")[\"전용면적\"].mean()).reset_index()\n",
    "# sample2=pd.DataFrame(train.groupby(\"단지코드\")[\"전용면적\"].std()).reset_index()\n",
    "# # sample3=pd.DataFrame(train.groupby(\"단지코드\")[\"전용면적별세대수\"].mean()).reset_index()\n",
    "# data=pd.merge(data, sample1, on=\"단지코드\", how=\"inner\")\n",
    "# data=pd.merge(data, sample2, on=\"단지코드\", how=\"inner\")\n",
    "# data.head()"
   ]
  },
  {
   "cell_type": "code",
   "execution_count": 717,
   "metadata": {},
   "outputs": [],
   "source": [
    "# sample1=pd.DataFrame(test.groupby(\"단지코드\")[\"전용면적\"].mean()).reset_index()\n",
    "# sample2=pd.DataFrame(test.groupby(\"단지코드\")[\"전용면적\"].std()).reset_index()\n",
    "# # # sample3=pd.DataFrame(test.groupby(\"단지코드\")[\"전용면적별세대수\"].mean()).reset_index()\n",
    "# dat=pd.merge(dat, sample1, on=\"단지코드\", how=\"inner\")\n",
    "# dat=pd.merge(dat, sample2, on=\"단지코드\", how=\"inner\")\n",
    "# # # dat=pd.merge(dat, sample3, on=\"단지코드\", how=\"inner\")\n",
    "# # dat.head()"
   ]
  },
  {
   "cell_type": "code",
   "execution_count": 718,
   "metadata": {},
   "outputs": [],
   "source": [
    "#sample1=pd.DataFrame(train.groupby(\"단지코드\")[\"임대료\"].std()).reset_index()\n",
    "#sample2=pd.DataFrame(train.groupby(\"단지코드\")[\"임대보증금\"].std()).reset_index()\n",
    "#data=pd.merge(data, sample1, on=\"단지코드\", how=\"inner\")\n",
    "#data=pd.merge(data, sample2, on=\"단지코드\", how=\"inner\")\n",
    "#sample1=pd.DataFrame(test.groupby(\"단지코드\")[\"임대료\"].std()).reset_index()\n",
    "#sample2=pd.DataFrame(test.groupby(\"단지코드\")[\"임대보증금\"].std()).reset_index()\n",
    "#dat=pd.merge(dat, sample1, on=\"단지코드\", how=\"inner\")\n",
    "#dat=pd.merge(dat, sample2, on=\"단지코드\", how=\"inner\")"
   ]
  },
  {
   "cell_type": "markdown",
   "metadata": {},
   "source": [
    "# Correlation 확인"
   ]
  },
  {
   "cell_type": "code",
   "execution_count": 719,
   "metadata": {},
   "outputs": [],
   "source": [
    "#X_cor = data.drop(columns=['단지코드','단지명','도로명주소','subway_name', \"지역\"])"
   ]
  },
  {
   "cell_type": "code",
   "execution_count": 720,
   "metadata": {},
   "outputs": [],
   "source": [
    "#X_cor = pd.get_dummies(X_cor, drop_first=True)"
   ]
  },
  {
   "cell_type": "code",
   "execution_count": 721,
   "metadata": {},
   "outputs": [],
   "source": [
    "#plt.subplots(figsize=(20,15))\n",
    "#sns.heatmap(X_cor.corr(), cbar = True, annot = True, fmt = '.2f', square = True, cmap = 'Blues', linewidths=.5)"
   ]
  },
  {
   "cell_type": "markdown",
   "metadata": {},
   "source": [
    "# Modeling"
   ]
  },
  {
   "cell_type": "code",
   "execution_count": 722,
   "metadata": {},
   "outputs": [],
   "source": [
    "from sklearn.linear_model import LinearRegression, Lasso, ElasticNet, Ridge\n",
    "from sklearn.ensemble import RandomForestRegressor, GradientBoostingRegressor\n",
    "from sklearn.tree import DecisionTreeRegressor \n",
    "# from xgboost import XGBRegressor\n",
    "from catboost import CatBoostRegressor\n",
    "# import lightgbm as LGB\n",
    "from sklearn.cross_decomposition import PLSRegression\n",
    "from sklearn.svm import SVR\n",
    "from statsmodels.api import OLS\n",
    "\n",
    "from sklearn.preprocessing import MinMaxScaler\n",
    "from sklearn.preprocessing import StandardScaler\n",
    "from sklearn.preprocessing import RobustScaler\n",
    "robustScaler = RobustScaler()\n",
    "standardScaler = StandardScaler()\n",
    "minMaxScaler = MinMaxScaler()\n",
    "#standardScaler.fit(X_train)\n",
    "#X_train = standardScaler.transform(X_train)\n",
    "#standardScaler.fit(X_test)\n",
    "#X_test = standardScaler.transform(X_test)\n",
    "\n",
    "# Validation\n",
    "from sklearn.model_selection import train_test_split\n",
    "from sklearn.model_selection import cross_val_score, KFold, RepeatedKFold\n",
    "from sklearn.metrics import mean_absolute_error"
   ]
  },
  {
   "cell_type": "code",
   "execution_count": 723,
   "metadata": {
    "scrolled": true
   },
   "outputs": [],
   "source": [
    "#pd.concat([pd.DataFrame(data.단지내주차면수.describe()),\n",
    "#           pd.DataFrame(dat.단지내주차면수.describe())], axis=1)"
   ]
  },
  {
   "cell_type": "code",
   "execution_count": 724,
   "metadata": {},
   "outputs": [],
   "source": [
    "def areafunc(x):\n",
    "    if x in ['제주특별자치도','경상남도','부산광역시']:\n",
    "        return 0\n",
    "    elif x in ['광주광역시','세종특별자치시','경상북도','전라북도','서울특별시']:\n",
    "        return 1\n",
    "    elif x in ['대구광역시']:\n",
    "        return 2\n",
    "    else: \n",
    "        return 3"
   ]
  },
  {
   "cell_type": "code",
   "execution_count": 725,
   "metadata": {},
   "outputs": [],
   "source": [
    "#train1=data[data.단지내주차면수<987]\n",
    "#train2=data[data.단지내주차면수>=987]\n",
    "#test1=dat[dat.단지내주차면수<987]\n",
    "#test2=dat[dat.단지내주차면수>=987]\n",
    "#print(train1.shape, train2.shape)\n",
    "#print(test1.shape, test2.shape)"
   ]
  },
  {
   "cell_type": "markdown",
   "metadata": {},
   "source": [
    "## 나눠서 modeling"
   ]
  },
  {
   "cell_type": "code",
   "execution_count": 726,
   "metadata": {},
   "outputs": [],
   "source": [
    "# def fit(X_train, X_test, y_train, y_test, model):\n",
    "#     try:\n",
    "#         model.fit(X_train, y_train, verbose=False)\n",
    "#     except:\n",
    "#         model.fit(X_train, y_train)\n",
    "#     tst_pred = model.predict(X_test)\n",
    "#     error = mean_absolute_error(y_test,tst_pred)\n",
    "#     return model, tst_pred, error\n",
    "\n",
    "\n",
    "# def fit_models(X, y, models, cv=False):\n",
    "#     X = np.array(X.reset_index(drop=True))\n",
    "#     y = np.array(y.reset_index(drop=True))\n",
    "#     best_error = 10000\n",
    "#     best_tst_pred = 0\n",
    "#     best_model = \"\"\n",
    "#     if cv==False:\n",
    "#         X_train, X_test, y_train, y_test = train_test_split(X, y, test_size=0.3, shuffle=True,random_state=2021)\n",
    "#         for m in models:\n",
    "#             model, tst_pred, error = fit(X_train, X_test, y_train, y_test, m)\n",
    "#             if best_error > error:\n",
    "#                 best_error = error\n",
    "#                 best_tst_pred = tst_pred\n",
    "#                 best_model = model\n",
    "#     else:\n",
    "#         best_tst_idx = []\n",
    "#         kf = KFold(n_splits = 5, shuffle=True,random_state = 2021)\n",
    "#         for m in models:\n",
    "#             mae = []\n",
    "#             pred= []\n",
    "#             tst_idx = []\n",
    "#             for train_index, test_index in kf.split(X, y):\n",
    "#                 X_train, X_test = X[train_index], X[test_index]\n",
    "#                 y_train, y_test = y[train_index], y[test_index]\n",
    "#                 model, tst_pred, error = fit(X_train, X_test, y_train, y_test, m)\n",
    "#                 mae.append(error)\n",
    "#                 pred.append(tst_pred.tolist())\n",
    "#                 tst_idx.append(test_index.tolist())\n",
    "#             cv_error = np.mean(mae)\n",
    "#             print(f\"model:{str(m).split('(')[0]}\\nMAE:{cv_error}\")\n",
    "#             if best_error > cv_error:\n",
    "#                 best_error = cv_error\n",
    "#                 best_tst_pred = pred\n",
    "#                 best_tst_idx = sum(tst_idx, [])\n",
    "#                 best_model = model\n",
    "#         best_tst_pred = sum(best_tst_pred,[])\n",
    "#         best_tst_pred = dict(zip(best_tst_idx,best_tst_pred))\n",
    "#     try:\n",
    "#         best_model = best_model.fit(np.concatenate((X_train, X_test),axis=0), \n",
    "#                                                 np.concatenate((y_train, y_test),axis=0), \n",
    "#                                                 verbose=False)\n",
    "#     except:\n",
    "#         best_model = best_model.fit(np.concatenate((X_train, X_test),axis=0), \n",
    "#                                         np.concatenate((y_train, y_test),axis=0))\n",
    "#     return best_model, best_tst_pred, best_error"
   ]
  },
  {
   "cell_type": "code",
   "execution_count": 727,
   "metadata": {},
   "outputs": [],
   "source": [
    "#models = [LinearRegression(), \n",
    "#          PLSRegression(), \n",
    "#          Ridge(random_state=2021),\n",
    "##          Lasso(random_state=2021), \n",
    "#          ElasticNet(random_state=2021),\n",
    "#          #SVR(),\n",
    "#          CatBoostRegressor(random_state=2021, loss_function = 'MAE'),\n",
    "#          RandomForestRegressor(criterion=\"mae\",random_state=2021),\n",
    "#          GradientBoostingRegressor(criterion=\"mae\",random_state=2021),\n",
    "#          XGBRegressor(random_state=2021)]"
   ]
  },
  {
   "cell_type": "code",
   "execution_count": 728,
   "metadata": {},
   "outputs": [],
   "source": [
    "#X1 = train1.drop(columns=['단지명','단지코드','도로명주소','subway_name',\n",
    "#                         '등록차량수', \"임대상가\",\n",
    "#                         \"자격유형1\",\"자격유형2\",\"자격유형3\",\"자격유형4\",\"자격유형5\",\"자격유형6\",\"자격유형7\"])\n",
    "#X1 = pd.get_dummies(X1, drop_first=True)\n",
    "#y1=train1[\"등록차량수\"]\n",
    "#best_model1, best_tst_pred1, best_error1 = fit_models(X1, y1, models, cv=True)"
   ]
  },
  {
   "cell_type": "code",
   "execution_count": 729,
   "metadata": {},
   "outputs": [],
   "source": [
    "#X2=train2.drop(columns=['단지명','단지코드','도로명주소','subway_name',\n",
    "#                         '등록차량수', \"임대상가\",\"자격유형2\", \n",
    "#                        \"자격유형1\",\"자격유형2\",\"자격유형3\",\"자격유형4\",\"자격유형5\",\"자격유형6\",\"자격유형7\"])\n",
    "#X2 = pd.get_dummies(X2, drop_first=True)\n",
    "#y2=train2[\"등록차량수\"]\n",
    "#best_model2, best_tst_pred2, best_error2=fit_models(X2, y2, models, cv=True)"
   ]
  },
  {
   "cell_type": "code",
   "execution_count": 730,
   "metadata": {},
   "outputs": [],
   "source": [
    "#기존=pd.merge(pd.DataFrame(best_tst_pred1,index=[0]).T.reset_index(),\n",
    "#         pd.DataFrame(train1.단지코드.reset_index(drop=True)).reset_index(),\n",
    "#         on=\"index\")\n",
    "#\n",
    "#자격유형드랍=pd.merge(pd.DataFrame(best_tst_pred_1,index=[0]).T.reset_index(),\n",
    "#         pd.DataFrame(train1.단지코드.reset_index(drop=True)).reset_index(),\n",
    "#         on=\"index\")\n",
    "#\n",
    "#df=pd.merge(기존, 자격유형드랍, on=\"단지코드\", how='inner')\n",
    "#df=df.drop(columns=[\"index_x\", \"index_y\"])\n",
    "#df=pd.merge(df, train1[[\"단지코드\", \"등록차량수\"]], on=\"단지코드\", how=\"inner\")\n",
    "#df.columns=['pred_기본', '단지코드', 'pred_자격유형x', 'real_Y']\n",
    "#df=df[['단지코드', 'pred_기본', 'pred_자격유형x', 'real_Y']]\n",
    "#df[\"diff\"]=abs(df.pred_기본-df.pred_자격유형x)\n",
    "#df.sort_values(\"diff\")"
   ]
  },
  {
   "cell_type": "markdown",
   "metadata": {},
   "source": [
    "# 나눠서 예측"
   ]
  },
  {
   "cell_type": "code",
   "execution_count": 731,
   "metadata": {},
   "outputs": [
    {
     "data": {
      "text/html": [
       "<div>\n",
       "<style scoped>\n",
       "    .dataframe tbody tr th:only-of-type {\n",
       "        vertical-align: middle;\n",
       "    }\n",
       "\n",
       "    .dataframe tbody tr th {\n",
       "        vertical-align: top;\n",
       "    }\n",
       "\n",
       "    .dataframe thead th {\n",
       "        text-align: right;\n",
       "    }\n",
       "</style>\n",
       "<table border=\"1\" class=\"dataframe\">\n",
       "  <thead>\n",
       "    <tr style=\"text-align: right;\">\n",
       "      <th></th>\n",
       "      <th>code</th>\n",
       "      <th>num</th>\n",
       "    </tr>\n",
       "  </thead>\n",
       "  <tbody>\n",
       "    <tr>\n",
       "      <th>0</th>\n",
       "      <td>C1072</td>\n",
       "      <td>0</td>\n",
       "    </tr>\n",
       "    <tr>\n",
       "      <th>1</th>\n",
       "      <td>C1128</td>\n",
       "      <td>0</td>\n",
       "    </tr>\n",
       "    <tr>\n",
       "      <th>2</th>\n",
       "      <td>C1456</td>\n",
       "      <td>0</td>\n",
       "    </tr>\n",
       "    <tr>\n",
       "      <th>3</th>\n",
       "      <td>C1840</td>\n",
       "      <td>0</td>\n",
       "    </tr>\n",
       "    <tr>\n",
       "      <th>4</th>\n",
       "      <td>C1332</td>\n",
       "      <td>0</td>\n",
       "    </tr>\n",
       "  </tbody>\n",
       "</table>\n",
       "</div>"
      ],
      "text/plain": [
       "    code  num\n",
       "0  C1072    0\n",
       "1  C1128    0\n",
       "2  C1456    0\n",
       "3  C1840    0\n",
       "4  C1332    0"
      ]
     },
     "execution_count": 731,
     "metadata": {},
     "output_type": "execute_result"
    }
   ],
   "source": [
    "sample=pd.read_csv('/Users/seungji/Desktop/Dacon/parking_data/sample_submission.csv')\n",
    "sample.head()"
   ]
  },
  {
   "cell_type": "code",
   "execution_count": 732,
   "metadata": {
    "scrolled": true
   },
   "outputs": [
    {
     "data": {
      "text/plain": [
       "(150, 2)"
      ]
     },
     "execution_count": 732,
     "metadata": {},
     "output_type": "execute_result"
    }
   ],
   "source": [
    "sample.shape"
   ]
  },
  {
   "cell_type": "code",
   "execution_count": 777,
   "metadata": {},
   "outputs": [],
   "source": [
    "train1=data[data.단지내주차면수<987]\n",
    "train2=data[data.단지내주차면수>=987]\n",
    "test1=dat[dat.단지내주차면수<987]\n",
    "test2=dat[dat.단지내주차면수>=987]"
   ]
  },
  {
   "cell_type": "code",
   "execution_count": 779,
   "metadata": {
    "scrolled": true
   },
   "outputs": [
    {
     "name": "stdout",
     "output_type": "stream",
     "text": [
      "(362, 49) (52, 49)\n",
      "(128, 46) (19, 46)\n"
     ]
    }
   ],
   "source": [
    "print(train1.shape, train2.shape)\n",
    "print(test1.shape, test2.shape)"
   ]
  },
  {
   "cell_type": "code",
   "execution_count": 780,
   "metadata": {},
   "outputs": [],
   "source": [
    "df= pd.concat([train1, test1])"
   ]
  },
  {
   "cell_type": "code",
   "execution_count": 781,
   "metadata": {},
   "outputs": [],
   "source": [
    "X = df.drop(columns=['단지명','단지코드','도로명주소','subway_name',\n",
    "                         '등록차량수', '임대상가',\n",
    "                     \"자격유형1\",\"자격유형2\",\"자격유형3\",\"자격유형4\",\"자격유형5\",\"자격유형6\",\"자격유형7\"]) \n",
    "X = pd.get_dummies(X, drop_first=True)"
   ]
  },
  {
   "cell_type": "code",
   "execution_count": 782,
   "metadata": {},
   "outputs": [],
   "source": [
    "X_train1=X.iloc[0:362, :]\n",
    "X_test1=X.iloc[362:, :]\n",
    "y_train1 = train1[['등록차량수']]\n",
    "\n",
    "#X_test1[\"장기전세\"]=0\n",
    "#X_test1[\"공공분양\"]=0"
   ]
  },
  {
   "cell_type": "code",
   "execution_count": 783,
   "metadata": {},
   "outputs": [
    {
     "name": "stdout",
     "output_type": "stream",
     "text": [
      "(362, 50) (41, 38)\n",
      "(128, 50) (14, 38)\n",
      "(362, 1) (41,)\n"
     ]
    },
    {
     "ename": "NameError",
     "evalue": "name 'y_test1' is not defined",
     "output_type": "error",
     "traceback": [
      "\u001b[0;31m---------------------------------------------------------------------------\u001b[0m",
      "\u001b[0;31mNameError\u001b[0m                                 Traceback (most recent call last)",
      "\u001b[0;32m<ipython-input-783-b1853853cea4>\u001b[0m in \u001b[0;36m<module>\u001b[0;34m\u001b[0m\n\u001b[1;32m      2\u001b[0m \u001b[0mprint\u001b[0m\u001b[0;34m(\u001b[0m\u001b[0mX_test1\u001b[0m\u001b[0;34m.\u001b[0m\u001b[0mshape\u001b[0m\u001b[0;34m,\u001b[0m \u001b[0mX_test2\u001b[0m\u001b[0;34m.\u001b[0m\u001b[0mshape\u001b[0m\u001b[0;34m)\u001b[0m\u001b[0;34m\u001b[0m\u001b[0;34m\u001b[0m\u001b[0m\n\u001b[1;32m      3\u001b[0m \u001b[0mprint\u001b[0m\u001b[0;34m(\u001b[0m\u001b[0my_train1\u001b[0m\u001b[0;34m.\u001b[0m\u001b[0mshape\u001b[0m\u001b[0;34m,\u001b[0m \u001b[0my_train2\u001b[0m\u001b[0;34m.\u001b[0m\u001b[0mshape\u001b[0m\u001b[0;34m)\u001b[0m\u001b[0;34m\u001b[0m\u001b[0;34m\u001b[0m\u001b[0m\n\u001b[0;32m----> 4\u001b[0;31m \u001b[0mprint\u001b[0m\u001b[0;34m(\u001b[0m\u001b[0my_test1\u001b[0m\u001b[0;34m.\u001b[0m\u001b[0mshape\u001b[0m\u001b[0;34m,\u001b[0m \u001b[0my_test2\u001b[0m\u001b[0;34m.\u001b[0m\u001b[0mshape\u001b[0m\u001b[0;34m)\u001b[0m\u001b[0;34m\u001b[0m\u001b[0;34m\u001b[0m\u001b[0m\n\u001b[0m",
      "\u001b[0;31mNameError\u001b[0m: name 'y_test1' is not defined"
     ]
    }
   ],
   "source": [
    "print(X_train1.shape, X_train2.shape)\n",
    "print(X_test1.shape, X_test2.shape)\n",
    "print(y_train1.shape, y_train2.shape)\n",
    "print(y_test1.shape, y_test2.shape)"
   ]
  },
  {
   "cell_type": "code",
   "execution_count": 784,
   "metadata": {},
   "outputs": [],
   "source": [
    "model_1=CatBoostRegressor(random_state=2021, verbose=False).fit(X_train1, y_train1)\n",
    "model1_pred = model_1.predict(X_test1)"
   ]
  },
  {
   "cell_type": "code",
   "execution_count": 785,
   "metadata": {},
   "outputs": [],
   "source": [
    "model1=pd.DataFrame(model1_pred)\n",
    "code1=test1.단지코드\n",
    "model1=model1.reset_index(drop=True)\n",
    "code1=code1.reset_index(drop=True)"
   ]
  },
  {
   "cell_type": "code",
   "execution_count": 786,
   "metadata": {},
   "outputs": [
    {
     "data": {
      "text/html": [
       "<div>\n",
       "<style scoped>\n",
       "    .dataframe tbody tr th:only-of-type {\n",
       "        vertical-align: middle;\n",
       "    }\n",
       "\n",
       "    .dataframe tbody tr th {\n",
       "        vertical-align: top;\n",
       "    }\n",
       "\n",
       "    .dataframe thead th {\n",
       "        text-align: right;\n",
       "    }\n",
       "</style>\n",
       "<table border=\"1\" class=\"dataframe\">\n",
       "  <thead>\n",
       "    <tr style=\"text-align: right;\">\n",
       "      <th></th>\n",
       "      <th>code</th>\n",
       "      <th>num</th>\n",
       "    </tr>\n",
       "  </thead>\n",
       "  <tbody>\n",
       "    <tr>\n",
       "      <th>0</th>\n",
       "      <td>C1072</td>\n",
       "      <td>751.5410</td>\n",
       "    </tr>\n",
       "    <tr>\n",
       "      <th>1</th>\n",
       "      <td>C1456</td>\n",
       "      <td>539.4091</td>\n",
       "    </tr>\n",
       "    <tr>\n",
       "      <th>2</th>\n",
       "      <td>C1840</td>\n",
       "      <td>533.2202</td>\n",
       "    </tr>\n",
       "    <tr>\n",
       "      <th>3</th>\n",
       "      <td>C1640</td>\n",
       "      <td>464.1348</td>\n",
       "    </tr>\n",
       "    <tr>\n",
       "      <th>4</th>\n",
       "      <td>C1377</td>\n",
       "      <td>364.1875</td>\n",
       "    </tr>\n",
       "  </tbody>\n",
       "</table>\n",
       "</div>"
      ],
      "text/plain": [
       "    code      num\n",
       "0  C1072 751.5410\n",
       "1  C1456 539.4091\n",
       "2  C1840 533.2202\n",
       "3  C1640 464.1348\n",
       "4  C1377 364.1875"
      ]
     },
     "execution_count": 786,
     "metadata": {},
     "output_type": "execute_result"
    }
   ],
   "source": [
    "pred1=pd.concat([code1, model1], axis=1, ignore_index=True)\n",
    "pred1.columns=[\"code\", \"num\"]\n",
    "pred1.head()"
   ]
  },
  {
   "cell_type": "code",
   "execution_count": 787,
   "metadata": {},
   "outputs": [],
   "source": [
    "def areafunc(x):\n",
    "    if x in ['제주특별자치도','경상남도','부산광역시']:\n",
    "        return 0\n",
    "    elif x in ['광주광역시','세종특별자치시','경상북도','전라북도','서울특별시']:\n",
    "        return 1\n",
    "    elif x in ['대구광역시']:\n",
    "        return 2\n",
    "    else: \n",
    "        return 3"
   ]
  },
  {
   "cell_type": "code",
   "execution_count": 788,
   "metadata": {},
   "outputs": [],
   "source": [
    "train2['지역'] = train2['지역'].apply(lambda x : areafunc(x))\n",
    "test2['지역'] = test2['지역'].apply(lambda x : areafunc(x))\n",
    "train2 = train2.join(pd.get_dummies(train2['지역'],prefix='area')).iloc[:,:-1]\n",
    "test2 = test2.join(pd.get_dummies(test2['지역'],prefix='area')).iloc[:,:-1]"
   ]
  },
  {
   "cell_type": "code",
   "execution_count": 789,
   "metadata": {},
   "outputs": [],
   "source": [
    "X_train2 = train2.drop(columns=['단지명','단지코드','도로명주소','subway_name',\n",
    "                         '등록차량수', '임대상가',\n",
    "                     \"자격유형1\",\"자격유형2\",\"자격유형3\",\"자격유형4\",\"자격유형5\",\"자격유형6\",\"자격유형7\",\"지역\"]) \n",
    "y_train2 = train2['등록차량수']\n",
    "X_test2 = test2.drop(columns=['단지명','단지코드','도로명주소','subway_name','임대상가',\n",
    "                     \"자격유형1\",\"자격유형2\",\"자격유형3\",\"자격유형4\",\"자격유형5\",\"자격유형6\",\"자격유형7\",\"지역\"]) \n",
    "X_test2['공공분양']=0\n",
    "X_test2['장기전세']=0"
   ]
  },
  {
   "cell_type": "code",
   "execution_count": 790,
   "metadata": {},
   "outputs": [
    {
     "data": {
      "text/plain": [
       "Index(['총세대수', '공가수', '지하철역', '버스정류장', '단지내주차면수', '연면적', '위도', '경도',\n",
       "       'subway_dist', '환승역 수', '총인구수', '세대당_인구', '남/여비율', '남/여_0~19세',\n",
       "       '남/여_20~39세', '남/여_40~69세', '남/여_70세이상', '0~19세_비율', '20~39세_비율',\n",
       "       '40~69세_비율', '70세이상_비율', '상가비율', '세대당_가능주차면수', '공가수비율', '국민임대', '영구임대',\n",
       "       '공공임대(단기)', '장기전세', '행복주택', '공공임대(분납)', '공공분양', '공공임대(50년)', '임대료',\n",
       "       '임대보증금', '대형전용면적', 'area_0', 'area_1', 'area_2'],\n",
       "      dtype='object')"
      ]
     },
     "execution_count": 790,
     "metadata": {},
     "output_type": "execute_result"
    }
   ],
   "source": [
    "X_train2.columns"
   ]
  },
  {
   "cell_type": "code",
   "execution_count": 791,
   "metadata": {},
   "outputs": [
    {
     "data": {
      "text/plain": [
       "Index(['총세대수', '공가수', '지하철역', '버스정류장', '단지내주차면수', '연면적', '위도', '경도',\n",
       "       'subway_dist', '환승역 수', '총인구수', '세대당_인구', '남/여비율', '남/여_0~19세',\n",
       "       '남/여_20~39세', '남/여_40~69세', '남/여_70세이상', '0~19세_비율', '20~39세_비율',\n",
       "       '40~69세_비율', '70세이상_비율', '상가비율', '세대당_가능주차면수', '공가수비율', '행복주택', '영구임대',\n",
       "       '국민임대', '공공임대(50년)', '공공임대(단기)', '공공임대(분납)', '임대료', '임대보증금', '대형전용면적',\n",
       "       'area_0', 'area_1', 'area_2', '공공분양', '장기전세'],\n",
       "      dtype='object')"
      ]
     },
     "execution_count": 791,
     "metadata": {},
     "output_type": "execute_result"
    }
   ],
   "source": [
    "X_test2.columns"
   ]
  },
  {
   "cell_type": "code",
   "execution_count": 792,
   "metadata": {},
   "outputs": [],
   "source": [
    "model_2= CatBoostRegressor(random_state=2021, loss_function = 'MAE', verbose=False).fit(X_train2, y_train2) \n",
    "model2_pred = model_2.predict(X_test2)"
   ]
  },
  {
   "cell_type": "code",
   "execution_count": 793,
   "metadata": {},
   "outputs": [],
   "source": [
    "model2=pd.DataFrame(model2_pred)\n",
    "code2=test2.단지코드\n",
    "model2=model2.reset_index(drop=True)\n",
    "code2=code2.reset_index(drop=True)"
   ]
  },
  {
   "cell_type": "code",
   "execution_count": 794,
   "metadata": {},
   "outputs": [
    {
     "data": {
      "text/html": [
       "<div>\n",
       "<style scoped>\n",
       "    .dataframe tbody tr th:only-of-type {\n",
       "        vertical-align: middle;\n",
       "    }\n",
       "\n",
       "    .dataframe tbody tr th {\n",
       "        vertical-align: top;\n",
       "    }\n",
       "\n",
       "    .dataframe thead th {\n",
       "        text-align: right;\n",
       "    }\n",
       "</style>\n",
       "<table border=\"1\" class=\"dataframe\">\n",
       "  <thead>\n",
       "    <tr style=\"text-align: right;\">\n",
       "      <th></th>\n",
       "      <th>code</th>\n",
       "      <th>num</th>\n",
       "    </tr>\n",
       "  </thead>\n",
       "  <tbody>\n",
       "    <tr>\n",
       "      <th>0</th>\n",
       "      <td>C1128</td>\n",
       "      <td>1,188.3826</td>\n",
       "    </tr>\n",
       "    <tr>\n",
       "      <th>1</th>\n",
       "      <td>C1332</td>\n",
       "      <td>1,327.9192</td>\n",
       "    </tr>\n",
       "    <tr>\n",
       "      <th>2</th>\n",
       "      <td>C1563</td>\n",
       "      <td>1,797.6878</td>\n",
       "    </tr>\n",
       "    <tr>\n",
       "      <th>3</th>\n",
       "      <td>C1794</td>\n",
       "      <td>1,048.3720</td>\n",
       "    </tr>\n",
       "    <tr>\n",
       "      <th>4</th>\n",
       "      <td>C1152</td>\n",
       "      <td>847.3162</td>\n",
       "    </tr>\n",
       "  </tbody>\n",
       "</table>\n",
       "</div>"
      ],
      "text/plain": [
       "    code        num\n",
       "0  C1128 1,188.3826\n",
       "1  C1332 1,327.9192\n",
       "2  C1563 1,797.6878\n",
       "3  C1794 1,048.3720\n",
       "4  C1152   847.3162"
      ]
     },
     "execution_count": 794,
     "metadata": {},
     "output_type": "execute_result"
    }
   ],
   "source": [
    "pred2=pd.concat([code2, model2], axis=1, ignore_index=True)\n",
    "pred2.columns=[\"code\", \"num\"]\n",
    "pred2.head()"
   ]
  },
  {
   "cell_type": "code",
   "execution_count": 795,
   "metadata": {},
   "outputs": [],
   "source": [
    "df_merge=pd.DataFrame(pd.concat([pred1, pred2], axis=0))\n",
    "df_merge=df_merge.reset_index(drop=True)"
   ]
  },
  {
   "cell_type": "code",
   "execution_count": 796,
   "metadata": {},
   "outputs": [
    {
     "data": {
      "text/html": [
       "<div>\n",
       "<style scoped>\n",
       "    .dataframe tbody tr th:only-of-type {\n",
       "        vertical-align: middle;\n",
       "    }\n",
       "\n",
       "    .dataframe tbody tr th {\n",
       "        vertical-align: top;\n",
       "    }\n",
       "\n",
       "    .dataframe thead th {\n",
       "        text-align: right;\n",
       "    }\n",
       "</style>\n",
       "<table border=\"1\" class=\"dataframe\">\n",
       "  <thead>\n",
       "    <tr style=\"text-align: right;\">\n",
       "      <th></th>\n",
       "      <th>code</th>\n",
       "      <th>num</th>\n",
       "    </tr>\n",
       "  </thead>\n",
       "  <tbody>\n",
       "    <tr>\n",
       "      <th>0</th>\n",
       "      <td>C1072</td>\n",
       "      <td>751.5410</td>\n",
       "    </tr>\n",
       "    <tr>\n",
       "      <th>1</th>\n",
       "      <td>C1456</td>\n",
       "      <td>539.4091</td>\n",
       "    </tr>\n",
       "    <tr>\n",
       "      <th>2</th>\n",
       "      <td>C1840</td>\n",
       "      <td>533.2202</td>\n",
       "    </tr>\n",
       "    <tr>\n",
       "      <th>3</th>\n",
       "      <td>C1640</td>\n",
       "      <td>464.1348</td>\n",
       "    </tr>\n",
       "    <tr>\n",
       "      <th>4</th>\n",
       "      <td>C1377</td>\n",
       "      <td>364.1875</td>\n",
       "    </tr>\n",
       "  </tbody>\n",
       "</table>\n",
       "</div>"
      ],
      "text/plain": [
       "    code      num\n",
       "0  C1072 751.5410\n",
       "1  C1456 539.4091\n",
       "2  C1840 533.2202\n",
       "3  C1640 464.1348\n",
       "4  C1377 364.1875"
      ]
     },
     "execution_count": 796,
     "metadata": {},
     "output_type": "execute_result"
    }
   ],
   "source": [
    "df_merge.head()"
   ]
  },
  {
   "cell_type": "code",
   "execution_count": 797,
   "metadata": {},
   "outputs": [],
   "source": [
    "test_split=pd.merge(sample, df_merge, on='code', how='outer')"
   ]
  },
  {
   "cell_type": "code",
   "execution_count": 798,
   "metadata": {
    "scrolled": true
   },
   "outputs": [
    {
     "data": {
      "text/html": [
       "<div>\n",
       "<style scoped>\n",
       "    .dataframe tbody tr th:only-of-type {\n",
       "        vertical-align: middle;\n",
       "    }\n",
       "\n",
       "    .dataframe tbody tr th {\n",
       "        vertical-align: top;\n",
       "    }\n",
       "\n",
       "    .dataframe thead th {\n",
       "        text-align: right;\n",
       "    }\n",
       "</style>\n",
       "<table border=\"1\" class=\"dataframe\">\n",
       "  <thead>\n",
       "    <tr style=\"text-align: right;\">\n",
       "      <th></th>\n",
       "      <th>code</th>\n",
       "      <th>num_x</th>\n",
       "      <th>num_y</th>\n",
       "    </tr>\n",
       "  </thead>\n",
       "  <tbody>\n",
       "    <tr>\n",
       "      <th>0</th>\n",
       "      <td>C1072</td>\n",
       "      <td>0</td>\n",
       "      <td>751.5410</td>\n",
       "    </tr>\n",
       "    <tr>\n",
       "      <th>1</th>\n",
       "      <td>C1128</td>\n",
       "      <td>0</td>\n",
       "      <td>1,188.3826</td>\n",
       "    </tr>\n",
       "    <tr>\n",
       "      <th>2</th>\n",
       "      <td>C1456</td>\n",
       "      <td>0</td>\n",
       "      <td>539.4091</td>\n",
       "    </tr>\n",
       "    <tr>\n",
       "      <th>3</th>\n",
       "      <td>C1840</td>\n",
       "      <td>0</td>\n",
       "      <td>533.2202</td>\n",
       "    </tr>\n",
       "    <tr>\n",
       "      <th>4</th>\n",
       "      <td>C1332</td>\n",
       "      <td>0</td>\n",
       "      <td>1,327.9192</td>\n",
       "    </tr>\n",
       "  </tbody>\n",
       "</table>\n",
       "</div>"
      ],
      "text/plain": [
       "    code  num_x      num_y\n",
       "0  C1072      0   751.5410\n",
       "1  C1128      0 1,188.3826\n",
       "2  C1456      0   539.4091\n",
       "3  C1840      0   533.2202\n",
       "4  C1332      0 1,327.9192"
      ]
     },
     "execution_count": 798,
     "metadata": {},
     "output_type": "execute_result"
    }
   ],
   "source": [
    "test_split.head()"
   ]
  },
  {
   "cell_type": "code",
   "execution_count": 799,
   "metadata": {},
   "outputs": [],
   "source": [
    "test_split= test_split.drop(columns='num_x')\n",
    "test_split.columns=[\"code\",\"num\"]"
   ]
  },
  {
   "cell_type": "code",
   "execution_count": 800,
   "metadata": {
    "scrolled": true
   },
   "outputs": [
    {
     "data": {
      "text/plain": [
       "Int64Index([], dtype='int64')"
      ]
     },
     "execution_count": 800,
     "metadata": {},
     "output_type": "execute_result"
    }
   ],
   "source": [
    "test_split[test_split.num<=0].index"
   ]
  },
  {
   "cell_type": "code",
   "execution_count": 801,
   "metadata": {},
   "outputs": [
    {
     "data": {
      "text/plain": [
       "4.2922581588773396e-14"
      ]
     },
     "execution_count": 801,
     "metadata": {},
     "output_type": "execute_result"
    }
   ],
   "source": [
    "one=pd.read_csv(\"/Users/seungji/Desktop/Dacon/Daesamanlap/EDA_CYR/put_area.csv\")\n",
    "one = pd.merge(sample, one, on=\"code\")\n",
    "one= one.drop(columns='num_x')\n",
    "one.columns=[\"code\",\"num\"]\n",
    "one = one.loc[~one.code.isin(['C2335', 'C1327', 'C2675'])]\n",
    "\n",
    "test_= test_split.loc[~test_split.code.isin(['C2335', 'C1327', 'C2675'])]\n",
    "\n",
    "mean_absolute_error(one.num, test_.num)"
   ]
  },
  {
   "cell_type": "code",
   "execution_count": 802,
   "metadata": {},
   "outputs": [],
   "source": [
    "def fit(X_train, X_test, y_train, y_test, model):\n",
    "    try:\n",
    "        model.fit(X_train, y_train,verbose=False)\n",
    "    except:\n",
    "        model.fit(X_train, y_train)\n",
    "    tst_pred = model.predict(X_test)\n",
    "    error = mean_absolute_error(y_test,tst_pred)\n",
    "    return model, tst_pred, error\n",
    "\n",
    "\n",
    "def fit_models(X, y, models, cv=False):\n",
    "    X = np.array(X.reset_index(drop=True))\n",
    "    y = np.array(y.reset_index(drop=True))\n",
    "    best_error = 10000\n",
    "    best_tst_pred = 0\n",
    "    best_model = \"\"\n",
    "    if cv==False:\n",
    "        X_train, X_test, y_train, y_test = train_test_split(X, y, test_size=0.3, shuffle=True,random_state=2021)\n",
    "        for m in models:\n",
    "            model, tst_pred, error = fit(X_train, X_test, y_train, y_test, m)\n",
    "            if best_error > error:\n",
    "                best_error = error\n",
    "                best_tst_pred = tst_pred\n",
    "                best_model = model\n",
    "    else:\n",
    "        best_tst_idx = []\n",
    "        kf = KFold(n_splits = 5, shuffle=True,random_state = 2021)\n",
    "        for m in models:\n",
    "            print(m)\n",
    "            mae = []\n",
    "            pred= []\n",
    "            tst_idx = []\n",
    "            for train_index, test_index in kf.split(X, y):\n",
    "                X_train, X_test = X[train_index], X[test_index]\n",
    "                y_train, y_test = y[train_index], y[test_index]\n",
    "                scaler = StandardScaler().fit(X_train)\n",
    "                X_train = scaler.transform(X_train)\n",
    "                X_test = scaler.transform(X_test)\n",
    "                model, tst_pred, error = fit(X_train, X_test, y_train, y_test, m)\n",
    "                mae.append(error)\n",
    "                pred.append(tst_pred.tolist())\n",
    "                tst_idx.append(test_index.tolist())\n",
    "            cv_error = np.mean(mae)\n",
    "            print(f\"model:{str(m).split('(')[0]}\\nMAE:{cv_error}\")\n",
    "            if best_error > cv_error:\n",
    "                best_error = cv_error\n",
    "                best_tst_pred = pred\n",
    "                best_tst_idx = sum(tst_idx, [])\n",
    "                best_model = model\n",
    "        best_tst_pred = sum(best_tst_pred,[])\n",
    "        best_tst_pred = dict(zip(best_tst_idx,best_tst_pred))\n",
    "    try:\n",
    "        best_model = best_model.fit(np.concatenate((X_train, X_test),axis=0), \n",
    "                                                np.concatenate((y_train, y_test),axis=0), \n",
    "                                                verbose=False)\n",
    "    except:\n",
    "        best_model = best_model.fit(np.concatenate((X_train, X_test),axis=0), \n",
    "                                        np.concatenate((y_train, y_test),axis=0))\n",
    "    return best_model, best_tst_pred, best_error"
   ]
  },
  {
   "cell_type": "code",
   "execution_count": 803,
   "metadata": {},
   "outputs": [],
   "source": [
    "models = [\n",
    "    LinearRegression() ,\n",
    "           PLSRegression(), \n",
    "           Ridge(random_state=2021),\n",
    "           Lasso(random_state=2021), \n",
    "           ElasticNet(random_state=2021),\n",
    "          #SVR(),\n",
    "          CatBoostRegressor(random_state=2021, loss_function = 'MAE'),\n",
    "           RandomForestRegressor(criterion=\"mae\",random_state=2021),\n",
    "           GradientBoostingRegressor(criterion=\"mae\",random_state=2021)\n",
    "           #XGBRegressor(random_state=2021)\n",
    "         ]"
   ]
  },
  {
   "cell_type": "code",
   "execution_count": 804,
   "metadata": {},
   "outputs": [],
   "source": [
    "X1 = train1.drop(columns=['단지명','단지코드','도로명주소','subway_name',\n",
    "                         '등록차량수', \"임대상가\"])\n",
    "X1 = pd.get_dummies(X1, drop_first=True)\n",
    "y1=train1[\"등록차량수\"]"
   ]
  },
  {
   "cell_type": "code",
   "execution_count": 805,
   "metadata": {},
   "outputs": [
    {
     "name": "stdout",
     "output_type": "stream",
     "text": [
      "LinearRegression()\n",
      "model:LinearRegression\n",
      "MAE:2060278437267392.8\n",
      "PLSRegression()\n",
      "model:PLSRegression\n",
      "MAE:113.32439575824074\n",
      "Ridge(random_state=2021)\n",
      "model:Ridge\n",
      "MAE:106.86317511227901\n",
      "Lasso(random_state=2021)\n",
      "model:Lasso\n",
      "MAE:104.60801589607513\n",
      "ElasticNet(random_state=2021)\n",
      "model:ElasticNet\n",
      "MAE:109.25463031207619\n",
      "<catboost.core.CatBoostRegressor object at 0x7fee2047e7f0>\n",
      "model:<catboost.core.CatBoostRegressor object at 0x7fee2047e7f0>\n",
      "MAE:106.10361439273902\n",
      "RandomForestRegressor(criterion='mae', random_state=2021)\n",
      "model:RandomForestRegressor\n",
      "MAE:111.71108028919329\n",
      "GradientBoostingRegressor(criterion='mae', random_state=2021)\n",
      "model:GradientBoostingRegressor\n",
      "MAE:114.78186774818184\n"
     ]
    },
    {
     "data": {
      "text/plain": [
       "(Lasso(random_state=2021), 104.60801589607513)"
      ]
     },
     "execution_count": 805,
     "metadata": {},
     "output_type": "execute_result"
    }
   ],
   "source": [
    "best_model1, best_tst_pred1, best_error1 = fit_models(X_train1, y_train1, models, cv=True)\n",
    "best_model1,  best_error1"
   ]
  },
  {
   "cell_type": "code",
   "execution_count": 806,
   "metadata": {},
   "outputs": [],
   "source": [
    "X2=train2.drop(columns=['단지명','단지코드','도로명주소','subway_name',\n",
    "                         '등록차량수', \"임대상가\"])\n",
    "X2 = pd.get_dummies(X2, drop_first=True)\n",
    "y2=train2[\"등록차량수\"]"
   ]
  },
  {
   "cell_type": "code",
   "execution_count": 807,
   "metadata": {},
   "outputs": [
    {
     "name": "stdout",
     "output_type": "stream",
     "text": [
      "LinearRegression()\n",
      "model:LinearRegression\n",
      "MAE:763.3906103393354\n",
      "PLSRegression()\n",
      "model:PLSRegression\n",
      "MAE:295.550789945839\n",
      "Ridge(random_state=2021)\n",
      "model:Ridge\n",
      "MAE:291.64352883403996\n",
      "Lasso(random_state=2021)\n",
      "model:Lasso\n",
      "MAE:370.1525883305875\n",
      "ElasticNet(random_state=2021)\n",
      "model:ElasticNet\n",
      "MAE:281.95314637295803\n",
      "<catboost.core.CatBoostRegressor object at 0x7fee2047e7f0>\n",
      "model:<catboost.core.CatBoostRegressor object at 0x7fee2047e7f0>\n",
      "MAE:295.73979828147185\n",
      "RandomForestRegressor(criterion='mae', random_state=2021)\n",
      "model:RandomForestRegressor\n",
      "MAE:306.5111090909091\n",
      "GradientBoostingRegressor(criterion='mae', random_state=2021)\n",
      "model:GradientBoostingRegressor\n",
      "MAE:339.21369844507706\n"
     ]
    },
    {
     "data": {
      "text/plain": [
       "(ElasticNet(random_state=2021), 281.95314637295803)"
      ]
     },
     "execution_count": 807,
     "metadata": {},
     "output_type": "execute_result"
    }
   ],
   "source": [
    "best_model2, best_tst_pred2, best_error2=fit_models(X_train2, y_train2, models, cv=True)\n",
    "best_model2, best_error2"
   ]
  },
  {
   "cell_type": "code",
   "execution_count": 808,
   "metadata": {},
   "outputs": [
    {
     "name": "stdout",
     "output_type": "stream",
     "text": [
      "[13.0, 166.1, 249.8, 329.29999999999995, 393.0, 451.5, 530.0, 633.0999999999999, 730.4000000000001, 856.6000000000001, 986.0]\n",
      "[988.0, 1069.2, 1162.8000000000002, 1291.6, 1528.2000000000003, 1798.0]\n",
      "[[30 12  4  1  0  1  1  0  0  0  6]\n",
      " [ 3  6  7  5  3  1  3  0  0  0  0]\n",
      " [ 1  9 12 11  5  1  1  0  0  0  1]\n",
      " [ 0  1  7  7  4  5  1  2  0  1  0]\n",
      " [ 0  0  3 12  3 11  2  2  0  0  0]\n",
      " [ 0  0  0  5  6 13  8  4  0  0  0]\n",
      " [ 0  0  0  0  6  8 14 10  5  0  0]\n",
      " [ 0  1  0  1  1  1 13  9  4  0  1]\n",
      " [ 0  0  0  0  1  1  3 12 10  8  0]\n",
      " [ 0  0  0  0  0  0  2  2  6  5  3]\n",
      " [ 0  0  0  0  0  0  0  3  7  1  3]]\n",
      "[[ 1  0  0  3  0  3]\n",
      " [ 1  0  2  1  0  1]\n",
      " [ 0  0  1  1  0  4]\n",
      " [ 2  0  0  4  2  0]\n",
      " [ 0  0  1  0  2  2]\n",
      " [ 0  2  1  5  2 11]]\n"
     ]
    }
   ],
   "source": [
    "tst_pred1 = pd.merge(pd.DataFrame(best_tst_pred1,index=[0]).T.reset_index(),\n",
    "         pd.DataFrame(train1[[\"단지코드\",\"단지내주차면수\"]].reset_index(drop=True)).reset_index(),\n",
    "         on=\"index\")\n",
    "\n",
    "tst_pred2 = pd.merge(pd.DataFrame(best_tst_pred2,index=[0]).T.reset_index(),\n",
    "         pd.DataFrame(train2[[\"단지코드\",\"단지내주차면수\"]].reset_index(drop=True)).reset_index(),\n",
    "         on=\"index\")\n",
    "\n",
    "tst_pred1 = pd.merge(tst_pred1, pd.concat([train1.단지코드,y1],axis=1), on = \"단지코드\")\n",
    "tst_pred2 = pd.merge(tst_pred2, pd.concat([train2.단지코드,y2],axis=1), on = \"단지코드\")\n",
    "\n",
    "q = list(tst_pred1[\"단지내주차면수\"].quantile([0,.1,.2,.3,.4,.5,.6,.7,.8,.9,1]))\n",
    "print(q)\n",
    "\n",
    "q2 = list(tst_pred2[\"단지내주차면수\"].quantile([0,.2,.4,.6,.8,1]))\n",
    "print(q2)\n",
    "\n",
    "tst_pred1[\"realclass\"] = [99]*len(tst_pred1)\n",
    "for i in range(len(q[:-1])):\n",
    "    tst_pred1.loc[(tst_pred1.등록차량수>=q[i])&(tst_pred1.등록차량수<q[i+1]),\"realclass\"] = i\n",
    "tst_pred1.loc[tst_pred1.등록차량수==q[5],\"realclass\"] = 4\n",
    "\n",
    "tst_pred1[\"predclass\"] = [99]*len(tst_pred1)\n",
    "for i in range(len(q[:-1])):\n",
    "    tst_pred1.loc[(tst_pred1[0]>=q[i])&(tst_pred1[0]<q[i+1]),\"predclass\"] = i\n",
    "tst_pred1.loc[tst_pred1[0]==q[5],\"predclass\"] = 4\n",
    "\n",
    "tst_pred2[\"realclass\"] = [99]*len(tst_pred2)\n",
    "for i in range(len(q2[:-1])):\n",
    "    tst_pred2.loc[(tst_pred2.등록차량수>=q2[i])&(tst_pred2.등록차량수<q2[i+1]),\"realclass\"] = i\n",
    "tst_pred2.loc[tst_pred2.등록차량수==q2[5],\"realclass\"] = 4\n",
    "\n",
    "tst_pred2[\"predclass\"] = [99]*len(tst_pred2)\n",
    "for i in range(len(q2[:-1])):\n",
    "    tst_pred2.loc[(tst_pred2[0]>=q2[i])&(tst_pred2[0]<q2[i+1]),\"predclass\"] = i\n",
    "tst_pred2.loc[tst_pred1[0]==q2[5],\"predclass\"] = 4\n",
    "\n",
    "from sklearn.metrics import confusion_matrix as cm \n",
    "print(cm(tst_pred1.realclass,tst_pred1.predclass))\n",
    "print(cm(tst_pred2.realclass,tst_pred2.predclass))"
   ]
  },
  {
   "cell_type": "code",
   "execution_count": 669,
   "metadata": {},
   "outputs": [
    {
     "data": {
      "text/plain": [
       "[988.0, 1069.2, 1162.8000000000002, 1291.6, 1528.2000000000003, 1798.0]"
      ]
     },
     "execution_count": 669,
     "metadata": {},
     "output_type": "execute_result"
    }
   ],
   "source": [
    "q2"
   ]
  },
  {
   "cell_type": "code",
   "execution_count": 568,
   "metadata": {},
   "outputs": [
    {
     "name": "stdout",
     "output_type": "stream",
     "text": [
      "[13.0, 166.1, 249.8, 329.29999999999995, 393.0, 451.5, 530.0, 633.0999999999999, 730.4000000000001, 856.6000000000001, 986.0]\n",
      "[988.0, 1069.2, 1162.8000000000002, 1291.6, 1528.2000000000003, 1798.0]\n",
      "[[34 11  6  1  1  1  1  0  0  0  0]\n",
      " [ 5  5  9  1  4  2  1  1  0  0  0]\n",
      " [ 0 10 18  8  1  1  1  1  0  1  0]\n",
      " [ 1  2  6  5  6  4  1  2  0  1  0]\n",
      " [ 0  0  2 11  6  8  5  1  0  0  0]\n",
      " [ 0  0  1  4  2 12 12  5  0  0  0]\n",
      " [ 0  0  0  1  2  9 17 10  4  0  0]\n",
      " [ 0  1  0  1  0  4 12  9  4  0  0]\n",
      " [ 0  0  0  0  1  3  3 12 15  1  0]\n",
      " [ 0  0  0  0  0  0  2  2 11  2  1]\n",
      " [ 0  0  0  0  0  0  0  5  6  3  0]]\n",
      "[[1 2 1 2 0 1]\n",
      " [1 1 1 1 0 1]\n",
      " [2 1 2 0 0 1]\n",
      " [1 1 3 2 1 0]\n",
      " [0 1 0 3 0 1]\n",
      " [3 4 3 4 3 4]]\n"
     ]
    }
   ],
   "source": [
    "tst_pred1 = pd.merge(pd.DataFrame(best_tst_pred1,index=[0]).T.reset_index(),\n",
    "         pd.DataFrame(train1[[\"단지코드\",\"단지내주차면수\"]].reset_index(drop=True)).reset_index(),\n",
    "         on=\"index\")\n",
    "\n",
    "tst_pred2 = pd.merge(pd.DataFrame(best_tst_pred2,index=[0]).T.reset_index(),\n",
    "         pd.DataFrame(train2[[\"단지코드\",\"단지내주차면수\"]].reset_index(drop=True)).reset_index(),\n",
    "         on=\"index\")\n",
    "\n",
    "tst_pred1 = pd.merge(tst_pred1, pd.concat([train1.단지코드,y1],axis=1), on = \"단지코드\")\n",
    "tst_pred2 = pd.merge(tst_pred2, pd.concat([train2.단지코드,y2],axis=1), on = \"단지코드\")\n",
    "\n",
    "q = list(tst_pred1[\"단지내주차면수\"].quantile([0,.1,.2,.3,.4,.5,.6,.7,.8,.9,1]))\n",
    "print(q)\n",
    "\n",
    "q2 = list(tst_pred2[\"단지내주차면수\"].quantile([0,.2,.4,.6,.8,1]))\n",
    "print(q2)\n",
    "\n",
    "tst_pred1[\"realclass\"] = [99]*len(tst_pred1)\n",
    "for i in range(len(q[:-1])):\n",
    "    tst_pred1.loc[(tst_pred1.등록차량수>=q[i])&(tst_pred1.등록차량수<q[i+1]),\"realclass\"] = i\n",
    "tst_pred1.loc[tst_pred1.등록차량수==q[5],\"realclass\"] = 4\n",
    "\n",
    "tst_pred1[\"predclass\"] = [99]*len(tst_pred1)\n",
    "for i in range(len(q[:-1])):\n",
    "    tst_pred1.loc[(tst_pred1[0]>=q[i])&(tst_pred1[0]<q[i+1]),\"predclass\"] = i\n",
    "tst_pred1.loc[tst_pred1[0]==q[5],\"predclass\"] = 4\n",
    "\n",
    "tst_pred2[\"realclass\"] = [99]*len(tst_pred2)\n",
    "for i in range(len(q2[:-1])):\n",
    "    tst_pred2.loc[(tst_pred2.등록차량수>=q2[i])&(tst_pred2.등록차량수<q2[i+1]),\"realclass\"] = i\n",
    "tst_pred2.loc[tst_pred2.등록차량수==q2[5],\"realclass\"] = 4\n",
    "\n",
    "tst_pred2[\"predclass\"] = [99]*len(tst_pred2)\n",
    "for i in range(len(q2[:-1])):\n",
    "    tst_pred2.loc[(tst_pred2[0]>=q2[i])&(tst_pred2[0]<q2[i+1]),\"predclass\"] = i\n",
    "tst_pred2.loc[tst_pred1[0]==q2[5],\"predclass\"] = 4\n",
    "\n",
    "from sklearn.metrics import confusion_matrix as cm \n",
    "print(cm(tst_pred1.realclass,tst_pred1.predclass))\n",
    "print(cm(tst_pred2.realclass,tst_pred2.predclass))"
   ]
  },
  {
   "cell_type": "markdown",
   "metadata": {},
   "source": [
    "## 지하철역 =0 인 것 subway_dist 와 환승역수 NA로\n",
    "- [[28 17  5  2  1  1  1  0  0  0  0]\n",
    "- [ 3  5 11  0  4  3  1  1  0  0  0]\n",
    "- [ 0 11 19  4  3  1  1  1  0  1  0]\n",
    "- [ 1  0  8  5  7  3  1  2  0  1  0]\n",
    "- [ 0  0  3  8  7  8  6  1  0  0  0]\n",
    "- [ 0  0  1  4  5 11 11  4  0  0  0]\n",
    "- [ 0  0  0  0  2 10 19  7  5  0  0]\n",
    "- [ 0  0  1  0  1  3 13 11  2  0  0]\n",
    "- [ 0  0  0  0  1  1  3 11 16  3  0]\n",
    "- [ 0  0  0  0  0  1  2  3  7  4  1]\n",
    "- [ 0  0  0  0  0  0  0  6  6  2  0]]\n",
    "- [[2 2 0 2 0 1]\n",
    "- [1 1 1 1 0 1]\n",
    "- [2 3 1 0 0 0]\n",
    "- [0 2 3 2 1 0]\n",
    "- [1 0 0 3 0 1]\n",
    "- [2 4 2 5 3 5]]"
   ]
  },
  {
   "cell_type": "markdown",
   "metadata": {},
   "source": [
    "## 지하철역 =0 인 것  환승역수 NA로\n",
    "- [[31 13  7  1  1  1  1  0  0  0  0]\n",
    "- [ 2  8  8  1  4  3  1  1  0  0  0]\n",
    "- [ 0 11 17  6  3  1  1  1  0  1  0]\n",
    "- [ 1  0  7  7  6  3  2  1  0  1  0]\n",
    "- [ 0  0  2  9  7  9  5  1  0  0  0]\n",
    "- [ 0  0  1  4  3 13 12  3  0  0  0]\n",
    "- [ 0  0  0  0  1 11 20  6  5  0  0]\n",
    "- [ 0  0  1  1  0  5  6 14  4  0  0]\n",
    "- [ 0  0  0  0  1  1  3 13 14  3  0]\n",
    "- [ 0  0  0  0  0  0  2  2  9  3  2]\n",
    "- [ 0  0  0  0  0  0  0  5  6  3  0]]\n",
    "- [[1 3 1 1 0 1]\n",
    "- [2 0 1 1 0 1]\n",
    "- [1 3 1 0 0 1]\n",
    "- [1 1 3 2 1 0]\n",
    "- [1 0 1 2 0 1]\n",
    "- [2 5 1 6 2 5]]"
   ]
  },
  {
   "cell_type": "markdown",
   "metadata": {},
   "source": [
    "## subway_dist 지하철역 = 0인 것 NA로 하기 \n",
    "- [[35 11  4  3  0  2  0  0  0  0  0]\n",
    "- [ 4  6  9  1  4  1  2  1  0  0  0]\n",
    "- [ 0  8 22  6  1  1  1  1  0  1  0]\n",
    "- [ 1  1  5  6  9  1  2  2  1  0  0]\n",
    "- [ 0  0  2 12  5  8  4  2  0  0  0]\n",
    "- [ 0  0  2  3  4 10 13  4  0  0  0]\n",
    "- [ 0  0  0  1  0 10 19  9  4  0  0]\n",
    "- [ 0  1  0  1  0  5 10 10  4  0  0]\n",
    "- [ 0  0  0  0  1  2  3 11 15  3  0]\n",
    "- [ 0  0  0  0  0  1  2  1 10  3  1]\n",
    "- [ 0  0  0  0  0  0  0  7  6  1  0]]\n",
    "- [[0 2 1 2 0 2]\n",
    "- [2 0 2 0 0 1]\n",
    "- [2 4 0 0 0 0]\n",
    "- [1 2 2 2 1 0]\n",
    "- [1 0 0 3 0 1]\n",
    "- [2 4 3 6 2 4]]"
   ]
  },
  {
   "cell_type": "markdown",
   "metadata": {},
   "source": [
    "## 96결과\n",
    "- [[34 11  7  0  1  1  1  0  0  0  0]\n",
    "-  [ 1 10  7  3  3  1  2  1  0  0  0]\n",
    "-  [ 1  8 23  4  1  2  0  1  0  1  0]\n",
    "-  [ 0  1  8  4  7  3  3  1  0  1  0]\n",
    "- [ 0  0  3  8  8  8  5  1  0  0  0]\n",
    "- [ 0  0  2  2  5 12 11  3  1  0  0]\n",
    "- [ 0  0  0  0  2  9 20  7  5  0  0]\n",
    "- [ 0  1  0  0  0  6 10  9  5  0  0]\n",
    "- [ 0  0  0  0  0  1  4 13 17  0  0]\n",
    "- [ 0  0  0  0  0  0  2  3  7  5  1]\n",
    "- [ 0  0  0  0  0  0  0  5  6  3  0]]\n",
    "- [[2 1 0 2 0 2]\n",
    "- [3 0 1 1 0 0]\n",
    "- [1 3 2 0 0 0]\n",
    "- [0 2 2 3 1 0]\n",
    "- [0 1 0 3 0 1]\n",
    "- [1 4 4 5 1 6]]"
   ]
  },
  {
   "cell_type": "code",
   "execution_count": 143,
   "metadata": {
    "scrolled": false
   },
   "outputs": [
    {
     "data": {
      "text/plain": [
       "Text(0.5, 0, 'CatBoost1 Feature Importance')"
      ]
     },
     "execution_count": 143,
     "metadata": {},
     "output_type": "execute_result"
    },
    {
     "data": {
      "image/png": "[encoded data removed]",
      "text/plain": [
       "<Figure size 1224x1080 with 1 Axes>"
      ]
     },
     "metadata": {
      "needs_background": "light"
     },
     "output_type": "display_data"
    }
   ],
   "source": [
    "plt.subplots(figsize=(17,15))\n",
    "sorted_feature_importance = model_1.feature_importances_.argsort()\n",
    "plt.barh(X_train1.columns[sorted_feature_importance], \n",
    "        model_1.feature_importances_[sorted_feature_importance], \n",
    "        color='turquoise')\n",
    "plt.xlabel(\"CatBoost1 Feature Importance\")"
   ]
  },
  {
   "cell_type": "code",
   "execution_count": 144,
   "metadata": {},
   "outputs": [
    {
     "data": {
      "text/plain": [
       "Text(0.5, 0, 'CatBoost2 Feature Importance')"
      ]
     },
     "execution_count": 144,
     "metadata": {},
     "output_type": "execute_result"
    },
    {
     "data": {
      "image/png": "[encoded data removed]",
      "text/plain": [
       "<Figure size 1224x1080 with 1 Axes>"
      ]
     },
     "metadata": {
      "needs_background": "light"
     },
     "output_type": "display_data"
    }
   ],
   "source": [
    "plt.subplots(figsize=(17,15))\n",
    "sorted_feature_importance = model_2.feature_importances_.argsort()\n",
    "plt.barh(X_train2.columns[sorted_feature_importance], \n",
    "        model_2.feature_importances_[sorted_feature_importance], \n",
    "        color='turquoise')\n",
    "plt.xlabel(\"CatBoost2 Feature Importance\")"
   ]
  },
  {
   "cell_type": "code",
   "execution_count": 145,
   "metadata": {},
   "outputs": [],
   "source": [
    "#test_split.to_csv('busysj.csv', index=False)"
   ]
  },
  {
   "cell_type": "code",
   "execution_count": null,
   "metadata": {},
   "outputs": [],
   "source": []
  },
  {
   "cell_type": "code",
   "execution_count": null,
   "metadata": {},
   "outputs": [],
   "source": []
  }
 ],
 "metadata": {
  "kernelspec": {
   "display_name": "Python 3",
   "language": "python",
   "name": "python3"
  },
  "language_info": {
   "codemirror_mode": {
    "name": "ipython",
    "version": 3
   },
   "file_extension": ".py",
   "mimetype": "text/x-python",
   "name": "python",
   "nbconvert_exporter": "python",
   "pygments_lexer": "ipython3",
   "version": "3.8.5"
  }
 },
 "nbformat": 4,
 "nbformat_minor": 4
}
