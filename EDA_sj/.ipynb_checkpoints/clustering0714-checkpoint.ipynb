{
 "cells": [
  {
   "cell_type": "code",
   "execution_count": 3,
   "metadata": {},
   "outputs": [],
   "source": [
    "import pandas as pd\n",
    "pd.options.display.float_format = '{:,.4f}'.format\n",
    "pd.options.display.max_rows = 100\n",
    "pd.options.display.max_columns = 40\n",
    "import numpy as np\n",
    "import os,random, math\n",
    "from tqdm import tqdm\n",
    "from copy import deepcopy\n",
    "from collections import Counter\n",
    "\n",
    "# Visualization\n",
    "import seaborn as sns\n",
    "import matplotlib\n",
    "import matplotlib.pyplot as plt\n",
    "%matplotlib inline\n",
    "from matplotlib import font_manager, rc\n",
    "plt.rcParams['font.family'] = 'NanumGothic'\n",
    "import platform\n",
    "if platform.system() == 'Windows':\n",
    "    font_name = font_manager.FontProperties(fname=\"c:/Windows/Fonts/malgun.ttf\").get_name()\n",
    "    rc('font', family=font_name)\n",
    "else:    \n",
    "    rc('font', family='AppleGothic')\n",
    "\n",
    "matplotlib.rcParams['axes.unicode_minus'] = False\n",
    "\n",
    "# from dataprep.eda import plot, plot_correlation, plot_missing\n",
    "\n",
    "import plotly \n",
    "import plotly.express as px\n",
    "# from plotly import tools, subplots\n",
    "# import plotly.offline as py\n",
    "# py.init_notebook_mode(connected=True)\n",
    "# from plotly.offline import init_notebook_mode, iplot\n",
    "# import plotly.graph_objs as go\n",
    "# import plotly.express as px\n",
    "\n",
    "# Warnings\n",
    "import warnings\n",
    "warnings.filterwarnings('always')\n",
    "warnings.filterwarnings('ignore')\n"
   ]
  },
  {
   "cell_type": "code",
   "execution_count": 4,
   "metadata": {},
   "outputs": [],
   "source": [
    "# row 생략 없이 출력\n",
    "pd.set_option('display.max_rows', None)\n",
    "# col 생략 없이 출력\n",
    "pd.set_option('display.max_columns', None)\n",
    "from sklearn.metrics import mean_absolute_error"
   ]
  },
  {
   "cell_type": "code",
   "execution_count": 5,
   "metadata": {},
   "outputs": [],
   "source": [
    "test = pd.read_csv(\"/Users/seungji/Desktop/Dacon/Daesamanlap/ProcessedData/merged_test.csv\")\n",
    "train = pd.read_csv(\"/Users/seungji/Desktop/Dacon/Daesamanlap/ProcessedData/merged_train.csv\")"
   ]
  },
  {
   "cell_type": "code",
   "execution_count": 6,
   "metadata": {},
   "outputs": [],
   "source": [
    "tr_gr = train.groupby(\"단지코드\").mean().reset_index()\n",
    "tst_gr = test.groupby(\"단지코드\").mean().reset_index()\n",
    "지역 = []\n",
    "for d in train.단지코드.unique():\n",
    "    지역.append(train.loc[train.단지코드 == d,\"지역\"].unique()[0])\n",
    "tr_gr[\"지역\"] = 지역\n",
    "# train[\"지역구분\"] = [0]*len(train)\n",
    "# tr_gr.loc[tr_gr.지역.isin(['경상남도', '경기도', '전라북도', '강원도',  '충청남도','제주특별자치도',  '충청북도', '전라남도', '경상북도', '세종특별자치시']),\"지역\"] = \"8도\"\n",
    "# tr_gr.loc[tr_gr.지역.isin(['대전광역시', '광주광역시', '울산광역시', '대구광역시', '서울특별시','부산광역시']),\"지역\"] = \"광역시\"\n",
    "\n",
    "자격유형 = []\n",
    "for d in train.단지코드.unique():\n",
    "    자격유형.append(train.loc[train.단지코드 == d,\"자격유형\"].unique()[0])\n",
    "tr_gr[\"자격유형\"] = 자격유형\n",
    "\n",
    "공급유형 = []\n",
    "for d in train.단지코드.unique():\n",
    "    공급유형.append(train.loc[train.단지코드 == d,\"공급유형\"].unique()[0])\n",
    "tr_gr[\"공급유형\"] = 공급유형\n",
    "\n",
    "지역 = []\n",
    "for d in test.단지코드.unique():\n",
    "    지역.append(test.loc[test.단지코드 == d,\"지역\"].unique()[0])\n",
    "tst_gr[\"지역\"] = 지역\n",
    "# train[\"지역구분\"] = [0]*len(train)\n",
    "# tr_gr.loc[tr_gr.지역.isin(['경상남도', '경기도', '전라북도', '강원도',  '충청남도','제주특별자치도',  '충청북도', '전라남도', '경상북도', '세종특별자치시']),\"지역\"] = \"8도\"\n",
    "# tr_gr.loc[tr_gr.지역.isin(['대전광역시', '광주광역시', '울산광역시', '대구광역시', '서울특별시','부산광역시']),\"지역\"] = \"광역시\"\n",
    "\n",
    "자격유형 = []\n",
    "for d in test.단지코드.unique():\n",
    "    자격유형.append(test.loc[test.단지코드 == d,\"자격유형\"].unique()[0])\n",
    "tst_gr[\"자격유형\"] = 자격유형\n",
    "\n",
    "공급유형 = []\n",
    "for d in test.단지코드.unique():\n",
    "    공급유형.append(test.loc[test.단지코드 == d,\"공급유형\"].unique()[0])\n",
    "tst_gr[\"공급유형\"] = 공급유형\n",
    "\n",
    "tr_gr[\"전용면적_std\"] = train.groupby(\"단지코드\").std().reset_index()[\"전용면적\"]\n",
    "tr_gr[\"전용면적별세대수_std\"] = train.groupby(\"단지코드\").std().reset_index()[\"전용면적별세대수\"]\n",
    "tr_gr[\"임대보증금_std\"] = train.groupby(\"단지코드\").std().reset_index()[\"임대보증금\"]\n",
    "tr_gr[\"임대료_std\"] = train.groupby(\"단지코드\").std().reset_index()[\"임대료\"]\n",
    "tst_gr[\"전용면적_std\"] = test.groupby(\"단지코드\").std().reset_index()[\"전용면적\"]\n",
    "tst_gr[\"전용면적별세대수_std\"] = test.groupby(\"단지코드\").std().reset_index()[\"전용면적별세대수\"]\n",
    "tst_gr[\"임대보증금_std\"] = test.groupby(\"단지코드\").std().reset_index()[\"임대보증금\"]\n",
    "tst_gr[\"임대료_std\"] = test.groupby(\"단지코드\").std().reset_index()[\"임대료\"]\n",
    "tr_re = pd.concat([train.단지코드,pd.get_dummies(train[\"지역\"])],axis=1).groupby(\"단지코드\").sum()\n",
    "tst_re = pd.concat([test.단지코드,pd.get_dummies(test[\"지역\"])],axis=1).groupby(\"단지코드\").sum()\n",
    "tr_re[tr_re>0] = 1\n",
    "tst_re[tst_re>0] = 1\n",
    "tr_gr = tr_gr.merge(tr_re, left_on = \"단지코드\",right_on =\"단지코드\",how = \"left\")\n",
    "tst_gr =tst_gr.merge(tst_re, left_on = \"단지코드\",right_on =\"단지코드\",how = \"left\")\n",
    "tr_apart = pd.concat([train.단지코드,pd.get_dummies(train[\"임대건물구분\"])],axis=1).groupby(\"단지코드\").sum().reset_index()\n",
    "tst_apart = pd.concat([test.단지코드,pd.get_dummies(test[\"임대건물구분\"])],axis=1).groupby(\"단지코드\").sum().reset_index()\n",
    "tr_gr = tr_gr.merge(tr_apart, left_on = \"단지코드\",right_on =\"단지코드\",how = \"left\")\n",
    "tst_gr =tst_gr.merge(tst_apart, left_on = \"단지코드\",right_on =\"단지코드\",how = \"left\")\n",
    "tr_gong = pd.concat([train.단지코드, pd.get_dummies(train[\"공급유형\"])],axis =1)\n",
    "tst_gong = pd.concat([test.단지코드, pd.get_dummies(test[\"공급유형\"])],axis =1)\n",
    "tr_gong[\"공공임대(5년,10년)\"] = tr_gong[\"공공임대(5년)\"]+tr_gong[\"공공임대(10년)\"]\n",
    "tst_gong[\"공공임대(5년,10년)\"] = tr_gong[\"공공임대(10년)\"]\n",
    "tr_gong = tr_gong[['단지코드',   '공공임대(50년)',  '공공임대(분납)',\n",
    "       '국민임대', '영구임대', '임대상가',  '행복주택', '공공임대(5년,10년)']]\n",
    "tst_gong = tst_gong[['단지코드',   '공공임대(50년)',  '공공임대(분납)',\n",
    "       '국민임대', '영구임대', '임대상가',  '행복주택', '공공임대(5년,10년)']]\n",
    "tr_gong = tr_gong.groupby(\"단지코드\").sum()\n",
    "tst_gong = tst_gong.groupby(\"단지코드\").sum()\n",
    "tr_gong[tr_gong>0] = 1\n",
    "tst_gong[tst_gong>0] = 1\n",
    "tr_gong = tr_gong.reset_index()\n",
    "tst_gong = tst_gong.reset_index()\n",
    "\n",
    "tr_gr = tr_gr.merge(tr_gong, left_on = \"단지코드\",right_on =\"단지코드\",how = \"left\")\n",
    "tst_gr =tst_gr.merge(tst_gong, left_on = \"단지코드\",right_on =\"단지코드\",how = \"left\")\n",
    "\n",
    "tr_ja = pd.concat([train.단지코드,pd.get_dummies(train[\"자격유형\"])],axis=1).groupby(\"단지코드\").sum()\n",
    "tst_ja = pd.concat([test.단지코드,pd.get_dummies(test[\"자격유형\"])],axis=1).groupby(\"단지코드\").sum()\n",
    "\n",
    "tr_ja[tr_ja>0] = 1\n",
    "tst_ja[tst_ja>0] = 1\n",
    "\n",
    "tr_ja = tr_ja[tst_ja.columns]\n",
    "tr_ja = tr_ja.reset_index()\n",
    "tst_ja = tst_ja.reset_index()\n",
    "\n",
    "tr_gr = tr_gr.merge(tr_ja, left_on = \"단지코드\",right_on =\"단지코드\",how = \"left\")\n",
    "tst_gr =tst_gr.merge(tst_ja, left_on = \"단지코드\",right_on =\"단지코드\",how = \"left\")\n",
    "tr_gr =tr_gr.drop(\"서울특별시\",axis=1)\n",
    "\n",
    "tr_gr.loc[tr_gr.전용면적_std.isna(),\"전용면적_std\"] = 0\n",
    "tr_gr.loc[tr_gr.전용면적별세대수_std.isna(),\"전용면적별세대수_std\"] = 0\n",
    "tr_gr.loc[tr_gr.임대보증금_std.isna(),\"임대보증금_std\"] = 0\n",
    "tr_gr.loc[tr_gr.임대료_std.isna(),\"임대료_std\"] = 0"
   ]
  },
  {
   "cell_type": "code",
   "execution_count": 7,
   "metadata": {},
   "outputs": [],
   "source": [
    "train = tr_gr\n",
    "test = tst_gr"
   ]
  },
  {
   "cell_type": "code",
   "execution_count": 8,
   "metadata": {},
   "outputs": [],
   "source": [
    "train[\"등록차량수/총세대수\"] = train[\"등록차량수\"]/train[\"총세대수\"]\n",
    "train[\"등록차량수/연면적\"] = train[\"등록차량수\"]/train[\"연면적\"]\n",
    "train[\"임대보증금/임대료\"] = train[\"임대보증금\"]/train[\"임대료\"]"
   ]
  },
  {
   "cell_type": "code",
   "execution_count": 9,
   "metadata": {},
   "outputs": [
    {
     "data": {
      "image/png": "[encoded data removed]",
      "text/plain": [
       "<Figure size 432x288 with 1 Axes>"
      ]
     },
     "metadata": {
      "needs_background": "light"
     },
     "output_type": "display_data"
    }
   ],
   "source": [
    "plt.hist(train[\"등록차량수\"],bins = 30)\n",
    "plt.show()"
   ]
  }
 ],
 "metadata": {
  "kernelspec": {
   "display_name": "Python 3",
   "language": "python",
   "name": "python3"
  },
  "language_info": {
   "codemirror_mode": {
    "name": "ipython",
    "version": 3
   },
   "file_extension": ".py",
   "mimetype": "text/x-python",
   "name": "python",
   "nbconvert_exporter": "python",
   "pygments_lexer": "ipython3",
   "version": "3.8.5"
  }
 },
 "nbformat": 4,
 "nbformat_minor": 4
}
