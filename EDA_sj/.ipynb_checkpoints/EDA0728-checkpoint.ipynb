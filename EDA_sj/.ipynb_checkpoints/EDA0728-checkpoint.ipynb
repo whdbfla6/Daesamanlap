{
 "cells": [
  {
   "cell_type": "code",
   "execution_count": 3,
   "metadata": {},
   "outputs": [],
   "source": [
    "import pandas as pd\n",
    "import numpy as np\n",
    "\n",
    "# Visualization\n",
    "import seaborn as sns\n",
    "import matplotlib\n",
    "import matplotlib.pyplot as plt\n",
    "%matplotlib inline\n",
    "from matplotlib import font_manager, rc\n",
    "plt.rcParams['font.family'] = 'NanumGothic'\n",
    "import platform\n",
    "if platform.system() == 'Windows':\n",
    "    font_name = font_manager.FontProperties(fname=\"c:/Windows/Fonts/malgun.ttf\").get_name()\n",
    "    rc('font', family=font_name)\n",
    "else:    \n",
    "    rc('font', family='AppleGothic')\n",
    "\n",
    "matplotlib.rcParams['axes.unicode_minus'] = False\n",
    "\n",
    "import os\n",
    "path = os.path.dirname(os.getcwd())\n",
    "path = os.path.dirname(path)\n",
    "path = os.path.join(path, \"Daesamanlap/ProcessedData\")\n",
    "train = pd.read_csv(os.path.join(path,\"merged_train.csv\"))\n",
    "test = pd.read_csv(os.path.join(path,\"merged_test.csv\"))\n",
    "\n",
    "import warnings\n",
    "warnings.filterwarnings(action='ignore')\n",
    "\n",
    "train=train.drop_duplicates(keep='first')\n",
    "test=test.drop_duplicates(keep='first')"
   ]
  },
  {
   "cell_type": "code",
   "execution_count": 4,
   "metadata": {},
   "outputs": [],
   "source": [
    "## 1. EDA 및 전처리(baseline: MSE 98)\n",
    "\n",
    "### 1) 상가비율\n",
    "\n",
    "tmp = train.groupby(['단지코드','임대건물구분']).count().iloc[:,:1].reset_index()\n",
    "store = tmp[tmp['임대건물구분']=='상가'].reset_index(drop=True)[['단지코드','총세대수']].rename(columns={'총세대수':'상가수'})\n",
    "apt = tmp[tmp['임대건물구분']=='아파트'].reset_index(drop=True)[['단지코드','총세대수']].rename(columns={'총세대수':'아파트수'})\n",
    "total = pd.merge(apt,store,on='단지코드',how='left').fillna(0)\n",
    "total['상가비율'] = total.apply(lambda x : x['상가수']/(x['아파트수']+x['상가수']),axis=1)\n",
    "train = pd.merge(train,total[['단지코드','상가비율']],on='단지코드',how='left')\n",
    "\n",
    "tmp = test.groupby(['단지코드','임대건물구분']).count().iloc[:,:1].reset_index()\n",
    "store = tmp[tmp['임대건물구분']=='상가'].reset_index(drop=True)[['단지코드','총세대수']].rename(columns={'총세대수':'상가수'})\n",
    "apt = tmp[tmp['임대건물구분']=='아파트'].reset_index(drop=True)[['단지코드','총세대수']].rename(columns={'총세대수':'아파트수'})\n",
    "total = pd.merge(apt,store,on='단지코드',how='left').fillna(0)\n",
    "total['상가비율'] = total.apply(lambda x : x['상가수']/(x['아파트수']+x['상가수']),axis=1)\n",
    "test = pd.merge(test,total[['단지코드','상가비율']],on='단지코드',how='left')\n",
    "\n",
    "### 2) 세대당가능주차면수\n",
    "\n",
    "train['세대당_가능주차면수'] = train.apply(lambda x : x['단지내주차면수']/x['총세대수'],axis=1)\n",
    "test['세대당_가능주차면수'] = test.apply(lambda x : x['단지내주차면수']/x['총세대수'],axis=1)\n",
    "\n",
    "### 3) 공가비율\n",
    "\n",
    "train['공가비율'] = train.apply(lambda x : x['공가수']/x['총세대수'],axis=1)\n",
    "test['공가비율'] = test.apply(lambda x : x['공가수']/x['총세대수'],axis=1)\n",
    "\n",
    "### 4) 대형전용면적\n",
    "\n",
    "level = 85\n",
    "\n",
    "train['대형전용면적'] = train['전용면적'].apply(lambda x : 1 if x>level else 0)\n",
    "test['대형전용면적'] = test['전용면적'].apply(lambda x : 1 if x>level else 0)\n",
    "\n",
    "### 5) 공급유형\n",
    "#- 공공임대 5년/10년 $\\rightarrow$ 공공임대(단기)\n",
    "\n",
    "train.loc[train.공급유형.isin(['공공임대(5년)', '공공임대(10년)']), '공급유형'] = '공공임대(단기)'\n",
    "test.loc[test.공급유형.isin(['공공임대(5년)', '공공임대(10년)']), '공급유형'] = '공공임대(단기)'\n",
    "\n",
    "#- 1차원으로 합치기\n",
    "\n",
    "not_unique = ['공급유형','전용면적','임대건물구분','전용면적별세대수','대형전용면적','임대보증금','임대료','자격유형']\n",
    "\n",
    "train_one = train.drop(not_unique,axis=1).drop_duplicates().reset_index(drop=True)\n",
    "test_one = test.drop(not_unique,axis=1).drop_duplicates().reset_index(drop=True)\n",
    "\n",
    "#- 전용면적별세대수 채우기\n",
    "\n",
    "for i in train['공급유형'].unique():\n",
    "    train_one[i] = 0\n",
    "    test_one[i] = 0\n",
    "\n",
    "sample = pd.DataFrame(train.groupby(['단지코드','공급유형']).sum()['전용면적별세대수']).reset_index()\n",
    "for i in sample.index:\n",
    "    code = sample.loc[i,'단지코드']\n",
    "    col = sample.loc[i,'공급유형']\n",
    "    val = sample.loc[i,'전용면적별세대수']  # 전용면적별세대수\n",
    "    ind = train_one[train_one['단지코드']==code].index\n",
    "    train_one.loc[ind,col] = val\n",
    "\n",
    "sample = pd.DataFrame(test.groupby(['단지코드','공급유형']).sum()['전용면적별세대수']).reset_index()\n",
    "for i in sample.index:\n",
    "    code = sample.loc[i,'단지코드']\n",
    "    col = sample.loc[i,'공급유형']\n",
    "    val = sample.loc[i,'전용면적별세대수']  # 전용면적별세대수\n",
    "    ind = test_one[test_one['단지코드']==code].index\n",
    "    test_one.loc[ind,col] = val\n",
    "\n",
    "### 6) 임대료 임대보증금 : 평균\n",
    "\n",
    "sample = train.groupby('단지코드').mean()[['임대료','임대보증금']].reset_index()\n",
    "train_one=pd.merge(train_one, sample, on=\"단지코드\", how=\"left\")\n",
    "\n",
    "sample = test.groupby('단지코드').mean()[['임대료','임대보증금']].reset_index()\n",
    "test_one=pd.merge(test_one, sample, on=\"단지코드\", how=\"left\")\n",
    "\n",
    "### 연면적 / 전용면적은 나중에 drop\n",
    "\n",
    "from sklearn.impute import KNNImputer\n",
    "imputer = KNNImputer(n_neighbors=2) # 12345 중에 2가 제일 좋음\n",
    "\n",
    "sample = train.groupby('단지코드').mean()[['전용면적']].reset_index()\n",
    "train_one=pd.merge(train_one, sample, on=\"단지코드\", how=\"left\")\n",
    "\n",
    "sample = test.groupby('단지코드').mean()[['전용면적']].reset_index()\n",
    "test_one=pd.merge(test_one, sample, on=\"단지코드\", how=\"left\")\n",
    "\n",
    "train_one[\"연면적new\"]=train_one.연면적\n",
    "test_one[\"연면적new\"]=test_one.연면적\n",
    "\n",
    "train_one.loc[(train_one.연면적new<train_one.전용면적), \"연면적new\"]=np.nan\n",
    "test_one.loc[(test_one.연면적new<test_one.전용면적), \"연면적new\"]=np.nan\n",
    "\n",
    "#train_one.isna().sum() # 63\n",
    "\n",
    "#test_one.isna().sum() #23\n",
    "\n",
    "im=train_one[[\"단지내주차면수\", \"총세대수\", \"전용면적\", \"연면적new\"]]\n",
    "im = pd.DataFrame(imputer.fit_transform(im),\n",
    "                     columns = im.columns)\n",
    "\n",
    "train_one[\"연면적new\"]=im[\"연면적new\"]\n",
    "\n",
    "imp=test_one[[\"단지내주차면수\", \"총세대수\", \"전용면적\", \"연면적new\"]]\n",
    "imp = pd.DataFrame(imputer.fit_transform(imp),\n",
    "                     columns = imp.columns)\n",
    "\n",
    "test_one[\"연면적new\"]=imp[\"연면적new\"]\n",
    "\n",
    "### 7) 대형전용면적 총개수\n",
    "\n",
    "sample = pd.DataFrame(train.groupby('단지코드')['대형전용면적'].sum()).reset_index()\n",
    "train_one = pd.merge(train_one, sample, on=\"단지코드\", how=\"left\")\n",
    "\n",
    "sample = pd.DataFrame(test.groupby('단지코드')['대형전용면적'].sum()).reset_index()\n",
    "test_one = pd.merge(test_one, sample, on=\"단지코드\", how=\"left\")\n",
    "\n",
    "### 8) 변수제거\n",
    "\n",
    "col = ['단지명','도로명주소','subway_name','임대상가', '전용면적']\n",
    "\n",
    "train_one = train_one.drop(col,axis=1)\n",
    "test_one = test_one.drop(col,axis=1)"
   ]
  },
  {
   "cell_type": "code",
   "execution_count": 5,
   "metadata": {},
   "outputs": [],
   "source": [
    "train_up = train_one[train_one['단지내주차면수']>=987].reset_index(drop=True)\n",
    "train_down = train_one[train_one['단지내주차면수']<987].reset_index(drop=True)\n",
    "test_up = test_one[test_one['단지내주차면수']>=987].reset_index(drop=True)\n",
    "test_down = test_one[test_one['단지내주차면수']<987].reset_index(drop=True)"
   ]
  },
  {
   "cell_type": "code",
   "execution_count": 6,
   "metadata": {},
   "outputs": [],
   "source": [
    "def areafunc(x):\n",
    "    if x in ['제주특별자치도','경상남도','부산광역시']:\n",
    "        return 0 \n",
    "    elif x in ['광주광역시','세종특별자치시','경상북도','전라북도','서울특별시']:\n",
    "        return 1\n",
    "    elif x in ['대구광역시']:\n",
    "        return 2\n",
    "    else: \n",
    "        return 3\n",
    "    "
   ]
  },
  {
   "cell_type": "code",
   "execution_count": 7,
   "metadata": {},
   "outputs": [],
   "source": [
    "train_up['지역'] = train_up['지역'].apply(lambda x : areafunc(x))\n",
    "test_up['지역'] = test_up['지역'].apply(lambda x : areafunc(x))\n",
    "train_up = train_up.join(pd.get_dummies(train_up['지역'],prefix='area')).iloc[:,:-1]\n",
    "test_up = test_up.join(pd.get_dummies(test_up['지역'],prefix='area')).iloc[:,:-1]"
   ]
  },
  {
   "cell_type": "markdown",
   "metadata": {},
   "source": [
    "## 모델링"
   ]
  },
  {
   "cell_type": "code",
   "execution_count": 8,
   "metadata": {},
   "outputs": [],
   "source": [
    "from sklearn.model_selection import train_test_split\n",
    "from sklearn.model_selection import cross_val_score, KFold, RepeatedKFold\n",
    "from sklearn.metrics import mean_absolute_error\n",
    "from catboost import CatBoostRegressor"
   ]
  },
  {
   "cell_type": "code",
   "execution_count": 9,
   "metadata": {},
   "outputs": [],
   "source": [
    "def fit(X_train, X_test, y_train, y_test, model):\n",
    "    try:\n",
    "        model.fit(X_train, y_train, verbose=False)\n",
    "    except:\n",
    "        model.fit(X_train, y_train)\n",
    "    tst_pred = model.predict(X_test)\n",
    "    error = mean_absolute_error(y_test,tst_pred)\n",
    "    return model, tst_pred, error\n",
    "\n",
    "\n",
    "def fit_models(X, y, models, cv=False):\n",
    "    X = np.array(X.reset_index(drop=True))\n",
    "    y = np.array(y.reset_index(drop=True))\n",
    "    best_error = 10000\n",
    "    best_tst_pred = 0\n",
    "    best_model = \"\"\n",
    "    if cv==False:\n",
    "        X_train, X_test, y_train, y_test = train_test_split(X, y, test_size=0.3, shuffle=True,random_state=2021)\n",
    "        for m in models:\n",
    "            model, tst_pred, error = fit(X_train, X_test, y_train, y_test, m)\n",
    "            if best_error > error:\n",
    "                best_error = error\n",
    "                best_tst_pred = tst_pred\n",
    "                best_model = model\n",
    "    else:\n",
    "        best_tst_idx = []\n",
    "        kf = KFold(n_splits = 5, shuffle=True,random_state = 2021)\n",
    "        for m in models:\n",
    "            mae = []\n",
    "            pred= []\n",
    "            tst_idx = []\n",
    "            for train_index, test_index in kf.split(X, y):\n",
    "                X_train, X_test = X[train_index], X[test_index]\n",
    "                y_train, y_test = y[train_index], y[test_index]\n",
    "                model, tst_pred, error = fit(X_train, X_test, y_train, y_test, m)\n",
    "                mae.append(error)\n",
    "                pred.append(tst_pred.tolist())\n",
    "                tst_idx.append(test_index.tolist())\n",
    "            cv_error = np.mean(mae)\n",
    "            if best_error > cv_error:\n",
    "                best_error = cv_error\n",
    "                best_tst_pred = pred\n",
    "                best_tst_idx = sum(tst_idx, [])\n",
    "                best_model = model\n",
    "    best_tst_pred = sum(best_tst_pred,[])\n",
    "    best_tst_pred = dict(zip(best_tst_idx,best_tst_pred))\n",
    "    try:\n",
    "        best_model = best_model.fit(np.concatenate((X_train, X_test),axis=0), \n",
    "                                                np.concatenate((y_train, y_test),axis=0), \n",
    "                                                verbose=False)\n",
    "    except:\n",
    "        best_model = best_model.fit(np.concatenate((X_train, X_test),axis=0), \n",
    "                                        np.concatenate((y_train, y_test),axis=0))\n",
    "    return best_model, best_tst_pred, best_error"
   ]
  },
  {
   "cell_type": "markdown",
   "metadata": {},
   "source": [
    "### 2) train/test up"
   ]
  },
  {
   "cell_type": "code",
   "execution_count": 18,
   "metadata": {},
   "outputs": [],
   "source": [
    "X = train_up.drop(columns=['단지코드','등록차량수','지역','상가비율', \"연면적\"],axis=1)\n",
    "X = X[['총세대수', '공가수', '지하철역', '버스정류장', '단지내주차면수',  '연면적new','위도', '경도',\n",
    "       'subway_dist', '환승역 수', '총인구수', '세대당_인구', '남/여비율', '남/여_0~19세',\n",
    "       '남/여_20~39세', '남/여_40~69세', '남/여_70세이상', '0~19세_비율', '20~39세_비율',\n",
    "       '40~69세_비율', '70세이상_비율', '세대당_가능주차면수', '공가비율', '국민임대', '영구임대',\n",
    "       '공공임대(단기)', '장기전세', '행복주택', '공공임대(분납)', '공공분양', '공공임대(50년)', '임대료',\n",
    "       '임대보증금' , '대형전용면적', 'area_0', 'area_1', 'area_2', ]]\n",
    "y = train_up['등록차량수']"
   ]
  },
  {
   "cell_type": "code",
   "execution_count": 19,
   "metadata": {},
   "outputs": [
    {
     "name": "stdout",
     "output_type": "stream",
     "text": [
      "MAE :  291.87954235273975\n"
     ]
    }
   ],
   "source": [
    "models = [\n",
    "         CatBoostRegressor(random_state=2021, loss_function = 'MAE'),\n",
    "        \n",
    "         ]\n",
    "model_up,pred_up,error_up = fit_models(X, y, models, cv=True)\n",
    "print('MAE : ',error_up)"
   ]
  },
  {
   "cell_type": "markdown",
   "metadata": {},
   "source": [
    "- 공가수/단지내주차면수\n",
    "\n",
    "- 공가수/등록차량수\n",
    "\n",
    "- 공가수/위도\n",
    "\n",
    "- 공가수/경도\n",
    "- \n",
    "- 공가수/subway_dist\n",
    "\n",
    "- 세대당인구/subway_dist\n",
    "\n",
    "- 공가수/총인구수\n",
    "\n",
    "- 공가수/세대당인구\n",
    "\n",
    "- 공가수/남여비율\n",
    "\n",
    "- 공가수/남-여20-29세\n",
    "\n"
   ]
  },
  {
   "cell_type": "code",
   "execution_count": 73,
   "metadata": {},
   "outputs": [],
   "source": [
    "X[\"단지*공가\"] =X[\"단지내주차면수\"]*X[\"공가수\"]\n",
    "X[\"남여2039*공가\"] =X[\"남/여_20~39세\"]*X[\"공가수\"]\n",
    "X[\"남여비율*공가\"] =X[\"남/여비율\"]*X[\"공가수\"]\n",
    "X[\"총인구수*공가\"] =X[\"총인구수\"]*X[\"공가수\"]\n",
    "X[\"세대당인구*공가\"] =X[\"세대당_인구\"]*X[\"공가수\"]\n",
    "X[\"subway_dist*공가\"] =X[\"subway_dist\"]*X[\"공가수\"]\n",
    "X[\"세대당인구*subway_dist\"] =X[\"subway_dist\"]*X[\"세대당_인구\"]"
   ]
  },
  {
   "cell_type": "code",
   "execution_count": 74,
   "metadata": {},
   "outputs": [],
   "source": [
    "X[\"단지/공가\"] =X[\"단지내주차면수\"]/X[\"공가수\"]\n",
    "X[\"남여2039/공가\"] =X[\"남/여_20~39세\"]/X[\"공가수\"]\n",
    "X[\"남여비율/공가\"] =X[\"남/여비율\"]/X[\"공가수\"]\n",
    "X[\"총인구수/공가\"] =X[\"총인구수\"]/X[\"공가수\"]\n",
    "X[\"세대당인구/공가\"] =X[\"세대당_인구\"]/X[\"공가수\"]\n",
    "X[\"subway_dist/공가\"] =X[\"subway_dist\"]/X[\"공가수\"]\n",
    "X[\"세대당인구/subway_dist\"] =X[\"subway_dist\"]/X[\"세대당_인구\"]"
   ]
  },
  {
   "cell_type": "code",
   "execution_count": 75,
   "metadata": {},
   "outputs": [],
   "source": [
    "X0 = X[['총세대수', '공가수', '지하철역', '버스정류장', \"단지내주차면수\", '연면적new','위도', '경도',\n",
    "       'subway_dist', '환승역 수', '총인구수', '세대당_인구', '남/여비율', '남/여_0~19세',\n",
    "    \"남/여_20~39세\", '남/여_40~69세', '남/여_70세이상', '0~19세_비율', '20~39세_비율',\n",
    "       '40~69세_비율', '70세이상_비율', '세대당_가능주차면수', '공가비율', '국민임대', '영구임대',\n",
    "       '공공임대(단기)', '장기전세', '행복주택', '공공임대(분납)', '공공분양', '공공임대(50년)', '임대료',\n",
    "       '임대보증금' , '대형전용면적', 'area_0', 'area_1', 'area_2',\"단지*공가\"]]\n",
    "y = train_up['등록차량수']"
   ]
  },
  {
   "cell_type": "code",
   "execution_count": 76,
   "metadata": {},
   "outputs": [
    {
     "name": "stdout",
     "output_type": "stream",
     "text": [
      "MAE :  297.3752094129575\n"
     ]
    }
   ],
   "source": [
    "models = [\n",
    "         CatBoostRegressor(random_state=2021, loss_function = 'MAE'),\n",
    "        \n",
    "         ]\n",
    "model_up,pred_up,error_up = fit_models(X0, y, models, cv=True)\n",
    "print('MAE : ',error_up)"
   ]
  },
  {
   "cell_type": "code",
   "execution_count": 79,
   "metadata": {},
   "outputs": [],
   "source": [
    "X0 = X[['총세대수', '공가수', '지하철역', '버스정류장', \"단지내주차면수\", '연면적new','위도', '경도',\n",
    "       'subway_dist', '환승역 수', '총인구수', '세대당_인구', '남/여비율', '남/여_0~19세',\n",
    "    \"남/여_20~39세\", '남/여_40~69세', '남/여_70세이상', '0~19세_비율', '20~39세_비율',\n",
    "       '40~69세_비율', '70세이상_비율', '세대당_가능주차면수', '공가비율', '국민임대', '영구임대',\n",
    "       '공공임대(단기)', '장기전세', '행복주택', '공공임대(분납)', '공공분양', '공공임대(50년)', '임대료',\n",
    "       '임대보증금' , '대형전용면적', 'area_0', 'area_1', 'area_2',\"단지/공가\",\"단지*공가\"]]\n",
    "y = train_up['등록차량수']"
   ]
  },
  {
   "cell_type": "code",
   "execution_count": 80,
   "metadata": {},
   "outputs": [
    {
     "name": "stdout",
     "output_type": "stream",
     "text": [
      "MAE :  285.1889871220469\n"
     ]
    }
   ],
   "source": [
    "models = [\n",
    "         CatBoostRegressor(random_state=2021, loss_function = 'MAE'),\n",
    "        \n",
    "         ]\n",
    "model_up,pred_up,error_up = fit_models(X0, y, models, cv=True)\n",
    "print('MAE : ',error_up)"
   ]
  },
  {
   "cell_type": "code",
   "execution_count": 83,
   "metadata": {},
   "outputs": [],
   "source": [
    "X0 = X[['총세대수', '공가수',  '버스정류장', \"단지내주차면수\", '연면적new','위도', '경도',\n",
    "       'subway_dist', '환승역 수', '총인구수', '세대당_인구', '남/여비율', '남/여_0~19세',\n",
    "    \"남/여_20~39세\", '남/여_40~69세', '남/여_70세이상', '0~19세_비율', '20~39세_비율',\n",
    "       '40~69세_비율', '70세이상_비율', '세대당_가능주차면수', '공가비율', '국민임대', '영구임대',\n",
    "       '공공임대(단기)', '장기전세', '행복주택', '공공임대(분납)', '공공분양', '공공임대(50년)', '임대료',\n",
    "       '임대보증금' , '대형전용면적', 'area_0', 'area_1', 'area_2',\"총인구수*공가\"]]\n",
    "y = train_up['등록차량수']"
   ]
  },
  {
   "cell_type": "code",
   "execution_count": 84,
   "metadata": {},
   "outputs": [
    {
     "name": "stdout",
     "output_type": "stream",
     "text": [
      "MAE :  281.6286884162005\n"
     ]
    }
   ],
   "source": [
    "models = [\n",
    "         CatBoostRegressor(random_state=2021, loss_function = 'MAE'),\n",
    "        \n",
    "         ]\n",
    "model_up,pred_up,error_up = fit_models(X0, y, models, cv=True)\n",
    "print('MAE : ',error_up)"
   ]
  },
  {
   "cell_type": "code",
   "execution_count": 87,
   "metadata": {},
   "outputs": [],
   "source": [
    "X0 = X[['총세대수', '공가수',  '버스정류장', \"단지내주차면수\", '연면적new','위도', '경도',\n",
    "       'subway_dist', '환승역 수', '총인구수', '세대당_인구', '남/여비율', '남/여_0~19세',\n",
    "    \"남/여_20~39세\", '남/여_40~69세', '남/여_70세이상', '0~19세_비율', '20~39세_비율',\n",
    "       '40~69세_비율', '70세이상_비율', '세대당_가능주차면수', '공가비율', '국민임대', '영구임대',\n",
    "       '공공임대(단기)', '장기전세', '행복주택', '공공임대(분납)', '공공분양', '공공임대(50년)', '임대료',\n",
    "       '임대보증금' , '대형전용면적', 'area_0', 'area_1', 'area_2',\"세대당인구*subway_dist\"]]\n",
    "y = train_up['등록차량수']"
   ]
  },
  {
   "cell_type": "code",
   "execution_count": 88,
   "metadata": {},
   "outputs": [
    {
     "name": "stdout",
     "output_type": "stream",
     "text": [
      "MAE :  290.7144466797361\n"
     ]
    }
   ],
   "source": [
    "models = [\n",
    "         CatBoostRegressor(random_state=2021, loss_function = 'MAE'),\n",
    "        \n",
    "         ]\n",
    "model_up,pred_up,error_up = fit_models(X0, y, models, cv=True)\n",
    "print('MAE : ',error_up)"
   ]
  },
  {
   "cell_type": "code",
   "execution_count": 66,
   "metadata": {},
   "outputs": [],
   "source": [
    "X0 = X[['총세대수', '공가수',  '버스정류장', \"단지내주차면수\", '연면적new','위도', '경도',\n",
    "       'subway_dist', '환승역 수', '총인구수', '세대당_인구', '남/여비율', '남/여_0~19세',\n",
    " '남/여_40~69세', '남/여_70세이상', '0~19세_비율', '20~39세_비율',\n",
    "       '40~69세_비율', '70세이상_비율', '세대당_가능주차면수', '공가비율', '국민임대', '영구임대',\n",
    "       '공공임대(단기)', '장기전세', '행복주택', '공공임대(분납)', '공공분양', '공공임대(50년)', '임대료',\n",
    "       '임대보증금' , '대형전용면적', 'area_0', 'area_1', 'area_2',\"단지/공가\",\"남여2039/공가\"]]\n",
    "y = train_up['등록차량수']"
   ]
  },
  {
   "cell_type": "code",
   "execution_count": 67,
   "metadata": {},
   "outputs": [
    {
     "name": "stdout",
     "output_type": "stream",
     "text": [
      "MAE :  297.49040122191604\n"
     ]
    }
   ],
   "source": [
    "models = [\n",
    "         CatBoostRegressor(random_state=2021, loss_function = 'MAE'),\n",
    "        \n",
    "         ]\n",
    "model_up,pred_up,error_up = fit_models(X0, y, models, cv=True)\n",
    "print('MAE : ',error_up)"
   ]
  },
  {
   "cell_type": "code",
   "execution_count": 36,
   "metadata": {},
   "outputs": [],
   "source": [
    "X0 = X[['총세대수', '공가수', '지하철역', '버스정류장', \"단지내주차면수\", '연면적new','위도', '경도',\n",
    "       'subway_dist', '환승역 수', '총인구수', '세대당_인구', '남/여비율', '남/여_0~19세',\n",
    "    \"남/여_20~39세\", '남/여_40~69세', '남/여_70세이상', '0~19세_비율', '20~39세_비율',\n",
    "       '40~69세_비율', '70세이상_비율', '세대당_가능주차면수', '공가비율', '국민임대', '영구임대',\n",
    "       '공공임대(단기)', '장기전세', '행복주택', '공공임대(분납)', '공공분양', '공공임대(50년)', '임대료',\n",
    "       '임대보증금' , '대형전용면적', 'area_0', 'area_1', 'area_2',\"남여2039/공가\"]]\n",
    "y = train_up['등록차량수']"
   ]
  },
  {
   "cell_type": "code",
   "execution_count": 37,
   "metadata": {},
   "outputs": [
    {
     "name": "stdout",
     "output_type": "stream",
     "text": [
      "MAE :  288.66167335390753\n"
     ]
    }
   ],
   "source": [
    "models = [\n",
    "         CatBoostRegressor(random_state=2021, loss_function = 'MAE'),\n",
    "        \n",
    "         ]\n",
    "model_up,pred_up,error_up = fit_models(X0, y, models, cv=True)\n",
    "print('MAE : ',error_up)"
   ]
  },
  {
   "cell_type": "code",
   "execution_count": 38,
   "metadata": {},
   "outputs": [],
   "source": [
    "X0 = X[['총세대수', '공가수', '지하철역', '버스정류장', \"단지내주차면수\", '연면적new','위도', '경도',\n",
    "       'subway_dist', '환승역 수', '총인구수', '세대당_인구', '남/여비율', '남/여_0~19세',\n",
    "    \"남/여_20~39세\", '남/여_40~69세', '남/여_70세이상', '0~19세_비율', '20~39세_비율',\n",
    "       '40~69세_비율', '70세이상_비율', '세대당_가능주차면수', '공가비율', '국민임대', '영구임대',\n",
    "       '공공임대(단기)', '장기전세', '행복주택', '공공임대(분납)', '공공분양', '공공임대(50년)', '임대료',\n",
    "       '임대보증금' , '대형전용면적', 'area_0', 'area_1', 'area_2',\"남여비율/공가\"]]\n",
    "y = train_up['등록차량수']"
   ]
  },
  {
   "cell_type": "code",
   "execution_count": 39,
   "metadata": {},
   "outputs": [
    {
     "name": "stdout",
     "output_type": "stream",
     "text": [
      "MAE :  291.15518413774737\n"
     ]
    }
   ],
   "source": [
    "models = [\n",
    "         CatBoostRegressor(random_state=2021, loss_function = 'MAE'),\n",
    "        \n",
    "         ]\n",
    "model_up,pred_up,error_up = fit_models(X0, y, models, cv=True)\n",
    "print('MAE : ',error_up)"
   ]
  },
  {
   "cell_type": "code",
   "execution_count": 54,
   "metadata": {},
   "outputs": [],
   "source": [
    "X0 = X[['총세대수', '공가수', '지하철역', '버스정류장', \"단지내주차면수\", '연면적new','위도', '경도',\n",
    "       'subway_dist', '환승역 수', '총인구수', '세대당_인구', '남/여비율', '남/여_0~19세',\n",
    "    \"남/여_20~39세\", '남/여_40~69세', '남/여_70세이상', '0~19세_비율', '20~39세_비율',\n",
    "       '40~69세_비율', '70세이상_비율', '세대당_가능주차면수', '공가비율', '국민임대', '영구임대',\n",
    "       '공공임대(단기)', '장기전세', '행복주택', '공공임대(분납)', '공공분양', '공공임대(50년)', '임대료',\n",
    "       '임대보증금' , '대형전용면적', 'area_0', 'area_1', 'area_2',\"총인구수/공가\"]]\n",
    "y = train_up['등록차량수']"
   ]
  },
  {
   "cell_type": "code",
   "execution_count": 55,
   "metadata": {},
   "outputs": [
    {
     "name": "stdout",
     "output_type": "stream",
     "text": [
      "MAE :  281.2557053113245\n"
     ]
    }
   ],
   "source": [
    "models = [\n",
    "         CatBoostRegressor(random_state=2021, loss_function = 'MAE'),\n",
    "        \n",
    "         ]\n",
    "model_up,pred_up,error_up = fit_models(X0, y, models, cv=True)\n",
    "print('MAE : ',error_up)\n"
   ]
  },
  {
   "cell_type": "code",
   "execution_count": null,
   "metadata": {},
   "outputs": [],
   "source": [
    "X0 = X[['총세대수', '공가수', '지하철역', '버스정류장', \"단지내주차면수\", '연면적new','위도', '경도',\n",
    "       'subway_dist', '환승역 수', '총인구수', '세대당_인구', '남/여비율', '남/여_0~19세',\n",
    "    \"남/여_20~39세\", '남/여_40~69세', '남/여_70세이상', '0~19세_비율', '20~39세_비율',\n",
    "       '40~69세_비율', '70세이상_비율', '세대당_가능주차면수', '공가비율', '국민임대', '영구임대',\n",
    "       '공공임대(단기)', '장기전세', '행복주택', '공공임대(분납)', '공공분양', '공공임대(50년)', '임대료',\n",
    "       '임대보증금' , '대형전용면적', 'area_0', 'area_1', 'area_2',\"총인구수/공가\"]]\n",
    "y = train_up['등록차량수']"
   ]
  },
  {
   "cell_type": "code",
   "execution_count": null,
   "metadata": {},
   "outputs": [],
   "source": []
  },
  {
   "cell_type": "code",
   "execution_count": 50,
   "metadata": {},
   "outputs": [],
   "source": [
    "X0 = X[['총세대수', '공가수', '지하철역', '버스정류장', \"단지내주차면수\", '연면적new','위도', '경도',\n",
    "       'subway_dist', '환승역 수', '총인구수', '세대당_인구', '남/여비율', '남/여_0~19세',\n",
    "    \"남/여_20~39세\", '남/여_40~69세', '남/여_70세이상', '0~19세_비율', '20~39세_비율',\n",
    "       '40~69세_비율', '70세이상_비율', '세대당_가능주차면수', '공가비율', '국민임대', '영구임대',\n",
    "       '공공임대(단기)', '장기전세', '행복주택', '공공임대(분납)', '공공분양', '공공임대(50년)', '임대료',\n",
    "       '임대보증금' , '대형전용면적', 'area_0', 'area_1', 'area_2',\"세대당인구/공가\"]]\n",
    "y = train_up['등록차량수']"
   ]
  },
  {
   "cell_type": "code",
   "execution_count": 51,
   "metadata": {},
   "outputs": [
    {
     "name": "stdout",
     "output_type": "stream",
     "text": [
      "MAE :  298.636074571094\n"
     ]
    }
   ],
   "source": [
    "models = [\n",
    "         CatBoostRegressor(random_state=2021, loss_function = 'MAE'),\n",
    "        \n",
    "         ]\n",
    "model_up,pred_up,error_up = fit_models(X0, y, models, cv=True)\n",
    "print('MAE : ',error_up)\n"
   ]
  },
  {
   "cell_type": "code",
   "execution_count": 60,
   "metadata": {},
   "outputs": [],
   "source": [
    "X0 = X[['총세대수', '공가수',  '버스정류장', \"단지내주차면수\", '연면적new','위도', '경도',\n",
    "      '환승역 수', '총인구수', '세대당_인구', '남/여비율', '남/여_0~19세',\n",
    "    \"남/여_20~39세\", '남/여_40~69세', '남/여_70세이상', '0~19세_비율', '20~39세_비율',\n",
    "       '40~69세_비율', '70세이상_비율', '세대당_가능주차면수', '공가비율', '국민임대', '영구임대',\n",
    "       '공공임대(단기)', '장기전세', '행복주택', '공공임대(분납)', '공공분양', '공공임대(50년)', '임대료',\n",
    "       '임대보증금' , '대형전용면적', 'area_0', 'area_1', 'area_2',\"subway_dist/공가\"]]\n",
    "y = train_up['등록차량수']"
   ]
  },
  {
   "cell_type": "code",
   "execution_count": 61,
   "metadata": {
    "scrolled": true
   },
   "outputs": [
    {
     "name": "stdout",
     "output_type": "stream",
     "text": [
      "MAE :  279.4783669509222\n"
     ]
    }
   ],
   "source": [
    "models = [\n",
    "         CatBoostRegressor(random_state=2021, loss_function = 'MAE'),\n",
    "        \n",
    "         ]\n",
    "model_up,pred_up,error_up = fit_models(X0, y, models, cv=True)\n",
    "print('MAE : ',error_up)\n"
   ]
  },
  {
   "cell_type": "code",
   "execution_count": 71,
   "metadata": {},
   "outputs": [],
   "source": [
    "X0 = X[['총세대수', '공가수',  '버스정류장', \"단지내주차면수\", '연면적new','위도', '경도',\n",
    "      '환승역 수', '총인구수', \"세대당_인구\", '남/여비율', '남/여_0~19세',\n",
    "    \"남/여_20~39세\", '남/여_40~69세', '남/여_70세이상', '0~19세_비율', '20~39세_비율',\n",
    "       '40~69세_비율', '70세이상_비율', '세대당_가능주차면수', '공가비율', '국민임대', '영구임대',\n",
    "       '공공임대(단기)', '장기전세', '행복주택', '공공임대(분납)', '공공분양', '공공임대(50년)', '임대료',\n",
    "       '임대보증금' , '대형전용면적', 'area_0', 'area_1', 'area_2',\"세대당인구/subway_dist\"]]\n",
    "y = train_up['등록차량수']"
   ]
  },
  {
   "cell_type": "code",
   "execution_count": 72,
   "metadata": {},
   "outputs": [
    {
     "name": "stdout",
     "output_type": "stream",
     "text": [
      "MAE :  306.4730282957438\n"
     ]
    }
   ],
   "source": [
    "models = [\n",
    "         CatBoostRegressor(random_state=2021, loss_function = 'MAE'),\n",
    "        \n",
    "         ]\n",
    "model_up,pred_up,error_up = fit_models(X0, y, models, cv=True)\n",
    "print('MAE : ',error_up)\n"
   ]
  },
  {
   "cell_type": "code",
   "execution_count": null,
   "metadata": {},
   "outputs": [],
   "source": []
  },
  {
   "cell_type": "code",
   "execution_count": null,
   "metadata": {},
   "outputs": [],
   "source": []
  },
  {
   "cell_type": "code",
   "execution_count": null,
   "metadata": {},
   "outputs": [],
   "source": []
  },
  {
   "cell_type": "code",
   "execution_count": 40,
   "metadata": {},
   "outputs": [
    {
     "name": "stdout",
     "output_type": "stream",
     "text": [
      "MAE :  291.87954235273975\n"
     ]
    }
   ],
   "source": [
    "models = [CatBoostRegressor(random_state=2021, loss_function = 'MAE')]\n",
    "model_up,pred_up,error_up = fit_models(X, y, models, cv=True)\n",
    "print('MAE : ',error_up)"
   ]
  },
  {
   "cell_type": "code",
   "execution_count": null,
   "metadata": {},
   "outputs": [],
   "source": []
  },
  {
   "cell_type": "code",
   "execution_count": null,
   "metadata": {},
   "outputs": [],
   "source": []
  },
  {
   "cell_type": "code",
   "execution_count": null,
   "metadata": {},
   "outputs": [],
   "source": []
  },
  {
   "cell_type": "code",
   "execution_count": null,
   "metadata": {},
   "outputs": [],
   "source": []
  },
  {
   "cell_type": "code",
   "execution_count": null,
   "metadata": {},
   "outputs": [],
   "source": []
  },
  {
   "cell_type": "code",
   "execution_count": null,
   "metadata": {},
   "outputs": [],
   "source": []
  },
  {
   "cell_type": "code",
   "execution_count": null,
   "metadata": {},
   "outputs": [],
   "source": []
  }
 ],
 "metadata": {
  "kernelspec": {
   "display_name": "Python 3",
   "language": "python",
   "name": "python3"
  },
  "language_info": {
   "codemirror_mode": {
    "name": "ipython",
    "version": 3
   },
   "file_extension": ".py",
   "mimetype": "text/x-python",
   "name": "python",
   "nbconvert_exporter": "python",
   "pygments_lexer": "ipython3",
   "version": "3.8.5"
  }
 },
 "nbformat": 4,
 "nbformat_minor": 4
}
