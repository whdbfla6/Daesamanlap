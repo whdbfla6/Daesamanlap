{
 "cells": [
  {
   "cell_type": "code",
   "execution_count": 76,
   "metadata": {},
   "outputs": [],
   "source": [
    "import pandas as pd\n",
    "import numpy as np\n",
    "\n",
    "# Visualization\n",
    "import seaborn as sns\n",
    "import matplotlib\n",
    "import matplotlib.pyplot as plt\n",
    "%matplotlib inline\n",
    "from matplotlib import font_manager, rc\n",
    "plt.rcParams['font.family'] = 'NanumGothic'\n",
    "import platform\n",
    "if platform.system() == 'Windows':\n",
    "    font_name = font_manager.FontProperties(fname=\"c:/Windows/Fonts/malgun.ttf\").get_name()\n",
    "    rc('font', family=font_name)\n",
    "else:    \n",
    "    rc('font', family='AppleGothic')\n",
    "\n",
    "matplotlib.rcParams['axes.unicode_minus'] = False\n",
    "\n",
    "# Warnings\n",
    "import warnings\n",
    "warnings.filterwarnings('always')\n",
    "warnings.filterwarnings('ignore')\n",
    "\n",
    "import os\n",
    "path = os.path.dirname(os.getcwd())\n",
    "path = os.path.dirname(path)\n",
    "path = os.path.join(path, \"/Users/seungji/Desktop/Dacon/Daesamanlap/ProcessedData\")\n",
    "train = pd.read_csv(os.path.join(path,\"merged_train.csv\"))\n",
    "test = pd.read_csv(os.path.join(path,\"merged_test.csv\"))"
   ]
  },
  {
   "cell_type": "markdown",
   "metadata": {},
   "source": [
    "1보다 큰 지역\n",
    "\n",
    "- 세종특별자치시\n",
    "- 울산광역시 공공임대(10년)\n",
    "- 대구광역시 공공임대(10년)\n",
    "- 전라남도 영구임대 \n",
    "- 전라남도 공공임대(10년)\n",
    "- 강원도 공공임대(50년) 공공임대(10년) 행복주택 \n",
    "- 경상남도 공공임대(50년)/공공임대(10년)\n",
    "- 경상북도 국민임대 \n",
    "- 서울특별시 \n",
    "- 경기도 공공임대(10년)\n",
    "- 대전광역시 공공임대(5년)/행복주택/공공분양/공공분양(분납)/공공임대(10년)\n",
    "- 부산광역시 공공임대(50년)\n",
    "- 전라북도 영구임대/공공임대(10년)/행복주택\n",
    "- 충청남도 공공임대(50년)\n",
    "- 충청북도 공공임대(50년)\n",
    "\n",
    "1보다 작은 지역\n",
    "\n",
    "- 울산광역시 국민임대\n",
    "- 대구광역시 영구임대/행복주택\n",
    "- 전라남도 행복주택 \n",
    "- 강원도 영구임대 \n",
    "- 경상남도 행복주택/ 영구임대\n",
    "- 경상북도 행복주택 \n",
    "- 경기도 행복주택/ 영구임대 \n",
    "- 대전광역시 영구임대/공공임대(50년)\n",
    "- 부산광역시 행복주택/영구임대/국민임대\n",
    "- 광주광역시 영구임대\n",
    "- 충청북도 영구임대/ 행복주택"
   ]
  },
  {
   "cell_type": "code",
   "execution_count": null,
   "metadata": {},
   "outputs": [],
   "source": []
  },
  {
   "cell_type": "code",
   "execution_count": null,
   "metadata": {},
   "outputs": [],
   "source": []
  },
  {
   "cell_type": "code",
   "execution_count": 77,
   "metadata": {},
   "outputs": [
    {
     "data": {
      "text/plain": [
       "array(['국민임대', '공공임대(50년)', '영구임대', '공공임대(10년)', '공공임대(분납)', '장기전세',\n",
       "       '공공분양', '행복주택', '공공임대(5년)', '임대상가'], dtype=object)"
      ]
     },
     "execution_count": 77,
     "metadata": {},
     "output_type": "execute_result"
    }
   ],
   "source": [
    "train['공급유형'].unique()"
   ]
  },
  {
   "cell_type": "code",
   "execution_count": 78,
   "metadata": {},
   "outputs": [],
   "source": [
    "tmp = train.groupby(['단지코드','임대건물구분']).count().iloc[:,:1].reset_index()\n",
    "store = tmp[tmp['임대건물구분']=='상가'].reset_index(drop=True)[['단지코드','총세대수']].rename(columns={'총세대수':'상가수'})\n",
    "apt = tmp[tmp['임대건물구분']=='아파트'].reset_index(drop=True)[['단지코드','총세대수']].rename(columns={'총세대수':'아파트수'})\n",
    "total = pd.merge(apt,store,on='단지코드',how='left').fillna(0)\n",
    "total['상가비율'] = total.apply(lambda x : x['상가수']/(x['아파트수']+x['상가수']),axis=1)\n",
    "train = pd.merge(train,total[['단지코드','상가비율']],on='단지코드',how='left')\n",
    "\n",
    "tmp = test.groupby(['단지코드','임대건물구분']).count().iloc[:,:1].reset_index()\n",
    "store = tmp[tmp['임대건물구분']=='상가'].reset_index(drop=True)[['단지코드','총세대수']].rename(columns={'총세대수':'상가수'})\n",
    "apt = tmp[tmp['임대건물구분']=='아파트'].reset_index(drop=True)[['단지코드','총세대수']].rename(columns={'총세대수':'아파트수'})\n",
    "total = pd.merge(apt,store,on='단지코드',how='left').fillna(0)\n",
    "total['상가비율'] = total.apply(lambda x : x['상가수']/(x['아파트수']+x['상가수']),axis=1)\n",
    "test = pd.merge(test,total[['단지코드','상가비율']],on='단지코드',how='left')"
   ]
  },
  {
   "cell_type": "code",
   "execution_count": 79,
   "metadata": {},
   "outputs": [],
   "source": [
    "train = train[train['임대건물구분']=='아파트']\n",
    "test = test[test['임대건물구분']=='아파트']"
   ]
  },
  {
   "cell_type": "code",
   "execution_count": 80,
   "metadata": {},
   "outputs": [],
   "source": [
    "pd.set_option('display.max_rows', None)\n",
    "pd.set_option('display.max_columns', None)"
   ]
  },
  {
   "cell_type": "code",
   "execution_count": 81,
   "metadata": {},
   "outputs": [
    {
     "data": {
      "text/plain": [
       "(2334, 35)"
      ]
     },
     "execution_count": 81,
     "metadata": {},
     "output_type": "execute_result"
    }
   ],
   "source": [
    "train.shape"
   ]
  },
  {
   "cell_type": "code",
   "execution_count": 82,
   "metadata": {},
   "outputs": [],
   "source": [
    "area = ['경상남도', '전라북도', '강원도', '광주광역시', '충청남도', '제주특별자치도', '울산광역시', '충청북도', '전라남도', '경상북도', '세종특별자치시']\n",
    "for ind in range(train.shape[0]):\n",
    "    if train.loc[ind,'지역'] in area :\n",
    "        train.loc[ind,'환승역 수'] = 0\n",
    "\n",
    "area = ['경상남도', '전라북도', '강원도', '광주광역시', '충청남도', '제주특별자치도', '울산광역시', '충청북도', '전라남도', '경상북도', '세종특별자치시']\n",
    "for ind in range(test.shape[0]):\n",
    "    if test.loc[ind,'지역'] in area :\n",
    "        test.loc[ind,'환승역 수'] = 0"
   ]
  },
  {
   "cell_type": "code",
   "execution_count": 83,
   "metadata": {},
   "outputs": [],
   "source": [
    "train['공가비율'] = train.apply(lambda x : x['공가수']/x['총세대수'],axis=1)\n",
    "test['공가비율'] = test.apply(lambda x : x['공가수']/x['총세대수'],axis=1)"
   ]
  },
  {
   "cell_type": "code",
   "execution_count": 84,
   "metadata": {},
   "outputs": [],
   "source": [
    "train['0~19 인구수'] = train['0~19세_비율']*train['총세대수']\n",
    "train['20~39 인구수'] = train['20~39세_비율']*train['총세대수']\n",
    "train['40~69 인구수'] = train['40~69세_비율']*train['총세대수']\n",
    "train['70세이상 인구수'] = train['70세이상_비율']*train['총세대수']\n",
    "\n",
    "test['0~19 인구수'] = test['0~19세_비율']*test['총세대수']\n",
    "test['20~39 인구수'] = test['20~39세_비율']*test['총세대수']\n",
    "test['40~69 인구수'] = test['40~69세_비율']*test['총세대수']\n",
    "test['70세이상 인구수'] = test['70세이상_비율']*test['총세대수']"
   ]
  },
  {
   "cell_type": "code",
   "execution_count": 85,
   "metadata": {},
   "outputs": [],
   "source": [
    "def func(x):\n",
    "    for i in range(10,90,10):\n",
    "        if int(x) in range(i,i+10):\n",
    "            return i+5\n",
    "\n",
    "train['전용면적'] = train['전용면적'].apply(lambda x : func(x))\n",
    "test['전용면적'] = test['전용면적'].apply(lambda x : func(x))"
   ]
  },
  {
   "cell_type": "code",
   "execution_count": 86,
   "metadata": {},
   "outputs": [],
   "source": [
    "train = train.join(pd.get_dummies(train['공급유형']))\n",
    "test = test.join(pd.get_dummies(test['공급유형']))\n",
    "test['공공분양'] = 0\n",
    "test['공공임대(5년)'] = 0 \n",
    "test['장기전세'] = 0"
   ]
  },
  {
   "cell_type": "code",
   "execution_count": 87,
   "metadata": {},
   "outputs": [],
   "source": [
    "not_unique = ['자격유형','임대보증금','임대료','전용면적별세대수','전용면적','공급유형']"
   ]
  },
  {
   "cell_type": "code",
   "execution_count": 88,
   "metadata": {},
   "outputs": [],
   "source": [
    "tmp1 = train.drop(not_unique,axis=1).drop_duplicates()\n",
    "\n",
    "tmp = pd.DataFrame(train.groupby(['단지코드','전용면적','공급유형']).sum()['전용면적별세대수']).reset_index()\n",
    "tmp = pd.merge(tmp,tmp1.drop_duplicates(),on='단지코드',how='left')\n",
    "total = pd.DataFrame(tmp.groupby('단지코드').sum()['전용면적별세대수']).reset_index(drop=False).rename(columns={'전용면적별세대수':'total'})\n",
    "tmp = pd.merge(tmp,total,on='단지코드',how='left')\n",
    "tmp['ratio'] = tmp.apply(lambda x : x['전용면적별세대수']/x['total'],axis=1)\n",
    "tmp['y1'] = tmp.apply(lambda x : x['ratio']*x['등록차량수'],axis=1)\n",
    "\n",
    "total = pd.DataFrame(train.groupby(['단지코드','전용면적','공급유형']).mean()['임대료']).reset_index()\n",
    "tmp = pd.merge(tmp,total,on=['단지코드','전용면적','공급유형'],how='left')\n",
    "\n",
    "total = pd.DataFrame(train.groupby(['단지코드','전용면적','공급유형']).mean()['임대보증금']).reset_index()\n",
    "tmp = pd.merge(tmp,total,on=['단지코드','전용면적','공급유형'],how='left')\n",
    "\n",
    "tmp['단지내주차면수_new'] = tmp.apply(lambda x : x['단지내주차면수']*x['ratio'],axis=1)\n",
    "tmp = tmp.drop(['ratio'],axis=1)\n",
    "\n",
    "train = tmp\n",
    "train['y2'] = train.apply(lambda x : x['y1']/x['단지내주차면수_new'],axis=1)"
   ]
  },
  {
   "cell_type": "code",
   "execution_count": 89,
   "metadata": {},
   "outputs": [],
   "source": [
    "tmp1 = test.drop(not_unique,axis=1).drop_duplicates()\n",
    "\n",
    "tmp = pd.DataFrame(test.groupby(['단지코드','전용면적','공급유형']).sum()['전용면적별세대수']).reset_index()\n",
    "tmp = pd.merge(tmp,tmp1.drop_duplicates(),on='단지코드',how='left')\n",
    "total = pd.DataFrame(tmp.groupby('단지코드').sum()['전용면적별세대수']).reset_index(drop=False).rename(columns={'전용면적별세대수':'total'})\n",
    "tmp = pd.merge(tmp,total,on='단지코드',how='left')\n",
    "tmp['ratio'] = tmp.apply(lambda x : x['전용면적별세대수']/x['total'],axis=1)\n",
    "\n",
    "total = pd.DataFrame(test.groupby(['단지코드','전용면적','공급유형']).mean()['임대료']).reset_index()\n",
    "tmp = pd.merge(tmp,total,on=['단지코드','전용면적','공급유형'],how='left')\n",
    "\n",
    "total = pd.DataFrame(test.groupby(['단지코드','전용면적','공급유형']).mean()['임대보증금']).reset_index()\n",
    "tmp = pd.merge(tmp,total,on=['단지코드','전용면적','공급유형'],how='left')\n",
    "\n",
    "tmp['단지내주차면수_new'] = tmp.apply(lambda x : x['단지내주차면수']*x['ratio'],axis=1)\n",
    "tmp = tmp.drop(['ratio'],axis=1)\n",
    "\n",
    "test = tmp"
   ]
  },
  {
   "cell_type": "code",
   "execution_count": 90,
   "metadata": {},
   "outputs": [],
   "source": [
    "train['0~19 인구수'] = train['0~19세_비율']*train['전용면적별세대수']\n",
    "train['20~39 인구수'] = train['20~39세_비율']*train['전용면적별세대수']\n",
    "train['40~69 인구수'] = train['40~69세_비율']*train['전용면적별세대수']\n",
    "train['70세이상 인구수'] = train['70세이상_비율']*train['전용면적별세대수']\n",
    "\n",
    "test['0~19 인구수'] = test['0~19세_비율']*test['전용면적별세대수']\n",
    "test['20~39 인구수'] = test['20~39세_비율']*test['전용면적별세대수']\n",
    "test['40~69 인구수'] = test['40~69세_비율']*test['전용면적별세대수']\n",
    "test['70세이상 인구수'] = test['70세이상_비율']*test['전용면적별세대수']\n",
    "\n",
    "col = ['0~19세_비율','20~39세_비율','40~69세_비율','70세이상_비율']\n",
    "train = train.drop(col,axis=1)\n",
    "test = test.drop(col,axis=1)"
   ]
  },
  {
   "cell_type": "code",
   "execution_count": 91,
   "metadata": {
    "scrolled": true
   },
   "outputs": [
    {
     "data": {
      "text/plain": [
       "Index(['단지코드', '전용면적', '공급유형', '전용면적별세대수', '총세대수', '임대건물구분', '지역', '공가수',\n",
       "       '지하철역', '버스정류장', '단지내주차면수', '등록차량수', '단지명', '도로명주소', '연면적', '위도', '경도',\n",
       "       'subway_name', 'subway_dist', '환승역 수', '총인구수', '세대당_인구', '남/여비율',\n",
       "       '남/여_0~19세', '남/여_20~39세', '남/여_40~69세', '남/여_70세이상', '상가비율', '공가비율',\n",
       "       '0~19 인구수', '20~39 인구수', '40~69 인구수', '70세이상 인구수', '공공분양', '공공임대(10년)',\n",
       "       '공공임대(50년)', '공공임대(5년)', '공공임대(분납)', '국민임대', '영구임대', '장기전세', '행복주택',\n",
       "       'total', 'y1', '임대료', '임대보증금', '단지내주차면수_new', 'y2'],\n",
       "      dtype='object')"
      ]
     },
     "execution_count": 91,
     "metadata": {},
     "output_type": "execute_result"
    }
   ],
   "source": [
    "train.columns"
   ]
  },
  {
   "cell_type": "code",
   "execution_count": 92,
   "metadata": {},
   "outputs": [],
   "source": [
    "# import smogn\n",
    "# sns.kdeplot(train['y2'], label = \"Original\")\n",
    "# sns.kdeplot(tr_smogn['y2'], label = \"Modified\")\n",
    "# tr_smogn = smogn.smoter(\n",
    "    \n",
    "#     data = train,  ## pandas dataframe\n",
    "#     y = 'y2',  ## string ('header name')\n",
    "#      samp_method = 'extreme'\n",
    "    \n",
    "\n",
    "# )"
   ]
  },
  {
   "cell_type": "code",
   "execution_count": 93,
   "metadata": {
    "scrolled": true
   },
   "outputs": [
    {
     "data": {
      "text/plain": [
       "전용면적           0.272737\n",
       "전용면적별세대수      -0.072524\n",
       "총세대수          -0.145421\n",
       "공가수           -0.265737\n",
       "지하철역          -0.063657\n",
       "버스정류장          0.036348\n",
       "단지내주차면수       -0.050276\n",
       "등록차량수          0.363013\n",
       "연면적            0.005723\n",
       "위도            -0.041786\n",
       "경도             0.083341\n",
       "subway_dist   -0.000263\n",
       "환승역 수         -0.039037\n",
       "총인구수          -0.082692\n",
       "세대당_인구         0.039506\n",
       "남/여비율          0.006577\n",
       "남/여_0~19세     -0.020200\n",
       "남/여_20~39세     0.015812\n",
       "남/여_40~69세    -0.022726\n",
       "남/여_70세이상      0.016666\n",
       "상가비율          -0.137332\n",
       "공가비율          -0.099302\n",
       "0~19 인구수      -0.050625\n",
       "20~39 인구수     -0.067115\n",
       "40~69 인구수     -0.074199\n",
       "70세이상 인구수     -0.084072\n",
       "공공분양           0.083793\n",
       "공공임대(10년)      0.270612\n",
       "공공임대(50년)      0.138447\n",
       "공공임대(5년)       0.028804\n",
       "공공임대(분납)       0.060542\n",
       "국민임대          -0.060507\n",
       "영구임대          -0.148812\n",
       "장기전세           0.002327\n",
       "행복주택          -0.074147\n",
       "total         -0.013923\n",
       "y1             0.300276\n",
       "임대료            0.273141\n",
       "임대보증금          0.084868\n",
       "단지내주차면수_new   -0.004911\n",
       "y2             1.000000\n",
       "Name: y2, dtype: float64"
      ]
     },
     "execution_count": 93,
     "metadata": {},
     "output_type": "execute_result"
    }
   ],
   "source": [
    "train.corr()['y2']"
   ]
  },
  {
   "cell_type": "code",
   "execution_count": null,
   "metadata": {},
   "outputs": [],
   "source": []
  },
  {
   "cell_type": "code",
   "execution_count": null,
   "metadata": {},
   "outputs": [],
   "source": []
  },
  {
   "cell_type": "code",
   "execution_count": 94,
   "metadata": {},
   "outputs": [
    {
     "data": {
      "text/plain": [
       "<AxesSubplot:xlabel='y2', ylabel='Count'>"
      ]
     },
     "execution_count": 94,
     "metadata": {},
     "output_type": "execute_result"
    },
    {
     "data": {
      "image/png": "[encoded data removed]",
      "text/plain": [
       "<Figure size 1080x288 with 1 Axes>"
      ]
     },
     "metadata": {
      "needs_background": "light"
     },
     "output_type": "display_data"
    }
   ],
   "source": [
    "fig,ax = plt.subplots(figsize=(15,4))\n",
    "sns.histplot(train['y2'])"
   ]
  },
  {
   "cell_type": "code",
   "execution_count": 95,
   "metadata": {},
   "outputs": [
    {
     "data": {
      "text/html": [
       "<div>\n",
       "<style scoped>\n",
       "    .dataframe tbody tr th:only-of-type {\n",
       "        vertical-align: middle;\n",
       "    }\n",
       "\n",
       "    .dataframe tbody tr th {\n",
       "        vertical-align: top;\n",
       "    }\n",
       "\n",
       "    .dataframe thead th {\n",
       "        text-align: right;\n",
       "    }\n",
       "</style>\n",
       "<table border=\"1\" class=\"dataframe\">\n",
       "  <thead>\n",
       "    <tr style=\"text-align: right;\">\n",
       "      <th></th>\n",
       "      <th>단지코드</th>\n",
       "      <th>y1</th>\n",
       "      <th>단지내주차면수_new</th>\n",
       "      <th>y2</th>\n",
       "    </tr>\n",
       "  </thead>\n",
       "  <tbody>\n",
       "    <tr>\n",
       "      <th>21</th>\n",
       "      <td>C1026</td>\n",
       "      <td>422.000000</td>\n",
       "      <td>205.000000</td>\n",
       "      <td>2.058537</td>\n",
       "    </tr>\n",
       "    <tr>\n",
       "      <th>437</th>\n",
       "      <td>C1722</td>\n",
       "      <td>60.212329</td>\n",
       "      <td>24.493151</td>\n",
       "      <td>2.458333</td>\n",
       "    </tr>\n",
       "    <tr>\n",
       "      <th>438</th>\n",
       "      <td>C1722</td>\n",
       "      <td>60.212329</td>\n",
       "      <td>24.493151</td>\n",
       "      <td>2.458333</td>\n",
       "    </tr>\n",
       "    <tr>\n",
       "      <th>439</th>\n",
       "      <td>C1722</td>\n",
       "      <td>35.965753</td>\n",
       "      <td>14.630137</td>\n",
       "      <td>2.458333</td>\n",
       "    </tr>\n",
       "    <tr>\n",
       "      <th>440</th>\n",
       "      <td>C1722</td>\n",
       "      <td>35.965753</td>\n",
       "      <td>14.630137</td>\n",
       "      <td>2.458333</td>\n",
       "    </tr>\n",
       "    <tr>\n",
       "      <th>441</th>\n",
       "      <td>C1722</td>\n",
       "      <td>60.212329</td>\n",
       "      <td>24.493151</td>\n",
       "      <td>2.458333</td>\n",
       "    </tr>\n",
       "    <tr>\n",
       "      <th>442</th>\n",
       "      <td>C1722</td>\n",
       "      <td>60.212329</td>\n",
       "      <td>24.493151</td>\n",
       "      <td>2.458333</td>\n",
       "    </tr>\n",
       "    <tr>\n",
       "      <th>443</th>\n",
       "      <td>C1722</td>\n",
       "      <td>168.109589</td>\n",
       "      <td>68.383562</td>\n",
       "      <td>2.458333</td>\n",
       "    </tr>\n",
       "    <tr>\n",
       "      <th>444</th>\n",
       "      <td>C1722</td>\n",
       "      <td>168.109589</td>\n",
       "      <td>68.383562</td>\n",
       "      <td>2.458333</td>\n",
       "    </tr>\n",
       "  </tbody>\n",
       "</table>\n",
       "</div>"
      ],
      "text/plain": [
       "      단지코드          y1  단지내주차면수_new        y2\n",
       "21   C1026  422.000000   205.000000  2.058537\n",
       "437  C1722   60.212329    24.493151  2.458333\n",
       "438  C1722   60.212329    24.493151  2.458333\n",
       "439  C1722   35.965753    14.630137  2.458333\n",
       "440  C1722   35.965753    14.630137  2.458333\n",
       "441  C1722   60.212329    24.493151  2.458333\n",
       "442  C1722   60.212329    24.493151  2.458333\n",
       "443  C1722  168.109589    68.383562  2.458333\n",
       "444  C1722  168.109589    68.383562  2.458333"
      ]
     },
     "execution_count": 95,
     "metadata": {},
     "output_type": "execute_result"
    }
   ],
   "source": [
    "train[train['y2']>2][['단지코드','y1','단지내주차면수_new','y2']] "
   ]
  },
  {
   "cell_type": "code",
   "execution_count": 96,
   "metadata": {},
   "outputs": [],
   "source": [
    "train = train[train['단지코드']!='C1722']\n",
    "train = train.reset_index(drop=True)"
   ]
  },
  {
   "cell_type": "code",
   "execution_count": 97,
   "metadata": {
    "scrolled": true
   },
   "outputs": [
    {
     "data": {
      "text/plain": [
       "<AxesSubplot:xlabel='y2', ylabel='Count'>"
      ]
     },
     "execution_count": 97,
     "metadata": {},
     "output_type": "execute_result"
    },
    {
     "data": {
      "image/png": "[encoded data removed]",
      "text/plain": [
       "<Figure size 1080x288 with 1 Axes>"
      ]
     },
     "metadata": {
      "needs_background": "light"
     },
     "output_type": "display_data"
    }
   ],
   "source": [
    "fig,ax = plt.subplots(figsize=(15,4))\n",
    "sns.histplot(train['y2'])"
   ]
  },
  {
   "cell_type": "code",
   "execution_count": 98,
   "metadata": {},
   "outputs": [],
   "source": [
    "# q = list(train.y2.quantile([0,.34,.66,1.0]))\n",
    "# q\n",
    "# train[\"y_class\"] = [99]*len(train)\n",
    "# for i in range(len(q[:-1])):\n",
    "#     train.loc[(train.y2>=q[i])&(train.y2<q[i+1]),\"y_class\"] = i\n",
    "# train.loc[train.y2==q[3],\"y_class\"] = 2"
   ]
  },
  {
   "cell_type": "code",
   "execution_count": null,
   "metadata": {},
   "outputs": [],
   "source": []
  },
  {
   "cell_type": "code",
   "execution_count": 99,
   "metadata": {},
   "outputs": [],
   "source": [
    "# coll = list(set(train.columns) - set(['단지코드','등록차량수','임대건물구분','subway_name','단지명','도로명주소','total','단지내주차면수','y1','y2','위도','경도','공급유형','연면적','단지내주차면수_new','index']))"
   ]
  },
  {
   "cell_type": "code",
   "execution_count": 100,
   "metadata": {},
   "outputs": [],
   "source": [
    "raw = pd.read_csv(os.path.join(path,\"merged_train.csv\"))\n",
    "get_uni = raw.groupby([\"단지코드\",\"공급유형\"]).sum().reset_index()[[\"단지코드\",\"공급유형\"]]\n",
    "tmp = get_uni.groupby(\"단지코드\").nunique().reset_index()\n",
    "tmp2 = get_uni[get_uni.단지코드.isin(tmp.loc[tmp.공급유형 == 1,\"단지코드\"])]\n",
    "dj = list(tmp2.loc[tmp2.공급유형 == \"국민임대\",\"단지코드\"])"
   ]
  },
  {
   "cell_type": "code",
   "execution_count": 101,
   "metadata": {},
   "outputs": [
    {
     "data": {
      "text/plain": [
       "Index(['단지코드', '공급유형'], dtype='object')"
      ]
     },
     "execution_count": 101,
     "metadata": {},
     "output_type": "execute_result"
    }
   ],
   "source": [
    "tmp.columns"
   ]
  },
  {
   "cell_type": "code",
   "execution_count": 102,
   "metadata": {},
   "outputs": [],
   "source": [
    "# col = ['전용면적별세대수', '총세대수','공가수',\n",
    "#        '지하철역', '버스정류장', '단지내주차면수', '등록차량수', '연면적', '위도', '경도',\n",
    "#   'subway_dist', '환승역 수', '총인구수', '세대당_인구', '남/여비율',\n",
    "#        '남/여_0~19세', '남/여_20~39세', '남/여_40~69세', '남/여_70세이상', '상가비율', '공가비율',\n",
    "#        '0~19 인구수', '20~39 인구수', '40~69 인구수', '70세이상 인구수', '공공분양', '공공임대(10년)',\n",
    "#        '공공임대(50년)', '공공임대(5년)', '공공임대(분납)', '국민임대', '영구임대', '장기전세', '행복주택',\n",
    "#      '임대료', '임대보증금', '단지내주차면수_new', \n",
    "#        '전용면적*공가비율', '전용면적/임대료', '임대료/전용면적', '총세대수*전용면적']"
   ]
  },
  {
   "cell_type": "code",
   "execution_count": null,
   "metadata": {},
   "outputs": [],
   "source": [
    "raw = pd.read_csv(os.path.join(path,\"merged_train.csv\"))\n",
    "reg = train.groupby(\"지역\").mean()[\"등록차량수\"].reset_index()\n",
    "train[\"지역_new\"] = 0*len(train)\n",
    "for i in train.지역.unique():\n",
    "    train.loc[train.지역 == i,\"지역_new\"] = float(reg.등록차량수[reg.지역 == i])\n",
    "train[\"지역_neww\"] =  train[\"지역_new\"]*train['세대당_인구']   "
   ]
  },
  {
   "cell_type": "code",
   "execution_count": 103,
   "metadata": {},
   "outputs": [],
   "source": [
    "reg = train.groupby(\"지역\").mean()[\"등록차량수\"].reset_index()\n",
    "train[\"지역_new\"] = 0*len(train)"
   ]
  },
  {
   "cell_type": "code",
   "execution_count": 23,
   "metadata": {},
   "outputs": [],
   "source": [
    "reg1 = train.groupby(\"지역\").std()[\"등록차량수\"].reset_index()\n",
    "train[\"지역_new2\"] = 0*len(train)"
   ]
  },
  {
   "cell_type": "code",
   "execution_count": 30,
   "metadata": {},
   "outputs": [],
   "source": [
    "reg2 = raw.groupby(\"공급유형\").mean()[\"등록차량수\"].reset_index()\n",
    "train[\"공공_new\"] = 0*len(train)"
   ]
  },
  {
   "cell_type": "code",
   "execution_count": 32,
   "metadata": {},
   "outputs": [],
   "source": [
    "for c in ['공공분양', '공공임대(10년)','공공임대(50년)', '공공임대(5년)', '공공임대(분납)', '국민임대', '영구임대', '장기전세', '행복주택']:\n",
    "    train.loc[train[c] ==1,\"공공_new\"]  = float(reg2.등록차량수[reg2.공급유형 == c])"
   ]
  },
  {
   "cell_type": "code",
   "execution_count": 104,
   "metadata": {},
   "outputs": [],
   "source": [
    "for i in train.지역.unique():\n",
    "    train.loc[train.지역 == i,\"지역_new\"] = float(reg.등록차량수[reg.지역 == i])"
   ]
  },
  {
   "cell_type": "code",
   "execution_count": 34,
   "metadata": {},
   "outputs": [],
   "source": [
    "for i in train.지역.unique():\n",
    "    train.loc[train.지역 == i,\"지역_new2\"] = float(reg1.등록차량수[reg1.지역 == i])\n",
    "    "
   ]
  },
  {
   "cell_type": "code",
   "execution_count": 105,
   "metadata": {},
   "outputs": [],
   "source": [
    "train[\"지역_neww\"] =  train[\"지역_new\"]*train['세대당_인구']\n",
    "#train[\"지역_neww2\"] =  train[\"지역_new2\"]*train['세대당_인구']"
   ]
  },
  {
   "cell_type": "code",
   "execution_count": 50,
   "metadata": {},
   "outputs": [],
   "source": [
    "train[\"공공_neww\"] =  train[\"공공_new\"]*train['공가비율']\n"
   ]
  },
  {
   "cell_type": "code",
   "execution_count": null,
   "metadata": {},
   "outputs": [],
   "source": [
    "# tmp = train[train.단지코드.isin(dj)]\n",
    "# for r in coll:\n",
    "#         #tmp = train[train.지역 == d]\n",
    "#         sns.scatterplot(tmp[r],tmp[\"y2\"])\n",
    "#         plt.show()\n"
   ]
  },
  {
   "cell_type": "code",
   "execution_count": 27,
   "metadata": {
    "scrolled": true
   },
   "outputs": [],
   "source": [
    "# tmp = train[train.subway_dist<1]\n",
    "# plt.figure(figsize=(8,6))\n",
    "# for r in coll:\n",
    "#     plt.figure(figsize=(20,6))\n",
    "#     sns.scatterplot(y = train[r],x = train[\"subway_dist\"], hue = train.y_class,s = 50 )\n",
    "#     plt.xlim((0,1))\n",
    "#     plt.show()\n"
   ]
  },
  {
   "cell_type": "code",
   "execution_count": null,
   "metadata": {},
   "outputs": [],
   "source": []
  },
  {
   "cell_type": "code",
   "execution_count": null,
   "metadata": {},
   "outputs": [],
   "source": []
  },
  {
   "cell_type": "code",
   "execution_count": 106,
   "metadata": {},
   "outputs": [],
   "source": [
    "from sklearn.linear_model import LinearRegression, Lasso, ElasticNet, Ridge\n",
    "from sklearn.ensemble import RandomForestRegressor, GradientBoostingRegressor\n",
    "from sklearn.tree import DecisionTreeRegressor \n",
    "#from xgboost import XGBRegressor\n",
    "from catboost import CatBoostRegressor\n",
    "#import lightgbm as LGB\n",
    "from sklearn.cross_decomposition import PLSRegression\n",
    "from sklearn.svm import SVR\n",
    "#from pycaret.regression import *\n",
    "from sklearn.model_selection import train_test_split\n",
    "from sklearn.model_selection import cross_val_score, KFold, RepeatedKFold\n",
    "from sklearn.metrics import mean_absolute_error\n",
    "from catboost import CatBoostRegressor\n",
    "from sklearn import preprocessing"
   ]
  },
  {
   "cell_type": "code",
   "execution_count": 107,
   "metadata": {},
   "outputs": [],
   "source": [
    "code = pd.DataFrame()\n",
    "code['단지코드'] = train['단지코드'].unique()\n",
    "code = code.reset_index()\n",
    "train = pd.merge(train,code,on='단지코드') #80"
   ]
  },
  {
   "cell_type": "code",
   "execution_count": 432,
   "metadata": {},
   "outputs": [],
   "source": [
    "# train[\"전용면적*공가비율\"] = train[\"전용면적\"]*train[\"공가비율\"]\n",
    "# train['임대료/전용면적'] = train[\"임대료\"]/ train[\"전용면적\"]\n",
    "# train[\"총세대수*전용면적\"] = train[\"총세대수\"]*train[\"전용면적\"]"
   ]
  },
  {
   "cell_type": "code",
   "execution_count": 433,
   "metadata": {},
   "outputs": [],
   "source": [
    "sel_col = [\"임대료\",\"전용면적*공가비율\",\"공가수\", '0~19 인구수','subway_dist']"
   ]
  },
  {
   "cell_type": "code",
   "execution_count": 108,
   "metadata": {},
   "outputs": [
    {
     "name": "stdout",
     "output_type": "stream",
     "text": [
      "LinearRegression() 119.39701878748288\n",
      "PLSRegression() 119.0409376034142\n",
      "Ridge(random_state=2021) 120.23644647126787\n",
      "Lasso(random_state=2021) 125.25663757098246\n",
      "ElasticNet(random_state=2021) 125.12009442650253\n",
      "SVR() 137.33725570902644\n",
      "<catboost.core.CatBoostRegressor object at 0x7fa4a8ac71c0> 116.21806035220246\n",
      "RandomForestRegressor(random_state=2021) 112.83753045752094\n",
      "GradientBoostingRegressor(random_state=2021) 120.60203566366692\n",
      "----result----\n",
      "RandomForestRegressor(random_state=2021) 112.83753045752094\n"
     ]
    }
   ],
   "source": [
    "model = [LinearRegression(), \n",
    "            PLSRegression(), \n",
    "            Ridge(random_state=2021),\n",
    "            Lasso(random_state=2021), \n",
    "            ElasticNet(random_state=2021),\n",
    "            SVR(),\n",
    "            CatBoostRegressor(random_state=2021,loss_function='MAE',verbose=False),\n",
    "            RandomForestRegressor(random_state=2021),\n",
    "            GradientBoostingRegressor(random_state=2021)]\n",
    "best = 100000\n",
    "best_model = None\n",
    "\n",
    "\n",
    "for j in model:\n",
    "    s = 0\n",
    "    #print(j)\n",
    "    for i in [80,160,240,320,400]:\n",
    "        X = train[-train['index'].isin(range(i-80,i))]\n",
    "        col = ['단지코드','등록차량수','임대건물구분','subway_name','단지명','도로명주소','연면적','total','지역','단지내주차면수','y1','y2','위도','경도','공급유형','연면적','단지내주차면수_new','index']\n",
    "        X_train = X.drop(col,axis=1)\n",
    "       # X_train = X_train[sel_col]\n",
    "        y_train = X['y2']\n",
    "        X = train[train['index'].isin(range(i-80,i))]\n",
    "        X_test = X.drop(col,axis=1)\n",
    "        #X_test = X_test[sel_col]\n",
    "        y_test = X['y2']\n",
    "\n",
    "        cb = j.fit(X_train,y_train)\n",
    "        pred = cb.predict(X_test)\n",
    "        \n",
    "        X['y2pred'] = pred\n",
    "        X['y1pred'] = X['단지내주차면수_new']*X['y2pred']\n",
    "        tmp1 = pd.DataFrame()\n",
    "        tmp1['단지코드'] = X['단지코드'].unique()\n",
    "        tmp1['y1'] = X.groupby(['단지코드']).sum()['y1'].tolist()\n",
    "        tmp1['y1pred'] = X.groupby(['단지코드']).sum()['y1pred'].tolist()\n",
    "        error = mean_absolute_error(tmp1['y1pred'],tmp1['y1'])\n",
    "#         print(error)\n",
    "        s += error\n",
    "    #print('----done----')\n",
    "    print(j,s/5)\n",
    "    if s/5 < best:\n",
    "        best_model = j\n",
    "        best = s/5\n",
    "print('----result----')\n",
    "print(best_model,best)"
   ]
  },
  {
   "cell_type": "code",
   "execution_count": 111,
   "metadata": {},
   "outputs": [],
   "source": [
    "code = train[-train['index'].isin(range(0,80))]['단지코드'].unique()"
   ]
  },
  {
   "cell_type": "code",
   "execution_count": 112,
   "metadata": {},
   "outputs": [],
   "source": [
    "X = train[-train['index'].isin(range(0,80))]\n",
    "col = ['단지코드','등록차량수','임대건물구분','subway_name','단지명','도로명주소','연면적','total','지역','단지내주차면수','y1','y2','공급유형','연면적','단지내주차면수_new','index']\n",
    "X_train = X.drop(col,axis=1)\n",
    "y_train = X['y2']\n",
    "X = train[train['index'].isin(range(0,80))]\n",
    "X_test = X.drop(col,axis=1)\n",
    "y_test = X['y2']\n",
    "\n",
    "rf = RandomForestRegressor(random_state=2021).fit(X_train,y_train)\n",
    "pred = rf.predict(X_test)\n",
    "\n",
    "cb = CatBoostRegressor(random_state=2021,loss_function='MAE',verbose=False).fit(X_train,y_train)\n",
    "pred2 = cb.predict(X_test)"
   ]
  },
  {
   "cell_type": "code",
   "execution_count": 113,
   "metadata": {},
   "outputs": [
    {
     "data": {
      "text/plain": [
       "(1169, 49)"
      ]
     },
     "execution_count": 113,
     "metadata": {},
     "output_type": "execute_result"
    }
   ],
   "source": [
    "train.shape"
   ]
  },
  {
   "cell_type": "code",
   "execution_count": 114,
   "metadata": {},
   "outputs": [
    {
     "data": {
      "text/plain": [
       "<matplotlib.axes._subplots.AxesSubplot at 0x256ab62c490>"
      ]
     },
     "execution_count": 114,
     "metadata": {},
     "output_type": "execute_result"
    },
    {
     "data": {
      "image/png": "[encoded data removed]",
      "text/plain": [
       "<Figure size 576x720 with 1 Axes>"
      ]
     },
     "metadata": {
      "needs_background": "light"
     },
     "output_type": "display_data"
    }
   ],
   "source": [
    "plt.figure(figsize=(8,10))\n",
    "sns.barplot(y = X_test.columns[np.argsort(rf.feature_importances_)], x = list(rf.feature_importances_[np.argsort(rf.feature_importances_)]))"
   ]
  },
  {
   "cell_type": "code",
   "execution_count": 115,
   "metadata": {},
   "outputs": [
    {
     "data": {
      "text/plain": [
       "<matplotlib.axes._subplots.AxesSubplot at 0x256abfd54f0>"
      ]
     },
     "execution_count": 115,
     "metadata": {},
     "output_type": "execute_result"
    },
    {
     "data": {
      "image/png": "[encoded data removed]",
      "text/plain": [
       "<Figure size 576x720 with 1 Axes>"
      ]
     },
     "metadata": {
      "needs_background": "light"
     },
     "output_type": "display_data"
    }
   ],
   "source": [
    "plt.figure(figsize=(8,10))\n",
    "sns.barplot(y = X_test.columns[np.argsort(cb.feature_importances_)], x = list(cb.feature_importances_[np.argsort(cb.feature_importances_)]))"
   ]
  },
  {
   "cell_type": "code",
   "execution_count": 116,
   "metadata": {},
   "outputs": [
    {
     "data": {
      "text/plain": [
       "set()"
      ]
     },
     "execution_count": 116,
     "metadata": {},
     "output_type": "execute_result"
    }
   ],
   "source": [
    "set(test.columns) - set(train.columns)"
   ]
  },
  {
   "cell_type": "code",
   "execution_count": 117,
   "metadata": {},
   "outputs": [],
   "source": [
    "col = ['단지코드','등록차량수','임대건물구분','subway_name','단지명','도로명주소','연면적','total','지역','단지내주차면수','y1','y2','공급유형','연면적','단지내주차면수_new','index']\n",
    "X_train = train.drop(col,axis=1)\n",
    "y_train = train['y2']\n",
    "col = ['단지코드','임대건물구분','subway_name','단지명','도로명주소','연면적','total','지역','단지내주차면수','공급유형','연면적','단지내주차면수_new']\n",
    "X_test = test.drop(col,axis=1)\n",
    "\n",
    "rf = RandomForestRegressor(random_state=2021).fit(X_train,y_train)\n",
    "pred = rf.predict(X_test)\n",
    "\n",
    "cb = CatBoostRegressor(random_state=2021,loss_function='MAE',verbose=False).fit(X_train,y_train)\n",
    "pred2 = cb.predict(X_test)"
   ]
  },
  {
   "cell_type": "code",
   "execution_count": 118,
   "metadata": {},
   "outputs": [],
   "source": [
    "test['y2pred_rf'] = pred\n",
    "test['y1pred_rf'] = test['단지내주차면수_new']*test['y2pred_rf']\n",
    "test['y2pred_cb'] = pred2\n",
    "test['y1pred_cb'] = test['단지내주차면수_new']*test['y2pred_cb']\n",
    "res = pd.DataFrame()\n",
    "res['단지코드'] = test['단지코드'].unique()\n",
    "res['rf'] = test.groupby(['단지코드']).sum()['y1pred_rf'].tolist()\n",
    "res['cb'] = test.groupby(['단지코드']).sum()['y1pred_cb'].tolist()\n",
    "res['지역'] = test.groupby(['단지코드'])['지역'].unique().tolist()\n",
    "res['공급유형'] = test.groupby(['단지코드'])['공급유형'].unique().tolist()\n",
    "res['단지내주차면수'] = test.groupby(['단지코드']).mean()['단지내주차면수'].tolist()"
   ]
  },
  {
   "cell_type": "code",
   "execution_count": 119,
   "metadata": {},
   "outputs": [],
   "source": [
    "mae94 = pd.read_csv(\"result/MAE_94.csv\")\n",
    "mae96 = pd.read_csv(\"0728.csv\")"
   ]
  },
  {
   "cell_type": "code",
   "execution_count": 120,
   "metadata": {},
   "outputs": [],
   "source": [
    "final = pd.merge(res[['단지코드','rf','cb']],mae94,left_on='단지코드',right_on='code',how='left').rename(columns={'num':'mae94'})\n",
    "final = pd.merge(final,mae96,left_on='단지코드',right_on='code',how='left').rename(columns={'num':'mae96'})\n",
    "final = final.drop(['code_x','code_y'],axis=1)"
   ]
  },
  {
   "cell_type": "code",
   "execution_count": 121,
   "metadata": {},
   "outputs": [],
   "source": [
    "code = test[test['단지내주차면수']<=987]['단지코드'].unique()\n",
    "tmp = final[-final['단지코드'].isin(code)]"
   ]
  },
  {
   "cell_type": "code",
   "execution_count": 122,
   "metadata": {},
   "outputs": [],
   "source": [
    "submit = final[['단지코드','rf']]\n",
    "submit.columns = ['code','num']\n",
    "submit.loc[147,:] = ['C1327',0]\n",
    "submit.loc[148,:] = ['C2335',0]\n",
    "submit.loc[149,:] = ['C2675',0]"
   ]
  },
  {
   "cell_type": "code",
   "execution_count": 123,
   "metadata": {},
   "outputs": [],
   "source": [
    "submit.to_csv(\"0728.csv\",index=False)"
   ]
  },
  {
   "cell_type": "code",
   "execution_count": 124,
   "metadata": {},
   "outputs": [
    {
     "name": "stdout",
     "output_type": "stream",
     "text": [
      "3.3206997242665904e-14\n",
      "34.705071431366044\n"
     ]
    }
   ],
   "source": [
    "print(mean_absolute_error(final['rf'],final['mae96']))\n",
    "print(mean_absolute_error(final['cb'],final['mae96']))"
   ]
  },
  {
   "cell_type": "code",
   "execution_count": 125,
   "metadata": {},
   "outputs": [
    {
     "name": "stdout",
     "output_type": "stream",
     "text": [
      "4.786814219857517e-14\n",
      "74.72949098770418\n"
     ]
    }
   ],
   "source": [
    "print(mean_absolute_error(tmp['rf'],tmp['mae96']))\n",
    "print(mean_absolute_error(tmp['cb'],tmp['mae96']))"
   ]
  },
  {
   "cell_type": "code",
   "execution_count": 126,
   "metadata": {},
   "outputs": [],
   "source": [
    "def plot(x):\n",
    "    df = area[area['지역']==x]\n",
    "    n = df['공급유형'].nunique()\n",
    "    fig,ax = plt.subplots(n,1,figsize=(25,15))\n",
    "    for ind,i in enumerate(df['공급유형'].unique()):\n",
    "        df1 = df[df['공급유형']==i]\n",
    "        sns.histplot(data=df1,x='y2',ax=ax[ind],bins=20,label=x+i)\n",
    "        ax[ind].legend()"
   ]
  },
  {
   "cell_type": "code",
   "execution_count": null,
   "metadata": {},
   "outputs": [],
   "source": [
    "for i in train['지역'].unique():\n",
    "    plot(i)"
   ]
  },
  {
   "cell_type": "code",
   "execution_count": null,
   "metadata": {},
   "outputs": [],
   "source": [
    "area[(area['지역']=='전라북도')&(area['공급유형']=='행복주택')][['단지코드','y2']]"
   ]
  },
  {
   "cell_type": "code",
   "execution_count": null,
   "metadata": {},
   "outputs": [],
   "source": [
    "def plot2():\n",
    "    n = train['지역'].nunique()\n",
    "    fig,ax = plt.subplots(n,1,figsize=(15,60))\n",
    "    for ind,i in enumerate(train['지역'].unique()):\n",
    "        df = train[train['지역']==i]\n",
    "        sns.histplot(data=df,x='y2',ax=ax[ind],bins=20,label=i)\n",
    "        ax[ind].legend()"
   ]
  },
  {
   "cell_type": "code",
   "execution_count": null,
   "metadata": {},
   "outputs": [],
   "source": [
    "plot2()"
   ]
  },
  {
   "cell_type": "code",
   "execution_count": null,
   "metadata": {},
   "outputs": [],
   "source": []
  }
 ],
 "metadata": {
  "kernelspec": {
   "display_name": "Python 3",
   "language": "python",
   "name": "python3"
  },
  "language_info": {
   "codemirror_mode": {
    "name": "ipython",
    "version": 3
   },
   "file_extension": ".py",
   "mimetype": "text/x-python",
   "name": "python",
   "nbconvert_exporter": "python",
   "pygments_lexer": "ipython3",
   "version": "3.8.5"
  }
 },
 "nbformat": 4,
 "nbformat_minor": 5
}
