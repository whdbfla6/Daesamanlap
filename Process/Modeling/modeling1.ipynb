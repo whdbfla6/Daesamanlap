{
 "cells": [
  {
   "cell_type": "code",
   "execution_count": 1,
   "id": "3d8bd4ef",
   "metadata": {},
   "outputs": [],
   "source": [
    "import pandas as pd\n",
    "import numpy as np\n",
    "\n",
    "# Visualization\n",
    "import seaborn as sns\n",
    "import matplotlib\n",
    "import matplotlib.pyplot as plt\n",
    "%matplotlib inline\n",
    "from matplotlib import font_manager, rc\n",
    "plt.rcParams['font.family'] = 'NanumGothic'\n",
    "import platform\n",
    "if platform.system() == 'Windows':\n",
    "    font_name = font_manager.FontProperties(fname=\"c:/Windows/Fonts/malgun.ttf\").get_name()\n",
    "    rc('font', family=font_name)\n",
    "else:    \n",
    "    rc('font', family='AppleGothic')\n",
    "\n",
    "matplotlib.rcParams['axes.unicode_minus'] = False\n",
    "\n",
    "# Warnings\n",
    "import warnings\n",
    "warnings.filterwarnings('always')\n",
    "warnings.filterwarnings('ignore')"
   ]
  },
  {
   "cell_type": "code",
   "execution_count": 2,
   "id": "5cbb9aee",
   "metadata": {},
   "outputs": [],
   "source": [
    "import os\n",
    "path = os.path.dirname(os.getcwd())\n",
    "# path = os.path.dirname(path)\n",
    "path = os.path.join(path, \"ProcessedData\")\n",
    "train = pd.read_csv(os.path.join(path,\"merged_train.csv\"))\n",
    "test = pd.read_csv(os.path.join(path,\"merged_test.csv\"))"
   ]
  },
  {
   "cell_type": "markdown",
   "id": "b6be81b1",
   "metadata": {},
   "source": [
    "- 지역 별 등록차량수 평균값에 세대당_인구 곱해서 변수 생성"
   ]
  },
  {
   "cell_type": "code",
   "execution_count": 3,
   "id": "afeb1d1e",
   "metadata": {},
   "outputs": [],
   "source": [
    "reg = train.groupby(\"지역\").mean()[\"등록차량수\"].reset_index()\n",
    "train= pd.merge(train, reg, on=\"지역\", how=\"left\")\n",
    "train= train.rename(columns={'등록차량수_x':'등록차량수', '등록차량수_y':'지역별 등록차량수'})\n",
    "train[\"지역x세대당인구\"] =  train[\"지역별 등록차량수\"]*train['세대당_인구']\n",
    "test= pd.merge(test, reg, on=\"지역\", how=\"left\")\n",
    "test= test.rename(columns={'등록차량수':'지역별 등록차량수'})\n",
    "test[\"지역x세대당인구\"]= test[\"지역별 등록차량수\"]*test[\"세대당_인구\"]"
   ]
  },
  {
   "cell_type": "markdown",
   "id": "82f4ded9",
   "metadata": {},
   "source": [
    "- 상가 데이터는 제거"
   ]
  },
  {
   "cell_type": "code",
   "execution_count": 4,
   "id": "819d1a4d",
   "metadata": {},
   "outputs": [],
   "source": [
    "train = train[train['임대건물구분']=='아파트']\n",
    "test = test[test['임대건물구분']=='아파트']"
   ]
  },
  {
   "cell_type": "markdown",
   "id": "4bd1ad6e",
   "metadata": {},
   "source": [
    "- 환승역 수 : 해당 아파트에서 가장 가까운 지하철 역의 정보\n",
    "- 특정 아파트에서 10분 내에 지하철이 없는 지역의 경우 환승역 수를 모두 0으로 바꿔줌"
   ]
  },
  {
   "cell_type": "code",
   "execution_count": 5,
   "id": "23d8015d",
   "metadata": {},
   "outputs": [],
   "source": [
    "area = ['경상남도', '전라북도', '강원도', '광주광역시', '충청남도', '제주특별자치도', '울산광역시', '충청북도', '전라남도', '경상북도', '세종특별자치시']\n",
    "for ind in range(train.shape[0]):\n",
    "    if train.loc[ind,'지역'] in area :\n",
    "        train.loc[ind,'환승역 수'] = 0"
   ]
  },
  {
   "cell_type": "code",
   "execution_count": 6,
   "id": "2644cb9a",
   "metadata": {},
   "outputs": [],
   "source": [
    "area = ['경상남도', '전라북도', '강원도', '광주광역시', '충청남도', '제주특별자치도', '울산광역시', '충청북도', '전라남도', '경상북도', '세종특별자치시']\n",
    "for ind in range(test.shape[0]):\n",
    "    if test.loc[ind,'지역'] in area :\n",
    "        test.loc[ind,'환승역 수'] = 0"
   ]
  },
  {
   "cell_type": "code",
   "execution_count": 7,
   "id": "1ee872bc",
   "metadata": {},
   "outputs": [],
   "source": [
    "train['공가비율'] = train.apply(lambda x : x['공가수']/x['총세대수'],axis=1)\n",
    "test['공가비율'] = test.apply(lambda x : x['공가수']/x['총세대수'],axis=1)"
   ]
  },
  {
   "cell_type": "code",
   "execution_count": 8,
   "id": "b356bacb",
   "metadata": {},
   "outputs": [],
   "source": [
    "train['0~19 인구수'] = train['0~19세_비율']*train['총세대수']\n",
    "train['20~39 인구수'] = train['20~39세_비율']*train['총세대수']\n",
    "train['40~69 인구수'] = train['40~69세_비율']*train['총세대수']\n",
    "train['70세이상 인구수'] = train['70세이상_비율']*train['총세대수']\n",
    "\n",
    "test['0~19 인구수'] = test['0~19세_비율']*test['총세대수']\n",
    "test['20~39 인구수'] = test['20~39세_비율']*test['총세대수']\n",
    "test['40~69 인구수'] = test['40~69세_비율']*test['총세대수']\n",
    "test['70세이상 인구수'] = test['70세이상_비율']*test['총세대수']"
   ]
  },
  {
   "cell_type": "markdown",
   "id": "d853802a",
   "metadata": {},
   "source": [
    "- 전용면적이 20대인 경우 모두 25로 통일"
   ]
  },
  {
   "cell_type": "code",
   "execution_count": 9,
   "id": "b4f82f79",
   "metadata": {},
   "outputs": [],
   "source": [
    "def func(x):\n",
    "    for i in range(10,90,10):\n",
    "        if int(x) in range(i,i+10):\n",
    "            return i+5\n",
    "\n",
    "train['전용면적'] = train['전용면적'].apply(lambda x : func(x))\n",
    "test['전용면적'] = test['전용면적'].apply(lambda x : func(x))"
   ]
  },
  {
   "cell_type": "code",
   "execution_count": 10,
   "id": "3fbec17e",
   "metadata": {},
   "outputs": [],
   "source": [
    "train = train.join(pd.get_dummies(train['공급유형']))\n",
    "test = test.join(pd.get_dummies(test['공급유형']))\n",
    "test['공공분양'] = 0\n",
    "test['공공임대(5년)'] = 0 \n",
    "test['장기전세'] = 0"
   ]
  },
  {
   "cell_type": "code",
   "execution_count": 11,
   "id": "af549c4e",
   "metadata": {},
   "outputs": [],
   "source": [
    "not_unique = ['자격유형','임대보증금','임대료','전용면적별세대수','전용면적','공급유형']"
   ]
  },
  {
   "cell_type": "markdown",
   "id": "e4ad45b4",
   "metadata": {},
   "source": [
    "- 단지코드, 전용면적, 공급유형을 기준으로 데이터 일차원으로 병합\n",
    "- 아파트 별로 일차원 병합하지 않은 이유: 면적 별로 (20,30) 임대료, 임대보증금의 차이가 커서 단순 평균내는 것은 정보손실 우려가 있음\n",
    "- 병합하는 과정에서 임대료/임대보증금 평균\n",
    "- y값은 등록차량수 $\\rightarrow$ 등록차량수/단지내주차면수로 바꿔줌 $\\because$ 단지내주차면수와 y값 간의 correlation이 큼\n",
    "- 단지내주차면수, 등록차량수는 전용면적별세대수/아파트전체세대수 비율을 곱해서 변수 생성"
   ]
  },
  {
   "cell_type": "code",
   "execution_count": 12,
   "id": "b5beb7d7",
   "metadata": {},
   "outputs": [],
   "source": [
    "tmp1 = train.drop(not_unique,axis=1).drop_duplicates()\n",
    "\n",
    "tmp = pd.DataFrame(train.groupby(['단지코드','전용면적','공급유형']).sum()['전용면적별세대수']).reset_index()\n",
    "tmp = pd.merge(tmp,tmp1.drop_duplicates(),on='단지코드',how='left')\n",
    "total = pd.DataFrame(tmp.groupby('단지코드').sum()['전용면적별세대수']).reset_index(drop=False).rename(columns={'전용면적별세대수':'total'})\n",
    "tmp = pd.merge(tmp,total,on='단지코드',how='left')\n",
    "tmp['ratio'] = tmp.apply(lambda x : x['전용면적별세대수']/x['total'],axis=1)\n",
    "tmp['y1'] = tmp.apply(lambda x : x['ratio']*x['등록차량수'],axis=1)\n",
    "\n",
    "total = pd.DataFrame(train.groupby(['단지코드','전용면적','공급유형']).mean()['임대료']).reset_index()\n",
    "tmp = pd.merge(tmp,total,on=['단지코드','전용면적','공급유형'],how='left')\n",
    "\n",
    "total = pd.DataFrame(train.groupby(['단지코드','전용면적','공급유형']).mean()['임대보증금']).reset_index()\n",
    "tmp = pd.merge(tmp,total,on=['단지코드','전용면적','공급유형'],how='left')\n",
    "\n",
    "tmp['단지내주차면수_new'] = tmp.apply(lambda x : x['단지내주차면수']*x['ratio'],axis=1)\n",
    "tmp = tmp.drop(['ratio'],axis=1)\n",
    "\n",
    "train = tmp\n",
    "train['y2'] = train.apply(lambda x : x['y1']/x['단지내주차면수_new'],axis=1)"
   ]
  },
  {
   "cell_type": "code",
   "execution_count": 13,
   "id": "c6a7fa52",
   "metadata": {},
   "outputs": [],
   "source": [
    "tmp1 = test.drop(not_unique,axis=1).drop_duplicates()\n",
    "\n",
    "tmp = pd.DataFrame(test.groupby(['단지코드','전용면적','공급유형']).sum()['전용면적별세대수']).reset_index()\n",
    "tmp = pd.merge(tmp,tmp1.drop_duplicates(),on='단지코드',how='left')\n",
    "total = pd.DataFrame(tmp.groupby('단지코드').sum()['전용면적별세대수']).reset_index(drop=False).rename(columns={'전용면적별세대수':'total'})\n",
    "tmp = pd.merge(tmp,total,on='단지코드',how='left')\n",
    "tmp['ratio'] = tmp.apply(lambda x : x['전용면적별세대수']/x['total'],axis=1)\n",
    "\n",
    "total = pd.DataFrame(test.groupby(['단지코드','전용면적','공급유형']).mean()['임대료']).reset_index()\n",
    "tmp = pd.merge(tmp,total,on=['단지코드','전용면적','공급유형'],how='left')\n",
    "\n",
    "total = pd.DataFrame(test.groupby(['단지코드','전용면적','공급유형']).mean()['임대보증금']).reset_index()\n",
    "tmp = pd.merge(tmp,total,on=['단지코드','전용면적','공급유형'],how='left')\n",
    "\n",
    "tmp['단지내주차면수_new'] = tmp.apply(lambda x : x['단지내주차면수']*x['ratio'],axis=1)\n",
    "tmp = tmp.drop(['ratio'],axis=1)\n",
    "\n",
    "test = tmp"
   ]
  },
  {
   "cell_type": "code",
   "execution_count": 14,
   "id": "68378c45",
   "metadata": {},
   "outputs": [],
   "source": [
    "train['0~19 인구수'] = train['0~19세_비율']*train['전용면적별세대수']\n",
    "train['20~39 인구수'] = train['20~39세_비율']*train['전용면적별세대수']\n",
    "train['40~69 인구수'] = train['40~69세_비율']*train['전용면적별세대수']\n",
    "train['70세이상 인구수'] = train['70세이상_비율']*train['전용면적별세대수']\n",
    "\n",
    "test['0~19 인구수'] = test['0~19세_비율']*test['전용면적별세대수']\n",
    "test['20~39 인구수'] = test['20~39세_비율']*test['전용면적별세대수']\n",
    "test['40~69 인구수'] = test['40~69세_비율']*test['전용면적별세대수']\n",
    "test['70세이상 인구수'] = test['70세이상_비율']*test['전용면적별세대수']\n",
    "\n",
    "col = ['0~19세_비율','20~39세_비율','40~69세_비율','70세이상_비율']\n",
    "train = train.drop(col,axis=1)\n",
    "test = test.drop(col,axis=1)"
   ]
  },
  {
   "cell_type": "code",
   "execution_count": 15,
   "id": "efd6fcc8",
   "metadata": {
    "scrolled": false
   },
   "outputs": [
    {
     "data": {
      "text/plain": [
       "전용면적           0.272737\n",
       "전용면적별세대수      -0.072524\n",
       "총세대수          -0.145421\n",
       "공가수           -0.265737\n",
       "지하철역          -0.063657\n",
       "버스정류장          0.036348\n",
       "단지내주차면수       -0.050276\n",
       "등록차량수          0.363013\n",
       "연면적            0.005723\n",
       "위도            -0.041786\n",
       "경도             0.083341\n",
       "subway_dist   -0.000263\n",
       "환승역 수         -0.039037\n",
       "총인구수          -0.082692\n",
       "세대당_인구         0.039506\n",
       "남/여비율          0.006577\n",
       "남/여_0~19세     -0.020200\n",
       "남/여_20~39세     0.015812\n",
       "남/여_40~69세    -0.022726\n",
       "남/여_70세이상      0.016666\n",
       "지역별 등록차량수      0.116235\n",
       "지역x세대당인구       0.110623\n",
       "공가비율          -0.099302\n",
       "0~19 인구수      -0.050625\n",
       "20~39 인구수     -0.067115\n",
       "40~69 인구수     -0.074199\n",
       "70세이상 인구수     -0.084072\n",
       "공공분양           0.083793\n",
       "공공임대(10년)      0.270612\n",
       "공공임대(50년)      0.138447\n",
       "공공임대(5년)       0.028804\n",
       "공공임대(분납)       0.060542\n",
       "국민임대          -0.060507\n",
       "영구임대          -0.148812\n",
       "장기전세           0.002327\n",
       "행복주택          -0.074147\n",
       "total         -0.013923\n",
       "y1             0.300276\n",
       "임대료            0.273141\n",
       "임대보증금          0.084868\n",
       "단지내주차면수_new   -0.004911\n",
       "y2             1.000000\n",
       "Name: y2, dtype: float64"
      ]
     },
     "execution_count": 15,
     "metadata": {},
     "output_type": "execute_result"
    }
   ],
   "source": [
    "train.corr()['y2']"
   ]
  },
  {
   "cell_type": "code",
   "execution_count": 16,
   "id": "f64fbfb0",
   "metadata": {},
   "outputs": [
    {
     "data": {
      "text/plain": [
       "<AxesSubplot:xlabel='y2', ylabel='Count'>"
      ]
     },
     "execution_count": 16,
     "metadata": {},
     "output_type": "execute_result"
    },
    {
     "data": {
      "image/png": "[encoded data removed]",
      "text/plain": [
       "<Figure size 1080x288 with 1 Axes>"
      ]
     },
     "metadata": {
      "needs_background": "light"
     },
     "output_type": "display_data"
    }
   ],
   "source": [
    "fig,ax = plt.subplots(figsize=(15,4))\n",
    "sns.histplot(train['y2'])"
   ]
  },
  {
   "cell_type": "markdown",
   "id": "37fb2649",
   "metadata": {},
   "source": [
    "- 이상치제거"
   ]
  },
  {
   "cell_type": "code",
   "execution_count": 17,
   "id": "b2b6461b",
   "metadata": {},
   "outputs": [],
   "source": [
    "train = train[train['단지코드']!='C1722']\n",
    "train = train.reset_index(drop=True)"
   ]
  },
  {
   "cell_type": "code",
   "execution_count": 18,
   "id": "35428a4a",
   "metadata": {},
   "outputs": [
    {
     "data": {
      "text/plain": [
       "<AxesSubplot:xlabel='y2', ylabel='Count'>"
      ]
     },
     "execution_count": 18,
     "metadata": {},
     "output_type": "execute_result"
    },
    {
     "data": {
      "image/png": "[encoded data removed]",
      "text/plain": [
       "<Figure size 1080x288 with 1 Axes>"
      ]
     },
     "metadata": {
      "needs_background": "light"
     },
     "output_type": "display_data"
    }
   ],
   "source": [
    "fig,ax = plt.subplots(figsize=(15,4))\n",
    "sns.histplot(train['y2'])"
   ]
  },
  {
   "cell_type": "code",
   "execution_count": 19,
   "id": "a2dd4802",
   "metadata": {},
   "outputs": [],
   "source": [
    "from sklearn.linear_model import LinearRegression, Lasso, ElasticNet, Ridge\n",
    "from sklearn.ensemble import RandomForestRegressor, GradientBoostingRegressor\n",
    "from sklearn.tree import DecisionTreeRegressor \n",
    "from catboost import CatBoostRegressor\n",
    "from sklearn.cross_decomposition import PLSRegression\n",
    "from sklearn.svm import SVR\n",
    "#from pycaret.regression import *\n",
    "from sklearn.model_selection import train_test_split\n",
    "from sklearn.model_selection import cross_val_score, KFold, RepeatedKFold\n",
    "from sklearn.metrics import mean_absolute_error\n",
    "from catboost import CatBoostRegressor\n",
    "from sklearn import preprocessing"
   ]
  },
  {
   "cell_type": "code",
   "execution_count": 20,
   "id": "5c4de2f0",
   "metadata": {},
   "outputs": [],
   "source": [
    "code = pd.DataFrame()\n",
    "code['단지코드'] = train['단지코드'].unique()\n",
    "code = code.reset_index()\n",
    "train = pd.merge(train,code,on='단지코드')"
   ]
  },
  {
   "cell_type": "code",
   "execution_count": 21,
   "id": "1cb8c350",
   "metadata": {
    "scrolled": false
   },
   "outputs": [
    {
     "name": "stdout",
     "output_type": "stream",
     "text": [
      "<catboost.core.CatBoostRegressor object at 0x7f9fec565790>\n",
      "138.88221118929897\n",
      "114.40140085768203\n",
      "104.12934923956064\n",
      "100.73513158058856\n",
      "125.65849273943941\n",
      "----done----\n",
      "<catboost.core.CatBoostRegressor object at 0x7f9fec565790> 116.76131712131394\n",
      "RandomForestRegressor(random_state=2021)\n",
      "139.7587076607926\n",
      "107.91496925009423\n",
      "104.94349762791776\n",
      "91.5401627314859\n",
      "122.59600088613377\n",
      "----done----\n",
      "RandomForestRegressor(random_state=2021) 113.35066763128484\n",
      "----result----\n",
      "RandomForestRegressor(random_state=2021) 113.35066763128484\n"
     ]
    }
   ],
   "source": [
    "model = [CatBoostRegressor(random_state=2021,loss_function='MAE',verbose=False),\n",
    "            RandomForestRegressor(random_state=2021)]\n",
    "best = 100000\n",
    "best_model = None\n",
    "\n",
    "\n",
    "for j in model:\n",
    "    s = 0\n",
    "    print(j)\n",
    "    for i in [80,160,240,320,400]:\n",
    "        X = train[-train['index'].isin(range(i-80,i))]\n",
    "        col = ['단지코드','등록차량수','임대건물구분','subway_name','단지명','도로명주소', '연면적','total','지역',\n",
    "       '단지내주차면수','y1','y2','공급유형', '단지내주차면수_new','index']\n",
    "        X_train = X.drop(col,axis=1)\n",
    "        y_train = X['y2']\n",
    "        X = train[train['index'].isin(range(i-80,i))]\n",
    "        X_test = X.drop(col,axis=1)\n",
    "        y_test = X['y2']\n",
    "\n",
    "        cb = j.fit(X_train,y_train)\n",
    "        pred = cb.predict(X_test)\n",
    "        \n",
    "        X['y2pred'] = pred\n",
    "        X['y1pred'] = X['단지내주차면수_new']*X['y2pred']\n",
    "        tmp1 = pd.DataFrame()\n",
    "        tmp1['단지코드'] = X['단지코드'].unique()\n",
    "        tmp1['y1'] = X.groupby(['단지코드']).sum()['y1'].tolist()\n",
    "        tmp1['y1pred'] = X.groupby(['단지코드']).sum()['y1pred'].tolist()\n",
    "        error = mean_absolute_error(tmp1['y1pred'],tmp1['y1'])\n",
    "        print(error)\n",
    "        s += error\n",
    "    print('----done----')\n",
    "    print(j,s/5)\n",
    "    if s/5 < best:\n",
    "        best_model = j\n",
    "        best = s/5\n",
    "print('----result----')\n",
    "print(best_model,best)"
   ]
  },
  {
   "cell_type": "code",
   "execution_count": 22,
   "id": "825016b8",
   "metadata": {},
   "outputs": [],
   "source": [
    "col = ['단지코드','등록차량수','임대건물구분','subway_name','단지명','도로명주소',\n",
    "       '연면적','total','지역','단지내주차면수','y1','y2','공급유형',\n",
    "       '단지내주차면수_new','index']"
   ]
  },
  {
   "cell_type": "code",
   "execution_count": 23,
   "id": "6cb34d0f",
   "metadata": {},
   "outputs": [],
   "source": [
    "X = train[-train['index'].isin(range(0,80))]\n",
    "col = ['단지코드','등록차량수','임대건물구분','subway_name','단지명','도로명주소',\n",
    "       '연면적','total','지역','단지내주차면수','y1','y2','공급유형','연면적','단지내주차면수_new','index']\n",
    "X_train = X.drop(col,axis=1)\n",
    "y_train = X['y2']\n",
    "X = train[train['index'].isin(range(0,80))]\n",
    "X_test = X.drop(col,axis=1)\n",
    "y_test = X['y2']\n",
    "\n",
    "rf = RandomForestRegressor(random_state=2021).fit(X_train,y_train)\n",
    "pred = rf.predict(X_test)\n",
    "\n",
    "cb = CatBoostRegressor(random_state=2021,loss_function='MAE',verbose=False).fit(X_train,y_train)\n",
    "pred2 = cb.predict(X_test)"
   ]
  },
  {
   "cell_type": "code",
   "execution_count": 24,
   "id": "fe7e7283",
   "metadata": {},
   "outputs": [
    {
     "data": {
      "text/plain": [
       "(1169, 50)"
      ]
     },
     "execution_count": 24,
     "metadata": {},
     "output_type": "execute_result"
    }
   ],
   "source": [
    "train.shape"
   ]
  },
  {
   "cell_type": "code",
   "execution_count": 25,
   "id": "a5cbeb38",
   "metadata": {},
   "outputs": [
    {
     "data": {
      "text/plain": [
       "<AxesSubplot:>"
      ]
     },
     "execution_count": 25,
     "metadata": {},
     "output_type": "execute_result"
    },
    {
     "data": {
      "image/png": "[encoded data removed]",
      "text/plain": [
       "<Figure size 576x720 with 1 Axes>"
      ]
     },
     "metadata": {
      "needs_background": "light"
     },
     "output_type": "display_data"
    }
   ],
   "source": [
    "plt.figure(figsize=(8,10))\n",
    "sns.barplot(y = X_test.columns[np.argsort(rf.feature_importances_)], x = list(rf.feature_importances_[np.argsort(rf.feature_importances_)]))"
   ]
  },
  {
   "cell_type": "code",
   "execution_count": 26,
   "id": "732fe57b",
   "metadata": {},
   "outputs": [
    {
     "data": {
      "text/plain": [
       "<AxesSubplot:>"
      ]
     },
     "execution_count": 26,
     "metadata": {},
     "output_type": "execute_result"
    },
    {
     "data": {
      "image/png": "[encoded data removed]",
      "text/plain": [
       "<Figure size 576x720 with 1 Axes>"
      ]
     },
     "metadata": {
      "needs_background": "light"
     },
     "output_type": "display_data"
    }
   ],
   "source": [
    "plt.figure(figsize=(8,10))\n",
    "sns.barplot(y = X_test.columns[np.argsort(cb.feature_importances_)], x = list(cb.feature_importances_[np.argsort(cb.feature_importances_)]))"
   ]
  },
  {
   "cell_type": "code",
   "execution_count": 27,
   "id": "92e3705a",
   "metadata": {
    "scrolled": false
   },
   "outputs": [
    {
     "data": {
      "text/plain": [
       "set()"
      ]
     },
     "execution_count": 27,
     "metadata": {},
     "output_type": "execute_result"
    }
   ],
   "source": [
    "set(test.columns) - set(train.columns)"
   ]
  },
  {
   "cell_type": "code",
   "execution_count": 28,
   "id": "4bc048a4",
   "metadata": {},
   "outputs": [],
   "source": [
    "col = ['단지코드','등록차량수','임대건물구분','subway_name','단지명','도로명주소',\n",
    "       '연면적','total','지역','단지내주차면수','y1','y2','공급유형','연면적','단지내주차면수_new','index']\n",
    "X_train = train.drop(col,axis=1)\n",
    "y_train = train['y2']\n",
    "col = ['단지코드','임대건물구분','subway_name','단지명','도로명주소','연면적','total','지역','단지내주차면수','공급유형','연면적','단지내주차면수_new']\n",
    "X_test = test.drop(col,axis=1)\n",
    "\n",
    "rf = RandomForestRegressor(random_state=2021).fit(X_train,y_train)\n",
    "pred = rf.predict(X_test)\n",
    "\n",
    "cb = CatBoostRegressor(random_state=2021, verbose=False).fit(X_train,y_train) # loss_function='MAE',\n",
    "pred2 = cb.predict(X_test)"
   ]
  },
  {
   "cell_type": "code",
   "execution_count": 29,
   "id": "54a0e5ee",
   "metadata": {},
   "outputs": [],
   "source": [
    "test['y2pred_cb'] = pred2\n",
    "test['y1pred_cb'] = test['단지내주차면수_new']*test['y2pred_cb']\n",
    "res = pd.DataFrame()\n",
    "res['단지코드'] = test['단지코드'].unique()\n",
    "res['cb'] = test.groupby(['단지코드']).sum()['y1pred_cb'].tolist()"
   ]
  },
  {
   "cell_type": "code",
   "execution_count": 30,
   "id": "af5173e1",
   "metadata": {},
   "outputs": [
    {
     "data": {
      "text/html": [
       "<div>\n",
       "<style scoped>\n",
       "    .dataframe tbody tr th:only-of-type {\n",
       "        vertical-align: middle;\n",
       "    }\n",
       "\n",
       "    .dataframe tbody tr th {\n",
       "        vertical-align: top;\n",
       "    }\n",
       "\n",
       "    .dataframe thead th {\n",
       "        text-align: right;\n",
       "    }\n",
       "</style>\n",
       "<table border=\"1\" class=\"dataframe\">\n",
       "  <thead>\n",
       "    <tr style=\"text-align: right;\">\n",
       "      <th></th>\n",
       "      <th>단지코드</th>\n",
       "      <th>cb</th>\n",
       "    </tr>\n",
       "  </thead>\n",
       "  <tbody>\n",
       "    <tr>\n",
       "      <th>0</th>\n",
       "      <td>C1003</td>\n",
       "      <td>236.901719</td>\n",
       "    </tr>\n",
       "    <tr>\n",
       "      <th>1</th>\n",
       "      <td>C1006</td>\n",
       "      <td>208.102844</td>\n",
       "    </tr>\n",
       "    <tr>\n",
       "      <th>2</th>\n",
       "      <td>C1016</td>\n",
       "      <td>635.110508</td>\n",
       "    </tr>\n",
       "    <tr>\n",
       "      <th>3</th>\n",
       "      <td>C1019</td>\n",
       "      <td>259.273206</td>\n",
       "    </tr>\n",
       "    <tr>\n",
       "      <th>4</th>\n",
       "      <td>C1030</td>\n",
       "      <td>27.584941</td>\n",
       "    </tr>\n",
       "  </tbody>\n",
       "</table>\n",
       "</div>"
      ],
      "text/plain": [
       "    단지코드          cb\n",
       "0  C1003  236.901719\n",
       "1  C1006  208.102844\n",
       "2  C1016  635.110508\n",
       "3  C1019  259.273206\n",
       "4  C1030   27.584941"
      ]
     },
     "execution_count": 30,
     "metadata": {},
     "output_type": "execute_result"
    }
   ],
   "source": [
    "res.head()"
   ]
  },
  {
   "cell_type": "code",
   "execution_count": 31,
   "id": "73e37fd7",
   "metadata": {},
   "outputs": [],
   "source": [
    "submit = res[['단지코드','cb']]\n",
    "submit.columns = ['code','num']\n",
    "submit.loc[147,:] = ['C1327',0]\n",
    "submit.loc[148,:] = ['C2335',0]\n",
    "submit.loc[149,:] = ['C2675',0]"
   ]
  },
  {
   "cell_type": "code",
   "execution_count": 32,
   "id": "4a4ab12f",
   "metadata": {},
   "outputs": [],
   "source": [
    "submit.to_csv(\"submit.csv\",index=False)"
   ]
  }
 ],
 "metadata": {
  "kernelspec": {
   "display_name": "Python 3 (ipykernel)",
   "language": "python",
   "name": "python3"
  },
  "language_info": {
   "codemirror_mode": {
    "name": "ipython",
    "version": 3
   },
   "file_extension": ".py",
   "mimetype": "text/x-python",
   "name": "python",
   "nbconvert_exporter": "python",
   "pygments_lexer": "ipython3",
   "version": "3.8.11"
  }
 },
 "nbformat": 4,
 "nbformat_minor": 5
}
