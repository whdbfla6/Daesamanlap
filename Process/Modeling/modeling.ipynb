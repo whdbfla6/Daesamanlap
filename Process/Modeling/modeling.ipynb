{
 "cells": [
  {
   "cell_type": "code",
   "execution_count": 1,
   "id": "5fdb511e",
   "metadata": {},
   "outputs": [],
   "source": [
    "import pandas as pd\n",
    "import numpy as np\n",
    "pd.set_option('display.max_columns', 500)\n",
    "\n",
    "# Warnings\n",
    "import warnings\n",
    "warnings.filterwarnings('always')\n",
    "warnings.filterwarnings('ignore')"
   ]
  },
  {
   "cell_type": "code",
   "execution_count": 2,
   "id": "8b777fd4",
   "metadata": {},
   "outputs": [],
   "source": [
    "import os\n",
    "path = os.path.dirname(os.getcwd())\n",
    "path = os.path.join(path, \"ProcessedData\")\n",
    "train = pd.read_csv(os.path.join(path,\"merged_train.csv\"))\n",
    "test = pd.read_csv(os.path.join(path,\"merged_test.csv\"))"
   ]
  },
  {
   "cell_type": "code",
   "execution_count": 3,
   "id": "e9de8cc0",
   "metadata": {},
   "outputs": [],
   "source": [
    "reg = train.groupby(\"지역\").mean()[\"등록차량수\"].reset_index().rename(columns={'등록차량수':'지역_등록차량수'})\n",
    "train= pd.merge(train, reg, on=\"지역\", how=\"left\")\n",
    "train[\"지역x세대당인구\"] =  train[\"지역_등록차량수\"]*train['세대당_인구']\n",
    "test= pd.merge(test, reg, on=\"지역\", how=\"left\")\n",
    "test[\"지역x세대당인구\"]= test[\"지역_등록차량수\"]*test[\"세대당_인구\"]"
   ]
  },
  {
   "cell_type": "markdown",
   "id": "312ed00a",
   "metadata": {},
   "source": [
    "*상가 데이터는 제외*"
   ]
  },
  {
   "cell_type": "code",
   "execution_count": 4,
   "id": "b8772314",
   "metadata": {},
   "outputs": [],
   "source": [
    "train = train[train['임대건물구분']=='아파트']\n",
    "test = test[test['임대건물구분']=='아파트']"
   ]
  },
  {
   "cell_type": "markdown",
   "id": "54ac3213",
   "metadata": {},
   "source": [
    "### 전용면적 단위 통일\n",
    "ex. `전용면적` : 20-30인 경우 20으로 통일"
   ]
  },
  {
   "cell_type": "code",
   "execution_count": 5,
   "id": "441b057b",
   "metadata": {},
   "outputs": [],
   "source": [
    "train['전용면적'] = train['전용면적']//10 * 10\n",
    "train['전용면적'] = train['전용면적'].astype('int').astype('str')"
   ]
  },
  {
   "cell_type": "code",
   "execution_count": 6,
   "id": "01590e1a",
   "metadata": {},
   "outputs": [],
   "source": [
    "test['전용면적'] = test['전용면적']//10 * 10\n",
    "test['전용면적'] = test['전용면적'].astype('int').astype('str')"
   ]
  },
  {
   "cell_type": "code",
   "execution_count": 7,
   "id": "fbc6ae28",
   "metadata": {},
   "outputs": [],
   "source": [
    "not_unique = ['자격유형','임대보증금','임대료','전용면적별세대수','전용면적','공급유형']"
   ]
  },
  {
   "cell_type": "markdown",
   "id": "19c6c701",
   "metadata": {},
   "source": [
    "### 데이터 재구성\n",
    "\n",
    "- `단지코드`, `전용면적`, `공급유형` 기준으로 데이터 일차원으로 병합\n",
    "\n",
    "*면적 별로 (20,30) 임대료, 임대보증금의 차이가 커서 단순 평균내는 것은 정보손실 우려가 있음*\n",
    "\n",
    "- `전용면적별세대수_비율` : 아파트 총세대수 중에서 해당 면적이 차지하고 있는 세대수 비율\n",
    "\n",
    "\n",
    "- `단지내주차면수_비율` , `등록차량수_비율` : `전용면적별세대수_비율`을 곱해서 새롭게 변수 생성 \n",
    "\n",
    "\n",
    "- `임대료` `임대보증금` : 평균값 사용\n",
    "\n",
    "\n",
    "- `인구` : `전용면적별세대수_비율`을 곱해서 그 전용면적에 속한 아파트의 인구분포를 살펴보고자 함"
   ]
  },
  {
   "cell_type": "code",
   "execution_count": 8,
   "id": "4baaa2dd",
   "metadata": {},
   "outputs": [],
   "source": [
    "tmp = train.groupby(['단지코드','전용면적','공급유형'],as_index=False).agg({'전용면적별세대수':'sum','임대료':'mean','임대보증금':'mean'})\n",
    "train = pd.merge(train.drop(not_unique,axis=1).drop_duplicates(),tmp)\n",
    "\n",
    "train['전용면적별세대수_비율'] = train['전용면적별세대수']/train['총세대수'] \n",
    "train['면적별_등록차량수'] = train['등록차량수'] * train['전용면적별세대수_비율']\n",
    "train['면적별_단지내주차면수'] = train['단지내주차면수'] * train['전용면적별세대수_비율']"
   ]
  },
  {
   "cell_type": "code",
   "execution_count": 9,
   "id": "af97d61f",
   "metadata": {},
   "outputs": [],
   "source": [
    "tmp = test.groupby(['단지코드','전용면적','공급유형'],as_index=False).agg({'전용면적별세대수':'sum','임대료':'mean','임대보증금':'mean'})\n",
    "test = pd.merge(test.drop(not_unique,axis=1).drop_duplicates(),tmp)\n",
    "\n",
    "test['전용면적별세대수_비율'] = test['전용면적별세대수']/test['총세대수'] \n",
    "test['면적별_단지내주차면수'] = test['단지내주차면수'] * test['전용면적별세대수_비율']"
   ]
  },
  {
   "cell_type": "code",
   "execution_count": 10,
   "id": "7d334985",
   "metadata": {},
   "outputs": [],
   "source": [
    "age_ratio = ['0~19세_비율', '20~39세_비율','40~69세_비율', '70세이상_비율']\n",
    "age_col = []\n",
    "for col in age_ratio:\n",
    "    col_ = col.split('_')[0] + '_인구수'\n",
    "    age_col.append(col_)\n",
    "    train[col_] = train[col] * train['전용면적별세대수']\n",
    "    test[col_] = test[col] * test['전용면적별세대수']"
   ]
  },
  {
   "cell_type": "code",
   "execution_count": 11,
   "id": "3bb01c57",
   "metadata": {},
   "outputs": [],
   "source": [
    "train.drop(age_ratio,axis=1,inplace=True)\n",
    "test.drop(age_ratio,axis=1,inplace=True)"
   ]
  },
  {
   "cell_type": "markdown",
   "id": "0e441b24",
   "metadata": {},
   "source": [
    "### 파생변수 생성\n",
    "\n",
    "`공가비율` `지역별_등록차량수`"
   ]
  },
  {
   "cell_type": "code",
   "execution_count": 12,
   "id": "6580e5c1",
   "metadata": {},
   "outputs": [],
   "source": [
    "train['공가비율'] = train['공가수'] / train['총세대수']\n",
    "test['공가비율'] = test['공가수'] / test['총세대수']"
   ]
  },
  {
   "cell_type": "code",
   "execution_count": 13,
   "id": "dd6b50ef",
   "metadata": {},
   "outputs": [
    {
     "data": {
      "text/html": [
       "<div>\n",
       "<style scoped>\n",
       "    .dataframe tbody tr th:only-of-type {\n",
       "        vertical-align: middle;\n",
       "    }\n",
       "\n",
       "    .dataframe tbody tr th {\n",
       "        vertical-align: top;\n",
       "    }\n",
       "\n",
       "    .dataframe thead th {\n",
       "        text-align: right;\n",
       "    }\n",
       "</style>\n",
       "<table border=\"1\" class=\"dataframe\">\n",
       "  <thead>\n",
       "    <tr style=\"text-align: right;\">\n",
       "      <th></th>\n",
       "      <th>지역</th>\n",
       "      <th>전용면적</th>\n",
       "      <th>지역별_등록차량수</th>\n",
       "    </tr>\n",
       "  </thead>\n",
       "  <tbody>\n",
       "    <tr>\n",
       "      <th>0</th>\n",
       "      <td>강원도</td>\n",
       "      <td>10</td>\n",
       "      <td>112.125000</td>\n",
       "    </tr>\n",
       "    <tr>\n",
       "      <th>1</th>\n",
       "      <td>강원도</td>\n",
       "      <td>20</td>\n",
       "      <td>105.336175</td>\n",
       "    </tr>\n",
       "    <tr>\n",
       "      <th>2</th>\n",
       "      <td>강원도</td>\n",
       "      <td>30</td>\n",
       "      <td>140.168372</td>\n",
       "    </tr>\n",
       "  </tbody>\n",
       "</table>\n",
       "</div>"
      ],
      "text/plain": [
       "    지역 전용면적   지역별_등록차량수\n",
       "0  강원도   10  112.125000\n",
       "1  강원도   20  105.336175\n",
       "2  강원도   30  140.168372"
      ]
     },
     "execution_count": 13,
     "metadata": {},
     "output_type": "execute_result"
    }
   ],
   "source": [
    "tmp = train.groupby(['지역','전용면적'])[['면적별_등록차량수']].mean().reset_index().rename(columns={'면적별_등록차량수':'지역별_등록차량수'})\n",
    "train = pd.merge(train,tmp)\n",
    "test = pd.merge(test,tmp)\n",
    "tmp.head(3)"
   ]
  },
  {
   "cell_type": "markdown",
   "id": "781cfe4d",
   "metadata": {},
   "source": [
    "### 이상치제거"
   ]
  },
  {
   "cell_type": "code",
   "execution_count": 14,
   "id": "2ad227f6",
   "metadata": {},
   "outputs": [],
   "source": [
    "train = train[train['단지코드']!='C1722']\n",
    "train = train.reset_index(drop=True)"
   ]
  },
  {
   "cell_type": "markdown",
   "id": "3aa59780",
   "metadata": {},
   "source": [
    "### 카테고리변수 처리\n",
    "\n",
    "`공급유형` `전용면적`"
   ]
  },
  {
   "cell_type": "code",
   "execution_count": 15,
   "id": "ed3e1da2",
   "metadata": {},
   "outputs": [],
   "source": [
    "train = pd.concat([train,pd.get_dummies(train['공급유형'])],axis=1)\n",
    "train = pd.concat([train,pd.get_dummies(train['전용면적'],prefix='면적')],axis=1)"
   ]
  },
  {
   "cell_type": "code",
   "execution_count": 16,
   "id": "d889c7c0",
   "metadata": {},
   "outputs": [],
   "source": [
    "test = pd.concat([test,pd.get_dummies(test['공급유형'])],axis=1)\n",
    "test = pd.concat([test,pd.get_dummies(test['전용면적'],prefix='면적')],axis=1)"
   ]
  },
  {
   "cell_type": "code",
   "execution_count": 17,
   "id": "0a4c3549",
   "metadata": {},
   "outputs": [],
   "source": [
    "for col in ['공공분양', '공공임대(5년)', '장기전세', '면적_60']:\n",
    "    test[col] = 0"
   ]
  },
  {
   "cell_type": "markdown",
   "id": "32dc4ff9",
   "metadata": {},
   "source": [
    "# 모델링"
   ]
  },
  {
   "cell_type": "code",
   "execution_count": 18,
   "id": "f91ed8fb",
   "metadata": {},
   "outputs": [],
   "source": [
    "from sklearn.linear_model import Lasso\n",
    "from sklearn.ensemble import RandomForestRegressor\n",
    "from catboost import CatBoostRegressor"
   ]
  },
  {
   "cell_type": "code",
   "execution_count": 19,
   "id": "5a431526",
   "metadata": {},
   "outputs": [],
   "source": [
    "col = ['면적별_단지내주차면수','세대당_인구','공가비율','총세대수','지역별_등록차량수','임대료','임대보증금']\n",
    "col = col + age_col\n",
    "col = col + ['공공분양', '공공임대(10년)',\n",
    "       '공공임대(50년)', '공공임대(5년)', '공공임대(분납)', '국민임대', '영구임대', '장기전세', '행복주택']\n",
    "col = col + ['면적_10', '면적_20', '면적_30', '면적_40', '면적_50', '면적_60', '면적_70', '면적_80']"
   ]
  },
  {
   "cell_type": "code",
   "execution_count": 20,
   "id": "8721e081",
   "metadata": {},
   "outputs": [
    {
     "data": {
      "text/html": [
       "<div>\n",
       "<style scoped>\n",
       "    .dataframe tbody tr th:only-of-type {\n",
       "        vertical-align: middle;\n",
       "    }\n",
       "\n",
       "    .dataframe tbody tr th {\n",
       "        vertical-align: top;\n",
       "    }\n",
       "\n",
       "    .dataframe thead th {\n",
       "        text-align: right;\n",
       "    }\n",
       "</style>\n",
       "<table border=\"1\" class=\"dataframe\">\n",
       "  <thead>\n",
       "    <tr style=\"text-align: right;\">\n",
       "      <th></th>\n",
       "      <th>면적별_단지내주차면수</th>\n",
       "      <th>세대당_인구</th>\n",
       "      <th>공가비율</th>\n",
       "      <th>총세대수</th>\n",
       "      <th>지역별_등록차량수</th>\n",
       "      <th>임대료</th>\n",
       "      <th>임대보증금</th>\n",
       "      <th>0~19세_인구수</th>\n",
       "      <th>20~39세_인구수</th>\n",
       "      <th>40~69세_인구수</th>\n",
       "      <th>70세이상_인구수</th>\n",
       "      <th>공공분양</th>\n",
       "      <th>공공임대(10년)</th>\n",
       "      <th>공공임대(50년)</th>\n",
       "      <th>공공임대(5년)</th>\n",
       "      <th>공공임대(분납)</th>\n",
       "      <th>국민임대</th>\n",
       "      <th>영구임대</th>\n",
       "      <th>장기전세</th>\n",
       "      <th>행복주택</th>\n",
       "      <th>면적_10</th>\n",
       "      <th>면적_20</th>\n",
       "      <th>면적_30</th>\n",
       "      <th>면적_40</th>\n",
       "      <th>면적_50</th>\n",
       "      <th>면적_60</th>\n",
       "      <th>면적_70</th>\n",
       "      <th>면적_80</th>\n",
       "    </tr>\n",
       "  </thead>\n",
       "  <tbody>\n",
       "    <tr>\n",
       "      <th>0</th>\n",
       "      <td>407.60367</td>\n",
       "      <td>2.3</td>\n",
       "      <td>0.031193</td>\n",
       "      <td>545</td>\n",
       "      <td>184.083403</td>\n",
       "      <td>99066.666667</td>\n",
       "      <td>11520000.0</td>\n",
       "      <td>69.638961</td>\n",
       "      <td>65.864318</td>\n",
       "      <td>185.885165</td>\n",
       "      <td>34.611555</td>\n",
       "      <td>0</td>\n",
       "      <td>0</td>\n",
       "      <td>0</td>\n",
       "      <td>0</td>\n",
       "      <td>0</td>\n",
       "      <td>1</td>\n",
       "      <td>0</td>\n",
       "      <td>0</td>\n",
       "      <td>0</td>\n",
       "      <td>0</td>\n",
       "      <td>0</td>\n",
       "      <td>1</td>\n",
       "      <td>0</td>\n",
       "      <td>0</td>\n",
       "      <td>0</td>\n",
       "      <td>0</td>\n",
       "      <td>0</td>\n",
       "    </tr>\n",
       "    <tr>\n",
       "      <th>1</th>\n",
       "      <td>52.80000</td>\n",
       "      <td>2.6</td>\n",
       "      <td>0.000000</td>\n",
       "      <td>560</td>\n",
       "      <td>184.083403</td>\n",
       "      <td>80800.000000</td>\n",
       "      <td>3631000.0</td>\n",
       "      <td>41.704849</td>\n",
       "      <td>48.146343</td>\n",
       "      <td>90.861857</td>\n",
       "      <td>11.286950</td>\n",
       "      <td>0</td>\n",
       "      <td>0</td>\n",
       "      <td>0</td>\n",
       "      <td>0</td>\n",
       "      <td>0</td>\n",
       "      <td>0</td>\n",
       "      <td>1</td>\n",
       "      <td>0</td>\n",
       "      <td>0</td>\n",
       "      <td>0</td>\n",
       "      <td>0</td>\n",
       "      <td>1</td>\n",
       "      <td>0</td>\n",
       "      <td>0</td>\n",
       "      <td>0</td>\n",
       "      <td>0</td>\n",
       "      <td>0</td>\n",
       "    </tr>\n",
       "  </tbody>\n",
       "</table>\n",
       "</div>"
      ],
      "text/plain": [
       "   면적별_단지내주차면수  세대당_인구      공가비율  총세대수   지역별_등록차량수           임대료       임대보증금  \\\n",
       "0    407.60367     2.3  0.031193   545  184.083403  99066.666667  11520000.0   \n",
       "1     52.80000     2.6  0.000000   560  184.083403  80800.000000   3631000.0   \n",
       "\n",
       "   0~19세_인구수  20~39세_인구수  40~69세_인구수  70세이상_인구수  공공분양  공공임대(10년)  공공임대(50년)  \\\n",
       "0  69.638961   65.864318  185.885165  34.611555     0          0          0   \n",
       "1  41.704849   48.146343   90.861857  11.286950     0          0          0   \n",
       "\n",
       "   공공임대(5년)  공공임대(분납)  국민임대  영구임대  장기전세  행복주택  면적_10  면적_20  면적_30  면적_40  \\\n",
       "0         0         0     1     0     0     0      0      0      1      0   \n",
       "1         0         0     0     1     0     0      0      0      1      0   \n",
       "\n",
       "   면적_50  면적_60  면적_70  면적_80  \n",
       "0      0      0      0      0  \n",
       "1      0      0      0      0  "
      ]
     },
     "execution_count": 20,
     "metadata": {},
     "output_type": "execute_result"
    }
   ],
   "source": [
    "train_X = train[col]\n",
    "train_y = train['면적별_등록차량수']\n",
    "test_X = test[col]\n",
    "train_X.head(2)"
   ]
  },
  {
   "cell_type": "code",
   "execution_count": 21,
   "id": "010e8308",
   "metadata": {},
   "outputs": [],
   "source": [
    "lasso = Lasso()\n",
    "lasso.fit(train_X,train_y)\n",
    "test['pred'] = lasso.predict(test_X)"
   ]
  },
  {
   "cell_type": "markdown",
   "id": "4a65075f",
   "metadata": {},
   "source": [
    "### 제출"
   ]
  },
  {
   "cell_type": "code",
   "execution_count": 22,
   "id": "8d07fdcb",
   "metadata": {},
   "outputs": [],
   "source": [
    "submit = test.groupby(['단지코드'])[['pred']].sum().reset_index()\n",
    "submit.columns = ['code','num']\n",
    "submit.loc[147,:] = ['C1327',0]\n",
    "submit.loc[148,:] = ['C2335',0]\n",
    "submit.loc[149,:] = ['C2675',0]"
   ]
  },
  {
   "cell_type": "code",
   "execution_count": 23,
   "id": "308b7ff1",
   "metadata": {},
   "outputs": [],
   "source": [
    "submit.to_csv(\"submit1201.csv\",index=False)"
   ]
  }
 ],
 "metadata": {
  "kernelspec": {
   "display_name": "Python 3 (ipykernel)",
   "language": "python",
   "name": "python3"
  },
  "language_info": {
   "codemirror_mode": {
    "name": "ipython",
    "version": 3
   },
   "file_extension": ".py",
   "mimetype": "text/x-python",
   "name": "python",
   "nbconvert_exporter": "python",
   "pygments_lexer": "ipython3",
   "version": "3.8.11"
  }
 },
 "nbformat": 4,
 "nbformat_minor": 5
}
