{
 "cells": [
  {
   "cell_type": "markdown",
   "metadata": {},
   "source": [
    "# 기본"
   ]
  },
  {
   "cell_type": "code",
   "execution_count": 1,
   "metadata": {},
   "outputs": [],
   "source": [
    "import pandas as pd\n",
    "import numpy as np\n",
    "\n",
    "# Visualization\n",
    "import seaborn as sns\n",
    "import matplotlib\n",
    "import matplotlib.pyplot as plt\n",
    "%matplotlib inline\n",
    "from matplotlib import font_manager, rc\n",
    "plt.rcParams['font.family'] = 'NanumGothic'\n",
    "import platform\n",
    "if platform.system() == 'Windows':\n",
    "    font_name = font_manager.FontProperties(fname=\"c:/Windows/Fonts/malgun.ttf\").get_name()\n",
    "    rc('font', family=font_name)\n",
    "else:    \n",
    "    rc('font', family='AppleGothic')\n",
    "\n",
    "matplotlib.rcParams['axes.unicode_minus'] = False"
   ]
  },
  {
   "cell_type": "code",
   "execution_count": 2,
   "metadata": {},
   "outputs": [],
   "source": [
    "import os\n",
    "path = os.path.dirname(os.getcwd())\n",
    "path = os.path.join(path, \"ProcessedData\")\n",
    "train = pd.read_csv(os.path.join(path,\"merged_train.csv\"))\n",
    "test = pd.read_csv(os.path.join(path,\"merged_test.csv\"))"
   ]
  },
  {
   "cell_type": "code",
   "execution_count": 3,
   "metadata": {},
   "outputs": [],
   "source": [
    "train=train.drop_duplicates(keep='first')\n",
    "test=test.drop_duplicates(keep='first')"
   ]
  },
  {
   "cell_type": "markdown",
   "metadata": {},
   "source": [
    "## 1. EDA 및 전처리(baseline: MSE 98)"
   ]
  },
  {
   "cell_type": "markdown",
   "metadata": {},
   "source": [
    "### 1) 상가비율"
   ]
  },
  {
   "cell_type": "code",
   "execution_count": 4,
   "metadata": {},
   "outputs": [],
   "source": [
    "tmp = train.groupby(['단지코드','임대건물구분']).count().iloc[:,:1].reset_index()\n",
    "store = tmp[tmp['임대건물구분']=='상가'].reset_index(drop=True)[['단지코드','총세대수']].rename(columns={'총세대수':'상가수'})\n",
    "apt = tmp[tmp['임대건물구분']=='아파트'].reset_index(drop=True)[['단지코드','총세대수']].rename(columns={'총세대수':'아파트수'})\n",
    "total = pd.merge(apt,store,on='단지코드',how='left').fillna(0)\n",
    "total['상가비율'] = total.apply(lambda x : x['상가수']/(x['아파트수']+x['상가수']),axis=1)\n",
    "train = pd.merge(train,total[['단지코드','상가비율']],on='단지코드',how='left')"
   ]
  },
  {
   "cell_type": "code",
   "execution_count": 5,
   "metadata": {},
   "outputs": [],
   "source": [
    "tmp = test.groupby(['단지코드','임대건물구분']).count().iloc[:,:1].reset_index()\n",
    "store = tmp[tmp['임대건물구분']=='상가'].reset_index(drop=True)[['단지코드','총세대수']].rename(columns={'총세대수':'상가수'})\n",
    "apt = tmp[tmp['임대건물구분']=='아파트'].reset_index(drop=True)[['단지코드','총세대수']].rename(columns={'총세대수':'아파트수'})\n",
    "total = pd.merge(apt,store,on='단지코드',how='left').fillna(0)\n",
    "total['상가비율'] = total.apply(lambda x : x['상가수']/(x['아파트수']+x['상가수']),axis=1)\n",
    "test = pd.merge(test,total[['단지코드','상가비율']],on='단지코드',how='left')"
   ]
  },
  {
   "cell_type": "markdown",
   "metadata": {},
   "source": [
    "### 2) 세대당가능주차면수"
   ]
  },
  {
   "cell_type": "code",
   "execution_count": 6,
   "metadata": {},
   "outputs": [],
   "source": [
    "train['세대당_가능주차면수'] = train.apply(lambda x : x['단지내주차면수']/x['총세대수'],axis=1)\n",
    "test['세대당_가능주차면수'] = test.apply(lambda x : x['단지내주차면수']/x['총세대수'],axis=1)"
   ]
  },
  {
   "cell_type": "markdown",
   "metadata": {},
   "source": [
    "### 3) 공가비율"
   ]
  },
  {
   "cell_type": "code",
   "execution_count": 7,
   "metadata": {},
   "outputs": [],
   "source": [
    "train['공가비율'] = train.apply(lambda x : x['공가수']/x['총세대수'],axis=1)\n",
    "test['공가비율'] = test.apply(lambda x : x['공가수']/x['총세대수'],axis=1)"
   ]
  },
  {
   "cell_type": "markdown",
   "metadata": {},
   "source": [
    "### 4) 대형전용면적"
   ]
  },
  {
   "cell_type": "code",
   "execution_count": 8,
   "metadata": {},
   "outputs": [],
   "source": [
    "level = 85"
   ]
  },
  {
   "cell_type": "code",
   "execution_count": 9,
   "metadata": {},
   "outputs": [],
   "source": [
    "train['대형전용면적'] = train['전용면적'].apply(lambda x : 1 if x>level else 0)\n",
    "test['대형전용면적'] = test['전용면적'].apply(lambda x : 1 if x>level else 0)"
   ]
  },
  {
   "cell_type": "markdown",
   "metadata": {},
   "source": [
    "### 5) 공급유형\n",
    "- 공공임대 5년/10년 $\\rightarrow$ 공공임대(단기)"
   ]
  },
  {
   "cell_type": "code",
   "execution_count": 10,
   "metadata": {},
   "outputs": [],
   "source": [
    "train.loc[train.공급유형.isin(['공공임대(5년)', '공공임대(10년)']), '공급유형'] = '공공임대(단기)'\n",
    "test.loc[test.공급유형.isin(['공공임대(5년)', '공공임대(10년)']), '공급유형'] = '공공임대(단기)'"
   ]
  },
  {
   "cell_type": "markdown",
   "metadata": {},
   "source": [
    "- 1차원으로 합치기"
   ]
  },
  {
   "cell_type": "code",
   "execution_count": 11,
   "metadata": {},
   "outputs": [],
   "source": [
    "not_unique = ['공급유형','전용면적','임대건물구분','전용면적별세대수','대형전용면적','임대보증금','임대료','자격유형']"
   ]
  },
  {
   "cell_type": "code",
   "execution_count": 12,
   "metadata": {},
   "outputs": [],
   "source": [
    "train_one = train.drop(not_unique,axis=1).drop_duplicates().reset_index(drop=True)\n",
    "test_one = test.drop(not_unique,axis=1).drop_duplicates().reset_index(drop=True)"
   ]
  },
  {
   "cell_type": "markdown",
   "metadata": {},
   "source": [
    "- 전용면적별세대수 채우기"
   ]
  },
  {
   "cell_type": "code",
   "execution_count": 13,
   "metadata": {},
   "outputs": [],
   "source": [
    "for i in train['공급유형'].unique():\n",
    "    train_one[i] = 0\n",
    "    test_one[i] = 0"
   ]
  },
  {
   "cell_type": "code",
   "execution_count": 14,
   "metadata": {},
   "outputs": [],
   "source": [
    "sample = pd.DataFrame(train.groupby(['단지코드','공급유형']).sum()['전용면적별세대수']).reset_index()\n",
    "for i in sample.index:\n",
    "    code = sample.loc[i,'단지코드']\n",
    "    col = sample.loc[i,'공급유형']\n",
    "    val = sample.loc[i,'전용면적별세대수']  # 전용면적별세대수\n",
    "    ind = train_one[train_one['단지코드']==code].index\n",
    "    train_one.loc[ind,col] = val"
   ]
  },
  {
   "cell_type": "code",
   "execution_count": 15,
   "metadata": {},
   "outputs": [],
   "source": [
    "sample = pd.DataFrame(test.groupby(['단지코드','공급유형']).sum()['전용면적별세대수']).reset_index()\n",
    "for i in sample.index:\n",
    "    code = sample.loc[i,'단지코드']\n",
    "    col = sample.loc[i,'공급유형']\n",
    "    val = sample.loc[i,'전용면적별세대수']  # 전용면적별세대수\n",
    "    ind = test_one[test_one['단지코드']==code].index\n",
    "    test_one.loc[ind,col] = val"
   ]
  },
  {
   "cell_type": "markdown",
   "metadata": {},
   "source": [
    "### 6) 임대료 임대보증금 : 평균"
   ]
  },
  {
   "cell_type": "code",
   "execution_count": 16,
   "metadata": {},
   "outputs": [],
   "source": [
    "sample = train.groupby('단지코드').mean()[['임대료','임대보증금']].reset_index()\n",
    "train_one=pd.merge(train_one, sample, on=\"단지코드\", how=\"left\")"
   ]
  },
  {
   "cell_type": "code",
   "execution_count": 17,
   "metadata": {},
   "outputs": [],
   "source": [
    "sample = test.groupby('단지코드').mean()[['임대료','임대보증금']].reset_index()\n",
    "test_one=pd.merge(test_one, sample, on=\"단지코드\", how=\"left\")"
   ]
  },
  {
   "cell_type": "markdown",
   "metadata": {},
   "source": [
    "### 7) 대형전용면적 총개수"
   ]
  },
  {
   "cell_type": "code",
   "execution_count": 18,
   "metadata": {},
   "outputs": [],
   "source": [
    "sample = pd.DataFrame(train.groupby('단지코드')['대형전용면적'].sum()).reset_index()\n",
    "train_one = pd.merge(train_one, sample, on=\"단지코드\", how=\"left\")"
   ]
  },
  {
   "cell_type": "code",
   "execution_count": 19,
   "metadata": {},
   "outputs": [],
   "source": [
    "sample = pd.DataFrame(test.groupby('단지코드')['대형전용면적'].sum()).reset_index()\n",
    "test_one = pd.merge(test_one, sample, on=\"단지코드\", how=\"left\")"
   ]
  },
  {
   "cell_type": "markdown",
   "metadata": {},
   "source": [
    "### 8) 변수제거"
   ]
  },
  {
   "cell_type": "code",
   "execution_count": 20,
   "metadata": {},
   "outputs": [],
   "source": [
    "col = ['단지명','도로명주소','subway_name','임대상가']"
   ]
  },
  {
   "cell_type": "code",
   "execution_count": 21,
   "metadata": {},
   "outputs": [],
   "source": [
    "train_one = train_one.drop(col,axis=1)\n",
    "test_one = test_one.drop(col,axis=1)"
   ]
  },
  {
   "cell_type": "markdown",
   "metadata": {},
   "source": [
    "## 2. 데이터 나누기: 단지내주차면수 987 기준"
   ]
  },
  {
   "cell_type": "code",
   "execution_count": 22,
   "metadata": {},
   "outputs": [],
   "source": [
    "train_up = train_one[train_one['단지내주차면수']>=987].reset_index(drop=True)\n",
    "train_down = train_one[train_one['단지내주차면수']<987].reset_index(drop=True)"
   ]
  },
  {
   "cell_type": "code",
   "execution_count": 23,
   "metadata": {},
   "outputs": [],
   "source": [
    "test_up = test_one[test_one['단지내주차면수']>=987].reset_index(drop=True)\n",
    "test_down = test_one[test_one['단지내주차면수']<987].reset_index(drop=True)"
   ]
  },
  {
   "cell_type": "markdown",
   "metadata": {},
   "source": [
    "### 1) train/test up : area 변수 추가(Baseline추가 MSE:96)"
   ]
  },
  {
   "cell_type": "code",
   "execution_count": 24,
   "metadata": {},
   "outputs": [],
   "source": [
    "tmp = train[train['단지내주차면수']>=987].reset_index(drop=True)\n",
    "tmp['등록차량수-총세대수'] = tmp.apply(lambda x : x['등록차량수']-x['총세대수'],axis=1)\n",
    "tmp['cluster'] = tmp.apply(lambda x : 1 if x['등록차량수-총세대수']>0 else 0 ,axis=1)"
   ]
  },
  {
   "cell_type": "code",
   "execution_count": 25,
   "metadata": {},
   "outputs": [
    {
     "data": {
      "text/plain": [
       "<AxesSubplot:xlabel='등록차량수-총세대수', ylabel='Density'>"
      ]
     },
     "execution_count": 25,
     "metadata": {},
     "output_type": "execute_result"
    },
    {
     "data": {
      "image/png": "[encoded data removed]",
      "text/plain": [
       "<Figure size 2160x360 with 1 Axes>"
      ]
     },
     "metadata": {
      "needs_background": "light"
     },
     "output_type": "display_data"
    }
   ],
   "source": [
    "fig, ax = plt.subplots(figsize=(30,5))\n",
    "sns.kdeplot(data=tmp,x='등록차량수-총세대수')"
   ]
  },
  {
   "cell_type": "code",
   "execution_count": 26,
   "metadata": {},
   "outputs": [
    {
     "data": {
      "text/plain": [
       "<AxesSubplot:xlabel='지역', ylabel='count'>"
      ]
     },
     "execution_count": 26,
     "metadata": {},
     "output_type": "execute_result"
    },
    {
     "data": {
      "image/png": "[encoded data removed]",
      "text/plain": [
       "<Figure size 2160x360 with 1 Axes>"
      ]
     },
     "metadata": {
      "needs_background": "light"
     },
     "output_type": "display_data"
    },
    {
     "data": {
      "image/png": "[encoded data removed]",
      "text/plain": [
       "<Figure size 2160x360 with 1 Axes>"
      ]
     },
     "metadata": {
      "needs_background": "light"
     },
     "output_type": "display_data"
    }
   ],
   "source": [
    "tmp = tmp[(tmp['등록차량수-총세대수']>200)|(tmp['등록차량수-총세대수']<-200)]\n",
    "fig, ax = plt.subplots(figsize=(30,5))\n",
    "sns.countplot(data=tmp,x='공급유형',hue='cluster')\n",
    "\n",
    "fig, ax = plt.subplots(figsize=(30,5))\n",
    "sns.countplot(data=tmp,x='지역',hue='cluster')"
   ]
  },
  {
   "cell_type": "code",
   "execution_count": 27,
   "metadata": {},
   "outputs": [],
   "source": [
    "def areafunc(x):\n",
    "    if x in ['제주특별자치도','경상남도','부산광역시']:\n",
    "        return 0\n",
    "    elif x in ['광주광역시','세종특별자치시','경상북도','전라북도','서울특별시']:\n",
    "        return 1\n",
    "    elif x in ['대구광역시']:\n",
    "        return 2\n",
    "    else: \n",
    "        return 3"
   ]
  },
  {
   "cell_type": "code",
   "execution_count": 28,
   "metadata": {},
   "outputs": [],
   "source": [
    "train_up['지역'] = train_up['지역'].apply(lambda x : areafunc(x))\n",
    "test_up['지역'] = test_up['지역'].apply(lambda x : areafunc(x))"
   ]
  },
  {
   "cell_type": "code",
   "execution_count": 29,
   "metadata": {},
   "outputs": [],
   "source": [
    "train_up = train_up.join(pd.get_dummies(train_up['지역'],prefix='area')).iloc[:,:-1]\n",
    "test_up = test_up.join(pd.get_dummies(test_up['지역'],prefix='area')).iloc[:,:-1]"
   ]
  },
  {
   "cell_type": "markdown",
   "metadata": {},
   "source": [
    "## 3. 모델링"
   ]
  },
  {
   "cell_type": "code",
   "execution_count": 30,
   "metadata": {},
   "outputs": [],
   "source": [
    "from sklearn.model_selection import train_test_split\n",
    "from sklearn.model_selection import cross_val_score, KFold, RepeatedKFold\n",
    "from sklearn.metrics import mean_absolute_error\n",
    "from catboost import CatBoostRegressor"
   ]
  },
  {
   "cell_type": "code",
   "execution_count": 31,
   "metadata": {},
   "outputs": [],
   "source": [
    "def fit(X_train, X_test, y_train, y_test, model):\n",
    "    try:\n",
    "        model.fit(X_train, y_train, verbose=False)\n",
    "    except:\n",
    "        model.fit(X_train, y_train)\n",
    "    tst_pred = model.predict(X_test)\n",
    "    error = mean_absolute_error(y_test,tst_pred)\n",
    "    return model, tst_pred, error\n",
    "\n",
    "\n",
    "def fit_models(X, y, models, cv=False):\n",
    "    X = np.array(X.reset_index(drop=True))\n",
    "    y = np.array(y.reset_index(drop=True))\n",
    "    best_error = 10000\n",
    "    best_tst_pred = 0\n",
    "    best_model = \"\"\n",
    "    if cv==False:\n",
    "        X_train, X_test, y_train, y_test = train_test_split(X, y, test_size=0.3, shuffle=True,random_state=2021)\n",
    "        for m in models:\n",
    "            model, tst_pred, error = fit(X_train, X_test, y_train, y_test, m)\n",
    "            if best_error > error:\n",
    "                best_error = error\n",
    "                best_tst_pred = tst_pred\n",
    "                best_model = model\n",
    "    else:\n",
    "        best_tst_idx = []\n",
    "        kf = KFold(n_splits = 5, shuffle=True,random_state = 2021)\n",
    "        for m in models:\n",
    "            mae = []\n",
    "            pred= []\n",
    "            tst_idx = []\n",
    "            for train_index, test_index in kf.split(X, y):\n",
    "                X_train, X_test = X[train_index], X[test_index]\n",
    "                y_train, y_test = y[train_index], y[test_index]\n",
    "                model, tst_pred, error = fit(X_train, X_test, y_train, y_test, m)\n",
    "                mae.append(error)\n",
    "                pred.append(tst_pred.tolist())\n",
    "                tst_idx.append(test_index.tolist())\n",
    "            cv_error = np.mean(mae)\n",
    "            if best_error > cv_error:\n",
    "                best_error = cv_error\n",
    "                best_tst_pred = pred\n",
    "                best_tst_idx = sum(tst_idx, [])\n",
    "                best_model = model\n",
    "    best_tst_pred = sum(best_tst_pred,[])\n",
    "    best_tst_pred = dict(zip(best_tst_idx,best_tst_pred))\n",
    "    try:\n",
    "        best_model = best_model.fit(np.concatenate((X_train, X_test),axis=0), \n",
    "                                                np.concatenate((y_train, y_test),axis=0), \n",
    "                                                verbose=False)\n",
    "    except:\n",
    "        best_model = best_model.fit(np.concatenate((X_train, X_test),axis=0), \n",
    "                                        np.concatenate((y_train, y_test),axis=0))\n",
    "    return best_model, best_tst_pred, best_error"
   ]
  },
  {
   "cell_type": "markdown",
   "metadata": {},
   "source": [
    "### 1) train/test down"
   ]
  },
  {
   "cell_type": "code",
   "execution_count": 32,
   "metadata": {},
   "outputs": [],
   "source": [
    "X = train_down.drop(columns=['단지코드','등록차량수'],axis=1)\n",
    "X = pd.get_dummies(X, drop_first=True) \n",
    "y = train_down['등록차량수']"
   ]
  },
  {
   "cell_type": "code",
   "execution_count": 33,
   "metadata": {},
   "outputs": [
    {
     "name": "stdout",
     "output_type": "stream",
     "text": [
      "MAE :  105.37534703159452\n"
     ]
    }
   ],
   "source": [
    "models = [CatBoostRegressor(random_state=2021, loss_function = 'MAE')]\n",
    "\n",
    "model_down,pred_down,error_down = fit_models(X, y, models, cv=True)\n",
    "print('MAE : ',error_down)"
   ]
  },
  {
   "cell_type": "code",
   "execution_count": 34,
   "metadata": {},
   "outputs": [
    {
     "data": {
      "text/plain": [
       "<AxesSubplot:>"
      ]
     },
     "execution_count": 34,
     "metadata": {},
     "output_type": "execute_result"
    },
    {
     "data": {
      "image/png": "[encoded data removed]",
      "text/plain": [
       "<Figure size 576x720 with 1 Axes>"
      ]
     },
     "metadata": {
      "needs_background": "light"
     },
     "output_type": "display_data"
    }
   ],
   "source": [
    "plt.figure(figsize=(8,10))\n",
    "sns.barplot(y = X.columns[np.argsort(model_down.feature_importances_)], x = list(model_down.feature_importances_[np.argsort(model_down.feature_importances_)]))"
   ]
  },
  {
   "cell_type": "markdown",
   "metadata": {},
   "source": [
    "### 2) train/test up"
   ]
  },
  {
   "cell_type": "code",
   "execution_count": 35,
   "metadata": {},
   "outputs": [
    {
     "name": "stdout",
     "output_type": "stream",
     "text": [
      "MAE :  295.9342977834218\n"
     ]
    }
   ],
   "source": [
    "X = train_up.drop(columns=['단지코드','등록차량수','지역','상가비율'],axis=1)\n",
    "X = X[['총세대수', '공가수', '지하철역', '버스정류장', '단지내주차면수', '연면적', '위도', '경도',\n",
    "       'subway_dist', '환승역 수', '총인구수', '세대당_인구', '남/여비율', '남/여_0~19세',\n",
    "       '남/여_20~39세', '남/여_40~69세', '남/여_70세이상', '0~19세_비율', '20~39세_비율',\n",
    "       '40~69세_비율', '70세이상_비율', '세대당_가능주차면수', '공가비율', '국민임대', '영구임대',\n",
    "       '공공임대(단기)', '장기전세', '행복주택', '공공임대(분납)', '공공분양', '공공임대(50년)', '임대료',\n",
    "       '임대보증금', '대형전용면적', 'area_0', 'area_1', 'area_2']]\n",
    "y = train_up['등록차량수']\n",
    "\n",
    "models = [CatBoostRegressor(random_state=2021, loss_function = 'MAE')]\n",
    "\n",
    "model_up,pred_up,error_up = fit_models(X, y, models, cv=True)\n",
    "print('MAE : ',error_up)"
   ]
  },
  {
   "cell_type": "code",
   "execution_count": 36,
   "metadata": {},
   "outputs": [
    {
     "data": {
      "text/plain": [
       "<matplotlib.axes._subplots.AxesSubplot at 0x1f48109a0d0>"
      ]
     },
     "execution_count": 36,
     "metadata": {},
     "output_type": "execute_result"
    },
    {
     "data": {
      "image/png": "[encoded data removed]",
      "text/plain": [
       "<Figure size 576x720 with 1 Axes>"
      ]
     },
     "metadata": {
      "needs_background": "light"
     },
     "output_type": "display_data"
    }
   ],
   "source": [
    "plt.figure(figsize=(8,10))\n",
    "sns.barplot(y = X.columns[np.argsort(model_up.feature_importances_)], x = list(model_up.feature_importances_[np.argsort(model_up.feature_importances_)]))"
   ]
  },
  {
   "cell_type": "markdown",
   "metadata": {},
   "source": [
    "## 4. Final prediction"
   ]
  },
  {
   "cell_type": "code",
   "execution_count": 35,
   "metadata": {},
   "outputs": [],
   "source": [
    "col = ['총세대수', '공가수', '지하철역', '버스정류장', '단지내주차면수', '연면적', '위도', '경도',\n",
    "       'subway_dist', '환승역 수', '총인구수', '세대당_인구', '남/여비율', '남/여_0~19세',\n",
    "       '남/여_20~39세', '남/여_40~69세', '남/여_70세이상', '0~19세_비율', '20~39세_비율',\n",
    "       '40~69세_비율', '70세이상_비율', '상가비율', '세대당_가능주차면수', '공가비율', '국민임대', '영구임대',\n",
    "       '공공임대(단기)', '장기전세', '행복주택', '공공임대(분납)', '공공분양', '공공임대(50년)', '임대료',\n",
    "       '임대보증금', '대형전용면적', '지역_경기도', '지역_경상남도', '지역_경상북도', '지역_광주광역시',\n",
    "       '지역_대구광역시', '지역_대전광역시', '지역_부산광역시', '지역_서울특별시', '지역_세종특별자치시',\n",
    "       '지역_울산광역시', '지역_전라남도', '지역_전라북도', '지역_제주특별자치도', '지역_충청남도', '지역_충청북도']"
   ]
  },
  {
   "cell_type": "code",
   "execution_count": 36,
   "metadata": {},
   "outputs": [],
   "source": [
    "X_train = train_down.drop(columns=['단지코드','등록차량수'],axis=1)\n",
    "X_train = pd.get_dummies(X_train, drop_first=True) \n",
    "X_train['지역_세종특별자치시'] = 0\n",
    "X_train = X_train[col]\n",
    "y_train = train_down['등록차량수']\n",
    "X_test = test_down.drop(columns=['단지코드'],axis=1)\n",
    "X_test = pd.get_dummies(X_test, drop_first=True) \n",
    "X_test['지역_서울특별시'] = 0\n",
    "X_test = X_test[col]"
   ]
  },
  {
   "cell_type": "code",
   "execution_count": 37,
   "metadata": {},
   "outputs": [],
   "source": [
    "cb_down = CatBoostRegressor(random_state=2021,verbose=False).fit(X_train,y_train)\n",
    "pred_down = cb_down.predict(X_test)"
   ]
  },
  {
   "cell_type": "code",
   "execution_count": 38,
   "metadata": {},
   "outputs": [],
   "source": [
    "from sklearn.model_selection import train_test_split, StratifiedKFold"
   ]
  },
  {
   "cell_type": "code",
   "execution_count": 39,
   "metadata": {},
   "outputs": [],
   "source": [
    "col = ['총세대수', '공가수', '지하철역', '버스정류장', '단지내주차면수', '연면적', '위도', '경도',\n",
    "       'subway_dist', '환승역 수', '총인구수', '세대당_인구', '남/여비율', '남/여_0~19세',\n",
    "       '남/여_20~39세', '남/여_40~69세', '남/여_70세이상', '0~19세_비율', '20~39세_비율',\n",
    "       '40~69세_비율', '70세이상_비율', '세대당_가능주차면수', '공가비율', '국민임대', '영구임대',\n",
    "       '공공임대(단기)', '장기전세', '행복주택', '공공임대(분납)', '공공분양', '공공임대(50년)', '임대료',\n",
    "       '임대보증금', '대형전용면적', 'area_0', 'area_1', 'area_2']"
   ]
  },
  {
   "cell_type": "code",
   "execution_count": 61,
   "metadata": {},
   "outputs": [],
   "source": [
    "X_train = train_up.drop(columns=['단지코드','등록차량수','지역'],axis=1)\n",
    "X_train = X_train[col]\n",
    "y_train = train_up['등록차량수']\n",
    "X_test = test_up.drop(columns=['단지코드','지역'],axis=1)\n",
    "X_test = X_test[col]\n",
    "\n",
    "# cb_up = CatBoostRegressor(random_state=2021,verbose=False,loss_function='MAE').fit(X_train,y_train)\n",
    "# pred_up = cb_up.predict(X_test)"
   ]
  },
  {
   "cell_type": "code",
   "execution_count": 62,
   "metadata": {},
   "outputs": [
    {
     "data": {
      "text/html": [
       "<div>\n",
       "<style scoped>\n",
       "    .dataframe tbody tr th:only-of-type {\n",
       "        vertical-align: middle;\n",
       "    }\n",
       "\n",
       "    .dataframe tbody tr th {\n",
       "        vertical-align: top;\n",
       "    }\n",
       "\n",
       "    .dataframe thead th {\n",
       "        text-align: right;\n",
       "    }\n",
       "</style>\n",
       "<table border=\"1\" class=\"dataframe\">\n",
       "  <thead>\n",
       "    <tr style=\"text-align: right;\">\n",
       "      <th></th>\n",
       "      <th>총세대수</th>\n",
       "      <th>공가수</th>\n",
       "      <th>지하철역</th>\n",
       "      <th>버스정류장</th>\n",
       "      <th>단지내주차면수</th>\n",
       "      <th>연면적</th>\n",
       "      <th>위도</th>\n",
       "      <th>경도</th>\n",
       "      <th>subway_dist</th>\n",
       "      <th>환승역 수</th>\n",
       "      <th>...</th>\n",
       "      <th>행복주택</th>\n",
       "      <th>공공임대(분납)</th>\n",
       "      <th>공공분양</th>\n",
       "      <th>공공임대(50년)</th>\n",
       "      <th>임대료</th>\n",
       "      <th>임대보증금</th>\n",
       "      <th>대형전용면적</th>\n",
       "      <th>area_0</th>\n",
       "      <th>area_1</th>\n",
       "      <th>area_2</th>\n",
       "    </tr>\n",
       "  </thead>\n",
       "  <tbody>\n",
       "    <tr>\n",
       "      <th>0</th>\n",
       "      <td>1354</td>\n",
       "      <td>9</td>\n",
       "      <td>0.0</td>\n",
       "      <td>3</td>\n",
       "      <td>1216</td>\n",
       "      <td>3773.770000</td>\n",
       "      <td>126.887303</td>\n",
       "      <td>37.434649</td>\n",
       "      <td>0.015025</td>\n",
       "      <td>1</td>\n",
       "      <td>...</td>\n",
       "      <td>0</td>\n",
       "      <td>0</td>\n",
       "      <td>0</td>\n",
       "      <td>0</td>\n",
       "      <td>245516.666667</td>\n",
       "      <td>3.412500e+07</td>\n",
       "      <td>0</td>\n",
       "      <td>0</td>\n",
       "      <td>0</td>\n",
       "      <td>0</td>\n",
       "    </tr>\n",
       "    <tr>\n",
       "      <th>1</th>\n",
       "      <td>1297</td>\n",
       "      <td>11</td>\n",
       "      <td>0.0</td>\n",
       "      <td>2</td>\n",
       "      <td>1112</td>\n",
       "      <td>361.789000</td>\n",
       "      <td>127.118208</td>\n",
       "      <td>37.400897</td>\n",
       "      <td>0.009307</td>\n",
       "      <td>2</td>\n",
       "      <td>...</td>\n",
       "      <td>0</td>\n",
       "      <td>0</td>\n",
       "      <td>0</td>\n",
       "      <td>0</td>\n",
       "      <td>292880.000000</td>\n",
       "      <td>4.133450e+07</td>\n",
       "      <td>0</td>\n",
       "      <td>0</td>\n",
       "      <td>0</td>\n",
       "      <td>0</td>\n",
       "    </tr>\n",
       "    <tr>\n",
       "      <th>2</th>\n",
       "      <td>1974</td>\n",
       "      <td>15</td>\n",
       "      <td>0.0</td>\n",
       "      <td>6</td>\n",
       "      <td>1696</td>\n",
       "      <td>14.159000</td>\n",
       "      <td>127.114461</td>\n",
       "      <td>37.390596</td>\n",
       "      <td>0.005304</td>\n",
       "      <td>2</td>\n",
       "      <td>...</td>\n",
       "      <td>0</td>\n",
       "      <td>0</td>\n",
       "      <td>0</td>\n",
       "      <td>0</td>\n",
       "      <td>293214.545455</td>\n",
       "      <td>4.269218e+07</td>\n",
       "      <td>0</td>\n",
       "      <td>0</td>\n",
       "      <td>0</td>\n",
       "      <td>0</td>\n",
       "    </tr>\n",
       "    <tr>\n",
       "      <th>3</th>\n",
       "      <td>1349</td>\n",
       "      <td>25</td>\n",
       "      <td>0.0</td>\n",
       "      <td>2</td>\n",
       "      <td>1098</td>\n",
       "      <td>5712.574000</td>\n",
       "      <td>126.723198</td>\n",
       "      <td>35.962854</td>\n",
       "      <td>0.538834</td>\n",
       "      <td>2</td>\n",
       "      <td>...</td>\n",
       "      <td>0</td>\n",
       "      <td>0</td>\n",
       "      <td>0</td>\n",
       "      <td>0</td>\n",
       "      <td>138505.000000</td>\n",
       "      <td>2.075800e+07</td>\n",
       "      <td>0</td>\n",
       "      <td>0</td>\n",
       "      <td>1</td>\n",
       "      <td>0</td>\n",
       "    </tr>\n",
       "    <tr>\n",
       "      <th>4</th>\n",
       "      <td>1301</td>\n",
       "      <td>33</td>\n",
       "      <td>0.0</td>\n",
       "      <td>2</td>\n",
       "      <td>1101</td>\n",
       "      <td>6963.333000</td>\n",
       "      <td>129.164340</td>\n",
       "      <td>35.332524</td>\n",
       "      <td>0.083401</td>\n",
       "      <td>1</td>\n",
       "      <td>...</td>\n",
       "      <td>0</td>\n",
       "      <td>0</td>\n",
       "      <td>0</td>\n",
       "      <td>0</td>\n",
       "      <td>185810.000000</td>\n",
       "      <td>3.096867e+07</td>\n",
       "      <td>0</td>\n",
       "      <td>1</td>\n",
       "      <td>0</td>\n",
       "      <td>0</td>\n",
       "    </tr>\n",
       "    <tr>\n",
       "      <th>5</th>\n",
       "      <td>1442</td>\n",
       "      <td>23</td>\n",
       "      <td>0.0</td>\n",
       "      <td>6</td>\n",
       "      <td>1225</td>\n",
       "      <td>28.000000</td>\n",
       "      <td>126.858872</td>\n",
       "      <td>35.171168</td>\n",
       "      <td>0.022289</td>\n",
       "      <td>1</td>\n",
       "      <td>...</td>\n",
       "      <td>0</td>\n",
       "      <td>0</td>\n",
       "      <td>0</td>\n",
       "      <td>0</td>\n",
       "      <td>126568.000000</td>\n",
       "      <td>2.122280e+07</td>\n",
       "      <td>0</td>\n",
       "      <td>0</td>\n",
       "      <td>1</td>\n",
       "      <td>0</td>\n",
       "    </tr>\n",
       "    <tr>\n",
       "      <th>6</th>\n",
       "      <td>1138</td>\n",
       "      <td>25</td>\n",
       "      <td>0.0</td>\n",
       "      <td>5</td>\n",
       "      <td>1141</td>\n",
       "      <td>6054.620000</td>\n",
       "      <td>127.209118</td>\n",
       "      <td>37.725565</td>\n",
       "      <td>0.080513</td>\n",
       "      <td>1</td>\n",
       "      <td>...</td>\n",
       "      <td>0</td>\n",
       "      <td>0</td>\n",
       "      <td>0</td>\n",
       "      <td>0</td>\n",
       "      <td>183177.500000</td>\n",
       "      <td>2.195700e+07</td>\n",
       "      <td>0</td>\n",
       "      <td>0</td>\n",
       "      <td>0</td>\n",
       "      <td>0</td>\n",
       "    </tr>\n",
       "    <tr>\n",
       "      <th>7</th>\n",
       "      <td>1008</td>\n",
       "      <td>15</td>\n",
       "      <td>1.0</td>\n",
       "      <td>4</td>\n",
       "      <td>1035</td>\n",
       "      <td>1222.296000</td>\n",
       "      <td>129.031160</td>\n",
       "      <td>35.338206</td>\n",
       "      <td>0.004747</td>\n",
       "      <td>1</td>\n",
       "      <td>...</td>\n",
       "      <td>0</td>\n",
       "      <td>0</td>\n",
       "      <td>0</td>\n",
       "      <td>0</td>\n",
       "      <td>228560.000000</td>\n",
       "      <td>1.729875e+07</td>\n",
       "      <td>0</td>\n",
       "      <td>1</td>\n",
       "      <td>0</td>\n",
       "      <td>0</td>\n",
       "    </tr>\n",
       "    <tr>\n",
       "      <th>8</th>\n",
       "      <td>981</td>\n",
       "      <td>9</td>\n",
       "      <td>0.0</td>\n",
       "      <td>2</td>\n",
       "      <td>989</td>\n",
       "      <td>4020.626000</td>\n",
       "      <td>127.166664</td>\n",
       "      <td>37.282454</td>\n",
       "      <td>0.019327</td>\n",
       "      <td>2</td>\n",
       "      <td>...</td>\n",
       "      <td>0</td>\n",
       "      <td>0</td>\n",
       "      <td>0</td>\n",
       "      <td>0</td>\n",
       "      <td>229185.000000</td>\n",
       "      <td>2.164733e+07</td>\n",
       "      <td>0</td>\n",
       "      <td>0</td>\n",
       "      <td>0</td>\n",
       "      <td>0</td>\n",
       "    </tr>\n",
       "    <tr>\n",
       "      <th>9</th>\n",
       "      <td>1267</td>\n",
       "      <td>26</td>\n",
       "      <td>0.0</td>\n",
       "      <td>12</td>\n",
       "      <td>1280</td>\n",
       "      <td>9058.122000</td>\n",
       "      <td>128.819509</td>\n",
       "      <td>35.167982</td>\n",
       "      <td>0.080723</td>\n",
       "      <td>1</td>\n",
       "      <td>...</td>\n",
       "      <td>0</td>\n",
       "      <td>0</td>\n",
       "      <td>0</td>\n",
       "      <td>0</td>\n",
       "      <td>172280.000000</td>\n",
       "      <td>2.871360e+07</td>\n",
       "      <td>0</td>\n",
       "      <td>1</td>\n",
       "      <td>0</td>\n",
       "      <td>0</td>\n",
       "    </tr>\n",
       "    <tr>\n",
       "      <th>10</th>\n",
       "      <td>1175</td>\n",
       "      <td>14</td>\n",
       "      <td>0.0</td>\n",
       "      <td>4</td>\n",
       "      <td>1024</td>\n",
       "      <td>9.000000</td>\n",
       "      <td>127.741763</td>\n",
       "      <td>37.848425</td>\n",
       "      <td>0.023796</td>\n",
       "      <td>1</td>\n",
       "      <td>...</td>\n",
       "      <td>0</td>\n",
       "      <td>0</td>\n",
       "      <td>0</td>\n",
       "      <td>0</td>\n",
       "      <td>124214.000000</td>\n",
       "      <td>1.326540e+07</td>\n",
       "      <td>0</td>\n",
       "      <td>0</td>\n",
       "      <td>0</td>\n",
       "      <td>0</td>\n",
       "    </tr>\n",
       "    <tr>\n",
       "      <th>11</th>\n",
       "      <td>1414</td>\n",
       "      <td>20</td>\n",
       "      <td>0.0</td>\n",
       "      <td>4</td>\n",
       "      <td>1307</td>\n",
       "      <td>4444.121102</td>\n",
       "      <td>126.937377</td>\n",
       "      <td>35.953784</td>\n",
       "      <td>0.369100</td>\n",
       "      <td>2</td>\n",
       "      <td>...</td>\n",
       "      <td>0</td>\n",
       "      <td>0</td>\n",
       "      <td>0</td>\n",
       "      <td>0</td>\n",
       "      <td>120148.888889</td>\n",
       "      <td>1.775611e+07</td>\n",
       "      <td>0</td>\n",
       "      <td>0</td>\n",
       "      <td>1</td>\n",
       "      <td>0</td>\n",
       "    </tr>\n",
       "    <tr>\n",
       "      <th>12</th>\n",
       "      <td>1385</td>\n",
       "      <td>25</td>\n",
       "      <td>0.0</td>\n",
       "      <td>14</td>\n",
       "      <td>1139</td>\n",
       "      <td>4715.370000</td>\n",
       "      <td>129.145822</td>\n",
       "      <td>35.378381</td>\n",
       "      <td>0.107321</td>\n",
       "      <td>1</td>\n",
       "      <td>...</td>\n",
       "      <td>0</td>\n",
       "      <td>0</td>\n",
       "      <td>0</td>\n",
       "      <td>0</td>\n",
       "      <td>140388.333333</td>\n",
       "      <td>1.715567e+07</td>\n",
       "      <td>0</td>\n",
       "      <td>1</td>\n",
       "      <td>0</td>\n",
       "      <td>0</td>\n",
       "    </tr>\n",
       "    <tr>\n",
       "      <th>13</th>\n",
       "      <td>1147</td>\n",
       "      <td>17</td>\n",
       "      <td>0.0</td>\n",
       "      <td>1</td>\n",
       "      <td>1222</td>\n",
       "      <td>5061.600000</td>\n",
       "      <td>126.779513</td>\n",
       "      <td>35.146391</td>\n",
       "      <td>0.014269</td>\n",
       "      <td>1</td>\n",
       "      <td>...</td>\n",
       "      <td>0</td>\n",
       "      <td>0</td>\n",
       "      <td>0</td>\n",
       "      <td>0</td>\n",
       "      <td>131302.727273</td>\n",
       "      <td>2.052455e+07</td>\n",
       "      <td>0</td>\n",
       "      <td>0</td>\n",
       "      <td>1</td>\n",
       "      <td>0</td>\n",
       "    </tr>\n",
       "    <tr>\n",
       "      <th>14</th>\n",
       "      <td>1331</td>\n",
       "      <td>17</td>\n",
       "      <td>1.0</td>\n",
       "      <td>6</td>\n",
       "      <td>1204</td>\n",
       "      <td>20.250000</td>\n",
       "      <td>127.116691</td>\n",
       "      <td>37.645357</td>\n",
       "      <td>0.010792</td>\n",
       "      <td>1</td>\n",
       "      <td>...</td>\n",
       "      <td>0</td>\n",
       "      <td>0</td>\n",
       "      <td>0</td>\n",
       "      <td>0</td>\n",
       "      <td>290009.411765</td>\n",
       "      <td>3.490641e+07</td>\n",
       "      <td>0</td>\n",
       "      <td>0</td>\n",
       "      <td>0</td>\n",
       "      <td>0</td>\n",
       "    </tr>\n",
       "    <tr>\n",
       "      <th>15</th>\n",
       "      <td>1191</td>\n",
       "      <td>33</td>\n",
       "      <td>0.0</td>\n",
       "      <td>15</td>\n",
       "      <td>1052</td>\n",
       "      <td>15.550000</td>\n",
       "      <td>127.097937</td>\n",
       "      <td>37.003065</td>\n",
       "      <td>0.017490</td>\n",
       "      <td>1</td>\n",
       "      <td>...</td>\n",
       "      <td>0</td>\n",
       "      <td>0</td>\n",
       "      <td>0</td>\n",
       "      <td>0</td>\n",
       "      <td>253575.000000</td>\n",
       "      <td>2.706900e+07</td>\n",
       "      <td>0</td>\n",
       "      <td>0</td>\n",
       "      <td>0</td>\n",
       "      <td>0</td>\n",
       "    </tr>\n",
       "    <tr>\n",
       "      <th>16</th>\n",
       "      <td>1390</td>\n",
       "      <td>36</td>\n",
       "      <td>0.0</td>\n",
       "      <td>2</td>\n",
       "      <td>1216</td>\n",
       "      <td>24779.120000</td>\n",
       "      <td>128.449987</td>\n",
       "      <td>35.690526</td>\n",
       "      <td>0.115134</td>\n",
       "      <td>1</td>\n",
       "      <td>...</td>\n",
       "      <td>0</td>\n",
       "      <td>0</td>\n",
       "      <td>0</td>\n",
       "      <td>0</td>\n",
       "      <td>199564.000000</td>\n",
       "      <td>1.399920e+07</td>\n",
       "      <td>0</td>\n",
       "      <td>0</td>\n",
       "      <td>0</td>\n",
       "      <td>1</td>\n",
       "    </tr>\n",
       "    <tr>\n",
       "      <th>17</th>\n",
       "      <td>1278</td>\n",
       "      <td>36</td>\n",
       "      <td>0.0</td>\n",
       "      <td>1</td>\n",
       "      <td>1014</td>\n",
       "      <td>4966.230000</td>\n",
       "      <td>127.545531</td>\n",
       "      <td>36.915738</td>\n",
       "      <td>0.349049</td>\n",
       "      <td>1</td>\n",
       "      <td>...</td>\n",
       "      <td>0</td>\n",
       "      <td>0</td>\n",
       "      <td>0</td>\n",
       "      <td>0</td>\n",
       "      <td>169885.000000</td>\n",
       "      <td>1.252600e+07</td>\n",
       "      <td>0</td>\n",
       "      <td>0</td>\n",
       "      <td>0</td>\n",
       "      <td>0</td>\n",
       "    </tr>\n",
       "    <tr>\n",
       "      <th>18</th>\n",
       "      <td>963</td>\n",
       "      <td>16</td>\n",
       "      <td>0.0</td>\n",
       "      <td>6</td>\n",
       "      <td>1161</td>\n",
       "      <td>4144.247014</td>\n",
       "      <td>127.258542</td>\n",
       "      <td>37.004264</td>\n",
       "      <td>0.158428</td>\n",
       "      <td>1</td>\n",
       "      <td>...</td>\n",
       "      <td>0</td>\n",
       "      <td>0</td>\n",
       "      <td>0</td>\n",
       "      <td>0</td>\n",
       "      <td>536000.000000</td>\n",
       "      <td>5.770000e+07</td>\n",
       "      <td>0</td>\n",
       "      <td>0</td>\n",
       "      <td>0</td>\n",
       "      <td>0</td>\n",
       "    </tr>\n",
       "  </tbody>\n",
       "</table>\n",
       "<p>19 rows × 37 columns</p>\n",
       "</div>"
      ],
      "text/plain": [
       "    총세대수  공가수  지하철역  버스정류장  단지내주차면수           연면적          위도         경도  \\\n",
       "0   1354    9   0.0      3     1216   3773.770000  126.887303  37.434649   \n",
       "1   1297   11   0.0      2     1112    361.789000  127.118208  37.400897   \n",
       "2   1974   15   0.0      6     1696     14.159000  127.114461  37.390596   \n",
       "3   1349   25   0.0      2     1098   5712.574000  126.723198  35.962854   \n",
       "4   1301   33   0.0      2     1101   6963.333000  129.164340  35.332524   \n",
       "5   1442   23   0.0      6     1225     28.000000  126.858872  35.171168   \n",
       "6   1138   25   0.0      5     1141   6054.620000  127.209118  37.725565   \n",
       "7   1008   15   1.0      4     1035   1222.296000  129.031160  35.338206   \n",
       "8    981    9   0.0      2      989   4020.626000  127.166664  37.282454   \n",
       "9   1267   26   0.0     12     1280   9058.122000  128.819509  35.167982   \n",
       "10  1175   14   0.0      4     1024      9.000000  127.741763  37.848425   \n",
       "11  1414   20   0.0      4     1307   4444.121102  126.937377  35.953784   \n",
       "12  1385   25   0.0     14     1139   4715.370000  129.145822  35.378381   \n",
       "13  1147   17   0.0      1     1222   5061.600000  126.779513  35.146391   \n",
       "14  1331   17   1.0      6     1204     20.250000  127.116691  37.645357   \n",
       "15  1191   33   0.0     15     1052     15.550000  127.097937  37.003065   \n",
       "16  1390   36   0.0      2     1216  24779.120000  128.449987  35.690526   \n",
       "17  1278   36   0.0      1     1014   4966.230000  127.545531  36.915738   \n",
       "18   963   16   0.0      6     1161   4144.247014  127.258542  37.004264   \n",
       "\n",
       "    subway_dist  환승역 수  ...  행복주택  공공임대(분납)  공공분양  공공임대(50년)            임대료  \\\n",
       "0      0.015025      1  ...     0         0     0          0  245516.666667   \n",
       "1      0.009307      2  ...     0         0     0          0  292880.000000   \n",
       "2      0.005304      2  ...     0         0     0          0  293214.545455   \n",
       "3      0.538834      2  ...     0         0     0          0  138505.000000   \n",
       "4      0.083401      1  ...     0         0     0          0  185810.000000   \n",
       "5      0.022289      1  ...     0         0     0          0  126568.000000   \n",
       "6      0.080513      1  ...     0         0     0          0  183177.500000   \n",
       "7      0.004747      1  ...     0         0     0          0  228560.000000   \n",
       "8      0.019327      2  ...     0         0     0          0  229185.000000   \n",
       "9      0.080723      1  ...     0         0     0          0  172280.000000   \n",
       "10     0.023796      1  ...     0         0     0          0  124214.000000   \n",
       "11     0.369100      2  ...     0         0     0          0  120148.888889   \n",
       "12     0.107321      1  ...     0         0     0          0  140388.333333   \n",
       "13     0.014269      1  ...     0         0     0          0  131302.727273   \n",
       "14     0.010792      1  ...     0         0     0          0  290009.411765   \n",
       "15     0.017490      1  ...     0         0     0          0  253575.000000   \n",
       "16     0.115134      1  ...     0         0     0          0  199564.000000   \n",
       "17     0.349049      1  ...     0         0     0          0  169885.000000   \n",
       "18     0.158428      1  ...     0         0     0          0  536000.000000   \n",
       "\n",
       "           임대보증금  대형전용면적  area_0  area_1  area_2  \n",
       "0   3.412500e+07       0       0       0       0  \n",
       "1   4.133450e+07       0       0       0       0  \n",
       "2   4.269218e+07       0       0       0       0  \n",
       "3   2.075800e+07       0       0       1       0  \n",
       "4   3.096867e+07       0       1       0       0  \n",
       "5   2.122280e+07       0       0       1       0  \n",
       "6   2.195700e+07       0       0       0       0  \n",
       "7   1.729875e+07       0       1       0       0  \n",
       "8   2.164733e+07       0       0       0       0  \n",
       "9   2.871360e+07       0       1       0       0  \n",
       "10  1.326540e+07       0       0       0       0  \n",
       "11  1.775611e+07       0       0       1       0  \n",
       "12  1.715567e+07       0       1       0       0  \n",
       "13  2.052455e+07       0       0       1       0  \n",
       "14  3.490641e+07       0       0       0       0  \n",
       "15  2.706900e+07       0       0       0       0  \n",
       "16  1.399920e+07       0       0       0       1  \n",
       "17  1.252600e+07       0       0       0       0  \n",
       "18  5.770000e+07       0       0       0       0  \n",
       "\n",
       "[19 rows x 37 columns]"
      ]
     },
     "execution_count": 62,
     "metadata": {},
     "output_type": "execute_result"
    }
   ],
   "source": [
    "X_test"
   ]
  },
  {
   "cell_type": "code",
   "execution_count": 63,
   "metadata": {},
   "outputs": [],
   "source": [
    "y_cat = pd.cut(y_train, 3, labels=range(3))\n",
    "skf = StratifiedKFold(3)\n",
    "\n",
    "preds = []\n",
    "for tr_id, val_id in skf.split(X_train, y_cat) : \n",
    "    X_tr = X_train.iloc[tr_id]\n",
    "    y_tr = y_train.iloc[tr_id]\n",
    "    X_tr_val = X_train.iloc[val_id]\n",
    "    y_tr_val = y_train.iloc[val_id]\n",
    "    \n",
    "    cb = CatBoostRegressor(random_state=2021).fit(X_tr, y_tr, verbose = 0)\n",
    "    cb.predict(X_tr)\n",
    "    pred = cb.predict(X_test)\n",
    "    preds.append(pred)\n",
    "pred_up = np.mean(preds, axis = 0)"
   ]
  },
  {
   "cell_type": "code",
   "execution_count": 64,
   "metadata": {},
   "outputs": [
    {
     "data": {
      "text/plain": [
       "array([1271.26471551, 1250.70728414, 1616.40260568, 1078.33260732,\n",
       "        908.15561502, 1348.46320916, 1078.12760939, 1058.39067809,\n",
       "       1237.8545434 , 1191.46739434, 1043.97403471, 1137.28548873,\n",
       "       1086.82844029, 1149.03134943, 1242.56355098, 1025.21180988,\n",
       "        989.21605499,  935.33765103, 1316.86434649])"
      ]
     },
     "execution_count": 64,
     "metadata": {},
     "output_type": "execute_result"
    }
   ],
   "source": [
    "pred_up"
   ]
  },
  {
   "cell_type": "code",
   "execution_count": 65,
   "metadata": {},
   "outputs": [],
   "source": [
    "def get_pred():\n",
    "    res_down = pd.DataFrame()\n",
    "    res_down['code'] = test_down['단지코드'].values\n",
    "    res_down['num'] = pred_down\n",
    "    res_up = pd.DataFrame()\n",
    "    res_up['code'] = test_up['단지코드'].values\n",
    "    res_up['num'] = pred_up \n",
    "    res = pd.concat([res_down,res_up],axis=0).reset_index(drop=True)\n",
    "    return res_down, res_up, res"
   ]
  },
  {
   "cell_type": "markdown",
   "metadata": {},
   "source": [
    "## 5. 기존 score와 비교 및 제출"
   ]
  },
  {
   "cell_type": "code",
   "execution_count": 67,
   "metadata": {},
   "outputs": [],
   "source": [
    "def submit():\n",
    "    res = get_pred()[2]\n",
    "    res.loc[147,:] = ['C1327',0]\n",
    "    res.loc[148,:] = ['C2335',0]\n",
    "    res.loc[149,:] = ['C2675',0]\n",
    "    return res"
   ]
  },
  {
   "cell_type": "code",
   "execution_count": null,
   "metadata": {},
   "outputs": [],
   "source": []
  },
  {
   "cell_type": "code",
   "execution_count": 72,
   "metadata": {},
   "outputs": [],
   "source": [
    "sub = submit()\n",
    "sub.to_csv(\"result/0723_1.csv\",index=False)"
   ]
  },
  {
   "cell_type": "code",
   "execution_count": 69,
   "metadata": {},
   "outputs": [],
   "source": [
    "def score(mse):\n",
    "    score = pd.read_csv(\"/Users/seungji/Downloads//MAE_\"+str(mse)+\".csv\")\n",
    "    score = pd.merge(score,get_pred()[2],on='code',how='inner')\n",
    "    val = test_up['단지코드'].values\n",
    "    score_up = score.loc[score['code'].isin(val),:]\n",
    "    score_down = score.loc[-score['code'].isin(val),:] #y가 새롭게 예측\n",
    "    mae = mean_absolute_error(score['num_x'],score['num_y'])\n",
    "    mae_up = mean_absolute_error(score_up['num_x'],score_up['num_y'])\n",
    "    mae_down = mean_absolute_error(score_down['num_x'],score_down['num_y'])\n",
    "    print('전체 MAE : ',mae)\n",
    "    print('큰 영역 MAE : ',mae_up)\n",
    "    print('작은 영역 MAE : ',mae_down)\n",
    "    return score"
   ]
  },
  {
   "cell_type": "code",
   "execution_count": 70,
   "metadata": {},
   "outputs": [
    {
     "name": "stdout",
     "output_type": "stream",
     "text": [
      "전체 MAE :  8.901914160372339\n",
      "큰 영역 MAE :  68.87270429340678\n",
      "작은 영역 MAE :  3.68594044175552e-14\n"
     ]
    }
   ],
   "source": [
    "res2 = score(96)"
   ]
  },
  {
   "cell_type": "code",
   "execution_count": null,
   "metadata": {},
   "outputs": [],
   "source": [
    "res1 = score(98)"
   ]
  }
 ],
 "metadata": {
  "kernelspec": {
   "display_name": "Python 3",
   "language": "python",
   "name": "python3"
  },
  "language_info": {
   "codemirror_mode": {
    "name": "ipython",
    "version": 3
   },
   "file_extension": ".py",
   "mimetype": "text/x-python",
   "name": "python",
   "nbconvert_exporter": "python",
   "pygments_lexer": "ipython3",
   "version": "3.8.5"
  }
 },
 "nbformat": 4,
 "nbformat_minor": 4
}
