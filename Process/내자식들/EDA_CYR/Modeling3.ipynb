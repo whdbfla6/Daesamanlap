{
 "cells": [
  {
   "cell_type": "code",
   "execution_count": 1,
   "metadata": {},
   "outputs": [],
   "source": [
    "import pandas as pd\n",
    "pd.options.display.float_format = '{:,.4f}'.format\n",
    "pd.options.display.max_rows = 100\n",
    "pd.options.display.max_columns = 40\n",
    "import numpy as np\n",
    "import os,random, math\n",
    "from tqdm import tqdm\n",
    "from copy import deepcopy\n",
    "from collections import Counter\n",
    "\n",
    "# Visualization\n",
    "import seaborn as sns\n",
    "import matplotlib\n",
    "import matplotlib.pyplot as plt\n",
    "%matplotlib inline\n",
    "from matplotlib import font_manager, rc\n",
    "plt.rcParams['font.family'] = 'NanumGothic'\n",
    "import platform\n",
    "if platform.system() == 'Windows':\n",
    "    font_name = font_manager.FontProperties(fname=\"c:/Windows/Fonts/malgun.ttf\").get_name()\n",
    "    rc('font', family=font_name)\n",
    "else:    \n",
    "    rc('font', family='AppleGothic')\n",
    "\n",
    "matplotlib.rcParams['axes.unicode_minus'] = False\n",
    "\n",
    "# from dataprep.eda import plot, plot_correlation, plot_missing\n",
    "\n",
    "# Warnings\n",
    "import warnings\n",
    "warnings.filterwarnings('always')\n",
    "warnings.filterwarnings('ignore')"
   ]
  },
  {
   "cell_type": "code",
   "execution_count": 2,
   "metadata": {},
   "outputs": [],
   "source": [
    "import os\n",
    "path = os.path.dirname(os.getcwd())\n",
    "path = os.path.join(path, \"ProcessedData\")\n",
    "train = pd.read_csv(os.path.join(path,\"merged_train.csv\"))\n",
    "test = pd.read_csv(os.path.join(path,\"merged_test.csv\"))"
   ]
  },
  {
   "cell_type": "code",
   "execution_count": 3,
   "metadata": {},
   "outputs": [],
   "source": [
    "apt_tr = train[train['임대건물구분']=='아파트']\n",
    "store_tr = train[train['임대건물구분']=='상가']\n",
    "\n",
    "apt_test = test[test['임대건물구분']=='아파트']\n",
    "store_test = test[test['임대건물구분']=='상가']"
   ]
  },
  {
   "cell_type": "code",
   "execution_count": 4,
   "metadata": {},
   "outputs": [
    {
     "name": "stdout",
     "output_type": "stream",
     "text": [
      "(2896, 34)\n",
      "(1008, 33)\n"
     ]
    }
   ],
   "source": [
    "print(train.shape)\n",
    "print(test.shape)"
   ]
  },
  {
   "cell_type": "code",
   "execution_count": 5,
   "metadata": {},
   "outputs": [],
   "source": [
    "train['공가수_비율'] =  train.apply(lambda x : x['공가수']/x['총세대수'],axis=1)\n",
    "train['세대당_가능주차면수'] = train.apply(lambda x : x['단지내주차면수']/x['총세대수'],axis=1)\n",
    "test['공가수_비율'] =  test.apply(lambda x : x['공가수']/x['총세대수'],axis=1)\n",
    "test['세대당_가능주차면수'] = test.apply(lambda x : x['단지내주차면수']/x['총세대수'],axis=1)"
   ]
  },
  {
   "cell_type": "code",
   "execution_count": 6,
   "metadata": {},
   "outputs": [],
   "source": [
    "train['0~19 인구수'] = train['0~19세_비율']*train['총세대수']\n",
    "train['20~39 인구수'] = train['20~39세_비율']*train['총세대수']\n",
    "train['40~69 인구수'] = train['40~69세_비율']*train['총세대수']\n",
    "train['70세이상 인구수'] = train['70세이상_비율']*train['총세대수']"
   ]
  },
  {
   "cell_type": "code",
   "execution_count": 7,
   "metadata": {},
   "outputs": [],
   "source": [
    "test['0~19 인구수'] = test['0~19세_비율']*test['총세대수']\n",
    "test['20~39 인구수'] = test['20~39세_비율']*test['총세대수']\n",
    "test['40~69 인구수'] = test['40~69세_비율']*test['총세대수']\n",
    "test['70세이상 인구수'] = test['70세이상_비율']*test['총세대수']"
   ]
  },
  {
   "cell_type": "code",
   "execution_count": 8,
   "metadata": {},
   "outputs": [],
   "source": [
    "area = ['경상남도', '전라북도', '강원도', '광주광역시', '충청남도', '제주특별자치도', '울산광역시', '충청북도', '전라남도', '경상북도', '세종특별자치시']\n",
    "for ind in range(train.shape[0]):\n",
    "    if train.loc[ind,'지역'] in area :\n",
    "        train.loc[ind,'환승역 수'] = 0\n",
    "train = train.join(pd.get_dummies(train['환승역 수'],prefix='sub')).iloc[:,:-1]\n",
    "train = train.drop('환승역 수',axis=1)"
   ]
  },
  {
   "cell_type": "code",
   "execution_count": 9,
   "metadata": {},
   "outputs": [],
   "source": [
    "for ind in range(test.shape[0]):\n",
    "    if test.loc[ind,'지역'] in area :\n",
    "        test.loc[ind,'환승역 수'] = 0\n",
    "test = test.join(pd.get_dummies(test['환승역 수'],prefix='sub')).iloc[:,:-1]\n",
    "test = test.drop('환승역 수',axis=1)"
   ]
  },
  {
   "cell_type": "code",
   "execution_count": 10,
   "metadata": {},
   "outputs": [],
   "source": [
    "def func2(x):\n",
    "    if x<0.005: \n",
    "        return 0\n",
    "    elif 0.005<x<0.02:\n",
    "        return 1\n",
    "    elif 0.02<x<1:\n",
    "        return 2\n",
    "    elif x>1:\n",
    "        return 3"
   ]
  },
  {
   "cell_type": "code",
   "execution_count": 11,
   "metadata": {},
   "outputs": [],
   "source": [
    "train['sub_cat'] = train['subway_dist'].apply(lambda x : func2(x))\n",
    "test['sub_cat'] = test['subway_dist'].apply(lambda x : func2(x))"
   ]
  },
  {
   "cell_type": "code",
   "execution_count": 12,
   "metadata": {},
   "outputs": [],
   "source": [
    "train = train.join(pd.get_dummies(train['sub_cat'],prefix='sub_dist')).iloc[:,:-1]\n",
    "train = train.drop(['subway_dist','sub_cat'],axis=1)"
   ]
  },
  {
   "cell_type": "code",
   "execution_count": 13,
   "metadata": {},
   "outputs": [],
   "source": [
    "test = test.join(pd.get_dummies(test['sub_cat'],prefix='sub_dist')).iloc[:,:-1]\n",
    "test = test.drop(['subway_dist','sub_cat'],axis=1)"
   ]
  },
  {
   "cell_type": "markdown",
   "metadata": {},
   "source": [
    "###  공급유형 "
   ]
  },
  {
   "cell_type": "code",
   "execution_count": 14,
   "metadata": {},
   "outputs": [],
   "source": [
    "def func3(x,dic):\n",
    "    for i in dic.keys():\n",
    "        if len(dic[i]) == len(x):\n",
    "            if all(dic[i] == x):\n",
    "                return i"
   ]
  },
  {
   "cell_type": "code",
   "execution_count": 15,
   "metadata": {},
   "outputs": [],
   "source": [
    "# 방안 2 \n",
    "\n",
    "train.loc[train['공급유형'].isin(['영구임대', '행복주택']),'공급유형'] = '영구/행복'\n",
    "test.loc[test['공급유형'].isin(['영구임대', '행복주택']),'공급유형'] = '영구/행복'\n",
    "\n",
    "train.loc[train['공급유형'].isin(['공공임대(10년)', '공공임대(5년)']),'공급유형'] = '공공임대(단기)'\n",
    "test.loc[test['공급유형'].isin(['공공임대(10년)', '공공임대(5년)']),'공급유형'] = '공공임대(단기)'\n",
    "\n",
    "no_shop = train[train['공급유형']!='임대상가']\n",
    "uniq = np.reshape(no_shop['공급유형'].unique(),(7,1))\n",
    "\n",
    "dic = dict(enumerate(uniq))\n",
    "dic[8] = ['공공임대(단기)', '국민임대']\n",
    "dic[9] = ['장기전세', '국민임대', '영구/행복']\n",
    "dic[10] = ['국민임대', '영구/행복']\n",
    "dic[11] = ['공공임대(단기)', '공공임대(분납)']\n",
    "dic[12] = ['공공분양', '공공임대(단기)', '공공임대(분납)']\n",
    "dic[13] = ['공공임대(50년)', '영구/행복']\n",
    "dic[14] = ['장기전세', '공공임대(단기)', '공공임대(분납)']\n",
    "\n",
    "# dic1\n",
    "\n",
    "dic1 = dict()\n",
    "for i in dic.keys():\n",
    "    val = train.loc[train['공급유형'].isin(dic[i]),'임대료'].mean()\n",
    "    dic1[i] = val\n",
    "\n",
    "# train\n",
    "no_shop = train[train['공급유형']!='임대상가']\n",
    "sample = pd.DataFrame(no_shop.groupby('단지코드')['공급유형'].unique()).reset_index()\n",
    "sample['cluster'] = sample['공급유형'].apply(lambda x : func3(x,dic))\n",
    "sample['cluster'] = sample['cluster'].apply(lambda x: int(x))\n",
    "train = pd.merge(train,sample[['단지코드','cluster']],on='단지코드',how='left')\n",
    "train['cluster'] = train['cluster'].apply(lambda x: dic1[x])\n",
    "train = train.drop(['공급유형'],axis=1)\n",
    "\n",
    "\n",
    "# test\n",
    "no_shop = test[test['공급유형']!='임대상가']\n",
    "sample = pd.DataFrame(no_shop.groupby('단지코드')['공급유형'].unique()).reset_index()\n",
    "sample['cluster'] = sample['공급유형'].apply(lambda x : func3(x,dic))\n",
    "test = pd.merge(test,sample[['단지코드','cluster']],on='단지코드',how='left')\n",
    "test['cluster'] = test['cluster'].apply(lambda x: dic1[x])\n",
    "test = test.drop(['공급유형'],axis=1)"
   ]
  },
  {
   "cell_type": "code",
   "execution_count": 69,
   "metadata": {},
   "outputs": [
    {
     "data": {
      "text/plain": [
       "총세대수          0.3297\n",
       "전용면적          0.1127\n",
       "전용면적별세대수      0.2505\n",
       "공가수           0.1289\n",
       "임대보증금         0.3417\n",
       "임대료          -0.1004\n",
       "지하철역         -0.0811\n",
       "버스정류장         0.1050\n",
       "단지내주차면수       0.8613\n",
       "등록차량수         1.0000\n",
       "연면적           0.3150\n",
       "위도           -0.1814\n",
       "경도            0.2273\n",
       "총인구수          0.3114\n",
       "세대당_인구        0.4675\n",
       "남/여비율        -0.0906\n",
       "남/여_0~19세     0.3681\n",
       "남/여_20~39세   -0.4096\n",
       "남/여_40~69세   -0.1528\n",
       "남/여_70세이상     0.3345\n",
       "0~19세_비율      0.4381\n",
       "20~39세_비율     0.3503\n",
       "40~69세_비율    -0.3968\n",
       "70세이상_비율     -0.4647\n",
       "공가수_비율       -0.1834\n",
       "세대당_가능주차면수    0.6046\n",
       "0~19 인구수      0.6294\n",
       "20~39 인구수     0.4619\n",
       "40~69 인구수     0.2400\n",
       "70세이상 인구수    -0.1237\n",
       "sub_0        -0.1818\n",
       "sub_1         0.1438\n",
       "sub_dist_0   -0.1843\n",
       "sub_dist_1    0.2393\n",
       "sub_dist_2   -0.0782\n",
       "cluster       0.5556\n",
       "Name: 등록차량수, dtype: float64"
      ]
     },
     "execution_count": 69,
     "metadata": {},
     "output_type": "execute_result"
    }
   ],
   "source": [
    "train.corr()['등록차량수']"
   ]
  },
  {
   "cell_type": "code",
   "execution_count": 70,
   "metadata": {},
   "outputs": [],
   "source": [
    "drop = ['남/여비율','남/여_0~19세','남/여_20~39세','남/여_40~69세','남/여_70세이상','0~19세_비율','20~39세_비율','40~69세_비율','70세이상_비율']\n",
    "drop1 = ['총세대수','임대건물구분','지역','공가수','자격유형','단지내주차면수','단지명','도로명주소','subway_name']"
   ]
  },
  {
   "cell_type": "code",
   "execution_count": 71,
   "metadata": {},
   "outputs": [],
   "source": [
    "train = train.drop(drop,axis=1)\n",
    "test = test.drop(drop,axis=1)"
   ]
  },
  {
   "cell_type": "code",
   "execution_count": 72,
   "metadata": {},
   "outputs": [],
   "source": [
    "train = train.drop(drop1,axis=1)\n",
    "test = test.drop(drop1,axis=1)"
   ]
  },
  {
   "cell_type": "code",
   "execution_count": 73,
   "metadata": {},
   "outputs": [],
   "source": [
    "non_unique = ['전용면적','전용면적별세대수','임대보증금','임대료']\n",
    "train_one = train.drop(non_unique,axis=1).drop_duplicates().reset_index(drop=True)\n",
    "test_one = test.drop(non_unique,axis=1).drop_duplicates().reset_index(drop=True)"
   ]
  },
  {
   "cell_type": "code",
   "execution_count": 75,
   "metadata": {},
   "outputs": [
    {
     "name": "stdout",
     "output_type": "stream",
     "text": [
      "(414, 21)\n",
      "(147, 20)\n"
     ]
    }
   ],
   "source": [
    "print(train_one.shape)\n",
    "print(test_one.shape)"
   ]
  },
  {
   "cell_type": "code",
   "execution_count": 76,
   "metadata": {},
   "outputs": [],
   "source": [
    "def merge(col,standard,oldDF,newDF,kind):\n",
    "    sample = oldDF.groupby('단지코드').describe()[col].reset_index()\n",
    "    for i in sample.index:\n",
    "        for j in standard:\n",
    "            code = sample.loc[i,'단지코드']\n",
    "            val = sample.loc[i,j]\n",
    "            ind = newDF[newDF['단지코드']==code].index\n",
    "            newDF.loc[ind,kind+col+j] = val\n",
    "    return newDF"
   ]
  },
  {
   "cell_type": "code",
   "execution_count": 77,
   "metadata": {},
   "outputs": [],
   "source": [
    "train_one = merge('임대료',['min','25%','50%','75%','max'],apt_tr,train_one,'apt')\n",
    "train_one = merge('임대보증금',['min','25%','50%','75%','max'],apt_tr,train_one,'apt')\n",
    "\n",
    "train_one = merge('임대료',['min','25%','50%','75%','max'],store_tr,train_one,'store')\n",
    "train_one = merge('임대보증금',['min','25%','50%','75%','max'],store_tr,train_one,'store')\n",
    "\n",
    "train_one = merge('전용면적',['min','25%','50%','75%','max'],apt_tr,train_one,'apt')\n",
    "train_one = merge('전용면적',['mean','std'],store_tr,train_one,'store')\n",
    "\n",
    "train_one = train_one.replace(np.nan, 0)"
   ]
  },
  {
   "cell_type": "code",
   "execution_count": 78,
   "metadata": {},
   "outputs": [],
   "source": [
    "test_one = merge('임대료',['min','25%','50%','75%','max'],apt_test,test_one,'apt')\n",
    "test_one = merge('임대보증금',['min','25%','50%','75%','max'],apt_test,test_one,'apt')\n",
    "\n",
    "test_one = merge('임대료',['min','25%','50%','75%','max'],store_test,test_one,'store')\n",
    "test_one = merge('임대보증금',['min','25%','50%','75%','max'],store_test,test_one,'store')\n",
    "\n",
    "test_one = merge('전용면적',['min','25%','50%','75%','max'],apt_test,test_one,'apt')\n",
    "test_one = merge('전용면적',['mean','std'],store_test,test_one,'store')\n",
    "\n",
    "test_one = test_one.replace(np.nan, 0)"
   ]
  },
  {
   "cell_type": "code",
   "execution_count": 79,
   "metadata": {},
   "outputs": [
    {
     "name": "stdout",
     "output_type": "stream",
     "text": [
      "(414, 48)\n",
      "(147, 47)\n"
     ]
    }
   ],
   "source": [
    "print(train_one.shape)\n",
    "print(test_one.shape)"
   ]
  },
  {
   "cell_type": "code",
   "execution_count": 80,
   "metadata": {},
   "outputs": [],
   "source": [
    "from sklearn.model_selection import train_test_split\n",
    "from sklearn.preprocessing import StandardScaler\n",
    "from sklearn.metrics import mean_absolute_error as mae\n",
    "\n",
    "from catboost import CatBoostRegressor"
   ]
  },
  {
   "cell_type": "code",
   "execution_count": 81,
   "metadata": {},
   "outputs": [
    {
     "data": {
      "text/plain": [
       "115.29297257202765"
      ]
     },
     "execution_count": 81,
     "metadata": {},
     "output_type": "execute_result"
    }
   ],
   "source": [
    "X = train_one.drop(['등록차량수','단지코드'],axis=1)\n",
    "y = train_one['등록차량수']\n",
    "X_train, X_test, y_train, y_test = train_test_split(X, y, test_size=0.3,random_state=2021,shuffle=True)\n",
    "\n",
    "cb = CatBoostRegressor(random_state=2021,verbose=False,loss_function='MAE').fit(X_train, y_train)\n",
    "pred = cb.predict(X_test)\n",
    "\n",
    "mae(pred,y_test) "
   ]
  },
  {
   "cell_type": "code",
   "execution_count": 82,
   "metadata": {},
   "outputs": [
    {
     "data": {
      "text/plain": [
       "<matplotlib.axes._subplots.AxesSubplot at 0x279a984c7f0>"
      ]
     },
     "execution_count": 82,
     "metadata": {},
     "output_type": "execute_result"
    },
    {
     "data": {
      "image/png": "[encoded data removed]",
      "text/plain": [
       "<Figure size 864x1152 with 1 Axes>"
      ]
     },
     "metadata": {
      "needs_background": "light"
     },
     "output_type": "display_data"
    }
   ],
   "source": [
    "plt.figure(figsize=(12,16))\n",
    "sns.barplot(y = X_train.columns[np.argsort(cb.feature_importances_)], x = list(cb.feature_importances_[np.argsort(cb.feature_importances_)]))"
   ]
  },
  {
   "cell_type": "code",
   "execution_count": 83,
   "metadata": {},
   "outputs": [],
   "source": [
    "real_x = test_one.drop('단지코드',axis=1)\n",
    "real_y = cb.predict(real_x)"
   ]
  },
  {
   "cell_type": "code",
   "execution_count": 84,
   "metadata": {},
   "outputs": [],
   "source": [
    "def myfunc():\n",
    "    cb = pd.read_csv(\"0713_cb.csv\")\n",
    "    cb = cb.loc[-cb['code'].isin(['C2675', 'C2335', 'C1327']),:].reset_index(drop=True)\n",
    "    return cb"
   ]
  },
  {
   "cell_type": "code",
   "execution_count": 85,
   "metadata": {},
   "outputs": [
    {
     "data": {
      "text/plain": [
       "62.074173193247276"
      ]
     },
     "execution_count": 85,
     "metadata": {},
     "output_type": "execute_result"
    }
   ],
   "source": [
    "res = myfunc()\n",
    "mae(real_y,res['num'])"
   ]
  },
  {
   "cell_type": "code",
   "execution_count": 86,
   "metadata": {},
   "outputs": [
    {
     "data": {
      "text/html": [
       "<div>\n",
       "<style scoped>\n",
       "    .dataframe tbody tr th:only-of-type {\n",
       "        vertical-align: middle;\n",
       "    }\n",
       "\n",
       "    .dataframe tbody tr th {\n",
       "        vertical-align: top;\n",
       "    }\n",
       "\n",
       "    .dataframe thead th {\n",
       "        text-align: right;\n",
       "    }\n",
       "</style>\n",
       "<table border=\"1\" class=\"dataframe\">\n",
       "  <thead>\n",
       "    <tr style=\"text-align: right;\">\n",
       "      <th></th>\n",
       "      <th>code</th>\n",
       "      <th>num</th>\n",
       "      <th>new_y</th>\n",
       "    </tr>\n",
       "  </thead>\n",
       "  <tbody>\n",
       "    <tr>\n",
       "      <th>0</th>\n",
       "      <td>C1072</td>\n",
       "      <td>682.5972</td>\n",
       "      <td>776.4164</td>\n",
       "    </tr>\n",
       "    <tr>\n",
       "      <th>1</th>\n",
       "      <td>C1128</td>\n",
       "      <td>1,171.7943</td>\n",
       "      <td>1,190.2536</td>\n",
       "    </tr>\n",
       "    <tr>\n",
       "      <th>2</th>\n",
       "      <td>C1456</td>\n",
       "      <td>530.1717</td>\n",
       "      <td>620.5847</td>\n",
       "    </tr>\n",
       "    <tr>\n",
       "      <th>3</th>\n",
       "      <td>C1840</td>\n",
       "      <td>528.1426</td>\n",
       "      <td>523.3906</td>\n",
       "    </tr>\n",
       "    <tr>\n",
       "      <th>4</th>\n",
       "      <td>C1332</td>\n",
       "      <td>1,119.5004</td>\n",
       "      <td>1,227.8755</td>\n",
       "    </tr>\n",
       "  </tbody>\n",
       "</table>\n",
       "</div>"
      ],
      "text/plain": [
       "    code        num      new_y\n",
       "0  C1072   682.5972   776.4164\n",
       "1  C1128 1,171.7943 1,190.2536\n",
       "2  C1456   530.1717   620.5847\n",
       "3  C1840   528.1426   523.3906\n",
       "4  C1332 1,119.5004 1,227.8755"
      ]
     },
     "execution_count": 86,
     "metadata": {},
     "output_type": "execute_result"
    }
   ],
   "source": [
    "res['new_y'] = real_y\n",
    "res.head()"
   ]
  },
  {
   "cell_type": "code",
   "execution_count": 88,
   "metadata": {},
   "outputs": [],
   "source": [
    "result = pd.read_csv(\"data/result.csv\")\n",
    "result['y3'] = real_y\n",
    "\n",
    "result.to_csv(\"data/result.csv\",index=False)"
   ]
  },
  {
   "cell_type": "code",
   "execution_count": 87,
   "metadata": {},
   "outputs": [],
   "source": [
    "train_one.to_csv(\"data/train3.csv\",index=False)\n",
    "test_one.to_csv(\"data/test3.csv\",index=False)"
   ]
  },
  {
   "cell_type": "code",
   "execution_count": 94,
   "metadata": {},
   "outputs": [],
   "source": [
    "test_one['num'] = real_y\n",
    "res = test_one[['단지코드','num']]"
   ]
  },
  {
   "cell_type": "code",
   "execution_count": 103,
   "metadata": {},
   "outputs": [],
   "source": [
    "sub = pd.read_csv(os.path.join(path,\"sample_submission.csv\"))\n",
    "sub['num'] = 0\n",
    "sub = pd.merge(sub,res,left_on='code',right_on='단지코드',how='left').drop(['num_x','단지코드'],axis=1)"
   ]
  },
  {
   "cell_type": "code",
   "execution_count": 105,
   "metadata": {},
   "outputs": [],
   "source": [
    "sub = sub.rename(columns={'num_y':'num'})"
   ]
  },
  {
   "cell_type": "code",
   "execution_count": 107,
   "metadata": {},
   "outputs": [],
   "source": [
    "sub.to_csv(\"gogogo.csv\",index=False)"
   ]
  },
  {
   "cell_type": "code",
   "execution_count": null,
   "metadata": {},
   "outputs": [],
   "source": []
  }
 ],
 "metadata": {
  "kernelspec": {
   "display_name": "Python 3",
   "language": "python",
   "name": "python3"
  },
  "language_info": {
   "codemirror_mode": {
    "name": "ipython",
    "version": 3
   },
   "file_extension": ".py",
   "mimetype": "text/x-python",
   "name": "python",
   "nbconvert_exporter": "python",
   "pygments_lexer": "ipython3",
   "version": "3.8.3"
  }
 },
 "nbformat": 4,
 "nbformat_minor": 4
}
