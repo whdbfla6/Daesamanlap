{
 "cells": [
  {
   "cell_type": "code",
   "execution_count": null,
   "metadata": {},
   "outputs": [],
   "source": [
    "import pandas as pd\n",
    "pd.options.display.float_format = '{:,.4f}'.format\n",
    "pd.options.display.max_rows = 100\n",
    "pd.options.display.max_columns = 40\n",
    "import numpy as np\n",
    "import os,random, math\n",
    "from tqdm import tqdm\n",
    "from copy import deepcopy\n",
    "from collections import Counter\n",
    "\n",
    "# Visualization\n",
    "import seaborn as sns\n",
    "import matplotlib\n",
    "import matplotlib.pyplot as plt\n",
    "%matplotlib inline\n",
    "from matplotlib import font_manager, rc\n",
    "plt.rcParams['font.family'] = 'NanumGothic'\n",
    "import platform\n",
    "if platform.system() == 'Windows':\n",
    "    font_name = font_manager.FontProperties(fname=\"c:/Windows/Fonts/malgun.ttf\").get_name()\n",
    "    rc('font', family=font_name)\n",
    "else:    \n",
    "    rc('font', family='AppleGothic')\n",
    "\n",
    "matplotlib.rcParams['axes.unicode_minus'] = False\n",
    "\n",
    "# from dataprep.eda import plot, plot_correlation, plot_missing\n",
    "\n",
    "# Warnings\n",
    "import warnings\n",
    "warnings.filterwarnings('always')\n",
    "warnings.filterwarnings('ignore')"
   ]
  },
  {
   "cell_type": "code",
   "execution_count": null,
   "metadata": {},
   "outputs": [],
   "source": [
    "import os\n",
    "path = os.path.dirname(os.getcwd())\n",
    "path = os.path.join(path, \"ProcessedData\")\n",
    "train = pd.read_csv(os.path.join(path,\"merged_train.csv\"))\n",
    "test = pd.read_csv(os.path.join(path,\"merged_test.csv\"))"
   ]
  },
  {
   "cell_type": "code",
   "execution_count": null,
   "metadata": {},
   "outputs": [],
   "source": [
    "apt_tr = train[train['임대건물구분']=='아파트']\n",
    "store_tr = train[train['임대건물구분']=='상가']\n",
    "\n",
    "apt_test = test[test['임대건물구분']=='아파트']\n",
    "store_test = test[test['임대건물구분']=='상가']"
   ]
  },
  {
   "cell_type": "code",
   "execution_count": null,
   "metadata": {},
   "outputs": [],
   "source": [
    "print(train.shape)\n",
    "print(test.shape)"
   ]
  },
  {
   "cell_type": "code",
   "execution_count": null,
   "metadata": {},
   "outputs": [],
   "source": [
    "train['공가수_비율'] =  train.apply(lambda x : x['공가수']/x['총세대수'],axis=1)\n",
    "train['세대당_가능주차면수'] = train.apply(lambda x : x['단지내주차면수']/x['총세대수'],axis=1)\n",
    "test['공가수_비율'] =  test.apply(lambda x : x['공가수']/x['총세대수'],axis=1)\n",
    "test['세대당_가능주차면수'] = test.apply(lambda x : x['단지내주차면수']/x['총세대수'],axis=1)"
   ]
  },
  {
   "cell_type": "code",
   "execution_count": null,
   "metadata": {},
   "outputs": [],
   "source": [
    "train['0~19 인구수'] = train['0~19세_비율']*train['총세대수']\n",
    "train['20~39 인구수'] = train['20~39세_비율']*train['총세대수']\n",
    "train['40~69 인구수'] = train['40~69세_비율']*train['총세대수']\n",
    "train['70세이상 인구수'] = train['70세이상_비율']*train['총세대수']"
   ]
  },
  {
   "cell_type": "code",
   "execution_count": null,
   "metadata": {},
   "outputs": [],
   "source": [
    "test['0~19 인구수'] = test['0~19세_비율']*test['총세대수']\n",
    "test['20~39 인구수'] = test['20~39세_비율']*test['총세대수']\n",
    "test['40~69 인구수'] = test['40~69세_비율']*test['총세대수']\n",
    "test['70세이상 인구수'] = test['70세이상_비율']*test['총세대수']"
   ]
  },
  {
   "cell_type": "code",
   "execution_count": null,
   "metadata": {},
   "outputs": [],
   "source": [
    "area = ['경상남도', '전라북도', '강원도', '광주광역시', '충청남도', '제주특별자치도', '울산광역시', '충청북도', '전라남도', '경상북도', '세종특별자치시']\n",
    "for ind in range(train.shape[0]):\n",
    "    if train.loc[ind,'지역'] in area :\n",
    "        train.loc[ind,'환승역 수'] = 0\n",
    "train = train.join(pd.get_dummies(train['환승역 수'],prefix='sub')).iloc[:,:-1]\n",
    "train = train.drop('환승역 수',axis=1)"
   ]
  },
  {
   "cell_type": "code",
   "execution_count": null,
   "metadata": {},
   "outputs": [],
   "source": [
    "for ind in range(test.shape[0]):\n",
    "    if test.loc[ind,'지역'] in area :\n",
    "        test.loc[ind,'환승역 수'] = 0\n",
    "test = test.join(pd.get_dummies(test['환승역 수'],prefix='sub')).iloc[:,:-1]\n",
    "test = test.drop('환승역 수',axis=1)"
   ]
  },
  {
   "cell_type": "code",
   "execution_count": null,
   "metadata": {},
   "outputs": [],
   "source": [
    "def func2(x):\n",
    "    if x<0.005: \n",
    "        return 0\n",
    "    elif 0.005<x<0.02:\n",
    "        return 1\n",
    "    elif 0.02<x<1:\n",
    "        return 2\n",
    "    elif x>1:\n",
    "        return 3"
   ]
  },
  {
   "cell_type": "code",
   "execution_count": null,
   "metadata": {},
   "outputs": [],
   "source": [
    "train['sub_cat'] = train['subway_dist'].apply(lambda x : func2(x))\n",
    "test['sub_cat'] = test['subway_dist'].apply(lambda x : func2(x))"
   ]
  },
  {
   "cell_type": "code",
   "execution_count": null,
   "metadata": {},
   "outputs": [],
   "source": [
    "train = train.join(pd.get_dummies(train['sub_cat'],prefix='sub_dist')).iloc[:,:-1]\n",
    "train = train.drop(['subway_dist','sub_cat'],axis=1)"
   ]
  },
  {
   "cell_type": "code",
   "execution_count": null,
   "metadata": {},
   "outputs": [],
   "source": [
    "test = test.join(pd.get_dummies(test['sub_cat'],prefix='sub_dist')).iloc[:,:-1]\n",
    "test = test.drop(['subway_dist','sub_cat'],axis=1)"
   ]
  },
  {
   "cell_type": "markdown",
   "metadata": {},
   "source": [
    "###  공급유형 "
   ]
  },
  {
   "cell_type": "code",
   "execution_count": null,
   "metadata": {},
   "outputs": [],
   "source": [
    "def func3(x,dic):\n",
    "    for i in dic.keys():\n",
    "        if len(dic[i]) == len(x):\n",
    "            if all(dic[i] == x):\n",
    "                return i"
   ]
  },
  {
   "cell_type": "code",
   "execution_count": null,
   "metadata": {},
   "outputs": [],
   "source": [
    "# # 방안 1 \n",
    "\n",
    "# train.loc[train['공급유형'].isin(['영구임대', '행복주택']),'공급유형'] = '영구/행복'\n",
    "# test.loc[test['공급유형'].isin(['영구임대', '행복주택']),'공급유형'] = '영구/행복'\n",
    "\n",
    "# no_shop = train[train['공급유형']!='임대상가']\n",
    "# uniq = np.reshape(no_shop['공급유형'].unique(),(8,1))\n",
    "\n",
    "# dic = dict(enumerate(uniq))\n",
    "# dic[8] = ['장기전세', '공공임대(10년)', '공공임대(분납)']\n",
    "# dic[9] = ['장기전세', '국민임대', '영구/행복']\n",
    "# dic[10] = ['국민임대', '영구/행복']\n",
    "# dic[11] = ['공공임대(10년)', '공공임대(분납)']\n",
    "# dic[12] = ['공공분양', '공공임대(10년)', '공공임대(분납)']\n",
    "# dic[13] = ['공공임대(10년)', '국민임대']\n",
    "# dic[14] = ['공공임대(50년)', '영구/행복']\n",
    "\n",
    "# # train\n",
    "# no_shop = train[train['공급유형']!='임대상가']\n",
    "# sample = pd.DataFrame(no_shop.groupby('단지코드')['공급유형'].unique()).reset_index()\n",
    "# sample['cluster'] = sample['공급유형'].apply(lambda x : func3(x,dic))\n",
    "# train = pd.merge(train,sample[['단지코드','cluster']],on='단지코드',how='left')\n",
    "# train = train.join(pd.get_dummies(train['cluster'],prefix='type')).iloc[:,:-1]\n",
    "# train = train.drop(['공급유형','cluster'],axis=1)\n",
    "\n",
    "# # test\n",
    "# no_shop = test[test['공급유형']!='임대상가']\n",
    "# sample = pd.DataFrame(no_shop.groupby('단지코드')['공급유형'].unique()).reset_index()\n",
    "# sample['cluster'] = sample['공급유형'].apply(lambda x : func3(x,dic))\n",
    "# test = pd.merge(test,sample[['단지코드','cluster']],on='단지코드',how='left')\n",
    "# test = test.join(pd.get_dummies(test['cluster'],prefix='type')).iloc[:,:-1]\n",
    "# test = test.drop(['공급유형','cluster'],axis=1)"
   ]
  },
  {
   "cell_type": "code",
   "execution_count": null,
   "metadata": {},
   "outputs": [],
   "source": [
    "# 방안 2 \n",
    "\n",
    "train.loc[train['공급유형'].isin(['영구임대', '행복주택']),'공급유형'] = '영구/행복'\n",
    "test.loc[test['공급유형'].isin(['영구임대', '행복주택']),'공급유형'] = '영구/행복'\n",
    "\n",
    "train.loc[train['공급유형'].isin(['공공임대(10년)', '공공임대(5년)']),'공급유형'] = '공공임대(단기)'\n",
    "test.loc[test['공급유형'].isin(['공공임대(10년)', '공공임대(5년)']),'공급유형'] = '공공임대(단기)'\n",
    "\n",
    "no_shop = train[train['공급유형']!='임대상가']\n",
    "uniq = np.reshape(no_shop['공급유형'].unique(),(7,1))\n",
    "\n",
    "dic = dict(enumerate(uniq))\n",
    "dic[8] = ['공공임대(단기)', '국민임대']\n",
    "dic[9] = ['장기전세', '국민임대', '영구/행복']\n",
    "dic[10] = ['국민임대', '영구/행복']\n",
    "dic[11] = ['공공임대(단기)', '공공임대(분납)']\n",
    "dic[12] = ['공공분양', '공공임대(단기)', '공공임대(분납)']\n",
    "dic[13] = ['공공임대(50년)', '영구/행복']\n",
    "dic[14] = ['장기전세', '공공임대(단기)', '공공임대(분납)']\n",
    "\n",
    "# train\n",
    "no_shop = train[train['공급유형']!='임대상가']\n",
    "sample = pd.DataFrame(no_shop.groupby('단지코드')['공급유형'].unique()).reset_index()\n",
    "sample['cluster'] = sample['공급유형'].apply(lambda x : func3(x,dic))\n",
    "sample['cluster'] = sample['cluster'].apply(lambda x: int(x))\n",
    "train = pd.merge(train,sample[['단지코드','cluster']],on='단지코드',how='left')\n",
    "train = train.join(pd.get_dummies(train['cluster'],prefix='type')).iloc[:,:-1]\n",
    "train = train.drop(['공급유형','cluster'],axis=1)\n",
    "\n",
    "# test\n",
    "no_shop = test[test['공급유형']!='임대상가']\n",
    "sample = pd.DataFrame(no_shop.groupby('단지코드')['공급유형'].unique()).reset_index()\n",
    "sample['cluster'] = sample['공급유형'].apply(lambda x : func3(x,dic))\n",
    "test = pd.merge(test,sample[['단지코드','cluster']],on='단지코드',how='left')\n",
    "test = test.join(pd.get_dummies(test['cluster'],prefix='type')).iloc[:,:-1]\n",
    "test = test.drop(['공급유형','cluster'],axis=1)\n",
    "test['type_8'] = 0\n",
    "test['type_9'] = 0\n",
    "test['type_11'] = 0\n",
    "test['type_12'] = 0\n",
    "test['type_13'] = 0\n",
    "\n",
    "# sample = pd.DataFrame(no_shop.groupby('단지코드')['공급유형'].nunique()).reset_index()\n",
    "# ind = sample[sample['공급유형']>1]['단지코드'].values\n",
    "# no_shop.loc[no_shop['단지코드'].isin(ind),:].groupby('단지코드')['공급유형'].unique()"
   ]
  },
  {
   "cell_type": "code",
   "execution_count": null,
   "metadata": {},
   "outputs": [],
   "source": [
    "dic"
   ]
  },
  {
   "cell_type": "code",
   "execution_count": null,
   "metadata": {},
   "outputs": [],
   "source": [
    "drop = ['남/여비율','남/여_0~19세','남/여_20~39세','남/여_40~69세','남/여_70세이상','0~19세_비율','20~39세_비율','40~69세_비율','70세이상_비율']\n",
    "drop1 = ['총세대수','임대건물구분','지역','공가수','자격유형','단지내주차면수','단지명','도로명주소','subway_name']"
   ]
  },
  {
   "cell_type": "code",
   "execution_count": null,
   "metadata": {},
   "outputs": [],
   "source": [
    "train = train.drop(drop,axis=1)\n",
    "test = test.drop(drop,axis=1)"
   ]
  },
  {
   "cell_type": "code",
   "execution_count": null,
   "metadata": {},
   "outputs": [],
   "source": [
    "train = train.drop(drop1,axis=1)\n",
    "test = test.drop(drop1,axis=1)"
   ]
  },
  {
   "cell_type": "code",
   "execution_count": null,
   "metadata": {},
   "outputs": [],
   "source": [
    "non_unique = ['전용면적','전용면적별세대수','임대보증금','임대료']\n",
    "train_one = train.drop(non_unique,axis=1).drop_duplicates().reset_index(drop=True)\n",
    "test_one = test.drop(non_unique,axis=1).drop_duplicates().reset_index(drop=True)"
   ]
  },
  {
   "cell_type": "code",
   "execution_count": null,
   "metadata": {},
   "outputs": [],
   "source": [
    "def merge(col,standard,oldDF,newDF,kind):\n",
    "    sample = oldDF.groupby('단지코드').describe()[col].reset_index()\n",
    "    for i in sample.index:\n",
    "        for j in standard:\n",
    "            code = sample.loc[i,'단지코드']\n",
    "            val = sample.loc[i,j]\n",
    "            ind = newDF[newDF['단지코드']==code].index\n",
    "            newDF.loc[ind,kind+col+j] = val\n",
    "    return newDF"
   ]
  },
  {
   "cell_type": "code",
   "execution_count": null,
   "metadata": {},
   "outputs": [],
   "source": [
    "train_one = merge('임대료',['min','25%','50%','75%','max'],apt_tr,train_one,'apt')\n",
    "train_one = merge('임대보증금',['min','25%','50%','75%','max'],apt_tr,train_one,'apt')\n",
    "\n",
    "train_one = merge('임대료',['min','25%','50%','75%','max'],store_tr,train_one,'store')\n",
    "train_one = merge('임대보증금',['min','25%','50%','75%','max'],store_tr,train_one,'store')\n",
    "\n",
    "train_one = merge('전용면적',['min','25%','50%','75%','max'],apt_tr,train_one,'apt')\n",
    "train_one = merge('전용면적',['mean','std'],store_tr,train_one,'store')\n",
    "\n",
    "train_one = train_one.replace(np.nan, 0)"
   ]
  },
  {
   "cell_type": "code",
   "execution_count": null,
   "metadata": {},
   "outputs": [],
   "source": [
    "test_one = merge('임대료',['min','25%','50%','75%','max'],apt_test,test_one,'apt')\n",
    "test_one = merge('임대보증금',['min','25%','50%','75%','max'],apt_test,test_one,'apt')\n",
    "\n",
    "test_one = merge('임대료',['min','25%','50%','75%','max'],store_test,test_one,'store')\n",
    "test_one = merge('임대보증금',['min','25%','50%','75%','max'],store_test,test_one,'store')\n",
    "\n",
    "test_one = merge('전용면적',['min','25%','50%','75%','max'],apt_test,test_one,'apt')\n",
    "test_one = merge('전용면적',['mean','std'],store_test,test_one,'store')\n",
    "\n",
    "test_one = test_one.replace(np.nan, 0)"
   ]
  },
  {
   "cell_type": "code",
   "execution_count": null,
   "metadata": {},
   "outputs": [],
   "source": [
    "print(train_one.shape)\n",
    "print(test_one.shape)"
   ]
  },
  {
   "cell_type": "code",
   "execution_count": null,
   "metadata": {},
   "outputs": [],
   "source": [
    "train_one.corr()['등록차량수']"
   ]
  },
  {
   "cell_type": "code",
   "execution_count": null,
   "metadata": {},
   "outputs": [],
   "source": [
    "from sklearn.model_selection import train_test_split\n",
    "from sklearn.preprocessing import StandardScaler\n",
    "from sklearn.metrics import mean_absolute_error as mae\n",
    "\n",
    "from catboost import CatBoostRegressor"
   ]
  },
  {
   "cell_type": "code",
   "execution_count": null,
   "metadata": {},
   "outputs": [],
   "source": [
    "X = train_one.drop(['등록차량수','단지코드'],axis=1)\n",
    "y = train_one['등록차량수']\n",
    "X_train, X_test, y_train, y_test = train_test_split(X, y, test_size=0.3,random_state=2021,shuffle=True)\n",
    "\n",
    "cb = CatBoostRegressor(random_state=2021,verbose=False,loss_function='MAE').fit(X_train, y_train)\n",
    "pred = cb.predict(X_test)\n",
    "\n",
    "mae(pred,y_test) "
   ]
  },
  {
   "cell_type": "code",
   "execution_count": null,
   "metadata": {},
   "outputs": [],
   "source": [
    "plt.figure(figsize=(12,16))\n",
    "sns.barplot(y = X_train.columns[np.argsort(cb.feature_importances_)], x = list(cb.feature_importances_[np.argsort(cb.feature_importances_)]))"
   ]
  },
  {
   "cell_type": "code",
   "execution_count": null,
   "metadata": {},
   "outputs": [],
   "source": [
    "test_one = test_one.rename(columns={'type8':'type_8','type9':'type_9','type11':'type_11','type12':'type_12','type13':'type_13'})"
   ]
  },
  {
   "cell_type": "code",
   "execution_count": null,
   "metadata": {},
   "outputs": [],
   "source": [
    "real_x = test_one.drop('단지코드',axis=1)\n",
    "real_y = cb.predict(real_x)"
   ]
  },
  {
   "cell_type": "code",
   "execution_count": null,
   "metadata": {},
   "outputs": [],
   "source": [
    "def myfunc():\n",
    "    cb = pd.read_csv(\"0713_cb.csv\")\n",
    "    cb = cb.loc[-cb['code'].isin(['C2675', 'C2335', 'C1327']),:].reset_index(drop=True)\n",
    "    return cb"
   ]
  },
  {
   "cell_type": "code",
   "execution_count": null,
   "metadata": {},
   "outputs": [],
   "source": [
    "res = myfunc()\n",
    "mae(real_y,res['num'])"
   ]
  },
  {
   "cell_type": "code",
   "execution_count": null,
   "metadata": {},
   "outputs": [],
   "source": [
    "res['new_y'] = real_y\n",
    "res.head()"
   ]
  },
  {
   "cell_type": "code",
   "execution_count": null,
   "metadata": {},
   "outputs": [],
   "source": [
    "result = pd.read_csv(\"data/result.csv\")\n",
    "result['y2'] = real_y\n",
    "\n",
    "result.to_csv(\"data/result.csv\",index=False)"
   ]
  },
  {
   "cell_type": "code",
   "execution_count": null,
   "metadata": {},
   "outputs": [],
   "source": [
    "train_one.to_csv(\"data/train2.csv\",index=False)\n",
    "test_one.to_csv(\"data/test2.csv\",index=False)"
   ]
  },
  {
   "cell_type": "code",
   "execution_count": null,
   "metadata": {},
   "outputs": [],
   "source": []
  }
 ],
 "metadata": {
  "kernelspec": {
   "display_name": "Python 3",
   "language": "python",
   "name": "python3"
  },
  "language_info": {
   "codemirror_mode": {
    "name": "ipython",
    "version": 3
   },
   "file_extension": ".py",
   "mimetype": "text/x-python",
   "name": "python",
   "nbconvert_exporter": "python",
   "pygments_lexer": "ipython3",
   "version": "3.8.3"
  }
 },
 "nbformat": 4,
 "nbformat_minor": 4
}
