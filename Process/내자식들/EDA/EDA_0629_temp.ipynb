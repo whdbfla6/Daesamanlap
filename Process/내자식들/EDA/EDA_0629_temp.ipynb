{
 "cells": [
  {
   "cell_type": "code",
   "execution_count": 16,
   "metadata": {},
   "outputs": [],
   "source": [
    "import pandas as pd\n",
    "import numpy as np\n",
    "import matplotlib.pyplot as plt\n",
    "import seaborn as sns"
   ]
  },
  {
   "cell_type": "code",
   "execution_count": 50,
   "metadata": {},
   "outputs": [
    {
     "data": {
      "text/html": [
       "<div>\n",
       "<style scoped>\n",
       "    .dataframe tbody tr th:only-of-type {\n",
       "        vertical-align: middle;\n",
       "    }\n",
       "\n",
       "    .dataframe tbody tr th {\n",
       "        vertical-align: top;\n",
       "    }\n",
       "\n",
       "    .dataframe thead th {\n",
       "        text-align: right;\n",
       "    }\n",
       "</style>\n",
       "<table border=\"1\" class=\"dataframe\">\n",
       "  <thead>\n",
       "    <tr style=\"text-align: right;\">\n",
       "      <th></th>\n",
       "      <th>단지코드</th>\n",
       "      <th>총세대수</th>\n",
       "      <th>임대건물구분</th>\n",
       "      <th>지역</th>\n",
       "      <th>공급유형</th>\n",
       "      <th>전용면적</th>\n",
       "      <th>전용면적별세대수</th>\n",
       "      <th>공가수</th>\n",
       "      <th>자격유형</th>\n",
       "      <th>임대보증금</th>\n",
       "      <th>임대료</th>\n",
       "      <th>도보 10분거리 내 지하철역 수(환승노선 수 반영)</th>\n",
       "      <th>도보 10분거리 내 버스정류장 수</th>\n",
       "      <th>단지내주차면수</th>\n",
       "      <th>등록차량수</th>\n",
       "    </tr>\n",
       "  </thead>\n",
       "  <tbody>\n",
       "    <tr>\n",
       "      <th>0</th>\n",
       "      <td>C2483</td>\n",
       "      <td>900</td>\n",
       "      <td>아파트</td>\n",
       "      <td>경상북도</td>\n",
       "      <td>국민임대</td>\n",
       "      <td>39.72</td>\n",
       "      <td>134</td>\n",
       "      <td>38.0</td>\n",
       "      <td>A</td>\n",
       "      <td>15667000</td>\n",
       "      <td>103680</td>\n",
       "      <td>0.0</td>\n",
       "      <td>3.0</td>\n",
       "      <td>1425.0</td>\n",
       "      <td>1015.0</td>\n",
       "    </tr>\n",
       "    <tr>\n",
       "      <th>1</th>\n",
       "      <td>C2483</td>\n",
       "      <td>900</td>\n",
       "      <td>아파트</td>\n",
       "      <td>경상북도</td>\n",
       "      <td>국민임대</td>\n",
       "      <td>39.72</td>\n",
       "      <td>15</td>\n",
       "      <td>38.0</td>\n",
       "      <td>A</td>\n",
       "      <td>15667000</td>\n",
       "      <td>103680</td>\n",
       "      <td>0.0</td>\n",
       "      <td>3.0</td>\n",
       "      <td>1425.0</td>\n",
       "      <td>1015.0</td>\n",
       "    </tr>\n",
       "    <tr>\n",
       "      <th>2</th>\n",
       "      <td>C2483</td>\n",
       "      <td>900</td>\n",
       "      <td>아파트</td>\n",
       "      <td>경상북도</td>\n",
       "      <td>국민임대</td>\n",
       "      <td>51.93</td>\n",
       "      <td>385</td>\n",
       "      <td>38.0</td>\n",
       "      <td>A</td>\n",
       "      <td>27304000</td>\n",
       "      <td>184330</td>\n",
       "      <td>0.0</td>\n",
       "      <td>3.0</td>\n",
       "      <td>1425.0</td>\n",
       "      <td>1015.0</td>\n",
       "    </tr>\n",
       "    <tr>\n",
       "      <th>3</th>\n",
       "      <td>C2483</td>\n",
       "      <td>900</td>\n",
       "      <td>아파트</td>\n",
       "      <td>경상북도</td>\n",
       "      <td>국민임대</td>\n",
       "      <td>51.93</td>\n",
       "      <td>15</td>\n",
       "      <td>38.0</td>\n",
       "      <td>A</td>\n",
       "      <td>27304000</td>\n",
       "      <td>184330</td>\n",
       "      <td>0.0</td>\n",
       "      <td>3.0</td>\n",
       "      <td>1425.0</td>\n",
       "      <td>1015.0</td>\n",
       "    </tr>\n",
       "    <tr>\n",
       "      <th>4</th>\n",
       "      <td>C2483</td>\n",
       "      <td>900</td>\n",
       "      <td>아파트</td>\n",
       "      <td>경상북도</td>\n",
       "      <td>국민임대</td>\n",
       "      <td>51.93</td>\n",
       "      <td>41</td>\n",
       "      <td>38.0</td>\n",
       "      <td>A</td>\n",
       "      <td>27304000</td>\n",
       "      <td>184330</td>\n",
       "      <td>0.0</td>\n",
       "      <td>3.0</td>\n",
       "      <td>1425.0</td>\n",
       "      <td>1015.0</td>\n",
       "    </tr>\n",
       "    <tr>\n",
       "      <th>...</th>\n",
       "      <td>...</td>\n",
       "      <td>...</td>\n",
       "      <td>...</td>\n",
       "      <td>...</td>\n",
       "      <td>...</td>\n",
       "      <td>...</td>\n",
       "      <td>...</td>\n",
       "      <td>...</td>\n",
       "      <td>...</td>\n",
       "      <td>...</td>\n",
       "      <td>...</td>\n",
       "      <td>...</td>\n",
       "      <td>...</td>\n",
       "      <td>...</td>\n",
       "      <td>...</td>\n",
       "    </tr>\n",
       "    <tr>\n",
       "      <th>2947</th>\n",
       "      <td>C2532</td>\n",
       "      <td>239</td>\n",
       "      <td>아파트</td>\n",
       "      <td>강원도</td>\n",
       "      <td>국민임대</td>\n",
       "      <td>49.20</td>\n",
       "      <td>19</td>\n",
       "      <td>7.0</td>\n",
       "      <td>A</td>\n",
       "      <td>11346000</td>\n",
       "      <td>116090</td>\n",
       "      <td>0.0</td>\n",
       "      <td>1.0</td>\n",
       "      <td>166.0</td>\n",
       "      <td>146.0</td>\n",
       "    </tr>\n",
       "    <tr>\n",
       "      <th>2948</th>\n",
       "      <td>C2532</td>\n",
       "      <td>239</td>\n",
       "      <td>아파트</td>\n",
       "      <td>강원도</td>\n",
       "      <td>국민임대</td>\n",
       "      <td>51.08</td>\n",
       "      <td>34</td>\n",
       "      <td>7.0</td>\n",
       "      <td>A</td>\n",
       "      <td>14005000</td>\n",
       "      <td>142310</td>\n",
       "      <td>0.0</td>\n",
       "      <td>1.0</td>\n",
       "      <td>166.0</td>\n",
       "      <td>146.0</td>\n",
       "    </tr>\n",
       "    <tr>\n",
       "      <th>2949</th>\n",
       "      <td>C2532</td>\n",
       "      <td>239</td>\n",
       "      <td>아파트</td>\n",
       "      <td>강원도</td>\n",
       "      <td>국민임대</td>\n",
       "      <td>51.73</td>\n",
       "      <td>34</td>\n",
       "      <td>7.0</td>\n",
       "      <td>A</td>\n",
       "      <td>14005000</td>\n",
       "      <td>142310</td>\n",
       "      <td>0.0</td>\n",
       "      <td>1.0</td>\n",
       "      <td>166.0</td>\n",
       "      <td>146.0</td>\n",
       "    </tr>\n",
       "    <tr>\n",
       "      <th>2950</th>\n",
       "      <td>C2532</td>\n",
       "      <td>239</td>\n",
       "      <td>아파트</td>\n",
       "      <td>강원도</td>\n",
       "      <td>국민임대</td>\n",
       "      <td>51.96</td>\n",
       "      <td>114</td>\n",
       "      <td>7.0</td>\n",
       "      <td>A</td>\n",
       "      <td>14005000</td>\n",
       "      <td>142310</td>\n",
       "      <td>0.0</td>\n",
       "      <td>1.0</td>\n",
       "      <td>166.0</td>\n",
       "      <td>146.0</td>\n",
       "    </tr>\n",
       "    <tr>\n",
       "      <th>2951</th>\n",
       "      <td>C2532</td>\n",
       "      <td>239</td>\n",
       "      <td>아파트</td>\n",
       "      <td>강원도</td>\n",
       "      <td>국민임대</td>\n",
       "      <td>54.95</td>\n",
       "      <td>19</td>\n",
       "      <td>7.0</td>\n",
       "      <td>A</td>\n",
       "      <td>14830000</td>\n",
       "      <td>151030</td>\n",
       "      <td>0.0</td>\n",
       "      <td>1.0</td>\n",
       "      <td>166.0</td>\n",
       "      <td>146.0</td>\n",
       "    </tr>\n",
       "  </tbody>\n",
       "</table>\n",
       "<p>2952 rows × 15 columns</p>\n",
       "</div>"
      ],
      "text/plain": [
       "       단지코드  총세대수 임대건물구분    지역  공급유형   전용면적  전용면적별세대수   공가수 자격유형     임대보증금  \\\n",
       "0     C2483   900    아파트  경상북도  국민임대  39.72       134  38.0    A  15667000   \n",
       "1     C2483   900    아파트  경상북도  국민임대  39.72        15  38.0    A  15667000   \n",
       "2     C2483   900    아파트  경상북도  국민임대  51.93       385  38.0    A  27304000   \n",
       "3     C2483   900    아파트  경상북도  국민임대  51.93        15  38.0    A  27304000   \n",
       "4     C2483   900    아파트  경상북도  국민임대  51.93        41  38.0    A  27304000   \n",
       "...     ...   ...    ...   ...   ...    ...       ...   ...  ...       ...   \n",
       "2947  C2532   239    아파트   강원도  국민임대  49.20        19   7.0    A  11346000   \n",
       "2948  C2532   239    아파트   강원도  국민임대  51.08        34   7.0    A  14005000   \n",
       "2949  C2532   239    아파트   강원도  국민임대  51.73        34   7.0    A  14005000   \n",
       "2950  C2532   239    아파트   강원도  국민임대  51.96       114   7.0    A  14005000   \n",
       "2951  C2532   239    아파트   강원도  국민임대  54.95        19   7.0    A  14830000   \n",
       "\n",
       "         임대료  도보 10분거리 내 지하철역 수(환승노선 수 반영)  도보 10분거리 내 버스정류장 수  단지내주차면수  \\\n",
       "0     103680                           0.0                 3.0   1425.0   \n",
       "1     103680                           0.0                 3.0   1425.0   \n",
       "2     184330                           0.0                 3.0   1425.0   \n",
       "3     184330                           0.0                 3.0   1425.0   \n",
       "4     184330                           0.0                 3.0   1425.0   \n",
       "...      ...                           ...                 ...      ...   \n",
       "2947  116090                           0.0                 1.0    166.0   \n",
       "2948  142310                           0.0                 1.0    166.0   \n",
       "2949  142310                           0.0                 1.0    166.0   \n",
       "2950  142310                           0.0                 1.0    166.0   \n",
       "2951  151030                           0.0                 1.0    166.0   \n",
       "\n",
       "       등록차량수  \n",
       "0     1015.0  \n",
       "1     1015.0  \n",
       "2     1015.0  \n",
       "3     1015.0  \n",
       "4     1015.0  \n",
       "...      ...  \n",
       "2947   146.0  \n",
       "2948   146.0  \n",
       "2949   146.0  \n",
       "2950   146.0  \n",
       "2951   146.0  \n",
       "\n",
       "[2952 rows x 15 columns]"
      ]
     },
     "execution_count": 50,
     "metadata": {},
     "output_type": "execute_result"
    }
   ],
   "source": [
    "data = pd.read_csv(\"parking_data/train.csv\")\n",
    "test = pd.read_csv(\"parking_data/test.csv\")\n",
    "age_gender = pd.read_csv(\"parking_data/age_gender_info.csv\")\n",
    "data"
   ]
  },
  {
   "cell_type": "code",
   "execution_count": 7,
   "metadata": {
    "scrolled": true
   },
   "outputs": [
    {
     "data": {
      "text/html": [
       "<div>\n",
       "<style scoped>\n",
       "    .dataframe tbody tr th:only-of-type {\n",
       "        vertical-align: middle;\n",
       "    }\n",
       "\n",
       "    .dataframe tbody tr th {\n",
       "        vertical-align: top;\n",
       "    }\n",
       "\n",
       "    .dataframe thead th {\n",
       "        text-align: right;\n",
       "    }\n",
       "</style>\n",
       "<table border=\"1\" class=\"dataframe\">\n",
       "  <thead>\n",
       "    <tr style=\"text-align: right;\">\n",
       "      <th></th>\n",
       "      <th>지역</th>\n",
       "      <th>10대미만(여자)</th>\n",
       "      <th>10대미만(남자)</th>\n",
       "      <th>10대(여자)</th>\n",
       "      <th>10대(남자)</th>\n",
       "      <th>20대(여자)</th>\n",
       "      <th>20대(남자)</th>\n",
       "      <th>30대(여자)</th>\n",
       "      <th>30대(남자)</th>\n",
       "      <th>40대(여자)</th>\n",
       "      <th>...</th>\n",
       "      <th>60대(여자)</th>\n",
       "      <th>60대(남자)</th>\n",
       "      <th>70대(여자)</th>\n",
       "      <th>70대(남자)</th>\n",
       "      <th>80대(여자)</th>\n",
       "      <th>80대(남자)</th>\n",
       "      <th>90대(여자)</th>\n",
       "      <th>90대(남자)</th>\n",
       "      <th>100대(여자)</th>\n",
       "      <th>100대(남자)</th>\n",
       "    </tr>\n",
       "  </thead>\n",
       "  <tbody>\n",
       "    <tr>\n",
       "      <th>0</th>\n",
       "      <td>경상북도</td>\n",
       "      <td>0.030158</td>\n",
       "      <td>0.033195</td>\n",
       "      <td>0.056346</td>\n",
       "      <td>0.061360</td>\n",
       "      <td>0.060096</td>\n",
       "      <td>0.067859</td>\n",
       "      <td>0.053433</td>\n",
       "      <td>0.049572</td>\n",
       "      <td>0.083660</td>\n",
       "      <td>...</td>\n",
       "      <td>0.082684</td>\n",
       "      <td>0.063889</td>\n",
       "      <td>0.047717</td>\n",
       "      <td>0.030172</td>\n",
       "      <td>0.029361</td>\n",
       "      <td>0.011211</td>\n",
       "      <td>0.005578</td>\n",
       "      <td>0.001553</td>\n",
       "      <td>0.000234</td>\n",
       "      <td>0.000014</td>\n",
       "    </tr>\n",
       "    <tr>\n",
       "      <th>1</th>\n",
       "      <td>경상남도</td>\n",
       "      <td>0.027400</td>\n",
       "      <td>0.026902</td>\n",
       "      <td>0.053257</td>\n",
       "      <td>0.055568</td>\n",
       "      <td>0.064920</td>\n",
       "      <td>0.070618</td>\n",
       "      <td>0.056414</td>\n",
       "      <td>0.057550</td>\n",
       "      <td>0.077092</td>\n",
       "      <td>...</td>\n",
       "      <td>0.087201</td>\n",
       "      <td>0.069562</td>\n",
       "      <td>0.048357</td>\n",
       "      <td>0.033277</td>\n",
       "      <td>0.027361</td>\n",
       "      <td>0.011295</td>\n",
       "      <td>0.004910</td>\n",
       "      <td>0.001086</td>\n",
       "      <td>0.000179</td>\n",
       "      <td>0.000010</td>\n",
       "    </tr>\n",
       "    <tr>\n",
       "      <th>2</th>\n",
       "      <td>대전광역시</td>\n",
       "      <td>0.028197</td>\n",
       "      <td>0.029092</td>\n",
       "      <td>0.040490</td>\n",
       "      <td>0.042793</td>\n",
       "      <td>0.060834</td>\n",
       "      <td>0.064247</td>\n",
       "      <td>0.068654</td>\n",
       "      <td>0.066848</td>\n",
       "      <td>0.074667</td>\n",
       "      <td>...</td>\n",
       "      <td>0.088468</td>\n",
       "      <td>0.070261</td>\n",
       "      <td>0.051010</td>\n",
       "      <td>0.037143</td>\n",
       "      <td>0.032455</td>\n",
       "      <td>0.013751</td>\n",
       "      <td>0.006494</td>\n",
       "      <td>0.001740</td>\n",
       "      <td>0.000298</td>\n",
       "      <td>0.000066</td>\n",
       "    </tr>\n",
       "    <tr>\n",
       "      <th>3</th>\n",
       "      <td>경기도</td>\n",
       "      <td>0.038030</td>\n",
       "      <td>0.039507</td>\n",
       "      <td>0.052546</td>\n",
       "      <td>0.053990</td>\n",
       "      <td>0.058484</td>\n",
       "      <td>0.059894</td>\n",
       "      <td>0.072331</td>\n",
       "      <td>0.068704</td>\n",
       "      <td>0.083208</td>\n",
       "      <td>...</td>\n",
       "      <td>0.074237</td>\n",
       "      <td>0.058419</td>\n",
       "      <td>0.042422</td>\n",
       "      <td>0.032725</td>\n",
       "      <td>0.025136</td>\n",
       "      <td>0.012354</td>\n",
       "      <td>0.005390</td>\n",
       "      <td>0.001707</td>\n",
       "      <td>0.000290</td>\n",
       "      <td>0.000067</td>\n",
       "    </tr>\n",
       "    <tr>\n",
       "      <th>4</th>\n",
       "      <td>전라북도</td>\n",
       "      <td>0.028089</td>\n",
       "      <td>0.029065</td>\n",
       "      <td>0.059685</td>\n",
       "      <td>0.060080</td>\n",
       "      <td>0.066262</td>\n",
       "      <td>0.070322</td>\n",
       "      <td>0.052027</td>\n",
       "      <td>0.046596</td>\n",
       "      <td>0.077005</td>\n",
       "      <td>...</td>\n",
       "      <td>0.076636</td>\n",
       "      <td>0.068042</td>\n",
       "      <td>0.051025</td>\n",
       "      <td>0.035748</td>\n",
       "      <td>0.035049</td>\n",
       "      <td>0.012641</td>\n",
       "      <td>0.007223</td>\n",
       "      <td>0.001898</td>\n",
       "      <td>0.000158</td>\n",
       "      <td>0.000013</td>\n",
       "    </tr>\n",
       "    <tr>\n",
       "      <th>5</th>\n",
       "      <td>강원도</td>\n",
       "      <td>0.028888</td>\n",
       "      <td>0.030682</td>\n",
       "      <td>0.051287</td>\n",
       "      <td>0.052712</td>\n",
       "      <td>0.060374</td>\n",
       "      <td>0.063157</td>\n",
       "      <td>0.059821</td>\n",
       "      <td>0.054321</td>\n",
       "      <td>0.076201</td>\n",
       "      <td>...</td>\n",
       "      <td>0.088423</td>\n",
       "      <td>0.070014</td>\n",
       "      <td>0.047732</td>\n",
       "      <td>0.032760</td>\n",
       "      <td>0.033515</td>\n",
       "      <td>0.013027</td>\n",
       "      <td>0.007628</td>\n",
       "      <td>0.001677</td>\n",
       "      <td>0.000319</td>\n",
       "      <td>0.000017</td>\n",
       "    </tr>\n",
       "    <tr>\n",
       "      <th>6</th>\n",
       "      <td>광주광역시</td>\n",
       "      <td>0.031994</td>\n",
       "      <td>0.034566</td>\n",
       "      <td>0.049851</td>\n",
       "      <td>0.050254</td>\n",
       "      <td>0.065084</td>\n",
       "      <td>0.066875</td>\n",
       "      <td>0.066888</td>\n",
       "      <td>0.064416</td>\n",
       "      <td>0.080028</td>\n",
       "      <td>...</td>\n",
       "      <td>0.075930</td>\n",
       "      <td>0.059586</td>\n",
       "      <td>0.048552</td>\n",
       "      <td>0.031754</td>\n",
       "      <td>0.029749</td>\n",
       "      <td>0.010341</td>\n",
       "      <td>0.006343</td>\n",
       "      <td>0.000895</td>\n",
       "      <td>0.000353</td>\n",
       "      <td>0.000013</td>\n",
       "    </tr>\n",
       "    <tr>\n",
       "      <th>7</th>\n",
       "      <td>충청남도</td>\n",
       "      <td>0.031369</td>\n",
       "      <td>0.031711</td>\n",
       "      <td>0.059077</td>\n",
       "      <td>0.062422</td>\n",
       "      <td>0.067975</td>\n",
       "      <td>0.072622</td>\n",
       "      <td>0.065095</td>\n",
       "      <td>0.067303</td>\n",
       "      <td>0.078860</td>\n",
       "      <td>...</td>\n",
       "      <td>0.070278</td>\n",
       "      <td>0.057692</td>\n",
       "      <td>0.042296</td>\n",
       "      <td>0.028682</td>\n",
       "      <td>0.024514</td>\n",
       "      <td>0.010900</td>\n",
       "      <td>0.005429</td>\n",
       "      <td>0.001549</td>\n",
       "      <td>0.000219</td>\n",
       "      <td>0.000123</td>\n",
       "    </tr>\n",
       "    <tr>\n",
       "      <th>8</th>\n",
       "      <td>부산광역시</td>\n",
       "      <td>0.022003</td>\n",
       "      <td>0.022947</td>\n",
       "      <td>0.032681</td>\n",
       "      <td>0.035512</td>\n",
       "      <td>0.053796</td>\n",
       "      <td>0.057233</td>\n",
       "      <td>0.047049</td>\n",
       "      <td>0.048866</td>\n",
       "      <td>0.061952</td>\n",
       "      <td>...</td>\n",
       "      <td>0.109297</td>\n",
       "      <td>0.085294</td>\n",
       "      <td>0.078743</td>\n",
       "      <td>0.053388</td>\n",
       "      <td>0.047908</td>\n",
       "      <td>0.020228</td>\n",
       "      <td>0.008043</td>\n",
       "      <td>0.002240</td>\n",
       "      <td>0.000268</td>\n",
       "      <td>0.000028</td>\n",
       "    </tr>\n",
       "    <tr>\n",
       "      <th>9</th>\n",
       "      <td>제주특별자치도</td>\n",
       "      <td>0.034690</td>\n",
       "      <td>0.036695</td>\n",
       "      <td>0.060094</td>\n",
       "      <td>0.063080</td>\n",
       "      <td>0.069135</td>\n",
       "      <td>0.069667</td>\n",
       "      <td>0.050808</td>\n",
       "      <td>0.048026</td>\n",
       "      <td>0.080548</td>\n",
       "      <td>...</td>\n",
       "      <td>0.074248</td>\n",
       "      <td>0.055717</td>\n",
       "      <td>0.047944</td>\n",
       "      <td>0.033054</td>\n",
       "      <td>0.026836</td>\n",
       "      <td>0.011332</td>\n",
       "      <td>0.006832</td>\n",
       "      <td>0.000982</td>\n",
       "      <td>0.000368</td>\n",
       "      <td>0.000082</td>\n",
       "    </tr>\n",
       "    <tr>\n",
       "      <th>10</th>\n",
       "      <td>울산광역시</td>\n",
       "      <td>0.023991</td>\n",
       "      <td>0.025997</td>\n",
       "      <td>0.053874</td>\n",
       "      <td>0.056967</td>\n",
       "      <td>0.064240</td>\n",
       "      <td>0.074689</td>\n",
       "      <td>0.052830</td>\n",
       "      <td>0.052412</td>\n",
       "      <td>0.078450</td>\n",
       "      <td>...</td>\n",
       "      <td>0.096422</td>\n",
       "      <td>0.069088</td>\n",
       "      <td>0.052913</td>\n",
       "      <td>0.039413</td>\n",
       "      <td>0.026540</td>\n",
       "      <td>0.011912</td>\n",
       "      <td>0.004221</td>\n",
       "      <td>0.001087</td>\n",
       "      <td>0.000084</td>\n",
       "      <td>0.000000</td>\n",
       "    </tr>\n",
       "    <tr>\n",
       "      <th>11</th>\n",
       "      <td>충청북도</td>\n",
       "      <td>0.034678</td>\n",
       "      <td>0.035339</td>\n",
       "      <td>0.059808</td>\n",
       "      <td>0.061570</td>\n",
       "      <td>0.060824</td>\n",
       "      <td>0.064937</td>\n",
       "      <td>0.061069</td>\n",
       "      <td>0.056625</td>\n",
       "      <td>0.082318</td>\n",
       "      <td>...</td>\n",
       "      <td>0.075390</td>\n",
       "      <td>0.062427</td>\n",
       "      <td>0.041814</td>\n",
       "      <td>0.027566</td>\n",
       "      <td>0.027762</td>\n",
       "      <td>0.011212</td>\n",
       "      <td>0.005386</td>\n",
       "      <td>0.001310</td>\n",
       "      <td>0.000257</td>\n",
       "      <td>0.000037</td>\n",
       "    </tr>\n",
       "    <tr>\n",
       "      <th>12</th>\n",
       "      <td>전라남도</td>\n",
       "      <td>0.031930</td>\n",
       "      <td>0.034647</td>\n",
       "      <td>0.059154</td>\n",
       "      <td>0.063379</td>\n",
       "      <td>0.065517</td>\n",
       "      <td>0.070339</td>\n",
       "      <td>0.057977</td>\n",
       "      <td>0.053471</td>\n",
       "      <td>0.078358</td>\n",
       "      <td>...</td>\n",
       "      <td>0.071465</td>\n",
       "      <td>0.062352</td>\n",
       "      <td>0.042535</td>\n",
       "      <td>0.030704</td>\n",
       "      <td>0.027340</td>\n",
       "      <td>0.009312</td>\n",
       "      <td>0.005965</td>\n",
       "      <td>0.001458</td>\n",
       "      <td>0.000149</td>\n",
       "      <td>0.000464</td>\n",
       "    </tr>\n",
       "    <tr>\n",
       "      <th>13</th>\n",
       "      <td>대구광역시</td>\n",
       "      <td>0.023765</td>\n",
       "      <td>0.025626</td>\n",
       "      <td>0.034098</td>\n",
       "      <td>0.037897</td>\n",
       "      <td>0.062559</td>\n",
       "      <td>0.068251</td>\n",
       "      <td>0.061825</td>\n",
       "      <td>0.071207</td>\n",
       "      <td>0.070090</td>\n",
       "      <td>...</td>\n",
       "      <td>0.094511</td>\n",
       "      <td>0.073133</td>\n",
       "      <td>0.055914</td>\n",
       "      <td>0.036572</td>\n",
       "      <td>0.031887</td>\n",
       "      <td>0.012556</td>\n",
       "      <td>0.005364</td>\n",
       "      <td>0.001259</td>\n",
       "      <td>0.000219</td>\n",
       "      <td>0.000000</td>\n",
       "    </tr>\n",
       "    <tr>\n",
       "      <th>14</th>\n",
       "      <td>서울특별시</td>\n",
       "      <td>0.015323</td>\n",
       "      <td>0.015627</td>\n",
       "      <td>0.025210</td>\n",
       "      <td>0.026121</td>\n",
       "      <td>0.052712</td>\n",
       "      <td>0.056782</td>\n",
       "      <td>0.047655</td>\n",
       "      <td>0.051877</td>\n",
       "      <td>0.054216</td>\n",
       "      <td>...</td>\n",
       "      <td>0.119639</td>\n",
       "      <td>0.078939</td>\n",
       "      <td>0.097543</td>\n",
       "      <td>0.061050</td>\n",
       "      <td>0.047853</td>\n",
       "      <td>0.023463</td>\n",
       "      <td>0.011344</td>\n",
       "      <td>0.003326</td>\n",
       "      <td>0.000532</td>\n",
       "      <td>0.000152</td>\n",
       "    </tr>\n",
       "    <tr>\n",
       "      <th>15</th>\n",
       "      <td>세종특별자치시</td>\n",
       "      <td>0.037159</td>\n",
       "      <td>0.036601</td>\n",
       "      <td>0.053172</td>\n",
       "      <td>0.050047</td>\n",
       "      <td>0.079284</td>\n",
       "      <td>0.064833</td>\n",
       "      <td>0.106121</td>\n",
       "      <td>0.104447</td>\n",
       "      <td>0.075155</td>\n",
       "      <td>...</td>\n",
       "      <td>0.065279</td>\n",
       "      <td>0.051163</td>\n",
       "      <td>0.026056</td>\n",
       "      <td>0.026223</td>\n",
       "      <td>0.013893</td>\n",
       "      <td>0.007086</td>\n",
       "      <td>0.003459</td>\n",
       "      <td>0.001004</td>\n",
       "      <td>0.000279</td>\n",
       "      <td>0.000112</td>\n",
       "    </tr>\n",
       "  </tbody>\n",
       "</table>\n",
       "<p>16 rows × 23 columns</p>\n",
       "</div>"
      ],
      "text/plain": [
       "         지역  10대미만(여자)  10대미만(남자)   10대(여자)   10대(남자)   20대(여자)   20대(남자)  \\\n",
       "0      경상북도   0.030158   0.033195  0.056346  0.061360  0.060096  0.067859   \n",
       "1      경상남도   0.027400   0.026902  0.053257  0.055568  0.064920  0.070618   \n",
       "2     대전광역시   0.028197   0.029092  0.040490  0.042793  0.060834  0.064247   \n",
       "3       경기도   0.038030   0.039507  0.052546  0.053990  0.058484  0.059894   \n",
       "4      전라북도   0.028089   0.029065  0.059685  0.060080  0.066262  0.070322   \n",
       "5       강원도   0.028888   0.030682  0.051287  0.052712  0.060374  0.063157   \n",
       "6     광주광역시   0.031994   0.034566  0.049851  0.050254  0.065084  0.066875   \n",
       "7      충청남도   0.031369   0.031711  0.059077  0.062422  0.067975  0.072622   \n",
       "8     부산광역시   0.022003   0.022947  0.032681  0.035512  0.053796  0.057233   \n",
       "9   제주특별자치도   0.034690   0.036695  0.060094  0.063080  0.069135  0.069667   \n",
       "10    울산광역시   0.023991   0.025997  0.053874  0.056967  0.064240  0.074689   \n",
       "11     충청북도   0.034678   0.035339  0.059808  0.061570  0.060824  0.064937   \n",
       "12     전라남도   0.031930   0.034647  0.059154  0.063379  0.065517  0.070339   \n",
       "13    대구광역시   0.023765   0.025626  0.034098  0.037897  0.062559  0.068251   \n",
       "14    서울특별시   0.015323   0.015627  0.025210  0.026121  0.052712  0.056782   \n",
       "15  세종특별자치시   0.037159   0.036601  0.053172  0.050047  0.079284  0.064833   \n",
       "\n",
       "     30대(여자)   30대(남자)   40대(여자)  ...   60대(여자)   60대(남자)   70대(여자)   70대(남자)  \\\n",
       "0   0.053433  0.049572  0.083660  ...  0.082684  0.063889  0.047717  0.030172   \n",
       "1   0.056414  0.057550  0.077092  ...  0.087201  0.069562  0.048357  0.033277   \n",
       "2   0.068654  0.066848  0.074667  ...  0.088468  0.070261  0.051010  0.037143   \n",
       "3   0.072331  0.068704  0.083208  ...  0.074237  0.058419  0.042422  0.032725   \n",
       "4   0.052027  0.046596  0.077005  ...  0.076636  0.068042  0.051025  0.035748   \n",
       "5   0.059821  0.054321  0.076201  ...  0.088423  0.070014  0.047732  0.032760   \n",
       "6   0.066888  0.064416  0.080028  ...  0.075930  0.059586  0.048552  0.031754   \n",
       "7   0.065095  0.067303  0.078860  ...  0.070278  0.057692  0.042296  0.028682   \n",
       "8   0.047049  0.048866  0.061952  ...  0.109297  0.085294  0.078743  0.053388   \n",
       "9   0.050808  0.048026  0.080548  ...  0.074248  0.055717  0.047944  0.033054   \n",
       "10  0.052830  0.052412  0.078450  ...  0.096422  0.069088  0.052913  0.039413   \n",
       "11  0.061069  0.056625  0.082318  ...  0.075390  0.062427  0.041814  0.027566   \n",
       "12  0.057977  0.053471  0.078358  ...  0.071465  0.062352  0.042535  0.030704   \n",
       "13  0.061825  0.071207  0.070090  ...  0.094511  0.073133  0.055914  0.036572   \n",
       "14  0.047655  0.051877  0.054216  ...  0.119639  0.078939  0.097543  0.061050   \n",
       "15  0.106121  0.104447  0.075155  ...  0.065279  0.051163  0.026056  0.026223   \n",
       "\n",
       "     80대(여자)   80대(남자)   90대(여자)   90대(남자)  100대(여자)  100대(남자)  \n",
       "0   0.029361  0.011211  0.005578  0.001553  0.000234  0.000014  \n",
       "1   0.027361  0.011295  0.004910  0.001086  0.000179  0.000010  \n",
       "2   0.032455  0.013751  0.006494  0.001740  0.000298  0.000066  \n",
       "3   0.025136  0.012354  0.005390  0.001707  0.000290  0.000067  \n",
       "4   0.035049  0.012641  0.007223  0.001898  0.000158  0.000013  \n",
       "5   0.033515  0.013027  0.007628  0.001677  0.000319  0.000017  \n",
       "6   0.029749  0.010341  0.006343  0.000895  0.000353  0.000013  \n",
       "7   0.024514  0.010900  0.005429  0.001549  0.000219  0.000123  \n",
       "8   0.047908  0.020228  0.008043  0.002240  0.000268  0.000028  \n",
       "9   0.026836  0.011332  0.006832  0.000982  0.000368  0.000082  \n",
       "10  0.026540  0.011912  0.004221  0.001087  0.000084  0.000000  \n",
       "11  0.027762  0.011212  0.005386  0.001310  0.000257  0.000037  \n",
       "12  0.027340  0.009312  0.005965  0.001458  0.000149  0.000464  \n",
       "13  0.031887  0.012556  0.005364  0.001259  0.000219  0.000000  \n",
       "14  0.047853  0.023463  0.011344  0.003326  0.000532  0.000152  \n",
       "15  0.013893  0.007086  0.003459  0.001004  0.000279  0.000112  \n",
       "\n",
       "[16 rows x 23 columns]"
      ]
     },
     "execution_count": 7,
     "metadata": {},
     "output_type": "execute_result"
    }
   ],
   "source": [
    "age_gender"
   ]
  },
  {
   "cell_type": "code",
   "execution_count": 9,
   "metadata": {},
   "outputs": [
    {
     "data": {
      "text/plain": [
       "(2952, 15)"
      ]
     },
     "execution_count": 9,
     "metadata": {},
     "output_type": "execute_result"
    }
   ],
   "source": [
    "data.shape"
   ]
  },
  {
   "cell_type": "code",
   "execution_count": 10,
   "metadata": {},
   "outputs": [
    {
     "data": {
      "text/plain": [
       "(1022, 14)"
      ]
     },
     "execution_count": 10,
     "metadata": {},
     "output_type": "execute_result"
    }
   ],
   "source": [
    "test.shape"
   ]
  },
  {
   "cell_type": "code",
   "execution_count": 11,
   "metadata": {},
   "outputs": [
    {
     "data": {
      "text/plain": [
       "Index(['단지코드', '총세대수', '임대건물구분', '지역', '공급유형', '전용면적', '전용면적별세대수', '공가수',\n",
       "       '자격유형', '임대보증금', '임대료', '도보 10분거리 내 지하철역 수(환승노선 수 반영)',\n",
       "       '도보 10분거리 내 버스정류장 수', '단지내주차면수', '등록차량수'],\n",
       "      dtype='object')"
      ]
     },
     "execution_count": 11,
     "metadata": {},
     "output_type": "execute_result"
    }
   ],
   "source": [
    "data.columns"
   ]
  },
  {
   "cell_type": "code",
   "execution_count": 12,
   "metadata": {
    "scrolled": true
   },
   "outputs": [
    {
     "data": {
      "text/plain": [
       "Index(['단지코드', '총세대수', '임대건물구분', '지역', '공급유형', '전용면적', '전용면적별세대수', '공가수',\n",
       "       '자격유형', '임대보증금', '임대료', '도보 10분거리 내 지하철역 수(환승노선 수 반영)',\n",
       "       '도보 10분거리 내 버스정류장 수', '단지내주차면수'],\n",
       "      dtype='object')"
      ]
     },
     "execution_count": 12,
     "metadata": {},
     "output_type": "execute_result"
    }
   ],
   "source": [
    "test.columns"
   ]
  },
  {
   "cell_type": "markdown",
   "metadata": {},
   "source": [
    "### 데이터 설명"
   ]
  },
  {
   "cell_type": "markdown",
   "metadata": {},
   "source": [
    "- 아파트 단지 내 필요한 주차대수는 ①법정주차대수 ②장래주차수요 중 큰 값에 따라 결정하게되어 있어, 정확한 ②장래주차수요의 산정을 필요로 합니다.\n",
    "- 현재 ②장래주차수요는 ‘주차원단위’와 ‘건축연면적’을 기초로하여 산출되고 있으며, ‘주차원단위’는 신규 건축예정 부지 인근의 유사 단지를 피크 시간대 방문하여 주차된 차량대수를 세는 방법으로 조사하고 있습니다.\n",
    "- 이 경우 인력조사로 인한 오차발생, 현장조사 시점과 실제 건축시점과의 시간차 등의 문제로 과대 또는 과소 산정의 가능성을 배제할 수 없습니다."
   ]
  },
  {
   "cell_type": "markdown",
   "metadata": {},
   "source": [
    "- `단지코드`: 아파트 단지 코드"
   ]
  },
  {
   "cell_type": "markdown",
   "metadata": {},
   "source": [
    "### 단지코드"
   ]
  },
  {
   "cell_type": "code",
   "execution_count": 22,
   "metadata": {},
   "outputs": [],
   "source": [
    "import warnings\n",
    "warnings.filterwarnings(\"ignore\")"
   ]
  },
  {
   "cell_type": "code",
   "execution_count": 13,
   "metadata": {
    "scrolled": true
   },
   "outputs": [
    {
     "data": {
      "text/plain": [
       "C1439    48\n",
       "C2132    47\n",
       "C1859    40\n",
       "C1790    33\n",
       "C2597    32\n",
       "         ..\n",
       "C2651     2\n",
       "C2437     1\n",
       "C2340     1\n",
       "C2188     1\n",
       "C2520     1\n",
       "Name: 단지코드, Length: 423, dtype: int64"
      ]
     },
     "execution_count": 13,
     "metadata": {},
     "output_type": "execute_result"
    }
   ],
   "source": [
    "data.단지코드.value_counts()"
   ]
  },
  {
   "cell_type": "markdown",
   "metadata": {},
   "source": [
    "- 연속형: 총세대수, 전용면적, 전용면적별세대수, 공가수, 임대보증금, 임대료, 도보 10분거리 내 지하철역 수(환승노선 수 반영), 도보 10분거리 내 버스정류장 수, 단지내주차면수\n",
    "- 범주형: 임대건물구분, 지역, 공급유형, 자격유형\n",
    "- 범주가 너무 많은 유형: 단지코드 "
   ]
  },
  {
   "cell_type": "code",
   "execution_count": 32,
   "metadata": {
    "scrolled": false
   },
   "outputs": [
    {
     "name": "stdout",
     "output_type": "stream",
     "text": [
      "단지코드\n",
      "C1000     7\n",
      "C1004    19\n",
      "C1005     3\n",
      "C1013     5\n",
      "C1014     7\n",
      "         ..\n",
      "C2663     6\n",
      "C2666     6\n",
      "C2670     5\n",
      "C2680     3\n",
      "C2692     5\n",
      "Name: 단지코드, Length: 423, dtype: int64\n"
     ]
    },
    {
     "data": {
      "image/png": "[encoded data removed]",
      "text/plain": [
       "<Figure size 720x360 with 1 Axes>"
      ]
     },
     "metadata": {
      "needs_background": "light"
     },
     "output_type": "display_data"
    },
    {
     "name": "stdout",
     "output_type": "stream",
     "text": [
      "임대건물구분\n",
      "상가      562\n",
      "아파트    2390\n",
      "Name: 임대건물구분, dtype: int64\n"
     ]
    },
    {
     "data": {
      "image/png": "[encoded data removed]",
      "text/plain": [
       "<Figure size 720x360 with 1 Axes>"
      ]
     },
     "metadata": {
      "needs_background": "light"
     },
     "output_type": "display_data"
    },
    {
     "name": "stdout",
     "output_type": "stream",
     "text": [
      "지역\n",
      "강원도        187\n",
      "경기도        621\n",
      "경상남도       369\n",
      "경상북도       119\n",
      "광주광역시      141\n",
      "대구광역시      102\n",
      "대전광역시      266\n",
      "부산광역시      328\n",
      "서울특별시       64\n",
      "세종특별자치시     47\n",
      "울산광역시       36\n",
      "전라남도       151\n",
      "전라북도       109\n",
      "제주특별자치도     91\n",
      "충청남도       158\n",
      "충청북도       163\n",
      "Name: 지역, dtype: int64\n"
     ]
    },
    {
     "data": {
      "image/png": "[encoded data removed]",
      "text/plain": [
       "<Figure size 720x360 with 1 Axes>"
      ]
     },
     "metadata": {
      "needs_background": "light"
     },
     "output_type": "display_data"
    },
    {
     "name": "stdout",
     "output_type": "stream",
     "text": [
      "공급유형\n",
      "공공분양            7\n",
      "공공임대(10년)     205\n",
      "공공임대(50년)      31\n",
      "공공임대(5년)        3\n",
      "공공임대(분납)       12\n",
      "국민임대         1758\n",
      "영구임대          152\n",
      "임대상가          562\n",
      "장기전세            9\n",
      "행복주택          213\n",
      "Name: 공급유형, dtype: int64\n"
     ]
    },
    {
     "data": {
      "image/png": "[encoded data removed]",
      "text/plain": [
       "<Figure size 720x360 with 1 Axes>"
      ]
     },
     "metadata": {
      "needs_background": "light"
     },
     "output_type": "display_data"
    },
    {
     "name": "stdout",
     "output_type": "stream",
     "text": [
      "자격유형\n",
      "A    1801\n",
      "B      21\n",
      "C      95\n",
      "D     569\n",
      "E      37\n",
      "F       3\n",
      "G       9\n",
      "H     155\n",
      "I      49\n",
      "J     114\n",
      "K      33\n",
      "L      33\n",
      "M       2\n",
      "N      30\n",
      "O       1\n",
      "Name: 자격유형, dtype: int64\n"
     ]
    },
    {
     "data": {
      "image/png": "[encoded data removed]",
      "text/plain": [
       "<Figure size 720x360 with 1 Axes>"
      ]
     },
     "metadata": {
      "needs_background": "light"
     },
     "output_type": "display_data"
    }
   ],
   "source": [
    "for i in ['단지코드','임대건물구분', '지역', '공급유형','자격유형']:\n",
    "    print(i)\n",
    "    print(data[i].value_counts().sort_index())\n",
    "    plt.figure(figsize=(10,5))\n",
    "    sns.countplot(i, data =data)\n",
    "    plt.show()"
   ]
  },
  {
   "cell_type": "code",
   "execution_count": 61,
   "metadata": {
    "scrolled": false
   },
   "outputs": [
    {
     "name": "stdout",
     "output_type": "stream",
     "text": [
      "<class 'pandas.core.frame.DataFrame'>\n",
      "RangeIndex: 2952 entries, 0 to 2951\n",
      "Data columns (total 15 columns):\n",
      " #   Column                        Non-Null Count  Dtype  \n",
      "---  ------                        --------------  -----  \n",
      " 0   단지코드                          2952 non-null   object \n",
      " 1   총세대수                          2952 non-null   int64  \n",
      " 2   임대건물구분                        2952 non-null   object \n",
      " 3   지역                            2952 non-null   object \n",
      " 4   공급유형                          2952 non-null   object \n",
      " 5   전용면적                          2952 non-null   float64\n",
      " 6   전용면적별세대수                      2952 non-null   int64  \n",
      " 7   공가수                           2952 non-null   float64\n",
      " 8   자격유형                          2952 non-null   object \n",
      " 9   임대보증금                         2371 non-null   float64\n",
      " 10  임대료                           2362 non-null   float64\n",
      " 11  도보 10분거리 내 지하철역 수(환승노선 수 반영)  2741 non-null   float64\n",
      " 12  도보 10분거리 내 버스정류장 수            2948 non-null   float64\n",
      " 13  단지내주차면수                       2952 non-null   float64\n",
      " 14  등록차량수                         2952 non-null   float64\n",
      "dtypes: float64(8), int64(2), object(5)\n",
      "memory usage: 346.1+ KB\n"
     ]
    }
   ],
   "source": [
    "data.info()"
   ]
  },
  {
   "cell_type": "code",
   "execution_count": 60,
   "metadata": {},
   "outputs": [],
   "source": [
    "data.임대보증금 = data.임대보증금.replace(\"-\",\"NaN\")\n",
    "data.임대보증금 = data.임대보증금.astype(\"float64\")\n",
    "\n",
    "data.임대료 = data.임대료.replace(\"-\",\"NaN\")\n",
    "data.임대료 = data.임대료.astype(\"float64\")"
   ]
  },
  {
   "cell_type": "code",
   "execution_count": 62,
   "metadata": {
    "scrolled": false
   },
   "outputs": [
    {
     "name": "stdout",
     "output_type": "stream",
     "text": [
      "총세대수\n"
     ]
    },
    {
     "data": {
      "image/png": "[encoded data removed]",
      "text/plain": [
       "<Figure size 720x360 with 1 Axes>"
      ]
     },
     "metadata": {
      "needs_background": "light"
     },
     "output_type": "display_data"
    },
    {
     "name": "stdout",
     "output_type": "stream",
     "text": [
      "전용면적\n"
     ]
    },
    {
     "data": {
      "image/png": "[encoded data removed]",
      "text/plain": [
       "<Figure size 720x360 with 1 Axes>"
      ]
     },
     "metadata": {
      "needs_background": "light"
     },
     "output_type": "display_data"
    },
    {
     "name": "stdout",
     "output_type": "stream",
     "text": [
      "전용면적별세대수\n"
     ]
    },
    {
     "data": {
      "image/png": "[encoded data removed]",
      "text/plain": [
       "<Figure size 720x360 with 1 Axes>"
      ]
     },
     "metadata": {
      "needs_background": "light"
     },
     "output_type": "display_data"
    },
    {
     "name": "stdout",
     "output_type": "stream",
     "text": [
      "공가수\n"
     ]
    },
    {
     "data": {
      "image/png": "[encoded data removed]",
      "text/plain": [
       "<Figure size 720x360 with 1 Axes>"
      ]
     },
     "metadata": {
      "needs_background": "light"
     },
     "output_type": "display_data"
    },
    {
     "name": "stdout",
     "output_type": "stream",
     "text": [
      "임대료\n"
     ]
    },
    {
     "data": {
      "image/png": "[encoded data removed]",
      "text/plain": [
       "<Figure size 720x360 with 1 Axes>"
      ]
     },
     "metadata": {
      "needs_background": "light"
     },
     "output_type": "display_data"
    },
    {
     "name": "stdout",
     "output_type": "stream",
     "text": [
      "임대보증금\n"
     ]
    },
    {
     "data": {
      "image/png": "[encoded data removed]",
      "text/plain": [
       "<Figure size 720x360 with 1 Axes>"
      ]
     },
     "metadata": {
      "needs_background": "light"
     },
     "output_type": "display_data"
    },
    {
     "name": "stdout",
     "output_type": "stream",
     "text": [
      "도보 10분거리 내 지하철역 수(환승노선 수 반영)\n"
     ]
    },
    {
     "data": {
      "image/png": "[encoded data removed]",
      "text/plain": [
       "<Figure size 720x360 with 1 Axes>"
      ]
     },
     "metadata": {
      "needs_background": "light"
     },
     "output_type": "display_data"
    },
    {
     "name": "stdout",
     "output_type": "stream",
     "text": [
      "도보 10분거리 내 버스정류장 수\n"
     ]
    },
    {
     "data": {
      "image/png": "[encoded data removed]",
      "text/plain": [
       "<Figure size 720x360 with 1 Axes>"
      ]
     },
     "metadata": {
      "needs_background": "light"
     },
     "output_type": "display_data"
    },
    {
     "name": "stdout",
     "output_type": "stream",
     "text": [
      "단지내주차면수\n"
     ]
    },
    {
     "data": {
      "image/png": "[encoded data removed]",
      "text/plain": [
       "<Figure size 720x360 with 1 Axes>"
      ]
     },
     "metadata": {
      "needs_background": "light"
     },
     "output_type": "display_data"
    }
   ],
   "source": [
    "for i in ['총세대수', '전용면적', '전용면적별세대수', '공가수', '임대료', '임대보증금', '도보 10분거리 내 지하철역 수(환승노선 수 반영)', '도보 10분거리 내 버스정류장 수', '단지내주차면수']:\n",
    "    print(i)\n",
    "    plt.figure(figsize=(10,5))\n",
    "    plt.hist(i, data =data,bins= 30)\n",
    "    plt.show()"
   ]
  },
  {
   "cell_type": "code",
   "execution_count": null,
   "metadata": {},
   "outputs": [],
   "source": [
    "'총세대수', '전용면적', '전용면적별세대수', '공가수', '임대보증금', '도보 10분거리 내 지하철역 수(환승노선 수 반영)', '도보 10분거리 내 버스정류장 수', '단지내주차면수'"
   ]
  },
  {
   "cell_type": "code",
   "execution_count": null,
   "metadata": {},
   "outputs": [],
   "source": []
  },
  {
   "cell_type": "code",
   "execution_count": 24,
   "metadata": {},
   "outputs": [
    {
     "data": {
      "text/plain": [
       "(2952, 15)"
      ]
     },
     "execution_count": 24,
     "metadata": {},
     "output_type": "execute_result"
    }
   ],
   "source": [
    "data.shape"
   ]
  },
  {
   "cell_type": "markdown",
   "metadata": {},
   "source": [
    "### 종속변수"
   ]
  },
  {
   "cell_type": "code",
   "execution_count": 31,
   "metadata": {},
   "outputs": [
    {
     "data": {
      "image/png": "[encoded data removed]",
      "text/plain": [
       "<Figure size 432x288 with 1 Axes>"
      ]
     },
     "metadata": {
      "needs_background": "light"
     },
     "output_type": "display_data"
    }
   ],
   "source": [
    "#data.등록차량수.hist()\n",
    "plt.hist(data.등록차량수)\n",
    "plt.show()"
   ]
  },
  {
   "cell_type": "code",
   "execution_count": null,
   "metadata": {},
   "outputs": [],
   "source": []
  },
  {
   "cell_type": "code",
   "execution_count": null,
   "metadata": {},
   "outputs": [],
   "source": []
  },
  {
   "cell_type": "code",
   "execution_count": null,
   "metadata": {},
   "outputs": [],
   "source": []
  },
  {
   "cell_type": "code",
   "execution_count": null,
   "metadata": {},
   "outputs": [],
   "source": []
  },
  {
   "cell_type": "code",
   "execution_count": null,
   "metadata": {},
   "outputs": [],
   "source": []
  },
  {
   "cell_type": "code",
   "execution_count": null,
   "metadata": {},
   "outputs": [],
   "source": []
  },
  {
   "cell_type": "code",
   "execution_count": null,
   "metadata": {},
   "outputs": [],
   "source": []
  },
  {
   "cell_type": "code",
   "execution_count": null,
   "metadata": {},
   "outputs": [],
   "source": []
  },
  {
   "cell_type": "code",
   "execution_count": null,
   "metadata": {},
   "outputs": [],
   "source": []
  }
 ],
 "metadata": {
  "kernelspec": {
   "display_name": "Python 3",
   "language": "python",
   "name": "python3"
  },
  "language_info": {
   "codemirror_mode": {
    "name": "ipython",
    "version": 3
   },
   "file_extension": ".py",
   "mimetype": "text/x-python",
   "name": "python",
   "nbconvert_exporter": "python",
   "pygments_lexer": "ipython3",
   "version": "3.8.5"
  }
 },
 "nbformat": 4,
 "nbformat_minor": 4
}
