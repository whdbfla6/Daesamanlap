{
 "cells": [
  {
   "cell_type": "code",
   "execution_count": 1,
   "metadata": {},
   "outputs": [],
   "source": [
    "import pandas as pd\n",
    "import numpy as np\n",
    "from sklearn.linear_model import LinearRegression"
   ]
  },
  {
   "cell_type": "code",
   "execution_count": 2,
   "metadata": {},
   "outputs": [],
   "source": [
    "store = pd.read_csv(\"store_tr0707.csv\")\n",
    "train = pd.read_csv(\"train.csv\")"
   ]
  },
  {
   "cell_type": "code",
   "execution_count": 3,
   "metadata": {},
   "outputs": [],
   "source": [
    "train_store = train[train['임대건물구분']=='상가']['단지코드'].unique()"
   ]
  },
  {
   "cell_type": "code",
   "execution_count": 4,
   "metadata": {},
   "outputs": [
    {
     "name": "stdout",
     "output_type": "stream",
     "text": [
      "train data의 store:  ['C1925' 'C1874' 'C2416' 'C2621' 'C1616' 'C1704' 'C2258' 'C2038' 'C1859'\n",
      " 'C1722' 'C2190' 'C1476' 'C1983' 'C2135' 'C2034' 'C1109' 'C2289' 'C2597'\n",
      " 'C2310' 'C2132' 'C1439' 'C1899' 'C1056' 'C2644' 'C1206' 'C1775' 'C1790'\n",
      " 'C2109' 'C1698' 'C1004' 'C1875' 'C2212' 'C2571']\n",
      "개수:  33\n"
     ]
    }
   ],
   "source": [
    "print('train data의 store: ', train_store)\n",
    "print('개수: ',len(train_store))"
   ]
  },
  {
   "cell_type": "code",
   "execution_count": 5,
   "metadata": {},
   "outputs": [
    {
     "name": "stdout",
     "output_type": "stream",
     "text": [
      "외부데이터 store 단지코드:  ['C2289' 'C2597' 'C2310' 'C2132' 'C1439' 'C1899' 'C1056' 'C2644' 'C1925'\n",
      " 'C1874' 'C2416' 'C2621' 'C1616' 'C1704' 'C2258' 'C2038' 'C1859' 'C1722'\n",
      " 'C2190' 'C1476' 'C1983' 'C2135' 'C2034' 'C1775' 'C1790' 'C2109' 'C1698'\n",
      " 'C1004' 'C1875' 'C2212' 'C2571' 'C1109']\n",
      "외부데이터 store 개수 32\n"
     ]
    }
   ],
   "source": [
    "print('외부데이터 store 단지코드: ',store['단지코드'].unique())\n",
    "print('외부데이터 store 개수', store['단지코드'].nunique())"
   ]
  },
  {
   "cell_type": "code",
   "execution_count": 6,
   "metadata": {},
   "outputs": [
    {
     "name": "stdout",
     "output_type": "stream",
     "text": [
      "주소특정 안 된 단지코드:  C1206\n"
     ]
    }
   ],
   "source": [
    "for i in train_store:\n",
    "    if i not in store['단지코드'].unique():\n",
    "        print('주소특정 안 된 단지코드: ',i)"
   ]
  },
  {
   "cell_type": "code",
   "execution_count": 7,
   "metadata": {},
   "outputs": [],
   "source": [
    "store['임대료'] = store['임대료'].replace(0,np.nan)\n",
    "store['임대보증금'] = store['임대보증금'].replace(0,np.nan)"
   ]
  },
  {
   "cell_type": "code",
   "execution_count": 8,
   "metadata": {},
   "outputs": [
    {
     "data": {
      "text/html": [
       "<div>\n",
       "<style scoped>\n",
       "    .dataframe tbody tr th:only-of-type {\n",
       "        vertical-align: middle;\n",
       "    }\n",
       "\n",
       "    .dataframe tbody tr th {\n",
       "        vertical-align: top;\n",
       "    }\n",
       "\n",
       "    .dataframe thead th {\n",
       "        text-align: right;\n",
       "    }\n",
       "</style>\n",
       "<table border=\"1\" class=\"dataframe\">\n",
       "  <thead>\n",
       "    <tr style=\"text-align: right;\">\n",
       "      <th></th>\n",
       "      <th>Unnamed: 0</th>\n",
       "      <th>단지코드</th>\n",
       "      <th>지역</th>\n",
       "      <th>단지명</th>\n",
       "      <th>도로명주소</th>\n",
       "      <th>전용면적</th>\n",
       "      <th>임대료</th>\n",
       "      <th>임대보증금</th>\n",
       "    </tr>\n",
       "  </thead>\n",
       "  <tbody>\n",
       "    <tr>\n",
       "      <th>26</th>\n",
       "      <td>26</td>\n",
       "      <td>C2597</td>\n",
       "      <td>부산광역시</td>\n",
       "      <td>동삼주공1단지</td>\n",
       "      <td>부산광역시 영도구 동삼북로 2</td>\n",
       "      <td>248.56</td>\n",
       "      <td>NaN</td>\n",
       "      <td>NaN</td>\n",
       "    </tr>\n",
       "    <tr>\n",
       "      <th>38</th>\n",
       "      <td>38</td>\n",
       "      <td>C2310</td>\n",
       "      <td>부산광역시</td>\n",
       "      <td>덕천주공2단지</td>\n",
       "      <td>부산광역시 북구 덕천로 74</td>\n",
       "      <td>583.40</td>\n",
       "      <td>NaN</td>\n",
       "      <td>NaN</td>\n",
       "    </tr>\n",
       "    <tr>\n",
       "      <th>80</th>\n",
       "      <td>80</td>\n",
       "      <td>C1439</td>\n",
       "      <td>부산광역시</td>\n",
       "      <td>주공아파트</td>\n",
       "      <td>부산광역시 해운대구 신반송로 200</td>\n",
       "      <td>248.56</td>\n",
       "      <td>NaN</td>\n",
       "      <td>NaN</td>\n",
       "    </tr>\n",
       "    <tr>\n",
       "      <th>107</th>\n",
       "      <td>107</td>\n",
       "      <td>C2416</td>\n",
       "      <td>경상남도</td>\n",
       "      <td>김해구산주공1단지아파트</td>\n",
       "      <td>경상남도 김해시 가락로 222</td>\n",
       "      <td>317.17</td>\n",
       "      <td>NaN</td>\n",
       "      <td>NaN</td>\n",
       "    </tr>\n",
       "    <tr>\n",
       "      <th>110</th>\n",
       "      <td>110</td>\n",
       "      <td>C2621</td>\n",
       "      <td>대전광역시</td>\n",
       "      <td>대전둔산3</td>\n",
       "      <td>대전광역시 서구 월평북로 11</td>\n",
       "      <td>137.49</td>\n",
       "      <td>NaN</td>\n",
       "      <td>NaN</td>\n",
       "    </tr>\n",
       "    <tr>\n",
       "      <th>122</th>\n",
       "      <td>122</td>\n",
       "      <td>C1616</td>\n",
       "      <td>대전광역시</td>\n",
       "      <td>법동 주공아파트3단지</td>\n",
       "      <td>대전광역시 대덕구 계족로663번길 34</td>\n",
       "      <td>109.11</td>\n",
       "      <td>NaN</td>\n",
       "      <td>NaN</td>\n",
       "    </tr>\n",
       "    <tr>\n",
       "      <th>151</th>\n",
       "      <td>151</td>\n",
       "      <td>C2038</td>\n",
       "      <td>대전광역시</td>\n",
       "      <td>대전판암3</td>\n",
       "      <td>대전광역시 동구 옥천로 152-9</td>\n",
       "      <td>240.22</td>\n",
       "      <td>NaN</td>\n",
       "      <td>NaN</td>\n",
       "    </tr>\n",
       "    <tr>\n",
       "      <th>198</th>\n",
       "      <td>198</td>\n",
       "      <td>C2135</td>\n",
       "      <td>부산광역시</td>\n",
       "      <td>부산금곡주공1단지</td>\n",
       "      <td>부산광역시 북구 효열로 268</td>\n",
       "      <td>240.22</td>\n",
       "      <td>NaN</td>\n",
       "      <td>NaN</td>\n",
       "    </tr>\n",
       "    <tr>\n",
       "      <th>213</th>\n",
       "      <td>213</td>\n",
       "      <td>C2034</td>\n",
       "      <td>부산광역시</td>\n",
       "      <td>부산금곡주공2단지</td>\n",
       "      <td>부산광역시 북구 금곡대로616번길 10-9</td>\n",
       "      <td>240.22</td>\n",
       "      <td>NaN</td>\n",
       "      <td>NaN</td>\n",
       "    </tr>\n",
       "    <tr>\n",
       "      <th>233</th>\n",
       "      <td>233</td>\n",
       "      <td>C1790</td>\n",
       "      <td>경상남도</td>\n",
       "      <td>진주가좌주공아파트</td>\n",
       "      <td>경상남도 진주시 가호로 26</td>\n",
       "      <td>248.56</td>\n",
       "      <td>NaN</td>\n",
       "      <td>NaN</td>\n",
       "    </tr>\n",
       "    <tr>\n",
       "      <th>249</th>\n",
       "      <td>249</td>\n",
       "      <td>C1004</td>\n",
       "      <td>충청남도</td>\n",
       "      <td>주공6단지2차아파트</td>\n",
       "      <td>충청남도 천안시 서북구 쌍용대로 289-28</td>\n",
       "      <td>240.22</td>\n",
       "      <td>NaN</td>\n",
       "      <td>NaN</td>\n",
       "    </tr>\n",
       "    <tr>\n",
       "      <th>262</th>\n",
       "      <td>262</td>\n",
       "      <td>C1875</td>\n",
       "      <td>충청남도</td>\n",
       "      <td>쌍용주공7단지1차아파트</td>\n",
       "      <td>충청남도 천안시 서북구 쌍용11길 57</td>\n",
       "      <td>240.22</td>\n",
       "      <td>NaN</td>\n",
       "      <td>NaN</td>\n",
       "    </tr>\n",
       "  </tbody>\n",
       "</table>\n",
       "</div>"
      ],
      "text/plain": [
       "     Unnamed: 0   단지코드     지역           단지명                     도로명주소    전용면적  \\\n",
       "26           26  C2597  부산광역시       동삼주공1단지          부산광역시 영도구 동삼북로 2  248.56   \n",
       "38           38  C2310  부산광역시       덕천주공2단지           부산광역시 북구 덕천로 74  583.40   \n",
       "80           80  C1439  부산광역시         주공아파트       부산광역시 해운대구 신반송로 200  248.56   \n",
       "107         107  C2416   경상남도  김해구산주공1단지아파트          경상남도 김해시 가락로 222  317.17   \n",
       "110         110  C2621  대전광역시         대전둔산3          대전광역시 서구 월평북로 11  137.49   \n",
       "122         122  C1616  대전광역시   법동 주공아파트3단지     대전광역시 대덕구 계족로663번길 34  109.11   \n",
       "151         151  C2038  대전광역시         대전판암3        대전광역시 동구 옥천로 152-9  240.22   \n",
       "198         198  C2135  부산광역시     부산금곡주공1단지          부산광역시 북구 효열로 268  240.22   \n",
       "213         213  C2034  부산광역시     부산금곡주공2단지   부산광역시 북구 금곡대로616번길 10-9  240.22   \n",
       "233         233  C1790   경상남도     진주가좌주공아파트           경상남도 진주시 가호로 26  248.56   \n",
       "249         249  C1004   충청남도    주공6단지2차아파트  충청남도 천안시 서북구 쌍용대로 289-28  240.22   \n",
       "262         262  C1875   충청남도  쌍용주공7단지1차아파트     충청남도 천안시 서북구 쌍용11길 57  240.22   \n",
       "\n",
       "     임대료  임대보증금  \n",
       "26   NaN    NaN  \n",
       "38   NaN    NaN  \n",
       "80   NaN    NaN  \n",
       "107  NaN    NaN  \n",
       "110  NaN    NaN  \n",
       "122  NaN    NaN  \n",
       "151  NaN    NaN  \n",
       "198  NaN    NaN  \n",
       "213  NaN    NaN  \n",
       "233  NaN    NaN  \n",
       "249  NaN    NaN  \n",
       "262  NaN    NaN  "
      ]
     },
     "execution_count": 8,
     "metadata": {},
     "output_type": "execute_result"
    }
   ],
   "source": [
    "store[store['임대보증금'].isna()==True] #3개는 임대료, 임대보증금 na imputation 필요"
   ]
  },
  {
   "cell_type": "code",
   "execution_count": 9,
   "metadata": {},
   "outputs": [],
   "source": [
    "store = store.iloc[:,1:]"
   ]
  },
  {
   "cell_type": "code",
   "execution_count": 10,
   "metadata": {},
   "outputs": [
    {
     "data": {
      "text/plain": [
       "(32, 2)"
      ]
     },
     "execution_count": 10,
     "metadata": {},
     "output_type": "execute_result"
    }
   ],
   "source": [
    "store[['단지코드','단지명']].drop_duplicates().shape #32개는 모두 unique한 단지명 보유"
   ]
  },
  {
   "cell_type": "code",
   "execution_count": 11,
   "metadata": {},
   "outputs": [],
   "source": [
    "tmp = store[['단지코드','단지명']].drop_duplicates()"
   ]
  },
  {
   "cell_type": "code",
   "execution_count": 12,
   "metadata": {},
   "outputs": [
    {
     "data": {
      "text/plain": [
       "32"
      ]
     },
     "execution_count": 12,
     "metadata": {},
     "output_type": "execute_result"
    }
   ],
   "source": [
    "tmp['단지명'].nunique()"
   ]
  },
  {
   "cell_type": "code",
   "execution_count": 13,
   "metadata": {},
   "outputs": [],
   "source": [
    "tmp = train[(train['단지코드']==\"C1206\")&(train['임대건물구분']=='상가')][['단지코드','지역','전용면적','임대료','임대보증금']].drop_duplicates()\n",
    "tmp = tmp.reset_index(drop=True)"
   ]
  },
  {
   "cell_type": "code",
   "execution_count": 14,
   "metadata": {},
   "outputs": [],
   "source": [
    "tmp['단지명'] = '명륜주공2차아파트'\n",
    "tmp['도로명주소'] = '강원도 원주시 예술관길 31'\n",
    "tmp['임대료'] = 0\n",
    "tmp['임대보증금'] = 0"
   ]
  },
  {
   "cell_type": "code",
   "execution_count": 15,
   "metadata": {},
   "outputs": [
    {
     "data": {
      "text/html": [
       "<div>\n",
       "<style scoped>\n",
       "    .dataframe tbody tr th:only-of-type {\n",
       "        vertical-align: middle;\n",
       "    }\n",
       "\n",
       "    .dataframe tbody tr th {\n",
       "        vertical-align: top;\n",
       "    }\n",
       "\n",
       "    .dataframe thead th {\n",
       "        text-align: right;\n",
       "    }\n",
       "</style>\n",
       "<table border=\"1\" class=\"dataframe\">\n",
       "  <thead>\n",
       "    <tr style=\"text-align: right;\">\n",
       "      <th></th>\n",
       "      <th>단지코드</th>\n",
       "      <th>지역</th>\n",
       "      <th>전용면적</th>\n",
       "      <th>임대료</th>\n",
       "      <th>임대보증금</th>\n",
       "      <th>단지명</th>\n",
       "      <th>도로명주소</th>\n",
       "    </tr>\n",
       "  </thead>\n",
       "  <tbody>\n",
       "    <tr>\n",
       "      <th>0</th>\n",
       "      <td>C1206</td>\n",
       "      <td>강원도</td>\n",
       "      <td>31.84</td>\n",
       "      <td>0</td>\n",
       "      <td>0</td>\n",
       "      <td>명륜주공2차아파트</td>\n",
       "      <td>강원도 원주시 예술관길 31</td>\n",
       "    </tr>\n",
       "    <tr>\n",
       "      <th>1</th>\n",
       "      <td>C1206</td>\n",
       "      <td>강원도</td>\n",
       "      <td>63.68</td>\n",
       "      <td>0</td>\n",
       "      <td>0</td>\n",
       "      <td>명륜주공2차아파트</td>\n",
       "      <td>강원도 원주시 예술관길 31</td>\n",
       "    </tr>\n",
       "    <tr>\n",
       "      <th>2</th>\n",
       "      <td>C1206</td>\n",
       "      <td>강원도</td>\n",
       "      <td>137.49</td>\n",
       "      <td>0</td>\n",
       "      <td>0</td>\n",
       "      <td>명륜주공2차아파트</td>\n",
       "      <td>강원도 원주시 예술관길 31</td>\n",
       "    </tr>\n",
       "  </tbody>\n",
       "</table>\n",
       "</div>"
      ],
      "text/plain": [
       "    단지코드   지역    전용면적  임대료  임대보증금        단지명            도로명주소\n",
       "0  C1206  강원도   31.84    0      0  명륜주공2차아파트  강원도 원주시 예술관길 31\n",
       "1  C1206  강원도   63.68    0      0  명륜주공2차아파트  강원도 원주시 예술관길 31\n",
       "2  C1206  강원도  137.49    0      0  명륜주공2차아파트  강원도 원주시 예술관길 31"
      ]
     },
     "execution_count": 15,
     "metadata": {},
     "output_type": "execute_result"
    }
   ],
   "source": [
    "tmp"
   ]
  },
  {
   "cell_type": "code",
   "execution_count": 16,
   "metadata": {},
   "outputs": [],
   "source": [
    "# 28.93 9160000 236000\n",
    "# 42.4 6860000 174000\n",
    "# 23.86 10180000 263000"
   ]
  },
  {
   "cell_type": "code",
   "execution_count": 17,
   "metadata": {},
   "outputs": [],
   "source": [
    "train_X = np.array([28.93,42.4,23.86]).reshape(-1,1)\n",
    "y1 = np.array([235000,174000,263000])\n",
    "y2 = np.array([9160000,6860000,10180000])\n",
    "lg = LinearRegression()\n",
    "lg1 = LinearRegression()\n",
    "lg.fit(train_X,y1) #임대료\n",
    "lg1.fit(train_X,y2) #임대보증금\n",
    "test_X = np.array([31.84,63.68]).reshape(-1,1)\n",
    "pred = lg.predict(test_X)\n",
    "pred1 = lg1.predict(test_X)"
   ]
  },
  {
   "cell_type": "code",
   "execution_count": 18,
   "metadata": {},
   "outputs": [],
   "source": [
    "tmp.loc[0,'임대료'] = pred[0]\n",
    "tmp.loc[0,'임대보증금'] = pred1[0]\n",
    "tmp.loc[1,'임대료'] = pred[1]\n",
    "tmp.loc[1,'임대보증금'] = pred1[1]"
   ]
  },
  {
   "cell_type": "code",
   "execution_count": 19,
   "metadata": {},
   "outputs": [
    {
     "data": {
      "text/html": [
       "<div>\n",
       "<style scoped>\n",
       "    .dataframe tbody tr th:only-of-type {\n",
       "        vertical-align: middle;\n",
       "    }\n",
       "\n",
       "    .dataframe tbody tr th {\n",
       "        vertical-align: top;\n",
       "    }\n",
       "\n",
       "    .dataframe thead th {\n",
       "        text-align: right;\n",
       "    }\n",
       "</style>\n",
       "<table border=\"1\" class=\"dataframe\">\n",
       "  <thead>\n",
       "    <tr style=\"text-align: right;\">\n",
       "      <th></th>\n",
       "      <th>단지코드</th>\n",
       "      <th>지역</th>\n",
       "      <th>전용면적</th>\n",
       "      <th>임대료</th>\n",
       "      <th>임대보증금</th>\n",
       "      <th>단지명</th>\n",
       "      <th>도로명주소</th>\n",
       "    </tr>\n",
       "  </thead>\n",
       "  <tbody>\n",
       "    <tr>\n",
       "      <th>0</th>\n",
       "      <td>C1206</td>\n",
       "      <td>강원도</td>\n",
       "      <td>31.84</td>\n",
       "      <td>223478.094581</td>\n",
       "      <td>8.713823e+06</td>\n",
       "      <td>명륜주공2차아파트</td>\n",
       "      <td>강원도 원주시 예술관길 31</td>\n",
       "    </tr>\n",
       "    <tr>\n",
       "      <th>1</th>\n",
       "      <td>C1206</td>\n",
       "      <td>강원도</td>\n",
       "      <td>63.68</td>\n",
       "      <td>72410.198894</td>\n",
       "      <td>3.066589e+06</td>\n",
       "      <td>명륜주공2차아파트</td>\n",
       "      <td>강원도 원주시 예술관길 31</td>\n",
       "    </tr>\n",
       "    <tr>\n",
       "      <th>2</th>\n",
       "      <td>C1206</td>\n",
       "      <td>강원도</td>\n",
       "      <td>137.49</td>\n",
       "      <td>NaN</td>\n",
       "      <td>NaN</td>\n",
       "      <td>명륜주공2차아파트</td>\n",
       "      <td>강원도 원주시 예술관길 31</td>\n",
       "    </tr>\n",
       "  </tbody>\n",
       "</table>\n",
       "</div>"
      ],
      "text/plain": [
       "    단지코드   지역    전용면적            임대료         임대보증금        단지명            도로명주소\n",
       "0  C1206  강원도   31.84  223478.094581  8.713823e+06  명륜주공2차아파트  강원도 원주시 예술관길 31\n",
       "1  C1206  강원도   63.68   72410.198894  3.066589e+06  명륜주공2차아파트  강원도 원주시 예술관길 31\n",
       "2  C1206  강원도  137.49            NaN           NaN  명륜주공2차아파트  강원도 원주시 예술관길 31"
      ]
     },
     "execution_count": 19,
     "metadata": {},
     "output_type": "execute_result"
    }
   ],
   "source": [
    "tmp.replace(0,np.nan)"
   ]
  },
  {
   "cell_type": "code",
   "execution_count": 20,
   "metadata": {},
   "outputs": [],
   "source": [
    "store = pd.concat([tmp,store])"
   ]
  },
  {
   "cell_type": "code",
   "execution_count": 21,
   "metadata": {},
   "outputs": [
    {
     "name": "stdout",
     "output_type": "stream",
     "text": [
      "주소가 모두 특정됨\n"
     ]
    }
   ],
   "source": [
    "for i in train_store:\n",
    "    if i not in store['단지코드'].unique():\n",
    "        print('주소특정 안 된 단지코드: ',i)\n",
    "else:\n",
    "    print('주소가 모두 특정됨')"
   ]
  },
  {
   "cell_type": "code",
   "execution_count": 22,
   "metadata": {},
   "outputs": [
    {
     "data": {
      "text/html": [
       "<div>\n",
       "<style scoped>\n",
       "    .dataframe tbody tr th:only-of-type {\n",
       "        vertical-align: middle;\n",
       "    }\n",
       "\n",
       "    .dataframe tbody tr th {\n",
       "        vertical-align: top;\n",
       "    }\n",
       "\n",
       "    .dataframe thead th {\n",
       "        text-align: right;\n",
       "    }\n",
       "</style>\n",
       "<table border=\"1\" class=\"dataframe\">\n",
       "  <thead>\n",
       "    <tr style=\"text-align: right;\">\n",
       "      <th></th>\n",
       "      <th>단지코드</th>\n",
       "      <th>지역</th>\n",
       "      <th>전용면적</th>\n",
       "      <th>임대료</th>\n",
       "      <th>임대보증금</th>\n",
       "      <th>단지명</th>\n",
       "      <th>도로명주소</th>\n",
       "    </tr>\n",
       "  </thead>\n",
       "  <tbody>\n",
       "    <tr>\n",
       "      <th>26</th>\n",
       "      <td>C2597</td>\n",
       "      <td>부산광역시</td>\n",
       "      <td>248.56</td>\n",
       "      <td>NaN</td>\n",
       "      <td>NaN</td>\n",
       "      <td>동삼주공1단지</td>\n",
       "      <td>부산광역시 영도구 동삼북로 2</td>\n",
       "    </tr>\n",
       "    <tr>\n",
       "      <th>38</th>\n",
       "      <td>C2310</td>\n",
       "      <td>부산광역시</td>\n",
       "      <td>583.40</td>\n",
       "      <td>NaN</td>\n",
       "      <td>NaN</td>\n",
       "      <td>덕천주공2단지</td>\n",
       "      <td>부산광역시 북구 덕천로 74</td>\n",
       "    </tr>\n",
       "    <tr>\n",
       "      <th>80</th>\n",
       "      <td>C1439</td>\n",
       "      <td>부산광역시</td>\n",
       "      <td>248.56</td>\n",
       "      <td>NaN</td>\n",
       "      <td>NaN</td>\n",
       "      <td>주공아파트</td>\n",
       "      <td>부산광역시 해운대구 신반송로 200</td>\n",
       "    </tr>\n",
       "    <tr>\n",
       "      <th>107</th>\n",
       "      <td>C2416</td>\n",
       "      <td>경상남도</td>\n",
       "      <td>317.17</td>\n",
       "      <td>NaN</td>\n",
       "      <td>NaN</td>\n",
       "      <td>김해구산주공1단지아파트</td>\n",
       "      <td>경상남도 김해시 가락로 222</td>\n",
       "    </tr>\n",
       "    <tr>\n",
       "      <th>110</th>\n",
       "      <td>C2621</td>\n",
       "      <td>대전광역시</td>\n",
       "      <td>137.49</td>\n",
       "      <td>NaN</td>\n",
       "      <td>NaN</td>\n",
       "      <td>대전둔산3</td>\n",
       "      <td>대전광역시 서구 월평북로 11</td>\n",
       "    </tr>\n",
       "    <tr>\n",
       "      <th>122</th>\n",
       "      <td>C1616</td>\n",
       "      <td>대전광역시</td>\n",
       "      <td>109.11</td>\n",
       "      <td>NaN</td>\n",
       "      <td>NaN</td>\n",
       "      <td>법동 주공아파트3단지</td>\n",
       "      <td>대전광역시 대덕구 계족로663번길 34</td>\n",
       "    </tr>\n",
       "    <tr>\n",
       "      <th>151</th>\n",
       "      <td>C2038</td>\n",
       "      <td>대전광역시</td>\n",
       "      <td>240.22</td>\n",
       "      <td>NaN</td>\n",
       "      <td>NaN</td>\n",
       "      <td>대전판암3</td>\n",
       "      <td>대전광역시 동구 옥천로 152-9</td>\n",
       "    </tr>\n",
       "    <tr>\n",
       "      <th>198</th>\n",
       "      <td>C2135</td>\n",
       "      <td>부산광역시</td>\n",
       "      <td>240.22</td>\n",
       "      <td>NaN</td>\n",
       "      <td>NaN</td>\n",
       "      <td>부산금곡주공1단지</td>\n",
       "      <td>부산광역시 북구 효열로 268</td>\n",
       "    </tr>\n",
       "    <tr>\n",
       "      <th>213</th>\n",
       "      <td>C2034</td>\n",
       "      <td>부산광역시</td>\n",
       "      <td>240.22</td>\n",
       "      <td>NaN</td>\n",
       "      <td>NaN</td>\n",
       "      <td>부산금곡주공2단지</td>\n",
       "      <td>부산광역시 북구 금곡대로616번길 10-9</td>\n",
       "    </tr>\n",
       "    <tr>\n",
       "      <th>233</th>\n",
       "      <td>C1790</td>\n",
       "      <td>경상남도</td>\n",
       "      <td>248.56</td>\n",
       "      <td>NaN</td>\n",
       "      <td>NaN</td>\n",
       "      <td>진주가좌주공아파트</td>\n",
       "      <td>경상남도 진주시 가호로 26</td>\n",
       "    </tr>\n",
       "    <tr>\n",
       "      <th>249</th>\n",
       "      <td>C1004</td>\n",
       "      <td>충청남도</td>\n",
       "      <td>240.22</td>\n",
       "      <td>NaN</td>\n",
       "      <td>NaN</td>\n",
       "      <td>주공6단지2차아파트</td>\n",
       "      <td>충청남도 천안시 서북구 쌍용대로 289-28</td>\n",
       "    </tr>\n",
       "    <tr>\n",
       "      <th>262</th>\n",
       "      <td>C1875</td>\n",
       "      <td>충청남도</td>\n",
       "      <td>240.22</td>\n",
       "      <td>NaN</td>\n",
       "      <td>NaN</td>\n",
       "      <td>쌍용주공7단지1차아파트</td>\n",
       "      <td>충청남도 천안시 서북구 쌍용11길 57</td>\n",
       "    </tr>\n",
       "  </tbody>\n",
       "</table>\n",
       "</div>"
      ],
      "text/plain": [
       "      단지코드     지역    전용면적  임대료  임대보증금           단지명                     도로명주소\n",
       "26   C2597  부산광역시  248.56  NaN    NaN       동삼주공1단지          부산광역시 영도구 동삼북로 2\n",
       "38   C2310  부산광역시  583.40  NaN    NaN       덕천주공2단지           부산광역시 북구 덕천로 74\n",
       "80   C1439  부산광역시  248.56  NaN    NaN         주공아파트       부산광역시 해운대구 신반송로 200\n",
       "107  C2416   경상남도  317.17  NaN    NaN  김해구산주공1단지아파트          경상남도 김해시 가락로 222\n",
       "110  C2621  대전광역시  137.49  NaN    NaN         대전둔산3          대전광역시 서구 월평북로 11\n",
       "122  C1616  대전광역시  109.11  NaN    NaN   법동 주공아파트3단지     대전광역시 대덕구 계족로663번길 34\n",
       "151  C2038  대전광역시  240.22  NaN    NaN         대전판암3        대전광역시 동구 옥천로 152-9\n",
       "198  C2135  부산광역시  240.22  NaN    NaN     부산금곡주공1단지          부산광역시 북구 효열로 268\n",
       "213  C2034  부산광역시  240.22  NaN    NaN     부산금곡주공2단지   부산광역시 북구 금곡대로616번길 10-9\n",
       "233  C1790   경상남도  248.56  NaN    NaN     진주가좌주공아파트           경상남도 진주시 가호로 26\n",
       "249  C1004   충청남도  240.22  NaN    NaN    주공6단지2차아파트  충청남도 천안시 서북구 쌍용대로 289-28\n",
       "262  C1875   충청남도  240.22  NaN    NaN  쌍용주공7단지1차아파트     충청남도 천안시 서북구 쌍용11길 57"
      ]
     },
     "execution_count": 22,
     "metadata": {},
     "output_type": "execute_result"
    }
   ],
   "source": [
    "store[store['임대보증금'].isna()==True] #지하의 경우 na imputation이 필요하다"
   ]
  },
  {
   "cell_type": "code",
   "execution_count": 23,
   "metadata": {},
   "outputs": [],
   "source": [
    "store.to_csv(\"store_tr0708.csv\",index=False)"
   ]
  }
 ],
 "metadata": {
  "kernelspec": {
   "display_name": "Python 3",
   "language": "python",
   "name": "python3"
  },
  "language_info": {
   "codemirror_mode": {
    "name": "ipython",
    "version": 3
   },
   "file_extension": ".py",
   "mimetype": "text/x-python",
   "name": "python",
   "nbconvert_exporter": "python",
   "pygments_lexer": "ipython3",
   "version": "3.8.3"
  }
 },
 "nbformat": 4,
 "nbformat_minor": 5
}
