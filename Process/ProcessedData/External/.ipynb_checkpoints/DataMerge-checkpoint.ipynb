{
 "cells": [
  {
   "cell_type": "code",
   "execution_count": 1,
   "id": "f7dc9fa5",
   "metadata": {},
   "outputs": [],
   "source": [
    "import pandas as pd\n",
    "import numpy as np\n",
    "import matplotlib\n",
    "from matplotlib import font_manager, rc\n",
    "from matplotlib import pyplot as plt\n",
    "import seaborn as sns\n",
    "rc('font', family = 'AppleGothic')\n",
    "from sklearn.linear_model import LinearRegression"
   ]
  },
  {
   "cell_type": "code",
   "execution_count": 2,
   "id": "b1413f31",
   "metadata": {},
   "outputs": [],
   "source": [
    "train = pd.read_csv(\"train.csv\")\n",
    "data = pd.read_csv('external_data.csv',header='infer')"
   ]
  },
  {
   "cell_type": "code",
   "execution_count": 3,
   "id": "41b3fb1a",
   "metadata": {},
   "outputs": [
    {
     "data": {
      "text/plain": [
       "(2952, 15)"
      ]
     },
     "execution_count": 3,
     "metadata": {},
     "output_type": "execute_result"
    }
   ],
   "source": [
    "train.shape"
   ]
  },
  {
   "cell_type": "markdown",
   "id": "db2c1a19",
   "metadata": {},
   "source": [
    "## 0. 전처리"
   ]
  },
  {
   "cell_type": "markdown",
   "id": "dc99395c",
   "metadata": {},
   "source": [
    "- 세대수 = 총세대수\n",
    "- 기본임대보증금 = 임대보증금\n",
    "- 주택유형명 = 임대건물구분\n",
    "- 공급유형명 = 공급유형\n",
    "- 광역도시명 = 지역\n",
    "- 공급전용면적 = 전용면적\n",
    "- 주차수 = 단지내주차면수(완전히 동일하지는 않음!!)"
   ]
  },
  {
   "cell_type": "code",
   "execution_count": 4,
   "id": "d5fcd11a",
   "metadata": {},
   "outputs": [],
   "source": [
    "train['임대료'] = train['임대료'].replace('-',np.nan)\n",
    "train['임대보증금'] = train['임대보증금'].replace('-',np.nan)\n",
    "train['임대료'] = train['임대료'].apply(lambda x : float(x))\n",
    "train['임대보증금'] = train['임대보증금'].apply(lambda x : float(x))"
   ]
  },
  {
   "cell_type": "code",
   "execution_count": 5,
   "id": "837099d9",
   "metadata": {},
   "outputs": [],
   "source": [
    "data = data.rename(columns = {'세대수':'총세대수','기본임대보증금':'임대보증금','주택유형명':'임대건물구분','공급유형명':'공급유형','광역시도명':'지역','공급전용면적':'전용면적','주차수':'단지내주차면수'})"
   ]
  },
  {
   "cell_type": "code",
   "execution_count": 6,
   "id": "ac64810a",
   "metadata": {},
   "outputs": [
    {
     "name": "stdout",
     "output_type": "stream",
     "text": [
      "['강원도', '경기도', '경상남도', '경상북도', '광주광역시', '대구광역시', '대전광역시', '부산광역시', '서울특별시', '세종특별자치시', '울산광역시', '전라남도', '전라북도', '제주특별자치도', '충청남도', '충청북도']\n",
      "['강원도', '경기도', '경상남도', '경상북도', '광주광역시', '대구광역시', '대전광역시', '부산광역시', '서울특별시', '세종특별자치시', '울산광역시', '인천광역시', '전라남도', '전라북도', '제주특별자치도', '충청남도', '충청북도']\n"
     ]
    }
   ],
   "source": [
    "print(sorted(train['지역'].unique()))\n",
    "print(sorted(data['지역'].unique()))"
   ]
  },
  {
   "cell_type": "code",
   "execution_count": 7,
   "id": "6c252e9b",
   "metadata": {},
   "outputs": [
    {
     "name": "stdout",
     "output_type": "stream",
     "text": [
      "['10년임대', '50년임대', '5년임대', '국민임대', '매입임대', '영구임대', '장기전세', '행복주택']\n",
      "['공공분양', '공공임대(10년)', '공공임대(50년)', '공공임대(5년)', '공공임대(분납)', '국민임대', '영구임대', '임대상가', '장기전세', '행복주택']\n"
     ]
    }
   ],
   "source": [
    "print(sorted(data['공급유형'].unique()))\n",
    "print(sorted(train['공급유형'].unique()))"
   ]
  },
  {
   "cell_type": "code",
   "execution_count": 8,
   "id": "aa778567",
   "metadata": {},
   "outputs": [],
   "source": [
    "data.loc[data.공급유형.isin(['10년임대']), '공급유형'] = '공공임대(10년)'\n",
    "data.loc[data.공급유형.isin(['50년임대']), '공급유형'] = '공공임대(50년)'\n",
    "data.loc[data.공급유형.isin(['5년임대']), '공급유형'] = '공공임대(5년)'"
   ]
  },
  {
   "cell_type": "code",
   "execution_count": 9,
   "id": "07546263",
   "metadata": {},
   "outputs": [],
   "source": [
    "data1 = data[data['임대건물구분']=='아파트']\n",
    "train1 = train[train['임대건물구분']=='아파트']"
   ]
  },
  {
   "cell_type": "code",
   "execution_count": 10,
   "id": "a7448091",
   "metadata": {},
   "outputs": [],
   "source": [
    "data1 = data1[['지역','총세대수','전용면적','단지명','공급유형','임대건물구분','임대보증금','단지내주차면수','기관명','도로명주소']]\n",
    "train1 = train1[['단지코드','총세대수','지역','전용면적','임대보증금','공급유형','임대건물구분','임대보증금','단지내주차면수']]"
   ]
  },
  {
   "cell_type": "markdown",
   "id": "a36ab079",
   "metadata": {},
   "source": [
    "## 기준1 : 지역, 공급유형, 총세대수"
   ]
  },
  {
   "cell_type": "code",
   "execution_count": 11,
   "id": "f336d6ad",
   "metadata": {},
   "outputs": [
    {
     "name": "stdout",
     "output_type": "stream",
     "text": [
      "전체 단지코드:  423\n"
     ]
    }
   ],
   "source": [
    "print('전체 단지코드: ',train['단지코드'].nunique())"
   ]
  },
  {
   "cell_type": "code",
   "execution_count": 12,
   "id": "50619e4f",
   "metadata": {},
   "outputs": [],
   "source": [
    "result1 = pd.merge(train1,data1,how='left',on=['지역','공급유형','총세대수'])[['단지코드','단지명']].drop_duplicates()"
   ]
  },
  {
   "cell_type": "code",
   "execution_count": 13,
   "id": "56a32304",
   "metadata": {},
   "outputs": [
    {
     "name": "stdout",
     "output_type": "stream",
     "text": [
      "NA 개수:  94\n",
      "특정된 단지코드 수:  329\n",
      "전체 단지코드 수:  423\n",
      "NA 비율:  0.22\n"
     ]
    }
   ],
   "source": [
    "print('NA 개수: ',result1['단지명'].isna().sum())\n",
    "print('특정된 단지코드 수: ',train['단지코드'].nunique()-result1['단지명'].isna().sum())\n",
    "print('전체 단지코드 수: ',train['단지코드'].nunique())\n",
    "print('NA 비율: ', round(result1['단지명'].isna().sum()/train['단지코드'].nunique(),2))"
   ]
  },
  {
   "cell_type": "markdown",
   "id": "2e4fc6b4",
   "metadata": {},
   "source": [
    "## 기준 2 : 지역, 공급유형, 전용면적, 임대보증금"
   ]
  },
  {
   "cell_type": "code",
   "execution_count": 14,
   "id": "6979df12",
   "metadata": {},
   "outputs": [],
   "source": [
    "datana = result1[result1['단지명'].isna()==True]['단지코드'].values\n",
    "n = len(datana)"
   ]
  },
  {
   "cell_type": "code",
   "execution_count": 15,
   "id": "573aa080",
   "metadata": {},
   "outputs": [],
   "source": [
    "datana = train.loc[train['단지코드'].isin(datana)]\n",
    "datana = datana[datana['임대건물구분']=='아파트']"
   ]
  },
  {
   "cell_type": "code",
   "execution_count": 16,
   "id": "16493e0d",
   "metadata": {},
   "outputs": [],
   "source": [
    "result2 = pd.merge(datana,data1,how='left',on=['지역','공급유형','전용면적','임대보증금'])[['단지코드','단지명']].drop_duplicates()"
   ]
  },
  {
   "cell_type": "code",
   "execution_count": 17,
   "id": "7d9a2c2b",
   "metadata": {},
   "outputs": [
    {
     "name": "stdout",
     "output_type": "stream",
     "text": [
      "NA 개수:  39\n",
      "특정된 단지코드 수:  55\n",
      "전체 단지코드 수:  94\n",
      "NA 비율:  0.09\n"
     ]
    }
   ],
   "source": [
    "print('NA 개수: ',result2['단지명'].isna().sum())\n",
    "print('특정된 단지코드 수: ',n-result2['단지명'].isna().sum())\n",
    "print('전체 단지코드 수: ',n)\n",
    "print('NA 비율: ', round(result2['단지명'].isna().sum()/train['단지코드'].nunique(),2))"
   ]
  },
  {
   "cell_type": "markdown",
   "id": "dfdbac4f",
   "metadata": {},
   "source": [
    "## 기준3 : 지역, 공급유형, 전용면적, 단지내주차면수"
   ]
  },
  {
   "cell_type": "code",
   "execution_count": 18,
   "id": "12d777be",
   "metadata": {},
   "outputs": [],
   "source": [
    "datana = result2[result2['단지명'].isna()==True]['단지코드'].values\n",
    "n = len(datana)"
   ]
  },
  {
   "cell_type": "code",
   "execution_count": 19,
   "id": "f32f05e1",
   "metadata": {},
   "outputs": [],
   "source": [
    "datana = train.loc[train['단지코드'].isin(datana)]\n",
    "datana = datana[datana['임대건물구분']=='아파트']"
   ]
  },
  {
   "cell_type": "code",
   "execution_count": 20,
   "id": "155ca500",
   "metadata": {},
   "outputs": [],
   "source": [
    "result3 = pd.merge(datana,data1,how='left',on=['지역','공급유형','전용면적','단지내주차면수'])[['단지코드','단지명']].drop_duplicates()"
   ]
  },
  {
   "cell_type": "code",
   "execution_count": 21,
   "id": "79fdd9d4",
   "metadata": {},
   "outputs": [
    {
     "name": "stdout",
     "output_type": "stream",
     "text": [
      "NA 개수:  28\n",
      "특정된 단지코드 수:  11\n",
      "전체 단지코드 수:  39\n",
      "NA 비율:  0.07\n"
     ]
    }
   ],
   "source": [
    "print('NA 개수: ',result3['단지명'].isna().sum())\n",
    "print('특정된 단지코드 수: ',n-result3['단지명'].isna().sum())\n",
    "print('전체 단지코드 수: ',n)\n",
    "print('NA 비율: ', round(result3['단지명'].isna().sum()/train['단지코드'].nunique(),2))"
   ]
  },
  {
   "cell_type": "code",
   "execution_count": 22,
   "id": "d4976add",
   "metadata": {},
   "outputs": [],
   "source": [
    "result = result1.dropna()\n",
    "result = result.append(result2.dropna())\n",
    "result= result.append(result3.dropna()).reset_index(drop=True)"
   ]
  },
  {
   "cell_type": "code",
   "execution_count": 23,
   "id": "74ca0998",
   "metadata": {},
   "outputs": [],
   "source": [
    "na_value=[]\n",
    "for i in train['단지코드'].unique():\n",
    "    if i not in result['단지코드'].unique():\n",
    "        na_value.append(i)"
   ]
  },
  {
   "cell_type": "code",
   "execution_count": 24,
   "id": "eb4dca53",
   "metadata": {},
   "outputs": [
    {
     "data": {
      "text/plain": [
       "['C1899', 'C2245', 'C1584', 'C1156', 'C2020']"
      ]
     },
     "execution_count": 24,
     "metadata": {},
     "output_type": "execute_result"
    }
   ],
   "source": [
    "na_value"
   ]
  },
  {
   "cell_type": "markdown",
   "id": "40c448b8",
   "metadata": {},
   "source": [
    "- 아래 데이터는 하나의 단지코드 별로 두개 이상의 단지명 보유 $\\rightarrow$ 잘못 merge된 케이스"
   ]
  },
  {
   "cell_type": "code",
   "execution_count": 25,
   "id": "bc358bf1",
   "metadata": {},
   "outputs": [
    {
     "name": "stdout",
     "output_type": "stream",
     "text": [
      "['C1022' 'C1039' 'C1068' 'C1085' 'C1109' 'C1175' 'C1206' 'C1207' 'C1234'\n",
      " 'C1258' 'C1269' 'C1307' 'C1341' 'C1344' 'C1439' 'C1451' 'C1601' 'C1616'\n",
      " 'C1681' 'C1732' 'C1740' 'C1744' 'C1790' 'C1859' 'C1874' 'C1875' 'C1894'\n",
      " 'C1965' 'C1970' 'C2034' 'C2038' 'C2070' 'C2082' 'C2085' 'C2109' 'C2127'\n",
      " 'C2132' 'C2133' 'C2135' 'C2173' 'C2186' 'C2190' 'C2227' 'C2232' 'C2258'\n",
      " 'C2289' 'C2310' 'C2325' 'C2352' 'C2378' 'C2393' 'C2416' 'C2453' 'C2530'\n",
      " 'C2563' 'C2597' 'C2621' 'C2627' 'C2635' 'C2657']\n",
      "60\n"
     ]
    }
   ],
   "source": [
    "#전체\n",
    "tmp = pd.DataFrame(result.groupby('단지코드').count()['단지명']).reset_index()\n",
    "tmp = np.array(tmp[tmp['단지명']>=2]['단지코드'])\n",
    "print(tmp)\n",
    "print(len(tmp))"
   ]
  },
  {
   "cell_type": "markdown",
   "id": "14b13e7d",
   "metadata": {},
   "source": [
    "## 상가 drop"
   ]
  },
  {
   "cell_type": "code",
   "execution_count": 26,
   "id": "ab3b69af",
   "metadata": {},
   "outputs": [],
   "source": [
    "drop = [460, 462, 465, 469, 470, 411, 414, 415, 416, 417, 418, 419, 420, 421, 423, 424 ,425, 426, 427, 428,432,434,435,436,437,438,440,441,442,443,444,445,446,447,448,449,450,452,453,454,456,458,459,363, 365,366,370,371,372,373,375,378,379,380,381,382,385,386,388,389,390,391,393,394,395,396,391,393,394,395,396,406]"
   ]
  },
  {
   "cell_type": "code",
   "execution_count": 27,
   "id": "7ce8dd6d",
   "metadata": {},
   "outputs": [],
   "source": [
    "result = result.drop(drop,axis=0).reset_index(drop=True)"
   ]
  },
  {
   "cell_type": "code",
   "execution_count": 28,
   "id": "a5bcb4fe",
   "metadata": {},
   "outputs": [],
   "source": [
    "result.to_csv(\"result.csv\",index=False) #상가 부분 제거!!"
   ]
  },
  {
   "cell_type": "markdown",
   "id": "9f641d4e",
   "metadata": {},
   "source": [
    "## 아파트 drop"
   ]
  },
  {
   "cell_type": "code",
   "execution_count": 29,
   "id": "669b7aa2",
   "metadata": {},
   "outputs": [
    {
     "name": "stdout",
     "output_type": "stream",
     "text": [
      "['C1022' 'C1039' 'C1068' 'C1085' 'C1175' 'C1207' 'C1234' 'C1258' 'C1269'\n",
      " 'C1307' 'C1341' 'C1344' 'C1439' 'C1451' 'C1601' 'C1616' 'C1681' 'C1732'\n",
      " 'C1740' 'C1744' 'C1859' 'C1894' 'C1965' 'C1970' 'C2070' 'C2082' 'C2085'\n",
      " 'C2127' 'C2133' 'C2173' 'C2186' 'C2227' 'C2232' 'C2325' 'C2352' 'C2378'\n",
      " 'C2393' 'C2453' 'C2530' 'C2563' 'C2597' 'C2627' 'C2635' 'C2657']\n",
      "44\n"
     ]
    }
   ],
   "source": [
    "tmp = pd.DataFrame(result.groupby('단지코드').count()['단지명']).reset_index()\n",
    "tmp = np.array(tmp[tmp['단지명']>=2]['단지코드'])\n",
    "print(tmp)\n",
    "print(len(tmp))"
   ]
  },
  {
   "cell_type": "code",
   "execution_count": 30,
   "id": "bee02b73",
   "metadata": {},
   "outputs": [],
   "source": [
    "# 'C1681', 'C1740', 'C1744', 'C1790', 'C1859', 'C1874', 'C1875', 'C1894', 'C1965', 'C1970', 'C2034', 'C2038', 'C2070'\n",
    "# 'C2416', 'C2453', 'C2530','C2563'"
   ]
  },
  {
   "cell_type": "code",
   "execution_count": 31,
   "id": "02ba1e13",
   "metadata": {},
   "outputs": [],
   "source": [
    "# 'C2416'\n",
    "# 'C2453' 성남여수1 \n",
    "# 'C2530' 원주개운LH2단지아파트\n",
    "# 'C2563' 안산팔곡주공아파트\n",
    "# [329,171,136]"
   ]
  },
  {
   "cell_type": "code",
   "execution_count": 32,
   "id": "6c7b3fc8",
   "metadata": {},
   "outputs": [],
   "source": [
    "ind = [116,118,415,85,87,88,375,376,377,378,379,456,221,452,156,329,171,136,257, 250, 71, 123, 134, 67, 390, 392, 393, 92, 93, 164,149, # 'C1022'\n",
    "       150, # 'C1068'\n",
    "       385, # 'C1085'\n",
    "       185, # 'C1085'\n",
    "       32, # 'C1175'\n",
    "       354, # 'C1207'\n",
    "       53, # 'C1234'\n",
    "       153, # 'C1269'\n",
    "       182, # 'C1307'\n",
    "       395,396, # 'C1439'\n",
    "       139,140, # 'C1601'\n",
    "       370, # 'C1616'\n",
    "       191, # 'C2325'\n",
    "       266,409, # 'C2352'\n",
    "       224]"
   ]
  },
  {
   "cell_type": "code",
   "execution_count": 33,
   "id": "9772f8bb",
   "metadata": {},
   "outputs": [],
   "source": [
    "result = result.drop(ind,axis=0)\n",
    "result = result.drop_duplicates().reset_index(drop=True)"
   ]
  },
  {
   "cell_type": "code",
   "execution_count": 34,
   "id": "a7a89d50",
   "metadata": {},
   "outputs": [],
   "source": [
    "result.to_csv(\"result0708.csv\",index=False) "
   ]
  },
  {
   "cell_type": "code",
   "execution_count": 35,
   "id": "bc9ac98b",
   "metadata": {},
   "outputs": [],
   "source": [
    "price = pd.read_csv(\"store_tr0708.csv\") "
   ]
  },
  {
   "cell_type": "code",
   "execution_count": 36,
   "id": "d36a0c46",
   "metadata": {},
   "outputs": [],
   "source": [
    "price['임대료'] = price['임대료'].replace(0,np.nan)\n",
    "price['임대보증금'] = price['임대보증금'].replace(0,np.nan)"
   ]
  },
  {
   "cell_type": "code",
   "execution_count": 37,
   "id": "6bac9f3c",
   "metadata": {},
   "outputs": [],
   "source": [
    "price = price[['단지코드','전용면적','임대료','임대보증금','단지명']]"
   ]
  },
  {
   "cell_type": "code",
   "execution_count": 38,
   "id": "148fbfd2",
   "metadata": {},
   "outputs": [],
   "source": [
    "store_price = pd.merge(price,result,on='단지코드',how='left').iloc[:,:-1].rename(columns={'단지명_x':'단지명'})\n",
    "store_price = store_price.drop_duplicates()"
   ]
  },
  {
   "cell_type": "code",
   "execution_count": 39,
   "id": "16fd8f19",
   "metadata": {},
   "outputs": [],
   "source": [
    "# 상가 \n",
    "tmp1 = train[train['임대건물구분']=='상가'] \n",
    "tmp1 = tmp1.drop(['임대료','임대보증금'],axis=1)\n",
    "tmp1 = pd.merge(tmp1,store_price[['단지코드','전용면적','임대료','임대보증금','단지명']],how='left',on=['단지코드','전용면적']) #상가 임대료"
   ]
  },
  {
   "cell_type": "code",
   "execution_count": 40,
   "id": "0e68be69",
   "metadata": {},
   "outputs": [
    {
     "name": "stdout",
     "output_type": "stream",
     "text": [
      "(2390, 15)\n",
      "(562, 15)\n"
     ]
    }
   ],
   "source": [
    "print(train[(train['임대건물구분']=='아파트')].shape)\n",
    "print(train[(train['임대건물구분']=='상가')].shape)"
   ]
  },
  {
   "cell_type": "code",
   "execution_count": 41,
   "id": "1372a282",
   "metadata": {},
   "outputs": [],
   "source": [
    "# 아파트\n",
    "tmp2 = train[train['임대건물구분']=='아파트']\n",
    "tmp2 = pd.merge(tmp2,result[['단지코드','단지명']],how='left',on=['단지코드']) "
   ]
  },
  {
   "cell_type": "code",
   "execution_count": 42,
   "id": "795a7fb2",
   "metadata": {},
   "outputs": [],
   "source": [
    "train = pd.concat([tmp2,tmp1])\n",
    "train = train.reset_index(drop=True)"
   ]
  },
  {
   "cell_type": "code",
   "execution_count": 43,
   "id": "aec57119",
   "metadata": {},
   "outputs": [
    {
     "data": {
      "text/plain": [
       "array(['C1397', 'C1039', 'C1350', 'C1326', 'C1786', 'C2186'], dtype=object)"
      ]
     },
     "execution_count": 43,
     "metadata": {},
     "output_type": "execute_result"
    }
   ],
   "source": [
    "train[(train['임대건물구분']=='아파트')&(train['임대료'].isna()==True)]['단지코드'].unique()"
   ]
  },
  {
   "cell_type": "code",
   "execution_count": 44,
   "id": "3987146f",
   "metadata": {},
   "outputs": [],
   "source": [
    "def get_area(code):\n",
    "    area = train[(train['단지코드']==code)]['전용면적'].unique()\n",
    "    ind = train[(train['단지코드']==code)].index\n",
    "    print('단지명: ',train[train['단지코드']==code]['단지명'].unique())\n",
    "    print('지역: ',train[train['단지코드']==code]['지역'].unique())\n",
    "    print('면적 개수: ',train[train['단지코드']==code]['지역'].shape[0])\n",
    "    for i,j in zip(area,ind):\n",
    "        print(i,j,'/',end=' ')"
   ]
  },
  {
   "cell_type": "code",
   "execution_count": 45,
   "id": "48ae1ffb",
   "metadata": {},
   "outputs": [],
   "source": [
    "def func(num,a,b):\n",
    "    train.loc[num,'임대보증금'] = a\n",
    "    train.loc[num,'임대료'] = b"
   ]
  },
  {
   "cell_type": "code",
   "execution_count": 46,
   "id": "953afc73",
   "metadata": {},
   "outputs": [],
   "source": [
    "def linear_func(code):\n",
    "    tmp = train[(train['단지코드']==code)][['전용면적','임대료','임대보증금']]\n",
    "    tmp = tmp.replace(0,np.nan)\n",
    "    ind = tmp[tmp['임대료'].isna()==True].index\n",
    "    train1 = tmp.dropna()\n",
    "    train_X = np.array(train1['전용면적']).reshape(-1,1)\n",
    "    y1 = np.array(train1['임대료'])\n",
    "    y2 = np.array(train1['임대보증금'])\n",
    "    test = tmp[tmp['임대료'].isna()==True]\n",
    "    test_X = np.array(test['전용면적']).reshape(-1,1)\n",
    "    lg = LinearRegression()\n",
    "    lg1 = LinearRegression()\n",
    "    lg.fit(train_X,y1) #임대료\n",
    "    lg1.fit(train_X,y2) #임대보증금\n",
    "    pred = lg.predict(test_X)\n",
    "    pred1 = lg1.predict(test_X)\n",
    "    train.loc[ind,'임대료'] = pred\n",
    "    train.loc[ind,'임대보증금'] = pred1"
   ]
  },
  {
   "cell_type": "markdown",
   "id": "fd0102a7",
   "metadata": {},
   "source": [
    "## 아파트 보증금 NA imputation"
   ]
  },
  {
   "cell_type": "code",
   "execution_count": 47,
   "id": "123902aa",
   "metadata": {},
   "outputs": [],
   "source": [
    "#임대료가 없는 경우 \n",
    "train.loc[1538:1540,'임대료']=0 #C1039\n",
    "train.loc[1481:1486,'임대료']=0 #C1397"
   ]
  },
  {
   "cell_type": "code",
   "execution_count": 48,
   "id": "012ab0be",
   "metadata": {},
   "outputs": [
    {
     "name": "stdout",
     "output_type": "stream",
     "text": [
      "단지명:  ['관저 LH다온숲 3단지']\n",
      "지역:  ['대전광역시']\n",
      "면적 개수:  13\n",
      "74.94 1769 / 84.94 1770 / 84.96 1771 / 84.97 1772 / 51.99 1773 / 59.91 1774 / 59.92 1775 / "
     ]
    }
   ],
   "source": [
    "get_area('C1350') # 없음..\n",
    "linear_func('C1350') "
   ]
  },
  {
   "cell_type": "code",
   "execution_count": 49,
   "id": "92ab343f",
   "metadata": {},
   "outputs": [
    {
     "name": "stdout",
     "output_type": "stream",
     "text": [
      "단지명:  ['부산정관 7단지(A-1BL)']\n",
      "지역:  ['부산광역시']\n",
      "면적 개수:  5\n",
      "24.72 1985 / 24.79 1986 / 26.83 1987 / 37.7 1988 / 46.94 1989 / "
     ]
    }
   ],
   "source": [
    "get_area( 'C1326')\n",
    "func(1985,7000000,135000)\n",
    "func(1986,7000000,135000)\n",
    "func(1987,7600000,142000)\n",
    "func(1988,14800000,198000)\n",
    "func(1989,23100000,259000)"
   ]
  },
  {
   "cell_type": "code",
   "execution_count": 50,
   "id": "0cb7a5d5",
   "metadata": {},
   "outputs": [
    {
     "name": "stdout",
     "output_type": "stream",
     "text": [
      "단지명:  ['춘천거두2 행복주택']\n",
      "지역:  ['강원도']\n",
      "면적 개수:  5\n",
      "16.91 2118 / 26.9 2119 / 36.91 2120 / "
     ]
    }
   ],
   "source": [
    "get_area('C1786')\n",
    "func(2118,13181000,62610)\n",
    "func(2119,19397000,92130)\n",
    "func(2120,30464000,144700)\n",
    "func(2121,30464000,144700)"
   ]
  },
  {
   "cell_type": "code",
   "execution_count": 51,
   "id": "4f671232",
   "metadata": {},
   "outputs": [
    {
     "name": "stdout",
     "output_type": "stream",
     "text": [
      "단지명:  ['대구연경 LH천년나무 2단지']\n",
      "지역:  ['대구광역시']\n",
      "면적 개수:  6\n",
      "29.17 2344 / 29.34 2345 / 37.43 2346 / 46.51 2347 / 26.37 2348 / 26.54 2349 / "
     ]
    }
   ],
   "source": [
    "get_area('C2186') #없음\n",
    "linear_func('C2186') "
   ]
  },
  {
   "cell_type": "markdown",
   "id": "93445f5f",
   "metadata": {},
   "source": [
    "## NA 추가 Imputation\n",
    "- C1109 C1439"
   ]
  },
  {
   "cell_type": "code",
   "execution_count": 52,
   "id": "280bf937",
   "metadata": {},
   "outputs": [],
   "source": [
    "tmp = train[(train['단지코드']=='C1109')&(train['전용면적']<100)][['전용면적','임대료','임대보증금']]\n",
    "ind = tmp[tmp['임대료'].isna()==True].index\n",
    "train_X = np.array([37.41,37.26,54.51,37.95,39.33]).reshape(-1,1)\n",
    "y1 = np.array([220200,324000,256000,179000,360000])\n",
    "y2 = np.array([13570000,7776000,6144000,4296000,8640000])\n",
    "test = tmp[tmp['임대료'].isna()==True]\n",
    "test_X = np.array(test['전용면적']).reshape(-1,1)\n",
    "lg = LinearRegression()\n",
    "lg1 = LinearRegression()\n",
    "lg.fit(train_X,y1) #임대료\n",
    "lg1.fit(train_X,y2) #임대보증금\n",
    "pred = lg.predict(test_X)\n",
    "pred1 = lg1.predict(test_X)\n",
    "train.loc[ind,'임대료'] = pred\n",
    "train.loc[ind,'임대보증금'] = pred1"
   ]
  },
  {
   "cell_type": "markdown",
   "id": "6d6e1326",
   "metadata": {},
   "source": [
    "## 특정 안 된 NA"
   ]
  },
  {
   "cell_type": "code",
   "execution_count": 53,
   "id": "7707f495",
   "metadata": {},
   "outputs": [],
   "source": [
    "def danji_imputation(code,danji):\n",
    "    ind = train[train['단지코드']==code].index\n",
    "    train.loc[ind,'단지명'] = danji"
   ]
  },
  {
   "cell_type": "code",
   "execution_count": 54,
   "id": "ae0cf8c1",
   "metadata": {},
   "outputs": [],
   "source": [
    "dic = {'C1109': '부산금곡주공4단지',\n",
    " 'C2132': '모라주공3단지',\n",
    " 'C1439': '주공아파트',\n",
    " 'C1899': '사천벌리1주공',\n",
    " 'C2644': '석림주공3단지',\n",
    " 'C1206': '명륜주공2차아파트',\n",
    " 'C2245': '진주문산 LH아파트',\n",
    " 'C1584': '남양주별내 A1-2 행복주택리츠',\n",
    " 'C1156': '청주동남 LH행복주택',\n",
    " 'C2020': '부산용호(행복주택)'}"
   ]
  },
  {
   "cell_type": "code",
   "execution_count": 55,
   "id": "2877dcbe",
   "metadata": {},
   "outputs": [],
   "source": [
    "for i in dic:\n",
    "    code = i\n",
    "    danji = dic[i]\n",
    "    danji_imputation(code,danji)"
   ]
  },
  {
   "cell_type": "markdown",
   "id": "ce1d46a4",
   "metadata": {},
   "source": [
    "## train, test 주소 겹치는 거 하나로 특정 , 상가 na impuataion 다시\n",
    "- {'모라주공아파트1단지': 'C2132', \n",
    " '속초청초주공아파트': 'C1206', \n",
    " '휴먼시아': 'C1379', \n",
    " '송정주공아파트': 'C1569', # 도로명주소만 변경: 경상남도 창원시 의창구 동읍 용정길 26\n",
    " '광주첨단H-2': 'C1970'}"
   ]
  },
  {
   "cell_type": "code",
   "execution_count": 56,
   "id": "4a14548e",
   "metadata": {},
   "outputs": [],
   "source": [
    "external = pd.read_csv(\"external_data.csv\")\n",
    "external = external[['단지명','도로명주소']].drop_duplicates()\n",
    "external = external.groupby('단지명')['도로명주소'].first().reset_index() #첫번째 도로명주소 사용"
   ]
  },
  {
   "cell_type": "code",
   "execution_count": 57,
   "id": "f786e9f9",
   "metadata": {},
   "outputs": [],
   "source": [
    "train = pd.merge(train,external,how='left',on='단지명') #도로명주소 merge"
   ]
  },
  {
   "cell_type": "code",
   "execution_count": 58,
   "id": "3e376389",
   "metadata": {},
   "outputs": [],
   "source": [
    "train.loc[train['단지코드'].isin(['C2132']),'도로명주소'] = external[external['단지명']=='모라주공아파트1단지']['도로명주소'].values\n",
    "train.loc[train['단지코드'].isin(['C1206']),'도로명주소'] = external[external['단지명']=='속초청초주공아파트']['도로명주소'].values\n",
    "train.loc[train['단지코드'].isin(['C1379']),'도로명주소'] = external[external['단지명']=='휴먼시아']['도로명주소'].values\n",
    "train.loc[train['단지코드'].isin(['C1569']),'도로명주소'] = '경상남도 창원시 의창구 동읍 용정길 26'\n",
    "train.loc[train['단지코드'].isin(['C1970']),'도로명주소'] = external[external['단지명']=='광주첨단H-2']['도로명주소'].values"
   ]
  },
  {
   "cell_type": "code",
   "execution_count": 59,
   "id": "c33c825c",
   "metadata": {},
   "outputs": [],
   "source": [
    "train.loc[train['단지코드'].isin(['C2132']),'단지명'] = '모라주공아파트1단지' \n",
    "train.loc[train['단지코드'].isin(['C1206']),'단지명'] = '속초청초주공아파트'\n",
    "train.loc[train['단지코드'].isin(['C1379']),'단지명'] = '휴먼시아'\n",
    "train.loc[train['단지코드'].isin(['C1970']),'단지명'] = '광주첨단H-2'"
   ]
  },
  {
   "cell_type": "code",
   "execution_count": 60,
   "id": "34a5e3c7",
   "metadata": {},
   "outputs": [],
   "source": [
    "# 1206은 상가건물이어서 임대보증금 na 다시 채워줌 \n",
    "# 6120000, 2636000,1224000\n",
    "train.loc[2818:2821,'임대보증금'] = 13180000\n",
    "train.loc[2818:2821,'임대료'] = 2636000\n",
    "train.loc[2822:2825,'임대보증금'] = 6120000\n",
    "train.loc[2822:2825,'임대료'] = 1224000\n",
    "train.loc[2826,'임대보증금'] = 6120000*2\n",
    "train.loc[2826,'임대료'] = 1224000 * 2"
   ]
  },
  {
   "cell_type": "code",
   "execution_count": 61,
   "id": "865585f1",
   "metadata": {},
   "outputs": [],
   "source": [
    "# 지하 상가 na 처리\n",
    "train.loc[2827,'임대료'] = np.nan\n",
    "train.loc[2827,'임대보증금'] = np.nan"
   ]
  },
  {
   "cell_type": "markdown",
   "id": "e04297a9",
   "metadata": {},
   "source": [
    "## 지하 Imputation"
   ]
  },
  {
   "cell_type": "code",
   "execution_count": 62,
   "id": "c7241308",
   "metadata": {},
   "outputs": [],
   "source": [
    "tmp = train[train['전용면적']>100][['전용면적','임대료','임대보증금']]\n",
    "ind = tmp[tmp['임대료'].isna()==True].index\n",
    "train1 = tmp.dropna()\n",
    "train_X = np.array(train1['전용면적']).reshape(-1,1)\n",
    "y1 = np.array(train1['임대료'])\n",
    "y2 = np.array(train1['임대보증금'])\n",
    "test = tmp[tmp['임대료'].isna()==True]\n",
    "test_X = np.array(test['전용면적']).reshape(-1,1)\n",
    "base = LinearRegression()\n",
    "base1 = LinearRegression()\n",
    "base.fit(train_X,y1) #임대료\n",
    "base1.fit(train_X,y2) #임대보증금\n",
    "pred = base.predict(test_X)\n",
    "pred1 = base1.predict(test_X)\n",
    "train.loc[ind,'임대료'] = pred\n",
    "train.loc[ind,'임대보증금'] = pred1"
   ]
  },
  {
   "cell_type": "code",
   "execution_count": 63,
   "id": "5a5e04d2",
   "metadata": {},
   "outputs": [],
   "source": [
    "#c1439 concat\n",
    "c1439 = pd.read_csv(\"c1439.csv\")\n",
    "c1439 = c1439[['단지코드','임대료','임대보증금','전용면적']]"
   ]
  },
  {
   "cell_type": "code",
   "execution_count": 64,
   "id": "2726065b",
   "metadata": {},
   "outputs": [],
   "source": [
    "ind = train[(train['단지코드']=='C1439')&(train['임대료'].isna()==True)].index"
   ]
  },
  {
   "cell_type": "code",
   "execution_count": 65,
   "id": "a2a131be",
   "metadata": {},
   "outputs": [],
   "source": [
    "for i in ind:\n",
    "    area = train.loc[i,'전용면적']\n",
    "    train.loc[i,'임대료'] = c1439[c1439['전용면적']==area]['임대료'].values\n",
    "    train.loc[i,'임대보증금'] = c1439[c1439['전용면적']==area]['임대보증금'].values"
   ]
  },
  {
   "cell_type": "code",
   "execution_count": 66,
   "id": "3202f94b",
   "metadata": {},
   "outputs": [],
   "source": [
    "#도로명주소 없는 case: C1899\n",
    "ind = train[train['도로명주소'].isna()==True].index\n",
    "train.loc[ind,'도로명주소'] = '경상남도 사천시 주공1길 50'"
   ]
  },
  {
   "cell_type": "code",
   "execution_count": 67,
   "id": "8980f679",
   "metadata": {},
   "outputs": [],
   "source": [
    "train = train.rename(columns={'도보 10분거리 내 지하철역 수(환승노선 수 반영)':'지하철역','도보 10분거리 내 버스정류장 수':'버스정류장'})"
   ]
  },
  {
   "cell_type": "markdown",
   "id": "003d4c43",
   "metadata": {},
   "source": [
    "## 버스정류장,지하철역"
   ]
  },
  {
   "cell_type": "code",
   "execution_count": 68,
   "id": "a576f2d2",
   "metadata": {},
   "outputs": [
    {
     "name": "stdout",
     "output_type": "stream",
     "text": [
      "3.824657534246575\n"
     ]
    }
   ],
   "source": [
    "#버스정류장 \n",
    "print(train[train['지역']=='경상남도']['버스정류장'].mean())\n",
    "ind = train[train['버스정류장'].isna()==True].index\n",
    "train.loc[ind,'버스정류장']=4"
   ]
  },
  {
   "cell_type": "code",
   "execution_count": 69,
   "id": "8272c99d",
   "metadata": {},
   "outputs": [
    {
     "name": "stdout",
     "output_type": "stream",
     "text": [
      "충청남도 [nan  0.]\n",
      "대전광역시 [ 1.  0. nan]\n",
      "경상남도 [ 0. nan]\n"
     ]
    }
   ],
   "source": [
    "train[train['지하철역'].isna()==True]['지역'].unique()\n",
    "\n",
    "for i in train[train['지하철역'].isna()==True]['지역'].unique():\n",
    "    print(i,train[(train['지역']==i)]['지하철역'].unique())\n",
    "\n",
    "ind = train[(train['지역']=='충청남도')&(train['지하철역'].isna()==True)].index\n",
    "train.loc[ind,'지하철역'] = 0\n",
    "\n",
    "ind = train[(train['지역']=='경상남도')&(train['지하철역'].isna()==True)].index\n",
    "train.loc[ind,'지하철역'] = 0\n",
    "\n",
    "train[train['지역']=='대전광역시'].corr()['지하철역']\n",
    "\n",
    "X_train = train[(train['지역']=='대전광역시')&(train['지하철역'].isna()==False)]['버스정류장'].values.reshape(-1,1)\n",
    "y_train = train[(train['지역']=='대전광역시')&(train['지하철역'].isna()==False)]['지하철역'].values.ravel()\n",
    "X_test = train[(train['지역']=='대전광역시')&(train['지하철역'].isna()==True)]['버스정류장'].values.reshape(-1,1)\n",
    "\n",
    "from sklearn.linear_model import LogisticRegression\n",
    "reg = LogisticRegression().fit(X_train, y_train)\n",
    "pred = reg.predict(X_test)\n",
    "\n",
    "ind = train[(train['지역']=='대전광역시')&(train['지하철역'].isna()==True)].index\n",
    "train.loc[ind,'지하철역'] = pred"
   ]
  },
  {
   "cell_type": "code",
   "execution_count": 70,
   "id": "10f91213",
   "metadata": {},
   "outputs": [],
   "source": [
    "train.loc[86,'도로명주소'] = '강원도 춘천시 공지로 234-16'\n",
    "train.loc[87,'도로명주소'] = '강원도 춘천시 공지로 234-16'\n",
    "train.loc[86,'단지명'] = '춘천효자8 단지'\n",
    "train.loc[87,'단지명'] = '춘천효자8 단지'"
   ]
  },
  {
   "cell_type": "markdown",
   "id": "1d37c707",
   "metadata": {},
   "source": [
    "- \"C1649\",\"C2431\"\n",
    "- \"C1397\",\"C2085\""
   ]
  },
  {
   "cell_type": "code",
   "execution_count": 71,
   "id": "51bdbeed",
   "metadata": {},
   "outputs": [],
   "source": [
    "ind = train[train['단지코드']=='C2431'].index \n",
    "train.loc[ind,'단지명'] = '양산신도시LH아파트5단지'\n",
    "train.loc[ind,'단지코드'] = 'C1649'"
   ]
  },
  {
   "cell_type": "code",
   "execution_count": 72,
   "id": "99664779",
   "metadata": {},
   "outputs": [],
   "source": [
    "ind = train[train['단지코드']=='C1397'].index \n",
    "train.loc[ind,'단지명'] = '강남 A5BL (LH강남힐스테이트)'\n",
    "train.loc[ind,'단지코드'] = 'C2085'"
   ]
  },
  {
   "cell_type": "markdown",
   "id": "e7a9f5a2",
   "metadata": {},
   "source": [
    "- C1925 오타 발견"
   ]
  },
  {
   "cell_type": "code",
   "execution_count": 73,
   "id": "965cf8ea",
   "metadata": {},
   "outputs": [
    {
     "data": {
      "text/html": [
       "<div>\n",
       "<style scoped>\n",
       "    .dataframe tbody tr th:only-of-type {\n",
       "        vertical-align: middle;\n",
       "    }\n",
       "\n",
       "    .dataframe tbody tr th {\n",
       "        vertical-align: top;\n",
       "    }\n",
       "\n",
       "    .dataframe thead th {\n",
       "        text-align: right;\n",
       "    }\n",
       "</style>\n",
       "<table border=\"1\" class=\"dataframe\">\n",
       "  <thead>\n",
       "    <tr style=\"text-align: right;\">\n",
       "      <th></th>\n",
       "      <th>단지코드</th>\n",
       "      <th>단지명</th>\n",
       "    </tr>\n",
       "  </thead>\n",
       "  <tbody>\n",
       "    <tr>\n",
       "      <th>330</th>\n",
       "      <td>C1925</td>\n",
       "      <td>입암주공3단지아파트</td>\n",
       "    </tr>\n",
       "  </tbody>\n",
       "</table>\n",
       "</div>"
      ],
      "text/plain": [
       "      단지코드         단지명\n",
       "330  C1925  입암주공3단지아파트"
      ]
     },
     "execution_count": 73,
     "metadata": {},
     "output_type": "execute_result"
    }
   ],
   "source": [
    "result[result['단지코드']=='C1925']"
   ]
  },
  {
   "cell_type": "code",
   "execution_count": 74,
   "id": "77b8445a",
   "metadata": {},
   "outputs": [
    {
     "data": {
      "text/html": [
       "<div>\n",
       "<style scoped>\n",
       "    .dataframe tbody tr th:only-of-type {\n",
       "        vertical-align: middle;\n",
       "    }\n",
       "\n",
       "    .dataframe tbody tr th {\n",
       "        vertical-align: top;\n",
       "    }\n",
       "\n",
       "    .dataframe thead th {\n",
       "        text-align: right;\n",
       "    }\n",
       "</style>\n",
       "<table border=\"1\" class=\"dataframe\">\n",
       "  <thead>\n",
       "    <tr style=\"text-align: right;\">\n",
       "      <th></th>\n",
       "      <th>단지명</th>\n",
       "      <th>도로명주소</th>\n",
       "    </tr>\n",
       "  </thead>\n",
       "  <tbody>\n",
       "    <tr>\n",
       "      <th>4045</th>\n",
       "      <td>입암주공3단지아파트</td>\n",
       "      <td>강원도 강릉시 강변로 510</td>\n",
       "    </tr>\n",
       "  </tbody>\n",
       "</table>\n",
       "</div>"
      ],
      "text/plain": [
       "             단지명            도로명주소\n",
       "4045  입암주공3단지아파트  강원도 강릉시 강변로 510"
      ]
     },
     "execution_count": 74,
     "metadata": {},
     "output_type": "execute_result"
    }
   ],
   "source": [
    "external[external['단지명']=='입암주공3단지아파트']"
   ]
  },
  {
   "cell_type": "code",
   "execution_count": 75,
   "id": "d130555c",
   "metadata": {},
   "outputs": [],
   "source": [
    "train.loc[train['단지코드'].isin(['C1925']),'단지명'] = '입암주공3단지아파트'\n",
    "train.loc[train['단지코드'].isin(['C1925']),'도로명주소'] = '강원도 강릉시 강변로 510'"
   ]
  },
  {
   "cell_type": "markdown",
   "id": "e80c2d81",
   "metadata": {},
   "source": [
    "- 대전둔산 3 도로명주소 수정"
   ]
  },
  {
   "cell_type": "code",
   "execution_count": 76,
   "id": "36df0df1",
   "metadata": {},
   "outputs": [],
   "source": [
    "train.loc[train['단지명'].isin(['대전둔산3']),'도로명주소'] = '대전광역시 서구 월평북로 13'"
   ]
  },
  {
   "cell_type": "code",
   "execution_count": 77,
   "id": "7f1a56c4",
   "metadata": {},
   "outputs": [],
   "source": [
    "import os\n",
    "path = os.path.dirname(os.getcwd())\n",
    "path = os.path.join(path, \"ProcessedData\")\n",
    "train.to_csv(os.path.join(path, \"train_processed.csv\"),index=False)"
   ]
  },
  {
   "cell_type": "markdown",
   "id": "b309fc53",
   "metadata": {},
   "source": [
    "## test data"
   ]
  },
  {
   "cell_type": "code",
   "execution_count": 78,
   "id": "b5211f01",
   "metadata": {},
   "outputs": [],
   "source": [
    "test = pd.read_excel(\"test_imputed.xlsx\")"
   ]
  },
  {
   "cell_type": "code",
   "execution_count": 79,
   "id": "5161ac12",
   "metadata": {},
   "outputs": [],
   "source": [
    "test['임대보증금'] = test['임대보증금'].replace(0,np.nan)\n",
    "test['임대료'] = test['임대료'].replace(0,np.nan)"
   ]
  },
  {
   "cell_type": "code",
   "execution_count": 80,
   "id": "d127713a",
   "metadata": {},
   "outputs": [],
   "source": [
    "tmp = test[test['전용면적']>100][['전용면적','임대료','임대보증금']]\n",
    "ind = tmp[tmp['임대료'].isna()==True].index\n",
    "test1 = tmp.dropna()\n",
    "train_X = np.array(train[train['전용면적']>100]['전용면적']).reshape(-1,1)\n",
    "y1 = np.array(train[train['전용면적']>100]['임대료'])\n",
    "y2 = np.array(train[train['전용면적']>100]['임대보증금'])\n",
    "test_ = tmp[tmp['임대료'].isna()==True]\n",
    "test_X = np.array(test_['전용면적']).reshape(-1,1)\n",
    "base = LinearRegression()\n",
    "base1 = LinearRegression()\n",
    "base.fit(train_X,y1) #임대료\n",
    "base1.fit(train_X,y2) #임대보증금\n",
    "pred = base.predict(test_X)\n",
    "pred1 = base1.predict(test_X)\n",
    "test.loc[ind,'임대료'] = pred\n",
    "test.loc[ind,'임대보증금'] = pred1"
   ]
  },
  {
   "cell_type": "code",
   "execution_count": 81,
   "id": "e7ce8082",
   "metadata": {},
   "outputs": [],
   "source": [
    "test.loc[test.단지코드=='C2675','단지명'] = '흥덕마을휴먼시아1단지아파트(110동~115동)'"
   ]
  },
  {
   "cell_type": "code",
   "execution_count": 82,
   "id": "6eeb143f",
   "metadata": {},
   "outputs": [],
   "source": [
    "test = test.rename(columns={'도보 10분거리 내 지하철역 수(환승노선 수 반영)':'지하철역','도보 10분거리 내 버스정류장 수':'버스정류장'})"
   ]
  },
  {
   "cell_type": "code",
   "execution_count": 83,
   "id": "991ea8cd",
   "metadata": {},
   "outputs": [],
   "source": [
    "#자격유형\n",
    "test.loc[(test.단지코드=='C2411')&(test.자격유형.isna()), '자격유형'] = 'A'\n",
    "test.loc[(test.단지코드=='C2253')&(test.자격유형.isna()), '자격유형'] = 'C'"
   ]
  },
  {
   "cell_type": "code",
   "execution_count": 84,
   "id": "dfaeab8f",
   "metadata": {},
   "outputs": [],
   "source": [
    "#지하철역\n",
    "ind = test[(test['지역']=='충청남도')&(test['지하철역'].isna()==True)].index\n",
    "test.loc[ind,'지하철역'] = 0\n",
    "\n",
    "X_test = test[(test['지역']=='대전광역시')&(test['지하철역'].isna()==True)]['버스정류장'].values.reshape(-1,1)\n",
    "pred = reg.predict(X_test)\n",
    "\n",
    "ind = test[(test['지역']=='대전광역시')&(test['지하철역'].isna()==True)].index\n",
    "test.loc[ind,'지하철역'] = pred"
   ]
  },
  {
   "cell_type": "code",
   "execution_count": 85,
   "id": "82f2e461",
   "metadata": {},
   "outputs": [],
   "source": [
    "import os\n",
    "path = os.path.dirname(os.getcwd())\n",
    "path = os.path.join(path, \"ProcessedData\")\n",
    "test.to_csv(os.path.join(path, \"test_processed.csv\"),index=False)"
   ]
  }
 ],
 "metadata": {
  "kernelspec": {
   "display_name": "Python 3",
   "language": "python",
   "name": "python3"
  },
  "language_info": {
   "codemirror_mode": {
    "name": "ipython",
    "version": 3
   },
   "file_extension": ".py",
   "mimetype": "text/x-python",
   "name": "python",
   "nbconvert_exporter": "python",
   "pygments_lexer": "ipython3",
   "version": "3.7.10"
  }
 },
 "nbformat": 4,
 "nbformat_minor": 5
}
