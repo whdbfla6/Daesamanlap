{
 "cells": [
  {
   "cell_type": "code",
   "execution_count": null,
   "id": "991299a8",
   "metadata": {},
   "outputs": [],
   "source": [
    "from selenium import webdriver\n",
    "#from webdriver_manager.chrome import ChromeDriverManager\n",
    "from selenium.webdriver.common.keys import Keys\n",
    "from bs4 import BeautifulSoup\n",
    "import numpy as np\n",
    "import pandas as pd\n",
    "import pickle\n",
    "import requests\n",
    "import json\n",
    "import re\n",
    "from tqdm import tqdm"
   ]
  },
  {
   "cell_type": "code",
   "execution_count": null,
   "id": "808581cf",
   "metadata": {},
   "outputs": [],
   "source": [
    "import os\n",
    "path = os.path.dirname(os.getcwd())\n",
    "path = os.path.join(path, \"ProcessedData\")"
   ]
  },
  {
   "cell_type": "code",
   "execution_count": null,
   "id": "7ab12579",
   "metadata": {},
   "outputs": [],
   "source": [
    "train = pd.read_csv(os.path.join(path,\"train_processed.csv\"))\n",
    "test = pd.read_csv(os.path.join(path,\"test_processed.csv\"))"
   ]
  },
  {
   "cell_type": "code",
   "execution_count": null,
   "id": "16f47318",
   "metadata": {},
   "outputs": [],
   "source": [
    "train_apt = pd.DataFrame(columns=['단지명','도로명주소','위도','경도'])\n",
    "train_apt['단지명'] = train['단지명'].unique()\n",
    "train_apt['도로명주소'] = train['도로명주소'].unique()"
   ]
  },
  {
   "cell_type": "code",
   "execution_count": null,
   "id": "9e63555a",
   "metadata": {},
   "outputs": [],
   "source": [
    "test_apt = pd.DataFrame(columns=['단지명','도로명주소','위도','경도'])\n",
    "test_apt['단지명'] = test['단지명'].unique()\n",
    "test_apt['도로명주소'] = test['도로명주소'].unique()"
   ]
  },
  {
   "cell_type": "code",
   "execution_count": null,
   "id": "6b113a2f",
   "metadata": {},
   "outputs": [],
   "source": [
    "def get_location(array,dataframe):\n",
    "    \n",
    "    for i in tqdm(array):\n",
    "        \n",
    "        ind = dataframe[dataframe['도로명주소']==i].index\n",
    "        url = \"https://dapi.kakao.com/v2/local/search/keyword.json\"\n",
    "\n",
    "        queryString = {'query' : i}\n",
    "        header = {'Authorization': 'KakaoAK 660c198b2093e22460c08a028177ac18'} #rest api\n",
    "\n",
    "        response = requests.get(url, headers=header, params=queryString)\n",
    "        tokens = response.json()\n",
    "        \n",
    "        try: \n",
    "            \n",
    "            lat = tokens['documents'][0]['x']\n",
    "            lng = tokens['documents'][0]['y']\n",
    "            dataframe.loc[ind,'위도'] = lat\n",
    "            dataframe.loc[ind,'경도'] = lng\n",
    "            \n",
    "        except:\n",
    "            \n",
    "            query = dataframe.loc[ind,'단지명']\n",
    "            queryString = {'query' : query}\n",
    "            header = {'Authorization': 'KakaoAK 660c198b2093e22460c08a028177ac18'} #rest api\n",
    "\n",
    "            response = requests.get(url, headers=header, params=queryString)\n",
    "            tokens = response.json()\n",
    "            \n",
    "            try:\n",
    "                lat = tokens['documents'][0]['x']\n",
    "                lng = tokens['documents'][0]['y']\n",
    "                dataframe.iloc[ind,'위도'] = lat\n",
    "                dataframe.iloc[ind,'경도'] = lng\n",
    "            \n",
    "            except:\n",
    "                print(query)\n",
    "                pass"
   ]
  },
  {
   "cell_type": "code",
   "execution_count": null,
   "id": "99e79f5e",
   "metadata": {},
   "outputs": [],
   "source": [
    "get_location(train['도로명주소'].unique(),train_apt)"
   ]
  },
  {
   "cell_type": "code",
   "execution_count": null,
   "id": "3d1fd136",
   "metadata": {},
   "outputs": [],
   "source": [
    "get_location(test['도로명주소'].unique(),test_apt)"
   ]
  },
  {
   "cell_type": "code",
   "execution_count": null,
   "id": "04a85aa2",
   "metadata": {},
   "outputs": [],
   "source": [
    "def get_location_na(original,name):\n",
    "        \n",
    "    ind = train_apt[train_apt['단지명']=='공주옥룡주공1차아파트'].index\n",
    "    url = \"https://dapi.kakao.com/v2/local/search/keyword.json\"\n",
    "\n",
    "    queryString = {'query' : name}\n",
    "    header = {'Authorization': 'KakaoAK 660c198b2093e22460c08a028177ac18'} #rest api\n",
    "\n",
    "    response = requests.get(url, headers=header, params=queryString)\n",
    "    tokens = response.json()\n",
    "            \n",
    "    lat = tokens['documents'][0]['x']\n",
    "    lng = tokens['documents'][0]['y']\n",
    "    train_apt.loc[ind,'위도'] = lat\n",
    "    train_apt.loc[ind,'경도'] = lng"
   ]
  },
  {
   "cell_type": "code",
   "execution_count": null,
   "id": "bb4b21ba",
   "metadata": {},
   "outputs": [],
   "source": [
    "train_apt[train_apt['위도'].isna()==True]"
   ]
  },
  {
   "cell_type": "code",
   "execution_count": null,
   "id": "e8ebb800",
   "metadata": {},
   "outputs": [],
   "source": [
    "test_apt[test_apt['위도'].isna()==True]"
   ]
  },
  {
   "cell_type": "code",
   "execution_count": null,
   "id": "af92a68a",
   "metadata": {},
   "outputs": [],
   "source": [
    "get_location_na('공주옥룡주공1차아파트','옥룡주공1단지아파트')"
   ]
  },
  {
   "cell_type": "code",
   "execution_count": null,
   "id": "09439ec3",
   "metadata": {},
   "outputs": [],
   "source": [
    "import os\n",
    "path = os.path.dirname(os.getcwd())\n",
    "path = os.path.join(path, \"ProcessedData\")\n",
    "train_apt.to_csv(os.path.join(path, \"train_apt.csv\"),index=False)\n",
    "test_apt.to_csv(os.path.join(path, \"test_apt.csv\"),index=False)"
   ]
  },
  {
   "cell_type": "code",
   "execution_count": null,
   "id": "8310b76c",
   "metadata": {},
   "outputs": [],
   "source": []
  }
 ],
 "metadata": {
  "kernelspec": {
   "display_name": "Python 3",
   "language": "python",
   "name": "python3"
  },
  "language_info": {
   "codemirror_mode": {
    "name": "ipython",
    "version": 3
   },
   "file_extension": ".py",
   "mimetype": "text/x-python",
   "name": "python",
   "nbconvert_exporter": "python",
   "pygments_lexer": "ipython3",
   "version": "3.8.8"
  }
 },
 "nbformat": 4,
 "nbformat_minor": 5
}
