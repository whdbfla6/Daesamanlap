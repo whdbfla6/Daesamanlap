{
 "cells": [
  {
   "cell_type": "code",
   "execution_count": 1,
   "metadata": {},
   "outputs": [],
   "source": [
    "import pandas as pd\n",
    "import numpy as np\n",
    "import matplotlib.pyplot as plt\n",
    "plt.rcParams['font.family'] = 'NanumGothic'\n",
    "import seaborn as sns\n",
    "%matplotlib inline\n",
    "import warnings\n",
    "warnings.filterwarnings('ignore')\n",
    "from IPython.display import set_matplotlib_formats\n",
    "sns.set_style(\"darkgrid\")\n",
    "set_matplotlib_formats('retina')\n",
    "plt.rc('font', family='NanumGothic')\n",
    "plt.rc('axes', unicode_minus=False)\n",
    "sns.set_palette(\"deep\")"
   ]
  },
  {
   "cell_type": "code",
   "execution_count": 2,
   "metadata": {},
   "outputs": [],
   "source": [
    "data = pd.read_csv(\"data/train.csv\")"
   ]
  },
  {
   "cell_type": "code",
   "execution_count": 3,
   "metadata": {},
   "outputs": [
    {
     "data": {
      "text/html": [
       "<div>\n",
       "<style scoped>\n",
       "    .dataframe tbody tr th:only-of-type {\n",
       "        vertical-align: middle;\n",
       "    }\n",
       "\n",
       "    .dataframe tbody tr th {\n",
       "        vertical-align: top;\n",
       "    }\n",
       "\n",
       "    .dataframe thead th {\n",
       "        text-align: right;\n",
       "    }\n",
       "</style>\n",
       "<table border=\"1\" class=\"dataframe\">\n",
       "  <thead>\n",
       "    <tr style=\"text-align: right;\">\n",
       "      <th></th>\n",
       "      <th>단지코드</th>\n",
       "      <th>총세대수</th>\n",
       "      <th>임대건물구분</th>\n",
       "      <th>지역</th>\n",
       "      <th>공급유형</th>\n",
       "      <th>전용면적</th>\n",
       "      <th>전용면적별세대수</th>\n",
       "      <th>공가수</th>\n",
       "      <th>자격유형</th>\n",
       "      <th>임대보증금</th>\n",
       "      <th>임대료</th>\n",
       "      <th>도보 10분거리 내 지하철역 수(환승노선 수 반영)</th>\n",
       "      <th>도보 10분거리 내 버스정류장 수</th>\n",
       "      <th>단지내주차면수</th>\n",
       "      <th>등록차량수</th>\n",
       "    </tr>\n",
       "  </thead>\n",
       "  <tbody>\n",
       "    <tr>\n",
       "      <th>0</th>\n",
       "      <td>C2483</td>\n",
       "      <td>900</td>\n",
       "      <td>아파트</td>\n",
       "      <td>경상북도</td>\n",
       "      <td>국민임대</td>\n",
       "      <td>39.72</td>\n",
       "      <td>134</td>\n",
       "      <td>38.0</td>\n",
       "      <td>A</td>\n",
       "      <td>15667000</td>\n",
       "      <td>103680</td>\n",
       "      <td>0.0</td>\n",
       "      <td>3.0</td>\n",
       "      <td>1425.0</td>\n",
       "      <td>1015.0</td>\n",
       "    </tr>\n",
       "    <tr>\n",
       "      <th>1</th>\n",
       "      <td>C2483</td>\n",
       "      <td>900</td>\n",
       "      <td>아파트</td>\n",
       "      <td>경상북도</td>\n",
       "      <td>국민임대</td>\n",
       "      <td>39.72</td>\n",
       "      <td>15</td>\n",
       "      <td>38.0</td>\n",
       "      <td>A</td>\n",
       "      <td>15667000</td>\n",
       "      <td>103680</td>\n",
       "      <td>0.0</td>\n",
       "      <td>3.0</td>\n",
       "      <td>1425.0</td>\n",
       "      <td>1015.0</td>\n",
       "    </tr>\n",
       "    <tr>\n",
       "      <th>2</th>\n",
       "      <td>C2483</td>\n",
       "      <td>900</td>\n",
       "      <td>아파트</td>\n",
       "      <td>경상북도</td>\n",
       "      <td>국민임대</td>\n",
       "      <td>51.93</td>\n",
       "      <td>385</td>\n",
       "      <td>38.0</td>\n",
       "      <td>A</td>\n",
       "      <td>27304000</td>\n",
       "      <td>184330</td>\n",
       "      <td>0.0</td>\n",
       "      <td>3.0</td>\n",
       "      <td>1425.0</td>\n",
       "      <td>1015.0</td>\n",
       "    </tr>\n",
       "    <tr>\n",
       "      <th>3</th>\n",
       "      <td>C2483</td>\n",
       "      <td>900</td>\n",
       "      <td>아파트</td>\n",
       "      <td>경상북도</td>\n",
       "      <td>국민임대</td>\n",
       "      <td>51.93</td>\n",
       "      <td>15</td>\n",
       "      <td>38.0</td>\n",
       "      <td>A</td>\n",
       "      <td>27304000</td>\n",
       "      <td>184330</td>\n",
       "      <td>0.0</td>\n",
       "      <td>3.0</td>\n",
       "      <td>1425.0</td>\n",
       "      <td>1015.0</td>\n",
       "    </tr>\n",
       "    <tr>\n",
       "      <th>4</th>\n",
       "      <td>C2483</td>\n",
       "      <td>900</td>\n",
       "      <td>아파트</td>\n",
       "      <td>경상북도</td>\n",
       "      <td>국민임대</td>\n",
       "      <td>51.93</td>\n",
       "      <td>41</td>\n",
       "      <td>38.0</td>\n",
       "      <td>A</td>\n",
       "      <td>27304000</td>\n",
       "      <td>184330</td>\n",
       "      <td>0.0</td>\n",
       "      <td>3.0</td>\n",
       "      <td>1425.0</td>\n",
       "      <td>1015.0</td>\n",
       "    </tr>\n",
       "  </tbody>\n",
       "</table>\n",
       "</div>"
      ],
      "text/plain": [
       "    단지코드  총세대수 임대건물구분    지역  공급유형   전용면적  전용면적별세대수   공가수 자격유형     임대보증금  \\\n",
       "0  C2483   900    아파트  경상북도  국민임대  39.72       134  38.0    A  15667000   \n",
       "1  C2483   900    아파트  경상북도  국민임대  39.72        15  38.0    A  15667000   \n",
       "2  C2483   900    아파트  경상북도  국민임대  51.93       385  38.0    A  27304000   \n",
       "3  C2483   900    아파트  경상북도  국민임대  51.93        15  38.0    A  27304000   \n",
       "4  C2483   900    아파트  경상북도  국민임대  51.93        41  38.0    A  27304000   \n",
       "\n",
       "      임대료  도보 10분거리 내 지하철역 수(환승노선 수 반영)  도보 10분거리 내 버스정류장 수  단지내주차면수   등록차량수  \n",
       "0  103680                           0.0                 3.0   1425.0  1015.0  \n",
       "1  103680                           0.0                 3.0   1425.0  1015.0  \n",
       "2  184330                           0.0                 3.0   1425.0  1015.0  \n",
       "3  184330                           0.0                 3.0   1425.0  1015.0  \n",
       "4  184330                           0.0                 3.0   1425.0  1015.0  "
      ]
     },
     "execution_count": 3,
     "metadata": {},
     "output_type": "execute_result"
    }
   ],
   "source": [
    "data.head()"
   ]
  },
  {
   "cell_type": "markdown",
   "metadata": {},
   "source": [
    "- different column : '공급유형','전용면적','전용면적별세대수','자격유형','임대보증금','임대료'\n",
    "- same column : '단지코드','총세대수','지역','공가수','지하철역','버스정류장','단지내주차면수','등록차량수'"
   ]
  },
  {
   "cell_type": "code",
   "execution_count": 4,
   "metadata": {},
   "outputs": [
    {
     "data": {
      "text/plain": [
       "(2952, 15)"
      ]
     },
     "execution_count": 4,
     "metadata": {},
     "output_type": "execute_result"
    }
   ],
   "source": [
    "data.shape"
   ]
  },
  {
   "cell_type": "code",
   "execution_count": 5,
   "metadata": {},
   "outputs": [
    {
     "name": "stdout",
     "output_type": "stream",
     "text": [
      "단지코드 수:  423\n"
     ]
    }
   ],
   "source": [
    "print('단지코드 수: ',data.groupby('단지코드').count().shape[0])"
   ]
  },
  {
   "cell_type": "code",
   "execution_count": 6,
   "metadata": {},
   "outputs": [],
   "source": [
    "data = data.rename(columns={'도보 10분거리 내 지하철역 수(환승노선 수 반영)':'지하철역','도보 10분거리 내 버스정류장 수':'버스정류장'})"
   ]
  },
  {
   "cell_type": "code",
   "execution_count": 7,
   "metadata": {},
   "outputs": [
    {
     "data": {
      "text/plain": [
       "단지코드          0\n",
       "총세대수          0\n",
       "임대건물구분        0\n",
       "지역            0\n",
       "공급유형          0\n",
       "전용면적          0\n",
       "전용면적별세대수      0\n",
       "공가수           0\n",
       "자격유형          0\n",
       "임대보증금       569\n",
       "임대료         569\n",
       "지하철역        211\n",
       "버스정류장         4\n",
       "단지내주차면수       0\n",
       "등록차량수         0\n",
       "dtype: int64"
      ]
     },
     "execution_count": 7,
     "metadata": {},
     "output_type": "execute_result"
    }
   ],
   "source": [
    "data.isna().sum() #\tC1925"
   ]
  },
  {
   "cell_type": "markdown",
   "metadata": {},
   "source": [
    "## 버스정류장"
   ]
  },
  {
   "cell_type": "code",
   "execution_count": 8,
   "metadata": {},
   "outputs": [
    {
     "data": {
      "text/html": [
       "<div>\n",
       "<style scoped>\n",
       "    .dataframe tbody tr th:only-of-type {\n",
       "        vertical-align: middle;\n",
       "    }\n",
       "\n",
       "    .dataframe tbody tr th {\n",
       "        vertical-align: top;\n",
       "    }\n",
       "\n",
       "    .dataframe thead th {\n",
       "        text-align: right;\n",
       "    }\n",
       "</style>\n",
       "<table border=\"1\" class=\"dataframe\">\n",
       "  <thead>\n",
       "    <tr style=\"text-align: right;\">\n",
       "      <th></th>\n",
       "      <th>단지코드</th>\n",
       "      <th>총세대수</th>\n",
       "      <th>임대건물구분</th>\n",
       "      <th>지역</th>\n",
       "      <th>공급유형</th>\n",
       "      <th>전용면적</th>\n",
       "      <th>전용면적별세대수</th>\n",
       "      <th>공가수</th>\n",
       "      <th>자격유형</th>\n",
       "      <th>임대보증금</th>\n",
       "      <th>임대료</th>\n",
       "      <th>지하철역</th>\n",
       "      <th>버스정류장</th>\n",
       "      <th>단지내주차면수</th>\n",
       "      <th>등록차량수</th>\n",
       "    </tr>\n",
       "  </thead>\n",
       "  <tbody>\n",
       "    <tr>\n",
       "      <th>2315</th>\n",
       "      <td>C1649</td>\n",
       "      <td>575</td>\n",
       "      <td>아파트</td>\n",
       "      <td>경상남도</td>\n",
       "      <td>공공임대(10년)</td>\n",
       "      <td>74.97</td>\n",
       "      <td>80</td>\n",
       "      <td>15.0</td>\n",
       "      <td>A</td>\n",
       "      <td>46000000</td>\n",
       "      <td>456000</td>\n",
       "      <td>NaN</td>\n",
       "      <td>NaN</td>\n",
       "      <td>1066.0</td>\n",
       "      <td>855.0</td>\n",
       "    </tr>\n",
       "    <tr>\n",
       "      <th>2316</th>\n",
       "      <td>C1649</td>\n",
       "      <td>575</td>\n",
       "      <td>아파트</td>\n",
       "      <td>경상남도</td>\n",
       "      <td>공공임대(10년)</td>\n",
       "      <td>84.95</td>\n",
       "      <td>124</td>\n",
       "      <td>15.0</td>\n",
       "      <td>A</td>\n",
       "      <td>57000000</td>\n",
       "      <td>462000</td>\n",
       "      <td>NaN</td>\n",
       "      <td>NaN</td>\n",
       "      <td>1066.0</td>\n",
       "      <td>855.0</td>\n",
       "    </tr>\n",
       "    <tr>\n",
       "      <th>2317</th>\n",
       "      <td>C1649</td>\n",
       "      <td>575</td>\n",
       "      <td>아파트</td>\n",
       "      <td>경상남도</td>\n",
       "      <td>공공임대(10년)</td>\n",
       "      <td>84.96</td>\n",
       "      <td>289</td>\n",
       "      <td>15.0</td>\n",
       "      <td>A</td>\n",
       "      <td>57000000</td>\n",
       "      <td>462000</td>\n",
       "      <td>NaN</td>\n",
       "      <td>NaN</td>\n",
       "      <td>1066.0</td>\n",
       "      <td>855.0</td>\n",
       "    </tr>\n",
       "    <tr>\n",
       "      <th>2318</th>\n",
       "      <td>C1649</td>\n",
       "      <td>575</td>\n",
       "      <td>아파트</td>\n",
       "      <td>경상남도</td>\n",
       "      <td>공공임대(10년)</td>\n",
       "      <td>84.98</td>\n",
       "      <td>82</td>\n",
       "      <td>15.0</td>\n",
       "      <td>A</td>\n",
       "      <td>57000000</td>\n",
       "      <td>462000</td>\n",
       "      <td>NaN</td>\n",
       "      <td>NaN</td>\n",
       "      <td>1066.0</td>\n",
       "      <td>855.0</td>\n",
       "    </tr>\n",
       "  </tbody>\n",
       "</table>\n",
       "</div>"
      ],
      "text/plain": [
       "       단지코드  총세대수 임대건물구분    지역       공급유형   전용면적  전용면적별세대수   공가수 자격유형  \\\n",
       "2315  C1649   575    아파트  경상남도  공공임대(10년)  74.97        80  15.0    A   \n",
       "2316  C1649   575    아파트  경상남도  공공임대(10년)  84.95       124  15.0    A   \n",
       "2317  C1649   575    아파트  경상남도  공공임대(10년)  84.96       289  15.0    A   \n",
       "2318  C1649   575    아파트  경상남도  공공임대(10년)  84.98        82  15.0    A   \n",
       "\n",
       "         임대보증금     임대료  지하철역  버스정류장  단지내주차면수  등록차량수  \n",
       "2315  46000000  456000   NaN    NaN   1066.0  855.0  \n",
       "2316  57000000  462000   NaN    NaN   1066.0  855.0  \n",
       "2317  57000000  462000   NaN    NaN   1066.0  855.0  \n",
       "2318  57000000  462000   NaN    NaN   1066.0  855.0  "
      ]
     },
     "execution_count": 8,
     "metadata": {},
     "output_type": "execute_result"
    }
   ],
   "source": [
    "data[data['버스정류장'].isna()==True]"
   ]
  },
  {
   "cell_type": "code",
   "execution_count": 9,
   "metadata": {},
   "outputs": [
    {
     "data": {
      "text/plain": [
       "3.824657534246575"
      ]
     },
     "execution_count": 9,
     "metadata": {},
     "output_type": "execute_result"
    }
   ],
   "source": [
    "data[data['지역']=='경상남도']['버스정류장'].mean()"
   ]
  },
  {
   "cell_type": "code",
   "execution_count": 10,
   "metadata": {},
   "outputs": [],
   "source": [
    "ind = data[data['버스정류장'].isna()==True].index\n",
    "data.loc[ind,'버스정류장']=4"
   ]
  },
  {
   "cell_type": "markdown",
   "metadata": {},
   "source": [
    "## 지하철역"
   ]
  },
  {
   "cell_type": "code",
   "execution_count": 11,
   "metadata": {},
   "outputs": [
    {
     "name": "stdout",
     "output_type": "stream",
     "text": [
      "충청남도 [nan  0.]\n",
      "대전광역시 [ 1.  0. nan]\n",
      "경상남도 [ 0. nan]\n"
     ]
    }
   ],
   "source": [
    "data[data['지하철역'].isna()==True]['지역'].unique()\n",
    "\n",
    "for i in data[data['지하철역'].isna()==True]['지역'].unique():\n",
    "    print(i,data[(data['지역']==i)]['지하철역'].unique())\n",
    "\n",
    "ind = data[(data['지역']=='충청남도')&(data['지하철역'].isna()==True)].index\n",
    "data.loc[ind,'지하철역'] = 0\n",
    "\n",
    "ind = data[(data['지역']=='경상남도')&(data['지하철역'].isna()==True)].index\n",
    "data.loc[ind,'지하철역'] = 0\n",
    "\n",
    "data[data['지역']=='대전광역시'].corr()['지하철역']\n",
    "\n",
    "X_train = data[(data['지역']=='대전광역시')&(data['지하철역'].isna()==False)]['버스정류장'].values.reshape(-1,1)\n",
    "y_train = data[(data['지역']=='대전광역시')&(data['지하철역'].isna()==False)]['지하철역'].values.ravel()\n",
    "X_test = data[(data['지역']=='대전광역시')&(data['지하철역'].isna()==True)]['버스정류장'].values.reshape(-1,1)\n",
    "\n",
    "from sklearn.linear_model import LogisticRegression\n",
    "reg = LogisticRegression().fit(X_train, y_train)\n",
    "pred = reg.predict(X_test)\n",
    "\n",
    "ind = data[(data['지역']=='대전광역시')&(data['지하철역'].isna()==True)].index\n",
    "data.loc[ind,'지하철역'] = pred"
   ]
  },
  {
   "cell_type": "markdown",
   "metadata": {},
   "source": [
    "## 전용면적별세대수"
   ]
  },
  {
   "cell_type": "code",
   "execution_count": 12,
   "metadata": {},
   "outputs": [],
   "source": [
    "train = data[['단지코드','총세대수','지역','공가수','지하철역','버스정류장','단지내주차면수','등록차량수']]\n",
    "train = train.drop_duplicates()\n",
    "# '공급유형','전용면적','전용면적별세대수','자격유형','임대보증금','임대료'"
   ]
  },
  {
   "cell_type": "code",
   "execution_count": 13,
   "metadata": {},
   "outputs": [],
   "source": [
    "sample = pd.DataFrame(data.groupby(['단지코드','공급유형']).sum()['전용면적별세대수']).reset_index()"
   ]
  },
  {
   "cell_type": "code",
   "execution_count": 14,
   "metadata": {},
   "outputs": [],
   "source": [
    "for i in sample.공급유형.unique():\n",
    "    train[str(i)]=0"
   ]
  },
  {
   "cell_type": "code",
   "execution_count": 15,
   "metadata": {},
   "outputs": [],
   "source": [
    "for i in sample.index:\n",
    "    code = sample.loc[i,'단지코드']\n",
    "    col = sample.loc[i,'공급유형']\n",
    "    val = sample.loc[i,'전용면적별세대수']\n",
    "    ind = train[train['단지코드']==code].index\n",
    "    train.loc[ind,col] = val"
   ]
  },
  {
   "cell_type": "markdown",
   "metadata": {},
   "source": [
    "## 임대건물구분"
   ]
  },
  {
   "cell_type": "code",
   "execution_count": 16,
   "metadata": {},
   "outputs": [
    {
     "data": {
      "text/plain": [
       "<AxesSubplot:xlabel='임대건물구분', ylabel='count'>"
      ]
     },
     "execution_count": 16,
     "metadata": {},
     "output_type": "execute_result"
    },
    {
     "name": "stderr",
     "output_type": "stream",
     "text": [
      "findfont: Font family ['NanumGothic'] not found. Falling back to DejaVu Sans.\n"
     ]
    },
    {
     "data": {
      "image/png": "[encoded data removed]",
      "text/plain": [
       "<Figure size 360x360 with 1 Axes>"
      ]
     },
     "metadata": {
      "image/png": {
       "height": 318,
       "width": 339
      }
     },
     "output_type": "display_data"
    }
   ],
   "source": [
    "fig,ax = plt.subplots(figsize=(5,5))\n",
    "sns.countplot(data=data,x='임대건물구분')"
   ]
  },
  {
   "cell_type": "code",
   "execution_count": 17,
   "metadata": {},
   "outputs": [
    {
     "data": {
      "image/png": "[encoded data removed]",
      "text/plain": [
       "<Figure size 1080x360 with 1 Axes>"
      ]
     },
     "metadata": {
      "image/png": {
       "height": 316,
       "width": 897
      }
     },
     "output_type": "display_data"
    }
   ],
   "source": [
    "fig,ax = plt.subplots(figsize=(15,5))\n",
    "sns.countplot(data=data,x='공급유형')\n",
    "for p in ax.patches:\n",
    "    ax.annotate(s=p.get_height(),xy=(p.get_xy()[0]+0.3,p.get_height()))"
   ]
  },
  {
   "cell_type": "code",
   "execution_count": 18,
   "metadata": {},
   "outputs": [
    {
     "data": {
      "text/plain": [
       "array(['임대상가'], dtype=object)"
      ]
     },
     "execution_count": 18,
     "metadata": {},
     "output_type": "execute_result"
    }
   ],
   "source": [
    "data[data['임대건물구분']=='상가']['공급유형'].unique()"
   ]
  },
  {
   "cell_type": "markdown",
   "metadata": {},
   "source": [
    "## 임대료, 임대보증금"
   ]
  },
  {
   "cell_type": "code",
   "execution_count": 19,
   "metadata": {},
   "outputs": [],
   "source": [
    "data['임대료'] = data['임대료'].replace('-',np.nan)\n",
    "data['임대보증금'] = data['임대보증금'].replace('-',np.nan)"
   ]
  },
  {
   "cell_type": "code",
   "execution_count": 20,
   "metadata": {},
   "outputs": [],
   "source": [
    "data['임대료'] = data['임대료'].apply(lambda x : float(x))\n",
    "data['임대보증금'] = data['임대보증금'].apply(lambda x : float(x))"
   ]
  },
  {
   "cell_type": "code",
   "execution_count": 21,
   "metadata": {},
   "outputs": [],
   "source": [
    "def get_values(code):\n",
    "    df = data[(data['단지코드']==code)&(data['임대료'].isna()==False)]\n",
    "    deposit = df['임대보증금'].values.mean()\n",
    "    rent = df['임대료'].values.mean()\n",
    "    return deposit,rent"
   ]
  },
  {
   "cell_type": "markdown",
   "metadata": {},
   "source": [
    "- 임대료, 임대보증금이 NA값인 경우는 모두 상가\n",
    "- 동일한 단지코드인 아파트 임대료, 임대보증금 평균 값을 사용해서 NA imputation\n",
    "- 다른 외부 데이터를 이용해서 주상복합에 속한 아파트, 상가의 보증금 관계를 살펴보는 것도 하나의 방법일듯"
   ]
  },
  {
   "cell_type": "code",
   "execution_count": 22,
   "metadata": {},
   "outputs": [
    {
     "name": "stdout",
     "output_type": "stream",
     "text": [
      "C1397\n",
      "C1326\n"
     ]
    }
   ],
   "source": [
    "code = data[data['임대료'].isna()==True]['단지코드'].unique()\n",
    "for i in code:\n",
    "    n = data[(data['단지코드']==i)&(data['임대료'].isna()==False)].shape[0]\n",
    "    if n ==0 :\n",
    "        print(i)\n",
    "    if n != 0 :\n",
    "        ind = data[(data['단지코드']==i)&(data['임대료'].isna()==True)].index\n",
    "        data.loc[ind,'임대료'] = get_values(i)[1]"
   ]
  },
  {
   "cell_type": "code",
   "execution_count": 23,
   "metadata": {},
   "outputs": [
    {
     "name": "stdout",
     "output_type": "stream",
     "text": [
      "C1326\n"
     ]
    }
   ],
   "source": [
    "code = data[data['임대보증금'].isna()==True]['단지코드'].unique()\n",
    "for i in code:\n",
    "    n = data[(data['단지코드']==i)&(data['임대보증금'].isna()==False)].shape[0]\n",
    "    if n== 0 :\n",
    "        print(i)\n",
    "    if n != 0 :\n",
    "        ind = data[(data['단지코드']==i)&(data['임대보증금'].isna()==True)].index\n",
    "        data.loc[ind,'임대보증금'] = get_values(i)[1]"
   ]
  },
  {
   "cell_type": "markdown",
   "metadata": {},
   "source": [
    "- C1397"
   ]
  },
  {
   "cell_type": "code",
   "execution_count": 24,
   "metadata": {},
   "outputs": [
    {
     "data": {
      "text/plain": [
       "array(['서울특별시', '장기전세'], dtype=object)"
      ]
     },
     "execution_count": 24,
     "metadata": {},
     "output_type": "execute_result"
    }
   ],
   "source": [
    "data[data['단지코드']=='C1397'][['지역','공급유형']].values[0]"
   ]
  },
  {
   "cell_type": "code",
   "execution_count": 25,
   "metadata": {},
   "outputs": [],
   "source": [
    "m = data[(data['지역']=='서울특별시')&(data['임대료'].isna()==False)]['임대료'].values.mean()"
   ]
  },
  {
   "cell_type": "code",
   "execution_count": 26,
   "metadata": {},
   "outputs": [],
   "source": [
    "data.loc[data['단지코드']=='C1397','임대료'] = m"
   ]
  },
  {
   "cell_type": "markdown",
   "metadata": {},
   "source": [
    "- C1326"
   ]
  },
  {
   "cell_type": "code",
   "execution_count": 27,
   "metadata": {},
   "outputs": [
    {
     "data": {
      "text/plain": [
       "array(['부산광역시', '국민임대'], dtype=object)"
      ]
     },
     "execution_count": 27,
     "metadata": {},
     "output_type": "execute_result"
    }
   ],
   "source": [
    "data[data['단지코드']=='C1326'][['지역','공급유형']].values[0]"
   ]
  },
  {
   "cell_type": "code",
   "execution_count": 28,
   "metadata": {},
   "outputs": [],
   "source": [
    "m1 = data[(data['지역']=='부산광역시')&(data['공급유형']=='국민임대')&(data['임대료'].isna()==False)]['임대료'].values.mean()\n",
    "m2 = data[(data['지역']=='부산광역시')&(data['공급유형']=='국민임대')&(data['임대보증금'].isna()==False)]['임대보증금'].values.mean()"
   ]
  },
  {
   "cell_type": "code",
   "execution_count": 29,
   "metadata": {},
   "outputs": [],
   "source": [
    "data.loc[data['단지코드']=='C1326','임대료'] = m1\n",
    "data.loc[data['단지코드']=='C1326','임대보증금'] = m2"
   ]
  },
  {
   "cell_type": "markdown",
   "metadata": {},
   "source": [
    "## 임대료 임대보증금 2"
   ]
  },
  {
   "cell_type": "code",
   "execution_count": 30,
   "metadata": {},
   "outputs": [
    {
     "data": {
      "text/html": [
       "<div>\n",
       "<style scoped>\n",
       "    .dataframe tbody tr th:only-of-type {\n",
       "        vertical-align: middle;\n",
       "    }\n",
       "\n",
       "    .dataframe tbody tr th {\n",
       "        vertical-align: top;\n",
       "    }\n",
       "\n",
       "    .dataframe thead th {\n",
       "        text-align: right;\n",
       "    }\n",
       "</style>\n",
       "<table border=\"1\" class=\"dataframe\">\n",
       "  <thead>\n",
       "    <tr style=\"text-align: right;\">\n",
       "      <th></th>\n",
       "      <th>단지코드</th>\n",
       "      <th>임대료</th>\n",
       "      <th>임대보증금</th>\n",
       "    </tr>\n",
       "  </thead>\n",
       "  <tbody>\n",
       "    <tr>\n",
       "      <th>0</th>\n",
       "      <td>C1000</td>\n",
       "      <td>121064.285714</td>\n",
       "      <td>1.320357e+07</td>\n",
       "    </tr>\n",
       "    <tr>\n",
       "      <th>1</th>\n",
       "      <td>C1004</td>\n",
       "      <td>104695.000000</td>\n",
       "      <td>5.889376e+05</td>\n",
       "    </tr>\n",
       "    <tr>\n",
       "      <th>2</th>\n",
       "      <td>C1005</td>\n",
       "      <td>222046.666667</td>\n",
       "      <td>1.710767e+07</td>\n",
       "    </tr>\n",
       "    <tr>\n",
       "      <th>3</th>\n",
       "      <td>C1013</td>\n",
       "      <td>134726.000000</td>\n",
       "      <td>2.492480e+07</td>\n",
       "    </tr>\n",
       "    <tr>\n",
       "      <th>4</th>\n",
       "      <td>C1014</td>\n",
       "      <td>160488.571429</td>\n",
       "      <td>2.389400e+07</td>\n",
       "    </tr>\n",
       "  </tbody>\n",
       "</table>\n",
       "</div>"
      ],
      "text/plain": [
       "    단지코드            임대료         임대보증금\n",
       "0  C1000  121064.285714  1.320357e+07\n",
       "1  C1004  104695.000000  5.889376e+05\n",
       "2  C1005  222046.666667  1.710767e+07\n",
       "3  C1013  134726.000000  2.492480e+07\n",
       "4  C1014  160488.571429  2.389400e+07"
      ]
     },
     "execution_count": 30,
     "metadata": {},
     "output_type": "execute_result"
    }
   ],
   "source": [
    "sample = data.groupby('단지코드').mean()[['임대료','임대보증금']].reset_index()\n",
    "sample.head()"
   ]
  },
  {
   "cell_type": "code",
   "execution_count": 31,
   "metadata": {},
   "outputs": [],
   "source": [
    "for i in sample.index:\n",
    "    code = sample.loc[i,'단지코드']\n",
    "    val1 = sample.loc[i,'임대료']\n",
    "    val2 = sample.loc[i,'임대보증금']\n",
    "    ind = train[train['단지코드']==code].index\n",
    "    train.loc[ind,'임대료'] = val1\n",
    "    train.loc[ind,'임대보증금'] = val2"
   ]
  },
  {
   "cell_type": "markdown",
   "metadata": {},
   "source": [
    "## 전용면적"
   ]
  },
  {
   "cell_type": "code",
   "execution_count": 32,
   "metadata": {},
   "outputs": [
    {
     "data": {
      "text/plain": [
       "<AxesSubplot:xlabel='전용면적', ylabel='Count'>"
      ]
     },
     "execution_count": 32,
     "metadata": {},
     "output_type": "execute_result"
    },
    {
     "data": {
      "image/png": "[encoded data removed]",
      "text/plain": [
       "<Figure size 1080x288 with 2 Axes>"
      ]
     },
     "metadata": {
      "image/png": {
       "height": 261,
       "width": 891
      }
     },
     "output_type": "display_data"
    }
   ],
   "source": [
    "tmp = data[data['전용면적']<100]\n",
    "fig,ax = plt.subplots(2,1,figsize=(15,4))\n",
    "sns.histplot(data=data,x='전용면적',color='black',ax=ax[0])\n",
    "sns.histplot(data=tmp,x='전용면적',color='black',ax=ax[1])"
   ]
  },
  {
   "cell_type": "code",
   "execution_count": 33,
   "metadata": {},
   "outputs": [
    {
     "data": {
      "text/plain": [
       "6.784126090920137"
      ]
     },
     "execution_count": 33,
     "metadata": {},
     "output_type": "execute_result"
    }
   ],
   "source": [
    "data[data['전용면적']<100].groupby('단지코드').std()['전용면적'].mean()"
   ]
  },
  {
   "cell_type": "code",
   "execution_count": 34,
   "metadata": {},
   "outputs": [],
   "source": [
    "def category(x):\n",
    "    for ind,i in enumerate(list(range(10,110,5))): #0부터 100까지 10단위\n",
    "        if int(x) in range(i-10,i): return ind\n",
    "    for ind,i in enumerate(list(range(100,600,100))):#100부터 600까지 100단위\n",
    "        if int(x) in range(i,i+100): return 10+ind"
   ]
  },
  {
   "cell_type": "code",
   "execution_count": 35,
   "metadata": {},
   "outputs": [],
   "source": [
    "data['전용면적 카테고리']  = data['전용면적'].apply(lambda x : category(x))"
   ]
  },
  {
   "cell_type": "code",
   "execution_count": 36,
   "metadata": {},
   "outputs": [],
   "source": [
    "for i in data['전용면적 카테고리']:\n",
    "    train['전용면적'+str(i)] = 0"
   ]
  },
  {
   "cell_type": "code",
   "execution_count": 37,
   "metadata": {},
   "outputs": [
    {
     "data": {
      "text/html": [
       "<div>\n",
       "<style scoped>\n",
       "    .dataframe tbody tr th:only-of-type {\n",
       "        vertical-align: middle;\n",
       "    }\n",
       "\n",
       "    .dataframe tbody tr th {\n",
       "        vertical-align: top;\n",
       "    }\n",
       "\n",
       "    .dataframe thead th {\n",
       "        text-align: right;\n",
       "    }\n",
       "</style>\n",
       "<table border=\"1\" class=\"dataframe\">\n",
       "  <thead>\n",
       "    <tr style=\"text-align: right;\">\n",
       "      <th></th>\n",
       "      <th>단지코드</th>\n",
       "      <th>전용면적 카테고리</th>\n",
       "    </tr>\n",
       "  </thead>\n",
       "  <tbody>\n",
       "    <tr>\n",
       "      <th>0</th>\n",
       "      <td>C1000</td>\n",
       "      <td>[6, 8, 9]</td>\n",
       "    </tr>\n",
       "    <tr>\n",
       "      <th>1</th>\n",
       "      <td>C1004</td>\n",
       "      <td>[6, 2, 1, 3, 4, 5, 9, 11]</td>\n",
       "    </tr>\n",
       "    <tr>\n",
       "      <th>2</th>\n",
       "      <td>C1005</td>\n",
       "      <td>[9, 10]</td>\n",
       "    </tr>\n",
       "    <tr>\n",
       "      <th>3</th>\n",
       "      <td>C1013</td>\n",
       "      <td>[6, 8, 9]</td>\n",
       "    </tr>\n",
       "    <tr>\n",
       "      <th>4</th>\n",
       "      <td>C1014</td>\n",
       "      <td>[5, 8, 9, 10]</td>\n",
       "    </tr>\n",
       "  </tbody>\n",
       "</table>\n",
       "</div>"
      ],
      "text/plain": [
       "    단지코드                  전용면적 카테고리\n",
       "0  C1000                  [6, 8, 9]\n",
       "1  C1004  [6, 2, 1, 3, 4, 5, 9, 11]\n",
       "2  C1005                    [9, 10]\n",
       "3  C1013                  [6, 8, 9]\n",
       "4  C1014              [5, 8, 9, 10]"
      ]
     },
     "execution_count": 37,
     "metadata": {},
     "output_type": "execute_result"
    }
   ],
   "source": [
    "sample = pd.DataFrame(data.groupby('단지코드')['전용면적 카테고리'].unique()).reset_index()\n",
    "sample.head()"
   ]
  },
  {
   "cell_type": "code",
   "execution_count": 38,
   "metadata": {},
   "outputs": [],
   "source": [
    "for i in sample.index:\n",
    "    code = sample.loc[i,'단지코드']\n",
    "    val = sample.loc[i,'전용면적 카테고리']\n",
    "    ind = train[train['단지코드']==code].index\n",
    "    for j in val:\n",
    "        train.loc[ind,'전용면적'+str(j)] = 1"
   ]
  },
  {
   "cell_type": "markdown",
   "metadata": {},
   "source": [
    "## 자격유형"
   ]
  },
  {
   "cell_type": "code",
   "execution_count": 39,
   "metadata": {},
   "outputs": [
    {
     "name": "stdout",
     "output_type": "stream",
     "text": [
      "A ['국민임대' '공공임대(50년)' '공공임대(10년)' '공공임대(분납)' '장기전세' '영구임대' '공공임대(5년)']\n",
      "B ['국민임대']\n",
      "C ['영구임대']\n",
      "D ['임대상가' '공공분양']\n",
      "E ['영구임대' '국민임대']\n",
      "F ['영구임대']\n",
      "G ['국민임대']\n",
      "H ['국민임대']\n",
      "I ['영구임대']\n",
      "J ['행복주택']\n",
      "K ['행복주택']\n",
      "L ['행복주택']\n",
      "M ['행복주택']\n",
      "N ['행복주택']\n",
      "O ['행복주택']\n"
     ]
    }
   ],
   "source": [
    "for i in data['자격유형'].unique():\n",
    "    print(i,data[data['자격유형']==i]['공급유형'].unique())"
   ]
  },
  {
   "cell_type": "markdown",
   "metadata": {},
   "source": [
    "- 14개 그룹"
   ]
  },
  {
   "cell_type": "code",
   "execution_count": 40,
   "metadata": {},
   "outputs": [
    {
     "data": {
      "text/plain": [
       "<AxesSubplot:xlabel='전용면적', ylabel='Density'>"
      ]
     },
     "execution_count": 40,
     "metadata": {},
     "output_type": "execute_result"
    },
    {
     "data": {
      "image/png": "[encoded data removed]",
      "text/plain": [
       "<Figure size 1080x288 with 1 Axes>"
      ]
     },
     "metadata": {
      "image/png": {
       "height": 261,
       "width": 900
      }
     },
     "output_type": "display_data"
    }
   ],
   "source": [
    "tmp = data[data['공급유형']=='행복주택']\n",
    "fig,ax = plt.subplots(figsize=(15,4))\n",
    "sns.kdeplot(data=tmp,x='전용면적',color='black',hue='자격유형')"
   ]
  },
  {
   "cell_type": "markdown",
   "metadata": {},
   "source": [
    "- J / K L M N O"
   ]
  },
  {
   "cell_type": "code",
   "execution_count": 41,
   "metadata": {},
   "outputs": [
    {
     "data": {
      "text/plain": [
       "<AxesSubplot:xlabel='전용면적', ylabel='Density'>"
      ]
     },
     "execution_count": 41,
     "metadata": {},
     "output_type": "execute_result"
    },
    {
     "data": {
      "image/png": "[encoded data removed]",
      "text/plain": [
       "<Figure size 1080x288 with 1 Axes>"
      ]
     },
     "metadata": {
      "image/png": {
       "height": 261,
       "width": 894
      }
     },
     "output_type": "display_data"
    }
   ],
   "source": [
    "tmp = data[data['공급유형']=='국민임대']\n",
    "fig,ax = plt.subplots(figsize=(15,4))\n",
    "sns.kdeplot(data=tmp,x='전용면적',color='black',hue='자격유형')"
   ]
  },
  {
   "cell_type": "markdown",
   "metadata": {},
   "source": [
    "- A / B E G H"
   ]
  },
  {
   "cell_type": "code",
   "execution_count": 42,
   "metadata": {},
   "outputs": [
    {
     "data": {
      "text/plain": [
       "<AxesSubplot:xlabel='전용면적', ylabel='Density'>"
      ]
     },
     "execution_count": 42,
     "metadata": {},
     "output_type": "execute_result"
    },
    {
     "data": {
      "image/png": "[encoded data removed]",
      "text/plain": [
       "<Figure size 1080x288 with 1 Axes>"
      ]
     },
     "metadata": {
      "image/png": {
       "height": 261,
       "width": 894
      }
     },
     "output_type": "display_data"
    }
   ],
   "source": [
    "tmp = data[data['공급유형']=='영구임대']\n",
    "fig,ax = plt.subplots(figsize=(15,4))\n",
    "sns.kdeplot(data=tmp,x='전용면적',color='black',hue='자격유형')"
   ]
  },
  {
   "cell_type": "markdown",
   "metadata": {},
   "source": [
    "- C / I / A / E F"
   ]
  },
  {
   "cell_type": "code",
   "execution_count": 43,
   "metadata": {},
   "outputs": [],
   "source": [
    "# J / K L M N O / A / B E G H / C / I / E F "
   ]
  },
  {
   "cell_type": "code",
   "execution_count": 44,
   "metadata": {},
   "outputs": [],
   "source": [
    "dic = {'1': 'A' ,'2':['B','E','G','H'],'3':['E','F'],'4':'I','5':['K','L','M','N','O'],'6':'J','7':'C','8':'D'}"
   ]
  },
  {
   "cell_type": "code",
   "execution_count": 45,
   "metadata": {},
   "outputs": [],
   "source": [
    "def category2(x):\n",
    "    for i in dic.keys():\n",
    "        if x in dic[i]:\n",
    "            return int(i)"
   ]
  },
  {
   "cell_type": "code",
   "execution_count": 46,
   "metadata": {},
   "outputs": [],
   "source": [
    "data['자격유형 카테고리'] = data['자격유형'].apply(lambda x : category2(x))"
   ]
  },
  {
   "cell_type": "code",
   "execution_count": 47,
   "metadata": {},
   "outputs": [
    {
     "data": {
      "text/html": [
       "<div>\n",
       "<style scoped>\n",
       "    .dataframe tbody tr th:only-of-type {\n",
       "        vertical-align: middle;\n",
       "    }\n",
       "\n",
       "    .dataframe tbody tr th {\n",
       "        vertical-align: top;\n",
       "    }\n",
       "\n",
       "    .dataframe thead th {\n",
       "        text-align: right;\n",
       "    }\n",
       "</style>\n",
       "<table border=\"1\" class=\"dataframe\">\n",
       "  <thead>\n",
       "    <tr style=\"text-align: right;\">\n",
       "      <th></th>\n",
       "      <th>단지코드</th>\n",
       "      <th>자격유형 카테고리</th>\n",
       "    </tr>\n",
       "  </thead>\n",
       "  <tbody>\n",
       "    <tr>\n",
       "      <th>0</th>\n",
       "      <td>C1000</td>\n",
       "      <td>[1]</td>\n",
       "    </tr>\n",
       "    <tr>\n",
       "      <th>1</th>\n",
       "      <td>C1004</td>\n",
       "      <td>[7, 8]</td>\n",
       "    </tr>\n",
       "    <tr>\n",
       "      <th>2</th>\n",
       "      <td>C1005</td>\n",
       "      <td>[1]</td>\n",
       "    </tr>\n",
       "    <tr>\n",
       "      <th>3</th>\n",
       "      <td>C1013</td>\n",
       "      <td>[1]</td>\n",
       "    </tr>\n",
       "    <tr>\n",
       "      <th>4</th>\n",
       "      <td>C1014</td>\n",
       "      <td>[1]</td>\n",
       "    </tr>\n",
       "  </tbody>\n",
       "</table>\n",
       "</div>"
      ],
      "text/plain": [
       "    단지코드 자격유형 카테고리\n",
       "0  C1000       [1]\n",
       "1  C1004    [7, 8]\n",
       "2  C1005       [1]\n",
       "3  C1013       [1]\n",
       "4  C1014       [1]"
      ]
     },
     "execution_count": 47,
     "metadata": {},
     "output_type": "execute_result"
    }
   ],
   "source": [
    "sample = pd.DataFrame(data.groupby('단지코드')['자격유형 카테고리'].unique()).reset_index()\n",
    "sample.head()"
   ]
  },
  {
   "cell_type": "code",
   "execution_count": 48,
   "metadata": {},
   "outputs": [],
   "source": [
    "for i in dic.keys():\n",
    "    train['자격유형'+str(i)]=0"
   ]
  },
  {
   "cell_type": "code",
   "execution_count": 49,
   "metadata": {},
   "outputs": [],
   "source": [
    "for i in sample.index:\n",
    "    code = sample.loc[i,'단지코드']\n",
    "    val = sample.loc[i,'자격유형 카테고리']\n",
    "    ind = train[train['단지코드']==code].index\n",
    "    for j in val:\n",
    "        train.loc[ind,'자격유형'+str(j)] = 1"
   ]
  },
  {
   "cell_type": "markdown",
   "metadata": {},
   "source": [
    "## 지역 별 인구수"
   ]
  },
  {
   "cell_type": "code",
   "execution_count": 113,
   "metadata": {},
   "outputs": [
    {
     "data": {
      "text/html": [
       "<div>\n",
       "<style scoped>\n",
       "    .dataframe tbody tr th:only-of-type {\n",
       "        vertical-align: middle;\n",
       "    }\n",
       "\n",
       "    .dataframe tbody tr th {\n",
       "        vertical-align: top;\n",
       "    }\n",
       "\n",
       "    .dataframe thead th {\n",
       "        text-align: right;\n",
       "    }\n",
       "</style>\n",
       "<table border=\"1\" class=\"dataframe\">\n",
       "  <thead>\n",
       "    <tr style=\"text-align: right;\">\n",
       "      <th></th>\n",
       "      <th>지역</th>\n",
       "      <th>10대미만(여자)</th>\n",
       "      <th>10대미만(남자)</th>\n",
       "      <th>10대(여자)</th>\n",
       "      <th>10대(남자)</th>\n",
       "      <th>20대(여자)</th>\n",
       "      <th>20대(남자)</th>\n",
       "      <th>30대(여자)</th>\n",
       "      <th>30대(남자)</th>\n",
       "      <th>40대(여자)</th>\n",
       "      <th>...</th>\n",
       "      <th>60대(여자)</th>\n",
       "      <th>60대(남자)</th>\n",
       "      <th>70대(여자)</th>\n",
       "      <th>70대(남자)</th>\n",
       "      <th>80대(여자)</th>\n",
       "      <th>80대(남자)</th>\n",
       "      <th>90대(여자)</th>\n",
       "      <th>90대(남자)</th>\n",
       "      <th>100대(여자)</th>\n",
       "      <th>100대(남자)</th>\n",
       "    </tr>\n",
       "  </thead>\n",
       "  <tbody>\n",
       "    <tr>\n",
       "      <th>0</th>\n",
       "      <td>경상북도</td>\n",
       "      <td>0.030158</td>\n",
       "      <td>0.033195</td>\n",
       "      <td>0.056346</td>\n",
       "      <td>0.061360</td>\n",
       "      <td>0.060096</td>\n",
       "      <td>0.067859</td>\n",
       "      <td>0.053433</td>\n",
       "      <td>0.049572</td>\n",
       "      <td>0.083660</td>\n",
       "      <td>...</td>\n",
       "      <td>0.082684</td>\n",
       "      <td>0.063889</td>\n",
       "      <td>0.047717</td>\n",
       "      <td>0.030172</td>\n",
       "      <td>0.029361</td>\n",
       "      <td>0.011211</td>\n",
       "      <td>0.005578</td>\n",
       "      <td>0.001553</td>\n",
       "      <td>0.000234</td>\n",
       "      <td>0.000014</td>\n",
       "    </tr>\n",
       "    <tr>\n",
       "      <th>1</th>\n",
       "      <td>경상남도</td>\n",
       "      <td>0.027400</td>\n",
       "      <td>0.026902</td>\n",
       "      <td>0.053257</td>\n",
       "      <td>0.055568</td>\n",
       "      <td>0.064920</td>\n",
       "      <td>0.070618</td>\n",
       "      <td>0.056414</td>\n",
       "      <td>0.057550</td>\n",
       "      <td>0.077092</td>\n",
       "      <td>...</td>\n",
       "      <td>0.087201</td>\n",
       "      <td>0.069562</td>\n",
       "      <td>0.048357</td>\n",
       "      <td>0.033277</td>\n",
       "      <td>0.027361</td>\n",
       "      <td>0.011295</td>\n",
       "      <td>0.004910</td>\n",
       "      <td>0.001086</td>\n",
       "      <td>0.000179</td>\n",
       "      <td>0.000010</td>\n",
       "    </tr>\n",
       "    <tr>\n",
       "      <th>2</th>\n",
       "      <td>대전광역시</td>\n",
       "      <td>0.028197</td>\n",
       "      <td>0.029092</td>\n",
       "      <td>0.040490</td>\n",
       "      <td>0.042793</td>\n",
       "      <td>0.060834</td>\n",
       "      <td>0.064247</td>\n",
       "      <td>0.068654</td>\n",
       "      <td>0.066848</td>\n",
       "      <td>0.074667</td>\n",
       "      <td>...</td>\n",
       "      <td>0.088468</td>\n",
       "      <td>0.070261</td>\n",
       "      <td>0.051010</td>\n",
       "      <td>0.037143</td>\n",
       "      <td>0.032455</td>\n",
       "      <td>0.013751</td>\n",
       "      <td>0.006494</td>\n",
       "      <td>0.001740</td>\n",
       "      <td>0.000298</td>\n",
       "      <td>0.000066</td>\n",
       "    </tr>\n",
       "    <tr>\n",
       "      <th>3</th>\n",
       "      <td>경기도</td>\n",
       "      <td>0.038030</td>\n",
       "      <td>0.039507</td>\n",
       "      <td>0.052546</td>\n",
       "      <td>0.053990</td>\n",
       "      <td>0.058484</td>\n",
       "      <td>0.059894</td>\n",
       "      <td>0.072331</td>\n",
       "      <td>0.068704</td>\n",
       "      <td>0.083208</td>\n",
       "      <td>...</td>\n",
       "      <td>0.074237</td>\n",
       "      <td>0.058419</td>\n",
       "      <td>0.042422</td>\n",
       "      <td>0.032725</td>\n",
       "      <td>0.025136</td>\n",
       "      <td>0.012354</td>\n",
       "      <td>0.005390</td>\n",
       "      <td>0.001707</td>\n",
       "      <td>0.000290</td>\n",
       "      <td>0.000067</td>\n",
       "    </tr>\n",
       "    <tr>\n",
       "      <th>4</th>\n",
       "      <td>전라북도</td>\n",
       "      <td>0.028089</td>\n",
       "      <td>0.029065</td>\n",
       "      <td>0.059685</td>\n",
       "      <td>0.060080</td>\n",
       "      <td>0.066262</td>\n",
       "      <td>0.070322</td>\n",
       "      <td>0.052027</td>\n",
       "      <td>0.046596</td>\n",
       "      <td>0.077005</td>\n",
       "      <td>...</td>\n",
       "      <td>0.076636</td>\n",
       "      <td>0.068042</td>\n",
       "      <td>0.051025</td>\n",
       "      <td>0.035748</td>\n",
       "      <td>0.035049</td>\n",
       "      <td>0.012641</td>\n",
       "      <td>0.007223</td>\n",
       "      <td>0.001898</td>\n",
       "      <td>0.000158</td>\n",
       "      <td>0.000013</td>\n",
       "    </tr>\n",
       "  </tbody>\n",
       "</table>\n",
       "<p>5 rows × 23 columns</p>\n",
       "</div>"
      ],
      "text/plain": [
       "      지역  10대미만(여자)  10대미만(남자)   10대(여자)   10대(남자)   20대(여자)   20대(남자)  \\\n",
       "0   경상북도   0.030158   0.033195  0.056346  0.061360  0.060096  0.067859   \n",
       "1   경상남도   0.027400   0.026902  0.053257  0.055568  0.064920  0.070618   \n",
       "2  대전광역시   0.028197   0.029092  0.040490  0.042793  0.060834  0.064247   \n",
       "3    경기도   0.038030   0.039507  0.052546  0.053990  0.058484  0.059894   \n",
       "4   전라북도   0.028089   0.029065  0.059685  0.060080  0.066262  0.070322   \n",
       "\n",
       "    30대(여자)   30대(남자)   40대(여자)  ...   60대(여자)   60대(남자)   70대(여자)   70대(남자)  \\\n",
       "0  0.053433  0.049572  0.083660  ...  0.082684  0.063889  0.047717  0.030172   \n",
       "1  0.056414  0.057550  0.077092  ...  0.087201  0.069562  0.048357  0.033277   \n",
       "2  0.068654  0.066848  0.074667  ...  0.088468  0.070261  0.051010  0.037143   \n",
       "3  0.072331  0.068704  0.083208  ...  0.074237  0.058419  0.042422  0.032725   \n",
       "4  0.052027  0.046596  0.077005  ...  0.076636  0.068042  0.051025  0.035748   \n",
       "\n",
       "    80대(여자)   80대(남자)   90대(여자)   90대(남자)  100대(여자)  100대(남자)  \n",
       "0  0.029361  0.011211  0.005578  0.001553  0.000234  0.000014  \n",
       "1  0.027361  0.011295  0.004910  0.001086  0.000179  0.000010  \n",
       "2  0.032455  0.013751  0.006494  0.001740  0.000298  0.000066  \n",
       "3  0.025136  0.012354  0.005390  0.001707  0.000290  0.000067  \n",
       "4  0.035049  0.012641  0.007223  0.001898  0.000158  0.000013  \n",
       "\n",
       "[5 rows x 23 columns]"
      ]
     },
     "execution_count": 113,
     "metadata": {},
     "output_type": "execute_result"
    }
   ],
   "source": [
    "data3 = pd.read_csv(\"data/age_gender_info.csv\")\n",
    "data3.head()"
   ]
  },
  {
   "cell_type": "code",
   "execution_count": 116,
   "metadata": {},
   "outputs": [
    {
     "data": {
      "text/plain": [
       "array(['경상북도', '경상남도', '대전광역시', '경기도', '전라북도', '강원도', '광주광역시', '충청남도',\n",
       "       '부산광역시', '제주특별자치도', '울산광역시', '충청북도', '전라남도', '대구광역시', '서울특별시',\n",
       "       '세종특별자치시'], dtype=object)"
      ]
     },
     "execution_count": 116,
     "metadata": {},
     "output_type": "execute_result"
    }
   ],
   "source": [
    "data3['지역'].unique()"
   ]
  },
  {
   "cell_type": "code",
   "execution_count": 99,
   "metadata": {},
   "outputs": [],
   "source": [
    "tmp = data3[['지역','20대(여자)','30대(여자)','40대(여자)','50대(여자)','60대(여자)','20대(남자)','30대(남자)','40대(남자)','50대(남자)','60대(남자)']]"
   ]
  },
  {
   "cell_type": "code",
   "execution_count": 103,
   "metadata": {},
   "outputs": [],
   "source": [
    "train = pd.merge(train,tmp,how='left',on='지역')"
   ]
  },
  {
   "cell_type": "code",
   "execution_count": 104,
   "metadata": {},
   "outputs": [],
   "source": [
    "train.to_csv(\"data/trainsample.csv\",index=False)"
   ]
  },
  {
   "cell_type": "markdown",
   "metadata": {},
   "source": [
    "# Test Data"
   ]
  },
  {
   "cell_type": "code",
   "execution_count": 51,
   "metadata": {},
   "outputs": [],
   "source": [
    "data2 = pd.read_csv(\"data/test.csv\")"
   ]
  },
  {
   "cell_type": "code",
   "execution_count": 52,
   "metadata": {},
   "outputs": [
    {
     "data": {
      "text/html": [
       "<div>\n",
       "<style scoped>\n",
       "    .dataframe tbody tr th:only-of-type {\n",
       "        vertical-align: middle;\n",
       "    }\n",
       "\n",
       "    .dataframe tbody tr th {\n",
       "        vertical-align: top;\n",
       "    }\n",
       "\n",
       "    .dataframe thead th {\n",
       "        text-align: right;\n",
       "    }\n",
       "</style>\n",
       "<table border=\"1\" class=\"dataframe\">\n",
       "  <thead>\n",
       "    <tr style=\"text-align: right;\">\n",
       "      <th></th>\n",
       "      <th>단지코드</th>\n",
       "      <th>총세대수</th>\n",
       "      <th>임대건물구분</th>\n",
       "      <th>지역</th>\n",
       "      <th>공급유형</th>\n",
       "      <th>전용면적</th>\n",
       "      <th>전용면적별세대수</th>\n",
       "      <th>공가수</th>\n",
       "      <th>자격유형</th>\n",
       "      <th>임대보증금</th>\n",
       "      <th>임대료</th>\n",
       "      <th>도보 10분거리 내 지하철역 수(환승노선 수 반영)</th>\n",
       "      <th>도보 10분거리 내 버스정류장 수</th>\n",
       "      <th>단지내주차면수</th>\n",
       "    </tr>\n",
       "  </thead>\n",
       "  <tbody>\n",
       "    <tr>\n",
       "      <th>0</th>\n",
       "      <td>C1072</td>\n",
       "      <td>754</td>\n",
       "      <td>아파트</td>\n",
       "      <td>경기도</td>\n",
       "      <td>국민임대</td>\n",
       "      <td>39.79</td>\n",
       "      <td>116</td>\n",
       "      <td>14.0</td>\n",
       "      <td>H</td>\n",
       "      <td>22830000</td>\n",
       "      <td>189840</td>\n",
       "      <td>0.0</td>\n",
       "      <td>2.0</td>\n",
       "      <td>683.0</td>\n",
       "    </tr>\n",
       "    <tr>\n",
       "      <th>1</th>\n",
       "      <td>C1072</td>\n",
       "      <td>754</td>\n",
       "      <td>아파트</td>\n",
       "      <td>경기도</td>\n",
       "      <td>국민임대</td>\n",
       "      <td>46.81</td>\n",
       "      <td>30</td>\n",
       "      <td>14.0</td>\n",
       "      <td>A</td>\n",
       "      <td>36048000</td>\n",
       "      <td>249930</td>\n",
       "      <td>0.0</td>\n",
       "      <td>2.0</td>\n",
       "      <td>683.0</td>\n",
       "    </tr>\n",
       "    <tr>\n",
       "      <th>2</th>\n",
       "      <td>C1072</td>\n",
       "      <td>754</td>\n",
       "      <td>아파트</td>\n",
       "      <td>경기도</td>\n",
       "      <td>국민임대</td>\n",
       "      <td>46.90</td>\n",
       "      <td>112</td>\n",
       "      <td>14.0</td>\n",
       "      <td>H</td>\n",
       "      <td>36048000</td>\n",
       "      <td>249930</td>\n",
       "      <td>0.0</td>\n",
       "      <td>2.0</td>\n",
       "      <td>683.0</td>\n",
       "    </tr>\n",
       "    <tr>\n",
       "      <th>3</th>\n",
       "      <td>C1072</td>\n",
       "      <td>754</td>\n",
       "      <td>아파트</td>\n",
       "      <td>경기도</td>\n",
       "      <td>국민임대</td>\n",
       "      <td>46.90</td>\n",
       "      <td>120</td>\n",
       "      <td>14.0</td>\n",
       "      <td>H</td>\n",
       "      <td>36048000</td>\n",
       "      <td>249930</td>\n",
       "      <td>0.0</td>\n",
       "      <td>2.0</td>\n",
       "      <td>683.0</td>\n",
       "    </tr>\n",
       "    <tr>\n",
       "      <th>4</th>\n",
       "      <td>C1072</td>\n",
       "      <td>754</td>\n",
       "      <td>아파트</td>\n",
       "      <td>경기도</td>\n",
       "      <td>국민임대</td>\n",
       "      <td>51.46</td>\n",
       "      <td>60</td>\n",
       "      <td>14.0</td>\n",
       "      <td>H</td>\n",
       "      <td>43497000</td>\n",
       "      <td>296780</td>\n",
       "      <td>0.0</td>\n",
       "      <td>2.0</td>\n",
       "      <td>683.0</td>\n",
       "    </tr>\n",
       "  </tbody>\n",
       "</table>\n",
       "</div>"
      ],
      "text/plain": [
       "    단지코드  총세대수 임대건물구분   지역  공급유형   전용면적  전용면적별세대수   공가수 자격유형     임대보증금  \\\n",
       "0  C1072   754    아파트  경기도  국민임대  39.79       116  14.0    H  22830000   \n",
       "1  C1072   754    아파트  경기도  국민임대  46.81        30  14.0    A  36048000   \n",
       "2  C1072   754    아파트  경기도  국민임대  46.90       112  14.0    H  36048000   \n",
       "3  C1072   754    아파트  경기도  국민임대  46.90       120  14.0    H  36048000   \n",
       "4  C1072   754    아파트  경기도  국민임대  51.46        60  14.0    H  43497000   \n",
       "\n",
       "      임대료  도보 10분거리 내 지하철역 수(환승노선 수 반영)  도보 10분거리 내 버스정류장 수  단지내주차면수  \n",
       "0  189840                           0.0                 2.0    683.0  \n",
       "1  249930                           0.0                 2.0    683.0  \n",
       "2  249930                           0.0                 2.0    683.0  \n",
       "3  249930                           0.0                 2.0    683.0  \n",
       "4  296780                           0.0                 2.0    683.0  "
      ]
     },
     "execution_count": 52,
     "metadata": {},
     "output_type": "execute_result"
    }
   ],
   "source": [
    "data2.head()"
   ]
  },
  {
   "cell_type": "code",
   "execution_count": 53,
   "metadata": {},
   "outputs": [],
   "source": [
    "data2 = data2.rename(columns={'도보 10분거리 내 지하철역 수(환승노선 수 반영)':'지하철역','도보 10분거리 내 버스정류장 수':'버스정류장'})"
   ]
  },
  {
   "cell_type": "code",
   "execution_count": 54,
   "metadata": {},
   "outputs": [
    {
     "data": {
      "text/plain": [
       "(1022, 14)"
      ]
     },
     "execution_count": 54,
     "metadata": {},
     "output_type": "execute_result"
    }
   ],
   "source": [
    "data2.shape"
   ]
  },
  {
   "cell_type": "code",
   "execution_count": 55,
   "metadata": {},
   "outputs": [
    {
     "data": {
      "text/plain": [
       "단지코드          0\n",
       "총세대수          0\n",
       "임대건물구분        0\n",
       "지역            0\n",
       "공급유형          0\n",
       "전용면적          0\n",
       "전용면적별세대수      0\n",
       "공가수           0\n",
       "자격유형          2\n",
       "임대보증금       180\n",
       "임대료         180\n",
       "지하철역         42\n",
       "버스정류장         0\n",
       "단지내주차면수       0\n",
       "dtype: int64"
      ]
     },
     "execution_count": 55,
     "metadata": {},
     "output_type": "execute_result"
    }
   ],
   "source": [
    "data2.isna().sum()"
   ]
  },
  {
   "cell_type": "markdown",
   "metadata": {},
   "source": [
    "## NA 처리\n",
    "\n",
    "### 1) 지하철 수"
   ]
  },
  {
   "cell_type": "code",
   "execution_count": 56,
   "metadata": {},
   "outputs": [
    {
     "data": {
      "text/plain": [
       "array(['충청남도', '대전광역시'], dtype=object)"
      ]
     },
     "execution_count": 56,
     "metadata": {},
     "output_type": "execute_result"
    }
   ],
   "source": [
    "data2[data2['지하철역'].isna()==True]['지역'].unique()"
   ]
  },
  {
   "cell_type": "code",
   "execution_count": 57,
   "metadata": {},
   "outputs": [],
   "source": [
    "ind = data2[(data2['지역']=='충청남도')&(data2['지하철역'].isna()==True)].index\n",
    "data2.loc[ind,'지하철역'] = 0"
   ]
  },
  {
   "cell_type": "code",
   "execution_count": 58,
   "metadata": {},
   "outputs": [],
   "source": [
    "X_test = data2[(data2['지역']=='대전광역시')&(data2['지하철역'].isna()==True)]['버스정류장'].values.reshape(-1,1)\n",
    "pred = reg.predict(X_test)"
   ]
  },
  {
   "cell_type": "code",
   "execution_count": 59,
   "metadata": {},
   "outputs": [],
   "source": [
    "ind = data2[(data2['지역']=='대전광역시')&(data2['지하철역'].isna()==True)].index\n",
    "data2.loc[ind,'지하철역'] = 0"
   ]
  },
  {
   "cell_type": "markdown",
   "metadata": {},
   "source": [
    "### 2) 자격유형"
   ]
  },
  {
   "cell_type": "code",
   "execution_count": 60,
   "metadata": {},
   "outputs": [],
   "source": [
    "tmp = data2[data2['자격유형'].isna()==True]['단지코드'].values # A C로 채우기"
   ]
  },
  {
   "cell_type": "code",
   "execution_count": 61,
   "metadata": {},
   "outputs": [],
   "source": [
    "ind = data2[(data2['자격유형'].isna()==True)].index\n",
    "data2.loc[ind[0],'자격유형'] = 'A'\n",
    "data2.loc[ind[1],'자격유형'] = 'C'"
   ]
  },
  {
   "cell_type": "markdown",
   "metadata": {},
   "source": [
    "### 3) 임대료, 임대보증금"
   ]
  },
  {
   "cell_type": "code",
   "execution_count": 62,
   "metadata": {},
   "outputs": [],
   "source": [
    "data2['임대료'] = data2['임대료'].replace('-',np.nan)\n",
    "data2['임대보증금'] = data2['임대보증금'].replace('-',np.nan)"
   ]
  },
  {
   "cell_type": "code",
   "execution_count": 63,
   "metadata": {},
   "outputs": [],
   "source": [
    "data2['임대료'] = data2['임대료'].apply(lambda x : float(x))\n",
    "data2['임대보증금'] = data2['임대보증금'].apply(lambda x : float(x))"
   ]
  },
  {
   "cell_type": "code",
   "execution_count": 64,
   "metadata": {},
   "outputs": [],
   "source": [
    "def get_values(code):\n",
    "    df = data2[(data2['단지코드']==code)&(data2['임대료'].isna()==False)]\n",
    "    deposit = df['임대보증금'].values.mean()\n",
    "    rent = df['임대료'].values.mean()\n",
    "    return deposit,rent"
   ]
  },
  {
   "cell_type": "code",
   "execution_count": 65,
   "metadata": {},
   "outputs": [
    {
     "name": "stdout",
     "output_type": "stream",
     "text": [
      "C2152\n"
     ]
    }
   ],
   "source": [
    "code = data2[data2['임대료'].isna()==True]['단지코드'].unique()\n",
    "for i in code:\n",
    "    n = data2[(data2['단지코드']==i)&(data2['임대료'].isna()==False)].shape[0]\n",
    "    if n ==0 :\n",
    "        print(i)\n",
    "    if n != 0 :\n",
    "        ind = data2[(data2['단지코드']==i)&(data2['임대료'].isna()==True)].index\n",
    "        data2.loc[ind,'임대료'] = get_values(i)[1]"
   ]
  },
  {
   "cell_type": "code",
   "execution_count": 66,
   "metadata": {},
   "outputs": [
    {
     "name": "stdout",
     "output_type": "stream",
     "text": [
      "C2152\n"
     ]
    }
   ],
   "source": [
    "code = data2[data2['임대보증금'].isna()==True]['단지코드'].unique()\n",
    "for i in code:\n",
    "    n = data2[(data2['단지코드']==i)&(data2['임대보증금'].isna()==False)].shape[0]\n",
    "    if n== 0 :\n",
    "        print(i)\n",
    "    if n != 0 :\n",
    "        ind = data2[(data2['단지코드']==i)&(data2['임대보증금'].isna()==True)].index\n",
    "        data2.loc[ind,'임대보증금'] = get_values(i)[1]"
   ]
  },
  {
   "cell_type": "code",
   "execution_count": 67,
   "metadata": {},
   "outputs": [],
   "source": [
    "ind = data2[data2['임대보증금'].isna()==True].index"
   ]
  },
  {
   "cell_type": "markdown",
   "metadata": {},
   "source": [
    "- 강원도, 영구임대 아파트 중에서 전용면적이 비슷한 값으로 imputation\n",
    "- 첫번째 case 7569000.0\t73100.0\n",
    "- 두번째 case 5009000.0\t93000.0\t"
   ]
  },
  {
   "cell_type": "code",
   "execution_count": 68,
   "metadata": {},
   "outputs": [],
   "source": [
    "data2.loc[ind[0],['임대보증금','임대료']] = [7569000.0, 73100.0]\n",
    "data2.loc[ind[1],['임대보증금','임대료']] = [5009000.0, 93000.0]"
   ]
  },
  {
   "cell_type": "code",
   "execution_count": 69,
   "metadata": {},
   "outputs": [],
   "source": [
    "test = data2[['단지코드','총세대수','지역','공가수','지하철역','버스정류장','단지내주차면수']]\n",
    "test = test.drop_duplicates()"
   ]
  },
  {
   "cell_type": "code",
   "execution_count": 70,
   "metadata": {},
   "outputs": [
    {
     "data": {
      "text/plain": [
       "(150, 7)"
      ]
     },
     "execution_count": 70,
     "metadata": {},
     "output_type": "execute_result"
    }
   ],
   "source": [
    "test.shape"
   ]
  },
  {
   "cell_type": "markdown",
   "metadata": {},
   "source": [
    "## 임대료, 임대보증금"
   ]
  },
  {
   "cell_type": "code",
   "execution_count": 71,
   "metadata": {},
   "outputs": [
    {
     "data": {
      "text/html": [
       "<div>\n",
       "<style scoped>\n",
       "    .dataframe tbody tr th:only-of-type {\n",
       "        vertical-align: middle;\n",
       "    }\n",
       "\n",
       "    .dataframe tbody tr th {\n",
       "        vertical-align: top;\n",
       "    }\n",
       "\n",
       "    .dataframe thead th {\n",
       "        text-align: right;\n",
       "    }\n",
       "</style>\n",
       "<table border=\"1\" class=\"dataframe\">\n",
       "  <thead>\n",
       "    <tr style=\"text-align: right;\">\n",
       "      <th></th>\n",
       "      <th>단지코드</th>\n",
       "      <th>임대료</th>\n",
       "      <th>임대보증금</th>\n",
       "    </tr>\n",
       "  </thead>\n",
       "  <tbody>\n",
       "    <tr>\n",
       "      <th>0</th>\n",
       "      <td>C1003</td>\n",
       "      <td>115875.000000</td>\n",
       "      <td>2.265000e+07</td>\n",
       "    </tr>\n",
       "    <tr>\n",
       "      <th>1</th>\n",
       "      <td>C1006</td>\n",
       "      <td>83732.500000</td>\n",
       "      <td>9.688832e+05</td>\n",
       "    </tr>\n",
       "    <tr>\n",
       "      <th>2</th>\n",
       "      <td>C1016</td>\n",
       "      <td>228010.000000</td>\n",
       "      <td>2.402675e+07</td>\n",
       "    </tr>\n",
       "    <tr>\n",
       "      <th>3</th>\n",
       "      <td>C1019</td>\n",
       "      <td>126430.000000</td>\n",
       "      <td>1.485750e+07</td>\n",
       "    </tr>\n",
       "    <tr>\n",
       "      <th>4</th>\n",
       "      <td>C1030</td>\n",
       "      <td>214216.666667</td>\n",
       "      <td>5.141333e+07</td>\n",
       "    </tr>\n",
       "  </tbody>\n",
       "</table>\n",
       "</div>"
      ],
      "text/plain": [
       "    단지코드            임대료         임대보증금\n",
       "0  C1003  115875.000000  2.265000e+07\n",
       "1  C1006   83732.500000  9.688832e+05\n",
       "2  C1016  228010.000000  2.402675e+07\n",
       "3  C1019  126430.000000  1.485750e+07\n",
       "4  C1030  214216.666667  5.141333e+07"
      ]
     },
     "execution_count": 71,
     "metadata": {},
     "output_type": "execute_result"
    }
   ],
   "source": [
    "''''''\n",
    "sample = data2.groupby('단지코드').mean()[['임대료','임대보증금']].reset_index()\n",
    "sample.head()"
   ]
  },
  {
   "cell_type": "code",
   "execution_count": 72,
   "metadata": {},
   "outputs": [],
   "source": [
    "for i in sample.index:\n",
    "    code = sample.loc[i,'단지코드']\n",
    "    val1 = sample.loc[i,'임대료']\n",
    "    val2 = sample.loc[i,'임대보증금']\n",
    "    ind = test[test['단지코드']==code].index\n",
    "    test.loc[ind,'임대료'] = val1\n",
    "    test.loc[ind,'임대보증금'] = val2"
   ]
  },
  {
   "cell_type": "markdown",
   "metadata": {},
   "source": [
    "## 전용면적별세대수"
   ]
  },
  {
   "cell_type": "code",
   "execution_count": 73,
   "metadata": {},
   "outputs": [
    {
     "data": {
      "text/html": [
       "<div>\n",
       "<style scoped>\n",
       "    .dataframe tbody tr th:only-of-type {\n",
       "        vertical-align: middle;\n",
       "    }\n",
       "\n",
       "    .dataframe tbody tr th {\n",
       "        vertical-align: top;\n",
       "    }\n",
       "\n",
       "    .dataframe thead th {\n",
       "        text-align: right;\n",
       "    }\n",
       "</style>\n",
       "<table border=\"1\" class=\"dataframe\">\n",
       "  <thead>\n",
       "    <tr style=\"text-align: right;\">\n",
       "      <th></th>\n",
       "      <th>단지코드</th>\n",
       "      <th>공급유형</th>\n",
       "      <th>전용면적별세대수</th>\n",
       "    </tr>\n",
       "  </thead>\n",
       "  <tbody>\n",
       "    <tr>\n",
       "      <th>0</th>\n",
       "      <td>C1003</td>\n",
       "      <td>행복주택</td>\n",
       "      <td>480</td>\n",
       "    </tr>\n",
       "    <tr>\n",
       "      <th>1</th>\n",
       "      <td>C1006</td>\n",
       "      <td>영구임대</td>\n",
       "      <td>1485</td>\n",
       "    </tr>\n",
       "    <tr>\n",
       "      <th>2</th>\n",
       "      <td>C1006</td>\n",
       "      <td>임대상가</td>\n",
       "      <td>20</td>\n",
       "    </tr>\n",
       "    <tr>\n",
       "      <th>3</th>\n",
       "      <td>C1016</td>\n",
       "      <td>국민임대</td>\n",
       "      <td>643</td>\n",
       "    </tr>\n",
       "    <tr>\n",
       "      <th>4</th>\n",
       "      <td>C1019</td>\n",
       "      <td>국민임대</td>\n",
       "      <td>321</td>\n",
       "    </tr>\n",
       "  </tbody>\n",
       "</table>\n",
       "</div>"
      ],
      "text/plain": [
       "    단지코드  공급유형  전용면적별세대수\n",
       "0  C1003  행복주택       480\n",
       "1  C1006  영구임대      1485\n",
       "2  C1006  임대상가        20\n",
       "3  C1016  국민임대       643\n",
       "4  C1019  국민임대       321"
      ]
     },
     "execution_count": 73,
     "metadata": {},
     "output_type": "execute_result"
    }
   ],
   "source": [
    "sample = pd.DataFrame(data2.groupby(['단지코드','공급유형']).sum()['전용면적별세대수']).reset_index()\n",
    "sample.head()"
   ]
  },
  {
   "cell_type": "code",
   "execution_count": 74,
   "metadata": {},
   "outputs": [
    {
     "name": "stdout",
     "output_type": "stream",
     "text": [
      "test data 공급유형 종류:  7\n",
      "train data 공급유형 종류:  10\n"
     ]
    }
   ],
   "source": [
    "print('test data 공급유형 종류: ',data2.공급유형.nunique()) \n",
    "print('train data 공급유형 종류: ',data.공급유형.nunique()) "
   ]
  },
  {
   "cell_type": "code",
   "execution_count": 75,
   "metadata": {},
   "outputs": [
    {
     "name": "stdout",
     "output_type": "stream",
     "text": [
      "['국민임대' '공공임대(50년)' '영구임대' '임대상가' '공공임대(10년)' '공공임대(분납)' '장기전세' '공공분양'\n",
      " '행복주택' '공공임대(5년)']\n",
      "['국민임대' '영구임대' '임대상가' '공공임대(50년)' '공공임대(10년)' '공공임대(분납)' '행복주택']\n"
     ]
    }
   ],
   "source": [
    "print(data.공급유형.unique())\n",
    "print(data2.공급유형.unique())"
   ]
  },
  {
   "cell_type": "code",
   "execution_count": 76,
   "metadata": {},
   "outputs": [],
   "source": [
    "for i in data.공급유형.unique():\n",
    "    test[str(i)]=0"
   ]
  },
  {
   "cell_type": "code",
   "execution_count": 77,
   "metadata": {},
   "outputs": [],
   "source": [
    "for i in sample.index:\n",
    "    code = sample.loc[i,'단지코드']\n",
    "    col = sample.loc[i,'공급유형']\n",
    "    val = sample.loc[i,'전용면적별세대수']\n",
    "    ind = test[test['단지코드']==code].index\n",
    "    test.loc[ind,col] = val"
   ]
  },
  {
   "cell_type": "markdown",
   "metadata": {},
   "source": [
    "## 전용면적"
   ]
  },
  {
   "cell_type": "code",
   "execution_count": 78,
   "metadata": {},
   "outputs": [],
   "source": [
    "data2['전용면적 카테고리']  = data2['전용면적'].apply(lambda x : category(x))"
   ]
  },
  {
   "cell_type": "code",
   "execution_count": 79,
   "metadata": {},
   "outputs": [],
   "source": [
    "for i in data2['전용면적 카테고리']:\n",
    "    test['전용면적'+str(i)] = 0"
   ]
  },
  {
   "cell_type": "code",
   "execution_count": 80,
   "metadata": {},
   "outputs": [
    {
     "data": {
      "text/html": [
       "<div>\n",
       "<style scoped>\n",
       "    .dataframe tbody tr th:only-of-type {\n",
       "        vertical-align: middle;\n",
       "    }\n",
       "\n",
       "    .dataframe tbody tr th {\n",
       "        vertical-align: top;\n",
       "    }\n",
       "\n",
       "    .dataframe thead th {\n",
       "        text-align: right;\n",
       "    }\n",
       "</style>\n",
       "<table border=\"1\" class=\"dataframe\">\n",
       "  <thead>\n",
       "    <tr style=\"text-align: right;\">\n",
       "      <th></th>\n",
       "      <th>단지코드</th>\n",
       "      <th>전용면적 카테고리</th>\n",
       "    </tr>\n",
       "  </thead>\n",
       "  <tbody>\n",
       "    <tr>\n",
       "      <th>0</th>\n",
       "      <td>C1003</td>\n",
       "      <td>[2, 4, 6, 7]</td>\n",
       "    </tr>\n",
       "    <tr>\n",
       "      <th>1</th>\n",
       "      <td>C1006</td>\n",
       "      <td>[4, 5, 9, 6, 14]</td>\n",
       "    </tr>\n",
       "    <tr>\n",
       "      <th>2</th>\n",
       "      <td>C1016</td>\n",
       "      <td>[6, 8, 10]</td>\n",
       "    </tr>\n",
       "    <tr>\n",
       "      <th>3</th>\n",
       "      <td>C1019</td>\n",
       "      <td>[6, 8]</td>\n",
       "    </tr>\n",
       "    <tr>\n",
       "      <th>4</th>\n",
       "      <td>C1030</td>\n",
       "      <td>[2, 4, 6]</td>\n",
       "    </tr>\n",
       "  </tbody>\n",
       "</table>\n",
       "</div>"
      ],
      "text/plain": [
       "    단지코드         전용면적 카테고리\n",
       "0  C1003      [2, 4, 6, 7]\n",
       "1  C1006  [4, 5, 9, 6, 14]\n",
       "2  C1016        [6, 8, 10]\n",
       "3  C1019            [6, 8]\n",
       "4  C1030         [2, 4, 6]"
      ]
     },
     "execution_count": 80,
     "metadata": {},
     "output_type": "execute_result"
    }
   ],
   "source": [
    "sample = pd.DataFrame(data2.groupby('단지코드')['전용면적 카테고리'].unique()).reset_index()\n",
    "sample.head()"
   ]
  },
  {
   "cell_type": "code",
   "execution_count": 81,
   "metadata": {},
   "outputs": [],
   "source": [
    "for i in sample.index:\n",
    "    code = sample.loc[i,'단지코드']\n",
    "    val = sample.loc[i,'전용면적 카테고리']\n",
    "    ind = test[test['단지코드']==code].index\n",
    "    for j in val:\n",
    "        test.loc[ind,'전용면적'+str(j)] = 1"
   ]
  },
  {
   "cell_type": "markdown",
   "metadata": {},
   "source": [
    "## 자격유형"
   ]
  },
  {
   "cell_type": "code",
   "execution_count": 82,
   "metadata": {},
   "outputs": [],
   "source": [
    "data2['자격유형 카테고리'] = data2['자격유형'].apply(lambda x : category2(x))"
   ]
  },
  {
   "cell_type": "code",
   "execution_count": 83,
   "metadata": {},
   "outputs": [
    {
     "data": {
      "text/html": [
       "<div>\n",
       "<style scoped>\n",
       "    .dataframe tbody tr th:only-of-type {\n",
       "        vertical-align: middle;\n",
       "    }\n",
       "\n",
       "    .dataframe tbody tr th {\n",
       "        vertical-align: top;\n",
       "    }\n",
       "\n",
       "    .dataframe thead th {\n",
       "        text-align: right;\n",
       "    }\n",
       "</style>\n",
       "<table border=\"1\" class=\"dataframe\">\n",
       "  <thead>\n",
       "    <tr style=\"text-align: right;\">\n",
       "      <th></th>\n",
       "      <th>단지코드</th>\n",
       "      <th>자격유형 카테고리</th>\n",
       "    </tr>\n",
       "  </thead>\n",
       "  <tbody>\n",
       "    <tr>\n",
       "      <th>0</th>\n",
       "      <td>C1003</td>\n",
       "      <td>[6]</td>\n",
       "    </tr>\n",
       "    <tr>\n",
       "      <th>1</th>\n",
       "      <td>C1006</td>\n",
       "      <td>[7, 8]</td>\n",
       "    </tr>\n",
       "    <tr>\n",
       "      <th>2</th>\n",
       "      <td>C1016</td>\n",
       "      <td>[1]</td>\n",
       "    </tr>\n",
       "    <tr>\n",
       "      <th>3</th>\n",
       "      <td>C1019</td>\n",
       "      <td>[1]</td>\n",
       "    </tr>\n",
       "    <tr>\n",
       "      <th>4</th>\n",
       "      <td>C1030</td>\n",
       "      <td>[6]</td>\n",
       "    </tr>\n",
       "  </tbody>\n",
       "</table>\n",
       "</div>"
      ],
      "text/plain": [
       "    단지코드 자격유형 카테고리\n",
       "0  C1003       [6]\n",
       "1  C1006    [7, 8]\n",
       "2  C1016       [1]\n",
       "3  C1019       [1]\n",
       "4  C1030       [6]"
      ]
     },
     "execution_count": 83,
     "metadata": {},
     "output_type": "execute_result"
    }
   ],
   "source": [
    "sample = pd.DataFrame(data2.groupby('단지코드')['자격유형 카테고리'].unique()).reset_index()\n",
    "sample.head()"
   ]
  },
  {
   "cell_type": "code",
   "execution_count": 84,
   "metadata": {},
   "outputs": [],
   "source": [
    "for i in dic.keys():\n",
    "    test['자격유형'+str(i)]=0"
   ]
  },
  {
   "cell_type": "code",
   "execution_count": 85,
   "metadata": {},
   "outputs": [],
   "source": [
    "for i in sample.index:\n",
    "    code = sample.loc[i,'단지코드']\n",
    "    val = sample.loc[i,'자격유형 카테고리']\n",
    "    ind = test[test['단지코드']==code].index\n",
    "    for j in val:\n",
    "        test.loc[ind,'자격유형'+str(j)] = 1"
   ]
  },
  {
   "cell_type": "code",
   "execution_count": 107,
   "metadata": {},
   "outputs": [
    {
     "name": "stdout",
     "output_type": "stream",
     "text": [
      "(423, 53)\n",
      "(150, 52)\n"
     ]
    }
   ],
   "source": [
    "print(train.shape)\n",
    "print(test.shape)"
   ]
  },
  {
   "cell_type": "markdown",
   "metadata": {},
   "source": [
    "## 지역 별 인구"
   ]
  },
  {
   "cell_type": "code",
   "execution_count": 106,
   "metadata": {},
   "outputs": [],
   "source": [
    "test = pd.merge(test,tmp,how='left',on='지역')"
   ]
  },
  {
   "cell_type": "code",
   "execution_count": 111,
   "metadata": {},
   "outputs": [],
   "source": [
    "test.to_csv(\"data/testsample.csv\",index=False)"
   ]
  },
  {
   "cell_type": "markdown",
   "metadata": {},
   "source": [
    "# Sample submission"
   ]
  },
  {
   "cell_type": "code",
   "execution_count": 108,
   "metadata": {},
   "outputs": [],
   "source": [
    "data3 = pd.read_csv(\"data/sample_submission.csv\")"
   ]
  },
  {
   "cell_type": "code",
   "execution_count": 109,
   "metadata": {},
   "outputs": [
    {
     "data": {
      "text/html": [
       "<div>\n",
       "<style scoped>\n",
       "    .dataframe tbody tr th:only-of-type {\n",
       "        vertical-align: middle;\n",
       "    }\n",
       "\n",
       "    .dataframe tbody tr th {\n",
       "        vertical-align: top;\n",
       "    }\n",
       "\n",
       "    .dataframe thead th {\n",
       "        text-align: right;\n",
       "    }\n",
       "</style>\n",
       "<table border=\"1\" class=\"dataframe\">\n",
       "  <thead>\n",
       "    <tr style=\"text-align: right;\">\n",
       "      <th></th>\n",
       "      <th>code</th>\n",
       "      <th>num</th>\n",
       "    </tr>\n",
       "  </thead>\n",
       "  <tbody>\n",
       "    <tr>\n",
       "      <th>0</th>\n",
       "      <td>C1072</td>\n",
       "      <td>585.0</td>\n",
       "    </tr>\n",
       "    <tr>\n",
       "      <th>1</th>\n",
       "      <td>C1128</td>\n",
       "      <td>1015.0</td>\n",
       "    </tr>\n",
       "    <tr>\n",
       "      <th>2</th>\n",
       "      <td>C1456</td>\n",
       "      <td>700.0</td>\n",
       "    </tr>\n",
       "    <tr>\n",
       "      <th>3</th>\n",
       "      <td>C1840</td>\n",
       "      <td>646.0</td>\n",
       "    </tr>\n",
       "    <tr>\n",
       "      <th>4</th>\n",
       "      <td>C1332</td>\n",
       "      <td>708.0</td>\n",
       "    </tr>\n",
       "  </tbody>\n",
       "</table>\n",
       "</div>"
      ],
      "text/plain": [
       "    code     num\n",
       "0  C1072   585.0\n",
       "1  C1128  1015.0\n",
       "2  C1456   700.0\n",
       "3  C1840   646.0\n",
       "4  C1332   708.0"
      ]
     },
     "execution_count": 109,
     "metadata": {},
     "output_type": "execute_result"
    }
   ],
   "source": [
    "data3.head()"
   ]
  },
  {
   "cell_type": "code",
   "execution_count": 110,
   "metadata": {},
   "outputs": [
    {
     "data": {
      "text/plain": [
       "(150, 2)"
      ]
     },
     "execution_count": 110,
     "metadata": {},
     "output_type": "execute_result"
    }
   ],
   "source": [
    "data3.shape"
   ]
  },
  {
   "cell_type": "code",
   "execution_count": null,
   "metadata": {},
   "outputs": [],
   "source": []
  }
 ],
 "metadata": {
  "kernelspec": {
   "display_name": "Python 3",
   "language": "python",
   "name": "python3"
  },
  "language_info": {
   "codemirror_mode": {
    "name": "ipython",
    "version": 3
   },
   "file_extension": ".py",
   "mimetype": "text/x-python",
   "name": "python",
   "nbconvert_exporter": "python",
   "pygments_lexer": "ipython3",
   "version": "3.8.3"
  }
 },
 "nbformat": 4,
 "nbformat_minor": 4
}
