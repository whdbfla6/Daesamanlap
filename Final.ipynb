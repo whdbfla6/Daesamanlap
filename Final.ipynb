{
 "cells": [
  {
   "cell_type": "markdown",
   "id": "f9f1f210",
   "metadata": {},
   "source": [
    "## private score : 110"
   ]
  },
  {
   "cell_type": "code",
   "execution_count": 1,
   "id": "5fdb511e",
   "metadata": {},
   "outputs": [],
   "source": [
    "import pandas as pd\n",
    "import numpy as np\n",
    "pd.set_option('display.max_columns', 500)\n",
    "\n",
    "# Warnings\n",
    "import warnings\n",
    "warnings.filterwarnings('always')\n",
    "warnings.filterwarnings('ignore')"
   ]
  },
  {
   "cell_type": "code",
   "execution_count": 2,
   "id": "51f8cd43",
   "metadata": {},
   "outputs": [],
   "source": [
    "train = pd.read_csv('data/train.csv')\n",
    "test = pd.read_csv('data/test.csv')\n",
    "age_gender_info = pd.read_csv('data/age_gender_info.csv')"
   ]
  },
  {
   "cell_type": "markdown",
   "id": "b3afecb3",
   "metadata": {},
   "source": [
    "## 연령비율 변수 생성\n",
    "\n",
    "`0~19세_비율` `20~39세_비율` `40~69세_비율` `70세이상_비율`"
   ]
  },
  {
   "cell_type": "code",
   "execution_count": 3,
   "id": "f62601ed",
   "metadata": {},
   "outputs": [],
   "source": [
    "age_col = [str(x) + '대' for x in range(10,110,10)]\n",
    "age_col = ['10대미만'] + age_col"
   ]
  },
  {
   "cell_type": "code",
   "execution_count": 4,
   "id": "feb06ac9",
   "metadata": {},
   "outputs": [],
   "source": [
    "for col in age_col:\n",
    "    W = '(여자)' ;M = '(남자)'\n",
    "    age_gender_info[col] = age_gender_info[col+W] + age_gender_info[col+M]\n",
    "    age_gender_info.drop([col+W,col+M],axis=1,inplace=True)"
   ]
  },
  {
   "cell_type": "code",
   "execution_count": 5,
   "id": "169267b8",
   "metadata": {},
   "outputs": [],
   "source": [
    "age_gender_info['0~19세_비율'] = age_gender_info.iloc[:,1:3].sum(axis=1)\n",
    "age_gender_info['20~39세_비율'] = age_gender_info.iloc[:,3:5].sum(axis=1)\n",
    "age_gender_info['40~69세_비율'] = age_gender_info.iloc[:,5:8].sum(axis=1)\n",
    "age_gender_info['70세이상_비율'] = age_gender_info.iloc[:,8:].sum(axis=1)\n",
    "age_gender_info = age_gender_info.loc[:,['지역','0~19세_비율', '20~39세_비율','40~69세_비율', '70세이상_비율']]"
   ]
  },
  {
   "cell_type": "code",
   "execution_count": 6,
   "id": "9484ba0e",
   "metadata": {},
   "outputs": [],
   "source": [
    "train = pd.merge(train,age_gender_info)\n",
    "test = pd.merge(test,age_gender_info)"
   ]
  },
  {
   "cell_type": "markdown",
   "id": "312ed00a",
   "metadata": {},
   "source": [
    "*상가 데이터는 제외*"
   ]
  },
  {
   "cell_type": "code",
   "execution_count": 7,
   "id": "b8772314",
   "metadata": {},
   "outputs": [],
   "source": [
    "train = train[train['임대건물구분']=='아파트']\n",
    "test = test[test['임대건물구분']=='아파트']"
   ]
  },
  {
   "cell_type": "markdown",
   "id": "732372e3",
   "metadata": {},
   "source": [
    "### NA 처리\n",
    "\n",
    "`임대료` `임대보증금` : 0 으로 채우기"
   ]
  },
  {
   "cell_type": "code",
   "execution_count": 8,
   "id": "793e6767",
   "metadata": {},
   "outputs": [],
   "source": [
    "train.loc[train['임대보증금']=='-','임대보증금'] = 0\n",
    "train.loc[train['임대료']=='-','임대료'] = 0"
   ]
  },
  {
   "cell_type": "code",
   "execution_count": 9,
   "id": "5737eed5",
   "metadata": {},
   "outputs": [],
   "source": [
    "test.loc[test['임대보증금']=='-','임대보증금'] = 0\n",
    "test.loc[test['임대료']=='-','임대료'] = 0"
   ]
  },
  {
   "cell_type": "code",
   "execution_count": 10,
   "id": "5b69969a",
   "metadata": {},
   "outputs": [],
   "source": [
    "train['임대보증금'] = train['임대보증금'].fillna(0)\n",
    "test['임대보증금'] = test['임대보증금'].fillna(0)"
   ]
  },
  {
   "cell_type": "code",
   "execution_count": 11,
   "id": "4286a6ee",
   "metadata": {},
   "outputs": [],
   "source": [
    "train['임대료'] = train['임대료'].fillna(0)\n",
    "test['임대료'] = test['임대료'].fillna(0)"
   ]
  },
  {
   "cell_type": "code",
   "execution_count": 12,
   "id": "b672512f",
   "metadata": {},
   "outputs": [],
   "source": [
    "train[['임대료','임대보증금']] = train[['임대료','임대보증금']].astype('int')\n",
    "test[['임대료','임대보증금']] = test[['임대료','임대보증금']].astype('int')"
   ]
  },
  {
   "cell_type": "markdown",
   "id": "54ac3213",
   "metadata": {},
   "source": [
    "### 전용면적 단위 통일\n",
    "ex. `전용면적` : 20-30인 경우 20으로 통일"
   ]
  },
  {
   "cell_type": "code",
   "execution_count": 13,
   "id": "441b057b",
   "metadata": {},
   "outputs": [],
   "source": [
    "train['전용면적'] = train['전용면적']//10 * 10\n",
    "train['전용면적'] = train['전용면적'].astype('int').astype('str')"
   ]
  },
  {
   "cell_type": "code",
   "execution_count": 14,
   "id": "01590e1a",
   "metadata": {},
   "outputs": [],
   "source": [
    "test['전용면적'] = test['전용면적']//10 * 10\n",
    "test['전용면적'] = test['전용면적'].astype('int').astype('str')"
   ]
  },
  {
   "cell_type": "code",
   "execution_count": 15,
   "id": "fbc6ae28",
   "metadata": {},
   "outputs": [],
   "source": [
    "not_unique = ['자격유형','임대보증금','임대료','전용면적별세대수','전용면적','공급유형']"
   ]
  },
  {
   "cell_type": "markdown",
   "id": "19c6c701",
   "metadata": {},
   "source": [
    "### 데이터 재구성 및 파생변수 생성\n",
    "\n",
    "`단지코드`, `전용면적`, `공급유형` 기준으로 데이터 일차원으로 병합\n",
    "\n",
    "*면적 별로 (20,30) 임대료, 임대보증금의 차이가 커서 단순 평균내는 것은 정보손실 우려가 있음*\n",
    "\n",
    "\n",
    "`임대료` `임대보증금` \n",
    "\n",
    "- NA를 제외하고 평균값 구하기\n",
    "\n",
    "\n",
    "- `단지코드` `전용면적` `공급유형`를 기준으로 NA 발생시, 지역 별 `전용면적` `공급유형` 기준 `임대료` `임대보증금` 값으로 채움\n"
   ]
  },
  {
   "cell_type": "code",
   "execution_count": 16,
   "id": "efcebde2",
   "metadata": {},
   "outputs": [],
   "source": [
    "tmp = train.groupby(['단지코드','전용면적','공급유형'],as_index=False).agg({'전용면적별세대수':'sum'})\n",
    "tmp = pd.merge(tmp,train[train['임대료']!=0].groupby(['단지코드','전용면적','공급유형'],as_index=False).agg({'임대료':'mean','임대보증금':'mean'}),how='left')\n",
    "tmp['임대료'].fillna(0,inplace=True)\n",
    "tmp['임대보증금'].fillna(0,inplace=True)\n",
    "train = pd.merge(train.drop(not_unique,axis=1).drop_duplicates(),tmp)\n",
    "\n",
    "tmp = test.groupby(['단지코드','전용면적','공급유형'],as_index=False).agg({'전용면적별세대수':'sum'})\n",
    "tmp = pd.merge(tmp,test[test['임대료']!=0].groupby(['단지코드','전용면적','공급유형'],as_index=False).agg({'임대료':'mean','임대보증금':'mean'}),how='left')\n",
    "tmp['임대료'].fillna(0,inplace=True)\n",
    "tmp['임대보증금'].fillna(0,inplace=True)\n",
    "test = pd.merge(test.drop(not_unique,axis=1).drop_duplicates(),tmp)"
   ]
  },
  {
   "cell_type": "code",
   "execution_count": 17,
   "id": "a9f34815",
   "metadata": {},
   "outputs": [],
   "source": [
    "# na처리\n",
    "for col in ['임대료','임대보증금']:\n",
    "    tmp = train.groupby(['지역','전용면적','공급유형'],as_index=False)[col].mean().rename(columns={col:'지역별_'+col})\n",
    "    train = pd.merge(train,tmp)\n",
    "    test = pd.merge(test,tmp)\n",
    "    train[col] = train[col].fillna(train['지역별_'+col])\n",
    "    test[col] = test[col].fillna(train['지역별_'+col])"
   ]
  },
  {
   "cell_type": "markdown",
   "id": "72a7a483",
   "metadata": {},
   "source": [
    "- `전용면적별세대수_비율` : 아파트 총세대수와 해당 면적에 속한 세대수 비율\n",
    "\n",
    "\n",
    "- `단지내주차면수_비율` , `등록차량수_비율` : `전용면적별세대수_비율`을 곱해서 새롭게 변수 생성 \n",
    "\n",
    "\n",
    "    - 한 아파트 안에서 `전용면적` `공급유형`이 다양하게 존재하고, 이에 따라 `임대료` `임대보증금`이 다르기 때문에 단지코드 별 여러개의 row 존재\n",
    "\n",
    "    - 등록차량수는 아파트 기준이기 때문에 모두 동일한 값으로 나타나져 있음 $$\\rightarrow$$ 학습에 방해가 된다고 판단\n",
    "    \n",
    "    - 비율을 곱해주어 데이터가 가지고 있는 구조적인 문제를 해결하고자 함"
   ]
  },
  {
   "cell_type": "code",
   "execution_count": 18,
   "id": "4baaa2dd",
   "metadata": {},
   "outputs": [],
   "source": [
    "train['전용면적별세대수_비율'] = train['전용면적별세대수']/train['총세대수'] \n",
    "train['면적별_등록차량수'] = train['등록차량수'] * train['전용면적별세대수_비율']\n",
    "train['면적별_단지내주차면수'] = train['단지내주차면수'] * train['전용면적별세대수_비율']"
   ]
  },
  {
   "cell_type": "code",
   "execution_count": 19,
   "id": "af97d61f",
   "metadata": {},
   "outputs": [],
   "source": [
    "test['전용면적별세대수_비율'] = test['전용면적별세대수']/test['총세대수'] \n",
    "test['면적별_단지내주차면수'] = test['단지내주차면수'] * test['전용면적별세대수_비율']"
   ]
  },
  {
   "cell_type": "markdown",
   "id": "bb0a4523",
   "metadata": {},
   "source": [
    "- `인구` : `전용면적별세대수_비율`을 곱해서 해당 아파트의 전용면적 별 인구분포를 살펴보고자 함"
   ]
  },
  {
   "cell_type": "code",
   "execution_count": 20,
   "id": "7d334985",
   "metadata": {},
   "outputs": [],
   "source": [
    "age_ratio = ['0~19세_비율', '20~39세_비율','40~69세_비율', '70세이상_비율']\n",
    "age_col = []\n",
    "for col in age_ratio:\n",
    "    col_ = col.split('_')[0] + '_인구수'\n",
    "    age_col.append(col_)\n",
    "    train[col_] = train[col] * train['전용면적별세대수']\n",
    "    test[col_] = test[col] * test['전용면적별세대수']"
   ]
  },
  {
   "cell_type": "code",
   "execution_count": 21,
   "id": "3bb01c57",
   "metadata": {},
   "outputs": [],
   "source": [
    "train.drop(age_ratio,axis=1,inplace=True)\n",
    "test.drop(age_ratio,axis=1,inplace=True)"
   ]
  },
  {
   "cell_type": "markdown",
   "id": "0e441b24",
   "metadata": {},
   "source": [
    "- `공가비율` "
   ]
  },
  {
   "cell_type": "code",
   "execution_count": 22,
   "id": "6580e5c1",
   "metadata": {},
   "outputs": [],
   "source": [
    "train['공가비율'] = train['공가수'] / train['총세대수']\n",
    "test['공가비율'] = test['공가수'] / test['총세대수']"
   ]
  },
  {
   "cell_type": "markdown",
   "id": "781cfe4d",
   "metadata": {},
   "source": [
    "### 이상치제거"
   ]
  },
  {
   "cell_type": "code",
   "execution_count": 23,
   "id": "2ad227f6",
   "metadata": {},
   "outputs": [],
   "source": [
    "train = train[train['단지코드']!='C1722']\n",
    "train = train.reset_index(drop=True)"
   ]
  },
  {
   "cell_type": "markdown",
   "id": "3aa59780",
   "metadata": {},
   "source": [
    "### 카테고리변수 처리\n",
    "\n",
    "`공급유형` `전용면적` : dummy 변수 생성"
   ]
  },
  {
   "cell_type": "code",
   "execution_count": 24,
   "id": "ed3e1da2",
   "metadata": {},
   "outputs": [],
   "source": [
    "train = pd.concat([train,pd.get_dummies(train['공급유형'])],axis=1)\n",
    "train = pd.concat([train,pd.get_dummies(train['전용면적'],prefix='면적')],axis=1)"
   ]
  },
  {
   "cell_type": "code",
   "execution_count": 25,
   "id": "d889c7c0",
   "metadata": {},
   "outputs": [],
   "source": [
    "test = pd.concat([test,pd.get_dummies(test['공급유형'])],axis=1)\n",
    "test = pd.concat([test,pd.get_dummies(test['전용면적'],prefix='면적')],axis=1)"
   ]
  },
  {
   "cell_type": "code",
   "execution_count": 26,
   "id": "0a4c3549",
   "metadata": {},
   "outputs": [],
   "source": [
    "for col in ['공공분양', '공공임대(5년)', '장기전세', '면적_60']:\n",
    "    test[col] = 0"
   ]
  },
  {
   "cell_type": "markdown",
   "id": "32dc4ff9",
   "metadata": {},
   "source": [
    "# 모델링"
   ]
  },
  {
   "cell_type": "code",
   "execution_count": 27,
   "id": "f91ed8fb",
   "metadata": {},
   "outputs": [],
   "source": [
    "from sklearn.linear_model import Lasso\n",
    "from sklearn.ensemble import RandomForestRegressor\n",
    "from catboost import CatBoostRegressor"
   ]
  },
  {
   "cell_type": "code",
   "execution_count": 28,
   "id": "5a431526",
   "metadata": {},
   "outputs": [],
   "source": [
    "col = ['면적별_단지내주차면수','공가비율','총세대수','임대료','임대보증금']\n",
    "col = col + age_col"
   ]
  },
  {
   "cell_type": "code",
   "execution_count": 29,
   "id": "00cc0697",
   "metadata": {},
   "outputs": [],
   "source": [
    "col = col + ['공공분양', '공공임대(10년)',\n",
    "       '공공임대(50년)', '공공임대(5년)', '공공임대(분납)', '국민임대', '영구임대', '장기전세', '행복주택']\n",
    "col = col + ['면적_10', '면적_20', '면적_30', '면적_40', '면적_50', '면적_60', '면적_70', '면적_80']"
   ]
  },
  {
   "cell_type": "code",
   "execution_count": 30,
   "id": "8721e081",
   "metadata": {},
   "outputs": [
    {
     "data": {
      "text/html": [
       "<div>\n",
       "<style scoped>\n",
       "    .dataframe tbody tr th:only-of-type {\n",
       "        vertical-align: middle;\n",
       "    }\n",
       "\n",
       "    .dataframe tbody tr th {\n",
       "        vertical-align: top;\n",
       "    }\n",
       "\n",
       "    .dataframe thead th {\n",
       "        text-align: right;\n",
       "    }\n",
       "</style>\n",
       "<table border=\"1\" class=\"dataframe\">\n",
       "  <thead>\n",
       "    <tr style=\"text-align: right;\">\n",
       "      <th></th>\n",
       "      <th>면적별_단지내주차면수</th>\n",
       "      <th>공가비율</th>\n",
       "      <th>총세대수</th>\n",
       "      <th>임대료</th>\n",
       "      <th>임대보증금</th>\n",
       "      <th>0~19세_인구수</th>\n",
       "      <th>20~39세_인구수</th>\n",
       "      <th>40~69세_인구수</th>\n",
       "      <th>70세이상_인구수</th>\n",
       "      <th>공공분양</th>\n",
       "      <th>공공임대(10년)</th>\n",
       "      <th>공공임대(50년)</th>\n",
       "      <th>공공임대(5년)</th>\n",
       "      <th>공공임대(분납)</th>\n",
       "      <th>국민임대</th>\n",
       "      <th>영구임대</th>\n",
       "      <th>장기전세</th>\n",
       "      <th>행복주택</th>\n",
       "      <th>면적_10</th>\n",
       "      <th>면적_20</th>\n",
       "      <th>면적_30</th>\n",
       "      <th>면적_40</th>\n",
       "      <th>면적_50</th>\n",
       "      <th>면적_60</th>\n",
       "      <th>면적_70</th>\n",
       "      <th>면적_80</th>\n",
       "    </tr>\n",
       "  </thead>\n",
       "  <tbody>\n",
       "    <tr>\n",
       "      <th>0</th>\n",
       "      <td>235.916667</td>\n",
       "      <td>0.042222</td>\n",
       "      <td>900</td>\n",
       "      <td>103680.0</td>\n",
       "      <td>15667000.0</td>\n",
       "      <td>26.977756</td>\n",
       "      <td>34.413118</td>\n",
       "      <td>68.858992</td>\n",
       "      <td>149.0</td>\n",
       "      <td>0</td>\n",
       "      <td>0</td>\n",
       "      <td>0</td>\n",
       "      <td>0</td>\n",
       "      <td>0</td>\n",
       "      <td>1</td>\n",
       "      <td>0</td>\n",
       "      <td>0</td>\n",
       "      <td>0</td>\n",
       "      <td>0</td>\n",
       "      <td>0</td>\n",
       "      <td>1</td>\n",
       "      <td>0</td>\n",
       "      <td>0</td>\n",
       "      <td>0</td>\n",
       "      <td>0</td>\n",
       "      <td>0</td>\n",
       "    </tr>\n",
       "    <tr>\n",
       "      <th>1</th>\n",
       "      <td>208.303797</td>\n",
       "      <td>0.042194</td>\n",
       "      <td>474</td>\n",
       "      <td>72080.0</td>\n",
       "      <td>9731000.0</td>\n",
       "      <td>47.799514</td>\n",
       "      <td>60.973579</td>\n",
       "      <td>122.005194</td>\n",
       "      <td>264.0</td>\n",
       "      <td>0</td>\n",
       "      <td>0</td>\n",
       "      <td>0</td>\n",
       "      <td>0</td>\n",
       "      <td>0</td>\n",
       "      <td>1</td>\n",
       "      <td>0</td>\n",
       "      <td>0</td>\n",
       "      <td>0</td>\n",
       "      <td>0</td>\n",
       "      <td>0</td>\n",
       "      <td>1</td>\n",
       "      <td>0</td>\n",
       "      <td>0</td>\n",
       "      <td>0</td>\n",
       "      <td>0</td>\n",
       "      <td>0</td>\n",
       "    </tr>\n",
       "  </tbody>\n",
       "</table>\n",
       "</div>"
      ],
      "text/plain": [
       "   면적별_단지내주차면수      공가비율  총세대수       임대료       임대보증금  0~19세_인구수  20~39세_인구수  \\\n",
       "0   235.916667  0.042222   900  103680.0  15667000.0  26.977756   34.413118   \n",
       "1   208.303797  0.042194   474   72080.0   9731000.0  47.799514   60.973579   \n",
       "\n",
       "   40~69세_인구수  70세이상_인구수  공공분양  공공임대(10년)  공공임대(50년)  공공임대(5년)  공공임대(분납)  \\\n",
       "0   68.858992      149.0     0          0          0         0         0   \n",
       "1  122.005194      264.0     0          0          0         0         0   \n",
       "\n",
       "   국민임대  영구임대  장기전세  행복주택  면적_10  면적_20  면적_30  면적_40  면적_50  면적_60  면적_70  \\\n",
       "0     1     0     0     0      0      0      1      0      0      0      0   \n",
       "1     1     0     0     0      0      0      1      0      0      0      0   \n",
       "\n",
       "   면적_80  \n",
       "0      0  \n",
       "1      0  "
      ]
     },
     "execution_count": 30,
     "metadata": {},
     "output_type": "execute_result"
    }
   ],
   "source": [
    "train[col].head(2)"
   ]
  },
  {
   "cell_type": "code",
   "execution_count": 31,
   "id": "e2d4e93b",
   "metadata": {},
   "outputs": [],
   "source": [
    "lasso = Lasso()\n",
    "lasso.fit(train[col],train['면적별_등록차량수'])\n",
    "test['pred_lasso'] = lasso.predict(test[col])"
   ]
  },
  {
   "cell_type": "code",
   "execution_count": 32,
   "id": "10003f58",
   "metadata": {},
   "outputs": [],
   "source": [
    "cb = CatBoostRegressor(random_state=2021,verbose=False)\n",
    "cb.fit(train[col],train['면적별_등록차량수'])\n",
    "test['pred_cb'] = cb.predict(test[col])"
   ]
  },
  {
   "cell_type": "code",
   "execution_count": 33,
   "id": "4b926183",
   "metadata": {},
   "outputs": [],
   "source": [
    "rf = RandomForestRegressor(random_state=2021)\n",
    "rf.fit(train[col],train['면적별_등록차량수'])\n",
    "test['pred_rf'] = rf.predict(test[col])"
   ]
  },
  {
   "cell_type": "code",
   "execution_count": 34,
   "id": "065e25f4",
   "metadata": {},
   "outputs": [],
   "source": [
    "test['num'] = (test['pred_cb'] + test['pred_rf'] + test['pred_lasso'])/3\n",
    "test.rename(columns={'단지코드':'code'},inplace=True)"
   ]
  },
  {
   "cell_type": "code",
   "execution_count": 35,
   "id": "817d9424",
   "metadata": {},
   "outputs": [
    {
     "data": {
      "text/html": [
       "<div>\n",
       "<style scoped>\n",
       "    .dataframe tbody tr th:only-of-type {\n",
       "        vertical-align: middle;\n",
       "    }\n",
       "\n",
       "    .dataframe tbody tr th {\n",
       "        vertical-align: top;\n",
       "    }\n",
       "\n",
       "    .dataframe thead th {\n",
       "        text-align: right;\n",
       "    }\n",
       "</style>\n",
       "<table border=\"1\" class=\"dataframe\">\n",
       "  <thead>\n",
       "    <tr style=\"text-align: right;\">\n",
       "      <th></th>\n",
       "      <th>pred_rf</th>\n",
       "      <th>pred_cb</th>\n",
       "      <th>pred_lasso</th>\n",
       "      <th>num</th>\n",
       "    </tr>\n",
       "  </thead>\n",
       "  <tbody>\n",
       "    <tr>\n",
       "      <th>0</th>\n",
       "      <td>106.026758</td>\n",
       "      <td>99.337188</td>\n",
       "      <td>87.613560</td>\n",
       "      <td>97.659169</td>\n",
       "    </tr>\n",
       "    <tr>\n",
       "      <th>1</th>\n",
       "      <td>356.566658</td>\n",
       "      <td>357.416605</td>\n",
       "      <td>337.425046</td>\n",
       "      <td>350.469436</td>\n",
       "    </tr>\n",
       "  </tbody>\n",
       "</table>\n",
       "</div>"
      ],
      "text/plain": [
       "      pred_rf     pred_cb  pred_lasso         num\n",
       "0  106.026758   99.337188   87.613560   97.659169\n",
       "1  356.566658  357.416605  337.425046  350.469436"
      ]
     },
     "execution_count": 35,
     "metadata": {},
     "output_type": "execute_result"
    }
   ],
   "source": [
    "test[['pred_rf','pred_cb','pred_lasso','num']].head(2)"
   ]
  },
  {
   "cell_type": "markdown",
   "id": "4a65075f",
   "metadata": {},
   "source": [
    "### 제출"
   ]
  },
  {
   "cell_type": "code",
   "execution_count": 36,
   "id": "6b7f7b12",
   "metadata": {},
   "outputs": [
    {
     "data": {
      "text/html": [
       "<div>\n",
       "<style scoped>\n",
       "    .dataframe tbody tr th:only-of-type {\n",
       "        vertical-align: middle;\n",
       "    }\n",
       "\n",
       "    .dataframe tbody tr th {\n",
       "        vertical-align: top;\n",
       "    }\n",
       "\n",
       "    .dataframe thead th {\n",
       "        text-align: right;\n",
       "    }\n",
       "</style>\n",
       "<table border=\"1\" class=\"dataframe\">\n",
       "  <thead>\n",
       "    <tr style=\"text-align: right;\">\n",
       "      <th></th>\n",
       "      <th>code</th>\n",
       "      <th>num</th>\n",
       "    </tr>\n",
       "  </thead>\n",
       "  <tbody>\n",
       "    <tr>\n",
       "      <th>0</th>\n",
       "      <td>C1072</td>\n",
       "      <td>0</td>\n",
       "    </tr>\n",
       "    <tr>\n",
       "      <th>1</th>\n",
       "      <td>C1128</td>\n",
       "      <td>0</td>\n",
       "    </tr>\n",
       "  </tbody>\n",
       "</table>\n",
       "</div>"
      ],
      "text/plain": [
       "    code  num\n",
       "0  C1072    0\n",
       "1  C1128    0"
      ]
     },
     "execution_count": 36,
     "metadata": {},
     "output_type": "execute_result"
    }
   ],
   "source": [
    "submit = pd.read_csv('data/sample_submission.csv')\n",
    "submit.head(2)"
   ]
  },
  {
   "cell_type": "code",
   "execution_count": 37,
   "id": "ed2b2504",
   "metadata": {},
   "outputs": [],
   "source": [
    "submit = pd.merge(submit.drop('num',axis=1),test.groupby(['code'])[['num']].sum().reset_index(),how='left')\n",
    "submit.loc[submit['code'].isin(['C1327','C2335','C2675']),'num'] = 0"
   ]
  },
  {
   "cell_type": "code",
   "execution_count": 38,
   "id": "a1f01c00",
   "metadata": {},
   "outputs": [
    {
     "data": {
      "text/html": [
       "<div>\n",
       "<style scoped>\n",
       "    .dataframe tbody tr th:only-of-type {\n",
       "        vertical-align: middle;\n",
       "    }\n",
       "\n",
       "    .dataframe tbody tr th {\n",
       "        vertical-align: top;\n",
       "    }\n",
       "\n",
       "    .dataframe thead th {\n",
       "        text-align: right;\n",
       "    }\n",
       "</style>\n",
       "<table border=\"1\" class=\"dataframe\">\n",
       "  <thead>\n",
       "    <tr style=\"text-align: right;\">\n",
       "      <th></th>\n",
       "      <th>code</th>\n",
       "      <th>num</th>\n",
       "    </tr>\n",
       "  </thead>\n",
       "  <tbody>\n",
       "    <tr>\n",
       "      <th>0</th>\n",
       "      <td>C1072</td>\n",
       "      <td>704.049361</td>\n",
       "    </tr>\n",
       "    <tr>\n",
       "      <th>1</th>\n",
       "      <td>C1128</td>\n",
       "      <td>1212.629403</td>\n",
       "    </tr>\n",
       "  </tbody>\n",
       "</table>\n",
       "</div>"
      ],
      "text/plain": [
       "    code          num\n",
       "0  C1072   704.049361\n",
       "1  C1128  1212.629403"
      ]
     },
     "execution_count": 38,
     "metadata": {},
     "output_type": "execute_result"
    }
   ],
   "source": [
    "submit.head(2)"
   ]
  }
 ],
 "metadata": {
  "kernelspec": {
   "display_name": "Python 3 (ipykernel)",
   "language": "python",
   "name": "python3"
  },
  "language_info": {
   "codemirror_mode": {
    "name": "ipython",
    "version": 3
   },
   "file_extension": ".py",
   "mimetype": "text/x-python",
   "name": "python",
   "nbconvert_exporter": "python",
   "pygments_lexer": "ipython3",
   "version": "3.9.7"
  }
 },
 "nbformat": 4,
 "nbformat_minor": 5
}
