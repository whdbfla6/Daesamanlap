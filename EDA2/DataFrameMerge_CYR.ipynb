{
 "cells": [
  {
   "cell_type": "code",
   "execution_count": null,
   "id": "19b6b24f",
   "metadata": {},
   "outputs": [],
   "source": [
    "import pandas as pd\n",
    "import numpy as np"
   ]
  },
  {
   "cell_type": "code",
   "execution_count": null,
   "id": "70bade14",
   "metadata": {},
   "outputs": [],
   "source": [
    "import os\n",
    "path = os.path.dirname(os.getcwd())\n",
    "path = os.path.join(path, \"ProcessedData\")"
   ]
  },
  {
   "cell_type": "code",
   "execution_count": null,
   "id": "37e42dc5",
   "metadata": {},
   "outputs": [],
   "source": [
    "train = pd.read_csv(os.path.join(path, \"train_processed.csv\"))\n",
    "test = pd.read_csv(os.path.join(path, \"test_processed.csv\"))\n",
    "apt_train = pd.read_csv(os.path.join(path, \"building_tr.csv\"))\n",
    "apt_test = pd.read_csv(os.path.join(path, \"building_tst.csv\"))\n",
    "adr_train = pd.read_csv(os.path.join(path, \"train_apt.csv\"))\n",
    "adr_test = pd.read_csv(os.path.join(path, \"test_apt.csv\"))\n",
    "subway = pd.read_csv(os.path.join(path, \"subway.csv\"))"
   ]
  },
  {
   "cell_type": "code",
   "execution_count": null,
   "id": "ab31ee7a",
   "metadata": {},
   "outputs": [],
   "source": [
    "apt_train = apt_train.iloc[:,[4,9]].rename(columns={'건물명':'단지명'})\n",
    "apt_test = apt_test.iloc[:,[4,9]].rename(columns={'건물명':'단지명'})"
   ]
  },
  {
   "cell_type": "code",
   "execution_count": null,
   "id": "83492d58",
   "metadata": {},
   "outputs": [],
   "source": [
    "train = pd.merge(train,apt_train,how='left',on='도로명주소')\n",
    "train = pd.merge(train,adr_train.loc[:,['위도','경도','도로명주소']],how='left',on='도로명주소')"
   ]
  },
  {
   "cell_type": "code",
   "execution_count": null,
   "id": "e828347d",
   "metadata": {},
   "outputs": [],
   "source": [
    "test = pd.merge(test,apt_test,how='left',on='도로명주소')\n",
    "test = pd.merge(test,adr_test.loc[:,['위도','경도','도로명주소']],how='left',on='도로명주소')"
   ]
  },
  {
   "cell_type": "code",
   "execution_count": null,
   "id": "5b99c472",
   "metadata": {},
   "outputs": [],
   "source": [
    "def loc(x,y):\n",
    "    m = 1000000; res=''\n",
    "    for ind in range(subway.shape[0]):\n",
    "        sub_x = subway.loc[ind,'위도']\n",
    "        sub_y = subway.loc[ind,'경도']\n",
    "        subway_name = subway.loc[ind,'subway_name']\n",
    "        distance = np.sqrt((sub_x-x)**2+(sub_y-y)**2)\n",
    "        if distance < m:\n",
    "            m = distance\n",
    "            res = subway_name\n",
    "    return res,m"
   ]
  },
  {
   "cell_type": "code",
   "execution_count": null,
   "id": "9f9f1189",
   "metadata": {},
   "outputs": [],
   "source": [
    "tmp = train.apply(lambda x : loc(x['위도'],x['경도']),axis=1)\n",
    "tmp1 = test.apply(lambda x : loc(x['위도'],x['경도']),axis=1)"
   ]
  },
  {
   "cell_type": "code",
   "execution_count": null,
   "id": "083c0349",
   "metadata": {},
   "outputs": [],
   "source": [
    "train['subway_name'] = [i[0] for i in tmp]\n",
    "train['subway_dist'] = [i[1] for i in tmp]"
   ]
  },
  {
   "cell_type": "code",
   "execution_count": null,
   "id": "c096e1f7",
   "metadata": {},
   "outputs": [],
   "source": [
    "test['subway_name'] = [i[0] for i in tmp1]\n",
    "test['subway_dist'] = [i[1] for i in tmp1]"
   ]
  },
  {
   "cell_type": "code",
   "execution_count": null,
   "id": "89e3b8bb",
   "metadata": {},
   "outputs": [],
   "source": [
    "train = pd.merge(train,subway[['subway_name','환승역 수']],on='subway_name',how='left')\n",
    "test = pd.merge(test,subway[['subway_name','환승역 수']],on='subway_name',how='left')"
   ]
  },
  {
   "cell_type": "code",
   "execution_count": null,
   "id": "c69cfae4",
   "metadata": {},
   "outputs": [],
   "source": [
    "import os\n",
    "path = os.path.dirname(os.getcwd())\n",
    "path = os.path.join(path, \"ProcessedData\")\n",
    "train.to_csv(os.path.join(path,\"merged_train.csv\"),index=False)\n",
    "test.to_csv(os.path.join(path,\"merged_test.csv\"),index=False)"
   ]
  }
 ],
 "metadata": {
  "kernelspec": {
   "display_name": "Python 3",
   "language": "python",
   "name": "python3"
  },
  "language_info": {
   "codemirror_mode": {
    "name": "ipython",
    "version": 3
   },
   "file_extension": ".py",
   "mimetype": "text/x-python",
   "name": "python",
   "nbconvert_exporter": "python",
   "pygments_lexer": "ipython3",
   "version": "3.8.8"
  }
 },
 "nbformat": 4,
 "nbformat_minor": 5
}
