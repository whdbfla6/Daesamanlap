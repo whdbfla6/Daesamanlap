{
 "cells": [
  {
   "cell_type": "code",
   "execution_count": 1,
   "id": "d0e7179c",
   "metadata": {},
   "outputs": [],
   "source": [
    "import pandas as pd\n",
    "import numpy as np\n",
    "from sklearn.linear_model import LinearRegression\n",
    "from copy import deepcopy"
   ]
  },
  {
   "cell_type": "code",
   "execution_count": 2,
   "id": "26554f20",
   "metadata": {},
   "outputs": [],
   "source": [
    "import os\n",
    "path = os.path.dirname(os.getcwd())\n",
    "path = os.path.join(path, \"ProcessedData\")"
   ]
  },
  {
   "cell_type": "code",
   "execution_count": 3,
   "id": "42ac3342",
   "metadata": {},
   "outputs": [],
   "source": [
    "train = pd.read_csv(os.path.join(path, \"train_processed.csv\"))\n",
    "test = pd.read_csv(os.path.join(path, \"test_processed.csv\"))\n",
    "apt_train = pd.read_csv(os.path.join(path, \"building_tr.csv\"))\n",
    "apt_test = pd.read_csv(os.path.join(path, \"building_tst.csv\"))\n",
    "adr_train = pd.read_csv(os.path.join(path, \"train_apt.csv\"))\n",
    "adr_test = pd.read_csv(os.path.join(path, \"test_apt.csv\"))\n",
    "subway = pd.read_csv(os.path.join(path, \"subway.csv\"))\n",
    "pop_train = pd.read_csv(os.path.join(path, \"pop_tr.csv\"))\n",
    "pop_test = pd.read_csv(os.path.join(path, \"pop_tst.csv\"))"
   ]
  },
  {
   "cell_type": "code",
   "execution_count": 4,
   "id": "f4f5b396",
   "metadata": {},
   "outputs": [],
   "source": [
    "apt_train = apt_train.iloc[:,[4,9]].rename(columns={'건물명':'단지명'})\n",
    "apt_test = apt_test.iloc[:,[4,9]].rename(columns={'건물명':'단지명'})"
   ]
  },
  {
   "cell_type": "code",
   "execution_count": 5,
   "id": "59fe46d3",
   "metadata": {},
   "outputs": [],
   "source": [
    "train = pd.merge(train,apt_train,how='left',on='도로명주소')\n",
    "train = pd.merge(train,adr_train.loc[:,['위도','경도','도로명주소']],how='left',on='도로명주소')"
   ]
  },
  {
   "cell_type": "code",
   "execution_count": 6,
   "id": "988d48d0",
   "metadata": {},
   "outputs": [],
   "source": [
    "test = pd.merge(test,apt_test,how='left',on='도로명주소')\n",
    "test = pd.merge(test,adr_test.loc[:,['위도','경도','도로명주소']],how='left',on='도로명주소')"
   ]
  },
  {
   "cell_type": "code",
   "execution_count": 7,
   "id": "3544f058",
   "metadata": {},
   "outputs": [],
   "source": [
    "df_tr=pd.DataFrame({'단지명':['대전둔산3', '제주아라주공아파트', '울산송정2'],\n",
    "                    '위도':[127.37073298347131,126.54686726803892, 129.36353989694038],\n",
    "                     '경도':[36.36376899104686, 33.47376381443057,35.59673220404177]})\n",
    "df_tst=pd.DataFrame({'단지명':['정읍첨단1 주거행복복지센터'],\n",
    "                     '위도':[126.848614],\n",
    "                     '경도':[35.493656]})"
   ]
  },
  {
   "cell_type": "code",
   "execution_count": 8,
   "id": "f9a22010",
   "metadata": {},
   "outputs": [],
   "source": [
    "for d in df_tr.단지명.unique():\n",
    "    train.loc[train.단지명 == d,\"위도\"] = df_tr.loc[df_tr.단지명 == d,\"위도\"].reset_index(drop=True)[0]\n",
    "    train.loc[train.단지명 == d,\"경도\"] = df_tr.loc[df_tr.단지명 == d,\"경도\"].reset_index(drop=True)[0]"
   ]
  },
  {
   "cell_type": "code",
   "execution_count": 9,
   "id": "c969a7d1",
   "metadata": {},
   "outputs": [],
   "source": [
    "for d in df_tst.단지명.unique():\n",
    "    test.loc[test.단지명 == d,\"위도\"] = df_tst.loc[df_tst.단지명 == d,\"위도\"].reset_index(drop=True)[0]\n",
    "    test.loc[test.단지명 == d,\"경도\"] = df_tst.loc[df_tst.단지명 == d,\"경도\"].reset_index(drop=True)[0]"
   ]
  },
  {
   "cell_type": "code",
   "execution_count": 10,
   "id": "dec923b7",
   "metadata": {},
   "outputs": [],
   "source": [
    "def loc(x,y):\n",
    "    m = 1000000; res=''\n",
    "    for ind in range(subway.shape[0]):\n",
    "        sub_x = subway.loc[ind,'위도']\n",
    "        sub_y = subway.loc[ind,'경도']\n",
    "        subway_name = subway.loc[ind,'subway_name']\n",
    "        distance = np.sqrt((sub_x-x)**2+(sub_y-y)**2)\n",
    "        if distance < m:\n",
    "            m = distance\n",
    "            res = subway_name\n",
    "    return res,m"
   ]
  },
  {
   "cell_type": "code",
   "execution_count": 11,
   "id": "715bc858",
   "metadata": {},
   "outputs": [],
   "source": [
    "tmp = train.apply(lambda x : loc(x['위도'],x['경도']),axis=1)\n",
    "tmp1 = test.apply(lambda x : loc(x['위도'],x['경도']),axis=1)"
   ]
  },
  {
   "cell_type": "code",
   "execution_count": 12,
   "id": "5af66d9d",
   "metadata": {},
   "outputs": [],
   "source": [
    "train['subway_name'] = [i[0] for i in tmp]\n",
    "train['subway_dist'] = [i[1] for i in tmp]"
   ]
  },
  {
   "cell_type": "code",
   "execution_count": 13,
   "id": "bbf1ffb0",
   "metadata": {},
   "outputs": [],
   "source": [
    "test['subway_name'] = [i[0] for i in tmp1]\n",
    "test['subway_dist'] = [i[1] for i in tmp1]"
   ]
  },
  {
   "cell_type": "code",
   "execution_count": 14,
   "id": "ba22ab62",
   "metadata": {},
   "outputs": [],
   "source": [
    "train = pd.merge(train,subway[['subway_name','환승역 수']],on='subway_name',how='left')\n",
    "test = pd.merge(test,subway[['subway_name','환승역 수']],on='subway_name',how='left')"
   ]
  },
  {
   "cell_type": "code",
   "execution_count": 15,
   "id": "396a5f18",
   "metadata": {},
   "outputs": [],
   "source": [
    "def impute(col_pred, tmp, x_col = \"단지내주차면수\",col = \"연면적\"):\n",
    "    tr = tmp.loc[~tmp[col].isna(),[x_col,col]]\n",
    "    X = np.array(tr.drop(col,axis=1)).reshape(-1,1)\n",
    "    y = np.array(tr[col])\n",
    "    fit = LinearRegression().fit(X,y)\n",
    "    X_new = np.array(tmp.loc[tmp.단지코드==col_pred,x_col])\n",
    "    pred = fit.predict(X_new.reshape(-1,1))\n",
    "    return pred"
   ]
  },
  {
   "cell_type": "code",
   "execution_count": 16,
   "id": "5c04deb8",
   "metadata": {},
   "outputs": [],
   "source": [
    "tmp = train[['단지코드','단지내주차면수','연면적']]\n",
    "code_ls_na = tmp.loc[tmp.연면적.isna(),'단지코드'].unique() \n",
    "for col_pred in code_ls_na:\n",
    "    train.loc[train.단지코드==col_pred,\"연면적\"] = impute(col_pred, tmp)"
   ]
  },
  {
   "cell_type": "code",
   "execution_count": 17,
   "id": "0d084385",
   "metadata": {},
   "outputs": [],
   "source": [
    "tmp = test[['단지코드','단지내주차면수','연면적']]\n",
    "code_ls_na = tmp.loc[tmp.연면적.isna(),'단지코드'].unique() \n",
    "for col_pred in code_ls_na:\n",
    "    test.loc[test.단지코드==col_pred,\"연면적\"] = impute(col_pred, tmp)"
   ]
  },
  {
   "cell_type": "code",
   "execution_count": 18,
   "id": "b619e943",
   "metadata": {},
   "outputs": [],
   "source": [
    "train = pd.merge(train,pop_train,how='left',on='도로명주소')\n",
    "test = pd.merge(test,pop_test,how='left',on='도로명주소')\n"
   ]
  },
  {
   "cell_type": "code",
   "execution_count": 19,
   "id": "8a6a6027",
   "metadata": {
    "scrolled": true
   },
   "outputs": [
    {
     "data": {
      "text/html": [
       "<div>\n",
       "<style scoped>\n",
       "    .dataframe tbody tr th:only-of-type {\n",
       "        vertical-align: middle;\n",
       "    }\n",
       "\n",
       "    .dataframe tbody tr th {\n",
       "        vertical-align: top;\n",
       "    }\n",
       "\n",
       "    .dataframe thead th {\n",
       "        text-align: right;\n",
       "    }\n",
       "</style>\n",
       "<table border=\"1\" class=\"dataframe\">\n",
       "  <thead>\n",
       "    <tr style=\"text-align: right;\">\n",
       "      <th></th>\n",
       "      <th>train</th>\n",
       "      <th>test</th>\n",
       "    </tr>\n",
       "  </thead>\n",
       "  <tbody>\n",
       "    <tr>\n",
       "      <th>0~19세_비율</th>\n",
       "      <td>0</td>\n",
       "      <td>0.0</td>\n",
       "    </tr>\n",
       "    <tr>\n",
       "      <th>20~39세_비율</th>\n",
       "      <td>0</td>\n",
       "      <td>0.0</td>\n",
       "    </tr>\n",
       "    <tr>\n",
       "      <th>40~69세_비율</th>\n",
       "      <td>0</td>\n",
       "      <td>0.0</td>\n",
       "    </tr>\n",
       "    <tr>\n",
       "      <th>70세이상_비율</th>\n",
       "      <td>0</td>\n",
       "      <td>0.0</td>\n",
       "    </tr>\n",
       "    <tr>\n",
       "      <th>subway_dist</th>\n",
       "      <td>0</td>\n",
       "      <td>0.0</td>\n",
       "    </tr>\n",
       "    <tr>\n",
       "      <th>subway_name</th>\n",
       "      <td>0</td>\n",
       "      <td>0.0</td>\n",
       "    </tr>\n",
       "    <tr>\n",
       "      <th>경도</th>\n",
       "      <td>0</td>\n",
       "      <td>0.0</td>\n",
       "    </tr>\n",
       "    <tr>\n",
       "      <th>공가수</th>\n",
       "      <td>0</td>\n",
       "      <td>0.0</td>\n",
       "    </tr>\n",
       "    <tr>\n",
       "      <th>공급유형</th>\n",
       "      <td>0</td>\n",
       "      <td>0.0</td>\n",
       "    </tr>\n",
       "    <tr>\n",
       "      <th>남/여_0~19세</th>\n",
       "      <td>0</td>\n",
       "      <td>0.0</td>\n",
       "    </tr>\n",
       "    <tr>\n",
       "      <th>남/여_20~39세</th>\n",
       "      <td>0</td>\n",
       "      <td>0.0</td>\n",
       "    </tr>\n",
       "    <tr>\n",
       "      <th>남/여_40~69세</th>\n",
       "      <td>0</td>\n",
       "      <td>0.0</td>\n",
       "    </tr>\n",
       "    <tr>\n",
       "      <th>남/여_70세이상</th>\n",
       "      <td>0</td>\n",
       "      <td>0.0</td>\n",
       "    </tr>\n",
       "    <tr>\n",
       "      <th>남/여비율</th>\n",
       "      <td>0</td>\n",
       "      <td>0.0</td>\n",
       "    </tr>\n",
       "    <tr>\n",
       "      <th>단지내주차면수</th>\n",
       "      <td>0</td>\n",
       "      <td>0.0</td>\n",
       "    </tr>\n",
       "    <tr>\n",
       "      <th>단지명</th>\n",
       "      <td>0</td>\n",
       "      <td>0.0</td>\n",
       "    </tr>\n",
       "    <tr>\n",
       "      <th>단지코드</th>\n",
       "      <td>0</td>\n",
       "      <td>0.0</td>\n",
       "    </tr>\n",
       "    <tr>\n",
       "      <th>도로명주소</th>\n",
       "      <td>0</td>\n",
       "      <td>0.0</td>\n",
       "    </tr>\n",
       "    <tr>\n",
       "      <th>등록차량수</th>\n",
       "      <td>0</td>\n",
       "      <td>NaN</td>\n",
       "    </tr>\n",
       "    <tr>\n",
       "      <th>버스정류장</th>\n",
       "      <td>0</td>\n",
       "      <td>0.0</td>\n",
       "    </tr>\n",
       "    <tr>\n",
       "      <th>세대당_인구</th>\n",
       "      <td>0</td>\n",
       "      <td>0.0</td>\n",
       "    </tr>\n",
       "    <tr>\n",
       "      <th>연면적</th>\n",
       "      <td>0</td>\n",
       "      <td>0.0</td>\n",
       "    </tr>\n",
       "    <tr>\n",
       "      <th>위도</th>\n",
       "      <td>0</td>\n",
       "      <td>0.0</td>\n",
       "    </tr>\n",
       "    <tr>\n",
       "      <th>임대건물구분</th>\n",
       "      <td>0</td>\n",
       "      <td>0.0</td>\n",
       "    </tr>\n",
       "    <tr>\n",
       "      <th>임대료</th>\n",
       "      <td>0</td>\n",
       "      <td>0.0</td>\n",
       "    </tr>\n",
       "    <tr>\n",
       "      <th>임대보증금</th>\n",
       "      <td>0</td>\n",
       "      <td>0.0</td>\n",
       "    </tr>\n",
       "    <tr>\n",
       "      <th>자격유형</th>\n",
       "      <td>0</td>\n",
       "      <td>0.0</td>\n",
       "    </tr>\n",
       "    <tr>\n",
       "      <th>전용면적</th>\n",
       "      <td>0</td>\n",
       "      <td>0.0</td>\n",
       "    </tr>\n",
       "    <tr>\n",
       "      <th>전용면적별세대수</th>\n",
       "      <td>0</td>\n",
       "      <td>0.0</td>\n",
       "    </tr>\n",
       "    <tr>\n",
       "      <th>지역</th>\n",
       "      <td>0</td>\n",
       "      <td>0.0</td>\n",
       "    </tr>\n",
       "    <tr>\n",
       "      <th>지하철역</th>\n",
       "      <td>0</td>\n",
       "      <td>0.0</td>\n",
       "    </tr>\n",
       "    <tr>\n",
       "      <th>총세대수</th>\n",
       "      <td>0</td>\n",
       "      <td>0.0</td>\n",
       "    </tr>\n",
       "    <tr>\n",
       "      <th>총인구수</th>\n",
       "      <td>0</td>\n",
       "      <td>0.0</td>\n",
       "    </tr>\n",
       "    <tr>\n",
       "      <th>환승역 수</th>\n",
       "      <td>0</td>\n",
       "      <td>0.0</td>\n",
       "    </tr>\n",
       "  </tbody>\n",
       "</table>\n",
       "</div>"
      ],
      "text/plain": [
       "             train  test\n",
       "0~19세_비율         0   0.0\n",
       "20~39세_비율        0   0.0\n",
       "40~69세_비율        0   0.0\n",
       "70세이상_비율         0   0.0\n",
       "subway_dist      0   0.0\n",
       "subway_name      0   0.0\n",
       "경도               0   0.0\n",
       "공가수              0   0.0\n",
       "공급유형             0   0.0\n",
       "남/여_0~19세        0   0.0\n",
       "남/여_20~39세       0   0.0\n",
       "남/여_40~69세       0   0.0\n",
       "남/여_70세이상        0   0.0\n",
       "남/여비율            0   0.0\n",
       "단지내주차면수          0   0.0\n",
       "단지명              0   0.0\n",
       "단지코드             0   0.0\n",
       "도로명주소            0   0.0\n",
       "등록차량수            0   NaN\n",
       "버스정류장            0   0.0\n",
       "세대당_인구           0   0.0\n",
       "연면적              0   0.0\n",
       "위도               0   0.0\n",
       "임대건물구분           0   0.0\n",
       "임대료              0   0.0\n",
       "임대보증금            0   0.0\n",
       "자격유형             0   0.0\n",
       "전용면적             0   0.0\n",
       "전용면적별세대수         0   0.0\n",
       "지역               0   0.0\n",
       "지하철역             0   0.0\n",
       "총세대수             0   0.0\n",
       "총인구수             0   0.0\n",
       "환승역 수            0   0.0"
      ]
     },
     "execution_count": 19,
     "metadata": {},
     "output_type": "execute_result"
    }
   ],
   "source": [
    "pd.DataFrame({'train': train.isna().sum(),'test':test.isna().sum()})"
   ]
  },
  {
   "cell_type": "code",
   "execution_count": 20,
   "id": "a88f8033-422d-4c06-a0ed-7f0f5656b664",
   "metadata": {},
   "outputs": [
    {
     "name": "stdout",
     "output_type": "stream",
     "text": [
      "(2952, 34) (1022, 33)\n",
      "(2896, 34) (1008, 33)\n"
     ]
    }
   ],
   "source": [
    "print(train.shape, test.shape) # (2952, 23) (1022, 22)\n",
    "train = train.loc[~train.단지코드.isin(['C1095', 'C2051', 'C1218', 'C1894', 'C2483', 'C1502', 'C1988']),]\n",
    "test = test.loc[~test.단지코드.isin(['C2335', 'C1327', 'C2675'])]\n",
    "print(train.shape, test.shape) # (2896, 23) (1008, 22)"
   ]
  },
  {
   "cell_type": "code",
   "execution_count": 21,
   "id": "48823b1f",
   "metadata": {},
   "outputs": [],
   "source": [
    "import os\n",
    "path = os.path.dirname(os.getcwd())\n",
    "path = os.path.join(path, \"ProcessedData\")\n",
    "train.to_csv(os.path.join(path,\"merged_train.csv\"),index=False)\n",
    "test.to_csv(os.path.join(path,\"merged_test.csv\"),index=False)"
   ]
  },
  {
   "cell_type": "code",
   "execution_count": null,
   "id": "4fd766a3",
   "metadata": {},
   "outputs": [],
   "source": []
  }
 ],
 "metadata": {
  "kernelspec": {
   "display_name": "Python 3",
   "language": "python",
   "name": "python3"
  },
  "language_info": {
   "codemirror_mode": {
    "name": "ipython",
    "version": 3
   },
   "file_extension": ".py",
   "mimetype": "text/x-python",
   "name": "python",
   "nbconvert_exporter": "python",
   "pygments_lexer": "ipython3",
   "version": "3.7.10"
  }
 },
 "nbformat": 4,
 "nbformat_minor": 5
}
