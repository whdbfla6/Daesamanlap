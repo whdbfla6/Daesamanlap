{
 "cells": [
  {
   "cell_type": "code",
   "execution_count": 10,
   "metadata": {},
   "outputs": [],
   "source": [
    "import pandas as pd\n",
    "pd.options.display.float_format = '{:,.4f}'.format\n",
    "pd.options.display.max_rows = 100\n",
    "pd.options.display.max_columns = 40\n",
    "import numpy as np\n",
    "import os,random, math\n",
    "from tqdm import tqdm\n",
    "from copy import deepcopy\n",
    "from collections import Counter\n",
    "\n",
    "# Visualization\n",
    "import seaborn as sns\n",
    "import matplotlib\n",
    "import matplotlib.pyplot as plt\n",
    "%matplotlib inline\n",
    "from matplotlib import font_manager, rc\n",
    "plt.rcParams['font.family'] = 'NanumGothic'\n",
    "import platform\n",
    "if platform.system() == 'Windows':\n",
    "    font_name = font_manager.FontProperties(fname=\"c:/Windows/Fonts/malgun.ttf\").get_name()\n",
    "    rc('font', family=font_name)\n",
    "else:    \n",
    "    rc('font', family='AppleGothic')\n",
    "\n",
    "matplotlib.rcParams['axes.unicode_minus'] = False\n",
    "\n",
    "# from dataprep.eda import plot, plot_correlation, plot_missing\n",
    "\n",
    "# Warnings\n",
    "import warnings\n",
    "warnings.filterwarnings('always')\n",
    "warnings.filterwarnings('ignore')"
   ]
  },
  {
   "cell_type": "code",
   "execution_count": 11,
   "metadata": {},
   "outputs": [],
   "source": [
    "import os\n",
    "path = os.path.dirname(os.getcwd())\n",
    "path = os.path.join(path, \"ProcessedData\")\n",
    "train = pd.read_csv(os.path.join(path,\"merged_train.csv\"))\n",
    "test = pd.read_csv(os.path.join(path,\"merged_test.csv\"))"
   ]
  },
  {
   "cell_type": "code",
   "execution_count": 12,
   "metadata": {},
   "outputs": [],
   "source": [
    "apt_test = test[test['임대건물구분']=='아파트']\n",
    "store_test = test[test['임대건물구분']=='상가']"
   ]
  },
  {
   "cell_type": "code",
   "execution_count": 13,
   "metadata": {},
   "outputs": [],
   "source": [
    "drop = ['남/여비율','남/여_0~19세','남/여_20~39세','남/여_40~69세','남/여_70세이상','0~19세_비율','20~39세_비율','40~69세_비율','70세이상_비율']\n",
    "drop1 = ['총세대수','임대건물구분','지역','공가수','자격유형','단지내주차면수','단지명','도로명주소','subway_name']\n",
    "\n",
    "train = train.drop(drop,axis=1)\n",
    "test = test.drop(drop,axis=1)\n",
    "\n",
    "train = train.drop(drop1,axis=1)\n",
    "test = test.drop(drop1,axis=1)"
   ]
  },
  {
   "cell_type": "code",
   "execution_count": 14,
   "metadata": {},
   "outputs": [],
   "source": [
    "non_unique = ['전용면적','전용면적별세대수','임대보증금','임대료']\n",
    "train_one = train.drop(non_unique,axis=1).drop_duplicates().reset_index(drop=True)\n",
    "test_one = test.drop(non_unique,axis=1).drop_duplicates().reset_index(drop=True)"
   ]
  },
  {
   "cell_type": "code",
   "execution_count": 15,
   "metadata": {},
   "outputs": [],
   "source": [
    "def merge(col,standard,oldDF,newDF,kind):\n",
    "    sample = oldDF.groupby('단지코드').describe()[col].reset_index()\n",
    "    for i in sample.index:\n",
    "        for j in standard:\n",
    "            code = sample.loc[i,'단지코드']\n",
    "            val = sample.loc[i,j]\n",
    "            ind = newDF[newDF['단지코드']==code].index\n",
    "            newDF.loc[ind,kind+col+j] = val\n",
    "    return newDF"
   ]
  },
  {
   "cell_type": "code",
   "execution_count": 17,
   "metadata": {},
   "outputs": [],
   "source": [
    "test_one = merge('임대료',['min','25%','50%','75%','max','mean','std','count'],apt_test,test_one,'apt')\n",
    "test_one = merge('임대보증금',['min','25%','50%','75%','max','mean','std','count'],apt_test,test_one,'apt')\n",
    "\n",
    "test_one = merge('임대료',['min','25%','50%','75%','max','mean','std','count'],store_test,test_one,'store')\n",
    "test_one = merge('임대보증금',['min','25%','50%','75%','max','mean','std','count'],store_test,test_one,'store')\n",
    "\n",
    "test_one = merge('전용면적',['min','25%','50%','75%','max','mean','std','count'],apt_test,test_one,'apt')\n",
    "test_one = merge('전용면적',['min','25%','50%','75%','max','mean','std','count'],store_test,test_one,'store')\n",
    "\n",
    "test_one = test_one.replace(np.nan, 0)"
   ]
  },
  {
   "cell_type": "code",
   "execution_count": null,
   "metadata": {},
   "outputs": [],
   "source": [
    "test_one.to_csv(\"data/test_merged.csv\")"
   ]
  }
 ],
 "metadata": {
  "kernelspec": {
   "display_name": "Python 3",
   "language": "python",
   "name": "python3"
  },
  "language_info": {
   "codemirror_mode": {
    "name": "ipython",
    "version": 3
   },
   "file_extension": ".py",
   "mimetype": "text/x-python",
   "name": "python",
   "nbconvert_exporter": "python",
   "pygments_lexer": "ipython3",
   "version": "3.8.3"
  }
 },
 "nbformat": 4,
 "nbformat_minor": 4
}
