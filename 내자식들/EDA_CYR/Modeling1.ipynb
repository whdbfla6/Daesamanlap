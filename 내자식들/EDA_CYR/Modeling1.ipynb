{
 "cells": [
  {
   "cell_type": "markdown",
   "metadata": {},
   "source": [
    "- mae 122"
   ]
  },
  {
   "cell_type": "code",
   "execution_count": 1,
   "metadata": {},
   "outputs": [],
   "source": [
    "import pandas as pd\n",
    "pd.options.display.float_format = '{:,.4f}'.format\n",
    "pd.options.display.max_rows = 100\n",
    "pd.options.display.max_columns = 40\n",
    "import numpy as np\n",
    "import os,random, math\n",
    "from tqdm import tqdm\n",
    "from copy import deepcopy\n",
    "from collections import Counter\n",
    "\n",
    "# Visualization\n",
    "import seaborn as sns\n",
    "import matplotlib\n",
    "import matplotlib.pyplot as plt\n",
    "%matplotlib inline\n",
    "from matplotlib import font_manager, rc\n",
    "plt.rcParams['font.family'] = 'NanumGothic'\n",
    "import platform\n",
    "if platform.system() == 'Windows':\n",
    "    font_name = font_manager.FontProperties(fname=\"c:/Windows/Fonts/malgun.ttf\").get_name()\n",
    "    rc('font', family=font_name)\n",
    "else:    \n",
    "    rc('font', family='AppleGothic')\n",
    "\n",
    "matplotlib.rcParams['axes.unicode_minus'] = False\n",
    "\n",
    "# from dataprep.eda import plot, plot_correlation, plot_missing\n",
    "\n",
    "# Warnings\n",
    "import warnings\n",
    "warnings.filterwarnings('always')\n",
    "warnings.filterwarnings('ignore')"
   ]
  },
  {
   "cell_type": "code",
   "execution_count": 2,
   "metadata": {},
   "outputs": [],
   "source": [
    "import os\n",
    "path = os.path.dirname(os.getcwd())\n",
    "path = os.path.join(path, \"ProcessedData\")\n",
    "train = pd.read_csv(os.path.join(path,\"merged_train.csv\"))\n",
    "test = pd.read_csv(os.path.join(path,\"merged_test.csv\"))"
   ]
  },
  {
   "cell_type": "code",
   "execution_count": 3,
   "metadata": {},
   "outputs": [],
   "source": [
    "apt_tr = train[train['임대건물구분']=='아파트']\n",
    "store_tr = train[train['임대건물구분']=='상가']\n",
    "\n",
    "apt_test = test[test['임대건물구분']=='아파트']\n",
    "store_test = test[test['임대건물구분']=='상가']"
   ]
  },
  {
   "cell_type": "code",
   "execution_count": 4,
   "metadata": {},
   "outputs": [
    {
     "name": "stdout",
     "output_type": "stream",
     "text": [
      "(2896, 34)\n",
      "(1008, 33)\n"
     ]
    }
   ],
   "source": [
    "print(train.shape)\n",
    "print(test.shape)"
   ]
  },
  {
   "cell_type": "code",
   "execution_count": 5,
   "metadata": {},
   "outputs": [],
   "source": [
    "train['공가수_비율'] =  train.apply(lambda x : x['공가수']/x['총세대수'],axis=1)\n",
    "train['세대당_가능주차면수'] = train.apply(lambda x : x['단지내주차면수']/x['총세대수'],axis=1)\n",
    "test['공가수_비율'] =  test.apply(lambda x : x['공가수']/x['총세대수'],axis=1)\n",
    "test['세대당_가능주차면수'] = test.apply(lambda x : x['단지내주차면수']/x['총세대수'],axis=1)"
   ]
  },
  {
   "cell_type": "code",
   "execution_count": 6,
   "metadata": {},
   "outputs": [],
   "source": [
    "train['0~19 인구수'] = train['0~19세_비율']*train['총세대수']\n",
    "train['20~39 인구수'] = train['20~39세_비율']*train['총세대수']\n",
    "train['40~69 인구수'] = train['40~69세_비율']*train['총세대수']\n",
    "train['70세이상 인구수'] = train['70세이상_비율']*train['총세대수']"
   ]
  },
  {
   "cell_type": "code",
   "execution_count": 7,
   "metadata": {},
   "outputs": [],
   "source": [
    "test['0~19 인구수'] = test['0~19세_비율']*test['총세대수']\n",
    "test['20~39 인구수'] = test['20~39세_비율']*test['총세대수']\n",
    "test['40~69 인구수'] = test['40~69세_비율']*test['총세대수']\n",
    "test['70세이상 인구수'] = test['70세이상_비율']*test['총세대수']"
   ]
  },
  {
   "cell_type": "code",
   "execution_count": 8,
   "metadata": {},
   "outputs": [],
   "source": [
    "area = ['경상남도', '전라북도', '강원도', '광주광역시', '충청남도', '제주특별자치도', '울산광역시', '충청북도', '전라남도', '경상북도', '세종특별자치시']\n",
    "for ind in range(train.shape[0]):\n",
    "    if train.loc[ind,'지역'] in area :\n",
    "        train.loc[ind,'환승역 수'] = 0\n",
    "train = train.join(pd.get_dummies(train['환승역 수'],prefix='sub')).iloc[:,:-1]\n",
    "train = train.drop('환승역 수',axis=1)"
   ]
  },
  {
   "cell_type": "code",
   "execution_count": 9,
   "metadata": {},
   "outputs": [],
   "source": [
    "for ind in range(test.shape[0]):\n",
    "    if test.loc[ind,'지역'] in area :\n",
    "        test.loc[ind,'환승역 수'] = 0\n",
    "test = test.join(pd.get_dummies(test['환승역 수'],prefix='sub')).iloc[:,:-1]\n",
    "test = test.drop('환승역 수',axis=1)"
   ]
  },
  {
   "cell_type": "code",
   "execution_count": 10,
   "metadata": {},
   "outputs": [],
   "source": [
    "def func2(x):\n",
    "    if x<0.005: \n",
    "        return 0\n",
    "    elif 0.005<x<0.02:\n",
    "        return 1\n",
    "    elif 0.02<x<1:\n",
    "        return 2\n",
    "    elif x>1:\n",
    "        return 3"
   ]
  },
  {
   "cell_type": "code",
   "execution_count": 11,
   "metadata": {},
   "outputs": [],
   "source": [
    "train['sub_cat'] = train['subway_dist'].apply(lambda x : func2(x))\n",
    "test['sub_cat'] = test['subway_dist'].apply(lambda x : func2(x))"
   ]
  },
  {
   "cell_type": "code",
   "execution_count": 12,
   "metadata": {},
   "outputs": [],
   "source": [
    "train = train.join(pd.get_dummies(train['sub_cat'],prefix='sub_dist')).iloc[:,:-1]\n",
    "train = train.drop(['subway_dist','sub_cat'],axis=1)"
   ]
  },
  {
   "cell_type": "code",
   "execution_count": 13,
   "metadata": {},
   "outputs": [],
   "source": [
    "test = test.join(pd.get_dummies(test['sub_cat'],prefix='sub_dist')).iloc[:,:-1]\n",
    "test = test.drop(['subway_dist','sub_cat'],axis=1)"
   ]
  },
  {
   "cell_type": "markdown",
   "metadata": {},
   "source": [
    "###  공급유형 "
   ]
  },
  {
   "cell_type": "code",
   "execution_count": 14,
   "metadata": {},
   "outputs": [],
   "source": [
    "def func3(x,dic):\n",
    "    for i in dic.keys():\n",
    "        if len(dic[i]) == len(x):\n",
    "            if all(dic[i] == x):\n",
    "                return i"
   ]
  },
  {
   "cell_type": "code",
   "execution_count": 15,
   "metadata": {},
   "outputs": [],
   "source": [
    "# # 방안 1 \n",
    "\n",
    "# train.loc[train['공급유형'].isin(['영구임대', '행복주택']),'공급유형'] = '영구/행복'\n",
    "# test.loc[test['공급유형'].isin(['영구임대', '행복주택']),'공급유형'] = '영구/행복'\n",
    "\n",
    "# no_shop = train[train['공급유형']!='임대상가']\n",
    "# uniq = np.reshape(no_shop['공급유형'].unique(),(8,1))\n",
    "\n",
    "# dic = dict(enumerate(uniq))\n",
    "# dic[8] = ['장기전세', '공공임대(10년)', '공공임대(분납)']\n",
    "# dic[9] = ['장기전세', '국민임대', '영구/행복']\n",
    "# dic[10] = ['국민임대', '영구/행복']\n",
    "# dic[11] = ['공공임대(10년)', '공공임대(분납)']\n",
    "# dic[12] = ['공공분양', '공공임대(10년)', '공공임대(분납)']\n",
    "# dic[13] = ['공공임대(10년)', '국민임대']\n",
    "# dic[14] = ['공공임대(50년)', '영구/행복']\n",
    "\n",
    "# # train\n",
    "# no_shop = train[train['공급유형']!='임대상가']\n",
    "# sample = pd.DataFrame(no_shop.groupby('단지코드')['공급유형'].unique()).reset_index()\n",
    "# sample['cluster'] = sample['공급유형'].apply(lambda x : func3(x,dic))\n",
    "# train = pd.merge(train,sample[['단지코드','cluster']],on='단지코드',how='left')\n",
    "# train = train.join(pd.get_dummies(train['cluster'],prefix='type')).iloc[:,:-1]\n",
    "# train = train.drop(['공급유형','cluster'],axis=1)\n",
    "\n",
    "# # test\n",
    "# no_shop = test[test['공급유형']!='임대상가']\n",
    "# sample = pd.DataFrame(no_shop.groupby('단지코드')['공급유형'].unique()).reset_index()\n",
    "# sample['cluster'] = sample['공급유형'].apply(lambda x : func3(x,dic))\n",
    "# test = pd.merge(test,sample[['단지코드','cluster']],on='단지코드',how='left')\n",
    "# test = test.join(pd.get_dummies(test['cluster'],prefix='type')).iloc[:,:-1]\n",
    "# test = test.drop(['공급유형','cluster'],axis=1)"
   ]
  },
  {
   "cell_type": "code",
   "execution_count": 16,
   "metadata": {},
   "outputs": [],
   "source": [
    "# 방안 2 \n",
    "\n",
    "train.loc[train['공급유형'].isin(['영구임대', '행복주택']),'공급유형'] = '영구/행복'\n",
    "test.loc[test['공급유형'].isin(['영구임대', '행복주택']),'공급유형'] = '영구/행복'\n",
    "\n",
    "train.loc[train['공급유형'].isin(['공공임대(10년)', '공공임대(5년)']),'공급유형'] = '공공임대(단기)'\n",
    "test.loc[test['공급유형'].isin(['공공임대(10년)', '공공임대(5년)']),'공급유형'] = '공공임대(단기)'\n",
    "\n",
    "no_shop = train[train['공급유형']!='임대상가']\n",
    "uniq = np.reshape(no_shop['공급유형'].unique(),(7,1))\n",
    "\n",
    "dic = dict(enumerate(uniq))\n",
    "dic[8] = ['공공임대(단기)', '국민임대']\n",
    "dic[9] = ['장기전세', '국민임대', '영구/행복']\n",
    "dic[10] = ['국민임대', '영구/행복']\n",
    "dic[11] = ['공공임대(단기)', '공공임대(분납)']\n",
    "dic[12] = ['공공분양', '공공임대(단기)', '공공임대(분납)']\n",
    "dic[13] = ['공공임대(50년)', '영구/행복']\n",
    "dic[14] = ['장기전세', '공공임대(단기)', '공공임대(분납)']\n",
    "\n",
    "# train\n",
    "no_shop = train[train['공급유형']!='임대상가']\n",
    "sample = pd.DataFrame(no_shop.groupby('단지코드')['공급유형'].unique()).reset_index()\n",
    "sample['cluster'] = sample['공급유형'].apply(lambda x : func3(x,dic))\n",
    "sample['cluster'] = sample['cluster'].apply(lambda x: int(x))\n",
    "train = pd.merge(train,sample[['단지코드','cluster']],on='단지코드',how='left')\n",
    "train = train.join(pd.get_dummies(train['cluster'],prefix='type')).iloc[:,:-1]\n",
    "train = train.drop(['공급유형','cluster'],axis=1)\n",
    "\n",
    "# test\n",
    "no_shop = test[test['공급유형']!='임대상가']\n",
    "sample = pd.DataFrame(no_shop.groupby('단지코드')['공급유형'].unique()).reset_index()\n",
    "sample['cluster'] = sample['공급유형'].apply(lambda x : func3(x,dic))\n",
    "test = pd.merge(test,sample[['단지코드','cluster']],on='단지코드',how='left')\n",
    "test = test.join(pd.get_dummies(test['cluster'],prefix='type')).iloc[:,:-1]\n",
    "test = test.drop(['공급유형','cluster'],axis=1)\n",
    "test['type8'] = 0\n",
    "test['type9'] = 0\n",
    "test['type11'] = 0\n",
    "test['type12'] = 0\n",
    "test['type13'] = 0\n",
    "\n",
    "# sample = pd.DataFrame(no_shop.groupby('단지코드')['공급유형'].nunique()).reset_index()\n",
    "# ind = sample[sample['공급유형']>1]['단지코드'].values\n",
    "# no_shop.loc[no_shop['단지코드'].isin(ind),:].groupby('단지코드')['공급유형'].unique()"
   ]
  },
  {
   "cell_type": "code",
   "execution_count": 17,
   "metadata": {},
   "outputs": [],
   "source": [
    "drop = ['남/여비율','남/여_0~19세','남/여_20~39세','남/여_40~69세','남/여_70세이상','0~19세_비율','20~39세_비율','40~69세_비율','70세이상_비율']\n",
    "drop1 = ['총세대수','임대건물구분','지역','공가수','자격유형','단지내주차면수','단지명','도로명주소','subway_name']"
   ]
  },
  {
   "cell_type": "code",
   "execution_count": 18,
   "metadata": {},
   "outputs": [],
   "source": [
    "train = train.drop(drop,axis=1)\n",
    "test = test.drop(drop,axis=1)"
   ]
  },
  {
   "cell_type": "code",
   "execution_count": 19,
   "metadata": {},
   "outputs": [],
   "source": [
    "train = train.drop(drop1,axis=1)\n",
    "test = test.drop(drop1,axis=1)"
   ]
  },
  {
   "cell_type": "code",
   "execution_count": 20,
   "metadata": {},
   "outputs": [],
   "source": [
    "non_unique = ['전용면적','전용면적별세대수','임대보증금','임대료']\n",
    "train_one = train.drop(non_unique,axis=1).drop_duplicates().reset_index(drop=True)\n",
    "test_one = test.drop(non_unique,axis=1).drop_duplicates().reset_index(drop=True)"
   ]
  },
  {
   "cell_type": "code",
   "execution_count": 21,
   "metadata": {},
   "outputs": [],
   "source": [
    "def merge(col,standard,oldDF,newDF,kind):\n",
    "    sample = oldDF.groupby('단지코드').describe()[col].reset_index()\n",
    "    for i in sample.index:\n",
    "        for j in standard:\n",
    "            code = sample.loc[i,'단지코드']\n",
    "            val = sample.loc[i,j]\n",
    "            ind = newDF[newDF['단지코드']==code].index\n",
    "            newDF.loc[ind,kind+col+j] = val\n",
    "    return newDF"
   ]
  },
  {
   "cell_type": "code",
   "execution_count": 22,
   "metadata": {},
   "outputs": [],
   "source": [
    "train_one = merge('임대료',['min','25%','50%','75%','max'],apt_tr,train_one,'apt')\n",
    "train_one = merge('임대보증금',['min','25%','50%','75%','max'],apt_tr,train_one,'apt')\n",
    "\n",
    "train_one = merge('임대료',['mean','std'],store_tr,train_one,'store')\n",
    "train_one = merge('임대보증금',['mean','std'],store_tr,train_one,'store')\n",
    "\n",
    "train_one = merge('전용면적',['min','25%','50%','75%','max'],apt_tr,train_one,'apt')\n",
    "train_one = merge('전용면적',['mean','std'],store_tr,train_one,'store')\n",
    "\n",
    "train_one = train_one.replace(np.nan, 0)"
   ]
  },
  {
   "cell_type": "code",
   "execution_count": 23,
   "metadata": {},
   "outputs": [],
   "source": [
    "test_one = merge('임대료',['min','25%','50%','75%','max'],apt_test,test_one,'apt')\n",
    "test_one = merge('임대보증금',['min','25%','50%','75%','max'],apt_test,test_one,'apt')\n",
    "\n",
    "test_one = merge('임대료',['mean','std'],store_test,test_one,'store')\n",
    "test_one = merge('임대보증금',['mean','std'],store_test,test_one,'store')\n",
    "\n",
    "test_one = merge('전용면적',['min','25%','50%','75%','max'],apt_test,test_one,'apt')\n",
    "test_one = merge('전용면적',['mean','std'],store_test,test_one,'store')\n",
    "\n",
    "test_one = test_one.replace(np.nan, 0)"
   ]
  },
  {
   "cell_type": "code",
   "execution_count": 24,
   "metadata": {},
   "outputs": [
    {
     "name": "stdout",
     "output_type": "stream",
     "text": [
      "(414, 51)\n",
      "(147, 50)\n"
     ]
    }
   ],
   "source": [
    "print(train_one.shape)\n",
    "print(test_one.shape)"
   ]
  },
  {
   "cell_type": "code",
   "execution_count": 25,
   "metadata": {},
   "outputs": [
    {
     "data": {
      "text/plain": [
       "지하철역             -0.0069\n",
       "버스정류장             0.1125\n",
       "등록차량수             1.0000\n",
       "연면적               0.2248\n",
       "위도               -0.1013\n",
       "경도                0.1240\n",
       "총인구수              0.2809\n",
       "세대당_인구            0.4047\n",
       "공가수_비율           -0.2952\n",
       "세대당_가능주차면수        0.5242\n",
       "0~19 인구수          0.7024\n",
       "20~39 인구수         0.6466\n",
       "40~69 인구수         0.5316\n",
       "70세이상 인구수         0.1033\n",
       "sub_0            -0.2267\n",
       "sub_1             0.2056\n",
       "sub_dist_0       -0.0973\n",
       "sub_dist_1        0.2296\n",
       "sub_dist_2       -0.1225\n",
       "type_0            0.0228\n",
       "type_1           -0.1007\n",
       "type_2           -0.3772\n",
       "type_3            0.3672\n",
       "type_8            0.0810\n",
       "type_9            0.0094\n",
       "type_10           0.0780\n",
       "type_11          -0.0077\n",
       "type_12           0.2195\n",
       "type_13          -0.0460\n",
       "apt임대료min         0.3813\n",
       "apt임대료25%         0.4190\n",
       "apt임대료50%         0.4762\n",
       "apt임대료75%         0.4900\n",
       "apt임대료max         0.5228\n",
       "apt임대보증금min       0.3852\n",
       "apt임대보증금25%       0.3968\n",
       "apt임대보증금50%       0.3971\n",
       "apt임대보증금75%       0.3967\n",
       "apt임대보증금max       0.3511\n",
       "store임대료mean     -0.1399\n",
       "store임대료std      -0.1379\n",
       "store임대보증금mean   -0.1734\n",
       "store임대보증금std    -0.1942\n",
       "apt전용면적min        0.3146\n",
       "apt전용면적25%        0.3763\n",
       "apt전용면적50%        0.4251\n",
       "apt전용면적75%        0.4646\n",
       "apt전용면적max        0.5055\n",
       "store전용면적mean    -0.2993\n",
       "store전용면적std     -0.2306\n",
       "Name: 등록차량수, dtype: float64"
      ]
     },
     "execution_count": 25,
     "metadata": {},
     "output_type": "execute_result"
    }
   ],
   "source": [
    "train_one.corr()['등록차량수']"
   ]
  },
  {
   "cell_type": "code",
   "execution_count": 26,
   "metadata": {},
   "outputs": [],
   "source": [
    "from sklearn.model_selection import train_test_split\n",
    "from sklearn.preprocessing import StandardScaler\n",
    "from sklearn.metrics import mean_absolute_error as mae\n",
    "\n",
    "from catboost import CatBoostRegressor"
   ]
  },
  {
   "cell_type": "code",
   "execution_count": 31,
   "metadata": {},
   "outputs": [],
   "source": [
    "X = train_one.drop(['등록차량수','단지코드'],axis=1)\n",
    "y = train_one['등록차량수']\n",
    "X_train, X_test, y_train, y_test = train_test_split(X, y, test_size=0.3,random_state=2021,shuffle=True)\n",
    "\n",
    "cb = CatBoostRegressor(random_state=2021,verbose=False,loss_function='MAE').fit(X_train, y_train)\n",
    "pred = cb.predict(X_test)\n",
    "\n",
    "mae(pred,y_test) #122"
   ]
  },
  {
   "cell_type": "code",
   "execution_count": 34,
   "metadata": {},
   "outputs": [
    {
     "data": {
      "text/plain": [
       "<matplotlib.axes._subplots.AxesSubplot at 0x21f09bf1940>"
      ]
     },
     "execution_count": 34,
     "metadata": {},
     "output_type": "execute_result"
    },
    {
     "data": {
      "image/png": "[encoded data removed]",
      "text/plain": [
       "<Figure size 864x1152 with 1 Axes>"
      ]
     },
     "metadata": {
      "needs_background": "light"
     },
     "output_type": "display_data"
    }
   ],
   "source": [
    "plt.figure(figsize=(12,16))\n",
    "sns.barplot(y = X_train.columns[np.argsort(cb.feature_importances_)], x = list(cb.feature_importances_[np.argsort(cb.feature_importances_)]))"
   ]
  },
  {
   "cell_type": "code",
   "execution_count": 42,
   "metadata": {},
   "outputs": [],
   "source": [
    "real_x = test_one.drop('단지코드',axis=1)\n",
    "real_y = cb.predict(real_x)"
   ]
  },
  {
   "cell_type": "code",
   "execution_count": 48,
   "metadata": {},
   "outputs": [
    {
     "data": {
      "text/plain": [
       "59.81662066057367"
      ]
     },
     "execution_count": 48,
     "metadata": {},
     "output_type": "execute_result"
    }
   ],
   "source": [
    "mae(real_y,res['num'])"
   ]
  },
  {
   "cell_type": "code",
   "execution_count": 50,
   "metadata": {},
   "outputs": [
    {
     "data": {
      "text/html": [
       "<div>\n",
       "<style scoped>\n",
       "    .dataframe tbody tr th:only-of-type {\n",
       "        vertical-align: middle;\n",
       "    }\n",
       "\n",
       "    .dataframe tbody tr th {\n",
       "        vertical-align: top;\n",
       "    }\n",
       "\n",
       "    .dataframe thead th {\n",
       "        text-align: right;\n",
       "    }\n",
       "</style>\n",
       "<table border=\"1\" class=\"dataframe\">\n",
       "  <thead>\n",
       "    <tr style=\"text-align: right;\">\n",
       "      <th></th>\n",
       "      <th>code</th>\n",
       "      <th>num</th>\n",
       "      <th>new_y</th>\n",
       "    </tr>\n",
       "  </thead>\n",
       "  <tbody>\n",
       "    <tr>\n",
       "      <th>0</th>\n",
       "      <td>C1072</td>\n",
       "      <td>682.5972</td>\n",
       "      <td>775.5333</td>\n",
       "    </tr>\n",
       "    <tr>\n",
       "      <th>1</th>\n",
       "      <td>C1128</td>\n",
       "      <td>1,171.7943</td>\n",
       "      <td>1,142.4201</td>\n",
       "    </tr>\n",
       "    <tr>\n",
       "      <th>2</th>\n",
       "      <td>C1456</td>\n",
       "      <td>530.1717</td>\n",
       "      <td>610.1653</td>\n",
       "    </tr>\n",
       "    <tr>\n",
       "      <th>3</th>\n",
       "      <td>C1840</td>\n",
       "      <td>528.1426</td>\n",
       "      <td>503.9879</td>\n",
       "    </tr>\n",
       "    <tr>\n",
       "      <th>4</th>\n",
       "      <td>C1332</td>\n",
       "      <td>1,119.5004</td>\n",
       "      <td>1,204.3664</td>\n",
       "    </tr>\n",
       "    <tr>\n",
       "      <th>...</th>\n",
       "      <td>...</td>\n",
       "      <td>...</td>\n",
       "      <td>...</td>\n",
       "    </tr>\n",
       "    <tr>\n",
       "      <th>142</th>\n",
       "      <td>C2456</td>\n",
       "      <td>231.8750</td>\n",
       "      <td>242.0682</td>\n",
       "    </tr>\n",
       "    <tr>\n",
       "      <th>143</th>\n",
       "      <td>C1266</td>\n",
       "      <td>467.1349</td>\n",
       "      <td>436.5658</td>\n",
       "    </tr>\n",
       "    <tr>\n",
       "      <th>144</th>\n",
       "      <td>C2152</td>\n",
       "      <td>106.9534</td>\n",
       "      <td>20.0460</td>\n",
       "    </tr>\n",
       "    <tr>\n",
       "      <th>145</th>\n",
       "      <td>C1267</td>\n",
       "      <td>350.7475</td>\n",
       "      <td>409.2848</td>\n",
       "    </tr>\n",
       "    <tr>\n",
       "      <th>146</th>\n",
       "      <td>C2189</td>\n",
       "      <td>266.0872</td>\n",
       "      <td>265.7252</td>\n",
       "    </tr>\n",
       "  </tbody>\n",
       "</table>\n",
       "<p>147 rows × 3 columns</p>\n",
       "</div>"
      ],
      "text/plain": [
       "      code        num      new_y\n",
       "0    C1072   682.5972   775.5333\n",
       "1    C1128 1,171.7943 1,142.4201\n",
       "2    C1456   530.1717   610.1653\n",
       "3    C1840   528.1426   503.9879\n",
       "4    C1332 1,119.5004 1,204.3664\n",
       "..     ...        ...        ...\n",
       "142  C2456   231.8750   242.0682\n",
       "143  C1266   467.1349   436.5658\n",
       "144  C2152   106.9534    20.0460\n",
       "145  C1267   350.7475   409.2848\n",
       "146  C2189   266.0872   265.7252\n",
       "\n",
       "[147 rows x 3 columns]"
      ]
     },
     "execution_count": 50,
     "metadata": {},
     "output_type": "execute_result"
    }
   ],
   "source": [
    "res = myfunc()\n",
    "res['new_y'] = real_y\n",
    "res['new_y1'] = "
   ]
  },
  {
   "cell_type": "code",
   "execution_count": 45,
   "metadata": {},
   "outputs": [],
   "source": [
    "def myfunc():\n",
    "    cb = pd.read_csv(\"0713_cb.csv\")\n",
    "    cb = cb.loc[-cb['code'].isin(['C2675', 'C2335', 'C1327']),:].reset_index(drop=True)\n",
    "    return cb"
   ]
  },
  {
   "cell_type": "code",
   "execution_count": 57,
   "metadata": {},
   "outputs": [],
   "source": [
    "result = pd.DataFrame()\n",
    "result['submit'] = res['num']\n",
    "result['y1'] = real_y"
   ]
  },
  {
   "cell_type": "code",
   "execution_count": 54,
   "metadata": {},
   "outputs": [],
   "source": [
    "train_one.to_csv(\"data/train1.csv\",index=False)\n",
    "test_one.to_csv(\"data/test1.csv\",index=False)"
   ]
  },
  {
   "cell_type": "code",
   "execution_count": 58,
   "metadata": {},
   "outputs": [],
   "source": [
    "result.to_csv(\"data/result.csv\",index=False)"
   ]
  },
  {
   "cell_type": "code",
   "execution_count": null,
   "metadata": {},
   "outputs": [],
   "source": []
  }
 ],
 "metadata": {
  "kernelspec": {
   "display_name": "Python 3",
   "language": "python",
   "name": "python3"
  },
  "language_info": {
   "codemirror_mode": {
    "name": "ipython",
    "version": 3
   },
   "file_extension": ".py",
   "mimetype": "text/x-python",
   "name": "python",
   "nbconvert_exporter": "python",
   "pygments_lexer": "ipython3",
   "version": "3.8.3"
  }
 },
 "nbformat": 4,
 "nbformat_minor": 4
}
