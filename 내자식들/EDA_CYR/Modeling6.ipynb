{
 "cells": [
  {
   "cell_type": "code",
   "execution_count": 1,
   "metadata": {},
   "outputs": [],
   "source": [
    "import seaborn as sns\n",
    "import matplotlib\n",
    "import matplotlib.pyplot as plt\n",
    "%matplotlib inline\n",
    "from matplotlib import font_manager, rc\n",
    "plt.rcParams['font.family'] = 'NanumGothic'\n",
    "import platform\n",
    "if platform.system() == 'Windows':\n",
    "    font_name = font_manager.FontProperties(fname=\"c:/Windows/Fonts/malgun.ttf\").get_name()\n",
    "    rc('font', family=font_name)\n",
    "else:    \n",
    "    rc('font', family='AppleGothic')\n",
    "\n",
    "matplotlib.rcParams['axes.unicode_minus'] = False\n",
    "\n",
    "import numpy as np\n",
    "import pandas as pd"
   ]
  },
  {
   "cell_type": "code",
   "execution_count": 2,
   "metadata": {},
   "outputs": [],
   "source": [
    "train_one = pd.read_csv(\"data/train3.csv\")\n",
    "test_one = pd.read_csv(\"data/test3.csv\")\n",
    "train_merge = pd.read_csv(\"data/train_merged.csv\")\n",
    "test_merge = pd.read_csv(\"data/test_merged.csv\")"
   ]
  },
  {
   "cell_type": "code",
   "execution_count": 3,
   "metadata": {},
   "outputs": [],
   "source": [
    "import os\n",
    "path = os.path.dirname(os.getcwd())\n",
    "path = os.path.join(path, \"ProcessedData\")\n",
    "train = pd.read_csv(os.path.join(path,\"merged_train.csv\"))\n",
    "test = pd.read_csv(os.path.join(path,\"merged_test.csv\"))"
   ]
  },
  {
   "cell_type": "code",
   "execution_count": 4,
   "metadata": {},
   "outputs": [],
   "source": [
    "train_merge['등록차량수'] = train['등록차량수']"
   ]
  },
  {
   "cell_type": "code",
   "execution_count": 5,
   "metadata": {},
   "outputs": [],
   "source": [
    "tmp = train_merge.copy()\n",
    "tmp.loc[tmp['store임대료count'].isin(range(1,11)),'store임대료count'] = 1\n",
    "tmp.loc[tmp['store임대료count'].isin(range(11,20)),'store임대료count'] = 2\n",
    "tmp.loc[tmp['store임대료count'].isin(range(20,100)),'store임대료count'] = 3"
   ]
  },
  {
   "cell_type": "code",
   "execution_count": 6,
   "metadata": {},
   "outputs": [],
   "source": [
    "d = ['store임대료min','store임대료25%','store임대료50%','store임대료75%','store임대보증금min','store임대보증금25%','store임대보증금50%','store임대보증금75%']\n",
    "train_one = train_one.drop(d,axis=1)\n",
    "\n",
    "train_one['store개수'] = tmp['store임대료count']\n",
    "train_one['store개수'] = train_one['store개수'].apply(lambda x : str(x))\n",
    "train_one = train_one.join(train_merge[['store임대료mean','store임대료std']])\n",
    "train_one = train_one.join(train_merge[['store임대보증금mean','store임대보증금std']])"
   ]
  },
  {
   "cell_type": "code",
   "execution_count": 7,
   "metadata": {},
   "outputs": [],
   "source": [
    "tmp = test_merge.copy()\n",
    "tmp.loc[tmp['store임대료count'].isin(range(1,11)),'store임대료count'] = 1\n",
    "tmp.loc[tmp['store임대료count'].isin(range(11,20)),'store임대료count'] = 2\n",
    "tmp.loc[tmp['store임대료count'].isin(range(20,100)),'store임대료count'] = 3"
   ]
  },
  {
   "cell_type": "code",
   "execution_count": 8,
   "metadata": {},
   "outputs": [],
   "source": [
    "d = ['store임대료min','store임대료25%','store임대료50%','store임대료75%','store임대보증금min','store임대보증금25%','store임대보증금50%','store임대보증금75%']\n",
    "test_one = test_one.drop(d,axis=1)\n",
    "\n",
    "test_one['store개수'] = tmp['store임대료count']\n",
    "test_one['store개수'] = test_one['store개수'].apply(lambda x : str(x))\n",
    "test_one = test_one.join(test_merge[['store임대료mean','store임대료std']])\n",
    "test_one = test_one.join(test_merge[['store임대보증금mean','store임대보증금std']])"
   ]
  },
  {
   "cell_type": "code",
   "execution_count": 9,
   "metadata": {},
   "outputs": [],
   "source": [
    "# train_one = train_one.join(pd.get_dummies(train_one['store개수'],prefix='store_count')).iloc[:,:-1]\n",
    "# train_one = train_one.drop('store개수',axis=1)"
   ]
  },
  {
   "cell_type": "code",
   "execution_count": 10,
   "metadata": {},
   "outputs": [],
   "source": [
    "# test_one = test_one.join(pd.get_dummies(test_one['store개수'],prefix='store_count')).iloc[:,:-1]\n",
    "# test_one = test_one.drop('store개수',axis=1)\n",
    "# test_one['store_count_1.0'] = 0"
   ]
  },
  {
   "cell_type": "code",
   "execution_count": 11,
   "metadata": {},
   "outputs": [],
   "source": [
    "def func3(x,dic):\n",
    "    for i in dic.keys():\n",
    "        if len(dic[i]) == len(x):\n",
    "            if all(dic[i] == x):\n",
    "                return i\n",
    "\n",
    "\n",
    "train.loc[train['공급유형'].isin(['영구임대', '행복주택']),'공급유형'] = '영구/행복'\n",
    "test.loc[test['공급유형'].isin(['영구임대', '행복주택']),'공급유형'] = '영구/행복'\n",
    "\n",
    "train.loc[train['공급유형'].isin(['공공임대(10년)', '공공임대(5년)']),'공급유형'] = '공공임대(단기)'\n",
    "test.loc[test['공급유형'].isin(['공공임대(10년)', '공공임대(5년)']),'공급유형'] = '공공임대(단기)'\n",
    "\n",
    "no_shop = train[train['공급유형']!='임대상가']\n",
    "uniq = np.reshape(no_shop['공급유형'].unique(),(7,1))\n",
    "\n",
    "dic = dict(enumerate(uniq))\n",
    "dic[8] = ['공공임대(단기)', '국민임대']\n",
    "dic[9] = ['장기전세', '국민임대', '영구/행복']\n",
    "dic[10] = ['국민임대', '영구/행복']\n",
    "dic[11] = ['공공임대(단기)', '공공임대(분납)']\n",
    "dic[12] = ['공공분양', '공공임대(단기)', '공공임대(분납)']\n",
    "dic[13] = ['공공임대(50년)', '영구/행복']\n",
    "dic[14] = ['장기전세', '공공임대(단기)', '공공임대(분납)']\n",
    "\n",
    "dic1 = dict()\n",
    "for i in dic.keys():\n",
    "    val = train.loc[train['공급유형'].isin(dic[i]),'임대보증금'].mean()\n",
    "    dic1[i] = val\n",
    "\n",
    "\n",
    "no_shop = train[train['공급유형']!='임대상가']\n",
    "sample = pd.DataFrame(no_shop.groupby('단지코드')['공급유형'].unique()).reset_index()\n",
    "sample['cluster'] = sample['공급유형'].apply(lambda x : func3(x,dic))\n",
    "sample['cluster'] = sample['cluster'].apply(lambda x: int(x))\n",
    "train = pd.merge(train,sample[['단지코드','cluster']],on='단지코드',how='left')\n",
    "train['cluster_임대보증금'] = train['cluster'].apply(lambda x: dic1[x])\n",
    "train = train.drop(['공급유형'],axis=1)\n",
    "\n",
    "\n",
    "no_shop = test[test['공급유형']!='임대상가']\n",
    "sample = pd.DataFrame(no_shop.groupby('단지코드')['공급유형'].unique()).reset_index()\n",
    "sample['cluster'] = sample['공급유형'].apply(lambda x : func3(x,dic))\n",
    "test = pd.merge(test,sample[['단지코드','cluster']],on='단지코드',how='left')\n",
    "test['cluster_임대보증금'] = test['cluster'].apply(lambda x: dic1[x])\n",
    "test = test.drop(['공급유형'],axis=1)"
   ]
  },
  {
   "cell_type": "code",
   "execution_count": 12,
   "metadata": {},
   "outputs": [],
   "source": [
    "tmp = train[['단지코드','cluster_임대보증금']].drop_duplicates().reset_index(drop=True)\n",
    "train_one['cluster_임대보증금'] = tmp['cluster_임대보증금']"
   ]
  },
  {
   "cell_type": "code",
   "execution_count": 13,
   "metadata": {},
   "outputs": [],
   "source": [
    "tmp = test[['단지코드','cluster_임대보증금']].drop_duplicates().reset_index(drop=True)\n",
    "test_one['cluster_임대보증금'] = tmp['cluster_임대보증금']"
   ]
  },
  {
   "cell_type": "code",
   "execution_count": 14,
   "metadata": {},
   "outputs": [
    {
     "name": "stdout",
     "output_type": "stream",
     "text": [
      "(414, 46)\n",
      "(147, 45)\n"
     ]
    }
   ],
   "source": [
    "print(train_one.shape)\n",
    "print(test_one.shape)"
   ]
  },
  {
   "cell_type": "code",
   "execution_count": 15,
   "metadata": {},
   "outputs": [],
   "source": [
    "tmp = train[['단지코드','단지내주차면수']].drop_duplicates().reset_index(drop=True)\n",
    "train_one = train_one.drop(['세대당_가능주차면수'],axis=1)\n",
    "train_one['단지내주차면수'] = tmp['단지내주차면수']"
   ]
  },
  {
   "cell_type": "code",
   "execution_count": 16,
   "metadata": {},
   "outputs": [],
   "source": [
    "tmp = test[['단지코드','단지내주차면수']].drop_duplicates().reset_index(drop=True)\n",
    "test_one = test_one.drop(['세대당_가능주차면수'],axis=1)\n",
    "test_one['단지내주차면수'] = tmp['단지내주차면수']"
   ]
  },
  {
   "cell_type": "code",
   "execution_count": 17,
   "metadata": {},
   "outputs": [
    {
     "data": {
      "text/plain": [
       "지하철역              0.013306\n",
       "버스정류장             0.101426\n",
       "등록차량수             0.851250\n",
       "연면적               0.249647\n",
       "위도               -0.057687\n",
       "경도                0.101227\n",
       "총인구수              0.388184\n",
       "세대당_인구            0.428925\n",
       "공가수_비율           -0.271439\n",
       "0~19 인구수          0.864580\n",
       "20~39 인구수         0.813184\n",
       "40~69 인구수         0.700754\n",
       "70세이상 인구수         0.220758\n",
       "sub_0            -0.281288\n",
       "sub_1             0.268367\n",
       "sub_dist_0       -0.046633\n",
       "sub_dist_1        0.237378\n",
       "sub_dist_2       -0.155166\n",
       "cluster           0.285813\n",
       "apt임대료min         0.211106\n",
       "apt임대료25%         0.255851\n",
       "apt임대료50%         0.325039\n",
       "apt임대료75%         0.345942\n",
       "apt임대료max         0.396482\n",
       "apt임대보증금min       0.229938\n",
       "apt임대보증금25%       0.265055\n",
       "apt임대보증금50%       0.316843\n",
       "apt임대보증금75%       0.365603\n",
       "apt임대보증금max       0.353521\n",
       "store임대료max      -0.100031\n",
       "store임대보증금max    -0.151363\n",
       "apt전용면적min        0.107312\n",
       "apt전용면적25%        0.171415\n",
       "apt전용면적50%        0.235533\n",
       "apt전용면적75%        0.284092\n",
       "apt전용면적max        0.334526\n",
       "store전용면적mean    -0.275604\n",
       "store전용면적std     -0.190751\n",
       "store임대료mean     -0.130612\n",
       "store임대료std      -0.095633\n",
       "store임대보증금mean   -0.156202\n",
       "store임대보증금std    -0.163031\n",
       "cluster_임대보증금     0.255696\n",
       "단지내주차면수           1.000000\n",
       "Name: 단지내주차면수, dtype: float64"
      ]
     },
     "execution_count": 17,
     "metadata": {},
     "output_type": "execute_result"
    }
   ],
   "source": [
    "train_one.corr()['단지내주차면수']"
   ]
  },
  {
   "cell_type": "code",
   "execution_count": 18,
   "metadata": {},
   "outputs": [],
   "source": [
    "from sklearn.model_selection import train_test_split\n",
    "from sklearn.preprocessing import StandardScaler\n",
    "from sklearn.metrics import mean_absolute_error as mae\n",
    "\n",
    "from catboost import CatBoostRegressor"
   ]
  },
  {
   "cell_type": "code",
   "execution_count": 19,
   "metadata": {},
   "outputs": [
    {
     "data": {
      "text/plain": [
       "114.87211454145351"
      ]
     },
     "execution_count": 19,
     "metadata": {},
     "output_type": "execute_result"
    }
   ],
   "source": [
    "X = train_one.drop(['등록차량수','단지코드'],axis=1)\n",
    "y = train_one['등록차량수']\n",
    "X_train, X_test, y_train, y_test = train_test_split(X, y, test_size=0.3,random_state=2021,shuffle=True)\n",
    "\n",
    "cb = CatBoostRegressor(random_state=2021,verbose=False,loss_function='MAE').fit(X_train, y_train)\n",
    "pred = cb.predict(X_test)\n",
    "\n",
    "mae(pred,y_test) "
   ]
  },
  {
   "cell_type": "code",
   "execution_count": 20,
   "metadata": {},
   "outputs": [
    {
     "data": {
      "text/plain": [
       "<matplotlib.axes._subplots.AxesSubplot at 0x2375ca93850>"
      ]
     },
     "execution_count": 20,
     "metadata": {},
     "output_type": "execute_result"
    },
    {
     "data": {
      "image/png": "[encoded data removed]",
      "text/plain": [
       "<Figure size 864x1152 with 1 Axes>"
      ]
     },
     "metadata": {
      "needs_background": "light"
     },
     "output_type": "display_data"
    }
   ],
   "source": [
    "plt.figure(figsize=(12,16))\n",
    "sns.barplot(y = X_train.columns[np.argsort(cb.feature_importances_)], x = list(cb.feature_importances_[np.argsort(cb.feature_importances_)]))"
   ]
  },
  {
   "cell_type": "code",
   "execution_count": 21,
   "metadata": {},
   "outputs": [],
   "source": [
    "real_x = test_one.drop('단지코드',axis=1)\n",
    "real_y = cb.predict(real_x)"
   ]
  },
  {
   "cell_type": "code",
   "execution_count": 22,
   "metadata": {},
   "outputs": [
    {
     "data": {
      "text/plain": [
       "54.253983861938245"
      ]
     },
     "execution_count": 22,
     "metadata": {},
     "output_type": "execute_result"
    }
   ],
   "source": [
    "def myfunc():\n",
    "    cb = pd.read_csv(\"0713_cb.csv\")\n",
    "    cb = cb.loc[-cb['code'].isin(['C2675', 'C2335', 'C1327']),:].reset_index(drop=True)\n",
    "    return cb\n",
    "\n",
    "res = myfunc()\n",
    "mae(real_y,res['num'])"
   ]
  },
  {
   "cell_type": "code",
   "execution_count": 23,
   "metadata": {},
   "outputs": [],
   "source": [
    "train_one.to_csv(\"data/train6.csv\",index=False)\n",
    "test_one.to_csv(\"data/test6.csv\",index=False)"
   ]
  },
  {
   "cell_type": "code",
   "execution_count": 27,
   "metadata": {},
   "outputs": [],
   "source": [
    "result = pd.read_csv(\"data/result.csv\")\n",
    "result['y6'] = real_y\n",
    "\n",
    "result.to_csv(\"data/result.csv\",index=False)"
   ]
  },
  {
   "cell_type": "code",
   "execution_count": 26,
   "metadata": {},
   "outputs": [],
   "source": [
    "test_one['num'] = real_y\n",
    "res = test_one[['단지코드','num']]\n",
    "\n",
    "sub = pd.read_csv(os.path.join(path,\"sample_submission.csv\"))\n",
    "sub['num'] = 0\n",
    "sub = pd.merge(sub,res,left_on='code',right_on='단지코드',how='left').drop(['num_x','단지코드'],axis=1)\n",
    "\n",
    "sub = sub.rename(columns={'num_y':'num'})\n",
    "\n",
    "sub.to_csv(\"gogogo.csv\",index=False)"
   ]
  },
  {
   "cell_type": "code",
   "execution_count": 39,
   "metadata": {},
   "outputs": [
    {
     "data": {
      "text/plain": [
       "array([ 766.16258586, 1163.95129975,  544.31047092,  547.48379062,\n",
       "       1291.45113594, 1613.89420333, 1033.54621571,  485.98276552,\n",
       "        313.78954273,  275.77731629,  444.60101265,  259.73640257,\n",
       "        396.47152939,  206.71711063,  258.04448583,  214.88459322,\n",
       "        545.48533238,  323.217169  ,  160.70097282,  661.35749172,\n",
       "        201.68179007,  433.08492255,  495.55127185,  399.18167034,\n",
       "        396.49022529,  123.64350912,  154.61732028,  624.2575349 ,\n",
       "        553.19141983,  584.36393159,  946.9709962 ,  265.25528423,\n",
       "        455.75418703,  233.07895239,  136.97024003,  289.88312912,\n",
       "        387.10867225,  646.59640254,  898.95607749,  295.45112597,\n",
       "        449.88613942,  456.41522241,  397.37929531,  611.96196037,\n",
       "        854.2497526 , 1275.71525734,  497.2351091 ,  599.31995128,\n",
       "        387.53669335,  349.40023159,  852.67111748,  245.70564341,\n",
       "       1120.85991044,  695.40298309,  633.01190443,  307.08556527,\n",
       "        605.39251688,  342.01728394,  397.41831561,  220.18258072,\n",
       "        297.39561069,  544.96398238,  926.7743942 ,  407.8713221 ,\n",
       "        263.79308483,  267.64058294,  457.43355768,  848.64121223,\n",
       "        509.92471809,  386.87959151,  695.7041969 ,  281.87401513,\n",
       "        662.72322744,  893.97982998,  922.22357749,  437.9034569 ,\n",
       "        677.71807691,  734.63304316,  823.02356785,  714.52082059,\n",
       "       1174.5293352 ,  296.87183885,  293.18390493,  346.71101345,\n",
       "        244.72221585,  276.91195583,  436.72731087,  271.94188652,\n",
       "        895.84797229,  871.23798637,  610.37189696,  295.81045333,\n",
       "        616.23042011,  967.4956779 ,  835.48535172,  652.95126362,\n",
       "        959.4874575 ,  843.92660487,  916.96642665,  911.67320303,\n",
       "        340.3309512 ,  944.90919418,  832.90148835, 1080.62349677,\n",
       "        614.24154779, 1031.80858992,  610.86907471,  941.35780121,\n",
       "        267.08091274,  682.55383247, 1116.63104686,  928.05037629,\n",
       "        902.8120448 ,  857.76342173,  186.10613806,  170.44501963,\n",
       "        648.8996481 , 1014.16278338, 1459.01247757,  639.63753345,\n",
       "        856.48675267,  855.12482532,  327.54528578,  705.41492228,\n",
       "        246.1749981 ,  434.06615173,  693.39232849,   99.81355382,\n",
       "        150.12309374,  564.69348514,  533.66328518,  259.2159193 ,\n",
       "        228.42880662,  269.22709327,  444.53967217,  533.83427489,\n",
       "        495.23751721,  109.61790755,  110.45958167,  137.08014793,\n",
       "        183.64161621,  338.45901448,  229.92877336,  529.91101124,\n",
       "         30.47805951,  383.61647669,  268.54412496])"
      ]
     },
     "execution_count": 39,
     "metadata": {},
     "output_type": "execute_result"
    }
   ],
   "source": [
    "real_y"
   ]
  },
  {
   "cell_type": "code",
   "execution_count": null,
   "metadata": {},
   "outputs": [],
   "source": []
  }
 ],
 "metadata": {
  "kernelspec": {
   "display_name": "Python 3",
   "language": "python",
   "name": "python3"
  },
  "language_info": {
   "codemirror_mode": {
    "name": "ipython",
    "version": 3
   },
   "file_extension": ".py",
   "mimetype": "text/x-python",
   "name": "python",
   "nbconvert_exporter": "python",
   "pygments_lexer": "ipython3",
   "version": "3.8.3"
  }
 },
 "nbformat": 4,
 "nbformat_minor": 4
}
