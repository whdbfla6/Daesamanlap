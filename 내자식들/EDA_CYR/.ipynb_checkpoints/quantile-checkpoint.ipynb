{
 "cells": [
  {
   "cell_type": "code",
   "execution_count": null,
   "metadata": {},
   "outputs": [],
   "source": [
    "import pandas as pd\n",
    "pd.options.display.float_format = '{:,.4f}'.format\n",
    "pd.options.display.max_rows = 100\n",
    "pd.options.display.max_columns = 40\n",
    "import numpy as np\n",
    "import os,random, math\n",
    "from tqdm import tqdm\n",
    "from copy import deepcopy\n",
    "from collections import Counter\n",
    "\n",
    "# Visualization\n",
    "import seaborn as sns\n",
    "import matplotlib\n",
    "import matplotlib.pyplot as plt\n",
    "%matplotlib inline\n",
    "from matplotlib import font_manager, rc\n",
    "plt.rcParams['font.family'] = 'NanumGothic'\n",
    "import platform\n",
    "if platform.system() == 'Windows':\n",
    "    font_name = font_manager.FontProperties(fname=\"c:/Windows/Fonts/malgun.ttf\").get_name()\n",
    "    rc('font', family=font_name)\n",
    "else:    \n",
    "    rc('font', family='AppleGothic')\n",
    "\n",
    "matplotlib.rcParams['axes.unicode_minus'] = False\n",
    "\n",
    "# from dataprep.eda import plot, plot_correlation, plot_missing\n",
    "\n",
    "# Warnings\n",
    "import warnings\n",
    "warnings.filterwarnings('always')\n",
    "warnings.filterwarnings('ignore')"
   ]
  },
  {
   "cell_type": "code",
   "execution_count": null,
   "metadata": {},
   "outputs": [],
   "source": [
    "import os\n",
    "path = os.path.dirname(os.getcwd())\n",
    "path = os.path.join(path, \"ProcessedData\")\n",
    "train = pd.read_csv(os.path.join(path,\"merged_train.csv\"))\n",
    "test = pd.read_csv(os.path.join(path,\"merged_test.csv\"))"
   ]
  },
  {
   "cell_type": "code",
   "execution_count": null,
   "metadata": {},
   "outputs": [],
   "source": [
    "drop = ['남/여비율','남/여_0~19세','남/여_20~39세','남/여_40~69세','남/여_70세이상','0~19세_비율','20~39세_비율','40~69세_비율','70세이상_비율']\n",
    "drop1 = ['총세대수','임대건물구분','지역','공가수','자격유형','단지내주차면수','단지명','도로명주소','subway_name']\n",
    "\n",
    "train = train.drop(drop,axis=1)\n",
    "test = test.drop(drop,axis=1)\n",
    "\n",
    "train = train.drop(drop1,axis=1)\n",
    "test = test.drop(drop1,axis=1)"
   ]
  },
  {
   "cell_type": "code",
   "execution_count": null,
   "metadata": {},
   "outputs": [],
   "source": [
    "train.loc[train['공급유형'].isin(['영구임대', '행복주택']),'공급유형'] = '영구/행복'\n",
    "test.loc[test['공급유형'].isin(['영구임대', '행복주택']),'공급유형'] = '영구/행복'\n",
    "\n",
    "train.loc[train['공급유형'].isin(['공공임대(10년)', '공공임대(5년)']),'공급유형'] = '공공임대(단기)'\n",
    "test.loc[test['공급유형'].isin(['공공임대(10년)', '공공임대(5년)']),'공급유형'] = '공공임대(단기)'\n",
    "\n",
    "no_shop = train[train['공급유형']!='임대상가']\n",
    "uniq = np.reshape(no_shop['공급유형'].unique(),(7,1))\n",
    "\n",
    "dic = dict(enumerate(uniq))\n",
    "dic[8] = ['공공임대(단기)', '국민임대']\n",
    "dic[9] = ['장기전세', '국민임대', '영구/행복']\n",
    "dic[10] = ['국민임대', '영구/행복']\n",
    "dic[11] = ['공공임대(단기)', '공공임대(분납)']\n",
    "dic[12] = ['공공분양', '공공임대(단기)', '공공임대(분납)']\n",
    "dic[13] = ['공공임대(50년)', '영구/행복']\n",
    "dic[14] = ['장기전세', '공공임대(단기)', '공공임대(분납)']\n",
    "\n",
    "# dic1\n",
    "\n",
    "dic1 = dict()\n",
    "for i in dic.keys():\n",
    "    val = train.loc[train['공급유형'].isin(dic[i]),'임대료'].mean()\n",
    "    dic1[i] = val"
   ]
  }
 ],
 "metadata": {
  "kernelspec": {
   "display_name": "Python 3",
   "language": "python",
   "name": "python3"
  },
  "language_info": {
   "codemirror_mode": {
    "name": "ipython",
    "version": 3
   },
   "file_extension": ".py",
   "mimetype": "text/x-python",
   "name": "python",
   "nbconvert_exporter": "python",
   "pygments_lexer": "ipython3",
   "version": "3.8.3"
  }
 },
 "nbformat": 4,
 "nbformat_minor": 4
}
