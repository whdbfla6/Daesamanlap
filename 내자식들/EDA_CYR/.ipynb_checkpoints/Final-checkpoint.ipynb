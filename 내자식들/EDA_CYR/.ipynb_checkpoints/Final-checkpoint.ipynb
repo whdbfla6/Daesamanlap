{
 "cells": [
  {
   "cell_type": "code",
   "execution_count": 1,
   "metadata": {},
   "outputs": [],
   "source": [
    "import pandas as pd\n",
    "pd.options.display.float_format = '{:,.4f}'.format\n",
    "pd.options.display.max_rows = 100\n",
    "pd.options.display.max_columns = 40\n",
    "import numpy as np\n",
    "import os,random, math\n",
    "from tqdm import tqdm\n",
    "from copy import deepcopy\n",
    "from collections import Counter\n",
    "\n",
    "# Visualization\n",
    "import seaborn as sns\n",
    "import matplotlib\n",
    "import matplotlib.pyplot as plt\n",
    "%matplotlib inline\n",
    "from matplotlib import font_manager, rc\n",
    "plt.rcParams['font.family'] = 'NanumGothic'\n",
    "import platform\n",
    "if platform.system() == 'Windows':\n",
    "    font_name = font_manager.FontProperties(fname=\"c:/Windows/Fonts/malgun.ttf\").get_name()\n",
    "    rc('font', family=font_name)\n",
    "else:    \n",
    "    rc('font', family='AppleGothic')\n",
    "\n",
    "matplotlib.rcParams['axes.unicode_minus'] = False\n",
    "\n",
    "# from dataprep.eda import plot, plot_correlation, plot_missing\n",
    "\n",
    "# Warnings\n",
    "import warnings\n",
    "warnings.filterwarnings('always')\n",
    "warnings.filterwarnings('ignore')\n",
    "\n",
    "from sklearn.model_selection import train_test_split\n",
    "from sklearn.preprocessing import StandardScaler\n",
    "from sklearn.metrics import mean_absolute_error \n",
    "\n",
    "from catboost import CatBoostRegressor\n",
    "from sklearn.model_selection import cross_val_score"
   ]
  },
  {
   "cell_type": "code",
   "execution_count": 2,
   "metadata": {},
   "outputs": [],
   "source": [
    "import os\n",
    "path = os.path.dirname(os.getcwd())\n",
    "path = os.path.join(path, \"ProcessedData\")\n",
    "train = pd.read_csv(os.path.join(path,\"merged_train.csv\"))\n",
    "test = pd.read_csv(os.path.join(path,\"merged_test.csv\"))"
   ]
  },
  {
   "cell_type": "code",
   "execution_count": 5,
   "metadata": {},
   "outputs": [],
   "source": [
    "train=train.drop_duplicates(keep='first')\n",
    "test=test.drop_duplicates(keep='first')"
   ]
  },
  {
   "cell_type": "code",
   "execution_count": 26,
   "metadata": {},
   "outputs": [],
   "source": [
    "tmp = train.groupby(['단지코드','임대건물구분']).count().iloc[:,:1].reset_index()\n",
    "store = tmp[tmp['임대건물구분']=='상가'].reset_index(drop=True)[['단지코드','총세대수']].rename(columns={'총세대수':'상가수'})\n",
    "apt = tmp[tmp['임대건물구분']=='아파트'].reset_index(drop=True)[['단지코드','총세대수']].rename(columns={'총세대수':'아파트수'})\n",
    "total = pd.merge(apt,store,on='단지코드',how='left').fillna(0)\n",
    "total['상가비율'] = total.apply(lambda x : x['상가수']/x['아파트수'],axis=1)\n",
    "train = pd.merge(train,total[['단지코드','상가비율']],on='단지코드',how='left')"
   ]
  },
  {
   "cell_type": "code",
   "execution_count": 27,
   "metadata": {},
   "outputs": [],
   "source": [
    "tmp = test.groupby(['단지코드','임대건물구분']).count().iloc[:,:1].reset_index()\n",
    "store = tmp[tmp['임대건물구분']=='상가'].reset_index(drop=True)[['단지코드','총세대수']].rename(columns={'총세대수':'상가수'})\n",
    "apt = tmp[tmp['임대건물구분']=='아파트'].reset_index(drop=True)[['단지코드','총세대수']].rename(columns={'총세대수':'아파트수'})\n",
    "total = pd.merge(apt,store,on='단지코드',how='left').fillna(0)\n",
    "total['상가비율'] = total.apply(lambda x : x['상가수']/x['아파트수'],axis=1)\n",
    "test = pd.merge(test,total[['단지코드','상가비율']],on='단지코드',how='left')"
   ]
  },
  {
   "cell_type": "code",
   "execution_count": 28,
   "metadata": {},
   "outputs": [
    {
     "data": {
      "text/plain": [
       "50    0.0000\n",
       "51    0.0000\n",
       "52    0.0000\n",
       "53    0.0000\n",
       "54    0.0000\n",
       "55    0.0000\n",
       "56    0.0000\n",
       "57    0.0000\n",
       "58    0.0000\n",
       "59    0.0000\n",
       "60    0.0000\n",
       "61    0.0000\n",
       "62    0.0000\n",
       "63    0.0000\n",
       "64    0.0000\n",
       "65    0.0000\n",
       "66    0.0000\n",
       "67    0.0000\n",
       "68    0.0000\n",
       "69    0.0000\n",
       "70    0.0000\n",
       "71    1.0000\n",
       "72    1.0000\n",
       "73    0.0000\n",
       "74    0.0000\n",
       "75    0.0000\n",
       "76    0.0000\n",
       "77    0.0000\n",
       "78    0.0000\n",
       "79    4.3333\n",
       "80    4.3333\n",
       "81    4.3333\n",
       "82    0.0000\n",
       "83    0.0000\n",
       "84    0.0000\n",
       "85    4.0000\n",
       "86    4.0000\n",
       "87    0.0000\n",
       "88    0.0000\n",
       "89    0.0000\n",
       "90    0.0000\n",
       "91    0.0000\n",
       "92    0.0000\n",
       "93    0.0000\n",
       "94    0.0000\n",
       "95    0.0000\n",
       "96    0.0000\n",
       "97    0.0000\n",
       "98    0.0000\n",
       "99    0.5000\n",
       "100   0.5000\n",
       "Name: 상가비율, dtype: float64"
      ]
     },
     "execution_count": 28,
     "metadata": {},
     "output_type": "execute_result"
    }
   ],
   "source": [
    "train.loc[50:100,'상가비율']"
   ]
  },
  {
   "cell_type": "code",
   "execution_count": null,
   "metadata": {},
   "outputs": [],
   "source": []
  }
 ],
 "metadata": {
  "kernelspec": {
   "display_name": "Python 3",
   "language": "python",
   "name": "python3"
  },
  "language_info": {
   "codemirror_mode": {
    "name": "ipython",
    "version": 3
   },
   "file_extension": ".py",
   "mimetype": "text/x-python",
   "name": "python",
   "nbconvert_exporter": "python",
   "pygments_lexer": "ipython3",
   "version": "3.8.3"
  }
 },
 "nbformat": 4,
 "nbformat_minor": 4
}
