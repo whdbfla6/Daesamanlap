{
 "cells": [
  {
   "cell_type": "code",
   "execution_count": 1,
   "id": "139e7d97",
   "metadata": {},
   "outputs": [],
   "source": [
    "import pandas as pd\n",
    "pd.options.display.float_format = '{:,.4f}'.format\n",
    "pd.options.display.max_rows = 100\n",
    "pd.options.display.max_columns = 40\n",
    "import numpy as np\n",
    "import os,random, math\n",
    "from tqdm import tqdm\n",
    "from copy import deepcopy\n",
    "from collections import Counter\n",
    "\n",
    "# Visualization\n",
    "import seaborn as sns\n",
    "import matplotlib\n",
    "import matplotlib.pyplot as plt\n",
    "%matplotlib inline\n",
    "from matplotlib import font_manager, rc\n",
    "plt.rcParams['font.family'] = 'NanumGothic'\n",
    "import platform\n",
    "if platform.system() == 'Windows':\n",
    "    font_name = font_manager.FontProperties(fname=\"c:/Windows/Fonts/malgun.ttf\").get_name()\n",
    "    rc('font', family=font_name)\n",
    "else:    \n",
    "    rc('font', family='AppleGothic')\n",
    "\n",
    "matplotlib.rcParams['axes.unicode_minus'] = False\n",
    "\n",
    "# from dataprep.eda import plot, plot_correlation, plot_missing\n",
    "\n",
    "import plotly \n",
    "import plotly.express as px\n",
    "# from plotly import tools, subplots\n",
    "# import plotly.offline as py\n",
    "# py.init_notebook_mode(connected=True)\n",
    "# from plotly.offline import init_notebook_mode, iplot\n",
    "# import plotly.graph_objs as go\n",
    "# import plotly.express as px\n",
    "\n",
    "# Warnings\n",
    "import warnings\n",
    "warnings.filterwarnings('always')\n",
    "warnings.filterwarnings('ignore')"
   ]
  },
  {
   "cell_type": "markdown",
   "id": "b3bcff34",
   "metadata": {},
   "source": [
    "# cf.) function"
   ]
  },
  {
   "cell_type": "code",
   "execution_count": 2,
   "id": "0d127f89",
   "metadata": {},
   "outputs": [],
   "source": [
    "def check_NA(df):\n",
    "    print(f\"NA check\")\n",
    "    NA_res = df.isna().sum()\n",
    "    if NA_res.sum() != 0:\n",
    "        for idx, i in enumerate(NA_res):\n",
    "            if i != 0:\n",
    "                print(df.columns[idx],i,\"->\",round(i/df.shape[0]*100,3),\"%\")\n",
    "    else:\n",
    "        print(\"...There's no NA\")\n",
    "\n",
    "def dual_countplot(col, figsize=(14,8), pallete=\"Set2\", flip=True):\n",
    "    plt.rcParams[\"figure.figsize\"] = figsize\n",
    "    fig, ax = plt.subplots(ncols=2)\n",
    "    if flip:\n",
    "        sns.countplot(y=train[col],palette=pallete,order=train[col].unique(),ax=ax[0]).set_title(\"train\")\n",
    "        sns.countplot(y=test[col],palette=pallete,order=train[col].unique(),ax=ax[1]).set_title(\"test\")\n",
    "    else:\n",
    "        sns.countplot(x=train[col],palette=pallete,order=train[col].unique(),ax=ax[0]).set_title(\"train\")\n",
    "        sns.countplot(x=test[col],palette=pallete,order=train[col].unique(),ax=ax[1]).set_title(\"test\")\n",
    "    plt.tight_layout()\n",
    "    plt.show()"
   ]
  },
  {
   "cell_type": "markdown",
   "id": "5d62c7bb",
   "metadata": {},
   "source": [
    "**Problem** <br>\n",
    "▶**단지코드별 등록차량수를 predict하는 regression 문제**\n",
    "\n",
    "**Evaluation** <br>\n",
    "▶**MAE**\n",
    "\n",
    "# Data info\n",
    "## train & test\n",
    "0. 단지코드\n",
    "1. 총세대수\n",
    "2. 임대건물구분\n",
    "3. 지역\n",
    "4. 공급유형\n",
    "5. 전용면적\n",
    "6. 전용면적별세대수\n",
    "7. 공가수\n",
    "8. 자격유형\n",
    "9. 임대보증금\n",
    "10. 임대료\n",
    "11. 도보 10분거리 내 지하철역 수(환승노선 수 반영)\n",
    "12. 도보 10분거리 내 버스정류장 수\n",
    "13. 단지내주차면수\n",
    "14. 등록차량수"
   ]
  },
  {
   "cell_type": "markdown",
   "id": "1a455207",
   "metadata": {},
   "source": [
    "## duplicates 제거 & column명 변경"
   ]
  },
  {
   "cell_type": "code",
   "execution_count": 3,
   "id": "964b8c48",
   "metadata": {},
   "outputs": [],
   "source": [
    "train = pd.read_csv('train.csv')\n",
    "test = pd.read_csv('test.csv')\n",
    "age_gender = pd.read_csv('age_gender_info.csv')"
   ]
  },
  {
   "cell_type": "code",
   "execution_count": 4,
   "id": "d0ebe9a5",
   "metadata": {},
   "outputs": [
    {
     "name": "stdout",
     "output_type": "stream",
     "text": [
      "Index(['단지코드', '총세대수', '임대건물구분', '지역', '공급유형', '전용면적', '전용면적별세대수', '공가수',\n",
      "       '자격유형', '임대보증금', '임대료', '도보 10분거리 내 지하철역 수(환승노선 수 반영)',\n",
      "       '도보 10분거리 내 버스정류장 수', '단지내주차면수', '등록차량수'],\n",
      "      dtype='object')\n",
      "Index(['단지코드', '총세대수', '임대건물구분', '지역', '공급유형', '전용면적', '전용면적별세대수', '공가수',\n",
      "       '자격유형', '임대보증금', '임대료', '도보 10분거리 내 지하철역 수(환승노선 수 반영)',\n",
      "       '도보 10분거리 내 버스정류장 수', '단지내주차면수'],\n",
      "      dtype='object')\n",
      "Index(['지역', '10대미만(여자)', '10대미만(남자)', '10대(여자)', '10대(남자)', '20대(여자)',\n",
      "       '20대(남자)', '30대(여자)', '30대(남자)', '40대(여자)', '40대(남자)', '50대(여자)',\n",
      "       '50대(남자)', '60대(여자)', '60대(남자)', '70대(여자)', '70대(남자)', '80대(여자)',\n",
      "       '80대(남자)', '90대(여자)', '90대(남자)', '100대(여자)', '100대(남자)'],\n",
      "      dtype='object')\n"
     ]
    }
   ],
   "source": [
    "print(train.columns)\n",
    "print(test.columns)\n",
    "print(age_gender.columns)"
   ]
  },
  {
   "cell_type": "code",
   "execution_count": 5,
   "id": "e2a5070c",
   "metadata": {
    "scrolled": true
   },
   "outputs": [
    {
     "name": "stdout",
     "output_type": "stream",
     "text": [
      "Index(['단지코드', '총세대수', '임대건물구분', '지역', '공급유형', '전용면적', '전용면적별세대수', '공가수',\n",
      "       '자격유형', '임대보증금', '임대료', '지하철역', '버스정류장', '단지내주차면수', '등록차량수'],\n",
      "      dtype='object')\n",
      "Index(['단지코드', '총세대수', '임대건물구분', '지역', '공급유형', '전용면적', '전용면적별세대수', '공가수',\n",
      "       '자격유형', '임대보증금', '임대료', '지하철역', '버스정류장', '단지내주차면수'],\n",
      "      dtype='object')\n",
      "Index(['지역', '10대미만(여자)', '10대미만(남자)', '10대(여자)', '10대(남자)', '20대(여자)',\n",
      "       '20대(남자)', '30대(여자)', '30대(남자)', '40대(여자)', '40대(남자)', '50대(여자)',\n",
      "       '50대(남자)', '60대(여자)', '60대(남자)', '70대(여자)', '70대(남자)', '80대(여자)',\n",
      "       '80대(남자)', '90대(여자)', '90대(남자)', '100대(여자)', '100대(남자)'],\n",
      "      dtype='object')\n"
     ]
    }
   ],
   "source": [
    "train.columns = ['단지코드', '총세대수', '임대건물구분', '지역', '공급유형', '전용면적', '전용면적별세대수', '공가수',\n",
    "       '자격유형', '임대보증금', '임대료', '지하철역',\n",
    "       '버스정류장', '단지내주차면수', '등록차량수']\n",
    "test.columns = ['단지코드', '총세대수', '임대건물구분', '지역', '공급유형', '전용면적', '전용면적별세대수', '공가수',\n",
    "       '자격유형', '임대보증금', '임대료', '지하철역',\n",
    "       '버스정류장', '단지내주차면수']\n",
    "\n",
    "print(train.columns)\n",
    "print(test.columns)\n",
    "print(age_gender.columns)"
   ]
  },
  {
   "cell_type": "code",
   "execution_count": 6,
   "id": "0ad36266",
   "metadata": {},
   "outputs": [],
   "source": [
    "train = train.drop_duplicates(keep=\"first\")\n",
    "test = test.drop_duplicates(keep=\"first\")"
   ]
  },
  {
   "cell_type": "markdown",
   "id": "51c52389",
   "metadata": {},
   "source": [
    "## datatype 변경\n",
    "1) categorical\n",
    "- 단지코드\n",
    "- 임대건물구분\n",
    "- 지역\n",
    "- 공급유형\n",
    "- 자격유형\n",
    "\n",
    "2) numerical\n",
    "- 총세대수\n",
    "- 전용면적\n",
    "- 전용면적별세대수\n",
    "- 공가수\n",
    "- **임대보증금: \"-\" -> NA 처리 후 numeric으로 변경**\n",
    "- **임대료: \"-\" -> NA 처리 후 numeric으로 변경**\n",
    "- 도보 10분거리 내 지하철역 수(환승노선 수 반영)\n",
    "- 도보 10분거리 내 버스정류장 수\n",
    "- 단지내주차면수\n",
    "- 등록차량수"
   ]
  },
  {
   "cell_type": "code",
   "execution_count": 7,
   "id": "690a0857",
   "metadata": {},
   "outputs": [
    {
     "name": "stdout",
     "output_type": "stream",
     "text": [
      "<class 'pandas.core.frame.DataFrame'>\n",
      "Int64Index: 2632 entries, 0 to 2951\n",
      "Data columns (total 15 columns):\n",
      " #   Column    Non-Null Count  Dtype  \n",
      "---  ------    --------------  -----  \n",
      " 0   단지코드      2632 non-null   object \n",
      " 1   총세대수      2632 non-null   int64  \n",
      " 2   임대건물구분    2632 non-null   object \n",
      " 3   지역        2632 non-null   object \n",
      " 4   공급유형      2632 non-null   object \n",
      " 5   전용면적      2632 non-null   float64\n",
      " 6   전용면적별세대수  2632 non-null   int64  \n",
      " 7   공가수       2632 non-null   float64\n",
      " 8   자격유형      2632 non-null   object \n",
      " 9   임대보증금     2340 non-null   object \n",
      " 10  임대료       2340 non-null   object \n",
      " 11  지하철역      2477 non-null   float64\n",
      " 12  버스정류장     2628 non-null   float64\n",
      " 13  단지내주차면수   2632 non-null   float64\n",
      " 14  등록차량수     2632 non-null   float64\n",
      "dtypes: float64(6), int64(2), object(7)\n",
      "memory usage: 329.0+ KB\n",
      "<class 'pandas.core.frame.DataFrame'>\n",
      "Int64Index: 949 entries, 0 to 1021\n",
      "Data columns (total 14 columns):\n",
      " #   Column    Non-Null Count  Dtype  \n",
      "---  ------    --------------  -----  \n",
      " 0   단지코드      949 non-null    object \n",
      " 1   총세대수      949 non-null    int64  \n",
      " 2   임대건물구분    949 non-null    object \n",
      " 3   지역        949 non-null    object \n",
      " 4   공급유형      949 non-null    object \n",
      " 5   전용면적      949 non-null    float64\n",
      " 6   전용면적별세대수  949 non-null    int64  \n",
      " 7   공가수       949 non-null    float64\n",
      " 8   자격유형      947 non-null    object \n",
      " 9   임대보증금     835 non-null    object \n",
      " 10  임대료       835 non-null    object \n",
      " 11  지하철역      915 non-null    float64\n",
      " 12  버스정류장     949 non-null    float64\n",
      " 13  단지내주차면수   949 non-null    float64\n",
      "dtypes: float64(5), int64(2), object(7)\n",
      "memory usage: 111.2+ KB\n"
     ]
    }
   ],
   "source": [
    "train.info()\n",
    "test.info()"
   ]
  },
  {
   "cell_type": "code",
   "execution_count": 8,
   "id": "af845289",
   "metadata": {
    "tags": []
   },
   "outputs": [
    {
     "data": {
      "text/html": [
       "<div>\n",
       "<style scoped>\n",
       "    .dataframe tbody tr th:only-of-type {\n",
       "        vertical-align: middle;\n",
       "    }\n",
       "\n",
       "    .dataframe tbody tr th {\n",
       "        vertical-align: top;\n",
       "    }\n",
       "\n",
       "    .dataframe thead th {\n",
       "        text-align: right;\n",
       "    }\n",
       "</style>\n",
       "<table border=\"1\" class=\"dataframe\">\n",
       "  <thead>\n",
       "    <tr style=\"text-align: right;\">\n",
       "      <th></th>\n",
       "      <th>단지코드</th>\n",
       "      <th>임대건물구분</th>\n",
       "      <th>지역</th>\n",
       "      <th>공급유형</th>\n",
       "      <th>자격유형</th>\n",
       "      <th>임대보증금</th>\n",
       "      <th>임대료</th>\n",
       "    </tr>\n",
       "  </thead>\n",
       "  <tbody>\n",
       "    <tr>\n",
       "      <th>0</th>\n",
       "      <td>C2483</td>\n",
       "      <td>아파트</td>\n",
       "      <td>경상북도</td>\n",
       "      <td>국민임대</td>\n",
       "      <td>A</td>\n",
       "      <td>15667000</td>\n",
       "      <td>103680</td>\n",
       "    </tr>\n",
       "    <tr>\n",
       "      <th>1</th>\n",
       "      <td>C2483</td>\n",
       "      <td>아파트</td>\n",
       "      <td>경상북도</td>\n",
       "      <td>국민임대</td>\n",
       "      <td>A</td>\n",
       "      <td>15667000</td>\n",
       "      <td>103680</td>\n",
       "    </tr>\n",
       "    <tr>\n",
       "      <th>2</th>\n",
       "      <td>C2483</td>\n",
       "      <td>아파트</td>\n",
       "      <td>경상북도</td>\n",
       "      <td>국민임대</td>\n",
       "      <td>A</td>\n",
       "      <td>27304000</td>\n",
       "      <td>184330</td>\n",
       "    </tr>\n",
       "    <tr>\n",
       "      <th>3</th>\n",
       "      <td>C2483</td>\n",
       "      <td>아파트</td>\n",
       "      <td>경상북도</td>\n",
       "      <td>국민임대</td>\n",
       "      <td>A</td>\n",
       "      <td>27304000</td>\n",
       "      <td>184330</td>\n",
       "    </tr>\n",
       "    <tr>\n",
       "      <th>4</th>\n",
       "      <td>C2483</td>\n",
       "      <td>아파트</td>\n",
       "      <td>경상북도</td>\n",
       "      <td>국민임대</td>\n",
       "      <td>A</td>\n",
       "      <td>27304000</td>\n",
       "      <td>184330</td>\n",
       "    </tr>\n",
       "    <tr>\n",
       "      <th>...</th>\n",
       "      <td>...</td>\n",
       "      <td>...</td>\n",
       "      <td>...</td>\n",
       "      <td>...</td>\n",
       "      <td>...</td>\n",
       "      <td>...</td>\n",
       "      <td>...</td>\n",
       "    </tr>\n",
       "    <tr>\n",
       "      <th>2947</th>\n",
       "      <td>C2532</td>\n",
       "      <td>아파트</td>\n",
       "      <td>강원도</td>\n",
       "      <td>국민임대</td>\n",
       "      <td>A</td>\n",
       "      <td>11346000</td>\n",
       "      <td>116090</td>\n",
       "    </tr>\n",
       "    <tr>\n",
       "      <th>2948</th>\n",
       "      <td>C2532</td>\n",
       "      <td>아파트</td>\n",
       "      <td>강원도</td>\n",
       "      <td>국민임대</td>\n",
       "      <td>A</td>\n",
       "      <td>14005000</td>\n",
       "      <td>142310</td>\n",
       "    </tr>\n",
       "    <tr>\n",
       "      <th>2949</th>\n",
       "      <td>C2532</td>\n",
       "      <td>아파트</td>\n",
       "      <td>강원도</td>\n",
       "      <td>국민임대</td>\n",
       "      <td>A</td>\n",
       "      <td>14005000</td>\n",
       "      <td>142310</td>\n",
       "    </tr>\n",
       "    <tr>\n",
       "      <th>2950</th>\n",
       "      <td>C2532</td>\n",
       "      <td>아파트</td>\n",
       "      <td>강원도</td>\n",
       "      <td>국민임대</td>\n",
       "      <td>A</td>\n",
       "      <td>14005000</td>\n",
       "      <td>142310</td>\n",
       "    </tr>\n",
       "    <tr>\n",
       "      <th>2951</th>\n",
       "      <td>C2532</td>\n",
       "      <td>아파트</td>\n",
       "      <td>강원도</td>\n",
       "      <td>국민임대</td>\n",
       "      <td>A</td>\n",
       "      <td>14830000</td>\n",
       "      <td>151030</td>\n",
       "    </tr>\n",
       "  </tbody>\n",
       "</table>\n",
       "<p>2632 rows × 7 columns</p>\n",
       "</div>"
      ],
      "text/plain": [
       "       단지코드 임대건물구분    지역  공급유형 자격유형     임대보증금     임대료\n",
       "0     C2483    아파트  경상북도  국민임대    A  15667000  103680\n",
       "1     C2483    아파트  경상북도  국민임대    A  15667000  103680\n",
       "2     C2483    아파트  경상북도  국민임대    A  27304000  184330\n",
       "3     C2483    아파트  경상북도  국민임대    A  27304000  184330\n",
       "4     C2483    아파트  경상북도  국민임대    A  27304000  184330\n",
       "...     ...    ...   ...   ...  ...       ...     ...\n",
       "2947  C2532    아파트   강원도  국민임대    A  11346000  116090\n",
       "2948  C2532    아파트   강원도  국민임대    A  14005000  142310\n",
       "2949  C2532    아파트   강원도  국민임대    A  14005000  142310\n",
       "2950  C2532    아파트   강원도  국민임대    A  14005000  142310\n",
       "2951  C2532    아파트   강원도  국민임대    A  14830000  151030\n",
       "\n",
       "[2632 rows x 7 columns]"
      ]
     },
     "execution_count": 8,
     "metadata": {},
     "output_type": "execute_result"
    }
   ],
   "source": [
    "train.select_dtypes(exclude='number')"
   ]
  },
  {
   "cell_type": "code",
   "execution_count": 9,
   "id": "3e23fd83",
   "metadata": {},
   "outputs": [
    {
     "data": {
      "text/plain": [
       "-         21\n",
       "390000    19\n",
       "79980     16\n",
       "100920    16\n",
       "590000    14\n",
       "          ..\n",
       "16650      1\n",
       "117060     1\n",
       "101080     1\n",
       "273260     1\n",
       "152280     1\n",
       "Name: 임대료, Length: 995, dtype: int64"
      ]
     },
     "execution_count": 9,
     "metadata": {},
     "output_type": "execute_result"
    }
   ],
   "source": [
    "train.임대료.value_counts()"
   ]
  },
  {
   "cell_type": "code",
   "execution_count": 10,
   "id": "7cf60ee3",
   "metadata": {},
   "outputs": [],
   "source": [
    "for col in ['임대료','임대보증금']:\n",
    "    train[col] = train[col].replace('-',np.nan)\n",
    "    train[col].fillna(-1,inplace=True)\n",
    "    train[col] = train[col].astype('float')\n",
    "    train[col] = train[col].replace(-1,np.nan)\n",
    "\n",
    "for col in ['임대료','임대보증금']:\n",
    "    test[col] = test[col].replace('-',np.nan)\n",
    "    test[col].fillna(-1,inplace=True)\n",
    "    test[col] = test[col].astype('float')\n",
    "    test[col] = test[col].replace(-1,np.nan)"
   ]
  },
  {
   "cell_type": "code",
   "execution_count": 11,
   "id": "8815b1fe",
   "metadata": {},
   "outputs": [
    {
     "name": "stdout",
     "output_type": "stream",
     "text": [
      "<class 'pandas.core.frame.DataFrame'>\n",
      "Int64Index: 2632 entries, 0 to 2951\n",
      "Data columns (total 15 columns):\n",
      " #   Column    Non-Null Count  Dtype  \n",
      "---  ------    --------------  -----  \n",
      " 0   단지코드      2632 non-null   object \n",
      " 1   총세대수      2632 non-null   int64  \n",
      " 2   임대건물구분    2632 non-null   object \n",
      " 3   지역        2632 non-null   object \n",
      " 4   공급유형      2632 non-null   object \n",
      " 5   전용면적      2632 non-null   float64\n",
      " 6   전용면적별세대수  2632 non-null   int64  \n",
      " 7   공가수       2632 non-null   float64\n",
      " 8   자격유형      2632 non-null   object \n",
      " 9   임대보증금     2328 non-null   float64\n",
      " 10  임대료       2319 non-null   float64\n",
      " 11  지하철역      2477 non-null   float64\n",
      " 12  버스정류장     2628 non-null   float64\n",
      " 13  단지내주차면수   2632 non-null   float64\n",
      " 14  등록차량수     2632 non-null   float64\n",
      "dtypes: float64(8), int64(2), object(5)\n",
      "memory usage: 329.0+ KB\n",
      "<class 'pandas.core.frame.DataFrame'>\n",
      "Int64Index: 949 entries, 0 to 1021\n",
      "Data columns (total 14 columns):\n",
      " #   Column    Non-Null Count  Dtype  \n",
      "---  ------    --------------  -----  \n",
      " 0   단지코드      949 non-null    object \n",
      " 1   총세대수      949 non-null    int64  \n",
      " 2   임대건물구분    949 non-null    object \n",
      " 3   지역        949 non-null    object \n",
      " 4   공급유형      949 non-null    object \n",
      " 5   전용면적      949 non-null    float64\n",
      " 6   전용면적별세대수  949 non-null    int64  \n",
      " 7   공가수       949 non-null    float64\n",
      " 8   자격유형      947 non-null    object \n",
      " 9   임대보증금     829 non-null    float64\n",
      " 10  임대료       829 non-null    float64\n",
      " 11  지하철역      915 non-null    float64\n",
      " 12  버스정류장     949 non-null    float64\n",
      " 13  단지내주차면수   949 non-null    float64\n",
      "dtypes: float64(7), int64(2), object(5)\n",
      "memory usage: 111.2+ KB\n"
     ]
    }
   ],
   "source": [
    "train.info()\n",
    "test.info()"
   ]
  },
  {
   "cell_type": "code",
   "execution_count": 12,
   "id": "a3e30607",
   "metadata": {},
   "outputs": [
    {
     "name": "stdout",
     "output_type": "stream",
     "text": [
      "numerical features: ['총세대수', '전용면적', '전용면적별세대수', '공가수', '임대보증금', '임대료', '지하철역', '버스정류장', '단지내주차면수', '등록차량수']\n",
      "categorical feature: ['단지코드', '임대건물구분', '지역', '공급유형', '자격유형']\n"
     ]
    }
   ],
   "source": [
    "num_col = train.select_dtypes(include='number').columns.tolist()\n",
    "obj_col = train.select_dtypes(exclude='number').columns.tolist()\n",
    "print(f\"numerical features: {num_col}\")\n",
    "print(f\"categorical feature: {obj_col}\")"
   ]
  },
  {
   "cell_type": "markdown",
   "id": "27c73f99",
   "metadata": {},
   "source": [
    "## NA 확인\n",
    "- 임대보증금&임대료\n",
    "- 지하철역&버스정류장\n",
    "- 자격유형"
   ]
  },
  {
   "cell_type": "code",
   "execution_count": 13,
   "id": "89f3a71d",
   "metadata": {
    "tags": []
   },
   "outputs": [
    {
     "name": "stdout",
     "output_type": "stream",
     "text": [
      "NA check\n",
      "임대보증금 304 -> 11.55 %\n",
      "임대료 313 -> 11.892 %\n",
      "지하철역 155 -> 5.889 %\n",
      "버스정류장 4 -> 0.152 %\n",
      "NA check\n",
      "자격유형 2 -> 0.211 %\n",
      "임대보증금 120 -> 12.645 %\n",
      "임대료 120 -> 12.645 %\n",
      "지하철역 34 -> 3.583 %\n",
      "NA check\n",
      "...There's no NA\n"
     ]
    }
   ],
   "source": [
    "check_NA(train)\n",
    "check_NA(test)\n",
    "check_NA(age_gender)"
   ]
  },
  {
   "cell_type": "markdown",
   "id": "a7947a6f",
   "metadata": {},
   "source": [
    "# 공급유형 카테고리(NEW)"
   ]
  },
  {
   "cell_type": "markdown",
   "id": "be26c039",
   "metadata": {},
   "source": [
    "- 국민임대와 공공임대의 차이\n",
    "- LH공사와 SH공사에서 제공하는 국민임대는 국가 재정과 국민주택기금을 지원받아 국가, 지방자치단체, 한국토지주택공사 또는 지방공사가 건설, 공급하는 주택을 의미한다. 저렴한 임대료를 지불하고 장기(30년) 임대가 가능하다. 장기 거주는 가능하지만 해당 주거지를 매입할 수 없다는 단점이 있다.\n",
    "- 반면 공공임대는 5년 또는 10년 후 임대기간이 종료되었을 때 입주자에게 우선 분양전환혜택을 준다."
   ]
  },
  {
   "cell_type": "code",
   "execution_count": 14,
   "id": "51b57bd1",
   "metadata": {},
   "outputs": [
    {
     "data": {
      "text/html": [
       "<div>\n",
       "<style scoped>\n",
       "    .dataframe tbody tr th:only-of-type {\n",
       "        vertical-align: middle;\n",
       "    }\n",
       "\n",
       "    .dataframe tbody tr th {\n",
       "        vertical-align: top;\n",
       "    }\n",
       "\n",
       "    .dataframe thead th {\n",
       "        text-align: right;\n",
       "    }\n",
       "</style>\n",
       "<table border=\"1\" class=\"dataframe\">\n",
       "  <thead>\n",
       "    <tr style=\"text-align: right;\">\n",
       "      <th></th>\n",
       "      <th>공급유형</th>\n",
       "      <th>공급유형</th>\n",
       "    </tr>\n",
       "  </thead>\n",
       "  <tbody>\n",
       "    <tr>\n",
       "      <th>국민임대</th>\n",
       "      <td>1730</td>\n",
       "      <td>619.0000</td>\n",
       "    </tr>\n",
       "    <tr>\n",
       "      <th>임대상가</th>\n",
       "      <td>285</td>\n",
       "      <td>112.0000</td>\n",
       "    </tr>\n",
       "    <tr>\n",
       "      <th>공공임대(10년)</th>\n",
       "      <td>203</td>\n",
       "      <td>34.0000</td>\n",
       "    </tr>\n",
       "    <tr>\n",
       "      <th>행복주택</th>\n",
       "      <td>203</td>\n",
       "      <td>121.0000</td>\n",
       "    </tr>\n",
       "    <tr>\n",
       "      <th>영구임대</th>\n",
       "      <td>149</td>\n",
       "      <td>44.0000</td>\n",
       "    </tr>\n",
       "    <tr>\n",
       "      <th>공공임대(50년)</th>\n",
       "      <td>31</td>\n",
       "      <td>13.0000</td>\n",
       "    </tr>\n",
       "    <tr>\n",
       "      <th>공공임대(분납)</th>\n",
       "      <td>12</td>\n",
       "      <td>6.0000</td>\n",
       "    </tr>\n",
       "    <tr>\n",
       "      <th>장기전세</th>\n",
       "      <td>9</td>\n",
       "      <td>nan</td>\n",
       "    </tr>\n",
       "    <tr>\n",
       "      <th>공공분양</th>\n",
       "      <td>7</td>\n",
       "      <td>nan</td>\n",
       "    </tr>\n",
       "    <tr>\n",
       "      <th>공공임대(5년)</th>\n",
       "      <td>3</td>\n",
       "      <td>nan</td>\n",
       "    </tr>\n",
       "  </tbody>\n",
       "</table>\n",
       "</div>"
      ],
      "text/plain": [
       "           공급유형     공급유형\n",
       "국민임대       1730 619.0000\n",
       "임대상가        285 112.0000\n",
       "공공임대(10년)   203  34.0000\n",
       "행복주택        203 121.0000\n",
       "영구임대        149  44.0000\n",
       "공공임대(50년)    31  13.0000\n",
       "공공임대(분납)     12   6.0000\n",
       "장기전세          9      nan\n",
       "공공분양          7      nan\n",
       "공공임대(5년)      3      nan"
      ]
     },
     "execution_count": 14,
     "metadata": {},
     "output_type": "execute_result"
    }
   ],
   "source": [
    "pd.concat([train.공급유형.value_counts(), test.공급유형.value_counts()], axis=1)"
   ]
  },
  {
   "cell_type": "markdown",
   "id": "a14b0693",
   "metadata": {},
   "source": [
    "## test set에는 장기전세, 공공분양, 공공임대가 없다"
   ]
  },
  {
   "cell_type": "code",
   "execution_count": 15,
   "id": "59a5d80d",
   "metadata": {},
   "outputs": [],
   "source": [
    "train.loc[train.공급유형.isin(['공공임대(5년)', '공공분양', '공공임대(10년)', '공공임대(분납)']), '공급유형'] = '공공임대(5년/10년/분납/분양)'\n",
    "test.loc[test.공급유형.isin(['공공임대(5년)', '공공분양', '공공임대(10년)', '공공임대(분납)']), '공급유형'] = '공공임대(5년/10년/분납/분양)'\n",
    "train.loc[train.공급유형.isin(['장기전세', '국민임대']), '공급유형'] = '국민임대/장기전세'\n",
    "test.loc[test.공급유형.isin(['장기전세', '국민임대']), '공급유형'] = '국민임대/장기전세'"
   ]
  },
  {
   "cell_type": "code",
   "execution_count": 16,
   "id": "167cef71",
   "metadata": {},
   "outputs": [
    {
     "data": {
      "text/plain": [
       "{'공공임대(50년)', '공공임대(5년/10년/분납/분양)', '국민임대/장기전세', '영구임대', '임대상가', '행복주택'}"
      ]
     },
     "execution_count": 16,
     "metadata": {},
     "output_type": "execute_result"
    }
   ],
   "source": [
    "set(train.공급유형)"
   ]
  },
  {
   "cell_type": "code",
   "execution_count": 17,
   "id": "3ba138cd",
   "metadata": {},
   "outputs": [
    {
     "data": {
      "text/plain": [
       "{'공공임대(50년)', '공공임대(5년/10년/분납/분양)', '국민임대/장기전세', '영구임대', '임대상가', '행복주택'}"
      ]
     },
     "execution_count": 17,
     "metadata": {},
     "output_type": "execute_result"
    }
   ],
   "source": [
    "set(test.공급유형)"
   ]
  },
  {
   "cell_type": "markdown",
   "id": "6b5aefce",
   "metadata": {},
   "source": [
    "#### NA imputation\n",
    "**해당 단지코드에 위치한 동일 임대건물구분의 자격유형으로 대체**"
   ]
  },
  {
   "cell_type": "code",
   "execution_count": 18,
   "id": "5416c154",
   "metadata": {},
   "outputs": [
    {
     "data": {
      "text/plain": [
       "196    C2411\n",
       "258    C2253\n",
       "Name: 단지코드, dtype: object"
      ]
     },
     "execution_count": 18,
     "metadata": {},
     "output_type": "execute_result"
    }
   ],
   "source": [
    "test.loc[test.자격유형.isna(),'단지코드']"
   ]
  },
  {
   "cell_type": "code",
   "execution_count": 19,
   "id": "3fefdaea",
   "metadata": {},
   "outputs": [],
   "source": [
    "test.loc[(test.단지코드=='C2411')&(test.자격유형.isna()), '자격유형'] = 'A'\n",
    "test.loc[(test.단지코드=='C2253')&(test.자격유형.isna()), '자격유형'] = 'C'"
   ]
  },
  {
   "cell_type": "code",
   "execution_count": 20,
   "id": "f554deb2",
   "metadata": {},
   "outputs": [
    {
     "name": "stdout",
     "output_type": "stream",
     "text": [
      "NA check\n",
      "임대보증금 304 -> 11.55 %\n",
      "임대료 313 -> 11.892 %\n",
      "지하철역 155 -> 5.889 %\n",
      "버스정류장 4 -> 0.152 %\n",
      "NA check\n",
      "임대보증금 120 -> 12.645 %\n",
      "임대료 120 -> 12.645 %\n",
      "지하철역 34 -> 3.583 %\n"
     ]
    }
   ],
   "source": [
    "check_NA(train)\n",
    "check_NA(test)"
   ]
  },
  {
   "cell_type": "markdown",
   "id": "fdd338cd",
   "metadata": {},
   "source": [
    "# 자격유형_카테고리 (NEW)"
   ]
  },
  {
   "cell_type": "markdown",
   "id": "6e107ed4",
   "metadata": {},
   "source": [
    "## 공공임대주택 공급대상\n",
    "\n",
    "- 영구임대: 생계급여 또는 의료급여 수급자 등[소득 1분위] - 1\n",
    "- 국민임대: 무주택세대구성원[소득 2~4분위] - 3\n",
    "- 장기전세: 무주택세대구성원[소득 3~4분위] - 2\n",
    "- 공공임대(5년/10년/분납): 무주택세대구성원[소득 3~5분위] - 3\n",
    "- 행복주택: 무주택세대구성원/무주택자[소득 2~5분위] - 4\n",
    "- 이렇게 나누면 13개 항목인데 자격유형의 항목수는 15개"
   ]
  },
  {
   "cell_type": "markdown",
   "id": "55956a06",
   "metadata": {},
   "source": [
    "- 국민임대/장기전세\n",
    "\n",
    "(일반)해당지역 거주 무주택세대구성원 <br>\n",
    "(특별/우선)3자녀 이상 가구<br>\n",
    "(특별/우선)국가유공자<br>\n",
    "(특별/우선)영구임대 입주자<br>\n",
    "(특별/우선)비닐간이공작물 거주자<br>\n",
    "(특별/우선)신혼부부(혼인기간 5년이내)<br>\n",
    "(특별/우선)사업지구 철거민<br>\n",
    "(특별/우선)기타 공급대상(고령자, 노부모부양자, 장애인, 파독근로자 등)<br>\n",
    "건수가 가장 많은 A는 해당지역 거주 무주택세대구성원으로 예상됨<br>"
   ]
  },
  {
   "cell_type": "markdown",
   "id": "3170cdde",
   "metadata": {},
   "source": [
    "## test에는 K, B, O가 없다. "
   ]
  },
  {
   "cell_type": "code",
   "execution_count": 21,
   "id": "b09eff8b",
   "metadata": {},
   "outputs": [
    {
     "name": "stdout",
     "output_type": "stream",
     "text": [
      "국민임대/장기전세 ['A' 'B' 'E' 'G' 'H']\n",
      "공공임대(50년) ['A']\n",
      "영구임대 ['C' 'E' 'F' 'I' 'A']\n",
      "임대상가 ['D']\n",
      "공공임대(5년/10년/분납/분양) ['A' 'D']\n",
      "행복주택 ['J' 'K' 'L' 'M' 'N' 'O']\n"
     ]
    }
   ],
   "source": [
    "for i in train['공급유형'].unique():\n",
    "    print(i,train[train['공급유형']==i]['자격유형'].unique())"
   ]
  },
  {
   "cell_type": "code",
   "execution_count": 22,
   "id": "7eb093da",
   "metadata": {},
   "outputs": [
    {
     "name": "stdout",
     "output_type": "stream",
     "text": [
      "국민임대/장기전세 ['H' 'A' 'E' 'G']\n",
      "영구임대 ['C' 'D' 'I']\n",
      "임대상가 ['D']\n",
      "공공임대(50년) ['A']\n",
      "공공임대(5년/10년/분납/분양) ['A']\n",
      "행복주택 ['J' 'K' 'L' 'M' 'N']\n"
     ]
    }
   ],
   "source": [
    "for i in test['공급유형'].unique():\n",
    "    print(i,test[test['공급유형']==i]['자격유형'].unique())"
   ]
  },
  {
   "cell_type": "markdown",
   "id": "75f459b2",
   "metadata": {},
   "source": [
    "## A는 이미 섞여있음: 다른 것과 섞지 않는 것이 좋을 것 같음"
   ]
  },
  {
   "cell_type": "code",
   "execution_count": 23,
   "id": "de931759",
   "metadata": {},
   "outputs": [
    {
     "data": {
      "text/plain": [
       "국민임대/장기전세             1524\n",
       "공공임대(5년/10년/분납/분양)     218\n",
       "공공임대(50년)               31\n",
       "영구임대                     2\n",
       "Name: 공급유형, dtype: int64"
      ]
     },
     "execution_count": 23,
     "metadata": {},
     "output_type": "execute_result"
    }
   ],
   "source": [
    "train.loc[train.자격유형.isin(['A']), '공급유형'].value_counts()"
   ]
  },
  {
   "cell_type": "code",
   "execution_count": 24,
   "id": "bcf34980",
   "metadata": {},
   "outputs": [
    {
     "data": {
      "text/plain": [
       "국민임대/장기전세             516\n",
       "공공임대(5년/10년/분납/분양)     40\n",
       "공공임대(50년)              13\n",
       "Name: 공급유형, dtype: int64"
      ]
     },
     "execution_count": 24,
     "metadata": {},
     "output_type": "execute_result"
    }
   ],
   "source": [
    "test.loc[test.자격유형.isin(['A']), '공급유형'].value_counts()"
   ]
  },
  {
   "cell_type": "code",
   "execution_count": 25,
   "id": "dd499d3d",
   "metadata": {},
   "outputs": [
    {
     "data": {
      "text/plain": [
       "Text(0.5, 1.0, 'test_A')"
      ]
     },
     "execution_count": 25,
     "metadata": {},
     "output_type": "execute_result"
    },
    {
     "data": {
      "image/png": "[encoded data removed]",
      "text/plain": [
       "<Figure size 1440x360 with 2 Axes>"
      ]
     },
     "metadata": {
      "needs_background": "light"
     },
     "output_type": "display_data"
    }
   ],
   "source": [
    "plt.rcParams[\"figure.figsize\"] = (20,5)\n",
    "fig, ax = plt.subplots(ncols=2)\n",
    "sns.countplot(x=train.loc[train.자격유형.isin(['A']), '공급유형'],palette=\"cool\",ax=ax[0]).set_title(\"train_A\")\n",
    "sns.countplot(x=test.loc[test.자격유형.isin(['A']), '공급유형'],ax=ax[1]).set_title(\"test_A\")"
   ]
  },
  {
   "cell_type": "markdown",
   "id": "7ed43d36",
   "metadata": {},
   "source": [
    "## 국민임대/장기전세"
   ]
  },
  {
   "cell_type": "code",
   "execution_count": 26,
   "id": "2e8f1178",
   "metadata": {},
   "outputs": [
    {
     "name": "stdout",
     "output_type": "stream",
     "text": [
      "국민임대/장기전세    18\n",
      "Name: 공급유형, dtype: int64\n",
      "Series([], Name: 공급유형, dtype: int64)\n"
     ]
    }
   ],
   "source": [
    "print(train.loc[train.자격유형.isin(['B']), '공급유형'].value_counts())\n",
    "print(test.loc[test.자격유형.isin(['B']), '공급유형'].value_counts())"
   ]
  },
  {
   "cell_type": "code",
   "execution_count": 27,
   "id": "e04409cd",
   "metadata": {},
   "outputs": [
    {
     "data": {
      "text/plain": [
       "국민임대/장기전세    34\n",
       "영구임대          3\n",
       "Name: 공급유형, dtype: int64"
      ]
     },
     "execution_count": 27,
     "metadata": {},
     "output_type": "execute_result"
    }
   ],
   "source": [
    "train.loc[train.자격유형.isin(['E']), '공급유형'].value_counts()"
   ]
  },
  {
   "cell_type": "code",
   "execution_count": 28,
   "id": "c25fece9",
   "metadata": {},
   "outputs": [
    {
     "data": {
      "text/plain": [
       "국민임대/장기전세    10\n",
       "Name: 공급유형, dtype: int64"
      ]
     },
     "execution_count": 28,
     "metadata": {},
     "output_type": "execute_result"
    }
   ],
   "source": [
    "test.loc[test.자격유형.isin(['E']), '공급유형'].value_counts()"
   ]
  },
  {
   "cell_type": "code",
   "execution_count": 29,
   "id": "d06c7980",
   "metadata": {},
   "outputs": [
    {
     "data": {
      "text/plain": [
       "Text(0.5, 1.0, 'test_E')"
      ]
     },
     "execution_count": 29,
     "metadata": {},
     "output_type": "execute_result"
    },
    {
     "data": {
      "image/png": "[encoded data removed]",
      "text/plain": [
       "<Figure size 1440x360 with 2 Axes>"
      ]
     },
     "metadata": {
      "needs_background": "light"
     },
     "output_type": "display_data"
    }
   ],
   "source": [
    "plt.rcParams[\"figure.figsize\"] = (20,5)\n",
    "fig, ax = plt.subplots(ncols=2)\n",
    "sns.countplot(x=train.loc[train.자격유형.isin(['E']), '공급유형'],palette=\"cool\",ax=ax[0]).set_title(\"train_E\")\n",
    "sns.countplot(x=test.loc[test.자격유형.isin(['E']), '공급유형'],ax=ax[1]).set_title(\"test_E\")"
   ]
  },
  {
   "cell_type": "code",
   "execution_count": 30,
   "id": "5e9beb7f",
   "metadata": {},
   "outputs": [
    {
     "name": "stdout",
     "output_type": "stream",
     "text": [
      "국민임대/장기전세    9\n",
      "Name: 공급유형, dtype: int64\n",
      "국민임대/장기전세    1\n",
      "Name: 공급유형, dtype: int64\n"
     ]
    }
   ],
   "source": [
    "print(train.loc[train.자격유형.isin(['G']), '공급유형'].value_counts())\n",
    "print(test.loc[test.자격유형.isin(['G']), '공급유형'].value_counts())"
   ]
  },
  {
   "cell_type": "code",
   "execution_count": 31,
   "id": "f6777252",
   "metadata": {},
   "outputs": [
    {
     "name": "stdout",
     "output_type": "stream",
     "text": [
      "국민임대/장기전세    154\n",
      "Name: 공급유형, dtype: int64\n",
      "국민임대/장기전세    92\n",
      "Name: 공급유형, dtype: int64\n"
     ]
    }
   ],
   "source": [
    "print(train.loc[train.자격유형.isin(['H']), '공급유형'].value_counts())\n",
    "print(test.loc[test.자격유형.isin(['H']), '공급유형'].value_counts())"
   ]
  },
  {
   "cell_type": "markdown",
   "id": "da50cf02",
   "metadata": {},
   "source": [
    "# 영구임대"
   ]
  },
  {
   "cell_type": "code",
   "execution_count": 32,
   "id": "59beaa9a",
   "metadata": {},
   "outputs": [
    {
     "name": "stdout",
     "output_type": "stream",
     "text": [
      "영구임대    92\n",
      "Name: 공급유형, dtype: int64\n",
      "영구임대    35\n",
      "Name: 공급유형, dtype: int64\n"
     ]
    }
   ],
   "source": [
    "print(train.loc[train.자격유형.isin(['C']), '공급유형'].value_counts())\n",
    "print(test.loc[test.자격유형.isin(['C']), '공급유형'].value_counts())"
   ]
  },
  {
   "cell_type": "code",
   "execution_count": 33,
   "id": "0083633c",
   "metadata": {
    "scrolled": true
   },
   "outputs": [
    {
     "name": "stdout",
     "output_type": "stream",
     "text": [
      "영구임대    3\n",
      "Name: 공급유형, dtype: int64\n",
      "Series([], Name: 공급유형, dtype: int64)\n"
     ]
    }
   ],
   "source": [
    "print(train.loc[train.자격유형.isin(['F']), '공급유형'].value_counts())\n",
    "print(test.loc[test.자격유형.isin(['F']), '공급유형'].value_counts())"
   ]
  },
  {
   "cell_type": "code",
   "execution_count": 34,
   "id": "4a424238",
   "metadata": {},
   "outputs": [
    {
     "name": "stdout",
     "output_type": "stream",
     "text": [
      "영구임대    49\n",
      "Name: 공급유형, dtype: int64\n",
      "영구임대    7\n",
      "Name: 공급유형, dtype: int64\n"
     ]
    }
   ],
   "source": [
    "print(train.loc[train.자격유형.isin(['I']), '공급유형'].value_counts())\n",
    "print(test.loc[test.자격유형.isin(['I']), '공급유형'].value_counts())"
   ]
  },
  {
   "cell_type": "markdown",
   "id": "d2804648",
   "metadata": {},
   "source": [
    "## 임대상가"
   ]
  },
  {
   "cell_type": "code",
   "execution_count": 35,
   "id": "e854335c",
   "metadata": {},
   "outputs": [
    {
     "data": {
      "text/plain": [
       "임대상가                  285\n",
       "공공임대(5년/10년/분납/분양)      7\n",
       "Name: 공급유형, dtype: int64"
      ]
     },
     "execution_count": 35,
     "metadata": {},
     "output_type": "execute_result"
    }
   ],
   "source": [
    "train.loc[train.자격유형.isin(['D']), '공급유형'].value_counts()"
   ]
  },
  {
   "cell_type": "code",
   "execution_count": 36,
   "id": "47aea2c5",
   "metadata": {},
   "outputs": [
    {
     "data": {
      "text/plain": [
       "임대상가    112\n",
       "영구임대      2\n",
       "Name: 공급유형, dtype: int64"
      ]
     },
     "execution_count": 36,
     "metadata": {},
     "output_type": "execute_result"
    }
   ],
   "source": [
    "test.loc[test.자격유형.isin(['D']), '공급유형'].value_counts()"
   ]
  },
  {
   "cell_type": "code",
   "execution_count": 37,
   "id": "5316b054",
   "metadata": {},
   "outputs": [
    {
     "data": {
      "text/plain": [
       "Text(0.5, 1.0, 'test_D')"
      ]
     },
     "execution_count": 37,
     "metadata": {},
     "output_type": "execute_result"
    },
    {
     "data": {
      "image/png": "[encoded data removed]",
      "text/plain": [
       "<Figure size 1440x360 with 2 Axes>"
      ]
     },
     "metadata": {
      "needs_background": "light"
     },
     "output_type": "display_data"
    }
   ],
   "source": [
    "plt.rcParams[\"figure.figsize\"] = (20,5)\n",
    "fig, ax = plt.subplots(ncols=2)\n",
    "sns.countplot(x=train.loc[train.자격유형.isin(['D']), '공급유형'],palette=\"cool\",ax=ax[0]).set_title(\"train_D\")\n",
    "sns.countplot(x=test.loc[test.자격유형.isin(['D']), '공급유형'],ax=ax[1]).set_title(\"test_D\")"
   ]
  },
  {
   "cell_type": "markdown",
   "id": "b7db1806",
   "metadata": {},
   "source": [
    "## 행복주택"
   ]
  },
  {
   "cell_type": "code",
   "execution_count": 38,
   "id": "bfc65d87",
   "metadata": {},
   "outputs": [
    {
     "name": "stdout",
     "output_type": "stream",
     "text": [
      "행복주택    105\n",
      "Name: 공급유형, dtype: int64\n",
      "행복주택    81\n",
      "Name: 공급유형, dtype: int64\n"
     ]
    }
   ],
   "source": [
    "print(train.loc[train.자격유형.isin(['J']), '공급유형'].value_counts())\n",
    "print(test.loc[test.자격유형.isin(['J']), '공급유형'].value_counts())"
   ]
  },
  {
   "cell_type": "code",
   "execution_count": 39,
   "id": "2c5be023",
   "metadata": {},
   "outputs": [
    {
     "name": "stdout",
     "output_type": "stream",
     "text": [
      "행복주택    33\n",
      "Name: 공급유형, dtype: int64\n",
      "행복주택    16\n",
      "Name: 공급유형, dtype: int64\n"
     ]
    }
   ],
   "source": [
    "print(train.loc[train.자격유형.isin(['K']), '공급유형'].value_counts())\n",
    "print(test.loc[test.자격유형.isin(['K']), '공급유형'].value_counts())"
   ]
  },
  {
   "cell_type": "code",
   "execution_count": 40,
   "id": "5017fc1b",
   "metadata": {},
   "outputs": [
    {
     "name": "stdout",
     "output_type": "stream",
     "text": [
      "행복주택    33\n",
      "Name: 공급유형, dtype: int64\n",
      "행복주택    12\n",
      "Name: 공급유형, dtype: int64\n"
     ]
    }
   ],
   "source": [
    "print(train.loc[train.자격유형.isin(['L']), '공급유형'].value_counts())\n",
    "print(test.loc[test.자격유형.isin(['L']), '공급유형'].value_counts())"
   ]
  },
  {
   "cell_type": "code",
   "execution_count": 41,
   "id": "18bdd2b6",
   "metadata": {},
   "outputs": [
    {
     "name": "stdout",
     "output_type": "stream",
     "text": [
      "행복주택    2\n",
      "Name: 공급유형, dtype: int64\n",
      "행복주택    2\n",
      "Name: 공급유형, dtype: int64\n"
     ]
    }
   ],
   "source": [
    "print(train.loc[train.자격유형.isin(['M']), '공급유형'].value_counts())\n",
    "print(test.loc[test.자격유형.isin(['M']), '공급유형'].value_counts())"
   ]
  },
  {
   "cell_type": "code",
   "execution_count": 42,
   "id": "767e2853",
   "metadata": {},
   "outputs": [
    {
     "name": "stdout",
     "output_type": "stream",
     "text": [
      "행복주택    29\n",
      "Name: 공급유형, dtype: int64\n",
      "행복주택    10\n",
      "Name: 공급유형, dtype: int64\n"
     ]
    }
   ],
   "source": [
    "print(train.loc[train.자격유형.isin(['N']), '공급유형'].value_counts())\n",
    "print(test.loc[test.자격유형.isin(['N']), '공급유형'].value_counts())"
   ]
  },
  {
   "cell_type": "code",
   "execution_count": 43,
   "id": "ed348844",
   "metadata": {},
   "outputs": [
    {
     "name": "stdout",
     "output_type": "stream",
     "text": [
      "행복주택    1\n",
      "Name: 공급유형, dtype: int64\n",
      "Series([], Name: 공급유형, dtype: int64)\n"
     ]
    }
   ],
   "source": [
    "print(train.loc[train.자격유형.isin(['O']), '공급유형'].value_counts())\n",
    "print(test.loc[test.자격유형.isin(['O']), '공급유형'].value_counts())"
   ]
  },
  {
   "cell_type": "code",
   "execution_count": 44,
   "id": "3e4f98ae",
   "metadata": {},
   "outputs": [],
   "source": [
    "dic = {'1': 'A' ,'2':['B','E','G','H'],'3':['C','F','I'],'4':'D','5':['J','K','L','M','N','O']}"
   ]
  },
  {
   "cell_type": "code",
   "execution_count": 45,
   "id": "3424d525",
   "metadata": {},
   "outputs": [],
   "source": [
    "def category2(x):\n",
    "    for i in dic.keys():\n",
    "        if x in dic[i]:\n",
    "            return int(i)"
   ]
  },
  {
   "cell_type": "code",
   "execution_count": 46,
   "id": "659134d7",
   "metadata": {},
   "outputs": [],
   "source": [
    "train['자격유형_카테고리'] = train['자격유형'].apply(lambda x : category2(x))"
   ]
  },
  {
   "cell_type": "code",
   "execution_count": 47,
   "id": "fc762502",
   "metadata": {},
   "outputs": [],
   "source": [
    "train.자격유형_카테고리=train.자격유형_카테고리.astype(object)"
   ]
  },
  {
   "cell_type": "code",
   "execution_count": 48,
   "id": "7b6418cb",
   "metadata": {},
   "outputs": [
    {
     "data": {
      "text/html": [
       "<div>\n",
       "<style scoped>\n",
       "    .dataframe tbody tr th:only-of-type {\n",
       "        vertical-align: middle;\n",
       "    }\n",
       "\n",
       "    .dataframe tbody tr th {\n",
       "        vertical-align: top;\n",
       "    }\n",
       "\n",
       "    .dataframe thead th {\n",
       "        text-align: right;\n",
       "    }\n",
       "</style>\n",
       "<table border=\"1\" class=\"dataframe\">\n",
       "  <thead>\n",
       "    <tr style=\"text-align: right;\">\n",
       "      <th></th>\n",
       "      <th>단지코드</th>\n",
       "      <th>총세대수</th>\n",
       "      <th>임대건물구분</th>\n",
       "      <th>지역</th>\n",
       "      <th>공급유형</th>\n",
       "      <th>전용면적</th>\n",
       "      <th>전용면적별세대수</th>\n",
       "      <th>공가수</th>\n",
       "      <th>자격유형</th>\n",
       "      <th>임대보증금</th>\n",
       "      <th>임대료</th>\n",
       "      <th>지하철역</th>\n",
       "      <th>버스정류장</th>\n",
       "      <th>단지내주차면수</th>\n",
       "      <th>등록차량수</th>\n",
       "      <th>자격유형_카테고리</th>\n",
       "    </tr>\n",
       "  </thead>\n",
       "  <tbody>\n",
       "    <tr>\n",
       "      <th>0</th>\n",
       "      <td>C2483</td>\n",
       "      <td>900</td>\n",
       "      <td>아파트</td>\n",
       "      <td>경상북도</td>\n",
       "      <td>국민임대/장기전세</td>\n",
       "      <td>39.7200</td>\n",
       "      <td>134</td>\n",
       "      <td>38.0000</td>\n",
       "      <td>A</td>\n",
       "      <td>15,667,000.0000</td>\n",
       "      <td>103,680.0000</td>\n",
       "      <td>0.0000</td>\n",
       "      <td>3.0000</td>\n",
       "      <td>1,425.0000</td>\n",
       "      <td>1,015.0000</td>\n",
       "      <td>1</td>\n",
       "    </tr>\n",
       "    <tr>\n",
       "      <th>1</th>\n",
       "      <td>C2483</td>\n",
       "      <td>900</td>\n",
       "      <td>아파트</td>\n",
       "      <td>경상북도</td>\n",
       "      <td>국민임대/장기전세</td>\n",
       "      <td>39.7200</td>\n",
       "      <td>15</td>\n",
       "      <td>38.0000</td>\n",
       "      <td>A</td>\n",
       "      <td>15,667,000.0000</td>\n",
       "      <td>103,680.0000</td>\n",
       "      <td>0.0000</td>\n",
       "      <td>3.0000</td>\n",
       "      <td>1,425.0000</td>\n",
       "      <td>1,015.0000</td>\n",
       "      <td>1</td>\n",
       "    </tr>\n",
       "    <tr>\n",
       "      <th>2</th>\n",
       "      <td>C2483</td>\n",
       "      <td>900</td>\n",
       "      <td>아파트</td>\n",
       "      <td>경상북도</td>\n",
       "      <td>국민임대/장기전세</td>\n",
       "      <td>51.9300</td>\n",
       "      <td>385</td>\n",
       "      <td>38.0000</td>\n",
       "      <td>A</td>\n",
       "      <td>27,304,000.0000</td>\n",
       "      <td>184,330.0000</td>\n",
       "      <td>0.0000</td>\n",
       "      <td>3.0000</td>\n",
       "      <td>1,425.0000</td>\n",
       "      <td>1,015.0000</td>\n",
       "      <td>1</td>\n",
       "    </tr>\n",
       "    <tr>\n",
       "      <th>3</th>\n",
       "      <td>C2483</td>\n",
       "      <td>900</td>\n",
       "      <td>아파트</td>\n",
       "      <td>경상북도</td>\n",
       "      <td>국민임대/장기전세</td>\n",
       "      <td>51.9300</td>\n",
       "      <td>15</td>\n",
       "      <td>38.0000</td>\n",
       "      <td>A</td>\n",
       "      <td>27,304,000.0000</td>\n",
       "      <td>184,330.0000</td>\n",
       "      <td>0.0000</td>\n",
       "      <td>3.0000</td>\n",
       "      <td>1,425.0000</td>\n",
       "      <td>1,015.0000</td>\n",
       "      <td>1</td>\n",
       "    </tr>\n",
       "    <tr>\n",
       "      <th>4</th>\n",
       "      <td>C2483</td>\n",
       "      <td>900</td>\n",
       "      <td>아파트</td>\n",
       "      <td>경상북도</td>\n",
       "      <td>국민임대/장기전세</td>\n",
       "      <td>51.9300</td>\n",
       "      <td>41</td>\n",
       "      <td>38.0000</td>\n",
       "      <td>A</td>\n",
       "      <td>27,304,000.0000</td>\n",
       "      <td>184,330.0000</td>\n",
       "      <td>0.0000</td>\n",
       "      <td>3.0000</td>\n",
       "      <td>1,425.0000</td>\n",
       "      <td>1,015.0000</td>\n",
       "      <td>1</td>\n",
       "    </tr>\n",
       "  </tbody>\n",
       "</table>\n",
       "</div>"
      ],
      "text/plain": [
       "    단지코드  총세대수 임대건물구분    지역       공급유형    전용면적  전용면적별세대수     공가수 자격유형  \\\n",
       "0  C2483   900    아파트  경상북도  국민임대/장기전세 39.7200       134 38.0000    A   \n",
       "1  C2483   900    아파트  경상북도  국민임대/장기전세 39.7200        15 38.0000    A   \n",
       "2  C2483   900    아파트  경상북도  국민임대/장기전세 51.9300       385 38.0000    A   \n",
       "3  C2483   900    아파트  경상북도  국민임대/장기전세 51.9300        15 38.0000    A   \n",
       "4  C2483   900    아파트  경상북도  국민임대/장기전세 51.9300        41 38.0000    A   \n",
       "\n",
       "            임대보증금          임대료   지하철역  버스정류장    단지내주차면수      등록차량수 자격유형_카테고리  \n",
       "0 15,667,000.0000 103,680.0000 0.0000 3.0000 1,425.0000 1,015.0000         1  \n",
       "1 15,667,000.0000 103,680.0000 0.0000 3.0000 1,425.0000 1,015.0000         1  \n",
       "2 27,304,000.0000 184,330.0000 0.0000 3.0000 1,425.0000 1,015.0000         1  \n",
       "3 27,304,000.0000 184,330.0000 0.0000 3.0000 1,425.0000 1,015.0000         1  \n",
       "4 27,304,000.0000 184,330.0000 0.0000 3.0000 1,425.0000 1,015.0000         1  "
      ]
     },
     "execution_count": 48,
     "metadata": {},
     "output_type": "execute_result"
    }
   ],
   "source": [
    "train.head()"
   ]
  },
  {
   "cell_type": "code",
   "execution_count": 49,
   "id": "6904c5aa",
   "metadata": {},
   "outputs": [
    {
     "name": "stdout",
     "output_type": "stream",
     "text": [
      "<class 'pandas.core.frame.DataFrame'>\n",
      "Int64Index: 2632 entries, 0 to 2951\n",
      "Data columns (total 16 columns):\n",
      " #   Column     Non-Null Count  Dtype  \n",
      "---  ------     --------------  -----  \n",
      " 0   단지코드       2632 non-null   object \n",
      " 1   총세대수       2632 non-null   int64  \n",
      " 2   임대건물구분     2632 non-null   object \n",
      " 3   지역         2632 non-null   object \n",
      " 4   공급유형       2632 non-null   object \n",
      " 5   전용면적       2632 non-null   float64\n",
      " 6   전용면적별세대수   2632 non-null   int64  \n",
      " 7   공가수        2632 non-null   float64\n",
      " 8   자격유형       2632 non-null   object \n",
      " 9   임대보증금      2328 non-null   float64\n",
      " 10  임대료        2319 non-null   float64\n",
      " 11  지하철역       2477 non-null   float64\n",
      " 12  버스정류장      2628 non-null   float64\n",
      " 13  단지내주차면수    2632 non-null   float64\n",
      " 14  등록차량수      2632 non-null   float64\n",
      " 15  자격유형_카테고리  2632 non-null   object \n",
      "dtypes: float64(8), int64(2), object(6)\n",
      "memory usage: 349.6+ KB\n"
     ]
    }
   ],
   "source": [
    "train.info()"
   ]
  },
  {
   "cell_type": "code",
   "execution_count": 50,
   "id": "60c4a355",
   "metadata": {},
   "outputs": [],
   "source": [
    "test['자격유형_카테고리'] = test['자격유형'].apply(lambda x : category2(x))"
   ]
  },
  {
   "cell_type": "code",
   "execution_count": 51,
   "id": "9033ef3f",
   "metadata": {},
   "outputs": [],
   "source": [
    "test.자격유형_카테고리=test.자격유형_카테고리.astype(object)"
   ]
  },
  {
   "cell_type": "code",
   "execution_count": 52,
   "id": "ad725aab",
   "metadata": {
    "scrolled": true
   },
   "outputs": [
    {
     "data": {
      "text/html": [
       "<div>\n",
       "<style scoped>\n",
       "    .dataframe tbody tr th:only-of-type {\n",
       "        vertical-align: middle;\n",
       "    }\n",
       "\n",
       "    .dataframe tbody tr th {\n",
       "        vertical-align: top;\n",
       "    }\n",
       "\n",
       "    .dataframe thead th {\n",
       "        text-align: right;\n",
       "    }\n",
       "</style>\n",
       "<table border=\"1\" class=\"dataframe\">\n",
       "  <thead>\n",
       "    <tr style=\"text-align: right;\">\n",
       "      <th></th>\n",
       "      <th>단지코드</th>\n",
       "      <th>총세대수</th>\n",
       "      <th>임대건물구분</th>\n",
       "      <th>지역</th>\n",
       "      <th>공급유형</th>\n",
       "      <th>전용면적</th>\n",
       "      <th>전용면적별세대수</th>\n",
       "      <th>공가수</th>\n",
       "      <th>자격유형</th>\n",
       "      <th>임대보증금</th>\n",
       "      <th>임대료</th>\n",
       "      <th>지하철역</th>\n",
       "      <th>버스정류장</th>\n",
       "      <th>단지내주차면수</th>\n",
       "      <th>자격유형_카테고리</th>\n",
       "    </tr>\n",
       "  </thead>\n",
       "  <tbody>\n",
       "    <tr>\n",
       "      <th>0</th>\n",
       "      <td>C1072</td>\n",
       "      <td>754</td>\n",
       "      <td>아파트</td>\n",
       "      <td>경기도</td>\n",
       "      <td>국민임대/장기전세</td>\n",
       "      <td>39.7900</td>\n",
       "      <td>116</td>\n",
       "      <td>14.0000</td>\n",
       "      <td>H</td>\n",
       "      <td>22,830,000.0000</td>\n",
       "      <td>189,840.0000</td>\n",
       "      <td>0.0000</td>\n",
       "      <td>2.0000</td>\n",
       "      <td>683.0000</td>\n",
       "      <td>2</td>\n",
       "    </tr>\n",
       "    <tr>\n",
       "      <th>1</th>\n",
       "      <td>C1072</td>\n",
       "      <td>754</td>\n",
       "      <td>아파트</td>\n",
       "      <td>경기도</td>\n",
       "      <td>국민임대/장기전세</td>\n",
       "      <td>46.8100</td>\n",
       "      <td>30</td>\n",
       "      <td>14.0000</td>\n",
       "      <td>A</td>\n",
       "      <td>36,048,000.0000</td>\n",
       "      <td>249,930.0000</td>\n",
       "      <td>0.0000</td>\n",
       "      <td>2.0000</td>\n",
       "      <td>683.0000</td>\n",
       "      <td>1</td>\n",
       "    </tr>\n",
       "    <tr>\n",
       "      <th>2</th>\n",
       "      <td>C1072</td>\n",
       "      <td>754</td>\n",
       "      <td>아파트</td>\n",
       "      <td>경기도</td>\n",
       "      <td>국민임대/장기전세</td>\n",
       "      <td>46.9000</td>\n",
       "      <td>112</td>\n",
       "      <td>14.0000</td>\n",
       "      <td>H</td>\n",
       "      <td>36,048,000.0000</td>\n",
       "      <td>249,930.0000</td>\n",
       "      <td>0.0000</td>\n",
       "      <td>2.0000</td>\n",
       "      <td>683.0000</td>\n",
       "      <td>2</td>\n",
       "    </tr>\n",
       "    <tr>\n",
       "      <th>3</th>\n",
       "      <td>C1072</td>\n",
       "      <td>754</td>\n",
       "      <td>아파트</td>\n",
       "      <td>경기도</td>\n",
       "      <td>국민임대/장기전세</td>\n",
       "      <td>46.9000</td>\n",
       "      <td>120</td>\n",
       "      <td>14.0000</td>\n",
       "      <td>H</td>\n",
       "      <td>36,048,000.0000</td>\n",
       "      <td>249,930.0000</td>\n",
       "      <td>0.0000</td>\n",
       "      <td>2.0000</td>\n",
       "      <td>683.0000</td>\n",
       "      <td>2</td>\n",
       "    </tr>\n",
       "    <tr>\n",
       "      <th>4</th>\n",
       "      <td>C1072</td>\n",
       "      <td>754</td>\n",
       "      <td>아파트</td>\n",
       "      <td>경기도</td>\n",
       "      <td>국민임대/장기전세</td>\n",
       "      <td>51.4600</td>\n",
       "      <td>60</td>\n",
       "      <td>14.0000</td>\n",
       "      <td>H</td>\n",
       "      <td>43,497,000.0000</td>\n",
       "      <td>296,780.0000</td>\n",
       "      <td>0.0000</td>\n",
       "      <td>2.0000</td>\n",
       "      <td>683.0000</td>\n",
       "      <td>2</td>\n",
       "    </tr>\n",
       "  </tbody>\n",
       "</table>\n",
       "</div>"
      ],
      "text/plain": [
       "    단지코드  총세대수 임대건물구분   지역       공급유형    전용면적  전용면적별세대수     공가수 자격유형  \\\n",
       "0  C1072   754    아파트  경기도  국민임대/장기전세 39.7900       116 14.0000    H   \n",
       "1  C1072   754    아파트  경기도  국민임대/장기전세 46.8100        30 14.0000    A   \n",
       "2  C1072   754    아파트  경기도  국민임대/장기전세 46.9000       112 14.0000    H   \n",
       "3  C1072   754    아파트  경기도  국민임대/장기전세 46.9000       120 14.0000    H   \n",
       "4  C1072   754    아파트  경기도  국민임대/장기전세 51.4600        60 14.0000    H   \n",
       "\n",
       "            임대보증금          임대료   지하철역  버스정류장  단지내주차면수 자격유형_카테고리  \n",
       "0 22,830,000.0000 189,840.0000 0.0000 2.0000 683.0000         2  \n",
       "1 36,048,000.0000 249,930.0000 0.0000 2.0000 683.0000         1  \n",
       "2 36,048,000.0000 249,930.0000 0.0000 2.0000 683.0000         2  \n",
       "3 36,048,000.0000 249,930.0000 0.0000 2.0000 683.0000         2  \n",
       "4 43,497,000.0000 296,780.0000 0.0000 2.0000 683.0000         2  "
      ]
     },
     "execution_count": 52,
     "metadata": {},
     "output_type": "execute_result"
    }
   ],
   "source": [
    "test.head()"
   ]
  },
  {
   "cell_type": "code",
   "execution_count": 53,
   "id": "f7a9ea5a",
   "metadata": {},
   "outputs": [
    {
     "name": "stdout",
     "output_type": "stream",
     "text": [
      "<class 'pandas.core.frame.DataFrame'>\n",
      "Int64Index: 949 entries, 0 to 1021\n",
      "Data columns (total 15 columns):\n",
      " #   Column     Non-Null Count  Dtype  \n",
      "---  ------     --------------  -----  \n",
      " 0   단지코드       949 non-null    object \n",
      " 1   총세대수       949 non-null    int64  \n",
      " 2   임대건물구분     949 non-null    object \n",
      " 3   지역         949 non-null    object \n",
      " 4   공급유형       949 non-null    object \n",
      " 5   전용면적       949 non-null    float64\n",
      " 6   전용면적별세대수   949 non-null    int64  \n",
      " 7   공가수        949 non-null    float64\n",
      " 8   자격유형       949 non-null    object \n",
      " 9   임대보증금      829 non-null    float64\n",
      " 10  임대료        829 non-null    float64\n",
      " 11  지하철역       915 non-null    float64\n",
      " 12  버스정류장      949 non-null    float64\n",
      " 13  단지내주차면수    949 non-null    float64\n",
      " 14  자격유형_카테고리  949 non-null    object \n",
      "dtypes: float64(7), int64(2), object(6)\n",
      "memory usage: 118.6+ KB\n"
     ]
    }
   ],
   "source": [
    "test.info()"
   ]
  },
  {
   "cell_type": "code",
   "execution_count": 54,
   "id": "f59b3620",
   "metadata": {},
   "outputs": [
    {
     "data": {
      "text/plain": [
       "Text(0.5, 1.0, 'Test')"
      ]
     },
     "execution_count": 54,
     "metadata": {},
     "output_type": "execute_result"
    },
    {
     "data": {
      "image/png": "[encoded data removed]",
      "text/plain": [
       "<Figure size 1440x360 with 2 Axes>"
      ]
     },
     "metadata": {
      "needs_background": "light"
     },
     "output_type": "display_data"
    }
   ],
   "source": [
    "plt.rcParams[\"figure.figsize\"] = (20,5)\n",
    "fig, ax = plt.subplots(ncols=2)\n",
    "sns.countplot(x=train.자격유형_카테고리,palette=\"cool\",ax=ax[0]).set_title(\"Train\")\n",
    "sns.countplot(x=test.자격유형_카테고리,ax=ax[1]).set_title(\"Test\")"
   ]
  },
  {
   "cell_type": "markdown",
   "id": "e0e3e8a4",
   "metadata": {},
   "source": [
    "### 임대건물구분\n",
    "▶상가만 있는 단지는 X\n",
    "\n",
    "▶<font color=\"red\">상가비율 column 추가</font> <br>"
   ]
  },
  {
   "cell_type": "markdown",
   "id": "9f7b2d63",
   "metadata": {},
   "source": [
    "#### 상가비율\n",
    "상가비율에 따라 상업용/주거용 단지 구분 가능\n",
    "- train set"
   ]
  },
  {
   "cell_type": "code",
   "execution_count": 55,
   "id": "5b96193c",
   "metadata": {},
   "outputs": [
    {
     "data": {
      "text/html": [
       "<div>\n",
       "<style scoped>\n",
       "    .dataframe tbody tr th:only-of-type {\n",
       "        vertical-align: middle;\n",
       "    }\n",
       "\n",
       "    .dataframe tbody tr th {\n",
       "        vertical-align: top;\n",
       "    }\n",
       "\n",
       "    .dataframe thead th {\n",
       "        text-align: right;\n",
       "    }\n",
       "</style>\n",
       "<table border=\"1\" class=\"dataframe\">\n",
       "  <thead>\n",
       "    <tr style=\"text-align: right;\">\n",
       "      <th></th>\n",
       "      <th>임대건물구분_상가</th>\n",
       "      <th>임대건물구분_아파트</th>\n",
       "    </tr>\n",
       "    <tr>\n",
       "      <th>단지코드</th>\n",
       "      <th></th>\n",
       "      <th></th>\n",
       "    </tr>\n",
       "  </thead>\n",
       "  <tbody>\n",
       "  </tbody>\n",
       "</table>\n",
       "</div>"
      ],
      "text/plain": [
       "Empty DataFrame\n",
       "Columns: [임대건물구분_상가, 임대건물구분_아파트]\n",
       "Index: []"
      ]
     },
     "execution_count": 55,
     "metadata": {},
     "output_type": "execute_result"
    }
   ],
   "source": [
    "train_cls = pd.concat([train[['단지코드']], pd.get_dummies(train[['임대건물구분']])], axis=1).groupby('단지코드').sum()\n",
    "train_cls.loc[train_cls.임대건물구분_아파트==0,]\n",
    "# 아파트가 없는 단지는 없다."
   ]
  },
  {
   "cell_type": "code",
   "execution_count": 56,
   "id": "3b30fe43",
   "metadata": {},
   "outputs": [
    {
     "data": {
      "text/html": [
       "<div>\n",
       "<style scoped>\n",
       "    .dataframe tbody tr th:only-of-type {\n",
       "        vertical-align: middle;\n",
       "    }\n",
       "\n",
       "    .dataframe tbody tr th {\n",
       "        vertical-align: top;\n",
       "    }\n",
       "\n",
       "    .dataframe thead th {\n",
       "        text-align: right;\n",
       "    }\n",
       "</style>\n",
       "<table border=\"1\" class=\"dataframe\">\n",
       "  <thead>\n",
       "    <tr style=\"text-align: right;\">\n",
       "      <th></th>\n",
       "      <th>임대건물구분_상가</th>\n",
       "      <th>임대건물구분_아파트</th>\n",
       "      <th>상가비율</th>\n",
       "    </tr>\n",
       "    <tr>\n",
       "      <th>단지코드</th>\n",
       "      <th></th>\n",
       "      <th></th>\n",
       "      <th></th>\n",
       "    </tr>\n",
       "  </thead>\n",
       "  <tbody>\n",
       "    <tr>\n",
       "      <th>C1000</th>\n",
       "      <td>0</td>\n",
       "      <td>7</td>\n",
       "      <td>0.0000</td>\n",
       "    </tr>\n",
       "    <tr>\n",
       "      <th>C1004</th>\n",
       "      <td>13</td>\n",
       "      <td>2</td>\n",
       "      <td>0.8667</td>\n",
       "    </tr>\n",
       "    <tr>\n",
       "      <th>C1005</th>\n",
       "      <td>0</td>\n",
       "      <td>3</td>\n",
       "      <td>0.0000</td>\n",
       "    </tr>\n",
       "    <tr>\n",
       "      <th>C1013</th>\n",
       "      <td>0</td>\n",
       "      <td>5</td>\n",
       "      <td>0.0000</td>\n",
       "    </tr>\n",
       "    <tr>\n",
       "      <th>C1014</th>\n",
       "      <td>0</td>\n",
       "      <td>7</td>\n",
       "      <td>0.0000</td>\n",
       "    </tr>\n",
       "  </tbody>\n",
       "</table>\n",
       "</div>"
      ],
      "text/plain": [
       "       임대건물구분_상가  임대건물구분_아파트   상가비율\n",
       "단지코드                               \n",
       "C1000          0           7 0.0000\n",
       "C1004         13           2 0.8667\n",
       "C1005          0           3 0.0000\n",
       "C1013          0           5 0.0000\n",
       "C1014          0           7 0.0000"
      ]
     },
     "execution_count": 56,
     "metadata": {},
     "output_type": "execute_result"
    }
   ],
   "source": [
    "tot = train_cls['임대건물구분_상가']+train_cls['임대건물구분_아파트']\n",
    "train_cls['상가비율'] = train_cls['임대건물구분_상가']/tot\n",
    "train_cls.head()"
   ]
  },
  {
   "cell_type": "code",
   "execution_count": 57,
   "id": "48778dc3",
   "metadata": {},
   "outputs": [
    {
     "data": {
      "text/html": [
       "<div>\n",
       "<style scoped>\n",
       "    .dataframe tbody tr th:only-of-type {\n",
       "        vertical-align: middle;\n",
       "    }\n",
       "\n",
       "    .dataframe tbody tr th {\n",
       "        vertical-align: top;\n",
       "    }\n",
       "\n",
       "    .dataframe thead th {\n",
       "        text-align: right;\n",
       "    }\n",
       "</style>\n",
       "<table border=\"1\" class=\"dataframe\">\n",
       "  <thead>\n",
       "    <tr style=\"text-align: right;\">\n",
       "      <th></th>\n",
       "      <th>단지코드</th>\n",
       "      <th>총세대수</th>\n",
       "      <th>임대건물구분</th>\n",
       "      <th>지역</th>\n",
       "      <th>공급유형</th>\n",
       "      <th>전용면적</th>\n",
       "      <th>전용면적별세대수</th>\n",
       "      <th>공가수</th>\n",
       "      <th>자격유형</th>\n",
       "      <th>임대보증금</th>\n",
       "      <th>임대료</th>\n",
       "      <th>지하철역</th>\n",
       "      <th>버스정류장</th>\n",
       "      <th>단지내주차면수</th>\n",
       "      <th>등록차량수</th>\n",
       "      <th>자격유형_카테고리</th>\n",
       "      <th>상가비율</th>\n",
       "    </tr>\n",
       "  </thead>\n",
       "  <tbody>\n",
       "    <tr>\n",
       "      <th>0</th>\n",
       "      <td>C2483</td>\n",
       "      <td>900</td>\n",
       "      <td>아파트</td>\n",
       "      <td>경상북도</td>\n",
       "      <td>국민임대/장기전세</td>\n",
       "      <td>39.7200</td>\n",
       "      <td>134</td>\n",
       "      <td>38.0000</td>\n",
       "      <td>A</td>\n",
       "      <td>15,667,000.0000</td>\n",
       "      <td>103,680.0000</td>\n",
       "      <td>0.0000</td>\n",
       "      <td>3.0000</td>\n",
       "      <td>1,425.0000</td>\n",
       "      <td>1,015.0000</td>\n",
       "      <td>1</td>\n",
       "      <td>0.0000</td>\n",
       "    </tr>\n",
       "    <tr>\n",
       "      <th>1</th>\n",
       "      <td>C2483</td>\n",
       "      <td>900</td>\n",
       "      <td>아파트</td>\n",
       "      <td>경상북도</td>\n",
       "      <td>국민임대/장기전세</td>\n",
       "      <td>39.7200</td>\n",
       "      <td>15</td>\n",
       "      <td>38.0000</td>\n",
       "      <td>A</td>\n",
       "      <td>15,667,000.0000</td>\n",
       "      <td>103,680.0000</td>\n",
       "      <td>0.0000</td>\n",
       "      <td>3.0000</td>\n",
       "      <td>1,425.0000</td>\n",
       "      <td>1,015.0000</td>\n",
       "      <td>1</td>\n",
       "      <td>0.0000</td>\n",
       "    </tr>\n",
       "    <tr>\n",
       "      <th>2</th>\n",
       "      <td>C2483</td>\n",
       "      <td>900</td>\n",
       "      <td>아파트</td>\n",
       "      <td>경상북도</td>\n",
       "      <td>국민임대/장기전세</td>\n",
       "      <td>51.9300</td>\n",
       "      <td>385</td>\n",
       "      <td>38.0000</td>\n",
       "      <td>A</td>\n",
       "      <td>27,304,000.0000</td>\n",
       "      <td>184,330.0000</td>\n",
       "      <td>0.0000</td>\n",
       "      <td>3.0000</td>\n",
       "      <td>1,425.0000</td>\n",
       "      <td>1,015.0000</td>\n",
       "      <td>1</td>\n",
       "      <td>0.0000</td>\n",
       "    </tr>\n",
       "    <tr>\n",
       "      <th>3</th>\n",
       "      <td>C2483</td>\n",
       "      <td>900</td>\n",
       "      <td>아파트</td>\n",
       "      <td>경상북도</td>\n",
       "      <td>국민임대/장기전세</td>\n",
       "      <td>51.9300</td>\n",
       "      <td>15</td>\n",
       "      <td>38.0000</td>\n",
       "      <td>A</td>\n",
       "      <td>27,304,000.0000</td>\n",
       "      <td>184,330.0000</td>\n",
       "      <td>0.0000</td>\n",
       "      <td>3.0000</td>\n",
       "      <td>1,425.0000</td>\n",
       "      <td>1,015.0000</td>\n",
       "      <td>1</td>\n",
       "      <td>0.0000</td>\n",
       "    </tr>\n",
       "    <tr>\n",
       "      <th>4</th>\n",
       "      <td>C2483</td>\n",
       "      <td>900</td>\n",
       "      <td>아파트</td>\n",
       "      <td>경상북도</td>\n",
       "      <td>국민임대/장기전세</td>\n",
       "      <td>51.9300</td>\n",
       "      <td>41</td>\n",
       "      <td>38.0000</td>\n",
       "      <td>A</td>\n",
       "      <td>27,304,000.0000</td>\n",
       "      <td>184,330.0000</td>\n",
       "      <td>0.0000</td>\n",
       "      <td>3.0000</td>\n",
       "      <td>1,425.0000</td>\n",
       "      <td>1,015.0000</td>\n",
       "      <td>1</td>\n",
       "      <td>0.0000</td>\n",
       "    </tr>\n",
       "  </tbody>\n",
       "</table>\n",
       "</div>"
      ],
      "text/plain": [
       "    단지코드  총세대수 임대건물구분    지역       공급유형    전용면적  전용면적별세대수     공가수 자격유형  \\\n",
       "0  C2483   900    아파트  경상북도  국민임대/장기전세 39.7200       134 38.0000    A   \n",
       "1  C2483   900    아파트  경상북도  국민임대/장기전세 39.7200        15 38.0000    A   \n",
       "2  C2483   900    아파트  경상북도  국민임대/장기전세 51.9300       385 38.0000    A   \n",
       "3  C2483   900    아파트  경상북도  국민임대/장기전세 51.9300        15 38.0000    A   \n",
       "4  C2483   900    아파트  경상북도  국민임대/장기전세 51.9300        41 38.0000    A   \n",
       "\n",
       "            임대보증금          임대료   지하철역  버스정류장    단지내주차면수      등록차량수 자격유형_카테고리  \\\n",
       "0 15,667,000.0000 103,680.0000 0.0000 3.0000 1,425.0000 1,015.0000         1   \n",
       "1 15,667,000.0000 103,680.0000 0.0000 3.0000 1,425.0000 1,015.0000         1   \n",
       "2 27,304,000.0000 184,330.0000 0.0000 3.0000 1,425.0000 1,015.0000         1   \n",
       "3 27,304,000.0000 184,330.0000 0.0000 3.0000 1,425.0000 1,015.0000         1   \n",
       "4 27,304,000.0000 184,330.0000 0.0000 3.0000 1,425.0000 1,015.0000         1   \n",
       "\n",
       "    상가비율  \n",
       "0 0.0000  \n",
       "1 0.0000  \n",
       "2 0.0000  \n",
       "3 0.0000  \n",
       "4 0.0000  "
      ]
     },
     "execution_count": 57,
     "metadata": {},
     "output_type": "execute_result"
    }
   ],
   "source": [
    "train = pd.merge(train,train_cls[['상가비율']].reset_index(),on='단지코드')\n",
    "train.head()"
   ]
  },
  {
   "cell_type": "markdown",
   "id": "31b9fca6",
   "metadata": {},
   "source": [
    "- test set"
   ]
  },
  {
   "cell_type": "code",
   "execution_count": 58,
   "id": "6341bdeb",
   "metadata": {},
   "outputs": [],
   "source": [
    "test_cls = pd.concat([test[['단지코드']], pd.get_dummies(test[['임대건물구분']])], axis=1).groupby('단지코드').sum()\n",
    "tot = test_cls['임대건물구분_상가']+test_cls['임대건물구분_아파트']\n",
    "test_cls['상가비율'] = test_cls['임대건물구분_상가']/tot\n",
    "test = pd.merge(test,test_cls[['상가비율']].reset_index(),on='단지코드')"
   ]
  },
  {
   "cell_type": "markdown",
   "id": "4a177b72",
   "metadata": {},
   "source": [
    "**numerical feature**\n",
    "- 임대료 & 임대보증금\n",
    "- 총세대수& 전용면적별세대수\n",
    "- 공가수\n",
    "- 지하철역 & 버스정류장\n",
    "- 단지내주차면수\n",
    "- 전용면적\n",
    "- 등록차량수\n",
    "\n",
    "### 임대료 & 임대보증금 \n",
    "▶ train set에서 임대보증금만 NA인 건물은 9개 <br>\n",
    "그 외에는 임대료 & 임대보증금 모두 NA\n",
    "\n",
    "▶ test set에서 임대료가 NA인 건물은 임대보증금이 NA인 건물과 동일\n",
    "\n",
    "▶ <font color=\"red\">공공분양은 0으로 대체</font> \n",
    "\n",
    "▶ 지역별 가중치 <br>\n",
    "ex: 강원도같은 경우는 평균치를 넣고 서울은 이것의 1.5배로 설정"
   ]
  },
  {
   "cell_type": "code",
   "execution_count": 59,
   "id": "ff7b85f5",
   "metadata": {},
   "outputs": [
    {
     "name": "stdout",
     "output_type": "stream",
     "text": [
      "NA check\n",
      "임대보증금 304 -> 11.55 %\n",
      "임대료 313 -> 11.892 %\n",
      "지하철역 155 -> 5.889 %\n",
      "버스정류장 4 -> 0.152 %\n",
      "NA check\n",
      "임대보증금 120 -> 12.645 %\n",
      "임대료 120 -> 12.645 %\n",
      "지하철역 34 -> 3.583 %\n"
     ]
    }
   ],
   "source": [
    "check_NA(train)\n",
    "check_NA(test)"
   ]
  },
  {
   "cell_type": "code",
   "execution_count": 60,
   "id": "45840f24",
   "metadata": {},
   "outputs": [
    {
     "data": {
      "text/plain": [
       "0"
      ]
     },
     "execution_count": 60,
     "metadata": {},
     "output_type": "execute_result"
    }
   ],
   "source": [
    "sum(test.loc[test.임대료.isna(),:].index!=test.loc[test.임대보증금.isna(),:].index)"
   ]
  },
  {
   "cell_type": "markdown",
   "id": "f509f2ff",
   "metadata": {},
   "source": [
    "#### NA imputation\n",
    "▶ 공공분양은 0으로 대체"
   ]
  },
  {
   "cell_type": "code",
   "execution_count": 61,
   "id": "4d999163",
   "metadata": {},
   "outputs": [],
   "source": [
    "train.loc[(train.임대료.isna())&(train.공급유형==\"공공분양\"),'임대료'] = 0\n",
    "train.loc[(train.임대보증금.isna())&(train.공급유형==\"공공분양\"),'임대보증금'] = 0"
   ]
  },
  {
   "cell_type": "markdown",
   "id": "e6cfe4b4",
   "metadata": {},
   "source": [
    "▶ 동일한 단지코드인 아파트 임대료, 임대보증금 평균 값을 사용해서 NA imputation\n",
    "\n",
    "cf.) 다른 외부 데이터를 이용해서 주상복합에 속한 아파트, 상가의 보증금 관계를 살펴보는 것도 하나의 방법\n",
    "\n",
    "- train set\n",
    "\n",
    "**Step 1. 단지코드별 평균으로 대체<font>**"
   ]
  },
  {
   "cell_type": "code",
   "execution_count": 62,
   "id": "ff1192b5",
   "metadata": {},
   "outputs": [
    {
     "name": "stdout",
     "output_type": "stream",
     "text": [
      "NA check\n",
      "임대보증금 304 -> 11.55 %\n",
      "임대료 313 -> 11.892 %\n",
      "지하철역 155 -> 5.889 %\n",
      "버스정류장 4 -> 0.152 %\n"
     ]
    }
   ],
   "source": [
    "check_NA(train)"
   ]
  },
  {
   "cell_type": "code",
   "execution_count": 63,
   "id": "5fb096fe",
   "metadata": {},
   "outputs": [],
   "source": [
    "def get_values(data, code, col):\n",
    "    df = data[(data['단지코드']==code)&(data[col].isna()==False)]\n",
    "    return df[col].values.mean()"
   ]
  },
  {
   "cell_type": "code",
   "execution_count": 64,
   "id": "c5796a66",
   "metadata": {},
   "outputs": [],
   "source": [
    "def impute_by_code(data, col):\n",
    "    code = data[data[col].isna()==True]['단지코드'].unique()\n",
    "    print(f\"{col}에 NA가 있는 단지코드: {code}\")\n",
    "    print(f\"{col}이(가) 모두 NA인 단지코드:\")\n",
    "    for i in code:\n",
    "        n = data[(data['단지코드']==i)&(data[col].isna()==False)].shape[0]\n",
    "        ind = data[(data['단지코드']==i)&(data[col].isna()==True)].index\n",
    "        if n==0 :\n",
    "            print(i)\n",
    "        if n != 0 :\n",
    "            data.loc[ind,col] = get_values(data, i, col)\n",
    "    return data"
   ]
  },
  {
   "cell_type": "code",
   "execution_count": 65,
   "id": "32fda663",
   "metadata": {},
   "outputs": [
    {
     "name": "stdout",
     "output_type": "stream",
     "text": [
      "임대료에 NA가 있는 단지코드: ['C1925' 'C1874' 'C2416' 'C2621' 'C1616' 'C1704' 'C2258' 'C2038' 'C1859'\n",
      " 'C1722' 'C2190' 'C1476' 'C1983' 'C2135' 'C2034' 'C1109' 'C2289' 'C2597'\n",
      " 'C2310' 'C2132' 'C1439' 'C1899' 'C1056' 'C2644' 'C1206' 'C1775' 'C1790'\n",
      " 'C2109' 'C1698' 'C1004' 'C1875' 'C2212' 'C2571' 'C1397' 'C1039' 'C1350'\n",
      " 'C1326' 'C1786' 'C2186']\n",
      "임대료이(가) 모두 NA인 단지코드:\n",
      "C1397\n",
      "C1326\n"
     ]
    }
   ],
   "source": [
    "# 임대료 NA impute\n",
    "train = impute_by_code(train, '임대료')"
   ]
  },
  {
   "cell_type": "code",
   "execution_count": 66,
   "id": "1270cdf9",
   "metadata": {},
   "outputs": [
    {
     "name": "stdout",
     "output_type": "stream",
     "text": [
      "임대보증금에 NA가 있는 단지코드: ['C1925' 'C1874' 'C2416' 'C2621' 'C1616' 'C1704' 'C2258' 'C2038' 'C1859'\n",
      " 'C1722' 'C2190' 'C1476' 'C1983' 'C2135' 'C2034' 'C1109' 'C2289' 'C2597'\n",
      " 'C2310' 'C2132' 'C1439' 'C1899' 'C1056' 'C2644' 'C1206' 'C1775' 'C1790'\n",
      " 'C2109' 'C1698' 'C1004' 'C1875' 'C2212' 'C2571' 'C1350' 'C1326' 'C1786'\n",
      " 'C2186']\n",
      "임대보증금이(가) 모두 NA인 단지코드:\n",
      "C1326\n"
     ]
    }
   ],
   "source": [
    "# 임대보증금 NA impute\n",
    "train = impute_by_code(train, '임대보증금')"
   ]
  },
  {
   "cell_type": "code",
   "execution_count": 67,
   "id": "6d4e7717",
   "metadata": {},
   "outputs": [
    {
     "name": "stdout",
     "output_type": "stream",
     "text": [
      "NA check\n",
      "임대보증금 5 -> 0.19 %\n",
      "임대료 11 -> 0.418 %\n",
      "지하철역 155 -> 5.889 %\n",
      "버스정류장 4 -> 0.152 %\n"
     ]
    }
   ],
   "source": [
    "check_NA(train)"
   ]
  },
  {
   "cell_type": "markdown",
   "id": "c404fa55",
   "metadata": {},
   "source": [
    "**Step2. 모두 NA인 경우 해당 단지코드의 지역과 공급유형이 동일한 단지코드의 평균으로 대체**"
   ]
  },
  {
   "cell_type": "code",
   "execution_count": 68,
   "id": "9127ba40",
   "metadata": {},
   "outputs": [
    {
     "data": {
      "text/plain": [
       "array(['부산광역시', '국민임대/장기전세'], dtype=object)"
      ]
     },
     "execution_count": 68,
     "metadata": {},
     "output_type": "execute_result"
    }
   ],
   "source": [
    "train[train['단지코드']=='C1326'][['지역','공급유형']].values[0]"
   ]
  },
  {
   "cell_type": "code",
   "execution_count": 69,
   "id": "eb4402ff",
   "metadata": {},
   "outputs": [
    {
     "data": {
      "text/plain": [
       "array(['서울특별시', '국민임대/장기전세'], dtype=object)"
      ]
     },
     "execution_count": 69,
     "metadata": {},
     "output_type": "execute_result"
    }
   ],
   "source": [
    "train[train['단지코드']=='C1397'][['지역','공급유형']].values[0]"
   ]
  },
  {
   "cell_type": "code",
   "execution_count": 70,
   "id": "06edb5eb",
   "metadata": {},
   "outputs": [],
   "source": [
    "# C1326\n",
    "m = train[(train['지역']=='서울특별시')&(train['공급유형']=='국민임대/장기전세')&(train['임대료'].isna()==False)]['임대료'].values.mean()\n",
    "train.loc[train['단지코드']=='C1397','임대료'] = m\n",
    "# C1397\n",
    "m1 = train[(train['지역']=='부산광역시')&(train['공급유형']=='국민임대/장기전세')&(train['임대료'].isna()==False)]['임대료'].values.mean()\n",
    "m2 = train[(train['지역']=='부산광역시')&(train['공급유형']=='국민임대/장기전세')&(train['임대보증금'].isna()==False)]['임대보증금'].values.mean()\n",
    "train.loc[train['단지코드']=='C1326','임대료'] = m1\n",
    "train.loc[train['단지코드']=='C1326','임대보증금'] = m2"
   ]
  },
  {
   "cell_type": "code",
   "execution_count": 71,
   "id": "e2dcb141",
   "metadata": {},
   "outputs": [
    {
     "name": "stdout",
     "output_type": "stream",
     "text": [
      "NA check\n",
      "지하철역 155 -> 5.889 %\n",
      "버스정류장 4 -> 0.152 %\n"
     ]
    }
   ],
   "source": [
    "check_NA(train)"
   ]
  },
  {
   "cell_type": "markdown",
   "id": "0bd69c69",
   "metadata": {},
   "source": [
    "- test set"
   ]
  },
  {
   "cell_type": "code",
   "execution_count": 72,
   "id": "567eab00",
   "metadata": {},
   "outputs": [
    {
     "name": "stdout",
     "output_type": "stream",
     "text": [
      "NA check\n",
      "임대보증금 120 -> 12.645 %\n",
      "임대료 120 -> 12.645 %\n",
      "지하철역 34 -> 3.583 %\n"
     ]
    }
   ],
   "source": [
    "check_NA(test)"
   ]
  },
  {
   "cell_type": "code",
   "execution_count": 73,
   "id": "8693cf5e",
   "metadata": {},
   "outputs": [
    {
     "name": "stdout",
     "output_type": "stream",
     "text": [
      "임대료에 NA가 있는 단지코드: ['C1006' 'C2676' 'C2177' 'C2033' 'C1812' 'C2253' 'C1729' 'C2152' 'C1267']\n",
      "임대료이(가) 모두 NA인 단지코드:\n",
      "C2152\n"
     ]
    }
   ],
   "source": [
    "# 임대료 NA impute\n",
    "test = impute_by_code(test, '임대료')"
   ]
  },
  {
   "cell_type": "code",
   "execution_count": 74,
   "id": "fd7e002e",
   "metadata": {},
   "outputs": [
    {
     "name": "stdout",
     "output_type": "stream",
     "text": [
      "임대보증금에 NA가 있는 단지코드: ['C1006' 'C2676' 'C2177' 'C2033' 'C1812' 'C2253' 'C1729' 'C2152' 'C1267']\n",
      "임대보증금이(가) 모두 NA인 단지코드:\n",
      "C2152\n"
     ]
    }
   ],
   "source": [
    "# 임대보증금 NA impute\n",
    "test = impute_by_code(test, '임대보증금')"
   ]
  },
  {
   "cell_type": "code",
   "execution_count": 75,
   "id": "038ef30f",
   "metadata": {},
   "outputs": [
    {
     "data": {
      "text/plain": [
       "array(['강원도', '영구임대'], dtype=object)"
      ]
     },
     "execution_count": 75,
     "metadata": {},
     "output_type": "execute_result"
    }
   ],
   "source": [
    "test[test['단지코드']=='C2152'][['지역','공급유형']].values[0]"
   ]
  },
  {
   "cell_type": "code",
   "execution_count": 76,
   "id": "2a316c50",
   "metadata": {},
   "outputs": [],
   "source": [
    "# C2152\n",
    "m = test[(test['지역']=='강원도')&(test['공급유형']=='영구임대')&(test['임대료'].isna()==False)]['임대료'].values.mean()\n",
    "test.loc[test['단지코드']=='C2152','임대료'] = m\n",
    "test.loc[test['단지코드']=='C2152','임대보증금'] = m"
   ]
  },
  {
   "cell_type": "code",
   "execution_count": 77,
   "id": "409af417",
   "metadata": {},
   "outputs": [
    {
     "name": "stdout",
     "output_type": "stream",
     "text": [
      "NA check\n",
      "지하철역 34 -> 3.583 %\n"
     ]
    }
   ],
   "source": [
    "check_NA(test)"
   ]
  },
  {
   "cell_type": "markdown",
   "id": "dcf7bc28",
   "metadata": {},
   "source": [
    "## 총세대수 & 전용면적별세대수\n",
    "- 전용면적별세대수 = '임대'아파트 \n",
    "- 총세대수 = '임대'아파트 + '분양'아파트\n",
    "\n",
    "▶임대아파트가 분양되거나 단지 내 상가가 분양된 경우 전용면적별세대수의 합과 총세대수가 분양된 수만큼 차이가 남\n",
    "\n",
    "▶분양세대수 column 추가? - X"
   ]
  },
  {
   "cell_type": "markdown",
   "id": "862b5445",
   "metadata": {},
   "source": [
    "### 단지내주차면수\n",
    "target과의 correlation이 높은 변수"
   ]
  },
  {
   "cell_type": "code",
   "execution_count": 78,
   "id": "65ae71b0",
   "metadata": {
    "scrolled": true
   },
   "outputs": [
    {
     "data": {
      "text/plain": [
       "등록차량수      1.0000\n",
       "단지내주차면수    0.8513\n",
       "임대료        0.4628\n",
       "총세대수       0.4237\n",
       "상가비율       0.4031\n",
       "임대보증금      0.3821\n",
       "전용면적별세대수   0.1889\n",
       "버스정류장      0.1193\n",
       "공가수        0.0955\n",
       "전용면적       0.0811\n",
       "지하철역       0.0778\n",
       "Name: 등록차량수, dtype: float64"
      ]
     },
     "execution_count": 78,
     "metadata": {},
     "output_type": "execute_result"
    }
   ],
   "source": [
    "train.corr()[\"등록차량수\"].abs().sort_values(ascending=False)"
   ]
  },
  {
   "cell_type": "markdown",
   "id": "f9ef23d7",
   "metadata": {},
   "source": [
    "# 주차면수 대체변수: 1세대당 가능 주차면수(NEW)\n",
    "\n",
    "- 임대주택 만들 때 세대수를 정하고서 주차면수가 정해지는 것이라고 합니다. \n",
    "- 그래서 1세대당 주차면수가 얼마나 가능한지를 나타낼 수 있는 주차면수/총세대수가 더 의미있을 것 같음.  "
   ]
  },
  {
   "cell_type": "code",
   "execution_count": 79,
   "id": "f31ec8b8",
   "metadata": {},
   "outputs": [],
   "source": [
    "train['세대당 가능주차면수'] = train['단지내주차면수']/train['총세대수']\n",
    "test['세대당 가능주차면수'] = test['단지내주차면수']/test['총세대수']"
   ]
  },
  {
   "cell_type": "code",
   "execution_count": 80,
   "id": "5d8ee202",
   "metadata": {},
   "outputs": [
    {
     "data": {
      "text/plain": [
       "등록차량수        1.0000\n",
       "단지내주차면수      0.8513\n",
       "세대당 가능주차면수   0.5131\n",
       "임대료          0.4628\n",
       "총세대수         0.4237\n",
       "상가비율         0.4031\n",
       "임대보증금        0.3821\n",
       "전용면적별세대수     0.1889\n",
       "버스정류장        0.1193\n",
       "공가수          0.0955\n",
       "전용면적         0.0811\n",
       "지하철역         0.0778\n",
       "Name: 등록차량수, dtype: float64"
      ]
     },
     "execution_count": 80,
     "metadata": {},
     "output_type": "execute_result"
    }
   ],
   "source": [
    "train.drop(['단지코드'],1,).corr()[\"등록차량수\"].abs().sort_values(ascending=False)"
   ]
  },
  {
   "cell_type": "code",
   "execution_count": 81,
   "id": "fc4c017f",
   "metadata": {},
   "outputs": [
    {
     "data": {
      "text/plain": [
       "단지내주차면수      1.0000\n",
       "총세대수         0.4745\n",
       "세대당 가능주차면수   0.4146\n",
       "임대료          0.4004\n",
       "상가비율         0.3467\n",
       "임대보증금        0.3350\n",
       "전용면적별세대수     0.3124\n",
       "공가수          0.2896\n",
       "버스정류장        0.1595\n",
       "지하철역         0.0705\n",
       "전용면적         0.0371\n",
       "Name: 단지내주차면수, dtype: float64"
      ]
     },
     "execution_count": 81,
     "metadata": {},
     "output_type": "execute_result"
    }
   ],
   "source": [
    "test.drop(['단지코드'],1,).corr()[\"단지내주차면수\"].abs().sort_values(ascending=False)"
   ]
  },
  {
   "cell_type": "markdown",
   "id": "6ad96483",
   "metadata": {},
   "source": [
    "# 분양비율(NEW)"
   ]
  },
  {
   "cell_type": "markdown",
   "id": "b77e6cf1",
   "metadata": {},
   "source": [
    "- (총세대수-공가수)/총세대수"
   ]
  },
  {
   "cell_type": "code",
   "execution_count": 82,
   "id": "10f3307a",
   "metadata": {},
   "outputs": [],
   "source": [
    "train['분양비율']= (train.총세대수-train.공가수)/train.총세대수 "
   ]
  },
  {
   "cell_type": "code",
   "execution_count": 83,
   "id": "dd2bfa6d",
   "metadata": {},
   "outputs": [],
   "source": [
    "test['분양비율']= (test.총세대수-test.공가수)/test.총세대수 "
   ]
  },
  {
   "cell_type": "code",
   "execution_count": 84,
   "id": "07afa56a",
   "metadata": {},
   "outputs": [
    {
     "data": {
      "text/plain": [
       "등록차량수        1.0000\n",
       "단지내주차면수      0.8513\n",
       "세대당 가능주차면수   0.5131\n",
       "임대료          0.4628\n",
       "총세대수         0.4237\n",
       "상가비율         0.4031\n",
       "임대보증금        0.3821\n",
       "분양비율         0.2493\n",
       "전용면적별세대수     0.1889\n",
       "버스정류장        0.1193\n",
       "공가수          0.0955\n",
       "전용면적         0.0811\n",
       "지하철역         0.0778\n",
       "Name: 등록차량수, dtype: float64"
      ]
     },
     "execution_count": 84,
     "metadata": {},
     "output_type": "execute_result"
    }
   ],
   "source": [
    "train.drop(['단지코드'],1,).corr()[\"등록차량수\"].abs().sort_values(ascending=False)"
   ]
  },
  {
   "cell_type": "code",
   "execution_count": 85,
   "id": "b265d54d",
   "metadata": {
    "scrolled": true
   },
   "outputs": [
    {
     "data": {
      "text/plain": [
       "총세대수         1.0000\n",
       "단지내주차면수      0.5983\n",
       "등록차량수        0.4237\n",
       "분양비율         0.4233\n",
       "상가비율         0.3732\n",
       "세대당 가능주차면수   0.2323\n",
       "전용면적별세대수     0.1682\n",
       "지하철역         0.1365\n",
       "공가수          0.1032\n",
       "전용면적         0.0675\n",
       "버스정류장        0.0373\n",
       "임대보증금        0.0252\n",
       "임대료          0.0005\n",
       "Name: 총세대수, dtype: float64"
      ]
     },
     "execution_count": 85,
     "metadata": {},
     "output_type": "execute_result"
    }
   ],
   "source": [
    "train.drop(['단지코드'],1,).corr()[\"총세대수\"].abs().sort_values(ascending=False)"
   ]
  },
  {
   "cell_type": "markdown",
   "id": "62cfcb8d",
   "metadata": {},
   "source": [
    "### 전용면적\n",
    "주택법상 주택건설기준에 따라 전용면적 85㎡ 이하 1가구당 주차장 1면을 설치해야 함 <br>\n",
    "대형 면적인 85㎡ 초과 세대의 경우 전용면적 기준은 70㎡당 1면\n",
    "\n",
    "▶<font color=\"red\">대형전용면적 column 추가</font> <br>\n",
    "\n",
    "▶<font color=\"red\">전용면적_카테고리 column 추가</font> "
   ]
  },
  {
   "cell_type": "markdown",
   "id": "70fb7c4d",
   "metadata": {},
   "source": [
    "#### 대형전용면적\n",
    "85㎡를 초과하는 건물은 대형건물로 분류"
   ]
  },
  {
   "cell_type": "markdown",
   "id": "4023b15d",
   "metadata": {},
   "source": [
    "- train set"
   ]
  },
  {
   "cell_type": "code",
   "execution_count": 86,
   "id": "0ea5d576",
   "metadata": {},
   "outputs": [],
   "source": [
    "level = 85\n",
    "train['대형전용면적'] = 0\n",
    "train.loc[train.전용면적>level, '대형전용면적'] = 1\n",
    "train.loc[train.전용면적<=level, '대형전용면적'] = 0"
   ]
  },
  {
   "cell_type": "markdown",
   "id": "f7bd5600",
   "metadata": {},
   "source": [
    "- test set"
   ]
  },
  {
   "cell_type": "code",
   "execution_count": 87,
   "id": "2bb5d11d",
   "metadata": {},
   "outputs": [],
   "source": [
    "level = 85\n",
    "test['대형전용면적'] = 0\n",
    "test.loc[test.전용면적>level, '대형전용면적'] = 1\n",
    "test.loc[test.전용면적<=level, '대형전용면적'] = 0"
   ]
  },
  {
   "cell_type": "markdown",
   "id": "32cd6a86",
   "metadata": {},
   "source": [
    "#### 전용면적_카테고리\n",
    "100㎡를 초과하는 건물은 outlier로 간주 & 10㎡ 단위로 범주화\n",
    "- train set"
   ]
  },
  {
   "cell_type": "code",
   "execution_count": 88,
   "id": "d33d721d",
   "metadata": {},
   "outputs": [],
   "source": [
    "def category(x):\n",
    "    for ind,i in enumerate(list(range(10,110,5))): #0부터 100까지 10단위\n",
    "        if int(x) in range(i-10,i): return ind\n",
    "    for ind,i in enumerate(list(range(100,600,100))):#100부터 600까지 100단위\n",
    "        if int(x) in range(i,i+100): return 10+ind"
   ]
  },
  {
   "cell_type": "code",
   "execution_count": 89,
   "id": "5efe185f",
   "metadata": {},
   "outputs": [],
   "source": [
    "train['전용면적_카테고리'] = train['전용면적'].apply(lambda x : category(x))"
   ]
  },
  {
   "cell_type": "code",
   "execution_count": 90,
   "id": "5761795e",
   "metadata": {},
   "outputs": [],
   "source": [
    "train['전용면적_카테고리']=train.전용면적_카테고리.astype(object)"
   ]
  },
  {
   "cell_type": "markdown",
   "id": "ca614a74",
   "metadata": {},
   "source": [
    "- test set"
   ]
  },
  {
   "cell_type": "code",
   "execution_count": 91,
   "id": "f8548f35",
   "metadata": {},
   "outputs": [],
   "source": [
    "test['전용면적_카테고리'] = test['전용면적'].apply(lambda x : category(x))"
   ]
  },
  {
   "cell_type": "code",
   "execution_count": 92,
   "id": "a7ac02e9",
   "metadata": {},
   "outputs": [],
   "source": [
    "test['전용면적_카테고리']=test.전용면적_카테고리.astype(object)"
   ]
  },
  {
   "cell_type": "markdown",
   "id": "065e39a0",
   "metadata": {},
   "source": [
    "### 지하철역 & 버스정류장\n",
    "▶ <font color=\"red\">그냥 0으로 대체?</font>\n",
    "\n",
    "▶ 충청남도, 경상남도는 모두 0으로 채우고 대전은 생각해볼 것"
   ]
  },
  {
   "cell_type": "code",
   "execution_count": 93,
   "id": "458ebdf0",
   "metadata": {},
   "outputs": [
    {
     "name": "stdout",
     "output_type": "stream",
     "text": [
      "NA check\n",
      "지하철역 155 -> 5.889 %\n",
      "버스정류장 4 -> 0.152 %\n",
      "NA check\n",
      "지하철역 34 -> 3.583 %\n"
     ]
    }
   ],
   "source": [
    "check_NA(train)\n",
    "check_NA(test)"
   ]
  },
  {
   "cell_type": "code",
   "execution_count": 94,
   "id": "c8a6e651",
   "metadata": {},
   "outputs": [
    {
     "name": "stdout",
     "output_type": "stream",
     "text": [
      "충청남도     82\n",
      "대전광역시    69\n",
      "경상남도      4\n",
      "Name: 지역, dtype: int64\n"
     ]
    }
   ],
   "source": [
    "print(train.loc[train.지하철역.isna(),'지역'].value_counts())"
   ]
  },
  {
   "cell_type": "code",
   "execution_count": 95,
   "id": "83f57715",
   "metadata": {},
   "outputs": [
    {
     "name": "stdout",
     "output_type": "stream",
     "text": [
      "경상남도    4\n",
      "Name: 지역, dtype: int64\n"
     ]
    }
   ],
   "source": [
    "print(train.loc[train.버스정류장.isna(),'지역'].value_counts())"
   ]
  },
  {
   "cell_type": "markdown",
   "id": "0c591df3",
   "metadata": {},
   "source": [
    "#### NA imputation\n",
    "**우선 0으로 대체**"
   ]
  },
  {
   "cell_type": "code",
   "execution_count": 96,
   "id": "62e37428",
   "metadata": {},
   "outputs": [],
   "source": [
    "cols = ['지하철역','버스정류장']\n",
    "train[cols] = train[cols].fillna(0)\n",
    "test[cols] = test[cols].fillna(0)"
   ]
  },
  {
   "cell_type": "code",
   "execution_count": 97,
   "id": "01b2ddf7",
   "metadata": {},
   "outputs": [
    {
     "name": "stdout",
     "output_type": "stream",
     "text": [
      "NA check\n",
      "...There's no NA\n",
      "NA check\n",
      "...There's no NA\n"
     ]
    }
   ],
   "source": [
    "check_NA(train)\n",
    "check_NA(test)"
   ]
  },
  {
   "cell_type": "markdown",
   "id": "7780efa2",
   "metadata": {},
   "source": [
    "# Preprocess"
   ]
  },
  {
   "cell_type": "markdown",
   "id": "0bb69b16",
   "metadata": {},
   "source": [
    "## 외부데이터 추가\n",
    "### 지역별 남녀 인구수 & 승용차수\n",
    "▶ train & test에는 인천광역시 X"
   ]
  },
  {
   "cell_type": "code",
   "execution_count": 98,
   "id": "92c6b922",
   "metadata": {
    "scrolled": true
   },
   "outputs": [
    {
     "data": {
      "text/html": [
       "<div>\n",
       "<style scoped>\n",
       "    .dataframe tbody tr th:only-of-type {\n",
       "        vertical-align: middle;\n",
       "    }\n",
       "\n",
       "    .dataframe tbody tr th {\n",
       "        vertical-align: top;\n",
       "    }\n",
       "\n",
       "    .dataframe thead th {\n",
       "        text-align: right;\n",
       "    }\n",
       "</style>\n",
       "<table border=\"1\" class=\"dataframe\">\n",
       "  <thead>\n",
       "    <tr style=\"text-align: right;\">\n",
       "      <th></th>\n",
       "      <th>지역</th>\n",
       "      <th>남자인구수</th>\n",
       "      <th>여자인구수</th>\n",
       "      <th>승용차수</th>\n",
       "    </tr>\n",
       "  </thead>\n",
       "  <tbody>\n",
       "    <tr>\n",
       "      <th>0</th>\n",
       "      <td>서울특별시</td>\n",
       "      <td>4654720</td>\n",
       "      <td>4920635</td>\n",
       "      <td>2711984</td>\n",
       "    </tr>\n",
       "    <tr>\n",
       "      <th>1</th>\n",
       "      <td>부산광역시</td>\n",
       "      <td>1648965</td>\n",
       "      <td>1718369</td>\n",
       "      <td>1189345</td>\n",
       "    </tr>\n",
       "    <tr>\n",
       "      <th>2</th>\n",
       "      <td>대구광역시</td>\n",
       "      <td>1184977</td>\n",
       "      <td>1217963</td>\n",
       "      <td>1027075</td>\n",
       "    </tr>\n",
       "    <tr>\n",
       "      <th>3</th>\n",
       "      <td>인천광역시</td>\n",
       "      <td>1470528</td>\n",
       "      <td>1465854</td>\n",
       "      <td>1426203</td>\n",
       "    </tr>\n",
       "    <tr>\n",
       "      <th>4</th>\n",
       "      <td>광주광역시</td>\n",
       "      <td>714101</td>\n",
       "      <td>729053</td>\n",
       "      <td>576366</td>\n",
       "    </tr>\n",
       "  </tbody>\n",
       "</table>\n",
       "</div>"
      ],
      "text/plain": [
       "      지역    남자인구수    여자인구수     승용차수\n",
       "0  서울특별시  4654720  4920635  2711984\n",
       "1  부산광역시  1648965  1718369  1189345\n",
       "2  대구광역시  1184977  1217963  1027075\n",
       "3  인천광역시  1470528  1465854  1426203\n",
       "4  광주광역시   714101   729053   576366"
      ]
     },
     "execution_count": 98,
     "metadata": {},
     "output_type": "execute_result"
    }
   ],
   "source": [
    "car = pd.read_csv('인구수_자동차수.csv')\n",
    "car.head()"
   ]
  },
  {
   "cell_type": "code",
   "execution_count": 99,
   "id": "1138e6cc",
   "metadata": {},
   "outputs": [
    {
     "data": {
      "text/html": [
       "<div>\n",
       "<style scoped>\n",
       "    .dataframe tbody tr th:only-of-type {\n",
       "        vertical-align: middle;\n",
       "    }\n",
       "\n",
       "    .dataframe tbody tr th {\n",
       "        vertical-align: top;\n",
       "    }\n",
       "\n",
       "    .dataframe thead th {\n",
       "        text-align: right;\n",
       "    }\n",
       "</style>\n",
       "<table border=\"1\" class=\"dataframe\">\n",
       "  <thead>\n",
       "    <tr style=\"text-align: right;\">\n",
       "      <th></th>\n",
       "      <th>지역</th>\n",
       "      <th>남자인구수</th>\n",
       "      <th>여자인구수</th>\n",
       "      <th>승용차수</th>\n",
       "    </tr>\n",
       "  </thead>\n",
       "  <tbody>\n",
       "    <tr>\n",
       "      <th>0</th>\n",
       "      <td>서울특별시</td>\n",
       "      <td>4654720</td>\n",
       "      <td>4920635</td>\n",
       "      <td>2711984</td>\n",
       "    </tr>\n",
       "    <tr>\n",
       "      <th>1</th>\n",
       "      <td>부산광역시</td>\n",
       "      <td>1648965</td>\n",
       "      <td>1718369</td>\n",
       "      <td>1189345</td>\n",
       "    </tr>\n",
       "    <tr>\n",
       "      <th>2</th>\n",
       "      <td>대구광역시</td>\n",
       "      <td>1184977</td>\n",
       "      <td>1217963</td>\n",
       "      <td>1027075</td>\n",
       "    </tr>\n",
       "    <tr>\n",
       "      <th>4</th>\n",
       "      <td>광주광역시</td>\n",
       "      <td>714101</td>\n",
       "      <td>729053</td>\n",
       "      <td>576366</td>\n",
       "    </tr>\n",
       "    <tr>\n",
       "      <th>5</th>\n",
       "      <td>대전광역시</td>\n",
       "      <td>727279</td>\n",
       "      <td>729882</td>\n",
       "      <td>576906</td>\n",
       "    </tr>\n",
       "  </tbody>\n",
       "</table>\n",
       "</div>"
      ],
      "text/plain": [
       "      지역    남자인구수    여자인구수     승용차수\n",
       "0  서울특별시  4654720  4920635  2711984\n",
       "1  부산광역시  1648965  1718369  1189345\n",
       "2  대구광역시  1184977  1217963  1027075\n",
       "4  광주광역시   714101   729053   576366\n",
       "5  대전광역시   727279   729882   576906"
      ]
     },
     "execution_count": 99,
     "metadata": {},
     "output_type": "execute_result"
    }
   ],
   "source": [
    "car = car.loc[car.지역!=\"인천광역시\"]\n",
    "car.head()"
   ]
  },
  {
   "cell_type": "code",
   "execution_count": 100,
   "id": "523910ee",
   "metadata": {},
   "outputs": [],
   "source": [
    "남자총인구=car.남자인구수.sum()\n",
    "여자총인구=car.여자인구수.sum()"
   ]
  },
  {
   "cell_type": "code",
   "execution_count": 101,
   "id": "f2cf0837",
   "metadata": {},
   "outputs": [],
   "source": [
    "car.남자인구수=car.남자인구수/남자총인구\n",
    "car.여자인구수=car.여자인구수/여자총인구"
   ]
  },
  {
   "cell_type": "markdown",
   "id": "8ce9a7c6",
   "metadata": {},
   "source": [
    "## 데이터 병합"
   ]
  },
  {
   "cell_type": "code",
   "execution_count": 102,
   "id": "99478fc4",
   "metadata": {},
   "outputs": [
    {
     "data": {
      "text/plain": [
       "((2632, 21), (949, 20))"
      ]
     },
     "execution_count": 102,
     "metadata": {},
     "output_type": "execute_result"
    }
   ],
   "source": [
    "train.shape, test.shape"
   ]
  },
  {
   "cell_type": "code",
   "execution_count": 103,
   "id": "68dc29c0",
   "metadata": {},
   "outputs": [],
   "source": [
    "train = pd.merge(train, age_gender, on='지역', how='outer')\n",
    "train = pd.merge(train, car, on='지역', how='outer')\n",
    "\n",
    "test = pd.merge(test, age_gender.loc[age_gender.지역!=\"서울특별시\",:], on='지역', how='outer')\n",
    "test = pd.merge(test, car.loc[car.지역!=\"서울특별시\",:], on='지역', how='outer')"
   ]
  },
  {
   "cell_type": "code",
   "execution_count": 104,
   "id": "b2b9da51",
   "metadata": {},
   "outputs": [
    {
     "data": {
      "text/plain": [
       "((2632, 46), (949, 45))"
      ]
     },
     "execution_count": 104,
     "metadata": {},
     "output_type": "execute_result"
    }
   ],
   "source": [
    "train.shape, test.shape"
   ]
  },
  {
   "cell_type": "code",
   "execution_count": 105,
   "id": "bd0bc280",
   "metadata": {},
   "outputs": [
    {
     "name": "stdout",
     "output_type": "stream",
     "text": [
      "NA check\n",
      "...There's no NA\n",
      "NA check\n",
      "...There's no NA\n"
     ]
    }
   ],
   "source": [
    "check_NA(train)\n",
    "check_NA(test)"
   ]
  },
  {
   "cell_type": "markdown",
   "id": "5b5845ec",
   "metadata": {},
   "source": [
    "## 추가) 단지내주차면수를 기준으로 데이터를 분할"
   ]
  },
  {
   "cell_type": "code",
   "execution_count": 106,
   "id": "3658ed1c",
   "metadata": {},
   "outputs": [
    {
     "data": {
      "image/png": "[encoded data removed]",
      "text/plain": [
       "<Figure size 1008x360 with 2 Axes>"
      ]
     },
     "metadata": {
      "needs_background": "light"
     },
     "output_type": "display_data"
    }
   ],
   "source": [
    "plt.rcParams[\"figure.figsize\"] = (14,5)\n",
    "fig, ax = plt.subplots(ncols=2)\n",
    "label_=f\"Mean = {train['단지내주차면수'].mean():.2f}\\nMedian = {train['단지내주차면수'].median():.2f}\\nStandard Deviation = {train['단지내주차면수'].std():.2f}\"\n",
    "sns.histplot(x=train[\"단지내주차면수\"],color=\"darkblue\", label=label_, ax=ax[0]).legend(loc='best',fontsize=10)\n",
    "\n",
    "label_=f\"Mean = {test['단지내주차면수'].mean():.2f}\\nMedian = {test['단지내주차면수'].median():.2f}\\nStandard Deviation = {test['단지내주차면수'].std():.2f}\"\n",
    "sns.histplot(x=test[\"단지내주차면수\"], label=label_, ax=ax[1]).legend(loc='best',fontsize=10)\n",
    "plt.show()"
   ]
  },
  {
   "cell_type": "code",
   "execution_count": 107,
   "id": "f4d714ba",
   "metadata": {},
   "outputs": [
    {
     "data": {
      "text/html": [
       "<div>\n",
       "<style scoped>\n",
       "    .dataframe tbody tr th:only-of-type {\n",
       "        vertical-align: middle;\n",
       "    }\n",
       "\n",
       "    .dataframe tbody tr th {\n",
       "        vertical-align: top;\n",
       "    }\n",
       "\n",
       "    .dataframe thead th {\n",
       "        text-align: right;\n",
       "    }\n",
       "</style>\n",
       "<table border=\"1\" class=\"dataframe\">\n",
       "  <thead>\n",
       "    <tr style=\"text-align: right;\">\n",
       "      <th></th>\n",
       "      <th>0</th>\n",
       "    </tr>\n",
       "  </thead>\n",
       "  <tbody>\n",
       "    <tr>\n",
       "      <th>count</th>\n",
       "      <td>355.0000</td>\n",
       "    </tr>\n",
       "    <tr>\n",
       "      <th>mean</th>\n",
       "      <td>617.9465</td>\n",
       "    </tr>\n",
       "    <tr>\n",
       "      <th>std</th>\n",
       "      <td>378.8537</td>\n",
       "    </tr>\n",
       "    <tr>\n",
       "      <th>min</th>\n",
       "      <td>13.0000</td>\n",
       "    </tr>\n",
       "    <tr>\n",
       "      <th>25%</th>\n",
       "      <td>331.5000</td>\n",
       "    </tr>\n",
       "    <tr>\n",
       "      <th>50%</th>\n",
       "      <td>548.0000</td>\n",
       "    </tr>\n",
       "    <tr>\n",
       "      <th>75%</th>\n",
       "      <td>849.0000</td>\n",
       "    </tr>\n",
       "    <tr>\n",
       "      <th>max</th>\n",
       "      <td>1,798.0000</td>\n",
       "    </tr>\n",
       "  </tbody>\n",
       "</table>\n",
       "</div>"
      ],
      "text/plain": [
       "               0\n",
       "count   355.0000\n",
       "mean    617.9465\n",
       "std     378.8537\n",
       "min      13.0000\n",
       "25%     331.5000\n",
       "50%     548.0000\n",
       "75%     849.0000\n",
       "max   1,798.0000"
      ]
     },
     "execution_count": 107,
     "metadata": {},
     "output_type": "execute_result"
    }
   ],
   "source": [
    "pd.DataFrame(train[\"단지내주차면수\"].unique()).describe()"
   ]
  },
  {
   "cell_type": "code",
   "execution_count": 108,
   "id": "cf001e93",
   "metadata": {},
   "outputs": [
    {
     "data": {
      "text/html": [
       "<div>\n",
       "<style scoped>\n",
       "    .dataframe tbody tr th:only-of-type {\n",
       "        vertical-align: middle;\n",
       "    }\n",
       "\n",
       "    .dataframe tbody tr th {\n",
       "        vertical-align: top;\n",
       "    }\n",
       "\n",
       "    .dataframe thead th {\n",
       "        text-align: right;\n",
       "    }\n",
       "</style>\n",
       "<table border=\"1\" class=\"dataframe\">\n",
       "  <thead>\n",
       "    <tr style=\"text-align: right;\">\n",
       "      <th></th>\n",
       "      <th>0</th>\n",
       "    </tr>\n",
       "  </thead>\n",
       "  <tbody>\n",
       "    <tr>\n",
       "      <th>count</th>\n",
       "      <td>143.0000</td>\n",
       "    </tr>\n",
       "    <tr>\n",
       "      <th>mean</th>\n",
       "      <td>562.8112</td>\n",
       "    </tr>\n",
       "    <tr>\n",
       "      <th>std</th>\n",
       "      <td>321.3673</td>\n",
       "    </tr>\n",
       "    <tr>\n",
       "      <th>min</th>\n",
       "      <td>29.0000</td>\n",
       "    </tr>\n",
       "    <tr>\n",
       "      <th>25%</th>\n",
       "      <td>318.0000</td>\n",
       "    </tr>\n",
       "    <tr>\n",
       "      <th>50%</th>\n",
       "      <td>516.0000</td>\n",
       "    </tr>\n",
       "    <tr>\n",
       "      <th>75%</th>\n",
       "      <td>743.5000</td>\n",
       "    </tr>\n",
       "    <tr>\n",
       "      <th>max</th>\n",
       "      <td>1,696.0000</td>\n",
       "    </tr>\n",
       "  </tbody>\n",
       "</table>\n",
       "</div>"
      ],
      "text/plain": [
       "               0\n",
       "count   143.0000\n",
       "mean    562.8112\n",
       "std     321.3673\n",
       "min      29.0000\n",
       "25%     318.0000\n",
       "50%     516.0000\n",
       "75%     743.5000\n",
       "max   1,696.0000"
      ]
     },
     "execution_count": 108,
     "metadata": {},
     "output_type": "execute_result"
    }
   ],
   "source": [
    "pd.DataFrame(test[\"단지내주차면수\"].unique()).describe()"
   ]
  },
  {
   "cell_type": "code",
   "execution_count": 109,
   "id": "79b56a4c",
   "metadata": {},
   "outputs": [],
   "source": [
    "q1=train['단지내주차면수'].quantile(q=0.25, interpolation='nearest')\n",
    "q3=train['단지내주차면수'].quantile(q=0.75, interpolation='nearest')"
   ]
  },
  {
   "cell_type": "code",
   "execution_count": 110,
   "id": "c81884ce",
   "metadata": {},
   "outputs": [],
   "source": [
    "train['class_']=0\n",
    "test['class_']=0"
   ]
  },
  {
   "cell_type": "code",
   "execution_count": 111,
   "id": "12338a5b",
   "metadata": {
    "scrolled": true
   },
   "outputs": [],
   "source": [
    "train['class_'].loc[train['단지내주차면수'] <q1]=1\n",
    "train['class_'].loc[(train['단지내주차면수']>=q1) & (train['단지내주차면수']<q3)]=2 \n",
    "train['class_'].loc[train['단지내주차면수']>=q3]=3"
   ]
  },
  {
   "cell_type": "code",
   "execution_count": 112,
   "id": "e02c8dee",
   "metadata": {},
   "outputs": [],
   "source": [
    "test['class_'].loc[test['단지내주차면수'] <q1]=1\n",
    "test['class_'].loc[(test['단지내주차면수']>=q1) & (test['단지내주차면수']<q3)]=2 \n",
    "test['class_'].loc[test['단지내주차면수']>=q3]=3"
   ]
  },
  {
   "cell_type": "code",
   "execution_count": 113,
   "id": "249df1d2",
   "metadata": {},
   "outputs": [],
   "source": [
    "train_low=train[train.class_==1]\n",
    "train_med=train[train.class_==2]\n",
    "train_high=train[train.class_==3]"
   ]
  },
  {
   "cell_type": "code",
   "execution_count": 114,
   "id": "6437a7e3",
   "metadata": {},
   "outputs": [],
   "source": [
    "test_low=test[test.class_==1]\n",
    "test_med=test[test.class_==2]\n",
    "test_high=test[test.class_==3]"
   ]
  },
  {
   "cell_type": "code",
   "execution_count": 115,
   "id": "7e2c74df",
   "metadata": {},
   "outputs": [],
   "source": [
    "train.class_=train.class_.astype(object)\n",
    "test.class_=test.class_.astype(object)"
   ]
  },
  {
   "cell_type": "code",
   "execution_count": 116,
   "id": "4877af57",
   "metadata": {},
   "outputs": [],
   "source": [
    "X_cor = train.drop(columns=['자격유형', 'class_', '전용면적'])"
   ]
  },
  {
   "cell_type": "code",
   "execution_count": 117,
   "id": "b8389009",
   "metadata": {},
   "outputs": [],
   "source": [
    "X_cor = pd.get_dummies(X_cor, drop_first=True)"
   ]
  },
  {
   "cell_type": "code",
   "execution_count": 118,
   "id": "d9c88ebf",
   "metadata": {},
   "outputs": [],
   "source": [
    "corr = X_cor.corr()[\"등록차량수\"].abs().sort_values(ascending=False)"
   ]
  },
  {
   "cell_type": "code",
   "execution_count": 119,
   "id": "d8e51b48",
   "metadata": {
    "scrolled": true
   },
   "outputs": [
    {
     "data": {
      "text/plain": [
       "등록차량수                     1.0000\n",
       "단지내주차면수                   0.8513\n",
       "세대당 가능주차면수                0.5131\n",
       "임대료                       0.4628\n",
       "공급유형_공공임대(5년/10년/분납/분양)   0.4258\n",
       "총세대수                      0.4237\n",
       "상가비율                      0.4031\n",
       "임대보증금                     0.3821\n",
       "공급유형_임대상가                 0.3506\n",
       "임대건물구분_아파트                0.3506\n",
       "30대(남자)                   0.3366\n",
       "30대(여자)                   0.3340\n",
       "단지코드_C1363                0.3303\n",
       "자격유형_카테고리_4               0.3132\n",
       "50대(남자)                   0.2860\n",
       "단지코드_C1350                0.2798\n",
       "40대(남자)                   0.2670\n",
       "분양비율                      0.2493\n",
       "지역_경기도                    0.2439\n",
       "여자인구수                     0.2414\n",
       "Name: 등록차량수, dtype: float64"
      ]
     },
     "execution_count": 119,
     "metadata": {},
     "output_type": "execute_result"
    }
   ],
   "source": [
    "corr.head(20)"
   ]
  },
  {
   "cell_type": "code",
   "execution_count": null,
   "id": "1e74cd28",
   "metadata": {},
   "outputs": [],
   "source": []
  },
  {
   "cell_type": "markdown",
   "id": "d0fbf007",
   "metadata": {},
   "source": [
    "이 밑은 모델링"
   ]
  },
  {
   "cell_type": "markdown",
   "id": "1b25daf6",
   "metadata": {},
   "source": [
    "## Train Test split"
   ]
  },
  {
   "cell_type": "code",
   "execution_count": 120,
   "id": "9462f5f6",
   "metadata": {},
   "outputs": [],
   "source": [
    "from sklearn.metrics import mean_absolute_error\n",
    "from sklearn.model_selection import train_test_split"
   ]
  },
  {
   "cell_type": "code",
   "execution_count": 121,
   "id": "a7b5081c",
   "metadata": {},
   "outputs": [],
   "source": [
    "X = train.drop(columns=['등록차량수','class_','자격유형', '전용면적'])\n",
    "y = train[['등록차량수']]"
   ]
  },
  {
   "cell_type": "code",
   "execution_count": 122,
   "id": "9d92ac6a",
   "metadata": {},
   "outputs": [],
   "source": [
    "X = pd.get_dummies(X, drop_first=True)"
   ]
  },
  {
   "cell_type": "code",
   "execution_count": 123,
   "id": "8f6f2b87",
   "metadata": {},
   "outputs": [],
   "source": [
    "X_train, X_test, y_train, y_test = train_test_split(X, y, test_size=0.3, shuffle=True, random_state=2021)"
   ]
  },
  {
   "cell_type": "code",
   "execution_count": 124,
   "id": "b9887e81",
   "metadata": {},
   "outputs": [],
   "source": [
    "from sklearn.ensemble import RandomForestRegressor"
   ]
  },
  {
   "cell_type": "code",
   "execution_count": 125,
   "id": "f352f7d3",
   "metadata": {},
   "outputs": [
    {
     "data": {
      "text/plain": [
       "19.185848101265822"
      ]
     },
     "execution_count": 125,
     "metadata": {},
     "output_type": "execute_result"
    }
   ],
   "source": [
    "rf = RandomForestRegressor(random_state=2021).fit(X_train, y_train)\n",
    "rf_pred = rf.predict(X_test)\n",
    "mean_absolute_error(y_test, rf_pred)"
   ]
  },
  {
   "cell_type": "code",
   "execution_count": 126,
   "id": "3ca21269",
   "metadata": {},
   "outputs": [],
   "source": [
    "from sklearn.tree import DecisionTreeRegressor "
   ]
  },
  {
   "cell_type": "code",
   "execution_count": 127,
   "id": "ba2a0334",
   "metadata": {
    "scrolled": true
   },
   "outputs": [
    {
     "data": {
      "text/plain": [
       "15.074683544303797"
      ]
     },
     "execution_count": 127,
     "metadata": {},
     "output_type": "execute_result"
    }
   ],
   "source": [
    "dc = DecisionTreeRegressor(random_state=2021).fit(X_train, y_train)\n",
    "dc_pred = dc.predict(X_test)\n",
    "mean_absolute_error(y_test, dc_pred)"
   ]
  },
  {
   "cell_type": "code",
   "execution_count": 128,
   "id": "9587479e",
   "metadata": {},
   "outputs": [],
   "source": [
    "from sklearn.ensemble import GradientBoostingRegressor"
   ]
  },
  {
   "cell_type": "code",
   "execution_count": 129,
   "id": "57217ad3",
   "metadata": {},
   "outputs": [
    {
     "data": {
      "text/plain": [
       "82.90365194285515"
      ]
     },
     "execution_count": 129,
     "metadata": {},
     "output_type": "execute_result"
    }
   ],
   "source": [
    "gb =  GradientBoostingRegressor(random_state=2021).fit(X_train, y_train)\n",
    "gb_pred = gb.predict(X_test)\n",
    "mean_absolute_error(y_test, gb_pred)"
   ]
  },
  {
   "cell_type": "code",
   "execution_count": 130,
   "id": "569de88e",
   "metadata": {},
   "outputs": [],
   "source": [
    "from xgboost import XGBRegressor"
   ]
  },
  {
   "cell_type": "code",
   "execution_count": 131,
   "id": "43533f01",
   "metadata": {
    "scrolled": true
   },
   "outputs": [
    {
     "data": {
      "text/plain": [
       "26.003701685651947"
      ]
     },
     "execution_count": 131,
     "metadata": {},
     "output_type": "execute_result"
    }
   ],
   "source": [
    "xgb =  XGBRegressor(random_state=2021).fit(X_train, y_train)\n",
    "xgb_pred = xgb.predict(X_test)\n",
    "mean_absolute_error(y_test, xgb_pred)"
   ]
  },
  {
   "cell_type": "code",
   "execution_count": 132,
   "id": "72a221ac",
   "metadata": {},
   "outputs": [],
   "source": [
    "from sklearn.linear_model import LinearRegression"
   ]
  },
  {
   "cell_type": "code",
   "execution_count": 133,
   "id": "8fee590b",
   "metadata": {},
   "outputs": [
    {
     "data": {
      "text/plain": [
       "2.7256107248854295"
      ]
     },
     "execution_count": 133,
     "metadata": {},
     "output_type": "execute_result"
    }
   ],
   "source": [
    "lr= LinearRegression().fit(X_train, y_train)\n",
    "lr_pred = lr.predict(X_test)\n",
    "mean_absolute_error(y_test, lr_pred)"
   ]
  },
  {
   "cell_type": "markdown",
   "id": "ff2dfcaf",
   "metadata": {},
   "source": [
    "롸...?"
   ]
  },
  {
   "cell_type": "code",
   "execution_count": 134,
   "id": "17a32570",
   "metadata": {},
   "outputs": [],
   "source": [
    "importance = lr.coef_ # get importance"
   ]
  },
  {
   "cell_type": "code",
   "execution_count": 135,
   "id": "57fdea63",
   "metadata": {},
   "outputs": [],
   "source": [
    "importance= pd.DataFrame(importance)"
   ]
  },
  {
   "cell_type": "code",
   "execution_count": 136,
   "id": "f2f387f6",
   "metadata": {},
   "outputs": [],
   "source": [
    "Xc=pd.DataFrame(X_train.columns)"
   ]
  },
  {
   "cell_type": "code",
   "execution_count": 137,
   "id": "fe64af26",
   "metadata": {},
   "outputs": [],
   "source": [
    "importance=importance.transpose()"
   ]
  },
  {
   "cell_type": "code",
   "execution_count": 138,
   "id": "8567f141",
   "metadata": {},
   "outputs": [],
   "source": [
    "lr_feature= pd.concat([importance, Xc], axis=1)"
   ]
  },
  {
   "cell_type": "code",
   "execution_count": 139,
   "id": "8deaf8e9",
   "metadata": {},
   "outputs": [],
   "source": [
    "lr_feature.columns=['importance', '변수']"
   ]
  },
  {
   "cell_type": "code",
   "execution_count": 140,
   "id": "4ef98253",
   "metadata": {},
   "outputs": [],
   "source": [
    "lr_feature=lr_feature.sort_values(\"importance\", ascending=True)"
   ]
  },
  {
   "cell_type": "code",
   "execution_count": 141,
   "id": "9b89b724",
   "metadata": {},
   "outputs": [
    {
     "data": {
      "text/html": [
       "<div>\n",
       "<style scoped>\n",
       "    .dataframe tbody tr th:only-of-type {\n",
       "        vertical-align: middle;\n",
       "    }\n",
       "\n",
       "    .dataframe tbody tr th {\n",
       "        vertical-align: top;\n",
       "    }\n",
       "\n",
       "    .dataframe thead th {\n",
       "        text-align: right;\n",
       "    }\n",
       "</style>\n",
       "<table border=\"1\" class=\"dataframe\">\n",
       "  <thead>\n",
       "    <tr style=\"text-align: right;\">\n",
       "      <th></th>\n",
       "      <th>importance</th>\n",
       "      <th>변수</th>\n",
       "    </tr>\n",
       "  </thead>\n",
       "  <tbody>\n",
       "    <tr>\n",
       "      <th>151</th>\n",
       "      <td>322.5438</td>\n",
       "      <td>단지코드_C1527</td>\n",
       "    </tr>\n",
       "    <tr>\n",
       "      <th>57</th>\n",
       "      <td>333.2258</td>\n",
       "      <td>단지코드_C1065</td>\n",
       "    </tr>\n",
       "    <tr>\n",
       "      <th>67</th>\n",
       "      <td>335.3853</td>\n",
       "      <td>단지코드_C1122</td>\n",
       "    </tr>\n",
       "    <tr>\n",
       "      <th>93</th>\n",
       "      <td>352.4799</td>\n",
       "      <td>단지코드_C1244</td>\n",
       "    </tr>\n",
       "    <tr>\n",
       "      <th>431</th>\n",
       "      <td>363.6134</td>\n",
       "      <td>단지코드_C2583</td>\n",
       "    </tr>\n",
       "    <tr>\n",
       "      <th>48</th>\n",
       "      <td>377.2831</td>\n",
       "      <td>단지코드_C1036</td>\n",
       "    </tr>\n",
       "    <tr>\n",
       "      <th>187</th>\n",
       "      <td>400.2909</td>\n",
       "      <td>단지코드_C1693</td>\n",
       "    </tr>\n",
       "    <tr>\n",
       "      <th>376</th>\n",
       "      <td>411.2978</td>\n",
       "      <td>단지코드_C2405</td>\n",
       "    </tr>\n",
       "    <tr>\n",
       "      <th>341</th>\n",
       "      <td>411.9712</td>\n",
       "      <td>단지코드_C2276</td>\n",
       "    </tr>\n",
       "    <tr>\n",
       "      <th>276</th>\n",
       "      <td>426.0174</td>\n",
       "      <td>단지코드_C2032</td>\n",
       "    </tr>\n",
       "    <tr>\n",
       "      <th>39</th>\n",
       "      <td>514.6616</td>\n",
       "      <td>단지코드_C1013</td>\n",
       "    </tr>\n",
       "    <tr>\n",
       "      <th>202</th>\n",
       "      <td>535.1516</td>\n",
       "      <td>단지코드_C1743</td>\n",
       "    </tr>\n",
       "    <tr>\n",
       "      <th>443</th>\n",
       "      <td>587.2869</td>\n",
       "      <td>단지코드_C2620</td>\n",
       "    </tr>\n",
       "    <tr>\n",
       "      <th>117</th>\n",
       "      <td>596.0082</td>\n",
       "      <td>단지코드_C1350</td>\n",
       "    </tr>\n",
       "    <tr>\n",
       "      <th>120</th>\n",
       "      <td>753.7607</td>\n",
       "      <td>단지코드_C1363</td>\n",
       "    </tr>\n",
       "  </tbody>\n",
       "</table>\n",
       "</div>"
      ],
      "text/plain": [
       "     importance          변수\n",
       "151    322.5438  단지코드_C1527\n",
       "57     333.2258  단지코드_C1065\n",
       "67     335.3853  단지코드_C1122\n",
       "93     352.4799  단지코드_C1244\n",
       "431    363.6134  단지코드_C2583\n",
       "48     377.2831  단지코드_C1036\n",
       "187    400.2909  단지코드_C1693\n",
       "376    411.2978  단지코드_C2405\n",
       "341    411.9712  단지코드_C2276\n",
       "276    426.0174  단지코드_C2032\n",
       "39     514.6616  단지코드_C1013\n",
       "202    535.1516  단지코드_C1743\n",
       "443    587.2869  단지코드_C2620\n",
       "117    596.0082  단지코드_C1350\n",
       "120    753.7607  단지코드_C1363"
      ]
     },
     "execution_count": 141,
     "metadata": {},
     "output_type": "execute_result"
    }
   ],
   "source": [
    "lr_feature.tail(15)"
   ]
  },
  {
   "cell_type": "markdown",
   "id": "600ffc01",
   "metadata": {},
   "source": [
    "단지코드에 의존도가 심한 듯하다..."
   ]
  },
  {
   "cell_type": "code",
   "execution_count": 142,
   "id": "1942e3fe",
   "metadata": {},
   "outputs": [],
   "source": [
    "from sklearn.linear_model import Ridge"
   ]
  },
  {
   "cell_type": "code",
   "execution_count": 143,
   "id": "c970efbc",
   "metadata": {},
   "outputs": [
    {
     "data": {
      "text/plain": [
       "28.652421352219193"
      ]
     },
     "execution_count": 143,
     "metadata": {},
     "output_type": "execute_result"
    }
   ],
   "source": [
    "ri = Ridge().fit(X_train, y_train)\n",
    "ri_pred = ri.predict(X_test)\n",
    "mean_absolute_error(y_test, ri_pred)"
   ]
  },
  {
   "cell_type": "code",
   "execution_count": 144,
   "id": "8782fde4",
   "metadata": {},
   "outputs": [],
   "source": [
    "from sklearn.linear_model import Lasso"
   ]
  },
  {
   "cell_type": "code",
   "execution_count": 145,
   "id": "aeba3fa0",
   "metadata": {},
   "outputs": [
    {
     "data": {
      "text/plain": [
       "115.16918140815083"
      ]
     },
     "execution_count": 145,
     "metadata": {},
     "output_type": "execute_result"
    }
   ],
   "source": [
    "la = Lasso().fit(X_train, y_train)\n",
    "la_pred = la.predict(X_test)\n",
    "mean_absolute_error(y_test, la_pred)"
   ]
  },
  {
   "cell_type": "markdown",
   "id": "66221606",
   "metadata": {},
   "source": [
    "# 분포별 나눠서 test"
   ]
  },
  {
   "cell_type": "code",
   "execution_count": 146,
   "id": "4cbdd280",
   "metadata": {},
   "outputs": [],
   "source": [
    "X_low = train_low.drop(columns=['등록차량수', \"class_\", \"자격유형\",\"전용면적\"])\n",
    "y_low = train_low[['등록차량수']]\n",
    "X_med = train_med.drop(columns=['등록차량수', \"class_\", \"자격유형\", \"전용면적\"])\n",
    "y_med = train_med[['등록차량수']]\n",
    "X_high = train_high.drop(columns=['등록차량수', \"class_\", \"자격유형\",\"전용면적\"])\n",
    "y_high = train_high[['등록차량수']]"
   ]
  },
  {
   "cell_type": "code",
   "execution_count": 147,
   "id": "7aba7b9c",
   "metadata": {},
   "outputs": [],
   "source": [
    "X_low = pd.get_dummies(X_low, drop_first=True)\n",
    "X_train, X_test, y_train, y_test = train_test_split(X_low, y_low, test_size=0.3, shuffle=True, random_state=2021)"
   ]
  },
  {
   "cell_type": "code",
   "execution_count": 148,
   "id": "df2dd4dc",
   "metadata": {},
   "outputs": [
    {
     "data": {
      "text/plain": [
       "9.645252525252527"
      ]
     },
     "execution_count": 148,
     "metadata": {},
     "output_type": "execute_result"
    }
   ],
   "source": [
    "rf = RandomForestRegressor(random_state=2021).fit(X_train, y_train)\n",
    "rf_pred = rf.predict(X_test)\n",
    "mean_absolute_error(y_test, rf_pred)"
   ]
  },
  {
   "cell_type": "code",
   "execution_count": 149,
   "id": "c5bde30e",
   "metadata": {},
   "outputs": [
    {
     "data": {
      "text/plain": [
       "5.348484848484849"
      ]
     },
     "execution_count": 149,
     "metadata": {},
     "output_type": "execute_result"
    }
   ],
   "source": [
    "dc = DecisionTreeRegressor(random_state=2021).fit(X_train, y_train)\n",
    "dc_pred = dc.predict(X_test)\n",
    "mean_absolute_error(y_test, dc_pred)"
   ]
  },
  {
   "cell_type": "code",
   "execution_count": 150,
   "id": "d3fec9c2",
   "metadata": {},
   "outputs": [
    {
     "data": {
      "text/plain": [
       "3.3233623422151406"
      ]
     },
     "execution_count": 150,
     "metadata": {},
     "output_type": "execute_result"
    }
   ],
   "source": [
    "lr= LinearRegression().fit(X_train, y_train)\n",
    "lr_pred = lr.predict(X_test)\n",
    "mean_absolute_error(y_test, lr_pred)"
   ]
  },
  {
   "cell_type": "code",
   "execution_count": 151,
   "id": "37db5118",
   "metadata": {},
   "outputs": [],
   "source": [
    "X_med = pd.get_dummies(X_med, drop_first=True)\n",
    "X_train, X_test, y_train, y_test = train_test_split(X_med, y_med, test_size=0.3, shuffle=True, random_state=2021)"
   ]
  },
  {
   "cell_type": "code",
   "execution_count": 152,
   "id": "61113843",
   "metadata": {},
   "outputs": [
    {
     "data": {
      "text/plain": [
       "17.5734096692112"
      ]
     },
     "execution_count": 152,
     "metadata": {},
     "output_type": "execute_result"
    }
   ],
   "source": [
    "rf = RandomForestRegressor(random_state=2021).fit(X_train, y_train)\n",
    "rf_pred = rf.predict(X_test)\n",
    "mean_absolute_error(y_test, rf_pred)"
   ]
  },
  {
   "cell_type": "code",
   "execution_count": 153,
   "id": "c5a54918",
   "metadata": {},
   "outputs": [
    {
     "data": {
      "text/plain": [
       "5.569974554707379"
      ]
     },
     "execution_count": 153,
     "metadata": {},
     "output_type": "execute_result"
    }
   ],
   "source": [
    "dc = DecisionTreeRegressor(random_state=2021).fit(X_train, y_train)\n",
    "dc_pred = dc.predict(X_test)\n",
    "mean_absolute_error(y_test, dc_pred)"
   ]
  },
  {
   "cell_type": "code",
   "execution_count": 154,
   "id": "cea1606f",
   "metadata": {},
   "outputs": [
    {
     "data": {
      "text/plain": [
       "0.8691788708186015"
      ]
     },
     "execution_count": 154,
     "metadata": {},
     "output_type": "execute_result"
    }
   ],
   "source": [
    "lr= LinearRegression().fit(X_train, y_train)\n",
    "lr_pred = lr.predict(X_test)\n",
    "mean_absolute_error(y_test, lr_pred)"
   ]
  },
  {
   "cell_type": "code",
   "execution_count": 155,
   "id": "5f0dc15a",
   "metadata": {},
   "outputs": [],
   "source": [
    "X_high = pd.get_dummies(X_high, drop_first=True)\n",
    "X_train, X_test, y_train, y_test = train_test_split(X_high, y_high, test_size=0.3, shuffle=True, random_state=2021)"
   ]
  },
  {
   "cell_type": "code",
   "execution_count": 156,
   "id": "8bcc0916",
   "metadata": {},
   "outputs": [
    {
     "data": {
      "text/plain": [
       "19.820398009950242"
      ]
     },
     "execution_count": 156,
     "metadata": {},
     "output_type": "execute_result"
    }
   ],
   "source": [
    "rf = RandomForestRegressor(random_state=2021).fit(X_train, y_train)\n",
    "rf_pred = rf.predict(X_test)\n",
    "mean_absolute_error(y_test, rf_pred)"
   ]
  },
  {
   "cell_type": "code",
   "execution_count": 157,
   "id": "7a6a465c",
   "metadata": {},
   "outputs": [
    {
     "data": {
      "text/plain": [
       "5.557213930348259"
      ]
     },
     "execution_count": 157,
     "metadata": {},
     "output_type": "execute_result"
    }
   ],
   "source": [
    "dc = DecisionTreeRegressor(random_state=2021).fit(X_train, y_train)\n",
    "dc_pred = dc.predict(X_test)\n",
    "mean_absolute_error(y_test, dc_pred)"
   ]
  },
  {
   "cell_type": "code",
   "execution_count": 158,
   "id": "41d8dc76",
   "metadata": {},
   "outputs": [
    {
     "data": {
      "text/plain": [
       "1.423348009822701"
      ]
     },
     "execution_count": 158,
     "metadata": {},
     "output_type": "execute_result"
    }
   ],
   "source": [
    "lr= LinearRegression().fit(X_train, y_train)\n",
    "lr_pred = lr.predict(X_test)\n",
    "mean_absolute_error(y_test, lr_pred)"
   ]
  },
  {
   "cell_type": "markdown",
   "id": "910d6ee8",
   "metadata": {},
   "source": [
    "# 하나로 예측"
   ]
  },
  {
   "cell_type": "code",
   "execution_count": 159,
   "id": "762c402e",
   "metadata": {},
   "outputs": [
    {
     "data": {
      "text/html": [
       "<div>\n",
       "<style scoped>\n",
       "    .dataframe tbody tr th:only-of-type {\n",
       "        vertical-align: middle;\n",
       "    }\n",
       "\n",
       "    .dataframe tbody tr th {\n",
       "        vertical-align: top;\n",
       "    }\n",
       "\n",
       "    .dataframe thead th {\n",
       "        text-align: right;\n",
       "    }\n",
       "</style>\n",
       "<table border=\"1\" class=\"dataframe\">\n",
       "  <thead>\n",
       "    <tr style=\"text-align: right;\">\n",
       "      <th></th>\n",
       "      <th>code</th>\n",
       "      <th>num</th>\n",
       "    </tr>\n",
       "  </thead>\n",
       "  <tbody>\n",
       "    <tr>\n",
       "      <th>0</th>\n",
       "      <td>C1072</td>\n",
       "      <td>0</td>\n",
       "    </tr>\n",
       "    <tr>\n",
       "      <th>1</th>\n",
       "      <td>C1128</td>\n",
       "      <td>0</td>\n",
       "    </tr>\n",
       "    <tr>\n",
       "      <th>2</th>\n",
       "      <td>C1456</td>\n",
       "      <td>0</td>\n",
       "    </tr>\n",
       "    <tr>\n",
       "      <th>3</th>\n",
       "      <td>C1840</td>\n",
       "      <td>0</td>\n",
       "    </tr>\n",
       "    <tr>\n",
       "      <th>4</th>\n",
       "      <td>C1332</td>\n",
       "      <td>0</td>\n",
       "    </tr>\n",
       "  </tbody>\n",
       "</table>\n",
       "</div>"
      ],
      "text/plain": [
       "    code  num\n",
       "0  C1072    0\n",
       "1  C1128    0\n",
       "2  C1456    0\n",
       "3  C1840    0\n",
       "4  C1332    0"
      ]
     },
     "execution_count": 159,
     "metadata": {},
     "output_type": "execute_result"
    }
   ],
   "source": [
    "sample=pd.read_csv('sample_submission.csv')\n",
    "sample.head()"
   ]
  },
  {
   "cell_type": "code",
   "execution_count": 160,
   "id": "183201cd",
   "metadata": {},
   "outputs": [],
   "source": [
    "df= pd.concat([train, test])"
   ]
  },
  {
   "cell_type": "code",
   "execution_count": 161,
   "id": "3274e57a",
   "metadata": {
    "scrolled": true
   },
   "outputs": [
    {
     "data": {
      "text/plain": [
       "((2632, 47), (949, 46))"
      ]
     },
     "execution_count": 161,
     "metadata": {},
     "output_type": "execute_result"
    }
   ],
   "source": [
    "train.shape, test.shape"
   ]
  },
  {
   "cell_type": "code",
   "execution_count": 162,
   "id": "bc208261",
   "metadata": {},
   "outputs": [],
   "source": [
    "X = df.drop(columns=['등록차량수',\"자격유형\",\"전용면적\",\"class_\"])\n",
    "X= pd.get_dummies(X, drop_first=True)"
   ]
  },
  {
   "cell_type": "code",
   "execution_count": 163,
   "id": "53d26d29",
   "metadata": {},
   "outputs": [],
   "source": [
    "X.train=X.iloc[0:2632, :]\n",
    "X.test=X.iloc[2632:, :]\n",
    "y_train = train[['등록차량수']]"
   ]
  },
  {
   "cell_type": "markdown",
   "id": "728446d1",
   "metadata": {},
   "source": [
    "- rf = RandomForestRegressor(random_state=2021).fit(X.train, y_train)\n",
    "- rf_pred = rf.predict(X.test)"
   ]
  },
  {
   "cell_type": "code",
   "execution_count": 164,
   "id": "88f0907d",
   "metadata": {},
   "outputs": [],
   "source": [
    "rf = LinearRegression(random_state=2021).fit(X.train, y_train)\n",
    "rf_pred = rf.predict(X.test)"
   ]
  },
  {
   "cell_type": "code",
   "execution_count": 165,
   "id": "754f3b45",
   "metadata": {},
   "outputs": [],
   "source": [
    "rf_0=pd.DataFrame(rf_pred)"
   ]
  },
  {
   "cell_type": "code",
   "execution_count": 166,
   "id": "8ae0204e",
   "metadata": {},
   "outputs": [],
   "source": [
    "code0=test.단지코드"
   ]
  },
  {
   "cell_type": "code",
   "execution_count": 167,
   "id": "58511ca3",
   "metadata": {},
   "outputs": [],
   "source": [
    "pred_=pd.concat([code0, rf_0], axis=1, ignore_index=True)"
   ]
  },
  {
   "cell_type": "code",
   "execution_count": 168,
   "id": "29aed6d1",
   "metadata": {},
   "outputs": [],
   "source": [
    "pred_.columns=[\"code\", \"num\"]"
   ]
  },
  {
   "cell_type": "code",
   "execution_count": 169,
   "id": "32a0d458",
   "metadata": {},
   "outputs": [],
   "source": [
    "pred_=pred_.num.groupby(pred_.code).mean()"
   ]
  },
  {
   "cell_type": "code",
   "execution_count": 170,
   "id": "bd7c9047",
   "metadata": {},
   "outputs": [
    {
     "data": {
      "text/plain": [
       "code\n",
       "C1003   269.6787\n",
       "C1006   274.5579\n",
       "C1016   740.2825\n",
       "C1019   314.7350\n",
       "C1030    22.9500\n",
       "Name: num, dtype: float64"
      ]
     },
     "execution_count": 170,
     "metadata": {},
     "output_type": "execute_result"
    }
   ],
   "source": [
    "pred_.head()"
   ]
  },
  {
   "cell_type": "code",
   "execution_count": 171,
   "id": "e2b58bf0",
   "metadata": {},
   "outputs": [],
   "source": [
    "pred_=pd.merge(sample, pred_, on='code', how='outer')"
   ]
  },
  {
   "cell_type": "code",
   "execution_count": 172,
   "id": "b2bd2489",
   "metadata": {},
   "outputs": [],
   "source": [
    "pred_= pred_.drop(columns='num_x')"
   ]
  },
  {
   "cell_type": "code",
   "execution_count": 173,
   "id": "2a2fdedc",
   "metadata": {},
   "outputs": [],
   "source": [
    "pred_.columns=[\"code\",\"num\"]"
   ]
  },
  {
   "cell_type": "code",
   "execution_count": 174,
   "id": "010bc515",
   "metadata": {},
   "outputs": [
    {
     "data": {
      "text/html": [
       "<div>\n",
       "<style scoped>\n",
       "    .dataframe tbody tr th:only-of-type {\n",
       "        vertical-align: middle;\n",
       "    }\n",
       "\n",
       "    .dataframe tbody tr th {\n",
       "        vertical-align: top;\n",
       "    }\n",
       "\n",
       "    .dataframe thead th {\n",
       "        text-align: right;\n",
       "    }\n",
       "</style>\n",
       "<table border=\"1\" class=\"dataframe\">\n",
       "  <thead>\n",
       "    <tr style=\"text-align: right;\">\n",
       "      <th></th>\n",
       "      <th>code</th>\n",
       "      <th>num</th>\n",
       "    </tr>\n",
       "  </thead>\n",
       "  <tbody>\n",
       "    <tr>\n",
       "      <th>0</th>\n",
       "      <td>C1072</td>\n",
       "      <td>694.9362</td>\n",
       "    </tr>\n",
       "    <tr>\n",
       "      <th>1</th>\n",
       "      <td>C1128</td>\n",
       "      <td>959.5278</td>\n",
       "    </tr>\n",
       "    <tr>\n",
       "      <th>2</th>\n",
       "      <td>C1456</td>\n",
       "      <td>522.2938</td>\n",
       "    </tr>\n",
       "    <tr>\n",
       "      <th>3</th>\n",
       "      <td>C1840</td>\n",
       "      <td>467.3400</td>\n",
       "    </tr>\n",
       "    <tr>\n",
       "      <th>4</th>\n",
       "      <td>C1332</td>\n",
       "      <td>1,004.5587</td>\n",
       "    </tr>\n",
       "    <tr>\n",
       "      <th>...</th>\n",
       "      <td>...</td>\n",
       "      <td>...</td>\n",
       "    </tr>\n",
       "    <tr>\n",
       "      <th>145</th>\n",
       "      <td>C2456</td>\n",
       "      <td>327.4900</td>\n",
       "    </tr>\n",
       "    <tr>\n",
       "      <th>146</th>\n",
       "      <td>C1266</td>\n",
       "      <td>530.4220</td>\n",
       "    </tr>\n",
       "    <tr>\n",
       "      <th>147</th>\n",
       "      <td>C2152</td>\n",
       "      <td>46.7500</td>\n",
       "    </tr>\n",
       "    <tr>\n",
       "      <th>148</th>\n",
       "      <td>C1267</td>\n",
       "      <td>461.2282</td>\n",
       "    </tr>\n",
       "    <tr>\n",
       "      <th>149</th>\n",
       "      <td>C2189</td>\n",
       "      <td>245.7875</td>\n",
       "    </tr>\n",
       "  </tbody>\n",
       "</table>\n",
       "<p>150 rows × 2 columns</p>\n",
       "</div>"
      ],
      "text/plain": [
       "      code        num\n",
       "0    C1072   694.9362\n",
       "1    C1128   959.5278\n",
       "2    C1456   522.2938\n",
       "3    C1840   467.3400\n",
       "4    C1332 1,004.5587\n",
       "..     ...        ...\n",
       "145  C2456   327.4900\n",
       "146  C1266   530.4220\n",
       "147  C2152    46.7500\n",
       "148  C1267   461.2282\n",
       "149  C2189   245.7875\n",
       "\n",
       "[150 rows x 2 columns]"
      ]
     },
     "execution_count": 174,
     "metadata": {},
     "output_type": "execute_result"
    }
   ],
   "source": [
    "pred_"
   ]
  },
  {
   "cell_type": "code",
   "execution_count": 176,
   "id": "4b40bd74",
   "metadata": {},
   "outputs": [],
   "source": [
    "pred_.to_csv('0701_2.csv', index=False)"
   ]
  },
  {
   "cell_type": "markdown",
   "id": "d3b9695b",
   "metadata": {},
   "source": [
    "# 나눠서 예측"
   ]
  },
  {
   "cell_type": "code",
   "execution_count": 132,
   "id": "a7585303",
   "metadata": {},
   "outputs": [],
   "source": [
    "from sklearn.ensemble import RandomForestRegressor\n",
    "from sklearn.tree import DecisionTreeRegressor "
   ]
  },
  {
   "cell_type": "code",
   "execution_count": 133,
   "id": "3c18116e",
   "metadata": {},
   "outputs": [],
   "source": [
    "df1= pd.concat([train_low, test_low])\n",
    "df2= pd.concat([train_med, test_med])\n",
    "df3= pd.concat([train_high, test_high])"
   ]
  },
  {
   "cell_type": "code",
   "execution_count": 134,
   "id": "92617bcf",
   "metadata": {
    "scrolled": true
   },
   "outputs": [
    {
     "data": {
      "text/plain": [
       "((658, 46), (1307, 46), (667, 46))"
      ]
     },
     "execution_count": 134,
     "metadata": {},
     "output_type": "execute_result"
    }
   ],
   "source": [
    "train_low.shape, train_med.shape, train_high.shape "
   ]
  },
  {
   "cell_type": "code",
   "execution_count": 135,
   "id": "7b3e7beb",
   "metadata": {},
   "outputs": [],
   "source": [
    "X = df1.drop(columns=['등록차량수',\"자격유형\",\"전용면적\",\"class_\"])\n",
    "X= pd.get_dummies(X, drop_first=True)"
   ]
  },
  {
   "cell_type": "code",
   "execution_count": 136,
   "id": "bc131363",
   "metadata": {},
   "outputs": [],
   "source": [
    "X.train=X.iloc[0:658, :]\n",
    "X.test=X.iloc[658:, :]\n",
    "y_train = train_low[['등록차량수']]"
   ]
  },
  {
   "cell_type": "code",
   "execution_count": 137,
   "id": "46ab58a8",
   "metadata": {},
   "outputs": [],
   "source": [
    "rf = RandomForestRegressor(random_state=2021).fit(X.train, y_train)\n",
    "rf_pred1 = rf.predict(X.test)"
   ]
  },
  {
   "cell_type": "code",
   "execution_count": 138,
   "id": "46645037",
   "metadata": {},
   "outputs": [],
   "source": [
    "rf_1=pd.DataFrame(rf_pred1)"
   ]
  },
  {
   "cell_type": "code",
   "execution_count": 139,
   "id": "601bbb9a",
   "metadata": {},
   "outputs": [],
   "source": [
    "code1=df1.iloc[658:, :].단지코드\n",
    "code1=pd.DataFrame(code1)\n",
    "code1=code1.reset_index()"
   ]
  },
  {
   "cell_type": "code",
   "execution_count": 140,
   "id": "36656d6c",
   "metadata": {},
   "outputs": [],
   "source": [
    "code1=code1['단지코드']"
   ]
  },
  {
   "cell_type": "code",
   "execution_count": 141,
   "id": "574d140e",
   "metadata": {},
   "outputs": [],
   "source": [
    "pred1=pd.concat([code1, rf_1], axis=1, ignore_index=True)"
   ]
  },
  {
   "cell_type": "code",
   "execution_count": 143,
   "id": "7873989e",
   "metadata": {},
   "outputs": [],
   "source": [
    "X = df2.drop(columns=['등록차량수',\"자격유형\",\"전용면적\",\"class_\"])\n",
    "X= pd.get_dummies(X, drop_first=True)"
   ]
  },
  {
   "cell_type": "code",
   "execution_count": 144,
   "id": "65f6b2d8",
   "metadata": {},
   "outputs": [],
   "source": [
    "X.train=X.iloc[0:1307, :]\n",
    "X.test=X.iloc[1307:, :]\n",
    "y_train = train_med[['등록차량수']]"
   ]
  },
  {
   "cell_type": "code",
   "execution_count": 145,
   "id": "82db4ed5",
   "metadata": {},
   "outputs": [],
   "source": [
    "rf = RandomForestRegressor(random_state=2021).fit(X.train, y_train)\n",
    "rf_pred2 = rf.predict(X.test)"
   ]
  },
  {
   "cell_type": "code",
   "execution_count": 148,
   "id": "cd6dc85f",
   "metadata": {},
   "outputs": [],
   "source": [
    "rf_2=pd.DataFrame(rf_pred2)"
   ]
  },
  {
   "cell_type": "code",
   "execution_count": 146,
   "id": "4616a7a4",
   "metadata": {},
   "outputs": [],
   "source": [
    "code2=df2.iloc[1307:, :].단지코드\n",
    "code2=pd.DataFrame(code2)\n",
    "code2=code2.reset_index()"
   ]
  },
  {
   "cell_type": "code",
   "execution_count": 147,
   "id": "410a1a21",
   "metadata": {},
   "outputs": [],
   "source": [
    "code2=code2['단지코드']"
   ]
  },
  {
   "cell_type": "code",
   "execution_count": 149,
   "id": "b268613a",
   "metadata": {},
   "outputs": [],
   "source": [
    "pred2=pd.concat([code2, rf_2], axis=1, ignore_index=True)"
   ]
  },
  {
   "cell_type": "code",
   "execution_count": 151,
   "id": "46040624",
   "metadata": {},
   "outputs": [],
   "source": [
    "X = df3.drop(columns=['등록차량수',\"자격유형\",\"전용면적\",\"class_\"])\n",
    "X= pd.get_dummies(X, drop_first=True)"
   ]
  },
  {
   "cell_type": "code",
   "execution_count": 152,
   "id": "d6de1ab4",
   "metadata": {},
   "outputs": [],
   "source": [
    "X.train=X.iloc[0:667, :]\n",
    "X.test=X.iloc[667:, :]\n",
    "y_train = train_high[['등록차량수']]"
   ]
  },
  {
   "cell_type": "code",
   "execution_count": 153,
   "id": "e2acc421",
   "metadata": {},
   "outputs": [],
   "source": [
    "rf = RandomForestRegressor(random_state=2021).fit(X.train, y_train)\n",
    "rf_pred3 = rf.predict(X.test)"
   ]
  },
  {
   "cell_type": "code",
   "execution_count": 154,
   "id": "8ccf75cb",
   "metadata": {},
   "outputs": [],
   "source": [
    "rf_3=pd.DataFrame(rf_pred3)"
   ]
  },
  {
   "cell_type": "code",
   "execution_count": 155,
   "id": "53949a75",
   "metadata": {},
   "outputs": [],
   "source": [
    "code3=df3.iloc[667:, :].단지코드\n",
    "code3=pd.DataFrame(code3)\n",
    "code3=code3.reset_index()"
   ]
  },
  {
   "cell_type": "code",
   "execution_count": 156,
   "id": "96221026",
   "metadata": {},
   "outputs": [],
   "source": [
    "code3=code3['단지코드']"
   ]
  },
  {
   "cell_type": "code",
   "execution_count": 157,
   "id": "79cdad7e",
   "metadata": {},
   "outputs": [],
   "source": [
    "pred3=pd.concat([code3, rf_3], axis=1, ignore_index=True)"
   ]
  },
  {
   "cell_type": "code",
   "execution_count": 158,
   "id": "23c9a037",
   "metadata": {},
   "outputs": [],
   "source": [
    "df_merge=pd.concat([pred1, pred2, pred3], axis=0, ignore_index=True)"
   ]
  },
  {
   "cell_type": "code",
   "execution_count": 159,
   "id": "2ea1cce5",
   "metadata": {},
   "outputs": [],
   "source": [
    "df_merge.columns=[\"code\", \"num\"]"
   ]
  },
  {
   "cell_type": "code",
   "execution_count": 160,
   "id": "c71250d5",
   "metadata": {},
   "outputs": [],
   "source": [
    "pred_split=df_merge.num.groupby(df_merge.code).mean()"
   ]
  },
  {
   "cell_type": "code",
   "execution_count": 161,
   "id": "2c85a79a",
   "metadata": {},
   "outputs": [],
   "source": [
    "test_split=pd.merge(sample, pred_split, on='code', how='outer')"
   ]
  },
  {
   "cell_type": "code",
   "execution_count": 162,
   "id": "d3f1f7c7",
   "metadata": {},
   "outputs": [
    {
     "data": {
      "text/html": [
       "<div>\n",
       "<style scoped>\n",
       "    .dataframe tbody tr th:only-of-type {\n",
       "        vertical-align: middle;\n",
       "    }\n",
       "\n",
       "    .dataframe tbody tr th {\n",
       "        vertical-align: top;\n",
       "    }\n",
       "\n",
       "    .dataframe thead th {\n",
       "        text-align: right;\n",
       "    }\n",
       "</style>\n",
       "<table border=\"1\" class=\"dataframe\">\n",
       "  <thead>\n",
       "    <tr style=\"text-align: right;\">\n",
       "      <th></th>\n",
       "      <th>code</th>\n",
       "      <th>num_x</th>\n",
       "      <th>num_y</th>\n",
       "    </tr>\n",
       "  </thead>\n",
       "  <tbody>\n",
       "    <tr>\n",
       "      <th>0</th>\n",
       "      <td>C1072</td>\n",
       "      <td>0</td>\n",
       "      <td>675.2862</td>\n",
       "    </tr>\n",
       "    <tr>\n",
       "      <th>1</th>\n",
       "      <td>C1128</td>\n",
       "      <td>0</td>\n",
       "      <td>963.6578</td>\n",
       "    </tr>\n",
       "    <tr>\n",
       "      <th>2</th>\n",
       "      <td>C1456</td>\n",
       "      <td>0</td>\n",
       "      <td>534.7325</td>\n",
       "    </tr>\n",
       "    <tr>\n",
       "      <th>3</th>\n",
       "      <td>C1840</td>\n",
       "      <td>0</td>\n",
       "      <td>480.7425</td>\n",
       "    </tr>\n",
       "    <tr>\n",
       "      <th>4</th>\n",
       "      <td>C1332</td>\n",
       "      <td>0</td>\n",
       "      <td>1,053.1025</td>\n",
       "    </tr>\n",
       "  </tbody>\n",
       "</table>\n",
       "</div>"
      ],
      "text/plain": [
       "    code  num_x      num_y\n",
       "0  C1072      0   675.2862\n",
       "1  C1128      0   963.6578\n",
       "2  C1456      0   534.7325\n",
       "3  C1840      0   480.7425\n",
       "4  C1332      0 1,053.1025"
      ]
     },
     "execution_count": 162,
     "metadata": {},
     "output_type": "execute_result"
    }
   ],
   "source": [
    "test_split.head()"
   ]
  },
  {
   "cell_type": "code",
   "execution_count": 164,
   "id": "9b4b431c",
   "metadata": {},
   "outputs": [],
   "source": [
    "test_split= test_split.drop(columns='num_x')"
   ]
  },
  {
   "cell_type": "code",
   "execution_count": 165,
   "id": "a803aa98",
   "metadata": {},
   "outputs": [],
   "source": [
    "test_split.columns=[\"code\",\"num\"]"
   ]
  },
  {
   "cell_type": "code",
   "execution_count": 167,
   "id": "df6cd9d3",
   "metadata": {},
   "outputs": [],
   "source": [
    "test_split.to_csv('0630_2.csv', index=False)"
   ]
  },
  {
   "cell_type": "code",
   "execution_count": null,
   "id": "9e267f7b",
   "metadata": {},
   "outputs": [],
   "source": []
  }
 ],
 "metadata": {
  "kernelspec": {
   "display_name": "Python 3",
   "language": "python",
   "name": "python3"
  },
  "language_info": {
   "codemirror_mode": {
    "name": "ipython",
    "version": 3
   },
   "file_extension": ".py",
   "mimetype": "text/x-python",
   "name": "python",
   "nbconvert_exporter": "python",
   "pygments_lexer": "ipython3",
   "version": "3.7.10"
  },
  "toc-autonumbering": true,
  "toc-showmarkdowntxt": false
 },
 "nbformat": 4,
 "nbformat_minor": 5
}
