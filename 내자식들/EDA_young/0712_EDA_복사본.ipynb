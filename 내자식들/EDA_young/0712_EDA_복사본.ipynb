{
 "cells": [
  {
   "cell_type": "code",
   "execution_count": 1,
   "metadata": {},
   "outputs": [],
   "source": [
    "#Package\n",
    "import pandas as pd\n",
    "import numpy as np\n",
    "import matplotlib\n",
    "from matplotlib import pyplot as plt\n",
    "import seaborn as sns\n",
    "plt.rcParams['font.family'] = 'NanumGothic'\n",
    "import warnings\n",
    "warnings.filterwarnings(action='ignore')"
   ]
  },
  {
   "cell_type": "code",
   "execution_count": 2,
   "metadata": {},
   "outputs": [],
   "source": [
    "train=pd.read_csv(\"merged_train.csv\")\n",
    "test=pd.read_csv(\"merged_test.csv\")"
   ]
  },
  {
   "cell_type": "code",
   "execution_count": 3,
   "metadata": {},
   "outputs": [
    {
     "name": "stdout",
     "output_type": "stream",
     "text": [
      "(2952, 34) (1022, 33)\n",
      "(2896, 34) (1008, 33)\n"
     ]
    }
   ],
   "source": [
    "# merged_ data에서 drop해야 할 단지코드\n",
    "print(train.shape, test.shape)\n",
    "train = train.loc[~train.단지코드.isin(['C1095', 'C2051', 'C1218', 'C1894', 'C2483', 'C1502', 'C1988']),]\n",
    "test = test.loc[~test.단지코드.isin(['C2335', 'C1327', 'C2675'])]\n",
    "print(train.shape, test.shape)"
   ]
  },
  {
   "cell_type": "code",
   "execution_count": 4,
   "metadata": {
    "scrolled": true
   },
   "outputs": [
    {
     "name": "stdout",
     "output_type": "stream",
     "text": [
      "414 147\n"
     ]
    }
   ],
   "source": [
    "print(len(set(train.단지코드)), len(set(test.단지코드)))"
   ]
  },
  {
   "cell_type": "code",
   "execution_count": 5,
   "metadata": {},
   "outputs": [],
   "source": [
    "train=train.drop_duplicates(keep='first')\n",
    "test=test.drop_duplicates(keep='first')"
   ]
  },
  {
   "cell_type": "code",
   "execution_count": 6,
   "metadata": {
    "scrolled": true
   },
   "outputs": [
    {
     "name": "stdout",
     "output_type": "stream",
     "text": [
      "(2577, 34) (936, 33)\n"
     ]
    }
   ],
   "source": [
    "print(train.shape, test.shape)"
   ]
  },
  {
   "cell_type": "code",
   "execution_count": 7,
   "metadata": {
    "scrolled": true
   },
   "outputs": [
    {
     "data": {
      "text/plain": [
       "Index(['단지코드', '총세대수', '임대건물구분', '지역', '공급유형', '전용면적', '전용면적별세대수', '공가수',\n",
       "       '자격유형', '임대보증금', '임대료', '지하철역', '버스정류장', '단지내주차면수', '등록차량수', '단지명',\n",
       "       '도로명주소', '연면적', '위도', '경도', 'subway_name', 'subway_dist', '환승역 수',\n",
       "       '총인구수', '세대당_인구', '남/여비율', '남/여_0~19세', '남/여_20~39세', '남/여_40~69세',\n",
       "       '남/여_70세이상', '0~19세_비율', '20~39세_비율', '40~69세_비율', '70세이상_비율'],\n",
       "      dtype='object')"
      ]
     },
     "execution_count": 7,
     "metadata": {},
     "output_type": "execute_result"
    }
   ],
   "source": [
    "train.columns"
   ]
  },
  {
   "cell_type": "markdown",
   "metadata": {},
   "source": [
    "## 상가비율, 대형전용면적, 총세대수:주차면수, 공가수"
   ]
  },
  {
   "cell_type": "code",
   "execution_count": 8,
   "metadata": {},
   "outputs": [
    {
     "name": "stdout",
     "output_type": "stream",
     "text": [
      "\n",
      "...Before preprocessing\n",
      "(2577, 34) (936, 33)\n",
      "\n",
      "...After preprocessing\n",
      "(2577, 39) (936, 38)\n"
     ]
    }
   ],
   "source": [
    "print(\"\\n...Before preprocessing\")\n",
    "print(train.shape, test.shape)\n",
    "\n",
    "# 상가비율 column 추가\n",
    "train_cls = pd.concat([train[['단지코드']], pd.get_dummies(train[['임대건물구분']])], axis=1).groupby('단지코드').sum()\n",
    "tot = train_cls['임대건물구분_상가']+train_cls['임대건물구분_아파트']\n",
    "train_cls['상가비율'] = train_cls['임대건물구분_상가']/tot\n",
    "train = pd.merge(train,train_cls[['상가비율']].reset_index(),on='단지코드')\n",
    "\n",
    "test_cls = pd.concat([test[['단지코드']], pd.get_dummies(test[['임대건물구분']])], axis=1).groupby('단지코드').sum()\n",
    "tot = test_cls['임대건물구분_상가']+test_cls['임대건물구분_아파트']\n",
    "test_cls['상가비율'] = test_cls['임대건물구분_상가']/tot\n",
    "test = pd.merge(test,test_cls[['상가비율']].reset_index(),on='단지코드')\n",
    "\n",
    "# 분양세대수 column 추가\n",
    "train_sale = pd.DataFrame(train.groupby(['단지코드']).first()['총세대수'] - train.groupby(['단지코드']).sum()['전용면적별세대수'])\n",
    "train_sale.columns = [\"분양세대수\"]\n",
    "train_sale = train_sale.astype('int16')\n",
    "train_sale.reset_index(inplace=True)\n",
    "train = pd.merge(train, train_sale,on=\"단지코드\")\n",
    "\n",
    "test_sale = pd.DataFrame(test.groupby(['단지코드']).first()['총세대수'] - test.groupby(['단지코드']).sum()['전용면적별세대수'])\n",
    "test_sale.columns = [\"분양세대수\"]\n",
    "test_sale = test_sale.astype('int16')\n",
    "test_sale.reset_index(inplace=True)\n",
    "test = pd.merge(test, test_sale,on=\"단지코드\")\n",
    "\n",
    "# 세대당_가능주차면수 column 추기\n",
    "train['세대당_가능주차면수'] = train['단지내주차면수']/train['총세대수']\n",
    "test['세대당_가능주차면수'] = test['단지내주차면수']/test['총세대수']\n",
    "\n",
    "# 공가수비율 column 추가\n",
    "train['공가수비율']= train.공가수/train.총세대수 \n",
    "test['공가수비율']= test.공가수/test.총세대수 \n",
    "\n",
    "# 대형전용면적 column 추가\n",
    "level = 85\n",
    "train['대형전용면적'] = 0\n",
    "train.loc[train.전용면적>level, '대형전용면적'] = 1\n",
    "train.loc[train.전용면적<=level, '대형전용면적'] = 0\n",
    "\n",
    "test['대형전용면적'] = 0\n",
    "test.loc[test.전용면적>level, '대형전용면적'] = 1\n",
    "test.loc[test.전용면적<=level, '대형전용면적'] = 0\n",
    "\n",
    "# check\n",
    "print(\"\\n...After preprocessing\")\n",
    "print(train.shape, test.shape)"
   ]
  },
  {
   "cell_type": "code",
   "execution_count": 9,
   "metadata": {},
   "outputs": [],
   "source": [
    "dic = {'1': 'A' ,'2':['C','F','G'],'3':['B','H','I'],'4':['J'],'5':['L',\"M\",\"N\",\"O\"],'6':[\"E\",\"K\"],'7':'D'}"
   ]
  },
  {
   "cell_type": "code",
   "execution_count": 10,
   "metadata": {},
   "outputs": [],
   "source": [
    "def mapping_by_key(dic, x):\n",
    "    for i in dic.keys():\n",
    "        if x in dic[i]:\n",
    "            return int(i)"
   ]
  },
  {
   "cell_type": "code",
   "execution_count": 11,
   "metadata": {},
   "outputs": [],
   "source": [
    "train['자격유형_카테고리'] = train['자격유형'].apply(lambda x : mapping_by_key(dic, x))\n",
    "test['자격유형_카테고리'] = test['자격유형'].apply(lambda x : mapping_by_key(dic, x))\n",
    "train['자격유형_카테고리'] = train['자격유형_카테고리'].astype(object)\n",
    "test['자격유형_카테고리'] = test['자격유형_카테고리'].astype(object)"
   ]
  },
  {
   "cell_type": "markdown",
   "metadata": {},
   "source": [
    "- 공공임대(5년), 공공임대(10년)만 묶으면 될 듯\n",
    "- 그 외 장기전세 등도 확인해봤는데 너무 분포가 다름. "
   ]
  },
  {
   "cell_type": "code",
   "execution_count": 13,
   "metadata": {},
   "outputs": [],
   "source": [
    "train.loc[train.공급유형.isin(['공공임대(5년)', '공공임대(10년)']), '공급유형'] = '공공임대(단기)'\n",
    "test.loc[test.공급유형.isin(['공공임대(5년)', '공공임대(10년)']), '공급유형'] = '공공임대(단기)'"
   ]
  },
  {
   "cell_type": "code",
   "execution_count": 14,
   "metadata": {},
   "outputs": [],
   "source": [
    "train[\"지역_1\"]=train.지역\n",
    "test[\"지역_1\"]=test.지역"
   ]
  },
  {
   "cell_type": "code",
   "execution_count": 15,
   "metadata": {},
   "outputs": [],
   "source": [
    "train.loc[train.지역.isin(['경상북도', '광주광역시', '대구광역시', '세종특별자치시']), '지역_1'] = '지역1'\n",
    "train.loc[train.지역.isin(['강원도', '경기도', '서울특별시','전라남도']), '지역_1'] = '지역2'\n",
    "train.loc[train.지역.isin(['울산광역시', '전라북도', '제주특별자치도','충청남도',\"충청북도\"]), '지역_1'] = '지역3'\n",
    "train.loc[train.지역.isin(['경상남도', '대전광역시', '부산광역시']), '지역_1'] = '지역4'\n",
    "\n",
    "test.loc[test.지역.isin(['경상북도', '광주광역시', '대구광역시', '세종특별자치시']), '지역_1'] = '지역1'\n",
    "test.loc[test.지역.isin(['강원도', '경기도', '서울특별시','전라남도']), '지역_1'] = '지역2'\n",
    "test.loc[test.지역.isin(['울산광역시', '전라북도', '제주특별자치도','충청남도',\"충청북도\"]), '지역_1'] = '지역3'\n",
    "test.loc[test.지역.isin(['경상남도', '대전광역시', '부산광역시']), '지역_1'] = '지역4'"
   ]
  },
  {
   "cell_type": "code",
   "execution_count": 16,
   "metadata": {},
   "outputs": [],
   "source": [
    "train[\"지역_2\"]=train.지역\n",
    "test[\"지역_2\"]=test.지역"
   ]
  },
  {
   "cell_type": "code",
   "execution_count": 17,
   "metadata": {},
   "outputs": [],
   "source": [
    "train.loc[train.지역.isin(['강원도', '대전광역시', '부산광역시','울산광역시', '제주특별자치도','충청남도']), '지역_2'] = '지역1'\n",
    "train.loc[train.지역.isin(['경상남도', '경상북도', '전라남도','전라북도','충청북도']), '지역_2'] = '지역2'\n",
    "train.loc[train.지역.isin(['경기도', '광주광역시', '대구광역시','서울특별시',\"세종특별자치시\"]), '지역_2'] = '지역3'\n",
    "\n",
    "test.loc[test.지역.isin(['강원도', '대전광역시', '부산광역시','울산광역시', '제주특별자치도','충청남도']), '지역_2'] = '지역1'\n",
    "test.loc[test.지역.isin(['경상남도', '경상북도', '전라남도','전라북도','충청북도']), '지역_2'] = '지역2'\n",
    "test.loc[test.지역.isin(['경기도', '광주광역시', '대구광역시','서울특별시',\"세종특별자치시\"]), '지역_2'] = '지역3'"
   ]
  },
  {
   "cell_type": "code",
   "execution_count": 18,
   "metadata": {},
   "outputs": [],
   "source": [
    "from sklearn.metrics import mean_absolute_error\n",
    "from sklearn.model_selection import train_test_split\n",
    "from sklearn.preprocessing import MinMaxScaler\n",
    "from sklearn.preprocessing import StandardScaler\n",
    "from sklearn.preprocessing import RobustScaler\n",
    "robustScaler = RobustScaler()\n",
    "standardScaler = StandardScaler()\n",
    "minMaxScaler = MinMaxScaler()"
   ]
  },
  {
   "cell_type": "code",
   "execution_count": 19,
   "metadata": {},
   "outputs": [],
   "source": [
    "from sklearn.linear_model import LinearRegression\n",
    "from sklearn.linear_model import Lasso\n",
    "from sklearn.linear_model import Ridge\n",
    "from sklearn.ensemble import RandomForestRegressor\n",
    "from sklearn.tree import DecisionTreeRegressor "
   ]
  },
  {
   "cell_type": "code",
   "execution_count": 20,
   "metadata": {
    "scrolled": true
   },
   "outputs": [
    {
     "data": {
      "text/plain": [
       "Index(['단지코드', '총세대수', '임대건물구분', '지역', '공급유형', '전용면적', '전용면적별세대수', '공가수',\n",
       "       '자격유형', '임대보증금', '임대료', '지하철역', '버스정류장', '단지내주차면수', '등록차량수', '단지명',\n",
       "       '도로명주소', '연면적', '위도', '경도', 'subway_name', 'subway_dist', '환승역 수',\n",
       "       '총인구수', '세대당_인구', '남/여비율', '남/여_0~19세', '남/여_20~39세', '남/여_40~69세',\n",
       "       '남/여_70세이상', '0~19세_비율', '20~39세_비율', '40~69세_비율', '70세이상_비율', '상가비율',\n",
       "       '분양세대수', '세대당_가능주차면수', '공가수비율', '대형전용면적', '자격유형_카테고리', '지역_1', '지역_2'],\n",
       "      dtype='object')"
      ]
     },
     "execution_count": 20,
     "metadata": {},
     "output_type": "execute_result"
    }
   ],
   "source": [
    "train.columns"
   ]
  },
  {
   "cell_type": "markdown",
   "metadata": {},
   "source": [
    "## 기본으로 돌려보기"
   ]
  },
  {
   "cell_type": "code",
   "execution_count": 21,
   "metadata": {},
   "outputs": [],
   "source": [
    "X = train.drop(columns=['단지명','도로명주소','subway_name','등록차량수', '전용면적','지역_1','지역_2'])\n",
    "y = train[['등록차량수']]"
   ]
  },
  {
   "cell_type": "code",
   "execution_count": 22,
   "metadata": {},
   "outputs": [],
   "source": [
    "X = pd.get_dummies(X, drop_first=True)"
   ]
  },
  {
   "cell_type": "code",
   "execution_count": 23,
   "metadata": {},
   "outputs": [
    {
     "data": {
      "text/plain": [
       "486"
      ]
     },
     "execution_count": 23,
     "metadata": {},
     "output_type": "execute_result"
    }
   ],
   "source": [
    "len(X.columns)"
   ]
  },
  {
   "cell_type": "code",
   "execution_count": 24,
   "metadata": {},
   "outputs": [],
   "source": [
    "X_train, X_test, y_train, y_test = train_test_split(X, y, test_size=0.3, shuffle=True,random_state=2021)"
   ]
  },
  {
   "cell_type": "code",
   "execution_count": 25,
   "metadata": {},
   "outputs": [],
   "source": [
    "from sklearn.linear_model import LinearRegression"
   ]
  },
  {
   "cell_type": "code",
   "execution_count": 26,
   "metadata": {},
   "outputs": [
    {
     "data": {
      "text/plain": [
       "3.764373643335392"
      ]
     },
     "execution_count": 26,
     "metadata": {},
     "output_type": "execute_result"
    }
   ],
   "source": [
    "lr= LinearRegression().fit(X_train, y_train)\n",
    "lr_pred = lr.predict(X_test)\n",
    "mean_absolute_error(y_test, lr_pred)"
   ]
  },
  {
   "cell_type": "code",
   "execution_count": 27,
   "metadata": {},
   "outputs": [
    {
     "data": {
      "text/plain": [
       "25.663647779357138"
      ]
     },
     "execution_count": 27,
     "metadata": {},
     "output_type": "execute_result"
    }
   ],
   "source": [
    "ri = Ridge().fit(X_train, y_train)\n",
    "ri_pred = ri.predict(X_test)\n",
    "mean_absolute_error(y_test, ri_pred)"
   ]
  },
  {
   "cell_type": "code",
   "execution_count": 28,
   "metadata": {},
   "outputs": [
    {
     "data": {
      "text/plain": [
       "106.64656893629216"
      ]
     },
     "execution_count": 28,
     "metadata": {},
     "output_type": "execute_result"
    }
   ],
   "source": [
    "la = Lasso().fit(X_train, y_train)\n",
    "la_pred = la.predict(X_test)\n",
    "mean_absolute_error(y_test, la_pred)"
   ]
  },
  {
   "cell_type": "code",
   "execution_count": 29,
   "metadata": {},
   "outputs": [
    {
     "data": {
      "text/plain": [
       "13.43512919896641"
      ]
     },
     "execution_count": 29,
     "metadata": {},
     "output_type": "execute_result"
    }
   ],
   "source": [
    "rf = RandomForestRegressor(random_state=2021, criterion=\"mae\").fit(X_train, y_train)\n",
    "rf_pred = rf.predict(X_test)\n",
    "mean_absolute_error(y_test, rf_pred)"
   ]
  },
  {
   "cell_type": "code",
   "execution_count": 30,
   "metadata": {},
   "outputs": [
    {
     "data": {
      "text/plain": [
       "9.833333333333334"
      ]
     },
     "execution_count": 30,
     "metadata": {},
     "output_type": "execute_result"
    }
   ],
   "source": [
    "dc = DecisionTreeRegressor(random_state=2021, criterion=\"mae\").fit(X_train, y_train)\n",
    "dc_pred = dc.predict(X_test)\n",
    "mean_absolute_error(y_test, dc_pred)"
   ]
  },
  {
   "cell_type": "markdown",
   "metadata": {},
   "source": [
    "## 지역별로 나눠서 modeling"
   ]
  },
  {
   "cell_type": "code",
   "execution_count": 31,
   "metadata": {},
   "outputs": [],
   "source": [
    "train1=train[train.지역_1==\"지역1\"]\n",
    "train2=train[train.지역_1==\"지역2\"]\n",
    "train3=train[train.지역_1==\"지역3\"]\n",
    "train4=train[train.지역_1==\"지역4\"]"
   ]
  },
  {
   "cell_type": "code",
   "execution_count": 34,
   "metadata": {},
   "outputs": [],
   "source": [
    "test1=test[test.지역_1==\"지역1\"]\n",
    "test2=test[test.지역_1==\"지역2\"]\n",
    "test3=test[test.지역_1==\"지역3\"]\n",
    "test4=test[test.지역_1==\"지역4\"]"
   ]
  },
  {
   "cell_type": "code",
   "execution_count": 35,
   "metadata": {},
   "outputs": [
    {
     "name": "stdout",
     "output_type": "stream",
     "text": [
      "(372, 42) (964, 42) (492, 42) (749, 42)\n",
      "(158, 41) (374, 41) (204, 41) (200, 41)\n"
     ]
    }
   ],
   "source": [
    "print(train1.shape, train2.shape, train3.shape, train4.shape)\n",
    "print(test1.shape, test2.shape, test3.shape, test4.shape)"
   ]
  },
  {
   "cell_type": "code",
   "execution_count": 61,
   "metadata": {},
   "outputs": [],
   "source": [
    "X = train3.drop(columns=['단지명','도로명주소','subway_name','등록차량수', '전용면적','지역_1','지역_2'])\n",
    "y = train3[['등록차량수']]\n",
    "X = pd.get_dummies(X, drop_first=True)\n",
    "X_train, X_test, y_train, y_test = train_test_split(X, y, test_size=0.3, shuffle=True,random_state=2021)"
   ]
  },
  {
   "cell_type": "code",
   "execution_count": 62,
   "metadata": {},
   "outputs": [],
   "source": [
    "#minMaxScaler.fit(X_train)\n",
    "#X_train = minMaxScaler.transform(X_train)\n",
    "#minMaxScaler.fit(X_test)\n",
    "#X_test = minMaxScaler.transform(X_test)\n",
    "# 왜인지 스케일러 쓰면 안좋아짐;;"
   ]
  },
  {
   "cell_type": "code",
   "execution_count": 63,
   "metadata": {},
   "outputs": [
    {
     "data": {
      "text/plain": [
       "0.2838453720145161"
      ]
     },
     "execution_count": 63,
     "metadata": {},
     "output_type": "execute_result"
    }
   ],
   "source": [
    "lr= LinearRegression().fit(X_train, y_train)\n",
    "lr_pred = lr.predict(X_test)\n",
    "mean_absolute_error(y_test, lr_pred)"
   ]
  },
  {
   "cell_type": "code",
   "execution_count": 64,
   "metadata": {},
   "outputs": [
    {
     "data": {
      "text/plain": [
       "19.689898065095846"
      ]
     },
     "execution_count": 64,
     "metadata": {},
     "output_type": "execute_result"
    }
   ],
   "source": [
    "ri = Ridge().fit(X_train, y_train)\n",
    "ri_pred = ri.predict(X_test)\n",
    "mean_absolute_error(y_test, ri_pred)"
   ]
  },
  {
   "cell_type": "code",
   "execution_count": 65,
   "metadata": {},
   "outputs": [
    {
     "data": {
      "text/plain": [
       "51.280122060440966"
      ]
     },
     "execution_count": 65,
     "metadata": {},
     "output_type": "execute_result"
    }
   ],
   "source": [
    "la = Lasso().fit(X_train, y_train)\n",
    "la_pred = la.predict(X_test)\n",
    "mean_absolute_error(y_test, la_pred)"
   ]
  },
  {
   "cell_type": "markdown",
   "metadata": {},
   "source": [
    "# 첫번째 기준으로 예측 해보겠음"
   ]
  },
  {
   "cell_type": "code",
   "execution_count": 66,
   "metadata": {},
   "outputs": [
    {
     "data": {
      "text/html": [
       "<div>\n",
       "<style scoped>\n",
       "    .dataframe tbody tr th:only-of-type {\n",
       "        vertical-align: middle;\n",
       "    }\n",
       "\n",
       "    .dataframe tbody tr th {\n",
       "        vertical-align: top;\n",
       "    }\n",
       "\n",
       "    .dataframe thead th {\n",
       "        text-align: right;\n",
       "    }\n",
       "</style>\n",
       "<table border=\"1\" class=\"dataframe\">\n",
       "  <thead>\n",
       "    <tr style=\"text-align: right;\">\n",
       "      <th></th>\n",
       "      <th>code</th>\n",
       "      <th>num</th>\n",
       "    </tr>\n",
       "  </thead>\n",
       "  <tbody>\n",
       "    <tr>\n",
       "      <th>0</th>\n",
       "      <td>C1072</td>\n",
       "      <td>0</td>\n",
       "    </tr>\n",
       "    <tr>\n",
       "      <th>1</th>\n",
       "      <td>C1128</td>\n",
       "      <td>0</td>\n",
       "    </tr>\n",
       "    <tr>\n",
       "      <th>2</th>\n",
       "      <td>C1456</td>\n",
       "      <td>0</td>\n",
       "    </tr>\n",
       "    <tr>\n",
       "      <th>3</th>\n",
       "      <td>C1840</td>\n",
       "      <td>0</td>\n",
       "    </tr>\n",
       "    <tr>\n",
       "      <th>4</th>\n",
       "      <td>C1332</td>\n",
       "      <td>0</td>\n",
       "    </tr>\n",
       "  </tbody>\n",
       "</table>\n",
       "</div>"
      ],
      "text/plain": [
       "    code  num\n",
       "0  C1072    0\n",
       "1  C1128    0\n",
       "2  C1456    0\n",
       "3  C1840    0\n",
       "4  C1332    0"
      ]
     },
     "execution_count": 66,
     "metadata": {},
     "output_type": "execute_result"
    }
   ],
   "source": [
    "sample=pd.read_csv('sample_submission.csv')\n",
    "sample.head()"
   ]
  },
  {
   "cell_type": "code",
   "execution_count": 67,
   "metadata": {},
   "outputs": [],
   "source": [
    "# sample = sample.loc[~sample.code.isin(['C2335', 'C1327', 'C2675'])]"
   ]
  },
  {
   "cell_type": "code",
   "execution_count": 68,
   "metadata": {},
   "outputs": [
    {
     "data": {
      "text/plain": [
       "(150, 2)"
      ]
     },
     "execution_count": 68,
     "metadata": {},
     "output_type": "execute_result"
    }
   ],
   "source": [
    "sample.shape"
   ]
  },
  {
   "cell_type": "code",
   "execution_count": 69,
   "metadata": {},
   "outputs": [],
   "source": [
    "train1=train[train.지역_1==\"지역1\"]\n",
    "train2=train[train.지역_1==\"지역2\"]\n",
    "train3=train[train.지역_1==\"지역3\"]\n",
    "train4=train[train.지역_1==\"지역4\"]\n",
    "test1=test[test.지역_1==\"지역1\"]\n",
    "test2=test[test.지역_1==\"지역2\"]\n",
    "test3=test[test.지역_1==\"지역3\"]\n",
    "test4=test[test.지역_1==\"지역4\"]"
   ]
  },
  {
   "cell_type": "code",
   "execution_count": 70,
   "metadata": {},
   "outputs": [
    {
     "name": "stdout",
     "output_type": "stream",
     "text": [
      "(372, 42) (964, 42) (492, 42) (749, 42)\n",
      "(158, 41) (374, 41) (204, 41) (200, 41)\n"
     ]
    }
   ],
   "source": [
    "print(train1.shape, train2.shape, train3.shape, train4.shape)\n",
    "print(test1.shape, test2.shape, test3.shape, test4.shape)"
   ]
  },
  {
   "cell_type": "code",
   "execution_count": 71,
   "metadata": {},
   "outputs": [],
   "source": [
    "df= pd.concat([train1, test1])"
   ]
  },
  {
   "cell_type": "code",
   "execution_count": 72,
   "metadata": {},
   "outputs": [],
   "source": [
    "X = df.drop(columns=['단지코드','단지명','도로명주소','subway_name','등록차량수', '전용면적','지역_1','지역_2'])\n",
    "X = pd.get_dummies(X, drop_first=True)"
   ]
  },
  {
   "cell_type": "code",
   "execution_count": 73,
   "metadata": {},
   "outputs": [],
   "source": [
    "X.train=X.iloc[0:372, :]\n",
    "X.test=X.iloc[372:, :]\n",
    "y_train = train1[['등록차량수']]"
   ]
  },
  {
   "cell_type": "code",
   "execution_count": 74,
   "metadata": {},
   "outputs": [],
   "source": [
    "model1= LinearRegression().fit(X.train, y_train)\n",
    "model1_pred = model1.predict(X.test)"
   ]
  },
  {
   "cell_type": "code",
   "execution_count": 75,
   "metadata": {},
   "outputs": [],
   "source": [
    "model1=pd.DataFrame(model1_pred)\n",
    "code1=test1.단지코드\n",
    "model1=model1.reset_index(drop=True)\n",
    "code1=code1.reset_index(drop=True)"
   ]
  },
  {
   "cell_type": "code",
   "execution_count": 76,
   "metadata": {},
   "outputs": [
    {
     "data": {
      "text/plain": [
       "code\n",
       "C1071     298.832348\n",
       "C1229     418.864358\n",
       "C1253    1072.764653\n",
       "C1297     439.894044\n",
       "C1349     145.573329\n",
       "Name: num, dtype: float64"
      ]
     },
     "execution_count": 76,
     "metadata": {},
     "output_type": "execute_result"
    }
   ],
   "source": [
    "pred1=pd.concat([code1, model1], axis=1, ignore_index=True)\n",
    "pred1.columns=[\"code\", \"num\"]\n",
    "pred1=pred1.num.groupby(pred1.code).mean()\n",
    "pred1.head()"
   ]
  },
  {
   "cell_type": "code",
   "execution_count": 77,
   "metadata": {},
   "outputs": [],
   "source": [
    "df= pd.concat([train2, test2])"
   ]
  },
  {
   "cell_type": "code",
   "execution_count": 78,
   "metadata": {},
   "outputs": [],
   "source": [
    "X = df.drop(columns=['단지코드','단지명','도로명주소','subway_name','등록차량수', '전용면적','지역_1','지역_2'])\n",
    "X = pd.get_dummies(X, drop_first=True)"
   ]
  },
  {
   "cell_type": "code",
   "execution_count": 79,
   "metadata": {},
   "outputs": [],
   "source": [
    "X.train=X.iloc[0:964, :]\n",
    "X.test=X.iloc[964:, :]\n",
    "y_train = train2[['등록차량수']]"
   ]
  },
  {
   "cell_type": "code",
   "execution_count": 80,
   "metadata": {},
   "outputs": [],
   "source": [
    "model2= LinearRegression().fit(X.train, y_train)\n",
    "model2_pred = model2.predict(X.test)"
   ]
  },
  {
   "cell_type": "code",
   "execution_count": 81,
   "metadata": {},
   "outputs": [],
   "source": [
    "model2=pd.DataFrame(model2_pred)\n",
    "code2=test2.단지코드\n",
    "model2=model2.reset_index(drop=True)\n",
    "code2=code2.reset_index(drop=True)"
   ]
  },
  {
   "cell_type": "code",
   "execution_count": 82,
   "metadata": {},
   "outputs": [
    {
     "data": {
      "text/plain": [
       "code\n",
       "C1016    689.518517\n",
       "C1030    766.138363\n",
       "C1060    730.701811\n",
       "C1064    779.086985\n",
       "C1072    656.046798\n",
       "Name: num, dtype: float64"
      ]
     },
     "execution_count": 82,
     "metadata": {},
     "output_type": "execute_result"
    }
   ],
   "source": [
    "pred2=pd.concat([code2, model2], axis=1, ignore_index=True)\n",
    "pred2.columns=[\"code\", \"num\"]\n",
    "pred2=pred2.num.groupby(pred2.code).mean()\n",
    "pred2.head()"
   ]
  },
  {
   "cell_type": "code",
   "execution_count": 83,
   "metadata": {},
   "outputs": [],
   "source": [
    "df= pd.concat([train3, test3])"
   ]
  },
  {
   "cell_type": "code",
   "execution_count": 84,
   "metadata": {},
   "outputs": [],
   "source": [
    "X = df.drop(columns=['단지코드','단지명','도로명주소','subway_name','등록차량수', '전용면적','지역_1','지역_2'])\n",
    "X = pd.get_dummies(X, drop_first=True)"
   ]
  },
  {
   "cell_type": "code",
   "execution_count": 85,
   "metadata": {},
   "outputs": [],
   "source": [
    "X.train=X.iloc[0:492, :]\n",
    "X.test=X.iloc[492:, :]\n",
    "y_train = train3[['등록차량수']]"
   ]
  },
  {
   "cell_type": "code",
   "execution_count": 86,
   "metadata": {},
   "outputs": [],
   "source": [
    "model3= LinearRegression().fit(X.train, y_train)\n",
    "model3_pred = model3.predict(X.test)"
   ]
  },
  {
   "cell_type": "code",
   "execution_count": 87,
   "metadata": {},
   "outputs": [],
   "source": [
    "model3=pd.DataFrame(model3_pred)\n",
    "code3=test3.단지코드\n",
    "model3=model3.reset_index(drop=True)\n",
    "code3=code3.reset_index(drop=True)"
   ]
  },
  {
   "cell_type": "code",
   "execution_count": 88,
   "metadata": {},
   "outputs": [
    {
     "data": {
      "text/plain": [
       "code\n",
       "C1019    300.406453\n",
       "C1038    208.642422\n",
       "C1040    332.793749\n",
       "C1166    283.577946\n",
       "C1216    289.037362\n",
       "Name: num, dtype: float64"
      ]
     },
     "execution_count": 88,
     "metadata": {},
     "output_type": "execute_result"
    }
   ],
   "source": [
    "pred3=pd.concat([code3, model3], axis=1, ignore_index=True)\n",
    "pred3.columns=[\"code\", \"num\"]\n",
    "pred3=pred3.num.groupby(pred3.code).mean()\n",
    "pred3.head()"
   ]
  },
  {
   "cell_type": "code",
   "execution_count": 89,
   "metadata": {},
   "outputs": [],
   "source": [
    "df= pd.concat([train4, test4])"
   ]
  },
  {
   "cell_type": "code",
   "execution_count": 90,
   "metadata": {},
   "outputs": [],
   "source": [
    "X = df.drop(columns=['단지코드','단지명','도로명주소','subway_name','등록차량수', '전용면적','지역_1','지역_2'])\n",
    "X = pd.get_dummies(X, drop_first=True)"
   ]
  },
  {
   "cell_type": "code",
   "execution_count": 91,
   "metadata": {},
   "outputs": [],
   "source": [
    "X.train=X.iloc[0:749, :]\n",
    "X.test=X.iloc[749:, :]\n",
    "y_train = train4[['등록차량수']]"
   ]
  },
  {
   "cell_type": "code",
   "execution_count": 92,
   "metadata": {},
   "outputs": [],
   "source": [
    "model4= LinearRegression().fit(X.train, y_train)\n",
    "model4_pred = model4.predict(X.test)"
   ]
  },
  {
   "cell_type": "code",
   "execution_count": 93,
   "metadata": {},
   "outputs": [],
   "source": [
    "model4=pd.DataFrame(model4_pred)\n",
    "code4=test4.단지코드\n",
    "model4=model4.reset_index(drop=True)\n",
    "code4=code4.reset_index(drop=True)"
   ]
  },
  {
   "cell_type": "code",
   "execution_count": 94,
   "metadata": {
    "scrolled": true
   },
   "outputs": [
    {
     "data": {
      "text/plain": [
       "code\n",
       "C1003    236.863759\n",
       "C1006    309.851772\n",
       "C1083    377.344051\n",
       "C1147    727.449882\n",
       "C1152    826.683873\n",
       "Name: num, dtype: float64"
      ]
     },
     "execution_count": 94,
     "metadata": {},
     "output_type": "execute_result"
    }
   ],
   "source": [
    "pred4=pd.concat([code4, model4], axis=1, ignore_index=True)\n",
    "pred4.columns=[\"code\", \"num\"]\n",
    "pred4=pred4.num.groupby(pred4.code).mean()\n",
    "pred4.head()"
   ]
  },
  {
   "cell_type": "code",
   "execution_count": 95,
   "metadata": {},
   "outputs": [],
   "source": [
    "df_merge=pd.DataFrame(pd.concat([pred1, pred2, pred3, pred4], axis=0))\n",
    "df_merge=df_merge.reset_index()"
   ]
  },
  {
   "cell_type": "code",
   "execution_count": 96,
   "metadata": {},
   "outputs": [
    {
     "data": {
      "text/html": [
       "<div>\n",
       "<style scoped>\n",
       "    .dataframe tbody tr th:only-of-type {\n",
       "        vertical-align: middle;\n",
       "    }\n",
       "\n",
       "    .dataframe tbody tr th {\n",
       "        vertical-align: top;\n",
       "    }\n",
       "\n",
       "    .dataframe thead th {\n",
       "        text-align: right;\n",
       "    }\n",
       "</style>\n",
       "<table border=\"1\" class=\"dataframe\">\n",
       "  <thead>\n",
       "    <tr style=\"text-align: right;\">\n",
       "      <th></th>\n",
       "      <th>code</th>\n",
       "      <th>num</th>\n",
       "    </tr>\n",
       "  </thead>\n",
       "  <tbody>\n",
       "    <tr>\n",
       "      <th>0</th>\n",
       "      <td>C1071</td>\n",
       "      <td>298.832348</td>\n",
       "    </tr>\n",
       "    <tr>\n",
       "      <th>1</th>\n",
       "      <td>C1229</td>\n",
       "      <td>418.864358</td>\n",
       "    </tr>\n",
       "    <tr>\n",
       "      <th>2</th>\n",
       "      <td>C1253</td>\n",
       "      <td>1072.764653</td>\n",
       "    </tr>\n",
       "    <tr>\n",
       "      <th>3</th>\n",
       "      <td>C1297</td>\n",
       "      <td>439.894044</td>\n",
       "    </tr>\n",
       "    <tr>\n",
       "      <th>4</th>\n",
       "      <td>C1349</td>\n",
       "      <td>145.573329</td>\n",
       "    </tr>\n",
       "  </tbody>\n",
       "</table>\n",
       "</div>"
      ],
      "text/plain": [
       "    code          num\n",
       "0  C1071   298.832348\n",
       "1  C1229   418.864358\n",
       "2  C1253  1072.764653\n",
       "3  C1297   439.894044\n",
       "4  C1349   145.573329"
      ]
     },
     "execution_count": 96,
     "metadata": {},
     "output_type": "execute_result"
    }
   ],
   "source": [
    "df_merge.head()"
   ]
  },
  {
   "cell_type": "code",
   "execution_count": 97,
   "metadata": {},
   "outputs": [],
   "source": [
    "test_split=pd.merge(sample, df_merge, on='code', how='outer')"
   ]
  },
  {
   "cell_type": "code",
   "execution_count": 98,
   "metadata": {
    "scrolled": true
   },
   "outputs": [
    {
     "data": {
      "text/html": [
       "<div>\n",
       "<style scoped>\n",
       "    .dataframe tbody tr th:only-of-type {\n",
       "        vertical-align: middle;\n",
       "    }\n",
       "\n",
       "    .dataframe tbody tr th {\n",
       "        vertical-align: top;\n",
       "    }\n",
       "\n",
       "    .dataframe thead th {\n",
       "        text-align: right;\n",
       "    }\n",
       "</style>\n",
       "<table border=\"1\" class=\"dataframe\">\n",
       "  <thead>\n",
       "    <tr style=\"text-align: right;\">\n",
       "      <th></th>\n",
       "      <th>code</th>\n",
       "      <th>num_x</th>\n",
       "      <th>num_y</th>\n",
       "    </tr>\n",
       "  </thead>\n",
       "  <tbody>\n",
       "    <tr>\n",
       "      <th>0</th>\n",
       "      <td>C1072</td>\n",
       "      <td>0</td>\n",
       "      <td>656.046798</td>\n",
       "    </tr>\n",
       "    <tr>\n",
       "      <th>1</th>\n",
       "      <td>C1128</td>\n",
       "      <td>0</td>\n",
       "      <td>1321.254176</td>\n",
       "    </tr>\n",
       "    <tr>\n",
       "      <th>2</th>\n",
       "      <td>C1456</td>\n",
       "      <td>0</td>\n",
       "      <td>560.549780</td>\n",
       "    </tr>\n",
       "    <tr>\n",
       "      <th>3</th>\n",
       "      <td>C1840</td>\n",
       "      <td>0</td>\n",
       "      <td>533.811610</td>\n",
       "    </tr>\n",
       "    <tr>\n",
       "      <th>4</th>\n",
       "      <td>C1332</td>\n",
       "      <td>0</td>\n",
       "      <td>1222.577013</td>\n",
       "    </tr>\n",
       "  </tbody>\n",
       "</table>\n",
       "</div>"
      ],
      "text/plain": [
       "    code  num_x        num_y\n",
       "0  C1072      0   656.046798\n",
       "1  C1128      0  1321.254176\n",
       "2  C1456      0   560.549780\n",
       "3  C1840      0   533.811610\n",
       "4  C1332      0  1222.577013"
      ]
     },
     "execution_count": 98,
     "metadata": {},
     "output_type": "execute_result"
    }
   ],
   "source": [
    "test_split.head()"
   ]
  },
  {
   "cell_type": "code",
   "execution_count": 99,
   "metadata": {},
   "outputs": [],
   "source": [
    "test_split= test_split.drop(columns='num_x')\n",
    "test_split.columns=[\"code\",\"num\"]"
   ]
  },
  {
   "cell_type": "code",
   "execution_count": 100,
   "metadata": {},
   "outputs": [
    {
     "data": {
      "text/plain": [
       "13.0"
      ]
     },
     "execution_count": 100,
     "metadata": {},
     "output_type": "execute_result"
    }
   ],
   "source": [
    "min(train.등록차량수)"
   ]
  },
  {
   "cell_type": "code",
   "execution_count": 101,
   "metadata": {},
   "outputs": [
    {
     "data": {
      "text/plain": [
       "Int64Index([116], dtype='int64')"
      ]
     },
     "execution_count": 101,
     "metadata": {},
     "output_type": "execute_result"
    }
   ],
   "source": [
    "test_split[test_split.num<0].index"
   ]
  },
  {
   "cell_type": "code",
   "execution_count": 102,
   "metadata": {},
   "outputs": [],
   "source": [
    "test_split.at[116,\"num\"]=13"
   ]
  },
  {
   "cell_type": "code",
   "execution_count": 103,
   "metadata": {},
   "outputs": [],
   "source": [
    "test_split.to_csv('0712_LR2.csv', index=False)"
   ]
  },
  {
   "cell_type": "code",
   "execution_count": null,
   "metadata": {},
   "outputs": [],
   "source": []
  }
 ],
 "metadata": {
  "kernelspec": {
   "display_name": "Python 3",
   "language": "python",
   "name": "python3"
  },
  "language_info": {
   "codemirror_mode": {
    "name": "ipython",
    "version": 3
   },
   "file_extension": ".py",
   "mimetype": "text/x-python",
   "name": "python",
   "nbconvert_exporter": "python",
   "pygments_lexer": "ipython3",
   "version": "3.7.3"
  }
 },
 "nbformat": 4,
 "nbformat_minor": 2
}
