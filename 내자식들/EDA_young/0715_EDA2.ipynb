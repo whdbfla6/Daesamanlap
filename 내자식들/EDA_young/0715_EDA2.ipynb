{
 "cells": [
  {
   "cell_type": "code",
   "execution_count": 1,
   "metadata": {},
   "outputs": [],
   "source": [
    "#Package\n",
    "import pandas as pd\n",
    "import numpy as np\n",
    "import matplotlib\n",
    "from matplotlib import pyplot as plt\n",
    "import seaborn as sns\n",
    "plt.rcParams['font.family'] = 'NanumGothic'\n",
    "import warnings\n",
    "warnings.filterwarnings(action='ignore')"
   ]
  },
  {
   "cell_type": "code",
   "execution_count": 2,
   "metadata": {},
   "outputs": [],
   "source": [
    "train=pd.read_csv(\"merged_train.csv\")\n",
    "test=pd.read_csv(\"merged_test.csv\")"
   ]
  },
  {
   "cell_type": "code",
   "execution_count": 3,
   "metadata": {
    "scrolled": true
   },
   "outputs": [
    {
     "name": "stdout",
     "output_type": "stream",
     "text": [
      "414 147\n"
     ]
    }
   ],
   "source": [
    "print(len(set(train.단지코드)), len(set(test.단지코드)))"
   ]
  },
  {
   "cell_type": "code",
   "execution_count": 4,
   "metadata": {},
   "outputs": [
    {
     "name": "stdout",
     "output_type": "stream",
     "text": [
      "(2896, 34) (1008, 33)\n"
     ]
    }
   ],
   "source": [
    "print(train.shape, test.shape)"
   ]
  },
  {
   "cell_type": "code",
   "execution_count": 5,
   "metadata": {},
   "outputs": [
    {
     "name": "stdout",
     "output_type": "stream",
     "text": [
      "(2577, 34) (936, 33)\n"
     ]
    }
   ],
   "source": [
    "train=train.drop_duplicates(keep='first')\n",
    "test=test.drop_duplicates(keep='first')\n",
    "print(train.shape, test.shape)"
   ]
  },
  {
   "cell_type": "markdown",
   "metadata": {},
   "source": [
    "## 상가비율, 대형전용면적, 세대당가능주차면수, 공가수, 분양세대수"
   ]
  },
  {
   "cell_type": "code",
   "execution_count": 6,
   "metadata": {},
   "outputs": [
    {
     "name": "stdout",
     "output_type": "stream",
     "text": [
      "\n",
      "...Before preprocessing\n",
      "(2577, 34) (936, 33)\n",
      "\n",
      "...After preprocessing\n",
      "(2577, 39) (936, 38)\n"
     ]
    }
   ],
   "source": [
    "print(\"\\n...Before preprocessing\")\n",
    "print(train.shape, test.shape)\n",
    "\n",
    "# 상가비율 column 추가\n",
    "train_cls = pd.concat([train[['단지코드']], pd.get_dummies(train[['임대건물구분']])], axis=1).groupby('단지코드').sum()\n",
    "tot = train_cls['임대건물구분_상가']+train_cls['임대건물구분_아파트']\n",
    "train_cls['상가비율'] = train_cls['임대건물구분_상가']/tot\n",
    "train = pd.merge(train,train_cls[['상가비율']].reset_index(),on='단지코드')\n",
    "\n",
    "test_cls = pd.concat([test[['단지코드']], pd.get_dummies(test[['임대건물구분']])], axis=1).groupby('단지코드').sum()\n",
    "tot = test_cls['임대건물구분_상가']+test_cls['임대건물구분_아파트']\n",
    "test_cls['상가비율'] = test_cls['임대건물구분_상가']/tot\n",
    "test = pd.merge(test,test_cls[['상가비율']].reset_index(),on='단지코드')\n",
    "\n",
    "# 세대당_가능주차면수 column 추기\n",
    "train['세대당_가능주차면수'] = train['단지내주차면수']/train['총세대수']\n",
    "test['세대당_가능주차면수'] = test['단지내주차면수']/test['총세대수']\n",
    "\n",
    "# 공가수비율 column 추가\n",
    "train['공가수비율']= train.공가수/train.총세대수 \n",
    "test['공가수비율']= test.공가수/test.총세대수 \n",
    "\n",
    "# 대형전용면적 column 추가\n",
    "level = 85\n",
    "train['대형전용면적'] = 0\n",
    "train.loc[train.전용면적>level, '대형전용면적'] = 1\n",
    "train.loc[train.전용면적<=level, '대형전용면적'] = 0\n",
    "\n",
    "test['대형전용면적'] = 0\n",
    "test.loc[test.전용면적>level, '대형전용면적'] = 1\n",
    "test.loc[test.전용면적<=level, '대형전용면적'] = 0\n",
    "\n",
    "# 분양세대수 column 추가\n",
    "train_sale = pd.DataFrame(train.groupby(['단지코드']).first()['총세대수'] - train.groupby(['단지코드']).sum()['전용면적별세대수'])\n",
    "train_sale.columns = [\"분양세대수\"]\n",
    "train_sale = train_sale.astype('int16')\n",
    "train_sale.reset_index(inplace=True)\n",
    "train = pd.merge(train, train_sale,on=\"단지코드\")\n",
    "\n",
    "test_sale = pd.DataFrame(test.groupby(['단지코드']).first()['총세대수'] - test.groupby(['단지코드']).sum()['전용면적별세대수'])\n",
    "test_sale.columns = [\"분양세대수\"]\n",
    "test_sale = test_sale.astype('int16')\n",
    "test_sale.reset_index(inplace=True)\n",
    "test = pd.merge(test, test_sale,on=\"단지코드\")\n",
    "\n",
    "# check\n",
    "print(\"\\n...After preprocessing\")\n",
    "print(train.shape, test.shape)"
   ]
  },
  {
   "cell_type": "markdown",
   "metadata": {},
   "source": [
    "# 유림 EDA(변수) 반영"
   ]
  },
  {
   "cell_type": "code",
   "execution_count": 7,
   "metadata": {},
   "outputs": [],
   "source": [
    "train['0~19 인구수'] = train['0~19세_비율']*train['총세대수']\n",
    "train['20~39 인구수'] = train['20~39세_비율']*train['총세대수']\n",
    "train['40~69 인구수'] = train['40~69세_비율']*train['총세대수']\n",
    "train['70세이상 인구수'] = train['70세이상_비율']*train['총세대수']\n",
    "test['0~19 인구수'] = test['0~19세_비율']*test['총세대수']\n",
    "test['20~39 인구수'] = test['20~39세_비율']*test['총세대수']\n",
    "test['40~69 인구수'] = test['40~69세_비율']*test['총세대수']\n",
    "test['70세이상 인구수'] = test['70세이상_비율']*test['총세대수']"
   ]
  },
  {
   "cell_type": "code",
   "execution_count": 8,
   "metadata": {},
   "outputs": [],
   "source": [
    "train=train.drop(['남/여비율','남/여_0~19세','남/여_20~39세','남/여_40~69세',\n",
    "                  '남/여_70세이상','0~19세_비율','20~39세_비율','40~69세_비율','70세이상_비율'], axis=1)\n",
    "test=test.drop(['남/여비율','남/여_0~19세','남/여_20~39세','남/여_40~69세',\n",
    "                  '남/여_70세이상','0~19세_비율','20~39세_비율','40~69세_비율','70세이상_비율'], axis=1)       "
   ]
  },
  {
   "cell_type": "code",
   "execution_count": 9,
   "metadata": {},
   "outputs": [],
   "source": [
    "def func3(x,dic):\n",
    "    for i in dic.keys():\n",
    "        if len(dic[i]) == len(x):\n",
    "            if all(dic[i] == x):\n",
    "                return i"
   ]
  },
  {
   "cell_type": "code",
   "execution_count": 10,
   "metadata": {},
   "outputs": [],
   "source": [
    "train.loc[train['공급유형'].isin(['영구임대', '행복주택']),'공급유형'] = '영구/행복'\n",
    "test.loc[test['공급유형'].isin(['영구임대', '행복주택']),'공급유형'] = '영구/행복'\n",
    "\n",
    "train.loc[train['공급유형'].isin(['공공임대(10년)', '공공임대(5년)']),'공급유형'] = '공공임대(단기)'\n",
    "test.loc[test['공급유형'].isin(['공공임대(10년)', '공공임대(5년)']),'공급유형'] = '공공임대(단기)'\n",
    "\n",
    "no_shop = train[train['공급유형']!='임대상가']\n",
    "uniq = np.reshape(no_shop['공급유형'].unique(),(7,1))\n",
    "\n",
    "dic = dict(enumerate(uniq))\n",
    "dic[8] = ['공공임대(단기)', '국민임대']\n",
    "dic[9] = ['장기전세', '국민임대', '영구/행복']\n",
    "dic[10] = ['국민임대', '영구/행복']\n",
    "dic[11] = ['공공임대(단기)', '공공임대(분납)']\n",
    "dic[12] = ['공공분양', '공공임대(단기)', '공공임대(분납)']\n",
    "dic[13] = ['공공임대(50년)', '영구/행복']\n",
    "dic[14] = ['장기전세', '공공임대(단기)', '공공임대(분납)']\n",
    "\n",
    "# dic1\n",
    "\n",
    "dic1 = dict()\n",
    "for i in dic.keys():\n",
    "    val = train.loc[train['공급유형'].isin(dic[i]),'임대료'].mean()\n",
    "    dic1[i] = val\n",
    "\n",
    "# train\n",
    "no_shop = train[train['공급유형']!='임대상가']\n",
    "sample = pd.DataFrame(no_shop.groupby('단지코드')['공급유형'].unique()).reset_index()\n",
    "sample['cluster'] = sample['공급유형'].apply(lambda x : func3(x,dic))\n",
    "sample['cluster'] = sample['cluster'].apply(lambda x: int(x))\n",
    "train = pd.merge(train,sample[['단지코드','cluster']],on='단지코드',how='left')\n",
    "train['cluster'] = train['cluster'].apply(lambda x: dic1[x])\n",
    "#train = train.drop(['공급유형'],axis=1)\n",
    "\n",
    "\n",
    "# test\n",
    "no_shop = test[test['공급유형']!='임대상가']\n",
    "sample = pd.DataFrame(no_shop.groupby('단지코드')['공급유형'].unique()).reset_index()\n",
    "sample['cluster'] = sample['공급유형'].apply(lambda x : func3(x,dic))\n",
    "test = pd.merge(test,sample[['단지코드','cluster']],on='단지코드',how='left')\n",
    "test['cluster'] = test['cluster'].apply(lambda x: dic1[x])\n",
    "#test = test.drop(['공급유형'],axis=1)"
   ]
  },
  {
   "cell_type": "markdown",
   "metadata": {},
   "source": [
    "# 자격유형"
   ]
  },
  {
   "cell_type": "code",
   "execution_count": 11,
   "metadata": {},
   "outputs": [],
   "source": [
    "# 지역, 자격유형 drop하자"
   ]
  },
  {
   "cell_type": "code",
   "execution_count": 12,
   "metadata": {},
   "outputs": [],
   "source": [
    "#dic = {'1': 'A' ,'2':['C','F','G'],'3':['B','H','I'],'4':['J'],\n",
    "#      '5':['L',\"M\",\"N\",\"O\"],'6':[\"E\",\"K\"],'7':'D'}"
   ]
  },
  {
   "cell_type": "code",
   "execution_count": 13,
   "metadata": {},
   "outputs": [],
   "source": [
    "#def mapping_by_key(dic, x):\n",
    "#    for i in dic.keys():\n",
    "#        if x in dic[i]:\n",
    "#            return int(i)"
   ]
  },
  {
   "cell_type": "code",
   "execution_count": 14,
   "metadata": {},
   "outputs": [],
   "source": [
    "#train['자격유형_카테고리'] = train['자격유형'].apply(lambda x : mapping_by_key(dic, x))\n",
    "#train['자격유형_카테고리'] = train['자격유형_카테고리'].astype(object)\n",
    "#test['자격유형_카테고리'] = test['자격유형'].apply(lambda x : mapping_by_key(dic, x))\n",
    "#test['자격유형_카테고리'] = test['자격유형_카테고리'].astype(object)\n",
    "train= train.drop(columns=\"자격유형\")\n",
    "test= test.drop(columns=\"자격유형\")"
   ]
  },
  {
   "cell_type": "markdown",
   "metadata": {},
   "source": [
    "# 공급유형"
   ]
  },
  {
   "cell_type": "code",
   "execution_count": 15,
   "metadata": {},
   "outputs": [],
   "source": [
    "train.loc[train.공급유형.isin(['공공임대(5년)', '공공임대(10년)']), '공급유형'] = '공공임대(단기)'\n",
    "test.loc[test.공급유형.isin(['공공임대(5년)', '공공임대(10년)']), '공급유형'] = '공공임대(단기)'"
   ]
  },
  {
   "cell_type": "code",
   "execution_count": 16,
   "metadata": {
    "scrolled": false
   },
   "outputs": [
    {
     "data": {
      "text/plain": [
       "((2577, 34), (936, 33))"
      ]
     },
     "execution_count": 16,
     "metadata": {},
     "output_type": "execute_result"
    }
   ],
   "source": [
    "train.shape, test.shape"
   ]
  },
  {
   "cell_type": "markdown",
   "metadata": {},
   "source": [
    "# 1차원으로 만들기"
   ]
  },
  {
   "cell_type": "code",
   "execution_count": 17,
   "metadata": {},
   "outputs": [
    {
     "data": {
      "text/plain": [
       "Index(['단지코드', '총세대수', '임대건물구분', '지역', '공급유형', '전용면적', '전용면적별세대수', '공가수',\n",
       "       '임대보증금', '임대료', '지하철역', '버스정류장', '단지내주차면수', '등록차량수', '단지명', '도로명주소',\n",
       "       '연면적', '위도', '경도', 'subway_name', 'subway_dist', '환승역 수', '총인구수',\n",
       "       '세대당_인구', '상가비율', '세대당_가능주차면수', '공가수비율', '대형전용면적', '분양세대수', '0~19 인구수',\n",
       "       '20~39 인구수', '40~69 인구수', '70세이상 인구수', 'cluster'],\n",
       "      dtype='object')"
      ]
     },
     "execution_count": 17,
     "metadata": {},
     "output_type": "execute_result"
    }
   ],
   "source": [
    "train.columns"
   ]
  },
  {
   "cell_type": "code",
   "execution_count": 18,
   "metadata": {},
   "outputs": [
    {
     "data": {
      "text/plain": [
       "414"
      ]
     },
     "execution_count": 18,
     "metadata": {},
     "output_type": "execute_result"
    }
   ],
   "source": [
    "len(set(train.단지코드))"
   ]
  },
  {
   "cell_type": "code",
   "execution_count": 19,
   "metadata": {},
   "outputs": [],
   "source": [
    "data = train.drop(columns=['공급유형','전용면적','임대건물구분',\n",
    "                           '전용면적별세대수','대형전용면적','임대보증금','임대료', \n",
    "                           \"환승역 수\", \"연면적\"])\n",
    "data = data.drop_duplicates() # '자격유형_카테고리',"
   ]
  },
  {
   "cell_type": "code",
   "execution_count": 20,
   "metadata": {
    "scrolled": false
   },
   "outputs": [
    {
     "data": {
      "text/plain": [
       "(414, 25)"
      ]
     },
     "execution_count": 20,
     "metadata": {},
     "output_type": "execute_result"
    }
   ],
   "source": [
    "data.shape"
   ]
  },
  {
   "cell_type": "code",
   "execution_count": 21,
   "metadata": {},
   "outputs": [],
   "source": [
    "sample = pd.DataFrame(train.groupby(['단지코드','공급유형']).sum()['전용면적별세대수']).reset_index()"
   ]
  },
  {
   "cell_type": "code",
   "execution_count": 22,
   "metadata": {},
   "outputs": [
    {
     "data": {
      "text/html": [
       "<div>\n",
       "<style scoped>\n",
       "    .dataframe tbody tr th:only-of-type {\n",
       "        vertical-align: middle;\n",
       "    }\n",
       "\n",
       "    .dataframe tbody tr th {\n",
       "        vertical-align: top;\n",
       "    }\n",
       "\n",
       "    .dataframe thead th {\n",
       "        text-align: right;\n",
       "    }\n",
       "</style>\n",
       "<table border=\"1\" class=\"dataframe\">\n",
       "  <thead>\n",
       "    <tr style=\"text-align: right;\">\n",
       "      <th></th>\n",
       "      <th>단지코드</th>\n",
       "      <th>공급유형</th>\n",
       "      <th>전용면적별세대수</th>\n",
       "    </tr>\n",
       "  </thead>\n",
       "  <tbody>\n",
       "    <tr>\n",
       "      <th>0</th>\n",
       "      <td>C1000</td>\n",
       "      <td>국민임대</td>\n",
       "      <td>566</td>\n",
       "    </tr>\n",
       "    <tr>\n",
       "      <th>1</th>\n",
       "      <td>C1004</td>\n",
       "      <td>영구/행복</td>\n",
       "      <td>504</td>\n",
       "    </tr>\n",
       "    <tr>\n",
       "      <th>2</th>\n",
       "      <td>C1004</td>\n",
       "      <td>임대상가</td>\n",
       "      <td>13</td>\n",
       "    </tr>\n",
       "    <tr>\n",
       "      <th>3</th>\n",
       "      <td>C1005</td>\n",
       "      <td>국민임대</td>\n",
       "      <td>1144</td>\n",
       "    </tr>\n",
       "    <tr>\n",
       "      <th>4</th>\n",
       "      <td>C1013</td>\n",
       "      <td>국민임대</td>\n",
       "      <td>1308</td>\n",
       "    </tr>\n",
       "  </tbody>\n",
       "</table>\n",
       "</div>"
      ],
      "text/plain": [
       "    단지코드   공급유형  전용면적별세대수\n",
       "0  C1000   국민임대       566\n",
       "1  C1004  영구/행복       504\n",
       "2  C1004   임대상가        13\n",
       "3  C1005   국민임대      1144\n",
       "4  C1013   국민임대      1308"
      ]
     },
     "execution_count": 22,
     "metadata": {},
     "output_type": "execute_result"
    }
   ],
   "source": [
    "sample.head()"
   ]
  },
  {
   "cell_type": "code",
   "execution_count": 23,
   "metadata": {},
   "outputs": [],
   "source": [
    "for i in sample.공급유형.unique():\n",
    "    data[str(i)]=0"
   ]
  },
  {
   "cell_type": "code",
   "execution_count": 24,
   "metadata": {},
   "outputs": [],
   "source": [
    "for i in sample.index:\n",
    "    code = sample.loc[i,'단지코드']\n",
    "    col = sample.loc[i,'공급유형']\n",
    "    val = sample.loc[i,'전용면적별세대수']\n",
    "    ind = data[data['단지코드']==code].index\n",
    "    data.loc[ind,col] = val"
   ]
  },
  {
   "cell_type": "code",
   "execution_count": 25,
   "metadata": {},
   "outputs": [],
   "source": [
    "train_a=train[train.임대건물구분==\"아파트\"]\n",
    "test_a=test[test.임대건물구분==\"아파트\"]"
   ]
  },
  {
   "cell_type": "code",
   "execution_count": 26,
   "metadata": {},
   "outputs": [
    {
     "data": {
      "text/html": [
       "<div>\n",
       "<style scoped>\n",
       "    .dataframe tbody tr th:only-of-type {\n",
       "        vertical-align: middle;\n",
       "    }\n",
       "\n",
       "    .dataframe tbody tr th {\n",
       "        vertical-align: top;\n",
       "    }\n",
       "\n",
       "    .dataframe thead th {\n",
       "        text-align: right;\n",
       "    }\n",
       "</style>\n",
       "<table border=\"1\" class=\"dataframe\">\n",
       "  <thead>\n",
       "    <tr style=\"text-align: right;\">\n",
       "      <th></th>\n",
       "      <th>단지코드</th>\n",
       "      <th>임대료</th>\n",
       "      <th>임대보증금</th>\n",
       "    </tr>\n",
       "  </thead>\n",
       "  <tbody>\n",
       "    <tr>\n",
       "      <th>0</th>\n",
       "      <td>C1000</td>\n",
       "      <td>121064.285714</td>\n",
       "      <td>1.320357e+07</td>\n",
       "    </tr>\n",
       "    <tr>\n",
       "      <th>1</th>\n",
       "      <td>C1004</td>\n",
       "      <td>104695.000000</td>\n",
       "      <td>4.705000e+06</td>\n",
       "    </tr>\n",
       "    <tr>\n",
       "      <th>2</th>\n",
       "      <td>C1005</td>\n",
       "      <td>222046.666667</td>\n",
       "      <td>1.710767e+07</td>\n",
       "    </tr>\n",
       "    <tr>\n",
       "      <th>3</th>\n",
       "      <td>C1013</td>\n",
       "      <td>134726.000000</td>\n",
       "      <td>2.492480e+07</td>\n",
       "    </tr>\n",
       "    <tr>\n",
       "      <th>4</th>\n",
       "      <td>C1014</td>\n",
       "      <td>160488.571429</td>\n",
       "      <td>2.389400e+07</td>\n",
       "    </tr>\n",
       "  </tbody>\n",
       "</table>\n",
       "</div>"
      ],
      "text/plain": [
       "    단지코드            임대료         임대보증금\n",
       "0  C1000  121064.285714  1.320357e+07\n",
       "1  C1004  104695.000000  4.705000e+06\n",
       "2  C1005  222046.666667  1.710767e+07\n",
       "3  C1013  134726.000000  2.492480e+07\n",
       "4  C1014  160488.571429  2.389400e+07"
      ]
     },
     "execution_count": 26,
     "metadata": {},
     "output_type": "execute_result"
    }
   ],
   "source": [
    "sample = train_a.groupby('단지코드').mean()[['임대료','임대보증금']].reset_index()\n",
    "sample.head()"
   ]
  },
  {
   "cell_type": "code",
   "execution_count": 27,
   "metadata": {},
   "outputs": [],
   "source": [
    "for i in sample.index:\n",
    "    code = sample.loc[i,'단지코드']\n",
    "    val1 = sample.loc[i,'임대료']\n",
    "    val2 = sample.loc[i,'임대보증금']\n",
    "    ind = data[data['단지코드']==code].index\n",
    "    data.loc[ind,'임대료'] = val1\n",
    "    data.loc[ind,'임대보증금'] = val2"
   ]
  },
  {
   "cell_type": "code",
   "execution_count": 28,
   "metadata": {},
   "outputs": [],
   "source": [
    "#sample = pd.DataFrame(train.groupby(['단지코드','자격유형_카테고리']).sum()['전용면적별세대수']).reset_index()\n",
    "#sample.head()"
   ]
  },
  {
   "cell_type": "code",
   "execution_count": 29,
   "metadata": {
    "scrolled": true
   },
   "outputs": [],
   "source": [
    "# for i in sample.index:\n",
    "#    code = sample.loc[i,'단지코드']\n",
    "#    col = sample.loc[i,'자격유형_카테고리']\n",
    "#    val = sample.loc[i,'전용면적별세대수']\n",
    "#    ind = data[data['단지코드']==code].index\n",
    "#    data.loc[ind,col] = val"
   ]
  },
  {
   "cell_type": "code",
   "execution_count": 30,
   "metadata": {},
   "outputs": [],
   "source": [
    "#data=data.fillna(0)"
   ]
  },
  {
   "cell_type": "code",
   "execution_count": 31,
   "metadata": {
    "scrolled": true
   },
   "outputs": [],
   "source": [
    "#sample = pd.DataFrame(train.groupby('단지코드')['대형전용면적'].sum()).reset_index()\n",
    "#sample.head()"
   ]
  },
  {
   "cell_type": "code",
   "execution_count": 32,
   "metadata": {},
   "outputs": [],
   "source": [
    "#data=pd.merge(data, sample, on=\"단지코드\", how=\"inner\")"
   ]
  },
  {
   "cell_type": "code",
   "execution_count": 33,
   "metadata": {},
   "outputs": [
    {
     "data": {
      "text/html": [
       "<div>\n",
       "<style scoped>\n",
       "    .dataframe tbody tr th:only-of-type {\n",
       "        vertical-align: middle;\n",
       "    }\n",
       "\n",
       "    .dataframe tbody tr th {\n",
       "        vertical-align: top;\n",
       "    }\n",
       "\n",
       "    .dataframe thead th {\n",
       "        text-align: right;\n",
       "    }\n",
       "</style>\n",
       "<table border=\"1\" class=\"dataframe\">\n",
       "  <thead>\n",
       "    <tr style=\"text-align: right;\">\n",
       "      <th></th>\n",
       "      <th>단지코드</th>\n",
       "      <th>총세대수</th>\n",
       "      <th>지역</th>\n",
       "      <th>공가수</th>\n",
       "      <th>지하철역</th>\n",
       "      <th>버스정류장</th>\n",
       "      <th>단지내주차면수</th>\n",
       "      <th>등록차량수</th>\n",
       "      <th>단지명</th>\n",
       "      <th>도로명주소</th>\n",
       "      <th>...</th>\n",
       "      <th>영구/행복</th>\n",
       "      <th>임대상가</th>\n",
       "      <th>공공임대(단기)</th>\n",
       "      <th>장기전세</th>\n",
       "      <th>공공임대(분납)</th>\n",
       "      <th>공공분양</th>\n",
       "      <th>공공임대(50년)</th>\n",
       "      <th>임대료</th>\n",
       "      <th>임대보증금</th>\n",
       "      <th>전용면적</th>\n",
       "    </tr>\n",
       "  </thead>\n",
       "  <tbody>\n",
       "    <tr>\n",
       "      <th>0</th>\n",
       "      <td>C2515</td>\n",
       "      <td>545</td>\n",
       "      <td>경상남도</td>\n",
       "      <td>17.0</td>\n",
       "      <td>0.0</td>\n",
       "      <td>3.0</td>\n",
       "      <td>624.0</td>\n",
       "      <td>205.0</td>\n",
       "      <td>미수휴먼시아</td>\n",
       "      <td>경상남도 통영시 미우지해안로 107</td>\n",
       "      <td>...</td>\n",
       "      <td>0</td>\n",
       "      <td>0</td>\n",
       "      <td>0</td>\n",
       "      <td>0</td>\n",
       "      <td>0</td>\n",
       "      <td>0</td>\n",
       "      <td>0</td>\n",
       "      <td>139557.142857</td>\n",
       "      <td>1.678714e+07</td>\n",
       "      <td>44.345714</td>\n",
       "    </tr>\n",
       "    <tr>\n",
       "      <th>1</th>\n",
       "      <td>C1407</td>\n",
       "      <td>1216</td>\n",
       "      <td>대전광역시</td>\n",
       "      <td>13.0</td>\n",
       "      <td>1.0</td>\n",
       "      <td>1.0</td>\n",
       "      <td>1285.0</td>\n",
       "      <td>1064.0</td>\n",
       "      <td>도안 휴먼시아 4단지</td>\n",
       "      <td>대전광역시 유성구 상대로 40</td>\n",
       "      <td>...</td>\n",
       "      <td>0</td>\n",
       "      <td>0</td>\n",
       "      <td>0</td>\n",
       "      <td>0</td>\n",
       "      <td>0</td>\n",
       "      <td>0</td>\n",
       "      <td>0</td>\n",
       "      <td>165956.250000</td>\n",
       "      <td>2.598438e+07</td>\n",
       "      <td>39.326250</td>\n",
       "    </tr>\n",
       "    <tr>\n",
       "      <th>2</th>\n",
       "      <td>C1945</td>\n",
       "      <td>755</td>\n",
       "      <td>경기도</td>\n",
       "      <td>6.0</td>\n",
       "      <td>1.0</td>\n",
       "      <td>3.0</td>\n",
       "      <td>734.0</td>\n",
       "      <td>730.0</td>\n",
       "      <td>호평마을 주공휴먼시아</td>\n",
       "      <td>경기도 남양주시 늘을3로 8</td>\n",
       "      <td>...</td>\n",
       "      <td>0</td>\n",
       "      <td>0</td>\n",
       "      <td>0</td>\n",
       "      <td>0</td>\n",
       "      <td>0</td>\n",
       "      <td>0</td>\n",
       "      <td>0</td>\n",
       "      <td>200914.000000</td>\n",
       "      <td>2.406060e+07</td>\n",
       "      <td>52.668000</td>\n",
       "    </tr>\n",
       "    <tr>\n",
       "      <th>3</th>\n",
       "      <td>C1470</td>\n",
       "      <td>696</td>\n",
       "      <td>전라북도</td>\n",
       "      <td>14.0</td>\n",
       "      <td>0.0</td>\n",
       "      <td>2.0</td>\n",
       "      <td>645.0</td>\n",
       "      <td>553.0</td>\n",
       "      <td>장신휴먼시아1단지</td>\n",
       "      <td>전라북도 익산시 오산면 선화로4길 66</td>\n",
       "      <td>...</td>\n",
       "      <td>0</td>\n",
       "      <td>0</td>\n",
       "      <td>0</td>\n",
       "      <td>0</td>\n",
       "      <td>0</td>\n",
       "      <td>0</td>\n",
       "      <td>0</td>\n",
       "      <td>120150.000000</td>\n",
       "      <td>1.772275e+07</td>\n",
       "      <td>42.982500</td>\n",
       "    </tr>\n",
       "    <tr>\n",
       "      <th>4</th>\n",
       "      <td>C1898</td>\n",
       "      <td>566</td>\n",
       "      <td>전라북도</td>\n",
       "      <td>9.0</td>\n",
       "      <td>0.0</td>\n",
       "      <td>6.0</td>\n",
       "      <td>517.0</td>\n",
       "      <td>415.0</td>\n",
       "      <td>장신휴먼시아2단지</td>\n",
       "      <td>전라북도 익산시 오산면 선화로4길 24-9</td>\n",
       "      <td>...</td>\n",
       "      <td>0</td>\n",
       "      <td>0</td>\n",
       "      <td>0</td>\n",
       "      <td>0</td>\n",
       "      <td>0</td>\n",
       "      <td>0</td>\n",
       "      <td>0</td>\n",
       "      <td>119148.333333</td>\n",
       "      <td>1.742233e+07</td>\n",
       "      <td>42.575000</td>\n",
       "    </tr>\n",
       "  </tbody>\n",
       "</table>\n",
       "<p>5 rows × 36 columns</p>\n",
       "</div>"
      ],
      "text/plain": [
       "    단지코드  총세대수     지역   공가수  지하철역  버스정류장  단지내주차면수   등록차량수          단지명  \\\n",
       "0  C2515   545   경상남도  17.0   0.0    3.0    624.0   205.0       미수휴먼시아   \n",
       "1  C1407  1216  대전광역시  13.0   1.0    1.0   1285.0  1064.0  도안 휴먼시아 4단지   \n",
       "2  C1945   755    경기도   6.0   1.0    3.0    734.0   730.0  호평마을 주공휴먼시아   \n",
       "3  C1470   696   전라북도  14.0   0.0    2.0    645.0   553.0    장신휴먼시아1단지   \n",
       "4  C1898   566   전라북도   9.0   0.0    6.0    517.0   415.0    장신휴먼시아2단지   \n",
       "\n",
       "                     도로명주소  ...  영구/행복  임대상가 공공임대(단기)  장기전세  공공임대(분납)  공공분양  \\\n",
       "0      경상남도 통영시 미우지해안로 107  ...      0     0        0     0         0     0   \n",
       "1         대전광역시 유성구 상대로 40  ...      0     0        0     0         0     0   \n",
       "2          경기도 남양주시 늘을3로 8  ...      0     0        0     0         0     0   \n",
       "3    전라북도 익산시 오산면 선화로4길 66  ...      0     0        0     0         0     0   \n",
       "4  전라북도 익산시 오산면 선화로4길 24-9  ...      0     0        0     0         0     0   \n",
       "\n",
       "   공공임대(50년)            임대료         임대보증금       전용면적  \n",
       "0          0  139557.142857  1.678714e+07  44.345714  \n",
       "1          0  165956.250000  2.598438e+07  39.326250  \n",
       "2          0  200914.000000  2.406060e+07  52.668000  \n",
       "3          0  120150.000000  1.772275e+07  42.982500  \n",
       "4          0  119148.333333  1.742233e+07  42.575000  \n",
       "\n",
       "[5 rows x 36 columns]"
      ]
     },
     "execution_count": 33,
     "metadata": {},
     "output_type": "execute_result"
    }
   ],
   "source": [
    "sample1=pd.DataFrame(train_a.groupby(\"단지코드\")[\"전용면적\"].mean()).reset_index()\n",
    "#sample2=pd.DataFrame(train_a.groupby(\"단지코드\")[\"전용면적별세대수\"].mean()).reset_index()\n",
    "data=pd.merge(data, sample1, on=\"단지코드\", how=\"inner\")\n",
    "#data=pd.merge(data, sample2, on=\"단지코드\", how=\"inner\")\n",
    "data.head()"
   ]
  },
  {
   "cell_type": "code",
   "execution_count": 34,
   "metadata": {},
   "outputs": [],
   "source": [
    "#sample1=pd.DataFrame(train_a.groupby(\"단지코드\")[\"임대료\"].std()).reset_index()\n",
    "#sample2=pd.DataFrame(train_a.groupby(\"단지코드\")[\"임대보증금\"].std()).reset_index()\n",
    "#data=pd.merge(data, sample1, on=\"단지코드\", how=\"inner\")\n",
    "#data=pd.merge(data, sample2, on=\"단지코드\", how=\"inner\")\n",
    "#data.head()"
   ]
  },
  {
   "cell_type": "code",
   "execution_count": 35,
   "metadata": {},
   "outputs": [],
   "source": [
    "#sample1=pd.DataFrame(train_a.groupby(\"단지코드\")[\"전용면적\"].std()).reset_index()\n",
    "#sample2=pd.DataFrame(train_a.groupby(\"단지코드\")[\"전용면적별세대수\"].std()).reset_index()\n",
    "#data=pd.merge(data, sample1, on=\"단지코드\", how=\"inner\")\n",
    "#data=pd.merge(data, sample2, on=\"단지코드\", how=\"inner\")\n",
    "#data.head(3)"
   ]
  },
  {
   "cell_type": "markdown",
   "metadata": {},
   "source": [
    "# Test에 똑같이"
   ]
  },
  {
   "cell_type": "code",
   "execution_count": 36,
   "metadata": {},
   "outputs": [
    {
     "name": "stdout",
     "output_type": "stream",
     "text": [
      "147\n"
     ]
    },
    {
     "data": {
      "text/plain": [
       "(147, 24)"
      ]
     },
     "execution_count": 36,
     "metadata": {},
     "output_type": "execute_result"
    }
   ],
   "source": [
    "print(len(set(test.단지코드)))\n",
    "dat = test.drop(columns=['공급유형','전용면적','임대건물구분',\n",
    "                           '전용면적별세대수','대형전용면적',\n",
    "                           '임대보증금','임대료', \n",
    "                        \"환승역 수\", \"연면적\"], ) # '자격유형_카테고리',\n",
    "dat = dat.drop_duplicates()\n",
    "dat.shape"
   ]
  },
  {
   "cell_type": "code",
   "execution_count": 37,
   "metadata": {},
   "outputs": [
    {
     "data": {
      "text/html": [
       "<div>\n",
       "<style scoped>\n",
       "    .dataframe tbody tr th:only-of-type {\n",
       "        vertical-align: middle;\n",
       "    }\n",
       "\n",
       "    .dataframe tbody tr th {\n",
       "        vertical-align: top;\n",
       "    }\n",
       "\n",
       "    .dataframe thead th {\n",
       "        text-align: right;\n",
       "    }\n",
       "</style>\n",
       "<table border=\"1\" class=\"dataframe\">\n",
       "  <thead>\n",
       "    <tr style=\"text-align: right;\">\n",
       "      <th></th>\n",
       "      <th>단지코드</th>\n",
       "      <th>공급유형</th>\n",
       "      <th>전용면적별세대수</th>\n",
       "    </tr>\n",
       "  </thead>\n",
       "  <tbody>\n",
       "    <tr>\n",
       "      <th>0</th>\n",
       "      <td>C1003</td>\n",
       "      <td>영구/행복</td>\n",
       "      <td>480</td>\n",
       "    </tr>\n",
       "    <tr>\n",
       "      <th>1</th>\n",
       "      <td>C1006</td>\n",
       "      <td>영구/행복</td>\n",
       "      <td>1475</td>\n",
       "    </tr>\n",
       "    <tr>\n",
       "      <th>2</th>\n",
       "      <td>C1006</td>\n",
       "      <td>임대상가</td>\n",
       "      <td>13</td>\n",
       "    </tr>\n",
       "    <tr>\n",
       "      <th>3</th>\n",
       "      <td>C1016</td>\n",
       "      <td>국민임대</td>\n",
       "      <td>643</td>\n",
       "    </tr>\n",
       "    <tr>\n",
       "      <th>4</th>\n",
       "      <td>C1019</td>\n",
       "      <td>국민임대</td>\n",
       "      <td>321</td>\n",
       "    </tr>\n",
       "  </tbody>\n",
       "</table>\n",
       "</div>"
      ],
      "text/plain": [
       "    단지코드   공급유형  전용면적별세대수\n",
       "0  C1003  영구/행복       480\n",
       "1  C1006  영구/행복      1475\n",
       "2  C1006   임대상가        13\n",
       "3  C1016   국민임대       643\n",
       "4  C1019   국민임대       321"
      ]
     },
     "execution_count": 37,
     "metadata": {},
     "output_type": "execute_result"
    }
   ],
   "source": [
    "sample = pd.DataFrame(test.groupby(['단지코드','공급유형']).sum()['전용면적별세대수']).reset_index()\n",
    "sample.head()"
   ]
  },
  {
   "cell_type": "code",
   "execution_count": 38,
   "metadata": {},
   "outputs": [],
   "source": [
    "for i in sample.공급유형.unique():\n",
    "    dat[str(i)]=0"
   ]
  },
  {
   "cell_type": "code",
   "execution_count": 39,
   "metadata": {},
   "outputs": [],
   "source": [
    "for i in sample.index:\n",
    "    code = sample.loc[i,'단지코드']\n",
    "    col = sample.loc[i,'공급유형']\n",
    "    val = sample.loc[i,'전용면적별세대수']\n",
    "    ind = dat[dat['단지코드']==code].index\n",
    "    dat.loc[ind,col] = val"
   ]
  },
  {
   "cell_type": "code",
   "execution_count": 40,
   "metadata": {
    "scrolled": true
   },
   "outputs": [
    {
     "data": {
      "text/html": [
       "<div>\n",
       "<style scoped>\n",
       "    .dataframe tbody tr th:only-of-type {\n",
       "        vertical-align: middle;\n",
       "    }\n",
       "\n",
       "    .dataframe tbody tr th {\n",
       "        vertical-align: top;\n",
       "    }\n",
       "\n",
       "    .dataframe thead th {\n",
       "        text-align: right;\n",
       "    }\n",
       "</style>\n",
       "<table border=\"1\" class=\"dataframe\">\n",
       "  <thead>\n",
       "    <tr style=\"text-align: right;\">\n",
       "      <th></th>\n",
       "      <th>단지코드</th>\n",
       "      <th>임대료</th>\n",
       "      <th>임대보증금</th>\n",
       "    </tr>\n",
       "  </thead>\n",
       "  <tbody>\n",
       "    <tr>\n",
       "      <th>0</th>\n",
       "      <td>C1003</td>\n",
       "      <td>115875.000000</td>\n",
       "      <td>2.265000e+07</td>\n",
       "    </tr>\n",
       "    <tr>\n",
       "      <th>1</th>\n",
       "      <td>C1006</td>\n",
       "      <td>95811.666667</td>\n",
       "      <td>6.932500e+06</td>\n",
       "    </tr>\n",
       "    <tr>\n",
       "      <th>2</th>\n",
       "      <td>C1016</td>\n",
       "      <td>228010.000000</td>\n",
       "      <td>2.402675e+07</td>\n",
       "    </tr>\n",
       "    <tr>\n",
       "      <th>3</th>\n",
       "      <td>C1019</td>\n",
       "      <td>126430.000000</td>\n",
       "      <td>1.485750e+07</td>\n",
       "    </tr>\n",
       "    <tr>\n",
       "      <th>4</th>\n",
       "      <td>C1030</td>\n",
       "      <td>214216.666667</td>\n",
       "      <td>5.141333e+07</td>\n",
       "    </tr>\n",
       "  </tbody>\n",
       "</table>\n",
       "</div>"
      ],
      "text/plain": [
       "    단지코드            임대료         임대보증금\n",
       "0  C1003  115875.000000  2.265000e+07\n",
       "1  C1006   95811.666667  6.932500e+06\n",
       "2  C1016  228010.000000  2.402675e+07\n",
       "3  C1019  126430.000000  1.485750e+07\n",
       "4  C1030  214216.666667  5.141333e+07"
      ]
     },
     "execution_count": 40,
     "metadata": {},
     "output_type": "execute_result"
    }
   ],
   "source": [
    "sample = test_a.groupby('단지코드').mean()[['임대료','임대보증금']].reset_index()\n",
    "sample.head()"
   ]
  },
  {
   "cell_type": "code",
   "execution_count": 41,
   "metadata": {},
   "outputs": [],
   "source": [
    "for i in sample.index:\n",
    "    code = sample.loc[i,'단지코드']\n",
    "    val1 = sample.loc[i,'임대료']\n",
    "    val2 = sample.loc[i,'임대보증금']\n",
    "    ind = dat[dat['단지코드']==code].index\n",
    "    dat.loc[ind,'임대료'] = val1\n",
    "    dat.loc[ind,'임대보증금'] = val2"
   ]
  },
  {
   "cell_type": "code",
   "execution_count": 42,
   "metadata": {},
   "outputs": [],
   "source": [
    "#sample = pd.DataFrame(test.groupby(['단지코드','자격유형_카테고리']).sum()['전용면적별세대수']).reset_index()\n",
    "#sample.head()"
   ]
  },
  {
   "cell_type": "code",
   "execution_count": 43,
   "metadata": {},
   "outputs": [],
   "source": [
    "#for i in sample.index:\n",
    "#    code = sample.loc[i,'단지코드']\n",
    "#    col = sample.loc[i,'자격유형_카테고리']\n",
    "#    val = sample.loc[i,'전용면적별세대수']\n",
    "#    ind = dat[dat['단지코드']==code].index\n",
    "#    dat.loc[ind,col] = val"
   ]
  },
  {
   "cell_type": "code",
   "execution_count": 44,
   "metadata": {},
   "outputs": [],
   "source": [
    "#dat=dat.fillna(0)"
   ]
  },
  {
   "cell_type": "code",
   "execution_count": 45,
   "metadata": {},
   "outputs": [
    {
     "data": {
      "text/html": [
       "<div>\n",
       "<style scoped>\n",
       "    .dataframe tbody tr th:only-of-type {\n",
       "        vertical-align: middle;\n",
       "    }\n",
       "\n",
       "    .dataframe tbody tr th {\n",
       "        vertical-align: top;\n",
       "    }\n",
       "\n",
       "    .dataframe thead th {\n",
       "        text-align: right;\n",
       "    }\n",
       "</style>\n",
       "<table border=\"1\" class=\"dataframe\">\n",
       "  <thead>\n",
       "    <tr style=\"text-align: right;\">\n",
       "      <th></th>\n",
       "      <th>단지코드</th>\n",
       "      <th>임대료</th>\n",
       "      <th>임대보증금</th>\n",
       "    </tr>\n",
       "  </thead>\n",
       "  <tbody>\n",
       "    <tr>\n",
       "      <th>0</th>\n",
       "      <td>C1003</td>\n",
       "      <td>115875.000000</td>\n",
       "      <td>2.265000e+07</td>\n",
       "    </tr>\n",
       "    <tr>\n",
       "      <th>1</th>\n",
       "      <td>C1006</td>\n",
       "      <td>95811.666667</td>\n",
       "      <td>6.932500e+06</td>\n",
       "    </tr>\n",
       "    <tr>\n",
       "      <th>2</th>\n",
       "      <td>C1016</td>\n",
       "      <td>228010.000000</td>\n",
       "      <td>2.402675e+07</td>\n",
       "    </tr>\n",
       "    <tr>\n",
       "      <th>3</th>\n",
       "      <td>C1019</td>\n",
       "      <td>126430.000000</td>\n",
       "      <td>1.485750e+07</td>\n",
       "    </tr>\n",
       "    <tr>\n",
       "      <th>4</th>\n",
       "      <td>C1030</td>\n",
       "      <td>214216.666667</td>\n",
       "      <td>5.141333e+07</td>\n",
       "    </tr>\n",
       "  </tbody>\n",
       "</table>\n",
       "</div>"
      ],
      "text/plain": [
       "    단지코드            임대료         임대보증금\n",
       "0  C1003  115875.000000  2.265000e+07\n",
       "1  C1006   95811.666667  6.932500e+06\n",
       "2  C1016  228010.000000  2.402675e+07\n",
       "3  C1019  126430.000000  1.485750e+07\n",
       "4  C1030  214216.666667  5.141333e+07"
      ]
     },
     "execution_count": 45,
     "metadata": {},
     "output_type": "execute_result"
    }
   ],
   "source": [
    "#sample = pd.DataFrame(test.groupby('단지코드')['대형전용면적'].sum()).reset_index()\n",
    "#\n",
    "sample.head()"
   ]
  },
  {
   "cell_type": "code",
   "execution_count": 46,
   "metadata": {},
   "outputs": [],
   "source": [
    "#dat=pd.merge(dat, sample, on=\"단지코드\", how=\"inner\")"
   ]
  },
  {
   "cell_type": "code",
   "execution_count": 47,
   "metadata": {},
   "outputs": [
    {
     "data": {
      "text/html": [
       "<div>\n",
       "<style scoped>\n",
       "    .dataframe tbody tr th:only-of-type {\n",
       "        vertical-align: middle;\n",
       "    }\n",
       "\n",
       "    .dataframe tbody tr th {\n",
       "        vertical-align: top;\n",
       "    }\n",
       "\n",
       "    .dataframe thead th {\n",
       "        text-align: right;\n",
       "    }\n",
       "</style>\n",
       "<table border=\"1\" class=\"dataframe\">\n",
       "  <thead>\n",
       "    <tr style=\"text-align: right;\">\n",
       "      <th></th>\n",
       "      <th>단지코드</th>\n",
       "      <th>총세대수</th>\n",
       "      <th>지역</th>\n",
       "      <th>공가수</th>\n",
       "      <th>지하철역</th>\n",
       "      <th>버스정류장</th>\n",
       "      <th>단지내주차면수</th>\n",
       "      <th>단지명</th>\n",
       "      <th>도로명주소</th>\n",
       "      <th>위도</th>\n",
       "      <th>...</th>\n",
       "      <th>cluster</th>\n",
       "      <th>영구/행복</th>\n",
       "      <th>임대상가</th>\n",
       "      <th>국민임대</th>\n",
       "      <th>공공임대(50년)</th>\n",
       "      <th>공공임대(단기)</th>\n",
       "      <th>공공임대(분납)</th>\n",
       "      <th>임대료</th>\n",
       "      <th>임대보증금</th>\n",
       "      <th>전용면적</th>\n",
       "    </tr>\n",
       "  </thead>\n",
       "  <tbody>\n",
       "    <tr>\n",
       "      <th>0</th>\n",
       "      <td>C1072</td>\n",
       "      <td>754</td>\n",
       "      <td>경기도</td>\n",
       "      <td>14</td>\n",
       "      <td>0.0</td>\n",
       "      <td>2</td>\n",
       "      <td>683</td>\n",
       "      <td>광명역세권 휴먼시아2단지</td>\n",
       "      <td>경기도 광명시 서원로 25</td>\n",
       "      <td>126.883433</td>\n",
       "      <td>...</td>\n",
       "      <td>172773.434794</td>\n",
       "      <td>0</td>\n",
       "      <td>0</td>\n",
       "      <td>754</td>\n",
       "      <td>0</td>\n",
       "      <td>0</td>\n",
       "      <td>0</td>\n",
       "      <td>265843.750000</td>\n",
       "      <td>38120250.0</td>\n",
       "      <td>48.436250</td>\n",
       "    </tr>\n",
       "    <tr>\n",
       "      <th>1</th>\n",
       "      <td>C1128</td>\n",
       "      <td>1354</td>\n",
       "      <td>경기도</td>\n",
       "      <td>9</td>\n",
       "      <td>0.0</td>\n",
       "      <td>3</td>\n",
       "      <td>1216</td>\n",
       "      <td>광명역세권 휴먼시아1단지</td>\n",
       "      <td>경기도 광명시 성채안로 26</td>\n",
       "      <td>126.887303</td>\n",
       "      <td>...</td>\n",
       "      <td>172773.434794</td>\n",
       "      <td>0</td>\n",
       "      <td>0</td>\n",
       "      <td>1354</td>\n",
       "      <td>0</td>\n",
       "      <td>0</td>\n",
       "      <td>0</td>\n",
       "      <td>245516.666667</td>\n",
       "      <td>34125000.0</td>\n",
       "      <td>46.178889</td>\n",
       "    </tr>\n",
       "    <tr>\n",
       "      <th>2</th>\n",
       "      <td>C1456</td>\n",
       "      <td>619</td>\n",
       "      <td>부산광역시</td>\n",
       "      <td>18</td>\n",
       "      <td>0.0</td>\n",
       "      <td>16</td>\n",
       "      <td>547</td>\n",
       "      <td>안락휴먼시아</td>\n",
       "      <td>부산광역시 동래구 충렬대로447번길 38</td>\n",
       "      <td>129.108257</td>\n",
       "      <td>...</td>\n",
       "      <td>172773.434794</td>\n",
       "      <td>0</td>\n",
       "      <td>0</td>\n",
       "      <td>533</td>\n",
       "      <td>0</td>\n",
       "      <td>0</td>\n",
       "      <td>0</td>\n",
       "      <td>222290.000000</td>\n",
       "      <td>33704875.0</td>\n",
       "      <td>44.771250</td>\n",
       "    </tr>\n",
       "    <tr>\n",
       "      <th>3</th>\n",
       "      <td>C1840</td>\n",
       "      <td>593</td>\n",
       "      <td>전라북도</td>\n",
       "      <td>7</td>\n",
       "      <td>0.0</td>\n",
       "      <td>3</td>\n",
       "      <td>543</td>\n",
       "      <td>장신휴먼시아3단지</td>\n",
       "      <td>전라북도 익산시 오산면 선화로4길 14</td>\n",
       "      <td>126.933007</td>\n",
       "      <td>...</td>\n",
       "      <td>172773.434794</td>\n",
       "      <td>0</td>\n",
       "      <td>0</td>\n",
       "      <td>593</td>\n",
       "      <td>0</td>\n",
       "      <td>0</td>\n",
       "      <td>0</td>\n",
       "      <td>123150.000000</td>\n",
       "      <td>18924250.0</td>\n",
       "      <td>44.492500</td>\n",
       "    </tr>\n",
       "    <tr>\n",
       "      <th>4</th>\n",
       "      <td>C1332</td>\n",
       "      <td>1297</td>\n",
       "      <td>경기도</td>\n",
       "      <td>11</td>\n",
       "      <td>0.0</td>\n",
       "      <td>2</td>\n",
       "      <td>1112</td>\n",
       "      <td>봇들마을 6단지</td>\n",
       "      <td>경기도 성남시 분당구 동판교로 212</td>\n",
       "      <td>127.118208</td>\n",
       "      <td>...</td>\n",
       "      <td>172773.434794</td>\n",
       "      <td>0</td>\n",
       "      <td>0</td>\n",
       "      <td>1297</td>\n",
       "      <td>0</td>\n",
       "      <td>0</td>\n",
       "      <td>0</td>\n",
       "      <td>292880.000000</td>\n",
       "      <td>41334500.0</td>\n",
       "      <td>46.453750</td>\n",
       "    </tr>\n",
       "  </tbody>\n",
       "</table>\n",
       "<p>5 rows × 33 columns</p>\n",
       "</div>"
      ],
      "text/plain": [
       "    단지코드  총세대수     지역  공가수  지하철역  버스정류장  단지내주차면수            단지명  \\\n",
       "0  C1072   754    경기도   14   0.0      2      683  광명역세권 휴먼시아2단지   \n",
       "1  C1128  1354    경기도    9   0.0      3     1216  광명역세권 휴먼시아1단지   \n",
       "2  C1456   619  부산광역시   18   0.0     16      547         안락휴먼시아   \n",
       "3  C1840   593   전라북도    7   0.0      3      543      장신휴먼시아3단지   \n",
       "4  C1332  1297    경기도   11   0.0      2     1112       봇들마을 6단지   \n",
       "\n",
       "                    도로명주소          위도  ...        cluster 영구/행복  임대상가  국민임대  \\\n",
       "0          경기도 광명시 서원로 25  126.883433  ...  172773.434794     0     0   754   \n",
       "1         경기도 광명시 성채안로 26  126.887303  ...  172773.434794     0     0  1354   \n",
       "2  부산광역시 동래구 충렬대로447번길 38  129.108257  ...  172773.434794     0     0   533   \n",
       "3   전라북도 익산시 오산면 선화로4길 14  126.933007  ...  172773.434794     0     0   593   \n",
       "4    경기도 성남시 분당구 동판교로 212  127.118208  ...  172773.434794     0     0  1297   \n",
       "\n",
       "   공공임대(50년)  공공임대(단기)  공공임대(분납)            임대료       임대보증금       전용면적  \n",
       "0          0         0         0  265843.750000  38120250.0  48.436250  \n",
       "1          0         0         0  245516.666667  34125000.0  46.178889  \n",
       "2          0         0         0  222290.000000  33704875.0  44.771250  \n",
       "3          0         0         0  123150.000000  18924250.0  44.492500  \n",
       "4          0         0         0  292880.000000  41334500.0  46.453750  \n",
       "\n",
       "[5 rows x 33 columns]"
      ]
     },
     "execution_count": 47,
     "metadata": {},
     "output_type": "execute_result"
    }
   ],
   "source": [
    "sample1=pd.DataFrame(test_a.groupby(\"단지코드\")[\"전용면적\"].mean()).reset_index()\n",
    "#sample2=pd.DataFrame(test_a.groupby(\"단지코드\")[\"전용면적별세대수\"].mean()).reset_index()\n",
    "dat=pd.merge(dat, sample1, on=\"단지코드\", how=\"inner\")\n",
    "#dat=pd.merge(dat, sample2, on=\"단지코드\", how=\"inner\")\n",
    "\n",
    "#sample1=pd.DataFrame(test_a.groupby(\"단지코드\")[\"임대료\"].std()).reset_index()\n",
    "#sample2=pd.DataFrame(test_a.groupby(\"단지코드\")[\"임대보증금\"].std()).reset_index()\n",
    "#dat=pd.merge(dat, sample1, on=\"단지코드\", how=\"inner\")\n",
    "#dat=pd.merge(dat, sample2, on=\"단지코드\", how=\"inner\")\n",
    "\n",
    "#sample1=pd.DataFrame(test_a.groupby(\"단지코드\")[\"전용면적\"].std()).reset_index()\n",
    "#sample2=pd.DataFrame(test_a.groupby(\"단지코드\")[\"전용면적별세대수\"].std()).reset_index()\n",
    "#dat=pd.merge(dat, sample1, on=\"단지코드\", how=\"inner\")\n",
    "#dat=pd.merge(dat, sample2, on=\"단지코드\", how=\"inner\")\n",
    "dat.head()"
   ]
  },
  {
   "cell_type": "code",
   "execution_count": 48,
   "metadata": {
    "scrolled": true
   },
   "outputs": [
    {
     "data": {
      "text/plain": [
       "Index(['단지코드', '총세대수', '지역', '공가수', '지하철역', '버스정류장', '단지내주차면수', '단지명', '도로명주소',\n",
       "       '위도', '경도', 'subway_name', 'subway_dist', '총인구수', '세대당_인구', '상가비율',\n",
       "       '세대당_가능주차면수', '공가수비율', '분양세대수', '0~19 인구수', '20~39 인구수', '40~69 인구수',\n",
       "       '70세이상 인구수', 'cluster', '영구/행복', '임대상가', '국민임대', '공공임대(50년)',\n",
       "       '공공임대(단기)', '공공임대(분납)', '임대료', '임대보증금', '전용면적'],\n",
       "      dtype='object')"
      ]
     },
     "execution_count": 48,
     "metadata": {},
     "output_type": "execute_result"
    }
   ],
   "source": [
    "dat.columns"
   ]
  },
  {
   "cell_type": "code",
   "execution_count": 49,
   "metadata": {},
   "outputs": [
    {
     "data": {
      "text/plain": [
       "Index(['단지코드', '총세대수', '지역', '공가수', '지하철역', '버스정류장', '단지내주차면수', '등록차량수', '단지명',\n",
       "       '도로명주소', '위도', '경도', 'subway_name', 'subway_dist', '총인구수', '세대당_인구',\n",
       "       '상가비율', '세대당_가능주차면수', '공가수비율', '분양세대수', '0~19 인구수', '20~39 인구수',\n",
       "       '40~69 인구수', '70세이상 인구수', 'cluster', '국민임대', '영구/행복', '임대상가',\n",
       "       '공공임대(단기)', '장기전세', '공공임대(분납)', '공공분양', '공공임대(50년)', '임대료', '임대보증금',\n",
       "       '전용면적'],\n",
       "      dtype='object')"
      ]
     },
     "execution_count": 49,
     "metadata": {},
     "output_type": "execute_result"
    }
   ],
   "source": [
    "data.columns"
   ]
  },
  {
   "cell_type": "code",
   "execution_count": 50,
   "metadata": {},
   "outputs": [
    {
     "data": {
      "text/plain": [
       "{'공공분양', '등록차량수', '장기전세'}"
      ]
     },
     "execution_count": 50,
     "metadata": {},
     "output_type": "execute_result"
    }
   ],
   "source": [
    "set(data.columns)-set(dat.columns)"
   ]
  },
  {
   "cell_type": "markdown",
   "metadata": {},
   "source": [
    "# Correlation 확인"
   ]
  },
  {
   "cell_type": "code",
   "execution_count": 51,
   "metadata": {},
   "outputs": [],
   "source": [
    "data=data.drop(columns=[\"subway_dist\", \"subway_name\"])\n",
    "dat=dat.drop(columns=[\"subway_dist\", \"subway_name\"])"
   ]
  },
  {
   "cell_type": "code",
   "execution_count": 52,
   "metadata": {},
   "outputs": [],
   "source": [
    "X_cor = data.drop(columns=['단지코드','단지명','도로명주소','지역', \"총세대수\"])"
   ]
  },
  {
   "cell_type": "code",
   "execution_count": 53,
   "metadata": {},
   "outputs": [],
   "source": [
    "X_cor = pd.get_dummies(X_cor, drop_first=True)"
   ]
  },
  {
   "cell_type": "code",
   "execution_count": 54,
   "metadata": {},
   "outputs": [
    {
     "data": {
      "text/plain": [
       "<matplotlib.axes._subplots.AxesSubplot at 0x2dcc0258630>"
      ]
     },
     "execution_count": 54,
     "metadata": {},
     "output_type": "execute_result"
    },
    {
     "data": {
      "image/png": "[encoded data removed]",
      "text/plain": [
       "<Figure size 1800x1080 with 2 Axes>"
      ]
     },
     "metadata": {
      "needs_background": "light"
     },
     "output_type": "display_data"
    }
   ],
   "source": [
    "plt.subplots(figsize=(25,15))\n",
    "sns.heatmap(X_cor.corr(), cbar = True, annot = True, fmt = '.2f', square = True, cmap = 'Blues', linewidths=.5)"
   ]
  },
  {
   "cell_type": "markdown",
   "metadata": {},
   "source": [
    "### correlation 너무 높은 변수: \n",
    "- 영구임대&자격유형2 \n",
    "- 임대상가&상가비율<br>"
   ]
  },
  {
   "cell_type": "markdown",
   "metadata": {},
   "source": [
    "# Modeling"
   ]
  },
  {
   "cell_type": "code",
   "execution_count": 55,
   "metadata": {},
   "outputs": [],
   "source": [
    "from sklearn.linear_model import LinearRegression, Lasso, ElasticNet, Ridge\n",
    "from sklearn.ensemble import RandomForestRegressor\n",
    "from sklearn.tree import DecisionTreeRegressor \n",
    "from xgboost import XGBRegressor\n",
    "from catboost import CatBoostRegressor\n",
    "from sklearn.metrics import mean_absolute_error\n",
    "from sklearn.model_selection import train_test_split\n",
    "\n",
    "from sklearn.metrics import mean_absolute_error\n",
    "from sklearn.model_selection import train_test_split\n",
    "from sklearn.preprocessing import MinMaxScaler\n",
    "from sklearn.preprocessing import StandardScaler\n",
    "from sklearn.preprocessing import RobustScaler\n",
    "robustScaler = RobustScaler()\n",
    "standardScaler = StandardScaler()\n",
    "minMaxScaler = MinMaxScaler()"
   ]
  },
  {
   "cell_type": "markdown",
   "metadata": {},
   "source": [
    "## 기본으로 돌려보기"
   ]
  },
  {
   "cell_type": "code",
   "execution_count": 56,
   "metadata": {},
   "outputs": [],
   "source": [
    "train1=data[data.단지내주차면수<785]\n",
    "train2=data[data.단지내주차면수>=785]"
   ]
  },
  {
   "cell_type": "code",
   "execution_count": 75,
   "metadata": {},
   "outputs": [],
   "source": [
    "X = train1.drop(columns=['단지명','단지코드','도로명주소','등록차량수', \"지역\", \"총세대수\"])\n",
    "y = train1[['등록차량수']]"
   ]
  },
  {
   "cell_type": "code",
   "execution_count": 76,
   "metadata": {},
   "outputs": [],
   "source": [
    "X = pd.get_dummies(X, drop_first=True)"
   ]
  },
  {
   "cell_type": "code",
   "execution_count": 77,
   "metadata": {},
   "outputs": [
    {
     "data": {
      "text/plain": [
       "28"
      ]
     },
     "execution_count": 77,
     "metadata": {},
     "output_type": "execute_result"
    }
   ],
   "source": [
    "len(X.columns)"
   ]
  },
  {
   "cell_type": "code",
   "execution_count": 78,
   "metadata": {},
   "outputs": [
    {
     "data": {
      "text/plain": [
       "Index(['공가수', '지하철역', '버스정류장', '단지내주차면수', '위도', '경도', '총인구수', '세대당_인구', '상가비율',\n",
       "       '세대당_가능주차면수', '공가수비율', '분양세대수', '0~19 인구수', '20~39 인구수', '40~69 인구수',\n",
       "       '70세이상 인구수', 'cluster', '국민임대', '영구/행복', '임대상가', '공공임대(단기)', '장기전세',\n",
       "       '공공임대(분납)', '공공분양', '공공임대(50년)', '임대료', '임대보증금', '전용면적'],\n",
       "      dtype='object')"
      ]
     },
     "execution_count": 78,
     "metadata": {},
     "output_type": "execute_result"
    }
   ],
   "source": [
    "X.columns"
   ]
  },
  {
   "cell_type": "code",
   "execution_count": 79,
   "metadata": {},
   "outputs": [],
   "source": [
    "X_train, X_test, y_train, y_test = train_test_split(X, y, test_size=0.3, shuffle=True,random_state=2021)"
   ]
  },
  {
   "cell_type": "code",
   "execution_count": 80,
   "metadata": {
    "scrolled": true
   },
   "outputs": [
    {
     "data": {
      "text/plain": [
       "((217, 28), (217, 1))"
      ]
     },
     "execution_count": 80,
     "metadata": {},
     "output_type": "execute_result"
    }
   ],
   "source": [
    "X_train.shape, y_train.shape"
   ]
  },
  {
   "cell_type": "code",
   "execution_count": 81,
   "metadata": {},
   "outputs": [],
   "source": [
    "#import statsmodels.api as sm\n",
    "#mod = sm.OLS(y_train, X_train)\n",
    "#res = mod.fit()\n",
    "#print(res.summary())"
   ]
  },
  {
   "cell_type": "code",
   "execution_count": 82,
   "metadata": {},
   "outputs": [],
   "source": [
    "#train3=pd.read_csv(\"train3_유림.csv\")"
   ]
  },
  {
   "cell_type": "code",
   "execution_count": 83,
   "metadata": {},
   "outputs": [],
   "source": [
    "#X = train3.drop(columns=['단지코드','등록차량수'])\n",
    "#y = train3[['등록차량수']]\n",
    "#X_train, X_test, y_train, y_test = train_test_split(X, y, test_size=0.3, shuffle=True,random_state=2021)"
   ]
  },
  {
   "cell_type": "code",
   "execution_count": 84,
   "metadata": {},
   "outputs": [],
   "source": [
    "#mod = sm.OLS(y_train, X_train)\n",
    "#res = mod.fit()\n",
    "#print(res.summary())"
   ]
  },
  {
   "cell_type": "code",
   "execution_count": 85,
   "metadata": {},
   "outputs": [
    {
     "data": {
      "text/plain": [
       "102.3376341572705"
      ]
     },
     "execution_count": 85,
     "metadata": {},
     "output_type": "execute_result"
    }
   ],
   "source": [
    "lr= LinearRegression().fit(X_train, y_train)\n",
    "lr_pred = lr.predict(X_test)\n",
    "mean_absolute_error(y_test, lr_pred)"
   ]
  },
  {
   "cell_type": "code",
   "execution_count": 86,
   "metadata": {},
   "outputs": [
    {
     "data": {
      "text/plain": [
       "100.88881003251866"
      ]
     },
     "execution_count": 86,
     "metadata": {},
     "output_type": "execute_result"
    }
   ],
   "source": [
    "ri = Ridge().fit(X_train, y_train)\n",
    "ri_pred = ri.predict(X_test)\n",
    "mean_absolute_error(y_test, ri_pred)"
   ]
  },
  {
   "cell_type": "code",
   "execution_count": 87,
   "metadata": {},
   "outputs": [
    {
     "data": {
      "text/plain": [
       "98.74185243591558"
      ]
     },
     "execution_count": 87,
     "metadata": {},
     "output_type": "execute_result"
    }
   ],
   "source": [
    "la = Lasso().fit(X_train, y_train)\n",
    "la_pred = la.predict(X_test)\n",
    "mean_absolute_error(y_test, la_pred)"
   ]
  },
  {
   "cell_type": "code",
   "execution_count": 88,
   "metadata": {},
   "outputs": [
    {
     "data": {
      "text/plain": [
       "97.21188172043011"
      ]
     },
     "execution_count": 88,
     "metadata": {},
     "output_type": "execute_result"
    }
   ],
   "source": [
    "rf = RandomForestRegressor(random_state=2021, criterion=\"mae\").fit(X_train, y_train)\n",
    "rf_pred = rf.predict(X_test)\n",
    "mean_absolute_error(y_test, rf_pred)"
   ]
  },
  {
   "cell_type": "code",
   "execution_count": 89,
   "metadata": {},
   "outputs": [
    {
     "data": {
      "text/plain": [
       "87.71946144277813"
      ]
     },
     "execution_count": 89,
     "metadata": {},
     "output_type": "execute_result"
    }
   ],
   "source": [
    "cb = CatBoostRegressor(random_state=2021, verbose=False ).fit(X_train, y_train)\n",
    "cb_pred = cb.predict(X_test)\n",
    "mean_absolute_error(y_test, cb_pred)"
   ]
  },
  {
   "cell_type": "code",
   "execution_count": 90,
   "metadata": {
    "scrolled": true
   },
   "outputs": [
    {
     "data": {
      "text/plain": [
       "95.46361117310288"
      ]
     },
     "execution_count": 90,
     "metadata": {},
     "output_type": "execute_result"
    }
   ],
   "source": [
    "en=ElasticNet(random_state=2021).fit(X_train, y_train)\n",
    "en_pred = en.predict(X_test)\n",
    "mean_absolute_error(y_test, en_pred)"
   ]
  },
  {
   "cell_type": "code",
   "execution_count": 91,
   "metadata": {},
   "outputs": [
    {
     "data": {
      "text/plain": [
       "Text(0.5, 0, 'CatBoost Feature Importance')"
      ]
     },
     "execution_count": 91,
     "metadata": {},
     "output_type": "execute_result"
    },
    {
     "data": {
      "image/png": "[encoded data removed]",
      "text/plain": [
       "<Figure size 1224x1080 with 1 Axes>"
      ]
     },
     "metadata": {
      "needs_background": "light"
     },
     "output_type": "display_data"
    }
   ],
   "source": [
    "plt.subplots(figsize=(17,15))\n",
    "sorted_feature_importance = cb.feature_importances_.argsort()\n",
    "plt.barh(X_test.columns[sorted_feature_importance], \n",
    "        cb.feature_importances_[sorted_feature_importance], \n",
    "        color='turquoise')\n",
    "plt.xlabel(\"CatBoost Feature Importance\")"
   ]
  },
  {
   "cell_type": "markdown",
   "metadata": {},
   "source": [
    "# 나눠서 예측"
   ]
  },
  {
   "cell_type": "code",
   "execution_count": 92,
   "metadata": {},
   "outputs": [
    {
     "data": {
      "text/html": [
       "<div>\n",
       "<style scoped>\n",
       "    .dataframe tbody tr th:only-of-type {\n",
       "        vertical-align: middle;\n",
       "    }\n",
       "\n",
       "    .dataframe tbody tr th {\n",
       "        vertical-align: top;\n",
       "    }\n",
       "\n",
       "    .dataframe thead th {\n",
       "        text-align: right;\n",
       "    }\n",
       "</style>\n",
       "<table border=\"1\" class=\"dataframe\">\n",
       "  <thead>\n",
       "    <tr style=\"text-align: right;\">\n",
       "      <th></th>\n",
       "      <th>code</th>\n",
       "      <th>num</th>\n",
       "    </tr>\n",
       "  </thead>\n",
       "  <tbody>\n",
       "    <tr>\n",
       "      <th>0</th>\n",
       "      <td>C1072</td>\n",
       "      <td>0</td>\n",
       "    </tr>\n",
       "    <tr>\n",
       "      <th>1</th>\n",
       "      <td>C1128</td>\n",
       "      <td>0</td>\n",
       "    </tr>\n",
       "    <tr>\n",
       "      <th>2</th>\n",
       "      <td>C1456</td>\n",
       "      <td>0</td>\n",
       "    </tr>\n",
       "    <tr>\n",
       "      <th>3</th>\n",
       "      <td>C1840</td>\n",
       "      <td>0</td>\n",
       "    </tr>\n",
       "    <tr>\n",
       "      <th>4</th>\n",
       "      <td>C1332</td>\n",
       "      <td>0</td>\n",
       "    </tr>\n",
       "  </tbody>\n",
       "</table>\n",
       "</div>"
      ],
      "text/plain": [
       "    code  num\n",
       "0  C1072    0\n",
       "1  C1128    0\n",
       "2  C1456    0\n",
       "3  C1840    0\n",
       "4  C1332    0"
      ]
     },
     "execution_count": 92,
     "metadata": {},
     "output_type": "execute_result"
    }
   ],
   "source": [
    "sample=pd.read_csv('sample_submission.csv')\n",
    "sample.head()"
   ]
  },
  {
   "cell_type": "code",
   "execution_count": 93,
   "metadata": {},
   "outputs": [],
   "source": [
    "# sample = sample.loc[~sample.code.isin(['C2335', 'C1327', 'C2675'])]"
   ]
  },
  {
   "cell_type": "code",
   "execution_count": 94,
   "metadata": {
    "scrolled": false
   },
   "outputs": [
    {
     "data": {
      "text/plain": [
       "(150, 2)"
      ]
     },
     "execution_count": 94,
     "metadata": {},
     "output_type": "execute_result"
    }
   ],
   "source": [
    "sample.shape"
   ]
  },
  {
   "cell_type": "code",
   "execution_count": 95,
   "metadata": {},
   "outputs": [],
   "source": [
    "train1=data[data.단지내주차면수<785]\n",
    "train2=data[data.단지내주차면수>=785]\n",
    "test1=dat[dat.단지내주차면수<785]\n",
    "test2=dat[dat.단지내주차면수>=785]"
   ]
  },
  {
   "cell_type": "code",
   "execution_count": 96,
   "metadata": {},
   "outputs": [
    {
     "name": "stdout",
     "output_type": "stream",
     "text": [
      "(310, 34) (104, 34)\n",
      "(113, 31) (34, 31)\n"
     ]
    }
   ],
   "source": [
    "print(train1.shape, train2.shape)\n",
    "print(test1.shape, test2.shape)"
   ]
  },
  {
   "cell_type": "code",
   "execution_count": 97,
   "metadata": {},
   "outputs": [],
   "source": [
    "df= pd.concat([train1, test1])"
   ]
  },
  {
   "cell_type": "code",
   "execution_count": 98,
   "metadata": {},
   "outputs": [],
   "source": [
    "X = df.drop(columns=['단지명','단지코드','도로명주소','등록차량수', \"지역\", \"총세대수\"])\n",
    "X = pd.get_dummies(X, drop_first=True)"
   ]
  },
  {
   "cell_type": "code",
   "execution_count": 99,
   "metadata": {},
   "outputs": [
    {
     "data": {
      "text/plain": [
       "Index(['공가수', '지하철역', '버스정류장', '단지내주차면수', '위도', '경도', '총인구수', '세대당_인구', '상가비율',\n",
       "       '세대당_가능주차면수', '공가수비율', '분양세대수', '0~19 인구수', '20~39 인구수', '40~69 인구수',\n",
       "       '70세이상 인구수', 'cluster', '국민임대', '영구/행복', '임대상가', '공공임대(단기)', '장기전세',\n",
       "       '공공임대(분납)', '공공분양', '공공임대(50년)', '임대료', '임대보증금', '전용면적'],\n",
       "      dtype='object')"
      ]
     },
     "execution_count": 99,
     "metadata": {},
     "output_type": "execute_result"
    }
   ],
   "source": [
    "X.columns"
   ]
  },
  {
   "cell_type": "code",
   "execution_count": 100,
   "metadata": {},
   "outputs": [
    {
     "data": {
      "text/plain": [
       "28"
      ]
     },
     "execution_count": 100,
     "metadata": {},
     "output_type": "execute_result"
    }
   ],
   "source": [
    "len(X.columns)"
   ]
  },
  {
   "cell_type": "code",
   "execution_count": 101,
   "metadata": {},
   "outputs": [],
   "source": [
    "X_train=X.iloc[0:310, :]\n",
    "X_test=X.iloc[310:, :]\n",
    "y_train = train1[['등록차량수']]"
   ]
  },
  {
   "cell_type": "code",
   "execution_count": 102,
   "metadata": {},
   "outputs": [],
   "source": [
    "#X.test[\"장기전세\"]=0\n",
    "#X.test[\"공공분양\"]=0"
   ]
  },
  {
   "cell_type": "code",
   "execution_count": 103,
   "metadata": {},
   "outputs": [],
   "source": [
    "model_1=CatBoostRegressor(random_state=2021, verbose=False).fit(X_train, y_train)\n",
    "model1_pred = model_1.predict(X_test)"
   ]
  },
  {
   "cell_type": "code",
   "execution_count": 104,
   "metadata": {},
   "outputs": [],
   "source": [
    "model1=pd.DataFrame(model1_pred)\n",
    "code1=test1.단지코드\n",
    "model1=model1.reset_index(drop=True)\n",
    "code1=code1.reset_index(drop=True)"
   ]
  },
  {
   "cell_type": "code",
   "execution_count": 105,
   "metadata": {},
   "outputs": [
    {
     "data": {
      "text/html": [
       "<div>\n",
       "<style scoped>\n",
       "    .dataframe tbody tr th:only-of-type {\n",
       "        vertical-align: middle;\n",
       "    }\n",
       "\n",
       "    .dataframe tbody tr th {\n",
       "        vertical-align: top;\n",
       "    }\n",
       "\n",
       "    .dataframe thead th {\n",
       "        text-align: right;\n",
       "    }\n",
       "</style>\n",
       "<table border=\"1\" class=\"dataframe\">\n",
       "  <thead>\n",
       "    <tr style=\"text-align: right;\">\n",
       "      <th></th>\n",
       "      <th>code</th>\n",
       "      <th>num</th>\n",
       "    </tr>\n",
       "  </thead>\n",
       "  <tbody>\n",
       "    <tr>\n",
       "      <th>0</th>\n",
       "      <td>C1072</td>\n",
       "      <td>729.780338</td>\n",
       "    </tr>\n",
       "    <tr>\n",
       "      <th>1</th>\n",
       "      <td>C1456</td>\n",
       "      <td>525.440525</td>\n",
       "    </tr>\n",
       "    <tr>\n",
       "      <th>2</th>\n",
       "      <td>C1840</td>\n",
       "      <td>532.655146</td>\n",
       "    </tr>\n",
       "    <tr>\n",
       "      <th>3</th>\n",
       "      <td>C1640</td>\n",
       "      <td>485.210268</td>\n",
       "    </tr>\n",
       "    <tr>\n",
       "      <th>4</th>\n",
       "      <td>C1377</td>\n",
       "      <td>326.343841</td>\n",
       "    </tr>\n",
       "  </tbody>\n",
       "</table>\n",
       "</div>"
      ],
      "text/plain": [
       "    code         num\n",
       "0  C1072  729.780338\n",
       "1  C1456  525.440525\n",
       "2  C1840  532.655146\n",
       "3  C1640  485.210268\n",
       "4  C1377  326.343841"
      ]
     },
     "execution_count": 105,
     "metadata": {},
     "output_type": "execute_result"
    }
   ],
   "source": [
    "pred1=pd.concat([code1, model1], axis=1, ignore_index=True)\n",
    "pred1.columns=[\"code\", \"num\"]\n",
    "pred1.head()"
   ]
  },
  {
   "cell_type": "code",
   "execution_count": 129,
   "metadata": {},
   "outputs": [],
   "source": [
    "df= pd.concat([train2, test2])"
   ]
  },
  {
   "cell_type": "code",
   "execution_count": 130,
   "metadata": {},
   "outputs": [],
   "source": [
    "X = df.drop(columns=['단지명','단지코드','도로명주소','등록차량수', \"지역\", \"총세대수\"])\n",
    "X = pd.get_dummies(X, drop_first=True)"
   ]
  },
  {
   "cell_type": "code",
   "execution_count": 131,
   "metadata": {},
   "outputs": [],
   "source": [
    "X_train=X.iloc[0:104, :]\n",
    "X_test=X.iloc[104:, :]\n",
    "y_train = train2[['등록차량수']]"
   ]
  },
  {
   "cell_type": "code",
   "execution_count": 132,
   "metadata": {},
   "outputs": [],
   "source": [
    "model_2=CatBoostRegressor(random_state=2021, verbose=False).fit(X_train, y_train)\n",
    "model2_pred = model_2.predict(X_test)"
   ]
  },
  {
   "cell_type": "code",
   "execution_count": 110,
   "metadata": {},
   "outputs": [],
   "source": [
    "model2=pd.DataFrame(model2_pred)\n",
    "code2=test2.단지코드\n",
    "model2=model2.reset_index(drop=True)\n",
    "code2=code2.reset_index(drop=True)"
   ]
  },
  {
   "cell_type": "code",
   "execution_count": 111,
   "metadata": {},
   "outputs": [
    {
     "data": {
      "text/html": [
       "<div>\n",
       "<style scoped>\n",
       "    .dataframe tbody tr th:only-of-type {\n",
       "        vertical-align: middle;\n",
       "    }\n",
       "\n",
       "    .dataframe tbody tr th {\n",
       "        vertical-align: top;\n",
       "    }\n",
       "\n",
       "    .dataframe thead th {\n",
       "        text-align: right;\n",
       "    }\n",
       "</style>\n",
       "<table border=\"1\" class=\"dataframe\">\n",
       "  <thead>\n",
       "    <tr style=\"text-align: right;\">\n",
       "      <th></th>\n",
       "      <th>code</th>\n",
       "      <th>num</th>\n",
       "    </tr>\n",
       "  </thead>\n",
       "  <tbody>\n",
       "    <tr>\n",
       "      <th>0</th>\n",
       "      <td>C1128</td>\n",
       "      <td>1161.019545</td>\n",
       "    </tr>\n",
       "    <tr>\n",
       "      <th>1</th>\n",
       "      <td>C1332</td>\n",
       "      <td>1204.309653</td>\n",
       "    </tr>\n",
       "    <tr>\n",
       "      <th>2</th>\n",
       "      <td>C1563</td>\n",
       "      <td>1711.195541</td>\n",
       "    </tr>\n",
       "    <tr>\n",
       "      <th>3</th>\n",
       "      <td>C1794</td>\n",
       "      <td>934.233636</td>\n",
       "    </tr>\n",
       "    <tr>\n",
       "      <th>4</th>\n",
       "      <td>C2411</td>\n",
       "      <td>682.455133</td>\n",
       "    </tr>\n",
       "  </tbody>\n",
       "</table>\n",
       "</div>"
      ],
      "text/plain": [
       "    code          num\n",
       "0  C1128  1161.019545\n",
       "1  C1332  1204.309653\n",
       "2  C1563  1711.195541\n",
       "3  C1794   934.233636\n",
       "4  C2411   682.455133"
      ]
     },
     "execution_count": 111,
     "metadata": {},
     "output_type": "execute_result"
    }
   ],
   "source": [
    "pred2=pd.concat([code2, model2], axis=1, ignore_index=True)\n",
    "pred2.columns=[\"code\", \"num\"]\n",
    "pred2.head()"
   ]
  },
  {
   "cell_type": "code",
   "execution_count": 112,
   "metadata": {},
   "outputs": [],
   "source": [
    "df_merge=pd.DataFrame(pd.concat([pred1, pred2], axis=0))\n",
    "df_merge=df_merge.reset_index(drop=True)"
   ]
  },
  {
   "cell_type": "code",
   "execution_count": 113,
   "metadata": {},
   "outputs": [
    {
     "data": {
      "text/html": [
       "<div>\n",
       "<style scoped>\n",
       "    .dataframe tbody tr th:only-of-type {\n",
       "        vertical-align: middle;\n",
       "    }\n",
       "\n",
       "    .dataframe tbody tr th {\n",
       "        vertical-align: top;\n",
       "    }\n",
       "\n",
       "    .dataframe thead th {\n",
       "        text-align: right;\n",
       "    }\n",
       "</style>\n",
       "<table border=\"1\" class=\"dataframe\">\n",
       "  <thead>\n",
       "    <tr style=\"text-align: right;\">\n",
       "      <th></th>\n",
       "      <th>code</th>\n",
       "      <th>num</th>\n",
       "    </tr>\n",
       "  </thead>\n",
       "  <tbody>\n",
       "    <tr>\n",
       "      <th>0</th>\n",
       "      <td>C1072</td>\n",
       "      <td>729.780338</td>\n",
       "    </tr>\n",
       "    <tr>\n",
       "      <th>1</th>\n",
       "      <td>C1456</td>\n",
       "      <td>525.440525</td>\n",
       "    </tr>\n",
       "    <tr>\n",
       "      <th>2</th>\n",
       "      <td>C1840</td>\n",
       "      <td>532.655146</td>\n",
       "    </tr>\n",
       "    <tr>\n",
       "      <th>3</th>\n",
       "      <td>C1640</td>\n",
       "      <td>485.210268</td>\n",
       "    </tr>\n",
       "    <tr>\n",
       "      <th>4</th>\n",
       "      <td>C1377</td>\n",
       "      <td>326.343841</td>\n",
       "    </tr>\n",
       "  </tbody>\n",
       "</table>\n",
       "</div>"
      ],
      "text/plain": [
       "    code         num\n",
       "0  C1072  729.780338\n",
       "1  C1456  525.440525\n",
       "2  C1840  532.655146\n",
       "3  C1640  485.210268\n",
       "4  C1377  326.343841"
      ]
     },
     "execution_count": 113,
     "metadata": {},
     "output_type": "execute_result"
    }
   ],
   "source": [
    "df_merge.head()"
   ]
  },
  {
   "cell_type": "code",
   "execution_count": 114,
   "metadata": {},
   "outputs": [],
   "source": [
    "test_split=pd.merge(sample, df_merge, on='code', how='outer')"
   ]
  },
  {
   "cell_type": "code",
   "execution_count": 115,
   "metadata": {},
   "outputs": [],
   "source": [
    "test_split= test_split.drop(columns='num_x')\n",
    "test_split.columns=[\"code\",\"num\"]"
   ]
  },
  {
   "cell_type": "code",
   "execution_count": 116,
   "metadata": {
    "scrolled": true
   },
   "outputs": [
    {
     "data": {
      "text/plain": [
       "Int64Index([], dtype='int64')"
      ]
     },
     "execution_count": 116,
     "metadata": {},
     "output_type": "execute_result"
    }
   ],
   "source": [
    "test_split[test_split.num<=0].index"
   ]
  },
  {
   "cell_type": "code",
   "execution_count": 117,
   "metadata": {},
   "outputs": [],
   "source": [
    "from catboost import Pool"
   ]
  },
  {
   "cell_type": "code",
   "execution_count": 118,
   "metadata": {},
   "outputs": [],
   "source": [
    "sorted_feature_importance = model_1.feature_importances_.argsort()"
   ]
  },
  {
   "cell_type": "code",
   "execution_count": 119,
   "metadata": {},
   "outputs": [
    {
     "data": {
      "text/plain": [
       "array([23, 21, 22, 24,  8, 20, 19,  1, 11, 18,  7,  2,  0, 16,  6, 12, 14,\n",
       "       15,  5, 25, 26, 10,  9,  4, 13, 27, 17,  3], dtype=int64)"
      ]
     },
     "execution_count": 119,
     "metadata": {},
     "output_type": "execute_result"
    }
   ],
   "source": [
    "sorted_feature_importance"
   ]
  },
  {
   "cell_type": "code",
   "execution_count": 120,
   "metadata": {},
   "outputs": [
    {
     "data": {
      "text/plain": [
       "Index(['공공분양', '장기전세', '공공임대(분납)', '공공임대(50년)', '상가비율', '공공임대(단기)', '임대상가',\n",
       "       '지하철역', '분양세대수', '영구/행복', '세대당_인구', '버스정류장', '공가수', 'cluster', '총인구수',\n",
       "       '0~19 인구수', '40~69 인구수', '70세이상 인구수', '경도', '임대료', '임대보증금', '공가수비율',\n",
       "       '세대당_가능주차면수', '위도', '20~39 인구수', '전용면적', '국민임대', '단지내주차면수'],\n",
       "      dtype='object')"
      ]
     },
     "execution_count": 120,
     "metadata": {},
     "output_type": "execute_result"
    }
   ],
   "source": [
    "X_test.columns[sorted_feature_importance]"
   ]
  },
  {
   "cell_type": "code",
   "execution_count": 121,
   "metadata": {},
   "outputs": [
    {
     "data": {
      "text/plain": [
       "Text(0.5, 0, 'CatBoost Feature Importance')"
      ]
     },
     "execution_count": 121,
     "metadata": {},
     "output_type": "execute_result"
    },
    {
     "data": {
      "image/png": "[encoded data removed]",
      "text/plain": [
       "<Figure size 1224x1080 with 1 Axes>"
      ]
     },
     "metadata": {
      "needs_background": "light"
     },
     "output_type": "display_data"
    }
   ],
   "source": [
    "plt.subplots(figsize=(17,15))\n",
    "sorted_feature_importance = model_1.feature_importances_.argsort()\n",
    "plt.barh(X_test.columns[sorted_feature_importance], \n",
    "        model_1.feature_importances_[sorted_feature_importance], \n",
    "        color='turquoise')\n",
    "plt.xlabel(\"CatBoost Feature Importance\")"
   ]
  },
  {
   "cell_type": "code",
   "execution_count": 133,
   "metadata": {},
   "outputs": [
    {
     "data": {
      "text/plain": [
       "Text(0.5, 0, 'CatBoost Feature Importance')"
      ]
     },
     "execution_count": 133,
     "metadata": {},
     "output_type": "execute_result"
    },
    {
     "data": {
      "image/png": "[encoded data removed]",
      "text/plain": [
       "<Figure size 1224x1080 with 1 Axes>"
      ]
     },
     "metadata": {
      "needs_background": "light"
     },
     "output_type": "display_data"
    }
   ],
   "source": [
    "plt.subplots(figsize=(17,15))\n",
    "sorted_feature_importance = model_2.feature_importances_.argsort()\n",
    "plt.barh(X_test.columns[sorted_feature_importance], \n",
    "        model_2.feature_importances_[sorted_feature_importance], \n",
    "        color='turquoise')\n",
    "plt.xlabel(\"CatBoost Feature Importance\")"
   ]
  },
  {
   "cell_type": "code",
   "execution_count": 123,
   "metadata": {},
   "outputs": [],
   "source": [
    "one=pd.read_csv(\"0713_cb.csv\")"
   ]
  },
  {
   "cell_type": "code",
   "execution_count": 124,
   "metadata": {},
   "outputs": [],
   "source": [
    "one = one.loc[~one.code.isin(['C2335', 'C1327', 'C2675'])]"
   ]
  },
  {
   "cell_type": "code",
   "execution_count": 125,
   "metadata": {},
   "outputs": [],
   "source": [
    "test_= test_split.loc[~test_split.code.isin(['C2335', 'C1327', 'C2675'])]"
   ]
  },
  {
   "cell_type": "code",
   "execution_count": 126,
   "metadata": {},
   "outputs": [
    {
     "data": {
      "text/plain": [
       "36.068061323486376"
      ]
     },
     "execution_count": 126,
     "metadata": {},
     "output_type": "execute_result"
    }
   ],
   "source": [
    "mean_absolute_error(one.num, test_.num)"
   ]
  },
  {
   "cell_type": "code",
   "execution_count": 127,
   "metadata": {},
   "outputs": [],
   "source": [
    "test_split.to_csv('0716_cb_ey.csv', index=False)"
   ]
  },
  {
   "cell_type": "code",
   "execution_count": null,
   "metadata": {},
   "outputs": [],
   "source": []
  }
 ],
 "metadata": {
  "kernelspec": {
   "display_name": "Python 3",
   "language": "python",
   "name": "python3"
  },
  "language_info": {
   "codemirror_mode": {
    "name": "ipython",
    "version": 3
   },
   "file_extension": ".py",
   "mimetype": "text/x-python",
   "name": "python",
   "nbconvert_exporter": "python",
   "pygments_lexer": "ipython3",
   "version": "3.7.3"
  }
 },
 "nbformat": 4,
 "nbformat_minor": 2
}
