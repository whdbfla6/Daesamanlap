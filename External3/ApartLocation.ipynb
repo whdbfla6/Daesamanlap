{
 "cells": [
  {
   "cell_type": "code",
   "execution_count": null,
   "id": "991299a8",
   "metadata": {},
   "outputs": [],
   "source": [
    "from selenium import webdriver\n",
    "#from webdriver_manager.chrome import ChromeDriverManager\n",
    "from selenium.webdriver.common.keys import Keys\n",
    "from bs4 import BeautifulSoup\n",
    "import numpy as np\n",
    "import pandas as pd\n",
    "import pickle\n",
    "import requests\n",
    "import json\n",
    "import re\n",
    "from tqdm import tqdm"
   ]
  },
  {
   "cell_type": "code",
   "execution_count": null,
   "id": "808581cf",
   "metadata": {},
   "outputs": [],
   "source": [
    "import os\n",
    "path = os.path.dirname(os.getcwd())\n",
    "path = os.path.join(path, \"ProcessedData\")"
   ]
  },
  {
   "cell_type": "code",
   "execution_count": null,
   "id": "7ab12579",
   "metadata": {},
   "outputs": [],
   "source": [
    "train = pd.read_csv(os.path.join(path,\"train_processed.csv\"))\n",
    "test = pd.read_csv(os.path.join(path,\"test_processed.csv\"))"
   ]
  },
  {
   "cell_type": "code",
   "execution_count": null,
   "id": "c624f3ed",
   "metadata": {},
   "outputs": [],
   "source": [
    "train_apt = train['단지명'].unique()\n",
    "test_apt = test['단지명'].unique()\n",
    "train_adr = train['도로명주소'].unique()\n",
    "test_adr = test['도로명주소'].unique()"
   ]
  },
  {
   "cell_type": "code",
   "execution_count": null,
   "id": "16f47318",
   "metadata": {},
   "outputs": [],
   "source": [
    "apt = pd.DataFrame(columns=['단지명','도로명주소','위도','경도'])\n",
    "apt['단지명'] = np.append(train_apt,test_apt)\n",
    "apt['도로명주소'] = np.append(train_adr,test_adr)"
   ]
  },
  {
   "cell_type": "code",
   "execution_count": null,
   "id": "6b113a2f",
   "metadata": {},
   "outputs": [],
   "source": [
    "def get_location(array):\n",
    "    \n",
    "    for i in tqdm(array):\n",
    "        \n",
    "        ind = apt[apt['도로명주소']==i].index\n",
    "        url = \"https://dapi.kakao.com/v2/local/search/keyword.json\"\n",
    "\n",
    "        queryString = {'query' : i}\n",
    "        header = {'Authorization': 'KakaoAK 660c198b2093e22460c08a028177ac18'} #rest api\n",
    "\n",
    "        response = requests.get(url, headers=header, params=queryString)\n",
    "        tokens = response.json()\n",
    "        \n",
    "        try: \n",
    "            \n",
    "            lat = tokens['documents'][0]['x']\n",
    "            lng = tokens['documents'][0]['y']\n",
    "            apt.loc[ind,'위도'] = lat\n",
    "            apt.loc[ind,'경도'] = lng\n",
    "            \n",
    "        except:\n",
    "            \n",
    "            query = apt.loc[ind,'단지명']\n",
    "            queryString = {'query' : query}\n",
    "            header = {'Authorization': 'KakaoAK 660c198b2093e22460c08a028177ac18'} #rest api\n",
    "\n",
    "            response = requests.get(url, headers=header, params=queryString)\n",
    "            tokens = response.json()\n",
    "            \n",
    "            try:\n",
    "                lat = tokens['documents'][0]['x']\n",
    "                lng = tokens['documents'][0]['y']\n",
    "                apt.iloc[ind,'위도'] = lat\n",
    "                apt.iloc[ind,'경도'] = lng\n",
    "            \n",
    "            except:\n",
    "                print(query)\n",
    "                pass"
   ]
  },
  {
   "cell_type": "code",
   "execution_count": null,
   "id": "99e79f5e",
   "metadata": {},
   "outputs": [],
   "source": [
    "get_location(train_adr)"
   ]
  },
  {
   "cell_type": "code",
   "execution_count": null,
   "id": "3d1fd136",
   "metadata": {},
   "outputs": [],
   "source": [
    "get_location(test_adr)"
   ]
  },
  {
   "cell_type": "code",
   "execution_count": null,
   "id": "04a85aa2",
   "metadata": {},
   "outputs": [],
   "source": [
    "def get_location_na(original,name):\n",
    "        \n",
    "    ind = apt[apt['단지명']=='공주옥룡주공1차아파트'].index\n",
    "    url = \"https://dapi.kakao.com/v2/local/search/keyword.json\"\n",
    "\n",
    "    queryString = {'query' : name}\n",
    "    header = {'Authorization': 'KakaoAK 660c198b2093e22460c08a028177ac18'} #rest api\n",
    "\n",
    "    response = requests.get(url, headers=header, params=queryString)\n",
    "    tokens = response.json()\n",
    "            \n",
    "    lat = tokens['documents'][0]['x']\n",
    "    lng = tokens['documents'][0]['y']\n",
    "    apt.loc[ind,'위도'] = lat\n",
    "    apt.loc[ind,'경도'] = lng"
   ]
  },
  {
   "cell_type": "code",
   "execution_count": null,
   "id": "bb4b21ba",
   "metadata": {},
   "outputs": [],
   "source": [
    "apt[apt['위도'].isna()==True]"
   ]
  },
  {
   "cell_type": "code",
   "execution_count": null,
   "id": "af92a68a",
   "metadata": {},
   "outputs": [],
   "source": [
    "get_location_na('공주옥룡주공1차아파트','옥룡주공1단지아파트')"
   ]
  },
  {
   "cell_type": "code",
   "execution_count": null,
   "id": "09439ec3",
   "metadata": {},
   "outputs": [],
   "source": [
    "import os\n",
    "path = os.path.dirname(os.getcwd())\n",
    "path = os.path.join(path, \"ProcessedData\")\n",
    "apt.to_csv(os.path.join(path, \"apt_adr.csv\"),index=False)"
   ]
  }
 ],
 "metadata": {
  "kernelspec": {
   "display_name": "Python 3",
   "language": "python",
   "name": "python3"
  },
  "language_info": {
   "codemirror_mode": {
    "name": "ipython",
    "version": 3
   },
   "file_extension": ".py",
   "mimetype": "text/x-python",
   "name": "python",
   "nbconvert_exporter": "python",
   "pygments_lexer": "ipython3",
   "version": "3.8.8"
  }
 },
 "nbformat": 4,
 "nbformat_minor": 5
}
