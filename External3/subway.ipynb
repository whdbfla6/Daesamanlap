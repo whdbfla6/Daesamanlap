{
 "cells": [
  {
   "cell_type": "code",
   "execution_count": null,
   "metadata": {},
   "outputs": [],
   "source": [
    "from selenium import webdriver\n",
    "from webdriver_manager.chrome import ChromeDriverManager\n",
    "from selenium.webdriver.common.keys import Keys\n",
    "from bs4 import BeautifulSoup\n",
    "import numpy as np"
   ]
  },
  {
   "cell_type": "markdown",
   "metadata": {},
   "source": [
    "[크롤링 링크](http://subway.koreatriptips.com/subway-station/)"
   ]
  },
  {
   "cell_type": "code",
   "execution_count": null,
   "metadata": {},
   "outputs": [],
   "source": [
    "def get_subway_line():\n",
    "    options = webdriver.ChromeOptions()\n",
    "    options.add_argument('headless')\n",
    "    driver = webdriver.Chrome(ChromeDriverManager().install(),options=options)\n",
    "    url = 'http://subway.koreatriptips.com/subway-station.html'\n",
    "    driver.get(url)\n",
    "    req = driver.page_source\n",
    "    soup = BeautifulSoup(req,'html.parser')\n",
    "    line = soup.find_all(\"li\",class_=\"col-md-4 col-sm-4 margin-bottom-10\")\n",
    "    res = [i.string for i in line]\n",
    "    return res"
   ]
  },
  {
   "cell_type": "code",
   "execution_count": null,
   "metadata": {},
   "outputs": [],
   "source": [
    "def get_subway_name():\n",
    "    options = webdriver.ChromeOptions()\n",
    "    options.add_argument('headless')\n",
    "    driver = webdriver.Chrome(ChromeDriverManager().install(),options=options)\n",
    "    url = 'http://subway.koreatriptips.com/subway-station.html'\n",
    "    driver.get(url)\n",
    "    req = driver.page_source\n",
    "    soup = BeautifulSoup(req,'html.parser')\n",
    "    line = soup.find_all(\"li\",class_=\"col-md-4 col-sm-4 margin-bottom-10\")\n",
    "    link = ['http://subway.koreatriptips.com' + line[i].find_all(\"a\")[0].get('href') for i in range(len(line))]\n",
    "    dic = dict()\n",
    "    for ind,i in enumerate(link):\n",
    "        driver = webdriver.Chrome(ChromeDriverManager().install())\n",
    "        url = i\n",
    "        driver.get(url)\n",
    "        req = driver.page_source\n",
    "        soup = BeautifulSoup(req,'html.parser')\n",
    "        j = 1\n",
    "        res = []\n",
    "        while True:\n",
    "            try:\n",
    "                res.append(link_f(j)[0].text)\n",
    "                j += 1\n",
    "            except:\n",
    "                dic[line[ind]] = res\n",
    "                break\n",
    "    return dic"
   ]
  },
  {
   "cell_type": "code",
   "execution_count": null,
   "metadata": {},
   "outputs": [],
   "source": [
    "dic = get_subway_name()"
   ]
  },
  {
   "cell_type": "code",
   "execution_count": null,
   "metadata": {},
   "outputs": [],
   "source": [
    "import pickle\n",
    "\n",
    "with open('subway_name','wb') as fw:\n",
    "    pickle.dump(dic,fw)"
   ]
  },
  {
   "cell_type": "code",
   "execution_count": null,
   "metadata": {},
   "outputs": [],
   "source": [
    "with open('subway_name','rb') as fr:\n",
    "    data = pickle.load(fr)"
   ]
  },
  {
   "cell_type": "code",
   "execution_count": null,
   "metadata": {},
   "outputs": [],
   "source": [
    "st = pd.DataFrame(columns=['subway_name','위도','경도','환승역 수'])\n",
    "st['subway_name'] = sum(list(dic.values()),[])"
   ]
  }
 ],
 "metadata": {
  "kernelspec": {
   "display_name": "Python 3",
   "language": "python",
   "name": "python3"
  },
  "language_info": {
   "codemirror_mode": {
    "name": "ipython",
    "version": 3
   },
   "file_extension": ".py",
   "mimetype": "text/x-python",
   "name": "python",
   "nbconvert_exporter": "python",
   "pygments_lexer": "ipython3",
   "version": "3.8.5"
  }
 },
 "nbformat": 4,
 "nbformat_minor": 5
}
