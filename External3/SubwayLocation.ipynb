{
 "cells": [
  {
   "cell_type": "code",
   "execution_count": null,
   "metadata": {},
   "outputs": [],
   "source": [
    "from selenium import webdriver\n",
    "#from webdriver_manager.chrome import ChromeDriverManager\n",
    "from selenium.webdriver.common.keys import Keys\n",
    "from bs4 import BeautifulSoup\n",
    "import numpy as np\n",
    "import pandas as pd\n",
    "import pickle\n",
    "import requests\n",
    "import json\n",
    "import re\n",
    "from tqdm import tqdm"
   ]
  },
  {
   "cell_type": "code",
   "execution_count": null,
   "metadata": {},
   "outputs": [],
   "source": [
    "with open('subway_name','rb') as fr:\n",
    "    data = pickle.load(fr)"
   ]
  },
  {
   "cell_type": "code",
   "execution_count": null,
   "metadata": {
    "scrolled": true
   },
   "outputs": [],
   "source": [
    "st = pd.DataFrame(columns=['subway_name','위도','경도'])\n",
    "st['subway_name'] = sum(list(data.values()),[])\n",
    "val = pd.DataFrame(st['subway_name'].value_counts()).reset_index().rename(columns={'index':'subway_name','subway_name':'환승역 수'})\n",
    "st = st.drop_duplicates().reset_index(drop=True)\n",
    "st = pd.merge(st,val,how='inner',on='subway_name')"
   ]
  },
  {
   "cell_type": "code",
   "execution_count": null,
   "metadata": {},
   "outputs": [],
   "source": [
    "st['subway_name'] = st['subway_name'].apply(lambda x : re.sub(r'\\([^)]*\\)','',x)) #괄호 포함 글자 제거"
   ]
  },
  {
   "cell_type": "code",
   "execution_count": null,
   "metadata": {},
   "outputs": [],
   "source": [
    "def get_location():\n",
    "    \n",
    "    subway = np.array(st['subway_name'])\n",
    "    \n",
    "    for i in tqdm(subway):\n",
    "        \n",
    "        url = \"https://dapi.kakao.com/v2/local/search/keyword.json\"\n",
    "\n",
    "        queryString = {'query' : i}\n",
    "        header = {'Authorization': 'KakaoAK 660c198b2093e22460c08a028177ac18'} #rest api\n",
    "\n",
    "        response = requests.get(url, headers=header, params=queryString)\n",
    "        tokens = response.json()\n",
    "        \n",
    "        try: \n",
    "            lat = tokens['documents'][0]['x']\n",
    "            lng = tokens['documents'][0]['y']\n",
    "            st.loc[st['subway_name'].isin([i]),'위도'] = lat\n",
    "            st.loc[st['subway_name'].isin([i]),'경도'] = lng\n",
    "        except:\n",
    "            print(i)\n",
    "            pass"
   ]
  },
  {
   "cell_type": "code",
   "execution_count": null,
   "metadata": {},
   "outputs": [],
   "source": [
    "get_location()"
   ]
  },
  {
   "cell_type": "code",
   "execution_count": null,
   "metadata": {},
   "outputs": [],
   "source": [
    "import os\n",
    "path = os.path.dirname(os.getcwd())\n",
    "path = os.path.join(path, \"ProcessedData\")\n",
    "st.to_csv(os.path.join(path, \"subway.csv\"),index=False)"
   ]
  },
  {
   "cell_type": "code",
   "execution_count": null,
   "metadata": {},
   "outputs": [],
   "source": []
  }
 ],
 "metadata": {
  "kernelspec": {
   "display_name": "Python 3",
   "language": "python",
   "name": "python3"
  },
  "language_info": {
   "codemirror_mode": {
    "name": "ipython",
    "version": 3
   },
   "file_extension": ".py",
   "mimetype": "text/x-python",
   "name": "python",
   "nbconvert_exporter": "python",
   "pygments_lexer": "ipython3",
   "version": "3.8.5"
  }
 },
 "nbformat": 4,
 "nbformat_minor": 4
}
