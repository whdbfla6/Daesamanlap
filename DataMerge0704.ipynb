{
 "cells": [
  {
   "cell_type": "code",
   "execution_count": 1,
   "metadata": {},
   "outputs": [],
   "source": [
    "import pandas as pd\n",
    "import numpy as np\n",
    "import matplotlib\n",
    "from matplotlib import font_manager, rc\n",
    "from matplotlib import pyplot as plt\n",
    "import seaborn as sns\n",
    "rc('font', family = 'AppleGothic')"
   ]
  },
  {
   "cell_type": "code",
   "execution_count": 2,
   "metadata": {},
   "outputs": [],
   "source": [
    "train = pd.read_csv(\"EDA/data/train.csv\")\n",
    "data = pd.read_csv('external_data.csv',header='infer')"
   ]
  },
  {
   "cell_type": "markdown",
   "metadata": {},
   "source": [
    "## 0. 전처리"
   ]
  },
  {
   "cell_type": "markdown",
   "metadata": {},
   "source": [
    "- 세대수 = 총세대수\n",
    "- 기본임대보증금 = 임대보증금\n",
    "- 주택유형명 = 임대건물구분\n",
    "- 공급유형명 = 공급유형\n",
    "- 광역도시명 = 지역\n",
    "- 공급전용면적 = 전용면적\n",
    "- 주차수 = 단지내주차면수(완전히 동일하지는 않음!!)"
   ]
  },
  {
   "cell_type": "code",
   "execution_count": 3,
   "metadata": {},
   "outputs": [],
   "source": [
    "train['임대료'] = train['임대료'].replace('-',np.nan)\n",
    "train['임대보증금'] = train['임대보증금'].replace('-',np.nan)\n",
    "train['임대료'] = train['임대료'].apply(lambda x : float(x))\n",
    "train['임대보증금'] = train['임대보증금'].apply(lambda x : float(x))"
   ]
  },
  {
   "cell_type": "code",
   "execution_count": 4,
   "metadata": {},
   "outputs": [],
   "source": [
    "data = data.rename(columns = {'세대수':'총세대수','기본임대보증금':'임대보증금','주택유형명':'임대건물구분','공급유형명':'공급유형','광역시도명':'지역','공급전용면적':'전용면적','주차수':'단지내주차면수'})"
   ]
  },
  {
   "cell_type": "code",
   "execution_count": 5,
   "metadata": {},
   "outputs": [
    {
     "name": "stdout",
     "output_type": "stream",
     "text": [
      "['강원도', '경기도', '경상남도', '경상북도', '광주광역시', '대구광역시', '대전광역시', '부산광역시', '서울특별시', '세종특별자치시', '울산광역시', '전라남도', '전라북도', '제주특별자치도', '충청남도', '충청북도']\n",
      "['강원도', '경기도', '경상남도', '경상북도', '광주광역시', '대구광역시', '대전광역시', '부산광역시', '서울특별시', '세종특별자치시', '울산광역시', '인천광역시', '전라남도', '전라북도', '제주특별자치도', '충청남도', '충청북도']\n"
     ]
    }
   ],
   "source": [
    "print(sorted(train['지역'].unique()))\n",
    "print(sorted(data['지역'].unique()))"
   ]
  },
  {
   "cell_type": "code",
   "execution_count": 6,
   "metadata": {},
   "outputs": [
    {
     "name": "stdout",
     "output_type": "stream",
     "text": [
      "['10년임대', '50년임대', '5년임대', '국민임대', '매입임대', '영구임대', '장기전세', '행복주택']\n",
      "['공공분양', '공공임대(10년)', '공공임대(50년)', '공공임대(5년)', '공공임대(분납)', '국민임대', '영구임대', '임대상가', '장기전세', '행복주택']\n",
      "8 10\n"
     ]
    }
   ],
   "source": [
    "print(sorted(data['공급유형'].unique()))\n",
    "print(sorted(train['공급유형'].unique()))\n",
    "print(data['공급유형'].nunique(),train['공급유형'].nunique())"
   ]
  },
  {
   "cell_type": "code",
   "execution_count": 7,
   "metadata": {},
   "outputs": [],
   "source": [
    "data.loc[data.공급유형.isin(['10년임대']), '공급유형'] = '공공임대(10년)'\n",
    "data.loc[data.공급유형.isin(['50년임대']), '공급유형'] = '공공임대(50년)'\n",
    "data.loc[data.공급유형.isin(['5년임대']), '공급유형'] = '공공임대(5년)'"
   ]
  },
  {
   "cell_type": "code",
   "execution_count": 8,
   "metadata": {},
   "outputs": [],
   "source": [
    "data1 = data[data['임대건물구분']=='아파트']\n",
    "train1 = train[train['임대건물구분']=='아파트']"
   ]
  },
  {
   "cell_type": "code",
   "execution_count": 9,
   "metadata": {},
   "outputs": [],
   "source": [
    "data1 = data1[['지역','총세대수','전용면적','단지명','공급유형','임대건물구분','임대보증금','단지내주차면수']]\n",
    "train1 = train1[['단지코드','총세대수','지역','전용면적','임대보증금','공급유형','임대건물구분','임대보증금','단지내주차면수']]"
   ]
  },
  {
   "cell_type": "markdown",
   "metadata": {},
   "source": [
    "## 기준1 : 지역, 공급유형, 총세대수"
   ]
  },
  {
   "cell_type": "code",
   "execution_count": 10,
   "metadata": {},
   "outputs": [],
   "source": [
    "result = pd.merge(train1,data1,how='left',on=['지역','공급유형','총세대수'])[['단지코드','단지명']].drop_duplicates()"
   ]
  },
  {
   "cell_type": "code",
   "execution_count": 11,
   "metadata": {},
   "outputs": [
    {
     "name": "stdout",
     "output_type": "stream",
     "text": [
      "NA 개수:  94\n",
      "특정된 단지코드 수:  329\n",
      "전체 단지코드 수:  423\n",
      "NA 비율:  0.22\n"
     ]
    }
   ],
   "source": [
    "print('NA 개수: ',result['단지명'].isna().sum())\n",
    "print('특정된 단지코드 수: ',train['단지코드'].nunique()-result['단지명'].isna().sum())\n",
    "print('전체 단지코드 수: ',train['단지코드'].nunique())\n",
    "print('NA 비율: ', round(result['단지명'].isna().sum()/train['단지코드'].nunique(),2))"
   ]
  },
  {
   "cell_type": "code",
   "execution_count": 12,
   "metadata": {},
   "outputs": [
    {
     "data": {
      "text/html": [
       "<div>\n",
       "<style scoped>\n",
       "    .dataframe tbody tr th:only-of-type {\n",
       "        vertical-align: middle;\n",
       "    }\n",
       "\n",
       "    .dataframe tbody tr th {\n",
       "        vertical-align: top;\n",
       "    }\n",
       "\n",
       "    .dataframe thead th {\n",
       "        text-align: right;\n",
       "    }\n",
       "</style>\n",
       "<table border=\"1\" class=\"dataframe\">\n",
       "  <thead>\n",
       "    <tr style=\"text-align: right;\">\n",
       "      <th></th>\n",
       "      <th>단지코드</th>\n",
       "      <th>단지명</th>\n",
       "    </tr>\n",
       "  </thead>\n",
       "  <tbody>\n",
       "    <tr>\n",
       "      <th>0</th>\n",
       "      <td>C2483</td>\n",
       "      <td>포항장량휴먼시아1단지</td>\n",
       "    </tr>\n",
       "    <tr>\n",
       "      <th>32</th>\n",
       "      <td>C2515</td>\n",
       "      <td>미수휴먼시아</td>\n",
       "    </tr>\n",
       "    <tr>\n",
       "      <th>60</th>\n",
       "      <td>C1407</td>\n",
       "      <td>도안 휴먼시아 4단지</td>\n",
       "    </tr>\n",
       "    <tr>\n",
       "      <th>137</th>\n",
       "      <td>C1945</td>\n",
       "      <td>호평마을 주공휴먼시아</td>\n",
       "    </tr>\n",
       "    <tr>\n",
       "      <th>155</th>\n",
       "      <td>C1470</td>\n",
       "      <td>장신휴먼시아1단지</td>\n",
       "    </tr>\n",
       "  </tbody>\n",
       "</table>\n",
       "</div>"
      ],
      "text/plain": [
       "      단지코드          단지명\n",
       "0    C2483  포항장량휴먼시아1단지\n",
       "32   C2515       미수휴먼시아\n",
       "60   C1407  도안 휴먼시아 4단지\n",
       "137  C1945  호평마을 주공휴먼시아\n",
       "155  C1470    장신휴먼시아1단지"
      ]
     },
     "execution_count": 12,
     "metadata": {},
     "output_type": "execute_result"
    }
   ],
   "source": [
    "result.head()"
   ]
  },
  {
   "cell_type": "markdown",
   "metadata": {},
   "source": [
    "## 기준 2 : 지역, 공급유형, 전용면적, 임대보증금"
   ]
  },
  {
   "cell_type": "code",
   "execution_count": 13,
   "metadata": {},
   "outputs": [],
   "source": [
    "datana = result[result['단지명'].isna()==True]['단지코드'].values\n",
    "n = len(datana)"
   ]
  },
  {
   "cell_type": "code",
   "execution_count": 14,
   "metadata": {},
   "outputs": [],
   "source": [
    "datana = train.loc[train['단지코드'].isin(datana)]\n",
    "datana = datana[datana['임대건물구분']=='아파트']"
   ]
  },
  {
   "cell_type": "code",
   "execution_count": 15,
   "metadata": {},
   "outputs": [],
   "source": [
    "result2 = pd.merge(datana,data1,how='left',on=['지역','공급유형','전용면적','임대보증금'])[['단지코드','단지명']].drop_duplicates()"
   ]
  },
  {
   "cell_type": "code",
   "execution_count": 16,
   "metadata": {},
   "outputs": [
    {
     "data": {
      "text/html": [
       "<div>\n",
       "<style scoped>\n",
       "    .dataframe tbody tr th:only-of-type {\n",
       "        vertical-align: middle;\n",
       "    }\n",
       "\n",
       "    .dataframe tbody tr th {\n",
       "        vertical-align: top;\n",
       "    }\n",
       "\n",
       "    .dataframe thead th {\n",
       "        text-align: right;\n",
       "    }\n",
       "</style>\n",
       "<table border=\"1\" class=\"dataframe\">\n",
       "  <thead>\n",
       "    <tr style=\"text-align: right;\">\n",
       "      <th></th>\n",
       "      <th>단지코드</th>\n",
       "      <th>단지명</th>\n",
       "    </tr>\n",
       "  </thead>\n",
       "  <tbody>\n",
       "    <tr>\n",
       "      <th>0</th>\n",
       "      <td>C1925</td>\n",
       "      <td>입암주공3단지아파트</td>\n",
       "    </tr>\n",
       "    <tr>\n",
       "      <th>2</th>\n",
       "      <td>C1874</td>\n",
       "      <td>쌍용주공7단지1차아파트</td>\n",
       "    </tr>\n",
       "    <tr>\n",
       "      <th>4</th>\n",
       "      <td>C1874</td>\n",
       "      <td>공주옥룡주공1차아파트</td>\n",
       "    </tr>\n",
       "    <tr>\n",
       "      <th>6</th>\n",
       "      <td>C1874</td>\n",
       "      <td>읍내동 주공아파트</td>\n",
       "    </tr>\n",
       "    <tr>\n",
       "      <th>17</th>\n",
       "      <td>C2416</td>\n",
       "      <td>진주평거 주공2단지</td>\n",
       "    </tr>\n",
       "  </tbody>\n",
       "</table>\n",
       "</div>"
      ],
      "text/plain": [
       "     단지코드           단지명\n",
       "0   C1925    입암주공3단지아파트\n",
       "2   C1874  쌍용주공7단지1차아파트\n",
       "4   C1874   공주옥룡주공1차아파트\n",
       "6   C1874     읍내동 주공아파트\n",
       "17  C2416    진주평거 주공2단지"
      ]
     },
     "execution_count": 16,
     "metadata": {},
     "output_type": "execute_result"
    }
   ],
   "source": [
    "result2.head()"
   ]
  },
  {
   "cell_type": "code",
   "execution_count": 17,
   "metadata": {},
   "outputs": [
    {
     "name": "stdout",
     "output_type": "stream",
     "text": [
      "NA 개수:  39\n",
      "특정된 단지코드 수:  55\n",
      "전체 단지코드 수:  94\n",
      "NA 비율:  0.09\n"
     ]
    }
   ],
   "source": [
    "print('NA 개수: ',result2['단지명'].isna().sum())\n",
    "print('특정된 단지코드 수: ',n-result2['단지명'].isna().sum())\n",
    "print('전체 단지코드 수: ',n)\n",
    "print('NA 비율: ', round(result2['단지명'].isna().sum()/train['단지코드'].nunique(),2))"
   ]
  },
  {
   "cell_type": "markdown",
   "metadata": {},
   "source": [
    "## 기준3 : 지역, 공급유형, 전용면적, 단지내주차면수"
   ]
  },
  {
   "cell_type": "code",
   "execution_count": 18,
   "metadata": {},
   "outputs": [],
   "source": [
    "datana = result2[result2['단지명'].isna()==True]['단지코드'].values\n",
    "n = len(datana)"
   ]
  },
  {
   "cell_type": "code",
   "execution_count": 19,
   "metadata": {},
   "outputs": [],
   "source": [
    "datana = train.loc[train['단지코드'].isin(datana)]\n",
    "datana = datana[datana['임대건물구분']=='아파트']"
   ]
  },
  {
   "cell_type": "code",
   "execution_count": 20,
   "metadata": {},
   "outputs": [],
   "source": [
    "result3 = pd.merge(datana,data1,how='left',on=['지역','공급유형','전용면적','단지내주차면수'])[['단지코드','단지명']].drop_duplicates()"
   ]
  },
  {
   "cell_type": "code",
   "execution_count": 21,
   "metadata": {},
   "outputs": [
    {
     "name": "stdout",
     "output_type": "stream",
     "text": [
      "NA 개수:  28\n",
      "특정된 단지코드 수:  11\n",
      "전체 단지코드 수:  39\n",
      "NA 비율:  0.07\n"
     ]
    }
   ],
   "source": [
    "print('NA 개수: ',result3['단지명'].isna().sum())\n",
    "print('특정된 단지코드 수: ',n-result3['단지명'].isna().sum())\n",
    "print('전체 단지코드 수: ',n)\n",
    "print('NA 비율: ', round(result3['단지명'].isna().sum()/train['단지코드'].nunique(),2))"
   ]
  },
  {
   "cell_type": "markdown",
   "metadata": {},
   "source": [
    "- 최종 NA : 28"
   ]
  },
  {
   "cell_type": "code",
   "execution_count": 22,
   "metadata": {},
   "outputs": [],
   "source": [
    "result = result.dropna()\n",
    "result = result.append(result2.dropna())\n",
    "result = result.append(result3.dropna()).reset_index()"
   ]
  },
  {
   "cell_type": "code",
   "execution_count": 23,
   "metadata": {},
   "outputs": [
    {
     "data": {
      "text/html": [
       "<div>\n",
       "<style scoped>\n",
       "    .dataframe tbody tr th:only-of-type {\n",
       "        vertical-align: middle;\n",
       "    }\n",
       "\n",
       "    .dataframe tbody tr th {\n",
       "        vertical-align: top;\n",
       "    }\n",
       "\n",
       "    .dataframe thead th {\n",
       "        text-align: right;\n",
       "    }\n",
       "</style>\n",
       "<table border=\"1\" class=\"dataframe\">\n",
       "  <thead>\n",
       "    <tr style=\"text-align: right;\">\n",
       "      <th></th>\n",
       "      <th>index</th>\n",
       "      <th>단지코드</th>\n",
       "      <th>단지명</th>\n",
       "    </tr>\n",
       "  </thead>\n",
       "  <tbody>\n",
       "    <tr>\n",
       "      <th>0</th>\n",
       "      <td>0</td>\n",
       "      <td>C2483</td>\n",
       "      <td>포항장량휴먼시아1단지</td>\n",
       "    </tr>\n",
       "    <tr>\n",
       "      <th>1</th>\n",
       "      <td>32</td>\n",
       "      <td>C2515</td>\n",
       "      <td>미수휴먼시아</td>\n",
       "    </tr>\n",
       "    <tr>\n",
       "      <th>2</th>\n",
       "      <td>60</td>\n",
       "      <td>C1407</td>\n",
       "      <td>도안 휴먼시아 4단지</td>\n",
       "    </tr>\n",
       "    <tr>\n",
       "      <th>3</th>\n",
       "      <td>137</td>\n",
       "      <td>C1945</td>\n",
       "      <td>호평마을 주공휴먼시아</td>\n",
       "    </tr>\n",
       "    <tr>\n",
       "      <th>4</th>\n",
       "      <td>155</td>\n",
       "      <td>C1470</td>\n",
       "      <td>장신휴먼시아1단지</td>\n",
       "    </tr>\n",
       "  </tbody>\n",
       "</table>\n",
       "</div>"
      ],
      "text/plain": [
       "   index   단지코드          단지명\n",
       "0      0  C2483  포항장량휴먼시아1단지\n",
       "1     32  C2515       미수휴먼시아\n",
       "2     60  C1407  도안 휴먼시아 4단지\n",
       "3    137  C1945  호평마을 주공휴먼시아\n",
       "4    155  C1470    장신휴먼시아1단지"
      ]
     },
     "execution_count": 23,
     "metadata": {},
     "output_type": "execute_result"
    }
   ],
   "source": [
    "result.head()"
   ]
  },
  {
   "cell_type": "code",
   "execution_count": 24,
   "metadata": {},
   "outputs": [
    {
     "data": {
      "text/plain": [
       "array(['C1022', 'C1039', 'C1068', 'C1085', 'C1109', 'C1175', 'C1206',\n",
       "       'C1207', 'C1234', 'C1258', 'C1269', 'C1307', 'C1341', 'C1344',\n",
       "       'C1439', 'C1451', 'C1601', 'C1616', 'C1681', 'C1732', 'C1740',\n",
       "       'C1744', 'C1790', 'C1859', 'C1874', 'C1875', 'C1894', 'C1965',\n",
       "       'C1970', 'C2034', 'C2038', 'C2070', 'C2082', 'C2085', 'C2109',\n",
       "       'C2127', 'C2132', 'C2133', 'C2135', 'C2173', 'C2186', 'C2190',\n",
       "       'C2227', 'C2232', 'C2258', 'C2289', 'C2310', 'C2325', 'C2352',\n",
       "       'C2378', 'C2393', 'C2416', 'C2453', 'C2530', 'C2563', 'C2597',\n",
       "       'C2621', 'C2627', 'C2635', 'C2657'], dtype=object)"
      ]
     },
     "execution_count": 24,
     "metadata": {},
     "output_type": "execute_result"
    }
   ],
   "source": [
    "tmp = pd.DataFrame(result.groupby('단지코드').count()['단지명']).reset_index()\n",
    "tmp = np.array(tmp[tmp['단지명']>=2]['단지코드'])\n",
    "tmp"
   ]
  },
  {
   "cell_type": "markdown",
   "metadata": {},
   "source": [
    "- 아래 데이터는 하나의 단지코드 별로 두개 이상의 단지명 보유 $\\rightarrow$ 잘못 merge된 케이스"
   ]
  }
 ],
 "metadata": {
  "kernelspec": {
   "display_name": "Python 3",
   "language": "python",
   "name": "python3"
  },
  "language_info": {
   "codemirror_mode": {
    "name": "ipython",
    "version": 3
   },
   "file_extension": ".py",
   "mimetype": "text/x-python",
   "name": "python",
   "nbconvert_exporter": "python",
   "pygments_lexer": "ipython3",
   "version": "3.8.3"
  }
 },
 "nbformat": 4,
 "nbformat_minor": 5
}
