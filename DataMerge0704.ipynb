{
 "cells": [
  {
   "cell_type": "code",
   "execution_count": 1,
   "id": "56fe1582",
   "metadata": {},
   "outputs": [],
   "source": [
    "import pandas as pd\n",
    "import numpy as np\n",
    "import matplotlib\n",
    "from matplotlib import font_manager, rc\n",
    "from matplotlib import pyplot as plt\n",
    "import seaborn as sns\n",
    "rc('font', family = 'AppleGothic')"
   ]
  },
  {
   "cell_type": "code",
   "execution_count": 2,
   "id": "7bf7672c",
   "metadata": {},
   "outputs": [],
   "source": [
    "train = pd.read_csv(\"EDA/data/train.csv\")\n",
    "data = pd.read_csv('external_data.csv',header='infer')"
   ]
  },
  {
   "cell_type": "markdown",
   "id": "99afe91a",
   "metadata": {},
   "source": [
    "## 0. 전처리"
   ]
  },
  {
   "cell_type": "markdown",
   "id": "62a6690f",
   "metadata": {},
   "source": [
    "- 세대수 = 총세대수\n",
    "- 기본임대보증금 = 임대보증금\n",
    "- 주택유형명 = 임대건물구분\n",
    "- 공급유형명 = 공급유형\n",
    "- 광역도시명 = 지역\n",
    "- 공급전용면적 = 전용면적\n",
    "- 주차수 = 단지내주차면수(완전히 동일하지는 않음!!)"
   ]
  },
  {
   "cell_type": "code",
   "execution_count": 3,
   "id": "d131c6ec",
   "metadata": {},
   "outputs": [],
   "source": [
    "train['임대료'] = train['임대료'].replace('-',np.nan)\n",
    "train['임대보증금'] = train['임대보증금'].replace('-',np.nan)\n",
    "train['임대료'] = train['임대료'].apply(lambda x : float(x))\n",
    "train['임대보증금'] = train['임대보증금'].apply(lambda x : float(x))"
   ]
  },
  {
   "cell_type": "code",
   "execution_count": 4,
   "id": "b9bf88f3",
   "metadata": {},
   "outputs": [],
   "source": [
    "data = data.rename(columns = {'세대수':'총세대수','기본임대보증금':'임대보증금','주택유형명':'임대건물구분','공급유형명':'공급유형','광역시도명':'지역','공급전용면적':'전용면적','주차수':'단지내주차면수'})"
   ]
  },
  {
   "cell_type": "code",
   "execution_count": 5,
   "id": "8d6cd0cd",
   "metadata": {},
   "outputs": [
    {
     "name": "stdout",
     "output_type": "stream",
     "text": [
      "['강원도', '경기도', '경상남도', '경상북도', '광주광역시', '대구광역시', '대전광역시', '부산광역시', '서울특별시', '세종특별자치시', '울산광역시', '전라남도', '전라북도', '제주특별자치도', '충청남도', '충청북도']\n",
      "['강원도', '경기도', '경상남도', '경상북도', '광주광역시', '대구광역시', '대전광역시', '부산광역시', '서울특별시', '세종특별자치시', '울산광역시', '인천광역시', '전라남도', '전라북도', '제주특별자치도', '충청남도', '충청북도']\n"
     ]
    }
   ],
   "source": [
    "print(sorted(train['지역'].unique()))\n",
    "print(sorted(data['지역'].unique()))"
   ]
  },
  {
   "cell_type": "code",
   "execution_count": 6,
   "id": "07e48b3b",
   "metadata": {},
   "outputs": [
    {
     "name": "stdout",
     "output_type": "stream",
     "text": [
      "['10년임대', '50년임대', '5년임대', '국민임대', '매입임대', '영구임대', '장기전세', '행복주택']\n",
      "['공공분양', '공공임대(10년)', '공공임대(50년)', '공공임대(5년)', '공공임대(분납)', '국민임대', '영구임대', '임대상가', '장기전세', '행복주택']\n"
     ]
    }
   ],
   "source": [
    "print(sorted(data['공급유형'].unique()))\n",
    "print(sorted(train['공급유형'].unique()))"
   ]
  },
  {
   "cell_type": "code",
   "execution_count": 7,
   "id": "f2286eb7",
   "metadata": {},
   "outputs": [],
   "source": [
    "data.loc[data.공급유형.isin(['10년임대']), '공급유형'] = '공공임대(10년)'\n",
    "data.loc[data.공급유형.isin(['50년임대']), '공급유형'] = '공공임대(50년)'\n",
    "data.loc[data.공급유형.isin(['5년임대']), '공급유형'] = '공공임대(5년)'"
   ]
  },
  {
   "cell_type": "code",
   "execution_count": 8,
   "id": "7029253f",
   "metadata": {},
   "outputs": [],
   "source": [
    "data1 = data[data['임대건물구분']=='아파트']\n",
    "train1 = train[train['임대건물구분']=='아파트']"
   ]
  },
  {
   "cell_type": "code",
   "execution_count": 9,
   "id": "06c25514",
   "metadata": {},
   "outputs": [],
   "source": [
    "data1 = data1[['지역','총세대수','전용면적','단지명','공급유형','임대건물구분','임대보증금','단지내주차면수','기관명','도로명주소']]\n",
    "train1 = train1[['단지코드','총세대수','지역','전용면적','임대보증금','공급유형','임대건물구분','임대보증금','단지내주차면수']]"
   ]
  },
  {
   "cell_type": "markdown",
   "id": "6fe5cec7",
   "metadata": {},
   "source": [
    "## 기준1 : 지역, 공급유형, 총세대수"
   ]
  },
  {
   "cell_type": "code",
   "execution_count": 10,
   "id": "b9f29309",
   "metadata": {},
   "outputs": [],
   "source": [
    "result = pd.merge(train1,data1,how='left',on=['지역','공급유형','총세대수'])[['단지코드','단지명']].drop_duplicates()"
   ]
  },
  {
   "cell_type": "code",
   "execution_count": 11,
   "id": "180f2adb",
   "metadata": {},
   "outputs": [
    {
     "name": "stdout",
     "output_type": "stream",
     "text": [
      "NA 개수:  94\n",
      "특정된 단지코드 수:  329\n",
      "전체 단지코드 수:  423\n",
      "NA 비율:  0.22\n"
     ]
    }
   ],
   "source": [
    "print('NA 개수: ',result['단지명'].isna().sum())\n",
    "print('특정된 단지코드 수: ',train['단지코드'].nunique()-result['단지명'].isna().sum())\n",
    "print('전체 단지코드 수: ',train['단지코드'].nunique())\n",
    "print('NA 비율: ', round(result['단지명'].isna().sum()/train['단지코드'].nunique(),2))"
   ]
  },
  {
   "cell_type": "code",
   "execution_count": 12,
   "id": "7d4f309d",
   "metadata": {},
   "outputs": [
    {
     "data": {
      "text/html": [
       "<div>\n",
       "<style scoped>\n",
       "    .dataframe tbody tr th:only-of-type {\n",
       "        vertical-align: middle;\n",
       "    }\n",
       "\n",
       "    .dataframe tbody tr th {\n",
       "        vertical-align: top;\n",
       "    }\n",
       "\n",
       "    .dataframe thead th {\n",
       "        text-align: right;\n",
       "    }\n",
       "</style>\n",
       "<table border=\"1\" class=\"dataframe\">\n",
       "  <thead>\n",
       "    <tr style=\"text-align: right;\">\n",
       "      <th></th>\n",
       "      <th>단지코드</th>\n",
       "      <th>단지명</th>\n",
       "    </tr>\n",
       "  </thead>\n",
       "  <tbody>\n",
       "    <tr>\n",
       "      <th>0</th>\n",
       "      <td>C2483</td>\n",
       "      <td>포항장량휴먼시아1단지</td>\n",
       "    </tr>\n",
       "    <tr>\n",
       "      <th>32</th>\n",
       "      <td>C2515</td>\n",
       "      <td>미수휴먼시아</td>\n",
       "    </tr>\n",
       "    <tr>\n",
       "      <th>60</th>\n",
       "      <td>C1407</td>\n",
       "      <td>도안 휴먼시아 4단지</td>\n",
       "    </tr>\n",
       "    <tr>\n",
       "      <th>137</th>\n",
       "      <td>C1945</td>\n",
       "      <td>호평마을 주공휴먼시아</td>\n",
       "    </tr>\n",
       "    <tr>\n",
       "      <th>155</th>\n",
       "      <td>C1470</td>\n",
       "      <td>장신휴먼시아1단지</td>\n",
       "    </tr>\n",
       "  </tbody>\n",
       "</table>\n",
       "</div>"
      ],
      "text/plain": [
       "      단지코드          단지명\n",
       "0    C2483  포항장량휴먼시아1단지\n",
       "32   C2515       미수휴먼시아\n",
       "60   C1407  도안 휴먼시아 4단지\n",
       "137  C1945  호평마을 주공휴먼시아\n",
       "155  C1470    장신휴먼시아1단지"
      ]
     },
     "execution_count": 12,
     "metadata": {},
     "output_type": "execute_result"
    }
   ],
   "source": [
    "result.head()"
   ]
  },
  {
   "cell_type": "markdown",
   "id": "f1d2ab26",
   "metadata": {},
   "source": [
    "## 기준 2 : 지역, 공급유형, 전용면적, 임대보증금"
   ]
  },
  {
   "cell_type": "code",
   "execution_count": 13,
   "id": "940f026d",
   "metadata": {},
   "outputs": [],
   "source": [
    "datana = result[result['단지명'].isna()==True]['단지코드'].values\n",
    "n = len(datana)"
   ]
  },
  {
   "cell_type": "code",
   "execution_count": 14,
   "id": "5e270fca",
   "metadata": {},
   "outputs": [],
   "source": [
    "datana = train.loc[train['단지코드'].isin(datana)]\n",
    "datana = datana[datana['임대건물구분']=='아파트']"
   ]
  },
  {
   "cell_type": "code",
   "execution_count": 15,
   "id": "acef5269",
   "metadata": {},
   "outputs": [],
   "source": [
    "result2 = pd.merge(datana,data1,how='left',on=['지역','공급유형','전용면적','임대보증금'])[['단지코드','단지명']].drop_duplicates()"
   ]
  },
  {
   "cell_type": "code",
   "execution_count": 16,
   "id": "ecf230b1",
   "metadata": {},
   "outputs": [
    {
     "data": {
      "text/html": [
       "<div>\n",
       "<style scoped>\n",
       "    .dataframe tbody tr th:only-of-type {\n",
       "        vertical-align: middle;\n",
       "    }\n",
       "\n",
       "    .dataframe tbody tr th {\n",
       "        vertical-align: top;\n",
       "    }\n",
       "\n",
       "    .dataframe thead th {\n",
       "        text-align: right;\n",
       "    }\n",
       "</style>\n",
       "<table border=\"1\" class=\"dataframe\">\n",
       "  <thead>\n",
       "    <tr style=\"text-align: right;\">\n",
       "      <th></th>\n",
       "      <th>단지코드</th>\n",
       "      <th>단지명</th>\n",
       "    </tr>\n",
       "  </thead>\n",
       "  <tbody>\n",
       "    <tr>\n",
       "      <th>0</th>\n",
       "      <td>C1925</td>\n",
       "      <td>입암주공3단지아파트</td>\n",
       "    </tr>\n",
       "    <tr>\n",
       "      <th>2</th>\n",
       "      <td>C1874</td>\n",
       "      <td>쌍용주공7단지1차아파트</td>\n",
       "    </tr>\n",
       "    <tr>\n",
       "      <th>4</th>\n",
       "      <td>C1874</td>\n",
       "      <td>공주옥룡주공1차아파트</td>\n",
       "    </tr>\n",
       "    <tr>\n",
       "      <th>6</th>\n",
       "      <td>C1874</td>\n",
       "      <td>읍내동 주공아파트</td>\n",
       "    </tr>\n",
       "    <tr>\n",
       "      <th>17</th>\n",
       "      <td>C2416</td>\n",
       "      <td>진주평거 주공2단지</td>\n",
       "    </tr>\n",
       "  </tbody>\n",
       "</table>\n",
       "</div>"
      ],
      "text/plain": [
       "     단지코드           단지명\n",
       "0   C1925    입암주공3단지아파트\n",
       "2   C1874  쌍용주공7단지1차아파트\n",
       "4   C1874   공주옥룡주공1차아파트\n",
       "6   C1874     읍내동 주공아파트\n",
       "17  C2416    진주평거 주공2단지"
      ]
     },
     "execution_count": 16,
     "metadata": {},
     "output_type": "execute_result"
    }
   ],
   "source": [
    "result2.head()"
   ]
  },
  {
   "cell_type": "code",
   "execution_count": 17,
   "id": "1361ed6c",
   "metadata": {},
   "outputs": [
    {
     "name": "stdout",
     "output_type": "stream",
     "text": [
      "NA 개수:  39\n",
      "특정된 단지코드 수:  55\n",
      "전체 단지코드 수:  94\n",
      "NA 비율:  0.09\n"
     ]
    }
   ],
   "source": [
    "print('NA 개수: ',result2['단지명'].isna().sum())\n",
    "print('특정된 단지코드 수: ',n-result2['단지명'].isna().sum())\n",
    "print('전체 단지코드 수: ',n)\n",
    "print('NA 비율: ', round(result2['단지명'].isna().sum()/train['단지코드'].nunique(),2))"
   ]
  },
  {
   "cell_type": "markdown",
   "id": "4e3bfc48",
   "metadata": {},
   "source": [
    "## 기준3 : 지역, 공급유형, 전용면적, 단지내주차면수"
   ]
  },
  {
   "cell_type": "code",
   "execution_count": 18,
   "id": "7cdfe1b7",
   "metadata": {},
   "outputs": [],
   "source": [
    "datana = result2[result2['단지명'].isna()==True]['단지코드'].values\n",
    "n = len(datana)"
   ]
  },
  {
   "cell_type": "code",
   "execution_count": 19,
   "id": "714d5524",
   "metadata": {},
   "outputs": [],
   "source": [
    "datana = train.loc[train['단지코드'].isin(datana)]\n",
    "datana = datana[datana['임대건물구분']=='아파트']"
   ]
  },
  {
   "cell_type": "code",
   "execution_count": 20,
   "id": "03726ed4",
   "metadata": {},
   "outputs": [],
   "source": [
    "result3 = pd.merge(datana,data1,how='left',on=['지역','공급유형','전용면적','단지내주차면수'])[['단지코드','단지명']].drop_duplicates()"
   ]
  },
  {
   "cell_type": "code",
   "execution_count": 21,
   "id": "138f26a8",
   "metadata": {},
   "outputs": [
    {
     "name": "stdout",
     "output_type": "stream",
     "text": [
      "NA 개수:  28\n",
      "특정된 단지코드 수:  11\n",
      "전체 단지코드 수:  39\n",
      "NA 비율:  0.07\n"
     ]
    }
   ],
   "source": [
    "print('NA 개수: ',result3['단지명'].isna().sum())\n",
    "print('특정된 단지코드 수: ',n-result3['단지명'].isna().sum())\n",
    "print('전체 단지코드 수: ',n)\n",
    "print('NA 비율: ', round(result3['단지명'].isna().sum()/train['단지코드'].nunique(),2))"
   ]
  },
  {
   "cell_type": "markdown",
   "id": "21bffee9",
   "metadata": {},
   "source": [
    "- 최종 NA : 28"
   ]
  },
  {
   "cell_type": "markdown",
   "id": "66d04467",
   "metadata": {},
   "source": [
    "- 아래 데이터는 하나의 단지코드 별로 두개 이상의 단지명 보유 $\\rightarrow$ 잘못 merge된 케이스"
   ]
  },
  {
   "cell_type": "code",
   "execution_count": 22,
   "id": "e3fe27f3",
   "metadata": {},
   "outputs": [],
   "source": [
    "result = result.dropna()\n",
    "result = result.append(result2.dropna())\n",
    "result= result.append(result3.dropna()).reset_index(drop=True)"
   ]
  },
  {
   "cell_type": "code",
   "execution_count": 23,
   "id": "07cab91d",
   "metadata": {},
   "outputs": [
    {
     "data": {
      "text/plain": [
       "array(['C1022', 'C1039', 'C1068', 'C1085', 'C1109', 'C1175', 'C1206',\n",
       "       'C1207', 'C1234', 'C1258', 'C1269', 'C1307', 'C1341', 'C1344',\n",
       "       'C1439', 'C1451', 'C1601', 'C1616', 'C1681', 'C1732', 'C1740',\n",
       "       'C1744', 'C1790', 'C1859', 'C1874', 'C1875', 'C1894', 'C1965',\n",
       "       'C1970', 'C2034', 'C2038', 'C2070', 'C2082', 'C2085', 'C2109',\n",
       "       'C2127', 'C2132', 'C2133', 'C2135', 'C2173', 'C2186', 'C2190',\n",
       "       'C2227', 'C2232', 'C2258', 'C2289', 'C2310', 'C2325', 'C2352',\n",
       "       'C2378', 'C2393', 'C2416', 'C2453', 'C2530', 'C2563', 'C2597',\n",
       "       'C2621', 'C2627', 'C2635', 'C2657'], dtype=object)"
      ]
     },
     "execution_count": 23,
     "metadata": {},
     "output_type": "execute_result"
    }
   ],
   "source": [
    "tmp = pd.DataFrame(result.groupby('단지코드').count()['단지명']).reset_index()\n",
    "tmp = np.array(tmp[tmp['단지명']>=2]['단지코드'])\n",
    "tmp"
   ]
  },
  {
   "cell_type": "code",
   "execution_count": 24,
   "id": "1b2f62d8",
   "metadata": {},
   "outputs": [],
   "source": [
    "drop = [460, 462, 465, 469, 470, 411, 414, 415, 416, 417, 418, 419, 420, 421, 423, 424 ,425, 426, 427, 428,432,434,435,436,437,438,440,441,442,443,444,445,446,447,448,449,450,452,453,454,456,458,459,363, 365,366,370,371,372,373,375,378,379,380,381,382,385,386,388,389,390,391,393,394,395,396,391,393,394,395,396,406]"
   ]
  },
  {
   "cell_type": "code",
   "execution_count": 25,
   "id": "39345ab0",
   "metadata": {},
   "outputs": [],
   "source": [
    "result = result.drop(drop,axis=0).reset_index(drop=True)"
   ]
  },
  {
   "cell_type": "code",
   "execution_count": 26,
   "id": "e7106555",
   "metadata": {},
   "outputs": [],
   "source": [
    "train = pd.merge(train,result,how='left',on='단지코드')"
   ]
  },
  {
   "cell_type": "code",
   "execution_count": 27,
   "id": "e56a0be0",
   "metadata": {},
   "outputs": [],
   "source": [
    "data1 = data1[['단지명','기관명','도로명주소']]"
   ]
  },
  {
   "cell_type": "code",
   "execution_count": 28,
   "id": "bb5d659a",
   "metadata": {},
   "outputs": [],
   "source": [
    "train = pd.merge(train,data1,how='left',on=['단지명'])"
   ]
  },
  {
   "cell_type": "code",
   "execution_count": 29,
   "id": "9a6ed91a",
   "metadata": {},
   "outputs": [],
   "source": [
    "store = train[train['임대건물구분']=='상가'][['단지코드','지역','단지명','도로명주소','전용면적']].drop_duplicates().reset_index(drop=True)\n",
    "store['임대료'] = 0\n",
    "store['임대보증금'] = 0"
   ]
  },
  {
   "cell_type": "code",
   "execution_count": 30,
   "id": "ecaa74f0",
   "metadata": {},
   "outputs": [],
   "source": [
    "store.to_csv(\"store.csv\",index=False)"
   ]
  },
  {
   "cell_type": "code",
   "execution_count": 31,
   "id": "91f0ec1c",
   "metadata": {},
   "outputs": [],
   "source": [
    "result.to_csv(\"result.csv\",index=False)"
   ]
  },
  {
   "cell_type": "code",
   "execution_count": 32,
   "id": "969fd19f",
   "metadata": {},
   "outputs": [
    {
     "data": {
      "text/plain": [
       "array(['C1925', 'C1874', 'C2416', 'C2621', 'C1616', 'C1704', 'C2258',\n",
       "       'C2038', 'C1859', 'C1722', 'C2190', 'C1476', 'C1983', 'C2135',\n",
       "       'C2034', 'C1109', 'C2289', 'C2597', 'C2310', 'C2132', 'C1439',\n",
       "       'C1899', 'C1056', 'C2644', 'C1206', 'C1775', 'C1790', 'C2109',\n",
       "       'C1698', 'C1004', 'C1875', 'C2212', 'C2571'], dtype=object)"
      ]
     },
     "execution_count": 32,
     "metadata": {},
     "output_type": "execute_result"
    }
   ],
   "source": [
    "store['단지코드'].unique()"
   ]
  },
  {
   "cell_type": "code",
   "execution_count": null,
   "id": "2f030cfb",
   "metadata": {},
   "outputs": [],
   "source": []
  }
 ],
 "metadata": {
  "kernelspec": {
   "display_name": "Python 3",
   "language": "python",
   "name": "python3"
  },
  "language_info": {
   "codemirror_mode": {
    "name": "ipython",
    "version": 3
   },
   "file_extension": ".py",
   "mimetype": "text/x-python",
   "name": "python",
   "nbconvert_exporter": "python",
   "pygments_lexer": "ipython3",
   "version": "3.8.8"
  }
 },
 "nbformat": 4,
 "nbformat_minor": 5
}
